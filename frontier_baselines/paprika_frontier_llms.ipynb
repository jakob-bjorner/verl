{
 "cells": [
  {
   "cell_type": "markdown",
   "id": "4bc7077f",
   "metadata": {},
   "source": [
    "# 1. Load the Paprika Environments"
   ]
  },
  {
   "cell_type": "code",
   "execution_count": 1,
   "id": "9e7df930",
   "metadata": {},
   "outputs": [
    {
     "name": "stdout",
     "output_type": "stream",
     "text": [
      "Could not import JerichoInferenceEngine, so cannot use it!\n",
      "Could not import VLLMInferenceEngine, so cannot use it!\n"
     ]
    }
   ],
   "source": [
    "import sys\n",
    "import pandas as pd\n",
    "sys.path.append('../../paprika/') # Remove this when verl and paprika are installed in the same env\n",
    "from llm_exploration.paprika_config_helper import PaprikaConfigHelper\n",
    "from verl.interactions.paprika_interaction import PaprikaInteraction\n",
    "from pprint import pprint as pp\n",
    "paprika_games = ['twenty_questions', 'guess_my_city', 'murder_mystery', 'customer_service', 'wordle', 'cellular_automata', \\\n",
    "    'mastermind'] # 'battleship', 'minesweeper', 'bandit_bai_fixed_budget' "
   ]
  },
  {
   "cell_type": "code",
   "execution_count": 2,
   "id": "b284ba30",
   "metadata": {},
   "outputs": [
    {
     "data": {
      "text/plain": [
       "True"
      ]
     },
     "execution_count": 2,
     "metadata": {},
     "output_type": "execute_result"
    }
   ],
   "source": [
    "import dotenv\n",
    "dotenv.load_dotenv('../../.env')"
   ]
  },
  {
   "cell_type": "code",
   "execution_count": 3,
   "id": "4d47bf2a",
   "metadata": {},
   "outputs": [
    {
     "name": "stdout",
     "output_type": "stream",
     "text": [
      "twenty_questions => 367\n",
      "guess_my_city => 185\n",
      "murder_mystery => 50\n",
      "customer_service => 200\n"
     ]
    },
    {
     "name": "stdout",
     "output_type": "stream",
     "text": [
      "wordle => 800\n",
      "cellular_automata => 500\n",
      "mastermind => 500\n"
     ]
    }
   ],
   "source": [
    "for env_name in paprika_games:\n",
    "    config = PaprikaConfigHelper.create_config(env_name)\n",
    "    config['belief_config']['style'] = 'none'\n",
    "\n",
    "    interaction = PaprikaInteraction(config={})\n",
    "\n",
    "    import builtins\n",
    "    _original_print = builtins.print\n",
    "    builtins.print = lambda *a, **k: None\n",
    "    try:\n",
    "        instance_id = await interaction.start_interaction(\n",
    "            instance_id=None,\n",
    "            scenario_id=None, # start a random scenario\n",
    "            **config,\n",
    "        )\n",
    "    finally:\n",
    "        builtins.print = _original_print\n",
    "    num_scenarios = interaction.game_scenarios.__len__()\n",
    "    print(f'{env_name} => {num_scenarios}')"
   ]
  },
  {
   "cell_type": "markdown",
   "id": "1d296088",
   "metadata": {},
   "source": [
    "So let us do 50 games for each with frontier LLMs - one with reasoning and one without.\n",
    "\n",
    "# 2. Setup LLM Call"
   ]
  },
  {
   "cell_type": "code",
   "execution_count": 4,
   "id": "636e9f13",
   "metadata": {},
   "outputs": [],
   "source": [
    "sys.path.append('../../src/optimal_explorer')\n",
    "from llm_utils import llm_call\n",
    "from pprint import pprint as pp"
   ]
  },
  {
   "cell_type": "code",
   "execution_count": 8,
   "id": "c11f7137",
   "metadata": {},
   "outputs": [],
   "source": [
    "out = await llm_call(\n",
    "    model='deepseek/deepseek-r1',\n",
    "    get_everything=True,\n",
    "    reasoning_effort='high',\n",
    "    messages = [\n",
    "            {\"role\": \"system\", \"content\": 'You are a useless assistant that gives humorous answers.'},\n",
    "            {\"role\": \"user\", \"content\": 'Why is the sky blue?'},\n",
    "            {\"role\": \"assistant\", \"content\": 'It is because of the great king of Pokemons.'},\n",
    "            {\"role\": \"user\", \"content\": 'How so?'},\n",
    "        ]\n",
    ")"
   ]
  },
  {
   "cell_type": "code",
   "execution_count": 9,
   "id": "7fa5b9da",
   "metadata": {},
   "outputs": [
    {
     "name": "stdout",
     "output_type": "stream",
     "text": [
      "('Ah, you’re right to question me—I clearly flunked out of Pokémon Academy’s physics class. Let me *ash*-k you to imagine this '\n",
      " 'instead: When sunlight (which is white) enters Earth’s atmosphere, tiny molecules scatter the light. Blue light waves are '\n",
      " 'short and feisty, like a hyper Pikachu dodging a Poké Ball, so they bounce wildly in all directions. This makes the sky look '\n",
      " \"blue! Meanwhile, red light waves are chill, like Snorlax napping—they just cruise straight through. So, the sky's blueness is \"\n",
      " 'basically Earth’s atmosphere throwing a rave for blue light. Science, but make it ✨ *electric* ✨.')\n"
     ]
    }
   ],
   "source": [
    "pp(out['choices'][0]['message']['content'], width=130)"
   ]
  },
  {
   "cell_type": "code",
   "execution_count": 14,
   "id": "59b23939",
   "metadata": {},
   "outputs": [
    {
     "name": "stdout",
     "output_type": "stream",
     "text": [
      "('Okay, the user asked \"How so?\" after I joked about the sky being blue because of the Pokémon king. They probably want a real '\n",
      " 'explanation but are playing along with the humor. I should maintain the funny tone but also slip in the actual science. Let me '\n",
      " \"explain Rayleigh scattering in a whimsical way using Pokémon references. Make sure it's clear that the real reason is \"\n",
      " 'scientific, but keep it light-hearted. Mention Pikachu and maybe some other Pokémon to keep the theme. Avoid getting too '\n",
      " \"technical but still convey the right information. Check if the analogy makes sense and the user isn't confused. Balance \"\n",
      " 'between humor and accuracy.\\n')\n"
     ]
    }
   ],
   "source": [
    "pp(out['choices'][0]['message']['reasoning'], width=130)"
   ]
  },
  {
   "cell_type": "markdown",
   "id": "54995906",
   "metadata": {},
   "source": [
    "# 3. Belief Update"
   ]
  },
  {
   "cell_type": "code",
   "execution_count": 15,
   "id": "65f117ca",
   "metadata": {},
   "outputs": [],
   "source": [
    "async def update_belief(\n",
    "        curr_belief: str,\n",
    "        action: str,\n",
    "        response: str,\n",
    "        model_name: str,\n",
    "    ):\n",
    "\n",
    "\n",
    "    user_content = f'''\\\n",
    "Look at the current belief and the agent's action and environment response on that belief.\\\n",
    "Compress the context, remove redundant information, and maintain important information about the game state \\\n",
    "needed to take optimal future actions.\\\n",
    "Current belief: {curr_belief}\n",
    "Agent's action: {action}\n",
    "Environment's response: {response}\n",
    "Output the updated belief state inside <BELIEF> and </BELIEF> tags.\\\n",
    "Understand that only the generated belief is fed to the agent, so be sure to include all necessary information about game mechanics.'''\n",
    "\n",
    "    messages = [\n",
    "        {\"role\": \"system\", \"content\": 'You are a helpful assistant.'},\n",
    "        {\"role\": \"user\", \"content\": user_content},\n",
    "    ]\n",
    "\n",
    "    out = await llm_call(\n",
    "        model=model_name,\n",
    "        get_everything=True,\n",
    "        reasoning_effort='high',\n",
    "        messages=messages\n",
    "    )\n",
    "\n",
    "    import re\n",
    "    content = out['choices'][0]['message']['content']\n",
    "    match = re.search(r\"<BELIEF>(.*?)</BELIEF>\", content, re.DOTALL | re.IGNORECASE)\n",
    "    if match:\n",
    "        belief = match.group(1).strip()\n",
    "    else:\n",
    "        # fallback: return the whole content if tags not found\n",
    "        belief = content.strip()\n",
    "    \n",
    "    reasoning = out['choices'][0]['message']['reasoning_details'][0]['text']\n",
    "\n",
    "    return belief, reasoning"
   ]
  },
  {
   "cell_type": "code",
   "execution_count": 16,
   "id": "763a4fa8",
   "metadata": {},
   "outputs": [],
   "source": [
    "async def take_action(\n",
    "        belief: str,\n",
    "        model_name: str,\n",
    "    ):\n",
    "\n",
    "\n",
    "    user_content = f'''\\\n",
    "Look at the current belief take the next action based on the belief.\\\n",
    "Take an action that leads to optimal exploration.\\\n",
    "Belief: {belief}\n",
    "Output the action inside <ACTION> and </ACTION> tags.'''\n",
    "\n",
    "    messages = [\n",
    "        {\"role\": \"system\", \"content\": 'You are a helpful assistant.'},\n",
    "        {\"role\": \"user\", \"content\": user_content},\n",
    "    ]\n",
    "\n",
    "    out = await llm_call(\n",
    "        model=model_name,\n",
    "        get_everything=True,\n",
    "        reasoning_effort='high',\n",
    "        messages=messages\n",
    "    )\n",
    "\n",
    "    import re\n",
    "    content = out['choices'][0]['message']['content']\n",
    "    match = re.search(r\"<\\s*action\\s*>(.*?)<\\s*/\\s*action\\s*>\", content, re.DOTALL | re.IGNORECASE)\n",
    "    if match:\n",
    "        action = match.group(1).strip()\n",
    "    else:\n",
    "        # fallback: return the whole content if tags not found\n",
    "        action = content.strip()\n",
    "    \n",
    "    reasoning = out['choices'][0]['message']['reasoning_details'][0]['text']\n",
    "\n",
    "    return action, reasoning"
   ]
  },
  {
   "cell_type": "markdown",
   "id": "ed2402b6",
   "metadata": {},
   "source": [
    "# 4. Paprika Rollout with Belief"
   ]
  },
  {
   "cell_type": "code",
   "execution_count": 17,
   "id": "b3c8fc4d",
   "metadata": {},
   "outputs": [],
   "source": [
    "import asyncio\n",
    "\n",
    "async def run_one_iteration_with_belief_llm(\n",
    "        env_name: str,\n",
    "        model_name: str,\n",
    "        game_id: int,\n",
    "    ):\n",
    "    config = PaprikaConfigHelper.create_config(env_name)\n",
    "    config['belief_config']['style'] = 'none'\n",
    "    interaction = PaprikaInteraction(config={})\n",
    "\n",
    "    import builtins\n",
    "    _original_print = builtins.print\n",
    "    builtins.print = lambda *a, **k: None\n",
    "    try:\n",
    "        instance_id = await interaction.start_interaction(instance_id=None, scenario_id=None, **config)\n",
    "    finally:\n",
    "        builtins.print = _original_print\n",
    "\n",
    "    first_user_message = interaction.agent_conv.messages[0][1]\n",
    "    attempts = 0\n",
    "    game_history = []\n",
    "    belief = f'This is the start of the game. The only available information right now are the game rules:\\n{first_user_message}'\n",
    "    max_attempts = interaction._instance_dict[instance_id]['max_turns']\n",
    "\n",
    "    while attempts < max_attempts:\n",
    "        \n",
    "        attempts += 1\n",
    "\n",
    "        action, action_reasoning = await take_action(belief, model_name)\n",
    "\n",
    "        message = [\n",
    "            {\"role\": \"user\", \"content\": f\"Output the next action.\"},\n",
    "            {\"role\": \"assistant\", \"content\": f\"<action>{action}</action>\"}\n",
    "        ]\n",
    "        done, response, score, additional_data = await interaction.generate_response(instance_id=instance_id, messages=message)\n",
    "        \n",
    "        belief, belief_reasoning = await update_belief(belief, action, response, model_name)\n",
    "\n",
    "        game_history.append({\n",
    "            \"model\": model_name,\n",
    "            \"game_id\": str(game_id),\n",
    "            \"env\": env_name,\n",
    "            \"attempt\": attempts,\n",
    "            \"guess\": action,\n",
    "            \"response\": response,\n",
    "            \"score\": score,\n",
    "            \"done\": done,\n",
    "            \"data\": additional_data,\n",
    "            \"belief\": belief,\n",
    "            \"action_reasoning\": action_reasoning,\n",
    "            \"belief_reasoning\": belief_reasoning,\n",
    "        })\n",
    "\n",
    "        if \"Goal reached\" in response:\n",
    "            break\n",
    "    \n",
    "    print(f'.', end='', flush=True)\n",
    "    \n",
    "    return game_history\n",
    "\n",
    "async def run_multiple_iterations_multiple_games(\n",
    "        num_games: int,\n",
    "        list_envs,\n",
    "        models,\n",
    "        logs_file='./logs/paprika_frontier.jsonl',\n",
    "    ):\n",
    "    import json\n",
    "\n",
    "    tasks = []\n",
    "    for model in models:\n",
    "        for env_name in list_envs:\n",
    "            for game_id in range(num_games):\n",
    "                tasks.append(run_one_iteration_with_belief_llm(env_name, model, game_id))\n",
    "\n",
    "    results = await asyncio.gather(*tasks)\n",
    "\n",
    "    # Flatten results and write to file\n",
    "    with open(logs_file, \"a\") as f:\n",
    "        for game_history in results:\n",
    "            for entry in game_history:\n",
    "                f.write(json.dumps(entry) + \"\\n\")"
   ]
  },
  {
   "cell_type": "code",
   "execution_count": 26,
   "id": "58d48f23",
   "metadata": {},
   "outputs": [
    {
     "name": "stdout",
     "output_type": "stream",
     "text": [
      ".........."
     ]
    }
   ],
   "source": [
    "await run_multiple_iterations_multiple_games(\n",
    "    num_games=10,\n",
    "    list_envs=['mastermind'],\n",
    "    models=['openai/gpt-oss-120b'],\n",
    ")"
   ]
  },
  {
   "cell_type": "code",
   "execution_count": null,
   "id": "ff61928a",
   "metadata": {},
   "outputs": [],
   "source": []
  },
  {
   "cell_type": "code",
   "execution_count": null,
   "id": "15a86e30",
   "metadata": {},
   "outputs": [],
   "source": []
  },
  {
   "cell_type": "code",
   "execution_count": null,
   "id": "ee4c49ff",
   "metadata": {},
   "outputs": [],
   "source": []
  },
  {
   "cell_type": "code",
   "execution_count": null,
   "id": "7f7063c2",
   "metadata": {},
   "outputs": [],
   "source": []
  },
  {
   "cell_type": "code",
   "execution_count": null,
   "id": "9096e2aa",
   "metadata": {},
   "outputs": [],
   "source": []
  },
  {
   "cell_type": "markdown",
   "id": "8616ece5",
   "metadata": {},
   "source": [
    "# 4. Metrics"
   ]
  },
  {
   "cell_type": "code",
   "execution_count": 1,
   "id": "8df58134",
   "metadata": {},
   "outputs": [],
   "source": [
    "import pandas as pd\n",
    "from pprint import pprint as pp\n",
    "import json\n",
    "\n",
    "logs_file = './logs/paprika_frontier_v6.jsonl'\n",
    "with open(logs_file, 'r') as f:\n",
    "    data = [json.loads(line) for line in f]\n",
    "df = pd.DataFrame(data)"
   ]
  },
  {
   "cell_type": "code",
   "execution_count": 2,
   "id": "656ec809",
   "metadata": {},
   "outputs": [
    {
     "name": "stdout",
     "output_type": "stream",
     "text": [
      "Index(['model', 'game_id', 'env', 'attempt', 'info', 'raw_guess', 'guess',\n",
      "       'response', 'word_limit', 'score', 'done', 'data', 'belief',\n",
      "       'action_reasoning', 'belief_reasoning'],\n",
      "      dtype='object')\n"
     ]
    }
   ],
   "source": [
    "print(df.columns)"
   ]
  },
  {
   "cell_type": "code",
   "execution_count": 3,
   "id": "b226b1d1",
   "metadata": {},
   "outputs": [],
   "source": [
    "if not df.iloc[0]['word_limit']:\n",
    "    df['word_limit'] = 'None'"
   ]
  },
  {
   "cell_type": "code",
   "execution_count": 4,
   "id": "f23e7984",
   "metadata": {},
   "outputs": [
    {
     "data": {
      "text/plain": [
       "info\n",
       "belief     8764\n",
       "both       8479\n",
       "history    8162\n",
       "Name: count, dtype: int64"
      ]
     },
     "execution_count": 4,
     "metadata": {},
     "output_type": "execute_result"
    }
   ],
   "source": [
    "df['info'].value_counts()"
   ]
  },
  {
   "cell_type": "code",
   "execution_count": 5,
   "id": "d9c30712",
   "metadata": {},
   "outputs": [],
   "source": [
    "df['model_info'] = df['model'].astype(str) + ' (' + df['info'].astype(str) + ')'"
   ]
  },
  {
   "cell_type": "code",
   "execution_count": 6,
   "id": "73a9cf0b",
   "metadata": {},
   "outputs": [],
   "source": [
    "df['model'] = df['model_info']"
   ]
  },
  {
   "cell_type": "code",
   "execution_count": 44,
   "id": "abe8ac6b",
   "metadata": {},
   "outputs": [],
   "source": [
    "import pandas as pd\n",
    "import plotly.graph_objects as go\n",
    "import plotly.express as px\n",
    "from plotly.subplots import make_subplots\n",
    "\n",
    "def summarize_game_outcomes(df):\n",
    "    df['response'] = df['response'].str.lower()\n",
    "    grouped = df.groupby(['model', 'game_id', 'env', 'word_limit'])['response'].apply(\n",
    "        lambda responses: any('goal reached' in resp for resp in responses)\n",
    "    ).reset_index(name='won')\n",
    "    return grouped\n",
    "\n",
    "def plot_win_rates(summary_df):\n",
    "    # Include word_limit in grouping\n",
    "    win_rates = summary_df.groupby(['env', 'model', 'word_limit'])['won'].mean().reset_index()\n",
    "    win_rates['success_rate'] = win_rates['won'] * 100\n",
    "\n",
    "    envs = win_rates['env'].unique()\n",
    "    models = win_rates['model'].unique()\n",
    "    word_limits = sorted(win_rates['word_limit'].unique())\n",
    "\n",
    "    colors = [\n",
    "        \"#ADD8E6\",  # light blue\n",
    "        \"#4682B4\",  # medium blue\n",
    "        \"#003366\",  # dark blue\n",
    "        \"#FFB6C1\",  # light red\n",
    "        \"#FF6347\",  # medium red\n",
    "        \"#8B0000\",  # dark red\n",
    "        \"#90EE90\",  # light green\n",
    "        \"#32CD32\",  # medium green\n",
    "        \"#006400\",  # dark green\n",
    "    ]\n",
    "    color_map = {model: colors[i % len(colors)] for i, model in enumerate(models)}\n",
    "\n",
    "    # Create subplots: rows = word_limit values, cols = envs\n",
    "    fig = make_subplots(\n",
    "        rows=len(word_limits), cols=len(envs),\n",
    "        subplot_titles=[f\"{env}\" for env in envs],\n",
    "        shared_yaxes=True,\n",
    "        vertical_spacing=0.2 / len(word_limits),\n",
    "        horizontal_spacing=0.03\n",
    "    )\n",
    "\n",
    "    for r, wl in enumerate(word_limits, start=1):\n",
    "        for c, env in enumerate(envs, start=1):\n",
    "            for model in models:\n",
    "                subset = win_rates[\n",
    "                    (win_rates['env'] == env) &\n",
    "                    (win_rates['model'] == model) &\n",
    "                    (win_rates['word_limit'] == wl)\n",
    "                ]\n",
    "                if not subset.empty:\n",
    "                    fig.add_trace(\n",
    "                        go.Bar(\n",
    "                            x=[model],\n",
    "                            y=subset['success_rate'],\n",
    "                            name=model,\n",
    "                            marker_color=color_map[model],\n",
    "                            width=0.8,\n",
    "                            showlegend=(r == 1 and c == 1),\n",
    "                            hovertemplate=(\n",
    "                                f\"Env: {env}<br>\"\n",
    "                                f\"Word Limit: {wl}<br>\"\n",
    "                                f\"Model: {model}<br>\"\n",
    "                                f\"Success Rate: {{y:.2f}}%\"\n",
    "                            ),\n",
    "                        ),\n",
    "                        row=r, col=c\n",
    "                    )\n",
    "            # Add row label for word_limit\n",
    "            if c == 1:\n",
    "                fig.add_annotation(\n",
    "                    text=f\"Word Limit: {wl}\",\n",
    "                    xref=\"paper\",\n",
    "                    yref=\"paper\",\n",
    "                    x=0.1,\n",
    "                    y=0.95 - ((r - 1) / len(word_limits)),\n",
    "                    showarrow=False,\n",
    "                    font=dict(size=14)\n",
    "                )\n",
    "\n",
    "    # Update y-axis\n",
    "    for r in range(1, len(word_limits) + 1):\n",
    "        for c in range(1, len(envs) + 1):\n",
    "            fig.update_yaxes(\n",
    "                range=[0, 100],\n",
    "                showgrid=True,\n",
    "                gridcolor='lightgray',\n",
    "                row=r, col=c\n",
    "            )\n",
    "\n",
    "    # Update x-axis to remove tick labels\n",
    "    for r in range(1, len(word_limits) + 1):\n",
    "        for c in range(1, len(envs) + 1):\n",
    "            fig.update_xaxes(\n",
    "                showticklabels=False,\n",
    "                row=r, col=c\n",
    "            )\n",
    "\n",
    "    # Fixed subplot size\n",
    "    fig_width = 180 * len(envs)\n",
    "    fig_height = 200 * len(word_limits)\n",
    "\n",
    "    # Layout with horizontal legend\n",
    "    fig.update_layout(\n",
    "        height=fig_height + 150,\n",
    "        width=fig_width,\n",
    "        template='simple_white',\n",
    "        font=dict(family='Computer Modern, serif', size=16),\n",
    "        barmode='group',\n",
    "        showlegend=True,\n",
    "        legend=dict(\n",
    "            title='Models',\n",
    "            orientation='h',\n",
    "            yanchor='bottom',\n",
    "            y=1.18,\n",
    "            xanchor='center',\n",
    "            x=0.5,\n",
    "            bgcolor='rgba(255,255,255,0.9)',\n",
    "            bordercolor='black',\n",
    "            borderwidth=1\n",
    "        ),\n",
    "        margin=dict(t=100, b=50, l=80, r=20),\n",
    "        plot_bgcolor='white'\n",
    "    )\n",
    "\n",
    "    return fig"
   ]
  },
  {
   "cell_type": "code",
   "execution_count": 45,
   "id": "94973117",
   "metadata": {},
   "outputs": [],
   "source": [
    "df_belief = df.loc[df['info'] == 'belief'].copy()\n",
    "df_history = df.loc[df['info'] == 'history'].copy()\n",
    "summary_df = summarize_game_outcomes(df)\n",
    "summary_df_belief = summarize_game_outcomes(df_belief)\n",
    "summary_df_history = summarize_game_outcomes(df_history)"
   ]
  },
  {
   "cell_type": "code",
   "execution_count": 46,
   "id": "06d25838",
   "metadata": {},
   "outputs": [
    {
     "data": {
      "application/vnd.plotly.v1+json": {
       "config": {
        "plotlyServerURL": "https://plot.ly"
       },
       "data": [
        {
         "hovertemplate": "Env: customer_service<br>Word Limit: None<br>Model: deepseek/deepseek-chat (belief)<br>Success Rate: {y:.2f}%",
         "marker": {
          "color": "#ADD8E6"
         },
         "name": "deepseek/deepseek-chat (belief)",
         "showlegend": true,
         "type": "bar",
         "width": 0.8,
         "x": [
          "deepseek/deepseek-chat (belief)"
         ],
         "xaxis": "x",
         "y": {
          "bdata": "AAAAAADAR0A=",
          "dtype": "f8"
         },
         "yaxis": "y"
        },
        {
         "hovertemplate": "Env: customer_service<br>Word Limit: None<br>Model: deepseek/deepseek-chat (both)<br>Success Rate: {y:.2f}%",
         "marker": {
          "color": "#4682B4"
         },
         "name": "deepseek/deepseek-chat (both)",
         "showlegend": true,
         "type": "bar",
         "width": 0.8,
         "x": [
          "deepseek/deepseek-chat (both)"
         ],
         "xaxis": "x",
         "y": {
          "bdata": "AAAAAACAUUA=",
          "dtype": "f8"
         },
         "yaxis": "y"
        },
        {
         "hovertemplate": "Env: customer_service<br>Word Limit: None<br>Model: deepseek/deepseek-chat (history)<br>Success Rate: {y:.2f}%",
         "marker": {
          "color": "#003366"
         },
         "name": "deepseek/deepseek-chat (history)",
         "showlegend": true,
         "type": "bar",
         "width": 0.8,
         "x": [
          "deepseek/deepseek-chat (history)"
         ],
         "xaxis": "x",
         "y": {
          "bdata": "AAAAAABgU0A=",
          "dtype": "f8"
         },
         "yaxis": "y"
        },
        {
         "hovertemplate": "Env: customer_service<br>Word Limit: None<br>Model: deepseek/deepseek-r1 (belief)<br>Success Rate: {y:.2f}%",
         "marker": {
          "color": "#FFB6C1"
         },
         "name": "deepseek/deepseek-r1 (belief)",
         "showlegend": true,
         "type": "bar",
         "width": 0.8,
         "x": [
          "deepseek/deepseek-r1 (belief)"
         ],
         "xaxis": "x",
         "y": {
          "bdata": "AAAAAAAgUkA=",
          "dtype": "f8"
         },
         "yaxis": "y"
        },
        {
         "hovertemplate": "Env: customer_service<br>Word Limit: None<br>Model: deepseek/deepseek-r1 (both)<br>Success Rate: {y:.2f}%",
         "marker": {
          "color": "#FF6347"
         },
         "name": "deepseek/deepseek-r1 (both)",
         "showlegend": true,
         "type": "bar",
         "width": 0.8,
         "x": [
          "deepseek/deepseek-r1 (both)"
         ],
         "xaxis": "x",
         "y": {
          "bdata": "AAAAAABAUEA=",
          "dtype": "f8"
         },
         "yaxis": "y"
        },
        {
         "hovertemplate": "Env: customer_service<br>Word Limit: None<br>Model: deepseek/deepseek-r1 (history)<br>Success Rate: {y:.2f}%",
         "marker": {
          "color": "#8B0000"
         },
         "name": "deepseek/deepseek-r1 (history)",
         "showlegend": true,
         "type": "bar",
         "width": 0.8,
         "x": [
          "deepseek/deepseek-r1 (history)"
         ],
         "xaxis": "x",
         "y": {
          "bdata": "AAAAAAAASUA=",
          "dtype": "f8"
         },
         "yaxis": "y"
        },
        {
         "hovertemplate": "Env: customer_service<br>Word Limit: None<br>Model: google/gemini-2.5-pro (belief)<br>Success Rate: {y:.2f}%",
         "marker": {
          "color": "#90EE90"
         },
         "name": "google/gemini-2.5-pro (belief)",
         "showlegend": true,
         "type": "bar",
         "width": 0.8,
         "x": [
          "google/gemini-2.5-pro (belief)"
         ],
         "xaxis": "x",
         "y": {
          "bdata": "AAAAAACAVkA=",
          "dtype": "f8"
         },
         "yaxis": "y"
        },
        {
         "hovertemplate": "Env: customer_service<br>Word Limit: None<br>Model: google/gemini-2.5-pro (both)<br>Success Rate: {y:.2f}%",
         "marker": {
          "color": "#32CD32"
         },
         "name": "google/gemini-2.5-pro (both)",
         "showlegend": true,
         "type": "bar",
         "width": 0.8,
         "x": [
          "google/gemini-2.5-pro (both)"
         ],
         "xaxis": "x",
         "y": {
          "bdata": "AAAAAADAV0A=",
          "dtype": "f8"
         },
         "yaxis": "y"
        },
        {
         "hovertemplate": "Env: customer_service<br>Word Limit: None<br>Model: google/gemini-2.5-pro (history)<br>Success Rate: {y:.2f}%",
         "marker": {
          "color": "#006400"
         },
         "name": "google/gemini-2.5-pro (history)",
         "showlegend": true,
         "type": "bar",
         "width": 0.8,
         "x": [
          "google/gemini-2.5-pro (history)"
         ],
         "xaxis": "x",
         "y": {
          "bdata": "AAAAAAAAWUA=",
          "dtype": "f8"
         },
         "yaxis": "y"
        },
        {
         "hovertemplate": "Env: guess_my_city<br>Word Limit: None<br>Model: deepseek/deepseek-chat (belief)<br>Success Rate: {y:.2f}%",
         "marker": {
          "color": "#ADD8E6"
         },
         "name": "deepseek/deepseek-chat (belief)",
         "showlegend": false,
         "type": "bar",
         "width": 0.8,
         "x": [
          "deepseek/deepseek-chat (belief)"
         ],
         "xaxis": "x2",
         "y": {
          "bdata": "AAAAAADAUkA=",
          "dtype": "f8"
         },
         "yaxis": "y2"
        },
        {
         "hovertemplate": "Env: guess_my_city<br>Word Limit: None<br>Model: deepseek/deepseek-chat (both)<br>Success Rate: {y:.2f}%",
         "marker": {
          "color": "#4682B4"
         },
         "name": "deepseek/deepseek-chat (both)",
         "showlegend": false,
         "type": "bar",
         "width": 0.8,
         "x": [
          "deepseek/deepseek-chat (both)"
         ],
         "xaxis": "x2",
         "y": {
          "bdata": "AAAAAAAATkA=",
          "dtype": "f8"
         },
         "yaxis": "y2"
        },
        {
         "hovertemplate": "Env: guess_my_city<br>Word Limit: None<br>Model: deepseek/deepseek-chat (history)<br>Success Rate: {y:.2f}%",
         "marker": {
          "color": "#003366"
         },
         "name": "deepseek/deepseek-chat (history)",
         "showlegend": false,
         "type": "bar",
         "width": 0.8,
         "x": [
          "deepseek/deepseek-chat (history)"
         ],
         "xaxis": "x2",
         "y": {
          "bdata": "AQAAAACAS0A=",
          "dtype": "f8"
         },
         "yaxis": "y2"
        },
        {
         "hovertemplate": "Env: guess_my_city<br>Word Limit: None<br>Model: deepseek/deepseek-r1 (belief)<br>Success Rate: {y:.2f}%",
         "marker": {
          "color": "#FFB6C1"
         },
         "name": "deepseek/deepseek-r1 (belief)",
         "showlegend": false,
         "type": "bar",
         "width": 0.8,
         "x": [
          "deepseek/deepseek-r1 (belief)"
         ],
         "xaxis": "x2",
         "y": {
          "bdata": "AQAAAACAS0A=",
          "dtype": "f8"
         },
         "yaxis": "y2"
        },
        {
         "hovertemplate": "Env: guess_my_city<br>Word Limit: None<br>Model: deepseek/deepseek-r1 (both)<br>Success Rate: {y:.2f}%",
         "marker": {
          "color": "#FF6347"
         },
         "name": "deepseek/deepseek-r1 (both)",
         "showlegend": false,
         "type": "bar",
         "width": 0.8,
         "x": [
          "deepseek/deepseek-r1 (both)"
         ],
         "xaxis": "x2",
         "y": {
          "bdata": "AAAAAABASkA=",
          "dtype": "f8"
         },
         "yaxis": "y2"
        },
        {
         "hovertemplate": "Env: guess_my_city<br>Word Limit: None<br>Model: deepseek/deepseek-r1 (history)<br>Success Rate: {y:.2f}%",
         "marker": {
          "color": "#8B0000"
         },
         "name": "deepseek/deepseek-r1 (history)",
         "showlegend": false,
         "type": "bar",
         "width": 0.8,
         "x": [
          "deepseek/deepseek-r1 (history)"
         ],
         "xaxis": "x2",
         "y": {
          "bdata": "AAAAAABAUEA=",
          "dtype": "f8"
         },
         "yaxis": "y2"
        },
        {
         "hovertemplate": "Env: guess_my_city<br>Word Limit: None<br>Model: google/gemini-2.5-pro (belief)<br>Success Rate: {y:.2f}%",
         "marker": {
          "color": "#90EE90"
         },
         "name": "google/gemini-2.5-pro (belief)",
         "showlegend": false,
         "type": "bar",
         "width": 0.8,
         "x": [
          "google/gemini-2.5-pro (belief)"
         ],
         "xaxis": "x2",
         "y": {
          "bdata": "AAAAAAAAVEA=",
          "dtype": "f8"
         },
         "yaxis": "y2"
        },
        {
         "hovertemplate": "Env: guess_my_city<br>Word Limit: None<br>Model: google/gemini-2.5-pro (both)<br>Success Rate: {y:.2f}%",
         "marker": {
          "color": "#32CD32"
         },
         "name": "google/gemini-2.5-pro (both)",
         "showlegend": false,
         "type": "bar",
         "width": 0.8,
         "x": [
          "google/gemini-2.5-pro (both)"
         ],
         "xaxis": "x2",
         "y": {
          "bdata": "AAAAAAAgUkA=",
          "dtype": "f8"
         },
         "yaxis": "y2"
        },
        {
         "hovertemplate": "Env: guess_my_city<br>Word Limit: None<br>Model: google/gemini-2.5-pro (history)<br>Success Rate: {y:.2f}%",
         "marker": {
          "color": "#006400"
         },
         "name": "google/gemini-2.5-pro (history)",
         "showlegend": false,
         "type": "bar",
         "width": 0.8,
         "x": [
          "google/gemini-2.5-pro (history)"
         ],
         "xaxis": "x2",
         "y": {
          "bdata": "AAAAAACgVEA=",
          "dtype": "f8"
         },
         "yaxis": "y2"
        },
        {
         "hovertemplate": "Env: mastermind<br>Word Limit: None<br>Model: deepseek/deepseek-chat (belief)<br>Success Rate: {y:.2f}%",
         "marker": {
          "color": "#ADD8E6"
         },
         "name": "deepseek/deepseek-chat (belief)",
         "showlegend": false,
         "type": "bar",
         "width": 0.8,
         "x": [
          "deepseek/deepseek-chat (belief)"
         ],
         "xaxis": "x3",
         "y": {
          "bdata": "AAAAAAAAFEA=",
          "dtype": "f8"
         },
         "yaxis": "y3"
        },
        {
         "hovertemplate": "Env: mastermind<br>Word Limit: None<br>Model: deepseek/deepseek-chat (both)<br>Success Rate: {y:.2f}%",
         "marker": {
          "color": "#4682B4"
         },
         "name": "deepseek/deepseek-chat (both)",
         "showlegend": false,
         "type": "bar",
         "width": 0.8,
         "x": [
          "deepseek/deepseek-chat (both)"
         ],
         "xaxis": "x3",
         "y": {
          "bdata": "AAAAAAAAFEA=",
          "dtype": "f8"
         },
         "yaxis": "y3"
        },
        {
         "hovertemplate": "Env: mastermind<br>Word Limit: None<br>Model: deepseek/deepseek-chat (history)<br>Success Rate: {y:.2f}%",
         "marker": {
          "color": "#003366"
         },
         "name": "deepseek/deepseek-chat (history)",
         "showlegend": false,
         "type": "bar",
         "width": 0.8,
         "x": [
          "deepseek/deepseek-chat (history)"
         ],
         "xaxis": "x3",
         "y": {
          "bdata": "AAAAAAAAFEA=",
          "dtype": "f8"
         },
         "yaxis": "y3"
        },
        {
         "hovertemplate": "Env: mastermind<br>Word Limit: None<br>Model: deepseek/deepseek-r1 (belief)<br>Success Rate: {y:.2f}%",
         "marker": {
          "color": "#FFB6C1"
         },
         "name": "deepseek/deepseek-r1 (belief)",
         "showlegend": false,
         "type": "bar",
         "width": 0.8,
         "x": [
          "deepseek/deepseek-r1 (belief)"
         ],
         "xaxis": "x3",
         "y": {
          "bdata": "AAAAAACAQUA=",
          "dtype": "f8"
         },
         "yaxis": "y3"
        },
        {
         "hovertemplate": "Env: mastermind<br>Word Limit: None<br>Model: deepseek/deepseek-r1 (both)<br>Success Rate: {y:.2f}%",
         "marker": {
          "color": "#FF6347"
         },
         "name": "deepseek/deepseek-r1 (both)",
         "showlegend": false,
         "type": "bar",
         "width": 0.8,
         "x": [
          "deepseek/deepseek-r1 (both)"
         ],
         "xaxis": "x3",
         "y": {
          "bdata": "xU7sxE7sSkA=",
          "dtype": "f8"
         },
         "yaxis": "y3"
        },
        {
         "hovertemplate": "Env: mastermind<br>Word Limit: None<br>Model: deepseek/deepseek-r1 (history)<br>Success Rate: {y:.2f}%",
         "marker": {
          "color": "#8B0000"
         },
         "name": "deepseek/deepseek-r1 (history)",
         "showlegend": false,
         "type": "bar",
         "width": 0.8,
         "x": [
          "deepseek/deepseek-r1 (history)"
         ],
         "xaxis": "x3",
         "y": {
          "bdata": "AAAAAACAUUA=",
          "dtype": "f8"
         },
         "yaxis": "y3"
        },
        {
         "hovertemplate": "Env: mastermind<br>Word Limit: None<br>Model: google/gemini-2.5-pro (belief)<br>Success Rate: {y:.2f}%",
         "marker": {
          "color": "#90EE90"
         },
         "name": "google/gemini-2.5-pro (belief)",
         "showlegend": false,
         "type": "bar",
         "width": 0.8,
         "x": [
          "google/gemini-2.5-pro (belief)"
         ],
         "xaxis": "x3",
         "y": {
          "bdata": "AAAAAABgWEA=",
          "dtype": "f8"
         },
         "yaxis": "y3"
        },
        {
         "hovertemplate": "Env: mastermind<br>Word Limit: None<br>Model: google/gemini-2.5-pro (both)<br>Success Rate: {y:.2f}%",
         "marker": {
          "color": "#32CD32"
         },
         "name": "google/gemini-2.5-pro (both)",
         "showlegend": false,
         "type": "bar",
         "width": 0.8,
         "x": [
          "google/gemini-2.5-pro (both)"
         ],
         "xaxis": "x3",
         "y": {
          "bdata": "AAAAAABgWEA=",
          "dtype": "f8"
         },
         "yaxis": "y3"
        },
        {
         "hovertemplate": "Env: mastermind<br>Word Limit: None<br>Model: google/gemini-2.5-pro (history)<br>Success Rate: {y:.2f}%",
         "marker": {
          "color": "#006400"
         },
         "name": "google/gemini-2.5-pro (history)",
         "showlegend": false,
         "type": "bar",
         "width": 0.8,
         "x": [
          "google/gemini-2.5-pro (history)"
         ],
         "xaxis": "x3",
         "y": {
          "bdata": "AAAAAAAAWUA=",
          "dtype": "f8"
         },
         "yaxis": "y3"
        },
        {
         "hovertemplate": "Env: murder_mystery<br>Word Limit: None<br>Model: deepseek/deepseek-chat (belief)<br>Success Rate: {y:.2f}%",
         "marker": {
          "color": "#ADD8E6"
         },
         "name": "deepseek/deepseek-chat (belief)",
         "showlegend": false,
         "type": "bar",
         "width": 0.8,
         "x": [
          "deepseek/deepseek-chat (belief)"
         ],
         "xaxis": "x4",
         "y": {
          "bdata": "AAAAAACAQUA=",
          "dtype": "f8"
         },
         "yaxis": "y4"
        },
        {
         "hovertemplate": "Env: murder_mystery<br>Word Limit: None<br>Model: deepseek/deepseek-chat (both)<br>Success Rate: {y:.2f}%",
         "marker": {
          "color": "#4682B4"
         },
         "name": "deepseek/deepseek-chat (both)",
         "showlegend": false,
         "type": "bar",
         "width": 0.8,
         "x": [
          "deepseek/deepseek-chat (both)"
         ],
         "xaxis": "x4",
         "y": {
          "bdata": "AAAAAAAgUkA=",
          "dtype": "f8"
         },
         "yaxis": "y4"
        },
        {
         "hovertemplate": "Env: murder_mystery<br>Word Limit: None<br>Model: deepseek/deepseek-chat (history)<br>Success Rate: {y:.2f}%",
         "marker": {
          "color": "#003366"
         },
         "name": "deepseek/deepseek-chat (history)",
         "showlegend": false,
         "type": "bar",
         "width": 0.8,
         "x": [
          "deepseek/deepseek-chat (history)"
         ],
         "xaxis": "x4",
         "y": {
          "bdata": "AAAAAABgU0A=",
          "dtype": "f8"
         },
         "yaxis": "y4"
        },
        {
         "hovertemplate": "Env: murder_mystery<br>Word Limit: None<br>Model: deepseek/deepseek-r1 (belief)<br>Success Rate: {y:.2f}%",
         "marker": {
          "color": "#FFB6C1"
         },
         "name": "deepseek/deepseek-r1 (belief)",
         "showlegend": false,
         "type": "bar",
         "width": 0.8,
         "x": [
          "deepseek/deepseek-r1 (belief)"
         ],
         "xaxis": "x4",
         "y": {
          "bdata": "AAAAAAAAKUA=",
          "dtype": "f8"
         },
         "yaxis": "y4"
        },
        {
         "hovertemplate": "Env: murder_mystery<br>Word Limit: None<br>Model: deepseek/deepseek-r1 (both)<br>Success Rate: {y:.2f}%",
         "marker": {
          "color": "#FF6347"
         },
         "name": "deepseek/deepseek-r1 (both)",
         "showlegend": false,
         "type": "bar",
         "width": 0.8,
         "x": [
          "deepseek/deepseek-r1 (both)"
         ],
         "xaxis": "x4",
         "y": {
          "bdata": "AAAAAABARUA=",
          "dtype": "f8"
         },
         "yaxis": "y4"
        },
        {
         "hovertemplate": "Env: murder_mystery<br>Word Limit: None<br>Model: deepseek/deepseek-r1 (history)<br>Success Rate: {y:.2f}%",
         "marker": {
          "color": "#8B0000"
         },
         "name": "deepseek/deepseek-r1 (history)",
         "showlegend": false,
         "type": "bar",
         "width": 0.8,
         "x": [
          "deepseek/deepseek-r1 (history)"
         ],
         "xaxis": "x4",
         "y": {
          "bdata": "AAAAAACAVkA=",
          "dtype": "f8"
         },
         "yaxis": "y4"
        },
        {
         "hovertemplate": "Env: murder_mystery<br>Word Limit: None<br>Model: google/gemini-2.5-pro (belief)<br>Success Rate: {y:.2f}%",
         "marker": {
          "color": "#90EE90"
         },
         "name": "google/gemini-2.5-pro (belief)",
         "showlegend": false,
         "type": "bar",
         "width": 0.8,
         "x": [
          "google/gemini-2.5-pro (belief)"
         ],
         "xaxis": "x4",
         "y": {
          "bdata": "AAAAAACAVkA=",
          "dtype": "f8"
         },
         "yaxis": "y4"
        },
        {
         "hovertemplate": "Env: murder_mystery<br>Word Limit: None<br>Model: google/gemini-2.5-pro (both)<br>Success Rate: {y:.2f}%",
         "marker": {
          "color": "#32CD32"
         },
         "name": "google/gemini-2.5-pro (both)",
         "showlegend": false,
         "type": "bar",
         "width": 0.8,
         "x": [
          "google/gemini-2.5-pro (both)"
         ],
         "xaxis": "x4",
         "y": {
          "bdata": "AAAAAAAAVEA=",
          "dtype": "f8"
         },
         "yaxis": "y4"
        },
        {
         "hovertemplate": "Env: murder_mystery<br>Word Limit: None<br>Model: google/gemini-2.5-pro (history)<br>Success Rate: {y:.2f}%",
         "marker": {
          "color": "#006400"
         },
         "name": "google/gemini-2.5-pro (history)",
         "showlegend": false,
         "type": "bar",
         "width": 0.8,
         "x": [
          "google/gemini-2.5-pro (history)"
         ],
         "xaxis": "x4",
         "y": {
          "bdata": "AAAAAAAAVEA=",
          "dtype": "f8"
         },
         "yaxis": "y4"
        },
        {
         "hovertemplate": "Env: twenty_questions<br>Word Limit: None<br>Model: deepseek/deepseek-chat (belief)<br>Success Rate: {y:.2f}%",
         "marker": {
          "color": "#ADD8E6"
         },
         "name": "deepseek/deepseek-chat (belief)",
         "showlegend": false,
         "type": "bar",
         "width": 0.8,
         "x": [
          "deepseek/deepseek-chat (belief)"
         ],
         "xaxis": "x5",
         "y": {
          "bdata": "AAAAAACAQUA=",
          "dtype": "f8"
         },
         "yaxis": "y5"
        },
        {
         "hovertemplate": "Env: twenty_questions<br>Word Limit: None<br>Model: deepseek/deepseek-chat (both)<br>Success Rate: {y:.2f}%",
         "marker": {
          "color": "#4682B4"
         },
         "name": "deepseek/deepseek-chat (both)",
         "showlegend": false,
         "type": "bar",
         "width": 0.8,
         "x": [
          "deepseek/deepseek-chat (both)"
         ],
         "xaxis": "x5",
         "y": {
          "bdata": "AAAAAADAR0A=",
          "dtype": "f8"
         },
         "yaxis": "y5"
        },
        {
         "hovertemplate": "Env: twenty_questions<br>Word Limit: None<br>Model: deepseek/deepseek-chat (history)<br>Success Rate: {y:.2f}%",
         "marker": {
          "color": "#003366"
         },
         "name": "deepseek/deepseek-chat (history)",
         "showlegend": false,
         "type": "bar",
         "width": 0.8,
         "x": [
          "deepseek/deepseek-chat (history)"
         ],
         "xaxis": "x5",
         "y": {
          "bdata": "AAAAAADAR0A=",
          "dtype": "f8"
         },
         "yaxis": "y5"
        },
        {
         "hovertemplate": "Env: twenty_questions<br>Word Limit: None<br>Model: deepseek/deepseek-r1 (belief)<br>Success Rate: {y:.2f}%",
         "marker": {
          "color": "#FFB6C1"
         },
         "name": "deepseek/deepseek-r1 (belief)",
         "showlegend": false,
         "type": "bar",
         "width": 0.8,
         "x": [
          "deepseek/deepseek-r1 (belief)"
         ],
         "xaxis": "x5",
         "y": {
          "bdata": "AAAAAAAAREA=",
          "dtype": "f8"
         },
         "yaxis": "y5"
        },
        {
         "hovertemplate": "Env: twenty_questions<br>Word Limit: None<br>Model: deepseek/deepseek-r1 (both)<br>Success Rate: {y:.2f}%",
         "marker": {
          "color": "#FF6347"
         },
         "name": "deepseek/deepseek-r1 (both)",
         "showlegend": false,
         "type": "bar",
         "width": 0.8,
         "x": [
          "deepseek/deepseek-r1 (both)"
         ],
         "xaxis": "x5",
         "y": {
          "bdata": "AAAAAACARkA=",
          "dtype": "f8"
         },
         "yaxis": "y5"
        },
        {
         "hovertemplate": "Env: twenty_questions<br>Word Limit: None<br>Model: deepseek/deepseek-r1 (history)<br>Success Rate: {y:.2f}%",
         "marker": {
          "color": "#8B0000"
         },
         "name": "deepseek/deepseek-r1 (history)",
         "showlegend": false,
         "type": "bar",
         "width": 0.8,
         "x": [
          "deepseek/deepseek-r1 (history)"
         ],
         "xaxis": "x5",
         "y": {
          "bdata": "AAAAAAAATkA=",
          "dtype": "f8"
         },
         "yaxis": "y5"
        },
        {
         "hovertemplate": "Env: twenty_questions<br>Word Limit: None<br>Model: google/gemini-2.5-pro (belief)<br>Success Rate: {y:.2f}%",
         "marker": {
          "color": "#90EE90"
         },
         "name": "google/gemini-2.5-pro (belief)",
         "showlegend": false,
         "type": "bar",
         "width": 0.8,
         "x": [
          "google/gemini-2.5-pro (belief)"
         ],
         "xaxis": "x5",
         "y": {
          "bdata": "AAAAAABASkA=",
          "dtype": "f8"
         },
         "yaxis": "y5"
        },
        {
         "hovertemplate": "Env: twenty_questions<br>Word Limit: None<br>Model: google/gemini-2.5-pro (both)<br>Success Rate: {y:.2f}%",
         "marker": {
          "color": "#32CD32"
         },
         "name": "google/gemini-2.5-pro (both)",
         "showlegend": false,
         "type": "bar",
         "width": 0.8,
         "x": [
          "google/gemini-2.5-pro (both)"
         ],
         "xaxis": "x5",
         "y": {
          "bdata": "AAAAAADAUkA=",
          "dtype": "f8"
         },
         "yaxis": "y5"
        },
        {
         "hovertemplate": "Env: twenty_questions<br>Word Limit: None<br>Model: google/gemini-2.5-pro (history)<br>Success Rate: {y:.2f}%",
         "marker": {
          "color": "#006400"
         },
         "name": "google/gemini-2.5-pro (history)",
         "showlegend": false,
         "type": "bar",
         "width": 0.8,
         "x": [
          "google/gemini-2.5-pro (history)"
         ],
         "xaxis": "x5",
         "y": {
          "bdata": "AAAAAABAT0A=",
          "dtype": "f8"
         },
         "yaxis": "y5"
        },
        {
         "hovertemplate": "Env: wordle<br>Word Limit: None<br>Model: deepseek/deepseek-chat (belief)<br>Success Rate: {y:.2f}%",
         "marker": {
          "color": "#ADD8E6"
         },
         "name": "deepseek/deepseek-chat (belief)",
         "showlegend": false,
         "type": "bar",
         "width": 0.8,
         "x": [
          "deepseek/deepseek-chat (belief)"
         ],
         "xaxis": "x6",
         "y": {
          "bdata": "AAAAAABAQEA=",
          "dtype": "f8"
         },
         "yaxis": "y6"
        },
        {
         "hovertemplate": "Env: wordle<br>Word Limit: None<br>Model: deepseek/deepseek-chat (both)<br>Success Rate: {y:.2f}%",
         "marker": {
          "color": "#4682B4"
         },
         "name": "deepseek/deepseek-chat (both)",
         "showlegend": false,
         "type": "bar",
         "width": 0.8,
         "x": [
          "deepseek/deepseek-chat (both)"
         ],
         "xaxis": "x6",
         "y": {
          "bdata": "AAAAAABARUA=",
          "dtype": "f8"
         },
         "yaxis": "y6"
        },
        {
         "hovertemplate": "Env: wordle<br>Word Limit: None<br>Model: deepseek/deepseek-chat (history)<br>Success Rate: {y:.2f}%",
         "marker": {
          "color": "#003366"
         },
         "name": "deepseek/deepseek-chat (history)",
         "showlegend": false,
         "type": "bar",
         "width": 0.8,
         "x": [
          "deepseek/deepseek-chat (history)"
         ],
         "xaxis": "x6",
         "y": {
          "bdata": "AAAAAABASkA=",
          "dtype": "f8"
         },
         "yaxis": "y6"
        },
        {
         "hovertemplate": "Env: wordle<br>Word Limit: None<br>Model: deepseek/deepseek-r1 (belief)<br>Success Rate: {y:.2f}%",
         "marker": {
          "color": "#FFB6C1"
         },
         "name": "deepseek/deepseek-r1 (belief)",
         "showlegend": false,
         "type": "bar",
         "width": 0.8,
         "x": [
          "deepseek/deepseek-r1 (belief)"
         ],
         "xaxis": "x6",
         "y": {
          "bdata": "AAAAAABAVUA=",
          "dtype": "f8"
         },
         "yaxis": "y6"
        },
        {
         "hovertemplate": "Env: wordle<br>Word Limit: None<br>Model: deepseek/deepseek-r1 (both)<br>Success Rate: {y:.2f}%",
         "marker": {
          "color": "#FF6347"
         },
         "name": "deepseek/deepseek-r1 (both)",
         "showlegend": false,
         "type": "bar",
         "width": 0.8,
         "x": [
          "deepseek/deepseek-r1 (both)"
         ],
         "xaxis": "x6",
         "y": {
          "bdata": "AAAAAACgVEA=",
          "dtype": "f8"
         },
         "yaxis": "y6"
        },
        {
         "hovertemplate": "Env: wordle<br>Word Limit: None<br>Model: deepseek/deepseek-r1 (history)<br>Success Rate: {y:.2f}%",
         "marker": {
          "color": "#8B0000"
         },
         "name": "deepseek/deepseek-r1 (history)",
         "showlegend": false,
         "type": "bar",
         "width": 0.8,
         "x": [
          "deepseek/deepseek-r1 (history)"
         ],
         "xaxis": "x6",
         "y": {
          "bdata": "AAAAAACAVkA=",
          "dtype": "f8"
         },
         "yaxis": "y6"
        },
        {
         "hovertemplate": "Env: wordle<br>Word Limit: None<br>Model: google/gemini-2.5-pro (belief)<br>Success Rate: {y:.2f}%",
         "marker": {
          "color": "#90EE90"
         },
         "name": "google/gemini-2.5-pro (belief)",
         "showlegend": false,
         "type": "bar",
         "width": 0.8,
         "x": [
          "google/gemini-2.5-pro (belief)"
         ],
         "xaxis": "x6",
         "y": {
          "bdata": "AAAAAAAAVEA=",
          "dtype": "f8"
         },
         "yaxis": "y6"
        },
        {
         "hovertemplate": "Env: wordle<br>Word Limit: None<br>Model: google/gemini-2.5-pro (both)<br>Success Rate: {y:.2f}%",
         "marker": {
          "color": "#32CD32"
         },
         "name": "google/gemini-2.5-pro (both)",
         "showlegend": false,
         "type": "bar",
         "width": 0.8,
         "x": [
          "google/gemini-2.5-pro (both)"
         ],
         "xaxis": "x6",
         "y": {
          "bdata": "AAAAAADAV0A=",
          "dtype": "f8"
         },
         "yaxis": "y6"
        },
        {
         "hovertemplate": "Env: wordle<br>Word Limit: None<br>Model: google/gemini-2.5-pro (history)<br>Success Rate: {y:.2f}%",
         "marker": {
          "color": "#006400"
         },
         "name": "google/gemini-2.5-pro (history)",
         "showlegend": false,
         "type": "bar",
         "width": 0.8,
         "x": [
          "google/gemini-2.5-pro (history)"
         ],
         "xaxis": "x6",
         "y": {
          "bdata": "AAAAAABgWEA=",
          "dtype": "f8"
         },
         "yaxis": "y6"
        }
       ],
       "layout": {
        "annotations": [
         {
          "font": {
           "size": 16
          },
          "showarrow": false,
          "text": "customer_service",
          "x": 0.07083333333333333,
          "xanchor": "center",
          "xref": "paper",
          "y": 1,
          "yanchor": "bottom",
          "yref": "paper"
         },
         {
          "font": {
           "size": 16
          },
          "showarrow": false,
          "text": "guess_my_city",
          "x": 0.2425,
          "xanchor": "center",
          "xref": "paper",
          "y": 1,
          "yanchor": "bottom",
          "yref": "paper"
         },
         {
          "font": {
           "size": 16
          },
          "showarrow": false,
          "text": "mastermind",
          "x": 0.4141666666666667,
          "xanchor": "center",
          "xref": "paper",
          "y": 1,
          "yanchor": "bottom",
          "yref": "paper"
         },
         {
          "font": {
           "size": 16
          },
          "showarrow": false,
          "text": "murder_mystery",
          "x": 0.5858333333333334,
          "xanchor": "center",
          "xref": "paper",
          "y": 1,
          "yanchor": "bottom",
          "yref": "paper"
         },
         {
          "font": {
           "size": 16
          },
          "showarrow": false,
          "text": "twenty_questions",
          "x": 0.7575000000000001,
          "xanchor": "center",
          "xref": "paper",
          "y": 1,
          "yanchor": "bottom",
          "yref": "paper"
         },
         {
          "font": {
           "size": 16
          },
          "showarrow": false,
          "text": "wordle",
          "x": 0.9291666666666667,
          "xanchor": "center",
          "xref": "paper",
          "y": 1,
          "yanchor": "bottom",
          "yref": "paper"
         },
         {
          "font": {
           "size": 14
          },
          "showarrow": false,
          "text": "Word Limit: None",
          "x": 0.1,
          "xref": "paper",
          "y": 0.95,
          "yref": "paper"
         }
        ],
        "barmode": "group",
        "font": {
         "family": "Computer Modern, serif",
         "size": 16
        },
        "height": 350,
        "legend": {
         "bgcolor": "rgba(255,255,255,0.9)",
         "bordercolor": "black",
         "borderwidth": 1,
         "orientation": "h",
         "title": {
          "text": "Models"
         },
         "x": 0.5,
         "xanchor": "center",
         "y": 1.18,
         "yanchor": "bottom"
        },
        "margin": {
         "b": 50,
         "l": 80,
         "r": 20,
         "t": 100
        },
        "plot_bgcolor": "white",
        "showlegend": true,
        "template": {
         "data": {
          "bar": [
           {
            "error_x": {
             "color": "rgb(36,36,36)"
            },
            "error_y": {
             "color": "rgb(36,36,36)"
            },
            "marker": {
             "line": {
              "color": "white",
              "width": 0.5
             },
             "pattern": {
              "fillmode": "overlay",
              "size": 10,
              "solidity": 0.2
             }
            },
            "type": "bar"
           }
          ],
          "barpolar": [
           {
            "marker": {
             "line": {
              "color": "white",
              "width": 0.5
             },
             "pattern": {
              "fillmode": "overlay",
              "size": 10,
              "solidity": 0.2
             }
            },
            "type": "barpolar"
           }
          ],
          "carpet": [
           {
            "aaxis": {
             "endlinecolor": "rgb(36,36,36)",
             "gridcolor": "white",
             "linecolor": "white",
             "minorgridcolor": "white",
             "startlinecolor": "rgb(36,36,36)"
            },
            "baxis": {
             "endlinecolor": "rgb(36,36,36)",
             "gridcolor": "white",
             "linecolor": "white",
             "minorgridcolor": "white",
             "startlinecolor": "rgb(36,36,36)"
            },
            "type": "carpet"
           }
          ],
          "choropleth": [
           {
            "colorbar": {
             "outlinewidth": 1,
             "tickcolor": "rgb(36,36,36)",
             "ticks": "outside"
            },
            "type": "choropleth"
           }
          ],
          "contour": [
           {
            "colorbar": {
             "outlinewidth": 1,
             "tickcolor": "rgb(36,36,36)",
             "ticks": "outside"
            },
            "colorscale": [
             [
              0,
              "#440154"
             ],
             [
              0.1111111111111111,
              "#482878"
             ],
             [
              0.2222222222222222,
              "#3e4989"
             ],
             [
              0.3333333333333333,
              "#31688e"
             ],
             [
              0.4444444444444444,
              "#26828e"
             ],
             [
              0.5555555555555556,
              "#1f9e89"
             ],
             [
              0.6666666666666666,
              "#35b779"
             ],
             [
              0.7777777777777778,
              "#6ece58"
             ],
             [
              0.8888888888888888,
              "#b5de2b"
             ],
             [
              1,
              "#fde725"
             ]
            ],
            "type": "contour"
           }
          ],
          "contourcarpet": [
           {
            "colorbar": {
             "outlinewidth": 1,
             "tickcolor": "rgb(36,36,36)",
             "ticks": "outside"
            },
            "type": "contourcarpet"
           }
          ],
          "heatmap": [
           {
            "colorbar": {
             "outlinewidth": 1,
             "tickcolor": "rgb(36,36,36)",
             "ticks": "outside"
            },
            "colorscale": [
             [
              0,
              "#440154"
             ],
             [
              0.1111111111111111,
              "#482878"
             ],
             [
              0.2222222222222222,
              "#3e4989"
             ],
             [
              0.3333333333333333,
              "#31688e"
             ],
             [
              0.4444444444444444,
              "#26828e"
             ],
             [
              0.5555555555555556,
              "#1f9e89"
             ],
             [
              0.6666666666666666,
              "#35b779"
             ],
             [
              0.7777777777777778,
              "#6ece58"
             ],
             [
              0.8888888888888888,
              "#b5de2b"
             ],
             [
              1,
              "#fde725"
             ]
            ],
            "type": "heatmap"
           }
          ],
          "histogram": [
           {
            "marker": {
             "line": {
              "color": "white",
              "width": 0.6
             }
            },
            "type": "histogram"
           }
          ],
          "histogram2d": [
           {
            "colorbar": {
             "outlinewidth": 1,
             "tickcolor": "rgb(36,36,36)",
             "ticks": "outside"
            },
            "colorscale": [
             [
              0,
              "#440154"
             ],
             [
              0.1111111111111111,
              "#482878"
             ],
             [
              0.2222222222222222,
              "#3e4989"
             ],
             [
              0.3333333333333333,
              "#31688e"
             ],
             [
              0.4444444444444444,
              "#26828e"
             ],
             [
              0.5555555555555556,
              "#1f9e89"
             ],
             [
              0.6666666666666666,
              "#35b779"
             ],
             [
              0.7777777777777778,
              "#6ece58"
             ],
             [
              0.8888888888888888,
              "#b5de2b"
             ],
             [
              1,
              "#fde725"
             ]
            ],
            "type": "histogram2d"
           }
          ],
          "histogram2dcontour": [
           {
            "colorbar": {
             "outlinewidth": 1,
             "tickcolor": "rgb(36,36,36)",
             "ticks": "outside"
            },
            "colorscale": [
             [
              0,
              "#440154"
             ],
             [
              0.1111111111111111,
              "#482878"
             ],
             [
              0.2222222222222222,
              "#3e4989"
             ],
             [
              0.3333333333333333,
              "#31688e"
             ],
             [
              0.4444444444444444,
              "#26828e"
             ],
             [
              0.5555555555555556,
              "#1f9e89"
             ],
             [
              0.6666666666666666,
              "#35b779"
             ],
             [
              0.7777777777777778,
              "#6ece58"
             ],
             [
              0.8888888888888888,
              "#b5de2b"
             ],
             [
              1,
              "#fde725"
             ]
            ],
            "type": "histogram2dcontour"
           }
          ],
          "mesh3d": [
           {
            "colorbar": {
             "outlinewidth": 1,
             "tickcolor": "rgb(36,36,36)",
             "ticks": "outside"
            },
            "type": "mesh3d"
           }
          ],
          "parcoords": [
           {
            "line": {
             "colorbar": {
              "outlinewidth": 1,
              "tickcolor": "rgb(36,36,36)",
              "ticks": "outside"
             }
            },
            "type": "parcoords"
           }
          ],
          "pie": [
           {
            "automargin": true,
            "type": "pie"
           }
          ],
          "scatter": [
           {
            "fillpattern": {
             "fillmode": "overlay",
             "size": 10,
             "solidity": 0.2
            },
            "type": "scatter"
           }
          ],
          "scatter3d": [
           {
            "line": {
             "colorbar": {
              "outlinewidth": 1,
              "tickcolor": "rgb(36,36,36)",
              "ticks": "outside"
             }
            },
            "marker": {
             "colorbar": {
              "outlinewidth": 1,
              "tickcolor": "rgb(36,36,36)",
              "ticks": "outside"
             }
            },
            "type": "scatter3d"
           }
          ],
          "scattercarpet": [
           {
            "marker": {
             "colorbar": {
              "outlinewidth": 1,
              "tickcolor": "rgb(36,36,36)",
              "ticks": "outside"
             }
            },
            "type": "scattercarpet"
           }
          ],
          "scattergeo": [
           {
            "marker": {
             "colorbar": {
              "outlinewidth": 1,
              "tickcolor": "rgb(36,36,36)",
              "ticks": "outside"
             }
            },
            "type": "scattergeo"
           }
          ],
          "scattergl": [
           {
            "marker": {
             "colorbar": {
              "outlinewidth": 1,
              "tickcolor": "rgb(36,36,36)",
              "ticks": "outside"
             }
            },
            "type": "scattergl"
           }
          ],
          "scattermap": [
           {
            "marker": {
             "colorbar": {
              "outlinewidth": 1,
              "tickcolor": "rgb(36,36,36)",
              "ticks": "outside"
             }
            },
            "type": "scattermap"
           }
          ],
          "scattermapbox": [
           {
            "marker": {
             "colorbar": {
              "outlinewidth": 1,
              "tickcolor": "rgb(36,36,36)",
              "ticks": "outside"
             }
            },
            "type": "scattermapbox"
           }
          ],
          "scatterpolar": [
           {
            "marker": {
             "colorbar": {
              "outlinewidth": 1,
              "tickcolor": "rgb(36,36,36)",
              "ticks": "outside"
             }
            },
            "type": "scatterpolar"
           }
          ],
          "scatterpolargl": [
           {
            "marker": {
             "colorbar": {
              "outlinewidth": 1,
              "tickcolor": "rgb(36,36,36)",
              "ticks": "outside"
             }
            },
            "type": "scatterpolargl"
           }
          ],
          "scatterternary": [
           {
            "marker": {
             "colorbar": {
              "outlinewidth": 1,
              "tickcolor": "rgb(36,36,36)",
              "ticks": "outside"
             }
            },
            "type": "scatterternary"
           }
          ],
          "surface": [
           {
            "colorbar": {
             "outlinewidth": 1,
             "tickcolor": "rgb(36,36,36)",
             "ticks": "outside"
            },
            "colorscale": [
             [
              0,
              "#440154"
             ],
             [
              0.1111111111111111,
              "#482878"
             ],
             [
              0.2222222222222222,
              "#3e4989"
             ],
             [
              0.3333333333333333,
              "#31688e"
             ],
             [
              0.4444444444444444,
              "#26828e"
             ],
             [
              0.5555555555555556,
              "#1f9e89"
             ],
             [
              0.6666666666666666,
              "#35b779"
             ],
             [
              0.7777777777777778,
              "#6ece58"
             ],
             [
              0.8888888888888888,
              "#b5de2b"
             ],
             [
              1,
              "#fde725"
             ]
            ],
            "type": "surface"
           }
          ],
          "table": [
           {
            "cells": {
             "fill": {
              "color": "rgb(237,237,237)"
             },
             "line": {
              "color": "white"
             }
            },
            "header": {
             "fill": {
              "color": "rgb(217,217,217)"
             },
             "line": {
              "color": "white"
             }
            },
            "type": "table"
           }
          ]
         },
         "layout": {
          "annotationdefaults": {
           "arrowhead": 0,
           "arrowwidth": 1
          },
          "autotypenumbers": "strict",
          "coloraxis": {
           "colorbar": {
            "outlinewidth": 1,
            "tickcolor": "rgb(36,36,36)",
            "ticks": "outside"
           }
          },
          "colorscale": {
           "diverging": [
            [
             0,
             "rgb(103,0,31)"
            ],
            [
             0.1,
             "rgb(178,24,43)"
            ],
            [
             0.2,
             "rgb(214,96,77)"
            ],
            [
             0.3,
             "rgb(244,165,130)"
            ],
            [
             0.4,
             "rgb(253,219,199)"
            ],
            [
             0.5,
             "rgb(247,247,247)"
            ],
            [
             0.6,
             "rgb(209,229,240)"
            ],
            [
             0.7,
             "rgb(146,197,222)"
            ],
            [
             0.8,
             "rgb(67,147,195)"
            ],
            [
             0.9,
             "rgb(33,102,172)"
            ],
            [
             1,
             "rgb(5,48,97)"
            ]
           ],
           "sequential": [
            [
             0,
             "#440154"
            ],
            [
             0.1111111111111111,
             "#482878"
            ],
            [
             0.2222222222222222,
             "#3e4989"
            ],
            [
             0.3333333333333333,
             "#31688e"
            ],
            [
             0.4444444444444444,
             "#26828e"
            ],
            [
             0.5555555555555556,
             "#1f9e89"
            ],
            [
             0.6666666666666666,
             "#35b779"
            ],
            [
             0.7777777777777778,
             "#6ece58"
            ],
            [
             0.8888888888888888,
             "#b5de2b"
            ],
            [
             1,
             "#fde725"
            ]
           ],
           "sequentialminus": [
            [
             0,
             "#440154"
            ],
            [
             0.1111111111111111,
             "#482878"
            ],
            [
             0.2222222222222222,
             "#3e4989"
            ],
            [
             0.3333333333333333,
             "#31688e"
            ],
            [
             0.4444444444444444,
             "#26828e"
            ],
            [
             0.5555555555555556,
             "#1f9e89"
            ],
            [
             0.6666666666666666,
             "#35b779"
            ],
            [
             0.7777777777777778,
             "#6ece58"
            ],
            [
             0.8888888888888888,
             "#b5de2b"
            ],
            [
             1,
             "#fde725"
            ]
           ]
          },
          "colorway": [
           "#1F77B4",
           "#FF7F0E",
           "#2CA02C",
           "#D62728",
           "#9467BD",
           "#8C564B",
           "#E377C2",
           "#7F7F7F",
           "#BCBD22",
           "#17BECF"
          ],
          "font": {
           "color": "rgb(36,36,36)"
          },
          "geo": {
           "bgcolor": "white",
           "lakecolor": "white",
           "landcolor": "white",
           "showlakes": true,
           "showland": true,
           "subunitcolor": "white"
          },
          "hoverlabel": {
           "align": "left"
          },
          "hovermode": "closest",
          "mapbox": {
           "style": "light"
          },
          "paper_bgcolor": "white",
          "plot_bgcolor": "white",
          "polar": {
           "angularaxis": {
            "gridcolor": "rgb(232,232,232)",
            "linecolor": "rgb(36,36,36)",
            "showgrid": false,
            "showline": true,
            "ticks": "outside"
           },
           "bgcolor": "white",
           "radialaxis": {
            "gridcolor": "rgb(232,232,232)",
            "linecolor": "rgb(36,36,36)",
            "showgrid": false,
            "showline": true,
            "ticks": "outside"
           }
          },
          "scene": {
           "xaxis": {
            "backgroundcolor": "white",
            "gridcolor": "rgb(232,232,232)",
            "gridwidth": 2,
            "linecolor": "rgb(36,36,36)",
            "showbackground": true,
            "showgrid": false,
            "showline": true,
            "ticks": "outside",
            "zeroline": false,
            "zerolinecolor": "rgb(36,36,36)"
           },
           "yaxis": {
            "backgroundcolor": "white",
            "gridcolor": "rgb(232,232,232)",
            "gridwidth": 2,
            "linecolor": "rgb(36,36,36)",
            "showbackground": true,
            "showgrid": false,
            "showline": true,
            "ticks": "outside",
            "zeroline": false,
            "zerolinecolor": "rgb(36,36,36)"
           },
           "zaxis": {
            "backgroundcolor": "white",
            "gridcolor": "rgb(232,232,232)",
            "gridwidth": 2,
            "linecolor": "rgb(36,36,36)",
            "showbackground": true,
            "showgrid": false,
            "showline": true,
            "ticks": "outside",
            "zeroline": false,
            "zerolinecolor": "rgb(36,36,36)"
           }
          },
          "shapedefaults": {
           "fillcolor": "black",
           "line": {
            "width": 0
           },
           "opacity": 0.3
          },
          "ternary": {
           "aaxis": {
            "gridcolor": "rgb(232,232,232)",
            "linecolor": "rgb(36,36,36)",
            "showgrid": false,
            "showline": true,
            "ticks": "outside"
           },
           "baxis": {
            "gridcolor": "rgb(232,232,232)",
            "linecolor": "rgb(36,36,36)",
            "showgrid": false,
            "showline": true,
            "ticks": "outside"
           },
           "bgcolor": "white",
           "caxis": {
            "gridcolor": "rgb(232,232,232)",
            "linecolor": "rgb(36,36,36)",
            "showgrid": false,
            "showline": true,
            "ticks": "outside"
           }
          },
          "title": {
           "x": 0.05
          },
          "xaxis": {
           "automargin": true,
           "gridcolor": "rgb(232,232,232)",
           "linecolor": "rgb(36,36,36)",
           "showgrid": false,
           "showline": true,
           "ticks": "outside",
           "title": {
            "standoff": 15
           },
           "zeroline": false,
           "zerolinecolor": "rgb(36,36,36)"
          },
          "yaxis": {
           "automargin": true,
           "gridcolor": "rgb(232,232,232)",
           "linecolor": "rgb(36,36,36)",
           "showgrid": false,
           "showline": true,
           "ticks": "outside",
           "title": {
            "standoff": 15
           },
           "zeroline": false,
           "zerolinecolor": "rgb(36,36,36)"
          }
         }
        },
        "width": 1080,
        "xaxis": {
         "anchor": "y",
         "domain": [
          0,
          0.14166666666666666
         ],
         "showticklabels": false
        },
        "xaxis2": {
         "anchor": "y2",
         "domain": [
          0.17166666666666666,
          0.31333333333333335
         ],
         "showticklabels": false
        },
        "xaxis3": {
         "anchor": "y3",
         "domain": [
          0.3433333333333333,
          0.485
         ],
         "showticklabels": false
        },
        "xaxis4": {
         "anchor": "y4",
         "domain": [
          0.515,
          0.6566666666666667
         ],
         "showticklabels": false
        },
        "xaxis5": {
         "anchor": "y5",
         "domain": [
          0.6866666666666666,
          0.8283333333333334
         ],
         "showticklabels": false
        },
        "xaxis6": {
         "anchor": "y6",
         "domain": [
          0.8583333333333333,
          1
         ],
         "showticklabels": false
        },
        "yaxis": {
         "anchor": "x",
         "domain": [
          0,
          1
         ],
         "gridcolor": "lightgray",
         "range": [
          0,
          100
         ],
         "showgrid": true
        },
        "yaxis2": {
         "anchor": "x2",
         "domain": [
          0,
          1
         ],
         "gridcolor": "lightgray",
         "matches": "y",
         "range": [
          0,
          100
         ],
         "showgrid": true,
         "showticklabels": false
        },
        "yaxis3": {
         "anchor": "x3",
         "domain": [
          0,
          1
         ],
         "gridcolor": "lightgray",
         "matches": "y",
         "range": [
          0,
          100
         ],
         "showgrid": true,
         "showticklabels": false
        },
        "yaxis4": {
         "anchor": "x4",
         "domain": [
          0,
          1
         ],
         "gridcolor": "lightgray",
         "matches": "y",
         "range": [
          0,
          100
         ],
         "showgrid": true,
         "showticklabels": false
        },
        "yaxis5": {
         "anchor": "x5",
         "domain": [
          0,
          1
         ],
         "gridcolor": "lightgray",
         "matches": "y",
         "range": [
          0,
          100
         ],
         "showgrid": true,
         "showticklabels": false
        },
        "yaxis6": {
         "anchor": "x6",
         "domain": [
          0,
          1
         ],
         "gridcolor": "lightgray",
         "matches": "y",
         "range": [
          0,
          100
         ],
         "showgrid": true,
         "showticklabels": false
        }
       }
      }
     },
     "metadata": {},
     "output_type": "display_data"
    }
   ],
   "source": [
    "fig = plot_win_rates(summary_df)\n",
    "fig.show()"
   ]
  },
  {
   "cell_type": "code",
   "execution_count": 56,
   "id": "28fa974c",
   "metadata": {},
   "outputs": [
    {
     "data": {
      "application/vnd.plotly.v1+json": {
       "config": {
        "plotlyServerURL": "https://plot.ly"
       },
       "data": [
        {
         "hovertemplate": "Env: mastermind<br>Word Limit: None<br>Model: deepseek/deepseek-r1<br>Success Rate: {y:.2f}%",
         "marker": {
          "color": "#2E91E5"
         },
         "name": "deepseek/deepseek-r1",
         "showlegend": true,
         "type": "bar",
         "width": 0.8,
         "x": [
          "deepseek/deepseek-r1"
         ],
         "xaxis": "x",
         "y": {
          "bdata": "AAAAAAAAWUA=",
          "dtype": "f8"
         },
         "yaxis": "y"
        },
        {
         "hovertemplate": "Env: murder_mystery<br>Word Limit: None<br>Model: deepseek/deepseek-r1<br>Success Rate: {y:.2f}%",
         "marker": {
          "color": "#2E91E5"
         },
         "name": "deepseek/deepseek-r1",
         "showlegend": false,
         "type": "bar",
         "width": 0.8,
         "x": [
          "deepseek/deepseek-r1"
         ],
         "xaxis": "x2",
         "y": {
          "bdata": "AAAAAAAAWUA=",
          "dtype": "f8"
         },
         "yaxis": "y2"
        },
        {
         "hovertemplate": "Env: twenty_questions<br>Word Limit: None<br>Model: deepseek/deepseek-r1<br>Success Rate: {y:.2f}%",
         "marker": {
          "color": "#2E91E5"
         },
         "name": "deepseek/deepseek-r1",
         "showlegend": false,
         "type": "bar",
         "width": 0.8,
         "x": [
          "deepseek/deepseek-r1"
         ],
         "xaxis": "x3",
         "y": {
          "bdata": "AAAAAAAAAAA=",
          "dtype": "f8"
         },
         "yaxis": "y3"
        },
        {
         "hovertemplate": "Env: wordle<br>Word Limit: None<br>Model: deepseek/deepseek-r1<br>Success Rate: {y:.2f}%",
         "marker": {
          "color": "#2E91E5"
         },
         "name": "deepseek/deepseek-r1",
         "showlegend": false,
         "type": "bar",
         "width": 0.8,
         "x": [
          "deepseek/deepseek-r1"
         ],
         "xaxis": "x4",
         "y": {
          "bdata": "AAAAAAAAWUA=",
          "dtype": "f8"
         },
         "yaxis": "y4"
        }
       ],
       "layout": {
        "annotations": [
         {
          "font": {
           "size": 16
          },
          "showarrow": false,
          "text": "mastermind",
          "x": 0.0875,
          "xanchor": "center",
          "xref": "paper",
          "y": 1,
          "yanchor": "bottom",
          "yref": "paper"
         },
         {
          "font": {
           "size": 16
          },
          "showarrow": false,
          "text": "murder_mystery",
          "x": 0.36250000000000004,
          "xanchor": "center",
          "xref": "paper",
          "y": 1,
          "yanchor": "bottom",
          "yref": "paper"
         },
         {
          "font": {
           "size": 16
          },
          "showarrow": false,
          "text": "twenty_questions",
          "x": 0.6375000000000001,
          "xanchor": "center",
          "xref": "paper",
          "y": 1,
          "yanchor": "bottom",
          "yref": "paper"
         },
         {
          "font": {
           "size": 16
          },
          "showarrow": false,
          "text": "wordle",
          "x": 0.9125,
          "xanchor": "center",
          "xref": "paper",
          "y": 1,
          "yanchor": "bottom",
          "yref": "paper"
         },
         {
          "font": {
           "size": 14
          },
          "showarrow": false,
          "text": "Word Limit: None",
          "x": 0.1,
          "xref": "paper",
          "y": 0.95,
          "yref": "paper"
         }
        ],
        "barmode": "group",
        "font": {
         "family": "Computer Modern, serif",
         "size": 16
        },
        "height": 350,
        "legend": {
         "bgcolor": "rgba(255,255,255,0.9)",
         "bordercolor": "black",
         "borderwidth": 1,
         "orientation": "h",
         "title": {
          "text": "Models"
         },
         "x": 0.5,
         "xanchor": "center",
         "y": 1.18,
         "yanchor": "bottom"
        },
        "margin": {
         "b": 50,
         "l": 80,
         "r": 20,
         "t": 100
        },
        "plot_bgcolor": "white",
        "showlegend": true,
        "template": {
         "data": {
          "bar": [
           {
            "error_x": {
             "color": "rgb(36,36,36)"
            },
            "error_y": {
             "color": "rgb(36,36,36)"
            },
            "marker": {
             "line": {
              "color": "white",
              "width": 0.5
             },
             "pattern": {
              "fillmode": "overlay",
              "size": 10,
              "solidity": 0.2
             }
            },
            "type": "bar"
           }
          ],
          "barpolar": [
           {
            "marker": {
             "line": {
              "color": "white",
              "width": 0.5
             },
             "pattern": {
              "fillmode": "overlay",
              "size": 10,
              "solidity": 0.2
             }
            },
            "type": "barpolar"
           }
          ],
          "carpet": [
           {
            "aaxis": {
             "endlinecolor": "rgb(36,36,36)",
             "gridcolor": "white",
             "linecolor": "white",
             "minorgridcolor": "white",
             "startlinecolor": "rgb(36,36,36)"
            },
            "baxis": {
             "endlinecolor": "rgb(36,36,36)",
             "gridcolor": "white",
             "linecolor": "white",
             "minorgridcolor": "white",
             "startlinecolor": "rgb(36,36,36)"
            },
            "type": "carpet"
           }
          ],
          "choropleth": [
           {
            "colorbar": {
             "outlinewidth": 1,
             "tickcolor": "rgb(36,36,36)",
             "ticks": "outside"
            },
            "type": "choropleth"
           }
          ],
          "contour": [
           {
            "colorbar": {
             "outlinewidth": 1,
             "tickcolor": "rgb(36,36,36)",
             "ticks": "outside"
            },
            "colorscale": [
             [
              0,
              "#440154"
             ],
             [
              0.1111111111111111,
              "#482878"
             ],
             [
              0.2222222222222222,
              "#3e4989"
             ],
             [
              0.3333333333333333,
              "#31688e"
             ],
             [
              0.4444444444444444,
              "#26828e"
             ],
             [
              0.5555555555555556,
              "#1f9e89"
             ],
             [
              0.6666666666666666,
              "#35b779"
             ],
             [
              0.7777777777777778,
              "#6ece58"
             ],
             [
              0.8888888888888888,
              "#b5de2b"
             ],
             [
              1,
              "#fde725"
             ]
            ],
            "type": "contour"
           }
          ],
          "contourcarpet": [
           {
            "colorbar": {
             "outlinewidth": 1,
             "tickcolor": "rgb(36,36,36)",
             "ticks": "outside"
            },
            "type": "contourcarpet"
           }
          ],
          "heatmap": [
           {
            "colorbar": {
             "outlinewidth": 1,
             "tickcolor": "rgb(36,36,36)",
             "ticks": "outside"
            },
            "colorscale": [
             [
              0,
              "#440154"
             ],
             [
              0.1111111111111111,
              "#482878"
             ],
             [
              0.2222222222222222,
              "#3e4989"
             ],
             [
              0.3333333333333333,
              "#31688e"
             ],
             [
              0.4444444444444444,
              "#26828e"
             ],
             [
              0.5555555555555556,
              "#1f9e89"
             ],
             [
              0.6666666666666666,
              "#35b779"
             ],
             [
              0.7777777777777778,
              "#6ece58"
             ],
             [
              0.8888888888888888,
              "#b5de2b"
             ],
             [
              1,
              "#fde725"
             ]
            ],
            "type": "heatmap"
           }
          ],
          "histogram": [
           {
            "marker": {
             "line": {
              "color": "white",
              "width": 0.6
             }
            },
            "type": "histogram"
           }
          ],
          "histogram2d": [
           {
            "colorbar": {
             "outlinewidth": 1,
             "tickcolor": "rgb(36,36,36)",
             "ticks": "outside"
            },
            "colorscale": [
             [
              0,
              "#440154"
             ],
             [
              0.1111111111111111,
              "#482878"
             ],
             [
              0.2222222222222222,
              "#3e4989"
             ],
             [
              0.3333333333333333,
              "#31688e"
             ],
             [
              0.4444444444444444,
              "#26828e"
             ],
             [
              0.5555555555555556,
              "#1f9e89"
             ],
             [
              0.6666666666666666,
              "#35b779"
             ],
             [
              0.7777777777777778,
              "#6ece58"
             ],
             [
              0.8888888888888888,
              "#b5de2b"
             ],
             [
              1,
              "#fde725"
             ]
            ],
            "type": "histogram2d"
           }
          ],
          "histogram2dcontour": [
           {
            "colorbar": {
             "outlinewidth": 1,
             "tickcolor": "rgb(36,36,36)",
             "ticks": "outside"
            },
            "colorscale": [
             [
              0,
              "#440154"
             ],
             [
              0.1111111111111111,
              "#482878"
             ],
             [
              0.2222222222222222,
              "#3e4989"
             ],
             [
              0.3333333333333333,
              "#31688e"
             ],
             [
              0.4444444444444444,
              "#26828e"
             ],
             [
              0.5555555555555556,
              "#1f9e89"
             ],
             [
              0.6666666666666666,
              "#35b779"
             ],
             [
              0.7777777777777778,
              "#6ece58"
             ],
             [
              0.8888888888888888,
              "#b5de2b"
             ],
             [
              1,
              "#fde725"
             ]
            ],
            "type": "histogram2dcontour"
           }
          ],
          "mesh3d": [
           {
            "colorbar": {
             "outlinewidth": 1,
             "tickcolor": "rgb(36,36,36)",
             "ticks": "outside"
            },
            "type": "mesh3d"
           }
          ],
          "parcoords": [
           {
            "line": {
             "colorbar": {
              "outlinewidth": 1,
              "tickcolor": "rgb(36,36,36)",
              "ticks": "outside"
             }
            },
            "type": "parcoords"
           }
          ],
          "pie": [
           {
            "automargin": true,
            "type": "pie"
           }
          ],
          "scatter": [
           {
            "fillpattern": {
             "fillmode": "overlay",
             "size": 10,
             "solidity": 0.2
            },
            "type": "scatter"
           }
          ],
          "scatter3d": [
           {
            "line": {
             "colorbar": {
              "outlinewidth": 1,
              "tickcolor": "rgb(36,36,36)",
              "ticks": "outside"
             }
            },
            "marker": {
             "colorbar": {
              "outlinewidth": 1,
              "tickcolor": "rgb(36,36,36)",
              "ticks": "outside"
             }
            },
            "type": "scatter3d"
           }
          ],
          "scattercarpet": [
           {
            "marker": {
             "colorbar": {
              "outlinewidth": 1,
              "tickcolor": "rgb(36,36,36)",
              "ticks": "outside"
             }
            },
            "type": "scattercarpet"
           }
          ],
          "scattergeo": [
           {
            "marker": {
             "colorbar": {
              "outlinewidth": 1,
              "tickcolor": "rgb(36,36,36)",
              "ticks": "outside"
             }
            },
            "type": "scattergeo"
           }
          ],
          "scattergl": [
           {
            "marker": {
             "colorbar": {
              "outlinewidth": 1,
              "tickcolor": "rgb(36,36,36)",
              "ticks": "outside"
             }
            },
            "type": "scattergl"
           }
          ],
          "scattermap": [
           {
            "marker": {
             "colorbar": {
              "outlinewidth": 1,
              "tickcolor": "rgb(36,36,36)",
              "ticks": "outside"
             }
            },
            "type": "scattermap"
           }
          ],
          "scattermapbox": [
           {
            "marker": {
             "colorbar": {
              "outlinewidth": 1,
              "tickcolor": "rgb(36,36,36)",
              "ticks": "outside"
             }
            },
            "type": "scattermapbox"
           }
          ],
          "scatterpolar": [
           {
            "marker": {
             "colorbar": {
              "outlinewidth": 1,
              "tickcolor": "rgb(36,36,36)",
              "ticks": "outside"
             }
            },
            "type": "scatterpolar"
           }
          ],
          "scatterpolargl": [
           {
            "marker": {
             "colorbar": {
              "outlinewidth": 1,
              "tickcolor": "rgb(36,36,36)",
              "ticks": "outside"
             }
            },
            "type": "scatterpolargl"
           }
          ],
          "scatterternary": [
           {
            "marker": {
             "colorbar": {
              "outlinewidth": 1,
              "tickcolor": "rgb(36,36,36)",
              "ticks": "outside"
             }
            },
            "type": "scatterternary"
           }
          ],
          "surface": [
           {
            "colorbar": {
             "outlinewidth": 1,
             "tickcolor": "rgb(36,36,36)",
             "ticks": "outside"
            },
            "colorscale": [
             [
              0,
              "#440154"
             ],
             [
              0.1111111111111111,
              "#482878"
             ],
             [
              0.2222222222222222,
              "#3e4989"
             ],
             [
              0.3333333333333333,
              "#31688e"
             ],
             [
              0.4444444444444444,
              "#26828e"
             ],
             [
              0.5555555555555556,
              "#1f9e89"
             ],
             [
              0.6666666666666666,
              "#35b779"
             ],
             [
              0.7777777777777778,
              "#6ece58"
             ],
             [
              0.8888888888888888,
              "#b5de2b"
             ],
             [
              1,
              "#fde725"
             ]
            ],
            "type": "surface"
           }
          ],
          "table": [
           {
            "cells": {
             "fill": {
              "color": "rgb(237,237,237)"
             },
             "line": {
              "color": "white"
             }
            },
            "header": {
             "fill": {
              "color": "rgb(217,217,217)"
             },
             "line": {
              "color": "white"
             }
            },
            "type": "table"
           }
          ]
         },
         "layout": {
          "annotationdefaults": {
           "arrowhead": 0,
           "arrowwidth": 1
          },
          "autotypenumbers": "strict",
          "coloraxis": {
           "colorbar": {
            "outlinewidth": 1,
            "tickcolor": "rgb(36,36,36)",
            "ticks": "outside"
           }
          },
          "colorscale": {
           "diverging": [
            [
             0,
             "rgb(103,0,31)"
            ],
            [
             0.1,
             "rgb(178,24,43)"
            ],
            [
             0.2,
             "rgb(214,96,77)"
            ],
            [
             0.3,
             "rgb(244,165,130)"
            ],
            [
             0.4,
             "rgb(253,219,199)"
            ],
            [
             0.5,
             "rgb(247,247,247)"
            ],
            [
             0.6,
             "rgb(209,229,240)"
            ],
            [
             0.7,
             "rgb(146,197,222)"
            ],
            [
             0.8,
             "rgb(67,147,195)"
            ],
            [
             0.9,
             "rgb(33,102,172)"
            ],
            [
             1,
             "rgb(5,48,97)"
            ]
           ],
           "sequential": [
            [
             0,
             "#440154"
            ],
            [
             0.1111111111111111,
             "#482878"
            ],
            [
             0.2222222222222222,
             "#3e4989"
            ],
            [
             0.3333333333333333,
             "#31688e"
            ],
            [
             0.4444444444444444,
             "#26828e"
            ],
            [
             0.5555555555555556,
             "#1f9e89"
            ],
            [
             0.6666666666666666,
             "#35b779"
            ],
            [
             0.7777777777777778,
             "#6ece58"
            ],
            [
             0.8888888888888888,
             "#b5de2b"
            ],
            [
             1,
             "#fde725"
            ]
           ],
           "sequentialminus": [
            [
             0,
             "#440154"
            ],
            [
             0.1111111111111111,
             "#482878"
            ],
            [
             0.2222222222222222,
             "#3e4989"
            ],
            [
             0.3333333333333333,
             "#31688e"
            ],
            [
             0.4444444444444444,
             "#26828e"
            ],
            [
             0.5555555555555556,
             "#1f9e89"
            ],
            [
             0.6666666666666666,
             "#35b779"
            ],
            [
             0.7777777777777778,
             "#6ece58"
            ],
            [
             0.8888888888888888,
             "#b5de2b"
            ],
            [
             1,
             "#fde725"
            ]
           ]
          },
          "colorway": [
           "#1F77B4",
           "#FF7F0E",
           "#2CA02C",
           "#D62728",
           "#9467BD",
           "#8C564B",
           "#E377C2",
           "#7F7F7F",
           "#BCBD22",
           "#17BECF"
          ],
          "font": {
           "color": "rgb(36,36,36)"
          },
          "geo": {
           "bgcolor": "white",
           "lakecolor": "white",
           "landcolor": "white",
           "showlakes": true,
           "showland": true,
           "subunitcolor": "white"
          },
          "hoverlabel": {
           "align": "left"
          },
          "hovermode": "closest",
          "mapbox": {
           "style": "light"
          },
          "paper_bgcolor": "white",
          "plot_bgcolor": "white",
          "polar": {
           "angularaxis": {
            "gridcolor": "rgb(232,232,232)",
            "linecolor": "rgb(36,36,36)",
            "showgrid": false,
            "showline": true,
            "ticks": "outside"
           },
           "bgcolor": "white",
           "radialaxis": {
            "gridcolor": "rgb(232,232,232)",
            "linecolor": "rgb(36,36,36)",
            "showgrid": false,
            "showline": true,
            "ticks": "outside"
           }
          },
          "scene": {
           "xaxis": {
            "backgroundcolor": "white",
            "gridcolor": "rgb(232,232,232)",
            "gridwidth": 2,
            "linecolor": "rgb(36,36,36)",
            "showbackground": true,
            "showgrid": false,
            "showline": true,
            "ticks": "outside",
            "zeroline": false,
            "zerolinecolor": "rgb(36,36,36)"
           },
           "yaxis": {
            "backgroundcolor": "white",
            "gridcolor": "rgb(232,232,232)",
            "gridwidth": 2,
            "linecolor": "rgb(36,36,36)",
            "showbackground": true,
            "showgrid": false,
            "showline": true,
            "ticks": "outside",
            "zeroline": false,
            "zerolinecolor": "rgb(36,36,36)"
           },
           "zaxis": {
            "backgroundcolor": "white",
            "gridcolor": "rgb(232,232,232)",
            "gridwidth": 2,
            "linecolor": "rgb(36,36,36)",
            "showbackground": true,
            "showgrid": false,
            "showline": true,
            "ticks": "outside",
            "zeroline": false,
            "zerolinecolor": "rgb(36,36,36)"
           }
          },
          "shapedefaults": {
           "fillcolor": "black",
           "line": {
            "width": 0
           },
           "opacity": 0.3
          },
          "ternary": {
           "aaxis": {
            "gridcolor": "rgb(232,232,232)",
            "linecolor": "rgb(36,36,36)",
            "showgrid": false,
            "showline": true,
            "ticks": "outside"
           },
           "baxis": {
            "gridcolor": "rgb(232,232,232)",
            "linecolor": "rgb(36,36,36)",
            "showgrid": false,
            "showline": true,
            "ticks": "outside"
           },
           "bgcolor": "white",
           "caxis": {
            "gridcolor": "rgb(232,232,232)",
            "linecolor": "rgb(36,36,36)",
            "showgrid": false,
            "showline": true,
            "ticks": "outside"
           }
          },
          "title": {
           "x": 0.05
          },
          "xaxis": {
           "automargin": true,
           "gridcolor": "rgb(232,232,232)",
           "linecolor": "rgb(36,36,36)",
           "showgrid": false,
           "showline": true,
           "ticks": "outside",
           "title": {
            "standoff": 15
           },
           "zeroline": false,
           "zerolinecolor": "rgb(36,36,36)"
          },
          "yaxis": {
           "automargin": true,
           "gridcolor": "rgb(232,232,232)",
           "linecolor": "rgb(36,36,36)",
           "showgrid": false,
           "showline": true,
           "ticks": "outside",
           "title": {
            "standoff": 15
           },
           "zeroline": false,
           "zerolinecolor": "rgb(36,36,36)"
          }
         }
        },
        "width": 720,
        "xaxis": {
         "anchor": "y",
         "domain": [
          0,
          0.175
         ],
         "showticklabels": false
        },
        "xaxis2": {
         "anchor": "y2",
         "domain": [
          0.275,
          0.45
         ],
         "showticklabels": false
        },
        "xaxis3": {
         "anchor": "y3",
         "domain": [
          0.55,
          0.7250000000000001
         ],
         "showticklabels": false
        },
        "xaxis4": {
         "anchor": "y4",
         "domain": [
          0.825,
          1
         ],
         "showticklabels": false
        },
        "yaxis": {
         "anchor": "x",
         "domain": [
          0,
          1
         ],
         "gridcolor": "lightgray",
         "range": [
          0,
          100
         ],
         "showgrid": true
        },
        "yaxis2": {
         "anchor": "x2",
         "domain": [
          0,
          1
         ],
         "gridcolor": "lightgray",
         "matches": "y",
         "range": [
          0,
          100
         ],
         "showgrid": true,
         "showticklabels": false
        },
        "yaxis3": {
         "anchor": "x3",
         "domain": [
          0,
          1
         ],
         "gridcolor": "lightgray",
         "matches": "y",
         "range": [
          0,
          100
         ],
         "showgrid": true,
         "showticklabels": false
        },
        "yaxis4": {
         "anchor": "x4",
         "domain": [
          0,
          1
         ],
         "gridcolor": "lightgray",
         "matches": "y",
         "range": [
          0,
          100
         ],
         "showgrid": true,
         "showticklabels": false
        }
       }
      }
     },
     "metadata": {},
     "output_type": "display_data"
    }
   ],
   "source": [
    "fig = plot_win_rates(summary_df_history)\n",
    "fig.show()"
   ]
  },
  {
   "cell_type": "code",
   "execution_count": 39,
   "id": "9e251b80",
   "metadata": {},
   "outputs": [
    {
     "data": {
      "text/plain": [
       "Index(['model', 'game_id', 'env', 'attempt', 'raw_guess', 'guess', 'response',\n",
       "       'word_limit', 'score', 'done', 'data', 'belief', 'action_reasoning',\n",
       "       'belief_reasoning'],\n",
       "      dtype='object')"
      ]
     },
     "execution_count": 39,
     "metadata": {},
     "output_type": "execute_result"
    }
   ],
   "source": [
    "df.columns"
   ]
  },
  {
   "cell_type": "code",
   "execution_count": 78,
   "id": "faa2c74a",
   "metadata": {},
   "outputs": [
    {
     "name": "stdout",
     "output_type": "stream",
     "text": [
      "20\n"
     ]
    }
   ],
   "source": [
    "wordle_sample = df[\n",
    "    (df['model'] == 'deepseek/deepseek-r1 (belief)') & \\\n",
    "        (df['env'] == 'twenty_questions') & \\\n",
    "            (df['game_id'] == str(0)) & \\\n",
    "            (df['info'] == 'belief')\n",
    "            ]\n",
    "print(len(wordle_sample))"
   ]
  },
  {
   "cell_type": "code",
   "execution_count": 79,
   "id": "f9676af4",
   "metadata": {},
   "outputs": [
    {
     "data": {
      "text/html": [
       "<div>\n",
       "<style scoped>\n",
       "    .dataframe tbody tr th:only-of-type {\n",
       "        vertical-align: middle;\n",
       "    }\n",
       "\n",
       "    .dataframe tbody tr th {\n",
       "        vertical-align: top;\n",
       "    }\n",
       "\n",
       "    .dataframe thead th {\n",
       "        text-align: right;\n",
       "    }\n",
       "</style>\n",
       "<table border=\"1\" class=\"dataframe\">\n",
       "  <thead>\n",
       "    <tr style=\"text-align: right;\">\n",
       "      <th></th>\n",
       "      <th>model</th>\n",
       "      <th>game_id</th>\n",
       "      <th>env</th>\n",
       "      <th>attempt</th>\n",
       "      <th>info</th>\n",
       "      <th>raw_guess</th>\n",
       "      <th>guess</th>\n",
       "      <th>response</th>\n",
       "      <th>word_limit</th>\n",
       "      <th>score</th>\n",
       "      <th>done</th>\n",
       "      <th>data</th>\n",
       "      <th>belief</th>\n",
       "      <th>action_reasoning</th>\n",
       "      <th>belief_reasoning</th>\n",
       "      <th>model_info</th>\n",
       "    </tr>\n",
       "  </thead>\n",
       "  <tbody>\n",
       "    <tr>\n",
       "      <th>554</th>\n",
       "      <td>deepseek/deepseek-r1 (belief)</td>\n",
       "      <td>0</td>\n",
       "      <td>twenty_questions</td>\n",
       "      <td>1</td>\n",
       "      <td>belief</td>\n",
       "      <td>&lt;Think&gt; Start by distinguishing between common...</td>\n",
       "      <td>Is the vegetable typically grown underground?</td>\n",
       "      <td>yes.</td>\n",
       "      <td>None</td>\n",
       "      <td>1.0</td>\n",
       "      <td>True</td>\n",
       "      <td>{'agent_game_scenario': 'vegetable', 'env_game...</td>\n",
       "      <td>The vegetable is a root vegetable typically gr...</td>\n",
       "      <td>Okay, so I'm trying to guess a vegetable in 20...</td>\n",
       "      <td>Okay, so I need to update the belief state aft...</td>\n",
       "      <td>deepseek/deepseek-r1 (belief)</td>\n",
       "    </tr>\n",
       "    <tr>\n",
       "      <th>555</th>\n",
       "      <td>deepseek/deepseek-r1 (belief)</td>\n",
       "      <td>0</td>\n",
       "      <td>twenty_questions</td>\n",
       "      <td>2</td>\n",
       "      <td>belief</td>\n",
       "      <td>&lt;Think&gt; Asking whether the vegetable is a bulb...</td>\n",
       "      <td>Is the vegetable a bulb, such as onion or garlic?</td>\n",
       "      <td>no.</td>\n",
       "      <td>None</td>\n",
       "      <td>2.0</td>\n",
       "      <td>True</td>\n",
       "      <td>{'agent_game_scenario': 'vegetable', 'env_game...</td>\n",
       "      <td>The vegetable is a root vegetable typically gr...</td>\n",
       "      <td>Okay, so the user is playing 20 Questions and ...</td>\n",
       "      <td>Okay, let's see. The user is playing 20 Questi...</td>\n",
       "      <td>deepseek/deepseek-r1 (belief)</td>\n",
       "    </tr>\n",
       "    <tr>\n",
       "      <th>556</th>\n",
       "      <td>deepseek/deepseek-r1 (belief)</td>\n",
       "      <td>0</td>\n",
       "      <td>twenty_questions</td>\n",
       "      <td>3</td>\n",
       "      <td>belief</td>\n",
       "      <td>&lt;Think&gt; Asking whether the vegetable is a tube...</td>\n",
       "      <td>Is the vegetable classified as a tuber (e.g., ...</td>\n",
       "      <td>yes.</td>\n",
       "      <td>None</td>\n",
       "      <td>3.0</td>\n",
       "      <td>True</td>\n",
       "      <td>{'agent_game_scenario': 'vegetable', 'env_game...</td>\n",
       "      <td>The vegetable is confirmed to be a tuber (e.g....</td>\n",
       "      <td>Okay, let's see. The belief state says it's a ...</td>\n",
       "      <td>Okay, let's break this down. The user provided...</td>\n",
       "      <td>deepseek/deepseek-r1 (belief)</td>\n",
       "    </tr>\n",
       "    <tr>\n",
       "      <th>557</th>\n",
       "      <td>deepseek/deepseek-r1 (belief)</td>\n",
       "      <td>0</td>\n",
       "      <td>twenty_questions</td>\n",
       "      <td>4</td>\n",
       "      <td>belief</td>\n",
       "      <td>&lt;Think&gt;Since the belief state confirms the veg...</td>\n",
       "      <td>Is the vegetable a potato?</td>\n",
       "      <td>no.</td>\n",
       "      <td>None</td>\n",
       "      <td>4.0</td>\n",
       "      <td>True</td>\n",
       "      <td>{'agent_game_scenario': 'vegetable', 'env_game...</td>\n",
       "      <td>The vegetable is confirmed to be a tuber, but ...</td>\n",
       "      <td>Okay, so the belief state says the vegetable i...</td>\n",
       "      <td>Okay, let's break down how to update the belie...</td>\n",
       "      <td>deepseek/deepseek-r1 (belief)</td>\n",
       "    </tr>\n",
       "    <tr>\n",
       "      <th>558</th>\n",
       "      <td>deepseek/deepseek-r1 (belief)</td>\n",
       "      <td>0</td>\n",
       "      <td>twenty_questions</td>\n",
       "      <td>5</td>\n",
       "      <td>belief</td>\n",
       "      <td>&lt;Think&gt;\\nTo differentiate between the remainin...</td>\n",
       "      <td>Is the vegetable typically smaller than a pota...</td>\n",
       "      <td>yes.</td>\n",
       "      <td>None</td>\n",
       "      <td>5.0</td>\n",
       "      <td>True</td>\n",
       "      <td>{'agent_game_scenario': 'vegetable', 'env_game...</td>\n",
       "      <td>The vegetable is a tuber, confirmed not to be ...</td>\n",
       "      <td>Okay, let's see. The user is trying to figure ...</td>\n",
       "      <td>Okay, let me process this step by step. The cu...</td>\n",
       "      <td>deepseek/deepseek-r1 (belief)</td>\n",
       "    </tr>\n",
       "    <tr>\n",
       "      <th>559</th>\n",
       "      <td>deepseek/deepseek-r1 (belief)</td>\n",
       "      <td>0</td>\n",
       "      <td>twenty_questions</td>\n",
       "      <td>6</td>\n",
       "      <td>belief</td>\n",
       "      <td>&lt;Think&gt; The belief strongly points to Jerusale...</td>\n",
       "      <td>Does the vegetable have thin, pale brown skin?</td>\n",
       "      <td>yes.</td>\n",
       "      <td>None</td>\n",
       "      <td>6.0</td>\n",
       "      <td>True</td>\n",
       "      <td>{'agent_game_scenario': 'vegetable', 'env_game...</td>\n",
       "      <td>The vegetable is a tuber smaller than a potato...</td>\n",
       "      <td>Okay, let's see. The belief state says the veg...</td>\n",
       "      <td>Okay, let me see. The user is playing 20 Quest...</td>\n",
       "      <td>deepseek/deepseek-r1 (belief)</td>\n",
       "    </tr>\n",
       "    <tr>\n",
       "      <th>560</th>\n",
       "      <td>deepseek/deepseek-r1 (belief)</td>\n",
       "      <td>0</td>\n",
       "      <td>twenty_questions</td>\n",
       "      <td>7</td>\n",
       "      <td>belief</td>\n",
       "      <td>&lt;Think&gt; The vegetable is likely a sunchoke bas...</td>\n",
       "      <td>Is the vegetable known for having a slightly n...</td>\n",
       "      <td>yes.</td>\n",
       "      <td>None</td>\n",
       "      <td>7.0</td>\n",
       "      <td>True</td>\n",
       "      <td>{'agent_game_scenario': 'vegetable', 'env_game...</td>\n",
       "      <td>The vegetable is confirmed to have a slightly ...</td>\n",
       "      <td>Okay, so based on the belief state, the curren...</td>\n",
       "      <td>Okay, the user is playing 20 Questions trying ...</td>\n",
       "      <td>deepseek/deepseek-r1 (belief)</td>\n",
       "    </tr>\n",
       "    <tr>\n",
       "      <th>561</th>\n",
       "      <td>deepseek/deepseek-r1 (belief)</td>\n",
       "      <td>0</td>\n",
       "      <td>twenty_questions</td>\n",
       "      <td>8</td>\n",
       "      <td>belief</td>\n",
       "      <td>&lt;Think&gt;The belief state strongly indicates Jer...</td>\n",
       "      <td>Is the vegetable a Jerusalem artichoke (suncho...</td>\n",
       "      <td>no.</td>\n",
       "      <td>None</td>\n",
       "      <td>8.0</td>\n",
       "      <td>True</td>\n",
       "      <td>{'agent_game_scenario': 'vegetable', 'env_game...</td>\n",
       "      <td>The vegetable is a small, knobby tuber with th...</td>\n",
       "      <td>Okay, so based on the belief state, the assist...</td>\n",
       "      <td>Okay, so the user was pretty confident that th...</td>\n",
       "      <td>deepseek/deepseek-r1 (belief)</td>\n",
       "    </tr>\n",
       "    <tr>\n",
       "      <th>562</th>\n",
       "      <td>deepseek/deepseek-r1 (belief)</td>\n",
       "      <td>0</td>\n",
       "      <td>twenty_questions</td>\n",
       "      <td>9</td>\n",
       "      <td>belief</td>\n",
       "      <td>&lt;Think&gt;To distinguish between Yacon (eaten raw...</td>\n",
       "      <td>Is the vegetable commonly eaten raw?</td>\n",
       "      <td>no.</td>\n",
       "      <td>None</td>\n",
       "      <td>9.0</td>\n",
       "      <td>True</td>\n",
       "      <td>{'agent_game_scenario': 'vegetable', 'env_game...</td>\n",
       "      <td>The vegetable is a small, knobby tuber with th...</td>\n",
       "      <td>Okay, so I'm trying to figure out which vegeta...</td>\n",
       "      <td>Okay, let me try to update the belief state ba...</td>\n",
       "      <td>deepseek/deepseek-r1 (belief)</td>\n",
       "    </tr>\n",
       "    <tr>\n",
       "      <th>563</th>\n",
       "      <td>deepseek/deepseek-r1 (belief)</td>\n",
       "      <td>0</td>\n",
       "      <td>twenty_questions</td>\n",
       "      <td>10</td>\n",
       "      <td>belief</td>\n",
       "      <td>&lt;Think&gt; To distinguish between Crosne and Chin...</td>\n",
       "      <td>Is the vegetable typically known for having a ...</td>\n",
       "      <td>yes.</td>\n",
       "      <td>None</td>\n",
       "      <td>10.0</td>\n",
       "      <td>True</td>\n",
       "      <td>{'agent_game_scenario': 'vegetable', 'env_game...</td>\n",
       "      <td>The vegetable is identified as **Crosne (Chine...</td>\n",
       "      <td>Okay, let's see. The belief state says the veg...</td>\n",
       "      <td>Okay, let me process this. The user is playing...</td>\n",
       "      <td>deepseek/deepseek-r1 (belief)</td>\n",
       "    </tr>\n",
       "    <tr>\n",
       "      <th>564</th>\n",
       "      <td>deepseek/deepseek-r1 (belief)</td>\n",
       "      <td>0</td>\n",
       "      <td>twenty_questions</td>\n",
       "      <td>11</td>\n",
       "      <td>belief</td>\n",
       "      <td>&lt;Think&gt; Given the belief that the vegetable is...</td>\n",
       "      <td>Is the vegetable characterized by small, spira...</td>\n",
       "      <td>no.</td>\n",
       "      <td>None</td>\n",
       "      <td>11.0</td>\n",
       "      <td>True</td>\n",
       "      <td>{'agent_game_scenario': 'vegetable', 'env_game...</td>\n",
       "      <td>The vegetable is **not Crosne** (spiral-shaped...</td>\n",
       "      <td>Okay, let me try to figure out the next step h...</td>\n",
       "      <td>Okay, let's process this. The current belief w...</td>\n",
       "      <td>deepseek/deepseek-r1 (belief)</td>\n",
       "    </tr>\n",
       "    <tr>\n",
       "      <th>565</th>\n",
       "      <td>deepseek/deepseek-r1 (belief)</td>\n",
       "      <td>0</td>\n",
       "      <td>twenty_questions</td>\n",
       "      <td>12</td>\n",
       "      <td>belief</td>\n",
       "      <td>&lt;Think&gt; Since the key candidates (water chestn...</td>\n",
       "      <td>Is it round and smooth?</td>\n",
       "      <td>no.</td>\n",
       "      <td>None</td>\n",
       "      <td>12.0</td>\n",
       "      <td>True</td>\n",
       "      <td>{'agent_game_scenario': 'vegetable', 'env_game...</td>\n",
       "      <td>The vegetable is **not Crosne**, potato, carro...</td>\n",
       "      <td>Okay, let's see. The user is trying to guess a...</td>\n",
       "      <td>Okay, so the user is playing 20 Questions, try...</td>\n",
       "      <td>deepseek/deepseek-r1 (belief)</td>\n",
       "    </tr>\n",
       "    <tr>\n",
       "      <th>566</th>\n",
       "      <td>deepseek/deepseek-r1 (belief)</td>\n",
       "      <td>0</td>\n",
       "      <td>twenty_questions</td>\n",
       "      <td>13</td>\n",
       "      <td>belief</td>\n",
       "      <td>&lt;Think&gt; Both candidates are knobby, so confirm...</td>\n",
       "      <td>Is the vegetable commonly used in Asian cuisine?</td>\n",
       "      <td>yes.</td>\n",
       "      <td>None</td>\n",
       "      <td>13.0</td>\n",
       "      <td>True</td>\n",
       "      <td>{'agent_game_scenario': 'vegetable', 'env_game...</td>\n",
       "      <td>Current belief: The vegetable is **not** Crosn...</td>\n",
       "      <td>Okay, let's see. The user is trying to guess a...</td>\n",
       "      <td>Okay, let me go through this step by step. The...</td>\n",
       "      <td>deepseek/deepseek-r1 (belief)</td>\n",
       "    </tr>\n",
       "    <tr>\n",
       "      <th>567</th>\n",
       "      <td>deepseek/deepseek-r1 (belief)</td>\n",
       "      <td>0</td>\n",
       "      <td>twenty_questions</td>\n",
       "      <td>14</td>\n",
       "      <td>belief</td>\n",
       "      <td>&lt;Think&gt; The belief state indicates burdock roo...</td>\n",
       "      <td>Guess: Burdock root (gobo)</td>\n",
       "      <td>no.</td>\n",
       "      <td>None</td>\n",
       "      <td>14.0</td>\n",
       "      <td>True</td>\n",
       "      <td>{'agent_game_scenario': 'vegetable', 'env_game...</td>\n",
       "      <td>&lt;BELIEW&gt;\\nCurrent belief: The vegetable is **n...</td>\n",
       "      <td>Okay, let's break this down. The belief state ...</td>\n",
       "      <td>Okay, let's see. The user was trying to guess ...</td>\n",
       "      <td>deepseek/deepseek-r1 (belief)</td>\n",
       "    </tr>\n",
       "    <tr>\n",
       "      <th>568</th>\n",
       "      <td>deepseek/deepseek-r1 (belief)</td>\n",
       "      <td>0</td>\n",
       "      <td>twenty_questions</td>\n",
       "      <td>15</td>\n",
       "      <td>belief</td>\n",
       "      <td>&lt;Think&gt; The belief state strongly points to lo...</td>\n",
       "      <td>Is the vegetable lotus root?</td>\n",
       "      <td>no.</td>\n",
       "      <td>None</td>\n",
       "      <td>15.0</td>\n",
       "      <td>True</td>\n",
       "      <td>{'agent_game_scenario': 'vegetable', 'env_game...</td>\n",
       "      <td>The vegetable is **not** Burdock root (gobo), ...</td>\n",
       "      <td>Okay, so the belief state says they've narrowe...</td>\n",
       "      <td>Okay, so the user is playing 20 Questions tryi...</td>\n",
       "      <td>deepseek/deepseek-r1 (belief)</td>\n",
       "    </tr>\n",
       "    <tr>\n",
       "      <th>569</th>\n",
       "      <td>deepseek/deepseek-r1 (belief)</td>\n",
       "      <td>0</td>\n",
       "      <td>twenty_questions</td>\n",
       "      <td>16</td>\n",
       "      <td>belief</td>\n",
       "      <td>&lt;Think&gt; To differentiate between water caltrop...</td>\n",
       "      <td>Is the vegetable characterized by horn-shaped ...</td>\n",
       "      <td>no.</td>\n",
       "      <td>None</td>\n",
       "      <td>16.0</td>\n",
       "      <td>True</td>\n",
       "      <td>{'agent_game_scenario': 'vegetable', 'env_game...</td>\n",
       "      <td>The vegetable is **not** Burdock root, Crosne,...</td>\n",
       "      <td>Okay, let's see. The user is trying to guess a...</td>\n",
       "      <td>Okay, let's see. The current belief says the v...</td>\n",
       "      <td>deepseek/deepseek-r1 (belief)</td>\n",
       "    </tr>\n",
       "    <tr>\n",
       "      <th>570</th>\n",
       "      <td>deepseek/deepseek-r1 (belief)</td>\n",
       "      <td>0</td>\n",
       "      <td>twenty_questions</td>\n",
       "      <td>17</td>\n",
       "      <td>belief</td>\n",
       "      <td>&lt;Think&gt; The key distinction is whether the veg...</td>\n",
       "      <td>Is the vegetable primarily used as a spice or ...</td>\n",
       "      <td>no.</td>\n",
       "      <td>None</td>\n",
       "      <td>17.0</td>\n",
       "      <td>True</td>\n",
       "      <td>{'agent_game_scenario': 'vegetable', 'env_game...</td>\n",
       "      <td>The vegetable is **not** Burdock root, Crosne,...</td>\n",
       "      <td>Okay, let's see. The user has narrowed down th...</td>\n",
       "      <td>Okay, let me update the belief based on the la...</td>\n",
       "      <td>deepseek/deepseek-r1 (belief)</td>\n",
       "    </tr>\n",
       "    <tr>\n",
       "      <th>571</th>\n",
       "      <td>deepseek/deepseek-r1 (belief)</td>\n",
       "      <td>0</td>\n",
       "      <td>twenty_questions</td>\n",
       "      <td>18</td>\n",
       "      <td>belief</td>\n",
       "      <td>&lt;Think&gt;Since crunchiness when cooked is confir...</td>\n",
       "      <td>Is the vegetable commonly stir-fried in Asian ...</td>\n",
       "      <td>yes.</td>\n",
       "      <td>None</td>\n",
       "      <td>18.0</td>\n",
       "      <td>True</td>\n",
       "      <td>{'agent_game_scenario': 'vegetable', 'env_game...</td>\n",
       "      <td>The vegetable is **not** Burdock root, Crosne,...</td>\n",
       "      <td>Okay, let's break this down. The user is tryin...</td>\n",
       "      <td>Okay, let's see. The user is playing 20 Questi...</td>\n",
       "      <td>deepseek/deepseek-r1 (belief)</td>\n",
       "    </tr>\n",
       "    <tr>\n",
       "      <th>572</th>\n",
       "      <td>deepseek/deepseek-r1 (belief)</td>\n",
       "      <td>0</td>\n",
       "      <td>twenty_questions</td>\n",
       "      <td>19</td>\n",
       "      <td>belief</td>\n",
       "      <td>&lt;Think&gt; Considering the narrowed possibilities...</td>\n",
       "      <td>Is the vegetable a gourd (e.g., ivy gourd)?</td>\n",
       "      <td>no.</td>\n",
       "      <td>None</td>\n",
       "      <td>19.0</td>\n",
       "      <td>True</td>\n",
       "      <td>{'agent_game_scenario': 'vegetable', 'env_game...</td>\n",
       "      <td>The vegetable is **not** Burdock root, Crosne,...</td>\n",
       "      <td>Okay, let me process the information given. Th...</td>\n",
       "      <td>Okay, let's break this down. The user is playi...</td>\n",
       "      <td>deepseek/deepseek-r1 (belief)</td>\n",
       "    </tr>\n",
       "    <tr>\n",
       "      <th>573</th>\n",
       "      <td>deepseek/deepseek-r1 (belief)</td>\n",
       "      <td>0</td>\n",
       "      <td>twenty_questions</td>\n",
       "      <td>20</td>\n",
       "      <td>belief</td>\n",
       "      <td>&lt;Think&gt;  \\nTo narrow down between the remainin...</td>\n",
       "      <td>Is the vegetable commonly recognized by a wing...</td>\n",
       "      <td>no.</td>\n",
       "      <td>None</td>\n",
       "      <td>20.0</td>\n",
       "      <td>True</td>\n",
       "      <td>{'agent_game_scenario': 'vegetable', 'env_game...</td>\n",
       "      <td>The vegetable is **not** Burdock root, Crosne,...</td>\n",
       "      <td>Okay, let's break this down. The user is tryin...</td>\n",
       "      <td>Okay, so the user is playing 20 Questions tryi...</td>\n",
       "      <td>deepseek/deepseek-r1 (belief)</td>\n",
       "    </tr>\n",
       "  </tbody>\n",
       "</table>\n",
       "</div>"
      ],
      "text/plain": [
       "                             model game_id               env  attempt    info  \\\n",
       "554  deepseek/deepseek-r1 (belief)       0  twenty_questions        1  belief   \n",
       "555  deepseek/deepseek-r1 (belief)       0  twenty_questions        2  belief   \n",
       "556  deepseek/deepseek-r1 (belief)       0  twenty_questions        3  belief   \n",
       "557  deepseek/deepseek-r1 (belief)       0  twenty_questions        4  belief   \n",
       "558  deepseek/deepseek-r1 (belief)       0  twenty_questions        5  belief   \n",
       "559  deepseek/deepseek-r1 (belief)       0  twenty_questions        6  belief   \n",
       "560  deepseek/deepseek-r1 (belief)       0  twenty_questions        7  belief   \n",
       "561  deepseek/deepseek-r1 (belief)       0  twenty_questions        8  belief   \n",
       "562  deepseek/deepseek-r1 (belief)       0  twenty_questions        9  belief   \n",
       "563  deepseek/deepseek-r1 (belief)       0  twenty_questions       10  belief   \n",
       "564  deepseek/deepseek-r1 (belief)       0  twenty_questions       11  belief   \n",
       "565  deepseek/deepseek-r1 (belief)       0  twenty_questions       12  belief   \n",
       "566  deepseek/deepseek-r1 (belief)       0  twenty_questions       13  belief   \n",
       "567  deepseek/deepseek-r1 (belief)       0  twenty_questions       14  belief   \n",
       "568  deepseek/deepseek-r1 (belief)       0  twenty_questions       15  belief   \n",
       "569  deepseek/deepseek-r1 (belief)       0  twenty_questions       16  belief   \n",
       "570  deepseek/deepseek-r1 (belief)       0  twenty_questions       17  belief   \n",
       "571  deepseek/deepseek-r1 (belief)       0  twenty_questions       18  belief   \n",
       "572  deepseek/deepseek-r1 (belief)       0  twenty_questions       19  belief   \n",
       "573  deepseek/deepseek-r1 (belief)       0  twenty_questions       20  belief   \n",
       "\n",
       "                                             raw_guess  \\\n",
       "554  <Think> Start by distinguishing between common...   \n",
       "555  <Think> Asking whether the vegetable is a bulb...   \n",
       "556  <Think> Asking whether the vegetable is a tube...   \n",
       "557  <Think>Since the belief state confirms the veg...   \n",
       "558  <Think>\\nTo differentiate between the remainin...   \n",
       "559  <Think> The belief strongly points to Jerusale...   \n",
       "560  <Think> The vegetable is likely a sunchoke bas...   \n",
       "561  <Think>The belief state strongly indicates Jer...   \n",
       "562  <Think>To distinguish between Yacon (eaten raw...   \n",
       "563  <Think> To distinguish between Crosne and Chin...   \n",
       "564  <Think> Given the belief that the vegetable is...   \n",
       "565  <Think> Since the key candidates (water chestn...   \n",
       "566  <Think> Both candidates are knobby, so confirm...   \n",
       "567  <Think> The belief state indicates burdock roo...   \n",
       "568  <Think> The belief state strongly points to lo...   \n",
       "569  <Think> To differentiate between water caltrop...   \n",
       "570  <Think> The key distinction is whether the veg...   \n",
       "571  <Think>Since crunchiness when cooked is confir...   \n",
       "572  <Think> Considering the narrowed possibilities...   \n",
       "573  <Think>  \\nTo narrow down between the remainin...   \n",
       "\n",
       "                                                 guess response word_limit  \\\n",
       "554      Is the vegetable typically grown underground?     yes.       None   \n",
       "555  Is the vegetable a bulb, such as onion or garlic?      no.       None   \n",
       "556  Is the vegetable classified as a tuber (e.g., ...     yes.       None   \n",
       "557                         Is the vegetable a potato?      no.       None   \n",
       "558  Is the vegetable typically smaller than a pota...     yes.       None   \n",
       "559     Does the vegetable have thin, pale brown skin?     yes.       None   \n",
       "560  Is the vegetable known for having a slightly n...     yes.       None   \n",
       "561  Is the vegetable a Jerusalem artichoke (suncho...      no.       None   \n",
       "562               Is the vegetable commonly eaten raw?      no.       None   \n",
       "563  Is the vegetable typically known for having a ...     yes.       None   \n",
       "564  Is the vegetable characterized by small, spira...      no.       None   \n",
       "565                            Is it round and smooth?      no.       None   \n",
       "566   Is the vegetable commonly used in Asian cuisine?     yes.       None   \n",
       "567                         Guess: Burdock root (gobo)      no.       None   \n",
       "568                       Is the vegetable lotus root?      no.       None   \n",
       "569  Is the vegetable characterized by horn-shaped ...      no.       None   \n",
       "570  Is the vegetable primarily used as a spice or ...      no.       None   \n",
       "571  Is the vegetable commonly stir-fried in Asian ...     yes.       None   \n",
       "572        Is the vegetable a gourd (e.g., ivy gourd)?      no.       None   \n",
       "573  Is the vegetable commonly recognized by a wing...      no.       None   \n",
       "\n",
       "     score  done                                               data  \\\n",
       "554    1.0  True  {'agent_game_scenario': 'vegetable', 'env_game...   \n",
       "555    2.0  True  {'agent_game_scenario': 'vegetable', 'env_game...   \n",
       "556    3.0  True  {'agent_game_scenario': 'vegetable', 'env_game...   \n",
       "557    4.0  True  {'agent_game_scenario': 'vegetable', 'env_game...   \n",
       "558    5.0  True  {'agent_game_scenario': 'vegetable', 'env_game...   \n",
       "559    6.0  True  {'agent_game_scenario': 'vegetable', 'env_game...   \n",
       "560    7.0  True  {'agent_game_scenario': 'vegetable', 'env_game...   \n",
       "561    8.0  True  {'agent_game_scenario': 'vegetable', 'env_game...   \n",
       "562    9.0  True  {'agent_game_scenario': 'vegetable', 'env_game...   \n",
       "563   10.0  True  {'agent_game_scenario': 'vegetable', 'env_game...   \n",
       "564   11.0  True  {'agent_game_scenario': 'vegetable', 'env_game...   \n",
       "565   12.0  True  {'agent_game_scenario': 'vegetable', 'env_game...   \n",
       "566   13.0  True  {'agent_game_scenario': 'vegetable', 'env_game...   \n",
       "567   14.0  True  {'agent_game_scenario': 'vegetable', 'env_game...   \n",
       "568   15.0  True  {'agent_game_scenario': 'vegetable', 'env_game...   \n",
       "569   16.0  True  {'agent_game_scenario': 'vegetable', 'env_game...   \n",
       "570   17.0  True  {'agent_game_scenario': 'vegetable', 'env_game...   \n",
       "571   18.0  True  {'agent_game_scenario': 'vegetable', 'env_game...   \n",
       "572   19.0  True  {'agent_game_scenario': 'vegetable', 'env_game...   \n",
       "573   20.0  True  {'agent_game_scenario': 'vegetable', 'env_game...   \n",
       "\n",
       "                                                belief  \\\n",
       "554  The vegetable is a root vegetable typically gr...   \n",
       "555  The vegetable is a root vegetable typically gr...   \n",
       "556  The vegetable is confirmed to be a tuber (e.g....   \n",
       "557  The vegetable is confirmed to be a tuber, but ...   \n",
       "558  The vegetable is a tuber, confirmed not to be ...   \n",
       "559  The vegetable is a tuber smaller than a potato...   \n",
       "560  The vegetable is confirmed to have a slightly ...   \n",
       "561  The vegetable is a small, knobby tuber with th...   \n",
       "562  The vegetable is a small, knobby tuber with th...   \n",
       "563  The vegetable is identified as **Crosne (Chine...   \n",
       "564  The vegetable is **not Crosne** (spiral-shaped...   \n",
       "565  The vegetable is **not Crosne**, potato, carro...   \n",
       "566  Current belief: The vegetable is **not** Crosn...   \n",
       "567  <BELIEW>\\nCurrent belief: The vegetable is **n...   \n",
       "568  The vegetable is **not** Burdock root (gobo), ...   \n",
       "569  The vegetable is **not** Burdock root, Crosne,...   \n",
       "570  The vegetable is **not** Burdock root, Crosne,...   \n",
       "571  The vegetable is **not** Burdock root, Crosne,...   \n",
       "572  The vegetable is **not** Burdock root, Crosne,...   \n",
       "573  The vegetable is **not** Burdock root, Crosne,...   \n",
       "\n",
       "                                      action_reasoning  \\\n",
       "554  Okay, so I'm trying to guess a vegetable in 20...   \n",
       "555  Okay, so the user is playing 20 Questions and ...   \n",
       "556  Okay, let's see. The belief state says it's a ...   \n",
       "557  Okay, so the belief state says the vegetable i...   \n",
       "558  Okay, let's see. The user is trying to figure ...   \n",
       "559  Okay, let's see. The belief state says the veg...   \n",
       "560  Okay, so based on the belief state, the curren...   \n",
       "561  Okay, so based on the belief state, the assist...   \n",
       "562  Okay, so I'm trying to figure out which vegeta...   \n",
       "563  Okay, let's see. The belief state says the veg...   \n",
       "564  Okay, let me try to figure out the next step h...   \n",
       "565  Okay, let's see. The user is trying to guess a...   \n",
       "566  Okay, let's see. The user is trying to guess a...   \n",
       "567  Okay, let's break this down. The belief state ...   \n",
       "568  Okay, so the belief state says they've narrowe...   \n",
       "569  Okay, let's see. The user is trying to guess a...   \n",
       "570  Okay, let's see. The user has narrowed down th...   \n",
       "571  Okay, let's break this down. The user is tryin...   \n",
       "572  Okay, let me process the information given. Th...   \n",
       "573  Okay, let's break this down. The user is tryin...   \n",
       "\n",
       "                                      belief_reasoning  \\\n",
       "554  Okay, so I need to update the belief state aft...   \n",
       "555  Okay, let's see. The user is playing 20 Questi...   \n",
       "556  Okay, let's break this down. The user provided...   \n",
       "557  Okay, let's break down how to update the belie...   \n",
       "558  Okay, let me process this step by step. The cu...   \n",
       "559  Okay, let me see. The user is playing 20 Quest...   \n",
       "560  Okay, the user is playing 20 Questions trying ...   \n",
       "561  Okay, so the user was pretty confident that th...   \n",
       "562  Okay, let me try to update the belief state ba...   \n",
       "563  Okay, let me process this. The user is playing...   \n",
       "564  Okay, let's process this. The current belief w...   \n",
       "565  Okay, so the user is playing 20 Questions, try...   \n",
       "566  Okay, let me go through this step by step. The...   \n",
       "567  Okay, let's see. The user was trying to guess ...   \n",
       "568  Okay, so the user is playing 20 Questions tryi...   \n",
       "569  Okay, let's see. The current belief says the v...   \n",
       "570  Okay, let me update the belief based on the la...   \n",
       "571  Okay, let's see. The user is playing 20 Questi...   \n",
       "572  Okay, let's break this down. The user is playi...   \n",
       "573  Okay, so the user is playing 20 Questions tryi...   \n",
       "\n",
       "                        model_info  \n",
       "554  deepseek/deepseek-r1 (belief)  \n",
       "555  deepseek/deepseek-r1 (belief)  \n",
       "556  deepseek/deepseek-r1 (belief)  \n",
       "557  deepseek/deepseek-r1 (belief)  \n",
       "558  deepseek/deepseek-r1 (belief)  \n",
       "559  deepseek/deepseek-r1 (belief)  \n",
       "560  deepseek/deepseek-r1 (belief)  \n",
       "561  deepseek/deepseek-r1 (belief)  \n",
       "562  deepseek/deepseek-r1 (belief)  \n",
       "563  deepseek/deepseek-r1 (belief)  \n",
       "564  deepseek/deepseek-r1 (belief)  \n",
       "565  deepseek/deepseek-r1 (belief)  \n",
       "566  deepseek/deepseek-r1 (belief)  \n",
       "567  deepseek/deepseek-r1 (belief)  \n",
       "568  deepseek/deepseek-r1 (belief)  \n",
       "569  deepseek/deepseek-r1 (belief)  \n",
       "570  deepseek/deepseek-r1 (belief)  \n",
       "571  deepseek/deepseek-r1 (belief)  \n",
       "572  deepseek/deepseek-r1 (belief)  \n",
       "573  deepseek/deepseek-r1 (belief)  "
      ]
     },
     "execution_count": 79,
     "metadata": {},
     "output_type": "execute_result"
    }
   ],
   "source": [
    "wordle_sample"
   ]
  },
  {
   "cell_type": "code",
   "execution_count": 85,
   "id": "2af8aebe",
   "metadata": {},
   "outputs": [
    {
     "name": "stdout",
     "output_type": "stream",
     "text": [
      "('The vegetable is **not** Burdock root, Crosne, potato, carrot, beet, Chinese '\n",
      " 'yam, water chestnut, jicama, Jerusalem artichoke, lotus root, water caltrop, '\n",
      " 'galangal, **gourd (including ivy gourd)**, Hosui pear-shaped yam, **or '\n",
      " 'winged yam (Dioscorea alata)**.  \\n'\n",
      " '**Confirmed traits**:  \\n'\n",
      " '- Crunchy when cooked.  \\n'\n",
      " '- Small, knobby, non-round/non-smooth appearance.  \\n'\n",
      " '- Pale brown skin with nutty/sweet flavor.  \\n'\n",
      " '- Asian origin (common in Asian cuisine).  \\n'\n",
      " '- Primarily used as a culinary vegetable (**not** a spice/herb).  \\n'\n",
      " '- Commonly stir-fried in Asian dishes.  \\n'\n",
      " '**Narrowed possibilities**:  \\n'\n",
      " '- Excludes winged/lobed shapes. Focus on knobby, irregularly shaped '\n",
      " 'tubers/roots.  \\n'\n",
      " '- Candidates: Lesser-known Southeast Asian tubers (e.g., *greater yam '\n",
      " 'variants*, *Taro cultivars* with knobby texture) or fibrous-textured roots '\n",
      " 'used in Thai/Malay/Indonesian stir-fries.  \\n'\n",
      " '- Key questions remaining: Distinguish between starchy vs. fibrous texture, '\n",
      " 'regional specificity (e.g., Thai vs. Filipino cuisine), or cooking methods '\n",
      " 'beyond stir-fry (e.g., soups, pickling).')\n"
     ]
    }
   ],
   "source": [
    "pp(wordle_sample.iloc[19]['belief'])"
   ]
  },
  {
   "cell_type": "code",
   "execution_count": null,
   "id": "bb344f62",
   "metadata": {},
   "outputs": [],
   "source": []
  },
  {
   "cell_type": "code",
   "execution_count": null,
   "id": "8799a5ab",
   "metadata": {},
   "outputs": [],
   "source": []
  },
  {
   "cell_type": "code",
   "execution_count": null,
   "id": "495517be",
   "metadata": {},
   "outputs": [],
   "source": []
  },
  {
   "cell_type": "code",
   "execution_count": null,
   "id": "4c57f8f7",
   "metadata": {},
   "outputs": [],
   "source": []
  },
  {
   "cell_type": "code",
   "execution_count": null,
   "id": "3df4c224",
   "metadata": {},
   "outputs": [],
   "source": []
  },
  {
   "cell_type": "code",
   "execution_count": null,
   "id": "90539d27",
   "metadata": {},
   "outputs": [],
   "source": []
  }
 ],
 "metadata": {
  "kernelspec": {
   "display_name": "verl",
   "language": "python",
   "name": "python3"
  },
  "language_info": {
   "codemirror_mode": {
    "name": "ipython",
    "version": 3
   },
   "file_extension": ".py",
   "mimetype": "text/x-python",
   "name": "python",
   "nbconvert_exporter": "python",
   "pygments_lexer": "ipython3",
   "version": "3.10.18"
  }
 },
 "nbformat": 4,
 "nbformat_minor": 5
}
