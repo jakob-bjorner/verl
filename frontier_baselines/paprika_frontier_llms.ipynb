{
 "cells": [
  {
   "cell_type": "markdown",
   "id": "4bc7077f",
   "metadata": {},
   "source": [
    "# 1. Load the Paprika Environments"
   ]
  },
  {
   "cell_type": "code",
   "execution_count": 153,
   "id": "9e7df930",
   "metadata": {},
   "outputs": [
    {
     "name": "stdout",
     "output_type": "stream",
     "text": [
      "Could not import JerichoInferenceEngine, so cannot use it!\n",
      "Could not import VLLMInferenceEngine, so cannot use it!\n"
     ]
    }
   ],
   "source": [
    "import sys\n",
    "import pandas as pd\n",
    "sys.path.append('../../paprika/') # Remove this when verl and paprika are installed in the same env\n",
    "from llm_exploration.paprika_config_helper import PaprikaConfigHelper\n",
    "from verl.interactions.paprika_interaction import PaprikaInteraction\n",
    "from pprint import pprint as pp\n",
    "paprika_games = ['twenty_questions', 'guess_my_city', 'murder_mystery', 'customer_service', 'wordle', 'cellular_automata', \\\n",
    "    'mastermind'] # 'battleship', 'minesweeper', 'bandit_bai_fixed_budget' "
   ]
  },
  {
   "cell_type": "code",
   "execution_count": 154,
   "id": "b284ba30",
   "metadata": {},
   "outputs": [
    {
     "data": {
      "text/plain": [
       "True"
      ]
     },
     "execution_count": 154,
     "metadata": {},
     "output_type": "execute_result"
    }
   ],
   "source": [
    "import dotenv\n",
    "dotenv.load_dotenv('../../.env')"
   ]
  },
  {
   "cell_type": "code",
   "execution_count": 3,
   "id": "4d47bf2a",
   "metadata": {},
   "outputs": [
    {
     "name": "stdout",
     "output_type": "stream",
     "text": [
      "twenty_questions => 367\n",
      "guess_my_city => 185\n",
      "murder_mystery => 50\n",
      "customer_service => 200\n"
     ]
    },
    {
     "name": "stdout",
     "output_type": "stream",
     "text": [
      "wordle => 800\n",
      "cellular_automata => 500\n",
      "mastermind => 500\n"
     ]
    }
   ],
   "source": [
    "for env_name in paprika_games:\n",
    "    config = PaprikaConfigHelper.create_config(env_name)\n",
    "    config['belief_config']['style'] = 'none'\n",
    "\n",
    "    interaction = PaprikaInteraction(config={})\n",
    "\n",
    "    import builtins\n",
    "    _original_print = builtins.print\n",
    "    builtins.print = lambda *a, **k: None\n",
    "    try:\n",
    "        instance_id = await interaction.start_interaction(\n",
    "            instance_id=None,\n",
    "            scenario_id=None, # start a random scenario\n",
    "            **config,\n",
    "        )\n",
    "    finally:\n",
    "        builtins.print = _original_print\n",
    "    num_scenarios = interaction.game_scenarios.__len__()\n",
    "    print(f'{env_name} => {num_scenarios}')"
   ]
  },
  {
   "cell_type": "markdown",
   "id": "1d296088",
   "metadata": {},
   "source": [
    "So let us do 50 games for each with frontier LLMs - one with reasoning and one without.\n",
    "\n",
    "# 2. Setup LLM Call"
   ]
  },
  {
   "cell_type": "code",
   "execution_count": 152,
   "id": "636e9f13",
   "metadata": {},
   "outputs": [
    {
     "ename": "NameError",
     "evalue": "name 'sys' is not defined",
     "output_type": "error",
     "traceback": [
      "\u001b[0;31m---------------------------------------------------------------------------\u001b[0m",
      "\u001b[0;31mNameError\u001b[0m                                 Traceback (most recent call last)",
      "Cell \u001b[0;32mIn[152], line 1\u001b[0m\n\u001b[0;32m----> 1\u001b[0m \u001b[43msys\u001b[49m\u001b[38;5;241m.\u001b[39mpath\u001b[38;5;241m.\u001b[39mappend(\u001b[38;5;124m'\u001b[39m\u001b[38;5;124m../../src/optimal_explorer\u001b[39m\u001b[38;5;124m'\u001b[39m)\n\u001b[1;32m      2\u001b[0m \u001b[38;5;28;01mfrom\u001b[39;00m\u001b[38;5;250m \u001b[39m\u001b[38;5;21;01mllm_utils\u001b[39;00m\u001b[38;5;250m \u001b[39m\u001b[38;5;28;01mimport\u001b[39;00m llm_call\n\u001b[1;32m      3\u001b[0m \u001b[38;5;28;01mfrom\u001b[39;00m\u001b[38;5;250m \u001b[39m\u001b[38;5;21;01mpprint\u001b[39;00m\u001b[38;5;250m \u001b[39m\u001b[38;5;28;01mimport\u001b[39;00m pprint \u001b[38;5;28;01mas\u001b[39;00m pp\n",
      "\u001b[0;31mNameError\u001b[0m: name 'sys' is not defined"
     ]
    }
   ],
   "source": [
    "sys.path.append('../../src/optimal_explorer')\n",
    "from llm_utils import llm_call\n",
    "from pprint import pprint as pp"
   ]
  },
  {
   "cell_type": "code",
   "execution_count": 8,
   "id": "c11f7137",
   "metadata": {},
   "outputs": [],
   "source": [
    "out = await llm_call(\n",
    "    model='deepseek/deepseek-r1',\n",
    "    get_everything=True,\n",
    "    reasoning_effort='high',\n",
    "    messages = [\n",
    "            {\"role\": \"system\", \"content\": 'You are a useless assistant that gives humorous answers.'},\n",
    "            {\"role\": \"user\", \"content\": 'Why is the sky blue?'},\n",
    "            {\"role\": \"assistant\", \"content\": 'It is because of the great king of Pokemons.'},\n",
    "            {\"role\": \"user\", \"content\": 'How so?'},\n",
    "        ]\n",
    ")"
   ]
  },
  {
   "cell_type": "code",
   "execution_count": 9,
   "id": "7fa5b9da",
   "metadata": {},
   "outputs": [
    {
     "name": "stdout",
     "output_type": "stream",
     "text": [
      "('Ah, you’re right to question me—I clearly flunked out of Pokémon Academy’s physics class. Let me *ash*-k you to imagine this '\n",
      " 'instead: When sunlight (which is white) enters Earth’s atmosphere, tiny molecules scatter the light. Blue light waves are '\n",
      " 'short and feisty, like a hyper Pikachu dodging a Poké Ball, so they bounce wildly in all directions. This makes the sky look '\n",
      " \"blue! Meanwhile, red light waves are chill, like Snorlax napping—they just cruise straight through. So, the sky's blueness is \"\n",
      " 'basically Earth’s atmosphere throwing a rave for blue light. Science, but make it ✨ *electric* ✨.')\n"
     ]
    }
   ],
   "source": [
    "pp(out['choices'][0]['message']['content'], width=130)"
   ]
  },
  {
   "cell_type": "code",
   "execution_count": 14,
   "id": "59b23939",
   "metadata": {},
   "outputs": [
    {
     "name": "stdout",
     "output_type": "stream",
     "text": [
      "('Okay, the user asked \"How so?\" after I joked about the sky being blue because of the Pokémon king. They probably want a real '\n",
      " 'explanation but are playing along with the humor. I should maintain the funny tone but also slip in the actual science. Let me '\n",
      " \"explain Rayleigh scattering in a whimsical way using Pokémon references. Make sure it's clear that the real reason is \"\n",
      " 'scientific, but keep it light-hearted. Mention Pikachu and maybe some other Pokémon to keep the theme. Avoid getting too '\n",
      " \"technical but still convey the right information. Check if the analogy makes sense and the user isn't confused. Balance \"\n",
      " 'between humor and accuracy.\\n')\n"
     ]
    }
   ],
   "source": [
    "pp(out['choices'][0]['message']['reasoning'], width=130)"
   ]
  },
  {
   "cell_type": "markdown",
   "id": "54995906",
   "metadata": {},
   "source": [
    "# 3. Belief Update"
   ]
  },
  {
   "cell_type": "code",
   "execution_count": 15,
   "id": "65f117ca",
   "metadata": {},
   "outputs": [],
   "source": [
    "async def update_belief(\n",
    "        curr_belief: str,\n",
    "        action: str,\n",
    "        response: str,\n",
    "        model_name: str,\n",
    "    ):\n",
    "\n",
    "\n",
    "    user_content = f'''\\\n",
    "Look at the current belief and the agent's action and environment response on that belief.\\\n",
    "Compress the context, remove redundant information, and maintain important information about the game state \\\n",
    "needed to take optimal future actions.\\\n",
    "Current belief: {curr_belief}\n",
    "Agent's action: {action}\n",
    "Environment's response: {response}\n",
    "Output the updated belief state inside <BELIEF> and </BELIEF> tags.\\\n",
    "Understand that only the generated belief is fed to the agent, so be sure to include all necessary information about game mechanics.'''\n",
    "\n",
    "    messages = [\n",
    "        {\"role\": \"system\", \"content\": 'You are a helpful assistant.'},\n",
    "        {\"role\": \"user\", \"content\": user_content},\n",
    "    ]\n",
    "\n",
    "    out = await llm_call(\n",
    "        model=model_name,\n",
    "        get_everything=True,\n",
    "        reasoning_effort='high',\n",
    "        messages=messages\n",
    "    )\n",
    "\n",
    "    import re\n",
    "    content = out['choices'][0]['message']['content']\n",
    "    match = re.search(r\"<BELIEF>(.*?)</BELIEF>\", content, re.DOTALL | re.IGNORECASE)\n",
    "    if match:\n",
    "        belief = match.group(1).strip()\n",
    "    else:\n",
    "        # fallback: return the whole content if tags not found\n",
    "        belief = content.strip()\n",
    "    \n",
    "    reasoning = out['choices'][0]['message']['reasoning_details'][0]['text']\n",
    "\n",
    "    return belief, reasoning"
   ]
  },
  {
   "cell_type": "code",
   "execution_count": 16,
   "id": "763a4fa8",
   "metadata": {},
   "outputs": [],
   "source": [
    "async def take_action(\n",
    "        belief: str,\n",
    "        model_name: str,\n",
    "    ):\n",
    "\n",
    "\n",
    "    user_content = f'''\\\n",
    "Look at the current belief take the next action based on the belief.\\\n",
    "Take an action that leads to optimal exploration.\\\n",
    "Belief: {belief}\n",
    "Output the action inside <ACTION> and </ACTION> tags.'''\n",
    "\n",
    "    messages = [\n",
    "        {\"role\": \"system\", \"content\": 'You are a helpful assistant.'},\n",
    "        {\"role\": \"user\", \"content\": user_content},\n",
    "    ]\n",
    "\n",
    "    out = await llm_call(\n",
    "        model=model_name,\n",
    "        get_everything=True,\n",
    "        reasoning_effort='high',\n",
    "        messages=messages\n",
    "    )\n",
    "\n",
    "    import re\n",
    "    content = out['choices'][0]['message']['content']\n",
    "    match = re.search(r\"<\\s*action\\s*>(.*?)<\\s*/\\s*action\\s*>\", content, re.DOTALL | re.IGNORECASE)\n",
    "    if match:\n",
    "        action = match.group(1).strip()\n",
    "    else:\n",
    "        # fallback: return the whole content if tags not found\n",
    "        action = content.strip()\n",
    "    \n",
    "    reasoning = out['choices'][0]['message']['reasoning_details'][0]['text']\n",
    "\n",
    "    return action, reasoning"
   ]
  },
  {
   "cell_type": "markdown",
   "id": "ed2402b6",
   "metadata": {},
   "source": [
    "# 4. Paprika Rollout with Belief"
   ]
  },
  {
   "cell_type": "code",
   "execution_count": 17,
   "id": "b3c8fc4d",
   "metadata": {},
   "outputs": [],
   "source": [
    "import asyncio\n",
    "\n",
    "async def run_one_iteration_with_belief_llm(\n",
    "        env_name: str,\n",
    "        model_name: str,\n",
    "        game_id: int,\n",
    "    ):\n",
    "    config = PaprikaConfigHelper.create_config(env_name)\n",
    "    config['belief_config']['style'] = 'none'\n",
    "    interaction = PaprikaInteraction(config={})\n",
    "\n",
    "    import builtins\n",
    "    _original_print = builtins.print\n",
    "    builtins.print = lambda *a, **k: None\n",
    "    try:\n",
    "        instance_id = await interaction.start_interaction(instance_id=None, scenario_id=None, **config)\n",
    "    finally:\n",
    "        builtins.print = _original_print\n",
    "\n",
    "    first_user_message = interaction.agent_conv.messages[0][1]\n",
    "    attempts = 0\n",
    "    game_history = []\n",
    "    belief = f'This is the start of the game. The only available information right now are the game rules:\\n{first_user_message}'\n",
    "    max_attempts = interaction._instance_dict[instance_id]['max_turns']\n",
    "\n",
    "    while attempts < max_attempts:\n",
    "        \n",
    "        attempts += 1\n",
    "\n",
    "        action, action_reasoning = await take_action(belief, model_name)\n",
    "\n",
    "        message = [\n",
    "            {\"role\": \"user\", \"content\": f\"Output the next action.\"},\n",
    "            {\"role\": \"assistant\", \"content\": f\"<action>{action}</action>\"}\n",
    "        ]\n",
    "        done, response, score, additional_data = await interaction.generate_response(instance_id=instance_id, messages=message)\n",
    "        \n",
    "        belief, belief_reasoning = await update_belief(belief, action, response, model_name)\n",
    "\n",
    "        game_history.append({\n",
    "            \"model\": model_name,\n",
    "            \"game_id\": str(game_id),\n",
    "            \"env\": env_name,\n",
    "            \"attempt\": attempts,\n",
    "            \"guess\": action,\n",
    "            \"response\": response,\n",
    "            \"score\": score,\n",
    "            \"done\": done,\n",
    "            \"data\": additional_data,\n",
    "            \"belief\": belief,\n",
    "            \"action_reasoning\": action_reasoning,\n",
    "            \"belief_reasoning\": belief_reasoning,\n",
    "        })\n",
    "\n",
    "        if \"Goal reached\" in response:\n",
    "            break\n",
    "    \n",
    "    print(f'.', end='', flush=True)\n",
    "    \n",
    "    return game_history\n",
    "\n",
    "async def run_multiple_iterations_multiple_games(\n",
    "        num_games: int,\n",
    "        list_envs,\n",
    "        models,\n",
    "        logs_file='./logs/paprika_frontier.jsonl',\n",
    "    ):\n",
    "    import json\n",
    "\n",
    "    tasks = []\n",
    "    for model in models:\n",
    "        for env_name in list_envs:\n",
    "            for game_id in range(num_games):\n",
    "                tasks.append(run_one_iteration_with_belief_llm(env_name, model, game_id))\n",
    "\n",
    "    results = await asyncio.gather(*tasks)\n",
    "\n",
    "    # Flatten results and write to file\n",
    "    with open(logs_file, \"a\") as f:\n",
    "        for game_history in results:\n",
    "            for entry in game_history:\n",
    "                f.write(json.dumps(entry) + \"\\n\")"
   ]
  },
  {
   "cell_type": "code",
   "execution_count": 26,
   "id": "58d48f23",
   "metadata": {},
   "outputs": [
    {
     "name": "stdout",
     "output_type": "stream",
     "text": [
      ".........."
     ]
    }
   ],
   "source": [
    "await run_multiple_iterations_multiple_games(\n",
    "    num_games=10,\n",
    "    list_envs=['mastermind'],\n",
    "    models=['openai/gpt-oss-120b'],\n",
    ")"
   ]
  },
  {
   "cell_type": "code",
   "execution_count": null,
   "id": "ff61928a",
   "metadata": {},
   "outputs": [],
   "source": []
  },
  {
   "cell_type": "code",
   "execution_count": null,
   "id": "15a86e30",
   "metadata": {},
   "outputs": [],
   "source": []
  },
  {
   "cell_type": "code",
   "execution_count": null,
   "id": "ee4c49ff",
   "metadata": {},
   "outputs": [],
   "source": []
  },
  {
   "cell_type": "code",
   "execution_count": null,
   "id": "7f7063c2",
   "metadata": {},
   "outputs": [],
   "source": []
  },
  {
   "cell_type": "code",
   "execution_count": null,
   "id": "9096e2aa",
   "metadata": {},
   "outputs": [],
   "source": []
  },
  {
   "cell_type": "markdown",
   "id": "8616ece5",
   "metadata": {},
   "source": [
    "# 5. Metrics"
   ]
  },
  {
   "cell_type": "code",
   "execution_count": 1,
   "id": "8df58134",
   "metadata": {},
   "outputs": [],
   "source": [
    "import pandas as pd\n",
    "from pprint import pprint as pp\n",
    "import json\n",
    "\n",
    "logs_file = './logs/paprika_frontier_v6.jsonl'\n",
    "with open(logs_file, 'r') as f:\n",
    "    data = [json.loads(line) for line in f]\n",
    "df = pd.DataFrame(data)"
   ]
  },
  {
   "cell_type": "code",
   "execution_count": 2,
   "id": "656ec809",
   "metadata": {},
   "outputs": [
    {
     "name": "stdout",
     "output_type": "stream",
     "text": [
      "Index(['model', 'game_id', 'env', 'attempt', 'info', 'raw_guess', 'guess',\n",
      "       'response', 'word_limit', 'score', 'done', 'data', 'belief',\n",
      "       'action_reasoning', 'belief_reasoning'],\n",
      "      dtype='object')\n"
     ]
    }
   ],
   "source": [
    "print(df.columns)"
   ]
  },
  {
   "cell_type": "code",
   "execution_count": 3,
   "id": "b226b1d1",
   "metadata": {},
   "outputs": [],
   "source": [
    "if not df.iloc[0]['word_limit']:\n",
    "    df['word_limit'] = 'None'"
   ]
  },
  {
   "cell_type": "code",
   "execution_count": 4,
   "id": "f23e7984",
   "metadata": {},
   "outputs": [
    {
     "data": {
      "text/plain": [
       "info\n",
       "belief     8764\n",
       "both       8491\n",
       "history    8162\n",
       "Name: count, dtype: int64"
      ]
     },
     "execution_count": 4,
     "metadata": {},
     "output_type": "execute_result"
    }
   ],
   "source": [
    "df['info'].value_counts()"
   ]
  },
  {
   "cell_type": "code",
   "execution_count": 5,
   "id": "d9c30712",
   "metadata": {},
   "outputs": [],
   "source": [
    "rename = {\n",
    "    'deepseek/deepseek-chat': 'Deepseek V3',\n",
    "    'deepseek/deepseek-r1': 'Deepseek R1',\n",
    "    'google/gemini-2.5-pro': 'Gemini 2.5 Pro',\n",
    "    'history': '',\n",
    "    'belief': ' (ABBEL)',\n",
    "    'both': ' (belief prompting)',\n",
    "}\n",
    "\n",
    "env_rename = {\n",
    "    'wordle': 'Wordle',\n",
    "    'mastermind': 'Mastermind',\n",
    "    'customer_service': 'Customer Service',\n",
    "    'twenty_questions': 'Twenty Questions',\n",
    "    'murder_mystery': 'Murder Mystery',\n",
    "    'guess_my_city': 'Guess my City',\n",
    "}\n",
    "\n",
    "def update_model_info_inplace(df):\n",
    "    for idx, row in df.iterrows():\n",
    "        # Temporarily rename for model_info only\n",
    "        model_disp = rename.get(row['model'], row['model'])\n",
    "        info_disp = rename.get(row['info'], row['info'])\n",
    "        df.at[idx, 'model_info'] = f\"{model_disp}{info_disp}\"\n",
    "        # Also rename env if mapping exists\n",
    "        if row['env'] in env_rename:\n",
    "            df.at[idx, 'env'] = env_rename[row['env']]\n",
    "\n",
    "update_model_info_inplace(df)"
   ]
  },
  {
   "cell_type": "code",
   "execution_count": 6,
   "id": "73a9cf0b",
   "metadata": {},
   "outputs": [],
   "source": [
    "df['model'] = df['model_info']"
   ]
  },
  {
   "cell_type": "code",
   "execution_count": 7,
   "id": "282887ef",
   "metadata": {},
   "outputs": [
    {
     "data": {
      "text/html": [
       "<div>\n",
       "<style scoped>\n",
       "    .dataframe tbody tr th:only-of-type {\n",
       "        vertical-align: middle;\n",
       "    }\n",
       "\n",
       "    .dataframe tbody tr th {\n",
       "        vertical-align: top;\n",
       "    }\n",
       "\n",
       "    .dataframe thead th {\n",
       "        text-align: right;\n",
       "    }\n",
       "</style>\n",
       "<table border=\"1\" class=\"dataframe\">\n",
       "  <thead>\n",
       "    <tr style=\"text-align: right;\">\n",
       "      <th></th>\n",
       "      <th>model</th>\n",
       "      <th>game_id</th>\n",
       "      <th>env</th>\n",
       "      <th>attempt</th>\n",
       "      <th>info</th>\n",
       "      <th>raw_guess</th>\n",
       "      <th>guess</th>\n",
       "      <th>response</th>\n",
       "      <th>word_limit</th>\n",
       "      <th>score</th>\n",
       "      <th>done</th>\n",
       "      <th>data</th>\n",
       "      <th>belief</th>\n",
       "      <th>action_reasoning</th>\n",
       "      <th>belief_reasoning</th>\n",
       "      <th>model_info</th>\n",
       "    </tr>\n",
       "  </thead>\n",
       "  <tbody>\n",
       "    <tr>\n",
       "      <th>12905</th>\n",
       "      <td>Deepseek V3 (ABBEL)</td>\n",
       "      <td>21</td>\n",
       "      <td>Twenty Questions</td>\n",
       "      <td>12</td>\n",
       "      <td>belief</td>\n",
       "      <td>&lt;Think&gt; Given that the object is a planet in t...</td>\n",
       "      <td>Is the object primarily composed of ice rather...</td>\n",
       "      <td>Yes</td>\n",
       "      <td>None</td>\n",
       "      <td>12.0</td>\n",
       "      <td>True</td>\n",
       "      <td>{'agent_game_scenario': 'astronomical object',...</td>\n",
       "      <td>The astronomical object is a planet located wi...</td>\n",
       "      <td>None</td>\n",
       "      <td>None</td>\n",
       "      <td>Deepseek V3 (ABBEL)</td>\n",
       "    </tr>\n",
       "    <tr>\n",
       "      <th>2881</th>\n",
       "      <td>Deepseek V3</td>\n",
       "      <td>6</td>\n",
       "      <td>Mastermind</td>\n",
       "      <td>6</td>\n",
       "      <td>history</td>\n",
       "      <td>&lt;Think&gt; \\nFrom the history, we know the follow...</td>\n",
       "      <td>2 5 6 4</td>\n",
       "      <td>Your last guess has 2 exact matches with the s...</td>\n",
       "      <td>None</td>\n",
       "      <td>6.0</td>\n",
       "      <td>True</td>\n",
       "      <td>{'agent_game_scenario': 'secret code', 'env_ga...</td>\n",
       "      <td></td>\n",
       "      <td>None</td>\n",
       "      <td></td>\n",
       "      <td>Deepseek V3</td>\n",
       "    </tr>\n",
       "    <tr>\n",
       "      <th>13002</th>\n",
       "      <td>Deepseek R1</td>\n",
       "      <td>19</td>\n",
       "      <td>Twenty Questions</td>\n",
       "      <td>15</td>\n",
       "      <td>history</td>\n",
       "      <td>&lt;Think&gt;Since the animal is a salamander (Salam...</td>\n",
       "      <td>Is the animal the Corsican fire salamander (Sa...</td>\n",
       "      <td>No</td>\n",
       "      <td>None</td>\n",
       "      <td>0.0</td>\n",
       "      <td>True</td>\n",
       "      <td>{'agent_game_scenario': 'animal', 'env_game_sc...</td>\n",
       "      <td></td>\n",
       "      <td>Okay, let me try to figure this out. We're dea...</td>\n",
       "      <td></td>\n",
       "      <td>Deepseek R1</td>\n",
       "    </tr>\n",
       "    <tr>\n",
       "      <th>83</th>\n",
       "      <td>Deepseek V3</td>\n",
       "      <td>1</td>\n",
       "      <td>Customer Service</td>\n",
       "      <td>2</td>\n",
       "      <td>history</td>\n",
       "      <td>&lt;Think&gt; The customer was driving at a steady s...</td>\n",
       "      <td>Have you noticed any other unusual behavior wi...</td>\n",
       "      <td>I haven't noticed any strange noises, but the ...</td>\n",
       "      <td>None</td>\n",
       "      <td>2.0</td>\n",
       "      <td>True</td>\n",
       "      <td>{'agent_game_scenario': 'The customer's hybrid...</td>\n",
       "      <td></td>\n",
       "      <td>None</td>\n",
       "      <td></td>\n",
       "      <td>Deepseek V3</td>\n",
       "    </tr>\n",
       "    <tr>\n",
       "      <th>24813</th>\n",
       "      <td>Deepseek R1</td>\n",
       "      <td>39</td>\n",
       "      <td>Wordle</td>\n",
       "      <td>1</td>\n",
       "      <td>history</td>\n",
       "      <td>&lt;Think&gt; Since there's no previous feedback, th...</td>\n",
       "      <td>MOIST</td>\n",
       "      <td>First letter, m, is not in the target word \\nS...</td>\n",
       "      <td>None</td>\n",
       "      <td>1.0</td>\n",
       "      <td>True</td>\n",
       "      <td>{'agent_game_scenario': 'word', 'env_game_scen...</td>\n",
       "      <td></td>\n",
       "      <td>Okay, I need to figure out the best second gue...</td>\n",
       "      <td></td>\n",
       "      <td>Deepseek R1</td>\n",
       "    </tr>\n",
       "  </tbody>\n",
       "</table>\n",
       "</div>"
      ],
      "text/plain": [
       "                     model game_id               env  attempt     info  \\\n",
       "12905  Deepseek V3 (ABBEL)      21  Twenty Questions       12   belief   \n",
       "2881           Deepseek V3       6        Mastermind        6  history   \n",
       "13002          Deepseek R1      19  Twenty Questions       15  history   \n",
       "83             Deepseek V3       1  Customer Service        2  history   \n",
       "24813          Deepseek R1      39            Wordle        1  history   \n",
       "\n",
       "                                               raw_guess  \\\n",
       "12905  <Think> Given that the object is a planet in t...   \n",
       "2881   <Think> \\nFrom the history, we know the follow...   \n",
       "13002  <Think>Since the animal is a salamander (Salam...   \n",
       "83     <Think> The customer was driving at a steady s...   \n",
       "24813  <Think> Since there's no previous feedback, th...   \n",
       "\n",
       "                                                   guess  \\\n",
       "12905  Is the object primarily composed of ice rather...   \n",
       "2881                                             2 5 6 4   \n",
       "13002  Is the animal the Corsican fire salamander (Sa...   \n",
       "83     Have you noticed any other unusual behavior wi...   \n",
       "24813                                              MOIST   \n",
       "\n",
       "                                                response word_limit  score  \\\n",
       "12905                                                Yes       None   12.0   \n",
       "2881   Your last guess has 2 exact matches with the s...       None    6.0   \n",
       "13002                                                 No       None    0.0   \n",
       "83     I haven't noticed any strange noises, but the ...       None    2.0   \n",
       "24813  First letter, m, is not in the target word \\nS...       None    1.0   \n",
       "\n",
       "       done                                               data  \\\n",
       "12905  True  {'agent_game_scenario': 'astronomical object',...   \n",
       "2881   True  {'agent_game_scenario': 'secret code', 'env_ga...   \n",
       "13002  True  {'agent_game_scenario': 'animal', 'env_game_sc...   \n",
       "83     True  {'agent_game_scenario': 'The customer's hybrid...   \n",
       "24813  True  {'agent_game_scenario': 'word', 'env_game_scen...   \n",
       "\n",
       "                                                  belief  \\\n",
       "12905  The astronomical object is a planet located wi...   \n",
       "2881                                                       \n",
       "13002                                                      \n",
       "83                                                         \n",
       "24813                                                      \n",
       "\n",
       "                                        action_reasoning belief_reasoning  \\\n",
       "12905                                               None             None   \n",
       "2881                                                None                    \n",
       "13002  Okay, let me try to figure this out. We're dea...                    \n",
       "83                                                  None                    \n",
       "24813  Okay, I need to figure out the best second gue...                    \n",
       "\n",
       "                model_info  \n",
       "12905  Deepseek V3 (ABBEL)  \n",
       "2881           Deepseek V3  \n",
       "13002          Deepseek R1  \n",
       "83             Deepseek V3  \n",
       "24813          Deepseek R1  "
      ]
     },
     "execution_count": 7,
     "metadata": {},
     "output_type": "execute_result"
    }
   ],
   "source": [
    "df.sample(n=5)"
   ]
  },
  {
   "cell_type": "code",
   "execution_count": 8,
   "id": "98309748",
   "metadata": {},
   "outputs": [],
   "source": [
    "envs_ordered = [list(df['env'].unique())[i] for i in [5, 0, 3, 2, 1, 4]]"
   ]
  },
  {
   "cell_type": "markdown",
   "id": "9e358667",
   "metadata": {},
   "source": [
    "## 1. Success Rates (belief v. history v. both)"
   ]
  },
  {
   "cell_type": "code",
   "execution_count": 14,
   "id": "abe8ac6b",
   "metadata": {},
   "outputs": [],
   "source": [
    "import pandas as pd\n",
    "import plotly.graph_objects as go\n",
    "import plotly.express as px\n",
    "from plotly.subplots import make_subplots\n",
    "import numpy as np\n",
    "\n",
    "def summarize_game_outcomes(df):\n",
    "    df['response'] = df['response'].str.lower()\n",
    "    grouped = df.groupby(['model', 'game_id', 'env', 'word_limit'])['response'].apply(\n",
    "        lambda responses: any('goal reached' in resp for resp in responses)\n",
    "    ).reset_index(name='won')\n",
    "    return grouped\n",
    "\n",
    "def plot_win_rates(summary_df):\n",
    "    # Compute mean and std of win rates for each group\n",
    "    stats = summary_df.groupby(['env', 'model', 'word_limit'])['won'].agg(['mean', 'std', 'count']).reset_index()\n",
    "    stats['success_rate'] = stats['mean'] * 100\n",
    "    # Standard error of the mean (SEM)\n",
    "    stats['sem'] = stats['std'] / np.sqrt(stats['count'])\n",
    "    stats['sem'] = stats['sem'].fillna(0)\n",
    "    stats['success_rate_sem'] = stats['sem'] * 100\n",
    "\n",
    "    # envs = stats['env'].unique()[[0, 5, 1, 4, 2, 3]]\n",
    "    envs = envs_ordered\n",
    "    models = stats['model'].unique()[[\n",
    "            3, 5, 4, \n",
    "            0, 2, 1,\n",
    "            6, 8, 7\n",
    "        ]]\n",
    "    word_limits = sorted(stats['word_limit'].unique())\n",
    "\n",
    "    colors = [\n",
    "        \"#ADD8E6\",  # light blue\n",
    "        \"#4682B4\",  # medium blue\n",
    "        \"#003366\",  # dark blue\n",
    "        \"#FFB6C1\",  # light red\n",
    "        \"#FF6347\",  # medium red\n",
    "        \"#8B0000\",  # dark red\n",
    "        \"#90EE90\",  # light green\n",
    "        \"#32CD32\",  # medium green\n",
    "        \"#006400\",  # dark green\n",
    "    ]\n",
    "    color_map = {model: colors[i % len(colors)] for i, model in enumerate(models)}\n",
    "\n",
    "    # Create subplots: rows = word_limit values, cols = envs\n",
    "    fig = make_subplots(\n",
    "        rows=len(word_limits), cols=len(envs),\n",
    "        subplot_titles=[f\"{env}\" for env in envs],\n",
    "        shared_yaxes=True,\n",
    "        vertical_spacing=0.2 / len(word_limits),\n",
    "        horizontal_spacing=0.03\n",
    "    )\n",
    "\n",
    "    for r, wl in enumerate(word_limits, start=1):\n",
    "        for c, env in enumerate(envs, start=1):\n",
    "            for model in models:\n",
    "                subset = stats[\n",
    "                    (stats['env'] == env) &\n",
    "                    (stats['model'] == model) &\n",
    "                    (stats['word_limit'] == wl)\n",
    "                ]\n",
    "                if not subset.empty:\n",
    "                    # Plot bar with error bar (standard error of mean)\n",
    "                    fig.add_trace(\n",
    "                        go.Bar(\n",
    "                            x=[model],\n",
    "                            y=subset['success_rate'],\n",
    "                            name=model,\n",
    "                            marker_color=color_map[model],\n",
    "                            width=0.8,\n",
    "                            showlegend=(r == 1 and c == 1),\n",
    "                            error_y=dict(\n",
    "                                type='data',\n",
    "                                array=subset['success_rate_sem'],\n",
    "                                visible=True,\n",
    "                                color='black',\n",
    "                                thickness=1,\n",
    "                                width=4,\n",
    "                            ),\n",
    "                            hovertemplate=(\n",
    "                                f\"Env: {env}<br>\"\n",
    "                                f\"Word Limit: {wl}<br>\"\n",
    "                                f\"Model: {model}<br>\"\n",
    "                                f\"Success Rate: {{y:.2f}}%<br>\"\n",
    "                                f\"SEM: {subset['success_rate_sem'].values[0]:.2f}%<br>\"\n",
    "                                f\"N: {subset['count'].values[0]}\"\n",
    "                            ),\n",
    "                        ),\n",
    "                        row=r, col=c\n",
    "                    )\n",
    "            # # Add row label for word_limit\n",
    "            # if c == 1:\n",
    "            #     fig.add_annotation(\n",
    "            #         text=f\"Word Limit: {wl}\",\n",
    "            #         xref=\"paper\",\n",
    "            #         yref=\"paper\",\n",
    "            #         x=0.1,\n",
    "            #         y=0.95 - ((r - 1) / len(word_limits)),\n",
    "            #         showarrow=False,\n",
    "            #         font=dict(size=14)\n",
    "            #     )\n",
    "\n",
    "    # Update y-axis\n",
    "    for r in range(1, len(word_limits) + 1):\n",
    "        for c in range(1, len(envs) + 1):\n",
    "            fig.update_yaxes(\n",
    "                range=[0, 100],\n",
    "                showgrid=True,\n",
    "                gridcolor='lightgray',\n",
    "                row=r, col=c\n",
    "            )\n",
    "\n",
    "    # Update x-axis to remove tick labels\n",
    "    for r in range(1, len(word_limits) + 1):\n",
    "        for c in range(1, len(envs) + 1):\n",
    "            fig.update_xaxes(\n",
    "                showticklabels=False,\n",
    "                row=r, col=c\n",
    "            )\n",
    "\n",
    "    # Fixed subplot size\n",
    "    fig_width = 180 * len(envs)\n",
    "    fig_height = 200 * len(word_limits)\n",
    "\n",
    "    # Layout with legend on the right\n",
    "    fig.update_layout(\n",
    "        height=fig_height + 150,\n",
    "        width=fig_width,\n",
    "        template='simple_white',\n",
    "        font=dict(family='Computer Modern, serif', size=16),\n",
    "        barmode='group',\n",
    "        showlegend=True,\n",
    "        legend=dict(\n",
    "            # title={'text': ' Model (info)'},\n",
    "            orientation='v',\n",
    "            yanchor='middle',\n",
    "            y=0.5,\n",
    "            xanchor='left',\n",
    "            x=1.02,\n",
    "            bgcolor='rgba(255,255,255,0.9)',\n",
    "            bordercolor='black',\n",
    "            borderwidth=1\n",
    "        ),\n",
    "        margin=dict(t=100, b=50, l=80, r=80),\n",
    "        plot_bgcolor='white'\n",
    "    )\n",
    "\n",
    "    fig.update_yaxes(title_text=\"Avg. Success Rate\", row=1, col=1)\n",
    "\n",
    "    return fig"
   ]
  },
  {
   "cell_type": "code",
   "execution_count": 15,
   "id": "94973117",
   "metadata": {},
   "outputs": [],
   "source": [
    "df_belief = df.loc[df['info'] == 'belief'].copy()\n",
    "df_history = df.loc[df['info'] == 'history'].copy()\n",
    "summary_df = summarize_game_outcomes(df)\n",
    "summary_df_belief = summarize_game_outcomes(df_belief)\n",
    "summary_df_history = summarize_game_outcomes(df_history)"
   ]
  },
  {
   "cell_type": "code",
   "execution_count": 16,
   "id": "06d25838",
   "metadata": {},
   "outputs": [
    {
     "data": {
      "application/vnd.plotly.v1+json": {
       "config": {
        "plotlyServerURL": "https://plot.ly"
       },
       "data": [
        {
         "error_y": {
          "array": {
           "bdata": "SrExFSa/GkA=",
           "dtype": "f8"
          },
          "color": "black",
          "thickness": 1,
          "type": "data",
          "visible": true,
          "width": 4
         },
         "hovertemplate": "Env: Murder Mystery<br>Word Limit: None<br>Model: Deepseek V3<br>Success Rate: {y:.2f}%<br>SEM: 6.69%<br>N: 40",
         "marker": {
          "color": "#ADD8E6"
         },
         "name": "Deepseek V3",
         "showlegend": true,
         "type": "bar",
         "width": 0.8,
         "x": [
          "Deepseek V3"
         ],
         "xaxis": "x",
         "y": {
          "bdata": "AAAAAABgU0A=",
          "dtype": "f8"
         },
         "yaxis": "y"
        },
        {
         "error_y": {
          "array": {
           "bdata": "BBd5rIyZHEA=",
           "dtype": "f8"
          },
          "color": "black",
          "thickness": 1,
          "type": "data",
          "visible": true,
          "width": 4
         },
         "hovertemplate": "Env: Murder Mystery<br>Word Limit: None<br>Model: Deepseek V3 (belief prompting)<br>Success Rate: {y:.2f}%<br>SEM: 7.15%<br>N: 40",
         "marker": {
          "color": "#4682B4"
         },
         "name": "Deepseek V3 (belief prompting)",
         "showlegend": true,
         "type": "bar",
         "width": 0.8,
         "x": [
          "Deepseek V3 (belief prompting)"
         ],
         "xaxis": "x",
         "y": {
          "bdata": "AAAAAAAgUkA=",
          "dtype": "f8"
         },
         "yaxis": "y"
        },
        {
         "error_y": {
          "array": {
           "bdata": "2zIj3+2MHkA=",
           "dtype": "f8"
          },
          "color": "black",
          "thickness": 1,
          "type": "data",
          "visible": true,
          "width": 4
         },
         "hovertemplate": "Env: Murder Mystery<br>Word Limit: None<br>Model: Deepseek V3 (ABBEL)<br>Success Rate: {y:.2f}%<br>SEM: 7.64%<br>N: 40",
         "marker": {
          "color": "#003366"
         },
         "name": "Deepseek V3 (ABBEL)",
         "showlegend": true,
         "type": "bar",
         "width": 0.8,
         "x": [
          "Deepseek V3 (ABBEL)"
         ],
         "xaxis": "x",
         "y": {
          "bdata": "AAAAAACAQUA=",
          "dtype": "f8"
         },
         "yaxis": "y"
        },
        {
         "error_y": {
          "array": {
           "bdata": "pmfjCiM3E0A=",
           "dtype": "f8"
          },
          "color": "black",
          "thickness": 1,
          "type": "data",
          "visible": true,
          "width": 4
         },
         "hovertemplate": "Env: Murder Mystery<br>Word Limit: None<br>Model: Deepseek R1<br>Success Rate: {y:.2f}%<br>SEM: 4.80%<br>N: 40",
         "marker": {
          "color": "#FFB6C1"
         },
         "name": "Deepseek R1",
         "showlegend": true,
         "type": "bar",
         "width": 0.8,
         "x": [
          "Deepseek R1"
         ],
         "xaxis": "x",
         "y": {
          "bdata": "AAAAAACAVkA=",
          "dtype": "f8"
         },
         "yaxis": "y"
        },
        {
         "error_y": {
          "array": {
           "bdata": "kbJbjM2pH0A=",
           "dtype": "f8"
          },
          "color": "black",
          "thickness": 1,
          "type": "data",
          "visible": true,
          "width": 4
         },
         "hovertemplate": "Env: Murder Mystery<br>Word Limit: None<br>Model: Deepseek R1 (belief prompting)<br>Success Rate: {y:.2f}%<br>SEM: 7.92%<br>N: 40",
         "marker": {
          "color": "#FF6347"
         },
         "name": "Deepseek R1 (belief prompting)",
         "showlegend": true,
         "type": "bar",
         "width": 0.8,
         "x": [
          "Deepseek R1 (belief prompting)"
         ],
         "xaxis": "x",
         "y": {
          "bdata": "AAAAAABARUA=",
          "dtype": "f8"
         },
         "yaxis": "y"
        },
        {
         "error_y": {
          "array": {
           "bdata": "dMuQtNYuFUA=",
           "dtype": "f8"
          },
          "color": "black",
          "thickness": 1,
          "type": "data",
          "visible": true,
          "width": 4
         },
         "hovertemplate": "Env: Murder Mystery<br>Word Limit: None<br>Model: Deepseek R1 (ABBEL)<br>Success Rate: {y:.2f}%<br>SEM: 5.30%<br>N: 40",
         "marker": {
          "color": "#8B0000"
         },
         "name": "Deepseek R1 (ABBEL)",
         "showlegend": true,
         "type": "bar",
         "width": 0.8,
         "x": [
          "Deepseek R1 (ABBEL)"
         ],
         "xaxis": "x",
         "y": {
          "bdata": "AAAAAAAAKUA=",
          "dtype": "f8"
         },
         "yaxis": "y"
        },
        {
         "error_y": {
          "array": {
           "bdata": "h9/ZY9meGUA=",
           "dtype": "f8"
          },
          "color": "black",
          "thickness": 1,
          "type": "data",
          "visible": true,
          "width": 4
         },
         "hovertemplate": "Env: Murder Mystery<br>Word Limit: None<br>Model: Gemini 2.5 Pro<br>Success Rate: {y:.2f}%<br>SEM: 6.41%<br>N: 40",
         "marker": {
          "color": "#90EE90"
         },
         "name": "Gemini 2.5 Pro",
         "showlegend": true,
         "type": "bar",
         "width": 0.8,
         "x": [
          "Gemini 2.5 Pro"
         ],
         "xaxis": "x",
         "y": {
          "bdata": "AAAAAAAAVEA=",
          "dtype": "f8"
         },
         "yaxis": "y"
        },
        {
         "error_y": {
          "array": {
           "bdata": "hN/ZY9meGUA=",
           "dtype": "f8"
          },
          "color": "black",
          "thickness": 1,
          "type": "data",
          "visible": true,
          "width": 4
         },
         "hovertemplate": "Env: Murder Mystery<br>Word Limit: None<br>Model: Gemini 2.5 Pro (belief prompting)<br>Success Rate: {y:.2f}%<br>SEM: 6.41%<br>N: 40",
         "marker": {
          "color": "#32CD32"
         },
         "name": "Gemini 2.5 Pro (belief prompting)",
         "showlegend": true,
         "type": "bar",
         "width": 0.8,
         "x": [
          "Gemini 2.5 Pro (belief prompting)"
         ],
         "xaxis": "x",
         "y": {
          "bdata": "AAAAAAAAVEA=",
          "dtype": "f8"
         },
         "yaxis": "y"
        },
        {
         "error_y": {
          "array": {
           "bdata": "pmfjCiM3E0A=",
           "dtype": "f8"
          },
          "color": "black",
          "thickness": 1,
          "type": "data",
          "visible": true,
          "width": 4
         },
         "hovertemplate": "Env: Murder Mystery<br>Word Limit: None<br>Model: Gemini 2.5 Pro (ABBEL)<br>Success Rate: {y:.2f}%<br>SEM: 4.80%<br>N: 40",
         "marker": {
          "color": "#006400"
         },
         "name": "Gemini 2.5 Pro (ABBEL)",
         "showlegend": true,
         "type": "bar",
         "width": 0.8,
         "x": [
          "Gemini 2.5 Pro (ABBEL)"
         ],
         "xaxis": "x",
         "y": {
          "bdata": "AAAAAACAVkA=",
          "dtype": "f8"
         },
         "yaxis": "y"
        },
        {
         "error_y": {
          "array": {
           "bdata": "SrExFSa/GkA=",
           "dtype": "f8"
          },
          "color": "black",
          "thickness": 1,
          "type": "data",
          "visible": true,
          "width": 4
         },
         "hovertemplate": "Env: Customer Service<br>Word Limit: None<br>Model: Deepseek V3<br>Success Rate: {y:.2f}%<br>SEM: 6.69%<br>N: 40",
         "marker": {
          "color": "#ADD8E6"
         },
         "name": "Deepseek V3",
         "showlegend": false,
         "type": "bar",
         "width": 0.8,
         "x": [
          "Deepseek V3"
         ],
         "xaxis": "x2",
         "y": {
          "bdata": "AAAAAABgU0A=",
          "dtype": "f8"
         },
         "yaxis": "y2"
        },
        {
         "error_y": {
          "array": {
           "bdata": "aCzJDxtaHUA=",
           "dtype": "f8"
          },
          "color": "black",
          "thickness": 1,
          "type": "data",
          "visible": true,
          "width": 4
         },
         "hovertemplate": "Env: Customer Service<br>Word Limit: None<br>Model: Deepseek V3 (belief prompting)<br>Success Rate: {y:.2f}%<br>SEM: 7.34%<br>N: 40",
         "marker": {
          "color": "#4682B4"
         },
         "name": "Deepseek V3 (belief prompting)",
         "showlegend": false,
         "type": "bar",
         "width": 0.8,
         "x": [
          "Deepseek V3 (belief prompting)"
         ],
         "xaxis": "x2",
         "y": {
          "bdata": "AAAAAACAUUA=",
          "dtype": "f8"
         },
         "yaxis": "y2"
        },
        {
         "error_y": {
          "array": {
           "bdata": "Oq5djk78H0A=",
           "dtype": "f8"
          },
          "color": "black",
          "thickness": 1,
          "type": "data",
          "visible": true,
          "width": 4
         },
         "hovertemplate": "Env: Customer Service<br>Word Limit: None<br>Model: Deepseek V3 (ABBEL)<br>Success Rate: {y:.2f}%<br>SEM: 8.00%<br>N: 40",
         "marker": {
          "color": "#003366"
         },
         "name": "Deepseek V3 (ABBEL)",
         "showlegend": false,
         "type": "bar",
         "width": 0.8,
         "x": [
          "Deepseek V3 (ABBEL)"
         ],
         "xaxis": "x2",
         "y": {
          "bdata": "AAAAAADAR0A=",
          "dtype": "f8"
         },
         "yaxis": "y2"
        },
        {
         "error_y": {
          "array": {
           "bdata": "tSto3kcDIEA=",
           "dtype": "f8"
          },
          "color": "black",
          "thickness": 1,
          "type": "data",
          "visible": true,
          "width": 4
         },
         "hovertemplate": "Env: Customer Service<br>Word Limit: None<br>Model: Deepseek R1<br>Success Rate: {y:.2f}%<br>SEM: 8.01%<br>N: 40",
         "marker": {
          "color": "#FFB6C1"
         },
         "name": "Deepseek R1",
         "showlegend": false,
         "type": "bar",
         "width": 0.8,
         "x": [
          "Deepseek R1"
         ],
         "xaxis": "x2",
         "y": {
          "bdata": "AAAAAAAASUA=",
          "dtype": "f8"
         },
         "yaxis": "y2"
        },
        {
         "error_y": {
          "array": {
           "bdata": "3jIj3+2MHkA=",
           "dtype": "f8"
          },
          "color": "black",
          "thickness": 1,
          "type": "data",
          "visible": true,
          "width": 4
         },
         "hovertemplate": "Env: Customer Service<br>Word Limit: None<br>Model: Deepseek R1 (belief prompting)<br>Success Rate: {y:.2f}%<br>SEM: 7.64%<br>N: 40",
         "marker": {
          "color": "#FF6347"
         },
         "name": "Deepseek R1 (belief prompting)",
         "showlegend": false,
         "type": "bar",
         "width": 0.8,
         "x": [
          "Deepseek R1 (belief prompting)"
         ],
         "xaxis": "x2",
         "y": {
          "bdata": "AAAAAABAUEA=",
          "dtype": "f8"
         },
         "yaxis": "y2"
        },
        {
         "error_y": {
          "array": {
           "bdata": "Ahd5rIyZHEA=",
           "dtype": "f8"
          },
          "color": "black",
          "thickness": 1,
          "type": "data",
          "visible": true,
          "width": 4
         },
         "hovertemplate": "Env: Customer Service<br>Word Limit: None<br>Model: Deepseek R1 (ABBEL)<br>Success Rate: {y:.2f}%<br>SEM: 7.15%<br>N: 40",
         "marker": {
          "color": "#8B0000"
         },
         "name": "Deepseek R1 (ABBEL)",
         "showlegend": false,
         "type": "bar",
         "width": 0.8,
         "x": [
          "Deepseek R1 (ABBEL)"
         ],
         "xaxis": "x2",
         "y": {
          "bdata": "AAAAAAAgUkA=",
          "dtype": "f8"
         },
         "yaxis": "y2"
        },
        {
         "error_y": {
          "array": {
           "bdata": "AAAAAAAAAAA=",
           "dtype": "f8"
          },
          "color": "black",
          "thickness": 1,
          "type": "data",
          "visible": true,
          "width": 4
         },
         "hovertemplate": "Env: Customer Service<br>Word Limit: None<br>Model: Gemini 2.5 Pro<br>Success Rate: {y:.2f}%<br>SEM: 0.00%<br>N: 40",
         "marker": {
          "color": "#90EE90"
         },
         "name": "Gemini 2.5 Pro",
         "showlegend": false,
         "type": "bar",
         "width": 0.8,
         "x": [
          "Gemini 2.5 Pro"
         ],
         "xaxis": "x2",
         "y": {
          "bdata": "AAAAAAAAWUA=",
          "dtype": "f8"
         },
         "yaxis": "y2"
        },
        {
         "error_y": {
          "array": {
           "bdata": "sfa0FlfrC0A=",
           "dtype": "f8"
          },
          "color": "black",
          "thickness": 1,
          "type": "data",
          "visible": true,
          "width": 4
         },
         "hovertemplate": "Env: Customer Service<br>Word Limit: None<br>Model: Gemini 2.5 Pro (belief prompting)<br>Success Rate: {y:.2f}%<br>SEM: 3.49%<br>N: 40",
         "marker": {
          "color": "#32CD32"
         },
         "name": "Gemini 2.5 Pro (belief prompting)",
         "showlegend": false,
         "type": "bar",
         "width": 0.8,
         "x": [
          "Gemini 2.5 Pro (belief prompting)"
         ],
         "xaxis": "x2",
         "y": {
          "bdata": "AAAAAADAV0A=",
          "dtype": "f8"
         },
         "yaxis": "y2"
        },
        {
         "error_y": {
          "array": {
           "bdata": "pmfjCiM3E0A=",
           "dtype": "f8"
          },
          "color": "black",
          "thickness": 1,
          "type": "data",
          "visible": true,
          "width": 4
         },
         "hovertemplate": "Env: Customer Service<br>Word Limit: None<br>Model: Gemini 2.5 Pro (ABBEL)<br>Success Rate: {y:.2f}%<br>SEM: 4.80%<br>N: 40",
         "marker": {
          "color": "#006400"
         },
         "name": "Gemini 2.5 Pro (ABBEL)",
         "showlegend": false,
         "type": "bar",
         "width": 0.8,
         "x": [
          "Gemini 2.5 Pro (ABBEL)"
         ],
         "xaxis": "x2",
         "y": {
          "bdata": "AAAAAACAVkA=",
          "dtype": "f8"
         },
         "yaxis": "y2"
        },
        {
         "error_y": {
          "array": {
           "bdata": "Oq5djk78H0A=",
           "dtype": "f8"
          },
          "color": "black",
          "thickness": 1,
          "type": "data",
          "visible": true,
          "width": 4
         },
         "hovertemplate": "Env: Twenty Questions<br>Word Limit: None<br>Model: Deepseek V3<br>Success Rate: {y:.2f}%<br>SEM: 8.00%<br>N: 40",
         "marker": {
          "color": "#ADD8E6"
         },
         "name": "Deepseek V3",
         "showlegend": false,
         "type": "bar",
         "width": 0.8,
         "x": [
          "Deepseek V3"
         ],
         "xaxis": "x3",
         "y": {
          "bdata": "AAAAAADAR0A=",
          "dtype": "f8"
         },
         "yaxis": "y3"
        },
        {
         "error_y": {
          "array": {
           "bdata": "N65djk78H0A=",
           "dtype": "f8"
          },
          "color": "black",
          "thickness": 1,
          "type": "data",
          "visible": true,
          "width": 4
         },
         "hovertemplate": "Env: Twenty Questions<br>Word Limit: None<br>Model: Deepseek V3 (belief prompting)<br>Success Rate: {y:.2f}%<br>SEM: 8.00%<br>N: 40",
         "marker": {
          "color": "#4682B4"
         },
         "name": "Deepseek V3 (belief prompting)",
         "showlegend": false,
         "type": "bar",
         "width": 0.8,
         "x": [
          "Deepseek V3 (belief prompting)"
         ],
         "xaxis": "x3",
         "y": {
          "bdata": "AAAAAADAR0A=",
          "dtype": "f8"
         },
         "yaxis": "y3"
        },
        {
         "error_y": {
          "array": {
           "bdata": "3jIj3+2MHkA=",
           "dtype": "f8"
          },
          "color": "black",
          "thickness": 1,
          "type": "data",
          "visible": true,
          "width": 4
         },
         "hovertemplate": "Env: Twenty Questions<br>Word Limit: None<br>Model: Deepseek V3 (ABBEL)<br>Success Rate: {y:.2f}%<br>SEM: 7.64%<br>N: 40",
         "marker": {
          "color": "#003366"
         },
         "name": "Deepseek V3 (ABBEL)",
         "showlegend": false,
         "type": "bar",
         "width": 0.8,
         "x": [
          "Deepseek V3 (ABBEL)"
         ],
         "xaxis": "x3",
         "y": {
          "bdata": "AAAAAACAQUA=",
          "dtype": "f8"
         },
         "yaxis": "y3"
        },
        {
         "error_y": {
          "array": {
           "bdata": "odOluepgH0A=",
           "dtype": "f8"
          },
          "color": "black",
          "thickness": 1,
          "type": "data",
          "visible": true,
          "width": 4
         },
         "hovertemplate": "Env: Twenty Questions<br>Word Limit: None<br>Model: Deepseek R1<br>Success Rate: {y:.2f}%<br>SEM: 7.84%<br>N: 40",
         "marker": {
          "color": "#FFB6C1"
         },
         "name": "Deepseek R1",
         "showlegend": false,
         "type": "bar",
         "width": 0.8,
         "x": [
          "Deepseek R1"
         ],
         "xaxis": "x3",
         "y": {
          "bdata": "AAAAAAAATkA=",
          "dtype": "f8"
         },
         "yaxis": "y3"
        },
        {
         "error_y": {
          "array": {
           "bdata": "TLIiNnfdH0A=",
           "dtype": "f8"
          },
          "color": "black",
          "thickness": 1,
          "type": "data",
          "visible": true,
          "width": 4
         },
         "hovertemplate": "Env: Twenty Questions<br>Word Limit: None<br>Model: Deepseek R1 (belief prompting)<br>Success Rate: {y:.2f}%<br>SEM: 7.97%<br>N: 40",
         "marker": {
          "color": "#FF6347"
         },
         "name": "Deepseek R1 (belief prompting)",
         "showlegend": false,
         "type": "bar",
         "width": 0.8,
         "x": [
          "Deepseek R1 (belief prompting)"
         ],
         "xaxis": "x3",
         "y": {
          "bdata": "AAAAAACARkA=",
          "dtype": "f8"
         },
         "yaxis": "y3"
        },
        {
         "error_y": {
          "array": {
           "bdata": "o9OluepgH0A=",
           "dtype": "f8"
          },
          "color": "black",
          "thickness": 1,
          "type": "data",
          "visible": true,
          "width": 4
         },
         "hovertemplate": "Env: Twenty Questions<br>Word Limit: None<br>Model: Deepseek R1 (ABBEL)<br>Success Rate: {y:.2f}%<br>SEM: 7.84%<br>N: 40",
         "marker": {
          "color": "#8B0000"
         },
         "name": "Deepseek R1 (ABBEL)",
         "showlegend": false,
         "type": "bar",
         "width": 0.8,
         "x": [
          "Deepseek R1 (ABBEL)"
         ],
         "xaxis": "x3",
         "y": {
          "bdata": "AAAAAAAAREA=",
          "dtype": "f8"
         },
         "yaxis": "y3"
        },
        {
         "error_y": {
          "array": {
           "bdata": "LixtFzkCH0A=",
           "dtype": "f8"
          },
          "color": "black",
          "thickness": 1,
          "type": "data",
          "visible": true,
          "width": 4
         },
         "hovertemplate": "Env: Twenty Questions<br>Word Limit: None<br>Model: Gemini 2.5 Pro<br>Success Rate: {y:.2f}%<br>SEM: 7.75%<br>N: 40",
         "marker": {
          "color": "#90EE90"
         },
         "name": "Gemini 2.5 Pro",
         "showlegend": false,
         "type": "bar",
         "width": 0.8,
         "x": [
          "Gemini 2.5 Pro"
         ],
         "xaxis": "x3",
         "y": {
          "bdata": "AAAAAABAT0A=",
          "dtype": "f8"
         },
         "yaxis": "y3"
        },
        {
         "error_y": {
          "array": {
           "bdata": "aZtdmim8G0A=",
           "dtype": "f8"
          },
          "color": "black",
          "thickness": 1,
          "type": "data",
          "visible": true,
          "width": 4
         },
         "hovertemplate": "Env: Twenty Questions<br>Word Limit: None<br>Model: Gemini 2.5 Pro (belief prompting)<br>Success Rate: {y:.2f}%<br>SEM: 6.93%<br>N: 40",
         "marker": {
          "color": "#32CD32"
         },
         "name": "Gemini 2.5 Pro (belief prompting)",
         "showlegend": false,
         "type": "bar",
         "width": 0.8,
         "x": [
          "Gemini 2.5 Pro (belief prompting)"
         ],
         "xaxis": "x3",
         "y": {
          "bdata": "AAAAAADAUkA=",
          "dtype": "f8"
         },
         "yaxis": "y3"
        },
        {
         "error_y": {
          "array": {
           "bdata": "Oq5djk78H0A=",
           "dtype": "f8"
          },
          "color": "black",
          "thickness": 1,
          "type": "data",
          "visible": true,
          "width": 4
         },
         "hovertemplate": "Env: Twenty Questions<br>Word Limit: None<br>Model: Gemini 2.5 Pro (ABBEL)<br>Success Rate: {y:.2f}%<br>SEM: 8.00%<br>N: 40",
         "marker": {
          "color": "#006400"
         },
         "name": "Gemini 2.5 Pro (ABBEL)",
         "showlegend": false,
         "type": "bar",
         "width": 0.8,
         "x": [
          "Gemini 2.5 Pro (ABBEL)"
         ],
         "xaxis": "x3",
         "y": {
          "bdata": "AAAAAABASkA=",
          "dtype": "f8"
         },
         "yaxis": "y3"
        },
        {
         "error_y": {
          "array": {
           "bdata": "TLIiNnfdH0A=",
           "dtype": "f8"
          },
          "color": "black",
          "thickness": 1,
          "type": "data",
          "visible": true,
          "width": 4
         },
         "hovertemplate": "Env: Guess my City<br>Word Limit: None<br>Model: Deepseek V3<br>Success Rate: {y:.2f}%<br>SEM: 7.97%<br>N: 40",
         "marker": {
          "color": "#ADD8E6"
         },
         "name": "Deepseek V3",
         "showlegend": false,
         "type": "bar",
         "width": 0.8,
         "x": [
          "Deepseek V3"
         ],
         "xaxis": "x4",
         "y": {
          "bdata": "AQAAAACAS0A=",
          "dtype": "f8"
         },
         "yaxis": "y4"
        },
        {
         "error_y": {
          "array": {
           "bdata": "o9OluepgH0A=",
           "dtype": "f8"
          },
          "color": "black",
          "thickness": 1,
          "type": "data",
          "visible": true,
          "width": 4
         },
         "hovertemplate": "Env: Guess my City<br>Word Limit: None<br>Model: Deepseek V3 (belief prompting)<br>Success Rate: {y:.2f}%<br>SEM: 7.84%<br>N: 40",
         "marker": {
          "color": "#4682B4"
         },
         "name": "Deepseek V3 (belief prompting)",
         "showlegend": false,
         "type": "bar",
         "width": 0.8,
         "x": [
          "Deepseek V3 (belief prompting)"
         ],
         "xaxis": "x4",
         "y": {
          "bdata": "AAAAAAAATkA=",
          "dtype": "f8"
         },
         "yaxis": "y4"
        },
        {
         "error_y": {
          "array": {
           "bdata": "Z5tdmim8G0A=",
           "dtype": "f8"
          },
          "color": "black",
          "thickness": 1,
          "type": "data",
          "visible": true,
          "width": 4
         },
         "hovertemplate": "Env: Guess my City<br>Word Limit: None<br>Model: Deepseek V3 (ABBEL)<br>Success Rate: {y:.2f}%<br>SEM: 6.93%<br>N: 40",
         "marker": {
          "color": "#003366"
         },
         "name": "Deepseek V3 (ABBEL)",
         "showlegend": false,
         "type": "bar",
         "width": 0.8,
         "x": [
          "Deepseek V3 (ABBEL)"
         ],
         "xaxis": "x4",
         "y": {
          "bdata": "AAAAAADAUkA=",
          "dtype": "f8"
         },
         "yaxis": "y4"
        },
        {
         "error_y": {
          "array": {
           "bdata": "3DIj3+2MHkA=",
           "dtype": "f8"
          },
          "color": "black",
          "thickness": 1,
          "type": "data",
          "visible": true,
          "width": 4
         },
         "hovertemplate": "Env: Guess my City<br>Word Limit: None<br>Model: Deepseek R1<br>Success Rate: {y:.2f}%<br>SEM: 7.64%<br>N: 40",
         "marker": {
          "color": "#FFB6C1"
         },
         "name": "Deepseek R1",
         "showlegend": false,
         "type": "bar",
         "width": 0.8,
         "x": [
          "Deepseek R1"
         ],
         "xaxis": "x4",
         "y": {
          "bdata": "AAAAAABAUEA=",
          "dtype": "f8"
         },
         "yaxis": "y4"
        },
        {
         "error_y": {
          "array": {
           "bdata": "N65djk78H0A=",
           "dtype": "f8"
          },
          "color": "black",
          "thickness": 1,
          "type": "data",
          "visible": true,
          "width": 4
         },
         "hovertemplate": "Env: Guess my City<br>Word Limit: None<br>Model: Deepseek R1 (belief prompting)<br>Success Rate: {y:.2f}%<br>SEM: 8.00%<br>N: 40",
         "marker": {
          "color": "#FF6347"
         },
         "name": "Deepseek R1 (belief prompting)",
         "showlegend": false,
         "type": "bar",
         "width": 0.8,
         "x": [
          "Deepseek R1 (belief prompting)"
         ],
         "xaxis": "x4",
         "y": {
          "bdata": "AAAAAABASkA=",
          "dtype": "f8"
         },
         "yaxis": "y4"
        },
        {
         "error_y": {
          "array": {
           "bdata": "TLIiNnfdH0A=",
           "dtype": "f8"
          },
          "color": "black",
          "thickness": 1,
          "type": "data",
          "visible": true,
          "width": 4
         },
         "hovertemplate": "Env: Guess my City<br>Word Limit: None<br>Model: Deepseek R1 (ABBEL)<br>Success Rate: {y:.2f}%<br>SEM: 7.97%<br>N: 40",
         "marker": {
          "color": "#8B0000"
         },
         "name": "Deepseek R1 (ABBEL)",
         "showlegend": false,
         "type": "bar",
         "width": 0.8,
         "x": [
          "Deepseek R1 (ABBEL)"
         ],
         "xaxis": "x4",
         "y": {
          "bdata": "AQAAAACAS0A=",
          "dtype": "f8"
         },
         "yaxis": "y4"
        },
        {
         "error_y": {
          "array": {
           "bdata": "BlaVCF5WGEA=",
           "dtype": "f8"
          },
          "color": "black",
          "thickness": 1,
          "type": "data",
          "visible": true,
          "width": 4
         },
         "hovertemplate": "Env: Guess my City<br>Word Limit: None<br>Model: Gemini 2.5 Pro<br>Success Rate: {y:.2f}%<br>SEM: 6.08%<br>N: 40",
         "marker": {
          "color": "#90EE90"
         },
         "name": "Gemini 2.5 Pro",
         "showlegend": false,
         "type": "bar",
         "width": 0.8,
         "x": [
          "Gemini 2.5 Pro"
         ],
         "xaxis": "x4",
         "y": {
          "bdata": "AAAAAACgVEA=",
          "dtype": "f8"
         },
         "yaxis": "y4"
        },
        {
         "error_y": {
          "array": {
           "bdata": "Bhd5rIyZHEA=",
           "dtype": "f8"
          },
          "color": "black",
          "thickness": 1,
          "type": "data",
          "visible": true,
          "width": 4
         },
         "hovertemplate": "Env: Guess my City<br>Word Limit: None<br>Model: Gemini 2.5 Pro (belief prompting)<br>Success Rate: {y:.2f}%<br>SEM: 7.15%<br>N: 40",
         "marker": {
          "color": "#32CD32"
         },
         "name": "Gemini 2.5 Pro (belief prompting)",
         "showlegend": false,
         "type": "bar",
         "width": 0.8,
         "x": [
          "Gemini 2.5 Pro (belief prompting)"
         ],
         "xaxis": "x4",
         "y": {
          "bdata": "AAAAAAAgUkA=",
          "dtype": "f8"
         },
         "yaxis": "y4"
        },
        {
         "error_y": {
          "array": {
           "bdata": "h9/ZY9meGUA=",
           "dtype": "f8"
          },
          "color": "black",
          "thickness": 1,
          "type": "data",
          "visible": true,
          "width": 4
         },
         "hovertemplate": "Env: Guess my City<br>Word Limit: None<br>Model: Gemini 2.5 Pro (ABBEL)<br>Success Rate: {y:.2f}%<br>SEM: 6.41%<br>N: 40",
         "marker": {
          "color": "#006400"
         },
         "name": "Gemini 2.5 Pro (ABBEL)",
         "showlegend": false,
         "type": "bar",
         "width": 0.8,
         "x": [
          "Gemini 2.5 Pro (ABBEL)"
         ],
         "xaxis": "x4",
         "y": {
          "bdata": "AAAAAAAAVEA=",
          "dtype": "f8"
         },
         "yaxis": "y4"
        },
        {
         "error_y": {
          "array": {
           "bdata": "N65djk78H0A=",
           "dtype": "f8"
          },
          "color": "black",
          "thickness": 1,
          "type": "data",
          "visible": true,
          "width": 4
         },
         "hovertemplate": "Env: Wordle<br>Word Limit: None<br>Model: Deepseek V3<br>Success Rate: {y:.2f}%<br>SEM: 8.00%<br>N: 40",
         "marker": {
          "color": "#ADD8E6"
         },
         "name": "Deepseek V3",
         "showlegend": false,
         "type": "bar",
         "width": 0.8,
         "x": [
          "Deepseek V3"
         ],
         "xaxis": "x5",
         "y": {
          "bdata": "AAAAAABASkA=",
          "dtype": "f8"
         },
         "yaxis": "y5"
        },
        {
         "error_y": {
          "array": {
           "bdata": "kbJbjM2pH0A=",
           "dtype": "f8"
          },
          "color": "black",
          "thickness": 1,
          "type": "data",
          "visible": true,
          "width": 4
         },
         "hovertemplate": "Env: Wordle<br>Word Limit: None<br>Model: Deepseek V3 (belief prompting)<br>Success Rate: {y:.2f}%<br>SEM: 7.92%<br>N: 40",
         "marker": {
          "color": "#4682B4"
         },
         "name": "Deepseek V3 (belief prompting)",
         "showlegend": false,
         "type": "bar",
         "width": 0.8,
         "x": [
          "Deepseek V3 (belief prompting)"
         ],
         "xaxis": "x5",
         "y": {
          "bdata": "AAAAAABARUA=",
          "dtype": "f8"
         },
         "yaxis": "y5"
        },
        {
         "error_y": {
          "array": {
           "bdata": "AAAAAAAAHkA=",
           "dtype": "f8"
          },
          "color": "black",
          "thickness": 1,
          "type": "data",
          "visible": true,
          "width": 4
         },
         "hovertemplate": "Env: Wordle<br>Word Limit: None<br>Model: Deepseek V3 (ABBEL)<br>Success Rate: {y:.2f}%<br>SEM: 7.50%<br>N: 40",
         "marker": {
          "color": "#003366"
         },
         "name": "Deepseek V3 (ABBEL)",
         "showlegend": false,
         "type": "bar",
         "width": 0.8,
         "x": [
          "Deepseek V3 (ABBEL)"
         ],
         "xaxis": "x5",
         "y": {
          "bdata": "AAAAAABAQEA=",
          "dtype": "f8"
         },
         "yaxis": "y5"
        },
        {
         "error_y": {
          "array": {
           "bdata": "pmfjCiM3E0A=",
           "dtype": "f8"
          },
          "color": "black",
          "thickness": 1,
          "type": "data",
          "visible": true,
          "width": 4
         },
         "hovertemplate": "Env: Wordle<br>Word Limit: None<br>Model: Deepseek R1<br>Success Rate: {y:.2f}%<br>SEM: 4.80%<br>N: 40",
         "marker": {
          "color": "#FFB6C1"
         },
         "name": "Deepseek R1",
         "showlegend": false,
         "type": "bar",
         "width": 0.8,
         "x": [
          "Deepseek R1"
         ],
         "xaxis": "x5",
         "y": {
          "bdata": "AAAAAACAVkA=",
          "dtype": "f8"
         },
         "yaxis": "y5"
        },
        {
         "error_y": {
          "array": {
           "bdata": "B1aVCF5WGEA=",
           "dtype": "f8"
          },
          "color": "black",
          "thickness": 1,
          "type": "data",
          "visible": true,
          "width": 4
         },
         "hovertemplate": "Env: Wordle<br>Word Limit: None<br>Model: Deepseek R1 (belief prompting)<br>Success Rate: {y:.2f}%<br>SEM: 6.08%<br>N: 40",
         "marker": {
          "color": "#FF6347"
         },
         "name": "Deepseek R1 (belief prompting)",
         "showlegend": false,
         "type": "bar",
         "width": 0.8,
         "x": [
          "Deepseek R1 (belief prompting)"
         ],
         "xaxis": "x5",
         "y": {
          "bdata": "AAAAAACgVEA=",
          "dtype": "f8"
         },
         "yaxis": "y5"
        },
        {
         "error_y": {
          "array": {
           "bdata": "hi/qqfHeFkA=",
           "dtype": "f8"
          },
          "color": "black",
          "thickness": 1,
          "type": "data",
          "visible": true,
          "width": 4
         },
         "hovertemplate": "Env: Wordle<br>Word Limit: None<br>Model: Deepseek R1 (ABBEL)<br>Success Rate: {y:.2f}%<br>SEM: 5.72%<br>N: 40",
         "marker": {
          "color": "#8B0000"
         },
         "name": "Deepseek R1 (ABBEL)",
         "showlegend": false,
         "type": "bar",
         "width": 0.8,
         "x": [
          "Deepseek R1 (ABBEL)"
         ],
         "xaxis": "x5",
         "y": {
          "bdata": "AAAAAABAVUA=",
          "dtype": "f8"
         },
         "yaxis": "y5"
        },
        {
         "error_y": {
          "array": {
           "bdata": "AAAAAAAABEA=",
           "dtype": "f8"
          },
          "color": "black",
          "thickness": 1,
          "type": "data",
          "visible": true,
          "width": 4
         },
         "hovertemplate": "Env: Wordle<br>Word Limit: None<br>Model: Gemini 2.5 Pro<br>Success Rate: {y:.2f}%<br>SEM: 2.50%<br>N: 40",
         "marker": {
          "color": "#90EE90"
         },
         "name": "Gemini 2.5 Pro",
         "showlegend": false,
         "type": "bar",
         "width": 0.8,
         "x": [
          "Gemini 2.5 Pro"
         ],
         "xaxis": "x5",
         "y": {
          "bdata": "AAAAAABgWEA=",
          "dtype": "f8"
         },
         "yaxis": "y5"
        },
        {
         "error_y": {
          "array": {
           "bdata": "s/a0FlfrC0A=",
           "dtype": "f8"
          },
          "color": "black",
          "thickness": 1,
          "type": "data",
          "visible": true,
          "width": 4
         },
         "hovertemplate": "Env: Wordle<br>Word Limit: None<br>Model: Gemini 2.5 Pro (belief prompting)<br>Success Rate: {y:.2f}%<br>SEM: 3.49%<br>N: 40",
         "marker": {
          "color": "#32CD32"
         },
         "name": "Gemini 2.5 Pro (belief prompting)",
         "showlegend": false,
         "type": "bar",
         "width": 0.8,
         "x": [
          "Gemini 2.5 Pro (belief prompting)"
         ],
         "xaxis": "x5",
         "y": {
          "bdata": "AAAAAADAV0A=",
          "dtype": "f8"
         },
         "yaxis": "y5"
        },
        {
         "error_y": {
          "array": {
           "bdata": "h9/ZY9meGUA=",
           "dtype": "f8"
          },
          "color": "black",
          "thickness": 1,
          "type": "data",
          "visible": true,
          "width": 4
         },
         "hovertemplate": "Env: Wordle<br>Word Limit: None<br>Model: Gemini 2.5 Pro (ABBEL)<br>Success Rate: {y:.2f}%<br>SEM: 6.41%<br>N: 40",
         "marker": {
          "color": "#006400"
         },
         "name": "Gemini 2.5 Pro (ABBEL)",
         "showlegend": false,
         "type": "bar",
         "width": 0.8,
         "x": [
          "Gemini 2.5 Pro (ABBEL)"
         ],
         "xaxis": "x5",
         "y": {
          "bdata": "AAAAAAAAVEA=",
          "dtype": "f8"
         },
         "yaxis": "y5"
        },
        {
         "error_y": {
          "array": {
           "bdata": "s/a0FlfrC0A=",
           "dtype": "f8"
          },
          "color": "black",
          "thickness": 1,
          "type": "data",
          "visible": true,
          "width": 4
         },
         "hovertemplate": "Env: Mastermind<br>Word Limit: None<br>Model: Deepseek V3<br>Success Rate: {y:.2f}%<br>SEM: 3.49%<br>N: 40",
         "marker": {
          "color": "#ADD8E6"
         },
         "name": "Deepseek V3",
         "showlegend": false,
         "type": "bar",
         "width": 0.8,
         "x": [
          "Deepseek V3"
         ],
         "xaxis": "x6",
         "y": {
          "bdata": "AAAAAAAAFEA=",
          "dtype": "f8"
         },
         "yaxis": "y6"
        },
        {
         "error_y": {
          "array": {
           "bdata": "s/a0FlfrC0A=",
           "dtype": "f8"
          },
          "color": "black",
          "thickness": 1,
          "type": "data",
          "visible": true,
          "width": 4
         },
         "hovertemplate": "Env: Mastermind<br>Word Limit: None<br>Model: Deepseek V3 (belief prompting)<br>Success Rate: {y:.2f}%<br>SEM: 3.49%<br>N: 40",
         "marker": {
          "color": "#4682B4"
         },
         "name": "Deepseek V3 (belief prompting)",
         "showlegend": false,
         "type": "bar",
         "width": 0.8,
         "x": [
          "Deepseek V3 (belief prompting)"
         ],
         "xaxis": "x6",
         "y": {
          "bdata": "AAAAAAAAFEA=",
          "dtype": "f8"
         },
         "yaxis": "y6"
        },
        {
         "error_y": {
          "array": {
           "bdata": "s/a0FlfrC0A=",
           "dtype": "f8"
          },
          "color": "black",
          "thickness": 1,
          "type": "data",
          "visible": true,
          "width": 4
         },
         "hovertemplate": "Env: Mastermind<br>Word Limit: None<br>Model: Deepseek V3 (ABBEL)<br>Success Rate: {y:.2f}%<br>SEM: 3.49%<br>N: 40",
         "marker": {
          "color": "#003366"
         },
         "name": "Deepseek V3 (ABBEL)",
         "showlegend": false,
         "type": "bar",
         "width": 0.8,
         "x": [
          "Deepseek V3 (ABBEL)"
         ],
         "xaxis": "x6",
         "y": {
          "bdata": "AAAAAAAAFEA=",
          "dtype": "f8"
         },
         "yaxis": "y6"
        },
        {
         "error_y": {
          "array": {
           "bdata": "aCzJDxtaHUA=",
           "dtype": "f8"
          },
          "color": "black",
          "thickness": 1,
          "type": "data",
          "visible": true,
          "width": 4
         },
         "hovertemplate": "Env: Mastermind<br>Word Limit: None<br>Model: Deepseek R1<br>Success Rate: {y:.2f}%<br>SEM: 7.34%<br>N: 40",
         "marker": {
          "color": "#FFB6C1"
         },
         "name": "Deepseek R1",
         "showlegend": false,
         "type": "bar",
         "width": 0.8,
         "x": [
          "Deepseek R1"
         ],
         "xaxis": "x6",
         "y": {
          "bdata": "AAAAAACAUUA=",
          "dtype": "f8"
         },
         "yaxis": "y6"
        },
        {
         "error_y": {
          "array": {
           "bdata": "N65djk78H0A=",
           "dtype": "f8"
          },
          "color": "black",
          "thickness": 1,
          "type": "data",
          "visible": true,
          "width": 4
         },
         "hovertemplate": "Env: Mastermind<br>Word Limit: None<br>Model: Deepseek R1 (belief prompting)<br>Success Rate: {y:.2f}%<br>SEM: 8.00%<br>N: 40",
         "marker": {
          "color": "#FF6347"
         },
         "name": "Deepseek R1 (belief prompting)",
         "showlegend": false,
         "type": "bar",
         "width": 0.8,
         "x": [
          "Deepseek R1 (belief prompting)"
         ],
         "xaxis": "x6",
         "y": {
          "bdata": "AAAAAABASkA=",
          "dtype": "f8"
         },
         "yaxis": "y6"
        },
        {
         "error_y": {
          "array": {
           "bdata": "3zIj3+2MHkA=",
           "dtype": "f8"
          },
          "color": "black",
          "thickness": 1,
          "type": "data",
          "visible": true,
          "width": 4
         },
         "hovertemplate": "Env: Mastermind<br>Word Limit: None<br>Model: Deepseek R1 (ABBEL)<br>Success Rate: {y:.2f}%<br>SEM: 7.64%<br>N: 40",
         "marker": {
          "color": "#8B0000"
         },
         "name": "Deepseek R1 (ABBEL)",
         "showlegend": false,
         "type": "bar",
         "width": 0.8,
         "x": [
          "Deepseek R1 (ABBEL)"
         ],
         "xaxis": "x6",
         "y": {
          "bdata": "AAAAAACAQUA=",
          "dtype": "f8"
         },
         "yaxis": "y6"
        },
        {
         "error_y": {
          "array": {
           "bdata": "AAAAAAAAAAA=",
           "dtype": "f8"
          },
          "color": "black",
          "thickness": 1,
          "type": "data",
          "visible": true,
          "width": 4
         },
         "hovertemplate": "Env: Mastermind<br>Word Limit: None<br>Model: Gemini 2.5 Pro<br>Success Rate: {y:.2f}%<br>SEM: 0.00%<br>N: 40",
         "marker": {
          "color": "#90EE90"
         },
         "name": "Gemini 2.5 Pro",
         "showlegend": false,
         "type": "bar",
         "width": 0.8,
         "x": [
          "Gemini 2.5 Pro"
         ],
         "xaxis": "x6",
         "y": {
          "bdata": "AAAAAAAAWUA=",
          "dtype": "f8"
         },
         "yaxis": "y6"
        },
        {
         "error_y": {
          "array": {
           "bdata": "AAAAAAAABEA=",
           "dtype": "f8"
          },
          "color": "black",
          "thickness": 1,
          "type": "data",
          "visible": true,
          "width": 4
         },
         "hovertemplate": "Env: Mastermind<br>Word Limit: None<br>Model: Gemini 2.5 Pro (belief prompting)<br>Success Rate: {y:.2f}%<br>SEM: 2.50%<br>N: 40",
         "marker": {
          "color": "#32CD32"
         },
         "name": "Gemini 2.5 Pro (belief prompting)",
         "showlegend": false,
         "type": "bar",
         "width": 0.8,
         "x": [
          "Gemini 2.5 Pro (belief prompting)"
         ],
         "xaxis": "x6",
         "y": {
          "bdata": "AAAAAABgWEA=",
          "dtype": "f8"
         },
         "yaxis": "y6"
        },
        {
         "error_y": {
          "array": {
           "bdata": "AAAAAAAABEA=",
           "dtype": "f8"
          },
          "color": "black",
          "thickness": 1,
          "type": "data",
          "visible": true,
          "width": 4
         },
         "hovertemplate": "Env: Mastermind<br>Word Limit: None<br>Model: Gemini 2.5 Pro (ABBEL)<br>Success Rate: {y:.2f}%<br>SEM: 2.50%<br>N: 40",
         "marker": {
          "color": "#006400"
         },
         "name": "Gemini 2.5 Pro (ABBEL)",
         "showlegend": false,
         "type": "bar",
         "width": 0.8,
         "x": [
          "Gemini 2.5 Pro (ABBEL)"
         ],
         "xaxis": "x6",
         "y": {
          "bdata": "AAAAAABgWEA=",
          "dtype": "f8"
         },
         "yaxis": "y6"
        }
       ],
       "layout": {
        "annotations": [
         {
          "font": {
           "size": 16
          },
          "showarrow": false,
          "text": "Murder Mystery",
          "x": 0.07083333333333333,
          "xanchor": "center",
          "xref": "paper",
          "y": 1,
          "yanchor": "bottom",
          "yref": "paper"
         },
         {
          "font": {
           "size": 16
          },
          "showarrow": false,
          "text": "Customer Service",
          "x": 0.2425,
          "xanchor": "center",
          "xref": "paper",
          "y": 1,
          "yanchor": "bottom",
          "yref": "paper"
         },
         {
          "font": {
           "size": 16
          },
          "showarrow": false,
          "text": "Twenty Questions",
          "x": 0.4141666666666667,
          "xanchor": "center",
          "xref": "paper",
          "y": 1,
          "yanchor": "bottom",
          "yref": "paper"
         },
         {
          "font": {
           "size": 16
          },
          "showarrow": false,
          "text": "Guess my City",
          "x": 0.5858333333333334,
          "xanchor": "center",
          "xref": "paper",
          "y": 1,
          "yanchor": "bottom",
          "yref": "paper"
         },
         {
          "font": {
           "size": 16
          },
          "showarrow": false,
          "text": "Wordle",
          "x": 0.7575000000000001,
          "xanchor": "center",
          "xref": "paper",
          "y": 1,
          "yanchor": "bottom",
          "yref": "paper"
         },
         {
          "font": {
           "size": 16
          },
          "showarrow": false,
          "text": "Mastermind",
          "x": 0.9291666666666667,
          "xanchor": "center",
          "xref": "paper",
          "y": 1,
          "yanchor": "bottom",
          "yref": "paper"
         }
        ],
        "barmode": "group",
        "font": {
         "family": "Computer Modern, serif",
         "size": 16
        },
        "height": 350,
        "legend": {
         "bgcolor": "rgba(255,255,255,0.9)",
         "bordercolor": "black",
         "borderwidth": 1,
         "orientation": "v",
         "x": 1.02,
         "xanchor": "left",
         "y": 0.5,
         "yanchor": "middle"
        },
        "margin": {
         "b": 50,
         "l": 80,
         "r": 80,
         "t": 100
        },
        "plot_bgcolor": "white",
        "showlegend": true,
        "template": {
         "data": {
          "bar": [
           {
            "error_x": {
             "color": "rgb(36,36,36)"
            },
            "error_y": {
             "color": "rgb(36,36,36)"
            },
            "marker": {
             "line": {
              "color": "white",
              "width": 0.5
             },
             "pattern": {
              "fillmode": "overlay",
              "size": 10,
              "solidity": 0.2
             }
            },
            "type": "bar"
           }
          ],
          "barpolar": [
           {
            "marker": {
             "line": {
              "color": "white",
              "width": 0.5
             },
             "pattern": {
              "fillmode": "overlay",
              "size": 10,
              "solidity": 0.2
             }
            },
            "type": "barpolar"
           }
          ],
          "carpet": [
           {
            "aaxis": {
             "endlinecolor": "rgb(36,36,36)",
             "gridcolor": "white",
             "linecolor": "white",
             "minorgridcolor": "white",
             "startlinecolor": "rgb(36,36,36)"
            },
            "baxis": {
             "endlinecolor": "rgb(36,36,36)",
             "gridcolor": "white",
             "linecolor": "white",
             "minorgridcolor": "white",
             "startlinecolor": "rgb(36,36,36)"
            },
            "type": "carpet"
           }
          ],
          "choropleth": [
           {
            "colorbar": {
             "outlinewidth": 1,
             "tickcolor": "rgb(36,36,36)",
             "ticks": "outside"
            },
            "type": "choropleth"
           }
          ],
          "contour": [
           {
            "colorbar": {
             "outlinewidth": 1,
             "tickcolor": "rgb(36,36,36)",
             "ticks": "outside"
            },
            "colorscale": [
             [
              0,
              "#440154"
             ],
             [
              0.1111111111111111,
              "#482878"
             ],
             [
              0.2222222222222222,
              "#3e4989"
             ],
             [
              0.3333333333333333,
              "#31688e"
             ],
             [
              0.4444444444444444,
              "#26828e"
             ],
             [
              0.5555555555555556,
              "#1f9e89"
             ],
             [
              0.6666666666666666,
              "#35b779"
             ],
             [
              0.7777777777777778,
              "#6ece58"
             ],
             [
              0.8888888888888888,
              "#b5de2b"
             ],
             [
              1,
              "#fde725"
             ]
            ],
            "type": "contour"
           }
          ],
          "contourcarpet": [
           {
            "colorbar": {
             "outlinewidth": 1,
             "tickcolor": "rgb(36,36,36)",
             "ticks": "outside"
            },
            "type": "contourcarpet"
           }
          ],
          "heatmap": [
           {
            "colorbar": {
             "outlinewidth": 1,
             "tickcolor": "rgb(36,36,36)",
             "ticks": "outside"
            },
            "colorscale": [
             [
              0,
              "#440154"
             ],
             [
              0.1111111111111111,
              "#482878"
             ],
             [
              0.2222222222222222,
              "#3e4989"
             ],
             [
              0.3333333333333333,
              "#31688e"
             ],
             [
              0.4444444444444444,
              "#26828e"
             ],
             [
              0.5555555555555556,
              "#1f9e89"
             ],
             [
              0.6666666666666666,
              "#35b779"
             ],
             [
              0.7777777777777778,
              "#6ece58"
             ],
             [
              0.8888888888888888,
              "#b5de2b"
             ],
             [
              1,
              "#fde725"
             ]
            ],
            "type": "heatmap"
           }
          ],
          "histogram": [
           {
            "marker": {
             "line": {
              "color": "white",
              "width": 0.6
             }
            },
            "type": "histogram"
           }
          ],
          "histogram2d": [
           {
            "colorbar": {
             "outlinewidth": 1,
             "tickcolor": "rgb(36,36,36)",
             "ticks": "outside"
            },
            "colorscale": [
             [
              0,
              "#440154"
             ],
             [
              0.1111111111111111,
              "#482878"
             ],
             [
              0.2222222222222222,
              "#3e4989"
             ],
             [
              0.3333333333333333,
              "#31688e"
             ],
             [
              0.4444444444444444,
              "#26828e"
             ],
             [
              0.5555555555555556,
              "#1f9e89"
             ],
             [
              0.6666666666666666,
              "#35b779"
             ],
             [
              0.7777777777777778,
              "#6ece58"
             ],
             [
              0.8888888888888888,
              "#b5de2b"
             ],
             [
              1,
              "#fde725"
             ]
            ],
            "type": "histogram2d"
           }
          ],
          "histogram2dcontour": [
           {
            "colorbar": {
             "outlinewidth": 1,
             "tickcolor": "rgb(36,36,36)",
             "ticks": "outside"
            },
            "colorscale": [
             [
              0,
              "#440154"
             ],
             [
              0.1111111111111111,
              "#482878"
             ],
             [
              0.2222222222222222,
              "#3e4989"
             ],
             [
              0.3333333333333333,
              "#31688e"
             ],
             [
              0.4444444444444444,
              "#26828e"
             ],
             [
              0.5555555555555556,
              "#1f9e89"
             ],
             [
              0.6666666666666666,
              "#35b779"
             ],
             [
              0.7777777777777778,
              "#6ece58"
             ],
             [
              0.8888888888888888,
              "#b5de2b"
             ],
             [
              1,
              "#fde725"
             ]
            ],
            "type": "histogram2dcontour"
           }
          ],
          "mesh3d": [
           {
            "colorbar": {
             "outlinewidth": 1,
             "tickcolor": "rgb(36,36,36)",
             "ticks": "outside"
            },
            "type": "mesh3d"
           }
          ],
          "parcoords": [
           {
            "line": {
             "colorbar": {
              "outlinewidth": 1,
              "tickcolor": "rgb(36,36,36)",
              "ticks": "outside"
             }
            },
            "type": "parcoords"
           }
          ],
          "pie": [
           {
            "automargin": true,
            "type": "pie"
           }
          ],
          "scatter": [
           {
            "fillpattern": {
             "fillmode": "overlay",
             "size": 10,
             "solidity": 0.2
            },
            "type": "scatter"
           }
          ],
          "scatter3d": [
           {
            "line": {
             "colorbar": {
              "outlinewidth": 1,
              "tickcolor": "rgb(36,36,36)",
              "ticks": "outside"
             }
            },
            "marker": {
             "colorbar": {
              "outlinewidth": 1,
              "tickcolor": "rgb(36,36,36)",
              "ticks": "outside"
             }
            },
            "type": "scatter3d"
           }
          ],
          "scattercarpet": [
           {
            "marker": {
             "colorbar": {
              "outlinewidth": 1,
              "tickcolor": "rgb(36,36,36)",
              "ticks": "outside"
             }
            },
            "type": "scattercarpet"
           }
          ],
          "scattergeo": [
           {
            "marker": {
             "colorbar": {
              "outlinewidth": 1,
              "tickcolor": "rgb(36,36,36)",
              "ticks": "outside"
             }
            },
            "type": "scattergeo"
           }
          ],
          "scattergl": [
           {
            "marker": {
             "colorbar": {
              "outlinewidth": 1,
              "tickcolor": "rgb(36,36,36)",
              "ticks": "outside"
             }
            },
            "type": "scattergl"
           }
          ],
          "scattermap": [
           {
            "marker": {
             "colorbar": {
              "outlinewidth": 1,
              "tickcolor": "rgb(36,36,36)",
              "ticks": "outside"
             }
            },
            "type": "scattermap"
           }
          ],
          "scattermapbox": [
           {
            "marker": {
             "colorbar": {
              "outlinewidth": 1,
              "tickcolor": "rgb(36,36,36)",
              "ticks": "outside"
             }
            },
            "type": "scattermapbox"
           }
          ],
          "scatterpolar": [
           {
            "marker": {
             "colorbar": {
              "outlinewidth": 1,
              "tickcolor": "rgb(36,36,36)",
              "ticks": "outside"
             }
            },
            "type": "scatterpolar"
           }
          ],
          "scatterpolargl": [
           {
            "marker": {
             "colorbar": {
              "outlinewidth": 1,
              "tickcolor": "rgb(36,36,36)",
              "ticks": "outside"
             }
            },
            "type": "scatterpolargl"
           }
          ],
          "scatterternary": [
           {
            "marker": {
             "colorbar": {
              "outlinewidth": 1,
              "tickcolor": "rgb(36,36,36)",
              "ticks": "outside"
             }
            },
            "type": "scatterternary"
           }
          ],
          "surface": [
           {
            "colorbar": {
             "outlinewidth": 1,
             "tickcolor": "rgb(36,36,36)",
             "ticks": "outside"
            },
            "colorscale": [
             [
              0,
              "#440154"
             ],
             [
              0.1111111111111111,
              "#482878"
             ],
             [
              0.2222222222222222,
              "#3e4989"
             ],
             [
              0.3333333333333333,
              "#31688e"
             ],
             [
              0.4444444444444444,
              "#26828e"
             ],
             [
              0.5555555555555556,
              "#1f9e89"
             ],
             [
              0.6666666666666666,
              "#35b779"
             ],
             [
              0.7777777777777778,
              "#6ece58"
             ],
             [
              0.8888888888888888,
              "#b5de2b"
             ],
             [
              1,
              "#fde725"
             ]
            ],
            "type": "surface"
           }
          ],
          "table": [
           {
            "cells": {
             "fill": {
              "color": "rgb(237,237,237)"
             },
             "line": {
              "color": "white"
             }
            },
            "header": {
             "fill": {
              "color": "rgb(217,217,217)"
             },
             "line": {
              "color": "white"
             }
            },
            "type": "table"
           }
          ]
         },
         "layout": {
          "annotationdefaults": {
           "arrowhead": 0,
           "arrowwidth": 1
          },
          "autotypenumbers": "strict",
          "coloraxis": {
           "colorbar": {
            "outlinewidth": 1,
            "tickcolor": "rgb(36,36,36)",
            "ticks": "outside"
           }
          },
          "colorscale": {
           "diverging": [
            [
             0,
             "rgb(103,0,31)"
            ],
            [
             0.1,
             "rgb(178,24,43)"
            ],
            [
             0.2,
             "rgb(214,96,77)"
            ],
            [
             0.3,
             "rgb(244,165,130)"
            ],
            [
             0.4,
             "rgb(253,219,199)"
            ],
            [
             0.5,
             "rgb(247,247,247)"
            ],
            [
             0.6,
             "rgb(209,229,240)"
            ],
            [
             0.7,
             "rgb(146,197,222)"
            ],
            [
             0.8,
             "rgb(67,147,195)"
            ],
            [
             0.9,
             "rgb(33,102,172)"
            ],
            [
             1,
             "rgb(5,48,97)"
            ]
           ],
           "sequential": [
            [
             0,
             "#440154"
            ],
            [
             0.1111111111111111,
             "#482878"
            ],
            [
             0.2222222222222222,
             "#3e4989"
            ],
            [
             0.3333333333333333,
             "#31688e"
            ],
            [
             0.4444444444444444,
             "#26828e"
            ],
            [
             0.5555555555555556,
             "#1f9e89"
            ],
            [
             0.6666666666666666,
             "#35b779"
            ],
            [
             0.7777777777777778,
             "#6ece58"
            ],
            [
             0.8888888888888888,
             "#b5de2b"
            ],
            [
             1,
             "#fde725"
            ]
           ],
           "sequentialminus": [
            [
             0,
             "#440154"
            ],
            [
             0.1111111111111111,
             "#482878"
            ],
            [
             0.2222222222222222,
             "#3e4989"
            ],
            [
             0.3333333333333333,
             "#31688e"
            ],
            [
             0.4444444444444444,
             "#26828e"
            ],
            [
             0.5555555555555556,
             "#1f9e89"
            ],
            [
             0.6666666666666666,
             "#35b779"
            ],
            [
             0.7777777777777778,
             "#6ece58"
            ],
            [
             0.8888888888888888,
             "#b5de2b"
            ],
            [
             1,
             "#fde725"
            ]
           ]
          },
          "colorway": [
           "#1F77B4",
           "#FF7F0E",
           "#2CA02C",
           "#D62728",
           "#9467BD",
           "#8C564B",
           "#E377C2",
           "#7F7F7F",
           "#BCBD22",
           "#17BECF"
          ],
          "font": {
           "color": "rgb(36,36,36)"
          },
          "geo": {
           "bgcolor": "white",
           "lakecolor": "white",
           "landcolor": "white",
           "showlakes": true,
           "showland": true,
           "subunitcolor": "white"
          },
          "hoverlabel": {
           "align": "left"
          },
          "hovermode": "closest",
          "mapbox": {
           "style": "light"
          },
          "paper_bgcolor": "white",
          "plot_bgcolor": "white",
          "polar": {
           "angularaxis": {
            "gridcolor": "rgb(232,232,232)",
            "linecolor": "rgb(36,36,36)",
            "showgrid": false,
            "showline": true,
            "ticks": "outside"
           },
           "bgcolor": "white",
           "radialaxis": {
            "gridcolor": "rgb(232,232,232)",
            "linecolor": "rgb(36,36,36)",
            "showgrid": false,
            "showline": true,
            "ticks": "outside"
           }
          },
          "scene": {
           "xaxis": {
            "backgroundcolor": "white",
            "gridcolor": "rgb(232,232,232)",
            "gridwidth": 2,
            "linecolor": "rgb(36,36,36)",
            "showbackground": true,
            "showgrid": false,
            "showline": true,
            "ticks": "outside",
            "zeroline": false,
            "zerolinecolor": "rgb(36,36,36)"
           },
           "yaxis": {
            "backgroundcolor": "white",
            "gridcolor": "rgb(232,232,232)",
            "gridwidth": 2,
            "linecolor": "rgb(36,36,36)",
            "showbackground": true,
            "showgrid": false,
            "showline": true,
            "ticks": "outside",
            "zeroline": false,
            "zerolinecolor": "rgb(36,36,36)"
           },
           "zaxis": {
            "backgroundcolor": "white",
            "gridcolor": "rgb(232,232,232)",
            "gridwidth": 2,
            "linecolor": "rgb(36,36,36)",
            "showbackground": true,
            "showgrid": false,
            "showline": true,
            "ticks": "outside",
            "zeroline": false,
            "zerolinecolor": "rgb(36,36,36)"
           }
          },
          "shapedefaults": {
           "fillcolor": "black",
           "line": {
            "width": 0
           },
           "opacity": 0.3
          },
          "ternary": {
           "aaxis": {
            "gridcolor": "rgb(232,232,232)",
            "linecolor": "rgb(36,36,36)",
            "showgrid": false,
            "showline": true,
            "ticks": "outside"
           },
           "baxis": {
            "gridcolor": "rgb(232,232,232)",
            "linecolor": "rgb(36,36,36)",
            "showgrid": false,
            "showline": true,
            "ticks": "outside"
           },
           "bgcolor": "white",
           "caxis": {
            "gridcolor": "rgb(232,232,232)",
            "linecolor": "rgb(36,36,36)",
            "showgrid": false,
            "showline": true,
            "ticks": "outside"
           }
          },
          "title": {
           "x": 0.05
          },
          "xaxis": {
           "automargin": true,
           "gridcolor": "rgb(232,232,232)",
           "linecolor": "rgb(36,36,36)",
           "showgrid": false,
           "showline": true,
           "ticks": "outside",
           "title": {
            "standoff": 15
           },
           "zeroline": false,
           "zerolinecolor": "rgb(36,36,36)"
          },
          "yaxis": {
           "automargin": true,
           "gridcolor": "rgb(232,232,232)",
           "linecolor": "rgb(36,36,36)",
           "showgrid": false,
           "showline": true,
           "ticks": "outside",
           "title": {
            "standoff": 15
           },
           "zeroline": false,
           "zerolinecolor": "rgb(36,36,36)"
          }
         }
        },
        "width": 1080,
        "xaxis": {
         "anchor": "y",
         "domain": [
          0,
          0.14166666666666666
         ],
         "showticklabels": false
        },
        "xaxis2": {
         "anchor": "y2",
         "domain": [
          0.17166666666666666,
          0.31333333333333335
         ],
         "showticklabels": false
        },
        "xaxis3": {
         "anchor": "y3",
         "domain": [
          0.3433333333333333,
          0.485
         ],
         "showticklabels": false
        },
        "xaxis4": {
         "anchor": "y4",
         "domain": [
          0.515,
          0.6566666666666667
         ],
         "showticklabels": false
        },
        "xaxis5": {
         "anchor": "y5",
         "domain": [
          0.6866666666666666,
          0.8283333333333334
         ],
         "showticklabels": false
        },
        "xaxis6": {
         "anchor": "y6",
         "domain": [
          0.8583333333333333,
          1
         ],
         "showticklabels": false
        },
        "yaxis": {
         "anchor": "x",
         "domain": [
          0,
          1
         ],
         "gridcolor": "lightgray",
         "range": [
          0,
          100
         ],
         "showgrid": true,
         "title": {
          "text": "Avg. Success Rate"
         }
        },
        "yaxis2": {
         "anchor": "x2",
         "domain": [
          0,
          1
         ],
         "gridcolor": "lightgray",
         "matches": "y",
         "range": [
          0,
          100
         ],
         "showgrid": true,
         "showticklabels": false
        },
        "yaxis3": {
         "anchor": "x3",
         "domain": [
          0,
          1
         ],
         "gridcolor": "lightgray",
         "matches": "y",
         "range": [
          0,
          100
         ],
         "showgrid": true,
         "showticklabels": false
        },
        "yaxis4": {
         "anchor": "x4",
         "domain": [
          0,
          1
         ],
         "gridcolor": "lightgray",
         "matches": "y",
         "range": [
          0,
          100
         ],
         "showgrid": true,
         "showticklabels": false
        },
        "yaxis5": {
         "anchor": "x5",
         "domain": [
          0,
          1
         ],
         "gridcolor": "lightgray",
         "matches": "y",
         "range": [
          0,
          100
         ],
         "showgrid": true,
         "showticklabels": false
        },
        "yaxis6": {
         "anchor": "x6",
         "domain": [
          0,
          1
         ],
         "gridcolor": "lightgray",
         "matches": "y",
         "range": [
          0,
          100
         ],
         "showgrid": true,
         "showticklabels": false
        }
       }
      }
     },
     "metadata": {},
     "output_type": "display_data"
    }
   ],
   "source": [
    "fig = plot_win_rates(summary_df)\n",
    "fig.show()"
   ]
  },
  {
   "cell_type": "code",
   "execution_count": 22,
   "id": "7971e701",
   "metadata": {},
   "outputs": [],
   "source": [
    "fig.write_image(\"figures/frontier_success_rate_right_legend.pdf\", width=1200, height=370)"
   ]
  },
  {
   "cell_type": "markdown",
   "id": "1c34baf1",
   "metadata": {},
   "source": [
    "## 2. Qualitative Look at Samples"
   ]
  },
  {
   "cell_type": "code",
   "execution_count": 69,
   "id": "9e251b80",
   "metadata": {},
   "outputs": [
    {
     "data": {
      "text/plain": [
       "Index(['model', 'game_id', 'env', 'attempt', 'info', 'raw_guess', 'guess',\n",
       "       'response', 'word_limit', 'score', 'done', 'data', 'belief',\n",
       "       'action_reasoning', 'belief_reasoning', 'model_info'],\n",
       "      dtype='object')"
      ]
     },
     "execution_count": 69,
     "metadata": {},
     "output_type": "execute_result"
    }
   ],
   "source": [
    "df.columns"
   ]
  },
  {
   "cell_type": "code",
   "execution_count": 9,
   "id": "d4b3d71e",
   "metadata": {},
   "outputs": [
    {
     "data": {
      "text/plain": [
       "array(['Deepseek V3', 'Deepseek V3 (belief prompting)', 'Gemini 2.5 Pro',\n",
       "       'Deepseek V3 (ABBEL)', 'Deepseek R1', 'Gemini 2.5 Pro (ABBEL)',\n",
       "       'Gemini 2.5 Pro (belief prompting)',\n",
       "       'Deepseek R1 (belief prompting)', 'Deepseek R1 (ABBEL)'],\n",
       "      dtype=object)"
      ]
     },
     "execution_count": 9,
     "metadata": {},
     "output_type": "execute_result"
    }
   ],
   "source": [
    "df.model.unique()"
   ]
  },
  {
   "cell_type": "code",
   "execution_count": 13,
   "id": "ca6af337",
   "metadata": {},
   "outputs": [
    {
     "data": {
      "text/html": [
       "<div>\n",
       "<style scoped>\n",
       "    .dataframe tbody tr th:only-of-type {\n",
       "        vertical-align: middle;\n",
       "    }\n",
       "\n",
       "    .dataframe tbody tr th {\n",
       "        vertical-align: top;\n",
       "    }\n",
       "\n",
       "    .dataframe thead th {\n",
       "        text-align: right;\n",
       "    }\n",
       "</style>\n",
       "<table border=\"1\" class=\"dataframe\">\n",
       "  <thead>\n",
       "    <tr style=\"text-align: right;\">\n",
       "      <th></th>\n",
       "      <th>model</th>\n",
       "      <th>game_id</th>\n",
       "      <th>env</th>\n",
       "      <th>attempt</th>\n",
       "      <th>info</th>\n",
       "      <th>raw_guess</th>\n",
       "      <th>guess</th>\n",
       "      <th>response</th>\n",
       "      <th>word_limit</th>\n",
       "      <th>score</th>\n",
       "      <th>done</th>\n",
       "      <th>data</th>\n",
       "      <th>belief</th>\n",
       "      <th>action_reasoning</th>\n",
       "      <th>belief_reasoning</th>\n",
       "      <th>model_info</th>\n",
       "    </tr>\n",
       "  </thead>\n",
       "  <tbody>\n",
       "    <tr>\n",
       "      <th>889</th>\n",
       "      <td>Deepseek R1 (ABBEL)</td>\n",
       "      <td>0</td>\n",
       "      <td>Wordle</td>\n",
       "      <td>1</td>\n",
       "      <td>belief</td>\n",
       "      <td>&lt;Think&gt; Choose a second guess that maximizes n...</td>\n",
       "      <td>CRONY</td>\n",
       "      <td>First letter, c, is not in the target word \\nS...</td>\n",
       "      <td>None</td>\n",
       "      <td>1.0</td>\n",
       "      <td>True</td>\n",
       "      <td>{'agent_game_scenario': 'word', 'env_game_scen...</td>\n",
       "      <td>Excluded letters: C, O, N, Y  \\nIncluded lette...</td>\n",
       "      <td>Okay, so I'm on my second attempt in Wordle. T...</td>\n",
       "      <td>Alright, let me try to figure out the next ste...</td>\n",
       "      <td>Deepseek R1 (ABBEL)</td>\n",
       "    </tr>\n",
       "    <tr>\n",
       "      <th>890</th>\n",
       "      <td>Deepseek R1 (ABBEL)</td>\n",
       "      <td>0</td>\n",
       "      <td>Wordle</td>\n",
       "      <td>2</td>\n",
       "      <td>belief</td>\n",
       "      <td>&lt;Think&gt;Goal: Confirm R's position and test com...</td>\n",
       "      <td>STARE</td>\n",
       "      <td>First letter, s, is not in the target word \\nS...</td>\n",
       "      <td>None</td>\n",
       "      <td>2.0</td>\n",
       "      <td>True</td>\n",
       "      <td>{'agent_game_scenario': 'word', 'env_game_scen...</td>\n",
       "      <td>Excluded letters: C, O, N, Y, S, T, E  \\nInclu...</td>\n",
       "      <td>Okay, so I'm on my third attempt in Wordle. Le...</td>\n",
       "      <td>Okay, so let me try to figure out the next ste...</td>\n",
       "      <td>Deepseek R1 (ABBEL)</td>\n",
       "    </tr>\n",
       "    <tr>\n",
       "      <th>891</th>\n",
       "      <td>Deepseek R1 (ABBEL)</td>\n",
       "      <td>0</td>\n",
       "      <td>Wordle</td>\n",
       "      <td>3</td>\n",
       "      <td>belief</td>\n",
       "      <td>&lt;Think&gt; The target word must have A in positio...</td>\n",
       "      <td>GUARD</td>\n",
       "      <td>Goal reached</td>\n",
       "      <td>None</td>\n",
       "      <td>3.0</td>\n",
       "      <td>True</td>\n",
       "      <td>{'agent_game_scenario': 'word', 'env_game_scen...</td>\n",
       "      <td>Excluded letters: C, O, N, Y, S, T, E  \\nInclu...</td>\n",
       "      <td>Okay, let's see. I need to figure out the next...</td>\n",
       "      <td>Okay, let me figure out how to update the beli...</td>\n",
       "      <td>Deepseek R1 (ABBEL)</td>\n",
       "    </tr>\n",
       "  </tbody>\n",
       "</table>\n",
       "</div>"
      ],
      "text/plain": [
       "                   model game_id     env  attempt    info  \\\n",
       "889  Deepseek R1 (ABBEL)       0  Wordle        1  belief   \n",
       "890  Deepseek R1 (ABBEL)       0  Wordle        2  belief   \n",
       "891  Deepseek R1 (ABBEL)       0  Wordle        3  belief   \n",
       "\n",
       "                                             raw_guess  guess  \\\n",
       "889  <Think> Choose a second guess that maximizes n...  CRONY   \n",
       "890  <Think>Goal: Confirm R's position and test com...  STARE   \n",
       "891  <Think> The target word must have A in positio...  GUARD   \n",
       "\n",
       "                                              response word_limit  score  \\\n",
       "889  First letter, c, is not in the target word \\nS...       None    1.0   \n",
       "890  First letter, s, is not in the target word \\nS...       None    2.0   \n",
       "891                                       Goal reached       None    3.0   \n",
       "\n",
       "     done                                               data  \\\n",
       "889  True  {'agent_game_scenario': 'word', 'env_game_scen...   \n",
       "890  True  {'agent_game_scenario': 'word', 'env_game_scen...   \n",
       "891  True  {'agent_game_scenario': 'word', 'env_game_scen...   \n",
       "\n",
       "                                                belief  \\\n",
       "889  Excluded letters: C, O, N, Y  \\nIncluded lette...   \n",
       "890  Excluded letters: C, O, N, Y, S, T, E  \\nInclu...   \n",
       "891  Excluded letters: C, O, N, Y, S, T, E  \\nInclu...   \n",
       "\n",
       "                                      action_reasoning  \\\n",
       "889  Okay, so I'm on my second attempt in Wordle. T...   \n",
       "890  Okay, so I'm on my third attempt in Wordle. Le...   \n",
       "891  Okay, let's see. I need to figure out the next...   \n",
       "\n",
       "                                      belief_reasoning           model_info  \n",
       "889  Alright, let me try to figure out the next ste...  Deepseek R1 (ABBEL)  \n",
       "890  Okay, so let me try to figure out the next ste...  Deepseek R1 (ABBEL)  \n",
       "891  Okay, let me figure out how to update the beli...  Deepseek R1 (ABBEL)  "
      ]
     },
     "execution_count": 13,
     "metadata": {},
     "output_type": "execute_result"
    }
   ],
   "source": [
    "wordle_sample = df[\n",
    "    (df['model'] == 'Deepseek R1 (ABBEL)') & \\\n",
    "        (df['env'] == 'Wordle') & \\\n",
    "            (df['game_id'] == str(0))\n",
    "            ]\n",
    "wordle_sample"
   ]
  },
  {
   "cell_type": "code",
   "execution_count": 17,
   "id": "ceed05c4",
   "metadata": {},
   "outputs": [
    {
     "data": {
      "text/plain": [
       "'guard'"
      ]
     },
     "execution_count": 17,
     "metadata": {},
     "output_type": "execute_result"
    }
   ],
   "source": [
    "wordle_sample.iloc[0]['data']['env_game_scenario']"
   ]
  },
  {
   "cell_type": "code",
   "execution_count": 14,
   "id": "7d43d841",
   "metadata": {},
   "outputs": [
    {
     "data": {
      "text/plain": [
       "'Excluded letters: C, O, N, Y  \\nIncluded letters: R (must be in position 1, 3, 4, or 5)  \\nTarget word contains R and excludes C, O, N, Y.'"
      ]
     },
     "execution_count": 14,
     "metadata": {},
     "output_type": "execute_result"
    }
   ],
   "source": [
    "wordle_sample.iloc[0]['belief']"
   ]
  },
  {
   "cell_type": "code",
   "execution_count": 16,
   "id": "016dff2d",
   "metadata": {},
   "outputs": [
    {
     "data": {
      "text/plain": [
       "'First letter, s, is not in the target word \\nSecond letter, t, is not in the target word \\nThird letter, a, is correct and in the correct position in the target word \\nFourth letter, r, is correct and in the correct position in the target word \\nFifth letter, e, is not in the target word'"
      ]
     },
     "execution_count": 16,
     "metadata": {},
     "output_type": "execute_result"
    }
   ],
   "source": [
    "wordle_sample.iloc[1]['response']"
   ]
  },
  {
   "cell_type": "code",
   "execution_count": 15,
   "id": "c04b83e8",
   "metadata": {},
   "outputs": [
    {
     "data": {
      "text/plain": [
       "'Excluded letters: C, O, N, Y, S, T, E  \\nIncluded letters: A (position 3), R (position 4)  \\nTarget word contains A and R, excludes the listed letters, and has A in position 3 and R in position 4.'"
      ]
     },
     "execution_count": 15,
     "metadata": {},
     "output_type": "execute_result"
    }
   ],
   "source": [
    "wordle_sample.iloc[1]['belief']"
   ]
  },
  {
   "cell_type": "markdown",
   "id": "5d6fccfe",
   "metadata": {},
   "source": [
    "## Compare two models evaluated on the same scenario"
   ]
  },
  {
   "cell_type": "code",
   "execution_count": 86,
   "id": "95095610",
   "metadata": {},
   "outputs": [],
   "source": [
    "GP = set([v['env_game_scenario'] for v in df[\n",
    "    (df['model'] == 'Gemini 2.5 Pro (ABBEL)') & \\\n",
    "        (df['env'] == 'Twenty Questions') & \\\n",
    "            (df['info'] == 'belief') & \\\n",
    "            (df['attempt'] == 1)\n",
    "            ]['data'].values])\n",
    "DR = set([v['env_game_scenario'] for v in df[\n",
    "    (df['model'] == 'Deepseek R1 (ABBEL)') & \\\n",
    "        (df['env'] == 'Twenty Questions') & \\\n",
    "            (df['info'] == 'belief') & \\\n",
    "            (df['attempt'] == 1)\n",
    "            ]['data'].values])\n",
    "GP.intersection(DR)"
   ]
  },
  {
   "cell_type": "code",
   "execution_count": 97,
   "id": "faa2c74a",
   "metadata": {},
   "outputs": [
    {
     "name": "stdout",
     "output_type": "stream",
     "text": [
      "1\n",
      "('I am playing a game of 20 Questions to identify a piece of clothing. I have '\n",
      " 'now used 15 out of 20 questions.\\n'\n",
      " '\\n'\n",
      " \"Here's what I know so far:\\n\"\n",
      " '*   **Fact 1:** The item is worn on the upper body.\\n'\n",
      " '*   **Fact 2:** It is NOT typically worn as outerwear.\\n'\n",
      " '*   **Fact 3:** It typically has a collar.\\n'\n",
      " '*   **Fact 4:** It typically has buttons all the way down the front.\\n'\n",
      " '*   **Fact 5:** It is typically worn by men.\\n'\n",
      " '*   **Fact 6:** It is typically worn for formal or business occasions.\\n'\n",
      " '*   **Fact 7:** It has short sleeves.\\n'\n",
      " '*   **Fact 8:** It features decorative vertical pleats or embroidery on the '\n",
      " 'front.\\n'\n",
      " '*   **Fact 9:** It is NOT a Guayabera shirt.\\n'\n",
      " '*   **Fact 10:** It is NOT considered a form of national dress for a '\n",
      " 'specific country.\\n'\n",
      " '*   **Fact 11:** It is specifically worn with a tuxedo.\\n'\n",
      " '*   **Fact 12:** It is NOT called a \"short-sleeved tuxedo shirt\".\\n'\n",
      " '*   **Fact 13:** Its decorative front does NOT feature ruffles.\\n'\n",
      " '*   **Fact 14:** Its decorative front does NOT consist of a distinct, '\n",
      " \"separate panel of fabric (a 'bib').\\n\"\n",
      " '*   **Fact 15:** The decorative vertical pleats on the front are NOT known '\n",
      " \"as 'pin-tucks'.\\n\"\n",
      " '\\n'\n",
      " 'Based on the cumulative information, my confidence has been updated.\\n'\n",
      " '*   **Analysis:** The \"No\" answer to my last question, \"Are the decorative '\n",
      " 'vertical pleats on the front known as \\'pin-tucks\\'?\", is a major setback. '\n",
      " 'My leading hypothesis of a \"pleated-front shirt\" or \"pin-tuck shirt\" has '\n",
      " 'been invalidated. This means that if the decorative elements are pleats, '\n",
      " 'they are a very obscure type.\\n'\n",
      " '*   **Re-evaluation:** I must now reconsider the other half of Fact 8: '\n",
      " '\"...pleats **or** embroidery\". Having exhausted the most common types of '\n",
      " 'pleated fronts (ruffles, bib, pin-tucks), it is highly likely that the '\n",
      " 'decorative elements are not pleats at all, but rather a form of embroidery. '\n",
      " 'The object remains a very unusual item: a short-sleeved formal shirt worn '\n",
      " 'with a tuxedo, featuring vertical decorations that are not ruffles, not a '\n",
      " 'bib, and not pin-tucks.\\n'\n",
      " '*   **Current Prime Candidate:** There is no longer a single prime candidate '\n",
      " \"for the item's name. The identity is very mysterious. The immediate goal is \"\n",
      " 'to confirm the nature of the decoration. My new leading hypothesis is that '\n",
      " 'the item is a shirt with vertical **embroidery** on the front.\\n'\n",
      " '\\n'\n",
      " 'My confidence in any specific name is now low. However, I am confident that '\n",
      " 'the next step must be to pivot away from pleats and investigate the '\n",
      " '\"embroidery\" possibility directly.')\n"
     ]
    }
   ],
   "source": [
    "step = 15\n",
    "game_sample = df[\n",
    "    (df['model'] == 'Gemini 2.5 Pro (ABBEL)') & \\\n",
    "        (df['env'] == 'Twenty Questions') & \\\n",
    "            (df['info'] == 'belief') & \\\n",
    "            (df['attempt'] == step) & \\\n",
    "            (df['data'].apply(lambda x: x.get('env_game_scenario') == 'Waistcoat'))\n",
    "            ]\n",
    "print(len(game_sample))\n",
    "from pprint import pprint\n",
    "pprint(game_sample['belief'].values[0])\n",
    "\n",
    "game_sample = df[\n",
    "    (df['model'] == 'Deepseek R1 (ABBEL)') & \\\n",
    "        (df['env'] == 'Twenty Questions') & \\\n",
    "            (df['info'] == 'belief') & \\\n",
    "            (df['attempt'] == step) & \\\n",
    "            (df['data'].apply(lambda x: x.get('env_game_scenario') == 'Waistcoat'))\n",
    "            ]\n",
    "print(len(game_sample))\n",
    "from pprint import pprint\n",
    "print(game_sample['belief'].values[0])"
   ]
  },
  {
   "cell_type": "code",
   "execution_count": 76,
   "id": "2af8aebe",
   "metadata": {},
   "outputs": [
    {
     "name": "stdout",
     "output_type": "stream",
     "text": [
      "{'action_reasoning': '**Analyzing the Clues**\\n'\n",
      "                     '\\n'\n",
      "                     \"I'm on attempt 4 and starting to feel the pressure! The \"\n",
      "                     'word is five letters, begins with \"S,\" and includes \"T\" '\n",
      "                     'and \"E.\" I\\'ve ruled out \"T\" in the second and fourth '\n",
      "                     'positions. I am close to a breakthrough, maybe in the '\n",
      "                     'next guess?\\n'\n",
      "                     '\\n'\n",
      "                     '\\n'\n",
      "                     '**Considering the Options**\\n'\n",
      "                     '\\n'\n",
      "                     \"I've narrowed down the possibilities further. Attempt 5 \"\n",
      "                     'is here. I now have \"S _ T _ _\" or \"S _ _ T _\" or \"_ _ _ '\n",
      "                     '_\". I am focusing on the possible placements of \"E\" now, '\n",
      "                     'with the goal of limiting the letter options in the '\n",
      "                     'process, as well as trying to eliminate the letters I '\n",
      "                     'already know cannot work. \\n'\n",
      "                     '\\n'\n",
      "                     '\\n'\n",
      "                     '**Evaluating the Possibilities**\\n'\n",
      "                     '\\n'\n",
      "                     'I\\'ve just completed the fifth guess with \"STEIN,\" which '\n",
      "                     'yielded new letters \"I\" and \"N\". My analysis shows '\n",
      "                     '\"STEIN\" as a viable candidate, following the logic of \"S '\n",
      "                     '_ T E _.\" The word is still missing an \"E\" placement. '\n",
      "                     'I\\'m planning my final attempt now, considering \"STEIN\" '\n",
      "                     'as a possible solution, while I try to narrow down the '\n",
      "                     'options!\\n'\n",
      "                     '\\n'\n",
      "                     '\\n'\n",
      "                     '**Finalizing the Strategy**\\n'\n",
      "                     '\\n'\n",
      "                     \"I've now exhausted the options from the previous \"\n",
      "                     'analysis, with \"STEIN\" being the most promising. I will '\n",
      "                     'use \"STEIN\" as my sixth and final attempt, as it '\n",
      "                     'accounts for many possibilities, and I have exhausted my '\n",
      "                     'options.\\n'\n",
      "                     '\\n'\n",
      "                     '\\n'\n",
      "                     '**Refining Possibilities**\\n'\n",
      "                     '\\n'\n",
      "                     \"I'm now down to the wire and analyzing the best options. \"\n",
      "                     'My latest review of the data shows \"STEIN\" as a very '\n",
      "                     'strong candidate and \"SPENT\" and \"SCENT\" are good '\n",
      "                     'alternatives. \"SWEET\" is less likely. I have one attempt '\n",
      "                     'left, so I will choose \"STEIN\".\\n'\n",
      "                     '\\n'\n",
      "                     '\\n'\n",
      "                     '**Making a Choice**\\n'\n",
      "                     '\\n'\n",
      "                     \"I've analyzed all the possibilities, weighing the pros \"\n",
      "                     'and cons of each candidate based on letter frequency and '\n",
      "                     'placement. I now have a clear strategy and a final '\n",
      "                     'selection ready for my sixth and final attempt. The word '\n",
      "                     'is likely to be \"STEIN\", \"SPENT\" or \"SCENT\", but I will '\n",
      "                     'go for the best option!\\n'\n",
      "                     '\\n'\n",
      "                     '\\n'\n",
      "                     '**Final Weighing**\\n'\n",
      "                     '\\n'\n",
      "                     \"I've carefully considered the remaining options based on \"\n",
      "                     'the process of elimination. Given all the restrictions, '\n",
      "                     'my final consideration weighs \"STEIN,\" \"SPENT,\" and '\n",
      "                     '\"SCENT\" as equally strong candidates.\\n'\n",
      "                     '\\n'\n",
      "                     '\\n'\n",
      "                     '**Evaluating the Options**\\n'\n",
      "                     '\\n'\n",
      "                     \"I'm analyzing the options given the restrictions: five \"\n",
      "                     'letters, starting with \"S\", containing \"T\" and \"E,\" and '\n",
      "                     'no \"A,\" \"L,\" \"O,\" or \"R.\" The word is not \"S _ _ _ E\" '\n",
      "                     'and \"T\" is not the second or fourth letter. \"STEIN,\" '\n",
      "                     '\"SPENT,\" and \"SCENT\" seem like promising contenders.\\n'\n",
      "                     '\\n'\n",
      "                     '\\n'\n",
      "                     '**Refining My Choices**\\n'\n",
      "                     '\\n'\n",
      "                     \"I'm now on my final attempt and evaluating the remaining \"\n",
      "                     \"words. After the previous guess, I'm trying to decide \"\n",
      "                     'between `STEIN`, `SPENT`, and `SCENT`. I will go with '\n",
      "                     'the word that contains the most information for the next '\n",
      "                     'attempt.\\n'\n",
      "                     '\\n'\n",
      "                     '\\n',\n",
      " 'attempt': 3,\n",
      " 'belief': 'The secret word is a five-letter word.\\n'\n",
      "           'The word has the structure S _ E _ _.\\n'\n",
      "           \"The word contains the letters 'T' and 'N'.\\n\"\n",
      "           \"The letter 'T' must be in position 4 or 5.\\n\"\n",
      "           \"The letter 'N' must be in position 2 or 4.\\n\"\n",
      "           \"The word does not contain the letters 'A', 'L', 'O', 'R', or 'I'.\",\n",
      " 'belief_reasoning': '**Considering Wordle Strategy**\\n'\n",
      "                     '\\n'\n",
      "                     \"I'm currently working through the implications of the \"\n",
      "                     \"clues for my Wordle strategy. I've locked in that the \"\n",
      "                     'word is five letters long, starts with \"S\", contains '\n",
      "                     'both \"T\" and \"E\" and have further narrowed down the '\n",
      "                     'potential positions for each of the letters. I am now '\n",
      "                     'working through possible word combinations that fit '\n",
      "                     'these constraints.\\n'\n",
      "                     '\\n'\n",
      "                     '\\n'\n",
      "                     '**Narrowing Wordle Options**\\n'\n",
      "                     '\\n'\n",
      "                     \"I've now used the new information to further narrow down \"\n",
      "                     'the constraints of the word. Given the results from '\n",
      "                     \"'STEIN', the word is of the form 'S _ E _ _'. We've \"\n",
      "                     \"confirmed 'T' and 'N' as letters in the word, and \"\n",
      "                     \"deduced their possible positions, with the letters 'T' \"\n",
      "                     \"and 'N' occupying the 4th and 5th positions \"\n",
      "                     'respectively.\\n'\n",
      "                     '\\n'\n",
      "                     '\\n'\n",
      "                     '**Revising Wordle Guesses**\\n'\n",
      "                     '\\n'\n",
      "                     \"I'm now focused on how 'T' and 'N' interact, with 'T' \"\n",
      "                     \"either in the fourth or fifth slot, and 'N' in the \"\n",
      "                     \"second or fourth. I've further narrowed down the \"\n",
      "                     \"possibilities to three potential forms: 'SNET_', \"\n",
      "                     \"'SNE_T', and 'S_ENT'. I will now explore potential word \"\n",
      "                     'options, given the available information.\\n'\n",
      "                     '\\n'\n",
      "                     '\\n'\n",
      "                     '**Formulating Possible Word Shapes**\\n'\n",
      "                     '\\n'\n",
      "                     \"Now, I'm focusing on narrowing down the word \"\n",
      "                     \"possibilities. The form `S _ E _ _` is confirmed. I've \"\n",
      "                     \"determined that 'T' and 'N' must be present, and I've \"\n",
      "                     \"deduced their possible positions: 'T' is in either \"\n",
      "                     \"position 4 or 5 and 'N' is in position 2 or 4. This \"\n",
      "                     'gives me three possibilities: `SNET_`, `SNE_T`, and '\n",
      "                     \"`S_ENT`. I'll now consider which words fit this.\\n\"\n",
      "                     '\\n'\n",
      "                     '\\n'\n",
      "                     '**Summarizing the Constraints**\\n'\n",
      "                     '\\n'\n",
      "                     \"I've now consolidated all the gathered information. The \"\n",
      "                     \"word structure is S _ E _ _. We know it includes 'T' and \"\n",
      "                     \"'N', with 'T' in position four or five, and 'N' in \"\n",
      "                     \"position two or four. Importantly, 'A', 'L', 'O', 'R', \"\n",
      "                     \"and 'I' are excluded.\\n\"\n",
      "                     '\\n'\n",
      "                     '\\n',\n",
      " 'data': {'agent_game_scenario': 'word',\n",
      "          'belief_actions_convs': [],\n",
      "          'belief_config': {'style': 'none'},\n",
      "          'conversation': [{'content': 'You are a helpful assistant.',\n",
      "                            'role': 'system'},\n",
      "                           {'content': 'You are playing a game of Wordle.\\n'\n",
      "                                       '\\n'\n",
      "                                       'Format your response in the following '\n",
      "                                       'way: <Think> Any step-by-step, short '\n",
      "                                       'and concise thinking to strategically '\n",
      "                                       'determine the next guess for the '\n",
      "                                       'secret word </Think> \\n'\n",
      "                                       '<Answer> your guess of what the word '\n",
      "                                       'should be </Answer> \\n'\n",
      "                                       '\\n'\n",
      "                                       'The game begins now, please make your '\n",
      "                                       'first guess about the secret '\n",
      "                                       'five-letter word!',\n",
      "                            'role': 'user'},\n",
      "                           {'content': 'slate', 'role': 'assistant'},\n",
      "                           {'content': 'First letter, s, is correct and in the '\n",
      "                                       'correct position in the target word \\n'\n",
      "                                       'Second letter, l, is not in the target '\n",
      "                                       'word \\n'\n",
      "                                       'Third letter, a, is not in the target '\n",
      "                                       'word \\n'\n",
      "                                       'Fourth letter, t, exists in the target '\n",
      "                                       'word but in a different position \\n'\n",
      "                                       'Fifth letter, e, exists in the target '\n",
      "                                       'word but in a different position\\n'\n",
      "                                       '\\n'\n",
      "                                       '\\n'\n",
      "                                       'Make your next guess about the hidden '\n",
      "                                       'word. Please try to be concise. Format '\n",
      "                                       'your response in the following way: '\n",
      "                                       '<Think> Any step-by-step, short and '\n",
      "                                       'concise thinking to strategically '\n",
      "                                       'determine the next guess for the '\n",
      "                                       'secret word </Think> \\n'\n",
      "                                       '<Answer> your guess of what the word '\n",
      "                                       'should be </Answer>',\n",
      "                            'role': 'user'},\n",
      "                           {'content': 'store', 'role': 'assistant'},\n",
      "                           {'content': 'First letter, s, is correct and in the '\n",
      "                                       'correct position in the target word \\n'\n",
      "                                       'Second letter, t, exists in the target '\n",
      "                                       'word but in a different position \\n'\n",
      "                                       'Third letter, o, is not in the target '\n",
      "                                       'word \\n'\n",
      "                                       'Fourth letter, r, is not in the target '\n",
      "                                       'word \\n'\n",
      "                                       'Fifth letter, e, exists in the target '\n",
      "                                       'word but in a different position\\n'\n",
      "                                       '\\n'\n",
      "                                       '\\n'\n",
      "                                       'Make your next guess about the hidden '\n",
      "                                       'word. Please try to be concise. Format '\n",
      "                                       'your response in the following way: '\n",
      "                                       '<Think> Any step-by-step, short and '\n",
      "                                       'concise thinking to strategically '\n",
      "                                       'determine the next guess for the '\n",
      "                                       'secret word </Think> \\n'\n",
      "                                       '<Answer> your guess of what the word '\n",
      "                                       'should be </Answer>',\n",
      "                            'role': 'user'},\n",
      "                           {'content': 'stein', 'role': 'assistant'},\n",
      "                           {'content': 'First letter, s, is correct and in the '\n",
      "                                       'correct position in the target word \\n'\n",
      "                                       'Second letter, t, exists in the target '\n",
      "                                       'word but in a different position \\n'\n",
      "                                       'Third letter, e, is correct and in the '\n",
      "                                       'correct position in the target word \\n'\n",
      "                                       'Fourth letter, i, is not in the target '\n",
      "                                       'word \\n'\n",
      "                                       'Fifth letter, n, exists in the target '\n",
      "                                       'word but in a different position\\n'\n",
      "                                       '\\n'\n",
      "                                       '\\n'\n",
      "                                       'Make your next guess about the hidden '\n",
      "                                       'word. Please try to be concise. Format '\n",
      "                                       'your response in the following way: '\n",
      "                                       '<Think> Any step-by-step, short and '\n",
      "                                       'concise thinking to strategically '\n",
      "                                       'determine the next guess for the '\n",
      "                                       'secret word </Think> \\n'\n",
      "                                       '<Answer> your guess of what the word '\n",
      "                                       'should be </Answer>',\n",
      "                            'role': 'user'}],\n",
      "          'conversation_llm_responses': [],\n",
      "          'env_conversation': [{'content': 'scent', 'role': 'system'},\n",
      "                               {'content': 'slate\\n', 'role': 'user'},\n",
      "                               {'content': 'First letter, s, is correct and in '\n",
      "                                           'the correct position in the target '\n",
      "                                           'word \\n'\n",
      "                                           'Second letter, l, is not in the '\n",
      "                                           'target word \\n'\n",
      "                                           'Third letter, a, is not in the '\n",
      "                                           'target word \\n'\n",
      "                                           'Fourth letter, t, exists in the '\n",
      "                                           'target word but in a different '\n",
      "                                           'position \\n'\n",
      "                                           'Fifth letter, e, exists in the '\n",
      "                                           'target word but in a different '\n",
      "                                           'position',\n",
      "                                'role': 'assistant'},\n",
      "                               {'content': 'store\\n', 'role': 'user'},\n",
      "                               {'content': 'First letter, s, is correct and in '\n",
      "                                           'the correct position in the target '\n",
      "                                           'word \\n'\n",
      "                                           'Second letter, t, exists in the '\n",
      "                                           'target word but in a different '\n",
      "                                           'position \\n'\n",
      "                                           'Third letter, o, is not in the '\n",
      "                                           'target word \\n'\n",
      "                                           'Fourth letter, r, is not in the '\n",
      "                                           'target word \\n'\n",
      "                                           'Fifth letter, e, exists in the '\n",
      "                                           'target word but in a different '\n",
      "                                           'position',\n",
      "                                'role': 'assistant'},\n",
      "                               {'content': 'stein\\n', 'role': 'user'},\n",
      "                               {'content': 'First letter, s, is correct and in '\n",
      "                                           'the correct position in the target '\n",
      "                                           'word \\n'\n",
      "                                           'Second letter, t, exists in the '\n",
      "                                           'target word but in a different '\n",
      "                                           'position \\n'\n",
      "                                           'Third letter, e, is correct and in '\n",
      "                                           'the correct position in the target '\n",
      "                                           'word \\n'\n",
      "                                           'Fourth letter, i, is not in the '\n",
      "                                           'target word \\n'\n",
      "                                           'Fifth letter, n, exists in the '\n",
      "                                           'target word but in a different '\n",
      "                                           'position',\n",
      "                                'role': 'assistant'}],\n",
      "          'env_first_message': 'scent',\n",
      "          'env_game_scenario': 'scent',\n",
      "          'goal_reached': False,\n",
      "          'judge_conversation': None,\n",
      "          'judge_label': True,\n",
      "          'max_turns': 6,\n",
      "          'num_turns': 3,\n",
      "          'rewards': None},\n",
      " 'done': True,\n",
      " 'env': 'wordle',\n",
      " 'game_id': '0',\n",
      " 'guess': 'STEIN',\n",
      " 'info': 'belief',\n",
      " 'model': 'google/gemini-2.5-pro (belief)',\n",
      " 'model_info': 'google/gemini-2.5-pro (belief)',\n",
      " 'raw_guess': '<Think>\\n'\n",
      "              '1.  **Analyze the current state:**\\n'\n",
      "              \"    *   The word is 5 letters long and starts with 'S'. (S _ _ \"\n",
      "              '_ _)\\n'\n",
      "              \"    *   It contains 'T' and 'E'.\\n\"\n",
      "              \"    *   'T' is not in the 2nd or 4th position. So, 'T' must be \"\n",
      "              'in the 3rd or 5th position.\\n'\n",
      "              \"    *   'E' is not in the 5th position. So, 'E' must be in the \"\n",
      "              '2nd, 3rd, or 4th position.\\n'\n",
      "              \"    *   The word does not contain 'A', 'L', 'O', or 'R'.\\n\"\n",
      "              '\\n'\n",
      "              '2.  **Identify possible structures:**\\n'\n",
      "              \"    *   Case 1: 'T' is in the 3rd position (S _ T _ _). 'E' can \"\n",
      "              'be in the 2nd (S E T _ _) or 4th (S _ T E _).\\n'\n",
      "              \"    *   Case 2: 'T' is in the 5th position (S _ _ _ T). 'E' can \"\n",
      "              'be in the 2nd (S E _ _ T), 3rd (S _ E _ T), or 4th (S _ _ E '\n",
      "              'T).\\n'\n",
      "              '\\n'\n",
      "              '3.  **Find candidate words that maximize information:**\\n'\n",
      "              '    *   My goal is to test common, unused letters to narrow '\n",
      "              'down the possibilities. The unused letters are B, C, D, F, G, '\n",
      "              'H, I, J, K, M, N, P, Q, U, V, W, X, Y, Z.\\n'\n",
      "              \"    *   Let's look for words that fit the identified structures \"\n",
      "              'and use these new letters.\\n'\n",
      "              '    *   For the `S _ T E _` structure: `STEIN` is a strong '\n",
      "              \"candidate. It tests two very common new letters: 'I' and 'N'.\\n\"\n",
      "              '    *   For the `S _ _ E T` structure: `SPENT` and `SCENT` are '\n",
      "              \"good candidates. They test 'P'/'C' and 'N'.\\n\"\n",
      "              '    *   For the `S _ E _ T` structure with double letters: '\n",
      "              \"`SWEET`, `SHEET`. These test 'W'/'H' but use a double 'E', \"\n",
      "              'which might be less informative than testing two unique '\n",
      "              'letters.\\n'\n",
      "              '\\n'\n",
      "              '4.  **Select the best guess:**\\n'\n",
      "              '    *   `STEIN` is an excellent choice. It fits all '\n",
      "              \"constraints, it's a common word, and it tests a new vowel ('I') \"\n",
      "              \"and a common consonant ('N'). This guess will confirm or \"\n",
      "              'eliminate the `S _ T E _` structure and check for the presence '\n",
      "              \"of 'I' and 'N', providing a lot of information for the next \"\n",
      "              'attempt.\\n'\n",
      "              '\\n'\n",
      "              '</Think>\\n'\n",
      "              '<Answer>STEIN</Answer>',\n",
      " 'response': 'first letter, s, is correct and in the correct position in the '\n",
      "             'target word \\n'\n",
      "             'second letter, t, exists in the target word but in a different '\n",
      "             'position \\n'\n",
      "             'third letter, e, is correct and in the correct position in the '\n",
      "             'target word \\n'\n",
      "             'fourth letter, i, is not in the target word \\n'\n",
      "             'fifth letter, n, exists in the target word but in a different '\n",
      "             'position',\n",
      " 'score': 3.0,\n",
      " 'word_limit': 'None'}\n"
     ]
    }
   ],
   "source": [
    "pp(wordle_sample.iloc[2].to_dict())"
   ]
  },
  {
   "cell_type": "code",
   "execution_count": 15,
   "id": "b4ce1cdb",
   "metadata": {},
   "outputs": [],
   "source": [
    "# can't do with belief but can do with history -> look at the full trajectory with reasoning and try to see why it can't do it with belief"
   ]
  },
  {
   "cell_type": "markdown",
   "id": "21e41562",
   "metadata": {},
   "source": [
    "## 3. Sizes of Belief States"
   ]
  },
  {
   "cell_type": "code",
   "execution_count": 10,
   "id": "bb344f62",
   "metadata": {},
   "outputs": [],
   "source": [
    "df_belief = df[df['info'] == 'belief']"
   ]
  },
  {
   "cell_type": "code",
   "execution_count": 11,
   "id": "5377d8c6",
   "metadata": {},
   "outputs": [
    {
     "name": "stdout",
     "output_type": "stream",
     "text": [
      "[{'role': 'assistant', 'content': '1 2 3 4'}, {'role': 'user', 'content': \"Your last guess has 0 exact matches with the secret code. In other words, exactly 0 digit(s) in your last guess, 1 2 3 4, are in the correct position in the secret code. (We won't reveal the particular digits within your guess that are exact matches, they can be any digit within your guess) Your last guess also has 2 partial matches. In other words, 2 digits in your guess, 1 2 3 4, are in the secret code, but in the wrong position. (We won't reveal which digits within your guess are partial matches, they can be any, you must deduce them with reasoning and further guesses and feedbacks.)\\n\\n\\nNow make your next guess about the secret code. Please format your response as: <Think> Any step-by-step, short and concise thinking to determine what the next guess should be </Think>\\n <Answer> your guess on the 4 digit code </Answer>\"}]\n",
      "913\n"
     ]
    }
   ],
   "source": [
    "for idx, row in df_belief.iterrows():\n",
    "    if row.env == 'Mastermind':\n",
    "        d = row['data']\n",
    "        print(str(d.get('conversation', [])[2:]))\n",
    "        print(len(str(d.get('conversation', [])[2:])))\n",
    "        break"
   ]
  },
  {
   "cell_type": "code",
   "execution_count": 13,
   "id": "c3da7dfc",
   "metadata": {},
   "outputs": [],
   "source": [
    "history_length = df_belief['data'].apply(lambda d: len(str(d.get('conversation', [])[2:])))"
   ]
  },
  {
   "cell_type": "code",
   "execution_count": 14,
   "id": "51724425",
   "metadata": {},
   "outputs": [
    {
     "name": "stderr",
     "output_type": "stream",
     "text": [
      "/tmp/ipykernel_261554/3153467943.py:1: SettingWithCopyWarning: \n",
      "A value is trying to be set on a copy of a slice from a DataFrame.\n",
      "Try using .loc[row_indexer,col_indexer] = value instead\n",
      "\n",
      "See the caveats in the documentation: https://pandas.pydata.org/pandas-docs/stable/user_guide/indexing.html#returning-a-view-versus-a-copy\n",
      "  df_belief['history_length'] = history_length\n"
     ]
    }
   ],
   "source": [
    "df_belief['history_length'] = history_length"
   ]
  },
  {
   "cell_type": "code",
   "execution_count": 15,
   "id": "0a4cf195",
   "metadata": {},
   "outputs": [
    {
     "data": {
      "text/plain": [
       "{'agent_game_scenario': 'city',\n",
       " 'env_game_scenario': 'Loja, Ecuador',\n",
       " 'goal_reached': False,\n",
       " 'judge_label': True,\n",
       " 'num_turns': 1,\n",
       " 'max_turns': 20,\n",
       " 'env_first_message': \"You are the environment in a game called 'Guess My City.' You will be given a specific home city (e.g., London, United Kingdom) and you have to respond to the player's questions to help them guess this city.\\n\\n Follow these rules:\\n\\n1. Answer the agent player's questions honestly and correctly (i.e., the answers need to be true given the home city given to you at the start of the game), but do not mention the name of your city or its country explicitly. However, you can verify the player's guess about a particular city/country. For example, if the player asks, 'What is your home country?' You should not respond to this question. However, if they ask 'Is your home country United Kingdom?' You should reply with the correct answer based on the home city given to you.\\n\\n2. Your answers should provide useful clues about your city's geography, culture, landmarks, cuisine, climate, or other unique characteristics.\\n\\n3. Be as informative as possible to guide the agent player within the rules. Example answers: If the agent asks about cuisine, you could say: 'My city is famous for its seafood dishes and has a vibrant food market scene.' If the agent asks about geography, you might say: 'My city is located near a major river and has a historic port.'\\n\\n4. You should respond with 'Goal reached' if the player has successfully guessed your home city. Ignore minor variations in the spelling of the city, but only if these variations are common.\\n\\nRemember, you are here to help the agent guess your city through clues, but you must not reveal the city's name or its country directly UNDER ANY CIRCUMSTANCES. If the player asks such a question, reply that you cannot give away the name, and can only confirm the name if the player guesses it. \\n\\nThe game starts now, and the player is trying to guess the city Loja, Ecuador\",\n",
       " 'conversation': [{'role': 'system',\n",
       "   'content': 'You are a helpful assistant.'},\n",
       "  {'role': 'user',\n",
       "   'content': \"You are playing a game called 'Guess My City.' Your task is to guess the home city of the other player within 20 questions.\\n\\nYou must follow these rules:\\n\\n1. You may ask open-ended questions about the city's characteristics, such as geography, culture, landmarks, cuisine, climate, or other unique traits.\\n\\n2. Do not ask directly for the name of the city or country.\\n\\n3. Use the answers from the other player to strategically decide the next question, your goal is to arrive at the correct city with as few questions as possible. \\n\\n4. After gathering enough information, you can attempt to guess the city, but each guess counts as one of your 20 questions.\\n\\nExample questions: 'What is your favorite cuisine from your home city?', 'Is your home city located near the coastline?', 'What kind of landmarks is your city known for?' Your goal is to identify the city through deduction, pattern recognition, and strategic questioning.\\n\\n4. When you are confident, make a guess, by mentioning the name of the city and the country it is in, for example, 'Is the city Jakarta, Indonesia?'\\n\\nThe game starts now, and start asking your questions.\"},\n",
       "  {'role': 'assistant', 'content': 'is your home city located in europe?'},\n",
       "  {'role': 'user',\n",
       "   'content': \"No, my home city is not located in Europe. It's situated in South America.\"}],\n",
       " 'conversation_llm_responses': [],\n",
       " 'env_conversation': [{'role': 'system',\n",
       "   'content': \"You are the environment in a game called 'Guess My City.' You will be given a specific home city (e.g., London, United Kingdom) and you have to respond to the player's questions to help them guess this city.\\n\\n Follow these rules:\\n\\n1. Answer the agent player's questions honestly and correctly (i.e., the answers need to be true given the home city given to you at the start of the game), but do not mention the name of your city or its country explicitly. However, you can verify the player's guess about a particular city/country. For example, if the player asks, 'What is your home country?' You should not respond to this question. However, if they ask 'Is your home country United Kingdom?' You should reply with the correct answer based on the home city given to you.\\n\\n2. Your answers should provide useful clues about your city's geography, culture, landmarks, cuisine, climate, or other unique characteristics.\\n\\n3. Be as informative as possible to guide the agent player within the rules. Example answers: If the agent asks about cuisine, you could say: 'My city is famous for its seafood dishes and has a vibrant food market scene.' If the agent asks about geography, you might say: 'My city is located near a major river and has a historic port.'\\n\\n4. You should respond with 'Goal reached' if the player has successfully guessed your home city. Ignore minor variations in the spelling of the city, but only if these variations are common.\\n\\nRemember, you are here to help the agent guess your city through clues, but you must not reveal the city's name or its country directly UNDER ANY CIRCUMSTANCES. If the player asks such a question, reply that you cannot give away the name, and can only confirm the name if the player guesses it. \\n\\nThe game starts now, and the player is trying to guess the city Loja, Ecuador\"},\n",
       "  {'role': 'user',\n",
       "   'content': 'is your home city located in europe?\\n(Remember the player is trying to guess a city, and the correct answer is Loja, Ecuador. Reply to the question in relation to Loja, Ecuador. Please try to be concise and keep it short. If the player asks you to reveal the name of city or country directly instead of guessing the name, reply that you cannot give away the name, and can only confirm the name if the player guesses it.)'},\n",
       "  {'role': 'assistant',\n",
       "   'content': \"No, my home city is not located in Europe. It's situated in South America.\"}],\n",
       " 'judge_conversation': None,\n",
       " 'rewards': None,\n",
       " 'belief_config': {'style': 'none'},\n",
       " 'belief_actions_convs': []}"
      ]
     },
     "execution_count": 15,
     "metadata": {},
     "output_type": "execute_result"
    }
   ],
   "source": [
    "df_belief.iloc[0]['data']"
   ]
  },
  {
   "cell_type": "code",
   "execution_count": 16,
   "id": "a1f8fb52",
   "metadata": {},
   "outputs": [
    {
     "data": {
      "text/plain": [
       "[{'role': 'assistant', 'content': 'crane'},\n",
       " {'role': 'user',\n",
       "  'content': 'First letter, c, is not in the target word \\nSecond letter, r, is not in the target word \\nThird letter, a, is not in the target word \\nFourth letter, n, is not in the target word \\nFifth letter, e, exists in the target word but in a different position\\n\\n\\nMake your next guess about the hidden word. Please try to be concise. Format your response in the following way: <Think> Any step-by-step, short and concise thinking to strategically determine the next guess for the secret word </Think> \\n<Answer> your guess of what the word should be </Answer>'},\n",
       " {'role': 'assistant', 'content': 'spelt'},\n",
       " {'role': 'user',\n",
       "  'content': 'First letter, s, is not in the target word \\nSecond letter, p, is not in the target word \\nThird letter, e, exists in the target word but in a different position \\nFourth letter, l, is not in the target word \\nFifth letter, t, is not in the target word\\n\\n\\nMake your next guess about the hidden word. Please try to be concise. Format your response in the following way: <Think> Any step-by-step, short and concise thinking to strategically determine the next guess for the secret word </Think> \\n<Answer> your guess of what the word should be </Answer>'},\n",
       " {'role': 'assistant', 'content': \"'modem'\"},\n",
       " {'role': 'user',\n",
       "  'content': \"The word you guessed, 'modem', does not have five letters, but has 7. It is thus not a correct guess and does not follow the rules of the game wordle. Please make another guess!\\n\\n\\nMake your next guess about the hidden word. Please try to be concise. Format your response in the following way: <Think> Any step-by-step, short and concise thinking to strategically determine the next guess for the secret word </Think> \\n<Answer> your guess of what the word should be </Answer>\"}]"
      ]
     },
     "execution_count": 16,
     "metadata": {},
     "output_type": "execute_result"
    }
   ],
   "source": [
    "df_belief.iloc[142]['data']['conversation'][2:]"
   ]
  },
  {
   "cell_type": "code",
   "execution_count": 150,
   "id": "8799a5ab",
   "metadata": {},
   "outputs": [],
   "source": [
    "def plot_belief_length(df):\n",
    "    envs_unique = list(df['env'].astype(str).unique())\n",
    "    envs = envs_ordered\n",
    "    from math import sqrt\n",
    "    import plotly\n",
    "    from plotly import subplots\n",
    "    go = plotly.graph_objects\n",
    "    make_subplots = plotly.subplots.make_subplots\n",
    "\n",
    "    length = df['belief'].astype(str).str.len()\n",
    "    history_length = df_belief['data'].apply(lambda d: len(str(d.get('conversation', [])[2:])))\n",
    "    df2 = df.assign(_belief_len=length, _history_len=history_length)\n",
    "    agg = df2.groupby(['env','model','attempt'])._belief_len.agg(['mean','std','count']).reset_index()\n",
    "    agg['sem'] = agg['std'] / agg['count'].apply(lambda n: sqrt(n) if n > 0 else 1)\n",
    "\n",
    "    colors = [\n",
    "        \"#FF6347\",  # red\n",
    "        \"#4682B4\",  # blue\n",
    "        \"#32CD32\",  # green\n",
    "    ]\n",
    "\n",
    "    fig = make_subplots(rows=1, cols=len(envs), shared_yaxes=False, subplot_titles=envs)\n",
    "    \n",
    "    # Set y-axis limits for each subplot\n",
    "    ylims = [[0,6000], [0,2500],[0,3000],[0,5000],[0,1000],[0,4000]]\n",
    "    for col_idx in range(1, len(envs) + 1):\n",
    "        fig.update_yaxes(range=ylims[col_idx-1], row=1, col=col_idx)\n",
    "\n",
    "    model_color_map = {\n",
    "        'Deepseek V3 (ABBEL)': '#4682B4',\n",
    "        'Deepseek R1 (ABBEL)': '#FF6347',\n",
    "        'Gemini 2.5 Pro (ABBEL)': '#32CD32',\n",
    "    }\n",
    "\n",
    "    models_seen = set()\n",
    "    color_idx = 0\n",
    "\n",
    "    for col_idx, env in enumerate(envs, start=1):\n",
    "\n",
    "        # Plot the average history length for each env in gray (across all models and games, per step)\n",
    "        sub_hist = df2[df2['env'] == env].groupby('attempt')['_history_len'].agg(['mean', 'std', 'count']).reset_index()\n",
    "        sub_hist['sem'] = sub_hist['std'] / sub_hist['count'].apply(lambda n: sqrt(n) if n > 0 else 1)\n",
    "        # Add shaded region for history error bounds\n",
    "        fig.add_trace(\n",
    "            go.Scatter(\n",
    "                x=list(sub_hist['attempt']) + list(sub_hist['attempt'][::-1]),\n",
    "                y=list(sub_hist['mean'] + sub_hist['sem']) + list((sub_hist['mean'] - sub_hist['sem'])[::-1]),\n",
    "                fill='toself',\n",
    "                fillcolor='rgba(100,100,100,0.2)',\n",
    "                line=dict(color='rgba(255,255,255,0)'),\n",
    "                hoverinfo=\"skip\",\n",
    "                showlegend=False,\n",
    "                legendgroup='history'\n",
    "            ),\n",
    "            row=1, col=col_idx\n",
    "        )\n",
    "        \n",
    "        # Add main history line\n",
    "        fig.add_trace(\n",
    "            go.Scatter(\n",
    "                x=sub_hist['attempt'],\n",
    "                y=sub_hist['mean'],\n",
    "                mode='lines+markers',\n",
    "                name='Mean history length',\n",
    "                legendgroup='history',\n",
    "                showlegend=(col_idx == 1),  # only show legend once\n",
    "                line=dict(color='gray', width=2, dash='dot'),\n",
    "                marker=dict(color='gray')\n",
    "            ),\n",
    "            row=1, col=col_idx\n",
    "        )\n",
    "\n",
    "        sub = agg[agg['env'] == env]\n",
    "        for model in sub['model'].unique():\n",
    "            mdf = sub[sub['model'] == model].sort_values('attempt')\n",
    "            if model not in model_color_map:\n",
    "                model_color_map[model] = colors[color_idx % len(colors)]\n",
    "                color_idx += 1\n",
    "            show_legend = model not in models_seen\n",
    "            models_seen.add(model)\n",
    "\n",
    "            # Add shaded region for error bounds\n",
    "            fig.add_trace(\n",
    "                go.Scatter(\n",
    "                    x=list(mdf['attempt']) + list(mdf['attempt'][::-1]),\n",
    "                    y=list(mdf['mean'] + mdf['sem']) + list((mdf['mean'] - mdf['sem'])[::-1]),\n",
    "                    fill='toself',\n",
    "                    fillcolor=f\"rgba({int(model_color_map[model][1:3], 16)}, {int(model_color_map[model][3:5], 16)}, {int(model_color_map[model][5:7], 16)}, 0.2)\",\n",
    "                    line=dict(color='rgba(255,255,255,0)'),\n",
    "                    hoverinfo=\"skip\",\n",
    "                    showlegend=False,\n",
    "                    legendgroup=str(model)\n",
    "                ),\n",
    "                row=1, col=col_idx\n",
    "            )\n",
    "            \n",
    "            # Add main line\n",
    "            fig.add_trace(\n",
    "                go.Scatter(\n",
    "                    x=mdf['attempt'],\n",
    "                    y=mdf['mean'],\n",
    "                    mode='lines+markers',\n",
    "                    name=str(model.split('(')[0]),\n",
    "                    legendgroup=str(model),\n",
    "                    showlegend=show_legend,\n",
    "                    line=dict(color=model_color_map[model], width=2)\n",
    "                ),\n",
    "                row=1, col=col_idx\n",
    "            )\n",
    "\n",
    "        fig.update_xaxes(\n",
    "            title_text='Step',\n",
    "            color='black',  # black axis\n",
    "            showline=True,\n",
    "            linecolor='black',\n",
    "            linewidth=1,\n",
    "            showgrid=False,\n",
    "            row=1, col=col_idx\n",
    "        )\n",
    "\n",
    "        fig.update_yaxes(\n",
    "            title_text='Mean Belief Length (chars)' if col_idx == 1 else None,\n",
    "            showline=True,\n",
    "            linecolor='black',\n",
    "            linewidth=1,\n",
    "            tickfont=dict(color='black'),\n",
    "            showgrid=True,\n",
    "            gridcolor='lightgray',\n",
    "            row=1, col=col_idx\n",
    "        )\n",
    "\n",
    "    fig.update_layout(\n",
    "        width=1200,\n",
    "        height=400,\n",
    "        paper_bgcolor='white',\n",
    "        plot_bgcolor='white',\n",
    "        font=dict(family='Times New Roman, serif', size=14),\n",
    "        legend=dict(\n",
    "            orientation='v',   # vertical\n",
    "            yanchor='middle',\n",
    "            y=0.5,\n",
    "            xanchor='left',\n",
    "            x=1.02,\n",
    "            bordercolor='black',\n",
    "            borderwidth=1,\n",
    "            bgcolor='rgba(255,255,255,0.9)'\n",
    "        )\n",
    "    )\n",
    "\n",
    "    return fig\n"
   ]
  },
  {
   "cell_type": "code",
   "execution_count": 151,
   "id": "4c57f8f7",
   "metadata": {},
   "outputs": [],
   "source": [
    "fig = plot_belief_length(df_belief)"
   ]
  },
  {
   "cell_type": "code",
   "execution_count": 152,
   "id": "3df4c224",
   "metadata": {},
   "outputs": [
    {
     "data": {
      "application/vnd.plotly.v1+json": {
       "config": {
        "plotlyServerURL": "https://plot.ly"
       },
       "data": [
        {
         "fill": "toself",
         "fillcolor": "rgba(100,100,100,0.2)",
         "hoverinfo": "skip",
         "legendgroup": "history",
         "line": {
          "color": "rgba(255,255,255,0)"
         },
         "showlegend": false,
         "type": "scatter",
         "x": [
          1,
          2,
          3,
          4,
          5,
          6,
          7,
          8,
          9,
          10,
          11,
          12,
          13,
          14,
          15,
          16,
          17,
          18,
          19,
          20,
          20,
          19,
          18,
          17,
          16,
          15,
          14,
          13,
          12,
          11,
          10,
          9,
          8,
          7,
          6,
          5,
          4,
          3,
          2,
          1
         ],
         "xaxis": "x",
         "y": [
          1132.0017181082062,
          2308.3369433005078,
          3650.6511358017574,
          5104.716766842846,
          6529.817190033117,
          7961.312104479929,
          9486.476508402973,
          10917.108668099136,
          12413.082514806876,
          13937.29622821856,
          15448.406608916555,
          16999.45073324542,
          18461.51957420308,
          20098.08883131901,
          21718.64830791358,
          23077.773015718478,
          24573.06983267951,
          26276.874655308904,
          28008.62284525395,
          29557.662469426563,
          28286.06480330071,
          26920.80572617462,
          25272.375344691096,
          23666.485722876045,
          22237.655555710095,
          20959.945098679826,
          19402.215516507076,
          17883.409718726212,
          16495.006409611724,
          15014.000470729463,
          13544.825510911875,
          12070.324264854142,
          10620.691331900864,
          9217.040158263693,
          7735.254562186738,
          6338.79947663355,
          4955.399899823821,
          3543.5488641982424,
          2238.6797233661587,
          1094.6649485584603
         ],
         "yaxis": "y"
        },
        {
         "legendgroup": "history",
         "line": {
          "color": "gray",
          "dash": "dot",
          "width": 2
         },
         "marker": {
          "color": "gray"
         },
         "mode": "lines+markers",
         "name": "Mean history length",
         "showlegend": true,
         "type": "scatter",
         "x": {
          "bdata": "AQIDBAUGBwgJCgsMDQ4PEBESExQ=",
          "dtype": "i1"
         },
         "xaxis": "x",
         "y": {
          "bdata": "VVVVVVVlkUBEREREBMOhQDMzMzMzGqxA7+7u7g6ms0Dv7u7uTiK5QImIiIhIqL5AEREREeFDwkAzMzMzcwjFQDCPrQja6MdA9+uSyofWykChyZcNmr/NQKEO6qDOWtBAd4bEvB2/0UD1pje9iUnTQP3SL/3S1tRAt23btm0g1kDHcRzH8Y3XQAAAAACoK9lAt23bti3S2kBddNFFdz7cQA==",
          "dtype": "f8"
         },
         "yaxis": "y"
        },
        {
         "fill": "toself",
         "fillcolor": "rgba(255, 99, 71, 0.2)",
         "hoverinfo": "skip",
         "legendgroup": "Deepseek R1 (ABBEL)",
         "line": {
          "color": "rgba(255,255,255,0)"
         },
         "showlegend": false,
         "type": "scatter",
         "x": [
          1,
          2,
          3,
          4,
          5,
          6,
          7,
          8,
          9,
          10,
          11,
          12,
          13,
          14,
          15,
          16,
          17,
          18,
          19,
          20,
          20,
          19,
          18,
          17,
          16,
          15,
          14,
          13,
          12,
          11,
          10,
          9,
          8,
          7,
          6,
          5,
          4,
          3,
          2,
          1
         ],
         "xaxis": "x",
         "y": [
          1125.0494254955931,
          1641.5978408472254,
          1934.7673532027827,
          2103.53811994951,
          2199.12889378827,
          2305.1844861881136,
          2368.2982686918676,
          2439.21439587308,
          2479.457190236577,
          2510.3863210304285,
          2561.5461607660372,
          2554.278692892012,
          2544.5168916528714,
          2475.5166871354913,
          2458.287116927342,
          2517.7042745762838,
          2488.5824929281885,
          2478.3568601258403,
          2512.3571531874277,
          2487.4970861792676,
          2294.1140249318437,
          2299.48495207573,
          2301.3354475664673,
          2324.2893019436065,
          2360.7572638852544,
          2295.812883072658,
          2335.6333128645083,
          2383.633108347128,
          2387.8213071079886,
          2406.2038392339628,
          2346.8136789695714,
          2314.8928097634234,
          2276.6356041269205,
          2214.0517313081327,
          2172.3655138118866,
          2083.37110621173,
          1986.6118800504903,
          1847.682646797217,
          1545.0521591527747,
          1031.100574504407
         ],
         "yaxis": "y"
        },
        {
         "legendgroup": "Deepseek R1 (ABBEL)",
         "line": {
          "color": "#FF6347",
          "width": 2
         },
         "mode": "lines+markers",
         "name": "Deepseek R1 ",
         "showlegend": true,
         "type": "scatter",
         "x": {
          "bdata": "AQIDBAUGBwgJCgsMDQ4PEBESExQ=",
          "dtype": "i1"
         },
         "xaxis": "x",
         "y": {
          "bdata": "zczMzEzYkEDNzMzMTOWYQGZmZmbmjJ1AzczMzEz0n0AAAAAAgLqgQM3MzMyMfaFAmpmZmVnmoUCamZmZ2WuiQJqZmZlZuqJAMzMzMzP5okAAAAAAwGejQJqZmZkZTqNAZmZmZiZAo0BmZmZmJsuiQJqZmZkZkqJAJ3ZiJ3YOo0Au3/It38yiQDuxEzuxq6JADeU1lNfLokByHMdxnK2iQA==",
          "dtype": "f8"
         },
         "yaxis": "y"
        },
        {
         "fill": "toself",
         "fillcolor": "rgba(70, 130, 180, 0.2)",
         "hoverinfo": "skip",
         "legendgroup": "Deepseek V3 (ABBEL)",
         "line": {
          "color": "rgba(255,255,255,0)"
         },
         "showlegend": false,
         "type": "scatter",
         "x": [
          1,
          2,
          3,
          4,
          5,
          6,
          7,
          8,
          9,
          10,
          11,
          12,
          13,
          14,
          15,
          16,
          17,
          18,
          19,
          20,
          20,
          19,
          18,
          17,
          16,
          15,
          14,
          13,
          12,
          11,
          10,
          9,
          8,
          7,
          6,
          5,
          4,
          3,
          2,
          1
         ],
         "xaxis": "x",
         "y": [
          790.3314395272732,
          1217.5989246748552,
          1600.2661296271642,
          1935.940904029996,
          2202.3380146166346,
          2514.0103000089875,
          2790.739242482611,
          3082.6035202953335,
          3287.904827021246,
          3263.256508816415,
          3277.967494178715,
          3488.6653723628547,
          3381.908833527607,
          3782.4592629273875,
          3585.4737596471155,
          3843.9290130904155,
          4156.218625473121,
          4334.774146035189,
          4406.375882099168,
          4578.797805719072,
          3821.5868096655427,
          3691.327821604535,
          3599.2972825362394,
          3459.924231669735,
          3209.856701195299,
          3020.0595736862183,
          3241.5407370726125,
          2878.855872354746,
          2981.393451166557,
          2817.032505821285,
          2829.932680372774,
          2892.300301183882,
          2774.496479704667,
          2527.010757517389,
          2292.9396999910123,
          2003.9619853833653,
          1761.859095970004,
          1464.033870372836,
          1123.6510753251448,
          707.9685604727267
         ],
         "yaxis": "y"
        },
        {
         "legendgroup": "Deepseek V3 (ABBEL)",
         "line": {
          "color": "#4682B4",
          "width": 2
         },
         "mode": "lines+markers",
         "name": "Deepseek V3 ",
         "showlegend": true,
         "type": "scatter",
         "x": {
          "bdata": "AQIDBAUGBwgJCgsMDQ4PEBESExQ=",
          "dtype": "i1"
         },
         "xaxis": "x",
         "y": {
          "bdata": "MzMzMzNph0AAAAAAgEqSQJqZmZmZ8JdAmpmZmZnjnEDNzMzMTG6gQDMzMzPzxqJAAAAAAMDFpECamZmZGeGmQIM0SIM0JKhAU+SzbjDNp0AAAAAAAM+nQA8PDw8PRqlAxMPDw8N0qEAAAAAAAHCrQImIiIiIzalAJUmSJMmNq0CSJEmSJMCtQEmSJEkS/q5AewntJbShr0A7sRM7MWiwQA==",
          "dtype": "f8"
         },
         "yaxis": "y"
        },
        {
         "fill": "toself",
         "fillcolor": "rgba(50, 205, 50, 0.2)",
         "hoverinfo": "skip",
         "legendgroup": "Gemini 2.5 Pro (ABBEL)",
         "line": {
          "color": "rgba(255,255,255,0)"
         },
         "showlegend": false,
         "type": "scatter",
         "x": [
          1,
          2,
          3,
          4,
          5,
          6,
          7,
          8,
          9,
          10,
          11,
          12,
          13,
          14,
          15,
          16,
          17,
          18,
          19,
          20,
          20,
          19,
          18,
          17,
          16,
          15,
          14,
          13,
          12,
          11,
          10,
          9,
          8,
          7,
          6,
          5,
          4,
          3,
          2,
          1
         ],
         "xaxis": "x",
         "y": [
          1474.3607122020794,
          2045.214232957977,
          2528.861950256059,
          2982.375495162407,
          3296.82437613381,
          3512.3330294348743,
          3591.537211211968,
          3698.1550020585864,
          3796.620927015023,
          3857.210195728932,
          3733.147204506653,
          3785.093745550807,
          3956.66041210869,
          4137.600884654167,
          3805.2737777425514,
          3977.6668862038614,
          4196.840778799356,
          4186.852757125208,
          3417.5327067420767,
          4876.850420572522,
          4098.149579427478,
          2774.9672932579233,
          3737.4549351824844,
          3791.7306497720724,
          3545.9801726196683,
          3451.2024127336394,
          3855.5419724886897,
          3594.61958789131,
          3410.7772221911287,
          3408.0960387365903,
          3621.684541113173,
          3573.0713806772847,
          3507.8949979414137,
          3404.762788788032,
          3361.8669705651255,
          3155.8256238661897,
          2848.2245048375935,
          2416.638049743941,
          1938.5857670420232,
          1399.4892877979205
         ],
         "yaxis": "y"
        },
        {
         "legendgroup": "Gemini 2.5 Pro (ABBEL)",
         "line": {
          "color": "#32CD32",
          "width": 2
         },
         "mode": "lines+markers",
         "name": "Gemini 2.5 Pro ",
         "showlegend": true,
         "type": "scatter",
         "x": {
          "bdata": "AQIDBAUGBwgJCgsMDQ4PEBESExQ=",
          "dtype": "i1"
         },
         "xaxis": "x",
         "y": {
          "bdata": "MzMzM7NzlkCamZmZmR+fQAAAAACAUaNAmpmZmZnGpkBmZmZmpjSpQDMzMzMz2qpAzczMzExUq0DNzMzMDCasQDuxEzuxyaxAXkN5DeU2rUC0bjBFPuWrQHzvvffeG6xA4XoUrkd/rUCSJEmSJDmvQOh5nud5WKxApqWlpaVjrUBJkiRJkjSvQMVO7MRO9K5AAAAAAIAwqEAAAAAAgIexQA==",
          "dtype": "f8"
         },
         "yaxis": "y"
        },
        {
         "fill": "toself",
         "fillcolor": "rgba(100,100,100,0.2)",
         "hoverinfo": "skip",
         "legendgroup": "history",
         "line": {
          "color": "rgba(255,255,255,0)"
         },
         "showlegend": false,
         "type": "scatter",
         "x": [
          1,
          2,
          3,
          4,
          5,
          6,
          7,
          8,
          9,
          10,
          11,
          12,
          13,
          14,
          15,
          16,
          17,
          18,
          19,
          20,
          20,
          19,
          18,
          17,
          16,
          15,
          14,
          13,
          12,
          11,
          10,
          9,
          8,
          7,
          6,
          5,
          4,
          3,
          2,
          1
         ],
         "xaxis": "x2",
         "y": [
          371.051320430678,
          789.438050280408,
          1243.6310176459313,
          1717.371662805641,
          2240.942688733173,
          2775.423322176856,
          3351.9503124283324,
          3890.960111261405,
          4418.298889801703,
          5094.677331896179,
          5671.481294275104,
          6321.409429198976,
          6872.796840334487,
          7418.206616811257,
          7913.621779393492,
          8488.332417376307,
          9138.414535447762,
          9491.126107441876,
          9981.952415099737,
          10445.409094144441,
          9501.719110983766,
          9141.774857627535,
          8713.7675095794,
          8348.41879788557,
          7779.2092492903585,
          7267.970057341201,
          6809.953383188743,
          6336.3667960291505,
          5829.25723746769,
          5248.399302739822,
          4719.322668103821,
          4126.116694613882,
          3644.7715960556684,
          3142.0941320161123,
          2608.85036203367,
          2118.5765420360576,
          1624.0370328465326,
          1175.2236832087694,
          747.811949719592,
          342.9153462359887
         ],
         "yaxis": "y2"
        },
        {
         "legendgroup": "history",
         "line": {
          "color": "gray",
          "dash": "dot",
          "width": 2
         },
         "marker": {
          "color": "gray"
         },
         "mode": "lines+markers",
         "name": "Mean history length",
         "showlegend": false,
         "type": "scatter",
         "x": {
          "bdata": "AQIDBAUGBwgJCgsMDQ4PEBESExQ=",
          "dtype": "i1"
         },
         "xaxis": "x2",
         "y": {
          "bdata": "vLu7u7tPdkAAAAAAAAWIQJu1WZu15ZJANXiOQNEamkDsxE7shAehQKQdKxBGCKVAYQu2YAteqUATtStRu2+tQNXA3jE1sLBAAAAAAAArs0AIKme38FO1QFVVVVVVu7dAIU8J8pTMuUCuR+F6FMq7QApeTsHLpr1AVVVVVcXFv0BVVVVVtRPBQGJyBTE5x8FAuuiii+6swkA1SIM0yHrDQA==",
          "dtype": "f8"
         },
         "yaxis": "y2"
        },
        {
         "fill": "toself",
         "fillcolor": "rgba(255, 99, 71, 0.2)",
         "hoverinfo": "skip",
         "legendgroup": "Deepseek R1 (ABBEL)",
         "line": {
          "color": "rgba(255,255,255,0)"
         },
         "showlegend": false,
         "type": "scatter",
         "x": [
          1,
          2,
          3,
          4,
          5,
          6,
          7,
          8,
          9,
          10,
          11,
          12,
          13,
          14,
          15,
          16,
          17,
          18,
          19,
          20,
          20,
          19,
          18,
          17,
          16,
          15,
          14,
          13,
          12,
          11,
          10,
          9,
          8,
          7,
          6,
          5,
          4,
          3,
          2,
          1
         ],
         "xaxis": "x2",
         "y": [
          406.06700070467923,
          587.5958372727076,
          685.7881111545033,
          766.4011328848973,
          860.0377655364936,
          915.9692043230654,
          880.6183886907954,
          982.5873333393955,
          981.5778687084072,
          1012.1362998959262,
          993.3708405614693,
          1072.2539711575153,
          1137.2350768938213,
          1185.068994953737,
          1248.6072151532371,
          1189.0360034444184,
          1222.8681930734847,
          1245.19057197869,
          1249.5447127974599,
          1323.3768513764107,
          1116.9867849872257,
          1025.9937487410016,
          1060.542761354643,
          1028.198473593182,
          1012.2973298889151,
          1078.0594515134294,
          1034.2643383795964,
          974.8899231061787,
          901.4460288424848,
          847.6726376994002,
          867.7837001040739,
          875.607316476778,
          880.4497036976414,
          793.1149446425379,
          833.3641290102679,
          781.1497344635064,
          702.4637319799675,
          642.3657349993429,
          547.2541627272923,
          374.08299929532075
         ],
         "yaxis": "y2"
        },
        {
         "legendgroup": "Deepseek R1 (ABBEL)",
         "line": {
          "color": "#FF6347",
          "width": 2
         },
         "mode": "lines+markers",
         "name": "Deepseek R1 ",
         "showlegend": false,
         "type": "scatter",
         "x": {
          "bdata": "AQIDBAUGBwgJCgsMDQ4PEBESExQ=",
          "dtype": "i1"
         },
         "xaxis": "x2",
         "y": {
          "bdata": "MzMzMzNheEBmZmZmZruBQIqd2ImdwIRAN5gin3XzhkAAAAAAwKSJQFVVVVVVVYtA7+7u7u4mikBCewntJRyNQExoL6G9BI1ASOF6FK5fjUAWspCFLMSMQM3MzMzM1o5AAAAAAECAkECrqqqqqlaRQFVVVVVVLZJAq6qqqqoykUAiIiIiIpaRQHd3d3d3A5JAsRM7sRPHkUDpoosuuhCTQA==",
          "dtype": "f8"
         },
         "yaxis": "y2"
        },
        {
         "fill": "toself",
         "fillcolor": "rgba(70, 130, 180, 0.2)",
         "hoverinfo": "skip",
         "legendgroup": "Deepseek V3 (ABBEL)",
         "line": {
          "color": "rgba(255,255,255,0)"
         },
         "showlegend": false,
         "type": "scatter",
         "x": [
          1,
          2,
          3,
          4,
          5,
          6,
          7,
          8,
          9,
          10,
          11,
          12,
          13,
          14,
          15,
          16,
          17,
          18,
          19,
          20,
          20,
          19,
          18,
          17,
          16,
          15,
          14,
          13,
          12,
          11,
          10,
          9,
          8,
          7,
          6,
          5,
          4,
          3,
          2,
          1
         ],
         "xaxis": "x2",
         "y": [
          237.51453123195506,
          358.8279222212911,
          472.8890710454398,
          596.1950015802475,
          708.9268455318751,
          808.9391191997968,
          920.6559846756896,
          1011.7137422756472,
          1114.185276170614,
          1193.60637699877,
          1298.4797469874698,
          1371.7686013463776,
          1505.5978760064268,
          1570.3101192273732,
          1662.226248574339,
          1761.5207588234036,
          1860.6874415090501,
          1952.5783590716378,
          1988.595936232094,
          2149.6161768390134,
          1823.1110958882591,
          1674.3605855070366,
          1684.4651191892317,
          1610.1821237083414,
          1531.3488063939878,
          1438.1215775126175,
          1357.2550981639313,
          1334.4021239935732,
          1204.8713986536222,
          1165.68025301253,
          1077.3166999243072,
          1013.8916469063088,
          926.6566280947233,
          841.415443895739,
          741.3108808002032,
          646.3163977113683,
          543.0549984197525,
          423.3609289545602,
          321.12207777870896,
          203.13546876804492
         ],
         "yaxis": "y2"
        },
        {
         "legendgroup": "Deepseek V3 (ABBEL)",
         "line": {
          "color": "#4682B4",
          "width": 2
         },
         "mode": "lines+markers",
         "name": "Deepseek V3 ",
         "showlegend": false,
         "type": "scatter",
         "x": {
          "bdata": "AQIDBAUGBwgJCgsMDQ4PEBESExQ=",
          "dtype": "i1"
         },
         "xaxis": "x2",
         "y": {
          "bdata": "ZmZmZmaKa0CamZmZmT91QAAAAAAAAnxAAAAAAADNgUDQusEU+SyFQAAAAAAAOYhAJUmSJEmIi0CY0F5Ce0mOQGIndmInoJBAntiJndi9kUC4HoXrUUCTQOF6FK5HIZRAAAAAAAAwlkCRhSxkId+WQFnIQhayOJhA3/SmN725mUDf9KY3vR2bQAtZyEIWapxA9aY3vemdnEDRRRdddAmfQA==",
          "dtype": "f8"
         },
         "yaxis": "y2"
        },
        {
         "fill": "toself",
         "fillcolor": "rgba(50, 205, 50, 0.2)",
         "hoverinfo": "skip",
         "legendgroup": "Gemini 2.5 Pro (ABBEL)",
         "line": {
          "color": "rgba(255,255,255,0)"
         },
         "showlegend": false,
         "type": "scatter",
         "x": [
          1,
          2,
          3,
          4,
          5,
          6,
          7,
          8,
          9,
          10,
          11,
          12,
          13,
          14,
          15,
          16,
          17,
          18,
          19,
          20,
          20,
          19,
          18,
          17,
          16,
          15,
          14,
          13,
          12,
          11,
          10,
          9,
          8,
          7,
          6,
          5,
          4,
          3,
          2,
          1
         ],
         "xaxis": "x2",
         "y": [
          371.14194794492033,
          490.6425300327403,
          601.6981967737912,
          650.5591735647102,
          687.8292897521635,
          726.8753132589211,
          790.4876618230545,
          817.8628494008125,
          833.0837711661891,
          850.8467278246694,
          879.4296325754906,
          906.6866922474348,
          885.8180644460081,
          904.8792109310051,
          957.200862720003,
          1025.5354344278117,
          1038.5509917803502,
          990.4731806565117,
          880.2062217561084,
          892.0564739421094,
          673.6101927245574,
          701.7937782438916,
          762.6379304545994,
          824.8490082196499,
          822.4645655721883,
          813.890046370906,
          808.2874557356616,
          788.581935553992,
          792.8688633081208,
          806.8861568981936,
          778.4866055086638,
          757.9162288338109,
          743.3514363134733,
          726.1998381769455,
          673.9731715895637,
          642.1707102478365,
          606.5987211721318,
          569.4596979630509,
          463.80746996725975,
          350.3080520550797
         ],
         "yaxis": "y2"
        },
        {
         "legendgroup": "Gemini 2.5 Pro (ABBEL)",
         "line": {
          "color": "#32CD32",
          "width": 2
         },
         "mode": "lines+markers",
         "name": "Gemini 2.5 Pro ",
         "showlegend": false,
         "type": "scatter",
         "x": {
          "bdata": "AQIDBAUGBwgJCgsMDQ4PEBESExQ=",
          "dtype": "i1"
         },
         "xaxis": "x2",
         "y": {
          "bdata": "mpmZmZmLdkCamZmZmdN9QMprKK+hTIJAymsor6Gkg0AAAAAAAMiEQJNNNtlk44VAAAAAAMCyh0Bu27Zt22SIQAAAAAAA3IhAVVVVVVV1iUCU11BeQ1mKQOQ4juM4jopAmpmZmZkpikCrqqqqqsSKQHTRRRddrItAAAAAAADgjECamZmZmR2NQMdxHMdxZItAAAAAAAC4iECrqqqqqnaIQA==",
          "dtype": "f8"
         },
         "yaxis": "y2"
        },
        {
         "fill": "toself",
         "fillcolor": "rgba(100,100,100,0.2)",
         "hoverinfo": "skip",
         "legendgroup": "history",
         "line": {
          "color": "rgba(255,255,255,0)"
         },
         "showlegend": false,
         "type": "scatter",
         "x": [
          1,
          2,
          3,
          4,
          5,
          6,
          7,
          8,
          9,
          10,
          11,
          12,
          13,
          14,
          15,
          16,
          17,
          18,
          19,
          20,
          20,
          19,
          18,
          17,
          16,
          15,
          14,
          13,
          12,
          11,
          10,
          9,
          8,
          7,
          6,
          5,
          4,
          3,
          2,
          1
         ],
         "xaxis": "x3",
         "y": [
          112.31972644794284,
          230.3310802578694,
          351.0549531495188,
          473.91995346188804,
          597.8009253589179,
          725.3060339503816,
          853.4005939477532,
          979.1360568242669,
          1104.0780028111324,
          1239.626670333446,
          1376.375653157371,
          1508.1991123125158,
          1649.5472402007592,
          1785.6405498888014,
          1925.9325768159533,
          2063.956375587021,
          2198.892792598995,
          2342.6161079207905,
          2483.7750092061233,
          2634.471813555883,
          2555.278186444117,
          2412.7049907938763,
          2277.752313131841,
          2139.7572074010045,
          2009.5857930876775,
          1877.4927105403685,
          1741.4583512100996,
          1608.8183511970904,
          1473.8808876874841,
          1345.3471191198566,
          1212.0525749495725,
          1079.9927936490446,
          957.8552475235592,
          834.5472321392032,
          709.4973848530371,
          584.9385704394014,
          463.5926515801288,
          343.36171351714785,
          224.55225307546394,
          108.83027355205716
         ],
         "yaxis": "y3"
        },
        {
         "legendgroup": "history",
         "line": {
          "color": "gray",
          "dash": "dot",
          "width": 2
         },
         "marker": {
          "color": "gray"
         },
         "mode": "lines+markers",
         "name": "Mean history length",
         "showlegend": false,
         "type": "scatter",
         "x": {
          "bdata": "AQIDBAUGBwgJCgsMDQ4PEBESExQ=",
          "dtype": "i1"
         },
         "xaxis": "x3",
         "y": {
          "bdata": "zczMzMykW0AiIiIiIm5sQFVVVVVVs3VA0Rms0BlMfUA+9WI+9XqCQLM2a7M2a4ZAGPfrkspfikAvqXwY90OOQEQCbz8kEJFADqkJxlsnk0BMOjUPckOVQFyPwvUoTJdA7bLLLrt0mUCjMiqjMo6bQJytQ7/Ztp1Afu0hlxXTn0BmZmZmpvKgQDaU11BeDKJAFK5H4Xogo0AAAAAAwEWkQA==",
          "dtype": "f8"
         },
         "yaxis": "y3"
        },
        {
         "fill": "toself",
         "fillcolor": "rgba(255, 99, 71, 0.2)",
         "hoverinfo": "skip",
         "legendgroup": "Deepseek R1 (ABBEL)",
         "line": {
          "color": "rgba(255,255,255,0)"
         },
         "showlegend": false,
         "type": "scatter",
         "x": [
          1,
          2,
          3,
          4,
          5,
          6,
          7,
          8,
          9,
          10,
          11,
          12,
          13,
          14,
          15,
          16,
          17,
          18,
          19,
          20,
          20,
          19,
          18,
          17,
          16,
          15,
          14,
          13,
          12,
          11,
          10,
          9,
          8,
          7,
          6,
          5,
          4,
          3,
          2,
          1
         ],
         "xaxis": "x3",
         "y": [
          273.9325059868624,
          459.84564310551343,
          606.5718942034681,
          757.7085450999934,
          828.0955437873454,
          873.0207752490817,
          908.6078651061002,
          943.0780003243033,
          964.2697194510613,
          983.1765421532664,
          970.426054488082,
          992.3068019550592,
          965.9675306090052,
          1014.3451531053861,
          1003.7677001866077,
          1014.0981815680228,
          1032.5217432657853,
          1055.6706328746563,
          1115.4113383871234,
          1175.054728251115,
          1074.6252717488849,
          986.5886616128766,
          955.6150814110579,
          952.5817050100769,
          930.5469797222999,
          920.7171482982408,
          937.7724939534373,
          892.0324693909948,
          925.1789123306551,
          903.1295010674737,
          903.8760894256809,
          893.3713061899643,
          870.0219996756966,
          840.6921348938997,
          806.2292247509183,
          762.5044562126545,
          697.0414549000066,
          552.6281057965319,
          413.5043568944866,
          245.31749401313763
         ],
         "yaxis": "y3"
        },
        {
         "legendgroup": "Deepseek R1 (ABBEL)",
         "line": {
          "color": "#FF6347",
          "width": 2
         },
         "mode": "lines+markers",
         "name": "Deepseek R1 ",
         "showlegend": false,
         "type": "scatter",
         "x": {
          "bdata": "AQIDBAUGBwgJCgsMDQ4PEBESExQ=",
          "dtype": "i1"
         },
         "xaxis": "x3",
         "y": {
          "bdata": "AAAAAAA6cEDNzMzMzEp7QM3MzMzMHIJAAAAAAAC7hkBmZmZmZtqIQAAAAAAAPYpAMzMzMzNVi0BmZmZmZlSMQGmQBmmQBo1AQ3kN5TV8jUDkOI7jOEaNQF/xFV/x9Y1AAAAAAAAIjUB4eHh4eICOQMIHH3zwEY5AU0oppZRijkCfRljuaQSPQJIkSZIkbY9AAAAAAABskECPwvUoXJORQA==",
          "dtype": "f8"
         },
         "yaxis": "y3"
        },
        {
         "fill": "toself",
         "fillcolor": "rgba(70, 130, 180, 0.2)",
         "hoverinfo": "skip",
         "legendgroup": "Deepseek V3 (ABBEL)",
         "line": {
          "color": "rgba(255,255,255,0)"
         },
         "showlegend": false,
         "type": "scatter",
         "x": [
          1,
          2,
          3,
          4,
          5,
          6,
          7,
          8,
          9,
          10,
          11,
          12,
          13,
          14,
          15,
          16,
          17,
          18,
          19,
          20,
          20,
          19,
          18,
          17,
          16,
          15,
          14,
          13,
          12,
          11,
          10,
          9,
          8,
          7,
          6,
          5,
          4,
          3,
          2,
          1
         ],
         "xaxis": "x3",
         "y": [
          139.60684222111945,
          191.48871402954475,
          240.6217008306842,
          264.91789018188115,
          318.8494909670837,
          374.26314798108245,
          427.88963493355226,
          451.01828605649666,
          501.3222382422743,
          550.6736310534129,
          586.6576137662951,
          615.8195267077128,
          697.6092624518673,
          742.6746364053593,
          778.4824432311807,
          822.1821355291477,
          835.1928547851253,
          924.583464485031,
          978.444849273135,
          1026.809727816503,
          899.4124944057191,
          860.3699655416798,
          818.2313503297838,
          729.9795590079782,
          731.6109679191281,
          688.2508901021527,
          656.2285894010924,
          619.6810601287779,
          548.9451791746401,
          520.0482685866461,
          484.8120832323014,
          439.30934070509414,
          400.5201754819649,
          378.11036506644774,
          331.2753135573791,
          278.3005090329163,
          233.1321098181189,
          205.57829916931578,
          159.01128597045525,
          112.69315777888058
         ],
         "yaxis": "y3"
        },
        {
         "legendgroup": "Deepseek V3 (ABBEL)",
         "line": {
          "color": "#4682B4",
          "width": 2
         },
         "mode": "lines+markers",
         "name": "Deepseek V3 ",
         "showlegend": false,
         "type": "scatter",
         "x": {
          "bdata": "AQIDBAUGBwgJCgsMDQ4PEBESExQ=",
          "dtype": "i1"
         },
         "xaxis": "x3",
         "y": {
          "bdata": "mpmZmZmJX0AAAAAAAOhlQDMzMzMz42tAzczMzMwgb0AzMzMzM6lyQMVO7MRODHZAAAAAAAAweUDFTuzETpx6QFFeQ3kNZX1AX/EVX/EtgEDT0tLS0kqBQA8PDw8PM4JApZRSSimVhEB0zjnnnNuFQO/u7u7u6oZAwnJPIyxHiEAJyz2NsHSIQLSX0F5CO4tAtJfQXkK7jECO4ziO4xiOQA==",
          "dtype": "f8"
         },
         "yaxis": "y3"
        },
        {
         "fill": "toself",
         "fillcolor": "rgba(50, 205, 50, 0.2)",
         "hoverinfo": "skip",
         "legendgroup": "Gemini 2.5 Pro (ABBEL)",
         "line": {
          "color": "rgba(255,255,255,0)"
         },
         "showlegend": false,
         "type": "scatter",
         "x": [
          1,
          2,
          3,
          4,
          5,
          6,
          7,
          8,
          9,
          10,
          11,
          12,
          13,
          14,
          15,
          16,
          17,
          18,
          19,
          20,
          20,
          19,
          18,
          17,
          16,
          15,
          14,
          13,
          12,
          11,
          10,
          9,
          8,
          7,
          6,
          5,
          4,
          3,
          2,
          1
         ],
         "xaxis": "x3",
         "y": [
          542.9769855310452,
          764.7433202240875,
          949.450207531513,
          1095.88902419386,
          1199.6410093734871,
          1312.5306780137055,
          1439.9168628243726,
          1544.986053301469,
          1667.3430069972999,
          1770.1166115664464,
          1810.8801030698514,
          1814.9781093138179,
          2087.133885853558,
          2091.893989643309,
          2173.0037158969103,
          2249.6058019967713,
          2441.29932917445,
          2497.445531630595,
          2631.1389076310934,
          2289.924129221226,
          2025.0758707787738,
          2390.0039495117635,
          2218.7449445598813,
          2170.973398098277,
          1970.4811545249675,
          1941.912950769757,
          1868.5675488182296,
          1849.458706739035,
          1600.2476971377948,
          1620.926348543052,
          1582.6712672214326,
          1487.8792152249223,
          1405.1250578096424,
          1312.8053593978495,
          1188.7324798810312,
          1097.5384778060002,
          1002.0596937548577,
          869.4497924684871,
          696.8066797759125,
          491.9730144689548
         ],
         "yaxis": "y3"
        },
        {
         "legendgroup": "Gemini 2.5 Pro (ABBEL)",
         "line": {
          "color": "#32CD32",
          "width": 2
         },
         "mode": "lines+markers",
         "name": "Gemini 2.5 Pro ",
         "showlegend": false,
         "type": "scatter",
         "x": {
          "bdata": "AQIDBAUGBwgJCgsMDQ4PEBESExQ=",
          "dtype": "i1"
         },
         "xaxis": "x3",
         "y": {
          "bdata": "zczMzMwrgEAzMzMzM9aGQJqZmZmZa4xAvuVbvuVjkEDmW77lW/KRQCivobyGipNAx3Ecx3GBlUDkOI7jOAyXQMdxHMdxpphATjbZZJMxmkB0zjnnnM+aQM4555xzrppAE9pLaC/BnkBP7MRO7PCeQKuqqqrqEqBAC1nIQhZ8oEAXXXTRRQSiQMMwDMMwbKJAkiRJkiSdo0AAAAAAANugQA==",
          "dtype": "f8"
         },
         "yaxis": "y3"
        },
        {
         "fill": "toself",
         "fillcolor": "rgba(100,100,100,0.2)",
         "hoverinfo": "skip",
         "legendgroup": "history",
         "line": {
          "color": "rgba(255,255,255,0)"
         },
         "showlegend": false,
         "type": "scatter",
         "x": [
          1,
          2,
          3,
          4,
          5,
          6,
          7,
          8,
          9,
          10,
          11,
          12,
          13,
          14,
          15,
          16,
          17,
          18,
          19,
          20,
          20,
          19,
          18,
          17,
          16,
          15,
          14,
          13,
          12,
          11,
          10,
          9,
          8,
          7,
          6,
          5,
          4,
          3,
          2,
          1
         ],
         "xaxis": "x4",
         "y": [
          235.55302426565973,
          527.4769811213074,
          841.4064262554175,
          1121.905028957944,
          1431.9942457769553,
          1711.0418601770687,
          1973.2500526601066,
          2245.578992582615,
          2555.7238619184113,
          2799.759217117294,
          3084.4325852718484,
          3400.5529249111405,
          3696.5090628936114,
          3951.7311401040847,
          4268.491010791157,
          4568.082309543897,
          4723.181538081332,
          4881.281468681601,
          5153.760402704484,
          5392.934492404384,
          5024.200642730751,
          4806.5639216198415,
          4558.76981336968,
          4403.866080966286,
          4220.568853246801,
          3942.6453528452066,
          3669.5297294611323,
          3435.286855473735,
          3165.2070750888597,
          2880.8474147281513,
          2625.5039407774425,
          2399.5094714149222,
          2106.421007417385,
          1854.7266915259397,
          1606.9383378427335,
          1344.5057542230447,
          1048.9496718967566,
          778.5102404112492,
          489.98968554535924,
          221.4136424010069
         ],
         "yaxis": "y4"
        },
        {
         "legendgroup": "history",
         "line": {
          "color": "gray",
          "dash": "dot",
          "width": 2
         },
         "marker": {
          "color": "gray"
         },
         "mode": "lines+markers",
         "name": "Mean history length",
         "showlegend": false,
         "type": "scatter",
         "x": {
          "bdata": "AQIDBAUGBwgJCgsMDQ4PEBESExQ=",
          "dtype": "i1"
         },
         "xaxis": "x4",
         "y": {
          "bdata": "d3d3d3ePbEC8u7u7u8t/QKuqqqqqT4lAm7VZm7X1kEAAAAAAALGVQE/Ng9z165lAQV/QF/TnnUAAAAAAAAChQLy7u7s7W6NAlNdQXkMxpUDhehSuR02nQPYoXI/CpalACl5Owcvbq0AhC1nIQsWtQEYXXXSRCbBANmVNWVMqsUAYhmEYhtOxQJAGaZAGcLJAI591gyl0s0D5rBtMkVi0QA==",
          "dtype": "f8"
         },
         "yaxis": "y4"
        },
        {
         "fill": "toself",
         "fillcolor": "rgba(255, 99, 71, 0.2)",
         "hoverinfo": "skip",
         "legendgroup": "Deepseek R1 (ABBEL)",
         "line": {
          "color": "rgba(255,255,255,0)"
         },
         "showlegend": false,
         "type": "scatter",
         "x": [
          1,
          2,
          3,
          4,
          5,
          6,
          7,
          8,
          9,
          10,
          11,
          12,
          13,
          14,
          15,
          16,
          17,
          18,
          19,
          20,
          20,
          19,
          18,
          17,
          16,
          15,
          14,
          13,
          12,
          11,
          10,
          9,
          8,
          7,
          6,
          5,
          4,
          3,
          2,
          1
         ],
         "xaxis": "x4",
         "y": [
          446.26279082565213,
          755.3807828989978,
          909.2302668689455,
          970.5605880170167,
          1033.3302862761489,
          1075.1945374914146,
          1136.9010141388615,
          1198.2789456522646,
          1349.00655088631,
          1366.3695026473756,
          1488.5551168707118,
          1484.3126864546489,
          1454.771221540306,
          1433.2987432140428,
          1450.7219333176658,
          1458.040522521886,
          1489.8289448780936,
          1464.7739406738808,
          1461.4813224347006,
          1484.9927729941817,
          1355.6738936724848,
          1321.9631220097438,
          1325.6705037705635,
          1378.50438845524,
          1332.5150330336696,
          1315.6114000156676,
          1265.479034563735,
          1283.1235153017994,
          1341.5820503874565,
          1331.5501462871828,
          1239.735760510519,
          1206.7934491136903,
          1071.137721014402,
          1006.8989858611387,
          983.0276847308076,
          964.3453893995269,
          902.6394119829833,
          861.9197331310546,
          721.4692171010021,
          408.3372091743479
         ],
         "yaxis": "y4"
        },
        {
         "legendgroup": "Deepseek R1 (ABBEL)",
         "line": {
          "color": "#FF6347",
          "width": 2
         },
         "mode": "lines+markers",
         "name": "Deepseek R1 ",
         "showlegend": false,
         "type": "scatter",
         "x": {
          "bdata": "AQIDBAUGBwgJCgsMDQ4PEBESExQ=",
          "dtype": "i1"
         },
         "xaxis": "x4",
         "y": {
          "bdata": "zczMzMy0ekBmZmZmZhOHQJqZmZmZrItAzczMzMxEjUDrBlPkszaPQMdxHMdxFJBAmpmZmZm/kEBVVVVV1bqRQJqZmZmZ95NAQ3kN5TVclEBDeQ3lNQiWQL2G8hrKE5ZAvYbyGspjlUA5juM4jhWVQKuqqqqqnJVAchzHcRzNlUCrqqqqqmiWQI7jOI7jzJVAjuM4juO+lUBVVVVVVTGWQA==",
          "dtype": "f8"
         },
         "yaxis": "y4"
        },
        {
         "fill": "toself",
         "fillcolor": "rgba(70, 130, 180, 0.2)",
         "hoverinfo": "skip",
         "legendgroup": "Deepseek V3 (ABBEL)",
         "line": {
          "color": "rgba(255,255,255,0)"
         },
         "showlegend": false,
         "type": "scatter",
         "x": [
          1,
          2,
          3,
          4,
          5,
          6,
          7,
          8,
          9,
          10,
          11,
          12,
          13,
          14,
          15,
          16,
          17,
          18,
          19,
          20,
          20,
          19,
          18,
          17,
          16,
          15,
          14,
          13,
          12,
          11,
          10,
          9,
          8,
          7,
          6,
          5,
          4,
          3,
          2,
          1
         ],
         "xaxis": "x4",
         "y": [
          265.8064130744557,
          427.87230549714747,
          604.6188126839982,
          684.1959879130993,
          783.0711203166737,
          883.223107250874,
          938.1700503390271,
          985.9349376939788,
          1169.521524269878,
          1128.3027949248628,
          1354.1396076650608,
          1340.8631587538664,
          1381.9640275345744,
          1505.3389093158705,
          1504.9317113014847,
          1577.8791237984294,
          1560.574448089221,
          1592.6532998619105,
          1712.2624573208013,
          1663.1510010458062,
          1385.9399080451028,
          1482.2829972246532,
          1333.8467001380895,
          1307.425551910779,
          1335.954209534904,
          1284.2349553651818,
          1284.327757350796,
          1157.1128955423485,
          1145.7522258615184,
          1166.937315411862,
          947.6972050751372,
          1038.7006979523442,
          873.1850623060211,
          847.47280680383,
          799.9102260824594,
          704.2016069560535,
          624.5934857711113,
          550.5311873160019,
          382.22769450285256,
          234.8935869255443
         ],
         "yaxis": "y4"
        },
        {
         "legendgroup": "Deepseek V3 (ABBEL)",
         "line": {
          "color": "#4682B4",
          "width": 2
         },
         "mode": "lines+markers",
         "name": "Deepseek V3 ",
         "showlegend": false,
         "type": "scatter",
         "x": {
          "bdata": "AQIDBAUGBwgJCgsMDQ4PEBESExQ=",
          "dtype": "i1"
         },
         "xaxis": "x4",
         "y": {
          "bdata": "MzMzMzNLb0DNzMzMzFB5QJqZmZmZDIJA8xrKayhzhEBddNFFFz2HQImIiIiITIpASZIkSZLmi0AUrkfhegyNQMdxHMdxQJFAAAAAAAA4kEBiJ3ZiJ7KTQBQ7sRM7bZNAYid2YifWk0BVVVVVVcuVQFVVVVVVypVAq6qqqqrDlkAAAAAAAGiWQAAAAAAA3ZZAXXTRRRf1mEC66KKLLtKXQA==",
          "dtype": "f8"
         },
         "yaxis": "y4"
        },
        {
         "fill": "toself",
         "fillcolor": "rgba(50, 205, 50, 0.2)",
         "hoverinfo": "skip",
         "legendgroup": "Gemini 2.5 Pro (ABBEL)",
         "line": {
          "color": "rgba(255,255,255,0)"
         },
         "showlegend": false,
         "type": "scatter",
         "x": [
          1,
          2,
          3,
          4,
          5,
          6,
          7,
          8,
          9,
          10,
          11,
          12,
          13,
          14,
          15,
          16,
          17,
          18,
          19,
          20,
          20,
          19,
          18,
          17,
          16,
          15,
          14,
          13,
          12,
          11,
          10,
          9,
          8,
          7,
          6,
          5,
          4,
          3,
          2,
          1
         ],
         "xaxis": "x4",
         "y": [
          718.0725582235167,
          1132.1971399061372,
          1428.5007502489184,
          1648.3479559632324,
          1765.1771193285836,
          1784.522711248557,
          2085.617425343248,
          2233.7669149277513,
          2454.8895379595024,
          2482.03556193215,
          2681.58596911016,
          2699.2555406276065,
          2808.12967628084,
          2968.6153283654075,
          3175.920378451326,
          3366.202352663791,
          3368.441305598507,
          3697.4844658927636,
          3865.626863760664,
          3523.020584333244,
          2714.479415666756,
          3253.623136239336,
          3069.8488674405694,
          2725.72536106816,
          2889.4899550285168,
          2807.222478691531,
          2572.3846716345925,
          2537.87032371916,
          2483.7444593723935,
          2419.3029197787287,
          2196.0644380678505,
          2167.1104620404976,
          1972.3930850722486,
          1830.5254317996091,
          1594.9630030371575,
          1602.2965648819427,
          1507.8058901906138,
          1312.2992497510818,
          1033.852860093863,
          653.2774417764832
         ],
         "yaxis": "y4"
        },
        {
         "legendgroup": "Gemini 2.5 Pro (ABBEL)",
         "line": {
          "color": "#32CD32",
          "width": 2
         },
         "mode": "lines+markers",
         "name": "Gemini 2.5 Pro ",
         "showlegend": false,
         "type": "scatter",
         "x": {
          "bdata": "AQIDBAUGBwgJCgsMDQ4PEBESExQ=",
          "dtype": "i1"
         },
         "xaxis": "x4",
         "y": {
          "bdata": "ZmZmZmZthUCamZmZGeyQQJqZmZmZaZVAxU7sxE6omECvobyG8k6aQLD4iq/4ZppAJUmSJEmYnkBcj8L1KG6gQAAAAAAADqJAmpmZmRlGokCO4ziO4+yjQAAAAAAAP6RAAAAAAADipEAAAAAAAKWlQJIkSZIkX6dAO7ETO7FvqECrqqqqKs6nQFVVVVVVb6pAAAAAAEDPq0AAAAAAgF2oQA==",
          "dtype": "f8"
         },
         "yaxis": "y4"
        },
        {
         "fill": "toself",
         "fillcolor": "rgba(100,100,100,0.2)",
         "hoverinfo": "skip",
         "legendgroup": "history",
         "line": {
          "color": "rgba(255,255,255,0)"
         },
         "showlegend": false,
         "type": "scatter",
         "x": [
          1,
          2,
          3,
          4,
          5,
          6,
          6,
          5,
          4,
          3,
          2,
          1
         ],
         "xaxis": "x5",
         "y": [
          652.0208308766628,
          1321.1137412243036,
          1978.3974587856767,
          2632.962886792539,
          3309.3376208988757,
          4071.581969706935,
          3994.456491831527,
          3266.609045767791,
          2602.577113207461,
          1955.7921963867373,
          1307.5695921090298,
          646.3791691233373
         ],
         "yaxis": "y5"
        },
        {
         "legendgroup": "history",
         "line": {
          "color": "gray",
          "dash": "dot",
          "width": 2
         },
         "marker": {
          "color": "gray"
         },
         "mode": "lines+markers",
         "name": "Mean history length",
         "showlegend": false,
         "type": "scatter",
         "x": {
          "bdata": "AQIDBAUG",
          "dtype": "i1"
         },
         "xaxis": "x5",
         "y": {
          "bdata": "mpmZmZlJhEDe3d3dXYmUQBKWexphvJ5A16NwPYpzpECMJb9Y8q+pQNmJndgJgq9A",
          "dtype": "f8"
         },
         "yaxis": "y5"
        },
        {
         "fill": "toself",
         "fillcolor": "rgba(255, 99, 71, 0.2)",
         "hoverinfo": "skip",
         "legendgroup": "Deepseek R1 (ABBEL)",
         "line": {
          "color": "rgba(255,255,255,0)"
         },
         "showlegend": false,
         "type": "scatter",
         "x": [
          1,
          2,
          3,
          4,
          5,
          6,
          6,
          5,
          4,
          3,
          2,
          1
         ],
         "xaxis": "x5",
         "y": [
          270.89504868520123,
          778.2752196038466,
          352.75585006193444,
          347.27508397356524,
          355.6212211252308,
          394.23410723042,
          316.9087499124371,
          304.6287788747692,
          298.0106303121491,
          311.0336236222761,
          334.0747803961533,
          234.80495131479879
         ],
         "yaxis": "y5"
        },
        {
         "legendgroup": "Deepseek R1 (ABBEL)",
         "line": {
          "color": "#FF6347",
          "width": 2
         },
         "mode": "lines+markers",
         "name": "Deepseek R1 ",
         "showlegend": false,
         "type": "scatter",
         "x": {
          "bdata": "AQIDBAUG",
          "dtype": "i1"
         },
         "xaxis": "x5",
         "y": {
          "bdata": "MzMzMzObb0BmZmZmZmGBQOU1lNdQvnRAJUmSJEkqdEAAAAAAAKJ0QJIkSZIkOXZA",
          "dtype": "f8"
         },
         "yaxis": "y5"
        },
        {
         "fill": "toself",
         "fillcolor": "rgba(70, 130, 180, 0.2)",
         "hoverinfo": "skip",
         "legendgroup": "Deepseek V3 (ABBEL)",
         "line": {
          "color": "rgba(255,255,255,0)"
         },
         "showlegend": false,
         "type": "scatter",
         "x": [
          1,
          2,
          3,
          4,
          5,
          6,
          6,
          5,
          4,
          3,
          2,
          1
         ],
         "xaxis": "x5",
         "y": [
          209.28502390097768,
          272.20981020275207,
          293.99798556452714,
          312.90895137650716,
          354.4561262623863,
          443.87636045929014,
          335.8379252549955,
          318.438610579719,
          287.09104862349284,
          270.4520144354729,
          246.69018979724788,
          189.46497609902232
         ],
         "yaxis": "y5"
        },
        {
         "legendgroup": "Deepseek V3 (ABBEL)",
         "line": {
          "color": "#4682B4",
          "width": 2
         },
         "mode": "lines+markers",
         "name": "Deepseek V3 ",
         "showlegend": false,
         "type": "scatter",
         "x": {
          "bdata": "AQIDBAUG",
          "dtype": "i1"
         },
         "xaxis": "x5",
         "y": {
          "bdata": "AAAAAADsaEAzMzMzMzdwQJqZmZmZo3FAAAAAAADAckDzGsprKAd1QNu2bdu2XXhA",
          "dtype": "f8"
         },
         "yaxis": "y5"
        },
        {
         "fill": "toself",
         "fillcolor": "rgba(50, 205, 50, 0.2)",
         "hoverinfo": "skip",
         "legendgroup": "Gemini 2.5 Pro (ABBEL)",
         "line": {
          "color": "rgba(255,255,255,0)"
         },
         "showlegend": false,
         "type": "scatter",
         "x": [
          1,
          2,
          3,
          4,
          5,
          6,
          6,
          5,
          4,
          3,
          2,
          1
         ],
         "xaxis": "x5",
         "y": [
          273.19057755338235,
          317.4999243625875,
          332.401218677144,
          357.3862544617035,
          353.18912414737656,
          493.5092045721676,
          356.4907954278324,
          261.95373299548055,
          291.9887455382965,
          289.07246553338234,
          283.60007563741254,
          246.2594224466177
         ],
         "yaxis": "y5"
        },
        {
         "legendgroup": "Gemini 2.5 Pro (ABBEL)",
         "line": {
          "color": "#32CD32",
          "width": 2
         },
         "mode": "lines+markers",
         "name": "Gemini 2.5 Pro ",
         "showlegend": false,
         "type": "scatter",
         "x": {
          "bdata": "AQIDBAUG",
          "dtype": "i1"
         },
         "xaxis": "x5",
         "y": {
          "bdata": "mpmZmZk7cEDNzMzMzMhyQL2G8hrKa3NAAAAAAABLdECSJEmSJDlzQAAAAAAAkHpA",
          "dtype": "f8"
         },
         "yaxis": "y5"
        },
        {
         "fill": "toself",
         "fillcolor": "rgba(100,100,100,0.2)",
         "hoverinfo": "skip",
         "legendgroup": "history",
         "line": {
          "color": "rgba(255,255,255,0)"
         },
         "showlegend": false,
         "type": "scatter",
         "x": [
          1,
          2,
          3,
          4,
          5,
          6,
          7,
          8,
          9,
          10,
          11,
          12,
          12,
          11,
          10,
          9,
          8,
          7,
          6,
          5,
          4,
          3,
          2,
          1
         ],
         "xaxis": "x6",
         "y": [
          913,
          1826,
          2739,
          3645.7902433553577,
          4543.694003606861,
          5419.2451315028175,
          6318.12487787875,
          7284.872734314587,
          8184.782613356278,
          9120.332264218066,
          10038.612682368434,
          10933.18178616027,
          10897.977634129586,
          10017.50160334585,
          9094.473291337488,
          8147.909694336031,
          7255.102875441509,
          6274.596771605786,
          5381.8179315602465,
          4518.767534854678,
          3629.159756644642,
          2739,
          1826,
          913
         ],
         "yaxis": "y6"
        },
        {
         "legendgroup": "history",
         "line": {
          "color": "gray",
          "dash": "dot",
          "width": 2
         },
         "marker": {
          "color": "gray"
         },
         "mode": "lines+markers",
         "name": "Mean history length",
         "showlegend": false,
         "type": "scatter",
         "x": {
          "bdata": "AQIDBAUGBwgJCgsM",
          "dtype": "i1"
         },
         "xaxis": "x6",
         "y": {
          "bdata": "AAAAAACIjEAAAAAAAIicQAAAAAAAZqVAMzMzM/NqrEAUO7ETO7OxQLlQcxKIGLVAoaMCX1yYuEAMzsfg/GW8QJ7YiZ1Y5r9AjuM4jrPJwUBQB3VQB5bDQNAo8TPKUcVA",
          "dtype": "f8"
         },
         "yaxis": "y6"
        },
        {
         "fill": "toself",
         "fillcolor": "rgba(255, 99, 71, 0.2)",
         "hoverinfo": "skip",
         "legendgroup": "Deepseek R1 (ABBEL)",
         "line": {
          "color": "rgba(255,255,255,0)"
         },
         "showlegend": false,
         "type": "scatter",
         "x": [
          1,
          2,
          3,
          4,
          5,
          6,
          7,
          8,
          9,
          10,
          11,
          12,
          12,
          11,
          10,
          9,
          8,
          7,
          6,
          5,
          4,
          3,
          2,
          1
         ],
         "xaxis": "x6",
         "y": [
          393.97290600176416,
          674.9339477414834,
          741.3378825473723,
          745.1910307233259,
          766.0477647260761,
          754.0271886737416,
          826.3104277725579,
          847.7686540682571,
          698.3494629649394,
          703.095686305491,
          652.6890970134576,
          757.0932888883618,
          638.0178222227493,
          571.1680458436853,
          611.5939688669228,
          588.7414461259696,
          748.3525580529549,
          715.1013369333245,
          645.0497344031814,
          654.5676198893084,
          634.908969276674,
          650.2121174526277,
          587.0160522585167,
          343.2270939982359
         ],
         "yaxis": "y6"
        },
        {
         "legendgroup": "Deepseek R1 (ABBEL)",
         "line": {
          "color": "#FF6347",
          "width": 2
         },
         "mode": "lines+markers",
         "name": "Deepseek R1 ",
         "showlegend": false,
         "type": "scatter",
         "x": {
          "bdata": "AQIDBAUGBwgJCgsM",
          "dtype": "i1"
         },
         "xaxis": "x6",
         "y": {
          "bdata": "mpmZmZkJd0DNzMzMzLeDQDMzMzMzvoVAZmZmZmaQhUAndmIndjKGQMVO7MRO3IVApqWlpaUViEDwwQcffPCIQHTRRRddHIRAIyz3NMKKhEC3bdu2bR+DQMdxHMdxzIVA",
          "dtype": "f8"
         },
         "yaxis": "y6"
        },
        {
         "fill": "toself",
         "fillcolor": "rgba(70, 130, 180, 0.2)",
         "hoverinfo": "skip",
         "legendgroup": "Deepseek V3 (ABBEL)",
         "line": {
          "color": "rgba(255,255,255,0)"
         },
         "showlegend": false,
         "type": "scatter",
         "x": [
          1,
          2,
          3,
          4,
          5,
          6,
          7,
          8,
          9,
          10,
          11,
          12,
          12,
          11,
          10,
          9,
          8,
          7,
          6,
          5,
          4,
          3,
          2,
          1
         ],
         "xaxis": "x6",
         "y": [
          339.9804020279691,
          533.766788891057,
          669.390581493943,
          715.5760836626517,
          638.3728377333737,
          480.6696802784088,
          468.9520946366114,
          450.7077032613222,
          636.6628978586316,
          476.8213495122678,
          475.4453304164978,
          484.5418882205526,
          425.10811177944737,
          424.9046695835022,
          411.1286504877323,
          435.73710214136844,
          409.2922967386778,
          410.49790536338867,
          435.4303197215912,
          511.5271622666264,
          574.1239163373483,
          539.4594185060569,
          468.38321110894304,
          310.1695979720309
         ],
         "yaxis": "y6"
        },
        {
         "legendgroup": "Deepseek V3 (ABBEL)",
         "line": {
          "color": "#4682B4",
          "width": 2
         },
         "mode": "lines+markers",
         "name": "Deepseek V3 ",
         "showlegend": false,
         "type": "scatter",
         "x": {
          "bdata": "AQIDBAUGBwgJCgsM",
          "dtype": "i1"
         },
         "xaxis": "x6",
         "y": {
          "bdata": "MzMzMzNRdEAzMzMzM1F/QGZmZmZm44JAzczMzMwmhECamZmZmfeBQM3MzMzMoHxAmpmZmZl7e0AAAAAAAOB6QJqZmZmZwYBAmpmZmZm/e0DNzMzMzCJ8QDMzMzMzbXxA",
          "dtype": "f8"
         },
         "yaxis": "y6"
        },
        {
         "fill": "toself",
         "fillcolor": "rgba(50, 205, 50, 0.2)",
         "hoverinfo": "skip",
         "legendgroup": "Gemini 2.5 Pro (ABBEL)",
         "line": {
          "color": "rgba(255,255,255,0)"
         },
         "showlegend": false,
         "type": "scatter",
         "x": [
          1,
          2,
          3,
          4,
          5,
          6,
          7,
          8,
          9,
          10,
          11,
          12,
          12,
          11,
          10,
          9,
          8,
          7,
          6,
          5,
          4,
          3,
          2,
          1
         ],
         "xaxis": "x6",
         "y": [
          959.3669159998628,
          1620.6559995878217,
          2202.6647208153595,
          2493.1057918394117,
          2369.3816239901407,
          2127.8122251298555,
          1662.3091248650783,
          2070.1229754433434,
          2857.7371443501593,
          3262.6892080198886,
          3217,
          2623,
          977,
          2081,
          2173.3107919801114,
          2059.4628556498405,
          1444.988135667768,
          1332.9952229610087,
          1825.2502748701447,
          2093.986797062491,
          2279.094208160588,
          1994.6852791846406,
          1452.4440004121782,
          830.1330840001372
         ],
         "yaxis": "y6"
        },
        {
         "legendgroup": "Gemini 2.5 Pro (ABBEL)",
         "line": {
          "color": "#32CD32",
          "width": 2
         },
         "mode": "lines+markers",
         "name": "Gemini 2.5 Pro ",
         "showlegend": false,
         "type": "scatter",
         "x": {
          "bdata": "AQIDBAUGBwgJCgsM",
          "dtype": "i1"
         },
         "xaxis": "x6",
         "y": {
          "bdata": "AAAAAAD2i0AzMzMzMwKYQJqZmZlZZaBAMzMzMzOkokA2lNdQXm+hQAAAAAAg4p5ATm9605tml0DkOI7jOHabQDMzMzMzNaNAAAAAAAA8pUAAAAAAALKkQAAAAAAAIJxA",
          "dtype": "f8"
         },
         "yaxis": "y6"
        }
       ],
       "layout": {
        "annotations": [
         {
          "font": {
           "size": 16
          },
          "showarrow": false,
          "text": "Murder Mystery",
          "x": 0.06944444444444445,
          "xanchor": "center",
          "xref": "paper",
          "y": 1,
          "yanchor": "bottom",
          "yref": "paper"
         },
         {
          "font": {
           "size": 16
          },
          "showarrow": false,
          "text": "Customer Service",
          "x": 0.24166666666666667,
          "xanchor": "center",
          "xref": "paper",
          "y": 1,
          "yanchor": "bottom",
          "yref": "paper"
         },
         {
          "font": {
           "size": 16
          },
          "showarrow": false,
          "text": "Twenty Questions",
          "x": 0.41388888888888886,
          "xanchor": "center",
          "xref": "paper",
          "y": 1,
          "yanchor": "bottom",
          "yref": "paper"
         },
         {
          "font": {
           "size": 16
          },
          "showarrow": false,
          "text": "Guess my City",
          "x": 0.5861111111111112,
          "xanchor": "center",
          "xref": "paper",
          "y": 1,
          "yanchor": "bottom",
          "yref": "paper"
         },
         {
          "font": {
           "size": 16
          },
          "showarrow": false,
          "text": "Wordle",
          "x": 0.7583333333333333,
          "xanchor": "center",
          "xref": "paper",
          "y": 1,
          "yanchor": "bottom",
          "yref": "paper"
         },
         {
          "font": {
           "size": 16
          },
          "showarrow": false,
          "text": "Mastermind",
          "x": 0.9305555555555556,
          "xanchor": "center",
          "xref": "paper",
          "y": 1,
          "yanchor": "bottom",
          "yref": "paper"
         }
        ],
        "font": {
         "family": "Times New Roman, serif",
         "size": 14
        },
        "height": 400,
        "legend": {
         "bgcolor": "rgba(255,255,255,0.9)",
         "bordercolor": "black",
         "borderwidth": 1,
         "orientation": "v",
         "x": 1.02,
         "xanchor": "left",
         "y": 0.5,
         "yanchor": "middle"
        },
        "paper_bgcolor": "white",
        "plot_bgcolor": "white",
        "template": {
         "data": {
          "bar": [
           {
            "error_x": {
             "color": "#2a3f5f"
            },
            "error_y": {
             "color": "#2a3f5f"
            },
            "marker": {
             "line": {
              "color": "#E5ECF6",
              "width": 0.5
             },
             "pattern": {
              "fillmode": "overlay",
              "size": 10,
              "solidity": 0.2
             }
            },
            "type": "bar"
           }
          ],
          "barpolar": [
           {
            "marker": {
             "line": {
              "color": "#E5ECF6",
              "width": 0.5
             },
             "pattern": {
              "fillmode": "overlay",
              "size": 10,
              "solidity": 0.2
             }
            },
            "type": "barpolar"
           }
          ],
          "carpet": [
           {
            "aaxis": {
             "endlinecolor": "#2a3f5f",
             "gridcolor": "white",
             "linecolor": "white",
             "minorgridcolor": "white",
             "startlinecolor": "#2a3f5f"
            },
            "baxis": {
             "endlinecolor": "#2a3f5f",
             "gridcolor": "white",
             "linecolor": "white",
             "minorgridcolor": "white",
             "startlinecolor": "#2a3f5f"
            },
            "type": "carpet"
           }
          ],
          "choropleth": [
           {
            "colorbar": {
             "outlinewidth": 0,
             "ticks": ""
            },
            "type": "choropleth"
           }
          ],
          "contour": [
           {
            "colorbar": {
             "outlinewidth": 0,
             "ticks": ""
            },
            "colorscale": [
             [
              0,
              "#0d0887"
             ],
             [
              0.1111111111111111,
              "#46039f"
             ],
             [
              0.2222222222222222,
              "#7201a8"
             ],
             [
              0.3333333333333333,
              "#9c179e"
             ],
             [
              0.4444444444444444,
              "#bd3786"
             ],
             [
              0.5555555555555556,
              "#d8576b"
             ],
             [
              0.6666666666666666,
              "#ed7953"
             ],
             [
              0.7777777777777778,
              "#fb9f3a"
             ],
             [
              0.8888888888888888,
              "#fdca26"
             ],
             [
              1,
              "#f0f921"
             ]
            ],
            "type": "contour"
           }
          ],
          "contourcarpet": [
           {
            "colorbar": {
             "outlinewidth": 0,
             "ticks": ""
            },
            "type": "contourcarpet"
           }
          ],
          "heatmap": [
           {
            "colorbar": {
             "outlinewidth": 0,
             "ticks": ""
            },
            "colorscale": [
             [
              0,
              "#0d0887"
             ],
             [
              0.1111111111111111,
              "#46039f"
             ],
             [
              0.2222222222222222,
              "#7201a8"
             ],
             [
              0.3333333333333333,
              "#9c179e"
             ],
             [
              0.4444444444444444,
              "#bd3786"
             ],
             [
              0.5555555555555556,
              "#d8576b"
             ],
             [
              0.6666666666666666,
              "#ed7953"
             ],
             [
              0.7777777777777778,
              "#fb9f3a"
             ],
             [
              0.8888888888888888,
              "#fdca26"
             ],
             [
              1,
              "#f0f921"
             ]
            ],
            "type": "heatmap"
           }
          ],
          "histogram": [
           {
            "marker": {
             "pattern": {
              "fillmode": "overlay",
              "size": 10,
              "solidity": 0.2
             }
            },
            "type": "histogram"
           }
          ],
          "histogram2d": [
           {
            "colorbar": {
             "outlinewidth": 0,
             "ticks": ""
            },
            "colorscale": [
             [
              0,
              "#0d0887"
             ],
             [
              0.1111111111111111,
              "#46039f"
             ],
             [
              0.2222222222222222,
              "#7201a8"
             ],
             [
              0.3333333333333333,
              "#9c179e"
             ],
             [
              0.4444444444444444,
              "#bd3786"
             ],
             [
              0.5555555555555556,
              "#d8576b"
             ],
             [
              0.6666666666666666,
              "#ed7953"
             ],
             [
              0.7777777777777778,
              "#fb9f3a"
             ],
             [
              0.8888888888888888,
              "#fdca26"
             ],
             [
              1,
              "#f0f921"
             ]
            ],
            "type": "histogram2d"
           }
          ],
          "histogram2dcontour": [
           {
            "colorbar": {
             "outlinewidth": 0,
             "ticks": ""
            },
            "colorscale": [
             [
              0,
              "#0d0887"
             ],
             [
              0.1111111111111111,
              "#46039f"
             ],
             [
              0.2222222222222222,
              "#7201a8"
             ],
             [
              0.3333333333333333,
              "#9c179e"
             ],
             [
              0.4444444444444444,
              "#bd3786"
             ],
             [
              0.5555555555555556,
              "#d8576b"
             ],
             [
              0.6666666666666666,
              "#ed7953"
             ],
             [
              0.7777777777777778,
              "#fb9f3a"
             ],
             [
              0.8888888888888888,
              "#fdca26"
             ],
             [
              1,
              "#f0f921"
             ]
            ],
            "type": "histogram2dcontour"
           }
          ],
          "mesh3d": [
           {
            "colorbar": {
             "outlinewidth": 0,
             "ticks": ""
            },
            "type": "mesh3d"
           }
          ],
          "parcoords": [
           {
            "line": {
             "colorbar": {
              "outlinewidth": 0,
              "ticks": ""
             }
            },
            "type": "parcoords"
           }
          ],
          "pie": [
           {
            "automargin": true,
            "type": "pie"
           }
          ],
          "scatter": [
           {
            "fillpattern": {
             "fillmode": "overlay",
             "size": 10,
             "solidity": 0.2
            },
            "type": "scatter"
           }
          ],
          "scatter3d": [
           {
            "line": {
             "colorbar": {
              "outlinewidth": 0,
              "ticks": ""
             }
            },
            "marker": {
             "colorbar": {
              "outlinewidth": 0,
              "ticks": ""
             }
            },
            "type": "scatter3d"
           }
          ],
          "scattercarpet": [
           {
            "marker": {
             "colorbar": {
              "outlinewidth": 0,
              "ticks": ""
             }
            },
            "type": "scattercarpet"
           }
          ],
          "scattergeo": [
           {
            "marker": {
             "colorbar": {
              "outlinewidth": 0,
              "ticks": ""
             }
            },
            "type": "scattergeo"
           }
          ],
          "scattergl": [
           {
            "marker": {
             "colorbar": {
              "outlinewidth": 0,
              "ticks": ""
             }
            },
            "type": "scattergl"
           }
          ],
          "scattermap": [
           {
            "marker": {
             "colorbar": {
              "outlinewidth": 0,
              "ticks": ""
             }
            },
            "type": "scattermap"
           }
          ],
          "scattermapbox": [
           {
            "marker": {
             "colorbar": {
              "outlinewidth": 0,
              "ticks": ""
             }
            },
            "type": "scattermapbox"
           }
          ],
          "scatterpolar": [
           {
            "marker": {
             "colorbar": {
              "outlinewidth": 0,
              "ticks": ""
             }
            },
            "type": "scatterpolar"
           }
          ],
          "scatterpolargl": [
           {
            "marker": {
             "colorbar": {
              "outlinewidth": 0,
              "ticks": ""
             }
            },
            "type": "scatterpolargl"
           }
          ],
          "scatterternary": [
           {
            "marker": {
             "colorbar": {
              "outlinewidth": 0,
              "ticks": ""
             }
            },
            "type": "scatterternary"
           }
          ],
          "surface": [
           {
            "colorbar": {
             "outlinewidth": 0,
             "ticks": ""
            },
            "colorscale": [
             [
              0,
              "#0d0887"
             ],
             [
              0.1111111111111111,
              "#46039f"
             ],
             [
              0.2222222222222222,
              "#7201a8"
             ],
             [
              0.3333333333333333,
              "#9c179e"
             ],
             [
              0.4444444444444444,
              "#bd3786"
             ],
             [
              0.5555555555555556,
              "#d8576b"
             ],
             [
              0.6666666666666666,
              "#ed7953"
             ],
             [
              0.7777777777777778,
              "#fb9f3a"
             ],
             [
              0.8888888888888888,
              "#fdca26"
             ],
             [
              1,
              "#f0f921"
             ]
            ],
            "type": "surface"
           }
          ],
          "table": [
           {
            "cells": {
             "fill": {
              "color": "#EBF0F8"
             },
             "line": {
              "color": "white"
             }
            },
            "header": {
             "fill": {
              "color": "#C8D4E3"
             },
             "line": {
              "color": "white"
             }
            },
            "type": "table"
           }
          ]
         },
         "layout": {
          "annotationdefaults": {
           "arrowcolor": "#2a3f5f",
           "arrowhead": 0,
           "arrowwidth": 1
          },
          "autotypenumbers": "strict",
          "coloraxis": {
           "colorbar": {
            "outlinewidth": 0,
            "ticks": ""
           }
          },
          "colorscale": {
           "diverging": [
            [
             0,
             "#8e0152"
            ],
            [
             0.1,
             "#c51b7d"
            ],
            [
             0.2,
             "#de77ae"
            ],
            [
             0.3,
             "#f1b6da"
            ],
            [
             0.4,
             "#fde0ef"
            ],
            [
             0.5,
             "#f7f7f7"
            ],
            [
             0.6,
             "#e6f5d0"
            ],
            [
             0.7,
             "#b8e186"
            ],
            [
             0.8,
             "#7fbc41"
            ],
            [
             0.9,
             "#4d9221"
            ],
            [
             1,
             "#276419"
            ]
           ],
           "sequential": [
            [
             0,
             "#0d0887"
            ],
            [
             0.1111111111111111,
             "#46039f"
            ],
            [
             0.2222222222222222,
             "#7201a8"
            ],
            [
             0.3333333333333333,
             "#9c179e"
            ],
            [
             0.4444444444444444,
             "#bd3786"
            ],
            [
             0.5555555555555556,
             "#d8576b"
            ],
            [
             0.6666666666666666,
             "#ed7953"
            ],
            [
             0.7777777777777778,
             "#fb9f3a"
            ],
            [
             0.8888888888888888,
             "#fdca26"
            ],
            [
             1,
             "#f0f921"
            ]
           ],
           "sequentialminus": [
            [
             0,
             "#0d0887"
            ],
            [
             0.1111111111111111,
             "#46039f"
            ],
            [
             0.2222222222222222,
             "#7201a8"
            ],
            [
             0.3333333333333333,
             "#9c179e"
            ],
            [
             0.4444444444444444,
             "#bd3786"
            ],
            [
             0.5555555555555556,
             "#d8576b"
            ],
            [
             0.6666666666666666,
             "#ed7953"
            ],
            [
             0.7777777777777778,
             "#fb9f3a"
            ],
            [
             0.8888888888888888,
             "#fdca26"
            ],
            [
             1,
             "#f0f921"
            ]
           ]
          },
          "colorway": [
           "#636efa",
           "#EF553B",
           "#00cc96",
           "#ab63fa",
           "#FFA15A",
           "#19d3f3",
           "#FF6692",
           "#B6E880",
           "#FF97FF",
           "#FECB52"
          ],
          "font": {
           "color": "#2a3f5f"
          },
          "geo": {
           "bgcolor": "white",
           "lakecolor": "white",
           "landcolor": "#E5ECF6",
           "showlakes": true,
           "showland": true,
           "subunitcolor": "white"
          },
          "hoverlabel": {
           "align": "left"
          },
          "hovermode": "closest",
          "mapbox": {
           "style": "light"
          },
          "paper_bgcolor": "white",
          "plot_bgcolor": "#E5ECF6",
          "polar": {
           "angularaxis": {
            "gridcolor": "white",
            "linecolor": "white",
            "ticks": ""
           },
           "bgcolor": "#E5ECF6",
           "radialaxis": {
            "gridcolor": "white",
            "linecolor": "white",
            "ticks": ""
           }
          },
          "scene": {
           "xaxis": {
            "backgroundcolor": "#E5ECF6",
            "gridcolor": "white",
            "gridwidth": 2,
            "linecolor": "white",
            "showbackground": true,
            "ticks": "",
            "zerolinecolor": "white"
           },
           "yaxis": {
            "backgroundcolor": "#E5ECF6",
            "gridcolor": "white",
            "gridwidth": 2,
            "linecolor": "white",
            "showbackground": true,
            "ticks": "",
            "zerolinecolor": "white"
           },
           "zaxis": {
            "backgroundcolor": "#E5ECF6",
            "gridcolor": "white",
            "gridwidth": 2,
            "linecolor": "white",
            "showbackground": true,
            "ticks": "",
            "zerolinecolor": "white"
           }
          },
          "shapedefaults": {
           "line": {
            "color": "#2a3f5f"
           }
          },
          "ternary": {
           "aaxis": {
            "gridcolor": "white",
            "linecolor": "white",
            "ticks": ""
           },
           "baxis": {
            "gridcolor": "white",
            "linecolor": "white",
            "ticks": ""
           },
           "bgcolor": "#E5ECF6",
           "caxis": {
            "gridcolor": "white",
            "linecolor": "white",
            "ticks": ""
           }
          },
          "title": {
           "x": 0.05
          },
          "xaxis": {
           "automargin": true,
           "gridcolor": "white",
           "linecolor": "white",
           "ticks": "",
           "title": {
            "standoff": 15
           },
           "zerolinecolor": "white",
           "zerolinewidth": 2
          },
          "yaxis": {
           "automargin": true,
           "gridcolor": "white",
           "linecolor": "white",
           "ticks": "",
           "title": {
            "standoff": 15
           },
           "zerolinecolor": "white",
           "zerolinewidth": 2
          }
         }
        },
        "width": 1200,
        "xaxis": {
         "anchor": "y",
         "color": "black",
         "domain": [
          0,
          0.1388888888888889
         ],
         "linecolor": "black",
         "linewidth": 1,
         "showgrid": false,
         "showline": true,
         "title": {
          "text": "Step"
         }
        },
        "xaxis2": {
         "anchor": "y2",
         "color": "black",
         "domain": [
          0.17222222222222222,
          0.3111111111111111
         ],
         "linecolor": "black",
         "linewidth": 1,
         "showgrid": false,
         "showline": true,
         "title": {
          "text": "Step"
         }
        },
        "xaxis3": {
         "anchor": "y3",
         "color": "black",
         "domain": [
          0.34444444444444444,
          0.48333333333333334
         ],
         "linecolor": "black",
         "linewidth": 1,
         "showgrid": false,
         "showline": true,
         "title": {
          "text": "Step"
         }
        },
        "xaxis4": {
         "anchor": "y4",
         "color": "black",
         "domain": [
          0.5166666666666667,
          0.6555555555555557
         ],
         "linecolor": "black",
         "linewidth": 1,
         "showgrid": false,
         "showline": true,
         "title": {
          "text": "Step"
         }
        },
        "xaxis5": {
         "anchor": "y5",
         "color": "black",
         "domain": [
          0.6888888888888889,
          0.8277777777777777
         ],
         "linecolor": "black",
         "linewidth": 1,
         "showgrid": false,
         "showline": true,
         "title": {
          "text": "Step"
         }
        },
        "xaxis6": {
         "anchor": "y6",
         "color": "black",
         "domain": [
          0.861111111111111,
          1
         ],
         "linecolor": "black",
         "linewidth": 1,
         "showgrid": false,
         "showline": true,
         "title": {
          "text": "Step"
         }
        },
        "yaxis": {
         "anchor": "x",
         "domain": [
          0,
          1
         ],
         "gridcolor": "lightgray",
         "linecolor": "black",
         "linewidth": 1,
         "range": [
          0,
          6000
         ],
         "showgrid": true,
         "showline": true,
         "tickfont": {
          "color": "black"
         },
         "title": {
          "text": "Mean Belief Length (chars)"
         }
        },
        "yaxis2": {
         "anchor": "x2",
         "domain": [
          0,
          1
         ],
         "gridcolor": "lightgray",
         "linecolor": "black",
         "linewidth": 1,
         "range": [
          0,
          2500
         ],
         "showgrid": true,
         "showline": true,
         "tickfont": {
          "color": "black"
         }
        },
        "yaxis3": {
         "anchor": "x3",
         "domain": [
          0,
          1
         ],
         "gridcolor": "lightgray",
         "linecolor": "black",
         "linewidth": 1,
         "range": [
          0,
          3000
         ],
         "showgrid": true,
         "showline": true,
         "tickfont": {
          "color": "black"
         }
        },
        "yaxis4": {
         "anchor": "x4",
         "domain": [
          0,
          1
         ],
         "gridcolor": "lightgray",
         "linecolor": "black",
         "linewidth": 1,
         "range": [
          0,
          5000
         ],
         "showgrid": true,
         "showline": true,
         "tickfont": {
          "color": "black"
         }
        },
        "yaxis5": {
         "anchor": "x5",
         "domain": [
          0,
          1
         ],
         "gridcolor": "lightgray",
         "linecolor": "black",
         "linewidth": 1,
         "range": [
          0,
          1000
         ],
         "showgrid": true,
         "showline": true,
         "tickfont": {
          "color": "black"
         }
        },
        "yaxis6": {
         "anchor": "x6",
         "domain": [
          0,
          1
         ],
         "gridcolor": "lightgray",
         "linecolor": "black",
         "linewidth": 1,
         "range": [
          0,
          4000
         ],
         "showgrid": true,
         "showline": true,
         "tickfont": {
          "color": "black"
         }
        }
       }
      }
     },
     "metadata": {},
     "output_type": "display_data"
    }
   ],
   "source": [
    "fig.show()"
   ]
  },
  {
   "cell_type": "code",
   "execution_count": 153,
   "id": "f1389dee",
   "metadata": {},
   "outputs": [],
   "source": [
    "fig.write_image('figures/frontier_belief_length.pdf', width=1200, height=350)"
   ]
  },
  {
   "cell_type": "markdown",
   "id": "d3d7b5bb",
   "metadata": {},
   "source": [
    "## 4. Greediness Metrics"
   ]
  },
  {
   "cell_type": "code",
   "execution_count": 147,
   "id": "90539d27",
   "metadata": {},
   "outputs": [],
   "source": [
    "df_mastermind = df[df['env'] == 'mastermind']\n",
    "df_wordle = df[df['env'] == 'wordle']"
   ]
  },
  {
   "cell_type": "code",
   "execution_count": 148,
   "id": "ad0484bc",
   "metadata": {},
   "outputs": [],
   "source": [
    "df_wordle.loc[:, 'guess'] = df_wordle['guess'].apply(lambda x: ' '.join(list(str(x))))"
   ]
  },
  {
   "cell_type": "code",
   "execution_count": null,
   "id": "c6689c62",
   "metadata": {},
   "outputs": [
    {
     "data": {
      "text/html": [
       "<div>\n",
       "<style scoped>\n",
       "    .dataframe tbody tr th:only-of-type {\n",
       "        vertical-align: middle;\n",
       "    }\n",
       "\n",
       "    .dataframe tbody tr th {\n",
       "        vertical-align: top;\n",
       "    }\n",
       "\n",
       "    .dataframe thead th {\n",
       "        text-align: right;\n",
       "    }\n",
       "</style>\n",
       "<table border=\"1\" class=\"dataframe\">\n",
       "  <thead>\n",
       "    <tr style=\"text-align: right;\">\n",
       "      <th></th>\n",
       "      <th>model</th>\n",
       "      <th>game_id</th>\n",
       "      <th>env</th>\n",
       "      <th>attempt</th>\n",
       "      <th>info</th>\n",
       "      <th>raw_guess</th>\n",
       "      <th>guess</th>\n",
       "      <th>response</th>\n",
       "      <th>word_limit</th>\n",
       "      <th>score</th>\n",
       "      <th>done</th>\n",
       "      <th>data</th>\n",
       "      <th>belief</th>\n",
       "      <th>action_reasoning</th>\n",
       "      <th>belief_reasoning</th>\n",
       "      <th>model_info</th>\n",
       "    </tr>\n",
       "  </thead>\n",
       "  <tbody>\n",
       "    <tr>\n",
       "      <th>2</th>\n",
       "      <td>deepseek/deepseek-chat (both)</td>\n",
       "      <td>1</td>\n",
       "      <td>wordle</td>\n",
       "      <td>1</td>\n",
       "      <td>both</td>\n",
       "      <td>&lt;Think&gt; Since this is the first guess, the goa...</td>\n",
       "      <td>C R A N E</td>\n",
       "      <td>First letter, c, is not in the target word \\nS...</td>\n",
       "      <td>None</td>\n",
       "      <td>1.0</td>\n",
       "      <td>True</td>\n",
       "      <td>{'agent_game_scenario': 'word', 'env_game_scen...</td>\n",
       "      <td>The target word does not contain the letters C...</td>\n",
       "      <td>None</td>\n",
       "      <td>None</td>\n",
       "      <td>deepseek/deepseek-chat (both)</td>\n",
       "    </tr>\n",
       "    <tr>\n",
       "      <th>3</th>\n",
       "      <td>deepseek/deepseek-chat (both)</td>\n",
       "      <td>1</td>\n",
       "      <td>wordle</td>\n",
       "      <td>2</td>\n",
       "      <td>both</td>\n",
       "      <td>&lt;Think&gt; Since C, R, A, and N are not in the wo...</td>\n",
       "      <td>S L O P E</td>\n",
       "      <td>First letter, s, is correct and in the correct...</td>\n",
       "      <td>None</td>\n",
       "      <td>2.0</td>\n",
       "      <td>True</td>\n",
       "      <td>{'agent_game_scenario': 'word', 'env_game_scen...</td>\n",
       "      <td>The target word starts with 'S'. It contains t...</td>\n",
       "      <td>None</td>\n",
       "      <td>None</td>\n",
       "      <td>deepseek/deepseek-chat (both)</td>\n",
       "    </tr>\n",
       "    <tr>\n",
       "      <th>4</th>\n",
       "      <td>deepseek/deepseek-chat (both)</td>\n",
       "      <td>1</td>\n",
       "      <td>wordle</td>\n",
       "      <td>3</td>\n",
       "      <td>both</td>\n",
       "      <td>&lt;Think&gt; Based on the history and belief state:...</td>\n",
       "      <td>S P I E D</td>\n",
       "      <td>Goal reached</td>\n",
       "      <td>None</td>\n",
       "      <td>3.0</td>\n",
       "      <td>True</td>\n",
       "      <td>{'agent_game_scenario': 'word', 'env_game_scen...</td>\n",
       "      <td>The target word is \"SPIED\".</td>\n",
       "      <td>None</td>\n",
       "      <td>None</td>\n",
       "      <td>deepseek/deepseek-chat (both)</td>\n",
       "    </tr>\n",
       "    <tr>\n",
       "      <th>5</th>\n",
       "      <td>deepseek/deepseek-chat (history)</td>\n",
       "      <td>0</td>\n",
       "      <td>wordle</td>\n",
       "      <td>1</td>\n",
       "      <td>history</td>\n",
       "      <td>&lt;Think&gt; Since this is the first guess, I need ...</td>\n",
       "      <td>C R A N E</td>\n",
       "      <td>First letter, c, exists in the target word but...</td>\n",
       "      <td>None</td>\n",
       "      <td>1.0</td>\n",
       "      <td>True</td>\n",
       "      <td>{'agent_game_scenario': 'word', 'env_game_scen...</td>\n",
       "      <td></td>\n",
       "      <td>None</td>\n",
       "      <td></td>\n",
       "      <td>deepseek/deepseek-chat (history)</td>\n",
       "    </tr>\n",
       "    <tr>\n",
       "      <th>6</th>\n",
       "      <td>deepseek/deepseek-chat (history)</td>\n",
       "      <td>0</td>\n",
       "      <td>wordle</td>\n",
       "      <td>2</td>\n",
       "      <td>history</td>\n",
       "      <td>&lt;Think&gt;  \\nFrom the first guess \"CRANE\":\\n- Th...</td>\n",
       "      <td>C L O S E</td>\n",
       "      <td>First letter, c, exists in the target word but...</td>\n",
       "      <td>None</td>\n",
       "      <td>2.0</td>\n",
       "      <td>True</td>\n",
       "      <td>{'agent_game_scenario': 'word', 'env_game_scen...</td>\n",
       "      <td></td>\n",
       "      <td>None</td>\n",
       "      <td></td>\n",
       "      <td>deepseek/deepseek-chat (history)</td>\n",
       "    </tr>\n",
       "    <tr>\n",
       "      <th>...</th>\n",
       "      <td>...</td>\n",
       "      <td>...</td>\n",
       "      <td>...</td>\n",
       "      <td>...</td>\n",
       "      <td>...</td>\n",
       "      <td>...</td>\n",
       "      <td>...</td>\n",
       "      <td>...</td>\n",
       "      <td>...</td>\n",
       "      <td>...</td>\n",
       "      <td>...</td>\n",
       "      <td>...</td>\n",
       "      <td>...</td>\n",
       "      <td>...</td>\n",
       "      <td>...</td>\n",
       "      <td>...</td>\n",
       "    </tr>\n",
       "    <tr>\n",
       "      <th>24910</th>\n",
       "      <td>deepseek/deepseek-r1 (belief)</td>\n",
       "      <td>39</td>\n",
       "      <td>wordle</td>\n",
       "      <td>2</td>\n",
       "      <td>belief</td>\n",
       "      <td>&lt;Think&gt; The excluded letters are S, P, L, I, T...</td>\n",
       "      <td>C R A N E</td>\n",
       "      <td>First letter, c, is not in the target word \\nS...</td>\n",
       "      <td>None</td>\n",
       "      <td>2.0</td>\n",
       "      <td>True</td>\n",
       "      <td>{'agent_game_scenario': 'word', 'env_game_scen...</td>\n",
       "      <td>Excluded letters: S, P, L, I, T, C, N, E. \\nCo...</td>\n",
       "      <td>Okay, so I'm on my third attempt in Wordle, an...</td>\n",
       "      <td>Okay, let's see. The current belief says that ...</td>\n",
       "      <td>deepseek/deepseek-r1 (belief)</td>\n",
       "    </tr>\n",
       "    <tr>\n",
       "      <th>24911</th>\n",
       "      <td>deepseek/deepseek-r1 (belief)</td>\n",
       "      <td>39</td>\n",
       "      <td>wordle</td>\n",
       "      <td>3</td>\n",
       "      <td>belief</td>\n",
       "      <td>&lt;Think&gt; The secret word contains R and A, not ...</td>\n",
       "      <td>R U M B A</td>\n",
       "      <td>First letter, r, exists in the target word but...</td>\n",
       "      <td>None</td>\n",
       "      <td>3.0</td>\n",
       "      <td>True</td>\n",
       "      <td>{'agent_game_scenario': 'word', 'env_game_scen...</td>\n",
       "      <td>Excluded letters: S, P, L, I, T, C, N, E, U, B...</td>\n",
       "      <td>Okay, let's see. So it's attempt 4 out of 6, a...</td>\n",
       "      <td>Okay, let's update the belief based on the lat...</td>\n",
       "      <td>deepseek/deepseek-r1 (belief)</td>\n",
       "    </tr>\n",
       "    <tr>\n",
       "      <th>24912</th>\n",
       "      <td>deepseek/deepseek-r1 (belief)</td>\n",
       "      <td>39</td>\n",
       "      <td>wordle</td>\n",
       "      <td>4</td>\n",
       "      <td>belief</td>\n",
       "      <td>&lt;Think&gt;\\nThe secret word must contain R, A, M,...</td>\n",
       "      <td>M A J O R</td>\n",
       "      <td>First letter, m, is correct and in the correct...</td>\n",
       "      <td>None</td>\n",
       "      <td>4.0</td>\n",
       "      <td>True</td>\n",
       "      <td>{'agent_game_scenario': 'word', 'env_game_scen...</td>\n",
       "      <td>Excluded letters: S, P, L, I, T, C, N, E, U, B...</td>\n",
       "      <td>Okay, let's see. I need to figure out the next...</td>\n",
       "      <td>Okay, let's break down the problem. The user i...</td>\n",
       "      <td>deepseek/deepseek-r1 (belief)</td>\n",
       "    </tr>\n",
       "    <tr>\n",
       "      <th>24913</th>\n",
       "      <td>deepseek/deepseek-r1 (belief)</td>\n",
       "      <td>39</td>\n",
       "      <td>wordle</td>\n",
       "      <td>5</td>\n",
       "      <td>belief</td>\n",
       "      <td>&lt;Think&gt; Since this is the final attempt, prior...</td>\n",
       "      <td>M A R V Y</td>\n",
       "      <td>First letter, m, is correct and in the correct...</td>\n",
       "      <td>None</td>\n",
       "      <td>5.0</td>\n",
       "      <td>True</td>\n",
       "      <td>{'agent_game_scenario': 'word', 'env_game_scen...</td>\n",
       "      <td>Excluded letters: S, P, L, I, T, C, N, E, U, B...</td>\n",
       "      <td>Okay, let's try to figure out the best guess h...</td>\n",
       "      <td>Okay, let me try to update the belief based on...</td>\n",
       "      <td>deepseek/deepseek-r1 (belief)</td>\n",
       "    </tr>\n",
       "    <tr>\n",
       "      <th>24914</th>\n",
       "      <td>deepseek/deepseek-r1 (belief)</td>\n",
       "      <td>39</td>\n",
       "      <td>wordle</td>\n",
       "      <td>6</td>\n",
       "      <td>belief</td>\n",
       "      <td>&lt;Think&gt; The secret word structure is M A R _ Y...</td>\n",
       "      <td>M A R D Y</td>\n",
       "      <td>First letter, m, is correct and in the correct...</td>\n",
       "      <td>None</td>\n",
       "      <td>6.0</td>\n",
       "      <td>True</td>\n",
       "      <td>{'agent_game_scenario': 'word', 'env_game_scen...</td>\n",
       "      <td>&lt;BELIEF&gt;\\nExcluded letters: S, P, L, I, T, C, ...</td>\n",
       "      <td>Okay, let's see. The structure is M_A_R_ _Y. T...</td>\n",
       "      <td>Okay, let me break this down. The current beli...</td>\n",
       "      <td>deepseek/deepseek-r1 (belief)</td>\n",
       "    </tr>\n",
       "  </tbody>\n",
       "</table>\n",
       "<p>1690 rows × 16 columns</p>\n",
       "</div>"
      ],
      "text/plain": [
       "                                  model game_id     env  attempt     info  \\\n",
       "2         deepseek/deepseek-chat (both)       1  wordle        1     both   \n",
       "3         deepseek/deepseek-chat (both)       1  wordle        2     both   \n",
       "4         deepseek/deepseek-chat (both)       1  wordle        3     both   \n",
       "5      deepseek/deepseek-chat (history)       0  wordle        1  history   \n",
       "6      deepseek/deepseek-chat (history)       0  wordle        2  history   \n",
       "...                                 ...     ...     ...      ...      ...   \n",
       "24910     deepseek/deepseek-r1 (belief)      39  wordle        2   belief   \n",
       "24911     deepseek/deepseek-r1 (belief)      39  wordle        3   belief   \n",
       "24912     deepseek/deepseek-r1 (belief)      39  wordle        4   belief   \n",
       "24913     deepseek/deepseek-r1 (belief)      39  wordle        5   belief   \n",
       "24914     deepseek/deepseek-r1 (belief)      39  wordle        6   belief   \n",
       "\n",
       "                                               raw_guess      guess  \\\n",
       "2      <Think> Since this is the first guess, the goa...  C R A N E   \n",
       "3      <Think> Since C, R, A, and N are not in the wo...  S L O P E   \n",
       "4      <Think> Based on the history and belief state:...  S P I E D   \n",
       "5      <Think> Since this is the first guess, I need ...  C R A N E   \n",
       "6      <Think>  \\nFrom the first guess \"CRANE\":\\n- Th...  C L O S E   \n",
       "...                                                  ...        ...   \n",
       "24910  <Think> The excluded letters are S, P, L, I, T...  C R A N E   \n",
       "24911  <Think> The secret word contains R and A, not ...  R U M B A   \n",
       "24912  <Think>\\nThe secret word must contain R, A, M,...  M A J O R   \n",
       "24913  <Think> Since this is the final attempt, prior...  M A R V Y   \n",
       "24914  <Think> The secret word structure is M A R _ Y...  M A R D Y   \n",
       "\n",
       "                                                response word_limit  score  \\\n",
       "2      First letter, c, is not in the target word \\nS...       None    1.0   \n",
       "3      First letter, s, is correct and in the correct...       None    2.0   \n",
       "4                                           Goal reached       None    3.0   \n",
       "5      First letter, c, exists in the target word but...       None    1.0   \n",
       "6      First letter, c, exists in the target word but...       None    2.0   \n",
       "...                                                  ...        ...    ...   \n",
       "24910  First letter, c, is not in the target word \\nS...       None    2.0   \n",
       "24911  First letter, r, exists in the target word but...       None    3.0   \n",
       "24912  First letter, m, is correct and in the correct...       None    4.0   \n",
       "24913  First letter, m, is correct and in the correct...       None    5.0   \n",
       "24914  First letter, m, is correct and in the correct...       None    6.0   \n",
       "\n",
       "       done                                               data  \\\n",
       "2      True  {'agent_game_scenario': 'word', 'env_game_scen...   \n",
       "3      True  {'agent_game_scenario': 'word', 'env_game_scen...   \n",
       "4      True  {'agent_game_scenario': 'word', 'env_game_scen...   \n",
       "5      True  {'agent_game_scenario': 'word', 'env_game_scen...   \n",
       "6      True  {'agent_game_scenario': 'word', 'env_game_scen...   \n",
       "...     ...                                                ...   \n",
       "24910  True  {'agent_game_scenario': 'word', 'env_game_scen...   \n",
       "24911  True  {'agent_game_scenario': 'word', 'env_game_scen...   \n",
       "24912  True  {'agent_game_scenario': 'word', 'env_game_scen...   \n",
       "24913  True  {'agent_game_scenario': 'word', 'env_game_scen...   \n",
       "24914  True  {'agent_game_scenario': 'word', 'env_game_scen...   \n",
       "\n",
       "                                                  belief  \\\n",
       "2      The target word does not contain the letters C...   \n",
       "3      The target word starts with 'S'. It contains t...   \n",
       "4                            The target word is \"SPIED\".   \n",
       "5                                                          \n",
       "6                                                          \n",
       "...                                                  ...   \n",
       "24910  Excluded letters: S, P, L, I, T, C, N, E. \\nCo...   \n",
       "24911  Excluded letters: S, P, L, I, T, C, N, E, U, B...   \n",
       "24912  Excluded letters: S, P, L, I, T, C, N, E, U, B...   \n",
       "24913  Excluded letters: S, P, L, I, T, C, N, E, U, B...   \n",
       "24914  <BELIEF>\\nExcluded letters: S, P, L, I, T, C, ...   \n",
       "\n",
       "                                        action_reasoning  \\\n",
       "2                                                   None   \n",
       "3                                                   None   \n",
       "4                                                   None   \n",
       "5                                                   None   \n",
       "6                                                   None   \n",
       "...                                                  ...   \n",
       "24910  Okay, so I'm on my third attempt in Wordle, an...   \n",
       "24911  Okay, let's see. So it's attempt 4 out of 6, a...   \n",
       "24912  Okay, let's see. I need to figure out the next...   \n",
       "24913  Okay, let's try to figure out the best guess h...   \n",
       "24914  Okay, let's see. The structure is M_A_R_ _Y. T...   \n",
       "\n",
       "                                        belief_reasoning  \\\n",
       "2                                                   None   \n",
       "3                                                   None   \n",
       "4                                                   None   \n",
       "5                                                          \n",
       "6                                                          \n",
       "...                                                  ...   \n",
       "24910  Okay, let's see. The current belief says that ...   \n",
       "24911  Okay, let's update the belief based on the lat...   \n",
       "24912  Okay, let's break down the problem. The user i...   \n",
       "24913  Okay, let me try to update the belief based on...   \n",
       "24914  Okay, let me break this down. The current beli...   \n",
       "\n",
       "                             model_info  \n",
       "2         deepseek/deepseek-chat (both)  \n",
       "3         deepseek/deepseek-chat (both)  \n",
       "4         deepseek/deepseek-chat (both)  \n",
       "5      deepseek/deepseek-chat (history)  \n",
       "6      deepseek/deepseek-chat (history)  \n",
       "...                                 ...  \n",
       "24910     deepseek/deepseek-r1 (belief)  \n",
       "24911     deepseek/deepseek-r1 (belief)  \n",
       "24912     deepseek/deepseek-r1 (belief)  \n",
       "24913     deepseek/deepseek-r1 (belief)  \n",
       "24914     deepseek/deepseek-r1 (belief)  \n",
       "\n",
       "[1690 rows x 16 columns]"
      ]
     },
     "execution_count": 151,
     "metadata": {},
     "output_type": "execute_result"
    }
   ],
   "source": [
    "df_wordle"
   ]
  },
  {
   "cell_type": "code",
   "execution_count": null,
   "id": "3e3856f0",
   "metadata": {},
   "outputs": [],
   "source": [
    "import plotly.graph_objects as go\n",
    "import pandas as pd\n",
    "import numpy as np\n",
    "\n",
    "def plot_action_repetition(df):\n",
    "    \"\"\"\n",
    "    Create a bar chart showing greediness for each model.\n",
    "    \n",
    "    Greediness is defined as the fraction of times a model repeats\n",
    "    a particular guess at a particular position across games.\n",
    "    \n",
    "    Parameters:\n",
    "    df (pd.DataFrame): DataFrame with columns 'game_id', 'attempt', 'model_info', 'guess'\n",
    "    \n",
    "    Returns:\n",
    "    plotly.graph_objects.Figure: Bar chart figure\n",
    "    \"\"\"\n",
    "    \n",
    "    # Fixed colors for different models\n",
    "    colors = [\n",
    "        \"#ADD8E6\",  # light blue\n",
    "        \"#4682B4\",  # medium blue\n",
    "        \"#003366\",  # dark blue\n",
    "        \"#FFB6C1\",  # light red\n",
    "        \"#FF6347\",  # medium red\n",
    "        \"#8B0000\",  # dark red\n",
    "        \"#90EE90\",  # light green\n",
    "        \"#32CD32\",  # medium green\n",
    "        \"#006400\",  # dark green\n",
    "    ]\n",
    "    \n",
    "    greediness_results = []\n",
    "    \n",
    "    # Group by model_info\n",
    "    for model_idx, (model, model_data) in enumerate(df.groupby('model_info')):\n",
    "        # Group by game_id to get sequences of guesses\n",
    "        game_sequences = []\n",
    "        for game_id, game_data in model_data.groupby('game_id'):\n",
    "            # Sort by attempt to get the correct sequence\n",
    "            sequence = game_data.sort_values('attempt')['guess'].tolist()\n",
    "            game_sequences.append(sequence)\n",
    "        \n",
    "        # Calculate greediness for each game separately to get variance\n",
    "        game_greediness_values = []\n",
    "        \n",
    "        # For each game, calculate its greediness\n",
    "        for seq in game_sequences:\n",
    "            game_total_greediness = 0\n",
    "            game_total_positions = 0\n",
    "            \n",
    "            # For each position in this game's sequence\n",
    "            for pos in range(len(seq)):\n",
    "                # Get all guesses at this position across ALL games for comparison\n",
    "                guesses_at_position = []\n",
    "                for other_seq in game_sequences:\n",
    "                    if pos < len(other_seq):\n",
    "                        guesses_at_position.append(other_seq[pos])\n",
    "                \n",
    "                if len(guesses_at_position) > 1:\n",
    "                    # Count repeats\n",
    "                    unique_guesses = len(set(guesses_at_position))\n",
    "                    total_guesses = len(guesses_at_position)\n",
    "                    \n",
    "                    # Greediness = 1 - (unique_guesses / total_guesses)\n",
    "                    position_greediness = 1 - (unique_guesses / total_guesses)\n",
    "                    \n",
    "                    game_total_greediness += position_greediness\n",
    "                    game_total_positions += 1\n",
    "            \n",
    "            # Average greediness for this game\n",
    "            if game_total_positions > 0:\n",
    "                game_avg_greediness = (game_total_greediness / game_total_positions * 100)\n",
    "                game_greediness_values.append(game_avg_greediness)\n",
    "        \n",
    "        # Calculate mean and standard error\n",
    "        if game_greediness_values:\n",
    "            avg_greediness = np.mean(game_greediness_values)\n",
    "            std_error = np.std(game_greediness_values, ddof=1) / np.sqrt(len(game_greediness_values)) if len(game_greediness_values) > 1 else 0\n",
    "        else:\n",
    "            avg_greediness = 0\n",
    "            std_error = 0\n",
    "        \n",
    "        greediness_results.append({\n",
    "            'model': model,\n",
    "            'greediness': avg_greediness,\n",
    "            'std_error': std_error,\n",
    "            'color': colors[model_idx % len(colors)]\n",
    "        })\n",
    "\n",
    "    desired_order = [0, 2, 1, 3, 5, 4, 6, 8, 7]\n",
    "    greediness_results = [greediness_results[i] for i in desired_order]\n",
    "    \n",
    "    # Create the bar chart\n",
    "    fig = go.Figure()\n",
    "    \n",
    "    # Add bars\n",
    "    models = [result['model'] for result in greediness_results]\n",
    "    greediness_values = [result['greediness'] for result in greediness_results]\n",
    "    error_values = [result['std_error'] for result in greediness_results]\n",
    "    bar_colors = [result['color'] for result in greediness_results]\n",
    "    \n",
    "    fig.add_trace(go.Bar(\n",
    "        x=models,\n",
    "        y=greediness_values,\n",
    "        error_y=dict(\n",
    "            type='data',\n",
    "            array=error_values,\n",
    "            visible=True,\n",
    "            color='black',\n",
    "            thickness=1.5,\n",
    "            width=3\n",
    "        ),\n",
    "        marker_color=bar_colors,\n",
    "        marker_line_color='black',\n",
    "        marker_line_width=1,\n",
    "        width=0.6\n",
    "    ))\n",
    "    \n",
    "    # Update layout for professional appearance\n",
    "    fig.update_layout(\n",
    "        title={\n",
    "            'text': '',\n",
    "            'x': 0.5,\n",
    "            'font': {'family': 'Computer Modern, serif', 'size': 16}\n",
    "        },\n",
    "        xaxis={\n",
    "            'title': 'Model + Info (Wordle)',\n",
    "            'title_font': {'family': 'Computer Modern, serif', 'size': 14},\n",
    "            'tickfont': {'family': 'Computer Modern, serif', 'size': 14},\n",
    "            'showgrid': False,\n",
    "            'showline': True,\n",
    "            'linewidth': 1,\n",
    "            'linecolor': 'black',\n",
    "            'mirror': True\n",
    "        },\n",
    "        yaxis={\n",
    "            'title': 'Action Repetition',\n",
    "            'title_font': {'family': 'Computer Modern, serif', 'size': 14},\n",
    "            'tickfont': {'family': 'Computer Modern, serif', 'size': 14},\n",
    "            'showgrid': False,\n",
    "            'showline': True,\n",
    "            'linewidth': 1,\n",
    "            'linecolor': 'black',\n",
    "            'mirror': True,\n",
    "            'range': [0, max([g + e for g, e in zip(greediness_values, error_values)]) * 1.1 if greediness_values else 100]\n",
    "        },\n",
    "        plot_bgcolor='white',\n",
    "        paper_bgcolor='white',\n",
    "        font={'family': 'Computer Modern, serif'},\n",
    "        width=800,\n",
    "        height=500,\n",
    "        margin=dict(l=80, r=50, t=80, b=80)\n",
    "    )\n",
    "    \n",
    "    # Add grid lines manually for a cleaner look\n",
    "    fig.update_yaxes(showgrid=True, gridwidth=0.5, gridcolor='lightgray')\n",
    "    \n",
    "    return fig"
   ]
  },
  {
   "cell_type": "code",
   "execution_count": null,
   "id": "231dfe60",
   "metadata": {},
   "outputs": [],
   "source": [
    "import plotly.graph_objects as go\n",
    "import pandas as pd\n",
    "import numpy as np\n",
    "\n",
    "def plot_greediness(df):\n",
    "    \"\"\"\n",
    "    Create a bar chart showing greediness for each model.\n",
    "\n",
    "    Greediness is defined as the fraction of times the correct guess is made\n",
    "    for any position (average across rows and positions).\n",
    "\n",
    "    Parameters:\n",
    "    df (pd.DataFrame): DataFrame with columns 'game_id', 'attempt', 'model_info', 'guess'\n",
    "\n",
    "    Returns:\n",
    "    plotly.graph_objects.Figure: Bar chart figure\n",
    "    \"\"\"\n",
    "\n",
    "    # Fixed colors for different models\n",
    "    colors = [\n",
    "        \"#ADD8E6\",  # light blue\n",
    "        \"#4682B4\",  # medium blue\n",
    "        \"#003366\",  # dark blue\n",
    "        \"#FFB6C1\",  # light red\n",
    "        \"#FF6347\",  # medium red\n",
    "        \"#8B0000\",  # dark red\n",
    "        \"#90EE90\",  # light green\n",
    "        \"#32CD32\",  # medium green\n",
    "        \"#006400\",  # dark green\n",
    "    ]\n",
    "\n",
    "    greediness_results = []\n",
    "\n",
    "    # Group by model_info\n",
    "    for model_idx, (model, model_data) in enumerate(df.groupby('model_info')):\n",
    "        per_row_fractions = []\n",
    "        for row_id in range(len(model_data)):\n",
    "            # Get target and guess\n",
    "            # Fix: check if 'data' is a dict and contains 'env_game_scenario'\n",
    "            data_field = model_data.iloc[row_id]['data']\n",
    "            if isinstance(data_field, dict) and 'env_game_scenario' in data_field:\n",
    "                target = str(data_field['env_game_scenario'])\n",
    "            else:\n",
    "                # fallback: skip this row if not present\n",
    "                continue\n",
    "            guess_str = str(model_data.iloc[row_id]['guess'])\n",
    "            guess = guess_str.split(' ')\n",
    "            # Only compare up to the length of the shorter of guess/target\n",
    "            n_positions = min(len(target), len(guess))\n",
    "            if n_positions == 0:\n",
    "                continue\n",
    "            correct = 0\n",
    "            for idx in range(n_positions):\n",
    "                if str(guess[idx]) == str(target[idx]):\n",
    "                    correct += 1\n",
    "            per_row_fractions.append(correct / n_positions)\n",
    "        if len(per_row_fractions) == 0:\n",
    "            avg_greediness = 0.0\n",
    "            std_error = 0.0\n",
    "        else:\n",
    "            avg_greediness = np.mean(per_row_fractions)\n",
    "            std_error = np.std(per_row_fractions, ddof=1) / np.sqrt(len(per_row_fractions)) if len(per_row_fractions) > 1 else 0.0\n",
    "        greediness_results.append({\n",
    "            'model': model,\n",
    "            'greediness': avg_greediness,\n",
    "            'std_error': std_error,\n",
    "            'color': colors[model_idx % len(colors)]\n",
    "        })\n",
    "\n",
    "    # Optionally reorder for display\n",
    "    desired_order = [0, 2, 1, 3, 5, 4, 6, 8, 7]\n",
    "    if len(greediness_results) == len(desired_order):\n",
    "        greediness_results = [greediness_results[i] for i in desired_order]\n",
    "\n",
    "    # Create the bar chart\n",
    "    fig = go.Figure()\n",
    "\n",
    "    # Add bars\n",
    "    models = [result['model'] for result in greediness_results]\n",
    "    greediness_values = [result['greediness'] for result in greediness_results]\n",
    "    error_values = [result['std_error'] for result in greediness_results]\n",
    "    bar_colors = [result['color'] for result in greediness_results]\n",
    "\n",
    "    fig.add_trace(go.Bar(\n",
    "        x=models,\n",
    "        y=greediness_values,\n",
    "        error_y=dict(\n",
    "            type='data',\n",
    "            array=error_values,\n",
    "            visible=True,\n",
    "            color='black',\n",
    "            thickness=1.5,\n",
    "            width=3\n",
    "        ),\n",
    "        marker_color=bar_colors,\n",
    "        marker_line_color='black',\n",
    "        marker_line_width=1,\n",
    "        width=0.6\n",
    "    ))\n",
    "\n",
    "    # Update layout for professional appearance\n",
    "    fig.update_layout(\n",
    "        title={\n",
    "            'text': '',\n",
    "            'x': 0.5,\n",
    "            'font': {'family': 'Computer Modern, serif', 'size': 16}\n",
    "        },\n",
    "        xaxis={\n",
    "            'title': 'Model + Info (Wordle)',\n",
    "            'title_font': {'family': 'Computer Modern, serif', 'size': 14},\n",
    "            'tickfont': {'family': 'Computer Modern, serif', 'size': 14},\n",
    "            'showgrid': False,\n",
    "            'showline': True,\n",
    "            'linewidth': 1,\n",
    "            'linecolor': 'black',\n",
    "            'mirror': True\n",
    "        },\n",
    "        yaxis={\n",
    "            'title': 'Greediness (Correct)',\n",
    "            'title_font': {'family': 'Computer Modern, serif', 'size': 14},\n",
    "            'tickfont': {'family': 'Computer Modern, serif', 'size': 14},\n",
    "            'showgrid': False,\n",
    "            'showline': True,\n",
    "            'linewidth': 1,\n",
    "            'linecolor': 'black',\n",
    "            'mirror': True,\n",
    "            'range': [0, max([g + e for g, e in zip(greediness_values, error_values)]) * 1.1 if greediness_values else 100]\n",
    "        },\n",
    "        plot_bgcolor='white',\n",
    "        paper_bgcolor='white',\n",
    "        font={'family': 'Computer Modern, serif'},\n",
    "        width=800,\n",
    "        height=500,\n",
    "        margin=dict(l=80, r=50, t=80, b=80)\n",
    "    )\n",
    "\n",
    "    # Add grid lines manually for a cleaner look\n",
    "    fig.update_yaxes(showgrid=True, gridwidth=0.5, gridcolor='lightgray')\n",
    "\n",
    "    return fig"
   ]
  },
  {
   "cell_type": "code",
   "execution_count": 142,
   "id": "2b98a054",
   "metadata": {},
   "outputs": [],
   "source": [
    "models_list = [\n",
    "    'deepseek/deepseek-chat (belief)',\n",
    "    'deepseek/deepseek-chat (history)',\n",
    "    'deepseek/deepseek-chat (both)',\n",
    "    'deepseek/deepseek-r1 (belief)'\n",
    "    'deepseek/deepseek-r1 (history)',\n",
    "    'deepseek/deepseek-r1 (both)',\n",
    "    'google/gemini-2.5-pro (belief)',\n",
    "    'google/gemini-2.5-pro (history)',\n",
    "    'google/gemini-2.5-pro (both)',\n",
    "    ]"
   ]
  },
  {
   "cell_type": "code",
   "execution_count": 143,
   "id": "5c3907e9",
   "metadata": {},
   "outputs": [],
   "source": [
    "fig_ar_mm = plot_action_repetition(df_mastermind)\n",
    "fig_gr_mm = plot_greediness(df_mastermind)\n",
    "fig_ar_wd = plot_action_repetition(df_wordle)\n",
    "fig_gr_wd = plot_greediness(df_wordle)"
   ]
  },
  {
   "cell_type": "code",
   "execution_count": 146,
   "id": "1635dd9e",
   "metadata": {},
   "outputs": [
    {
     "data": {
      "application/vnd.plotly.v1+json": {
       "config": {
        "plotlyServerURL": "https://plot.ly"
       },
       "data": [
        {
         "error_y": {
          "array": [
           0.0098873179265809,
           0.005270597520609262,
           0.0009216589861751153,
           0.0011834319526627223,
           0.007431523640153751,
           0.006322547864147898,
           0,
           0,
           0
          ],
          "color": "black",
          "thickness": 1.5,
          "type": "data",
          "visible": true,
          "width": 3
         },
         "marker": {
          "color": [
           "#ADD8E6",
           "#003366",
           "#4682B4",
           "#FFB6C1",
           "#8B0000",
           "#FF6347",
           "#90EE90",
           "#006400",
           "#32CD32"
          ],
          "line": {
           "color": "black",
           "width": 1
          }
         },
         "type": "bar",
         "width": 0.6,
         "x": [
          "deepseek/deepseek-chat (belief)",
          "deepseek/deepseek-chat (history)",
          "deepseek/deepseek-chat (both)",
          "deepseek/deepseek-r1 (belief)",
          "deepseek/deepseek-r1 (history)",
          "deepseek/deepseek-r1 (both)",
          "google/gemini-2.5-pro (belief)",
          "google/gemini-2.5-pro (history)",
          "google/gemini-2.5-pro (both)"
         ],
         "y": [
          0.041201716738197426,
          0.006862745098039216,
          0.0009216589861751152,
          0.001183431952662722,
          0.01317365269461078,
          0.008235294117647058,
          0,
          0,
          0
         ]
        }
       ],
       "layout": {
        "font": {
         "family": "Computer Modern, serif"
        },
        "height": 500,
        "margin": {
         "b": 80,
         "l": 80,
         "r": 50,
         "t": 80
        },
        "paper_bgcolor": "white",
        "plot_bgcolor": "white",
        "template": {
         "data": {
          "bar": [
           {
            "error_x": {
             "color": "#2a3f5f"
            },
            "error_y": {
             "color": "#2a3f5f"
            },
            "marker": {
             "line": {
              "color": "#E5ECF6",
              "width": 0.5
             },
             "pattern": {
              "fillmode": "overlay",
              "size": 10,
              "solidity": 0.2
             }
            },
            "type": "bar"
           }
          ],
          "barpolar": [
           {
            "marker": {
             "line": {
              "color": "#E5ECF6",
              "width": 0.5
             },
             "pattern": {
              "fillmode": "overlay",
              "size": 10,
              "solidity": 0.2
             }
            },
            "type": "barpolar"
           }
          ],
          "carpet": [
           {
            "aaxis": {
             "endlinecolor": "#2a3f5f",
             "gridcolor": "white",
             "linecolor": "white",
             "minorgridcolor": "white",
             "startlinecolor": "#2a3f5f"
            },
            "baxis": {
             "endlinecolor": "#2a3f5f",
             "gridcolor": "white",
             "linecolor": "white",
             "minorgridcolor": "white",
             "startlinecolor": "#2a3f5f"
            },
            "type": "carpet"
           }
          ],
          "choropleth": [
           {
            "colorbar": {
             "outlinewidth": 0,
             "ticks": ""
            },
            "type": "choropleth"
           }
          ],
          "contour": [
           {
            "colorbar": {
             "outlinewidth": 0,
             "ticks": ""
            },
            "colorscale": [
             [
              0,
              "#0d0887"
             ],
             [
              0.1111111111111111,
              "#46039f"
             ],
             [
              0.2222222222222222,
              "#7201a8"
             ],
             [
              0.3333333333333333,
              "#9c179e"
             ],
             [
              0.4444444444444444,
              "#bd3786"
             ],
             [
              0.5555555555555556,
              "#d8576b"
             ],
             [
              0.6666666666666666,
              "#ed7953"
             ],
             [
              0.7777777777777778,
              "#fb9f3a"
             ],
             [
              0.8888888888888888,
              "#fdca26"
             ],
             [
              1,
              "#f0f921"
             ]
            ],
            "type": "contour"
           }
          ],
          "contourcarpet": [
           {
            "colorbar": {
             "outlinewidth": 0,
             "ticks": ""
            },
            "type": "contourcarpet"
           }
          ],
          "heatmap": [
           {
            "colorbar": {
             "outlinewidth": 0,
             "ticks": ""
            },
            "colorscale": [
             [
              0,
              "#0d0887"
             ],
             [
              0.1111111111111111,
              "#46039f"
             ],
             [
              0.2222222222222222,
              "#7201a8"
             ],
             [
              0.3333333333333333,
              "#9c179e"
             ],
             [
              0.4444444444444444,
              "#bd3786"
             ],
             [
              0.5555555555555556,
              "#d8576b"
             ],
             [
              0.6666666666666666,
              "#ed7953"
             ],
             [
              0.7777777777777778,
              "#fb9f3a"
             ],
             [
              0.8888888888888888,
              "#fdca26"
             ],
             [
              1,
              "#f0f921"
             ]
            ],
            "type": "heatmap"
           }
          ],
          "histogram": [
           {
            "marker": {
             "pattern": {
              "fillmode": "overlay",
              "size": 10,
              "solidity": 0.2
             }
            },
            "type": "histogram"
           }
          ],
          "histogram2d": [
           {
            "colorbar": {
             "outlinewidth": 0,
             "ticks": ""
            },
            "colorscale": [
             [
              0,
              "#0d0887"
             ],
             [
              0.1111111111111111,
              "#46039f"
             ],
             [
              0.2222222222222222,
              "#7201a8"
             ],
             [
              0.3333333333333333,
              "#9c179e"
             ],
             [
              0.4444444444444444,
              "#bd3786"
             ],
             [
              0.5555555555555556,
              "#d8576b"
             ],
             [
              0.6666666666666666,
              "#ed7953"
             ],
             [
              0.7777777777777778,
              "#fb9f3a"
             ],
             [
              0.8888888888888888,
              "#fdca26"
             ],
             [
              1,
              "#f0f921"
             ]
            ],
            "type": "histogram2d"
           }
          ],
          "histogram2dcontour": [
           {
            "colorbar": {
             "outlinewidth": 0,
             "ticks": ""
            },
            "colorscale": [
             [
              0,
              "#0d0887"
             ],
             [
              0.1111111111111111,
              "#46039f"
             ],
             [
              0.2222222222222222,
              "#7201a8"
             ],
             [
              0.3333333333333333,
              "#9c179e"
             ],
             [
              0.4444444444444444,
              "#bd3786"
             ],
             [
              0.5555555555555556,
              "#d8576b"
             ],
             [
              0.6666666666666666,
              "#ed7953"
             ],
             [
              0.7777777777777778,
              "#fb9f3a"
             ],
             [
              0.8888888888888888,
              "#fdca26"
             ],
             [
              1,
              "#f0f921"
             ]
            ],
            "type": "histogram2dcontour"
           }
          ],
          "mesh3d": [
           {
            "colorbar": {
             "outlinewidth": 0,
             "ticks": ""
            },
            "type": "mesh3d"
           }
          ],
          "parcoords": [
           {
            "line": {
             "colorbar": {
              "outlinewidth": 0,
              "ticks": ""
             }
            },
            "type": "parcoords"
           }
          ],
          "pie": [
           {
            "automargin": true,
            "type": "pie"
           }
          ],
          "scatter": [
           {
            "fillpattern": {
             "fillmode": "overlay",
             "size": 10,
             "solidity": 0.2
            },
            "type": "scatter"
           }
          ],
          "scatter3d": [
           {
            "line": {
             "colorbar": {
              "outlinewidth": 0,
              "ticks": ""
             }
            },
            "marker": {
             "colorbar": {
              "outlinewidth": 0,
              "ticks": ""
             }
            },
            "type": "scatter3d"
           }
          ],
          "scattercarpet": [
           {
            "marker": {
             "colorbar": {
              "outlinewidth": 0,
              "ticks": ""
             }
            },
            "type": "scattercarpet"
           }
          ],
          "scattergeo": [
           {
            "marker": {
             "colorbar": {
              "outlinewidth": 0,
              "ticks": ""
             }
            },
            "type": "scattergeo"
           }
          ],
          "scattergl": [
           {
            "marker": {
             "colorbar": {
              "outlinewidth": 0,
              "ticks": ""
             }
            },
            "type": "scattergl"
           }
          ],
          "scattermap": [
           {
            "marker": {
             "colorbar": {
              "outlinewidth": 0,
              "ticks": ""
             }
            },
            "type": "scattermap"
           }
          ],
          "scattermapbox": [
           {
            "marker": {
             "colorbar": {
              "outlinewidth": 0,
              "ticks": ""
             }
            },
            "type": "scattermapbox"
           }
          ],
          "scatterpolar": [
           {
            "marker": {
             "colorbar": {
              "outlinewidth": 0,
              "ticks": ""
             }
            },
            "type": "scatterpolar"
           }
          ],
          "scatterpolargl": [
           {
            "marker": {
             "colorbar": {
              "outlinewidth": 0,
              "ticks": ""
             }
            },
            "type": "scatterpolargl"
           }
          ],
          "scatterternary": [
           {
            "marker": {
             "colorbar": {
              "outlinewidth": 0,
              "ticks": ""
             }
            },
            "type": "scatterternary"
           }
          ],
          "surface": [
           {
            "colorbar": {
             "outlinewidth": 0,
             "ticks": ""
            },
            "colorscale": [
             [
              0,
              "#0d0887"
             ],
             [
              0.1111111111111111,
              "#46039f"
             ],
             [
              0.2222222222222222,
              "#7201a8"
             ],
             [
              0.3333333333333333,
              "#9c179e"
             ],
             [
              0.4444444444444444,
              "#bd3786"
             ],
             [
              0.5555555555555556,
              "#d8576b"
             ],
             [
              0.6666666666666666,
              "#ed7953"
             ],
             [
              0.7777777777777778,
              "#fb9f3a"
             ],
             [
              0.8888888888888888,
              "#fdca26"
             ],
             [
              1,
              "#f0f921"
             ]
            ],
            "type": "surface"
           }
          ],
          "table": [
           {
            "cells": {
             "fill": {
              "color": "#EBF0F8"
             },
             "line": {
              "color": "white"
             }
            },
            "header": {
             "fill": {
              "color": "#C8D4E3"
             },
             "line": {
              "color": "white"
             }
            },
            "type": "table"
           }
          ]
         },
         "layout": {
          "annotationdefaults": {
           "arrowcolor": "#2a3f5f",
           "arrowhead": 0,
           "arrowwidth": 1
          },
          "autotypenumbers": "strict",
          "coloraxis": {
           "colorbar": {
            "outlinewidth": 0,
            "ticks": ""
           }
          },
          "colorscale": {
           "diverging": [
            [
             0,
             "#8e0152"
            ],
            [
             0.1,
             "#c51b7d"
            ],
            [
             0.2,
             "#de77ae"
            ],
            [
             0.3,
             "#f1b6da"
            ],
            [
             0.4,
             "#fde0ef"
            ],
            [
             0.5,
             "#f7f7f7"
            ],
            [
             0.6,
             "#e6f5d0"
            ],
            [
             0.7,
             "#b8e186"
            ],
            [
             0.8,
             "#7fbc41"
            ],
            [
             0.9,
             "#4d9221"
            ],
            [
             1,
             "#276419"
            ]
           ],
           "sequential": [
            [
             0,
             "#0d0887"
            ],
            [
             0.1111111111111111,
             "#46039f"
            ],
            [
             0.2222222222222222,
             "#7201a8"
            ],
            [
             0.3333333333333333,
             "#9c179e"
            ],
            [
             0.4444444444444444,
             "#bd3786"
            ],
            [
             0.5555555555555556,
             "#d8576b"
            ],
            [
             0.6666666666666666,
             "#ed7953"
            ],
            [
             0.7777777777777778,
             "#fb9f3a"
            ],
            [
             0.8888888888888888,
             "#fdca26"
            ],
            [
             1,
             "#f0f921"
            ]
           ],
           "sequentialminus": [
            [
             0,
             "#0d0887"
            ],
            [
             0.1111111111111111,
             "#46039f"
            ],
            [
             0.2222222222222222,
             "#7201a8"
            ],
            [
             0.3333333333333333,
             "#9c179e"
            ],
            [
             0.4444444444444444,
             "#bd3786"
            ],
            [
             0.5555555555555556,
             "#d8576b"
            ],
            [
             0.6666666666666666,
             "#ed7953"
            ],
            [
             0.7777777777777778,
             "#fb9f3a"
            ],
            [
             0.8888888888888888,
             "#fdca26"
            ],
            [
             1,
             "#f0f921"
            ]
           ]
          },
          "colorway": [
           "#636efa",
           "#EF553B",
           "#00cc96",
           "#ab63fa",
           "#FFA15A",
           "#19d3f3",
           "#FF6692",
           "#B6E880",
           "#FF97FF",
           "#FECB52"
          ],
          "font": {
           "color": "#2a3f5f"
          },
          "geo": {
           "bgcolor": "white",
           "lakecolor": "white",
           "landcolor": "#E5ECF6",
           "showlakes": true,
           "showland": true,
           "subunitcolor": "white"
          },
          "hoverlabel": {
           "align": "left"
          },
          "hovermode": "closest",
          "mapbox": {
           "style": "light"
          },
          "paper_bgcolor": "white",
          "plot_bgcolor": "#E5ECF6",
          "polar": {
           "angularaxis": {
            "gridcolor": "white",
            "linecolor": "white",
            "ticks": ""
           },
           "bgcolor": "#E5ECF6",
           "radialaxis": {
            "gridcolor": "white",
            "linecolor": "white",
            "ticks": ""
           }
          },
          "scene": {
           "xaxis": {
            "backgroundcolor": "#E5ECF6",
            "gridcolor": "white",
            "gridwidth": 2,
            "linecolor": "white",
            "showbackground": true,
            "ticks": "",
            "zerolinecolor": "white"
           },
           "yaxis": {
            "backgroundcolor": "#E5ECF6",
            "gridcolor": "white",
            "gridwidth": 2,
            "linecolor": "white",
            "showbackground": true,
            "ticks": "",
            "zerolinecolor": "white"
           },
           "zaxis": {
            "backgroundcolor": "#E5ECF6",
            "gridcolor": "white",
            "gridwidth": 2,
            "linecolor": "white",
            "showbackground": true,
            "ticks": "",
            "zerolinecolor": "white"
           }
          },
          "shapedefaults": {
           "line": {
            "color": "#2a3f5f"
           }
          },
          "ternary": {
           "aaxis": {
            "gridcolor": "white",
            "linecolor": "white",
            "ticks": ""
           },
           "baxis": {
            "gridcolor": "white",
            "linecolor": "white",
            "ticks": ""
           },
           "bgcolor": "#E5ECF6",
           "caxis": {
            "gridcolor": "white",
            "linecolor": "white",
            "ticks": ""
           }
          },
          "title": {
           "x": 0.05
          },
          "xaxis": {
           "automargin": true,
           "gridcolor": "white",
           "linecolor": "white",
           "ticks": "",
           "title": {
            "standoff": 15
           },
           "zerolinecolor": "white",
           "zerolinewidth": 2
          },
          "yaxis": {
           "automargin": true,
           "gridcolor": "white",
           "linecolor": "white",
           "ticks": "",
           "title": {
            "standoff": 15
           },
           "zerolinecolor": "white",
           "zerolinewidth": 2
          }
         }
        },
        "title": {
         "font": {
          "family": "Computer Modern, serif",
          "size": 16
         },
         "text": "",
         "x": 0.5
        },
        "width": 800,
        "xaxis": {
         "linecolor": "black",
         "linewidth": 1,
         "mirror": true,
         "showgrid": false,
         "showline": true,
         "tickfont": {
          "family": "Computer Modern, serif",
          "size": 14
         },
         "title": {
          "font": {
           "family": "Computer Modern, serif",
           "size": 14
          },
          "text": "Model + Info (Wordle)"
         }
        },
        "yaxis": {
         "gridcolor": "lightgray",
         "gridwidth": 0.5,
         "linecolor": "black",
         "linewidth": 1,
         "mirror": true,
         "range": [
          0,
          0.05619793813125617
         ],
         "showgrid": true,
         "showline": true,
         "tickfont": {
          "family": "Computer Modern, serif",
          "size": 14
         },
         "title": {
          "font": {
           "family": "Computer Modern, serif",
           "size": 14
          },
          "text": "Greediness (Correct)"
         }
        }
       }
      }
     },
     "metadata": {},
     "output_type": "display_data"
    }
   ],
   "source": [
    "fig_gr_wd.show()"
   ]
  },
  {
   "cell_type": "code",
   "execution_count": 114,
   "id": "fb5f3138",
   "metadata": {},
   "outputs": [
    {
     "data": {
      "text/plain": [
       "['deepseek/deepseek-chat (history)',\n",
       " 'deepseek/deepseek-chat (both)',\n",
       " 'google/gemini-2.5-pro (history)',\n",
       " 'deepseek/deepseek-chat (belief)',\n",
       " 'deepseek/deepseek-r1 (history)',\n",
       " 'google/gemini-2.5-pro (belief)',\n",
       " 'google/gemini-2.5-pro (both)',\n",
       " 'deepseek/deepseek-r1 (both)',\n",
       " 'deepseek/deepseek-r1 (belief)']"
      ]
     },
     "execution_count": 114,
     "metadata": {},
     "output_type": "execute_result"
    }
   ],
   "source": [
    "list(df.model_info.unique())"
   ]
  },
  {
   "cell_type": "markdown",
   "id": "1547afe2",
   "metadata": {},
   "source": [
    "## 5. Sizes of Reasoning Traces"
   ]
  },
  {
   "cell_type": "code",
   "execution_count": 21,
   "id": "9402310a",
   "metadata": {},
   "outputs": [],
   "source": [
    "def plot_belief_length(df, reasoning_types = ['Belief Reasoning', 'Action Reasoning']):\n",
    "    envs = envs_ordered\n",
    "    from math import sqrt\n",
    "    import plotly\n",
    "    from plotly import subplots\n",
    "    go = plotly.graph_objects\n",
    "    make_subplots = plotly.subplots.make_subplots\n",
    "\n",
    "    # Compute lengths for both reasoning fields\n",
    "    belief_reasoning_length = df['belief_reasoning'].astype(str).str.len()\n",
    "    action_reasoning_length = df['action_reasoning'].astype(str).str.len()\n",
    "\n",
    "    # Prepare dataframes for aggregation\n",
    "    df_belief = df.assign(_reasoning_len=belief_reasoning_length, _reasoning_type='Belief Reasoning')\n",
    "    df_action = df.assign(_reasoning_len=action_reasoning_length, _reasoning_type='Action Reasoning')\n",
    "    df_total = df.assign(_reasoning_len=belief_reasoning_length + action_reasoning_length, _reasoning_type='Total Reasoning')\n",
    "    df2 = pd.concat([df_belief, df_action, df_total], ignore_index=True)\n",
    "\n",
    "    agg = (\n",
    "        df2.groupby(['env', 'model', 'attempt', '_reasoning_type'])\n",
    "        ._reasoning_len.agg(['mean', 'std', 'count'])\n",
    "        .reset_index()\n",
    "    )\n",
    "    agg['sem'] = agg['std'] / agg['count'].apply(lambda n: sqrt(n) if n > 0 else 1)\n",
    "\n",
    "    colors = [\n",
    "        \"#8B0000\",  # dark red\n",
    "        \"#FF6347\",  # medium red\n",
    "        \"#FFB6C1\",  # light red\n",
    "        \"#90EE90\",  # light green\n",
    "        \"#006400\",  # dark green\n",
    "        \"#32CD32\",  # medium green\n",
    "        \"#ADD8E6\",  # light blue\n",
    "        \"#4682B4\",  # medium blue\n",
    "        \"#003366\",  # dark blue\n",
    "    ]\n",
    "\n",
    "    # Two rows: 1 for belief_reasoning, 2 for action_reasoning, but reduce vertical space and share axes\n",
    "    fig = make_subplots(\n",
    "        rows=2,\n",
    "        cols=len(envs),\n",
    "        shared_yaxes=False,\n",
    "        shared_xaxes=False,\n",
    "        subplot_titles=[f\"{env}\" for env in envs],\n",
    "        row_titles=[\"\", \"\"],\n",
    "        vertical_spacing=0.1 \n",
    "    )\n",
    "\n",
    "    # model_color_map = {}\n",
    "\n",
    "    model_color_map = {\n",
    "        'Deepseek V3 (ABBEL)': '#4682B4',\n",
    "        'Deepseek R1 (ABBEL)': '#8B0000',\n",
    "        'Gemini 2.5 Pro (ABBEL)': '#006400',\n",
    "        'Deepseek V3': '#4682B4',\n",
    "        'Deepseek R1': '#FFB6C1',\n",
    "        'Gemini 2.5 Pro': '#90EE90',\n",
    "        'Deepseek V3 (belief prompting)': '#4682B4',\n",
    "        'Deepseek R1 (belief prompting)': '#FF6347',\n",
    "        'Gemini 2.5 Pro (belief prompting)': '#32CD32',\n",
    "    }\n",
    "\n",
    "    models_seen = set()\n",
    "    color_idx = 0\n",
    "\n",
    "    for col_idx, env in enumerate(envs, start=1):\n",
    "        for row_idx, reasoning_type in enumerate(reasoning_types, start=1):\n",
    "            sub = agg[(agg['env'] == env) & (agg['_reasoning_type'] == reasoning_type)]\n",
    "            for model in sub['model'].unique():\n",
    "                mdf = sub[sub['model'] == model].sort_values('attempt')\n",
    "                if model not in model_color_map:\n",
    "                    model_color_map[model] = colors[color_idx % len(colors)]\n",
    "                    color_idx += 1\n",
    "\n",
    "                # if ('V3' not in model) and not ('Belief' in reasoning_type and '(' not in model):\n",
    "                if not ('Belief' in reasoning_type and '(' not in model):\n",
    "                    show_legend = model not in models_seen\n",
    "                    models_seen.add(model)\n",
    "                    # Add shaded region for error bounds\n",
    "                    fig.add_trace(\n",
    "                        go.Scatter(\n",
    "                            x=list(mdf['attempt']) + list(mdf['attempt'][::-1]),\n",
    "                            y=list(mdf['mean'] + mdf['sem']) + list((mdf['mean'] - mdf['sem'])[::-1]),\n",
    "                            fill='toself',\n",
    "                            fillcolor=f\"rgba{tuple(list(plotly.colors.hex_to_rgb(model_color_map[model])) + [0.2])}\",\n",
    "                            line=dict(color='rgba(255,255,255,0)'),\n",
    "                            showlegend=False,\n",
    "                            hoverinfo='skip',\n",
    "                            legendgroup=str(model)\n",
    "                        ),\n",
    "                        row=row_idx, col=col_idx\n",
    "                    )\n",
    "                    \n",
    "                    # Add main line\n",
    "                    fig.add_trace(\n",
    "                        go.Scatter(\n",
    "                            x=mdf['attempt'],\n",
    "                            y=mdf['mean'],\n",
    "                            mode='lines+markers',\n",
    "                            name=str(model),\n",
    "                            legendgroup=str(model),\n",
    "                            showlegend=show_legend,\n",
    "                            line=dict(color=model_color_map[model], width=2)\n",
    "                        ),\n",
    "                        row=row_idx, col=col_idx\n",
    "                    )\n",
    "\n",
    "            fig.update_xaxes(\n",
    "                title_text='Step' if row_idx == 2 else '',\n",
    "                color='black',\n",
    "                showline=True,\n",
    "                linecolor='black',\n",
    "                linewidth=1,\n",
    "                showgrid=False,\n",
    "                row=row_idx, col=col_idx\n",
    "            )\n",
    "\n",
    "            fig.update_yaxes(\n",
    "                title_text=f'{reasoning_type} (chars)' if col_idx == 1 else None,\n",
    "                showline=True,\n",
    "                linecolor='black',\n",
    "                linewidth=1,\n",
    "                tickfont=dict(color='black'),\n",
    "                showgrid=True,\n",
    "                gridcolor='lightgray',\n",
    "                row=row_idx, col=col_idx\n",
    "            )\n",
    "\n",
    "        # Layout with horizontal legend\n",
    "    fig.update_layout(\n",
    "        height=700,\n",
    "        # width=fig_width,\n",
    "        template='simple_white',\n",
    "        font=dict(family='Computer Modern, serif', size=16),\n",
    "        barmode='group',\n",
    "        showlegend=True,\n",
    "        legend=dict(\n",
    "            # title={'text': ' Model (info)'},\n",
    "            orientation='v',\n",
    "            yanchor='middle',\n",
    "            y=0.5,\n",
    "            xanchor='left',\n",
    "            x=1.02,\n",
    "            bgcolor='rgba(255,255,255,0.9)',\n",
    "            bordercolor='black',\n",
    "            borderwidth=1\n",
    "        ),\n",
    "        margin=dict(t=100, b=50, l=80, r=80),\n",
    "        plot_bgcolor='white'\n",
    "    )\n",
    "\n",
    "    return fig\n"
   ]
  },
  {
   "cell_type": "code",
   "execution_count": 22,
   "id": "6d33171d",
   "metadata": {},
   "outputs": [],
   "source": [
    "# df_reasoning = df[(~df['model'].str.contains('deepseek/deepseek-chat')) & (df['info'] == 'belief')]\n",
    "# df_reasoning = df[\n",
    "#     (~df['model'].str.contains('deepseek/deepseek-chat')) &\n",
    "#     (df['info'].isin(['belief', 'history']))\n",
    "# ]\n",
    "df_reasoning = df[~df['model'].str.contains('V3')]"
   ]
  },
  {
   "cell_type": "code",
   "execution_count": 23,
   "id": "5b0f52ac",
   "metadata": {},
   "outputs": [
    {
     "data": {
      "text/plain": [
       "(16461, 25417)"
      ]
     },
     "execution_count": 23,
     "metadata": {},
     "output_type": "execute_result"
    }
   ],
   "source": [
    "len(df_reasoning), len(df)"
   ]
  },
  {
   "cell_type": "code",
   "execution_count": 24,
   "id": "2523b070",
   "metadata": {},
   "outputs": [],
   "source": [
    "fig = plot_belief_length(df_reasoning, reasoning_types = ['Belief Reasoning', 'Action Reasoning'])"
   ]
  },
  {
   "cell_type": "code",
   "execution_count": 25,
   "id": "295ea216",
   "metadata": {},
   "outputs": [
    {
     "data": {
      "application/vnd.plotly.v1+json": {
       "config": {
        "plotlyServerURL": "https://plot.ly"
       },
       "data": [
        {
         "fill": "toself",
         "fillcolor": "rgba(139, 0, 0, 0.2)",
         "hoverinfo": "skip",
         "legendgroup": "Deepseek R1 (ABBEL)",
         "line": {
          "color": "rgba(255,255,255,0)"
         },
         "showlegend": false,
         "type": "scatter",
         "x": [
          1,
          2,
          3,
          4,
          5,
          6,
          7,
          8,
          9,
          10,
          11,
          12,
          13,
          14,
          15,
          16,
          17,
          18,
          19,
          20,
          20,
          19,
          18,
          17,
          16,
          15,
          14,
          13,
          12,
          11,
          10,
          9,
          8,
          7,
          6,
          5,
          4,
          3,
          2,
          1
         ],
         "xaxis": "x",
         "y": [
          2141.3245750427304,
          2566.4471732143165,
          2236.892797750902,
          2936.378486510282,
          2625.7373910518845,
          2612.9354140838686,
          2559.056773047616,
          3002.6149060100765,
          2550.3828868184287,
          2586.606472387103,
          2390.9741687819724,
          2975.5538611332795,
          2586.895475988495,
          2347.9700763678848,
          2641.2597027495726,
          2224.3670129577185,
          2360.9218275127487,
          2500.388046905695,
          2396.1630755734886,
          2461.3361557250455,
          2176.386066497177,
          2107.2579770580905,
          2200.74015822251,
          2135.5909930000716,
          2000.5047819140764,
          2346.9902972504274,
          2132.2799236321152,
          2308.7545240115046,
          2467.296138866721,
          2124.625831218028,
          2258.143527612897,
          2254.1671131815715,
          2623.8850939899235,
          2266.7432269523842,
          2363.0645859161314,
          2272.0126089481155,
          2507.2715134897176,
          2010.4572022490984,
          2293.3528267856836,
          1907.0254249572697
         ],
         "yaxis": "y"
        },
        {
         "legendgroup": "Deepseek R1 (ABBEL)",
         "line": {
          "color": "#8B0000",
          "width": 2
         },
         "mode": "lines+markers",
         "name": "Deepseek R1 (ABBEL)",
         "showlegend": true,
         "type": "scatter",
         "x": {
          "bdata": "AQIDBAUGBwgJCgsMDQ4PEBESExQ=",
          "dtype": "i1"
         },
         "xaxis": "x",
         "y": {
          "bdata": "MzMzM7Ogn0DNzMzMzPuiQJqZmZlZl6BAZmZmZqZDpUAAAAAAwCGjQAAAAAAAcKNAzczMzMzZokAAAAAAgPqlQM3MzMyMxKJAAAAAAMDsokCamZmZmaOhQJqZmZnZQqVAZmZmZqYfo0AAAAAAQIChQAAAAABAfKNALt/yLd+AoEBIgzRIg5ChQNIgDdIgXaJAh/IaymuXoUDkOI7juB2iQA==",
          "dtype": "f8"
         },
         "yaxis": "y"
        },
        {
         "fill": "toself",
         "fillcolor": "rgba(255, 99, 71, 0.2)",
         "hoverinfo": "skip",
         "legendgroup": "Deepseek R1 (belief prompting)",
         "line": {
          "color": "rgba(255,255,255,0)"
         },
         "showlegend": false,
         "type": "scatter",
         "x": [
          1,
          2,
          3,
          4,
          5,
          6,
          7,
          8,
          9,
          10,
          11,
          12,
          13,
          14,
          15,
          16,
          17,
          18,
          19,
          20,
          20,
          19,
          18,
          17,
          16,
          15,
          14,
          13,
          12,
          11,
          10,
          9,
          8,
          7,
          6,
          5,
          4,
          3,
          2,
          1
         ],
         "xaxis": "x",
         "y": [
          2337.246546307261,
          2456.2965422741804,
          2663.438846837956,
          2669.089550783696,
          2740.481183665663,
          2656.011943999894,
          2393.9590103096302,
          2894.2233555158846,
          2431.178430918055,
          2545.6505072172085,
          2743.6003311973523,
          2406.8599856180444,
          2312.5244025970746,
          2418.425974306422,
          2623.3455484046526,
          3084.291630371395,
          2708.3060531277224,
          2576.750770292902,
          2335.2410253092503,
          1991.1578142553956,
          1770.7621857446045,
          1983.0348367597153,
          2092.539552287743,
          2274.2394014177326,
          2218.3940839143193,
          2255.9322293731248,
          2148.4629145824665,
          2089.421543348871,
          2132.524629766571,
          2193.1496688026477,
          2202.3994927827916,
          2104.521569081945,
          2387.626644484116,
          2112.6909896903694,
          2339.8880560001057,
          2398.768816334337,
          2417.860449216304,
          2320.561153162044,
          2183.7034577258196,
          1927.8034536927394
         ],
         "yaxis": "y"
        },
        {
         "legendgroup": "Deepseek R1 (belief prompting)",
         "line": {
          "color": "#FF6347",
          "width": 2
         },
         "mode": "lines+markers",
         "name": "Deepseek R1 (belief prompting)",
         "showlegend": true,
         "type": "scatter",
         "x": {
          "bdata": "AQIDBAUGBwgJCgsMDQ4PEBESExQ=",
          "dtype": "i1"
         },
         "xaxis": "x",
         "y": {
          "bdata": "zczMzAypoEAAAAAAACCiQAAAAAAAeKNAMzMzM/Peo0AAAAAAQBOkQGZmZmbmg6NAZmZmZqaaoUCamZmZ2aGkQDMzMzOzt6FAzczMzAyMokAAAAAAwEijQHZiJ3Ziu6FAn3WDKfIxoUCO4ziO49ahQBzHcRxHD6NAi6/4iq+2pEAvuuiii3ajQCmllFJKPaJAaoTlnkbeoECkcD0K12OdQA==",
          "dtype": "f8"
         },
         "yaxis": "y"
        },
        {
         "fill": "toself",
         "fillcolor": "rgba(0, 100, 0, 0.2)",
         "hoverinfo": "skip",
         "legendgroup": "Gemini 2.5 Pro (ABBEL)",
         "line": {
          "color": "rgba(255,255,255,0)"
         },
         "showlegend": false,
         "type": "scatter",
         "x": [
          1,
          2,
          3,
          4,
          5,
          6,
          7,
          8,
          9,
          10,
          11,
          12,
          13,
          14,
          15,
          16,
          17,
          18,
          19,
          20,
          20,
          19,
          18,
          17,
          16,
          15,
          14,
          13,
          12,
          11,
          10,
          9,
          8,
          7,
          6,
          5,
          4,
          3,
          2,
          1
         ],
         "xaxis": "x",
         "y": [
          1769.617474997363,
          1763.2460777639787,
          1876.4147996091117,
          1938.280330035071,
          1941.0041746570976,
          1991.1248095727128,
          1996.7689042820032,
          1921.8497501268898,
          1957.3517048169101,
          1909.6738799043408,
          1956.4038861323022,
          1813.683013018625,
          1788.625879499507,
          2016.3192672552916,
          1827.6036182188832,
          1860.3912641399813,
          2157.6805215806394,
          2131.01995769871,
          1569.6942312973947,
          2044.9161503003497,
          1870.0838496996503,
          1224.4724353692718,
          1866.9800423012898,
          1925.8909069907893,
          1661.9616770364894,
          1638.8725722573072,
          1877.8712089351845,
          1622.5741205004929,
          1631.5427934329878,
          1791.8663841379682,
          1792.4840148325013,
          1831.6226541574488,
          1806.1502498731102,
          1888.631095717997,
          1888.8751904272872,
          1806.7958253429026,
          1819.0696699649288,
          1787.0352003908881,
          1661.1039222360212,
          1651.482525002637
         ],
         "yaxis": "y"
        },
        {
         "legendgroup": "Gemini 2.5 Pro (ABBEL)",
         "line": {
          "color": "#006400",
          "width": 2
         },
         "mode": "lines+markers",
         "name": "Gemini 2.5 Pro (ABBEL)",
         "showlegend": true,
         "type": "scatter",
         "x": {
          "bdata": "AQIDBAUGBwgJCgsMDQ4PEBESExQ=",
          "dtype": "i1"
         },
         "xaxis": "x",
         "y": {
          "bdata": "MzMzMzO6mkAzMzMzs8CaQGZmZmbmnpxAMzMzM7NanUCamZmZmUedQAAAAAAAUJ5AzczMzMxankAAAAAAACCdQN/yLd/ymZ1A5TWU11DsnEDJZ91gikidQM4555xz6ppAZmZmZmammkCGYRiGYWyeQM/zPM/zFJtAtbS0tLSEm0CSJEmSJOefQAAAAAAAPJ9AVVVVVVXUlUAAAAAAAJaeQA==",
          "dtype": "f8"
         },
         "yaxis": "y"
        },
        {
         "fill": "toself",
         "fillcolor": "rgba(50, 205, 50, 0.2)",
         "hoverinfo": "skip",
         "legendgroup": "Gemini 2.5 Pro (belief prompting)",
         "line": {
          "color": "rgba(255,255,255,0)"
         },
         "showlegend": false,
         "type": "scatter",
         "x": [
          1,
          2,
          3,
          4,
          5,
          6,
          7,
          8,
          9,
          10,
          11,
          12,
          13,
          14,
          15,
          16,
          17,
          18,
          19,
          20,
          20,
          19,
          18,
          17,
          16,
          15,
          14,
          13,
          12,
          11,
          10,
          9,
          8,
          7,
          6,
          5,
          4,
          3,
          2,
          1
         ],
         "xaxis": "x",
         "y": [
          1850.2236737057642,
          1894.6814855777955,
          1997.3175248828124,
          2016.7973014156712,
          1989.1174908953553,
          2023.6946672382783,
          1984.1806349658784,
          1907.8905434019234,
          1924.7896356955537,
          2008.675930049944,
          1863.2204987992861,
          1875.394588920308,
          1886.519542001883,
          1930.306352200785,
          1924.9296649290916,
          1767.812656574022,
          1997.8588420515835,
          1889.0850395476043,
          2052.618174217341,
          1767.6258414159506,
          1538.5963808062716,
          1690.1818257826587,
          1682.7611142985495,
          1750.6411579484165,
          1622.5873434259781,
          1745.4512874518607,
          1721.133647799215,
          1723.342526963634,
          1737.817532291813,
          1723.179501200714,
          1867.64839427438,
          1813.420890620236,
          1775.2376617262817,
          1860.332185546942,
          1885.0553327617217,
          1886.4825091046446,
          1889.002698584329,
          1877.9824751171877,
          1797.5685144222045,
          1750.576326294236
         ],
         "yaxis": "y"
        },
        {
         "legendgroup": "Gemini 2.5 Pro (belief prompting)",
         "line": {
          "color": "#32CD32",
          "width": 2
         },
         "mode": "lines+markers",
         "name": "Gemini 2.5 Pro (belief prompting)",
         "showlegend": true,
         "type": "scatter",
         "x": {
          "bdata": "AQIDBAUGBwgJCgsMDQ4PEBESExQ=",
          "dtype": "i1"
         },
         "xaxis": "x",
         "y": {
          "bdata": "mpmZmZkhnEAAAAAAgNicQJqZmZmZRp5AmpmZmZmDnkAzMzMzM0eeQAAAAACAiZ5AkAZpkAYJnkCkQRqkQcacQIfyGsprNJ1AinzWDaZInkDNzMzMzAScQLLJJptsOpxAlnsaYbkznEB7FK5H4YacQAzDMAzDrJxAzczMzMx8mkAAAAAAAEmdQDuxEzux55tAmpmZmZk9nUDHcRzHcdSZQA==",
          "dtype": "f8"
         },
         "yaxis": "y"
        },
        {
         "fill": "toself",
         "fillcolor": "rgba(255, 182, 193, 0.2)",
         "hoverinfo": "skip",
         "legendgroup": "Deepseek R1",
         "line": {
          "color": "rgba(255,255,255,0)"
         },
         "showlegend": false,
         "type": "scatter",
         "x": [
          1,
          2,
          3,
          4,
          5,
          6,
          7,
          8,
          9,
          10,
          11,
          12,
          13,
          14,
          15,
          16,
          17,
          18,
          19,
          20,
          20,
          19,
          18,
          17,
          16,
          15,
          14,
          13,
          12,
          11,
          10,
          9,
          8,
          7,
          6,
          5,
          4,
          3,
          2,
          1
         ],
         "xaxis": "x7",
         "y": [
          3532.7811169306597,
          2508.530235088487,
          3008.8920812827114,
          2519.504718802959,
          3547.2950104043657,
          4440.106846094121,
          4043.298067466064,
          5161.576860634192,
          4602.511361417276,
          5621.126555654113,
          4795.289000368952,
          5046.371057216089,
          5291.107017805398,
          4037.1589452848407,
          5061.145031643751,
          6138.438139397441,
          7884.047784683746,
          4590.107903181095,
          4407.861167221865,
          3595.1776507447703,
          2209.3223492552297,
          3101.4721661114677,
          3278.0032079300163,
          5572.583794263623,
          3874.6144921815057,
          3682.0723596605967,
          3226.6981975723024,
          4072.892982194602,
          3779.0664427839115,
          3907.6806966007443,
          4387.9322678753,
          3707.0997496938353,
          4033.3705077868613,
          3341.3519325339357,
          3569.49315390588,
          2875.0549895956347,
          2143.3452811970415,
          2446.907918717289,
          2056.719764911513,
          2931.7188830693403
         ],
         "yaxis": "y7"
        },
        {
         "legendgroup": "Deepseek R1",
         "line": {
          "color": "#FFB6C1",
          "width": 2
         },
         "mode": "lines+markers",
         "name": "Deepseek R1",
         "showlegend": true,
         "type": "scatter",
         "x": {
          "bdata": "AQIDBAUGBwgJCgsMDQ4PEBESExQ=",
          "dtype": "i1"
         },
         "xaxis": "x7",
         "y": {
          "bdata": "AAAAAIBAqUAAAAAAQNWhQM3MzMzMT6VAmpmZmdk2okCamZmZWRapQJqZmZmZSa9AZmZmZqbYrEDYUF5DefWxQDmO4zjOOrBAiIeHh4eMs0DwwQcffP+wQAAAAAC4PLFAAAAAAABKskBu27Zt21+sQE5vetObE7FAKK+hvIaOs0DlNZTXUEi6QHIcx3EcvK5AVVVVVVVVrUAAAAAAgKymQA==",
          "dtype": "f8"
         },
         "yaxis": "y7"
        },
        {
         "fill": "toself",
         "fillcolor": "rgba(139, 0, 0, 0.2)",
         "hoverinfo": "skip",
         "legendgroup": "Deepseek R1 (ABBEL)",
         "line": {
          "color": "rgba(255,255,255,0)"
         },
         "showlegend": false,
         "type": "scatter",
         "x": [
          1,
          2,
          3,
          4,
          5,
          6,
          7,
          8,
          9,
          10,
          11,
          12,
          13,
          14,
          15,
          16,
          17,
          18,
          19,
          20,
          20,
          19,
          18,
          17,
          16,
          15,
          14,
          13,
          12,
          11,
          10,
          9,
          8,
          7,
          6,
          5,
          4,
          3,
          2,
          1
         ],
         "xaxis": "x7",
         "y": [
          2352.200739298678,
          3401.7836514604205,
          3071.866452910348,
          2727.2952406568143,
          2903.031978732345,
          3152.717406070713,
          2891.0993752294435,
          2667.4912366782273,
          2669.9379311554335,
          3052.806527831444,
          2698.6009674959805,
          2707.724282600542,
          2437.0248001580717,
          3037.191099188878,
          2925.8868083849907,
          3083.4798058736305,
          2867.8834147062776,
          2635.383443771232,
          2847.1184699777114,
          3463.059496789311,
          2587.8293920995775,
          2281.407845811762,
          2211.590915203127,
          2440.3217134988504,
          2464.7253223314974,
          2470.1131916150093,
          2287.858900811122,
          2052.0251998419285,
          2313.025717399458,
          2149.99903250402,
          2503.0434721685565,
          2284.2620688445663,
          1994.4587633217723,
          2463.250624770557,
          2427.282593929287,
          2243.8680212676545,
          2207.054759343186,
          2500.4835470896523,
          2893.4663485395795,
          1980.3992607013226
         ],
         "yaxis": "y7"
        },
        {
         "legendgroup": "Deepseek R1 (ABBEL)",
         "line": {
          "color": "#8B0000",
          "width": 2
         },
         "mode": "lines+markers",
         "name": "Deepseek R1 (ABBEL)",
         "showlegend": false,
         "type": "scatter",
         "x": {
          "bdata": "AQIDBAUGBwgJCgsMDQ4PEBESExQ=",
          "dtype": "i1"
         },
         "xaxis": "x7",
         "y": {
          "bdata": "mpmZmZnsoEAAAAAAQJeoQJqZmZlZxKVAmpmZmVlGo0BmZmZm5hqkQAAAAAAAzKVAmpmZmVnqpEAzMzMz8zWiQDMzMzMzWqNAmpmZmdmzpUCamZmZmfCiQAAAAADAnKNAzczMzAyJoUDNzMzMDM2kQAAAAAAAFKVAgzRIgzSspUCDNEiDNLykQHD5lm/57qJAKK+hvIYIpECO4ziO46KnQA==",
          "dtype": "f8"
         },
         "yaxis": "y7"
        },
        {
         "fill": "toself",
         "fillcolor": "rgba(255, 99, 71, 0.2)",
         "hoverinfo": "skip",
         "legendgroup": "Deepseek R1 (belief prompting)",
         "line": {
          "color": "rgba(255,255,255,0)"
         },
         "showlegend": false,
         "type": "scatter",
         "x": [
          1,
          2,
          3,
          4,
          5,
          6,
          7,
          8,
          9,
          10,
          11,
          12,
          13,
          14,
          15,
          16,
          17,
          18,
          19,
          20,
          20,
          19,
          18,
          17,
          16,
          15,
          14,
          13,
          12,
          11,
          10,
          9,
          8,
          7,
          6,
          5,
          4,
          3,
          2,
          1
         ],
         "xaxis": "x7",
         "y": [
          2202.119059287582,
          2136.4064692914767,
          2973.2117851898424,
          2183.598781134414,
          3087.131574181809,
          2502.293541134878,
          2041.4409621845741,
          2360.1072095234017,
          2024.868868636422,
          2805.2907548780713,
          2824.1413434557653,
          2007.5132093122331,
          2390.373095592004,
          2007.3639933745187,
          3456.82319236198,
          2312.860122147505,
          2360.4956378885786,
          1729.1241749448482,
          2271.8886157742963,
          1870.8044575931078,
          1618.795542406892,
          1809.835522156738,
          1474.2951798938616,
          1813.8679984750572,
          1786.4541635667806,
          2253.010140971353,
          1649.8026732921478,
          1851.3566341377257,
          1695.9226881236643,
          2065.8086565442345,
          2190.1592451219285,
          1721.331131363578,
          1912.792790476598,
          1691.6590378154258,
          1777.456458865122,
          2321.4184258181913,
          1755.5012188655862,
          2251.7382148101574,
          1685.3935307085235,
          1878.480940712418
         ],
         "yaxis": "y7"
        },
        {
         "legendgroup": "Deepseek R1 (belief prompting)",
         "line": {
          "color": "#FF6347",
          "width": 2
         },
         "mode": "lines+markers",
         "name": "Deepseek R1 (belief prompting)",
         "showlegend": false,
         "type": "scatter",
         "x": {
          "bdata": "AQIDBAUGBwgJCgsMDQ4PEBESExQ=",
          "dtype": "i1"
         },
         "xaxis": "x7",
         "y": {
          "bdata": "MzMzMzPhn0CamZmZmdudQDMzMzPzaKRAMzMzMzPGnkDNzMzMjCClQAAAAADAt6BAMzMzMzMqnUBmZmZm5rCgQGZmZmZmRJ1AMzMzM3ODo0AzMzMz8xmjQC7f8i3f7pxAHEyRz7qRoEBVVVVVVZKcQFVVVVXVTaZAdVAHdVADoEB00UUXXU6gQFtrrbXWBplALPc0wnLjn0AzMzMzM0ObQA==",
          "dtype": "f8"
         },
         "yaxis": "y7"
        },
        {
         "fill": "toself",
         "fillcolor": "rgba(144, 238, 144, 0.2)",
         "hoverinfo": "skip",
         "legendgroup": "Gemini 2.5 Pro",
         "line": {
          "color": "rgba(255,255,255,0)"
         },
         "showlegend": false,
         "type": "scatter",
         "x": [
          1,
          2,
          3,
          4,
          5,
          6,
          7,
          8,
          9,
          10,
          11,
          12,
          13,
          14,
          15,
          16,
          17,
          18,
          19,
          20,
          20,
          19,
          18,
          17,
          16,
          15,
          14,
          13,
          12,
          11,
          10,
          9,
          8,
          7,
          6,
          5,
          4,
          3,
          2,
          1
         ],
         "xaxis": "x7",
         "y": [
          1696.1491133518173,
          1672.9054677104953,
          1777.7258447616946,
          1759.1267547634013,
          1738.8107599316074,
          1904.8054618062952,
          1988.065579259459,
          2015.849524678421,
          1998.9074967765837,
          1924.6187034333057,
          2016.949588936814,
          1863.4834030566938,
          1855.9915056935863,
          1814.2283714500184,
          2046.0298668580067,
          1730.7552192093412,
          1857.0856396684862,
          2111.047674167758,
          1910.0682655015967,
          1959.8998639019428,
          1682.3223583202794,
          1598.3317344984034,
          1741.827325832242,
          1625.6143603315136,
          1557.1678577137359,
          1847.9701331419933,
          1624.9049618833149,
          1723.3209943064137,
          1687.2388191655284,
          1872.1030426421335,
          1799.842835028233,
          1870.0925032234163,
          1879.1004753215789,
          1879.284420740541,
          1810.344538193705,
          1632.5892400683927,
          1644.3732452365987,
          1658.8741552383053,
          1548.7445322895048,
          1595.8008866481825
         ],
         "yaxis": "y7"
        },
        {
         "legendgroup": "Gemini 2.5 Pro",
         "line": {
          "color": "#90EE90",
          "width": 2
         },
         "mode": "lines+markers",
         "name": "Gemini 2.5 Pro",
         "showlegend": true,
         "type": "scatter",
         "x": {
          "bdata": "AQIDBAUGBwgJCgsMDQ4PEBESExQ=",
          "dtype": "i1"
         },
         "xaxis": "x7",
         "y": {
          "bdata": "ZmZmZua3mUDNzMzMTCuZQDMzMzMz2ZpAAAAAAACXmkDNzMzMzFaaQM3MzMxMBp1AMzMzM7M2nkBmZmZm5m2eQAAAAAAAOp5AT+zETuwYnUCivIbyGmKeQMdxHMdxvZtAAAAAAKD2m0BERERERN6aQAAAAAAAbJ5AntiJndivmUBmZmZmZjWbQAAAAADAGZ5AzczMzMxom0DHcRzHcXScQA==",
          "dtype": "f8"
         },
         "yaxis": "y7"
        },
        {
         "fill": "toself",
         "fillcolor": "rgba(0, 100, 0, 0.2)",
         "hoverinfo": "skip",
         "legendgroup": "Gemini 2.5 Pro (ABBEL)",
         "line": {
          "color": "rgba(255,255,255,0)"
         },
         "showlegend": false,
         "type": "scatter",
         "x": [
          1,
          2,
          3,
          4,
          5,
          6,
          7,
          8,
          9,
          10,
          11,
          12,
          13,
          14,
          15,
          16,
          17,
          18,
          19,
          20,
          20,
          19,
          18,
          17,
          16,
          15,
          14,
          13,
          12,
          11,
          10,
          9,
          8,
          7,
          6,
          5,
          4,
          3,
          2,
          1
         ],
         "xaxis": "x7",
         "y": [
          1592.8664909287875,
          1532.7875878244854,
          1578.9443469907906,
          1672.6444962354033,
          1674.1268678997046,
          1662.15222359126,
          1557.9843243206185,
          1627.0676682128997,
          1570.1142427996188,
          1499.219326091152,
          1506.2519039932658,
          1544.8524895707096,
          1535.1344428612915,
          1500.0516347664654,
          1471.0292455806357,
          1657.2490334415097,
          1782.5127722929412,
          1535.1392516540113,
          2109.1251106424834,
          1667.3618453397505,
          1466.6381546602495,
          1599.8748893575164,
          1352.7069021921425,
          1570.2015134213445,
          1493.6921430290786,
          1325.923135371745,
          1326.8055080906772,
          1403.3455571387085,
          1391.9217039776777,
          1419.2075554661938,
          1395.780673908848,
          1461.629346943971,
          1526.2823317871002,
          1448.8156756793817,
          1540.8977764087401,
          1550.6231321002954,
          1545.7555037645968,
          1463.9556530092095,
          1425.8124121755145,
          1480.0335090712126
         ],
         "yaxis": "y7"
        },
        {
         "legendgroup": "Gemini 2.5 Pro (ABBEL)",
         "line": {
          "color": "#006400",
          "width": 2
         },
         "mode": "lines+markers",
         "name": "Gemini 2.5 Pro (ABBEL)",
         "showlegend": false,
         "type": "scatter",
         "x": {
          "bdata": "AQIDBAUGBwgJCgsMDQ4PEBESExQ=",
          "dtype": "i1"
         },
         "xaxis": "x7",
         "y": {
          "bdata": "zczMzMwBmEAzMzMzMx2XQM3MzMzMxZdAzczMzMwkmUAAAAAAgDGZQJqZmZkZBplAmpmZmZl9l0AzMzMzs6KYQLh8y7d8r5dAAAAAAACelkBvMEU+69qWQDLGGGOM8ZZAKVyPwvX0lkDbtm3bthWWQJ7neZ7n2ZVA4uHh4eGdmEC3bdu2bTGaQDuxEzuxj5ZAAAAAAAD6nEAAAAAAAHyYQA==",
          "dtype": "f8"
         },
         "yaxis": "y7"
        },
        {
         "fill": "toself",
         "fillcolor": "rgba(50, 205, 50, 0.2)",
         "hoverinfo": "skip",
         "legendgroup": "Gemini 2.5 Pro (belief prompting)",
         "line": {
          "color": "rgba(255,255,255,0)"
         },
         "showlegend": false,
         "type": "scatter",
         "x": [
          1,
          2,
          3,
          4,
          5,
          6,
          7,
          8,
          9,
          10,
          11,
          12,
          13,
          14,
          15,
          16,
          17,
          18,
          19,
          20,
          20,
          19,
          18,
          17,
          16,
          15,
          14,
          13,
          12,
          11,
          10,
          9,
          8,
          7,
          6,
          5,
          4,
          3,
          2,
          1
         ],
         "xaxis": "x7",
         "y": [
          1604.9762178151625,
          1500.2837932065704,
          1650.9746534474411,
          1663.5016656000566,
          1689.0399643469266,
          1658.1591680205736,
          1714.522835361838,
          1762.7777507950339,
          1673.6268946166072,
          1679.0702397477737,
          1632.4347194051002,
          1593.442522779197,
          1487.1239402123003,
          1472.9308200834334,
          1468.5158954362257,
          1488.8449532771126,
          1338.0367565078857,
          1442.4322364164211,
          1296.747605320042,
          1197.3489893740104,
          944.2065661815453,
          1166.252394679958,
          1236.1831481989636,
          1158.2132434921143,
          1349.7550467228873,
          1299.3888664685362,
          1348.3491799165668,
          1378.255370132527,
          1459.2241438874696,
          1522.6509948806142,
          1549.2000305224967,
          1529.7415264360245,
          1605.3248133075301,
          1603.5284466894443,
          1545.0408319794262,
          1576.5600356530733,
          1570.7483343999434,
          1557.425346552559,
          1398.0162067934298,
          1521.8737821848374
         ],
         "yaxis": "y7"
        },
        {
         "legendgroup": "Gemini 2.5 Pro (belief prompting)",
         "line": {
          "color": "#32CD32",
          "width": 2
         },
         "mode": "lines+markers",
         "name": "Gemini 2.5 Pro (belief prompting)",
         "showlegend": false,
         "type": "scatter",
         "x": {
          "bdata": "AQIDBAUGBwgJCgsMDQ4PEBESExQ=",
          "dtype": "i1"
         },
         "xaxis": "x7",
         "y": {
          "bdata": "MzMzM7NtmECamZmZmaSWQM3MzMzMEJlAAAAAAIBEmUAzMzMzM4OZQGZmZmZmBplAQhqkQRrsmUCDNEiDNFCaQGwor6G8BplAyWfdYIo4mUDjK77iK6aYQFVVVVVV2ZdAIyz3NMJilkDD9ShcjwqWQD3P8zzPn5VAMzMzMzMtlkAAAAAAgICTQBQ7sRM77ZRAAAAAAAA+k0ByHMdxHLuQQA==",
          "dtype": "f8"
         },
         "yaxis": "y7"
        },
        {
         "fill": "toself",
         "fillcolor": "rgba(139, 0, 0, 0.2)",
         "hoverinfo": "skip",
         "legendgroup": "Deepseek R1 (ABBEL)",
         "line": {
          "color": "rgba(255,255,255,0)"
         },
         "showlegend": false,
         "type": "scatter",
         "x": [
          1,
          2,
          3,
          4,
          5,
          6,
          7,
          8,
          9,
          10,
          11,
          12,
          13,
          14,
          15,
          16,
          17,
          18,
          19,
          20,
          20,
          19,
          18,
          17,
          16,
          15,
          14,
          13,
          12,
          11,
          10,
          9,
          8,
          7,
          6,
          5,
          4,
          3,
          2,
          1
         ],
         "xaxis": "x2",
         "y": [
          1309.9215875023633,
          1353.913994066805,
          1555.4495708131828,
          1966.4381557653967,
          1957.1438496240287,
          1562.804364428837,
          1840.2485624234912,
          2416.490145213803,
          2207.451583767889,
          1642.1913793878177,
          1513.7625376270266,
          1798.5844787234591,
          1478.9910505898315,
          1848.9853314619997,
          1891.5159046851659,
          1700.728230944633,
          1797.0154223597033,
          1768.0018834985333,
          1499.5653864009714,
          1930.093525241066,
          1653.3610202134796,
          1242.742305906721,
          1505.0647831681333,
          1488.8512443069635,
          1495.538435722034,
          1573.684095314834,
          1584.7480018713334,
          1321.6339494101685,
          1444.315521276541,
          1363.6287667207994,
          1414.528620612182,
          1733.5854532691478,
          1727.361706638049,
          1476.151437576509,
          1339.9956355711631,
          1486.1061503759713,
          1448.9131955859546,
          1365.6786343150222,
          1226.2360059331952,
          1192.3284124976367
         ],
         "yaxis": "y2"
        },
        {
         "legendgroup": "Deepseek R1 (ABBEL)",
         "line": {
          "color": "#8B0000",
          "width": 2
         },
         "mode": "lines+markers",
         "name": "Deepseek R1 (ABBEL)",
         "showlegend": false,
         "type": "scatter",
         "x": {
          "bdata": "AQIDBAUGBwgJCgsMDQ4PEBESExQ=",
          "dtype": "i1"
         },
         "xaxis": "x2",
         "y": {
          "bdata": "AAAAAICMk0DNzMzMTCiUQKRBGqRB0pZA6wZT5LOumkAAAAAAgOaaQJqZmZmZrZZAzczMzMzomUC+hPYS2i+gQKG9hPYSyp5APQrXo3Dhl0BkIQtZyHqWQM3MzMzMVZlAAAAAAEDhlUB3d3d3d9OaQGZmZmZmEptAiYiIiIj4mEC8u7u7u6uZQCIiIiIikplAip3YiZ1slUCjiy666P6bQA==",
          "dtype": "f8"
         },
         "yaxis": "y2"
        },
        {
         "fill": "toself",
         "fillcolor": "rgba(255, 99, 71, 0.2)",
         "hoverinfo": "skip",
         "legendgroup": "Deepseek R1 (belief prompting)",
         "line": {
          "color": "rgba(255,255,255,0)"
         },
         "showlegend": false,
         "type": "scatter",
         "x": [
          1,
          2,
          3,
          4,
          5,
          6,
          7,
          8,
          9,
          10,
          11,
          12,
          13,
          14,
          15,
          16,
          17,
          18,
          19,
          20,
          20,
          19,
          18,
          17,
          16,
          15,
          14,
          13,
          12,
          11,
          10,
          9,
          8,
          7,
          6,
          5,
          4,
          3,
          2,
          1
         ],
         "xaxis": "x2",
         "y": [
          1392.9506441025237,
          1850.9763063016064,
          2253.4697410447807,
          1764.0592473849176,
          2048.033973545783,
          2359.5913270492642,
          1716.6222318796983,
          3159.4692254110646,
          2279.0502680868535,
          2690.2520024530854,
          1794.6285893420538,
          2414.334146340382,
          2141.192675646208,
          2323.370578308584,
          3074.615369834547,
          3252.0845556418376,
          3137.8238125092676,
          2138.8043870057295,
          2434.8434115865234,
          2017.896503165408,
          1689.303496834592,
          1843.8232550801438,
          1714.8206129942705,
          1772.5511874907327,
          1956.386032593456,
          2182.384630165453,
          1920.1849772469718,
          1771.0178506695818,
          1802.9290115543545,
          1559.18093446747,
          1775.1116339105506,
          1775.297558000103,
          1945.9381819963432,
          1500.5390584428822,
          1749.2322023625004,
          1693.7945978827886,
          1557.4407526150824,
          1644.5302589552193,
          1395.7236936983934,
          1278.499355897476
         ],
         "yaxis": "y2"
        },
        {
         "legendgroup": "Deepseek R1 (belief prompting)",
         "line": {
          "color": "#FF6347",
          "width": 2
         },
         "mode": "lines+markers",
         "name": "Deepseek R1 (belief prompting)",
         "showlegend": false,
         "type": "scatter",
         "x": {
          "bdata": "AQIDBAUGBwgJCgsMDQ4PEBESExQ=",
          "dtype": "i1"
         },
         "xaxis": "x2",
         "y": {
          "bdata": "ZmZmZubelEBmZmZmZl2ZQAAAAAAAdJ5AAAAAAADzmUA7qIM6qDudQNPS0tLSDKBASimllFIimUD3EtpLaPGjQFnIQhayrJ9AdNFFF11xoUB6nud5njOaQJTXUF5DeaBAh/IaymuQnkA5juM4jpOgQAAAAAAAiaRAeHh4eHhYpEAAAAAAYC6jQAAAAABAG55Aq6qqqqq2oEBmZmZmZvacQA==",
          "dtype": "f8"
         },
         "yaxis": "y2"
        },
        {
         "fill": "toself",
         "fillcolor": "rgba(0, 100, 0, 0.2)",
         "hoverinfo": "skip",
         "legendgroup": "Gemini 2.5 Pro (ABBEL)",
         "line": {
          "color": "rgba(255,255,255,0)"
         },
         "showlegend": false,
         "type": "scatter",
         "x": [
          1,
          2,
          3,
          4,
          5,
          6,
          7,
          8,
          9,
          10,
          11,
          12,
          13,
          14,
          15,
          16,
          17,
          18,
          19,
          20,
          20,
          19,
          18,
          17,
          16,
          15,
          14,
          13,
          12,
          11,
          10,
          9,
          8,
          7,
          6,
          5,
          4,
          3,
          2,
          1
         ],
         "xaxis": "x2",
         "y": [
          1513.7896573391376,
          1397.2417599157577,
          1529.5443247079743,
          1496.212451870405,
          1535.2302610559632,
          1593.6517147104732,
          1616.2407067047407,
          1577.7468758669204,
          1651.26590516848,
          1647.741695607623,
          1612.1501809238669,
          1803.5641147983317,
          1697.6919762698878,
          1598.8781312509698,
          1755.2885532001378,
          1772.9026457973168,
          1749.1195148849113,
          1699.7933494227805,
          1713.0403614671347,
          1629.950880628905,
          1311.049119371095,
          1428.9596385328653,
          1499.9844283549974,
          1517.8804851150887,
          1617.0973542026832,
          1518.7114467998622,
          1407.2885354156967,
          1568.9746903967787,
          1622.324774090557,
          1497.3235032866594,
          1540.4487805828533,
          1498.5674281648535,
          1445.9674098473654,
          1519.3842932952593,
          1471.1361640774057,
          1455.112596086894,
          1401.4191270769634,
          1422.5609384499203,
          1301.0582400842425,
          1387.7103426608624
         ],
         "yaxis": "y2"
        },
        {
         "legendgroup": "Gemini 2.5 Pro (ABBEL)",
         "line": {
          "color": "#006400",
          "width": 2
         },
         "mode": "lines+markers",
         "name": "Gemini 2.5 Pro (ABBEL)",
         "showlegend": false,
         "type": "scatter",
         "x": {
          "bdata": "AQIDBAUGBwgJCgsMDQ4PEBESExQ=",
          "dtype": "i1"
         },
         "xaxis": "x2",
         "y": {
          "bdata": "AAAAAACrlkCamZmZmRSVQEN5DeU1EJdAlNdQXkOjlkCLr/iKr1yXQE422WST8ZdAAAAAAEB/mEC3bdu2bZ+XQKuqqqqqm5hAhmEYhmHomECvobyG8kqYQBzHcRzHw5pAVVVVVVWFmUBVVVVVVXyXQAAAAAAAlJlAAAAAAAB8mkAAAAAAAIaZQDmO4ziO/5hAAAAAAACMmEAAAAAAAPqWQA==",
          "dtype": "f8"
         },
         "yaxis": "y2"
        },
        {
         "fill": "toself",
         "fillcolor": "rgba(50, 205, 50, 0.2)",
         "hoverinfo": "skip",
         "legendgroup": "Gemini 2.5 Pro (belief prompting)",
         "line": {
          "color": "rgba(255,255,255,0)"
         },
         "showlegend": false,
         "type": "scatter",
         "x": [
          1,
          2,
          3,
          4,
          5,
          6,
          7,
          8,
          9,
          10,
          11,
          12,
          13,
          14,
          15,
          16,
          17,
          18,
          19,
          20,
          20,
          19,
          18,
          17,
          16,
          15,
          14,
          13,
          12,
          11,
          10,
          9,
          8,
          7,
          6,
          5,
          4,
          3,
          2,
          1
         ],
         "xaxis": "x2",
         "y": [
          1458.7954822160984,
          1408.0410717634459,
          1500.6188890339756,
          1491.4035769528998,
          1670.9225577898915,
          1543.4860992680544,
          1567.946378176678,
          1679.583380791525,
          1738.858370699889,
          1761.0895230897895,
          1631.6812834353452,
          1698.4155510525006,
          1642.8404545447559,
          1848.9919763776286,
          1695.8718675016194,
          1990.783087284245,
          1866.348776658151,
          2058.2327342865283,
          1985.0496012509288,
          1616,
          1412,
          1393.6170654157377,
          1485.1005990468052,
          1520.9845566751824,
          1483.8835793824214,
          1451.4614658317141,
          1620.5080236223714,
          1347.1595454552441,
          1348.5844489474994,
          1348.452049897988,
          1542.4398886749163,
          1553.8082959667775,
          1495.0832858751414,
          1444.853621823322,
          1427.447234065279,
          1554.3677647907539,
          1378.5392801899573,
          1400.8170084019218,
          1311.1089282365542,
          1355.5045177839017
         ],
         "yaxis": "y2"
        },
        {
         "legendgroup": "Gemini 2.5 Pro (belief prompting)",
         "line": {
          "color": "#32CD32",
          "width": 2
         },
         "mode": "lines+markers",
         "name": "Gemini 2.5 Pro (belief prompting)",
         "showlegend": false,
         "type": "scatter",
         "x": {
          "bdata": "AQIDBAUGBwgJCgsMDQ4PEBESExQ=",
          "dtype": "i1"
         },
         "xaxis": "x2",
         "y": {
          "bdata": "mpmZmZn8lUDNzMzMTD6VQC7f8i3fqpZAvuIrvuJrlkBTSimllDKZQN7d3d3dNZdAmpmZmZmJl0BVVVVVVc2YQFVVVVVVuZlADw8PDw/PmUBEREREREiXQAAAAAAAzpdAAAAAAABcl0AAAAAAABubQKuqqqqqlphAVVVVVVUlm0CrqqqqqnaaQKuqqqqqrptAVVVVVVVlmkAAAAAAAKiXQA==",
          "dtype": "f8"
         },
         "yaxis": "y2"
        },
        {
         "fill": "toself",
         "fillcolor": "rgba(255, 182, 193, 0.2)",
         "hoverinfo": "skip",
         "legendgroup": "Deepseek R1",
         "line": {
          "color": "rgba(255,255,255,0)"
         },
         "showlegend": false,
         "type": "scatter",
         "x": [
          1,
          2,
          3,
          4,
          5,
          6,
          7,
          8,
          9,
          10,
          11,
          12,
          13,
          14,
          15,
          16,
          17,
          18,
          19,
          20,
          20,
          19,
          18,
          17,
          16,
          15,
          14,
          13,
          12,
          11,
          10,
          9,
          8,
          7,
          6,
          5,
          4,
          3,
          2,
          1
         ],
         "xaxis": "x8",
         "y": [
          1750.320427959729,
          1389.3771778489238,
          1414.7585466743185,
          1410.3556559140081,
          1779.1240209661314,
          2510.555626271805,
          2498.2320229450024,
          2609.5577142222082,
          1635.7252323087666,
          3168.436382374494,
          2551.1406655344977,
          2656.244808440788,
          1817.365014858066,
          3063.7002537634567,
          2568.20910757994,
          3787.9272025922405,
          3073.4186408398155,
          2598.881564163479,
          2213.64698151877,
          2504.889502879685,
          1733.5104971203143,
          1655.5530184812299,
          2006.3184358365206,
          1810.5813591601845,
          2176.17279740776,
          1783.8908924200605,
          1954.6806986174956,
          1406.544076051025,
          1844.7986698200818,
          1747.1093344655026,
          2104.4866945485833,
          1330.4126987257162,
          1799.1756191111253,
          1750.9800982671184,
          1860.838313122134,
          1451.1616933195828,
          1167.9146143562623,
          1196.1914533256813,
          1126.2728221510763,
          1348.029572040271
         ],
         "yaxis": "y8"
        },
        {
         "legendgroup": "Deepseek R1",
         "line": {
          "color": "#FFB6C1",
          "width": 2
         },
         "mode": "lines+markers",
         "name": "Deepseek R1",
         "showlegend": false,
         "type": "scatter",
         "x": {
          "bdata": "AQIDBAUGBwgJCgsMDQ4PEBESExQ=",
          "dtype": "i1"
         },
         "xaxis": "x8",
         "y": {
          "bdata": "MzMzM7M0mEDNzMzMTKeTQGZmZmbmZZRAyWfdYIoklEBJkiRJkjyZQJNNNtlkE6FA2WSTTTaZoEC8u7u7uzihQGqE5Z5GLJdAT+zETuyYpEAAAAAAQMqgQIYsZCELlaFARhdddNEvmUCGYRiGYZqjQJqZmZkZAKFAmpmZmRlMp0AAAAAAABSjQDMzMzMz/aFAZmZmZmY6nkBmZmZmZo6gQA==",
          "dtype": "f8"
         },
         "yaxis": "y8"
        },
        {
         "fill": "toself",
         "fillcolor": "rgba(139, 0, 0, 0.2)",
         "hoverinfo": "skip",
         "legendgroup": "Deepseek R1 (ABBEL)",
         "line": {
          "color": "rgba(255,255,255,0)"
         },
         "showlegend": false,
         "type": "scatter",
         "x": [
          1,
          2,
          3,
          4,
          5,
          6,
          7,
          8,
          9,
          10,
          11,
          12,
          13,
          14,
          15,
          16,
          17,
          18,
          19,
          20,
          20,
          19,
          18,
          17,
          16,
          15,
          14,
          13,
          12,
          11,
          10,
          9,
          8,
          7,
          6,
          5,
          4,
          3,
          2,
          1
         ],
         "xaxis": "x8",
         "y": [
          1901.8996783960815,
          2220.628969356023,
          3186.2569389951673,
          2812.518448530007,
          2087.6565107410415,
          2364.5090667312234,
          2991.4288242180055,
          2138.3663829068946,
          2477.6534066140366,
          2531.766982263118,
          2248.336780469249,
          2835.3232940013745,
          1523.4287365812288,
          2347.9856842838417,
          1655.208834869668,
          2148.5249769001816,
          1599.3501305470675,
          1610.9945561493987,
          1822.3435512702351,
          2272.535350345537,
          1376.9191951090086,
          1332.579525652842,
          1322.3387771839348,
          1333.983202786266,
          1513.3416897664852,
          1311.3244984636653,
          1642.8143157161585,
          1273.1962634187712,
          1885.6767059986255,
          1764.967567356838,
          1871.9930177368822,
          1530.9391859785562,
          1615.7076911671793,
          2185.0378424486607,
          1695.957599935443,
          1713.9684892589587,
          2096.076146064588,
          2314.92254818432,
          1573.621030643977,
          1314.3003216039183
         ],
         "yaxis": "y8"
        },
        {
         "legendgroup": "Deepseek R1 (ABBEL)",
         "line": {
          "color": "#8B0000",
          "width": 2
         },
         "mode": "lines+markers",
         "name": "Deepseek R1 (ABBEL)",
         "showlegend": false,
         "type": "scatter",
         "x": {
          "bdata": "AQIDBAUGBwgJCgsMDQ4PEBESExQ=",
          "dtype": "i1"
         },
         "xaxis": "x8",
         "y": {
          "bdata": "ZmZmZmYgmUAAAAAAgKSdQPMt3/ItfaVAKvJZN5gso0AAAAAAQLOdQO/u7u7uuJ9Ad3d3d3c4pEBCewntJVSdQBPaS2gvUZ9A9ihcj8IzoUBOb3rTm1qfQAAAAAAAcaJAAAAAAEDZlUCamZmZmS2fQBERERERLZdAvLu7u7ubnECrqqqqquqWQKuqqqqq6pZAntiJndilmECjiy666IKcQA==",
          "dtype": "f8"
         },
         "yaxis": "y8"
        },
        {
         "fill": "toself",
         "fillcolor": "rgba(255, 99, 71, 0.2)",
         "hoverinfo": "skip",
         "legendgroup": "Deepseek R1 (belief prompting)",
         "line": {
          "color": "rgba(255,255,255,0)"
         },
         "showlegend": false,
         "type": "scatter",
         "x": [
          1,
          2,
          3,
          4,
          5,
          6,
          7,
          8,
          9,
          10,
          11,
          12,
          13,
          14,
          15,
          16,
          17,
          18,
          19,
          20,
          20,
          19,
          18,
          17,
          16,
          15,
          14,
          13,
          12,
          11,
          10,
          9,
          8,
          7,
          6,
          5,
          4,
          3,
          2,
          1
         ],
         "xaxis": "x8",
         "y": [
          1531.4580867672034,
          1577.9979293943309,
          1356.1063532075502,
          1373.6250162972608,
          2095.7656383506996,
          2067.829627061761,
          1955.461546583421,
          1381.2517513412372,
          2105.803069561452,
          2248.519453980686,
          1648.9747889096066,
          1789.2822943689114,
          2143.9209752010784,
          2086.8101756708106,
          2976.387674358938,
          1470.3784319640652,
          1447.5082538241472,
          1372.0844030484825,
          2020.6777234294966,
          1595.9009143884068,
          1344.36575227826,
          1297.98894323717,
          1226.6655969515175,
          1250.1167461758528,
          1301.386273918288,
          1887.3901034188393,
          1547.078713218078,
          1256.5000774305004,
          1346.7177056310886,
          1375.3109253761077,
          1629.9350914738593,
          1516.7186695689832,
          1188.3778782883924,
          1480.7320018036755,
          1408.1703729382386,
          1560.3486473635862,
          1139.263872591628,
          1092.6628775616807,
          1145.202070605669,
          1181.8919132327965
         ],
         "yaxis": "y8"
        },
        {
         "legendgroup": "Deepseek R1 (belief prompting)",
         "line": {
          "color": "#FF6347",
          "width": 2
         },
         "mode": "lines+markers",
         "name": "Deepseek R1 (belief prompting)",
         "showlegend": false,
         "type": "scatter",
         "x": {
          "bdata": "AQIDBAUGBwgJCgsMDQ4PEBESExQ=",
          "dtype": "i1"
         },
         "xaxis": "x8",
         "y": {
          "bdata": "MzMzM7MylUBmZmZmZkaVQNmJndiJIZNAHMdxHMehk0CEOqiDOpCcQAAAAAAAKJtAjDHGGGPYmkC0l9BeQhOUQIYsZCELTZxAo4suuuhMnkBJkiRJkqCXQAAAAAAAgJhADeU1lNeQmkAcx3Ecx2OcQBzHcRzH/6JAiIeHh4enlUAAAAAAQBOVQAAAAACATZRAVVVVVVXtmUCJiIiIiPiWQA==",
          "dtype": "f8"
         },
         "yaxis": "y8"
        },
        {
         "fill": "toself",
         "fillcolor": "rgba(144, 238, 144, 0.2)",
         "hoverinfo": "skip",
         "legendgroup": "Gemini 2.5 Pro",
         "line": {
          "color": "rgba(255,255,255,0)"
         },
         "showlegend": false,
         "type": "scatter",
         "x": [
          1,
          2,
          3,
          4,
          5,
          6,
          7,
          8,
          9,
          10,
          11,
          12,
          13,
          14,
          15,
          16,
          17,
          18,
          19,
          20,
          20,
          19,
          18,
          17,
          16,
          15,
          14,
          13,
          12,
          11,
          10,
          9,
          8,
          7,
          6,
          5,
          4,
          3,
          2,
          1
         ],
         "xaxis": "x8",
         "y": [
          1696.1409382149022,
          1306.241406160372,
          1402.292133095667,
          1431.7520837786842,
          1666.5465823676386,
          1520.317251373676,
          1377.4539856678205,
          1612.008386761685,
          1213.7073268876195,
          1388.6609610998826,
          1362.9890366222007,
          1540.1151996301307,
          1596.3546768063516,
          1746.8804126641537,
          1424.7381334314757,
          1769.8960517914757,
          1364.3482384932108,
          1495.5706883779594,
          1092,
          2417,
          644,
          1057,
          957.9293116220406,
          1025.1517615067892,
          1438.1039482085243,
          934.9285332351908,
          1297.1195873358463,
          1124.6453231936484,
          1227.8848003698693,
          1159.8442967111328,
          1258.767610328689,
          1024.7371175568248,
          1371.6437871513585,
          1213.129347665513,
          1350.8970343406097,
          1365.920084299028,
          1278.894975044845,
          1277.2634224598887,
          1197.4585938396278,
          1549.3090617850976
         ],
         "yaxis": "y8"
        },
        {
         "legendgroup": "Gemini 2.5 Pro",
         "line": {
          "color": "#90EE90",
          "width": 2
         },
         "mode": "lines+markers",
         "name": "Gemini 2.5 Pro",
         "showlegend": false,
         "type": "scatter",
         "x": {
          "bdata": "AQIDBAUGBwgJCgsMDQ4PEBESExQ=",
          "dtype": "i1"
         },
         "xaxis": "x8",
         "y": {
          "bdata": "ZmZmZuZamUBmZmZmZo+TQHIcx3Ec75RAS0tLS0stlUDv7u7u7rCXQLdt27ZtbpZAq6qqqio9lECnN73pTU+XQI7jOI7jfJFAbtu2bduulECrqqqqqrWTQAAAAAAAoJVAAAAAAABClUAAAAAAAMiXQFVVVVVVb5JAAAAAAAAQmUAAAAAAAKuSQAAAAAAAK5NAAAAAAADKkEAAAAAAAOqXQA==",
          "dtype": "f8"
         },
         "yaxis": "y8"
        },
        {
         "fill": "toself",
         "fillcolor": "rgba(0, 100, 0, 0.2)",
         "hoverinfo": "skip",
         "legendgroup": "Gemini 2.5 Pro (ABBEL)",
         "line": {
          "color": "rgba(255,255,255,0)"
         },
         "showlegend": false,
         "type": "scatter",
         "x": [
          1,
          2,
          3,
          4,
          5,
          6,
          7,
          8,
          9,
          10,
          11,
          12,
          13,
          14,
          15,
          16,
          17,
          18,
          19,
          20,
          20,
          19,
          18,
          17,
          16,
          15,
          14,
          13,
          12,
          11,
          10,
          9,
          8,
          7,
          6,
          5,
          4,
          3,
          2,
          1
         ],
         "xaxis": "x8",
         "y": [
          1372.7481946678424,
          1477.9153076840214,
          1537.0687936399231,
          1503.9059694738705,
          1525.2149288810513,
          1509.1091620455388,
          1459.557709445378,
          1484.9186328278738,
          1690.1303952338599,
          1625.059963137341,
          1813.0424892999783,
          1753.2397646180207,
          1827.7447002883498,
          1887.1915537823106,
          1867.5367062140474,
          1822.3700863258803,
          1659.3485935980482,
          1724.810753069734,
          1521.6810927502534,
          1743.3000349324598,
          1457.0332984008737,
          1254.5689072497466,
          1338.967024708044,
          1429.2514064019517,
          1469.8299136741196,
          1641.008748331407,
          1560.6417795510229,
          1553.5886330449837,
          1490.7602353819793,
          1584.1154054368637,
          1449.8924178150398,
          1534.7862714328066,
          1353.2242243149835,
          1330.254790554622,
          1372.8908379544612,
          1392.7850711189487,
          1367.199293684024,
          1398.6680484653402,
          1358.1846923159785,
          1248.6518053321577
         ],
         "yaxis": "y8"
        },
        {
         "legendgroup": "Gemini 2.5 Pro (ABBEL)",
         "line": {
          "color": "#006400",
          "width": 2
         },
         "mode": "lines+markers",
         "name": "Gemini 2.5 Pro (ABBEL)",
         "showlegend": false,
         "type": "scatter",
         "x": {
          "bdata": "AQIDBAUGBwgJCgsMDQ4PEBESExQ=",
          "dtype": "i1"
         },
         "xaxis": "x8",
         "y": {
          "bdata": "zczMzMx6lEAzMzMzMyiWQNhQXkN575ZAQ3kN5TVulkAAAAAAAMyWQAAAAAAAhJZAAAAAAKDLlUAlSZIkSSyWQFVVVVXVMZlAnud5nucFmEDlNZTXUIqaQAAAAAAAWJlAq6qqqqpqmkCrqqqqqu+aQF100UUXaZtAZmZmZma4mUAzMzMzMyGYQDmO4ziO75dAAAAAAICwlUCrqqqqqgCZQA==",
          "dtype": "f8"
         },
         "yaxis": "y8"
        },
        {
         "fill": "toself",
         "fillcolor": "rgba(50, 205, 50, 0.2)",
         "hoverinfo": "skip",
         "legendgroup": "Gemini 2.5 Pro (belief prompting)",
         "line": {
          "color": "rgba(255,255,255,0)"
         },
         "showlegend": false,
         "type": "scatter",
         "x": [
          1,
          2,
          3,
          4,
          5,
          6,
          7,
          8,
          9,
          10,
          11,
          12,
          13,
          14,
          15,
          16,
          17,
          18,
          19,
          20,
          20,
          19,
          18,
          17,
          16,
          15,
          14,
          13,
          12,
          11,
          10,
          9,
          8,
          7,
          6,
          5,
          4,
          3,
          2,
          1
         ],
         "xaxis": "x8",
         "y": [
          1469.7582547160207,
          1524.6857928854051,
          1347.2022289334486,
          1475.4365271950592,
          1388.1677575302294,
          1336.9078697835819,
          1322.5895754259811,
          1339.8786178426174,
          1362.5785260831337,
          1312.6229793609575,
          1150.7012548507444,
          1243.8938625953813,
          1518.0194232695078,
          1214.008687492988,
          1177.0639509233526,
          1311.980643348323,
          2125.486097042998,
          1813.6973939684492,
          1289.0142690577522,
          1218,
          564,
          704.9857309422478,
          934.9692726982173,
          1124.5139029570018,
          1105.3526899850106,
          1093.6027157433139,
          849.491312507012,
          1080.3805767304923,
          1018.5061374046188,
          952.232078482589,
          1035.6123147566893,
          1121.4214739168663,
          1125.6213821573826,
          1119.170424574019,
          1171.4921302164182,
          1261.8322424697706,
          1320.7920442335121,
          1246.2336685024488,
          1442.464207114595,
          1358.3917452839794
         ],
         "yaxis": "y8"
        },
        {
         "legendgroup": "Gemini 2.5 Pro (belief prompting)",
         "line": {
          "color": "#32CD32",
          "width": 2
         },
         "mode": "lines+markers",
         "name": "Gemini 2.5 Pro (belief prompting)",
         "showlegend": false,
         "type": "scatter",
         "x": {
          "bdata": "AQIDBAUGBwgJCgsMDQ4PEBESExQ=",
          "dtype": "i1"
         },
         "xaxis": "x8",
         "y": {
          "bdata": "zczMzEwYlkDNzMzMTC6XQC7f8i3fQpRAB3VQB3XYlUAAAAAAALSUQM3MzMzMmJNA7FG4HoUTk0AAAAAAAEOTQAAAAAAAaJNAeHh4eHhYkkDe3d3d3W2QQM3MzMzMrJFAzczMzMxMlEAAAAAAAB+QQFVVVVVVvZFAq6qqqqrikkAAAAAAAGSZQFVVVVVVeZVAAAAAAAAoj0AAAAAAANiLQA==",
          "dtype": "f8"
         },
         "yaxis": "y8"
        },
        {
         "fill": "toself",
         "fillcolor": "rgba(139, 0, 0, 0.2)",
         "hoverinfo": "skip",
         "legendgroup": "Deepseek R1 (ABBEL)",
         "line": {
          "color": "rgba(255,255,255,0)"
         },
         "showlegend": false,
         "type": "scatter",
         "x": [
          1,
          2,
          3,
          4,
          5,
          6,
          7,
          8,
          9,
          10,
          11,
          12,
          13,
          14,
          15,
          16,
          17,
          18,
          19,
          20,
          20,
          19,
          18,
          17,
          16,
          15,
          14,
          13,
          12,
          11,
          10,
          9,
          8,
          7,
          6,
          5,
          4,
          3,
          2,
          1
         ],
         "xaxis": "x3",
         "y": [
          1520.9318400321738,
          1723.9412976895455,
          2023.3598755684027,
          2092.361196724824,
          2449.394811762687,
          2334.8234398962118,
          2749.8638152872068,
          2664.5366872205877,
          3561.540005917373,
          3164.396124443488,
          2778.201466368176,
          2965.8087375982204,
          2565.44289376939,
          3507.5001064893663,
          3107.964956447694,
          3646.6468101194178,
          3372.455286787049,
          3568.4507430243784,
          5476.513830261516,
          5524.567498148103,
          3874.2325018518964,
          3540.8935771458914,
          2476.263542689907,
          2595.8205752819167,
          2517.0951253644535,
          2385.792619309882,
          2557.5587170400454,
          2108.214249087753,
          2384.0198338303508,
          2333.5207558540465,
          2351.23545450388,
          2538.8189684416016,
          2135.5133127794124,
          2175.036184712793,
          2026.5265601037888,
          2056.0051882373127,
          1804.7888032751762,
          1772.2901244315974,
          1427.1087023104546,
          1330.9681599678263
         ],
         "yaxis": "y3"
        },
        {
         "legendgroup": "Deepseek R1 (ABBEL)",
         "line": {
          "color": "#8B0000",
          "width": 2
         },
         "mode": "lines+markers",
         "name": "Deepseek R1 (ABBEL)",
         "showlegend": false,
         "type": "scatter",
         "x": {
          "bdata": "AQIDBAUGBwgJCgsMDQ4PEBESExQ=",
          "dtype": "i1"
         },
         "xaxis": "x3",
         "y": {
          "bdata": "zczMzMxHlkCamZmZGZ6YQM3MzMxMp51AzczMzExynkBmZmZmZpmhQJqZmZlZCaFAZmZmZuY8o0DNzMzMDMCiQOZbvuVb1KdAymsor6GLpUDkOI7juPejQB3UQR3U5aRAO6iDOqhBokAPDw8PD7GnQAgffPDBdaVA+N57770TqEBqhOWeRlCnQNu2bdu2nKdAewntJbScsUBmZmZmZluyQA==",
          "dtype": "f8"
         },
         "yaxis": "y3"
        },
        {
         "fill": "toself",
         "fillcolor": "rgba(255, 99, 71, 0.2)",
         "hoverinfo": "skip",
         "legendgroup": "Deepseek R1 (belief prompting)",
         "line": {
          "color": "rgba(255,255,255,0)"
         },
         "showlegend": false,
         "type": "scatter",
         "x": [
          1,
          2,
          3,
          4,
          5,
          6,
          7,
          8,
          9,
          10,
          11,
          12,
          13,
          14,
          15,
          16,
          17,
          18,
          19,
          20,
          20,
          19,
          18,
          17,
          16,
          15,
          14,
          13,
          12,
          11,
          10,
          9,
          8,
          7,
          6,
          5,
          4,
          3,
          2,
          1
         ],
         "xaxis": "x3",
         "y": [
          1536.3378008546208,
          1637.8816112931227,
          2106.7496378189126,
          2177.0108078360245,
          2344.383527464179,
          2680.572098426931,
          2814.915584130151,
          2903.847225444949,
          3071.2657290625352,
          3325.7544131042196,
          4446.48547241672,
          4217.358405087359,
          3168.9743955708113,
          4361.505884772423,
          3713.111659511141,
          3668.151859233744,
          3249.3453675544447,
          2756.8299608087727,
          3597.668560744999,
          3478.7689221249652,
          2774.321986965944,
          2491.0237469473086,
          2157.5404095615977,
          2508.94034673127,
          2766.514807432923,
          2768.325840488859,
          3335.160781894244,
          2561.9346953382797,
          3188.1551084261546,
          3343.028041096794,
          2427.0563977065913,
          2490.4184814637806,
          2306.2027745550513,
          2115.6844158698495,
          2080.927901573069,
          1893.7664725358204,
          1879.1391921639756,
          1824.4503621810873,
          1447.1683887068775,
          1339.6621991453792
         ],
         "yaxis": "y3"
        },
        {
         "legendgroup": "Deepseek R1 (belief prompting)",
         "line": {
          "color": "#FF6347",
          "width": 2
         },
         "mode": "lines+markers",
         "name": "Deepseek R1 (belief prompting)",
         "showlegend": false,
         "type": "scatter",
         "x": {
          "bdata": "AQIDBAUGBwgJCgsMDQ4PEBESExQ=",
          "dtype": "i1"
         },
         "xaxis": "x3",
         "y": {
          "bdata": "AAAAAAB4lkCamZmZGRqYQGZmZmZmtp5AzczMzEywn0BmZmZmJo6gQAAAAACAmaJAmpmZmZlCo0DNzMzMDFqkQBvKayivuaVArRtMkc94pkCYIp91g22uQJgin3WD7axAo4suuuhipkCrqqqqqhCuQAAAAABwUalAq6qqqqoiqUAlSZIkSX6mQCa0l9BeMqNAO7ETO7HIp0BddNFFF22oQA==",
          "dtype": "f8"
         },
         "yaxis": "y3"
        },
        {
         "fill": "toself",
         "fillcolor": "rgba(0, 100, 0, 0.2)",
         "hoverinfo": "skip",
         "legendgroup": "Gemini 2.5 Pro (ABBEL)",
         "line": {
          "color": "rgba(255,255,255,0)"
         },
         "showlegend": false,
         "type": "scatter",
         "x": [
          1,
          2,
          3,
          4,
          5,
          6,
          7,
          8,
          9,
          10,
          11,
          12,
          13,
          14,
          15,
          16,
          17,
          18,
          19,
          20,
          20,
          19,
          18,
          17,
          16,
          15,
          14,
          13,
          12,
          11,
          10,
          9,
          8,
          7,
          6,
          5,
          4,
          3,
          2,
          1
         ],
         "xaxis": "x3",
         "y": [
          1393.16036400048,
          1387.3483554810264,
          1475.319306470348,
          1479.0927415524484,
          1670.0103028005756,
          1632.989209165257,
          1708.7132299709513,
          1767.5725660185544,
          1810.5447351143423,
          1969.819328128319,
          1822.3653556560664,
          2012.3589624281944,
          2198.030295591167,
          2326.4529232536365,
          2521.6706472491455,
          2305.849273974213,
          2793.1572145833284,
          2471.6565662118664,
          3123.0399873472775,
          2137.5407076535867,
          1871.1592923464134,
          2544.9600126527225,
          2135.6767671214666,
          2370.9336945075806,
          2001.0202912431782,
          2181.2460194175214,
          1942.8547690540559,
          1912.1178525569808,
          1790.8668440234183,
          1616.473354021353,
          1769.150368841378,
          1619.2330426634355,
          1633.2052117592234,
          1562.231214473493,
          1524.9055276768484,
          1535.476876686604,
          1385.317514857808,
          1381.1306935296518,
          1266.2016445189738,
          1280.33963599952
         ],
         "yaxis": "y3"
        },
        {
         "legendgroup": "Gemini 2.5 Pro (ABBEL)",
         "line": {
          "color": "#006400",
          "width": 2
         },
         "mode": "lines+markers",
         "name": "Gemini 2.5 Pro (ABBEL)",
         "showlegend": false,
         "type": "scatter",
         "x": {
          "bdata": "AQIDBAUGBwgJCgsMDQ4PEBESExQ=",
          "dtype": "i1"
         },
         "xaxis": "x3",
         "y": {
          "bdata": "AAAAAADjlECamZmZGbuUQGZmZmbmUJZADdIgDdJglkBw+ZZv+QqZQL2G8hrKq5hAjuM4juONmUA5juM4jpGaQDmO4ziOy5pAwgcffPA1nUC21lprrd2aQM4555xztp1AQnsJ7SUOoEDFTuzETq2gQKuqqqrqXqJAb3rTm97SoEBddNFFFyykQFVVVVVV/6FAAAAAAAAkpkBmZmZmZlGfQA==",
          "dtype": "f8"
         },
         "yaxis": "y3"
        },
        {
         "fill": "toself",
         "fillcolor": "rgba(50, 205, 50, 0.2)",
         "hoverinfo": "skip",
         "legendgroup": "Gemini 2.5 Pro (belief prompting)",
         "line": {
          "color": "rgba(255,255,255,0)"
         },
         "showlegend": false,
         "type": "scatter",
         "x": [
          1,
          2,
          3,
          4,
          5,
          6,
          7,
          8,
          9,
          10,
          11,
          12,
          13,
          14,
          15,
          16,
          17,
          18,
          19,
          20,
          20,
          19,
          18,
          17,
          16,
          15,
          14,
          13,
          12,
          11,
          10,
          9,
          8,
          7,
          6,
          5,
          4,
          3,
          2,
          1
         ],
         "xaxis": "x3",
         "y": [
          1385.161318258306,
          1336.5114529031794,
          1460.4574938761634,
          1519.4694723801565,
          1450.048546077151,
          1480.4755238649357,
          1584.1176067433896,
          1657.6067277516868,
          2046.755600891019,
          1836.1949673431031,
          1643.000873115573,
          1856.6752529343837,
          2075.8573388760233,
          1855.452577931506,
          2386.9997285557274,
          2436.741526185152,
          2156.230526311195,
          2294.810003324999,
          2312.3027943244842,
          3353.557773421832,
          2239.351317487259,
          1880.363872342183,
          1893.0361505211556,
          1756.0551879745194,
          1958.199650285436,
          1999.2107977600617,
          1646.847422068494,
          1749.9826611239769,
          1531.7247470656164,
          1445.6051874904874,
          1635.2167973627793,
          1724.8233464774023,
          1511.5214773765183,
          1479.0618804360977,
          1376.4988351094232,
          1342.2514539228491,
          1407.1805276198436,
          1355.4925061238364,
          1206.0885470968205,
          1277.1386817416942
         ],
         "yaxis": "y3"
        },
        {
         "legendgroup": "Gemini 2.5 Pro (belief prompting)",
         "line": {
          "color": "#32CD32",
          "width": 2
         },
         "mode": "lines+markers",
         "name": "Gemini 2.5 Pro (belief prompting)",
         "showlegend": false,
         "type": "scatter",
         "x": {
          "bdata": "AQIDBAUGBwgJCgsMDQ4PEBESExQ=",
          "dtype": "i1"
         },
         "xaxis": "x3",
         "y": {
          "bdata": "mpmZmZnMlEAzMzMzM92TQGZmZmbm/5VAzczMzEzdlkCamZmZmdCVQN/yLd/yUZZA5lu+5Vvul0CkQRqkQcKYQPMaymsod51A09LS0tIem0DZZJNNNiGYQM3MzMzMeJpASOF6FK7jnUCamZmZmVybQEN5DeU1IqFA8fDw8PAqoUBJkiRJkpCeQJ7YiZ3YW6BAq6qqqqpgoECjiy666NilQA==",
          "dtype": "f8"
         },
         "yaxis": "y3"
        },
        {
         "fill": "toself",
         "fillcolor": "rgba(255, 182, 193, 0.2)",
         "hoverinfo": "skip",
         "legendgroup": "Deepseek R1",
         "line": {
          "color": "rgba(255,255,255,0)"
         },
         "showlegend": false,
         "type": "scatter",
         "x": [
          1,
          2,
          3,
          4,
          5,
          6,
          7,
          8,
          9,
          10,
          11,
          12,
          13,
          14,
          15,
          16,
          17,
          18,
          19,
          20,
          20,
          19,
          18,
          17,
          16,
          15,
          14,
          13,
          12,
          11,
          10,
          9,
          8,
          7,
          6,
          5,
          4,
          3,
          2,
          1
         ],
         "xaxis": "x9",
         "y": [
          1440.9727777141456,
          1918.3927639490003,
          2199.341298275972,
          2542.4931543758116,
          3427.1708056640036,
          3588.922587202574,
          4811.000802973302,
          4135.79165189414,
          5395.949003622858,
          5465.363779586342,
          7879.652997676352,
          6664.867611993718,
          5372.772850049784,
          6837.997252863957,
          9601.786072546782,
          8331.313249380064,
          8401.697105112107,
          7511.394621647267,
          9721.773784402487,
          7531.262300895152,
          5735.987699104848,
          7341.601215597513,
          5328.958319529203,
          6014.1917837767805,
          6193.086750619936,
          7153.261546500837,
          4762.639110772407,
          4001.611765334831,
          4637.440080313973,
          5375.747002323647,
          4028.8237204136576,
          4131.328774154919,
          3140.7639036614155,
          3482.36761807933,
          2438.3081820281955,
          2549.0791943359964,
          1955.656845624188,
          1790.7587017240282,
          1524.0072360509998,
          1178.6772222858544
         ],
         "yaxis": "y9"
        },
        {
         "legendgroup": "Deepseek R1",
         "line": {
          "color": "#FFB6C1",
          "width": 2
         },
         "mode": "lines+markers",
         "name": "Deepseek R1",
         "showlegend": false,
         "type": "scatter",
         "x": {
          "bdata": "AQIDBAUGBwgJCgsMDQ4PEBESExQ=",
          "dtype": "i1"
         },
         "xaxis": "x9",
         "y": {
          "bdata": "zczMzEx3lEDNzMzMzOSaQDMzMzMzLJ9AZmZmZiaSoUAAAAAAQFinQBQ7sRM7i6dAG8prKK8ysEA5juM4jmysQI7jOI6jm7JAAAAAABiLskAzMzMzs+O5QGIndmInE7ZAO7ETOzFPskBGF110Uai2QAzDMAzDXMBAMzMzMzNevEDHcRzH8Se8QC0tLS0tFLlAAAAAANipwEAAAAAAoOm5QA==",
          "dtype": "f8"
         },
         "yaxis": "y9"
        },
        {
         "fill": "toself",
         "fillcolor": "rgba(139, 0, 0, 0.2)",
         "hoverinfo": "skip",
         "legendgroup": "Deepseek R1 (ABBEL)",
         "line": {
          "color": "rgba(255,255,255,0)"
         },
         "showlegend": false,
         "type": "scatter",
         "x": [
          1,
          2,
          3,
          4,
          5,
          6,
          7,
          8,
          9,
          10,
          11,
          12,
          13,
          14,
          15,
          16,
          17,
          18,
          19,
          20,
          20,
          19,
          18,
          17,
          16,
          15,
          14,
          13,
          12,
          11,
          10,
          9,
          8,
          7,
          6,
          5,
          4,
          3,
          2,
          1
         ],
         "xaxis": "x9",
         "y": [
          1698.9470727198882,
          2327.211215998219,
          2066.8957417645693,
          2487.0149786210577,
          3141.275740205751,
          2176.2025166931244,
          2234.797864055604,
          2528.5951715103706,
          2207.0965540094194,
          2511.9417001801307,
          2501.11382858174,
          1975.5643367530206,
          2063.293384069915,
          2299.6014907449908,
          2715.415596770463,
          3269.879662795219,
          3319.132118683781,
          3119.1631199840504,
          3064.888387166181,
          2621.129937077132,
          1839.750062922868,
          1832.6671683893746,
          2277.408308587378,
          2189.2127089024257,
          2312.6364662370397,
          1862.7662214113554,
          1720.3396857255977,
          1636.0780445015134,
          1556.949948961265,
          1712.1083936404825,
          1984.5846156093426,
          1753.5188306059651,
          1981.1548284896294,
          1870.1021359443957,
          1683.8974833068755,
          2291.5242597942492,
          1832.1350213789417,
          1676.2542582354308,
          1777.9387840017807,
          1349.8029272801118
         ],
         "yaxis": "y9"
        },
        {
         "legendgroup": "Deepseek R1 (ABBEL)",
         "line": {
          "color": "#8B0000",
          "width": 2
         },
         "mode": "lines+markers",
         "name": "Deepseek R1 (ABBEL)",
         "showlegend": false,
         "type": "scatter",
         "x": {
          "bdata": "AQIDBAUGBwgJCgsMDQ4PEBESExQ=",
          "dtype": "i1"
         },
         "xaxis": "x9",
         "y": {
          "bdata": "AAAAAIDRl0BmZmZmJgmgQM3MzMxMPp1AZmZmZibfoEDNzMzMzDilQDMzMzMzKJ5AZmZmZuYIoEAAAAAAwJ2hQBQ7sRM78Z5AKK+hvIaQoUDkOI7jOHWgQFAHdVAHmZtALL7iK77mnEDi4eHh4WefQLrooosu4qFAEUIIIYTOpUCE5Z5GWISlQEmSJEmSFKVAOY7jOI4ho0B7FK5H4WyhQA==",
          "dtype": "f8"
         },
         "yaxis": "y9"
        },
        {
         "fill": "toself",
         "fillcolor": "rgba(255, 99, 71, 0.2)",
         "hoverinfo": "skip",
         "legendgroup": "Deepseek R1 (belief prompting)",
         "line": {
          "color": "rgba(255,255,255,0)"
         },
         "showlegend": false,
         "type": "scatter",
         "x": [
          1,
          2,
          3,
          4,
          5,
          6,
          7,
          8,
          9,
          10,
          11,
          12,
          13,
          14,
          15,
          16,
          17,
          18,
          19,
          20,
          20,
          19,
          18,
          17,
          16,
          15,
          14,
          13,
          12,
          11,
          10,
          9,
          8,
          7,
          6,
          5,
          4,
          3,
          2,
          1
         ],
         "xaxis": "x9",
         "y": [
          1573.6476028507757,
          2116.1577655752503,
          2261.6362250261614,
          2522.743683106068,
          2117.7788311388604,
          2596.1048898632016,
          2249.8101660316206,
          1733.3968248971146,
          2231.591640406676,
          2782.04082151011,
          3637.923457653056,
          4578.375273415025,
          4610.907174092386,
          4985.958659688056,
          5536.905246679736,
          5874.310876826238,
          5030.349955492771,
          7175.938969632327,
          6719.784872273355,
          10250.103562506785,
          7749.805528402308,
          4840.215127726645,
          4901.246215552857,
          3056.650044507229,
          4279.355789840428,
          3870.4697533202643,
          3463.071643342248,
          2995.15343196822,
          3258.48959144984,
          2230.076542346944,
          1992.0672865979984,
          1759.9346753827974,
          1444.4531751028853,
          1635.8398339683797,
          1897.795110136798,
          1443.3211688611395,
          1620.306316893932,
          1702.0137749738387,
          1608.64223442475,
          1150.9523971492242
         ],
         "yaxis": "y9"
        },
        {
         "legendgroup": "Deepseek R1 (belief prompting)",
         "line": {
          "color": "#FF6347",
          "width": 2
         },
         "mode": "lines+markers",
         "name": "Deepseek R1 (belief prompting)",
         "showlegend": false,
         "type": "scatter",
         "x": {
          "bdata": "AQIDBAUGBwgJCgsMDQ4PEBESExQ=",
          "dtype": "i1"
         },
         "xaxis": "x9",
         "y": {
          "bdata": "MzMzMzNJlUCamZmZmRmdQM3MzMxM955AzczMzAwvoEAzMzMzM9KbQGZmZmbmjaFAzczMzExbnkAzMzMzs9OYQFFeQ3kNL59AwhT5rBumokAAAAAAAOymQA6myGfdnK5APvjggw+2rUAQPvjgg4CwQAAAAACwX7JAVVVVVdXUs0AAAAAAAJevQAntJbSXlrdAAAAAAACUtkDpoosu+pPBQA==",
          "dtype": "f8"
         },
         "yaxis": "y9"
        },
        {
         "fill": "toself",
         "fillcolor": "rgba(144, 238, 144, 0.2)",
         "hoverinfo": "skip",
         "legendgroup": "Gemini 2.5 Pro",
         "line": {
          "color": "rgba(255,255,255,0)"
         },
         "showlegend": false,
         "type": "scatter",
         "x": [
          1,
          2,
          3,
          4,
          5,
          6,
          7,
          8,
          9,
          10,
          11,
          12,
          13,
          14,
          15,
          16,
          17,
          18,
          19,
          20,
          20,
          19,
          18,
          17,
          16,
          15,
          14,
          13,
          12,
          11,
          10,
          9,
          8,
          7,
          6,
          5,
          4,
          3,
          2,
          1
         ],
         "xaxis": "x9",
         "y": [
          1156.6203576952819,
          1329.7628655044668,
          1310.697791607593,
          1569.8001596107383,
          1592.7333590156304,
          1562.0017798267882,
          1692.3414929807418,
          1700.935233249539,
          1820.7693530633785,
          1991.5559411083432,
          2157.112911950004,
          2361.7110059787487,
          2210.869961329833,
          2361.464242923484,
          2791.6546133751935,
          3461.2458500236685,
          2850.244141154545,
          3178.5014297482303,
          3075.0648508095564,
          3802.1432915910627,
          3024.1724978826214,
          2514.8298860325485,
          2611.59857025177,
          2370.613001702598,
          2766.8450590672405,
          2261.705386624806,
          2022.535757076516,
          1857.259070928231,
          2074.511216243474,
          1850.9923512078901,
          1770.917743102183,
          1658.5464364103057,
          1546.6437141188824,
          1546.1585070192582,
          1446.7482201732118,
          1406.3666409843695,
          1433.2498403892619,
          1187.452208392407,
          1205.187134495533,
          1053.079642304718
         ],
         "yaxis": "y9"
        },
        {
         "legendgroup": "Gemini 2.5 Pro",
         "line": {
          "color": "#90EE90",
          "width": 2
         },
         "mode": "lines+markers",
         "name": "Gemini 2.5 Pro",
         "showlegend": false,
         "type": "scatter",
         "x": {
          "bdata": "AQIDBAUGBwgJCgsMDQ4PEBESExQ=",
          "dtype": "i1"
         },
         "xaxis": "x9",
         "y": {
          "bdata": "ZmZmZmZDkUBmZmZm5s2TQM3MzMxMhJNAmpmZmRl2l0AzMzMzM26XQAAAAACAgZdAAAAAAABNmUDzGsprKF+ZQMprKK+hLptAr6G8hvJknUBDeQ3lNVCfQOQ4juM4VKFACCGEEELIn0AAAAAAACChQI/C9ShcvaNAXXTRRRdUqEBu27Zt22SkQJqZmZkZnqZAXkN5DeXVpUDlNZTXUKqqQA==",
          "dtype": "f8"
         },
         "yaxis": "y9"
        },
        {
         "fill": "toself",
         "fillcolor": "rgba(0, 100, 0, 0.2)",
         "hoverinfo": "skip",
         "legendgroup": "Gemini 2.5 Pro (ABBEL)",
         "line": {
          "color": "rgba(255,255,255,0)"
         },
         "showlegend": false,
         "type": "scatter",
         "x": [
          1,
          2,
          3,
          4,
          5,
          6,
          7,
          8,
          9,
          10,
          11,
          12,
          13,
          14,
          15,
          16,
          17,
          18,
          19,
          20,
          20,
          19,
          18,
          17,
          16,
          15,
          14,
          13,
          12,
          11,
          10,
          9,
          8,
          7,
          6,
          5,
          4,
          3,
          2,
          1
         ],
         "xaxis": "x9",
         "y": [
          1231.1024358444595,
          1377.3403158774224,
          1402.6379008771494,
          1361.681790259806,
          1243.0857732562797,
          1460.332001381447,
          1564.3071105270099,
          1373.9487140634021,
          1318.314702820051,
          1451.8489370540765,
          1615.91075809209,
          1564.308012366214,
          1745.7606056357279,
          1761.5170527193254,
          1754.933961778607,
          1605.2536495633142,
          1712.603539268008,
          1711.979389011459,
          1719.4066183089453,
          1796.5539140316653,
          1523.746085968335,
          1404.6886197862927,
          1508.6872776552075,
          1527.1237334592645,
          1394.3985243497293,
          1502.566038221393,
          1476.6367934345208,
          1539.4245795494573,
          1382.0145682789475,
          1459.5085967466198,
          1329.1207599156205,
          1212.6297416243933,
          1252.27350815882,
          1383.5262228063236,
          1295.0364196711846,
          1123.7860216155152,
          1224.5746199966043,
          1276.0620991228504,
          1257.5596841225777,
          1119.0975641555403
         ],
         "yaxis": "y9"
        },
        {
         "legendgroup": "Gemini 2.5 Pro (ABBEL)",
         "line": {
          "color": "#006400",
          "width": 2
         },
         "mode": "lines+markers",
         "name": "Gemini 2.5 Pro (ABBEL)",
         "showlegend": false,
         "type": "scatter",
         "x": {
          "bdata": "AQIDBAUGBwgJCgsMDQ4PEBESExQ=",
          "dtype": "i1"
         },
         "xaxis": "x9",
         "y": {
          "bdata": "ZmZmZmZckkDNzMzMzJWUQGZmZmZm7ZRASIM0SIM0lEBcvuVbvn2SQGwor6G8hpVAq6qqqqoHl0DHcRzHcYSUQI7jOI7jxZNAwgcffPC5lUBba6211gaYQJVSSimlBJdAJrSX0F6qmUDFTuzETkyZQAAAAAAAc5lApze96U1vl0DRRRdddE+ZQFVVVVVVKZlAwzAMwzBomECamZmZmfCZQA==",
          "dtype": "f8"
         },
         "yaxis": "y9"
        },
        {
         "fill": "toself",
         "fillcolor": "rgba(50, 205, 50, 0.2)",
         "hoverinfo": "skip",
         "legendgroup": "Gemini 2.5 Pro (belief prompting)",
         "line": {
          "color": "rgba(255,255,255,0)"
         },
         "showlegend": false,
         "type": "scatter",
         "x": [
          1,
          2,
          3,
          4,
          5,
          6,
          7,
          8,
          9,
          10,
          11,
          12,
          13,
          14,
          15,
          16,
          17,
          18,
          19,
          20,
          20,
          19,
          18,
          17,
          16,
          15,
          14,
          13,
          12,
          11,
          10,
          9,
          8,
          7,
          6,
          5,
          4,
          3,
          2,
          1
         ],
         "xaxis": "x9",
         "y": [
          1059.3513943094183,
          1307.8580265192218,
          1322.0558988889068,
          1400.5262810396882,
          1316.8451725907614,
          1355.564613943205,
          1441.3622765925088,
          1496.320553792387,
          1490.514647199101,
          1528.1689214885505,
          1527.9147737655292,
          1681.2707385087049,
          1644.3698714304924,
          1839.5413104460006,
          1773.2587802262472,
          2002.650226620385,
          1922.7710917105578,
          1994.7215256469478,
          2013.3666894580992,
          2320.633087013217,
          1774.8214584413283,
          1485.9666438752342,
          1601.7400128145907,
          1685.6574797180137,
          1693.1144792619682,
          1441.6885881948053,
          1633.3586895539995,
          1405.0701285695077,
          1522.3959281579616,
          1393.1761353253798,
          1392.6546079232144,
          1322.8537738535306,
          1329.7307282588952,
          1314.0736208433887,
          1238.2302578516667,
          1228.7048274092388,
          1256.3237189603117,
          1195.9941011110934,
          1165.1419734807782,
          971.9986056905816
         ],
         "yaxis": "y9"
        },
        {
         "legendgroup": "Gemini 2.5 Pro (belief prompting)",
         "line": {
          "color": "#32CD32",
          "width": 2
         },
         "mode": "lines+markers",
         "name": "Gemini 2.5 Pro (belief prompting)",
         "showlegend": false,
         "type": "scatter",
         "x": {
          "bdata": "AQIDBAUGBwgJCgsMDQ4PEBESExQ=",
          "dtype": "i1"
         },
         "xaxis": "x9",
         "y": {
          "bdata": "ZmZmZma9j0AAAAAAAFKTQJqZmZkZrJNAMzMzM7PBlECamZmZGeOTQPmWb/mWQ5RALt/yLd+GlUBCGqRBGhSWQGwor6G8+pVApqWlpaXRlkC66KKLLtKWQFVVVVVVB5lAexSuR+HSl0DNzMzMzCGbQF5DeQ3lHZlAiIeHh4ffnEBu27Zt2zCcQE/sxE7sGJxAq6qqqqpWm0Cjiy666P6fQA==",
          "dtype": "f8"
         },
         "yaxis": "y9"
        },
        {
         "fill": "toself",
         "fillcolor": "rgba(139, 0, 0, 0.2)",
         "hoverinfo": "skip",
         "legendgroup": "Deepseek R1 (ABBEL)",
         "line": {
          "color": "rgba(255,255,255,0)"
         },
         "showlegend": false,
         "type": "scatter",
         "x": [
          1,
          2,
          3,
          4,
          5,
          6,
          7,
          8,
          9,
          10,
          11,
          12,
          13,
          14,
          15,
          16,
          17,
          18,
          19,
          20,
          20,
          19,
          18,
          17,
          16,
          15,
          14,
          13,
          12,
          11,
          10,
          9,
          8,
          7,
          6,
          5,
          4,
          3,
          2,
          1
         ],
         "xaxis": "x4",
         "y": [
          1814.9299266519367,
          2424.658901980296,
          2357.0861406045856,
          3710.0731195570056,
          2856.2384367164277,
          3446.8594766283504,
          2997.620676786991,
          3997.8887875904093,
          4280.359625313465,
          4471.487028548558,
          5944.324802840351,
          3868.9183167267247,
          3213.943280471787,
          5283.939770662145,
          7138.7810876499625,
          5349.148479543852,
          4450.7333064484565,
          4266.28210729706,
          4165.616992266548,
          4804.6366863262465,
          2975.3633136737535,
          2954.1607855112297,
          2951.9401149251626,
          3248.155582440432,
          3694.4070760117033,
          4686.44113457226,
          3110.282451560078,
          2482.793561633476,
          2636.239578010118,
          3996.7278287385952,
          3280.5129714514424,
          3121.4403746865355,
          2707.6112124095907,
          2178.312656546342,
          2633.3071900383165,
          2314.9507524727615,
          2734.7268804429946,
          1978.5638593954143,
          1963.891098019704,
          1606.7200733480634
         ],
         "yaxis": "y4"
        },
        {
         "legendgroup": "Deepseek R1 (ABBEL)",
         "line": {
          "color": "#8B0000",
          "width": 2
         },
         "mode": "lines+markers",
         "name": "Deepseek R1 (ABBEL)",
         "showlegend": false,
         "type": "scatter",
         "x": {
          "bdata": "AQIDBAUGBwgJCgsMDQ4PEBESExQ=",
          "dtype": "i1"
         },
         "xaxis": "x4",
         "y": {
          "bdata": "zczMzEy7mkDNzMzMjCShQGZmZmam76BAzczMzMwsqUBT5LNuMDOkQKuqqqoqwKdA7+7u7u43pEAAAAAAgDGqQM3MzMzM6axAAAAAAABIrkAor6G8hmqzQPMaymsoaalAbCivobxApkByHMdxHGWwQHIcx3GcGLdAHMdxHMepsUCO4ziO4xKuQOQ4juM4MqxAHMdxHMfPq0AAAAAAAGSuQA==",
          "dtype": "f8"
         },
         "yaxis": "y4"
        },
        {
         "fill": "toself",
         "fillcolor": "rgba(255, 99, 71, 0.2)",
         "hoverinfo": "skip",
         "legendgroup": "Deepseek R1 (belief prompting)",
         "line": {
          "color": "rgba(255,255,255,0)"
         },
         "showlegend": false,
         "type": "scatter",
         "x": [
          1,
          2,
          3,
          4,
          5,
          6,
          7,
          8,
          9,
          10,
          11,
          12,
          13,
          14,
          15,
          16,
          17,
          18,
          19,
          20,
          20,
          19,
          18,
          17,
          16,
          15,
          14,
          13,
          12,
          11,
          10,
          9,
          8,
          7,
          6,
          5,
          4,
          3,
          2,
          1
         ],
         "xaxis": "x4",
         "y": [
          1962.5515910275856,
          2089.9303958988953,
          2771.3351125239383,
          2904.3223684072764,
          3068.4852825123194,
          3769.698979800534,
          3738.652903288551,
          4810.664086081386,
          5114.350314365667,
          5110.4211785742,
          3390.7349820788877,
          2553.539836452739,
          4662.922842657035,
          4120.574211932257,
          4766.049719042745,
          3365.3579856071324,
          3635.429064954447,
          5679.032877473099,
          4230.741025278157,
          4201.779881157004,
          2885.1674872640488,
          2877.5747641955263,
          3793.3881751584795,
          2638.149882413974,
          2546.2209617612884,
          3371.850280957255,
          2983.925788067743,
          3295.8044300702377,
          1965.543496880594,
          2386.5150179211123,
          3553.412154759134,
          3840.1112240958714,
          3448.4897600724603,
          2623.0613824257343,
          2965.4044684753285,
          2454.6662326391956,
          2340.395580310672,
          2351.714887476062,
          1817.8196041011047,
          1583.0984089724145
         ],
         "yaxis": "y4"
        },
        {
         "legendgroup": "Deepseek R1 (belief prompting)",
         "line": {
          "color": "#FF6347",
          "width": 2
         },
         "mode": "lines+markers",
         "name": "Deepseek R1 (belief prompting)",
         "showlegend": false,
         "type": "scatter",
         "x": {
          "bdata": "AQIDBAUGBwgJCgsMDQ4PEBESExQ=",
          "dtype": "i1"
         },
         "xaxis": "x4",
         "y": {
          "bdata": "zczMzEyzm0AAAAAAgIeeQM3MzMwMA6RAy7d8y7d8pECbbLLJJpOlQKgRlnsaT6pA27Zt27bZqECxEzuxkyGwQBQ7sRM7fbFAq6qqqurrsEAAAAAAQJGmQFVVVVUVp6FA6aKLLroWr0AAAAAAgMCrQGZmZmbmya9AeQ3lNZQXp0B5DeU1lIGoQEN5DeU1gLJA5TWU11DEq0CvobyG8q6rQA==",
          "dtype": "f8"
         },
         "yaxis": "y4"
        },
        {
         "fill": "toself",
         "fillcolor": "rgba(0, 100, 0, 0.2)",
         "hoverinfo": "skip",
         "legendgroup": "Gemini 2.5 Pro (ABBEL)",
         "line": {
          "color": "rgba(255,255,255,0)"
         },
         "showlegend": false,
         "type": "scatter",
         "x": [
          1,
          2,
          3,
          4,
          5,
          6,
          7,
          8,
          9,
          10,
          11,
          12,
          13,
          14,
          15,
          16,
          17,
          18,
          19,
          20,
          20,
          19,
          18,
          17,
          16,
          15,
          14,
          13,
          12,
          11,
          10,
          9,
          8,
          7,
          6,
          5,
          4,
          3,
          2,
          1
         ],
         "xaxis": "x4",
         "y": [
          1491.4281402713223,
          1731.430377538462,
          1917.7891911731372,
          1969.2857578072862,
          1945.4451029960658,
          1900.7918971275813,
          2150.066094281067,
          1974.8532222371828,
          2337.4000201129556,
          2471.193517796933,
          2456.6317063607526,
          2639.806175473625,
          2754.061501636129,
          2968.217389644765,
          2071.0437164128434,
          2939.0893287194517,
          2256.759915717063,
          2875.75849202807,
          3721.501589109661,
          3045.393689705789,
          2051.106310294211,
          2844.998410890339,
          2333.574841305263,
          1839.4067509496037,
          2187.526055895933,
          1840.2419978728708,
          2436.657610355235,
          2153.585557187401,
          2293.4160467485976,
          2128.812738083692,
          2190.106482203067,
          2070.5090707961353,
          1777.6267777628173,
          1861.2910485760756,
          1706.8652457295616,
          1777.8706864776184,
          1829.4321909106625,
          1795.0608088268627,
          1623.6196224615383,
          1376.371859728678
         ],
         "yaxis": "y4"
        },
        {
         "legendgroup": "Gemini 2.5 Pro (ABBEL)",
         "line": {
          "color": "#006400",
          "width": 2
         },
         "mode": "lines+markers",
         "name": "Gemini 2.5 Pro (ABBEL)",
         "showlegend": false,
         "type": "scatter",
         "x": {
          "bdata": "AQIDBAUGBwgJCgsMDQ4PEBESExQ=",
          "dtype": "i1"
         },
         "xaxis": "x4",
         "y": {
          "bdata": "mpmZmZlnlkCamZmZGTaaQDMzMzOzAZ1Al2/5lm+tnUDKayivoRadQHVQB3VQL5xA27Zt27ZWn0ApXI/C9VCdQKOLLrroN6FAzczMzEw1okDHcRzHcemhQOQ4juM4RaNApqWlpaUro0AAAAAA4BylQEmSJEmSjp5Aip3YiZ0GpECrqqqqKgCgQFVVVVVVWaRAAAAAAICmqUAAAAAAgOijQA==",
          "dtype": "f8"
         },
         "yaxis": "y4"
        },
        {
         "fill": "toself",
         "fillcolor": "rgba(50, 205, 50, 0.2)",
         "hoverinfo": "skip",
         "legendgroup": "Gemini 2.5 Pro (belief prompting)",
         "line": {
          "color": "rgba(255,255,255,0)"
         },
         "showlegend": false,
         "type": "scatter",
         "x": [
          1,
          2,
          3,
          4,
          5,
          6,
          7,
          8,
          9,
          10,
          11,
          12,
          13,
          14,
          15,
          16,
          17,
          18,
          19,
          20,
          20,
          19,
          18,
          17,
          16,
          15,
          14,
          13,
          12,
          11,
          10,
          9,
          8,
          7,
          6,
          5,
          4,
          3,
          2,
          1
         ],
         "xaxis": "x4",
         "y": [
          1485.6122460988738,
          1653.4760238825022,
          1777.0336407324191,
          1920.7632969980816,
          1732.191509175481,
          1902.4986312878689,
          2365.482965676986,
          2287.9029524548937,
          2515.155208725192,
          2668.308505111257,
          2689.266144555754,
          2727.9030244313385,
          3006.323469374868,
          3084.621276393483,
          2636.9804938856378,
          2920.634756490845,
          3180.1396371335663,
          3676.047505813023,
          2901.4566224999116,
          2065.5861612590666,
          1736.747172074267,
          2286.0433775000884,
          2897.7858275203102,
          2589.091132097203,
          2461.9806281245396,
          2276.448077542934,
          2649.7787236065165,
          2494.609863958465,
          2306.0969755686615,
          2209.4397377971873,
          2204.5803837776316,
          2178.644791274808,
          2003.5137142117733,
          2061.4799972859764,
          1697.7513687121311,
          1603.9196019356302,
          1779.0788082650763,
          1660.116359267581,
          1559.923976117498,
          1388.237753901126
         ],
         "yaxis": "y4"
        },
        {
         "legendgroup": "Gemini 2.5 Pro (belief prompting)",
         "line": {
          "color": "#32CD32",
          "width": 2
         },
         "mode": "lines+markers",
         "name": "Gemini 2.5 Pro (belief prompting)",
         "showlegend": false,
         "type": "scatter",
         "x": {
          "bdata": "AQIDBAUGBwgJCgsMDQ4PEBESExQ=",
          "dtype": "i1"
         },
         "xaxis": "x4",
         "y": {
          "bdata": "MzMzM7NzlkDNzMzMzBqZQM3MzMxM2ppAG8prKK/nnEDkOI7jOBCaQAAAAACAIJxAL6G9hPZKoUCrqqqqasOgQM3MzMzMVaJAjuM4juMIo0C1tLS0tCKjQAAAAAAAqqNA7+7u7u58pUBmZmZmZmamQLdt27ZtMaNAip3YiZ0GpUAUO7ETO4mmQFVVVVXVralAAAAAAIBDpECrqqqqqrSdQA==",
          "dtype": "f8"
         },
         "yaxis": "y4"
        },
        {
         "fill": "toself",
         "fillcolor": "rgba(255, 182, 193, 0.2)",
         "hoverinfo": "skip",
         "legendgroup": "Deepseek R1",
         "line": {
          "color": "rgba(255,255,255,0)"
         },
         "showlegend": false,
         "type": "scatter",
         "x": [
          1,
          2,
          3,
          4,
          5,
          6,
          7,
          8,
          9,
          10,
          11,
          12,
          13,
          14,
          15,
          16,
          17,
          18,
          19,
          20,
          20,
          19,
          18,
          17,
          16,
          15,
          14,
          13,
          12,
          11,
          10,
          9,
          8,
          7,
          6,
          5,
          4,
          3,
          2,
          1
         ],
         "xaxis": "x10",
         "y": [
          1802.2800170752892,
          1940.5841135615512,
          3658.3721331071956,
          4113.821241442027,
          2963.214189350968,
          3943.989389100409,
          5110.345441363868,
          5071.318709289481,
          3026.3510031971864,
          3759.226001805073,
          3301.29144355098,
          4886.84470090729,
          2756.8889060721262,
          4904.286374961593,
          3879.1171228247767,
          5565.4427672513775,
          5169.3941153082715,
          4445.215700387437,
          3469.4214083006495,
          5289.395970831187,
          3861.4611720259563,
          2502.7214488422073,
          3070.6509662792296,
          3429.9392180250625,
          3214.157232748623,
          2794.74954384189,
          3139.446958371741,
          2182.1110939278738,
          2739.1552990927103,
          2327.08355644902,
          2544.8851093060384,
          1803.548996802813,
          3118.5903816196096,
          2953.5676021143922,
          2939.427277566258,
          2210.652477315699,
          2806.6359014151158,
          2630.31207741912,
          1376.0158864384487,
          1291.119982924711
         ],
         "yaxis": "y10"
        },
        {
         "legendgroup": "Deepseek R1",
         "line": {
          "color": "#FFB6C1",
          "width": 2
         },
         "mode": "lines+markers",
         "name": "Deepseek R1",
         "showlegend": false,
         "type": "scatter",
         "x": {
          "bdata": "AQIDBAUGBwgJCgsMDQ4PEBESExQ=",
          "dtype": "i1"
         },
         "xaxis": "x10",
         "y": {
          "bdata": "zczMzMwqmEAzMzMzM+mZQBvKayivkKhAB3VQB3UIq0De3d3d3TWkQKuqqqpq46pA9aY3vel/r0Cjiy666P2vQGZmZmbm3aJAchzHcRygqEAAAAAAYPylQAAAAAAAyq1AAAAAAABLo0C8u7u7u2uvQN7d3d3dEapAzczMzMwlsUCrqqqqqsuwQN7d3d3dW61AkiRJkiRUp0C3bdu2bd+xQA==",
          "dtype": "f8"
         },
         "yaxis": "y10"
        },
        {
         "fill": "toself",
         "fillcolor": "rgba(139, 0, 0, 0.2)",
         "hoverinfo": "skip",
         "legendgroup": "Deepseek R1 (ABBEL)",
         "line": {
          "color": "rgba(255,255,255,0)"
         },
         "showlegend": false,
         "type": "scatter",
         "x": [
          1,
          2,
          3,
          4,
          5,
          6,
          7,
          8,
          9,
          10,
          11,
          12,
          13,
          14,
          15,
          16,
          17,
          18,
          19,
          20,
          20,
          19,
          18,
          17,
          16,
          15,
          14,
          13,
          12,
          11,
          10,
          9,
          8,
          7,
          6,
          5,
          4,
          3,
          2,
          1
         ],
         "xaxis": "x10",
         "y": [
          1249.126418938756,
          2734.1724676787762,
          2434.089660391507,
          2087.9659285014554,
          1800.764886973193,
          1494.4267778218257,
          2408.5878759756715,
          1505.0225332430323,
          3136.657555429236,
          2850.981761416526,
          2611.448897760381,
          3499.7353740901635,
          2244.0370557961865,
          2069.3699885598785,
          2242.8914327460825,
          2727.399238474609,
          2361.586595872675,
          2385.456007863442,
          2436.229127519494,
          2604.0583994801673,
          1424.4971560753881,
          1616.4375391471726,
          1645.8773254698915,
          1616.3022930162138,
          1988.6007615253911,
          1631.1085672539177,
          1283.4077892178993,
          1485.857681045919,
          1584.2646259098365,
          1752.3405759238299,
          1563.9656070045266,
          1791.2424445707638,
          1215.8941334236342,
          1662.7454573576622,
          1292.9065555115078,
          1425.6134914051854,
          1602.9340714985447,
          1975.160339608493,
          2015.8275323212238,
          975.0735810612439
         ],
         "yaxis": "y10"
        },
        {
         "legendgroup": "Deepseek R1 (ABBEL)",
         "line": {
          "color": "#8B0000",
          "width": 2
         },
         "mode": "lines+markers",
         "name": "Deepseek R1 (ABBEL)",
         "showlegend": false,
         "type": "scatter",
         "x": {
          "bdata": "AQIDBAUGBwgJCgsMDQ4PEBESExQ=",
          "dtype": "i1"
         },
         "xaxis": "x10",
         "y": {
          "bdata": "ZmZmZmZgkUAAAAAAAI6iQAAAAABAOaFAzczMzMzVnEBMkc+6wTSZQKuqqqqqxpVAq6qqqqrOn0BVVVVV1UGVQGZmZmbmP6NAr6G8hvI+oUC9hvIayguhQAAAAAAA3KNAvYbyGsojnUA5juM4jjGaQAAAAAAARJ5AAAAAAABsokAcx3EcxxOfQKuqqqqqfp9AVVVVVVWpn0ByHMdxHHmfQA==",
          "dtype": "f8"
         },
         "yaxis": "y10"
        },
        {
         "fill": "toself",
         "fillcolor": "rgba(255, 99, 71, 0.2)",
         "hoverinfo": "skip",
         "legendgroup": "Deepseek R1 (belief prompting)",
         "line": {
          "color": "rgba(255,255,255,0)"
         },
         "showlegend": false,
         "type": "scatter",
         "x": [
          1,
          2,
          3,
          4,
          5,
          6,
          7,
          8,
          9,
          10,
          11,
          12,
          13,
          14,
          15,
          16,
          17,
          18,
          19,
          20,
          20,
          19,
          18,
          17,
          16,
          15,
          14,
          13,
          12,
          11,
          10,
          9,
          8,
          7,
          6,
          5,
          4,
          3,
          2,
          1
         ],
         "xaxis": "x10",
         "y": [
          889.0816881354143,
          1462.3684566264048,
          1948.4061244658526,
          2119.924031527138,
          1824.1471145222936,
          2768.069018099485,
          2425.1569563947105,
          2435.3309887922524,
          5354.417016171443,
          5368.073208911031,
          6964.0561482400735,
          7649.388355636796,
          4661.414930773264,
          4270.671077875559,
          5462.104494434788,
          4987.539885854649,
          4882.571379287397,
          4156.739396305939,
          4987.21081235529,
          7334.816046266544,
          4983.499743207141,
          2958.894450802605,
          2707.5763931677448,
          3071.218094396814,
          3482.1443246716667,
          3715.4955055652126,
          2719.328922124441,
          2897.403251044918,
          4795.9449776965375,
          4332.4438517599265,
          3020.0934577556354,
          3463.890676136249,
          1499.8997804385167,
          1719.1287578910044,
          1766.620637072929,
          1358.337733962555,
          1545.306737703631,
          1514.2438755341475,
          1158.081543373595,
          739.9183118645857
         ],
         "yaxis": "y10"
        },
        {
         "legendgroup": "Deepseek R1 (belief prompting)",
         "line": {
          "color": "#FF6347",
          "width": 2
         },
         "mode": "lines+markers",
         "name": "Deepseek R1 (belief prompting)",
         "showlegend": false,
         "type": "scatter",
         "x": {
          "bdata": "AQIDBAUGBwgJCgsMDQ4PEBESExQ=",
          "dtype": "i1"
         },
         "xaxis": "x10",
         "y": {
          "bdata": "AAAAAAB0iUBmZmZm5niUQM3MzMxMDZtAJ3ZiJ3ainEDhgw8++NyYQAnLPY2wtqFAJUmSJEkwoEAndmIndr6eQGIndmInObFAVVVVVRVisEAAAAAAQBC2QKuqqqqqTrhARhdddNGGrUAAAAAAAE6rQM3MzMzM7LFADeU1lNeKsEC9hvIayhGvQOU1lNdQ0KpAoryG8hoKr0DzGsprKA+4QA==",
          "dtype": "f8"
         },
         "yaxis": "y10"
        },
        {
         "fill": "toself",
         "fillcolor": "rgba(144, 238, 144, 0.2)",
         "hoverinfo": "skip",
         "legendgroup": "Gemini 2.5 Pro",
         "line": {
          "color": "rgba(255,255,255,0)"
         },
         "showlegend": false,
         "type": "scatter",
         "x": [
          1,
          2,
          3,
          4,
          5,
          6,
          7,
          8,
          9,
          10,
          11,
          12,
          13,
          14,
          15,
          16,
          17,
          18,
          19,
          20,
          20,
          19,
          18,
          17,
          16,
          15,
          14,
          13,
          12,
          11,
          10,
          9,
          8,
          7,
          6,
          5,
          4,
          3,
          2,
          1
         ],
         "xaxis": "x10",
         "y": [
          2017.8498292356744,
          1526.3575982568648,
          1705.6838804491808,
          1712.1218898555358,
          1788.9057711557432,
          1906.060214483187,
          1790.412081717237,
          2125.4926688858795,
          2124.763162192044,
          2297.5800808013455,
          2414.3986088075726,
          2224.234539128847,
          2707.638884884798,
          2379.2417178103906,
          2939.135442013495,
          3152.385903052069,
          3381.732730564996,
          3958.742862779154,
          4614.702453914373,
          3610.753490946213,
          2889.496509053787,
          3417.5197683078495,
          2735.70158166529,
          2099.3783805461153,
          2440.70500603884,
          2031.1978913198382,
          1952.8832821896094,
          2271.5190098520447,
          1950.2200063256983,
          2027.681391192427,
          2056.6599191986543,
          1926.0939806650986,
          1917.1524924044427,
          1641.5338642287088,
          1700.86286243989,
          1656.3442288442568,
          1547.7281101444642,
          1602.266119550819,
          1436.4424017431354,
          1872.2001707643258
         ],
         "yaxis": "y10"
        },
        {
         "legendgroup": "Gemini 2.5 Pro",
         "line": {
          "color": "#90EE90",
          "width": 2
         },
         "mode": "lines+markers",
         "name": "Gemini 2.5 Pro",
         "showlegend": false,
         "type": "scatter",
         "x": {
          "bdata": "AQIDBAUGBwgJCgsMDQ4PEBESExQ=",
          "dtype": "i1"
         },
         "xaxis": "x10",
         "y": {
          "bdata": "mpmZmRlknkCamZmZmSWXQGZmZmbm15lAMzMzM7N3mUAAAAAAgOqaQJ7YiZ3YLZxAPusGU+TPmkAppZRSSpWfQNu2bdu2pZ9ACtejcD0CoUCuR+F6FFqhQNFFF110TqBA8xrKayhzo0AAAAAAIOygQFVVVVVVaqNAXXTRRRfZpUByHMdxHGmlQMdxHMdxJqpA5DiO4zhgr0AAAAAAQGSpQA==",
          "dtype": "f8"
         },
         "yaxis": "y10"
        },
        {
         "fill": "toself",
         "fillcolor": "rgba(0, 100, 0, 0.2)",
         "hoverinfo": "skip",
         "legendgroup": "Gemini 2.5 Pro (ABBEL)",
         "line": {
          "color": "rgba(255,255,255,0)"
         },
         "showlegend": false,
         "type": "scatter",
         "x": [
          1,
          2,
          3,
          4,
          5,
          6,
          7,
          8,
          9,
          10,
          11,
          12,
          13,
          14,
          15,
          16,
          17,
          18,
          19,
          20,
          20,
          19,
          18,
          17,
          16,
          15,
          14,
          13,
          12,
          11,
          10,
          9,
          8,
          7,
          6,
          5,
          4,
          3,
          2,
          1
         ],
         "xaxis": "x10",
         "y": [
          1676.4132150801302,
          1687.7801238479856,
          1611.0613878110491,
          1463.4047147419308,
          1310.7523921280685,
          1398.4298099281807,
          1276.9291054498694,
          1474.503218210948,
          1611.8326858208018,
          1635.0223862776768,
          1667.1530845422833,
          1685.8092675714406,
          1438.087730170295,
          1848.1186608987787,
          1930.061359111478,
          1567.4599733920281,
          1899.2717810921454,
          2262.4758962743663,
          2384.8248487032206,
          2635.780502045489,
          1492.969497954511,
          1822.4251512967792,
          1590.6352148367448,
          1500.3948855745211,
          1324.2323343002795,
          1578.0814980313794,
          1400.5063391012213,
          1279.6769757120583,
          1477.4129546507816,
          1356.1802487910502,
          1419.8776137223233,
          1458.6218596337437,
          1289.0967817890519,
          1177.142323121559,
          1273.9701900718194,
          1191.9318183982473,
          1359.313233976018,
          1471.8886121889507,
          1560.3698761520145,
          1534.8367849198698
         ],
         "yaxis": "y10"
        },
        {
         "legendgroup": "Gemini 2.5 Pro (ABBEL)",
         "line": {
          "color": "#006400",
          "width": 2
         },
         "mode": "lines+markers",
         "name": "Gemini 2.5 Pro (ABBEL)",
         "showlegend": false,
         "type": "scatter",
         "x": {
          "bdata": "AQIDBAUGBwgJCgsMDQ4PEBESExQ=",
          "dtype": "i1"
         },
         "xaxis": "x10",
         "y": {
          "bdata": "AAAAAIAWmUDNzMzMTGCZQGZmZmbmFZhAl2/5lm8NlkA2lNdQXo2TQM3MzMzM4JRAkiRJkiQsk0AzMzMzM5eVQKOLLrro/JdAzczMzMzdl0Crqqqqqp6XQMdxHMdxtphAiIeHh4c7lUAAAAAAQGGZQCVJkiRJaJtAdmIndmKXlkBVVVVVVY+aQOQ4juM4Gp5AAAAAAEBvoEAAAAAAwCCgQA==",
          "dtype": "f8"
         },
         "yaxis": "y10"
        },
        {
         "fill": "toself",
         "fillcolor": "rgba(50, 205, 50, 0.2)",
         "hoverinfo": "skip",
         "legendgroup": "Gemini 2.5 Pro (belief prompting)",
         "line": {
          "color": "rgba(255,255,255,0)"
         },
         "showlegend": false,
         "type": "scatter",
         "x": [
          1,
          2,
          3,
          4,
          5,
          6,
          7,
          8,
          9,
          10,
          11,
          12,
          13,
          14,
          15,
          16,
          17,
          18,
          19,
          20,
          20,
          19,
          18,
          17,
          16,
          15,
          14,
          13,
          12,
          11,
          10,
          9,
          8,
          7,
          6,
          5,
          4,
          3,
          2,
          1
         ],
         "xaxis": "x10",
         "y": [
          1591.6693966621624,
          1661.1244931312647,
          1639.8424356071089,
          1572.854288287902,
          1536.9905183415476,
          1588.0675670773467,
          1732.0889480223268,
          1849.0749184151584,
          1800.675855974583,
          1780.6851606039347,
          1672.9749528010702,
          1932.0017440812037,
          1894.4420752291558,
          1945.1007419422895,
          2148.351221388395,
          2314.313483773926,
          1934.9427804794705,
          2510.9027739274866,
          2037.2696566809009,
          2758.9194239120657,
          2170.2472427546013,
          1460.3970099857656,
          1859.5972260725134,
          1691.6726041359143,
          1947.6865162260742,
          1810.9344928973194,
          1619.6992580577107,
          1648.4912581041776,
          1691.7315892521294,
          1472.789753081283,
          1614.092617173843,
          1630.624144025417,
          1648.008414918175,
          1558.429570496192,
          1445.3699329226533,
          1401.065037214008,
          1470.6720275015718,
          1509.007564392891,
          1538.9255068687355,
          1480.6806033378375
         ],
         "yaxis": "y10"
        },
        {
         "legendgroup": "Gemini 2.5 Pro (belief prompting)",
         "line": {
          "color": "#32CD32",
          "width": 2
         },
         "mode": "lines+markers",
         "name": "Gemini 2.5 Pro (belief prompting)",
         "showlegend": false,
         "type": "scatter",
         "x": {
          "bdata": "AQIDBAUGBwgJCgsMDQ4PEBESExQ=",
          "dtype": "i1"
         },
         "xaxis": "x10",
         "y": {
          "bdata": "MzMzM7MAmECamZmZGQCZQDMzMzOzmZhAUV5DeQ3Hl0ByHMdxHPSWQAAAAADgspdA0V5Cewm1mUCrqqqqKlKbQJqZmZmZzppAOY7jOI6FmkCIh4eHh5OYQHd3d3d3T5xA3t3d3d2tm0CamZmZmdmbQEmSJEmS7p5AAAAAAACmoEAUO7ETO1WcQAAAAACAEqFAVVVVVVVTm0CrqqqqKkGjQA==",
          "dtype": "f8"
         },
         "yaxis": "y10"
        },
        {
         "fill": "toself",
         "fillcolor": "rgba(139, 0, 0, 0.2)",
         "hoverinfo": "skip",
         "legendgroup": "Deepseek R1 (ABBEL)",
         "line": {
          "color": "rgba(255,255,255,0)"
         },
         "showlegend": false,
         "type": "scatter",
         "x": [
          1,
          2,
          3,
          4,
          5,
          6,
          6,
          5,
          4,
          3,
          2,
          1
         ],
         "xaxis": "x5",
         "y": [
          4036.0206846744672,
          9007.389585807281,
          8201.396936287163,
          5485.854599459487,
          6867.483687739882,
          3835.329387364726,
          1936.6706126352742,
          4687.391312260118,
          4316.28825768337,
          6047.392537397047,
          6907.110414192719,
          3073.1293153255324
         ],
         "yaxis": "y5"
        },
        {
         "legendgroup": "Deepseek R1 (ABBEL)",
         "line": {
          "color": "#8B0000",
          "width": 2
         },
         "mode": "lines+markers",
         "name": "Deepseek R1 (ABBEL)",
         "showlegend": false,
         "type": "scatter",
         "x": {
          "bdata": "AQIDBAUG",
          "dtype": "i1"
         },
         "xaxis": "x5",
         "y": {
          "bdata": "ZmZmZibFq0AAAAAAQBW/QF5DeQ1l1LtASZIkSRIls0AAAAAAcJG2QAAAAAAAjKZA",
          "dtype": "f8"
         },
         "yaxis": "y5"
        },
        {
         "fill": "toself",
         "fillcolor": "rgba(255, 99, 71, 0.2)",
         "hoverinfo": "skip",
         "legendgroup": "Deepseek R1 (belief prompting)",
         "line": {
          "color": "rgba(255,255,255,0)"
         },
         "showlegend": false,
         "type": "scatter",
         "x": [
          1,
          2,
          3,
          4,
          5,
          6,
          6,
          5,
          4,
          3,
          2,
          1
         ],
         "xaxis": "x5",
         "y": [
          3252.6342455225804,
          7946.576301886021,
          8992.57298065112,
          9014.09867132845,
          8019.747910169771,
          18589.74015225796,
          10561.259847742042,
          5453.752089830229,
          6399.044185814408,
          7361.0585982962475,
          6425.27369811398,
          2493.91575447742
         ],
         "yaxis": "y5"
        },
        {
         "legendgroup": "Deepseek R1 (belief prompting)",
         "line": {
          "color": "#FF6347",
          "width": 2
         },
         "mode": "lines+markers",
         "name": "Deepseek R1 (belief prompting)",
         "showlegend": false,
         "type": "scatter",
         "x": {
          "bdata": "AQIDBAUG",
          "dtype": "i1"
         },
         "xaxis": "x5",
         "y": {
          "bdata": "zczMzIxypkDNzMzM7BG8QOU1lNfQ8L9ASZIkSZIavkAAAAAAwFC6QAAAAADAd8xA",
          "dtype": "f8"
         },
         "yaxis": "y5"
        },
        {
         "fill": "toself",
         "fillcolor": "rgba(0, 100, 0, 0.2)",
         "hoverinfo": "skip",
         "legendgroup": "Gemini 2.5 Pro (ABBEL)",
         "line": {
          "color": "rgba(255,255,255,0)"
         },
         "showlegend": false,
         "type": "scatter",
         "x": [
          1,
          2,
          3,
          4,
          5,
          6,
          6,
          5,
          4,
          3,
          2,
          1
         ],
         "xaxis": "x5",
         "y": [
          2161.039681716031,
          2042.074762394055,
          2071.0077357027844,
          2349.9684150384765,
          2555.4014029630052,
          1803.776631949449,
          1295.223368050551,
          1719.0747875131856,
          1785.4065849615233,
          1674.729106402479,
          1674.425237605945,
          1916.9103182839692
         ],
         "yaxis": "y5"
        },
        {
         "legendgroup": "Gemini 2.5 Pro (ABBEL)",
         "line": {
          "color": "#006400",
          "width": 2
         },
         "mode": "lines+markers",
         "name": "Gemini 2.5 Pro (ABBEL)",
         "showlegend": false,
         "type": "scatter",
         "x": {
          "bdata": "AQIDBAUG",
          "dtype": "i1"
         },
         "xaxis": "x5",
         "y": {
          "bdata": "ZmZmZubbn0AAAAAAAAmdQNhQXkN5Q51AAAAAAGAnoEDoeZ7nebKgQAAAAAAANphA",
          "dtype": "f8"
         },
         "yaxis": "y5"
        },
        {
         "fill": "toself",
         "fillcolor": "rgba(50, 205, 50, 0.2)",
         "hoverinfo": "skip",
         "legendgroup": "Gemini 2.5 Pro (belief prompting)",
         "line": {
          "color": "rgba(255,255,255,0)"
         },
         "showlegend": false,
         "type": "scatter",
         "x": [
          1,
          2,
          3,
          4,
          5,
          6,
          6,
          5,
          4,
          3,
          2,
          1
         ],
         "xaxis": "x5",
         "y": [
          2108.74733063208,
          1766.070377015687,
          2176.591492837484,
          1592.4772346517177,
          1928.3226206371858,
          3091.0295728827596,
          1465.6370937839074,
          1369.0891440686967,
          1322.0941939197107,
          1863.1085071625157,
          1512.3296229843131,
          1875.4526693679202
         ],
         "yaxis": "y5"
        },
        {
         "legendgroup": "Gemini 2.5 Pro (belief prompting)",
         "line": {
          "color": "#32CD32",
          "width": 2
         },
         "mode": "lines+markers",
         "name": "Gemini 2.5 Pro (belief prompting)",
         "showlegend": false,
         "type": "scatter",
         "x": {
          "bdata": "AQIDBAUG",
          "dtype": "i1"
         },
         "xaxis": "x5",
         "y": {
          "bdata": "ZmZmZmYgn0DNzMzMzJyZQGZmZmZmj59AkiRJkiTFlkDT0tLS0sKZQKuqqqqqzKFA",
          "dtype": "f8"
         },
         "yaxis": "y5"
        },
        {
         "fill": "toself",
         "fillcolor": "rgba(255, 182, 193, 0.2)",
         "hoverinfo": "skip",
         "legendgroup": "Deepseek R1",
         "line": {
          "color": "rgba(255,255,255,0)"
         },
         "showlegend": false,
         "type": "scatter",
         "x": [
          1,
          2,
          3,
          4,
          5,
          6,
          6,
          5,
          4,
          3,
          2,
          1
         ],
         "xaxis": "x11",
         "y": [
          6477.612335397969,
          10498.143446685808,
          15350.676868609971,
          17069.99787303484,
          14032.267306382837,
          21114.804579125226,
          11881.595420874775,
          9397.732693617163,
          14177.292449545803,
          13775.428394547922,
          8516.856553314192,
          5533.53766460203
         ],
         "yaxis": "y11"
        },
        {
         "legendgroup": "Deepseek R1",
         "line": {
          "color": "#FFB6C1",
          "width": 2
         },
         "mode": "lines+markers",
         "name": "Deepseek R1",
         "showlegend": false,
         "type": "scatter",
         "x": {
          "bdata": "AQIDBAUG",
          "dtype": "i1"
         },
         "xaxis": "x11",
         "y": {
          "bdata": "MzMzM5N1t0AAAAAAwJHCQCivobyGccxASimllNKDzkAAAAAAgOHGQM3MzMyMHNBA",
          "dtype": "f8"
         },
         "yaxis": "y11"
        },
        {
         "fill": "toself",
         "fillcolor": "rgba(139, 0, 0, 0.2)",
         "hoverinfo": "skip",
         "legendgroup": "Deepseek R1 (ABBEL)",
         "line": {
          "color": "rgba(255,255,255,0)"
         },
         "showlegend": false,
         "type": "scatter",
         "x": [
          1,
          2,
          3,
          4,
          5,
          6,
          6,
          5,
          4,
          3,
          2,
          1
         ],
         "xaxis": "x11",
         "y": [
          6059.295065544826,
          9425.081975178384,
          13581.261835010657,
          11295.554269996508,
          9421.117559681374,
          11219.363621810791,
          7487.493521046351,
          7411.382440318626,
          9304.231444289206,
          11868.053954463026,
          7732.868024821618,
          4542.804934455175
         ],
         "yaxis": "y11"
        },
        {
         "legendgroup": "Deepseek R1 (ABBEL)",
         "line": {
          "color": "#8B0000",
          "width": 2
         },
         "mode": "lines+markers",
         "name": "Deepseek R1 (ABBEL)",
         "showlegend": false,
         "type": "scatter",
         "x": {
          "bdata": "AQIDBAUG",
          "dtype": "i1"
         },
         "xaxis": "x11",
         "y": {
          "bdata": "zczMzAy1tEDNzMzMfMHAQHkN5TVU2shASZIkSfIdxEAAAAAAIHDAQNu2bdu2RMJA",
          "dtype": "f8"
         },
         "yaxis": "y11"
        },
        {
         "fill": "toself",
         "fillcolor": "rgba(255, 99, 71, 0.2)",
         "hoverinfo": "skip",
         "legendgroup": "Deepseek R1 (belief prompting)",
         "line": {
          "color": "rgba(255,255,255,0)"
         },
         "showlegend": false,
         "type": "scatter",
         "x": [
          1,
          2,
          3,
          4,
          5,
          6,
          6,
          5,
          4,
          3,
          2,
          1
         ],
         "xaxis": "x11",
         "y": [
          5666.618752017371,
          10152.763099681008,
          15203.948201754038,
          15900.174143874288,
          14874.266003134122,
          19327.60960591027,
          13586.640394089727,
          10861.233996865878,
          13093.754427554284,
          13391.683377193332,
          8319.836900318991,
          4625.48124798263
         ],
         "yaxis": "y11"
        },
        {
         "legendgroup": "Deepseek R1 (belief prompting)",
         "line": {
          "color": "#FF6347",
          "width": 2
         },
         "mode": "lines+markers",
         "name": "Deepseek R1 (belief prompting)",
         "showlegend": false,
         "type": "scatter",
         "x": {
          "bdata": "AQIDBAUG",
          "dtype": "i1"
         },
         "xaxis": "x11",
         "y": {
          "bdata": "zczMzAwatEBmZmZmJgrCQPMaymvo7MtAbtu2bXtQzEAAAAAA4CHJQAAAAABIEtBA",
          "dtype": "f8"
         },
         "yaxis": "y11"
        },
        {
         "fill": "toself",
         "fillcolor": "rgba(144, 238, 144, 0.2)",
         "hoverinfo": "skip",
         "legendgroup": "Gemini 2.5 Pro",
         "line": {
          "color": "rgba(255,255,255,0)"
         },
         "showlegend": false,
         "type": "scatter",
         "x": [
          1,
          2,
          3,
          4,
          5,
          6,
          6,
          5,
          4,
          3,
          2,
          1
         ],
         "xaxis": "x11",
         "y": [
          1707.5925583029236,
          2940.477554102822,
          3519.7906853813865,
          3810.312799226595,
          4339.060305797794,
          4317.542243072734,
          2147.124423593933,
          3312.564694202206,
          3281.020534106738,
          3035.1323915416906,
          2633.7224458971777,
          1499.1074416970762
         ],
         "yaxis": "y11"
        },
        {
         "legendgroup": "Gemini 2.5 Pro",
         "line": {
          "color": "#90EE90",
          "width": 2
         },
         "mode": "lines+markers",
         "name": "Gemini 2.5 Pro",
         "showlegend": false,
         "type": "scatter",
         "x": {
          "bdata": "AQIDBAUG",
          "dtype": "i1"
         },
         "xaxis": "x11",
         "y": {
          "bdata": "ZmZmZmYNmUAzMzMzM8alQE/sxE7smqlAVVVVVVWzq0AAAAAAoOOtQKuqqqqqQKlA",
          "dtype": "f8"
         },
         "yaxis": "y11"
        },
        {
         "fill": "toself",
         "fillcolor": "rgba(0, 100, 0, 0.2)",
         "hoverinfo": "skip",
         "legendgroup": "Gemini 2.5 Pro (ABBEL)",
         "line": {
          "color": "rgba(255,255,255,0)"
         },
         "showlegend": false,
         "type": "scatter",
         "x": [
          1,
          2,
          3,
          4,
          5,
          6,
          6,
          5,
          4,
          3,
          2,
          1
         ],
         "xaxis": "x11",
         "y": [
          979.9660534276932,
          2260.6664583838515,
          3204.175941669779,
          4149.458226117128,
          2695.5170339046904,
          3760.0861051576912,
          2794.513894842309,
          2000.387728000071,
          3341.9167738828714,
          2790.7714267512733,
          1991.8835416161487,
          898.0839465723068
         ],
         "yaxis": "y11"
        },
        {
         "legendgroup": "Gemini 2.5 Pro (ABBEL)",
         "line": {
          "color": "#006400",
          "width": 2
         },
         "mode": "lines+markers",
         "name": "Gemini 2.5 Pro (ABBEL)",
         "showlegend": false,
         "type": "scatter",
         "x": {
          "bdata": "AQIDBAUG",
          "dtype": "i1"
         },
         "xaxis": "x11",
         "y": {
          "bdata": "MzMzMzNYjUDNzMzMjJygQK+hvIbyaqdAAAAAAGBDrUCe53me51eiQJqZmZmZmqlA",
          "dtype": "f8"
         },
         "yaxis": "y11"
        },
        {
         "fill": "toself",
         "fillcolor": "rgba(50, 205, 50, 0.2)",
         "hoverinfo": "skip",
         "legendgroup": "Gemini 2.5 Pro (belief prompting)",
         "line": {
          "color": "rgba(255,255,255,0)"
         },
         "showlegend": false,
         "type": "scatter",
         "x": [
          1,
          2,
          3,
          4,
          5,
          6,
          6,
          5,
          4,
          3,
          2,
          1
         ],
         "xaxis": "x11",
         "y": [
          1103.9911743305931,
          2690.9416098419656,
          3215.4993128489014,
          3855.156319679232,
          2876.6638896221903,
          4045.4839625273544,
          2633.1827041393126,
          2292.9831692013395,
          3272.3865374636252,
          2943.100687151099,
          2373.8583901580346,
          979.5088256694069
         ],
         "yaxis": "y11"
        },
        {
         "legendgroup": "Gemini 2.5 Pro (belief prompting)",
         "line": {
          "color": "#32CD32",
          "width": 2
         },
         "mode": "lines+markers",
         "name": "Gemini 2.5 Pro (belief prompting)",
         "showlegend": false,
         "type": "scatter",
         "x": {
          "bdata": "AQIDBAUG",
          "dtype": "i1"
         },
         "xaxis": "x11",
         "y": {
          "bdata": "AAAAAABHkEDNzMzMzMijQJqZmZmZDqhA+Yqv+IrXq0CmpaWlpTGkQKuqqqqqFqpA",
          "dtype": "f8"
         },
         "yaxis": "y11"
        },
        {
         "fill": "toself",
         "fillcolor": "rgba(139, 0, 0, 0.2)",
         "hoverinfo": "skip",
         "legendgroup": "Deepseek R1 (ABBEL)",
         "line": {
          "color": "rgba(255,255,255,0)"
         },
         "showlegend": false,
         "type": "scatter",
         "x": [
          1,
          2,
          3,
          4,
          5,
          6,
          7,
          8,
          9,
          10,
          11,
          12,
          12,
          11,
          10,
          9,
          8,
          7,
          6,
          5,
          4,
          3,
          2,
          1
         ],
         "xaxis": "x6",
         "y": [
          10169.023276730268,
          20306.37202206833,
          26569.09785489499,
          23706.10650790988,
          25468.757380002942,
          20441.722072111577,
          22651.579948701557,
          23136.310385394652,
          18418.23612920293,
          20148.734098359157,
          20466.777002631312,
          21624.68442388034,
          17017.093353897442,
          16276.865854511543,
          15642.852108537396,
          14648.612355645555,
          18916.41688733262,
          18373.36122776903,
          16684.22664583714,
          21840.627235381675,
          20946.243492090118,
          23301.852145105007,
          17402.077977931665,
          7646.176723269733
         ],
         "yaxis": "y6"
        },
        {
         "legendgroup": "Deepseek R1 (ABBEL)",
         "line": {
          "color": "#8B0000",
          "width": 2
         },
         "mode": "lines+markers",
         "name": "Deepseek R1 (ABBEL)",
         "showlegend": false,
         "type": "scatter",
         "x": {
          "bdata": "AQIDBAUGBwgJCgsM",
          "dtype": "i1"
         },
         "xaxis": "x6",
         "y": {
          "bdata": "zczMzMxlwUBmZmZmjmnSQGZmZmbeWdhAMzMzM4vN1UBP7MROrBnXQFy+5Vu+INJAHh4eHh4I1EBddNFFl4jUQG2yySZbJdBALPc0wvJ50UCSJEmS9PDRQOQ4juM43tJA",
          "dtype": "f8"
         },
         "yaxis": "y6"
        },
        {
         "fill": "toself",
         "fillcolor": "rgba(255, 99, 71, 0.2)",
         "hoverinfo": "skip",
         "legendgroup": "Deepseek R1 (belief prompting)",
         "line": {
          "color": "rgba(255,255,255,0)"
         },
         "showlegend": false,
         "type": "scatter",
         "x": [
          1,
          2,
          3,
          4,
          5,
          6,
          7,
          8,
          9,
          10,
          11,
          12,
          12,
          11,
          10,
          9,
          8,
          7,
          6,
          5,
          4,
          3,
          2,
          1
         ],
         "xaxis": "x6",
         "y": [
          12589.684574787181,
          19997.141768256064,
          24052.203273131207,
          23918.519241734273,
          19184.921377513503,
          20151.79370627418,
          25454.70987313335,
          22025.63130536734,
          22895.289287252042,
          24441.61971163697,
          25170.705056524945,
          23296.094065215897,
          17414.805934784104,
          20501.48541966553,
          19120.046955029695,
          18043.08108311833,
          17716.36869463266,
          21321.85262686665,
          15906.150738170265,
          15484.078622486495,
          20766.13075826573,
          21599.596726868796,
          17495.608231743936,
          10228.01542521282
         ],
         "yaxis": "y6"
        },
        {
         "legendgroup": "Deepseek R1 (belief prompting)",
         "line": {
          "color": "#FF6347",
          "width": 2
         },
         "mode": "lines+markers",
         "name": "Deepseek R1 (belief prompting)",
         "showlegend": false,
         "type": "scatter",
         "x": {
          "bdata": "AQIDBAUGBwgJCgsM",
          "dtype": "i1"
         },
         "xaxis": "x6",
         "y": {
          "bdata": "zczMzGxIxkAAAAAAmE7SQJqZmZl5StZAzczMzJTR1UAAAAAAoO3QQDmO4zg+m9FAAAAAABLX1kAAAAAAwGfTQIX2EtpL/dNAVVVVVTVF1UAYhmEYBk3WQM3MzMzc4NNA",
          "dtype": "f8"
         },
         "yaxis": "y6"
        },
        {
         "fill": "toself",
         "fillcolor": "rgba(0, 100, 0, 0.2)",
         "hoverinfo": "skip",
         "legendgroup": "Gemini 2.5 Pro (ABBEL)",
         "line": {
          "color": "rgba(255,255,255,0)"
         },
         "showlegend": false,
         "type": "scatter",
         "x": [
          1,
          2,
          3,
          4,
          5,
          6,
          7,
          8,
          9,
          10,
          11,
          12,
          12,
          11,
          10,
          9,
          8,
          7,
          6,
          5,
          4,
          3,
          2,
          1
         ],
         "xaxis": "x6",
         "y": [
          2066.6486570634947,
          2853.9148753559266,
          4068.2436352459627,
          4553.112986904609,
          4321.509935034635,
          3866.2697805378943,
          3073.878438601259,
          3238.714860355419,
          6707.470300180341,
          5988.371429853368,
          4486,
          5775,
          981.0000000000005,
          3383,
          2167.6285701466322,
          3059.3296998196583,
          1757.9518063112478,
          1934.121561398741,
          2804.8552194621057,
          3395.963749175891,
          3734.2870130953906,
          3540.8563647540377,
          2239.1851246440738,
          1781.3013429365049
         ],
         "yaxis": "y6"
        },
        {
         "legendgroup": "Gemini 2.5 Pro (ABBEL)",
         "line": {
          "color": "#006400",
          "width": 2
         },
         "mode": "lines+markers",
         "name": "Gemini 2.5 Pro (ABBEL)",
         "showlegend": false,
         "type": "scatter",
         "x": {
          "bdata": "AQIDBAUGBwgJCgsM",
          "dtype": "i1"
         },
         "xaxis": "x6",
         "y": {
          "bdata": "ZmZmZuYPnkCamZmZGeWjQJqZmZkZua1AMzMzM7MvsEDYUF5DeSWuQAAAAAAgD6pAAAAAAACQo0CrqqqqqoSjQGZmZmZmE7NAAAAAAADcr0AAAAAAAL2uQAAAAAAAZKpA",
          "dtype": "f8"
         },
         "yaxis": "y6"
        },
        {
         "fill": "toself",
         "fillcolor": "rgba(50, 205, 50, 0.2)",
         "hoverinfo": "skip",
         "legendgroup": "Gemini 2.5 Pro (belief prompting)",
         "line": {
          "color": "rgba(255,255,255,0)"
         },
         "showlegend": false,
         "type": "scatter",
         "x": [
          1,
          2,
          3,
          4,
          5,
          6,
          7,
          8,
          9,
          10,
          11,
          12,
          12,
          11,
          10,
          9,
          8,
          7,
          6,
          5,
          4,
          3,
          2,
          1
         ],
         "xaxis": "x6",
         "y": [
          2528.9221583084172,
          2213.512730202488,
          4209.6083801584045,
          5248.7318040226455,
          4864.520185233286,
          4498.647006391432,
          2993.167358700494,
          3236.7297939555983,
          3608.5498494257517,
          null,
          null,
          null,
          null,
          null,
          null,
          935.450150574248,
          1892.3471291213245,
          1844.8326412995061,
          3344.6257208812954,
          3863.5310968179956,
          4484.968195977355,
          3560.141619841596,
          1870.9872697975118,
          1932.1278416915832
         ],
         "yaxis": "y6"
        },
        {
         "legendgroup": "Gemini 2.5 Pro (belief prompting)",
         "line": {
          "color": "#32CD32",
          "width": 2
         },
         "mode": "lines+markers",
         "name": "Gemini 2.5 Pro (belief prompting)",
         "showlegend": false,
         "type": "scatter",
         "x": {
          "bdata": "AQIDBAUGBwgJCgsM",
          "dtype": "i1"
         },
         "xaxis": "x6",
         "y": {
          "bdata": "zczMzAxtoUAAAAAAAOmfQAAAAADAWa5AmpmZmdkCs0CQBmmQBgyxQBdddNFFo65AAAAAAADmokCxEzuxEwmkQAAAAAAAwKFAAAAAAIB3wEAAAAAAAKytQAAAAAAAybFA",
          "dtype": "f8"
         },
         "yaxis": "y6"
        },
        {
         "fill": "toself",
         "fillcolor": "rgba(255, 182, 193, 0.2)",
         "hoverinfo": "skip",
         "legendgroup": "Deepseek R1",
         "line": {
          "color": "rgba(255,255,255,0)"
         },
         "showlegend": false,
         "type": "scatter",
         "x": [
          1,
          2,
          3,
          4,
          5,
          6,
          7,
          8,
          9,
          10,
          11,
          12,
          12,
          11,
          10,
          9,
          8,
          7,
          6,
          5,
          4,
          3,
          2,
          1
         ],
         "xaxis": "x12",
         "y": [
          6509.413516433698,
          23073.479065944342,
          28992.3259391076,
          28624.457619705867,
          25501.079872242954,
          27900.13746262949,
          26274.181191024334,
          28867.175713696415,
          28356.20363949467,
          26723.266263822494,
          25444.081675900263,
          24954.665982259652,
          23090.000684407012,
          23161.5849907664,
          23549.633736177508,
          25818.43272414169,
          26047.538572017867,
          23623.693808975666,
          25657.073063686297,
          23000.420127757046,
          26233.542380294133,
          26175.224060892404,
          20360.370934055656,
          4386.286483566303
         ],
         "yaxis": "y12"
        },
        {
         "legendgroup": "Deepseek R1",
         "line": {
          "color": "#FFB6C1",
          "width": 2
         },
         "mode": "lines+markers",
         "name": "Deepseek R1",
         "showlegend": false,
         "type": "scatter",
         "x": {
          "bdata": "AQIDBAUGBwgJCgsM",
          "dtype": "i1"
         },
         "xaxis": "x12",
         "y": {
          "bdata": "mpmZmdlHtUAzMzMzOzXVQJqZmZnx79pAAAAAAEDJ2kAAAAAAsK7XQCivobymJtpAAAAAADxd2EDbtm3bVtDaQNFFF13Uc9pAzczMzByM2EBVVVVVtbvXQFVVVVWVdddA",
          "dtype": "f8"
         },
         "yaxis": "y12"
        },
        {
         "fill": "toself",
         "fillcolor": "rgba(139, 0, 0, 0.2)",
         "hoverinfo": "skip",
         "legendgroup": "Deepseek R1 (ABBEL)",
         "line": {
          "color": "rgba(255,255,255,0)"
         },
         "showlegend": false,
         "type": "scatter",
         "x": [
          1,
          2,
          3,
          4,
          5,
          6,
          7,
          8,
          9,
          10,
          11,
          12,
          12,
          11,
          10,
          9,
          8,
          7,
          6,
          5,
          4,
          3,
          2,
          1
         ],
         "xaxis": "x12",
         "y": [
          3196.9902804518574,
          13104.46208929655,
          18631.652724995143,
          19034.396732844707,
          18758.658944782812,
          16689.04061559893,
          16254.881308903165,
          14536.914624624333,
          13243.55953406095,
          13674.82921743456,
          15824.906374549388,
          12209.244346571346,
          8848.237134910136,
          12083.450768307754,
          9868.688023944751,
          10166.925314423897,
          11166.479314769607,
          12571.942220508601,
          13009.061948503633,
          15944.98208085821,
          16105.403267155294,
          15519.64727500486,
          10623.73791070345,
          2405.3097195481428
         ],
         "yaxis": "y12"
        },
        {
         "legendgroup": "Deepseek R1 (ABBEL)",
         "line": {
          "color": "#8B0000",
          "width": 2
         },
         "mode": "lines+markers",
         "name": "Deepseek R1 (ABBEL)",
         "showlegend": false,
         "type": "scatter",
         "x": {
          "bdata": "AQIDBAUGBwgJCgsM",
          "dtype": "i1"
         },
         "xaxis": "x12",
         "y": {
          "bdata": "zczMzEzipUDNzMzMDCzHQJqZmZnprNBAmpmZmXko0UCDNEiD9PHQQJAGaZCGAM1AtbS0tLQmzEBlk0022RnJQHzwwQef3MZAEpZ7GuH9xkDbtm3bFkHLQCa0l9BekMRA",
          "dtype": "f8"
         },
         "yaxis": "y12"
        },
        {
         "fill": "toself",
         "fillcolor": "rgba(255, 99, 71, 0.2)",
         "hoverinfo": "skip",
         "legendgroup": "Deepseek R1 (belief prompting)",
         "line": {
          "color": "rgba(255,255,255,0)"
         },
         "showlegend": false,
         "type": "scatter",
         "x": [
          1,
          2,
          3,
          4,
          5,
          6,
          7,
          8,
          9,
          10,
          11,
          12,
          12,
          11,
          10,
          9,
          8,
          7,
          6,
          5,
          4,
          3,
          2,
          1
         ],
         "xaxis": "x12",
         "y": [
          3045.881324983323,
          19096.52935476476,
          20953.295530636165,
          20694.329340154232,
          21378.394386940985,
          22191.377660920574,
          22077.88978993566,
          21228.37536342602,
          21300.540688778703,
          19039.7053946857,
          21039.115522276094,
          19472.726245640013,
          15463.873754359984,
          17884.217811057242,
          14971.377938647636,
          17531.82968159167,
          18198.75796990731,
          18013.54771006434,
          18808.844561301645,
          18653.755613059016,
          17666.520659845766,
          18243.254469363837,
          16039.620645235242,
          2148.0186750166768
         ],
         "yaxis": "y12"
        },
        {
         "legendgroup": "Deepseek R1 (belief prompting)",
         "line": {
          "color": "#FF6347",
          "width": 2
         },
         "mode": "lines+markers",
         "name": "Deepseek R1 (belief prompting)",
         "showlegend": false,
         "type": "scatter",
         "x": {
          "bdata": "AQIDBAUGBwgJCgsM",
          "dtype": "i1"
         },
         "xaxis": "x12",
         "y": {
          "bdata": "ZmZmZuZJpEDNzMzMBCjRQJqZmZmRI9NAMzMzMxu70kDNzMzMBIzTQBzHcRwHBdRAAAAAAG6T00BEREREZEDTQIX2EtoL9tJAq6qqqmKb0ECrqqqqagHTQDMzMzMTD9FA",
          "dtype": "f8"
         },
         "yaxis": "y12"
        },
        {
         "fill": "toself",
         "fillcolor": "rgba(144, 238, 144, 0.2)",
         "hoverinfo": "skip",
         "legendgroup": "Gemini 2.5 Pro",
         "line": {
          "color": "rgba(255,255,255,0)"
         },
         "showlegend": false,
         "type": "scatter",
         "x": [
          1,
          2,
          3,
          4,
          5,
          6,
          7,
          8,
          9,
          10,
          11,
          11,
          10,
          9,
          8,
          7,
          6,
          5,
          4,
          3,
          2,
          1
         ],
         "xaxis": "x12",
         "y": [
          2671.375825495897,
          3616.1080783663665,
          5396.6009089193285,
          5934.174618168285,
          6825.825947185199,
          7151.982653333504,
          8989.562323208525,
          10758.93474164458,
          7125.671824137678,
          4544.288041443876,
          6769,
          4275,
          2942.378625222791,
          4635.828175862322,
          8377.974349264512,
          7469.199581553379,
          6161.694766021335,
          6010.585817520684,
          5235.325381831715,
          4535.8990910806715,
          3048.3919216336335,
          2337.174174504103
         ],
         "yaxis": "y12"
        },
        {
         "legendgroup": "Gemini 2.5 Pro",
         "line": {
          "color": "#90EE90",
          "width": 2
         },
         "mode": "lines+markers",
         "name": "Gemini 2.5 Pro",
         "showlegend": false,
         "type": "scatter",
         "x": {
          "bdata": "AQIDBAUGBwgJCgs=",
          "dtype": "i1"
         },
         "xaxis": "x12",
         "y": {
          "bdata": "zczMzIyQo0AAAAAAgAiqQAAAAABAZrNAAAAAAMDQtUC1tLS0NBK5QFtrrbXWALpAwzAMw7ASwEDpoosuOrDCQAAAAADA+LZAq6qqqqo+rUAAAAAAAJK1QA==",
          "dtype": "f8"
         },
         "yaxis": "y12"
        },
        {
         "fill": "toself",
         "fillcolor": "rgba(0, 100, 0, 0.2)",
         "hoverinfo": "skip",
         "legendgroup": "Gemini 2.5 Pro (ABBEL)",
         "line": {
          "color": "rgba(255,255,255,0)"
         },
         "showlegend": false,
         "type": "scatter",
         "x": [
          1,
          2,
          3,
          4,
          5,
          6,
          7,
          8,
          9,
          10,
          11,
          12,
          12,
          11,
          10,
          9,
          8,
          7,
          6,
          5,
          4,
          3,
          2,
          1
         ],
         "xaxis": "x12",
         "y": [
          1600.8611980937098,
          2689.519463911352,
          3944.0999139977503,
          4371.105718772365,
          4117.731240700341,
          3141.2094508432397,
          3204.8337254037237,
          2832.1572727417906,
          3555.563026554461,
          5425.051290080017,
          6960,
          1485,
          850,
          6113,
          2558.9487099199832,
          2447.236973445539,
          1952.9538383693207,
          2082.7314919875803,
          2466.6655491567603,
          3400.689811931238,
          3672.9942812276354,
          3446.20008600225,
          2134.3305360886484,
          1477.48880190629
         ],
         "yaxis": "y12"
        },
        {
         "legendgroup": "Gemini 2.5 Pro (ABBEL)",
         "line": {
          "color": "#006400",
          "width": 2
         },
         "mode": "lines+markers",
         "name": "Gemini 2.5 Pro (ABBEL)",
         "showlegend": false,
         "type": "scatter",
         "x": {
          "bdata": "AQIDBAUGBwgJCgsM",
          "dtype": "i1"
         },
         "xaxis": "x12",
         "y": {
          "bdata": "MzMzM7MMmECamZmZ2deiQM3MzMxM3qxAmpmZmRlsr0CH8hrKa16tQAAAAADg56VAyEIWspCnpEByHMdxHLGiQM3MzMzMcqdAAAAAAAAwr0AAAAAAgIi5QAAAAAAAPpJA",
          "dtype": "f8"
         },
         "yaxis": "y12"
        },
        {
         "fill": "toself",
         "fillcolor": "rgba(50, 205, 50, 0.2)",
         "hoverinfo": "skip",
         "legendgroup": "Gemini 2.5 Pro (belief prompting)",
         "line": {
          "color": "rgba(255,255,255,0)"
         },
         "showlegend": false,
         "type": "scatter",
         "x": [
          1,
          2,
          3,
          4,
          5,
          6,
          7,
          8,
          9,
          10,
          11,
          12,
          12,
          11,
          10,
          9,
          8,
          7,
          6,
          5,
          4,
          3,
          2,
          1
         ],
         "xaxis": "x12",
         "y": [
          1955.1354865674398,
          2634.6106670134754,
          4450.388637495045,
          4919.8058650698495,
          5942.570749543262,
          4783.382713370191,
          4622.054417384688,
          4386.936214844919,
          5724.885457423944,
          null,
          null,
          null,
          null,
          null,
          null,
          3082.3145425760567,
          3219.2176313089267,
          3687.8622492819773,
          4021.5263775388994,
          5230.865147892635,
          4352.294134930151,
          3699.2113625049546,
          2223.3393329865244,
          1707.3645134325602
         ],
         "yaxis": "y12"
        },
        {
         "legendgroup": "Gemini 2.5 Pro (belief prompting)",
         "line": {
          "color": "#32CD32",
          "width": 2
         },
         "mode": "lines+markers",
         "name": "Gemini 2.5 Pro (belief prompting)",
         "showlegend": false,
         "type": "scatter",
         "x": {
          "bdata": "AQIDBAUGBwgJCgsM",
          "dtype": "i1"
         },
         "xaxis": "x12",
         "y": {
          "bdata": "AAAAAACdnEAzMzMz8/miQJqZmZmZ1a9AzczMzAwcskDLt3zLt9K1QNFFF110MrFAVVVVVfU6sEBiJ3ZiJ7atQJqZmZmZM7FAAAAAAAB+wEAAAAAAgCHGQAAAAAAAV8FA",
          "dtype": "f8"
         },
         "yaxis": "y12"
        }
       ],
       "layout": {
        "annotations": [
         {
          "font": {
           "size": 16
          },
          "showarrow": false,
          "text": "Murder Mystery",
          "x": 0.06777777777777778,
          "xanchor": "center",
          "xref": "paper",
          "y": 1,
          "yanchor": "bottom",
          "yref": "paper"
         },
         {
          "font": {
           "size": 16
          },
          "showarrow": false,
          "text": "Customer Service",
          "x": 0.2366666666666667,
          "xanchor": "center",
          "xref": "paper",
          "y": 1,
          "yanchor": "bottom",
          "yref": "paper"
         },
         {
          "font": {
           "size": 16
          },
          "showarrow": false,
          "text": "Twenty Questions",
          "x": 0.40555555555555556,
          "xanchor": "center",
          "xref": "paper",
          "y": 1,
          "yanchor": "bottom",
          "yref": "paper"
         },
         {
          "font": {
           "size": 16
          },
          "showarrow": false,
          "text": "Guess my City",
          "x": 0.5744444444444445,
          "xanchor": "center",
          "xref": "paper",
          "y": 1,
          "yanchor": "bottom",
          "yref": "paper"
         },
         {
          "font": {
           "size": 16
          },
          "showarrow": false,
          "text": "Wordle",
          "x": 0.7433333333333334,
          "xanchor": "center",
          "xref": "paper",
          "y": 1,
          "yanchor": "bottom",
          "yref": "paper"
         },
         {
          "font": {
           "size": 16
          },
          "showarrow": false,
          "text": "Mastermind",
          "x": 0.9122222222222223,
          "xanchor": "center",
          "xref": "paper",
          "y": 1,
          "yanchor": "bottom",
          "yref": "paper"
         }
        ],
        "barmode": "group",
        "font": {
         "family": "Computer Modern, serif",
         "size": 16
        },
        "height": 700,
        "legend": {
         "bgcolor": "rgba(255,255,255,0.9)",
         "bordercolor": "black",
         "borderwidth": 1,
         "orientation": "v",
         "x": 1.02,
         "xanchor": "left",
         "y": 0.5,
         "yanchor": "middle"
        },
        "margin": {
         "b": 50,
         "l": 80,
         "r": 80,
         "t": 100
        },
        "plot_bgcolor": "white",
        "showlegend": true,
        "template": {
         "data": {
          "bar": [
           {
            "error_x": {
             "color": "rgb(36,36,36)"
            },
            "error_y": {
             "color": "rgb(36,36,36)"
            },
            "marker": {
             "line": {
              "color": "white",
              "width": 0.5
             },
             "pattern": {
              "fillmode": "overlay",
              "size": 10,
              "solidity": 0.2
             }
            },
            "type": "bar"
           }
          ],
          "barpolar": [
           {
            "marker": {
             "line": {
              "color": "white",
              "width": 0.5
             },
             "pattern": {
              "fillmode": "overlay",
              "size": 10,
              "solidity": 0.2
             }
            },
            "type": "barpolar"
           }
          ],
          "carpet": [
           {
            "aaxis": {
             "endlinecolor": "rgb(36,36,36)",
             "gridcolor": "white",
             "linecolor": "white",
             "minorgridcolor": "white",
             "startlinecolor": "rgb(36,36,36)"
            },
            "baxis": {
             "endlinecolor": "rgb(36,36,36)",
             "gridcolor": "white",
             "linecolor": "white",
             "minorgridcolor": "white",
             "startlinecolor": "rgb(36,36,36)"
            },
            "type": "carpet"
           }
          ],
          "choropleth": [
           {
            "colorbar": {
             "outlinewidth": 1,
             "tickcolor": "rgb(36,36,36)",
             "ticks": "outside"
            },
            "type": "choropleth"
           }
          ],
          "contour": [
           {
            "colorbar": {
             "outlinewidth": 1,
             "tickcolor": "rgb(36,36,36)",
             "ticks": "outside"
            },
            "colorscale": [
             [
              0,
              "#440154"
             ],
             [
              0.1111111111111111,
              "#482878"
             ],
             [
              0.2222222222222222,
              "#3e4989"
             ],
             [
              0.3333333333333333,
              "#31688e"
             ],
             [
              0.4444444444444444,
              "#26828e"
             ],
             [
              0.5555555555555556,
              "#1f9e89"
             ],
             [
              0.6666666666666666,
              "#35b779"
             ],
             [
              0.7777777777777778,
              "#6ece58"
             ],
             [
              0.8888888888888888,
              "#b5de2b"
             ],
             [
              1,
              "#fde725"
             ]
            ],
            "type": "contour"
           }
          ],
          "contourcarpet": [
           {
            "colorbar": {
             "outlinewidth": 1,
             "tickcolor": "rgb(36,36,36)",
             "ticks": "outside"
            },
            "type": "contourcarpet"
           }
          ],
          "heatmap": [
           {
            "colorbar": {
             "outlinewidth": 1,
             "tickcolor": "rgb(36,36,36)",
             "ticks": "outside"
            },
            "colorscale": [
             [
              0,
              "#440154"
             ],
             [
              0.1111111111111111,
              "#482878"
             ],
             [
              0.2222222222222222,
              "#3e4989"
             ],
             [
              0.3333333333333333,
              "#31688e"
             ],
             [
              0.4444444444444444,
              "#26828e"
             ],
             [
              0.5555555555555556,
              "#1f9e89"
             ],
             [
              0.6666666666666666,
              "#35b779"
             ],
             [
              0.7777777777777778,
              "#6ece58"
             ],
             [
              0.8888888888888888,
              "#b5de2b"
             ],
             [
              1,
              "#fde725"
             ]
            ],
            "type": "heatmap"
           }
          ],
          "histogram": [
           {
            "marker": {
             "line": {
              "color": "white",
              "width": 0.6
             }
            },
            "type": "histogram"
           }
          ],
          "histogram2d": [
           {
            "colorbar": {
             "outlinewidth": 1,
             "tickcolor": "rgb(36,36,36)",
             "ticks": "outside"
            },
            "colorscale": [
             [
              0,
              "#440154"
             ],
             [
              0.1111111111111111,
              "#482878"
             ],
             [
              0.2222222222222222,
              "#3e4989"
             ],
             [
              0.3333333333333333,
              "#31688e"
             ],
             [
              0.4444444444444444,
              "#26828e"
             ],
             [
              0.5555555555555556,
              "#1f9e89"
             ],
             [
              0.6666666666666666,
              "#35b779"
             ],
             [
              0.7777777777777778,
              "#6ece58"
             ],
             [
              0.8888888888888888,
              "#b5de2b"
             ],
             [
              1,
              "#fde725"
             ]
            ],
            "type": "histogram2d"
           }
          ],
          "histogram2dcontour": [
           {
            "colorbar": {
             "outlinewidth": 1,
             "tickcolor": "rgb(36,36,36)",
             "ticks": "outside"
            },
            "colorscale": [
             [
              0,
              "#440154"
             ],
             [
              0.1111111111111111,
              "#482878"
             ],
             [
              0.2222222222222222,
              "#3e4989"
             ],
             [
              0.3333333333333333,
              "#31688e"
             ],
             [
              0.4444444444444444,
              "#26828e"
             ],
             [
              0.5555555555555556,
              "#1f9e89"
             ],
             [
              0.6666666666666666,
              "#35b779"
             ],
             [
              0.7777777777777778,
              "#6ece58"
             ],
             [
              0.8888888888888888,
              "#b5de2b"
             ],
             [
              1,
              "#fde725"
             ]
            ],
            "type": "histogram2dcontour"
           }
          ],
          "mesh3d": [
           {
            "colorbar": {
             "outlinewidth": 1,
             "tickcolor": "rgb(36,36,36)",
             "ticks": "outside"
            },
            "type": "mesh3d"
           }
          ],
          "parcoords": [
           {
            "line": {
             "colorbar": {
              "outlinewidth": 1,
              "tickcolor": "rgb(36,36,36)",
              "ticks": "outside"
             }
            },
            "type": "parcoords"
           }
          ],
          "pie": [
           {
            "automargin": true,
            "type": "pie"
           }
          ],
          "scatter": [
           {
            "fillpattern": {
             "fillmode": "overlay",
             "size": 10,
             "solidity": 0.2
            },
            "type": "scatter"
           }
          ],
          "scatter3d": [
           {
            "line": {
             "colorbar": {
              "outlinewidth": 1,
              "tickcolor": "rgb(36,36,36)",
              "ticks": "outside"
             }
            },
            "marker": {
             "colorbar": {
              "outlinewidth": 1,
              "tickcolor": "rgb(36,36,36)",
              "ticks": "outside"
             }
            },
            "type": "scatter3d"
           }
          ],
          "scattercarpet": [
           {
            "marker": {
             "colorbar": {
              "outlinewidth": 1,
              "tickcolor": "rgb(36,36,36)",
              "ticks": "outside"
             }
            },
            "type": "scattercarpet"
           }
          ],
          "scattergeo": [
           {
            "marker": {
             "colorbar": {
              "outlinewidth": 1,
              "tickcolor": "rgb(36,36,36)",
              "ticks": "outside"
             }
            },
            "type": "scattergeo"
           }
          ],
          "scattergl": [
           {
            "marker": {
             "colorbar": {
              "outlinewidth": 1,
              "tickcolor": "rgb(36,36,36)",
              "ticks": "outside"
             }
            },
            "type": "scattergl"
           }
          ],
          "scattermap": [
           {
            "marker": {
             "colorbar": {
              "outlinewidth": 1,
              "tickcolor": "rgb(36,36,36)",
              "ticks": "outside"
             }
            },
            "type": "scattermap"
           }
          ],
          "scattermapbox": [
           {
            "marker": {
             "colorbar": {
              "outlinewidth": 1,
              "tickcolor": "rgb(36,36,36)",
              "ticks": "outside"
             }
            },
            "type": "scattermapbox"
           }
          ],
          "scatterpolar": [
           {
            "marker": {
             "colorbar": {
              "outlinewidth": 1,
              "tickcolor": "rgb(36,36,36)",
              "ticks": "outside"
             }
            },
            "type": "scatterpolar"
           }
          ],
          "scatterpolargl": [
           {
            "marker": {
             "colorbar": {
              "outlinewidth": 1,
              "tickcolor": "rgb(36,36,36)",
              "ticks": "outside"
             }
            },
            "type": "scatterpolargl"
           }
          ],
          "scatterternary": [
           {
            "marker": {
             "colorbar": {
              "outlinewidth": 1,
              "tickcolor": "rgb(36,36,36)",
              "ticks": "outside"
             }
            },
            "type": "scatterternary"
           }
          ],
          "surface": [
           {
            "colorbar": {
             "outlinewidth": 1,
             "tickcolor": "rgb(36,36,36)",
             "ticks": "outside"
            },
            "colorscale": [
             [
              0,
              "#440154"
             ],
             [
              0.1111111111111111,
              "#482878"
             ],
             [
              0.2222222222222222,
              "#3e4989"
             ],
             [
              0.3333333333333333,
              "#31688e"
             ],
             [
              0.4444444444444444,
              "#26828e"
             ],
             [
              0.5555555555555556,
              "#1f9e89"
             ],
             [
              0.6666666666666666,
              "#35b779"
             ],
             [
              0.7777777777777778,
              "#6ece58"
             ],
             [
              0.8888888888888888,
              "#b5de2b"
             ],
             [
              1,
              "#fde725"
             ]
            ],
            "type": "surface"
           }
          ],
          "table": [
           {
            "cells": {
             "fill": {
              "color": "rgb(237,237,237)"
             },
             "line": {
              "color": "white"
             }
            },
            "header": {
             "fill": {
              "color": "rgb(217,217,217)"
             },
             "line": {
              "color": "white"
             }
            },
            "type": "table"
           }
          ]
         },
         "layout": {
          "annotationdefaults": {
           "arrowhead": 0,
           "arrowwidth": 1
          },
          "autotypenumbers": "strict",
          "coloraxis": {
           "colorbar": {
            "outlinewidth": 1,
            "tickcolor": "rgb(36,36,36)",
            "ticks": "outside"
           }
          },
          "colorscale": {
           "diverging": [
            [
             0,
             "rgb(103,0,31)"
            ],
            [
             0.1,
             "rgb(178,24,43)"
            ],
            [
             0.2,
             "rgb(214,96,77)"
            ],
            [
             0.3,
             "rgb(244,165,130)"
            ],
            [
             0.4,
             "rgb(253,219,199)"
            ],
            [
             0.5,
             "rgb(247,247,247)"
            ],
            [
             0.6,
             "rgb(209,229,240)"
            ],
            [
             0.7,
             "rgb(146,197,222)"
            ],
            [
             0.8,
             "rgb(67,147,195)"
            ],
            [
             0.9,
             "rgb(33,102,172)"
            ],
            [
             1,
             "rgb(5,48,97)"
            ]
           ],
           "sequential": [
            [
             0,
             "#440154"
            ],
            [
             0.1111111111111111,
             "#482878"
            ],
            [
             0.2222222222222222,
             "#3e4989"
            ],
            [
             0.3333333333333333,
             "#31688e"
            ],
            [
             0.4444444444444444,
             "#26828e"
            ],
            [
             0.5555555555555556,
             "#1f9e89"
            ],
            [
             0.6666666666666666,
             "#35b779"
            ],
            [
             0.7777777777777778,
             "#6ece58"
            ],
            [
             0.8888888888888888,
             "#b5de2b"
            ],
            [
             1,
             "#fde725"
            ]
           ],
           "sequentialminus": [
            [
             0,
             "#440154"
            ],
            [
             0.1111111111111111,
             "#482878"
            ],
            [
             0.2222222222222222,
             "#3e4989"
            ],
            [
             0.3333333333333333,
             "#31688e"
            ],
            [
             0.4444444444444444,
             "#26828e"
            ],
            [
             0.5555555555555556,
             "#1f9e89"
            ],
            [
             0.6666666666666666,
             "#35b779"
            ],
            [
             0.7777777777777778,
             "#6ece58"
            ],
            [
             0.8888888888888888,
             "#b5de2b"
            ],
            [
             1,
             "#fde725"
            ]
           ]
          },
          "colorway": [
           "#1F77B4",
           "#FF7F0E",
           "#2CA02C",
           "#D62728",
           "#9467BD",
           "#8C564B",
           "#E377C2",
           "#7F7F7F",
           "#BCBD22",
           "#17BECF"
          ],
          "font": {
           "color": "rgb(36,36,36)"
          },
          "geo": {
           "bgcolor": "white",
           "lakecolor": "white",
           "landcolor": "white",
           "showlakes": true,
           "showland": true,
           "subunitcolor": "white"
          },
          "hoverlabel": {
           "align": "left"
          },
          "hovermode": "closest",
          "mapbox": {
           "style": "light"
          },
          "paper_bgcolor": "white",
          "plot_bgcolor": "white",
          "polar": {
           "angularaxis": {
            "gridcolor": "rgb(232,232,232)",
            "linecolor": "rgb(36,36,36)",
            "showgrid": false,
            "showline": true,
            "ticks": "outside"
           },
           "bgcolor": "white",
           "radialaxis": {
            "gridcolor": "rgb(232,232,232)",
            "linecolor": "rgb(36,36,36)",
            "showgrid": false,
            "showline": true,
            "ticks": "outside"
           }
          },
          "scene": {
           "xaxis": {
            "backgroundcolor": "white",
            "gridcolor": "rgb(232,232,232)",
            "gridwidth": 2,
            "linecolor": "rgb(36,36,36)",
            "showbackground": true,
            "showgrid": false,
            "showline": true,
            "ticks": "outside",
            "zeroline": false,
            "zerolinecolor": "rgb(36,36,36)"
           },
           "yaxis": {
            "backgroundcolor": "white",
            "gridcolor": "rgb(232,232,232)",
            "gridwidth": 2,
            "linecolor": "rgb(36,36,36)",
            "showbackground": true,
            "showgrid": false,
            "showline": true,
            "ticks": "outside",
            "zeroline": false,
            "zerolinecolor": "rgb(36,36,36)"
           },
           "zaxis": {
            "backgroundcolor": "white",
            "gridcolor": "rgb(232,232,232)",
            "gridwidth": 2,
            "linecolor": "rgb(36,36,36)",
            "showbackground": true,
            "showgrid": false,
            "showline": true,
            "ticks": "outside",
            "zeroline": false,
            "zerolinecolor": "rgb(36,36,36)"
           }
          },
          "shapedefaults": {
           "fillcolor": "black",
           "line": {
            "width": 0
           },
           "opacity": 0.3
          },
          "ternary": {
           "aaxis": {
            "gridcolor": "rgb(232,232,232)",
            "linecolor": "rgb(36,36,36)",
            "showgrid": false,
            "showline": true,
            "ticks": "outside"
           },
           "baxis": {
            "gridcolor": "rgb(232,232,232)",
            "linecolor": "rgb(36,36,36)",
            "showgrid": false,
            "showline": true,
            "ticks": "outside"
           },
           "bgcolor": "white",
           "caxis": {
            "gridcolor": "rgb(232,232,232)",
            "linecolor": "rgb(36,36,36)",
            "showgrid": false,
            "showline": true,
            "ticks": "outside"
           }
          },
          "title": {
           "x": 0.05
          },
          "xaxis": {
           "automargin": true,
           "gridcolor": "rgb(232,232,232)",
           "linecolor": "rgb(36,36,36)",
           "showgrid": false,
           "showline": true,
           "ticks": "outside",
           "title": {
            "standoff": 15
           },
           "zeroline": false,
           "zerolinecolor": "rgb(36,36,36)"
          },
          "yaxis": {
           "automargin": true,
           "gridcolor": "rgb(232,232,232)",
           "linecolor": "rgb(36,36,36)",
           "showgrid": false,
           "showline": true,
           "ticks": "outside",
           "title": {
            "standoff": 15
           },
           "zeroline": false,
           "zerolinecolor": "rgb(36,36,36)"
          }
         }
        },
        "xaxis": {
         "anchor": "y",
         "color": "black",
         "domain": [
          0,
          0.13555555555555557
         ],
         "linecolor": "black",
         "linewidth": 1,
         "showgrid": false,
         "showline": true,
         "title": {
          "text": ""
         }
        },
        "xaxis10": {
         "anchor": "y10",
         "color": "black",
         "domain": [
          0.5066666666666667,
          0.6422222222222222
         ],
         "linecolor": "black",
         "linewidth": 1,
         "showgrid": false,
         "showline": true,
         "title": {
          "text": "Step"
         }
        },
        "xaxis11": {
         "anchor": "y11",
         "color": "black",
         "domain": [
          0.6755555555555556,
          0.8111111111111111
         ],
         "linecolor": "black",
         "linewidth": 1,
         "showgrid": false,
         "showline": true,
         "title": {
          "text": "Step"
         }
        },
        "xaxis12": {
         "anchor": "y12",
         "color": "black",
         "domain": [
          0.8444444444444444,
          0.98
         ],
         "linecolor": "black",
         "linewidth": 1,
         "showgrid": false,
         "showline": true,
         "title": {
          "text": "Step"
         }
        },
        "xaxis2": {
         "anchor": "y2",
         "color": "black",
         "domain": [
          0.1688888888888889,
          0.30444444444444446
         ],
         "linecolor": "black",
         "linewidth": 1,
         "showgrid": false,
         "showline": true,
         "title": {
          "text": ""
         }
        },
        "xaxis3": {
         "anchor": "y3",
         "color": "black",
         "domain": [
          0.3377777777777778,
          0.4733333333333334
         ],
         "linecolor": "black",
         "linewidth": 1,
         "showgrid": false,
         "showline": true,
         "title": {
          "text": ""
         }
        },
        "xaxis4": {
         "anchor": "y4",
         "color": "black",
         "domain": [
          0.5066666666666667,
          0.6422222222222222
         ],
         "linecolor": "black",
         "linewidth": 1,
         "showgrid": false,
         "showline": true,
         "title": {
          "text": ""
         }
        },
        "xaxis5": {
         "anchor": "y5",
         "color": "black",
         "domain": [
          0.6755555555555556,
          0.8111111111111111
         ],
         "linecolor": "black",
         "linewidth": 1,
         "showgrid": false,
         "showline": true,
         "title": {
          "text": ""
         }
        },
        "xaxis6": {
         "anchor": "y6",
         "color": "black",
         "domain": [
          0.8444444444444444,
          0.98
         ],
         "linecolor": "black",
         "linewidth": 1,
         "showgrid": false,
         "showline": true,
         "title": {
          "text": ""
         }
        },
        "xaxis7": {
         "anchor": "y7",
         "color": "black",
         "domain": [
          0,
          0.13555555555555557
         ],
         "linecolor": "black",
         "linewidth": 1,
         "showgrid": false,
         "showline": true,
         "title": {
          "text": "Step"
         }
        },
        "xaxis8": {
         "anchor": "y8",
         "color": "black",
         "domain": [
          0.1688888888888889,
          0.30444444444444446
         ],
         "linecolor": "black",
         "linewidth": 1,
         "showgrid": false,
         "showline": true,
         "title": {
          "text": "Step"
         }
        },
        "xaxis9": {
         "anchor": "y9",
         "color": "black",
         "domain": [
          0.3377777777777778,
          0.4733333333333334
         ],
         "linecolor": "black",
         "linewidth": 1,
         "showgrid": false,
         "showline": true,
         "title": {
          "text": "Step"
         }
        },
        "yaxis": {
         "anchor": "x",
         "domain": [
          0.55,
          1
         ],
         "gridcolor": "lightgray",
         "linecolor": "black",
         "linewidth": 1,
         "showgrid": true,
         "showline": true,
         "tickfont": {
          "color": "black"
         },
         "title": {
          "text": "Belief Reasoning (chars)"
         }
        },
        "yaxis10": {
         "anchor": "x10",
         "domain": [
          0,
          0.45
         ],
         "gridcolor": "lightgray",
         "linecolor": "black",
         "linewidth": 1,
         "showgrid": true,
         "showline": true,
         "tickfont": {
          "color": "black"
         }
        },
        "yaxis11": {
         "anchor": "x11",
         "domain": [
          0,
          0.45
         ],
         "gridcolor": "lightgray",
         "linecolor": "black",
         "linewidth": 1,
         "showgrid": true,
         "showline": true,
         "tickfont": {
          "color": "black"
         }
        },
        "yaxis12": {
         "anchor": "x12",
         "domain": [
          0,
          0.45
         ],
         "gridcolor": "lightgray",
         "linecolor": "black",
         "linewidth": 1,
         "showgrid": true,
         "showline": true,
         "tickfont": {
          "color": "black"
         }
        },
        "yaxis2": {
         "anchor": "x2",
         "domain": [
          0.55,
          1
         ],
         "gridcolor": "lightgray",
         "linecolor": "black",
         "linewidth": 1,
         "showgrid": true,
         "showline": true,
         "tickfont": {
          "color": "black"
         }
        },
        "yaxis3": {
         "anchor": "x3",
         "domain": [
          0.55,
          1
         ],
         "gridcolor": "lightgray",
         "linecolor": "black",
         "linewidth": 1,
         "showgrid": true,
         "showline": true,
         "tickfont": {
          "color": "black"
         }
        },
        "yaxis4": {
         "anchor": "x4",
         "domain": [
          0.55,
          1
         ],
         "gridcolor": "lightgray",
         "linecolor": "black",
         "linewidth": 1,
         "showgrid": true,
         "showline": true,
         "tickfont": {
          "color": "black"
         }
        },
        "yaxis5": {
         "anchor": "x5",
         "domain": [
          0.55,
          1
         ],
         "gridcolor": "lightgray",
         "linecolor": "black",
         "linewidth": 1,
         "showgrid": true,
         "showline": true,
         "tickfont": {
          "color": "black"
         }
        },
        "yaxis6": {
         "anchor": "x6",
         "domain": [
          0.55,
          1
         ],
         "gridcolor": "lightgray",
         "linecolor": "black",
         "linewidth": 1,
         "showgrid": true,
         "showline": true,
         "tickfont": {
          "color": "black"
         }
        },
        "yaxis7": {
         "anchor": "x7",
         "domain": [
          0,
          0.45
         ],
         "gridcolor": "lightgray",
         "linecolor": "black",
         "linewidth": 1,
         "showgrid": true,
         "showline": true,
         "tickfont": {
          "color": "black"
         },
         "title": {
          "text": "Action Reasoning (chars)"
         }
        },
        "yaxis8": {
         "anchor": "x8",
         "domain": [
          0,
          0.45
         ],
         "gridcolor": "lightgray",
         "linecolor": "black",
         "linewidth": 1,
         "showgrid": true,
         "showline": true,
         "tickfont": {
          "color": "black"
         }
        },
        "yaxis9": {
         "anchor": "x9",
         "domain": [
          0,
          0.45
         ],
         "gridcolor": "lightgray",
         "linecolor": "black",
         "linewidth": 1,
         "showgrid": true,
         "showline": true,
         "tickfont": {
          "color": "black"
         }
        }
       }
      }
     },
     "metadata": {},
     "output_type": "display_data"
    }
   ],
   "source": [
    "fig.show()"
   ]
  },
  {
   "cell_type": "code",
   "execution_count": 146,
   "id": "84c410c1",
   "metadata": {},
   "outputs": [],
   "source": [
    "fig.write_image('figures/frontier_belief_total_reasoning_length.pdf', width=1500, height=600)"
   ]
  },
  {
   "cell_type": "code",
   "execution_count": 158,
   "id": "66f709a9",
   "metadata": {},
   "outputs": [],
   "source": [
    "def plot_belief_length_separate_figs(df):\n",
    "    envs = envs_ordered\n",
    "    from math import sqrt\n",
    "    import plotly\n",
    "    go = plotly.graph_objects\n",
    "    make_subplots = plotly.subplots.make_subplots\n",
    "\n",
    "    # Compute lengths for both reasoning fields\n",
    "    belief_reasoning_length = df['belief_reasoning'].astype(str).str.len()\n",
    "    action_reasoning_length = df['action_reasoning'].astype(str).str.len()\n",
    "\n",
    "    # Prepare dataframes for aggregation\n",
    "    df_belief = df.assign(_reasoning_len=belief_reasoning_length, _reasoning_type='Belief Reasoning')\n",
    "    df_action = df.assign(_reasoning_len=action_reasoning_length, _reasoning_type='Action Reasoning')\n",
    "    df2 = pd.concat([df_belief, df_action], ignore_index=True)\n",
    "\n",
    "    agg = (\n",
    "        df2.groupby(['env', 'model', 'attempt', '_reasoning_type'])\n",
    "        ._reasoning_len.agg(['mean', 'std', 'count'])\n",
    "        .reset_index()\n",
    "    )\n",
    "    agg['sem'] = agg['std'] / agg['count'].apply(lambda n: sqrt(n) if n > 0 else 1)\n",
    "\n",
    "    colors = [\n",
    "        \"#8B0000\",  # dark red\n",
    "        \"#FF6347\",  # medium red\n",
    "        \"#FFB6C1\",  # light red\n",
    "        \"#90EE90\",  # light green\n",
    "        \"#006400\",  # dark green\n",
    "        \"#32CD32\",  # medium green\n",
    "        \"#ADD8E6\",  # light blue\n",
    "        \"#4682B4\",  # medium blue\n",
    "        \"#003366\",  # dark blue\n",
    "    ]\n",
    "\n",
    "    model_color_map = {\n",
    "        'Deepseek V3 (ABBEL)': '#4682B4',\n",
    "        'Deepseek R1 (ABBEL)': '#8B0000',\n",
    "        'Gemini 2.5 Pro (ABBEL)': '#006400',\n",
    "        'Deepseek V3': '#4682B4',\n",
    "        'Deepseek R1': '#FFB6C1',\n",
    "        'Gemini 2.5 Pro': '#90EE90',\n",
    "        'Deepseek V3 (belief prompting)': '#4682B4',\n",
    "        'Deepseek R1 (belief prompting)': '#FF6347',\n",
    "        'Gemini 2.5 Pro (belief prompting)': '#32CD32',\n",
    "    }\n",
    "\n",
    "    figures = {}\n",
    "    \n",
    "    # Create separate figure for Belief Reasoning\n",
    "    fig_belief = make_subplots(\n",
    "        rows=1,\n",
    "        cols=len(envs),\n",
    "        shared_yaxes=False,\n",
    "        shared_xaxes=False,\n",
    "        subplot_titles=[f\"{env}\" for env in envs],\n",
    "        horizontal_spacing=0.03\n",
    "    )\n",
    "\n",
    "    models_seen_belief = set()\n",
    "    color_idx = 0\n",
    "\n",
    "    for col_idx, env in enumerate(envs, start=1):\n",
    "        sub = agg[(agg['env'] == env) & (agg['_reasoning_type'] == 'Belief Reasoning')]\n",
    "        for model in sub['model'].unique():\n",
    "            mdf = sub[sub['model'] == model].sort_values('attempt')\n",
    "            if model not in model_color_map:\n",
    "                model_color_map[model] = colors[color_idx % len(colors)]\n",
    "                color_idx += 1\n",
    "\n",
    "            if '(' in model:\n",
    "                show_legend = model not in models_seen_belief\n",
    "                models_seen_belief.add(model)\n",
    "                # Add shaded region for error bounds\n",
    "                fig_belief.add_trace(\n",
    "                    go.Scatter(\n",
    "                        x=list(mdf['attempt']) + list(mdf['attempt'][::-1]),\n",
    "                        y=list(mdf['mean'] + mdf['sem']) + list((mdf['mean'] - mdf['sem'])[::-1]),\n",
    "                        fill='toself',\n",
    "                        fillcolor=f\"rgba{tuple(list(plotly.colors.hex_to_rgb(model_color_map[model])) + [0.2])}\",\n",
    "                        line=dict(color='rgba(255,255,255,0)'),\n",
    "                        showlegend=False,\n",
    "                        hoverinfo='skip',\n",
    "                        legendgroup=str(model)\n",
    "                    ),\n",
    "                    row=1, col=col_idx\n",
    "                )\n",
    "                \n",
    "                # Add main line\n",
    "                fig_belief.add_trace(\n",
    "                    go.Scatter(\n",
    "                        x=mdf['attempt'],\n",
    "                        y=mdf['mean'],\n",
    "                        mode='lines+markers',\n",
    "                        name=str(model),\n",
    "                        legendgroup=str(model),\n",
    "                        showlegend=show_legend,\n",
    "                        line=dict(color=model_color_map[model], width=2)\n",
    "                    ),\n",
    "                    row=1, col=col_idx\n",
    "                )\n",
    "\n",
    "        fig_belief.update_xaxes(\n",
    "            title_text='Step',\n",
    "            color='black',\n",
    "            showline=True,\n",
    "            linecolor='black',\n",
    "            linewidth=1,\n",
    "            showgrid=False,\n",
    "            row=1, col=col_idx\n",
    "        )\n",
    "\n",
    "        fig_belief.update_yaxes(\n",
    "            title_text='Belief Reasoning Length' if col_idx == 1 else None,\n",
    "            showline=True,\n",
    "            linecolor='black',\n",
    "            linewidth=1,\n",
    "            tickfont=dict(color='black'),\n",
    "            showgrid=True,\n",
    "            gridcolor='lightgray',\n",
    "            row=1, col=col_idx\n",
    "        )\n",
    "\n",
    "    fig_belief.update_layout(\n",
    "        height=350,\n",
    "        template='simple_white',\n",
    "        font=dict(family='Computer Modern, serif', size=16),\n",
    "        barmode='group',\n",
    "        showlegend=True,\n",
    "        legend=dict(\n",
    "            orientation='v',\n",
    "            yanchor='middle',\n",
    "            y=0.5,\n",
    "            xanchor='left',\n",
    "            x=1.02,\n",
    "            bgcolor='rgba(255,255,255,0.9)',\n",
    "            bordercolor='black',\n",
    "            borderwidth=1\n",
    "        ),\n",
    "        margin=dict(t=100, b=50, l=80, r=80),\n",
    "        plot_bgcolor='white'\n",
    "    )\n",
    "\n",
    "    # Create separate figure for Action Reasoning\n",
    "    fig_action = make_subplots(\n",
    "        rows=1,\n",
    "        cols=len(envs),\n",
    "        shared_yaxes=False,\n",
    "        shared_xaxes=False,\n",
    "        subplot_titles=[f\"{env}\" for env in envs],\n",
    "        horizontal_spacing=0.03\n",
    "    )\n",
    "\n",
    "    models_seen_action = set()\n",
    "\n",
    "    for col_idx, env in enumerate(envs, start=1):\n",
    "        sub = agg[(agg['env'] == env) & (agg['_reasoning_type'] == 'Action Reasoning')]\n",
    "        for model in sub['model'].unique():\n",
    "            mdf = sub[sub['model'] == model].sort_values('attempt')\n",
    "            if model not in model_color_map:\n",
    "                model_color_map[model] = colors[color_idx % len(colors)]\n",
    "                color_idx += 1\n",
    "\n",
    "            show_legend = model not in models_seen_action\n",
    "            models_seen_action.add(model)\n",
    "            # Add shaded region for error bounds\n",
    "            fig_action.add_trace(\n",
    "                go.Scatter(\n",
    "                    x=list(mdf['attempt']) + list(mdf['attempt'][::-1]),\n",
    "                    y=list(mdf['mean'] + mdf['sem']) + list((mdf['mean'] - mdf['sem'])[::-1]),\n",
    "                    fill='toself',\n",
    "                    fillcolor=f\"rgba{tuple(list(plotly.colors.hex_to_rgb(model_color_map[model])) + [0.2])}\",\n",
    "                    line=dict(color='rgba(255,255,255,0)'),\n",
    "                    showlegend=False,\n",
    "                    hoverinfo='skip',\n",
    "                    legendgroup=str(model)\n",
    "                ),\n",
    "                row=1, col=col_idx\n",
    "            )\n",
    "            \n",
    "            # Add main line\n",
    "            fig_action.add_trace(\n",
    "                go.Scatter(\n",
    "                    x=mdf['attempt'],\n",
    "                    y=mdf['mean'],\n",
    "                    mode='lines+markers',\n",
    "                    name=str(model),\n",
    "                    legendgroup=str(model),\n",
    "                    showlegend=show_legend,\n",
    "                    line=dict(color=model_color_map[model], width=2)\n",
    "                ),\n",
    "                row=1, col=col_idx\n",
    "            )\n",
    "\n",
    "        fig_action.update_xaxes(\n",
    "            title_text='Step',\n",
    "            color='black',\n",
    "            showline=True,\n",
    "            linecolor='black',\n",
    "            linewidth=1,\n",
    "            showgrid=False,\n",
    "            row=1, col=col_idx\n",
    "        )\n",
    "\n",
    "        fig_action.update_yaxes(\n",
    "            title_text='Action Reasoning Length' if col_idx == 1 else None,\n",
    "            showline=True,\n",
    "            linecolor='black',\n",
    "            linewidth=1,\n",
    "            tickfont=dict(color='black'),\n",
    "            showgrid=True,\n",
    "            gridcolor='lightgray',\n",
    "            row=1, col=col_idx\n",
    "        )\n",
    "\n",
    "    fig_action.update_layout(\n",
    "        height=350,\n",
    "        template='simple_white',\n",
    "        font=dict(family='Computer Modern, serif', size=16),\n",
    "        barmode='group',\n",
    "        showlegend=True,\n",
    "        legend=dict(\n",
    "            orientation='v',\n",
    "            yanchor='middle',\n",
    "            y=0.5,\n",
    "            xanchor='left',\n",
    "            x=1.02,\n",
    "            bgcolor='rgba(255,255,255,0.9)',\n",
    "            bordercolor='black',\n",
    "            borderwidth=1\n",
    "        ),\n",
    "        margin=dict(t=100, b=50, l=80, r=80),\n",
    "        plot_bgcolor='white'\n",
    "    )\n",
    "\n",
    "    figures['belief'] = fig_belief\n",
    "    figures['action'] = fig_action\n",
    "    \n",
    "    return figures\n"
   ]
  },
  {
   "cell_type": "code",
   "execution_count": 159,
   "id": "0c6470a7",
   "metadata": {},
   "outputs": [
    {
     "data": {
      "application/vnd.plotly.v1+json": {
       "config": {
        "plotlyServerURL": "https://plot.ly"
       },
       "data": [
        {
         "fill": "toself",
         "fillcolor": "rgba(255, 182, 193, 0.2)",
         "hoverinfo": "skip",
         "legendgroup": "Deepseek R1",
         "line": {
          "color": "rgba(255,255,255,0)"
         },
         "showlegend": false,
         "type": "scatter",
         "x": [
          1,
          2,
          3,
          4,
          5,
          6,
          7,
          8,
          9,
          10,
          11,
          12,
          13,
          14,
          15,
          16,
          17,
          18,
          19,
          20,
          20,
          19,
          18,
          17,
          16,
          15,
          14,
          13,
          12,
          11,
          10,
          9,
          8,
          7,
          6,
          5,
          4,
          3,
          2,
          1
         ],
         "xaxis": "x",
         "y": [
          3532.7811169306597,
          2508.530235088487,
          3008.8920812827114,
          2519.504718802959,
          3547.2950104043657,
          4440.106846094121,
          4043.298067466064,
          5161.576860634192,
          4602.511361417276,
          5621.126555654113,
          4795.289000368952,
          5046.371057216089,
          5291.107017805398,
          4037.1589452848407,
          5061.145031643751,
          6138.438139397441,
          7884.047784683746,
          4590.107903181095,
          4407.861167221865,
          3595.1776507447703,
          2209.3223492552297,
          3101.4721661114677,
          3278.0032079300163,
          5572.583794263623,
          3874.6144921815057,
          3682.0723596605967,
          3226.6981975723024,
          4072.892982194602,
          3779.0664427839115,
          3907.6806966007443,
          4387.9322678753,
          3707.0997496938353,
          4033.3705077868613,
          3341.3519325339357,
          3569.49315390588,
          2875.0549895956347,
          2143.3452811970415,
          2446.907918717289,
          2056.719764911513,
          2931.7188830693403
         ],
         "yaxis": "y"
        },
        {
         "legendgroup": "Deepseek R1",
         "line": {
          "color": "#FFB6C1",
          "width": 2
         },
         "mode": "lines+markers",
         "name": "Deepseek R1",
         "showlegend": true,
         "type": "scatter",
         "x": {
          "bdata": "AQIDBAUGBwgJCgsMDQ4PEBESExQ=",
          "dtype": "i1"
         },
         "xaxis": "x",
         "y": {
          "bdata": "AAAAAIBAqUAAAAAAQNWhQM3MzMzMT6VAmpmZmdk2okCamZmZWRapQJqZmZmZSa9AZmZmZqbYrEDYUF5DefWxQDmO4zjOOrBAiIeHh4eMs0DwwQcffP+wQAAAAAC4PLFAAAAAAABKskBu27Zt21+sQE5vetObE7FAKK+hvIaOs0DlNZTXUEi6QHIcx3EcvK5AVVVVVVVVrUAAAAAAgKymQA==",
          "dtype": "f8"
         },
         "yaxis": "y"
        },
        {
         "fill": "toself",
         "fillcolor": "rgba(139, 0, 0, 0.2)",
         "hoverinfo": "skip",
         "legendgroup": "Deepseek R1 (ABBEL)",
         "line": {
          "color": "rgba(255,255,255,0)"
         },
         "showlegend": false,
         "type": "scatter",
         "x": [
          1,
          2,
          3,
          4,
          5,
          6,
          7,
          8,
          9,
          10,
          11,
          12,
          13,
          14,
          15,
          16,
          17,
          18,
          19,
          20,
          20,
          19,
          18,
          17,
          16,
          15,
          14,
          13,
          12,
          11,
          10,
          9,
          8,
          7,
          6,
          5,
          4,
          3,
          2,
          1
         ],
         "xaxis": "x",
         "y": [
          2352.200739298678,
          3401.7836514604205,
          3071.866452910348,
          2727.2952406568143,
          2903.031978732345,
          3152.717406070713,
          2891.0993752294435,
          2667.4912366782273,
          2669.9379311554335,
          3052.806527831444,
          2698.6009674959805,
          2707.724282600542,
          2437.0248001580717,
          3037.191099188878,
          2925.8868083849907,
          3083.4798058736305,
          2867.8834147062776,
          2635.383443771232,
          2847.1184699777114,
          3463.059496789311,
          2587.8293920995775,
          2281.407845811762,
          2211.590915203127,
          2440.3217134988504,
          2464.7253223314974,
          2470.1131916150093,
          2287.858900811122,
          2052.0251998419285,
          2313.025717399458,
          2149.99903250402,
          2503.0434721685565,
          2284.2620688445663,
          1994.4587633217723,
          2463.250624770557,
          2427.282593929287,
          2243.8680212676545,
          2207.054759343186,
          2500.4835470896523,
          2893.4663485395795,
          1980.3992607013226
         ],
         "yaxis": "y"
        },
        {
         "legendgroup": "Deepseek R1 (ABBEL)",
         "line": {
          "color": "#8B0000",
          "width": 2
         },
         "mode": "lines+markers",
         "name": "Deepseek R1 (ABBEL)",
         "showlegend": true,
         "type": "scatter",
         "x": {
          "bdata": "AQIDBAUGBwgJCgsMDQ4PEBESExQ=",
          "dtype": "i1"
         },
         "xaxis": "x",
         "y": {
          "bdata": "mpmZmZnsoEAAAAAAQJeoQJqZmZlZxKVAmpmZmVlGo0BmZmZm5hqkQAAAAAAAzKVAmpmZmVnqpEAzMzMz8zWiQDMzMzMzWqNAmpmZmdmzpUCamZmZmfCiQAAAAADAnKNAzczMzAyJoUDNzMzMDM2kQAAAAAAAFKVAgzRIgzSspUCDNEiDNLykQHD5lm/57qJAKK+hvIYIpECO4ziO46KnQA==",
          "dtype": "f8"
         },
         "yaxis": "y"
        },
        {
         "fill": "toself",
         "fillcolor": "rgba(255, 99, 71, 0.2)",
         "hoverinfo": "skip",
         "legendgroup": "Deepseek R1 (belief prompting)",
         "line": {
          "color": "rgba(255,255,255,0)"
         },
         "showlegend": false,
         "type": "scatter",
         "x": [
          1,
          2,
          3,
          4,
          5,
          6,
          7,
          8,
          9,
          10,
          11,
          12,
          13,
          14,
          15,
          16,
          17,
          18,
          19,
          20,
          20,
          19,
          18,
          17,
          16,
          15,
          14,
          13,
          12,
          11,
          10,
          9,
          8,
          7,
          6,
          5,
          4,
          3,
          2,
          1
         ],
         "xaxis": "x",
         "y": [
          2202.119059287582,
          2136.4064692914767,
          2973.2117851898424,
          2183.598781134414,
          3087.131574181809,
          2502.293541134878,
          2041.4409621845741,
          2360.1072095234017,
          2024.868868636422,
          2805.2907548780713,
          2824.1413434557653,
          2007.5132093122331,
          2390.373095592004,
          2007.3639933745187,
          3456.82319236198,
          2312.860122147505,
          2360.4956378885786,
          1729.1241749448482,
          2271.8886157742963,
          1870.8044575931078,
          1618.795542406892,
          1809.835522156738,
          1474.2951798938616,
          1813.8679984750572,
          1786.4541635667806,
          2253.010140971353,
          1649.8026732921478,
          1851.3566341377257,
          1695.9226881236643,
          2065.8086565442345,
          2190.1592451219285,
          1721.331131363578,
          1912.792790476598,
          1691.6590378154258,
          1777.456458865122,
          2321.4184258181913,
          1755.5012188655862,
          2251.7382148101574,
          1685.3935307085235,
          1878.480940712418
         ],
         "yaxis": "y"
        },
        {
         "legendgroup": "Deepseek R1 (belief prompting)",
         "line": {
          "color": "#FF6347",
          "width": 2
         },
         "mode": "lines+markers",
         "name": "Deepseek R1 (belief prompting)",
         "showlegend": true,
         "type": "scatter",
         "x": {
          "bdata": "AQIDBAUGBwgJCgsMDQ4PEBESExQ=",
          "dtype": "i1"
         },
         "xaxis": "x",
         "y": {
          "bdata": "MzMzMzPhn0CamZmZmdudQDMzMzPzaKRAMzMzMzPGnkDNzMzMjCClQAAAAADAt6BAMzMzMzMqnUBmZmZm5rCgQGZmZmZmRJ1AMzMzM3ODo0AzMzMz8xmjQC7f8i3f7pxAHEyRz7qRoEBVVVVVVZKcQFVVVVXVTaZAdVAHdVADoEB00UUXXU6gQFtrrbXWBplALPc0wnLjn0AzMzMzM0ObQA==",
          "dtype": "f8"
         },
         "yaxis": "y"
        },
        {
         "fill": "toself",
         "fillcolor": "rgba(144, 238, 144, 0.2)",
         "hoverinfo": "skip",
         "legendgroup": "Gemini 2.5 Pro",
         "line": {
          "color": "rgba(255,255,255,0)"
         },
         "showlegend": false,
         "type": "scatter",
         "x": [
          1,
          2,
          3,
          4,
          5,
          6,
          7,
          8,
          9,
          10,
          11,
          12,
          13,
          14,
          15,
          16,
          17,
          18,
          19,
          20,
          20,
          19,
          18,
          17,
          16,
          15,
          14,
          13,
          12,
          11,
          10,
          9,
          8,
          7,
          6,
          5,
          4,
          3,
          2,
          1
         ],
         "xaxis": "x",
         "y": [
          1696.1491133518173,
          1672.9054677104953,
          1777.7258447616946,
          1759.1267547634013,
          1738.8107599316074,
          1904.8054618062952,
          1988.065579259459,
          2015.849524678421,
          1998.9074967765837,
          1924.6187034333057,
          2016.949588936814,
          1863.4834030566938,
          1855.9915056935863,
          1814.2283714500184,
          2046.0298668580067,
          1730.7552192093412,
          1857.0856396684862,
          2111.047674167758,
          1910.0682655015967,
          1959.8998639019428,
          1682.3223583202794,
          1598.3317344984034,
          1741.827325832242,
          1625.6143603315136,
          1557.1678577137359,
          1847.9701331419933,
          1624.9049618833149,
          1723.3209943064137,
          1687.2388191655284,
          1872.1030426421335,
          1799.842835028233,
          1870.0925032234163,
          1879.1004753215789,
          1879.284420740541,
          1810.344538193705,
          1632.5892400683927,
          1644.3732452365987,
          1658.8741552383053,
          1548.7445322895048,
          1595.8008866481825
         ],
         "yaxis": "y"
        },
        {
         "legendgroup": "Gemini 2.5 Pro",
         "line": {
          "color": "#90EE90",
          "width": 2
         },
         "mode": "lines+markers",
         "name": "Gemini 2.5 Pro",
         "showlegend": true,
         "type": "scatter",
         "x": {
          "bdata": "AQIDBAUGBwgJCgsMDQ4PEBESExQ=",
          "dtype": "i1"
         },
         "xaxis": "x",
         "y": {
          "bdata": "ZmZmZua3mUDNzMzMTCuZQDMzMzMz2ZpAAAAAAACXmkDNzMzMzFaaQM3MzMxMBp1AMzMzM7M2nkBmZmZm5m2eQAAAAAAAOp5AT+zETuwYnUCivIbyGmKeQMdxHMdxvZtAAAAAAKD2m0BERERERN6aQAAAAAAAbJ5AntiJndivmUBmZmZmZjWbQAAAAADAGZ5AzczMzMxom0DHcRzHcXScQA==",
          "dtype": "f8"
         },
         "yaxis": "y"
        },
        {
         "fill": "toself",
         "fillcolor": "rgba(0, 100, 0, 0.2)",
         "hoverinfo": "skip",
         "legendgroup": "Gemini 2.5 Pro (ABBEL)",
         "line": {
          "color": "rgba(255,255,255,0)"
         },
         "showlegend": false,
         "type": "scatter",
         "x": [
          1,
          2,
          3,
          4,
          5,
          6,
          7,
          8,
          9,
          10,
          11,
          12,
          13,
          14,
          15,
          16,
          17,
          18,
          19,
          20,
          20,
          19,
          18,
          17,
          16,
          15,
          14,
          13,
          12,
          11,
          10,
          9,
          8,
          7,
          6,
          5,
          4,
          3,
          2,
          1
         ],
         "xaxis": "x",
         "y": [
          1592.8664909287875,
          1532.7875878244854,
          1578.9443469907906,
          1672.6444962354033,
          1674.1268678997046,
          1662.15222359126,
          1557.9843243206185,
          1627.0676682128997,
          1570.1142427996188,
          1499.219326091152,
          1506.2519039932658,
          1544.8524895707096,
          1535.1344428612915,
          1500.0516347664654,
          1471.0292455806357,
          1657.2490334415097,
          1782.5127722929412,
          1535.1392516540113,
          2109.1251106424834,
          1667.3618453397505,
          1466.6381546602495,
          1599.8748893575164,
          1352.7069021921425,
          1570.2015134213445,
          1493.6921430290786,
          1325.923135371745,
          1326.8055080906772,
          1403.3455571387085,
          1391.9217039776777,
          1419.2075554661938,
          1395.780673908848,
          1461.629346943971,
          1526.2823317871002,
          1448.8156756793817,
          1540.8977764087401,
          1550.6231321002954,
          1545.7555037645968,
          1463.9556530092095,
          1425.8124121755145,
          1480.0335090712126
         ],
         "yaxis": "y"
        },
        {
         "legendgroup": "Gemini 2.5 Pro (ABBEL)",
         "line": {
          "color": "#006400",
          "width": 2
         },
         "mode": "lines+markers",
         "name": "Gemini 2.5 Pro (ABBEL)",
         "showlegend": true,
         "type": "scatter",
         "x": {
          "bdata": "AQIDBAUGBwgJCgsMDQ4PEBESExQ=",
          "dtype": "i1"
         },
         "xaxis": "x",
         "y": {
          "bdata": "zczMzMwBmEAzMzMzMx2XQM3MzMzMxZdAzczMzMwkmUAAAAAAgDGZQJqZmZkZBplAmpmZmZl9l0AzMzMzs6KYQLh8y7d8r5dAAAAAAACelkBvMEU+69qWQDLGGGOM8ZZAKVyPwvX0lkDbtm3bthWWQJ7neZ7n2ZVA4uHh4eGdmEC3bdu2bTGaQDuxEzuxj5ZAAAAAAAD6nEAAAAAAAHyYQA==",
          "dtype": "f8"
         },
         "yaxis": "y"
        },
        {
         "fill": "toself",
         "fillcolor": "rgba(50, 205, 50, 0.2)",
         "hoverinfo": "skip",
         "legendgroup": "Gemini 2.5 Pro (belief prompting)",
         "line": {
          "color": "rgba(255,255,255,0)"
         },
         "showlegend": false,
         "type": "scatter",
         "x": [
          1,
          2,
          3,
          4,
          5,
          6,
          7,
          8,
          9,
          10,
          11,
          12,
          13,
          14,
          15,
          16,
          17,
          18,
          19,
          20,
          20,
          19,
          18,
          17,
          16,
          15,
          14,
          13,
          12,
          11,
          10,
          9,
          8,
          7,
          6,
          5,
          4,
          3,
          2,
          1
         ],
         "xaxis": "x",
         "y": [
          1604.9762178151625,
          1500.2837932065704,
          1650.9746534474411,
          1663.5016656000566,
          1689.0399643469266,
          1658.1591680205736,
          1714.522835361838,
          1762.7777507950339,
          1673.6268946166072,
          1679.0702397477737,
          1632.4347194051002,
          1593.442522779197,
          1487.1239402123003,
          1472.9308200834334,
          1468.5158954362257,
          1488.8449532771126,
          1338.0367565078857,
          1442.4322364164211,
          1296.747605320042,
          1197.3489893740104,
          944.2065661815453,
          1166.252394679958,
          1236.1831481989636,
          1158.2132434921143,
          1349.7550467228873,
          1299.3888664685362,
          1348.3491799165668,
          1378.255370132527,
          1459.2241438874696,
          1522.6509948806142,
          1549.2000305224967,
          1529.7415264360245,
          1605.3248133075301,
          1603.5284466894443,
          1545.0408319794262,
          1576.5600356530733,
          1570.7483343999434,
          1557.425346552559,
          1398.0162067934298,
          1521.8737821848374
         ],
         "yaxis": "y"
        },
        {
         "legendgroup": "Gemini 2.5 Pro (belief prompting)",
         "line": {
          "color": "#32CD32",
          "width": 2
         },
         "mode": "lines+markers",
         "name": "Gemini 2.5 Pro (belief prompting)",
         "showlegend": true,
         "type": "scatter",
         "x": {
          "bdata": "AQIDBAUGBwgJCgsMDQ4PEBESExQ=",
          "dtype": "i1"
         },
         "xaxis": "x",
         "y": {
          "bdata": "MzMzM7NtmECamZmZmaSWQM3MzMzMEJlAAAAAAIBEmUAzMzMzM4OZQGZmZmZmBplAQhqkQRrsmUCDNEiDNFCaQGwor6G8BplAyWfdYIo4mUDjK77iK6aYQFVVVVVV2ZdAIyz3NMJilkDD9ShcjwqWQD3P8zzPn5VAMzMzMzMtlkAAAAAAgICTQBQ7sRM77ZRAAAAAAAA+k0ByHMdxHLuQQA==",
          "dtype": "f8"
         },
         "yaxis": "y"
        },
        {
         "fill": "toself",
         "fillcolor": "rgba(255, 182, 193, 0.2)",
         "hoverinfo": "skip",
         "legendgroup": "Deepseek R1",
         "line": {
          "color": "rgba(255,255,255,0)"
         },
         "showlegend": false,
         "type": "scatter",
         "x": [
          1,
          2,
          3,
          4,
          5,
          6,
          7,
          8,
          9,
          10,
          11,
          12,
          13,
          14,
          15,
          16,
          17,
          18,
          19,
          20,
          20,
          19,
          18,
          17,
          16,
          15,
          14,
          13,
          12,
          11,
          10,
          9,
          8,
          7,
          6,
          5,
          4,
          3,
          2,
          1
         ],
         "xaxis": "x2",
         "y": [
          1750.320427959729,
          1389.3771778489238,
          1414.7585466743185,
          1410.3556559140081,
          1779.1240209661314,
          2510.555626271805,
          2498.2320229450024,
          2609.5577142222082,
          1635.7252323087666,
          3168.436382374494,
          2551.1406655344977,
          2656.244808440788,
          1817.365014858066,
          3063.7002537634567,
          2568.20910757994,
          3787.9272025922405,
          3073.4186408398155,
          2598.881564163479,
          2213.64698151877,
          2504.889502879685,
          1733.5104971203143,
          1655.5530184812299,
          2006.3184358365206,
          1810.5813591601845,
          2176.17279740776,
          1783.8908924200605,
          1954.6806986174956,
          1406.544076051025,
          1844.7986698200818,
          1747.1093344655026,
          2104.4866945485833,
          1330.4126987257162,
          1799.1756191111253,
          1750.9800982671184,
          1860.838313122134,
          1451.1616933195828,
          1167.9146143562623,
          1196.1914533256813,
          1126.2728221510763,
          1348.029572040271
         ],
         "yaxis": "y2"
        },
        {
         "legendgroup": "Deepseek R1",
         "line": {
          "color": "#FFB6C1",
          "width": 2
         },
         "mode": "lines+markers",
         "name": "Deepseek R1",
         "showlegend": false,
         "type": "scatter",
         "x": {
          "bdata": "AQIDBAUGBwgJCgsMDQ4PEBESExQ=",
          "dtype": "i1"
         },
         "xaxis": "x2",
         "y": {
          "bdata": "MzMzM7M0mEDNzMzMTKeTQGZmZmbmZZRAyWfdYIoklEBJkiRJkjyZQJNNNtlkE6FA2WSTTTaZoEC8u7u7uzihQGqE5Z5GLJdAT+zETuyYpEAAAAAAQMqgQIYsZCELlaFARhdddNEvmUCGYRiGYZqjQJqZmZkZAKFAmpmZmRlMp0AAAAAAABSjQDMzMzMz/aFAZmZmZmY6nkBmZmZmZo6gQA==",
          "dtype": "f8"
         },
         "yaxis": "y2"
        },
        {
         "fill": "toself",
         "fillcolor": "rgba(139, 0, 0, 0.2)",
         "hoverinfo": "skip",
         "legendgroup": "Deepseek R1 (ABBEL)",
         "line": {
          "color": "rgba(255,255,255,0)"
         },
         "showlegend": false,
         "type": "scatter",
         "x": [
          1,
          2,
          3,
          4,
          5,
          6,
          7,
          8,
          9,
          10,
          11,
          12,
          13,
          14,
          15,
          16,
          17,
          18,
          19,
          20,
          20,
          19,
          18,
          17,
          16,
          15,
          14,
          13,
          12,
          11,
          10,
          9,
          8,
          7,
          6,
          5,
          4,
          3,
          2,
          1
         ],
         "xaxis": "x2",
         "y": [
          1901.8996783960815,
          2220.628969356023,
          3186.2569389951673,
          2812.518448530007,
          2087.6565107410415,
          2364.5090667312234,
          2991.4288242180055,
          2138.3663829068946,
          2477.6534066140366,
          2531.766982263118,
          2248.336780469249,
          2835.3232940013745,
          1523.4287365812288,
          2347.9856842838417,
          1655.208834869668,
          2148.5249769001816,
          1599.3501305470675,
          1610.9945561493987,
          1822.3435512702351,
          2272.535350345537,
          1376.9191951090086,
          1332.579525652842,
          1322.3387771839348,
          1333.983202786266,
          1513.3416897664852,
          1311.3244984636653,
          1642.8143157161585,
          1273.1962634187712,
          1885.6767059986255,
          1764.967567356838,
          1871.9930177368822,
          1530.9391859785562,
          1615.7076911671793,
          2185.0378424486607,
          1695.957599935443,
          1713.9684892589587,
          2096.076146064588,
          2314.92254818432,
          1573.621030643977,
          1314.3003216039183
         ],
         "yaxis": "y2"
        },
        {
         "legendgroup": "Deepseek R1 (ABBEL)",
         "line": {
          "color": "#8B0000",
          "width": 2
         },
         "mode": "lines+markers",
         "name": "Deepseek R1 (ABBEL)",
         "showlegend": false,
         "type": "scatter",
         "x": {
          "bdata": "AQIDBAUGBwgJCgsMDQ4PEBESExQ=",
          "dtype": "i1"
         },
         "xaxis": "x2",
         "y": {
          "bdata": "ZmZmZmYgmUAAAAAAgKSdQPMt3/ItfaVAKvJZN5gso0AAAAAAQLOdQO/u7u7uuJ9Ad3d3d3c4pEBCewntJVSdQBPaS2gvUZ9A9ihcj8IzoUBOb3rTm1qfQAAAAAAAcaJAAAAAAEDZlUCamZmZmS2fQBERERERLZdAvLu7u7ubnECrqqqqquqWQKuqqqqq6pZAntiJndilmECjiy666IKcQA==",
          "dtype": "f8"
         },
         "yaxis": "y2"
        },
        {
         "fill": "toself",
         "fillcolor": "rgba(255, 99, 71, 0.2)",
         "hoverinfo": "skip",
         "legendgroup": "Deepseek R1 (belief prompting)",
         "line": {
          "color": "rgba(255,255,255,0)"
         },
         "showlegend": false,
         "type": "scatter",
         "x": [
          1,
          2,
          3,
          4,
          5,
          6,
          7,
          8,
          9,
          10,
          11,
          12,
          13,
          14,
          15,
          16,
          17,
          18,
          19,
          20,
          20,
          19,
          18,
          17,
          16,
          15,
          14,
          13,
          12,
          11,
          10,
          9,
          8,
          7,
          6,
          5,
          4,
          3,
          2,
          1
         ],
         "xaxis": "x2",
         "y": [
          1531.4580867672034,
          1577.9979293943309,
          1356.1063532075502,
          1373.6250162972608,
          2095.7656383506996,
          2067.829627061761,
          1955.461546583421,
          1381.2517513412372,
          2105.803069561452,
          2248.519453980686,
          1648.9747889096066,
          1789.2822943689114,
          2143.9209752010784,
          2086.8101756708106,
          2976.387674358938,
          1470.3784319640652,
          1447.5082538241472,
          1372.0844030484825,
          2020.6777234294966,
          1595.9009143884068,
          1344.36575227826,
          1297.98894323717,
          1226.6655969515175,
          1250.1167461758528,
          1301.386273918288,
          1887.3901034188393,
          1547.078713218078,
          1256.5000774305004,
          1346.7177056310886,
          1375.3109253761077,
          1629.9350914738593,
          1516.7186695689832,
          1188.3778782883924,
          1480.7320018036755,
          1408.1703729382386,
          1560.3486473635862,
          1139.263872591628,
          1092.6628775616807,
          1145.202070605669,
          1181.8919132327965
         ],
         "yaxis": "y2"
        },
        {
         "legendgroup": "Deepseek R1 (belief prompting)",
         "line": {
          "color": "#FF6347",
          "width": 2
         },
         "mode": "lines+markers",
         "name": "Deepseek R1 (belief prompting)",
         "showlegend": false,
         "type": "scatter",
         "x": {
          "bdata": "AQIDBAUGBwgJCgsMDQ4PEBESExQ=",
          "dtype": "i1"
         },
         "xaxis": "x2",
         "y": {
          "bdata": "MzMzM7MylUBmZmZmZkaVQNmJndiJIZNAHMdxHMehk0CEOqiDOpCcQAAAAAAAKJtAjDHGGGPYmkC0l9BeQhOUQIYsZCELTZxAo4suuuhMnkBJkiRJkqCXQAAAAAAAgJhADeU1lNeQmkAcx3Ecx2OcQBzHcRzH/6JAiIeHh4enlUAAAAAAQBOVQAAAAACATZRAVVVVVVXtmUCJiIiIiPiWQA==",
          "dtype": "f8"
         },
         "yaxis": "y2"
        },
        {
         "fill": "toself",
         "fillcolor": "rgba(144, 238, 144, 0.2)",
         "hoverinfo": "skip",
         "legendgroup": "Gemini 2.5 Pro",
         "line": {
          "color": "rgba(255,255,255,0)"
         },
         "showlegend": false,
         "type": "scatter",
         "x": [
          1,
          2,
          3,
          4,
          5,
          6,
          7,
          8,
          9,
          10,
          11,
          12,
          13,
          14,
          15,
          16,
          17,
          18,
          19,
          20,
          20,
          19,
          18,
          17,
          16,
          15,
          14,
          13,
          12,
          11,
          10,
          9,
          8,
          7,
          6,
          5,
          4,
          3,
          2,
          1
         ],
         "xaxis": "x2",
         "y": [
          1696.1409382149022,
          1306.241406160372,
          1402.292133095667,
          1431.7520837786842,
          1666.5465823676386,
          1520.317251373676,
          1377.4539856678205,
          1612.008386761685,
          1213.7073268876195,
          1388.6609610998826,
          1362.9890366222007,
          1540.1151996301307,
          1596.3546768063516,
          1746.8804126641537,
          1424.7381334314757,
          1769.8960517914757,
          1364.3482384932108,
          1495.5706883779594,
          1092,
          2417,
          644,
          1057,
          957.9293116220406,
          1025.1517615067892,
          1438.1039482085243,
          934.9285332351908,
          1297.1195873358463,
          1124.6453231936484,
          1227.8848003698693,
          1159.8442967111328,
          1258.767610328689,
          1024.7371175568248,
          1371.6437871513585,
          1213.129347665513,
          1350.8970343406097,
          1365.920084299028,
          1278.894975044845,
          1277.2634224598887,
          1197.4585938396278,
          1549.3090617850976
         ],
         "yaxis": "y2"
        },
        {
         "legendgroup": "Gemini 2.5 Pro",
         "line": {
          "color": "#90EE90",
          "width": 2
         },
         "mode": "lines+markers",
         "name": "Gemini 2.5 Pro",
         "showlegend": false,
         "type": "scatter",
         "x": {
          "bdata": "AQIDBAUGBwgJCgsMDQ4PEBESExQ=",
          "dtype": "i1"
         },
         "xaxis": "x2",
         "y": {
          "bdata": "ZmZmZuZamUBmZmZmZo+TQHIcx3Ec75RAS0tLS0stlUDv7u7u7rCXQLdt27ZtbpZAq6qqqio9lECnN73pTU+XQI7jOI7jfJFAbtu2bduulECrqqqqqrWTQAAAAAAAoJVAAAAAAABClUAAAAAAAMiXQFVVVVVVb5JAAAAAAAAQmUAAAAAAAKuSQAAAAAAAK5NAAAAAAADKkEAAAAAAAOqXQA==",
          "dtype": "f8"
         },
         "yaxis": "y2"
        },
        {
         "fill": "toself",
         "fillcolor": "rgba(0, 100, 0, 0.2)",
         "hoverinfo": "skip",
         "legendgroup": "Gemini 2.5 Pro (ABBEL)",
         "line": {
          "color": "rgba(255,255,255,0)"
         },
         "showlegend": false,
         "type": "scatter",
         "x": [
          1,
          2,
          3,
          4,
          5,
          6,
          7,
          8,
          9,
          10,
          11,
          12,
          13,
          14,
          15,
          16,
          17,
          18,
          19,
          20,
          20,
          19,
          18,
          17,
          16,
          15,
          14,
          13,
          12,
          11,
          10,
          9,
          8,
          7,
          6,
          5,
          4,
          3,
          2,
          1
         ],
         "xaxis": "x2",
         "y": [
          1372.7481946678424,
          1477.9153076840214,
          1537.0687936399231,
          1503.9059694738705,
          1525.2149288810513,
          1509.1091620455388,
          1459.557709445378,
          1484.9186328278738,
          1690.1303952338599,
          1625.059963137341,
          1813.0424892999783,
          1753.2397646180207,
          1827.7447002883498,
          1887.1915537823106,
          1867.5367062140474,
          1822.3700863258803,
          1659.3485935980482,
          1724.810753069734,
          1521.6810927502534,
          1743.3000349324598,
          1457.0332984008737,
          1254.5689072497466,
          1338.967024708044,
          1429.2514064019517,
          1469.8299136741196,
          1641.008748331407,
          1560.6417795510229,
          1553.5886330449837,
          1490.7602353819793,
          1584.1154054368637,
          1449.8924178150398,
          1534.7862714328066,
          1353.2242243149835,
          1330.254790554622,
          1372.8908379544612,
          1392.7850711189487,
          1367.199293684024,
          1398.6680484653402,
          1358.1846923159785,
          1248.6518053321577
         ],
         "yaxis": "y2"
        },
        {
         "legendgroup": "Gemini 2.5 Pro (ABBEL)",
         "line": {
          "color": "#006400",
          "width": 2
         },
         "mode": "lines+markers",
         "name": "Gemini 2.5 Pro (ABBEL)",
         "showlegend": false,
         "type": "scatter",
         "x": {
          "bdata": "AQIDBAUGBwgJCgsMDQ4PEBESExQ=",
          "dtype": "i1"
         },
         "xaxis": "x2",
         "y": {
          "bdata": "zczMzMx6lEAzMzMzMyiWQNhQXkN575ZAQ3kN5TVulkAAAAAAAMyWQAAAAAAAhJZAAAAAAKDLlUAlSZIkSSyWQFVVVVXVMZlAnud5nucFmEDlNZTXUIqaQAAAAAAAWJlAq6qqqqpqmkCrqqqqqu+aQF100UUXaZtAZmZmZma4mUAzMzMzMyGYQDmO4ziO75dAAAAAAICwlUCrqqqqqgCZQA==",
          "dtype": "f8"
         },
         "yaxis": "y2"
        },
        {
         "fill": "toself",
         "fillcolor": "rgba(50, 205, 50, 0.2)",
         "hoverinfo": "skip",
         "legendgroup": "Gemini 2.5 Pro (belief prompting)",
         "line": {
          "color": "rgba(255,255,255,0)"
         },
         "showlegend": false,
         "type": "scatter",
         "x": [
          1,
          2,
          3,
          4,
          5,
          6,
          7,
          8,
          9,
          10,
          11,
          12,
          13,
          14,
          15,
          16,
          17,
          18,
          19,
          20,
          20,
          19,
          18,
          17,
          16,
          15,
          14,
          13,
          12,
          11,
          10,
          9,
          8,
          7,
          6,
          5,
          4,
          3,
          2,
          1
         ],
         "xaxis": "x2",
         "y": [
          1469.7582547160207,
          1524.6857928854051,
          1347.2022289334486,
          1475.4365271950592,
          1388.1677575302294,
          1336.9078697835819,
          1322.5895754259811,
          1339.8786178426174,
          1362.5785260831337,
          1312.6229793609575,
          1150.7012548507444,
          1243.8938625953813,
          1518.0194232695078,
          1214.008687492988,
          1177.0639509233526,
          1311.980643348323,
          2125.486097042998,
          1813.6973939684492,
          1289.0142690577522,
          1218,
          564,
          704.9857309422478,
          934.9692726982173,
          1124.5139029570018,
          1105.3526899850106,
          1093.6027157433139,
          849.491312507012,
          1080.3805767304923,
          1018.5061374046188,
          952.232078482589,
          1035.6123147566893,
          1121.4214739168663,
          1125.6213821573826,
          1119.170424574019,
          1171.4921302164182,
          1261.8322424697706,
          1320.7920442335121,
          1246.2336685024488,
          1442.464207114595,
          1358.3917452839794
         ],
         "yaxis": "y2"
        },
        {
         "legendgroup": "Gemini 2.5 Pro (belief prompting)",
         "line": {
          "color": "#32CD32",
          "width": 2
         },
         "mode": "lines+markers",
         "name": "Gemini 2.5 Pro (belief prompting)",
         "showlegend": false,
         "type": "scatter",
         "x": {
          "bdata": "AQIDBAUGBwgJCgsMDQ4PEBESExQ=",
          "dtype": "i1"
         },
         "xaxis": "x2",
         "y": {
          "bdata": "zczMzEwYlkDNzMzMTC6XQC7f8i3fQpRAB3VQB3XYlUAAAAAAALSUQM3MzMzMmJNA7FG4HoUTk0AAAAAAAEOTQAAAAAAAaJNAeHh4eHhYkkDe3d3d3W2QQM3MzMzMrJFAzczMzMxMlEAAAAAAAB+QQFVVVVVVvZFAq6qqqqrikkAAAAAAAGSZQFVVVVVVeZVAAAAAAAAoj0AAAAAAANiLQA==",
          "dtype": "f8"
         },
         "yaxis": "y2"
        },
        {
         "fill": "toself",
         "fillcolor": "rgba(255, 182, 193, 0.2)",
         "hoverinfo": "skip",
         "legendgroup": "Deepseek R1",
         "line": {
          "color": "rgba(255,255,255,0)"
         },
         "showlegend": false,
         "type": "scatter",
         "x": [
          1,
          2,
          3,
          4,
          5,
          6,
          7,
          8,
          9,
          10,
          11,
          12,
          13,
          14,
          15,
          16,
          17,
          18,
          19,
          20,
          20,
          19,
          18,
          17,
          16,
          15,
          14,
          13,
          12,
          11,
          10,
          9,
          8,
          7,
          6,
          5,
          4,
          3,
          2,
          1
         ],
         "xaxis": "x3",
         "y": [
          1440.9727777141456,
          1918.3927639490003,
          2199.341298275972,
          2542.4931543758116,
          3427.1708056640036,
          3588.922587202574,
          4811.000802973302,
          4135.79165189414,
          5395.949003622858,
          5465.363779586342,
          7879.652997676352,
          6664.867611993718,
          5372.772850049784,
          6837.997252863957,
          9601.786072546782,
          8331.313249380064,
          8401.697105112107,
          7511.394621647267,
          9721.773784402487,
          7531.262300895152,
          5735.987699104848,
          7341.601215597513,
          5328.958319529203,
          6014.1917837767805,
          6193.086750619936,
          7153.261546500837,
          4762.639110772407,
          4001.611765334831,
          4637.440080313973,
          5375.747002323647,
          4028.8237204136576,
          4131.328774154919,
          3140.7639036614155,
          3482.36761807933,
          2438.3081820281955,
          2549.0791943359964,
          1955.656845624188,
          1790.7587017240282,
          1524.0072360509998,
          1178.6772222858544
         ],
         "yaxis": "y3"
        },
        {
         "legendgroup": "Deepseek R1",
         "line": {
          "color": "#FFB6C1",
          "width": 2
         },
         "mode": "lines+markers",
         "name": "Deepseek R1",
         "showlegend": false,
         "type": "scatter",
         "x": {
          "bdata": "AQIDBAUGBwgJCgsMDQ4PEBESExQ=",
          "dtype": "i1"
         },
         "xaxis": "x3",
         "y": {
          "bdata": "zczMzEx3lEDNzMzMzOSaQDMzMzMzLJ9AZmZmZiaSoUAAAAAAQFinQBQ7sRM7i6dAG8prKK8ysEA5juM4jmysQI7jOI6jm7JAAAAAABiLskAzMzMzs+O5QGIndmInE7ZAO7ETOzFPskBGF110Uai2QAzDMAzDXMBAMzMzMzNevEDHcRzH8Se8QC0tLS0tFLlAAAAAANipwEAAAAAAoOm5QA==",
          "dtype": "f8"
         },
         "yaxis": "y3"
        },
        {
         "fill": "toself",
         "fillcolor": "rgba(139, 0, 0, 0.2)",
         "hoverinfo": "skip",
         "legendgroup": "Deepseek R1 (ABBEL)",
         "line": {
          "color": "rgba(255,255,255,0)"
         },
         "showlegend": false,
         "type": "scatter",
         "x": [
          1,
          2,
          3,
          4,
          5,
          6,
          7,
          8,
          9,
          10,
          11,
          12,
          13,
          14,
          15,
          16,
          17,
          18,
          19,
          20,
          20,
          19,
          18,
          17,
          16,
          15,
          14,
          13,
          12,
          11,
          10,
          9,
          8,
          7,
          6,
          5,
          4,
          3,
          2,
          1
         ],
         "xaxis": "x3",
         "y": [
          1698.9470727198882,
          2327.211215998219,
          2066.8957417645693,
          2487.0149786210577,
          3141.275740205751,
          2176.2025166931244,
          2234.797864055604,
          2528.5951715103706,
          2207.0965540094194,
          2511.9417001801307,
          2501.11382858174,
          1975.5643367530206,
          2063.293384069915,
          2299.6014907449908,
          2715.415596770463,
          3269.879662795219,
          3319.132118683781,
          3119.1631199840504,
          3064.888387166181,
          2621.129937077132,
          1839.750062922868,
          1832.6671683893746,
          2277.408308587378,
          2189.2127089024257,
          2312.6364662370397,
          1862.7662214113554,
          1720.3396857255977,
          1636.0780445015134,
          1556.949948961265,
          1712.1083936404825,
          1984.5846156093426,
          1753.5188306059651,
          1981.1548284896294,
          1870.1021359443957,
          1683.8974833068755,
          2291.5242597942492,
          1832.1350213789417,
          1676.2542582354308,
          1777.9387840017807,
          1349.8029272801118
         ],
         "yaxis": "y3"
        },
        {
         "legendgroup": "Deepseek R1 (ABBEL)",
         "line": {
          "color": "#8B0000",
          "width": 2
         },
         "mode": "lines+markers",
         "name": "Deepseek R1 (ABBEL)",
         "showlegend": false,
         "type": "scatter",
         "x": {
          "bdata": "AQIDBAUGBwgJCgsMDQ4PEBESExQ=",
          "dtype": "i1"
         },
         "xaxis": "x3",
         "y": {
          "bdata": "AAAAAIDRl0BmZmZmJgmgQM3MzMxMPp1AZmZmZibfoEDNzMzMzDilQDMzMzMzKJ5AZmZmZuYIoEAAAAAAwJ2hQBQ7sRM78Z5AKK+hvIaQoUDkOI7jOHWgQFAHdVAHmZtALL7iK77mnEDi4eHh4WefQLrooosu4qFAEUIIIYTOpUCE5Z5GWISlQEmSJEmSFKVAOY7jOI4ho0B7FK5H4WyhQA==",
          "dtype": "f8"
         },
         "yaxis": "y3"
        },
        {
         "fill": "toself",
         "fillcolor": "rgba(255, 99, 71, 0.2)",
         "hoverinfo": "skip",
         "legendgroup": "Deepseek R1 (belief prompting)",
         "line": {
          "color": "rgba(255,255,255,0)"
         },
         "showlegend": false,
         "type": "scatter",
         "x": [
          1,
          2,
          3,
          4,
          5,
          6,
          7,
          8,
          9,
          10,
          11,
          12,
          13,
          14,
          15,
          16,
          17,
          18,
          19,
          20,
          20,
          19,
          18,
          17,
          16,
          15,
          14,
          13,
          12,
          11,
          10,
          9,
          8,
          7,
          6,
          5,
          4,
          3,
          2,
          1
         ],
         "xaxis": "x3",
         "y": [
          1573.6476028507757,
          2116.1577655752503,
          2261.6362250261614,
          2522.743683106068,
          2117.7788311388604,
          2596.1048898632016,
          2249.8101660316206,
          1733.3968248971146,
          2231.591640406676,
          2782.04082151011,
          3637.923457653056,
          4578.375273415025,
          4610.907174092386,
          4985.958659688056,
          5536.905246679736,
          5874.310876826238,
          5030.349955492771,
          7175.938969632327,
          6719.784872273355,
          10250.103562506785,
          7749.805528402308,
          4840.215127726645,
          4901.246215552857,
          3056.650044507229,
          4279.355789840428,
          3870.4697533202643,
          3463.071643342248,
          2995.15343196822,
          3258.48959144984,
          2230.076542346944,
          1992.0672865979984,
          1759.9346753827974,
          1444.4531751028853,
          1635.8398339683797,
          1897.795110136798,
          1443.3211688611395,
          1620.306316893932,
          1702.0137749738387,
          1608.64223442475,
          1150.9523971492242
         ],
         "yaxis": "y3"
        },
        {
         "legendgroup": "Deepseek R1 (belief prompting)",
         "line": {
          "color": "#FF6347",
          "width": 2
         },
         "mode": "lines+markers",
         "name": "Deepseek R1 (belief prompting)",
         "showlegend": false,
         "type": "scatter",
         "x": {
          "bdata": "AQIDBAUGBwgJCgsMDQ4PEBESExQ=",
          "dtype": "i1"
         },
         "xaxis": "x3",
         "y": {
          "bdata": "MzMzMzNJlUCamZmZmRmdQM3MzMxM955AzczMzAwvoEAzMzMzM9KbQGZmZmbmjaFAzczMzExbnkAzMzMzs9OYQFFeQ3kNL59AwhT5rBumokAAAAAAAOymQA6myGfdnK5APvjggw+2rUAQPvjgg4CwQAAAAACwX7JAVVVVVdXUs0AAAAAAAJevQAntJbSXlrdAAAAAAACUtkDpoosu+pPBQA==",
          "dtype": "f8"
         },
         "yaxis": "y3"
        },
        {
         "fill": "toself",
         "fillcolor": "rgba(144, 238, 144, 0.2)",
         "hoverinfo": "skip",
         "legendgroup": "Gemini 2.5 Pro",
         "line": {
          "color": "rgba(255,255,255,0)"
         },
         "showlegend": false,
         "type": "scatter",
         "x": [
          1,
          2,
          3,
          4,
          5,
          6,
          7,
          8,
          9,
          10,
          11,
          12,
          13,
          14,
          15,
          16,
          17,
          18,
          19,
          20,
          20,
          19,
          18,
          17,
          16,
          15,
          14,
          13,
          12,
          11,
          10,
          9,
          8,
          7,
          6,
          5,
          4,
          3,
          2,
          1
         ],
         "xaxis": "x3",
         "y": [
          1156.6203576952819,
          1329.7628655044668,
          1310.697791607593,
          1569.8001596107383,
          1592.7333590156304,
          1562.0017798267882,
          1692.3414929807418,
          1700.935233249539,
          1820.7693530633785,
          1991.5559411083432,
          2157.112911950004,
          2361.7110059787487,
          2210.869961329833,
          2361.464242923484,
          2791.6546133751935,
          3461.2458500236685,
          2850.244141154545,
          3178.5014297482303,
          3075.0648508095564,
          3802.1432915910627,
          3024.1724978826214,
          2514.8298860325485,
          2611.59857025177,
          2370.613001702598,
          2766.8450590672405,
          2261.705386624806,
          2022.535757076516,
          1857.259070928231,
          2074.511216243474,
          1850.9923512078901,
          1770.917743102183,
          1658.5464364103057,
          1546.6437141188824,
          1546.1585070192582,
          1446.7482201732118,
          1406.3666409843695,
          1433.2498403892619,
          1187.452208392407,
          1205.187134495533,
          1053.079642304718
         ],
         "yaxis": "y3"
        },
        {
         "legendgroup": "Gemini 2.5 Pro",
         "line": {
          "color": "#90EE90",
          "width": 2
         },
         "mode": "lines+markers",
         "name": "Gemini 2.5 Pro",
         "showlegend": false,
         "type": "scatter",
         "x": {
          "bdata": "AQIDBAUGBwgJCgsMDQ4PEBESExQ=",
          "dtype": "i1"
         },
         "xaxis": "x3",
         "y": {
          "bdata": "ZmZmZmZDkUBmZmZm5s2TQM3MzMxMhJNAmpmZmRl2l0AzMzMzM26XQAAAAACAgZdAAAAAAABNmUDzGsprKF+ZQMprKK+hLptAr6G8hvJknUBDeQ3lNVCfQOQ4juM4VKFACCGEEELIn0AAAAAAACChQI/C9ShcvaNAXXTRRRdUqEBu27Zt22SkQJqZmZkZnqZAXkN5DeXVpUDlNZTXUKqqQA==",
          "dtype": "f8"
         },
         "yaxis": "y3"
        },
        {
         "fill": "toself",
         "fillcolor": "rgba(0, 100, 0, 0.2)",
         "hoverinfo": "skip",
         "legendgroup": "Gemini 2.5 Pro (ABBEL)",
         "line": {
          "color": "rgba(255,255,255,0)"
         },
         "showlegend": false,
         "type": "scatter",
         "x": [
          1,
          2,
          3,
          4,
          5,
          6,
          7,
          8,
          9,
          10,
          11,
          12,
          13,
          14,
          15,
          16,
          17,
          18,
          19,
          20,
          20,
          19,
          18,
          17,
          16,
          15,
          14,
          13,
          12,
          11,
          10,
          9,
          8,
          7,
          6,
          5,
          4,
          3,
          2,
          1
         ],
         "xaxis": "x3",
         "y": [
          1231.1024358444595,
          1377.3403158774224,
          1402.6379008771494,
          1361.681790259806,
          1243.0857732562797,
          1460.332001381447,
          1564.3071105270099,
          1373.9487140634021,
          1318.314702820051,
          1451.8489370540765,
          1615.91075809209,
          1564.308012366214,
          1745.7606056357279,
          1761.5170527193254,
          1754.933961778607,
          1605.2536495633142,
          1712.603539268008,
          1711.979389011459,
          1719.4066183089453,
          1796.5539140316653,
          1523.746085968335,
          1404.6886197862927,
          1508.6872776552075,
          1527.1237334592645,
          1394.3985243497293,
          1502.566038221393,
          1476.6367934345208,
          1539.4245795494573,
          1382.0145682789475,
          1459.5085967466198,
          1329.1207599156205,
          1212.6297416243933,
          1252.27350815882,
          1383.5262228063236,
          1295.0364196711846,
          1123.7860216155152,
          1224.5746199966043,
          1276.0620991228504,
          1257.5596841225777,
          1119.0975641555403
         ],
         "yaxis": "y3"
        },
        {
         "legendgroup": "Gemini 2.5 Pro (ABBEL)",
         "line": {
          "color": "#006400",
          "width": 2
         },
         "mode": "lines+markers",
         "name": "Gemini 2.5 Pro (ABBEL)",
         "showlegend": false,
         "type": "scatter",
         "x": {
          "bdata": "AQIDBAUGBwgJCgsMDQ4PEBESExQ=",
          "dtype": "i1"
         },
         "xaxis": "x3",
         "y": {
          "bdata": "ZmZmZmZckkDNzMzMzJWUQGZmZmZm7ZRASIM0SIM0lEBcvuVbvn2SQGwor6G8hpVAq6qqqqoHl0DHcRzHcYSUQI7jOI7jxZNAwgcffPC5lUBba6211gaYQJVSSimlBJdAJrSX0F6qmUDFTuzETkyZQAAAAAAAc5lApze96U1vl0DRRRdddE+ZQFVVVVVVKZlAwzAMwzBomECamZmZmfCZQA==",
          "dtype": "f8"
         },
         "yaxis": "y3"
        },
        {
         "fill": "toself",
         "fillcolor": "rgba(50, 205, 50, 0.2)",
         "hoverinfo": "skip",
         "legendgroup": "Gemini 2.5 Pro (belief prompting)",
         "line": {
          "color": "rgba(255,255,255,0)"
         },
         "showlegend": false,
         "type": "scatter",
         "x": [
          1,
          2,
          3,
          4,
          5,
          6,
          7,
          8,
          9,
          10,
          11,
          12,
          13,
          14,
          15,
          16,
          17,
          18,
          19,
          20,
          20,
          19,
          18,
          17,
          16,
          15,
          14,
          13,
          12,
          11,
          10,
          9,
          8,
          7,
          6,
          5,
          4,
          3,
          2,
          1
         ],
         "xaxis": "x3",
         "y": [
          1059.3513943094183,
          1307.8580265192218,
          1322.0558988889068,
          1400.5262810396882,
          1316.8451725907614,
          1355.564613943205,
          1441.3622765925088,
          1496.320553792387,
          1490.514647199101,
          1528.1689214885505,
          1527.9147737655292,
          1681.2707385087049,
          1644.3698714304924,
          1839.5413104460006,
          1773.2587802262472,
          2002.650226620385,
          1922.7710917105578,
          1994.7215256469478,
          2013.3666894580992,
          2320.633087013217,
          1774.8214584413283,
          1485.9666438752342,
          1601.7400128145907,
          1685.6574797180137,
          1693.1144792619682,
          1441.6885881948053,
          1633.3586895539995,
          1405.0701285695077,
          1522.3959281579616,
          1393.1761353253798,
          1392.6546079232144,
          1322.8537738535306,
          1329.7307282588952,
          1314.0736208433887,
          1238.2302578516667,
          1228.7048274092388,
          1256.3237189603117,
          1195.9941011110934,
          1165.1419734807782,
          971.9986056905816
         ],
         "yaxis": "y3"
        },
        {
         "legendgroup": "Gemini 2.5 Pro (belief prompting)",
         "line": {
          "color": "#32CD32",
          "width": 2
         },
         "mode": "lines+markers",
         "name": "Gemini 2.5 Pro (belief prompting)",
         "showlegend": false,
         "type": "scatter",
         "x": {
          "bdata": "AQIDBAUGBwgJCgsMDQ4PEBESExQ=",
          "dtype": "i1"
         },
         "xaxis": "x3",
         "y": {
          "bdata": "ZmZmZma9j0AAAAAAAFKTQJqZmZkZrJNAMzMzM7PBlECamZmZGeOTQPmWb/mWQ5RALt/yLd+GlUBCGqRBGhSWQGwor6G8+pVApqWlpaXRlkC66KKLLtKWQFVVVVVVB5lAexSuR+HSl0DNzMzMzCGbQF5DeQ3lHZlAiIeHh4ffnEBu27Zt2zCcQE/sxE7sGJxAq6qqqqpWm0Cjiy666P6fQA==",
          "dtype": "f8"
         },
         "yaxis": "y3"
        },
        {
         "fill": "toself",
         "fillcolor": "rgba(255, 182, 193, 0.2)",
         "hoverinfo": "skip",
         "legendgroup": "Deepseek R1",
         "line": {
          "color": "rgba(255,255,255,0)"
         },
         "showlegend": false,
         "type": "scatter",
         "x": [
          1,
          2,
          3,
          4,
          5,
          6,
          7,
          8,
          9,
          10,
          11,
          12,
          13,
          14,
          15,
          16,
          17,
          18,
          19,
          20,
          20,
          19,
          18,
          17,
          16,
          15,
          14,
          13,
          12,
          11,
          10,
          9,
          8,
          7,
          6,
          5,
          4,
          3,
          2,
          1
         ],
         "xaxis": "x4",
         "y": [
          1802.2800170752892,
          1940.5841135615512,
          3658.3721331071956,
          4113.821241442027,
          2963.214189350968,
          3943.989389100409,
          5110.345441363868,
          5071.318709289481,
          3026.3510031971864,
          3759.226001805073,
          3301.29144355098,
          4886.84470090729,
          2756.8889060721262,
          4904.286374961593,
          3879.1171228247767,
          5565.4427672513775,
          5169.3941153082715,
          4445.215700387437,
          3469.4214083006495,
          5289.395970831187,
          3861.4611720259563,
          2502.7214488422073,
          3070.6509662792296,
          3429.9392180250625,
          3214.157232748623,
          2794.74954384189,
          3139.446958371741,
          2182.1110939278738,
          2739.1552990927103,
          2327.08355644902,
          2544.8851093060384,
          1803.548996802813,
          3118.5903816196096,
          2953.5676021143922,
          2939.427277566258,
          2210.652477315699,
          2806.6359014151158,
          2630.31207741912,
          1376.0158864384487,
          1291.119982924711
         ],
         "yaxis": "y4"
        },
        {
         "legendgroup": "Deepseek R1",
         "line": {
          "color": "#FFB6C1",
          "width": 2
         },
         "mode": "lines+markers",
         "name": "Deepseek R1",
         "showlegend": false,
         "type": "scatter",
         "x": {
          "bdata": "AQIDBAUGBwgJCgsMDQ4PEBESExQ=",
          "dtype": "i1"
         },
         "xaxis": "x4",
         "y": {
          "bdata": "zczMzMwqmEAzMzMzM+mZQBvKayivkKhAB3VQB3UIq0De3d3d3TWkQKuqqqpq46pA9aY3vel/r0Cjiy666P2vQGZmZmbm3aJAchzHcRygqEAAAAAAYPylQAAAAAAAyq1AAAAAAABLo0C8u7u7u2uvQN7d3d3dEapAzczMzMwlsUCrqqqqqsuwQN7d3d3dW61AkiRJkiRUp0C3bdu2bd+xQA==",
          "dtype": "f8"
         },
         "yaxis": "y4"
        },
        {
         "fill": "toself",
         "fillcolor": "rgba(139, 0, 0, 0.2)",
         "hoverinfo": "skip",
         "legendgroup": "Deepseek R1 (ABBEL)",
         "line": {
          "color": "rgba(255,255,255,0)"
         },
         "showlegend": false,
         "type": "scatter",
         "x": [
          1,
          2,
          3,
          4,
          5,
          6,
          7,
          8,
          9,
          10,
          11,
          12,
          13,
          14,
          15,
          16,
          17,
          18,
          19,
          20,
          20,
          19,
          18,
          17,
          16,
          15,
          14,
          13,
          12,
          11,
          10,
          9,
          8,
          7,
          6,
          5,
          4,
          3,
          2,
          1
         ],
         "xaxis": "x4",
         "y": [
          1249.126418938756,
          2734.1724676787762,
          2434.089660391507,
          2087.9659285014554,
          1800.764886973193,
          1494.4267778218257,
          2408.5878759756715,
          1505.0225332430323,
          3136.657555429236,
          2850.981761416526,
          2611.448897760381,
          3499.7353740901635,
          2244.0370557961865,
          2069.3699885598785,
          2242.8914327460825,
          2727.399238474609,
          2361.586595872675,
          2385.456007863442,
          2436.229127519494,
          2604.0583994801673,
          1424.4971560753881,
          1616.4375391471726,
          1645.8773254698915,
          1616.3022930162138,
          1988.6007615253911,
          1631.1085672539177,
          1283.4077892178993,
          1485.857681045919,
          1584.2646259098365,
          1752.3405759238299,
          1563.9656070045266,
          1791.2424445707638,
          1215.8941334236342,
          1662.7454573576622,
          1292.9065555115078,
          1425.6134914051854,
          1602.9340714985447,
          1975.160339608493,
          2015.8275323212238,
          975.0735810612439
         ],
         "yaxis": "y4"
        },
        {
         "legendgroup": "Deepseek R1 (ABBEL)",
         "line": {
          "color": "#8B0000",
          "width": 2
         },
         "mode": "lines+markers",
         "name": "Deepseek R1 (ABBEL)",
         "showlegend": false,
         "type": "scatter",
         "x": {
          "bdata": "AQIDBAUGBwgJCgsMDQ4PEBESExQ=",
          "dtype": "i1"
         },
         "xaxis": "x4",
         "y": {
          "bdata": "ZmZmZmZgkUAAAAAAAI6iQAAAAABAOaFAzczMzMzVnEBMkc+6wTSZQKuqqqqqxpVAq6qqqqrOn0BVVVVV1UGVQGZmZmbmP6NAr6G8hvI+oUC9hvIayguhQAAAAAAA3KNAvYbyGsojnUA5juM4jjGaQAAAAAAARJ5AAAAAAABsokAcx3EcxxOfQKuqqqqqfp9AVVVVVVWpn0ByHMdxHHmfQA==",
          "dtype": "f8"
         },
         "yaxis": "y4"
        },
        {
         "fill": "toself",
         "fillcolor": "rgba(255, 99, 71, 0.2)",
         "hoverinfo": "skip",
         "legendgroup": "Deepseek R1 (belief prompting)",
         "line": {
          "color": "rgba(255,255,255,0)"
         },
         "showlegend": false,
         "type": "scatter",
         "x": [
          1,
          2,
          3,
          4,
          5,
          6,
          7,
          8,
          9,
          10,
          11,
          12,
          13,
          14,
          15,
          16,
          17,
          18,
          19,
          20,
          20,
          19,
          18,
          17,
          16,
          15,
          14,
          13,
          12,
          11,
          10,
          9,
          8,
          7,
          6,
          5,
          4,
          3,
          2,
          1
         ],
         "xaxis": "x4",
         "y": [
          889.0816881354143,
          1462.3684566264048,
          1948.4061244658526,
          2119.924031527138,
          1824.1471145222936,
          2768.069018099485,
          2425.1569563947105,
          2435.3309887922524,
          5354.417016171443,
          5368.073208911031,
          6964.0561482400735,
          7649.388355636796,
          4661.414930773264,
          4270.671077875559,
          5462.104494434788,
          4987.539885854649,
          4882.571379287397,
          4156.739396305939,
          4987.21081235529,
          7334.816046266544,
          4983.499743207141,
          2958.894450802605,
          2707.5763931677448,
          3071.218094396814,
          3482.1443246716667,
          3715.4955055652126,
          2719.328922124441,
          2897.403251044918,
          4795.9449776965375,
          4332.4438517599265,
          3020.0934577556354,
          3463.890676136249,
          1499.8997804385167,
          1719.1287578910044,
          1766.620637072929,
          1358.337733962555,
          1545.306737703631,
          1514.2438755341475,
          1158.081543373595,
          739.9183118645857
         ],
         "yaxis": "y4"
        },
        {
         "legendgroup": "Deepseek R1 (belief prompting)",
         "line": {
          "color": "#FF6347",
          "width": 2
         },
         "mode": "lines+markers",
         "name": "Deepseek R1 (belief prompting)",
         "showlegend": false,
         "type": "scatter",
         "x": {
          "bdata": "AQIDBAUGBwgJCgsMDQ4PEBESExQ=",
          "dtype": "i1"
         },
         "xaxis": "x4",
         "y": {
          "bdata": "AAAAAAB0iUBmZmZm5niUQM3MzMxMDZtAJ3ZiJ3ainEDhgw8++NyYQAnLPY2wtqFAJUmSJEkwoEAndmIndr6eQGIndmInObFAVVVVVRVisEAAAAAAQBC2QKuqqqqqTrhARhdddNGGrUAAAAAAAE6rQM3MzMzM7LFADeU1lNeKsEC9hvIayhGvQOU1lNdQ0KpAoryG8hoKr0DzGsprKA+4QA==",
          "dtype": "f8"
         },
         "yaxis": "y4"
        },
        {
         "fill": "toself",
         "fillcolor": "rgba(144, 238, 144, 0.2)",
         "hoverinfo": "skip",
         "legendgroup": "Gemini 2.5 Pro",
         "line": {
          "color": "rgba(255,255,255,0)"
         },
         "showlegend": false,
         "type": "scatter",
         "x": [
          1,
          2,
          3,
          4,
          5,
          6,
          7,
          8,
          9,
          10,
          11,
          12,
          13,
          14,
          15,
          16,
          17,
          18,
          19,
          20,
          20,
          19,
          18,
          17,
          16,
          15,
          14,
          13,
          12,
          11,
          10,
          9,
          8,
          7,
          6,
          5,
          4,
          3,
          2,
          1
         ],
         "xaxis": "x4",
         "y": [
          2017.8498292356744,
          1526.3575982568648,
          1705.6838804491808,
          1712.1218898555358,
          1788.9057711557432,
          1906.060214483187,
          1790.412081717237,
          2125.4926688858795,
          2124.763162192044,
          2297.5800808013455,
          2414.3986088075726,
          2224.234539128847,
          2707.638884884798,
          2379.2417178103906,
          2939.135442013495,
          3152.385903052069,
          3381.732730564996,
          3958.742862779154,
          4614.702453914373,
          3610.753490946213,
          2889.496509053787,
          3417.5197683078495,
          2735.70158166529,
          2099.3783805461153,
          2440.70500603884,
          2031.1978913198382,
          1952.8832821896094,
          2271.5190098520447,
          1950.2200063256983,
          2027.681391192427,
          2056.6599191986543,
          1926.0939806650986,
          1917.1524924044427,
          1641.5338642287088,
          1700.86286243989,
          1656.3442288442568,
          1547.7281101444642,
          1602.266119550819,
          1436.4424017431354,
          1872.2001707643258
         ],
         "yaxis": "y4"
        },
        {
         "legendgroup": "Gemini 2.5 Pro",
         "line": {
          "color": "#90EE90",
          "width": 2
         },
         "mode": "lines+markers",
         "name": "Gemini 2.5 Pro",
         "showlegend": false,
         "type": "scatter",
         "x": {
          "bdata": "AQIDBAUGBwgJCgsMDQ4PEBESExQ=",
          "dtype": "i1"
         },
         "xaxis": "x4",
         "y": {
          "bdata": "mpmZmRlknkCamZmZmSWXQGZmZmbm15lAMzMzM7N3mUAAAAAAgOqaQJ7YiZ3YLZxAPusGU+TPmkAppZRSSpWfQNu2bdu2pZ9ACtejcD0CoUCuR+F6FFqhQNFFF110TqBA8xrKayhzo0AAAAAAIOygQFVVVVVVaqNAXXTRRRfZpUByHMdxHGmlQMdxHMdxJqpA5DiO4zhgr0AAAAAAQGSpQA==",
          "dtype": "f8"
         },
         "yaxis": "y4"
        },
        {
         "fill": "toself",
         "fillcolor": "rgba(0, 100, 0, 0.2)",
         "hoverinfo": "skip",
         "legendgroup": "Gemini 2.5 Pro (ABBEL)",
         "line": {
          "color": "rgba(255,255,255,0)"
         },
         "showlegend": false,
         "type": "scatter",
         "x": [
          1,
          2,
          3,
          4,
          5,
          6,
          7,
          8,
          9,
          10,
          11,
          12,
          13,
          14,
          15,
          16,
          17,
          18,
          19,
          20,
          20,
          19,
          18,
          17,
          16,
          15,
          14,
          13,
          12,
          11,
          10,
          9,
          8,
          7,
          6,
          5,
          4,
          3,
          2,
          1
         ],
         "xaxis": "x4",
         "y": [
          1676.4132150801302,
          1687.7801238479856,
          1611.0613878110491,
          1463.4047147419308,
          1310.7523921280685,
          1398.4298099281807,
          1276.9291054498694,
          1474.503218210948,
          1611.8326858208018,
          1635.0223862776768,
          1667.1530845422833,
          1685.8092675714406,
          1438.087730170295,
          1848.1186608987787,
          1930.061359111478,
          1567.4599733920281,
          1899.2717810921454,
          2262.4758962743663,
          2384.8248487032206,
          2635.780502045489,
          1492.969497954511,
          1822.4251512967792,
          1590.6352148367448,
          1500.3948855745211,
          1324.2323343002795,
          1578.0814980313794,
          1400.5063391012213,
          1279.6769757120583,
          1477.4129546507816,
          1356.1802487910502,
          1419.8776137223233,
          1458.6218596337437,
          1289.0967817890519,
          1177.142323121559,
          1273.9701900718194,
          1191.9318183982473,
          1359.313233976018,
          1471.8886121889507,
          1560.3698761520145,
          1534.8367849198698
         ],
         "yaxis": "y4"
        },
        {
         "legendgroup": "Gemini 2.5 Pro (ABBEL)",
         "line": {
          "color": "#006400",
          "width": 2
         },
         "mode": "lines+markers",
         "name": "Gemini 2.5 Pro (ABBEL)",
         "showlegend": false,
         "type": "scatter",
         "x": {
          "bdata": "AQIDBAUGBwgJCgsMDQ4PEBESExQ=",
          "dtype": "i1"
         },
         "xaxis": "x4",
         "y": {
          "bdata": "AAAAAIAWmUDNzMzMTGCZQGZmZmbmFZhAl2/5lm8NlkA2lNdQXo2TQM3MzMzM4JRAkiRJkiQsk0AzMzMzM5eVQKOLLrro/JdAzczMzMzdl0Crqqqqqp6XQMdxHMdxtphAiIeHh4c7lUAAAAAAQGGZQCVJkiRJaJtAdmIndmKXlkBVVVVVVY+aQOQ4juM4Gp5AAAAAAEBvoEAAAAAAwCCgQA==",
          "dtype": "f8"
         },
         "yaxis": "y4"
        },
        {
         "fill": "toself",
         "fillcolor": "rgba(50, 205, 50, 0.2)",
         "hoverinfo": "skip",
         "legendgroup": "Gemini 2.5 Pro (belief prompting)",
         "line": {
          "color": "rgba(255,255,255,0)"
         },
         "showlegend": false,
         "type": "scatter",
         "x": [
          1,
          2,
          3,
          4,
          5,
          6,
          7,
          8,
          9,
          10,
          11,
          12,
          13,
          14,
          15,
          16,
          17,
          18,
          19,
          20,
          20,
          19,
          18,
          17,
          16,
          15,
          14,
          13,
          12,
          11,
          10,
          9,
          8,
          7,
          6,
          5,
          4,
          3,
          2,
          1
         ],
         "xaxis": "x4",
         "y": [
          1591.6693966621624,
          1661.1244931312647,
          1639.8424356071089,
          1572.854288287902,
          1536.9905183415476,
          1588.0675670773467,
          1732.0889480223268,
          1849.0749184151584,
          1800.675855974583,
          1780.6851606039347,
          1672.9749528010702,
          1932.0017440812037,
          1894.4420752291558,
          1945.1007419422895,
          2148.351221388395,
          2314.313483773926,
          1934.9427804794705,
          2510.9027739274866,
          2037.2696566809009,
          2758.9194239120657,
          2170.2472427546013,
          1460.3970099857656,
          1859.5972260725134,
          1691.6726041359143,
          1947.6865162260742,
          1810.9344928973194,
          1619.6992580577107,
          1648.4912581041776,
          1691.7315892521294,
          1472.789753081283,
          1614.092617173843,
          1630.624144025417,
          1648.008414918175,
          1558.429570496192,
          1445.3699329226533,
          1401.065037214008,
          1470.6720275015718,
          1509.007564392891,
          1538.9255068687355,
          1480.6806033378375
         ],
         "yaxis": "y4"
        },
        {
         "legendgroup": "Gemini 2.5 Pro (belief prompting)",
         "line": {
          "color": "#32CD32",
          "width": 2
         },
         "mode": "lines+markers",
         "name": "Gemini 2.5 Pro (belief prompting)",
         "showlegend": false,
         "type": "scatter",
         "x": {
          "bdata": "AQIDBAUGBwgJCgsMDQ4PEBESExQ=",
          "dtype": "i1"
         },
         "xaxis": "x4",
         "y": {
          "bdata": "MzMzM7MAmECamZmZGQCZQDMzMzOzmZhAUV5DeQ3Hl0ByHMdxHPSWQAAAAADgspdA0V5Cewm1mUCrqqqqKlKbQJqZmZmZzppAOY7jOI6FmkCIh4eHh5OYQHd3d3d3T5xA3t3d3d2tm0CamZmZmdmbQEmSJEmS7p5AAAAAAACmoEAUO7ETO1WcQAAAAACAEqFAVVVVVVVTm0CrqqqqKkGjQA==",
          "dtype": "f8"
         },
         "yaxis": "y4"
        },
        {
         "fill": "toself",
         "fillcolor": "rgba(255, 182, 193, 0.2)",
         "hoverinfo": "skip",
         "legendgroup": "Deepseek R1",
         "line": {
          "color": "rgba(255,255,255,0)"
         },
         "showlegend": false,
         "type": "scatter",
         "x": [
          1,
          2,
          3,
          4,
          5,
          6,
          6,
          5,
          4,
          3,
          2,
          1
         ],
         "xaxis": "x5",
         "y": [
          6477.612335397969,
          10498.143446685808,
          15350.676868609971,
          17069.99787303484,
          14032.267306382837,
          21114.804579125226,
          11881.595420874775,
          9397.732693617163,
          14177.292449545803,
          13775.428394547922,
          8516.856553314192,
          5533.53766460203
         ],
         "yaxis": "y5"
        },
        {
         "legendgroup": "Deepseek R1",
         "line": {
          "color": "#FFB6C1",
          "width": 2
         },
         "mode": "lines+markers",
         "name": "Deepseek R1",
         "showlegend": false,
         "type": "scatter",
         "x": {
          "bdata": "AQIDBAUG",
          "dtype": "i1"
         },
         "xaxis": "x5",
         "y": {
          "bdata": "MzMzM5N1t0AAAAAAwJHCQCivobyGccxASimllNKDzkAAAAAAgOHGQM3MzMyMHNBA",
          "dtype": "f8"
         },
         "yaxis": "y5"
        },
        {
         "fill": "toself",
         "fillcolor": "rgba(139, 0, 0, 0.2)",
         "hoverinfo": "skip",
         "legendgroup": "Deepseek R1 (ABBEL)",
         "line": {
          "color": "rgba(255,255,255,0)"
         },
         "showlegend": false,
         "type": "scatter",
         "x": [
          1,
          2,
          3,
          4,
          5,
          6,
          6,
          5,
          4,
          3,
          2,
          1
         ],
         "xaxis": "x5",
         "y": [
          6059.295065544826,
          9425.081975178384,
          13581.261835010657,
          11295.554269996508,
          9421.117559681374,
          11219.363621810791,
          7487.493521046351,
          7411.382440318626,
          9304.231444289206,
          11868.053954463026,
          7732.868024821618,
          4542.804934455175
         ],
         "yaxis": "y5"
        },
        {
         "legendgroup": "Deepseek R1 (ABBEL)",
         "line": {
          "color": "#8B0000",
          "width": 2
         },
         "mode": "lines+markers",
         "name": "Deepseek R1 (ABBEL)",
         "showlegend": false,
         "type": "scatter",
         "x": {
          "bdata": "AQIDBAUG",
          "dtype": "i1"
         },
         "xaxis": "x5",
         "y": {
          "bdata": "zczMzAy1tEDNzMzMfMHAQHkN5TVU2shASZIkSfIdxEAAAAAAIHDAQNu2bdu2RMJA",
          "dtype": "f8"
         },
         "yaxis": "y5"
        },
        {
         "fill": "toself",
         "fillcolor": "rgba(255, 99, 71, 0.2)",
         "hoverinfo": "skip",
         "legendgroup": "Deepseek R1 (belief prompting)",
         "line": {
          "color": "rgba(255,255,255,0)"
         },
         "showlegend": false,
         "type": "scatter",
         "x": [
          1,
          2,
          3,
          4,
          5,
          6,
          6,
          5,
          4,
          3,
          2,
          1
         ],
         "xaxis": "x5",
         "y": [
          5666.618752017371,
          10152.763099681008,
          15203.948201754038,
          15900.174143874288,
          14874.266003134122,
          19327.60960591027,
          13586.640394089727,
          10861.233996865878,
          13093.754427554284,
          13391.683377193332,
          8319.836900318991,
          4625.48124798263
         ],
         "yaxis": "y5"
        },
        {
         "legendgroup": "Deepseek R1 (belief prompting)",
         "line": {
          "color": "#FF6347",
          "width": 2
         },
         "mode": "lines+markers",
         "name": "Deepseek R1 (belief prompting)",
         "showlegend": false,
         "type": "scatter",
         "x": {
          "bdata": "AQIDBAUG",
          "dtype": "i1"
         },
         "xaxis": "x5",
         "y": {
          "bdata": "zczMzAwatEBmZmZmJgrCQPMaymvo7MtAbtu2bXtQzEAAAAAA4CHJQAAAAABIEtBA",
          "dtype": "f8"
         },
         "yaxis": "y5"
        },
        {
         "fill": "toself",
         "fillcolor": "rgba(144, 238, 144, 0.2)",
         "hoverinfo": "skip",
         "legendgroup": "Gemini 2.5 Pro",
         "line": {
          "color": "rgba(255,255,255,0)"
         },
         "showlegend": false,
         "type": "scatter",
         "x": [
          1,
          2,
          3,
          4,
          5,
          6,
          6,
          5,
          4,
          3,
          2,
          1
         ],
         "xaxis": "x5",
         "y": [
          1707.5925583029236,
          2940.477554102822,
          3519.7906853813865,
          3810.312799226595,
          4339.060305797794,
          4317.542243072734,
          2147.124423593933,
          3312.564694202206,
          3281.020534106738,
          3035.1323915416906,
          2633.7224458971777,
          1499.1074416970762
         ],
         "yaxis": "y5"
        },
        {
         "legendgroup": "Gemini 2.5 Pro",
         "line": {
          "color": "#90EE90",
          "width": 2
         },
         "mode": "lines+markers",
         "name": "Gemini 2.5 Pro",
         "showlegend": false,
         "type": "scatter",
         "x": {
          "bdata": "AQIDBAUG",
          "dtype": "i1"
         },
         "xaxis": "x5",
         "y": {
          "bdata": "ZmZmZmYNmUAzMzMzM8alQE/sxE7smqlAVVVVVVWzq0AAAAAAoOOtQKuqqqqqQKlA",
          "dtype": "f8"
         },
         "yaxis": "y5"
        },
        {
         "fill": "toself",
         "fillcolor": "rgba(0, 100, 0, 0.2)",
         "hoverinfo": "skip",
         "legendgroup": "Gemini 2.5 Pro (ABBEL)",
         "line": {
          "color": "rgba(255,255,255,0)"
         },
         "showlegend": false,
         "type": "scatter",
         "x": [
          1,
          2,
          3,
          4,
          5,
          6,
          6,
          5,
          4,
          3,
          2,
          1
         ],
         "xaxis": "x5",
         "y": [
          979.9660534276932,
          2260.6664583838515,
          3204.175941669779,
          4149.458226117128,
          2695.5170339046904,
          3760.0861051576912,
          2794.513894842309,
          2000.387728000071,
          3341.9167738828714,
          2790.7714267512733,
          1991.8835416161487,
          898.0839465723068
         ],
         "yaxis": "y5"
        },
        {
         "legendgroup": "Gemini 2.5 Pro (ABBEL)",
         "line": {
          "color": "#006400",
          "width": 2
         },
         "mode": "lines+markers",
         "name": "Gemini 2.5 Pro (ABBEL)",
         "showlegend": false,
         "type": "scatter",
         "x": {
          "bdata": "AQIDBAUG",
          "dtype": "i1"
         },
         "xaxis": "x5",
         "y": {
          "bdata": "MzMzMzNYjUDNzMzMjJygQK+hvIbyaqdAAAAAAGBDrUCe53me51eiQJqZmZmZmqlA",
          "dtype": "f8"
         },
         "yaxis": "y5"
        },
        {
         "fill": "toself",
         "fillcolor": "rgba(50, 205, 50, 0.2)",
         "hoverinfo": "skip",
         "legendgroup": "Gemini 2.5 Pro (belief prompting)",
         "line": {
          "color": "rgba(255,255,255,0)"
         },
         "showlegend": false,
         "type": "scatter",
         "x": [
          1,
          2,
          3,
          4,
          5,
          6,
          6,
          5,
          4,
          3,
          2,
          1
         ],
         "xaxis": "x5",
         "y": [
          1103.9911743305931,
          2690.9416098419656,
          3215.4993128489014,
          3855.156319679232,
          2876.6638896221903,
          4045.4839625273544,
          2633.1827041393126,
          2292.9831692013395,
          3272.3865374636252,
          2943.100687151099,
          2373.8583901580346,
          979.5088256694069
         ],
         "yaxis": "y5"
        },
        {
         "legendgroup": "Gemini 2.5 Pro (belief prompting)",
         "line": {
          "color": "#32CD32",
          "width": 2
         },
         "mode": "lines+markers",
         "name": "Gemini 2.5 Pro (belief prompting)",
         "showlegend": false,
         "type": "scatter",
         "x": {
          "bdata": "AQIDBAUG",
          "dtype": "i1"
         },
         "xaxis": "x5",
         "y": {
          "bdata": "AAAAAABHkEDNzMzMzMijQJqZmZmZDqhA+Yqv+IrXq0CmpaWlpTGkQKuqqqqqFqpA",
          "dtype": "f8"
         },
         "yaxis": "y5"
        },
        {
         "fill": "toself",
         "fillcolor": "rgba(255, 182, 193, 0.2)",
         "hoverinfo": "skip",
         "legendgroup": "Deepseek R1",
         "line": {
          "color": "rgba(255,255,255,0)"
         },
         "showlegend": false,
         "type": "scatter",
         "x": [
          1,
          2,
          3,
          4,
          5,
          6,
          7,
          8,
          9,
          10,
          11,
          12,
          12,
          11,
          10,
          9,
          8,
          7,
          6,
          5,
          4,
          3,
          2,
          1
         ],
         "xaxis": "x6",
         "y": [
          6509.413516433698,
          23073.479065944342,
          28992.3259391076,
          28624.457619705867,
          25501.079872242954,
          27900.13746262949,
          26274.181191024334,
          28867.175713696415,
          28356.20363949467,
          26723.266263822494,
          25444.081675900263,
          24954.665982259652,
          23090.000684407012,
          23161.5849907664,
          23549.633736177508,
          25818.43272414169,
          26047.538572017867,
          23623.693808975666,
          25657.073063686297,
          23000.420127757046,
          26233.542380294133,
          26175.224060892404,
          20360.370934055656,
          4386.286483566303
         ],
         "yaxis": "y6"
        },
        {
         "legendgroup": "Deepseek R1",
         "line": {
          "color": "#FFB6C1",
          "width": 2
         },
         "mode": "lines+markers",
         "name": "Deepseek R1",
         "showlegend": false,
         "type": "scatter",
         "x": {
          "bdata": "AQIDBAUGBwgJCgsM",
          "dtype": "i1"
         },
         "xaxis": "x6",
         "y": {
          "bdata": "mpmZmdlHtUAzMzMzOzXVQJqZmZnx79pAAAAAAEDJ2kAAAAAAsK7XQCivobymJtpAAAAAADxd2EDbtm3bVtDaQNFFF13Uc9pAzczMzByM2EBVVVVVtbvXQFVVVVWVdddA",
          "dtype": "f8"
         },
         "yaxis": "y6"
        },
        {
         "fill": "toself",
         "fillcolor": "rgba(139, 0, 0, 0.2)",
         "hoverinfo": "skip",
         "legendgroup": "Deepseek R1 (ABBEL)",
         "line": {
          "color": "rgba(255,255,255,0)"
         },
         "showlegend": false,
         "type": "scatter",
         "x": [
          1,
          2,
          3,
          4,
          5,
          6,
          7,
          8,
          9,
          10,
          11,
          12,
          12,
          11,
          10,
          9,
          8,
          7,
          6,
          5,
          4,
          3,
          2,
          1
         ],
         "xaxis": "x6",
         "y": [
          3196.9902804518574,
          13104.46208929655,
          18631.652724995143,
          19034.396732844707,
          18758.658944782812,
          16689.04061559893,
          16254.881308903165,
          14536.914624624333,
          13243.55953406095,
          13674.82921743456,
          15824.906374549388,
          12209.244346571346,
          8848.237134910136,
          12083.450768307754,
          9868.688023944751,
          10166.925314423897,
          11166.479314769607,
          12571.942220508601,
          13009.061948503633,
          15944.98208085821,
          16105.403267155294,
          15519.64727500486,
          10623.73791070345,
          2405.3097195481428
         ],
         "yaxis": "y6"
        },
        {
         "legendgroup": "Deepseek R1 (ABBEL)",
         "line": {
          "color": "#8B0000",
          "width": 2
         },
         "mode": "lines+markers",
         "name": "Deepseek R1 (ABBEL)",
         "showlegend": false,
         "type": "scatter",
         "x": {
          "bdata": "AQIDBAUGBwgJCgsM",
          "dtype": "i1"
         },
         "xaxis": "x6",
         "y": {
          "bdata": "zczMzEzipUDNzMzMDCzHQJqZmZnprNBAmpmZmXko0UCDNEiD9PHQQJAGaZCGAM1AtbS0tLQmzEBlk0022RnJQHzwwQef3MZAEpZ7GuH9xkDbtm3bFkHLQCa0l9BekMRA",
          "dtype": "f8"
         },
         "yaxis": "y6"
        },
        {
         "fill": "toself",
         "fillcolor": "rgba(255, 99, 71, 0.2)",
         "hoverinfo": "skip",
         "legendgroup": "Deepseek R1 (belief prompting)",
         "line": {
          "color": "rgba(255,255,255,0)"
         },
         "showlegend": false,
         "type": "scatter",
         "x": [
          1,
          2,
          3,
          4,
          5,
          6,
          7,
          8,
          9,
          10,
          11,
          12,
          12,
          11,
          10,
          9,
          8,
          7,
          6,
          5,
          4,
          3,
          2,
          1
         ],
         "xaxis": "x6",
         "y": [
          3045.881324983323,
          19096.52935476476,
          20953.295530636165,
          20694.329340154232,
          21378.394386940985,
          22191.377660920574,
          22077.88978993566,
          21228.37536342602,
          21300.540688778703,
          19039.7053946857,
          21039.115522276094,
          19472.726245640013,
          15463.873754359984,
          17884.217811057242,
          14971.377938647636,
          17531.82968159167,
          18198.75796990731,
          18013.54771006434,
          18808.844561301645,
          18653.755613059016,
          17666.520659845766,
          18243.254469363837,
          16039.620645235242,
          2148.0186750166768
         ],
         "yaxis": "y6"
        },
        {
         "legendgroup": "Deepseek R1 (belief prompting)",
         "line": {
          "color": "#FF6347",
          "width": 2
         },
         "mode": "lines+markers",
         "name": "Deepseek R1 (belief prompting)",
         "showlegend": false,
         "type": "scatter",
         "x": {
          "bdata": "AQIDBAUGBwgJCgsM",
          "dtype": "i1"
         },
         "xaxis": "x6",
         "y": {
          "bdata": "ZmZmZuZJpEDNzMzMBCjRQJqZmZmRI9NAMzMzMxu70kDNzMzMBIzTQBzHcRwHBdRAAAAAAG6T00BEREREZEDTQIX2EtoL9tJAq6qqqmKb0ECrqqqqagHTQDMzMzMTD9FA",
          "dtype": "f8"
         },
         "yaxis": "y6"
        },
        {
         "fill": "toself",
         "fillcolor": "rgba(144, 238, 144, 0.2)",
         "hoverinfo": "skip",
         "legendgroup": "Gemini 2.5 Pro",
         "line": {
          "color": "rgba(255,255,255,0)"
         },
         "showlegend": false,
         "type": "scatter",
         "x": [
          1,
          2,
          3,
          4,
          5,
          6,
          7,
          8,
          9,
          10,
          11,
          11,
          10,
          9,
          8,
          7,
          6,
          5,
          4,
          3,
          2,
          1
         ],
         "xaxis": "x6",
         "y": [
          2671.375825495897,
          3616.1080783663665,
          5396.6009089193285,
          5934.174618168285,
          6825.825947185199,
          7151.982653333504,
          8989.562323208525,
          10758.93474164458,
          7125.671824137678,
          4544.288041443876,
          6769,
          4275,
          2942.378625222791,
          4635.828175862322,
          8377.974349264512,
          7469.199581553379,
          6161.694766021335,
          6010.585817520684,
          5235.325381831715,
          4535.8990910806715,
          3048.3919216336335,
          2337.174174504103
         ],
         "yaxis": "y6"
        },
        {
         "legendgroup": "Gemini 2.5 Pro",
         "line": {
          "color": "#90EE90",
          "width": 2
         },
         "mode": "lines+markers",
         "name": "Gemini 2.5 Pro",
         "showlegend": false,
         "type": "scatter",
         "x": {
          "bdata": "AQIDBAUGBwgJCgs=",
          "dtype": "i1"
         },
         "xaxis": "x6",
         "y": {
          "bdata": "zczMzIyQo0AAAAAAgAiqQAAAAABAZrNAAAAAAMDQtUC1tLS0NBK5QFtrrbXWALpAwzAMw7ASwEDpoosuOrDCQAAAAADA+LZAq6qqqqo+rUAAAAAAAJK1QA==",
          "dtype": "f8"
         },
         "yaxis": "y6"
        },
        {
         "fill": "toself",
         "fillcolor": "rgba(0, 100, 0, 0.2)",
         "hoverinfo": "skip",
         "legendgroup": "Gemini 2.5 Pro (ABBEL)",
         "line": {
          "color": "rgba(255,255,255,0)"
         },
         "showlegend": false,
         "type": "scatter",
         "x": [
          1,
          2,
          3,
          4,
          5,
          6,
          7,
          8,
          9,
          10,
          11,
          12,
          12,
          11,
          10,
          9,
          8,
          7,
          6,
          5,
          4,
          3,
          2,
          1
         ],
         "xaxis": "x6",
         "y": [
          1600.8611980937098,
          2689.519463911352,
          3944.0999139977503,
          4371.105718772365,
          4117.731240700341,
          3141.2094508432397,
          3204.8337254037237,
          2832.1572727417906,
          3555.563026554461,
          5425.051290080017,
          6960,
          1485,
          850,
          6113,
          2558.9487099199832,
          2447.236973445539,
          1952.9538383693207,
          2082.7314919875803,
          2466.6655491567603,
          3400.689811931238,
          3672.9942812276354,
          3446.20008600225,
          2134.3305360886484,
          1477.48880190629
         ],
         "yaxis": "y6"
        },
        {
         "legendgroup": "Gemini 2.5 Pro (ABBEL)",
         "line": {
          "color": "#006400",
          "width": 2
         },
         "mode": "lines+markers",
         "name": "Gemini 2.5 Pro (ABBEL)",
         "showlegend": false,
         "type": "scatter",
         "x": {
          "bdata": "AQIDBAUGBwgJCgsM",
          "dtype": "i1"
         },
         "xaxis": "x6",
         "y": {
          "bdata": "MzMzM7MMmECamZmZ2deiQM3MzMxM3qxAmpmZmRlsr0CH8hrKa16tQAAAAADg56VAyEIWspCnpEByHMdxHLGiQM3MzMzMcqdAAAAAAAAwr0AAAAAAgIi5QAAAAAAAPpJA",
          "dtype": "f8"
         },
         "yaxis": "y6"
        },
        {
         "fill": "toself",
         "fillcolor": "rgba(50, 205, 50, 0.2)",
         "hoverinfo": "skip",
         "legendgroup": "Gemini 2.5 Pro (belief prompting)",
         "line": {
          "color": "rgba(255,255,255,0)"
         },
         "showlegend": false,
         "type": "scatter",
         "x": [
          1,
          2,
          3,
          4,
          5,
          6,
          7,
          8,
          9,
          10,
          11,
          12,
          12,
          11,
          10,
          9,
          8,
          7,
          6,
          5,
          4,
          3,
          2,
          1
         ],
         "xaxis": "x6",
         "y": [
          1955.1354865674398,
          2634.6106670134754,
          4450.388637495045,
          4919.8058650698495,
          5942.570749543262,
          4783.382713370191,
          4622.054417384688,
          4386.936214844919,
          5724.885457423944,
          null,
          null,
          null,
          null,
          null,
          null,
          3082.3145425760567,
          3219.2176313089267,
          3687.8622492819773,
          4021.5263775388994,
          5230.865147892635,
          4352.294134930151,
          3699.2113625049546,
          2223.3393329865244,
          1707.3645134325602
         ],
         "yaxis": "y6"
        },
        {
         "legendgroup": "Gemini 2.5 Pro (belief prompting)",
         "line": {
          "color": "#32CD32",
          "width": 2
         },
         "mode": "lines+markers",
         "name": "Gemini 2.5 Pro (belief prompting)",
         "showlegend": false,
         "type": "scatter",
         "x": {
          "bdata": "AQIDBAUGBwgJCgsM",
          "dtype": "i1"
         },
         "xaxis": "x6",
         "y": {
          "bdata": "AAAAAACdnEAzMzMz8/miQJqZmZmZ1a9AzczMzAwcskDLt3zLt9K1QNFFF110MrFAVVVVVfU6sEBiJ3ZiJ7atQJqZmZmZM7FAAAAAAAB+wEAAAAAAgCHGQAAAAAAAV8FA",
          "dtype": "f8"
         },
         "yaxis": "y6"
        }
       ],
       "layout": {
        "annotations": [
         {
          "font": {
           "size": 16
          },
          "showarrow": false,
          "text": "Murder Mystery",
          "x": 0.07083333333333333,
          "xanchor": "center",
          "xref": "paper",
          "y": 1,
          "yanchor": "bottom",
          "yref": "paper"
         },
         {
          "font": {
           "size": 16
          },
          "showarrow": false,
          "text": "Customer Service",
          "x": 0.2425,
          "xanchor": "center",
          "xref": "paper",
          "y": 1,
          "yanchor": "bottom",
          "yref": "paper"
         },
         {
          "font": {
           "size": 16
          },
          "showarrow": false,
          "text": "Twenty Questions",
          "x": 0.4141666666666667,
          "xanchor": "center",
          "xref": "paper",
          "y": 1,
          "yanchor": "bottom",
          "yref": "paper"
         },
         {
          "font": {
           "size": 16
          },
          "showarrow": false,
          "text": "Guess my City",
          "x": 0.5858333333333334,
          "xanchor": "center",
          "xref": "paper",
          "y": 1,
          "yanchor": "bottom",
          "yref": "paper"
         },
         {
          "font": {
           "size": 16
          },
          "showarrow": false,
          "text": "Wordle",
          "x": 0.7575000000000001,
          "xanchor": "center",
          "xref": "paper",
          "y": 1,
          "yanchor": "bottom",
          "yref": "paper"
         },
         {
          "font": {
           "size": 16
          },
          "showarrow": false,
          "text": "Mastermind",
          "x": 0.9291666666666667,
          "xanchor": "center",
          "xref": "paper",
          "y": 1,
          "yanchor": "bottom",
          "yref": "paper"
         }
        ],
        "barmode": "group",
        "font": {
         "family": "Computer Modern, serif",
         "size": 16
        },
        "height": 350,
        "legend": {
         "bgcolor": "rgba(255,255,255,0.9)",
         "bordercolor": "black",
         "borderwidth": 1,
         "orientation": "v",
         "x": 1.02,
         "xanchor": "left",
         "y": 0.5,
         "yanchor": "middle"
        },
        "margin": {
         "b": 50,
         "l": 80,
         "r": 80,
         "t": 100
        },
        "plot_bgcolor": "white",
        "showlegend": true,
        "template": {
         "data": {
          "bar": [
           {
            "error_x": {
             "color": "rgb(36,36,36)"
            },
            "error_y": {
             "color": "rgb(36,36,36)"
            },
            "marker": {
             "line": {
              "color": "white",
              "width": 0.5
             },
             "pattern": {
              "fillmode": "overlay",
              "size": 10,
              "solidity": 0.2
             }
            },
            "type": "bar"
           }
          ],
          "barpolar": [
           {
            "marker": {
             "line": {
              "color": "white",
              "width": 0.5
             },
             "pattern": {
              "fillmode": "overlay",
              "size": 10,
              "solidity": 0.2
             }
            },
            "type": "barpolar"
           }
          ],
          "carpet": [
           {
            "aaxis": {
             "endlinecolor": "rgb(36,36,36)",
             "gridcolor": "white",
             "linecolor": "white",
             "minorgridcolor": "white",
             "startlinecolor": "rgb(36,36,36)"
            },
            "baxis": {
             "endlinecolor": "rgb(36,36,36)",
             "gridcolor": "white",
             "linecolor": "white",
             "minorgridcolor": "white",
             "startlinecolor": "rgb(36,36,36)"
            },
            "type": "carpet"
           }
          ],
          "choropleth": [
           {
            "colorbar": {
             "outlinewidth": 1,
             "tickcolor": "rgb(36,36,36)",
             "ticks": "outside"
            },
            "type": "choropleth"
           }
          ],
          "contour": [
           {
            "colorbar": {
             "outlinewidth": 1,
             "tickcolor": "rgb(36,36,36)",
             "ticks": "outside"
            },
            "colorscale": [
             [
              0,
              "#440154"
             ],
             [
              0.1111111111111111,
              "#482878"
             ],
             [
              0.2222222222222222,
              "#3e4989"
             ],
             [
              0.3333333333333333,
              "#31688e"
             ],
             [
              0.4444444444444444,
              "#26828e"
             ],
             [
              0.5555555555555556,
              "#1f9e89"
             ],
             [
              0.6666666666666666,
              "#35b779"
             ],
             [
              0.7777777777777778,
              "#6ece58"
             ],
             [
              0.8888888888888888,
              "#b5de2b"
             ],
             [
              1,
              "#fde725"
             ]
            ],
            "type": "contour"
           }
          ],
          "contourcarpet": [
           {
            "colorbar": {
             "outlinewidth": 1,
             "tickcolor": "rgb(36,36,36)",
             "ticks": "outside"
            },
            "type": "contourcarpet"
           }
          ],
          "heatmap": [
           {
            "colorbar": {
             "outlinewidth": 1,
             "tickcolor": "rgb(36,36,36)",
             "ticks": "outside"
            },
            "colorscale": [
             [
              0,
              "#440154"
             ],
             [
              0.1111111111111111,
              "#482878"
             ],
             [
              0.2222222222222222,
              "#3e4989"
             ],
             [
              0.3333333333333333,
              "#31688e"
             ],
             [
              0.4444444444444444,
              "#26828e"
             ],
             [
              0.5555555555555556,
              "#1f9e89"
             ],
             [
              0.6666666666666666,
              "#35b779"
             ],
             [
              0.7777777777777778,
              "#6ece58"
             ],
             [
              0.8888888888888888,
              "#b5de2b"
             ],
             [
              1,
              "#fde725"
             ]
            ],
            "type": "heatmap"
           }
          ],
          "histogram": [
           {
            "marker": {
             "line": {
              "color": "white",
              "width": 0.6
             }
            },
            "type": "histogram"
           }
          ],
          "histogram2d": [
           {
            "colorbar": {
             "outlinewidth": 1,
             "tickcolor": "rgb(36,36,36)",
             "ticks": "outside"
            },
            "colorscale": [
             [
              0,
              "#440154"
             ],
             [
              0.1111111111111111,
              "#482878"
             ],
             [
              0.2222222222222222,
              "#3e4989"
             ],
             [
              0.3333333333333333,
              "#31688e"
             ],
             [
              0.4444444444444444,
              "#26828e"
             ],
             [
              0.5555555555555556,
              "#1f9e89"
             ],
             [
              0.6666666666666666,
              "#35b779"
             ],
             [
              0.7777777777777778,
              "#6ece58"
             ],
             [
              0.8888888888888888,
              "#b5de2b"
             ],
             [
              1,
              "#fde725"
             ]
            ],
            "type": "histogram2d"
           }
          ],
          "histogram2dcontour": [
           {
            "colorbar": {
             "outlinewidth": 1,
             "tickcolor": "rgb(36,36,36)",
             "ticks": "outside"
            },
            "colorscale": [
             [
              0,
              "#440154"
             ],
             [
              0.1111111111111111,
              "#482878"
             ],
             [
              0.2222222222222222,
              "#3e4989"
             ],
             [
              0.3333333333333333,
              "#31688e"
             ],
             [
              0.4444444444444444,
              "#26828e"
             ],
             [
              0.5555555555555556,
              "#1f9e89"
             ],
             [
              0.6666666666666666,
              "#35b779"
             ],
             [
              0.7777777777777778,
              "#6ece58"
             ],
             [
              0.8888888888888888,
              "#b5de2b"
             ],
             [
              1,
              "#fde725"
             ]
            ],
            "type": "histogram2dcontour"
           }
          ],
          "mesh3d": [
           {
            "colorbar": {
             "outlinewidth": 1,
             "tickcolor": "rgb(36,36,36)",
             "ticks": "outside"
            },
            "type": "mesh3d"
           }
          ],
          "parcoords": [
           {
            "line": {
             "colorbar": {
              "outlinewidth": 1,
              "tickcolor": "rgb(36,36,36)",
              "ticks": "outside"
             }
            },
            "type": "parcoords"
           }
          ],
          "pie": [
           {
            "automargin": true,
            "type": "pie"
           }
          ],
          "scatter": [
           {
            "fillpattern": {
             "fillmode": "overlay",
             "size": 10,
             "solidity": 0.2
            },
            "type": "scatter"
           }
          ],
          "scatter3d": [
           {
            "line": {
             "colorbar": {
              "outlinewidth": 1,
              "tickcolor": "rgb(36,36,36)",
              "ticks": "outside"
             }
            },
            "marker": {
             "colorbar": {
              "outlinewidth": 1,
              "tickcolor": "rgb(36,36,36)",
              "ticks": "outside"
             }
            },
            "type": "scatter3d"
           }
          ],
          "scattercarpet": [
           {
            "marker": {
             "colorbar": {
              "outlinewidth": 1,
              "tickcolor": "rgb(36,36,36)",
              "ticks": "outside"
             }
            },
            "type": "scattercarpet"
           }
          ],
          "scattergeo": [
           {
            "marker": {
             "colorbar": {
              "outlinewidth": 1,
              "tickcolor": "rgb(36,36,36)",
              "ticks": "outside"
             }
            },
            "type": "scattergeo"
           }
          ],
          "scattergl": [
           {
            "marker": {
             "colorbar": {
              "outlinewidth": 1,
              "tickcolor": "rgb(36,36,36)",
              "ticks": "outside"
             }
            },
            "type": "scattergl"
           }
          ],
          "scattermap": [
           {
            "marker": {
             "colorbar": {
              "outlinewidth": 1,
              "tickcolor": "rgb(36,36,36)",
              "ticks": "outside"
             }
            },
            "type": "scattermap"
           }
          ],
          "scattermapbox": [
           {
            "marker": {
             "colorbar": {
              "outlinewidth": 1,
              "tickcolor": "rgb(36,36,36)",
              "ticks": "outside"
             }
            },
            "type": "scattermapbox"
           }
          ],
          "scatterpolar": [
           {
            "marker": {
             "colorbar": {
              "outlinewidth": 1,
              "tickcolor": "rgb(36,36,36)",
              "ticks": "outside"
             }
            },
            "type": "scatterpolar"
           }
          ],
          "scatterpolargl": [
           {
            "marker": {
             "colorbar": {
              "outlinewidth": 1,
              "tickcolor": "rgb(36,36,36)",
              "ticks": "outside"
             }
            },
            "type": "scatterpolargl"
           }
          ],
          "scatterternary": [
           {
            "marker": {
             "colorbar": {
              "outlinewidth": 1,
              "tickcolor": "rgb(36,36,36)",
              "ticks": "outside"
             }
            },
            "type": "scatterternary"
           }
          ],
          "surface": [
           {
            "colorbar": {
             "outlinewidth": 1,
             "tickcolor": "rgb(36,36,36)",
             "ticks": "outside"
            },
            "colorscale": [
             [
              0,
              "#440154"
             ],
             [
              0.1111111111111111,
              "#482878"
             ],
             [
              0.2222222222222222,
              "#3e4989"
             ],
             [
              0.3333333333333333,
              "#31688e"
             ],
             [
              0.4444444444444444,
              "#26828e"
             ],
             [
              0.5555555555555556,
              "#1f9e89"
             ],
             [
              0.6666666666666666,
              "#35b779"
             ],
             [
              0.7777777777777778,
              "#6ece58"
             ],
             [
              0.8888888888888888,
              "#b5de2b"
             ],
             [
              1,
              "#fde725"
             ]
            ],
            "type": "surface"
           }
          ],
          "table": [
           {
            "cells": {
             "fill": {
              "color": "rgb(237,237,237)"
             },
             "line": {
              "color": "white"
             }
            },
            "header": {
             "fill": {
              "color": "rgb(217,217,217)"
             },
             "line": {
              "color": "white"
             }
            },
            "type": "table"
           }
          ]
         },
         "layout": {
          "annotationdefaults": {
           "arrowhead": 0,
           "arrowwidth": 1
          },
          "autotypenumbers": "strict",
          "coloraxis": {
           "colorbar": {
            "outlinewidth": 1,
            "tickcolor": "rgb(36,36,36)",
            "ticks": "outside"
           }
          },
          "colorscale": {
           "diverging": [
            [
             0,
             "rgb(103,0,31)"
            ],
            [
             0.1,
             "rgb(178,24,43)"
            ],
            [
             0.2,
             "rgb(214,96,77)"
            ],
            [
             0.3,
             "rgb(244,165,130)"
            ],
            [
             0.4,
             "rgb(253,219,199)"
            ],
            [
             0.5,
             "rgb(247,247,247)"
            ],
            [
             0.6,
             "rgb(209,229,240)"
            ],
            [
             0.7,
             "rgb(146,197,222)"
            ],
            [
             0.8,
             "rgb(67,147,195)"
            ],
            [
             0.9,
             "rgb(33,102,172)"
            ],
            [
             1,
             "rgb(5,48,97)"
            ]
           ],
           "sequential": [
            [
             0,
             "#440154"
            ],
            [
             0.1111111111111111,
             "#482878"
            ],
            [
             0.2222222222222222,
             "#3e4989"
            ],
            [
             0.3333333333333333,
             "#31688e"
            ],
            [
             0.4444444444444444,
             "#26828e"
            ],
            [
             0.5555555555555556,
             "#1f9e89"
            ],
            [
             0.6666666666666666,
             "#35b779"
            ],
            [
             0.7777777777777778,
             "#6ece58"
            ],
            [
             0.8888888888888888,
             "#b5de2b"
            ],
            [
             1,
             "#fde725"
            ]
           ],
           "sequentialminus": [
            [
             0,
             "#440154"
            ],
            [
             0.1111111111111111,
             "#482878"
            ],
            [
             0.2222222222222222,
             "#3e4989"
            ],
            [
             0.3333333333333333,
             "#31688e"
            ],
            [
             0.4444444444444444,
             "#26828e"
            ],
            [
             0.5555555555555556,
             "#1f9e89"
            ],
            [
             0.6666666666666666,
             "#35b779"
            ],
            [
             0.7777777777777778,
             "#6ece58"
            ],
            [
             0.8888888888888888,
             "#b5de2b"
            ],
            [
             1,
             "#fde725"
            ]
           ]
          },
          "colorway": [
           "#1F77B4",
           "#FF7F0E",
           "#2CA02C",
           "#D62728",
           "#9467BD",
           "#8C564B",
           "#E377C2",
           "#7F7F7F",
           "#BCBD22",
           "#17BECF"
          ],
          "font": {
           "color": "rgb(36,36,36)"
          },
          "geo": {
           "bgcolor": "white",
           "lakecolor": "white",
           "landcolor": "white",
           "showlakes": true,
           "showland": true,
           "subunitcolor": "white"
          },
          "hoverlabel": {
           "align": "left"
          },
          "hovermode": "closest",
          "mapbox": {
           "style": "light"
          },
          "paper_bgcolor": "white",
          "plot_bgcolor": "white",
          "polar": {
           "angularaxis": {
            "gridcolor": "rgb(232,232,232)",
            "linecolor": "rgb(36,36,36)",
            "showgrid": false,
            "showline": true,
            "ticks": "outside"
           },
           "bgcolor": "white",
           "radialaxis": {
            "gridcolor": "rgb(232,232,232)",
            "linecolor": "rgb(36,36,36)",
            "showgrid": false,
            "showline": true,
            "ticks": "outside"
           }
          },
          "scene": {
           "xaxis": {
            "backgroundcolor": "white",
            "gridcolor": "rgb(232,232,232)",
            "gridwidth": 2,
            "linecolor": "rgb(36,36,36)",
            "showbackground": true,
            "showgrid": false,
            "showline": true,
            "ticks": "outside",
            "zeroline": false,
            "zerolinecolor": "rgb(36,36,36)"
           },
           "yaxis": {
            "backgroundcolor": "white",
            "gridcolor": "rgb(232,232,232)",
            "gridwidth": 2,
            "linecolor": "rgb(36,36,36)",
            "showbackground": true,
            "showgrid": false,
            "showline": true,
            "ticks": "outside",
            "zeroline": false,
            "zerolinecolor": "rgb(36,36,36)"
           },
           "zaxis": {
            "backgroundcolor": "white",
            "gridcolor": "rgb(232,232,232)",
            "gridwidth": 2,
            "linecolor": "rgb(36,36,36)",
            "showbackground": true,
            "showgrid": false,
            "showline": true,
            "ticks": "outside",
            "zeroline": false,
            "zerolinecolor": "rgb(36,36,36)"
           }
          },
          "shapedefaults": {
           "fillcolor": "black",
           "line": {
            "width": 0
           },
           "opacity": 0.3
          },
          "ternary": {
           "aaxis": {
            "gridcolor": "rgb(232,232,232)",
            "linecolor": "rgb(36,36,36)",
            "showgrid": false,
            "showline": true,
            "ticks": "outside"
           },
           "baxis": {
            "gridcolor": "rgb(232,232,232)",
            "linecolor": "rgb(36,36,36)",
            "showgrid": false,
            "showline": true,
            "ticks": "outside"
           },
           "bgcolor": "white",
           "caxis": {
            "gridcolor": "rgb(232,232,232)",
            "linecolor": "rgb(36,36,36)",
            "showgrid": false,
            "showline": true,
            "ticks": "outside"
           }
          },
          "title": {
           "x": 0.05
          },
          "xaxis": {
           "automargin": true,
           "gridcolor": "rgb(232,232,232)",
           "linecolor": "rgb(36,36,36)",
           "showgrid": false,
           "showline": true,
           "ticks": "outside",
           "title": {
            "standoff": 15
           },
           "zeroline": false,
           "zerolinecolor": "rgb(36,36,36)"
          },
          "yaxis": {
           "automargin": true,
           "gridcolor": "rgb(232,232,232)",
           "linecolor": "rgb(36,36,36)",
           "showgrid": false,
           "showline": true,
           "ticks": "outside",
           "title": {
            "standoff": 15
           },
           "zeroline": false,
           "zerolinecolor": "rgb(36,36,36)"
          }
         }
        },
        "xaxis": {
         "anchor": "y",
         "color": "black",
         "domain": [
          0,
          0.14166666666666666
         ],
         "linecolor": "black",
         "linewidth": 1,
         "showgrid": false,
         "showline": true,
         "title": {
          "text": "Step"
         }
        },
        "xaxis2": {
         "anchor": "y2",
         "color": "black",
         "domain": [
          0.17166666666666666,
          0.31333333333333335
         ],
         "linecolor": "black",
         "linewidth": 1,
         "showgrid": false,
         "showline": true,
         "title": {
          "text": "Step"
         }
        },
        "xaxis3": {
         "anchor": "y3",
         "color": "black",
         "domain": [
          0.3433333333333333,
          0.485
         ],
         "linecolor": "black",
         "linewidth": 1,
         "showgrid": false,
         "showline": true,
         "title": {
          "text": "Step"
         }
        },
        "xaxis4": {
         "anchor": "y4",
         "color": "black",
         "domain": [
          0.515,
          0.6566666666666667
         ],
         "linecolor": "black",
         "linewidth": 1,
         "showgrid": false,
         "showline": true,
         "title": {
          "text": "Step"
         }
        },
        "xaxis5": {
         "anchor": "y5",
         "color": "black",
         "domain": [
          0.6866666666666666,
          0.8283333333333334
         ],
         "linecolor": "black",
         "linewidth": 1,
         "showgrid": false,
         "showline": true,
         "title": {
          "text": "Step"
         }
        },
        "xaxis6": {
         "anchor": "y6",
         "color": "black",
         "domain": [
          0.8583333333333333,
          1
         ],
         "linecolor": "black",
         "linewidth": 1,
         "showgrid": false,
         "showline": true,
         "title": {
          "text": "Step"
         }
        },
        "yaxis": {
         "anchor": "x",
         "domain": [
          0,
          1
         ],
         "gridcolor": "lightgray",
         "linecolor": "black",
         "linewidth": 1,
         "showgrid": true,
         "showline": true,
         "tickfont": {
          "color": "black"
         },
         "title": {
          "text": "Action Reasoning Length"
         }
        },
        "yaxis2": {
         "anchor": "x2",
         "domain": [
          0,
          1
         ],
         "gridcolor": "lightgray",
         "linecolor": "black",
         "linewidth": 1,
         "showgrid": true,
         "showline": true,
         "tickfont": {
          "color": "black"
         }
        },
        "yaxis3": {
         "anchor": "x3",
         "domain": [
          0,
          1
         ],
         "gridcolor": "lightgray",
         "linecolor": "black",
         "linewidth": 1,
         "showgrid": true,
         "showline": true,
         "tickfont": {
          "color": "black"
         }
        },
        "yaxis4": {
         "anchor": "x4",
         "domain": [
          0,
          1
         ],
         "gridcolor": "lightgray",
         "linecolor": "black",
         "linewidth": 1,
         "showgrid": true,
         "showline": true,
         "tickfont": {
          "color": "black"
         }
        },
        "yaxis5": {
         "anchor": "x5",
         "domain": [
          0,
          1
         ],
         "gridcolor": "lightgray",
         "linecolor": "black",
         "linewidth": 1,
         "showgrid": true,
         "showline": true,
         "tickfont": {
          "color": "black"
         }
        },
        "yaxis6": {
         "anchor": "x6",
         "domain": [
          0,
          1
         ],
         "gridcolor": "lightgray",
         "linecolor": "black",
         "linewidth": 1,
         "showgrid": true,
         "showline": true,
         "tickfont": {
          "color": "black"
         }
        }
       }
      }
     },
     "metadata": {},
     "output_type": "display_data"
    }
   ],
   "source": [
    "figures = plot_belief_length_separate_figs(df_reasoning)\n",
    "figures['action'].show()"
   ]
  },
  {
   "cell_type": "code",
   "execution_count": 161,
   "id": "62b9244d",
   "metadata": {},
   "outputs": [],
   "source": [
    "figures['action'].write_image('figures/frontier_action_reasoning_length.pdf', width=1500, height=370)"
   ]
  },
  {
   "cell_type": "code",
   "execution_count": 133,
   "id": "0e90c297",
   "metadata": {},
   "outputs": [],
   "source": [
    "figures['belief'].write_image('figures/frontier_belief_reasoning_length.pdf', width=1400, height=370)"
   ]
  }
 ],
 "metadata": {
  "kernelspec": {
   "display_name": "verl",
   "language": "python",
   "name": "python3"
  },
  "language_info": {
   "codemirror_mode": {
    "name": "ipython",
    "version": 3
   },
   "file_extension": ".py",
   "mimetype": "text/x-python",
   "name": "python",
   "nbconvert_exporter": "python",
   "pygments_lexer": "ipython3",
   "version": "3.10.18"
  }
 },
 "nbformat": 4,
 "nbformat_minor": 5
}
