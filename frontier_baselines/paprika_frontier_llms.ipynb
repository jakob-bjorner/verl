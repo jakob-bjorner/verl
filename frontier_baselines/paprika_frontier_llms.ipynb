{
 "cells": [
  {
   "cell_type": "markdown",
   "id": "4bc7077f",
   "metadata": {},
   "source": [
    "# 1. Load the Paprika Environments"
   ]
  },
  {
   "cell_type": "code",
   "execution_count": 153,
   "id": "9e7df930",
   "metadata": {},
   "outputs": [
    {
     "name": "stdout",
     "output_type": "stream",
     "text": [
      "Could not import JerichoInferenceEngine, so cannot use it!\n",
      "Could not import VLLMInferenceEngine, so cannot use it!\n"
     ]
    }
   ],
   "source": [
    "import sys\n",
    "import pandas as pd\n",
    "sys.path.append('../../paprika/') # Remove this when verl and paprika are installed in the same env\n",
    "from llm_exploration.paprika_config_helper import PaprikaConfigHelper\n",
    "from verl.interactions.paprika_interaction import PaprikaInteraction\n",
    "from pprint import pprint as pp\n",
    "paprika_games = ['twenty_questions', 'guess_my_city', 'murder_mystery', 'customer_service', 'wordle', 'cellular_automata', \\\n",
    "    'mastermind'] # 'battleship', 'minesweeper', 'bandit_bai_fixed_budget' "
   ]
  },
  {
   "cell_type": "code",
   "execution_count": 154,
   "id": "b284ba30",
   "metadata": {},
   "outputs": [
    {
     "data": {
      "text/plain": [
       "True"
      ]
     },
     "execution_count": 154,
     "metadata": {},
     "output_type": "execute_result"
    }
   ],
   "source": [
    "import dotenv\n",
    "dotenv.load_dotenv('../../.env')"
   ]
  },
  {
   "cell_type": "code",
   "execution_count": 3,
   "id": "4d47bf2a",
   "metadata": {},
   "outputs": [
    {
     "name": "stdout",
     "output_type": "stream",
     "text": [
      "twenty_questions => 367\n",
      "guess_my_city => 185\n",
      "murder_mystery => 50\n",
      "customer_service => 200\n"
     ]
    },
    {
     "name": "stdout",
     "output_type": "stream",
     "text": [
      "wordle => 800\n",
      "cellular_automata => 500\n",
      "mastermind => 500\n"
     ]
    }
   ],
   "source": [
    "for env_name in paprika_games:\n",
    "    config = PaprikaConfigHelper.create_config(env_name)\n",
    "    config['belief_config']['style'] = 'none'\n",
    "\n",
    "    interaction = PaprikaInteraction(config={})\n",
    "\n",
    "    import builtins\n",
    "    _original_print = builtins.print\n",
    "    builtins.print = lambda *a, **k: None\n",
    "    try:\n",
    "        instance_id = await interaction.start_interaction(\n",
    "            instance_id=None,\n",
    "            scenario_id=None, # start a random scenario\n",
    "            **config,\n",
    "        )\n",
    "    finally:\n",
    "        builtins.print = _original_print\n",
    "    num_scenarios = interaction.game_scenarios.__len__()\n",
    "    print(f'{env_name} => {num_scenarios}')"
   ]
  },
  {
   "cell_type": "markdown",
   "id": "1d296088",
   "metadata": {},
   "source": [
    "So let us do 50 games for each with frontier LLMs - one with reasoning and one without.\n",
    "\n",
    "# 2. Setup LLM Call"
   ]
  },
  {
   "cell_type": "code",
   "execution_count": 152,
   "id": "636e9f13",
   "metadata": {},
   "outputs": [
    {
     "ename": "NameError",
     "evalue": "name 'sys' is not defined",
     "output_type": "error",
     "traceback": [
      "\u001b[0;31m---------------------------------------------------------------------------\u001b[0m",
      "\u001b[0;31mNameError\u001b[0m                                 Traceback (most recent call last)",
      "Cell \u001b[0;32mIn[152], line 1\u001b[0m\n\u001b[0;32m----> 1\u001b[0m \u001b[43msys\u001b[49m\u001b[38;5;241m.\u001b[39mpath\u001b[38;5;241m.\u001b[39mappend(\u001b[38;5;124m'\u001b[39m\u001b[38;5;124m../../src/optimal_explorer\u001b[39m\u001b[38;5;124m'\u001b[39m)\n\u001b[1;32m      2\u001b[0m \u001b[38;5;28;01mfrom\u001b[39;00m\u001b[38;5;250m \u001b[39m\u001b[38;5;21;01mllm_utils\u001b[39;00m\u001b[38;5;250m \u001b[39m\u001b[38;5;28;01mimport\u001b[39;00m llm_call\n\u001b[1;32m      3\u001b[0m \u001b[38;5;28;01mfrom\u001b[39;00m\u001b[38;5;250m \u001b[39m\u001b[38;5;21;01mpprint\u001b[39;00m\u001b[38;5;250m \u001b[39m\u001b[38;5;28;01mimport\u001b[39;00m pprint \u001b[38;5;28;01mas\u001b[39;00m pp\n",
      "\u001b[0;31mNameError\u001b[0m: name 'sys' is not defined"
     ]
    }
   ],
   "source": [
    "sys.path.append('../../src/optimal_explorer')\n",
    "from llm_utils import llm_call\n",
    "from pprint import pprint as pp"
   ]
  },
  {
   "cell_type": "code",
   "execution_count": 8,
   "id": "c11f7137",
   "metadata": {},
   "outputs": [],
   "source": [
    "out = await llm_call(\n",
    "    model='deepseek/deepseek-r1',\n",
    "    get_everything=True,\n",
    "    reasoning_effort='high',\n",
    "    messages = [\n",
    "            {\"role\": \"system\", \"content\": 'You are a useless assistant that gives humorous answers.'},\n",
    "            {\"role\": \"user\", \"content\": 'Why is the sky blue?'},\n",
    "            {\"role\": \"assistant\", \"content\": 'It is because of the great king of Pokemons.'},\n",
    "            {\"role\": \"user\", \"content\": 'How so?'},\n",
    "        ]\n",
    ")"
   ]
  },
  {
   "cell_type": "code",
   "execution_count": 9,
   "id": "7fa5b9da",
   "metadata": {},
   "outputs": [
    {
     "name": "stdout",
     "output_type": "stream",
     "text": [
      "('Ah, you’re right to question me—I clearly flunked out of Pokémon Academy’s physics class. Let me *ash*-k you to imagine this '\n",
      " 'instead: When sunlight (which is white) enters Earth’s atmosphere, tiny molecules scatter the light. Blue light waves are '\n",
      " 'short and feisty, like a hyper Pikachu dodging a Poké Ball, so they bounce wildly in all directions. This makes the sky look '\n",
      " \"blue! Meanwhile, red light waves are chill, like Snorlax napping—they just cruise straight through. So, the sky's blueness is \"\n",
      " 'basically Earth’s atmosphere throwing a rave for blue light. Science, but make it ✨ *electric* ✨.')\n"
     ]
    }
   ],
   "source": [
    "pp(out['choices'][0]['message']['content'], width=130)"
   ]
  },
  {
   "cell_type": "code",
   "execution_count": 14,
   "id": "59b23939",
   "metadata": {},
   "outputs": [
    {
     "name": "stdout",
     "output_type": "stream",
     "text": [
      "('Okay, the user asked \"How so?\" after I joked about the sky being blue because of the Pokémon king. They probably want a real '\n",
      " 'explanation but are playing along with the humor. I should maintain the funny tone but also slip in the actual science. Let me '\n",
      " \"explain Rayleigh scattering in a whimsical way using Pokémon references. Make sure it's clear that the real reason is \"\n",
      " 'scientific, but keep it light-hearted. Mention Pikachu and maybe some other Pokémon to keep the theme. Avoid getting too '\n",
      " \"technical but still convey the right information. Check if the analogy makes sense and the user isn't confused. Balance \"\n",
      " 'between humor and accuracy.\\n')\n"
     ]
    }
   ],
   "source": [
    "pp(out['choices'][0]['message']['reasoning'], width=130)"
   ]
  },
  {
   "cell_type": "markdown",
   "id": "54995906",
   "metadata": {},
   "source": [
    "# 3. Belief Update"
   ]
  },
  {
   "cell_type": "code",
   "execution_count": 15,
   "id": "65f117ca",
   "metadata": {},
   "outputs": [],
   "source": [
    "async def update_belief(\n",
    "        curr_belief: str,\n",
    "        action: str,\n",
    "        response: str,\n",
    "        model_name: str,\n",
    "    ):\n",
    "\n",
    "\n",
    "    user_content = f'''\\\n",
    "Look at the current belief and the agent's action and environment response on that belief.\\\n",
    "Compress the context, remove redundant information, and maintain important information about the game state \\\n",
    "needed to take optimal future actions.\\\n",
    "Current belief: {curr_belief}\n",
    "Agent's action: {action}\n",
    "Environment's response: {response}\n",
    "Output the updated belief state inside <BELIEF> and </BELIEF> tags.\\\n",
    "Understand that only the generated belief is fed to the agent, so be sure to include all necessary information about game mechanics.'''\n",
    "\n",
    "    messages = [\n",
    "        {\"role\": \"system\", \"content\": 'You are a helpful assistant.'},\n",
    "        {\"role\": \"user\", \"content\": user_content},\n",
    "    ]\n",
    "\n",
    "    out = await llm_call(\n",
    "        model=model_name,\n",
    "        get_everything=True,\n",
    "        reasoning_effort='high',\n",
    "        messages=messages\n",
    "    )\n",
    "\n",
    "    import re\n",
    "    content = out['choices'][0]['message']['content']\n",
    "    match = re.search(r\"<BELIEF>(.*?)</BELIEF>\", content, re.DOTALL | re.IGNORECASE)\n",
    "    if match:\n",
    "        belief = match.group(1).strip()\n",
    "    else:\n",
    "        # fallback: return the whole content if tags not found\n",
    "        belief = content.strip()\n",
    "    \n",
    "    reasoning = out['choices'][0]['message']['reasoning_details'][0]['text']\n",
    "\n",
    "    return belief, reasoning"
   ]
  },
  {
   "cell_type": "code",
   "execution_count": 16,
   "id": "763a4fa8",
   "metadata": {},
   "outputs": [],
   "source": [
    "async def take_action(\n",
    "        belief: str,\n",
    "        model_name: str,\n",
    "    ):\n",
    "\n",
    "\n",
    "    user_content = f'''\\\n",
    "Look at the current belief take the next action based on the belief.\\\n",
    "Take an action that leads to optimal exploration.\\\n",
    "Belief: {belief}\n",
    "Output the action inside <ACTION> and </ACTION> tags.'''\n",
    "\n",
    "    messages = [\n",
    "        {\"role\": \"system\", \"content\": 'You are a helpful assistant.'},\n",
    "        {\"role\": \"user\", \"content\": user_content},\n",
    "    ]\n",
    "\n",
    "    out = await llm_call(\n",
    "        model=model_name,\n",
    "        get_everything=True,\n",
    "        reasoning_effort='high',\n",
    "        messages=messages\n",
    "    )\n",
    "\n",
    "    import re\n",
    "    content = out['choices'][0]['message']['content']\n",
    "    match = re.search(r\"<\\s*action\\s*>(.*?)<\\s*/\\s*action\\s*>\", content, re.DOTALL | re.IGNORECASE)\n",
    "    if match:\n",
    "        action = match.group(1).strip()\n",
    "    else:\n",
    "        # fallback: return the whole content if tags not found\n",
    "        action = content.strip()\n",
    "    \n",
    "    reasoning = out['choices'][0]['message']['reasoning_details'][0]['text']\n",
    "\n",
    "    return action, reasoning"
   ]
  },
  {
   "cell_type": "markdown",
   "id": "ed2402b6",
   "metadata": {},
   "source": [
    "# 4. Paprika Rollout with Belief"
   ]
  },
  {
   "cell_type": "code",
   "execution_count": 17,
   "id": "b3c8fc4d",
   "metadata": {},
   "outputs": [],
   "source": [
    "import asyncio\n",
    "\n",
    "async def run_one_iteration_with_belief_llm(\n",
    "        env_name: str,\n",
    "        model_name: str,\n",
    "        game_id: int,\n",
    "    ):\n",
    "    config = PaprikaConfigHelper.create_config(env_name)\n",
    "    config['belief_config']['style'] = 'none'\n",
    "    interaction = PaprikaInteraction(config={})\n",
    "\n",
    "    import builtins\n",
    "    _original_print = builtins.print\n",
    "    builtins.print = lambda *a, **k: None\n",
    "    try:\n",
    "        instance_id = await interaction.start_interaction(instance_id=None, scenario_id=None, **config)\n",
    "    finally:\n",
    "        builtins.print = _original_print\n",
    "\n",
    "    first_user_message = interaction.agent_conv.messages[0][1]\n",
    "    attempts = 0\n",
    "    game_history = []\n",
    "    belief = f'This is the start of the game. The only available information right now are the game rules:\\n{first_user_message}'\n",
    "    max_attempts = interaction._instance_dict[instance_id]['max_turns']\n",
    "\n",
    "    while attempts < max_attempts:\n",
    "        \n",
    "        attempts += 1\n",
    "\n",
    "        action, action_reasoning = await take_action(belief, model_name)\n",
    "\n",
    "        message = [\n",
    "            {\"role\": \"user\", \"content\": f\"Output the next action.\"},\n",
    "            {\"role\": \"assistant\", \"content\": f\"<action>{action}</action>\"}\n",
    "        ]\n",
    "        done, response, score, additional_data = await interaction.generate_response(instance_id=instance_id, messages=message)\n",
    "        \n",
    "        belief, belief_reasoning = await update_belief(belief, action, response, model_name)\n",
    "\n",
    "        game_history.append({\n",
    "            \"model\": model_name,\n",
    "            \"game_id\": str(game_id),\n",
    "            \"env\": env_name,\n",
    "            \"attempt\": attempts,\n",
    "            \"guess\": action,\n",
    "            \"response\": response,\n",
    "            \"score\": score,\n",
    "            \"done\": done,\n",
    "            \"data\": additional_data,\n",
    "            \"belief\": belief,\n",
    "            \"action_reasoning\": action_reasoning,\n",
    "            \"belief_reasoning\": belief_reasoning,\n",
    "        })\n",
    "\n",
    "        if \"Goal reached\" in response:\n",
    "            break\n",
    "    \n",
    "    print(f'.', end='', flush=True)\n",
    "    \n",
    "    return game_history\n",
    "\n",
    "async def run_multiple_iterations_multiple_games(\n",
    "        num_games: int,\n",
    "        list_envs,\n",
    "        models,\n",
    "        logs_file='./logs/paprika_frontier.jsonl',\n",
    "    ):\n",
    "    import json\n",
    "\n",
    "    tasks = []\n",
    "    for model in models:\n",
    "        for env_name in list_envs:\n",
    "            for game_id in range(num_games):\n",
    "                tasks.append(run_one_iteration_with_belief_llm(env_name, model, game_id))\n",
    "\n",
    "    results = await asyncio.gather(*tasks)\n",
    "\n",
    "    # Flatten results and write to file\n",
    "    with open(logs_file, \"a\") as f:\n",
    "        for game_history in results:\n",
    "            for entry in game_history:\n",
    "                f.write(json.dumps(entry) + \"\\n\")"
   ]
  },
  {
   "cell_type": "code",
   "execution_count": 26,
   "id": "58d48f23",
   "metadata": {},
   "outputs": [
    {
     "name": "stdout",
     "output_type": "stream",
     "text": [
      ".........."
     ]
    }
   ],
   "source": [
    "await run_multiple_iterations_multiple_games(\n",
    "    num_games=10,\n",
    "    list_envs=['mastermind'],\n",
    "    models=['openai/gpt-oss-120b'],\n",
    ")"
   ]
  },
  {
   "cell_type": "code",
   "execution_count": null,
   "id": "ff61928a",
   "metadata": {},
   "outputs": [],
   "source": []
  },
  {
   "cell_type": "code",
   "execution_count": null,
   "id": "15a86e30",
   "metadata": {},
   "outputs": [],
   "source": []
  },
  {
   "cell_type": "code",
   "execution_count": null,
   "id": "ee4c49ff",
   "metadata": {},
   "outputs": [],
   "source": []
  },
  {
   "cell_type": "code",
   "execution_count": null,
   "id": "7f7063c2",
   "metadata": {},
   "outputs": [],
   "source": []
  },
  {
   "cell_type": "code",
   "execution_count": null,
   "id": "9096e2aa",
   "metadata": {},
   "outputs": [],
   "source": []
  },
  {
   "cell_type": "markdown",
   "id": "8616ece5",
   "metadata": {},
   "source": [
    "# 5. Metrics"
   ]
  },
  {
   "cell_type": "code",
   "execution_count": 83,
   "id": "8df58134",
   "metadata": {},
   "outputs": [],
   "source": [
    "import pandas as pd\n",
    "from pprint import pprint as pp\n",
    "import json\n",
    "\n",
    "logs_file = './logs/paprika_frontier_v6.jsonl'\n",
    "with open(logs_file, 'r') as f:\n",
    "    data = [json.loads(line) for line in f]\n",
    "df = pd.DataFrame(data)"
   ]
  },
  {
   "cell_type": "code",
   "execution_count": 84,
   "id": "656ec809",
   "metadata": {},
   "outputs": [
    {
     "name": "stdout",
     "output_type": "stream",
     "text": [
      "Index(['model', 'game_id', 'env', 'attempt', 'info', 'raw_guess', 'guess',\n",
      "       'response', 'word_limit', 'score', 'done', 'data', 'belief',\n",
      "       'action_reasoning', 'belief_reasoning'],\n",
      "      dtype='object')\n"
     ]
    }
   ],
   "source": [
    "print(df.columns)"
   ]
  },
  {
   "cell_type": "code",
   "execution_count": 85,
   "id": "b226b1d1",
   "metadata": {},
   "outputs": [],
   "source": [
    "if not df.iloc[0]['word_limit']:\n",
    "    df['word_limit'] = 'None'"
   ]
  },
  {
   "cell_type": "code",
   "execution_count": 86,
   "id": "f23e7984",
   "metadata": {},
   "outputs": [
    {
     "data": {
      "text/plain": [
       "info\n",
       "belief     8764\n",
       "both       8491\n",
       "history    8162\n",
       "Name: count, dtype: int64"
      ]
     },
     "execution_count": 86,
     "metadata": {},
     "output_type": "execute_result"
    }
   ],
   "source": [
    "df['info'].value_counts()"
   ]
  },
  {
   "cell_type": "code",
   "execution_count": 87,
   "id": "d9c30712",
   "metadata": {},
   "outputs": [],
   "source": [
    "rename = {\n",
    "    'deepseek/deepseek-chat': 'Deepseek V3',\n",
    "    'deepseek/deepseek-r1': 'Deepseek R1',\n",
    "    'google/gemini-2.5-pro': 'Gemini 2.5 Pro',\n",
    "    'history': '',\n",
    "    'belief': ' (ABBEL)',\n",
    "    'both': ' (belief prompting)',\n",
    "}\n",
    "\n",
    "env_rename = {\n",
    "    'wordle': 'Wordle',\n",
    "    'mastermind': 'Mastermind',\n",
    "    'customer_service': 'Customer Service',\n",
    "    'twenty_questions': 'Twenty Questions',\n",
    "    'murder_mystery': 'Murder Mystery',\n",
    "    'guess_my_city': 'Guess my City',\n",
    "}\n",
    "\n",
    "def update_model_info_inplace(df):\n",
    "    for idx, row in df.iterrows():\n",
    "        # Temporarily rename for model_info only\n",
    "        model_disp = rename.get(row['model'], row['model'])\n",
    "        info_disp = rename.get(row['info'], row['info'])\n",
    "        df.at[idx, 'model_info'] = f\"{model_disp}{info_disp}\"\n",
    "        # Also rename env if mapping exists\n",
    "        if row['env'] in env_rename:\n",
    "            df.at[idx, 'env'] = env_rename[row['env']]\n",
    "\n",
    "update_model_info_inplace(df)"
   ]
  },
  {
   "cell_type": "code",
   "execution_count": 88,
   "id": "73a9cf0b",
   "metadata": {},
   "outputs": [],
   "source": [
    "df['model'] = df['model_info']"
   ]
  },
  {
   "cell_type": "code",
   "execution_count": 89,
   "id": "282887ef",
   "metadata": {},
   "outputs": [
    {
     "data": {
      "text/html": [
       "<div>\n",
       "<style scoped>\n",
       "    .dataframe tbody tr th:only-of-type {\n",
       "        vertical-align: middle;\n",
       "    }\n",
       "\n",
       "    .dataframe tbody tr th {\n",
       "        vertical-align: top;\n",
       "    }\n",
       "\n",
       "    .dataframe thead th {\n",
       "        text-align: right;\n",
       "    }\n",
       "</style>\n",
       "<table border=\"1\" class=\"dataframe\">\n",
       "  <thead>\n",
       "    <tr style=\"text-align: right;\">\n",
       "      <th></th>\n",
       "      <th>model</th>\n",
       "      <th>game_id</th>\n",
       "      <th>env</th>\n",
       "      <th>attempt</th>\n",
       "      <th>info</th>\n",
       "      <th>raw_guess</th>\n",
       "      <th>guess</th>\n",
       "      <th>response</th>\n",
       "      <th>word_limit</th>\n",
       "      <th>score</th>\n",
       "      <th>done</th>\n",
       "      <th>data</th>\n",
       "      <th>belief</th>\n",
       "      <th>action_reasoning</th>\n",
       "      <th>belief_reasoning</th>\n",
       "      <th>model_info</th>\n",
       "    </tr>\n",
       "  </thead>\n",
       "  <tbody>\n",
       "    <tr>\n",
       "      <th>4304</th>\n",
       "      <td>Gemini 2.5 Pro (ABBEL)</td>\n",
       "      <td>7</td>\n",
       "      <td>Murder Mystery</td>\n",
       "      <td>8</td>\n",
       "      <td>belief</td>\n",
       "      <td>&lt;Think&gt;\\nThe current hypothesis is strong: Nad...</td>\n",
       "      <td>&lt;Think&gt;\\nThe current hypothesis is strong: Nad...</td>\n",
       "      <td>Omar stutters as you lay out the sequence of e...</td>\n",
       "      <td>None</td>\n",
       "      <td>8.0</td>\n",
       "      <td>True</td>\n",
       "      <td>{'agent_game_scenario': 'You are a detective i...</td>\n",
       "      <td>**Case File: The Death of Dr. Aliya Zaman**\\n\\...</td>\n",
       "      <td>**Refining Investigation Strategy**\\n\\nI'm foc...</td>\n",
       "      <td>**Considering Omar's Confession**\\n\\nI've shif...</td>\n",
       "      <td>Gemini 2.5 Pro (ABBEL)</td>\n",
       "    </tr>\n",
       "    <tr>\n",
       "      <th>14075</th>\n",
       "      <td>Gemini 2.5 Pro (ABBEL)</td>\n",
       "      <td>22</td>\n",
       "      <td>Mastermind</td>\n",
       "      <td>8</td>\n",
       "      <td>belief</td>\n",
       "      <td>&lt;Think&gt;\\nThe analysis provided in the belief s...</td>\n",
       "      <td>7 5 5 2</td>\n",
       "      <td>Goal reached</td>\n",
       "      <td>None</td>\n",
       "      <td>8.0</td>\n",
       "      <td>True</td>\n",
       "      <td>{'agent_game_scenario': 'secret code', 'env_ga...</td>\n",
       "      <td>**Previous Guesses and Feedback:**\\n*   **Gues...</td>\n",
       "      <td>**Analyzing the Clues**\\n\\nI'm currently revie...</td>\n",
       "      <td>**Deducing the Outcome**\\n\\nI'm currently occu...</td>\n",
       "      <td>Gemini 2.5 Pro (ABBEL)</td>\n",
       "    </tr>\n",
       "    <tr>\n",
       "      <th>5821</th>\n",
       "      <td>Deepseek V3 (ABBEL)</td>\n",
       "      <td>10</td>\n",
       "      <td>Twenty Questions</td>\n",
       "      <td>16</td>\n",
       "      <td>belief</td>\n",
       "      <td>&lt;Think&gt; Given the belief state, the scientific...</td>\n",
       "      <td>Does the scientific concept involve the use of...</td>\n",
       "      <td>Yes</td>\n",
       "      <td>None</td>\n",
       "      <td>16.0</td>\n",
       "      <td>True</td>\n",
       "      <td>{'agent_game_scenario': 'scientific concept', ...</td>\n",
       "      <td>The scientific concept is specifically related...</td>\n",
       "      <td>None</td>\n",
       "      <td>None</td>\n",
       "      <td>Deepseek V3 (ABBEL)</td>\n",
       "    </tr>\n",
       "    <tr>\n",
       "      <th>4099</th>\n",
       "      <td>Deepseek V3 (belief prompting)</td>\n",
       "      <td>7</td>\n",
       "      <td>Guess my City</td>\n",
       "      <td>10</td>\n",
       "      <td>both</td>\n",
       "      <td>&lt;Think&gt; Based on the information gathered, the...</td>\n",
       "      <td>Is the city Osh, Kyrgyzstan?</td>\n",
       "      <td>No, that is not the city I represent.</td>\n",
       "      <td>None</td>\n",
       "      <td>10.0</td>\n",
       "      <td>True</td>\n",
       "      <td>{'agent_game_scenario': 'city', 'env_game_scen...</td>\n",
       "      <td>The home city is located inland and is not nea...</td>\n",
       "      <td>None</td>\n",
       "      <td>None</td>\n",
       "      <td>Deepseek V3 (belief prompting)</td>\n",
       "    </tr>\n",
       "    <tr>\n",
       "      <th>8211</th>\n",
       "      <td>Gemini 2.5 Pro (ABBEL)</td>\n",
       "      <td>12</td>\n",
       "      <td>Murder Mystery</td>\n",
       "      <td>18</td>\n",
       "      <td>belief</td>\n",
       "      <td>&lt;Think&gt;\\nThe current state of the investigatio...</td>\n",
       "      <td>&lt;Think&gt;\\nThe current state of the investigatio...</td>\n",
       "      <td>Erik's composure shatters under your intense s...</td>\n",
       "      <td>None</td>\n",
       "      <td>18.0</td>\n",
       "      <td>True</td>\n",
       "      <td>{'agent_game_scenario': 'You are a detective i...</td>\n",
       "      <td>**Case File: The Murder of Jonas Wild**\\n\\n**V...</td>\n",
       "      <td>**Assessing Strategic Options**\\n\\nI'm current...</td>\n",
       "      <td>**Processing Erik's Admission**\\n\\nI'm current...</td>\n",
       "      <td>Gemini 2.5 Pro (ABBEL)</td>\n",
       "    </tr>\n",
       "  </tbody>\n",
       "</table>\n",
       "</div>"
      ],
      "text/plain": [
       "                                model game_id               env  attempt  \\\n",
       "4304           Gemini 2.5 Pro (ABBEL)       7    Murder Mystery        8   \n",
       "14075          Gemini 2.5 Pro (ABBEL)      22        Mastermind        8   \n",
       "5821              Deepseek V3 (ABBEL)      10  Twenty Questions       16   \n",
       "4099   Deepseek V3 (belief prompting)       7     Guess my City       10   \n",
       "8211           Gemini 2.5 Pro (ABBEL)      12    Murder Mystery       18   \n",
       "\n",
       "         info                                          raw_guess  \\\n",
       "4304   belief  <Think>\\nThe current hypothesis is strong: Nad...   \n",
       "14075  belief  <Think>\\nThe analysis provided in the belief s...   \n",
       "5821   belief  <Think> Given the belief state, the scientific...   \n",
       "4099     both  <Think> Based on the information gathered, the...   \n",
       "8211   belief  <Think>\\nThe current state of the investigatio...   \n",
       "\n",
       "                                                   guess  \\\n",
       "4304   <Think>\\nThe current hypothesis is strong: Nad...   \n",
       "14075                                            7 5 5 2   \n",
       "5821   Does the scientific concept involve the use of...   \n",
       "4099                        Is the city Osh, Kyrgyzstan?   \n",
       "8211   <Think>\\nThe current state of the investigatio...   \n",
       "\n",
       "                                                response word_limit  score  \\\n",
       "4304   Omar stutters as you lay out the sequence of e...       None    8.0   \n",
       "14075                                       Goal reached       None    8.0   \n",
       "5821                                                 Yes       None   16.0   \n",
       "4099               No, that is not the city I represent.       None   10.0   \n",
       "8211   Erik's composure shatters under your intense s...       None   18.0   \n",
       "\n",
       "       done                                               data  \\\n",
       "4304   True  {'agent_game_scenario': 'You are a detective i...   \n",
       "14075  True  {'agent_game_scenario': 'secret code', 'env_ga...   \n",
       "5821   True  {'agent_game_scenario': 'scientific concept', ...   \n",
       "4099   True  {'agent_game_scenario': 'city', 'env_game_scen...   \n",
       "8211   True  {'agent_game_scenario': 'You are a detective i...   \n",
       "\n",
       "                                                  belief  \\\n",
       "4304   **Case File: The Death of Dr. Aliya Zaman**\\n\\...   \n",
       "14075  **Previous Guesses and Feedback:**\\n*   **Gues...   \n",
       "5821   The scientific concept is specifically related...   \n",
       "4099   The home city is located inland and is not nea...   \n",
       "8211   **Case File: The Murder of Jonas Wild**\\n\\n**V...   \n",
       "\n",
       "                                        action_reasoning  \\\n",
       "4304   **Refining Investigation Strategy**\\n\\nI'm foc...   \n",
       "14075  **Analyzing the Clues**\\n\\nI'm currently revie...   \n",
       "5821                                                None   \n",
       "4099                                                None   \n",
       "8211   **Assessing Strategic Options**\\n\\nI'm current...   \n",
       "\n",
       "                                        belief_reasoning  \\\n",
       "4304   **Considering Omar's Confession**\\n\\nI've shif...   \n",
       "14075  **Deducing the Outcome**\\n\\nI'm currently occu...   \n",
       "5821                                                None   \n",
       "4099                                                None   \n",
       "8211   **Processing Erik's Admission**\\n\\nI'm current...   \n",
       "\n",
       "                           model_info  \n",
       "4304           Gemini 2.5 Pro (ABBEL)  \n",
       "14075          Gemini 2.5 Pro (ABBEL)  \n",
       "5821              Deepseek V3 (ABBEL)  \n",
       "4099   Deepseek V3 (belief prompting)  \n",
       "8211           Gemini 2.5 Pro (ABBEL)  "
      ]
     },
     "execution_count": 89,
     "metadata": {},
     "output_type": "execute_result"
    }
   ],
   "source": [
    "df.sample(n=5)"
   ]
  },
  {
   "cell_type": "code",
   "execution_count": 90,
   "id": "98309748",
   "metadata": {},
   "outputs": [],
   "source": [
    "envs_ordered = [list(df['env'].unique())[i] for i in [5, 0, 3, 2, 1, 4]]"
   ]
  },
  {
   "cell_type": "markdown",
   "id": "9e358667",
   "metadata": {},
   "source": [
    "## 1. Success Rates (belief v. history v. both)"
   ]
  },
  {
   "cell_type": "code",
   "execution_count": 102,
   "id": "abe8ac6b",
   "metadata": {},
   "outputs": [],
   "source": [
    "import pandas as pd\n",
    "import plotly.graph_objects as go\n",
    "import plotly.express as px\n",
    "from plotly.subplots import make_subplots\n",
    "import numpy as np\n",
    "\n",
    "def summarize_game_outcomes(df):\n",
    "    df['response'] = df['response'].str.lower()\n",
    "    grouped = df.groupby(['model', 'game_id', 'env', 'word_limit'])['response'].apply(\n",
    "        lambda responses: any('goal reached' in resp for resp in responses)\n",
    "    ).reset_index(name='won')\n",
    "    return grouped\n",
    "\n",
    "def plot_win_rates(summary_df):\n",
    "    # Compute mean and std of win rates for each group\n",
    "    stats = summary_df.groupby(['env', 'model', 'word_limit'])['won'].agg(['mean', 'std', 'count']).reset_index()\n",
    "    stats['success_rate'] = stats['mean'] * 100\n",
    "    # Standard error of the mean (SEM)\n",
    "    stats['sem'] = stats['std'] / np.sqrt(stats['count'])\n",
    "    stats['sem'] = stats['sem'].fillna(0)\n",
    "    stats['success_rate_sem'] = stats['sem'] * 100\n",
    "\n",
    "    # envs = stats['env'].unique()[[0, 5, 1, 4, 2, 3]]\n",
    "    envs = envs_ordered\n",
    "    models = stats['model'].unique()[[\n",
    "            3, 5, 4, \n",
    "            0, 2, 1,\n",
    "            6, 8, 7\n",
    "        ]]\n",
    "    word_limits = sorted(stats['word_limit'].unique())\n",
    "\n",
    "    colors = [\n",
    "        \"#ADD8E6\",  # light blue\n",
    "        \"#4682B4\",  # medium blue\n",
    "        \"#003366\",  # dark blue\n",
    "        \"#FFB6C1\",  # light red\n",
    "        \"#FF6347\",  # medium red\n",
    "        \"#8B0000\",  # dark red\n",
    "        \"#90EE90\",  # light green\n",
    "        \"#32CD32\",  # medium green\n",
    "        \"#006400\",  # dark green\n",
    "    ]\n",
    "    color_map = {model: colors[i % len(colors)] for i, model in enumerate(models)}\n",
    "\n",
    "    # Create subplots: rows = word_limit values, cols = envs\n",
    "    fig = make_subplots(\n",
    "        rows=len(word_limits), cols=len(envs),\n",
    "        subplot_titles=[f\"{env}\" for env in envs],\n",
    "        shared_yaxes=True,\n",
    "        vertical_spacing=0.2 / len(word_limits),\n",
    "        horizontal_spacing=0.03\n",
    "    )\n",
    "\n",
    "    for r, wl in enumerate(word_limits, start=1):\n",
    "        for c, env in enumerate(envs, start=1):\n",
    "            for model in models:\n",
    "                subset = stats[\n",
    "                    (stats['env'] == env) &\n",
    "                    (stats['model'] == model) &\n",
    "                    (stats['word_limit'] == wl)\n",
    "                ]\n",
    "                if not subset.empty:\n",
    "                    # Plot bar with error bar (standard error of mean)\n",
    "                    fig.add_trace(\n",
    "                        go.Bar(\n",
    "                            x=[model],\n",
    "                            y=subset['success_rate'],\n",
    "                            name=model,\n",
    "                            marker_color=color_map[model],\n",
    "                            width=0.8,\n",
    "                            showlegend=(r == 1 and c == 1),\n",
    "                            error_y=dict(\n",
    "                                type='data',\n",
    "                                array=subset['success_rate_sem'],\n",
    "                                visible=True,\n",
    "                                color='black',\n",
    "                                thickness=1,\n",
    "                                width=4,\n",
    "                            ),\n",
    "                            hovertemplate=(\n",
    "                                f\"Env: {env}<br>\"\n",
    "                                f\"Word Limit: {wl}<br>\"\n",
    "                                f\"Model: {model}<br>\"\n",
    "                                f\"Success Rate: {{y:.2f}}%<br>\"\n",
    "                                f\"SEM: {subset['success_rate_sem'].values[0]:.2f}%<br>\"\n",
    "                                f\"N: {subset['count'].values[0]}\"\n",
    "                            ),\n",
    "                        ),\n",
    "                        row=r, col=c\n",
    "                    )\n",
    "            # # Add row label for word_limit\n",
    "            # if c == 1:\n",
    "            #     fig.add_annotation(\n",
    "            #         text=f\"Word Limit: {wl}\",\n",
    "            #         xref=\"paper\",\n",
    "            #         yref=\"paper\",\n",
    "            #         x=0.1,\n",
    "            #         y=0.95 - ((r - 1) / len(word_limits)),\n",
    "            #         showarrow=False,\n",
    "            #         font=dict(size=14)\n",
    "            #     )\n",
    "\n",
    "    # Update y-axis\n",
    "    for r in range(1, len(word_limits) + 1):\n",
    "        for c in range(1, len(envs) + 1):\n",
    "            fig.update_yaxes(\n",
    "                range=[0, 100],\n",
    "                showgrid=True,\n",
    "                gridcolor='lightgray',\n",
    "                row=r, col=c\n",
    "            )\n",
    "\n",
    "    # Update x-axis to remove tick labels\n",
    "    for r in range(1, len(word_limits) + 1):\n",
    "        for c in range(1, len(envs) + 1):\n",
    "            fig.update_xaxes(\n",
    "                showticklabels=False,\n",
    "                row=r, col=c\n",
    "            )\n",
    "\n",
    "    # Fixed subplot size\n",
    "    fig_width = 180 * len(envs)\n",
    "    fig_height = 200 * len(word_limits)\n",
    "\n",
    "    # Layout with horizontal legend\n",
    "    fig.update_layout(\n",
    "        height=fig_height + 150,\n",
    "        width=fig_width,\n",
    "        template='simple_white',\n",
    "        font=dict(family='Computer Modern, serif', size=16),\n",
    "        barmode='group',\n",
    "        showlegend=True,\n",
    "        legend=dict(\n",
    "            title={'text': ' Model<br> (info)'},\n",
    "            orientation='h',\n",
    "            yanchor='bottom',\n",
    "            y=1.18,\n",
    "            xanchor='center',\n",
    "            x=0.5,\n",
    "            bgcolor='rgba(255,255,255,0.9)',\n",
    "            bordercolor='black',\n",
    "            borderwidth=1\n",
    "        ),\n",
    "        margin=dict(t=100, b=50, l=80, r=80),\n",
    "        plot_bgcolor='white'\n",
    "    )\n",
    "\n",
    "    fig.update_yaxes(title_text=\"Avg. Success Rate\", row=1, col=1)\n",
    "\n",
    "    return fig"
   ]
  },
  {
   "cell_type": "code",
   "execution_count": 103,
   "id": "94973117",
   "metadata": {},
   "outputs": [],
   "source": [
    "df_belief = df.loc[df['info'] == 'belief'].copy()\n",
    "df_history = df.loc[df['info'] == 'history'].copy()\n",
    "summary_df = summarize_game_outcomes(df)\n",
    "summary_df_belief = summarize_game_outcomes(df_belief)\n",
    "summary_df_history = summarize_game_outcomes(df_history)"
   ]
  },
  {
   "cell_type": "code",
   "execution_count": 104,
   "id": "06d25838",
   "metadata": {},
   "outputs": [
    {
     "data": {
      "application/vnd.plotly.v1+json": {
       "config": {
        "plotlyServerURL": "https://plot.ly"
       },
       "data": [
        {
         "error_y": {
          "array": {
           "bdata": "SrExFSa/GkA=",
           "dtype": "f8"
          },
          "color": "black",
          "thickness": 1,
          "type": "data",
          "visible": true,
          "width": 4
         },
         "hovertemplate": "Env: Murder Mystery<br>Word Limit: None<br>Model: Deepseek V3<br>Success Rate: {y:.2f}%<br>SEM: 6.69%<br>N: 40",
         "marker": {
          "color": "#ADD8E6"
         },
         "name": "Deepseek V3",
         "showlegend": true,
         "type": "bar",
         "width": 0.8,
         "x": [
          "Deepseek V3"
         ],
         "xaxis": "x",
         "y": {
          "bdata": "AAAAAABgU0A=",
          "dtype": "f8"
         },
         "yaxis": "y"
        },
        {
         "error_y": {
          "array": {
           "bdata": "BBd5rIyZHEA=",
           "dtype": "f8"
          },
          "color": "black",
          "thickness": 1,
          "type": "data",
          "visible": true,
          "width": 4
         },
         "hovertemplate": "Env: Murder Mystery<br>Word Limit: None<br>Model: Deepseek V3 (belief prompting)<br>Success Rate: {y:.2f}%<br>SEM: 7.15%<br>N: 40",
         "marker": {
          "color": "#4682B4"
         },
         "name": "Deepseek V3 (belief prompting)",
         "showlegend": true,
         "type": "bar",
         "width": 0.8,
         "x": [
          "Deepseek V3 (belief prompting)"
         ],
         "xaxis": "x",
         "y": {
          "bdata": "AAAAAAAgUkA=",
          "dtype": "f8"
         },
         "yaxis": "y"
        },
        {
         "error_y": {
          "array": {
           "bdata": "2zIj3+2MHkA=",
           "dtype": "f8"
          },
          "color": "black",
          "thickness": 1,
          "type": "data",
          "visible": true,
          "width": 4
         },
         "hovertemplate": "Env: Murder Mystery<br>Word Limit: None<br>Model: Deepseek V3 (ABBEL)<br>Success Rate: {y:.2f}%<br>SEM: 7.64%<br>N: 40",
         "marker": {
          "color": "#003366"
         },
         "name": "Deepseek V3 (ABBEL)",
         "showlegend": true,
         "type": "bar",
         "width": 0.8,
         "x": [
          "Deepseek V3 (ABBEL)"
         ],
         "xaxis": "x",
         "y": {
          "bdata": "AAAAAACAQUA=",
          "dtype": "f8"
         },
         "yaxis": "y"
        },
        {
         "error_y": {
          "array": {
           "bdata": "pmfjCiM3E0A=",
           "dtype": "f8"
          },
          "color": "black",
          "thickness": 1,
          "type": "data",
          "visible": true,
          "width": 4
         },
         "hovertemplate": "Env: Murder Mystery<br>Word Limit: None<br>Model: Deepseek R1<br>Success Rate: {y:.2f}%<br>SEM: 4.80%<br>N: 40",
         "marker": {
          "color": "#FFB6C1"
         },
         "name": "Deepseek R1",
         "showlegend": true,
         "type": "bar",
         "width": 0.8,
         "x": [
          "Deepseek R1"
         ],
         "xaxis": "x",
         "y": {
          "bdata": "AAAAAACAVkA=",
          "dtype": "f8"
         },
         "yaxis": "y"
        },
        {
         "error_y": {
          "array": {
           "bdata": "kbJbjM2pH0A=",
           "dtype": "f8"
          },
          "color": "black",
          "thickness": 1,
          "type": "data",
          "visible": true,
          "width": 4
         },
         "hovertemplate": "Env: Murder Mystery<br>Word Limit: None<br>Model: Deepseek R1 (belief prompting)<br>Success Rate: {y:.2f}%<br>SEM: 7.92%<br>N: 40",
         "marker": {
          "color": "#FF6347"
         },
         "name": "Deepseek R1 (belief prompting)",
         "showlegend": true,
         "type": "bar",
         "width": 0.8,
         "x": [
          "Deepseek R1 (belief prompting)"
         ],
         "xaxis": "x",
         "y": {
          "bdata": "AAAAAABARUA=",
          "dtype": "f8"
         },
         "yaxis": "y"
        },
        {
         "error_y": {
          "array": {
           "bdata": "dMuQtNYuFUA=",
           "dtype": "f8"
          },
          "color": "black",
          "thickness": 1,
          "type": "data",
          "visible": true,
          "width": 4
         },
         "hovertemplate": "Env: Murder Mystery<br>Word Limit: None<br>Model: Deepseek R1 (ABBEL)<br>Success Rate: {y:.2f}%<br>SEM: 5.30%<br>N: 40",
         "marker": {
          "color": "#8B0000"
         },
         "name": "Deepseek R1 (ABBEL)",
         "showlegend": true,
         "type": "bar",
         "width": 0.8,
         "x": [
          "Deepseek R1 (ABBEL)"
         ],
         "xaxis": "x",
         "y": {
          "bdata": "AAAAAAAAKUA=",
          "dtype": "f8"
         },
         "yaxis": "y"
        },
        {
         "error_y": {
          "array": {
           "bdata": "h9/ZY9meGUA=",
           "dtype": "f8"
          },
          "color": "black",
          "thickness": 1,
          "type": "data",
          "visible": true,
          "width": 4
         },
         "hovertemplate": "Env: Murder Mystery<br>Word Limit: None<br>Model: Gemini 2.5 Pro<br>Success Rate: {y:.2f}%<br>SEM: 6.41%<br>N: 40",
         "marker": {
          "color": "#90EE90"
         },
         "name": "Gemini 2.5 Pro",
         "showlegend": true,
         "type": "bar",
         "width": 0.8,
         "x": [
          "Gemini 2.5 Pro"
         ],
         "xaxis": "x",
         "y": {
          "bdata": "AAAAAAAAVEA=",
          "dtype": "f8"
         },
         "yaxis": "y"
        },
        {
         "error_y": {
          "array": {
           "bdata": "hN/ZY9meGUA=",
           "dtype": "f8"
          },
          "color": "black",
          "thickness": 1,
          "type": "data",
          "visible": true,
          "width": 4
         },
         "hovertemplate": "Env: Murder Mystery<br>Word Limit: None<br>Model: Gemini 2.5 Pro (belief prompting)<br>Success Rate: {y:.2f}%<br>SEM: 6.41%<br>N: 40",
         "marker": {
          "color": "#32CD32"
         },
         "name": "Gemini 2.5 Pro (belief prompting)",
         "showlegend": true,
         "type": "bar",
         "width": 0.8,
         "x": [
          "Gemini 2.5 Pro (belief prompting)"
         ],
         "xaxis": "x",
         "y": {
          "bdata": "AAAAAAAAVEA=",
          "dtype": "f8"
         },
         "yaxis": "y"
        },
        {
         "error_y": {
          "array": {
           "bdata": "pmfjCiM3E0A=",
           "dtype": "f8"
          },
          "color": "black",
          "thickness": 1,
          "type": "data",
          "visible": true,
          "width": 4
         },
         "hovertemplate": "Env: Murder Mystery<br>Word Limit: None<br>Model: Gemini 2.5 Pro (ABBEL)<br>Success Rate: {y:.2f}%<br>SEM: 4.80%<br>N: 40",
         "marker": {
          "color": "#006400"
         },
         "name": "Gemini 2.5 Pro (ABBEL)",
         "showlegend": true,
         "type": "bar",
         "width": 0.8,
         "x": [
          "Gemini 2.5 Pro (ABBEL)"
         ],
         "xaxis": "x",
         "y": {
          "bdata": "AAAAAACAVkA=",
          "dtype": "f8"
         },
         "yaxis": "y"
        },
        {
         "error_y": {
          "array": {
           "bdata": "SrExFSa/GkA=",
           "dtype": "f8"
          },
          "color": "black",
          "thickness": 1,
          "type": "data",
          "visible": true,
          "width": 4
         },
         "hovertemplate": "Env: Customer Service<br>Word Limit: None<br>Model: Deepseek V3<br>Success Rate: {y:.2f}%<br>SEM: 6.69%<br>N: 40",
         "marker": {
          "color": "#ADD8E6"
         },
         "name": "Deepseek V3",
         "showlegend": false,
         "type": "bar",
         "width": 0.8,
         "x": [
          "Deepseek V3"
         ],
         "xaxis": "x2",
         "y": {
          "bdata": "AAAAAABgU0A=",
          "dtype": "f8"
         },
         "yaxis": "y2"
        },
        {
         "error_y": {
          "array": {
           "bdata": "aCzJDxtaHUA=",
           "dtype": "f8"
          },
          "color": "black",
          "thickness": 1,
          "type": "data",
          "visible": true,
          "width": 4
         },
         "hovertemplate": "Env: Customer Service<br>Word Limit: None<br>Model: Deepseek V3 (belief prompting)<br>Success Rate: {y:.2f}%<br>SEM: 7.34%<br>N: 40",
         "marker": {
          "color": "#4682B4"
         },
         "name": "Deepseek V3 (belief prompting)",
         "showlegend": false,
         "type": "bar",
         "width": 0.8,
         "x": [
          "Deepseek V3 (belief prompting)"
         ],
         "xaxis": "x2",
         "y": {
          "bdata": "AAAAAACAUUA=",
          "dtype": "f8"
         },
         "yaxis": "y2"
        },
        {
         "error_y": {
          "array": {
           "bdata": "Oq5djk78H0A=",
           "dtype": "f8"
          },
          "color": "black",
          "thickness": 1,
          "type": "data",
          "visible": true,
          "width": 4
         },
         "hovertemplate": "Env: Customer Service<br>Word Limit: None<br>Model: Deepseek V3 (ABBEL)<br>Success Rate: {y:.2f}%<br>SEM: 8.00%<br>N: 40",
         "marker": {
          "color": "#003366"
         },
         "name": "Deepseek V3 (ABBEL)",
         "showlegend": false,
         "type": "bar",
         "width": 0.8,
         "x": [
          "Deepseek V3 (ABBEL)"
         ],
         "xaxis": "x2",
         "y": {
          "bdata": "AAAAAADAR0A=",
          "dtype": "f8"
         },
         "yaxis": "y2"
        },
        {
         "error_y": {
          "array": {
           "bdata": "tSto3kcDIEA=",
           "dtype": "f8"
          },
          "color": "black",
          "thickness": 1,
          "type": "data",
          "visible": true,
          "width": 4
         },
         "hovertemplate": "Env: Customer Service<br>Word Limit: None<br>Model: Deepseek R1<br>Success Rate: {y:.2f}%<br>SEM: 8.01%<br>N: 40",
         "marker": {
          "color": "#FFB6C1"
         },
         "name": "Deepseek R1",
         "showlegend": false,
         "type": "bar",
         "width": 0.8,
         "x": [
          "Deepseek R1"
         ],
         "xaxis": "x2",
         "y": {
          "bdata": "AAAAAAAASUA=",
          "dtype": "f8"
         },
         "yaxis": "y2"
        },
        {
         "error_y": {
          "array": {
           "bdata": "3jIj3+2MHkA=",
           "dtype": "f8"
          },
          "color": "black",
          "thickness": 1,
          "type": "data",
          "visible": true,
          "width": 4
         },
         "hovertemplate": "Env: Customer Service<br>Word Limit: None<br>Model: Deepseek R1 (belief prompting)<br>Success Rate: {y:.2f}%<br>SEM: 7.64%<br>N: 40",
         "marker": {
          "color": "#FF6347"
         },
         "name": "Deepseek R1 (belief prompting)",
         "showlegend": false,
         "type": "bar",
         "width": 0.8,
         "x": [
          "Deepseek R1 (belief prompting)"
         ],
         "xaxis": "x2",
         "y": {
          "bdata": "AAAAAABAUEA=",
          "dtype": "f8"
         },
         "yaxis": "y2"
        },
        {
         "error_y": {
          "array": {
           "bdata": "Ahd5rIyZHEA=",
           "dtype": "f8"
          },
          "color": "black",
          "thickness": 1,
          "type": "data",
          "visible": true,
          "width": 4
         },
         "hovertemplate": "Env: Customer Service<br>Word Limit: None<br>Model: Deepseek R1 (ABBEL)<br>Success Rate: {y:.2f}%<br>SEM: 7.15%<br>N: 40",
         "marker": {
          "color": "#8B0000"
         },
         "name": "Deepseek R1 (ABBEL)",
         "showlegend": false,
         "type": "bar",
         "width": 0.8,
         "x": [
          "Deepseek R1 (ABBEL)"
         ],
         "xaxis": "x2",
         "y": {
          "bdata": "AAAAAAAgUkA=",
          "dtype": "f8"
         },
         "yaxis": "y2"
        },
        {
         "error_y": {
          "array": {
           "bdata": "AAAAAAAAAAA=",
           "dtype": "f8"
          },
          "color": "black",
          "thickness": 1,
          "type": "data",
          "visible": true,
          "width": 4
         },
         "hovertemplate": "Env: Customer Service<br>Word Limit: None<br>Model: Gemini 2.5 Pro<br>Success Rate: {y:.2f}%<br>SEM: 0.00%<br>N: 40",
         "marker": {
          "color": "#90EE90"
         },
         "name": "Gemini 2.5 Pro",
         "showlegend": false,
         "type": "bar",
         "width": 0.8,
         "x": [
          "Gemini 2.5 Pro"
         ],
         "xaxis": "x2",
         "y": {
          "bdata": "AAAAAAAAWUA=",
          "dtype": "f8"
         },
         "yaxis": "y2"
        },
        {
         "error_y": {
          "array": {
           "bdata": "sfa0FlfrC0A=",
           "dtype": "f8"
          },
          "color": "black",
          "thickness": 1,
          "type": "data",
          "visible": true,
          "width": 4
         },
         "hovertemplate": "Env: Customer Service<br>Word Limit: None<br>Model: Gemini 2.5 Pro (belief prompting)<br>Success Rate: {y:.2f}%<br>SEM: 3.49%<br>N: 40",
         "marker": {
          "color": "#32CD32"
         },
         "name": "Gemini 2.5 Pro (belief prompting)",
         "showlegend": false,
         "type": "bar",
         "width": 0.8,
         "x": [
          "Gemini 2.5 Pro (belief prompting)"
         ],
         "xaxis": "x2",
         "y": {
          "bdata": "AAAAAADAV0A=",
          "dtype": "f8"
         },
         "yaxis": "y2"
        },
        {
         "error_y": {
          "array": {
           "bdata": "pmfjCiM3E0A=",
           "dtype": "f8"
          },
          "color": "black",
          "thickness": 1,
          "type": "data",
          "visible": true,
          "width": 4
         },
         "hovertemplate": "Env: Customer Service<br>Word Limit: None<br>Model: Gemini 2.5 Pro (ABBEL)<br>Success Rate: {y:.2f}%<br>SEM: 4.80%<br>N: 40",
         "marker": {
          "color": "#006400"
         },
         "name": "Gemini 2.5 Pro (ABBEL)",
         "showlegend": false,
         "type": "bar",
         "width": 0.8,
         "x": [
          "Gemini 2.5 Pro (ABBEL)"
         ],
         "xaxis": "x2",
         "y": {
          "bdata": "AAAAAACAVkA=",
          "dtype": "f8"
         },
         "yaxis": "y2"
        },
        {
         "error_y": {
          "array": {
           "bdata": "Oq5djk78H0A=",
           "dtype": "f8"
          },
          "color": "black",
          "thickness": 1,
          "type": "data",
          "visible": true,
          "width": 4
         },
         "hovertemplate": "Env: Twenty Questions<br>Word Limit: None<br>Model: Deepseek V3<br>Success Rate: {y:.2f}%<br>SEM: 8.00%<br>N: 40",
         "marker": {
          "color": "#ADD8E6"
         },
         "name": "Deepseek V3",
         "showlegend": false,
         "type": "bar",
         "width": 0.8,
         "x": [
          "Deepseek V3"
         ],
         "xaxis": "x3",
         "y": {
          "bdata": "AAAAAADAR0A=",
          "dtype": "f8"
         },
         "yaxis": "y3"
        },
        {
         "error_y": {
          "array": {
           "bdata": "N65djk78H0A=",
           "dtype": "f8"
          },
          "color": "black",
          "thickness": 1,
          "type": "data",
          "visible": true,
          "width": 4
         },
         "hovertemplate": "Env: Twenty Questions<br>Word Limit: None<br>Model: Deepseek V3 (belief prompting)<br>Success Rate: {y:.2f}%<br>SEM: 8.00%<br>N: 40",
         "marker": {
          "color": "#4682B4"
         },
         "name": "Deepseek V3 (belief prompting)",
         "showlegend": false,
         "type": "bar",
         "width": 0.8,
         "x": [
          "Deepseek V3 (belief prompting)"
         ],
         "xaxis": "x3",
         "y": {
          "bdata": "AAAAAADAR0A=",
          "dtype": "f8"
         },
         "yaxis": "y3"
        },
        {
         "error_y": {
          "array": {
           "bdata": "3jIj3+2MHkA=",
           "dtype": "f8"
          },
          "color": "black",
          "thickness": 1,
          "type": "data",
          "visible": true,
          "width": 4
         },
         "hovertemplate": "Env: Twenty Questions<br>Word Limit: None<br>Model: Deepseek V3 (ABBEL)<br>Success Rate: {y:.2f}%<br>SEM: 7.64%<br>N: 40",
         "marker": {
          "color": "#003366"
         },
         "name": "Deepseek V3 (ABBEL)",
         "showlegend": false,
         "type": "bar",
         "width": 0.8,
         "x": [
          "Deepseek V3 (ABBEL)"
         ],
         "xaxis": "x3",
         "y": {
          "bdata": "AAAAAACAQUA=",
          "dtype": "f8"
         },
         "yaxis": "y3"
        },
        {
         "error_y": {
          "array": {
           "bdata": "odOluepgH0A=",
           "dtype": "f8"
          },
          "color": "black",
          "thickness": 1,
          "type": "data",
          "visible": true,
          "width": 4
         },
         "hovertemplate": "Env: Twenty Questions<br>Word Limit: None<br>Model: Deepseek R1<br>Success Rate: {y:.2f}%<br>SEM: 7.84%<br>N: 40",
         "marker": {
          "color": "#FFB6C1"
         },
         "name": "Deepseek R1",
         "showlegend": false,
         "type": "bar",
         "width": 0.8,
         "x": [
          "Deepseek R1"
         ],
         "xaxis": "x3",
         "y": {
          "bdata": "AAAAAAAATkA=",
          "dtype": "f8"
         },
         "yaxis": "y3"
        },
        {
         "error_y": {
          "array": {
           "bdata": "TLIiNnfdH0A=",
           "dtype": "f8"
          },
          "color": "black",
          "thickness": 1,
          "type": "data",
          "visible": true,
          "width": 4
         },
         "hovertemplate": "Env: Twenty Questions<br>Word Limit: None<br>Model: Deepseek R1 (belief prompting)<br>Success Rate: {y:.2f}%<br>SEM: 7.97%<br>N: 40",
         "marker": {
          "color": "#FF6347"
         },
         "name": "Deepseek R1 (belief prompting)",
         "showlegend": false,
         "type": "bar",
         "width": 0.8,
         "x": [
          "Deepseek R1 (belief prompting)"
         ],
         "xaxis": "x3",
         "y": {
          "bdata": "AAAAAACARkA=",
          "dtype": "f8"
         },
         "yaxis": "y3"
        },
        {
         "error_y": {
          "array": {
           "bdata": "o9OluepgH0A=",
           "dtype": "f8"
          },
          "color": "black",
          "thickness": 1,
          "type": "data",
          "visible": true,
          "width": 4
         },
         "hovertemplate": "Env: Twenty Questions<br>Word Limit: None<br>Model: Deepseek R1 (ABBEL)<br>Success Rate: {y:.2f}%<br>SEM: 7.84%<br>N: 40",
         "marker": {
          "color": "#8B0000"
         },
         "name": "Deepseek R1 (ABBEL)",
         "showlegend": false,
         "type": "bar",
         "width": 0.8,
         "x": [
          "Deepseek R1 (ABBEL)"
         ],
         "xaxis": "x3",
         "y": {
          "bdata": "AAAAAAAAREA=",
          "dtype": "f8"
         },
         "yaxis": "y3"
        },
        {
         "error_y": {
          "array": {
           "bdata": "LixtFzkCH0A=",
           "dtype": "f8"
          },
          "color": "black",
          "thickness": 1,
          "type": "data",
          "visible": true,
          "width": 4
         },
         "hovertemplate": "Env: Twenty Questions<br>Word Limit: None<br>Model: Gemini 2.5 Pro<br>Success Rate: {y:.2f}%<br>SEM: 7.75%<br>N: 40",
         "marker": {
          "color": "#90EE90"
         },
         "name": "Gemini 2.5 Pro",
         "showlegend": false,
         "type": "bar",
         "width": 0.8,
         "x": [
          "Gemini 2.5 Pro"
         ],
         "xaxis": "x3",
         "y": {
          "bdata": "AAAAAABAT0A=",
          "dtype": "f8"
         },
         "yaxis": "y3"
        },
        {
         "error_y": {
          "array": {
           "bdata": "aZtdmim8G0A=",
           "dtype": "f8"
          },
          "color": "black",
          "thickness": 1,
          "type": "data",
          "visible": true,
          "width": 4
         },
         "hovertemplate": "Env: Twenty Questions<br>Word Limit: None<br>Model: Gemini 2.5 Pro (belief prompting)<br>Success Rate: {y:.2f}%<br>SEM: 6.93%<br>N: 40",
         "marker": {
          "color": "#32CD32"
         },
         "name": "Gemini 2.5 Pro (belief prompting)",
         "showlegend": false,
         "type": "bar",
         "width": 0.8,
         "x": [
          "Gemini 2.5 Pro (belief prompting)"
         ],
         "xaxis": "x3",
         "y": {
          "bdata": "AAAAAADAUkA=",
          "dtype": "f8"
         },
         "yaxis": "y3"
        },
        {
         "error_y": {
          "array": {
           "bdata": "Oq5djk78H0A=",
           "dtype": "f8"
          },
          "color": "black",
          "thickness": 1,
          "type": "data",
          "visible": true,
          "width": 4
         },
         "hovertemplate": "Env: Twenty Questions<br>Word Limit: None<br>Model: Gemini 2.5 Pro (ABBEL)<br>Success Rate: {y:.2f}%<br>SEM: 8.00%<br>N: 40",
         "marker": {
          "color": "#006400"
         },
         "name": "Gemini 2.5 Pro (ABBEL)",
         "showlegend": false,
         "type": "bar",
         "width": 0.8,
         "x": [
          "Gemini 2.5 Pro (ABBEL)"
         ],
         "xaxis": "x3",
         "y": {
          "bdata": "AAAAAABASkA=",
          "dtype": "f8"
         },
         "yaxis": "y3"
        },
        {
         "error_y": {
          "array": {
           "bdata": "TLIiNnfdH0A=",
           "dtype": "f8"
          },
          "color": "black",
          "thickness": 1,
          "type": "data",
          "visible": true,
          "width": 4
         },
         "hovertemplate": "Env: Guess my City<br>Word Limit: None<br>Model: Deepseek V3<br>Success Rate: {y:.2f}%<br>SEM: 7.97%<br>N: 40",
         "marker": {
          "color": "#ADD8E6"
         },
         "name": "Deepseek V3",
         "showlegend": false,
         "type": "bar",
         "width": 0.8,
         "x": [
          "Deepseek V3"
         ],
         "xaxis": "x4",
         "y": {
          "bdata": "AQAAAACAS0A=",
          "dtype": "f8"
         },
         "yaxis": "y4"
        },
        {
         "error_y": {
          "array": {
           "bdata": "o9OluepgH0A=",
           "dtype": "f8"
          },
          "color": "black",
          "thickness": 1,
          "type": "data",
          "visible": true,
          "width": 4
         },
         "hovertemplate": "Env: Guess my City<br>Word Limit: None<br>Model: Deepseek V3 (belief prompting)<br>Success Rate: {y:.2f}%<br>SEM: 7.84%<br>N: 40",
         "marker": {
          "color": "#4682B4"
         },
         "name": "Deepseek V3 (belief prompting)",
         "showlegend": false,
         "type": "bar",
         "width": 0.8,
         "x": [
          "Deepseek V3 (belief prompting)"
         ],
         "xaxis": "x4",
         "y": {
          "bdata": "AAAAAAAATkA=",
          "dtype": "f8"
         },
         "yaxis": "y4"
        },
        {
         "error_y": {
          "array": {
           "bdata": "Z5tdmim8G0A=",
           "dtype": "f8"
          },
          "color": "black",
          "thickness": 1,
          "type": "data",
          "visible": true,
          "width": 4
         },
         "hovertemplate": "Env: Guess my City<br>Word Limit: None<br>Model: Deepseek V3 (ABBEL)<br>Success Rate: {y:.2f}%<br>SEM: 6.93%<br>N: 40",
         "marker": {
          "color": "#003366"
         },
         "name": "Deepseek V3 (ABBEL)",
         "showlegend": false,
         "type": "bar",
         "width": 0.8,
         "x": [
          "Deepseek V3 (ABBEL)"
         ],
         "xaxis": "x4",
         "y": {
          "bdata": "AAAAAADAUkA=",
          "dtype": "f8"
         },
         "yaxis": "y4"
        },
        {
         "error_y": {
          "array": {
           "bdata": "3DIj3+2MHkA=",
           "dtype": "f8"
          },
          "color": "black",
          "thickness": 1,
          "type": "data",
          "visible": true,
          "width": 4
         },
         "hovertemplate": "Env: Guess my City<br>Word Limit: None<br>Model: Deepseek R1<br>Success Rate: {y:.2f}%<br>SEM: 7.64%<br>N: 40",
         "marker": {
          "color": "#FFB6C1"
         },
         "name": "Deepseek R1",
         "showlegend": false,
         "type": "bar",
         "width": 0.8,
         "x": [
          "Deepseek R1"
         ],
         "xaxis": "x4",
         "y": {
          "bdata": "AAAAAABAUEA=",
          "dtype": "f8"
         },
         "yaxis": "y4"
        },
        {
         "error_y": {
          "array": {
           "bdata": "N65djk78H0A=",
           "dtype": "f8"
          },
          "color": "black",
          "thickness": 1,
          "type": "data",
          "visible": true,
          "width": 4
         },
         "hovertemplate": "Env: Guess my City<br>Word Limit: None<br>Model: Deepseek R1 (belief prompting)<br>Success Rate: {y:.2f}%<br>SEM: 8.00%<br>N: 40",
         "marker": {
          "color": "#FF6347"
         },
         "name": "Deepseek R1 (belief prompting)",
         "showlegend": false,
         "type": "bar",
         "width": 0.8,
         "x": [
          "Deepseek R1 (belief prompting)"
         ],
         "xaxis": "x4",
         "y": {
          "bdata": "AAAAAABASkA=",
          "dtype": "f8"
         },
         "yaxis": "y4"
        },
        {
         "error_y": {
          "array": {
           "bdata": "TLIiNnfdH0A=",
           "dtype": "f8"
          },
          "color": "black",
          "thickness": 1,
          "type": "data",
          "visible": true,
          "width": 4
         },
         "hovertemplate": "Env: Guess my City<br>Word Limit: None<br>Model: Deepseek R1 (ABBEL)<br>Success Rate: {y:.2f}%<br>SEM: 7.97%<br>N: 40",
         "marker": {
          "color": "#8B0000"
         },
         "name": "Deepseek R1 (ABBEL)",
         "showlegend": false,
         "type": "bar",
         "width": 0.8,
         "x": [
          "Deepseek R1 (ABBEL)"
         ],
         "xaxis": "x4",
         "y": {
          "bdata": "AQAAAACAS0A=",
          "dtype": "f8"
         },
         "yaxis": "y4"
        },
        {
         "error_y": {
          "array": {
           "bdata": "BlaVCF5WGEA=",
           "dtype": "f8"
          },
          "color": "black",
          "thickness": 1,
          "type": "data",
          "visible": true,
          "width": 4
         },
         "hovertemplate": "Env: Guess my City<br>Word Limit: None<br>Model: Gemini 2.5 Pro<br>Success Rate: {y:.2f}%<br>SEM: 6.08%<br>N: 40",
         "marker": {
          "color": "#90EE90"
         },
         "name": "Gemini 2.5 Pro",
         "showlegend": false,
         "type": "bar",
         "width": 0.8,
         "x": [
          "Gemini 2.5 Pro"
         ],
         "xaxis": "x4",
         "y": {
          "bdata": "AAAAAACgVEA=",
          "dtype": "f8"
         },
         "yaxis": "y4"
        },
        {
         "error_y": {
          "array": {
           "bdata": "Bhd5rIyZHEA=",
           "dtype": "f8"
          },
          "color": "black",
          "thickness": 1,
          "type": "data",
          "visible": true,
          "width": 4
         },
         "hovertemplate": "Env: Guess my City<br>Word Limit: None<br>Model: Gemini 2.5 Pro (belief prompting)<br>Success Rate: {y:.2f}%<br>SEM: 7.15%<br>N: 40",
         "marker": {
          "color": "#32CD32"
         },
         "name": "Gemini 2.5 Pro (belief prompting)",
         "showlegend": false,
         "type": "bar",
         "width": 0.8,
         "x": [
          "Gemini 2.5 Pro (belief prompting)"
         ],
         "xaxis": "x4",
         "y": {
          "bdata": "AAAAAAAgUkA=",
          "dtype": "f8"
         },
         "yaxis": "y4"
        },
        {
         "error_y": {
          "array": {
           "bdata": "h9/ZY9meGUA=",
           "dtype": "f8"
          },
          "color": "black",
          "thickness": 1,
          "type": "data",
          "visible": true,
          "width": 4
         },
         "hovertemplate": "Env: Guess my City<br>Word Limit: None<br>Model: Gemini 2.5 Pro (ABBEL)<br>Success Rate: {y:.2f}%<br>SEM: 6.41%<br>N: 40",
         "marker": {
          "color": "#006400"
         },
         "name": "Gemini 2.5 Pro (ABBEL)",
         "showlegend": false,
         "type": "bar",
         "width": 0.8,
         "x": [
          "Gemini 2.5 Pro (ABBEL)"
         ],
         "xaxis": "x4",
         "y": {
          "bdata": "AAAAAAAAVEA=",
          "dtype": "f8"
         },
         "yaxis": "y4"
        },
        {
         "error_y": {
          "array": {
           "bdata": "N65djk78H0A=",
           "dtype": "f8"
          },
          "color": "black",
          "thickness": 1,
          "type": "data",
          "visible": true,
          "width": 4
         },
         "hovertemplate": "Env: Wordle<br>Word Limit: None<br>Model: Deepseek V3<br>Success Rate: {y:.2f}%<br>SEM: 8.00%<br>N: 40",
         "marker": {
          "color": "#ADD8E6"
         },
         "name": "Deepseek V3",
         "showlegend": false,
         "type": "bar",
         "width": 0.8,
         "x": [
          "Deepseek V3"
         ],
         "xaxis": "x5",
         "y": {
          "bdata": "AAAAAABASkA=",
          "dtype": "f8"
         },
         "yaxis": "y5"
        },
        {
         "error_y": {
          "array": {
           "bdata": "kbJbjM2pH0A=",
           "dtype": "f8"
          },
          "color": "black",
          "thickness": 1,
          "type": "data",
          "visible": true,
          "width": 4
         },
         "hovertemplate": "Env: Wordle<br>Word Limit: None<br>Model: Deepseek V3 (belief prompting)<br>Success Rate: {y:.2f}%<br>SEM: 7.92%<br>N: 40",
         "marker": {
          "color": "#4682B4"
         },
         "name": "Deepseek V3 (belief prompting)",
         "showlegend": false,
         "type": "bar",
         "width": 0.8,
         "x": [
          "Deepseek V3 (belief prompting)"
         ],
         "xaxis": "x5",
         "y": {
          "bdata": "AAAAAABARUA=",
          "dtype": "f8"
         },
         "yaxis": "y5"
        },
        {
         "error_y": {
          "array": {
           "bdata": "AAAAAAAAHkA=",
           "dtype": "f8"
          },
          "color": "black",
          "thickness": 1,
          "type": "data",
          "visible": true,
          "width": 4
         },
         "hovertemplate": "Env: Wordle<br>Word Limit: None<br>Model: Deepseek V3 (ABBEL)<br>Success Rate: {y:.2f}%<br>SEM: 7.50%<br>N: 40",
         "marker": {
          "color": "#003366"
         },
         "name": "Deepseek V3 (ABBEL)",
         "showlegend": false,
         "type": "bar",
         "width": 0.8,
         "x": [
          "Deepseek V3 (ABBEL)"
         ],
         "xaxis": "x5",
         "y": {
          "bdata": "AAAAAABAQEA=",
          "dtype": "f8"
         },
         "yaxis": "y5"
        },
        {
         "error_y": {
          "array": {
           "bdata": "pmfjCiM3E0A=",
           "dtype": "f8"
          },
          "color": "black",
          "thickness": 1,
          "type": "data",
          "visible": true,
          "width": 4
         },
         "hovertemplate": "Env: Wordle<br>Word Limit: None<br>Model: Deepseek R1<br>Success Rate: {y:.2f}%<br>SEM: 4.80%<br>N: 40",
         "marker": {
          "color": "#FFB6C1"
         },
         "name": "Deepseek R1",
         "showlegend": false,
         "type": "bar",
         "width": 0.8,
         "x": [
          "Deepseek R1"
         ],
         "xaxis": "x5",
         "y": {
          "bdata": "AAAAAACAVkA=",
          "dtype": "f8"
         },
         "yaxis": "y5"
        },
        {
         "error_y": {
          "array": {
           "bdata": "B1aVCF5WGEA=",
           "dtype": "f8"
          },
          "color": "black",
          "thickness": 1,
          "type": "data",
          "visible": true,
          "width": 4
         },
         "hovertemplate": "Env: Wordle<br>Word Limit: None<br>Model: Deepseek R1 (belief prompting)<br>Success Rate: {y:.2f}%<br>SEM: 6.08%<br>N: 40",
         "marker": {
          "color": "#FF6347"
         },
         "name": "Deepseek R1 (belief prompting)",
         "showlegend": false,
         "type": "bar",
         "width": 0.8,
         "x": [
          "Deepseek R1 (belief prompting)"
         ],
         "xaxis": "x5",
         "y": {
          "bdata": "AAAAAACgVEA=",
          "dtype": "f8"
         },
         "yaxis": "y5"
        },
        {
         "error_y": {
          "array": {
           "bdata": "hi/qqfHeFkA=",
           "dtype": "f8"
          },
          "color": "black",
          "thickness": 1,
          "type": "data",
          "visible": true,
          "width": 4
         },
         "hovertemplate": "Env: Wordle<br>Word Limit: None<br>Model: Deepseek R1 (ABBEL)<br>Success Rate: {y:.2f}%<br>SEM: 5.72%<br>N: 40",
         "marker": {
          "color": "#8B0000"
         },
         "name": "Deepseek R1 (ABBEL)",
         "showlegend": false,
         "type": "bar",
         "width": 0.8,
         "x": [
          "Deepseek R1 (ABBEL)"
         ],
         "xaxis": "x5",
         "y": {
          "bdata": "AAAAAABAVUA=",
          "dtype": "f8"
         },
         "yaxis": "y5"
        },
        {
         "error_y": {
          "array": {
           "bdata": "AAAAAAAABEA=",
           "dtype": "f8"
          },
          "color": "black",
          "thickness": 1,
          "type": "data",
          "visible": true,
          "width": 4
         },
         "hovertemplate": "Env: Wordle<br>Word Limit: None<br>Model: Gemini 2.5 Pro<br>Success Rate: {y:.2f}%<br>SEM: 2.50%<br>N: 40",
         "marker": {
          "color": "#90EE90"
         },
         "name": "Gemini 2.5 Pro",
         "showlegend": false,
         "type": "bar",
         "width": 0.8,
         "x": [
          "Gemini 2.5 Pro"
         ],
         "xaxis": "x5",
         "y": {
          "bdata": "AAAAAABgWEA=",
          "dtype": "f8"
         },
         "yaxis": "y5"
        },
        {
         "error_y": {
          "array": {
           "bdata": "s/a0FlfrC0A=",
           "dtype": "f8"
          },
          "color": "black",
          "thickness": 1,
          "type": "data",
          "visible": true,
          "width": 4
         },
         "hovertemplate": "Env: Wordle<br>Word Limit: None<br>Model: Gemini 2.5 Pro (belief prompting)<br>Success Rate: {y:.2f}%<br>SEM: 3.49%<br>N: 40",
         "marker": {
          "color": "#32CD32"
         },
         "name": "Gemini 2.5 Pro (belief prompting)",
         "showlegend": false,
         "type": "bar",
         "width": 0.8,
         "x": [
          "Gemini 2.5 Pro (belief prompting)"
         ],
         "xaxis": "x5",
         "y": {
          "bdata": "AAAAAADAV0A=",
          "dtype": "f8"
         },
         "yaxis": "y5"
        },
        {
         "error_y": {
          "array": {
           "bdata": "h9/ZY9meGUA=",
           "dtype": "f8"
          },
          "color": "black",
          "thickness": 1,
          "type": "data",
          "visible": true,
          "width": 4
         },
         "hovertemplate": "Env: Wordle<br>Word Limit: None<br>Model: Gemini 2.5 Pro (ABBEL)<br>Success Rate: {y:.2f}%<br>SEM: 6.41%<br>N: 40",
         "marker": {
          "color": "#006400"
         },
         "name": "Gemini 2.5 Pro (ABBEL)",
         "showlegend": false,
         "type": "bar",
         "width": 0.8,
         "x": [
          "Gemini 2.5 Pro (ABBEL)"
         ],
         "xaxis": "x5",
         "y": {
          "bdata": "AAAAAAAAVEA=",
          "dtype": "f8"
         },
         "yaxis": "y5"
        },
        {
         "error_y": {
          "array": {
           "bdata": "s/a0FlfrC0A=",
           "dtype": "f8"
          },
          "color": "black",
          "thickness": 1,
          "type": "data",
          "visible": true,
          "width": 4
         },
         "hovertemplate": "Env: Mastermind<br>Word Limit: None<br>Model: Deepseek V3<br>Success Rate: {y:.2f}%<br>SEM: 3.49%<br>N: 40",
         "marker": {
          "color": "#ADD8E6"
         },
         "name": "Deepseek V3",
         "showlegend": false,
         "type": "bar",
         "width": 0.8,
         "x": [
          "Deepseek V3"
         ],
         "xaxis": "x6",
         "y": {
          "bdata": "AAAAAAAAFEA=",
          "dtype": "f8"
         },
         "yaxis": "y6"
        },
        {
         "error_y": {
          "array": {
           "bdata": "s/a0FlfrC0A=",
           "dtype": "f8"
          },
          "color": "black",
          "thickness": 1,
          "type": "data",
          "visible": true,
          "width": 4
         },
         "hovertemplate": "Env: Mastermind<br>Word Limit: None<br>Model: Deepseek V3 (belief prompting)<br>Success Rate: {y:.2f}%<br>SEM: 3.49%<br>N: 40",
         "marker": {
          "color": "#4682B4"
         },
         "name": "Deepseek V3 (belief prompting)",
         "showlegend": false,
         "type": "bar",
         "width": 0.8,
         "x": [
          "Deepseek V3 (belief prompting)"
         ],
         "xaxis": "x6",
         "y": {
          "bdata": "AAAAAAAAFEA=",
          "dtype": "f8"
         },
         "yaxis": "y6"
        },
        {
         "error_y": {
          "array": {
           "bdata": "s/a0FlfrC0A=",
           "dtype": "f8"
          },
          "color": "black",
          "thickness": 1,
          "type": "data",
          "visible": true,
          "width": 4
         },
         "hovertemplate": "Env: Mastermind<br>Word Limit: None<br>Model: Deepseek V3 (ABBEL)<br>Success Rate: {y:.2f}%<br>SEM: 3.49%<br>N: 40",
         "marker": {
          "color": "#003366"
         },
         "name": "Deepseek V3 (ABBEL)",
         "showlegend": false,
         "type": "bar",
         "width": 0.8,
         "x": [
          "Deepseek V3 (ABBEL)"
         ],
         "xaxis": "x6",
         "y": {
          "bdata": "AAAAAAAAFEA=",
          "dtype": "f8"
         },
         "yaxis": "y6"
        },
        {
         "error_y": {
          "array": {
           "bdata": "aCzJDxtaHUA=",
           "dtype": "f8"
          },
          "color": "black",
          "thickness": 1,
          "type": "data",
          "visible": true,
          "width": 4
         },
         "hovertemplate": "Env: Mastermind<br>Word Limit: None<br>Model: Deepseek R1<br>Success Rate: {y:.2f}%<br>SEM: 7.34%<br>N: 40",
         "marker": {
          "color": "#FFB6C1"
         },
         "name": "Deepseek R1",
         "showlegend": false,
         "type": "bar",
         "width": 0.8,
         "x": [
          "Deepseek R1"
         ],
         "xaxis": "x6",
         "y": {
          "bdata": "AAAAAACAUUA=",
          "dtype": "f8"
         },
         "yaxis": "y6"
        },
        {
         "error_y": {
          "array": {
           "bdata": "N65djk78H0A=",
           "dtype": "f8"
          },
          "color": "black",
          "thickness": 1,
          "type": "data",
          "visible": true,
          "width": 4
         },
         "hovertemplate": "Env: Mastermind<br>Word Limit: None<br>Model: Deepseek R1 (belief prompting)<br>Success Rate: {y:.2f}%<br>SEM: 8.00%<br>N: 40",
         "marker": {
          "color": "#FF6347"
         },
         "name": "Deepseek R1 (belief prompting)",
         "showlegend": false,
         "type": "bar",
         "width": 0.8,
         "x": [
          "Deepseek R1 (belief prompting)"
         ],
         "xaxis": "x6",
         "y": {
          "bdata": "AAAAAABASkA=",
          "dtype": "f8"
         },
         "yaxis": "y6"
        },
        {
         "error_y": {
          "array": {
           "bdata": "3zIj3+2MHkA=",
           "dtype": "f8"
          },
          "color": "black",
          "thickness": 1,
          "type": "data",
          "visible": true,
          "width": 4
         },
         "hovertemplate": "Env: Mastermind<br>Word Limit: None<br>Model: Deepseek R1 (ABBEL)<br>Success Rate: {y:.2f}%<br>SEM: 7.64%<br>N: 40",
         "marker": {
          "color": "#8B0000"
         },
         "name": "Deepseek R1 (ABBEL)",
         "showlegend": false,
         "type": "bar",
         "width": 0.8,
         "x": [
          "Deepseek R1 (ABBEL)"
         ],
         "xaxis": "x6",
         "y": {
          "bdata": "AAAAAACAQUA=",
          "dtype": "f8"
         },
         "yaxis": "y6"
        },
        {
         "error_y": {
          "array": {
           "bdata": "AAAAAAAAAAA=",
           "dtype": "f8"
          },
          "color": "black",
          "thickness": 1,
          "type": "data",
          "visible": true,
          "width": 4
         },
         "hovertemplate": "Env: Mastermind<br>Word Limit: None<br>Model: Gemini 2.5 Pro<br>Success Rate: {y:.2f}%<br>SEM: 0.00%<br>N: 40",
         "marker": {
          "color": "#90EE90"
         },
         "name": "Gemini 2.5 Pro",
         "showlegend": false,
         "type": "bar",
         "width": 0.8,
         "x": [
          "Gemini 2.5 Pro"
         ],
         "xaxis": "x6",
         "y": {
          "bdata": "AAAAAAAAWUA=",
          "dtype": "f8"
         },
         "yaxis": "y6"
        },
        {
         "error_y": {
          "array": {
           "bdata": "AAAAAAAABEA=",
           "dtype": "f8"
          },
          "color": "black",
          "thickness": 1,
          "type": "data",
          "visible": true,
          "width": 4
         },
         "hovertemplate": "Env: Mastermind<br>Word Limit: None<br>Model: Gemini 2.5 Pro (belief prompting)<br>Success Rate: {y:.2f}%<br>SEM: 2.50%<br>N: 40",
         "marker": {
          "color": "#32CD32"
         },
         "name": "Gemini 2.5 Pro (belief prompting)",
         "showlegend": false,
         "type": "bar",
         "width": 0.8,
         "x": [
          "Gemini 2.5 Pro (belief prompting)"
         ],
         "xaxis": "x6",
         "y": {
          "bdata": "AAAAAABgWEA=",
          "dtype": "f8"
         },
         "yaxis": "y6"
        },
        {
         "error_y": {
          "array": {
           "bdata": "AAAAAAAABEA=",
           "dtype": "f8"
          },
          "color": "black",
          "thickness": 1,
          "type": "data",
          "visible": true,
          "width": 4
         },
         "hovertemplate": "Env: Mastermind<br>Word Limit: None<br>Model: Gemini 2.5 Pro (ABBEL)<br>Success Rate: {y:.2f}%<br>SEM: 2.50%<br>N: 40",
         "marker": {
          "color": "#006400"
         },
         "name": "Gemini 2.5 Pro (ABBEL)",
         "showlegend": false,
         "type": "bar",
         "width": 0.8,
         "x": [
          "Gemini 2.5 Pro (ABBEL)"
         ],
         "xaxis": "x6",
         "y": {
          "bdata": "AAAAAABgWEA=",
          "dtype": "f8"
         },
         "yaxis": "y6"
        }
       ],
       "layout": {
        "annotations": [
         {
          "font": {
           "size": 16
          },
          "showarrow": false,
          "text": "Murder Mystery",
          "x": 0.07083333333333333,
          "xanchor": "center",
          "xref": "paper",
          "y": 1,
          "yanchor": "bottom",
          "yref": "paper"
         },
         {
          "font": {
           "size": 16
          },
          "showarrow": false,
          "text": "Customer Service",
          "x": 0.2425,
          "xanchor": "center",
          "xref": "paper",
          "y": 1,
          "yanchor": "bottom",
          "yref": "paper"
         },
         {
          "font": {
           "size": 16
          },
          "showarrow": false,
          "text": "Twenty Questions",
          "x": 0.4141666666666667,
          "xanchor": "center",
          "xref": "paper",
          "y": 1,
          "yanchor": "bottom",
          "yref": "paper"
         },
         {
          "font": {
           "size": 16
          },
          "showarrow": false,
          "text": "Guess my City",
          "x": 0.5858333333333334,
          "xanchor": "center",
          "xref": "paper",
          "y": 1,
          "yanchor": "bottom",
          "yref": "paper"
         },
         {
          "font": {
           "size": 16
          },
          "showarrow": false,
          "text": "Wordle",
          "x": 0.7575000000000001,
          "xanchor": "center",
          "xref": "paper",
          "y": 1,
          "yanchor": "bottom",
          "yref": "paper"
         },
         {
          "font": {
           "size": 16
          },
          "showarrow": false,
          "text": "Mastermind",
          "x": 0.9291666666666667,
          "xanchor": "center",
          "xref": "paper",
          "y": 1,
          "yanchor": "bottom",
          "yref": "paper"
         }
        ],
        "barmode": "group",
        "font": {
         "family": "Computer Modern, serif",
         "size": 16
        },
        "height": 350,
        "legend": {
         "bgcolor": "rgba(255,255,255,0.9)",
         "bordercolor": "black",
         "borderwidth": 1,
         "orientation": "h",
         "title": {
          "text": " Model<br> (info)"
         },
         "x": 0.5,
         "xanchor": "center",
         "y": 1.18,
         "yanchor": "bottom"
        },
        "margin": {
         "b": 50,
         "l": 80,
         "r": 80,
         "t": 100
        },
        "plot_bgcolor": "white",
        "showlegend": true,
        "template": {
         "data": {
          "bar": [
           {
            "error_x": {
             "color": "rgb(36,36,36)"
            },
            "error_y": {
             "color": "rgb(36,36,36)"
            },
            "marker": {
             "line": {
              "color": "white",
              "width": 0.5
             },
             "pattern": {
              "fillmode": "overlay",
              "size": 10,
              "solidity": 0.2
             }
            },
            "type": "bar"
           }
          ],
          "barpolar": [
           {
            "marker": {
             "line": {
              "color": "white",
              "width": 0.5
             },
             "pattern": {
              "fillmode": "overlay",
              "size": 10,
              "solidity": 0.2
             }
            },
            "type": "barpolar"
           }
          ],
          "carpet": [
           {
            "aaxis": {
             "endlinecolor": "rgb(36,36,36)",
             "gridcolor": "white",
             "linecolor": "white",
             "minorgridcolor": "white",
             "startlinecolor": "rgb(36,36,36)"
            },
            "baxis": {
             "endlinecolor": "rgb(36,36,36)",
             "gridcolor": "white",
             "linecolor": "white",
             "minorgridcolor": "white",
             "startlinecolor": "rgb(36,36,36)"
            },
            "type": "carpet"
           }
          ],
          "choropleth": [
           {
            "colorbar": {
             "outlinewidth": 1,
             "tickcolor": "rgb(36,36,36)",
             "ticks": "outside"
            },
            "type": "choropleth"
           }
          ],
          "contour": [
           {
            "colorbar": {
             "outlinewidth": 1,
             "tickcolor": "rgb(36,36,36)",
             "ticks": "outside"
            },
            "colorscale": [
             [
              0,
              "#440154"
             ],
             [
              0.1111111111111111,
              "#482878"
             ],
             [
              0.2222222222222222,
              "#3e4989"
             ],
             [
              0.3333333333333333,
              "#31688e"
             ],
             [
              0.4444444444444444,
              "#26828e"
             ],
             [
              0.5555555555555556,
              "#1f9e89"
             ],
             [
              0.6666666666666666,
              "#35b779"
             ],
             [
              0.7777777777777778,
              "#6ece58"
             ],
             [
              0.8888888888888888,
              "#b5de2b"
             ],
             [
              1,
              "#fde725"
             ]
            ],
            "type": "contour"
           }
          ],
          "contourcarpet": [
           {
            "colorbar": {
             "outlinewidth": 1,
             "tickcolor": "rgb(36,36,36)",
             "ticks": "outside"
            },
            "type": "contourcarpet"
           }
          ],
          "heatmap": [
           {
            "colorbar": {
             "outlinewidth": 1,
             "tickcolor": "rgb(36,36,36)",
             "ticks": "outside"
            },
            "colorscale": [
             [
              0,
              "#440154"
             ],
             [
              0.1111111111111111,
              "#482878"
             ],
             [
              0.2222222222222222,
              "#3e4989"
             ],
             [
              0.3333333333333333,
              "#31688e"
             ],
             [
              0.4444444444444444,
              "#26828e"
             ],
             [
              0.5555555555555556,
              "#1f9e89"
             ],
             [
              0.6666666666666666,
              "#35b779"
             ],
             [
              0.7777777777777778,
              "#6ece58"
             ],
             [
              0.8888888888888888,
              "#b5de2b"
             ],
             [
              1,
              "#fde725"
             ]
            ],
            "type": "heatmap"
           }
          ],
          "histogram": [
           {
            "marker": {
             "line": {
              "color": "white",
              "width": 0.6
             }
            },
            "type": "histogram"
           }
          ],
          "histogram2d": [
           {
            "colorbar": {
             "outlinewidth": 1,
             "tickcolor": "rgb(36,36,36)",
             "ticks": "outside"
            },
            "colorscale": [
             [
              0,
              "#440154"
             ],
             [
              0.1111111111111111,
              "#482878"
             ],
             [
              0.2222222222222222,
              "#3e4989"
             ],
             [
              0.3333333333333333,
              "#31688e"
             ],
             [
              0.4444444444444444,
              "#26828e"
             ],
             [
              0.5555555555555556,
              "#1f9e89"
             ],
             [
              0.6666666666666666,
              "#35b779"
             ],
             [
              0.7777777777777778,
              "#6ece58"
             ],
             [
              0.8888888888888888,
              "#b5de2b"
             ],
             [
              1,
              "#fde725"
             ]
            ],
            "type": "histogram2d"
           }
          ],
          "histogram2dcontour": [
           {
            "colorbar": {
             "outlinewidth": 1,
             "tickcolor": "rgb(36,36,36)",
             "ticks": "outside"
            },
            "colorscale": [
             [
              0,
              "#440154"
             ],
             [
              0.1111111111111111,
              "#482878"
             ],
             [
              0.2222222222222222,
              "#3e4989"
             ],
             [
              0.3333333333333333,
              "#31688e"
             ],
             [
              0.4444444444444444,
              "#26828e"
             ],
             [
              0.5555555555555556,
              "#1f9e89"
             ],
             [
              0.6666666666666666,
              "#35b779"
             ],
             [
              0.7777777777777778,
              "#6ece58"
             ],
             [
              0.8888888888888888,
              "#b5de2b"
             ],
             [
              1,
              "#fde725"
             ]
            ],
            "type": "histogram2dcontour"
           }
          ],
          "mesh3d": [
           {
            "colorbar": {
             "outlinewidth": 1,
             "tickcolor": "rgb(36,36,36)",
             "ticks": "outside"
            },
            "type": "mesh3d"
           }
          ],
          "parcoords": [
           {
            "line": {
             "colorbar": {
              "outlinewidth": 1,
              "tickcolor": "rgb(36,36,36)",
              "ticks": "outside"
             }
            },
            "type": "parcoords"
           }
          ],
          "pie": [
           {
            "automargin": true,
            "type": "pie"
           }
          ],
          "scatter": [
           {
            "fillpattern": {
             "fillmode": "overlay",
             "size": 10,
             "solidity": 0.2
            },
            "type": "scatter"
           }
          ],
          "scatter3d": [
           {
            "line": {
             "colorbar": {
              "outlinewidth": 1,
              "tickcolor": "rgb(36,36,36)",
              "ticks": "outside"
             }
            },
            "marker": {
             "colorbar": {
              "outlinewidth": 1,
              "tickcolor": "rgb(36,36,36)",
              "ticks": "outside"
             }
            },
            "type": "scatter3d"
           }
          ],
          "scattercarpet": [
           {
            "marker": {
             "colorbar": {
              "outlinewidth": 1,
              "tickcolor": "rgb(36,36,36)",
              "ticks": "outside"
             }
            },
            "type": "scattercarpet"
           }
          ],
          "scattergeo": [
           {
            "marker": {
             "colorbar": {
              "outlinewidth": 1,
              "tickcolor": "rgb(36,36,36)",
              "ticks": "outside"
             }
            },
            "type": "scattergeo"
           }
          ],
          "scattergl": [
           {
            "marker": {
             "colorbar": {
              "outlinewidth": 1,
              "tickcolor": "rgb(36,36,36)",
              "ticks": "outside"
             }
            },
            "type": "scattergl"
           }
          ],
          "scattermap": [
           {
            "marker": {
             "colorbar": {
              "outlinewidth": 1,
              "tickcolor": "rgb(36,36,36)",
              "ticks": "outside"
             }
            },
            "type": "scattermap"
           }
          ],
          "scattermapbox": [
           {
            "marker": {
             "colorbar": {
              "outlinewidth": 1,
              "tickcolor": "rgb(36,36,36)",
              "ticks": "outside"
             }
            },
            "type": "scattermapbox"
           }
          ],
          "scatterpolar": [
           {
            "marker": {
             "colorbar": {
              "outlinewidth": 1,
              "tickcolor": "rgb(36,36,36)",
              "ticks": "outside"
             }
            },
            "type": "scatterpolar"
           }
          ],
          "scatterpolargl": [
           {
            "marker": {
             "colorbar": {
              "outlinewidth": 1,
              "tickcolor": "rgb(36,36,36)",
              "ticks": "outside"
             }
            },
            "type": "scatterpolargl"
           }
          ],
          "scatterternary": [
           {
            "marker": {
             "colorbar": {
              "outlinewidth": 1,
              "tickcolor": "rgb(36,36,36)",
              "ticks": "outside"
             }
            },
            "type": "scatterternary"
           }
          ],
          "surface": [
           {
            "colorbar": {
             "outlinewidth": 1,
             "tickcolor": "rgb(36,36,36)",
             "ticks": "outside"
            },
            "colorscale": [
             [
              0,
              "#440154"
             ],
             [
              0.1111111111111111,
              "#482878"
             ],
             [
              0.2222222222222222,
              "#3e4989"
             ],
             [
              0.3333333333333333,
              "#31688e"
             ],
             [
              0.4444444444444444,
              "#26828e"
             ],
             [
              0.5555555555555556,
              "#1f9e89"
             ],
             [
              0.6666666666666666,
              "#35b779"
             ],
             [
              0.7777777777777778,
              "#6ece58"
             ],
             [
              0.8888888888888888,
              "#b5de2b"
             ],
             [
              1,
              "#fde725"
             ]
            ],
            "type": "surface"
           }
          ],
          "table": [
           {
            "cells": {
             "fill": {
              "color": "rgb(237,237,237)"
             },
             "line": {
              "color": "white"
             }
            },
            "header": {
             "fill": {
              "color": "rgb(217,217,217)"
             },
             "line": {
              "color": "white"
             }
            },
            "type": "table"
           }
          ]
         },
         "layout": {
          "annotationdefaults": {
           "arrowhead": 0,
           "arrowwidth": 1
          },
          "autotypenumbers": "strict",
          "coloraxis": {
           "colorbar": {
            "outlinewidth": 1,
            "tickcolor": "rgb(36,36,36)",
            "ticks": "outside"
           }
          },
          "colorscale": {
           "diverging": [
            [
             0,
             "rgb(103,0,31)"
            ],
            [
             0.1,
             "rgb(178,24,43)"
            ],
            [
             0.2,
             "rgb(214,96,77)"
            ],
            [
             0.3,
             "rgb(244,165,130)"
            ],
            [
             0.4,
             "rgb(253,219,199)"
            ],
            [
             0.5,
             "rgb(247,247,247)"
            ],
            [
             0.6,
             "rgb(209,229,240)"
            ],
            [
             0.7,
             "rgb(146,197,222)"
            ],
            [
             0.8,
             "rgb(67,147,195)"
            ],
            [
             0.9,
             "rgb(33,102,172)"
            ],
            [
             1,
             "rgb(5,48,97)"
            ]
           ],
           "sequential": [
            [
             0,
             "#440154"
            ],
            [
             0.1111111111111111,
             "#482878"
            ],
            [
             0.2222222222222222,
             "#3e4989"
            ],
            [
             0.3333333333333333,
             "#31688e"
            ],
            [
             0.4444444444444444,
             "#26828e"
            ],
            [
             0.5555555555555556,
             "#1f9e89"
            ],
            [
             0.6666666666666666,
             "#35b779"
            ],
            [
             0.7777777777777778,
             "#6ece58"
            ],
            [
             0.8888888888888888,
             "#b5de2b"
            ],
            [
             1,
             "#fde725"
            ]
           ],
           "sequentialminus": [
            [
             0,
             "#440154"
            ],
            [
             0.1111111111111111,
             "#482878"
            ],
            [
             0.2222222222222222,
             "#3e4989"
            ],
            [
             0.3333333333333333,
             "#31688e"
            ],
            [
             0.4444444444444444,
             "#26828e"
            ],
            [
             0.5555555555555556,
             "#1f9e89"
            ],
            [
             0.6666666666666666,
             "#35b779"
            ],
            [
             0.7777777777777778,
             "#6ece58"
            ],
            [
             0.8888888888888888,
             "#b5de2b"
            ],
            [
             1,
             "#fde725"
            ]
           ]
          },
          "colorway": [
           "#1F77B4",
           "#FF7F0E",
           "#2CA02C",
           "#D62728",
           "#9467BD",
           "#8C564B",
           "#E377C2",
           "#7F7F7F",
           "#BCBD22",
           "#17BECF"
          ],
          "font": {
           "color": "rgb(36,36,36)"
          },
          "geo": {
           "bgcolor": "white",
           "lakecolor": "white",
           "landcolor": "white",
           "showlakes": true,
           "showland": true,
           "subunitcolor": "white"
          },
          "hoverlabel": {
           "align": "left"
          },
          "hovermode": "closest",
          "mapbox": {
           "style": "light"
          },
          "paper_bgcolor": "white",
          "plot_bgcolor": "white",
          "polar": {
           "angularaxis": {
            "gridcolor": "rgb(232,232,232)",
            "linecolor": "rgb(36,36,36)",
            "showgrid": false,
            "showline": true,
            "ticks": "outside"
           },
           "bgcolor": "white",
           "radialaxis": {
            "gridcolor": "rgb(232,232,232)",
            "linecolor": "rgb(36,36,36)",
            "showgrid": false,
            "showline": true,
            "ticks": "outside"
           }
          },
          "scene": {
           "xaxis": {
            "backgroundcolor": "white",
            "gridcolor": "rgb(232,232,232)",
            "gridwidth": 2,
            "linecolor": "rgb(36,36,36)",
            "showbackground": true,
            "showgrid": false,
            "showline": true,
            "ticks": "outside",
            "zeroline": false,
            "zerolinecolor": "rgb(36,36,36)"
           },
           "yaxis": {
            "backgroundcolor": "white",
            "gridcolor": "rgb(232,232,232)",
            "gridwidth": 2,
            "linecolor": "rgb(36,36,36)",
            "showbackground": true,
            "showgrid": false,
            "showline": true,
            "ticks": "outside",
            "zeroline": false,
            "zerolinecolor": "rgb(36,36,36)"
           },
           "zaxis": {
            "backgroundcolor": "white",
            "gridcolor": "rgb(232,232,232)",
            "gridwidth": 2,
            "linecolor": "rgb(36,36,36)",
            "showbackground": true,
            "showgrid": false,
            "showline": true,
            "ticks": "outside",
            "zeroline": false,
            "zerolinecolor": "rgb(36,36,36)"
           }
          },
          "shapedefaults": {
           "fillcolor": "black",
           "line": {
            "width": 0
           },
           "opacity": 0.3
          },
          "ternary": {
           "aaxis": {
            "gridcolor": "rgb(232,232,232)",
            "linecolor": "rgb(36,36,36)",
            "showgrid": false,
            "showline": true,
            "ticks": "outside"
           },
           "baxis": {
            "gridcolor": "rgb(232,232,232)",
            "linecolor": "rgb(36,36,36)",
            "showgrid": false,
            "showline": true,
            "ticks": "outside"
           },
           "bgcolor": "white",
           "caxis": {
            "gridcolor": "rgb(232,232,232)",
            "linecolor": "rgb(36,36,36)",
            "showgrid": false,
            "showline": true,
            "ticks": "outside"
           }
          },
          "title": {
           "x": 0.05
          },
          "xaxis": {
           "automargin": true,
           "gridcolor": "rgb(232,232,232)",
           "linecolor": "rgb(36,36,36)",
           "showgrid": false,
           "showline": true,
           "ticks": "outside",
           "title": {
            "standoff": 15
           },
           "zeroline": false,
           "zerolinecolor": "rgb(36,36,36)"
          },
          "yaxis": {
           "automargin": true,
           "gridcolor": "rgb(232,232,232)",
           "linecolor": "rgb(36,36,36)",
           "showgrid": false,
           "showline": true,
           "ticks": "outside",
           "title": {
            "standoff": 15
           },
           "zeroline": false,
           "zerolinecolor": "rgb(36,36,36)"
          }
         }
        },
        "width": 1080,
        "xaxis": {
         "anchor": "y",
         "domain": [
          0,
          0.14166666666666666
         ],
         "showticklabels": false
        },
        "xaxis2": {
         "anchor": "y2",
         "domain": [
          0.17166666666666666,
          0.31333333333333335
         ],
         "showticklabels": false
        },
        "xaxis3": {
         "anchor": "y3",
         "domain": [
          0.3433333333333333,
          0.485
         ],
         "showticklabels": false
        },
        "xaxis4": {
         "anchor": "y4",
         "domain": [
          0.515,
          0.6566666666666667
         ],
         "showticklabels": false
        },
        "xaxis5": {
         "anchor": "y5",
         "domain": [
          0.6866666666666666,
          0.8283333333333334
         ],
         "showticklabels": false
        },
        "xaxis6": {
         "anchor": "y6",
         "domain": [
          0.8583333333333333,
          1
         ],
         "showticklabels": false
        },
        "yaxis": {
         "anchor": "x",
         "domain": [
          0,
          1
         ],
         "gridcolor": "lightgray",
         "range": [
          0,
          100
         ],
         "showgrid": true,
         "title": {
          "text": "Avg. Success Rate"
         }
        },
        "yaxis2": {
         "anchor": "x2",
         "domain": [
          0,
          1
         ],
         "gridcolor": "lightgray",
         "matches": "y",
         "range": [
          0,
          100
         ],
         "showgrid": true,
         "showticklabels": false
        },
        "yaxis3": {
         "anchor": "x3",
         "domain": [
          0,
          1
         ],
         "gridcolor": "lightgray",
         "matches": "y",
         "range": [
          0,
          100
         ],
         "showgrid": true,
         "showticklabels": false
        },
        "yaxis4": {
         "anchor": "x4",
         "domain": [
          0,
          1
         ],
         "gridcolor": "lightgray",
         "matches": "y",
         "range": [
          0,
          100
         ],
         "showgrid": true,
         "showticklabels": false
        },
        "yaxis5": {
         "anchor": "x5",
         "domain": [
          0,
          1
         ],
         "gridcolor": "lightgray",
         "matches": "y",
         "range": [
          0,
          100
         ],
         "showgrid": true,
         "showticklabels": false
        },
        "yaxis6": {
         "anchor": "x6",
         "domain": [
          0,
          1
         ],
         "gridcolor": "lightgray",
         "matches": "y",
         "range": [
          0,
          100
         ],
         "showgrid": true,
         "showticklabels": false
        }
       }
      }
     },
     "metadata": {},
     "output_type": "display_data"
    }
   ],
   "source": [
    "fig = plot_win_rates(summary_df)\n",
    "fig.show()"
   ]
  },
  {
   "cell_type": "code",
   "execution_count": 105,
   "id": "7971e701",
   "metadata": {},
   "outputs": [],
   "source": [
    "fig.write_image(\"figures/frontier_success_rate.pdf\", width=1200, height=400)"
   ]
  },
  {
   "cell_type": "markdown",
   "id": "1c34baf1",
   "metadata": {},
   "source": [
    "## 2. Qualitative Look at Samples"
   ]
  },
  {
   "cell_type": "code",
   "execution_count": 69,
   "id": "9e251b80",
   "metadata": {},
   "outputs": [
    {
     "data": {
      "text/plain": [
       "Index(['model', 'game_id', 'env', 'attempt', 'info', 'raw_guess', 'guess',\n",
       "       'response', 'word_limit', 'score', 'done', 'data', 'belief',\n",
       "       'action_reasoning', 'belief_reasoning', 'model_info'],\n",
       "      dtype='object')"
      ]
     },
     "execution_count": 69,
     "metadata": {},
     "output_type": "execute_result"
    }
   ],
   "source": [
    "df.columns"
   ]
  },
  {
   "cell_type": "code",
   "execution_count": 70,
   "id": "faa2c74a",
   "metadata": {},
   "outputs": [
    {
     "name": "stdout",
     "output_type": "stream",
     "text": [
      "4\n"
     ]
    }
   ],
   "source": [
    "wordle_sample = df[\n",
    "    (df['model'] == 'google/gemini-2.5-pro (belief)') & \\\n",
    "        (df['env'] == 'wordle') & \\\n",
    "            (df['game_id'] == str(0)) & \\\n",
    "            (df['info'] == 'belief')\n",
    "            ]\n",
    "print(len(wordle_sample))"
   ]
  },
  {
   "cell_type": "code",
   "execution_count": 71,
   "id": "f9676af4",
   "metadata": {},
   "outputs": [
    {
     "data": {
      "text/html": [
       "<div>\n",
       "<style scoped>\n",
       "    .dataframe tbody tr th:only-of-type {\n",
       "        vertical-align: middle;\n",
       "    }\n",
       "\n",
       "    .dataframe tbody tr th {\n",
       "        vertical-align: top;\n",
       "    }\n",
       "\n",
       "    .dataframe thead th {\n",
       "        text-align: right;\n",
       "    }\n",
       "</style>\n",
       "<table border=\"1\" class=\"dataframe\">\n",
       "  <thead>\n",
       "    <tr style=\"text-align: right;\">\n",
       "      <th></th>\n",
       "      <th>model</th>\n",
       "      <th>game_id</th>\n",
       "      <th>env</th>\n",
       "      <th>attempt</th>\n",
       "      <th>info</th>\n",
       "      <th>raw_guess</th>\n",
       "      <th>guess</th>\n",
       "      <th>response</th>\n",
       "      <th>word_limit</th>\n",
       "      <th>score</th>\n",
       "      <th>done</th>\n",
       "      <th>data</th>\n",
       "      <th>belief</th>\n",
       "      <th>action_reasoning</th>\n",
       "      <th>belief_reasoning</th>\n",
       "      <th>model_info</th>\n",
       "    </tr>\n",
       "  </thead>\n",
       "  <tbody>\n",
       "    <tr>\n",
       "      <th>202</th>\n",
       "      <td>google/gemini-2.5-pro (belief)</td>\n",
       "      <td>0</td>\n",
       "      <td>wordle</td>\n",
       "      <td>1</td>\n",
       "      <td>belief</td>\n",
       "      <td>&lt;Think&gt;\\nThis is the first guess of the game. ...</td>\n",
       "      <td>SLATE</td>\n",
       "      <td>first letter, s, is correct and in the correct...</td>\n",
       "      <td>None</td>\n",
       "      <td>1.0</td>\n",
       "      <td>True</td>\n",
       "      <td>{'agent_game_scenario': 'word', 'env_game_scen...</td>\n",
       "      <td>The secret word is a five-letter word.\\nThe fi...</td>\n",
       "      <td>**Initiating Wordle Strategy**\\n\\nI'm starting...</td>\n",
       "      <td>**Processing Wordle Clues**\\n\\nI'm currently f...</td>\n",
       "      <td>google/gemini-2.5-pro (belief)</td>\n",
       "    </tr>\n",
       "    <tr>\n",
       "      <th>203</th>\n",
       "      <td>google/gemini-2.5-pro (belief)</td>\n",
       "      <td>0</td>\n",
       "      <td>wordle</td>\n",
       "      <td>2</td>\n",
       "      <td>belief</td>\n",
       "      <td>&lt;Think&gt;\\nThe secret word starts with 'S' and c...</td>\n",
       "      <td>STORE</td>\n",
       "      <td>first letter, s, is correct and in the correct...</td>\n",
       "      <td>None</td>\n",
       "      <td>2.0</td>\n",
       "      <td>True</td>\n",
       "      <td>{'agent_game_scenario': 'word', 'env_game_scen...</td>\n",
       "      <td>The secret word is a five-letter word.\\nThe fi...</td>\n",
       "      <td>**Contemplating Wordle's Constraints**\\n\\nI'm ...</td>\n",
       "      <td>**Beginning Wordle Strategy**\\n\\nI'm starting ...</td>\n",
       "      <td>google/gemini-2.5-pro (belief)</td>\n",
       "    </tr>\n",
       "    <tr>\n",
       "      <th>204</th>\n",
       "      <td>google/gemini-2.5-pro (belief)</td>\n",
       "      <td>0</td>\n",
       "      <td>wordle</td>\n",
       "      <td>3</td>\n",
       "      <td>belief</td>\n",
       "      <td>&lt;Think&gt;\\n1.  **Analyze the current state:**\\n ...</td>\n",
       "      <td>STEIN</td>\n",
       "      <td>first letter, s, is correct and in the correct...</td>\n",
       "      <td>None</td>\n",
       "      <td>3.0</td>\n",
       "      <td>True</td>\n",
       "      <td>{'agent_game_scenario': 'word', 'env_game_scen...</td>\n",
       "      <td>The secret word is a five-letter word.\\nThe wo...</td>\n",
       "      <td>**Analyzing the Clues**\\n\\nI'm on attempt 4 an...</td>\n",
       "      <td>**Considering Wordle Strategy**\\n\\nI'm current...</td>\n",
       "      <td>google/gemini-2.5-pro (belief)</td>\n",
       "    </tr>\n",
       "    <tr>\n",
       "      <th>205</th>\n",
       "      <td>google/gemini-2.5-pro (belief)</td>\n",
       "      <td>0</td>\n",
       "      <td>wordle</td>\n",
       "      <td>4</td>\n",
       "      <td>belief</td>\n",
       "      <td>&lt;Think&gt;\\nThe current state of the game provide...</td>\n",
       "      <td>SCENT</td>\n",
       "      <td>goal reached</td>\n",
       "      <td>None</td>\n",
       "      <td>4.0</td>\n",
       "      <td>True</td>\n",
       "      <td>{'agent_game_scenario': 'word', 'env_game_scen...</td>\n",
       "      <td>The game is over. The secret word was SCENT.</td>\n",
       "      <td>**Assessing the Situation**\\n\\nI'm facing a cr...</td>\n",
       "      <td>**Defining Initial Constraints**\\n\\nI've locke...</td>\n",
       "      <td>google/gemini-2.5-pro (belief)</td>\n",
       "    </tr>\n",
       "  </tbody>\n",
       "</table>\n",
       "</div>"
      ],
      "text/plain": [
       "                              model game_id     env  attempt    info  \\\n",
       "202  google/gemini-2.5-pro (belief)       0  wordle        1  belief   \n",
       "203  google/gemini-2.5-pro (belief)       0  wordle        2  belief   \n",
       "204  google/gemini-2.5-pro (belief)       0  wordle        3  belief   \n",
       "205  google/gemini-2.5-pro (belief)       0  wordle        4  belief   \n",
       "\n",
       "                                             raw_guess  guess  \\\n",
       "202  <Think>\\nThis is the first guess of the game. ...  SLATE   \n",
       "203  <Think>\\nThe secret word starts with 'S' and c...  STORE   \n",
       "204  <Think>\\n1.  **Analyze the current state:**\\n ...  STEIN   \n",
       "205  <Think>\\nThe current state of the game provide...  SCENT   \n",
       "\n",
       "                                              response word_limit  score  \\\n",
       "202  first letter, s, is correct and in the correct...       None    1.0   \n",
       "203  first letter, s, is correct and in the correct...       None    2.0   \n",
       "204  first letter, s, is correct and in the correct...       None    3.0   \n",
       "205                                       goal reached       None    4.0   \n",
       "\n",
       "     done                                               data  \\\n",
       "202  True  {'agent_game_scenario': 'word', 'env_game_scen...   \n",
       "203  True  {'agent_game_scenario': 'word', 'env_game_scen...   \n",
       "204  True  {'agent_game_scenario': 'word', 'env_game_scen...   \n",
       "205  True  {'agent_game_scenario': 'word', 'env_game_scen...   \n",
       "\n",
       "                                                belief  \\\n",
       "202  The secret word is a five-letter word.\\nThe fi...   \n",
       "203  The secret word is a five-letter word.\\nThe fi...   \n",
       "204  The secret word is a five-letter word.\\nThe wo...   \n",
       "205       The game is over. The secret word was SCENT.   \n",
       "\n",
       "                                      action_reasoning  \\\n",
       "202  **Initiating Wordle Strategy**\\n\\nI'm starting...   \n",
       "203  **Contemplating Wordle's Constraints**\\n\\nI'm ...   \n",
       "204  **Analyzing the Clues**\\n\\nI'm on attempt 4 an...   \n",
       "205  **Assessing the Situation**\\n\\nI'm facing a cr...   \n",
       "\n",
       "                                      belief_reasoning  \\\n",
       "202  **Processing Wordle Clues**\\n\\nI'm currently f...   \n",
       "203  **Beginning Wordle Strategy**\\n\\nI'm starting ...   \n",
       "204  **Considering Wordle Strategy**\\n\\nI'm current...   \n",
       "205  **Defining Initial Constraints**\\n\\nI've locke...   \n",
       "\n",
       "                         model_info  \n",
       "202  google/gemini-2.5-pro (belief)  \n",
       "203  google/gemini-2.5-pro (belief)  \n",
       "204  google/gemini-2.5-pro (belief)  \n",
       "205  google/gemini-2.5-pro (belief)  "
      ]
     },
     "execution_count": 71,
     "metadata": {},
     "output_type": "execute_result"
    }
   ],
   "source": [
    "wordle_sample"
   ]
  },
  {
   "cell_type": "code",
   "execution_count": 76,
   "id": "2af8aebe",
   "metadata": {},
   "outputs": [
    {
     "name": "stdout",
     "output_type": "stream",
     "text": [
      "{'action_reasoning': '**Analyzing the Clues**\\n'\n",
      "                     '\\n'\n",
      "                     \"I'm on attempt 4 and starting to feel the pressure! The \"\n",
      "                     'word is five letters, begins with \"S,\" and includes \"T\" '\n",
      "                     'and \"E.\" I\\'ve ruled out \"T\" in the second and fourth '\n",
      "                     'positions. I am close to a breakthrough, maybe in the '\n",
      "                     'next guess?\\n'\n",
      "                     '\\n'\n",
      "                     '\\n'\n",
      "                     '**Considering the Options**\\n'\n",
      "                     '\\n'\n",
      "                     \"I've narrowed down the possibilities further. Attempt 5 \"\n",
      "                     'is here. I now have \"S _ T _ _\" or \"S _ _ T _\" or \"_ _ _ '\n",
      "                     '_\". I am focusing on the possible placements of \"E\" now, '\n",
      "                     'with the goal of limiting the letter options in the '\n",
      "                     'process, as well as trying to eliminate the letters I '\n",
      "                     'already know cannot work. \\n'\n",
      "                     '\\n'\n",
      "                     '\\n'\n",
      "                     '**Evaluating the Possibilities**\\n'\n",
      "                     '\\n'\n",
      "                     'I\\'ve just completed the fifth guess with \"STEIN,\" which '\n",
      "                     'yielded new letters \"I\" and \"N\". My analysis shows '\n",
      "                     '\"STEIN\" as a viable candidate, following the logic of \"S '\n",
      "                     '_ T E _.\" The word is still missing an \"E\" placement. '\n",
      "                     'I\\'m planning my final attempt now, considering \"STEIN\" '\n",
      "                     'as a possible solution, while I try to narrow down the '\n",
      "                     'options!\\n'\n",
      "                     '\\n'\n",
      "                     '\\n'\n",
      "                     '**Finalizing the Strategy**\\n'\n",
      "                     '\\n'\n",
      "                     \"I've now exhausted the options from the previous \"\n",
      "                     'analysis, with \"STEIN\" being the most promising. I will '\n",
      "                     'use \"STEIN\" as my sixth and final attempt, as it '\n",
      "                     'accounts for many possibilities, and I have exhausted my '\n",
      "                     'options.\\n'\n",
      "                     '\\n'\n",
      "                     '\\n'\n",
      "                     '**Refining Possibilities**\\n'\n",
      "                     '\\n'\n",
      "                     \"I'm now down to the wire and analyzing the best options. \"\n",
      "                     'My latest review of the data shows \"STEIN\" as a very '\n",
      "                     'strong candidate and \"SPENT\" and \"SCENT\" are good '\n",
      "                     'alternatives. \"SWEET\" is less likely. I have one attempt '\n",
      "                     'left, so I will choose \"STEIN\".\\n'\n",
      "                     '\\n'\n",
      "                     '\\n'\n",
      "                     '**Making a Choice**\\n'\n",
      "                     '\\n'\n",
      "                     \"I've analyzed all the possibilities, weighing the pros \"\n",
      "                     'and cons of each candidate based on letter frequency and '\n",
      "                     'placement. I now have a clear strategy and a final '\n",
      "                     'selection ready for my sixth and final attempt. The word '\n",
      "                     'is likely to be \"STEIN\", \"SPENT\" or \"SCENT\", but I will '\n",
      "                     'go for the best option!\\n'\n",
      "                     '\\n'\n",
      "                     '\\n'\n",
      "                     '**Final Weighing**\\n'\n",
      "                     '\\n'\n",
      "                     \"I've carefully considered the remaining options based on \"\n",
      "                     'the process of elimination. Given all the restrictions, '\n",
      "                     'my final consideration weighs \"STEIN,\" \"SPENT,\" and '\n",
      "                     '\"SCENT\" as equally strong candidates.\\n'\n",
      "                     '\\n'\n",
      "                     '\\n'\n",
      "                     '**Evaluating the Options**\\n'\n",
      "                     '\\n'\n",
      "                     \"I'm analyzing the options given the restrictions: five \"\n",
      "                     'letters, starting with \"S\", containing \"T\" and \"E,\" and '\n",
      "                     'no \"A,\" \"L,\" \"O,\" or \"R.\" The word is not \"S _ _ _ E\" '\n",
      "                     'and \"T\" is not the second or fourth letter. \"STEIN,\" '\n",
      "                     '\"SPENT,\" and \"SCENT\" seem like promising contenders.\\n'\n",
      "                     '\\n'\n",
      "                     '\\n'\n",
      "                     '**Refining My Choices**\\n'\n",
      "                     '\\n'\n",
      "                     \"I'm now on my final attempt and evaluating the remaining \"\n",
      "                     \"words. After the previous guess, I'm trying to decide \"\n",
      "                     'between `STEIN`, `SPENT`, and `SCENT`. I will go with '\n",
      "                     'the word that contains the most information for the next '\n",
      "                     'attempt.\\n'\n",
      "                     '\\n'\n",
      "                     '\\n',\n",
      " 'attempt': 3,\n",
      " 'belief': 'The secret word is a five-letter word.\\n'\n",
      "           'The word has the structure S _ E _ _.\\n'\n",
      "           \"The word contains the letters 'T' and 'N'.\\n\"\n",
      "           \"The letter 'T' must be in position 4 or 5.\\n\"\n",
      "           \"The letter 'N' must be in position 2 or 4.\\n\"\n",
      "           \"The word does not contain the letters 'A', 'L', 'O', 'R', or 'I'.\",\n",
      " 'belief_reasoning': '**Considering Wordle Strategy**\\n'\n",
      "                     '\\n'\n",
      "                     \"I'm currently working through the implications of the \"\n",
      "                     \"clues for my Wordle strategy. I've locked in that the \"\n",
      "                     'word is five letters long, starts with \"S\", contains '\n",
      "                     'both \"T\" and \"E\" and have further narrowed down the '\n",
      "                     'potential positions for each of the letters. I am now '\n",
      "                     'working through possible word combinations that fit '\n",
      "                     'these constraints.\\n'\n",
      "                     '\\n'\n",
      "                     '\\n'\n",
      "                     '**Narrowing Wordle Options**\\n'\n",
      "                     '\\n'\n",
      "                     \"I've now used the new information to further narrow down \"\n",
      "                     'the constraints of the word. Given the results from '\n",
      "                     \"'STEIN', the word is of the form 'S _ E _ _'. We've \"\n",
      "                     \"confirmed 'T' and 'N' as letters in the word, and \"\n",
      "                     \"deduced their possible positions, with the letters 'T' \"\n",
      "                     \"and 'N' occupying the 4th and 5th positions \"\n",
      "                     'respectively.\\n'\n",
      "                     '\\n'\n",
      "                     '\\n'\n",
      "                     '**Revising Wordle Guesses**\\n'\n",
      "                     '\\n'\n",
      "                     \"I'm now focused on how 'T' and 'N' interact, with 'T' \"\n",
      "                     \"either in the fourth or fifth slot, and 'N' in the \"\n",
      "                     \"second or fourth. I've further narrowed down the \"\n",
      "                     \"possibilities to three potential forms: 'SNET_', \"\n",
      "                     \"'SNE_T', and 'S_ENT'. I will now explore potential word \"\n",
      "                     'options, given the available information.\\n'\n",
      "                     '\\n'\n",
      "                     '\\n'\n",
      "                     '**Formulating Possible Word Shapes**\\n'\n",
      "                     '\\n'\n",
      "                     \"Now, I'm focusing on narrowing down the word \"\n",
      "                     \"possibilities. The form `S _ E _ _` is confirmed. I've \"\n",
      "                     \"determined that 'T' and 'N' must be present, and I've \"\n",
      "                     \"deduced their possible positions: 'T' is in either \"\n",
      "                     \"position 4 or 5 and 'N' is in position 2 or 4. This \"\n",
      "                     'gives me three possibilities: `SNET_`, `SNE_T`, and '\n",
      "                     \"`S_ENT`. I'll now consider which words fit this.\\n\"\n",
      "                     '\\n'\n",
      "                     '\\n'\n",
      "                     '**Summarizing the Constraints**\\n'\n",
      "                     '\\n'\n",
      "                     \"I've now consolidated all the gathered information. The \"\n",
      "                     \"word structure is S _ E _ _. We know it includes 'T' and \"\n",
      "                     \"'N', with 'T' in position four or five, and 'N' in \"\n",
      "                     \"position two or four. Importantly, 'A', 'L', 'O', 'R', \"\n",
      "                     \"and 'I' are excluded.\\n\"\n",
      "                     '\\n'\n",
      "                     '\\n',\n",
      " 'data': {'agent_game_scenario': 'word',\n",
      "          'belief_actions_convs': [],\n",
      "          'belief_config': {'style': 'none'},\n",
      "          'conversation': [{'content': 'You are a helpful assistant.',\n",
      "                            'role': 'system'},\n",
      "                           {'content': 'You are playing a game of Wordle.\\n'\n",
      "                                       '\\n'\n",
      "                                       'Format your response in the following '\n",
      "                                       'way: <Think> Any step-by-step, short '\n",
      "                                       'and concise thinking to strategically '\n",
      "                                       'determine the next guess for the '\n",
      "                                       'secret word </Think> \\n'\n",
      "                                       '<Answer> your guess of what the word '\n",
      "                                       'should be </Answer> \\n'\n",
      "                                       '\\n'\n",
      "                                       'The game begins now, please make your '\n",
      "                                       'first guess about the secret '\n",
      "                                       'five-letter word!',\n",
      "                            'role': 'user'},\n",
      "                           {'content': 'slate', 'role': 'assistant'},\n",
      "                           {'content': 'First letter, s, is correct and in the '\n",
      "                                       'correct position in the target word \\n'\n",
      "                                       'Second letter, l, is not in the target '\n",
      "                                       'word \\n'\n",
      "                                       'Third letter, a, is not in the target '\n",
      "                                       'word \\n'\n",
      "                                       'Fourth letter, t, exists in the target '\n",
      "                                       'word but in a different position \\n'\n",
      "                                       'Fifth letter, e, exists in the target '\n",
      "                                       'word but in a different position\\n'\n",
      "                                       '\\n'\n",
      "                                       '\\n'\n",
      "                                       'Make your next guess about the hidden '\n",
      "                                       'word. Please try to be concise. Format '\n",
      "                                       'your response in the following way: '\n",
      "                                       '<Think> Any step-by-step, short and '\n",
      "                                       'concise thinking to strategically '\n",
      "                                       'determine the next guess for the '\n",
      "                                       'secret word </Think> \\n'\n",
      "                                       '<Answer> your guess of what the word '\n",
      "                                       'should be </Answer>',\n",
      "                            'role': 'user'},\n",
      "                           {'content': 'store', 'role': 'assistant'},\n",
      "                           {'content': 'First letter, s, is correct and in the '\n",
      "                                       'correct position in the target word \\n'\n",
      "                                       'Second letter, t, exists in the target '\n",
      "                                       'word but in a different position \\n'\n",
      "                                       'Third letter, o, is not in the target '\n",
      "                                       'word \\n'\n",
      "                                       'Fourth letter, r, is not in the target '\n",
      "                                       'word \\n'\n",
      "                                       'Fifth letter, e, exists in the target '\n",
      "                                       'word but in a different position\\n'\n",
      "                                       '\\n'\n",
      "                                       '\\n'\n",
      "                                       'Make your next guess about the hidden '\n",
      "                                       'word. Please try to be concise. Format '\n",
      "                                       'your response in the following way: '\n",
      "                                       '<Think> Any step-by-step, short and '\n",
      "                                       'concise thinking to strategically '\n",
      "                                       'determine the next guess for the '\n",
      "                                       'secret word </Think> \\n'\n",
      "                                       '<Answer> your guess of what the word '\n",
      "                                       'should be </Answer>',\n",
      "                            'role': 'user'},\n",
      "                           {'content': 'stein', 'role': 'assistant'},\n",
      "                           {'content': 'First letter, s, is correct and in the '\n",
      "                                       'correct position in the target word \\n'\n",
      "                                       'Second letter, t, exists in the target '\n",
      "                                       'word but in a different position \\n'\n",
      "                                       'Third letter, e, is correct and in the '\n",
      "                                       'correct position in the target word \\n'\n",
      "                                       'Fourth letter, i, is not in the target '\n",
      "                                       'word \\n'\n",
      "                                       'Fifth letter, n, exists in the target '\n",
      "                                       'word but in a different position\\n'\n",
      "                                       '\\n'\n",
      "                                       '\\n'\n",
      "                                       'Make your next guess about the hidden '\n",
      "                                       'word. Please try to be concise. Format '\n",
      "                                       'your response in the following way: '\n",
      "                                       '<Think> Any step-by-step, short and '\n",
      "                                       'concise thinking to strategically '\n",
      "                                       'determine the next guess for the '\n",
      "                                       'secret word </Think> \\n'\n",
      "                                       '<Answer> your guess of what the word '\n",
      "                                       'should be </Answer>',\n",
      "                            'role': 'user'}],\n",
      "          'conversation_llm_responses': [],\n",
      "          'env_conversation': [{'content': 'scent', 'role': 'system'},\n",
      "                               {'content': 'slate\\n', 'role': 'user'},\n",
      "                               {'content': 'First letter, s, is correct and in '\n",
      "                                           'the correct position in the target '\n",
      "                                           'word \\n'\n",
      "                                           'Second letter, l, is not in the '\n",
      "                                           'target word \\n'\n",
      "                                           'Third letter, a, is not in the '\n",
      "                                           'target word \\n'\n",
      "                                           'Fourth letter, t, exists in the '\n",
      "                                           'target word but in a different '\n",
      "                                           'position \\n'\n",
      "                                           'Fifth letter, e, exists in the '\n",
      "                                           'target word but in a different '\n",
      "                                           'position',\n",
      "                                'role': 'assistant'},\n",
      "                               {'content': 'store\\n', 'role': 'user'},\n",
      "                               {'content': 'First letter, s, is correct and in '\n",
      "                                           'the correct position in the target '\n",
      "                                           'word \\n'\n",
      "                                           'Second letter, t, exists in the '\n",
      "                                           'target word but in a different '\n",
      "                                           'position \\n'\n",
      "                                           'Third letter, o, is not in the '\n",
      "                                           'target word \\n'\n",
      "                                           'Fourth letter, r, is not in the '\n",
      "                                           'target word \\n'\n",
      "                                           'Fifth letter, e, exists in the '\n",
      "                                           'target word but in a different '\n",
      "                                           'position',\n",
      "                                'role': 'assistant'},\n",
      "                               {'content': 'stein\\n', 'role': 'user'},\n",
      "                               {'content': 'First letter, s, is correct and in '\n",
      "                                           'the correct position in the target '\n",
      "                                           'word \\n'\n",
      "                                           'Second letter, t, exists in the '\n",
      "                                           'target word but in a different '\n",
      "                                           'position \\n'\n",
      "                                           'Third letter, e, is correct and in '\n",
      "                                           'the correct position in the target '\n",
      "                                           'word \\n'\n",
      "                                           'Fourth letter, i, is not in the '\n",
      "                                           'target word \\n'\n",
      "                                           'Fifth letter, n, exists in the '\n",
      "                                           'target word but in a different '\n",
      "                                           'position',\n",
      "                                'role': 'assistant'}],\n",
      "          'env_first_message': 'scent',\n",
      "          'env_game_scenario': 'scent',\n",
      "          'goal_reached': False,\n",
      "          'judge_conversation': None,\n",
      "          'judge_label': True,\n",
      "          'max_turns': 6,\n",
      "          'num_turns': 3,\n",
      "          'rewards': None},\n",
      " 'done': True,\n",
      " 'env': 'wordle',\n",
      " 'game_id': '0',\n",
      " 'guess': 'STEIN',\n",
      " 'info': 'belief',\n",
      " 'model': 'google/gemini-2.5-pro (belief)',\n",
      " 'model_info': 'google/gemini-2.5-pro (belief)',\n",
      " 'raw_guess': '<Think>\\n'\n",
      "              '1.  **Analyze the current state:**\\n'\n",
      "              \"    *   The word is 5 letters long and starts with 'S'. (S _ _ \"\n",
      "              '_ _)\\n'\n",
      "              \"    *   It contains 'T' and 'E'.\\n\"\n",
      "              \"    *   'T' is not in the 2nd or 4th position. So, 'T' must be \"\n",
      "              'in the 3rd or 5th position.\\n'\n",
      "              \"    *   'E' is not in the 5th position. So, 'E' must be in the \"\n",
      "              '2nd, 3rd, or 4th position.\\n'\n",
      "              \"    *   The word does not contain 'A', 'L', 'O', or 'R'.\\n\"\n",
      "              '\\n'\n",
      "              '2.  **Identify possible structures:**\\n'\n",
      "              \"    *   Case 1: 'T' is in the 3rd position (S _ T _ _). 'E' can \"\n",
      "              'be in the 2nd (S E T _ _) or 4th (S _ T E _).\\n'\n",
      "              \"    *   Case 2: 'T' is in the 5th position (S _ _ _ T). 'E' can \"\n",
      "              'be in the 2nd (S E _ _ T), 3rd (S _ E _ T), or 4th (S _ _ E '\n",
      "              'T).\\n'\n",
      "              '\\n'\n",
      "              '3.  **Find candidate words that maximize information:**\\n'\n",
      "              '    *   My goal is to test common, unused letters to narrow '\n",
      "              'down the possibilities. The unused letters are B, C, D, F, G, '\n",
      "              'H, I, J, K, M, N, P, Q, U, V, W, X, Y, Z.\\n'\n",
      "              \"    *   Let's look for words that fit the identified structures \"\n",
      "              'and use these new letters.\\n'\n",
      "              '    *   For the `S _ T E _` structure: `STEIN` is a strong '\n",
      "              \"candidate. It tests two very common new letters: 'I' and 'N'.\\n\"\n",
      "              '    *   For the `S _ _ E T` structure: `SPENT` and `SCENT` are '\n",
      "              \"good candidates. They test 'P'/'C' and 'N'.\\n\"\n",
      "              '    *   For the `S _ E _ T` structure with double letters: '\n",
      "              \"`SWEET`, `SHEET`. These test 'W'/'H' but use a double 'E', \"\n",
      "              'which might be less informative than testing two unique '\n",
      "              'letters.\\n'\n",
      "              '\\n'\n",
      "              '4.  **Select the best guess:**\\n'\n",
      "              '    *   `STEIN` is an excellent choice. It fits all '\n",
      "              \"constraints, it's a common word, and it tests a new vowel ('I') \"\n",
      "              \"and a common consonant ('N'). This guess will confirm or \"\n",
      "              'eliminate the `S _ T E _` structure and check for the presence '\n",
      "              \"of 'I' and 'N', providing a lot of information for the next \"\n",
      "              'attempt.\\n'\n",
      "              '\\n'\n",
      "              '</Think>\\n'\n",
      "              '<Answer>STEIN</Answer>',\n",
      " 'response': 'first letter, s, is correct and in the correct position in the '\n",
      "             'target word \\n'\n",
      "             'second letter, t, exists in the target word but in a different '\n",
      "             'position \\n'\n",
      "             'third letter, e, is correct and in the correct position in the '\n",
      "             'target word \\n'\n",
      "             'fourth letter, i, is not in the target word \\n'\n",
      "             'fifth letter, n, exists in the target word but in a different '\n",
      "             'position',\n",
      " 'score': 3.0,\n",
      " 'word_limit': 'None'}\n"
     ]
    }
   ],
   "source": [
    "pp(wordle_sample.iloc[2].to_dict())"
   ]
  },
  {
   "cell_type": "code",
   "execution_count": 15,
   "id": "b4ce1cdb",
   "metadata": {},
   "outputs": [],
   "source": [
    "# can't do with belief but can do with history -> look at the full trajectory with reasoning and try to see why it can't do it with belief"
   ]
  },
  {
   "cell_type": "markdown",
   "id": "21e41562",
   "metadata": {},
   "source": [
    "## 3. Sizes of Belief States"
   ]
  },
  {
   "cell_type": "code",
   "execution_count": 106,
   "id": "bb344f62",
   "metadata": {},
   "outputs": [],
   "source": [
    "df_belief = df[df['info'] == 'belief']"
   ]
  },
  {
   "cell_type": "code",
   "execution_count": 144,
   "id": "a1f8fb52",
   "metadata": {},
   "outputs": [
    {
     "data": {
      "text/plain": [
       "[{'role': 'assistant', 'content': 'crane'},\n",
       " {'role': 'user',\n",
       "  'content': 'First letter, c, is not in the target word \\nSecond letter, r, is not in the target word \\nThird letter, a, is not in the target word \\nFourth letter, n, is not in the target word \\nFifth letter, e, exists in the target word but in a different position\\n\\n\\nMake your next guess about the hidden word. Please try to be concise. Format your response in the following way: <Think> Any step-by-step, short and concise thinking to strategically determine the next guess for the secret word </Think> \\n<Answer> your guess of what the word should be </Answer>'},\n",
       " {'role': 'assistant', 'content': 'spelt'},\n",
       " {'role': 'user',\n",
       "  'content': 'First letter, s, is not in the target word \\nSecond letter, p, is not in the target word \\nThird letter, e, exists in the target word but in a different position \\nFourth letter, l, is not in the target word \\nFifth letter, t, is not in the target word\\n\\n\\nMake your next guess about the hidden word. Please try to be concise. Format your response in the following way: <Think> Any step-by-step, short and concise thinking to strategically determine the next guess for the secret word </Think> \\n<Answer> your guess of what the word should be </Answer>'},\n",
       " {'role': 'assistant', 'content': \"'modem'\"},\n",
       " {'role': 'user',\n",
       "  'content': \"The word you guessed, 'modem', does not have five letters, but has 7. It is thus not a correct guess and does not follow the rules of the game wordle. Please make another guess!\\n\\n\\nMake your next guess about the hidden word. Please try to be concise. Format your response in the following way: <Think> Any step-by-step, short and concise thinking to strategically determine the next guess for the secret word </Think> \\n<Answer> your guess of what the word should be </Answer>\"}]"
      ]
     },
     "execution_count": 144,
     "metadata": {},
     "output_type": "execute_result"
    }
   ],
   "source": [
    "df_belief.iloc[142]['data']['conversation'][2:]"
   ]
  },
  {
   "cell_type": "code",
   "execution_count": 201,
   "id": "8799a5ab",
   "metadata": {},
   "outputs": [],
   "source": [
    "def plot_belief_length(df):\n",
    "    envs_unique = list(df['env'].astype(str).unique())\n",
    "    envs = envs_ordered\n",
    "    from math import sqrt\n",
    "    import plotly\n",
    "    go = plotly.graph_objects\n",
    "    make_subplots = plotly.subplots.make_subplots\n",
    "\n",
    "    length = df['belief'].astype(str).str.len()\n",
    "    history_length = df_belief['data'].apply(lambda d: len(str(d.get('conversation', [])[2:])))\n",
    "    df2 = df.assign(_belief_len=length, _history_len=history_length)\n",
    "    agg = df2.groupby(['env','model','attempt'])._belief_len.agg(['mean','std','count']).reset_index()\n",
    "    agg['sem'] = agg['std'] / agg['count'].apply(lambda n: sqrt(n) if n > 0 else 1)\n",
    "\n",
    "    colors = [\n",
    "        \"#FF6347\",  # red\n",
    "        \"#4682B4\",  # blue\n",
    "        \"#32CD32\",  # green\n",
    "    ]\n",
    "\n",
    "    fig = make_subplots(rows=1, cols=len(envs), shared_yaxes=False, subplot_titles=envs)\n",
    "\n",
    "    model_color_map = {\n",
    "        'Deepseek V3 (ABBEL)': '#4682B4',\n",
    "        'Deepseek R1 (ABBEL)': '#FF6347',\n",
    "        'Gemini 2.5 Pro (ABBEL)': '#32CD32',\n",
    "    }\n",
    "\n",
    "    models_seen = set()\n",
    "    color_idx = 0\n",
    "\n",
    "    for col_idx, env in enumerate(envs, start=1):\n",
    "\n",
    "        # Plot the average history length for each env in gray (across all models and games, per step)\n",
    "        sub_hist = df2[df2['env'] == env].groupby('attempt')['_history_len'].agg(['mean', 'std', 'count']).reset_index()\n",
    "        sub_hist['sem'] = sub_hist['std'] / sub_hist['count'].apply(lambda n: sqrt(n) if n > 0 else 1)\n",
    "        fig.add_trace(\n",
    "            go.Scatter(\n",
    "                x=sub_hist['attempt'],\n",
    "                y=sub_hist['mean'],\n",
    "                error_y=dict(\n",
    "                    type='data',\n",
    "                    array=sub_hist['sem'],\n",
    "                    visible=True,\n",
    "                    thickness=1.2,\n",
    "                    color='rgba(100,100,100,0.3)'\n",
    "                ),\n",
    "                mode='lines+markers',\n",
    "                name='History',\n",
    "                legendgroup='history',\n",
    "                showlegend=(col_idx == 1),  # only show legend once\n",
    "                line=dict(color='gray', width=2, dash='dot'),\n",
    "                marker=dict(color='gray')\n",
    "            ),\n",
    "            row=1, col=col_idx\n",
    "        )\n",
    "\n",
    "        sub = agg[agg['env'] == env]\n",
    "        for model in sub['model'].unique():\n",
    "            mdf = sub[sub['model'] == model].sort_values('attempt')\n",
    "            if model not in model_color_map:\n",
    "                model_color_map[model] = colors[color_idx % len(colors)]\n",
    "                color_idx += 1\n",
    "            show_legend = model not in models_seen\n",
    "            models_seen.add(model)\n",
    "\n",
    "            fig.add_trace(\n",
    "                go.Scatter(\n",
    "                    x=mdf['attempt'],\n",
    "                    y=mdf['mean'],\n",
    "                    error_y=dict(\n",
    "                        type='data',\n",
    "                        array=mdf['sem'],\n",
    "                        visible=True,\n",
    "                        thickness=1.6,   # softer line\n",
    "                        color='rgba(0,0,0,0.4)'  # semi-transparent black\n",
    "                    ),\n",
    "                    mode='lines+markers',\n",
    "                    name=str(model.split('(')[0]),\n",
    "                    legendgroup=str(model),\n",
    "                    showlegend=show_legend,\n",
    "                    line=dict(color=model_color_map[model], width=2)\n",
    "                ),\n",
    "                row=1, col=col_idx\n",
    "            )\n",
    "\n",
    "        fig.update_xaxes(\n",
    "            title_text='Step',\n",
    "            color='black',  # black axis\n",
    "            showline=True,\n",
    "            linecolor='black',\n",
    "            linewidth=1,\n",
    "            showgrid=False,\n",
    "            row=1, col=col_idx\n",
    "        )\n",
    "\n",
    "        fig.update_yaxes(\n",
    "            title_text='Average Belief Length (chars)' if col_idx == 1 else None,\n",
    "            showline=True,\n",
    "            linecolor='black',\n",
    "            linewidth=1,\n",
    "            tickfont=dict(color='black'),\n",
    "            showgrid=True,\n",
    "            gridcolor='lightgray',\n",
    "            row=1, col=col_idx\n",
    "        )\n",
    "\n",
    "    fig.update_layout(\n",
    "        width=1200,\n",
    "        height=400,\n",
    "        paper_bgcolor='white',\n",
    "        plot_bgcolor='white',\n",
    "        font=dict(family='Times New Roman, serif', size=14),\n",
    "        legend=dict(\n",
    "            orientation='h',   # horizontal\n",
    "            yanchor='bottom',\n",
    "            y=1.1,\n",
    "            xanchor='center',\n",
    "            x=0.5,\n",
    "            bordercolor='black',\n",
    "            borderwidth=1,\n",
    "            bgcolor='rgba(255,255,255,0.9)'\n",
    "        )\n",
    "    )\n",
    "\n",
    "    return fig\n"
   ]
  },
  {
   "cell_type": "code",
   "execution_count": 202,
   "id": "4c57f8f7",
   "metadata": {},
   "outputs": [],
   "source": [
    "fig = plot_belief_length(df_belief)"
   ]
  },
  {
   "cell_type": "code",
   "execution_count": 204,
   "id": "3df4c224",
   "metadata": {},
   "outputs": [
    {
     "data": {
      "application/vnd.plotly.v1+json": {
       "config": {
        "plotlyServerURL": "https://plot.ly"
       },
       "data": [
        {
         "error_y": {
          "array": {
           "bdata": "Pjm9QxurMkC4EzPkD2pBQPQZMp6LxkpAmXxNxiOqUkAb+7AbkeBXQIRs72LXQVxAEp1ISvvWYEBCsLhorYZiQOrSs8ohbGVA5N3eDoiHaEBlc8GKfyZrQCE5GfMbh29AnIPo++AQckAA43mM/L51QKapKSygtXdAq3TfjvBAekBfucJBrFR8QCWwkJb+Y39ApyrdukT/gEDawZYCZN6DQA==",
           "dtype": "f8"
          },
          "color": "rgba(100,100,100,0.3)",
          "thickness": 1.2,
          "type": "data",
          "visible": true
         },
         "legendgroup": "history",
         "line": {
          "color": "gray",
          "dash": "dot",
          "width": 2
         },
         "marker": {
          "color": "gray"
         },
         "mode": "lines+markers",
         "name": "History",
         "showlegend": true,
         "type": "scatter",
         "x": {
          "bdata": "AQIDBAUGBwgJCgsMDQ4PEBESExQ=",
          "dtype": "i1"
         },
         "xaxis": "x",
         "y": {
          "bdata": "VVVVVVVlkUBEREREBMOhQDMzMzMzGqxA7+7u7g6ms0Dv7u7uTiK5QImIiIhIqL5AEREREeFDwkAzMzMzcwjFQDCPrQja6MdA9+uSyofWykChyZcNmr/NQKEO6qDOWtBAd4bEvB2/0UD1pje9iUnTQP3SL/3S1tRAt23btm0g1kDHcRzH8Y3XQAAAAACoK9lAt23bti3S2kBddNFFdz7cQA==",
          "dtype": "f8"
         },
         "yaxis": "y"
        },
        {
         "error_y": {
          "array": {
           "bdata": "/vqB+bl8R0A07Oly7CJIQKxqatRrxUVAhqK2g0c7TUCFo3aXf/BMQBmHjgU1mlBAMAxeouNHU0BcnkR2hVJUQD5Wo2cPklRAOnZxFVNyVEA5H0lM9GpTQC4Bg+eizlRAU13t80ccVED9fx6aRHxRQM8QeuwsT1RA1V1d6U2eU0BfSA/SYYlUQGFHZGmvIFZA3UhOEumbWkCsQakJQixYQA==",
           "dtype": "f8"
          },
          "color": "rgba(0,0,0,0.4)",
          "thickness": 1.6,
          "type": "data",
          "visible": true
         },
         "legendgroup": "Deepseek R1 (ABBEL)",
         "line": {
          "color": "#FF6347",
          "width": 2
         },
         "mode": "lines+markers",
         "name": "Deepseek R1 ",
         "showlegend": true,
         "type": "scatter",
         "x": {
          "bdata": "AQIDBAUGBwgJCgsMDQ4PEBESExQ=",
          "dtype": "i1"
         },
         "xaxis": "x",
         "y": {
          "bdata": "zczMzEzYkEDNzMzMTOWYQGZmZmbmjJ1AzczMzEz0n0AAAAAAgLqgQM3MzMyMfaFAmpmZmVnmoUCamZmZ2WuiQJqZmZlZuqJAMzMzMzP5okAAAAAAwGejQJqZmZkZTqNAZmZmZiZAo0BmZmZmJsuiQJqZmZkZkqJAJ3ZiJ3YOo0Au3/It38yiQDuxEzuxq6JADeU1lNfLokByHMdxnK2iQA==",
          "dtype": "f8"
         },
         "yaxis": "y"
        },
        {
         "error_y": {
          "array": {
           "bdata": "jOsRaTmXRECoolGQqXxHQAux9apuB1FA4MbvK57CVUBuZ3VuCMxYQKYJ+FpColtAGNTZ36d7YEAYxDFwtkFjQAzRSCOsuWhAO++7Zi4Va0DMFFq29c5sQPxSCspZtG9AS5bQ7dhwb0BTVhUkWedwQB6kukBQq3FAGkVCGJTQc0CGbSPrWsJ1QCdlz53Q+3ZAbWWKbWJYdkD267IesKl3QA==",
           "dtype": "f8"
          },
          "color": "rgba(0,0,0,0.4)",
          "thickness": 1.6,
          "type": "data",
          "visible": true
         },
         "legendgroup": "Deepseek V3 (ABBEL)",
         "line": {
          "color": "#4682B4",
          "width": 2
         },
         "mode": "lines+markers",
         "name": "Deepseek V3 ",
         "showlegend": true,
         "type": "scatter",
         "x": {
          "bdata": "AQIDBAUGBwgJCgsMDQ4PEBESExQ=",
          "dtype": "i1"
         },
         "xaxis": "x",
         "y": {
          "bdata": "MzMzMzNph0AAAAAAgEqSQJqZmZmZ8JdAmpmZmZnjnEDNzMzMTG6gQDMzMzPzxqJAAAAAAMDFpECamZmZGeGmQIM0SIM0JKhAU+SzbjDNp0AAAAAAAM+nQA8PDw8PRqlAxMPDw8N0qEAAAAAAAHCrQImIiIiIzalAJUmSJMmNq0CSJEmSJMCtQEmSJEkS/q5AewntJbShr0A7sRM7MWiwQA==",
          "dtype": "f8"
         },
         "yaxis": "y"
        },
        {
         "error_y": {
          "array": {
           "bdata": "IzPdasW3QkAK6xrJOKhKQMtG0GJUDkxAxGKp6dTEUEB2x1DH9Z9RQLBySvTpzlJAAgOJEchYV0Cpgif0UchXQB2HM+KV8VtAmPWgKdJwXUB80TKT0VBkQMljzHoQZWdAhmhLN6egZkAGAeJN8aBhQLW1ok8kIWZAQR1ix/z6akBfqKcWw1FpQBKainpdFmxAPTmB94UUdEBDLZpSm1V4QA==",
           "dtype": "f8"
          },
          "color": "rgba(0,0,0,0.4)",
          "thickness": 1.6,
          "type": "data",
          "visible": true
         },
         "legendgroup": "Gemini 2.5 Pro (ABBEL)",
         "line": {
          "color": "#32CD32",
          "width": 2
         },
         "mode": "lines+markers",
         "name": "Gemini 2.5 Pro ",
         "showlegend": true,
         "type": "scatter",
         "x": {
          "bdata": "AQIDBAUGBwgJCgsMDQ4PEBESExQ=",
          "dtype": "i1"
         },
         "xaxis": "x",
         "y": {
          "bdata": "MzMzM7NzlkCamZmZmR+fQAAAAACAUaNAmpmZmZnGpkBmZmZmpjSpQDMzMzMz2qpAzczMzExUq0DNzMzMDCasQDuxEzuxyaxAXkN5DeU2rUC0bjBFPuWrQHzvvffeG6xA4XoUrkd/rUCSJEmSJDmvQOh5nud5WKxApqWlpaVjrUBJkiRJkjSvQMVO7MRO9K5AAAAAAIAwqEAAAAAAgIexQA==",
          "dtype": "f8"
         },
         "yaxis": "y"
        },
        {
         "error_y": {
          "array": {
           "bdata": "U0pvNM8iLEAXWywQJNA0QEOJdcQRGkFAd6jGk2pVR0BsaY7ybpdOQKicgrBV0lRAv7521GU7WkD/bQpRCMZeQOhSgEXqQmJA8dPws6x1Z0BVKVvWT3FqQIvJmGBvwm5AApoRu3DDcECRd1mfBgJzQFklDbo2LXRAfqiMP/wodkAVSEFF9694QABejmjeSnhAHIJAo2tBekAkL+QVhX19QA==",
           "dtype": "f8"
          },
          "color": "rgba(100,100,100,0.3)",
          "thickness": 1.2,
          "type": "data",
          "visible": true
         },
         "legendgroup": "history",
         "line": {
          "color": "gray",
          "dash": "dot",
          "width": 2
         },
         "marker": {
          "color": "gray"
         },
         "mode": "lines+markers",
         "name": "History",
         "showlegend": false,
         "type": "scatter",
         "x": {
          "bdata": "AQIDBAUGBwgJCgsMDQ4PEBESExQ=",
          "dtype": "i1"
         },
         "xaxis": "x2",
         "y": {
          "bdata": "vLu7u7tPdkAAAAAAAAWIQJu1WZu15ZJANXiOQNEamkDsxE7shAehQKQdKxBGCKVAYQu2YAteqUATtStRu2+tQNXA3jE1sLBAAAAAAAArs0AIKme38FO1QFVVVVVVu7dAIU8J8pTMuUCuR+F6FMq7QApeTsHLpr1AVVVVVcXFv0BVVVVVtRPBQGJyBTE5x8FAuuiii+6swkA1SIM0yHrDQA==",
          "dtype": "f8"
         },
         "yaxis": "y2"
        },
        {
         "error_y": {
          "array": {
           "bdata": "omkwhOf7L0CTN9P9uys0QBSD/msQtjVADPW6wPz3P0DtE0iA1bhDQEQFzo25pkRAaahibTjgRUDSko7szohJQBJ6G4cdfkpAoNJbf0gLUkDuUYetVzZSQISD16naWVVAgMD0fwtLVEA6ziS/v9lSQCzdnEeHUVVAzmm5NqMXVkCYLIxXblVYQBWJWN26FFdAWHhff6HxW0AzGoJse8xZQA==",
           "dtype": "f8"
          },
          "color": "rgba(0,0,0,0.4)",
          "thickness": 1.6,
          "type": "data",
          "visible": true
         },
         "legendgroup": "Deepseek R1 (ABBEL)",
         "line": {
          "color": "#FF6347",
          "width": 2
         },
         "mode": "lines+markers",
         "name": "Deepseek R1 ",
         "showlegend": false,
         "type": "scatter",
         "x": {
          "bdata": "AQIDBAUGBwgJCgsMDQ4PEBESExQ=",
          "dtype": "i1"
         },
         "xaxis": "x2",
         "y": {
          "bdata": "MzMzMzNheEBmZmZmZruBQIqd2ImdwIRAN5gin3XzhkAAAAAAwKSJQFVVVVVVVYtA7+7u7u4mikBCewntJRyNQExoL6G9BI1ASOF6FK5fjUAWspCFLMSMQM3MzMzM1o5AAAAAAECAkECrqqqqqlaRQFVVVVVVLZJAq6qqqqoykUAiIiIiIpaRQHd3d3d3A5JAsRM7sRPHkUDpoosuuhCTQA==",
          "dtype": "f8"
         },
         "yaxis": "y2"
        },
        {
         "error_y": {
          "array": {
           "bdata": "UdFqHoUwMUAWelYcWdoyQAX89yiawzhA6NShn+uROkDTfngnI04/QB4W1Q416EBAgc8nBWXPQ0A3zTzCp0NFQMDVZdLKEklAAU62EYoSTUDbdmN0lZlQQI/oa+K13FRAmqq5mUNmVUBigoi7wqFaQNBdIHdZA1xA5JlhooDFXEAxhDyQK1BfQJZ4n9TPwWBAYzMf/8OjY0ArVcPPFGhkQA==",
           "dtype": "f8"
          },
          "color": "rgba(0,0,0,0.4)",
          "thickness": 1.6,
          "type": "data",
          "visible": true
         },
         "legendgroup": "Deepseek V3 (ABBEL)",
         "line": {
          "color": "#4682B4",
          "width": 2
         },
         "mode": "lines+markers",
         "name": "Deepseek V3 ",
         "showlegend": false,
         "type": "scatter",
         "x": {
          "bdata": "AQIDBAUGBwgJCgsMDQ4PEBESExQ=",
          "dtype": "i1"
         },
         "xaxis": "x2",
         "y": {
          "bdata": "ZmZmZmaKa0CamZmZmT91QAAAAAAAAnxAAAAAAADNgUDQusEU+SyFQAAAAAAAOYhAJUmSJEmIi0CY0F5Ce0mOQGIndmInoJBAntiJndi9kUC4HoXrUUCTQOF6FK5HIZRAAAAAAAAwlkCRhSxkId+WQFnIQhayOJhA3/SmN725mUDf9KY3vR2bQAtZyEIWapxA9aY3vemdnEDRRRdddAmfQA==",
          "dtype": "f8"
         },
         "yaxis": "y2"
        },
        {
         "error_y": {
          "array": {
           "bdata": "YCJ3M3rVJEA/bxd/xtUqQO4hCCGHHjBAo76fGvD6NUAyc0xVTNQ2QPAf02B5czpAdsPes2sSQECTN/X9uqBCQJyQeQO5ykJAdnN4PgwXQkBYCjVOyCJCQOYEMU9XdExAYjZbvBxPSEBGzy5R3yVIQOTNIDXy6VFAoSbDjkRiWUAucTqmdrZaQBSmoV66elxAaI28vDJNVkCNRozvR05bQA==",
           "dtype": "f8"
          },
          "color": "rgba(0,0,0,0.4)",
          "thickness": 1.6,
          "type": "data",
          "visible": true
         },
         "legendgroup": "Gemini 2.5 Pro (ABBEL)",
         "line": {
          "color": "#32CD32",
          "width": 2
         },
         "mode": "lines+markers",
         "name": "Gemini 2.5 Pro ",
         "showlegend": false,
         "type": "scatter",
         "x": {
          "bdata": "AQIDBAUGBwgJCgsMDQ4PEBESExQ=",
          "dtype": "i1"
         },
         "xaxis": "x2",
         "y": {
          "bdata": "mpmZmZmLdkCamZmZmdN9QMprKK+hTIJAymsor6Gkg0AAAAAAAMiEQJNNNtlk44VAAAAAAMCyh0Bu27Zt22SIQAAAAAAA3IhAVVVVVVV1iUCU11BeQ1mKQOQ4juM4jopAmpmZmZkpikCrqqqqqsSKQHTRRRddrItAAAAAAADgjECamZmZmR2NQMdxHMdxZItAAAAAAAC4iECrqqqqqnaIQA==",
          "dtype": "f8"
         },
         "yaxis": "y2"
        },
        {
         "error_y": {
          "array": {
           "bdata": "nxemR2bq+z9Sq3bfhB0HQBFMNZzgxQ5AmSa8HJSnFEChvIGVhrkZQKgRJkEHnh9A3GBj63XaIkC380oe40clQEZ8hETQFShAkIVC6veSK0C98rUBTgcvQJSlopW7KDFA9JUgPExdNEDsMktJUhc2QBogwolNODhAJpNRP28vO0C+mBPbWpE9QHU/8GlIN0BA+K2BLnvEQUC8KfhiZMxDQA==",
           "dtype": "f8"
          },
          "color": "rgba(100,100,100,0.3)",
          "thickness": 1.2,
          "type": "data",
          "visible": true
         },
         "legendgroup": "history",
         "line": {
          "color": "gray",
          "dash": "dot",
          "width": 2
         },
         "marker": {
          "color": "gray"
         },
         "mode": "lines+markers",
         "name": "History",
         "showlegend": false,
         "type": "scatter",
         "x": {
          "bdata": "AQIDBAUGBwgJCgsMDQ4PEBESExQ=",
          "dtype": "i1"
         },
         "xaxis": "x3",
         "y": {
          "bdata": "zczMzMykW0AiIiIiIm5sQFVVVVVVs3VA0Rms0BlMfUA+9WI+9XqCQLM2a7M2a4ZAGPfrkspfikAvqXwY90OOQEQCbz8kEJFADqkJxlsnk0BMOjUPckOVQFyPwvUoTJdA7bLLLrt0mUCjMiqjMo6bQJytQ7/Ztp1Afu0hlxXTn0BmZmZmpvKgQDaU11BeDKJAFK5H4Xogo0AAAAAAwEWkQA==",
          "dtype": "f8"
         },
         "yaxis": "y3"
        },
        {
         "error_y": {
          "array": {
           "bdata": "0cu5bHGdLEDSdz1Erys3QEgR+w7O+DpAcDYwNmNVPkCjl/pg1GVAQKava8OoskBAE1fkUpv6QECHlL6DlUNCQAytVZp/uUFAVb4TnjrTQ0DbwTK7+tJAQAmU9lcvyEBAKscBC9h7QkD4V5JypiRDQGjS/D08w0RA+Tcb5EbjREBiUDeWKfxDQKLZuSeOA0lAMBI+XlMaUECCCCA3fBtJQA==",
           "dtype": "f8"
          },
          "color": "rgba(0,0,0,0.4)",
          "thickness": 1.6,
          "type": "data",
          "visible": true
         },
         "legendgroup": "Deepseek R1 (ABBEL)",
         "line": {
          "color": "#FF6347",
          "width": 2
         },
         "mode": "lines+markers",
         "name": "Deepseek R1 ",
         "showlegend": false,
         "type": "scatter",
         "x": {
          "bdata": "AQIDBAUGBwgJCgsMDQ4PEBESExQ=",
          "dtype": "i1"
         },
         "xaxis": "x3",
         "y": {
          "bdata": "AAAAAAA6cEDNzMzMzEp7QM3MzMzMHIJAAAAAAAC7hkBmZmZmZtqIQAAAAAAAPYpAMzMzMzNVi0BmZmZmZlSMQGmQBmmQBo1AQ3kN5TV8jUDkOI7jOEaNQF/xFV/x9Y1AAAAAAAAIjUB4eHh4eICOQMIHH3zwEY5AU0oppZRijkCfRljuaQSPQJIkSZIkbY9AAAAAAABskECPwvUoXJORQA==",
          "dtype": "f8"
         },
         "yaxis": "y3"
        },
        {
         "error_y": {
          "array": {
           "bdata": "qEc+OefpKkC1/dVcHD0wQLIVhi+OhTFAozLk5ijJL0AFrD4KRUY0QKXVv1txfjVAd/xwHb/jOEDps1kWwj85QJ0xYqCmAT9ASud4mSN3QEBNpOyC/6ZAQLb4Wk/1t0BAYW+3qmd7Q0B787sIjJxFQJcdN8TRjkZAWGSXAo6kRkA1zlSjpk1KQKtPzwmJlkpAlmYi5cqETUB/DK9FbNlPQA==",
           "dtype": "f8"
          },
          "color": "rgba(0,0,0,0.4)",
          "thickness": 1.6,
          "type": "data",
          "visible": true
         },
         "legendgroup": "Deepseek V3 (ABBEL)",
         "line": {
          "color": "#4682B4",
          "width": 2
         },
         "mode": "lines+markers",
         "name": "Deepseek V3 ",
         "showlegend": false,
         "type": "scatter",
         "x": {
          "bdata": "AQIDBAUGBwgJCgsMDQ4PEBESExQ=",
          "dtype": "i1"
         },
         "xaxis": "x3",
         "y": {
          "bdata": "mpmZmZmJX0AAAAAAAOhlQDMzMzMz42tAzczMzMwgb0AzMzMzM6lyQMVO7MRODHZAAAAAAAAweUDFTuzETpx6QFFeQ3kNZX1AX/EVX/EtgEDT0tLS0kqBQA8PDw8PM4JApZRSSimVhEB0zjnnnNuFQO/u7u7u6oZAwnJPIyxHiEAJyz2NsHSIQLSX0F5CO4tAtJfQXkK7jECO4ziO4xiOQA==",
          "dtype": "f8"
         },
         "yaxis": "y3"
        },
        {
         "error_y": {
          "array": {
           "bdata": "j+euH4KAOUBzQcfq8ftAQMmH5swGAERA70X6vxN1R0CMSpDgj4ZJQCjknq0V805AuZNE3yLHT0DB7GpGjXtRQHnQ12HXblZAWqnIQkBuV0CCoDYohb5XQNMTW4lf11pAIvo6EZu1XUBueQc0cupbQLWXRIzn4lxA1e5Yjv5xYUCeDoEDN+VgQGjLyZo1a2FAOZuwk1EkXkA3znF3ko1gQA==",
           "dtype": "f8"
          },
          "color": "rgba(0,0,0,0.4)",
          "thickness": 1.6,
          "type": "data",
          "visible": true
         },
         "legendgroup": "Gemini 2.5 Pro (ABBEL)",
         "line": {
          "color": "#32CD32",
          "width": 2
         },
         "mode": "lines+markers",
         "name": "Gemini 2.5 Pro ",
         "showlegend": false,
         "type": "scatter",
         "x": {
          "bdata": "AQIDBAUGBwgJCgsMDQ4PEBESExQ=",
          "dtype": "i1"
         },
         "xaxis": "x3",
         "y": {
          "bdata": "zczMzMwrgEAzMzMzM9aGQJqZmZmZa4xAvuVbvuVjkEDmW77lW/KRQCivobyGipNAx3Ecx3GBlUDkOI7jOAyXQMdxHMdxpphATjbZZJMxmkB0zjnnnM+aQM4555xzrppAE9pLaC/BnkBP7MRO7PCeQKuqqqrqEqBAC1nIQhZ8oEAXXXTRRQSiQMMwDMMwbKJAkiRJkiSdo0AAAAAAANugQA==",
          "dtype": "f8"
         },
         "yaxis": "y3"
        },
        {
         "error_y": {
          "array": {
           "bdata": "s61MD11HHEBtF5GzX74yQK7rvTe2cj9AU3PxkSQ9QkDAGhRyQ99FQAsYJBygBkpAoM+yv36hTUA8vec2DmVRQOcheUnchlNAYWNJOSvIVUBVeJO3uXJZQLiApTMRa11AvxReKY5TYEC6yF36OKNhQGBXoNCHXWRAPj/zHTe4ZUCkhsIcDPVjQF/4er0vKGRAKo1ZySSzZUAKxyfZvQtnQA==",
           "dtype": "f8"
          },
          "color": "rgba(100,100,100,0.3)",
          "thickness": 1.2,
          "type": "data",
          "visible": true
         },
         "legendgroup": "history",
         "line": {
          "color": "gray",
          "dash": "dot",
          "width": 2
         },
         "marker": {
          "color": "gray"
         },
         "mode": "lines+markers",
         "name": "History",
         "showlegend": false,
         "type": "scatter",
         "x": {
          "bdata": "AQIDBAUGBwgJCgsMDQ4PEBESExQ=",
          "dtype": "i1"
         },
         "xaxis": "x4",
         "y": {
          "bdata": "d3d3d3ePbEC8u7u7u8t/QKuqqqqqT4lAm7VZm7X1kEAAAAAAALGVQE/Ng9z165lAQV/QF/TnnUAAAAAAAAChQLy7u7s7W6NAlNdQXkMxpUDhehSuR02nQPYoXI/CpalACl5Owcvbq0AhC1nIQsWtQEYXXXSRCbBANmVNWVMqsUAYhmEYhtOxQJAGaZAGcLJAI591gyl0s0D5rBtMkVi0QA==",
          "dtype": "f8"
         },
         "yaxis": "y4"
        },
        {
         "error_y": {
          "array": {
           "bdata": "jRCldXn2MkCcRSUwrvQwQNVFzJG/pzdAFAJTjPT6QECEweiMCD9BQHyDM7etCkdAkk+bnRBAUECfQBDTCclPQN8Dz7rRxlFAVfktO4+oT0BZthG4KKBTQMy7415h11FAnPluArp0VUBDqqINO/pUQGymIn2J41BACJKpnqFhT0A2d02IxdRLQFCe6FpPY1FA074OGZVwUUDjQWhCNCpQQA==",
           "dtype": "f8"
          },
          "color": "rgba(0,0,0,0.4)",
          "thickness": 1.6,
          "type": "data",
          "visible": true
         },
         "legendgroup": "Deepseek R1 (ABBEL)",
         "line": {
          "color": "#FF6347",
          "width": 2
         },
         "mode": "lines+markers",
         "name": "Deepseek R1 ",
         "showlegend": false,
         "type": "scatter",
         "x": {
          "bdata": "AQIDBAUGBwgJCgsMDQ4PEBESExQ=",
          "dtype": "i1"
         },
         "xaxis": "x4",
         "y": {
          "bdata": "zczMzMy0ekBmZmZmZhOHQJqZmZmZrItAzczMzMxEjUDrBlPkszaPQMdxHMdxFJBAmpmZmZm/kEBVVVVV1bqRQJqZmZmZ95NAQ3kN5TVclEBDeQ3lNQiWQL2G8hrKE5ZAvYbyGspjlUA5juM4jhWVQKuqqqqqnJVAchzHcRzNlUCrqqqqqmiWQI7jOI7jzJVAjuM4juO+lUBVVVVVVTGWQA==",
          "dtype": "f8"
         },
         "yaxis": "y4"
        },
        {
         "error_y": {
          "array": {
           "bdata": "E4J4+a7pLkDHkfGcgtI2QAzs3E43CztA481Jyh7NPUAf010bprdDQAF4vD4G1ERAM0FZo5+sRkCl1lb1/S9MQB2wjTVEWlBAkOv2/WCTVkAkd5oteWZXQO0VI8OMY1hAEuYoeTwbXEACqV1bW6BbQOL2GtNLlltARS7M5Zg9XkAPHevBw6RfQGCsHNXnLGBAKBazvFe/XED55g2jYFNhQA==",
           "dtype": "f8"
          },
          "color": "rgba(0,0,0,0.4)",
          "thickness": 1.6,
          "type": "data",
          "visible": true
         },
         "legendgroup": "Deepseek V3 (ABBEL)",
         "line": {
          "color": "#4682B4",
          "width": 2
         },
         "mode": "lines+markers",
         "name": "Deepseek V3 ",
         "showlegend": false,
         "type": "scatter",
         "x": {
          "bdata": "AQIDBAUGBwgJCgsMDQ4PEBESExQ=",
          "dtype": "i1"
         },
         "xaxis": "x4",
         "y": {
          "bdata": "MzMzMzNLb0DNzMzMzFB5QJqZmZmZDIJA8xrKayhzhEBddNFFFz2HQImIiIiITIpASZIkSZLmi0AUrkfhegyNQMdxHMdxQJFAAAAAAAA4kEBiJ3ZiJ7KTQBQ7sRM7bZNAYid2YifWk0BVVVVVVcuVQFVVVVVVypVAq6qqqqrDlkAAAAAAAGiWQAAAAAAA3ZZAXXTRRRf1mEC66KKLLtKXQA==",
          "dtype": "f8"
         },
         "yaxis": "y4"
        },
        {
         "error_y": {
          "array": {
           "bdata": "SSEYMOMyQED9mDGuCJZIQH4VWGLlDE1ArLVRmliRUUBs1YSALVxUQGvoMSHpsVdA8KtxnPHiX0ByugM1+1VgQKaTTxh3/GFAgVgtuYnfYUBxWrxeh2RgQJSXE8da8FpA1yjfTibkYEBGtxzFsMNoQFND8JgqC2dA/hMQ+2XLbUC0PCBBuhV0QIMspLQVnXNAl3FLogcgc0CE4TxQVER5QA==",
           "dtype": "f8"
          },
          "color": "rgba(0,0,0,0.4)",
          "thickness": 1.6,
          "type": "data",
          "visible": true
         },
         "legendgroup": "Gemini 2.5 Pro (ABBEL)",
         "line": {
          "color": "#32CD32",
          "width": 2
         },
         "mode": "lines+markers",
         "name": "Gemini 2.5 Pro ",
         "showlegend": false,
         "type": "scatter",
         "x": {
          "bdata": "AQIDBAUGBwgJCgsMDQ4PEBESExQ=",
          "dtype": "i1"
         },
         "xaxis": "x4",
         "y": {
          "bdata": "ZmZmZmZthUCamZmZGeyQQJqZmZmZaZVAxU7sxE6omECvobyG8k6aQLD4iq/4ZppAJUmSJEmYnkBcj8L1KG6gQAAAAAAADqJAmpmZmRlGokCO4ziO4+yjQAAAAAAAP6RAAAAAAADipEAAAAAAAKWlQJIkSZIkX6dAO7ETO7FvqECrqqqqKs6nQFVVVVVVb6pAAAAAAEDPq0AAAAAAgF2oQA==",
          "dtype": "f8"
         },
         "yaxis": "y4"
        },
        {
         "error_y": {
          "array": {
           "bdata": "B4JWxw+RBkDmfny2mhYbQHXxAHrymiZAS5LDDsJiLkDpVyzzQV01QB7QWtQHSENA",
           "dtype": "f8"
          },
          "color": "rgba(100,100,100,0.3)",
          "thickness": 1.2,
          "type": "data",
          "visible": true
         },
         "legendgroup": "history",
         "line": {
          "color": "gray",
          "dash": "dot",
          "width": 2
         },
         "marker": {
          "color": "gray"
         },
         "mode": "lines+markers",
         "name": "History",
         "showlegend": false,
         "type": "scatter",
         "x": {
          "bdata": "AQIDBAUG",
          "dtype": "i1"
         },
         "xaxis": "x5",
         "y": {
          "bdata": "mpmZmZlJhEDe3d3dXYmUQBKWexphvJ5A16NwPYpzpECMJb9Y8q+pQNmJndgJgq9A",
          "dtype": "f8"
         },
         "yaxis": "y5"
        },
        {
         "error_y": {
          "array": {
           "bdata": "waqFT4gLMkARHr7/NMNrQNVRfepx3DRAhYsZntmhOEBicwBZCH85QBIQgKfSVENA",
           "dtype": "f8"
          },
          "color": "rgba(0,0,0,0.4)",
          "thickness": 1.6,
          "type": "data",
          "visible": true
         },
         "legendgroup": "Deepseek R1 (ABBEL)",
         "line": {
          "color": "#FF6347",
          "width": 2
         },
         "mode": "lines+markers",
         "name": "Deepseek R1 ",
         "showlegend": false,
         "type": "scatter",
         "x": {
          "bdata": "AQIDBAUG",
          "dtype": "i1"
         },
         "xaxis": "x5",
         "y": {
          "bdata": "MzMzMzObb0BmZmZmZmGBQOU1lNdQvnRAJUmSJEkqdEAAAAAAAKJ0QJIkSZIkOXZA",
          "dtype": "f8"
         },
         "yaxis": "y5"
        },
        {
         "error_y": {
          "array": {
           "bdata": "DY4ap+7RI0CJ+cfXBYUpQCTZj8PEiydANIEnE2LRKUCUHDL0PQIyQHVd7rh1AktA",
           "dtype": "f8"
          },
          "color": "rgba(0,0,0,0.4)",
          "thickness": 1.6,
          "type": "data",
          "visible": true
         },
         "legendgroup": "Deepseek V3 (ABBEL)",
         "line": {
          "color": "#4682B4",
          "width": 2
         },
         "mode": "lines+markers",
         "name": "Deepseek V3 ",
         "showlegend": false,
         "type": "scatter",
         "x": {
          "bdata": "AQIDBAUG",
          "dtype": "i1"
         },
         "xaxis": "x5",
         "y": {
          "bdata": "AAAAAADsaEAzMzMzMzdwQJqZmZmZo3FAAAAAAADAckDzGsprKAd1QNu2bdu2XXhA",
          "dtype": "f8"
         },
         "yaxis": "y5"
        },
        {
         "error_y": {
          "array": {
           "bdata": "uA5bLmDuKkCe/DY+LvMwQPF0QJUUqjVArHlEyXBZQEBNygymEM9GQL8bxs6WIFFA",
           "dtype": "f8"
          },
          "color": "rgba(0,0,0,0.4)",
          "thickness": 1.6,
          "type": "data",
          "visible": true
         },
         "legendgroup": "Gemini 2.5 Pro (ABBEL)",
         "line": {
          "color": "#32CD32",
          "width": 2
         },
         "mode": "lines+markers",
         "name": "Gemini 2.5 Pro ",
         "showlegend": false,
         "type": "scatter",
         "x": {
          "bdata": "AQIDBAUG",
          "dtype": "i1"
         },
         "xaxis": "x5",
         "y": {
          "bdata": "mpmZmZk7cEDNzMzMzMhyQL2G8hrKa3NAAAAAAABLdECSJEmSJDlzQAAAAAAAkHpA",
          "dtype": "f8"
         },
         "yaxis": "y5"
        },
        {
         "error_y": {
          "array": {
           "bdata": "AAAAAAAAAAAAAAAAAAAAAAAAAAAAAAAAPha7k2ehIEBjY18OLe0oQHAZ23yutjJA85iB/JjDNUCMaJp4FcUtQDoCes+7bzJADj2OpeXbKUD1RMGsbxwlQLmaW6chmjFA",
           "dtype": "f8"
          },
          "color": "rgba(100,100,100,0.3)",
          "thickness": 1.2,
          "type": "data",
          "visible": true
         },
         "legendgroup": "history",
         "line": {
          "color": "gray",
          "dash": "dot",
          "width": 2
         },
         "marker": {
          "color": "gray"
         },
         "mode": "lines+markers",
         "name": "History",
         "showlegend": false,
         "type": "scatter",
         "x": {
          "bdata": "AQIDBAUGBwgJCgsM",
          "dtype": "i1"
         },
         "xaxis": "x6",
         "y": {
          "bdata": "AAAAAACIjEAAAAAAAIicQAAAAAAAZqVAMzMzM/NqrEAUO7ETO7OxQLlQcxKIGLVAoaMCX1yYuEAMzsfg/GW8QJ7YiZ1Y5r9AjuM4jrPJwUBQB3VQB5bDQNAo8TPKUcVA",
          "dtype": "f8"
         },
         "yaxis": "y6"
        },
        {
         "error_y": {
          "array": {
           "bdata": "Ig+KxHZfOUA6H7LMvvpFQP85CokMyEZAPDV0Sw2SS0C40Gixut5LQAhZW5yOPktAqBmLvmHNS0ABbi5RodpIQL+ydb/pZktA8J51IxzgRkC+bQHnWGFEQKUvI3LUxE1A",
           "dtype": "f8"
          },
          "color": "rgba(0,0,0,0.4)",
          "thickness": 1.6,
          "type": "data",
          "visible": true
         },
         "legendgroup": "Deepseek R1 (ABBEL)",
         "line": {
          "color": "#FF6347",
          "width": 2
         },
         "mode": "lines+markers",
         "name": "Deepseek R1 ",
         "showlegend": false,
         "type": "scatter",
         "x": {
          "bdata": "AQIDBAUGBwgJCgsM",
          "dtype": "i1"
         },
         "xaxis": "x6",
         "y": {
          "bdata": "mpmZmZkJd0DNzMzMzLeDQDMzMzMzvoVAZmZmZmaQhUAndmIndjKGQMVO7MRO3IVApqWlpaUViEDwwQcffPCIQHTRRRddHIRAIyz3NMKKhEC3bdu2bR+DQMdxHMdxzIVA",
          "dtype": "f8"
         },
         "yaxis": "y6"
        },
        {
         "error_y": {
          "array": {
           "bdata": "8bfH2pDPLUCzadOJjFhAQOyGUhbMPVBA8U+cJ3iuUUBkLf6LH7ZPQPG94V2jnjZAvVfF3yI6PUDDpnoKLLU0QIMNVx6gHVlAdhZKLlVsQEDg+MlfNEU5QEcphvyFtz1A",
           "dtype": "f8"
          },
          "color": "rgba(0,0,0,0.4)",
          "thickness": 1.6,
          "type": "data",
          "visible": true
         },
         "legendgroup": "Deepseek V3 (ABBEL)",
         "line": {
          "color": "#4682B4",
          "width": 2
         },
         "mode": "lines+markers",
         "name": "Deepseek V3 ",
         "showlegend": false,
         "type": "scatter",
         "x": {
          "bdata": "AQIDBAUGBwgJCgsM",
          "dtype": "i1"
         },
         "xaxis": "x6",
         "y": {
          "bdata": "MzMzMzNRdEAzMzMzM1F/QGZmZmZm44JAzczMzMwmhECamZmZmfeBQM3MzMzMoHxAmpmZmZl7e0AAAAAAAOB6QJqZmZmZwYBAmpmZmZm/e0DNzMzMzCJ8QDMzMzMzbXxA",
          "dtype": "f8"
         },
         "yaxis": "y6"
        },
        {
         "error_y": {
          "array": {
           "bdata": "kvI+jXsnUEBbxX6yyAZVQOyI+ZVX/1lA0Da85F7AWkBgXQo2UTZhQPo2jr/96GJAFcIAvgWVZEBhUuAmFIlzQEEsRr4x8nhAf4x+f4MFgUAAAAAAAMCBQAAAAAAAuIlA",
           "dtype": "f8"
          },
          "color": "rgba(0,0,0,0.4)",
          "thickness": 1.6,
          "type": "data",
          "visible": true
         },
         "legendgroup": "Gemini 2.5 Pro (ABBEL)",
         "line": {
          "color": "#32CD32",
          "width": 2
         },
         "mode": "lines+markers",
         "name": "Gemini 2.5 Pro ",
         "showlegend": false,
         "type": "scatter",
         "x": {
          "bdata": "AQIDBAUGBwgJCgsM",
          "dtype": "i1"
         },
         "xaxis": "x6",
         "y": {
          "bdata": "AAAAAAD2i0AzMzMzMwKYQJqZmZlZZaBAMzMzMzOkokA2lNdQXm+hQAAAAAAg4p5ATm9605tml0DkOI7jOHabQDMzMzMzNaNAAAAAAAA8pUAAAAAAALKkQAAAAAAAIJxA",
          "dtype": "f8"
         },
         "yaxis": "y6"
        }
       ],
       "layout": {
        "annotations": [
         {
          "font": {
           "size": 16
          },
          "showarrow": false,
          "text": "Murder Mystery",
          "x": 0.06944444444444445,
          "xanchor": "center",
          "xref": "paper",
          "y": 1,
          "yanchor": "bottom",
          "yref": "paper"
         },
         {
          "font": {
           "size": 16
          },
          "showarrow": false,
          "text": "Customer Service",
          "x": 0.24166666666666667,
          "xanchor": "center",
          "xref": "paper",
          "y": 1,
          "yanchor": "bottom",
          "yref": "paper"
         },
         {
          "font": {
           "size": 16
          },
          "showarrow": false,
          "text": "Twenty Questions",
          "x": 0.41388888888888886,
          "xanchor": "center",
          "xref": "paper",
          "y": 1,
          "yanchor": "bottom",
          "yref": "paper"
         },
         {
          "font": {
           "size": 16
          },
          "showarrow": false,
          "text": "Guess my City",
          "x": 0.5861111111111112,
          "xanchor": "center",
          "xref": "paper",
          "y": 1,
          "yanchor": "bottom",
          "yref": "paper"
         },
         {
          "font": {
           "size": 16
          },
          "showarrow": false,
          "text": "Wordle",
          "x": 0.7583333333333333,
          "xanchor": "center",
          "xref": "paper",
          "y": 1,
          "yanchor": "bottom",
          "yref": "paper"
         },
         {
          "font": {
           "size": 16
          },
          "showarrow": false,
          "text": "Mastermind",
          "x": 0.9305555555555556,
          "xanchor": "center",
          "xref": "paper",
          "y": 1,
          "yanchor": "bottom",
          "yref": "paper"
         }
        ],
        "font": {
         "family": "Times New Roman, serif",
         "size": 14
        },
        "height": 400,
        "legend": {
         "bgcolor": "rgba(255,255,255,0.9)",
         "bordercolor": "black",
         "borderwidth": 1,
         "orientation": "h",
         "x": 0.5,
         "xanchor": "center",
         "y": 1.1,
         "yanchor": "bottom"
        },
        "paper_bgcolor": "white",
        "plot_bgcolor": "white",
        "template": {
         "data": {
          "bar": [
           {
            "error_x": {
             "color": "#2a3f5f"
            },
            "error_y": {
             "color": "#2a3f5f"
            },
            "marker": {
             "line": {
              "color": "#E5ECF6",
              "width": 0.5
             },
             "pattern": {
              "fillmode": "overlay",
              "size": 10,
              "solidity": 0.2
             }
            },
            "type": "bar"
           }
          ],
          "barpolar": [
           {
            "marker": {
             "line": {
              "color": "#E5ECF6",
              "width": 0.5
             },
             "pattern": {
              "fillmode": "overlay",
              "size": 10,
              "solidity": 0.2
             }
            },
            "type": "barpolar"
           }
          ],
          "carpet": [
           {
            "aaxis": {
             "endlinecolor": "#2a3f5f",
             "gridcolor": "white",
             "linecolor": "white",
             "minorgridcolor": "white",
             "startlinecolor": "#2a3f5f"
            },
            "baxis": {
             "endlinecolor": "#2a3f5f",
             "gridcolor": "white",
             "linecolor": "white",
             "minorgridcolor": "white",
             "startlinecolor": "#2a3f5f"
            },
            "type": "carpet"
           }
          ],
          "choropleth": [
           {
            "colorbar": {
             "outlinewidth": 0,
             "ticks": ""
            },
            "type": "choropleth"
           }
          ],
          "contour": [
           {
            "colorbar": {
             "outlinewidth": 0,
             "ticks": ""
            },
            "colorscale": [
             [
              0,
              "#0d0887"
             ],
             [
              0.1111111111111111,
              "#46039f"
             ],
             [
              0.2222222222222222,
              "#7201a8"
             ],
             [
              0.3333333333333333,
              "#9c179e"
             ],
             [
              0.4444444444444444,
              "#bd3786"
             ],
             [
              0.5555555555555556,
              "#d8576b"
             ],
             [
              0.6666666666666666,
              "#ed7953"
             ],
             [
              0.7777777777777778,
              "#fb9f3a"
             ],
             [
              0.8888888888888888,
              "#fdca26"
             ],
             [
              1,
              "#f0f921"
             ]
            ],
            "type": "contour"
           }
          ],
          "contourcarpet": [
           {
            "colorbar": {
             "outlinewidth": 0,
             "ticks": ""
            },
            "type": "contourcarpet"
           }
          ],
          "heatmap": [
           {
            "colorbar": {
             "outlinewidth": 0,
             "ticks": ""
            },
            "colorscale": [
             [
              0,
              "#0d0887"
             ],
             [
              0.1111111111111111,
              "#46039f"
             ],
             [
              0.2222222222222222,
              "#7201a8"
             ],
             [
              0.3333333333333333,
              "#9c179e"
             ],
             [
              0.4444444444444444,
              "#bd3786"
             ],
             [
              0.5555555555555556,
              "#d8576b"
             ],
             [
              0.6666666666666666,
              "#ed7953"
             ],
             [
              0.7777777777777778,
              "#fb9f3a"
             ],
             [
              0.8888888888888888,
              "#fdca26"
             ],
             [
              1,
              "#f0f921"
             ]
            ],
            "type": "heatmap"
           }
          ],
          "histogram": [
           {
            "marker": {
             "pattern": {
              "fillmode": "overlay",
              "size": 10,
              "solidity": 0.2
             }
            },
            "type": "histogram"
           }
          ],
          "histogram2d": [
           {
            "colorbar": {
             "outlinewidth": 0,
             "ticks": ""
            },
            "colorscale": [
             [
              0,
              "#0d0887"
             ],
             [
              0.1111111111111111,
              "#46039f"
             ],
             [
              0.2222222222222222,
              "#7201a8"
             ],
             [
              0.3333333333333333,
              "#9c179e"
             ],
             [
              0.4444444444444444,
              "#bd3786"
             ],
             [
              0.5555555555555556,
              "#d8576b"
             ],
             [
              0.6666666666666666,
              "#ed7953"
             ],
             [
              0.7777777777777778,
              "#fb9f3a"
             ],
             [
              0.8888888888888888,
              "#fdca26"
             ],
             [
              1,
              "#f0f921"
             ]
            ],
            "type": "histogram2d"
           }
          ],
          "histogram2dcontour": [
           {
            "colorbar": {
             "outlinewidth": 0,
             "ticks": ""
            },
            "colorscale": [
             [
              0,
              "#0d0887"
             ],
             [
              0.1111111111111111,
              "#46039f"
             ],
             [
              0.2222222222222222,
              "#7201a8"
             ],
             [
              0.3333333333333333,
              "#9c179e"
             ],
             [
              0.4444444444444444,
              "#bd3786"
             ],
             [
              0.5555555555555556,
              "#d8576b"
             ],
             [
              0.6666666666666666,
              "#ed7953"
             ],
             [
              0.7777777777777778,
              "#fb9f3a"
             ],
             [
              0.8888888888888888,
              "#fdca26"
             ],
             [
              1,
              "#f0f921"
             ]
            ],
            "type": "histogram2dcontour"
           }
          ],
          "mesh3d": [
           {
            "colorbar": {
             "outlinewidth": 0,
             "ticks": ""
            },
            "type": "mesh3d"
           }
          ],
          "parcoords": [
           {
            "line": {
             "colorbar": {
              "outlinewidth": 0,
              "ticks": ""
             }
            },
            "type": "parcoords"
           }
          ],
          "pie": [
           {
            "automargin": true,
            "type": "pie"
           }
          ],
          "scatter": [
           {
            "fillpattern": {
             "fillmode": "overlay",
             "size": 10,
             "solidity": 0.2
            },
            "type": "scatter"
           }
          ],
          "scatter3d": [
           {
            "line": {
             "colorbar": {
              "outlinewidth": 0,
              "ticks": ""
             }
            },
            "marker": {
             "colorbar": {
              "outlinewidth": 0,
              "ticks": ""
             }
            },
            "type": "scatter3d"
           }
          ],
          "scattercarpet": [
           {
            "marker": {
             "colorbar": {
              "outlinewidth": 0,
              "ticks": ""
             }
            },
            "type": "scattercarpet"
           }
          ],
          "scattergeo": [
           {
            "marker": {
             "colorbar": {
              "outlinewidth": 0,
              "ticks": ""
             }
            },
            "type": "scattergeo"
           }
          ],
          "scattergl": [
           {
            "marker": {
             "colorbar": {
              "outlinewidth": 0,
              "ticks": ""
             }
            },
            "type": "scattergl"
           }
          ],
          "scattermap": [
           {
            "marker": {
             "colorbar": {
              "outlinewidth": 0,
              "ticks": ""
             }
            },
            "type": "scattermap"
           }
          ],
          "scattermapbox": [
           {
            "marker": {
             "colorbar": {
              "outlinewidth": 0,
              "ticks": ""
             }
            },
            "type": "scattermapbox"
           }
          ],
          "scatterpolar": [
           {
            "marker": {
             "colorbar": {
              "outlinewidth": 0,
              "ticks": ""
             }
            },
            "type": "scatterpolar"
           }
          ],
          "scatterpolargl": [
           {
            "marker": {
             "colorbar": {
              "outlinewidth": 0,
              "ticks": ""
             }
            },
            "type": "scatterpolargl"
           }
          ],
          "scatterternary": [
           {
            "marker": {
             "colorbar": {
              "outlinewidth": 0,
              "ticks": ""
             }
            },
            "type": "scatterternary"
           }
          ],
          "surface": [
           {
            "colorbar": {
             "outlinewidth": 0,
             "ticks": ""
            },
            "colorscale": [
             [
              0,
              "#0d0887"
             ],
             [
              0.1111111111111111,
              "#46039f"
             ],
             [
              0.2222222222222222,
              "#7201a8"
             ],
             [
              0.3333333333333333,
              "#9c179e"
             ],
             [
              0.4444444444444444,
              "#bd3786"
             ],
             [
              0.5555555555555556,
              "#d8576b"
             ],
             [
              0.6666666666666666,
              "#ed7953"
             ],
             [
              0.7777777777777778,
              "#fb9f3a"
             ],
             [
              0.8888888888888888,
              "#fdca26"
             ],
             [
              1,
              "#f0f921"
             ]
            ],
            "type": "surface"
           }
          ],
          "table": [
           {
            "cells": {
             "fill": {
              "color": "#EBF0F8"
             },
             "line": {
              "color": "white"
             }
            },
            "header": {
             "fill": {
              "color": "#C8D4E3"
             },
             "line": {
              "color": "white"
             }
            },
            "type": "table"
           }
          ]
         },
         "layout": {
          "annotationdefaults": {
           "arrowcolor": "#2a3f5f",
           "arrowhead": 0,
           "arrowwidth": 1
          },
          "autotypenumbers": "strict",
          "coloraxis": {
           "colorbar": {
            "outlinewidth": 0,
            "ticks": ""
           }
          },
          "colorscale": {
           "diverging": [
            [
             0,
             "#8e0152"
            ],
            [
             0.1,
             "#c51b7d"
            ],
            [
             0.2,
             "#de77ae"
            ],
            [
             0.3,
             "#f1b6da"
            ],
            [
             0.4,
             "#fde0ef"
            ],
            [
             0.5,
             "#f7f7f7"
            ],
            [
             0.6,
             "#e6f5d0"
            ],
            [
             0.7,
             "#b8e186"
            ],
            [
             0.8,
             "#7fbc41"
            ],
            [
             0.9,
             "#4d9221"
            ],
            [
             1,
             "#276419"
            ]
           ],
           "sequential": [
            [
             0,
             "#0d0887"
            ],
            [
             0.1111111111111111,
             "#46039f"
            ],
            [
             0.2222222222222222,
             "#7201a8"
            ],
            [
             0.3333333333333333,
             "#9c179e"
            ],
            [
             0.4444444444444444,
             "#bd3786"
            ],
            [
             0.5555555555555556,
             "#d8576b"
            ],
            [
             0.6666666666666666,
             "#ed7953"
            ],
            [
             0.7777777777777778,
             "#fb9f3a"
            ],
            [
             0.8888888888888888,
             "#fdca26"
            ],
            [
             1,
             "#f0f921"
            ]
           ],
           "sequentialminus": [
            [
             0,
             "#0d0887"
            ],
            [
             0.1111111111111111,
             "#46039f"
            ],
            [
             0.2222222222222222,
             "#7201a8"
            ],
            [
             0.3333333333333333,
             "#9c179e"
            ],
            [
             0.4444444444444444,
             "#bd3786"
            ],
            [
             0.5555555555555556,
             "#d8576b"
            ],
            [
             0.6666666666666666,
             "#ed7953"
            ],
            [
             0.7777777777777778,
             "#fb9f3a"
            ],
            [
             0.8888888888888888,
             "#fdca26"
            ],
            [
             1,
             "#f0f921"
            ]
           ]
          },
          "colorway": [
           "#636efa",
           "#EF553B",
           "#00cc96",
           "#ab63fa",
           "#FFA15A",
           "#19d3f3",
           "#FF6692",
           "#B6E880",
           "#FF97FF",
           "#FECB52"
          ],
          "font": {
           "color": "#2a3f5f"
          },
          "geo": {
           "bgcolor": "white",
           "lakecolor": "white",
           "landcolor": "#E5ECF6",
           "showlakes": true,
           "showland": true,
           "subunitcolor": "white"
          },
          "hoverlabel": {
           "align": "left"
          },
          "hovermode": "closest",
          "mapbox": {
           "style": "light"
          },
          "paper_bgcolor": "white",
          "plot_bgcolor": "#E5ECF6",
          "polar": {
           "angularaxis": {
            "gridcolor": "white",
            "linecolor": "white",
            "ticks": ""
           },
           "bgcolor": "#E5ECF6",
           "radialaxis": {
            "gridcolor": "white",
            "linecolor": "white",
            "ticks": ""
           }
          },
          "scene": {
           "xaxis": {
            "backgroundcolor": "#E5ECF6",
            "gridcolor": "white",
            "gridwidth": 2,
            "linecolor": "white",
            "showbackground": true,
            "ticks": "",
            "zerolinecolor": "white"
           },
           "yaxis": {
            "backgroundcolor": "#E5ECF6",
            "gridcolor": "white",
            "gridwidth": 2,
            "linecolor": "white",
            "showbackground": true,
            "ticks": "",
            "zerolinecolor": "white"
           },
           "zaxis": {
            "backgroundcolor": "#E5ECF6",
            "gridcolor": "white",
            "gridwidth": 2,
            "linecolor": "white",
            "showbackground": true,
            "ticks": "",
            "zerolinecolor": "white"
           }
          },
          "shapedefaults": {
           "line": {
            "color": "#2a3f5f"
           }
          },
          "ternary": {
           "aaxis": {
            "gridcolor": "white",
            "linecolor": "white",
            "ticks": ""
           },
           "baxis": {
            "gridcolor": "white",
            "linecolor": "white",
            "ticks": ""
           },
           "bgcolor": "#E5ECF6",
           "caxis": {
            "gridcolor": "white",
            "linecolor": "white",
            "ticks": ""
           }
          },
          "title": {
           "x": 0.05
          },
          "xaxis": {
           "automargin": true,
           "gridcolor": "white",
           "linecolor": "white",
           "ticks": "",
           "title": {
            "standoff": 15
           },
           "zerolinecolor": "white",
           "zerolinewidth": 2
          },
          "yaxis": {
           "automargin": true,
           "gridcolor": "white",
           "linecolor": "white",
           "ticks": "",
           "title": {
            "standoff": 15
           },
           "zerolinecolor": "white",
           "zerolinewidth": 2
          }
         }
        },
        "width": 1200,
        "xaxis": {
         "anchor": "y",
         "color": "black",
         "domain": [
          0,
          0.1388888888888889
         ],
         "linecolor": "black",
         "linewidth": 1,
         "showgrid": false,
         "showline": true,
         "title": {
          "text": "Step"
         }
        },
        "xaxis2": {
         "anchor": "y2",
         "color": "black",
         "domain": [
          0.17222222222222222,
          0.3111111111111111
         ],
         "linecolor": "black",
         "linewidth": 1,
         "showgrid": false,
         "showline": true,
         "title": {
          "text": "Step"
         }
        },
        "xaxis3": {
         "anchor": "y3",
         "color": "black",
         "domain": [
          0.34444444444444444,
          0.48333333333333334
         ],
         "linecolor": "black",
         "linewidth": 1,
         "showgrid": false,
         "showline": true,
         "title": {
          "text": "Step"
         }
        },
        "xaxis4": {
         "anchor": "y4",
         "color": "black",
         "domain": [
          0.5166666666666667,
          0.6555555555555557
         ],
         "linecolor": "black",
         "linewidth": 1,
         "showgrid": false,
         "showline": true,
         "title": {
          "text": "Step"
         }
        },
        "xaxis5": {
         "anchor": "y5",
         "color": "black",
         "domain": [
          0.6888888888888889,
          0.8277777777777777
         ],
         "linecolor": "black",
         "linewidth": 1,
         "showgrid": false,
         "showline": true,
         "title": {
          "text": "Step"
         }
        },
        "xaxis6": {
         "anchor": "y6",
         "color": "black",
         "domain": [
          0.861111111111111,
          1
         ],
         "linecolor": "black",
         "linewidth": 1,
         "showgrid": false,
         "showline": true,
         "title": {
          "text": "Step"
         }
        },
        "yaxis": {
         "anchor": "x",
         "domain": [
          0,
          1
         ],
         "gridcolor": "lightgray",
         "linecolor": "black",
         "linewidth": 1,
         "showgrid": true,
         "showline": true,
         "tickfont": {
          "color": "black"
         },
         "title": {
          "text": "Average Belief Length (chars)"
         }
        },
        "yaxis2": {
         "anchor": "x2",
         "domain": [
          0,
          1
         ],
         "gridcolor": "lightgray",
         "linecolor": "black",
         "linewidth": 1,
         "showgrid": true,
         "showline": true,
         "tickfont": {
          "color": "black"
         }
        },
        "yaxis3": {
         "anchor": "x3",
         "domain": [
          0,
          1
         ],
         "gridcolor": "lightgray",
         "linecolor": "black",
         "linewidth": 1,
         "showgrid": true,
         "showline": true,
         "tickfont": {
          "color": "black"
         }
        },
        "yaxis4": {
         "anchor": "x4",
         "domain": [
          0,
          1
         ],
         "gridcolor": "lightgray",
         "linecolor": "black",
         "linewidth": 1,
         "showgrid": true,
         "showline": true,
         "tickfont": {
          "color": "black"
         }
        },
        "yaxis5": {
         "anchor": "x5",
         "domain": [
          0,
          1
         ],
         "gridcolor": "lightgray",
         "linecolor": "black",
         "linewidth": 1,
         "showgrid": true,
         "showline": true,
         "tickfont": {
          "color": "black"
         }
        },
        "yaxis6": {
         "anchor": "x6",
         "domain": [
          0,
          1
         ],
         "gridcolor": "lightgray",
         "linecolor": "black",
         "linewidth": 1,
         "showgrid": true,
         "showline": true,
         "tickfont": {
          "color": "black"
         }
        }
       }
      }
     },
     "metadata": {},
     "output_type": "display_data"
    }
   ],
   "source": [
    "fig.show()"
   ]
  },
  {
   "cell_type": "code",
   "execution_count": 205,
   "id": "f1389dee",
   "metadata": {},
   "outputs": [],
   "source": [
    "fig.write_image('figures/frontier_belief_length.pdf', width=1200, height=400)"
   ]
  },
  {
   "cell_type": "markdown",
   "id": "d3d7b5bb",
   "metadata": {},
   "source": [
    "## 4. Greediness Metrics"
   ]
  },
  {
   "cell_type": "code",
   "execution_count": 147,
   "id": "90539d27",
   "metadata": {},
   "outputs": [],
   "source": [
    "df_mastermind = df[df['env'] == 'mastermind']\n",
    "df_wordle = df[df['env'] == 'wordle']"
   ]
  },
  {
   "cell_type": "code",
   "execution_count": 148,
   "id": "ad0484bc",
   "metadata": {},
   "outputs": [],
   "source": [
    "df_wordle.loc[:, 'guess'] = df_wordle['guess'].apply(lambda x: ' '.join(list(str(x))))"
   ]
  },
  {
   "cell_type": "code",
   "execution_count": null,
   "id": "c6689c62",
   "metadata": {},
   "outputs": [
    {
     "data": {
      "text/html": [
       "<div>\n",
       "<style scoped>\n",
       "    .dataframe tbody tr th:only-of-type {\n",
       "        vertical-align: middle;\n",
       "    }\n",
       "\n",
       "    .dataframe tbody tr th {\n",
       "        vertical-align: top;\n",
       "    }\n",
       "\n",
       "    .dataframe thead th {\n",
       "        text-align: right;\n",
       "    }\n",
       "</style>\n",
       "<table border=\"1\" class=\"dataframe\">\n",
       "  <thead>\n",
       "    <tr style=\"text-align: right;\">\n",
       "      <th></th>\n",
       "      <th>model</th>\n",
       "      <th>game_id</th>\n",
       "      <th>env</th>\n",
       "      <th>attempt</th>\n",
       "      <th>info</th>\n",
       "      <th>raw_guess</th>\n",
       "      <th>guess</th>\n",
       "      <th>response</th>\n",
       "      <th>word_limit</th>\n",
       "      <th>score</th>\n",
       "      <th>done</th>\n",
       "      <th>data</th>\n",
       "      <th>belief</th>\n",
       "      <th>action_reasoning</th>\n",
       "      <th>belief_reasoning</th>\n",
       "      <th>model_info</th>\n",
       "    </tr>\n",
       "  </thead>\n",
       "  <tbody>\n",
       "    <tr>\n",
       "      <th>2</th>\n",
       "      <td>deepseek/deepseek-chat (both)</td>\n",
       "      <td>1</td>\n",
       "      <td>wordle</td>\n",
       "      <td>1</td>\n",
       "      <td>both</td>\n",
       "      <td>&lt;Think&gt; Since this is the first guess, the goa...</td>\n",
       "      <td>C R A N E</td>\n",
       "      <td>First letter, c, is not in the target word \\nS...</td>\n",
       "      <td>None</td>\n",
       "      <td>1.0</td>\n",
       "      <td>True</td>\n",
       "      <td>{'agent_game_scenario': 'word', 'env_game_scen...</td>\n",
       "      <td>The target word does not contain the letters C...</td>\n",
       "      <td>None</td>\n",
       "      <td>None</td>\n",
       "      <td>deepseek/deepseek-chat (both)</td>\n",
       "    </tr>\n",
       "    <tr>\n",
       "      <th>3</th>\n",
       "      <td>deepseek/deepseek-chat (both)</td>\n",
       "      <td>1</td>\n",
       "      <td>wordle</td>\n",
       "      <td>2</td>\n",
       "      <td>both</td>\n",
       "      <td>&lt;Think&gt; Since C, R, A, and N are not in the wo...</td>\n",
       "      <td>S L O P E</td>\n",
       "      <td>First letter, s, is correct and in the correct...</td>\n",
       "      <td>None</td>\n",
       "      <td>2.0</td>\n",
       "      <td>True</td>\n",
       "      <td>{'agent_game_scenario': 'word', 'env_game_scen...</td>\n",
       "      <td>The target word starts with 'S'. It contains t...</td>\n",
       "      <td>None</td>\n",
       "      <td>None</td>\n",
       "      <td>deepseek/deepseek-chat (both)</td>\n",
       "    </tr>\n",
       "    <tr>\n",
       "      <th>4</th>\n",
       "      <td>deepseek/deepseek-chat (both)</td>\n",
       "      <td>1</td>\n",
       "      <td>wordle</td>\n",
       "      <td>3</td>\n",
       "      <td>both</td>\n",
       "      <td>&lt;Think&gt; Based on the history and belief state:...</td>\n",
       "      <td>S P I E D</td>\n",
       "      <td>Goal reached</td>\n",
       "      <td>None</td>\n",
       "      <td>3.0</td>\n",
       "      <td>True</td>\n",
       "      <td>{'agent_game_scenario': 'word', 'env_game_scen...</td>\n",
       "      <td>The target word is \"SPIED\".</td>\n",
       "      <td>None</td>\n",
       "      <td>None</td>\n",
       "      <td>deepseek/deepseek-chat (both)</td>\n",
       "    </tr>\n",
       "    <tr>\n",
       "      <th>5</th>\n",
       "      <td>deepseek/deepseek-chat (history)</td>\n",
       "      <td>0</td>\n",
       "      <td>wordle</td>\n",
       "      <td>1</td>\n",
       "      <td>history</td>\n",
       "      <td>&lt;Think&gt; Since this is the first guess, I need ...</td>\n",
       "      <td>C R A N E</td>\n",
       "      <td>First letter, c, exists in the target word but...</td>\n",
       "      <td>None</td>\n",
       "      <td>1.0</td>\n",
       "      <td>True</td>\n",
       "      <td>{'agent_game_scenario': 'word', 'env_game_scen...</td>\n",
       "      <td></td>\n",
       "      <td>None</td>\n",
       "      <td></td>\n",
       "      <td>deepseek/deepseek-chat (history)</td>\n",
       "    </tr>\n",
       "    <tr>\n",
       "      <th>6</th>\n",
       "      <td>deepseek/deepseek-chat (history)</td>\n",
       "      <td>0</td>\n",
       "      <td>wordle</td>\n",
       "      <td>2</td>\n",
       "      <td>history</td>\n",
       "      <td>&lt;Think&gt;  \\nFrom the first guess \"CRANE\":\\n- Th...</td>\n",
       "      <td>C L O S E</td>\n",
       "      <td>First letter, c, exists in the target word but...</td>\n",
       "      <td>None</td>\n",
       "      <td>2.0</td>\n",
       "      <td>True</td>\n",
       "      <td>{'agent_game_scenario': 'word', 'env_game_scen...</td>\n",
       "      <td></td>\n",
       "      <td>None</td>\n",
       "      <td></td>\n",
       "      <td>deepseek/deepseek-chat (history)</td>\n",
       "    </tr>\n",
       "    <tr>\n",
       "      <th>...</th>\n",
       "      <td>...</td>\n",
       "      <td>...</td>\n",
       "      <td>...</td>\n",
       "      <td>...</td>\n",
       "      <td>...</td>\n",
       "      <td>...</td>\n",
       "      <td>...</td>\n",
       "      <td>...</td>\n",
       "      <td>...</td>\n",
       "      <td>...</td>\n",
       "      <td>...</td>\n",
       "      <td>...</td>\n",
       "      <td>...</td>\n",
       "      <td>...</td>\n",
       "      <td>...</td>\n",
       "      <td>...</td>\n",
       "    </tr>\n",
       "    <tr>\n",
       "      <th>24910</th>\n",
       "      <td>deepseek/deepseek-r1 (belief)</td>\n",
       "      <td>39</td>\n",
       "      <td>wordle</td>\n",
       "      <td>2</td>\n",
       "      <td>belief</td>\n",
       "      <td>&lt;Think&gt; The excluded letters are S, P, L, I, T...</td>\n",
       "      <td>C R A N E</td>\n",
       "      <td>First letter, c, is not in the target word \\nS...</td>\n",
       "      <td>None</td>\n",
       "      <td>2.0</td>\n",
       "      <td>True</td>\n",
       "      <td>{'agent_game_scenario': 'word', 'env_game_scen...</td>\n",
       "      <td>Excluded letters: S, P, L, I, T, C, N, E. \\nCo...</td>\n",
       "      <td>Okay, so I'm on my third attempt in Wordle, an...</td>\n",
       "      <td>Okay, let's see. The current belief says that ...</td>\n",
       "      <td>deepseek/deepseek-r1 (belief)</td>\n",
       "    </tr>\n",
       "    <tr>\n",
       "      <th>24911</th>\n",
       "      <td>deepseek/deepseek-r1 (belief)</td>\n",
       "      <td>39</td>\n",
       "      <td>wordle</td>\n",
       "      <td>3</td>\n",
       "      <td>belief</td>\n",
       "      <td>&lt;Think&gt; The secret word contains R and A, not ...</td>\n",
       "      <td>R U M B A</td>\n",
       "      <td>First letter, r, exists in the target word but...</td>\n",
       "      <td>None</td>\n",
       "      <td>3.0</td>\n",
       "      <td>True</td>\n",
       "      <td>{'agent_game_scenario': 'word', 'env_game_scen...</td>\n",
       "      <td>Excluded letters: S, P, L, I, T, C, N, E, U, B...</td>\n",
       "      <td>Okay, let's see. So it's attempt 4 out of 6, a...</td>\n",
       "      <td>Okay, let's update the belief based on the lat...</td>\n",
       "      <td>deepseek/deepseek-r1 (belief)</td>\n",
       "    </tr>\n",
       "    <tr>\n",
       "      <th>24912</th>\n",
       "      <td>deepseek/deepseek-r1 (belief)</td>\n",
       "      <td>39</td>\n",
       "      <td>wordle</td>\n",
       "      <td>4</td>\n",
       "      <td>belief</td>\n",
       "      <td>&lt;Think&gt;\\nThe secret word must contain R, A, M,...</td>\n",
       "      <td>M A J O R</td>\n",
       "      <td>First letter, m, is correct and in the correct...</td>\n",
       "      <td>None</td>\n",
       "      <td>4.0</td>\n",
       "      <td>True</td>\n",
       "      <td>{'agent_game_scenario': 'word', 'env_game_scen...</td>\n",
       "      <td>Excluded letters: S, P, L, I, T, C, N, E, U, B...</td>\n",
       "      <td>Okay, let's see. I need to figure out the next...</td>\n",
       "      <td>Okay, let's break down the problem. The user i...</td>\n",
       "      <td>deepseek/deepseek-r1 (belief)</td>\n",
       "    </tr>\n",
       "    <tr>\n",
       "      <th>24913</th>\n",
       "      <td>deepseek/deepseek-r1 (belief)</td>\n",
       "      <td>39</td>\n",
       "      <td>wordle</td>\n",
       "      <td>5</td>\n",
       "      <td>belief</td>\n",
       "      <td>&lt;Think&gt; Since this is the final attempt, prior...</td>\n",
       "      <td>M A R V Y</td>\n",
       "      <td>First letter, m, is correct and in the correct...</td>\n",
       "      <td>None</td>\n",
       "      <td>5.0</td>\n",
       "      <td>True</td>\n",
       "      <td>{'agent_game_scenario': 'word', 'env_game_scen...</td>\n",
       "      <td>Excluded letters: S, P, L, I, T, C, N, E, U, B...</td>\n",
       "      <td>Okay, let's try to figure out the best guess h...</td>\n",
       "      <td>Okay, let me try to update the belief based on...</td>\n",
       "      <td>deepseek/deepseek-r1 (belief)</td>\n",
       "    </tr>\n",
       "    <tr>\n",
       "      <th>24914</th>\n",
       "      <td>deepseek/deepseek-r1 (belief)</td>\n",
       "      <td>39</td>\n",
       "      <td>wordle</td>\n",
       "      <td>6</td>\n",
       "      <td>belief</td>\n",
       "      <td>&lt;Think&gt; The secret word structure is M A R _ Y...</td>\n",
       "      <td>M A R D Y</td>\n",
       "      <td>First letter, m, is correct and in the correct...</td>\n",
       "      <td>None</td>\n",
       "      <td>6.0</td>\n",
       "      <td>True</td>\n",
       "      <td>{'agent_game_scenario': 'word', 'env_game_scen...</td>\n",
       "      <td>&lt;BELIEF&gt;\\nExcluded letters: S, P, L, I, T, C, ...</td>\n",
       "      <td>Okay, let's see. The structure is M_A_R_ _Y. T...</td>\n",
       "      <td>Okay, let me break this down. The current beli...</td>\n",
       "      <td>deepseek/deepseek-r1 (belief)</td>\n",
       "    </tr>\n",
       "  </tbody>\n",
       "</table>\n",
       "<p>1690 rows × 16 columns</p>\n",
       "</div>"
      ],
      "text/plain": [
       "                                  model game_id     env  attempt     info  \\\n",
       "2         deepseek/deepseek-chat (both)       1  wordle        1     both   \n",
       "3         deepseek/deepseek-chat (both)       1  wordle        2     both   \n",
       "4         deepseek/deepseek-chat (both)       1  wordle        3     both   \n",
       "5      deepseek/deepseek-chat (history)       0  wordle        1  history   \n",
       "6      deepseek/deepseek-chat (history)       0  wordle        2  history   \n",
       "...                                 ...     ...     ...      ...      ...   \n",
       "24910     deepseek/deepseek-r1 (belief)      39  wordle        2   belief   \n",
       "24911     deepseek/deepseek-r1 (belief)      39  wordle        3   belief   \n",
       "24912     deepseek/deepseek-r1 (belief)      39  wordle        4   belief   \n",
       "24913     deepseek/deepseek-r1 (belief)      39  wordle        5   belief   \n",
       "24914     deepseek/deepseek-r1 (belief)      39  wordle        6   belief   \n",
       "\n",
       "                                               raw_guess      guess  \\\n",
       "2      <Think> Since this is the first guess, the goa...  C R A N E   \n",
       "3      <Think> Since C, R, A, and N are not in the wo...  S L O P E   \n",
       "4      <Think> Based on the history and belief state:...  S P I E D   \n",
       "5      <Think> Since this is the first guess, I need ...  C R A N E   \n",
       "6      <Think>  \\nFrom the first guess \"CRANE\":\\n- Th...  C L O S E   \n",
       "...                                                  ...        ...   \n",
       "24910  <Think> The excluded letters are S, P, L, I, T...  C R A N E   \n",
       "24911  <Think> The secret word contains R and A, not ...  R U M B A   \n",
       "24912  <Think>\\nThe secret word must contain R, A, M,...  M A J O R   \n",
       "24913  <Think> Since this is the final attempt, prior...  M A R V Y   \n",
       "24914  <Think> The secret word structure is M A R _ Y...  M A R D Y   \n",
       "\n",
       "                                                response word_limit  score  \\\n",
       "2      First letter, c, is not in the target word \\nS...       None    1.0   \n",
       "3      First letter, s, is correct and in the correct...       None    2.0   \n",
       "4                                           Goal reached       None    3.0   \n",
       "5      First letter, c, exists in the target word but...       None    1.0   \n",
       "6      First letter, c, exists in the target word but...       None    2.0   \n",
       "...                                                  ...        ...    ...   \n",
       "24910  First letter, c, is not in the target word \\nS...       None    2.0   \n",
       "24911  First letter, r, exists in the target word but...       None    3.0   \n",
       "24912  First letter, m, is correct and in the correct...       None    4.0   \n",
       "24913  First letter, m, is correct and in the correct...       None    5.0   \n",
       "24914  First letter, m, is correct and in the correct...       None    6.0   \n",
       "\n",
       "       done                                               data  \\\n",
       "2      True  {'agent_game_scenario': 'word', 'env_game_scen...   \n",
       "3      True  {'agent_game_scenario': 'word', 'env_game_scen...   \n",
       "4      True  {'agent_game_scenario': 'word', 'env_game_scen...   \n",
       "5      True  {'agent_game_scenario': 'word', 'env_game_scen...   \n",
       "6      True  {'agent_game_scenario': 'word', 'env_game_scen...   \n",
       "...     ...                                                ...   \n",
       "24910  True  {'agent_game_scenario': 'word', 'env_game_scen...   \n",
       "24911  True  {'agent_game_scenario': 'word', 'env_game_scen...   \n",
       "24912  True  {'agent_game_scenario': 'word', 'env_game_scen...   \n",
       "24913  True  {'agent_game_scenario': 'word', 'env_game_scen...   \n",
       "24914  True  {'agent_game_scenario': 'word', 'env_game_scen...   \n",
       "\n",
       "                                                  belief  \\\n",
       "2      The target word does not contain the letters C...   \n",
       "3      The target word starts with 'S'. It contains t...   \n",
       "4                            The target word is \"SPIED\".   \n",
       "5                                                          \n",
       "6                                                          \n",
       "...                                                  ...   \n",
       "24910  Excluded letters: S, P, L, I, T, C, N, E. \\nCo...   \n",
       "24911  Excluded letters: S, P, L, I, T, C, N, E, U, B...   \n",
       "24912  Excluded letters: S, P, L, I, T, C, N, E, U, B...   \n",
       "24913  Excluded letters: S, P, L, I, T, C, N, E, U, B...   \n",
       "24914  <BELIEF>\\nExcluded letters: S, P, L, I, T, C, ...   \n",
       "\n",
       "                                        action_reasoning  \\\n",
       "2                                                   None   \n",
       "3                                                   None   \n",
       "4                                                   None   \n",
       "5                                                   None   \n",
       "6                                                   None   \n",
       "...                                                  ...   \n",
       "24910  Okay, so I'm on my third attempt in Wordle, an...   \n",
       "24911  Okay, let's see. So it's attempt 4 out of 6, a...   \n",
       "24912  Okay, let's see. I need to figure out the next...   \n",
       "24913  Okay, let's try to figure out the best guess h...   \n",
       "24914  Okay, let's see. The structure is M_A_R_ _Y. T...   \n",
       "\n",
       "                                        belief_reasoning  \\\n",
       "2                                                   None   \n",
       "3                                                   None   \n",
       "4                                                   None   \n",
       "5                                                          \n",
       "6                                                          \n",
       "...                                                  ...   \n",
       "24910  Okay, let's see. The current belief says that ...   \n",
       "24911  Okay, let's update the belief based on the lat...   \n",
       "24912  Okay, let's break down the problem. The user i...   \n",
       "24913  Okay, let me try to update the belief based on...   \n",
       "24914  Okay, let me break this down. The current beli...   \n",
       "\n",
       "                             model_info  \n",
       "2         deepseek/deepseek-chat (both)  \n",
       "3         deepseek/deepseek-chat (both)  \n",
       "4         deepseek/deepseek-chat (both)  \n",
       "5      deepseek/deepseek-chat (history)  \n",
       "6      deepseek/deepseek-chat (history)  \n",
       "...                                 ...  \n",
       "24910     deepseek/deepseek-r1 (belief)  \n",
       "24911     deepseek/deepseek-r1 (belief)  \n",
       "24912     deepseek/deepseek-r1 (belief)  \n",
       "24913     deepseek/deepseek-r1 (belief)  \n",
       "24914     deepseek/deepseek-r1 (belief)  \n",
       "\n",
       "[1690 rows x 16 columns]"
      ]
     },
     "execution_count": 151,
     "metadata": {},
     "output_type": "execute_result"
    }
   ],
   "source": [
    "df_wordle"
   ]
  },
  {
   "cell_type": "code",
   "execution_count": null,
   "id": "3e3856f0",
   "metadata": {},
   "outputs": [],
   "source": [
    "import plotly.graph_objects as go\n",
    "import pandas as pd\n",
    "import numpy as np\n",
    "\n",
    "def plot_action_repetition(df):\n",
    "    \"\"\"\n",
    "    Create a bar chart showing greediness for each model.\n",
    "    \n",
    "    Greediness is defined as the fraction of times a model repeats\n",
    "    a particular guess at a particular position across games.\n",
    "    \n",
    "    Parameters:\n",
    "    df (pd.DataFrame): DataFrame with columns 'game_id', 'attempt', 'model_info', 'guess'\n",
    "    \n",
    "    Returns:\n",
    "    plotly.graph_objects.Figure: Bar chart figure\n",
    "    \"\"\"\n",
    "    \n",
    "    # Fixed colors for different models\n",
    "    colors = [\n",
    "        \"#ADD8E6\",  # light blue\n",
    "        \"#4682B4\",  # medium blue\n",
    "        \"#003366\",  # dark blue\n",
    "        \"#FFB6C1\",  # light red\n",
    "        \"#FF6347\",  # medium red\n",
    "        \"#8B0000\",  # dark red\n",
    "        \"#90EE90\",  # light green\n",
    "        \"#32CD32\",  # medium green\n",
    "        \"#006400\",  # dark green\n",
    "    ]\n",
    "    \n",
    "    greediness_results = []\n",
    "    \n",
    "    # Group by model_info\n",
    "    for model_idx, (model, model_data) in enumerate(df.groupby('model_info')):\n",
    "        # Group by game_id to get sequences of guesses\n",
    "        game_sequences = []\n",
    "        for game_id, game_data in model_data.groupby('game_id'):\n",
    "            # Sort by attempt to get the correct sequence\n",
    "            sequence = game_data.sort_values('attempt')['guess'].tolist()\n",
    "            game_sequences.append(sequence)\n",
    "        \n",
    "        # Calculate greediness for each game separately to get variance\n",
    "        game_greediness_values = []\n",
    "        \n",
    "        # For each game, calculate its greediness\n",
    "        for seq in game_sequences:\n",
    "            game_total_greediness = 0\n",
    "            game_total_positions = 0\n",
    "            \n",
    "            # For each position in this game's sequence\n",
    "            for pos in range(len(seq)):\n",
    "                # Get all guesses at this position across ALL games for comparison\n",
    "                guesses_at_position = []\n",
    "                for other_seq in game_sequences:\n",
    "                    if pos < len(other_seq):\n",
    "                        guesses_at_position.append(other_seq[pos])\n",
    "                \n",
    "                if len(guesses_at_position) > 1:\n",
    "                    # Count repeats\n",
    "                    unique_guesses = len(set(guesses_at_position))\n",
    "                    total_guesses = len(guesses_at_position)\n",
    "                    \n",
    "                    # Greediness = 1 - (unique_guesses / total_guesses)\n",
    "                    position_greediness = 1 - (unique_guesses / total_guesses)\n",
    "                    \n",
    "                    game_total_greediness += position_greediness\n",
    "                    game_total_positions += 1\n",
    "            \n",
    "            # Average greediness for this game\n",
    "            if game_total_positions > 0:\n",
    "                game_avg_greediness = (game_total_greediness / game_total_positions * 100)\n",
    "                game_greediness_values.append(game_avg_greediness)\n",
    "        \n",
    "        # Calculate mean and standard error\n",
    "        if game_greediness_values:\n",
    "            avg_greediness = np.mean(game_greediness_values)\n",
    "            std_error = np.std(game_greediness_values, ddof=1) / np.sqrt(len(game_greediness_values)) if len(game_greediness_values) > 1 else 0\n",
    "        else:\n",
    "            avg_greediness = 0\n",
    "            std_error = 0\n",
    "        \n",
    "        greediness_results.append({\n",
    "            'model': model,\n",
    "            'greediness': avg_greediness,\n",
    "            'std_error': std_error,\n",
    "            'color': colors[model_idx % len(colors)]\n",
    "        })\n",
    "\n",
    "    desired_order = [0, 2, 1, 3, 5, 4, 6, 8, 7]\n",
    "    greediness_results = [greediness_results[i] for i in desired_order]\n",
    "    \n",
    "    # Create the bar chart\n",
    "    fig = go.Figure()\n",
    "    \n",
    "    # Add bars\n",
    "    models = [result['model'] for result in greediness_results]\n",
    "    greediness_values = [result['greediness'] for result in greediness_results]\n",
    "    error_values = [result['std_error'] for result in greediness_results]\n",
    "    bar_colors = [result['color'] for result in greediness_results]\n",
    "    \n",
    "    fig.add_trace(go.Bar(\n",
    "        x=models,\n",
    "        y=greediness_values,\n",
    "        error_y=dict(\n",
    "            type='data',\n",
    "            array=error_values,\n",
    "            visible=True,\n",
    "            color='black',\n",
    "            thickness=1.5,\n",
    "            width=3\n",
    "        ),\n",
    "        marker_color=bar_colors,\n",
    "        marker_line_color='black',\n",
    "        marker_line_width=1,\n",
    "        width=0.6\n",
    "    ))\n",
    "    \n",
    "    # Update layout for professional appearance\n",
    "    fig.update_layout(\n",
    "        title={\n",
    "            'text': '',\n",
    "            'x': 0.5,\n",
    "            'font': {'family': 'Computer Modern, serif', 'size': 16}\n",
    "        },\n",
    "        xaxis={\n",
    "            'title': 'Model + Info (Wordle)',\n",
    "            'title_font': {'family': 'Computer Modern, serif', 'size': 14},\n",
    "            'tickfont': {'family': 'Computer Modern, serif', 'size': 14},\n",
    "            'showgrid': False,\n",
    "            'showline': True,\n",
    "            'linewidth': 1,\n",
    "            'linecolor': 'black',\n",
    "            'mirror': True\n",
    "        },\n",
    "        yaxis={\n",
    "            'title': 'Action Repetition',\n",
    "            'title_font': {'family': 'Computer Modern, serif', 'size': 14},\n",
    "            'tickfont': {'family': 'Computer Modern, serif', 'size': 14},\n",
    "            'showgrid': False,\n",
    "            'showline': True,\n",
    "            'linewidth': 1,\n",
    "            'linecolor': 'black',\n",
    "            'mirror': True,\n",
    "            'range': [0, max([g + e for g, e in zip(greediness_values, error_values)]) * 1.1 if greediness_values else 100]\n",
    "        },\n",
    "        plot_bgcolor='white',\n",
    "        paper_bgcolor='white',\n",
    "        font={'family': 'Computer Modern, serif'},\n",
    "        width=800,\n",
    "        height=500,\n",
    "        margin=dict(l=80, r=50, t=80, b=80)\n",
    "    )\n",
    "    \n",
    "    # Add grid lines manually for a cleaner look\n",
    "    fig.update_yaxes(showgrid=True, gridwidth=0.5, gridcolor='lightgray')\n",
    "    \n",
    "    return fig"
   ]
  },
  {
   "cell_type": "code",
   "execution_count": null,
   "id": "231dfe60",
   "metadata": {},
   "outputs": [],
   "source": [
    "import plotly.graph_objects as go\n",
    "import pandas as pd\n",
    "import numpy as np\n",
    "\n",
    "def plot_greediness(df):\n",
    "    \"\"\"\n",
    "    Create a bar chart showing greediness for each model.\n",
    "\n",
    "    Greediness is defined as the fraction of times the correct guess is made\n",
    "    for any position (average across rows and positions).\n",
    "\n",
    "    Parameters:\n",
    "    df (pd.DataFrame): DataFrame with columns 'game_id', 'attempt', 'model_info', 'guess'\n",
    "\n",
    "    Returns:\n",
    "    plotly.graph_objects.Figure: Bar chart figure\n",
    "    \"\"\"\n",
    "\n",
    "    # Fixed colors for different models\n",
    "    colors = [\n",
    "        \"#ADD8E6\",  # light blue\n",
    "        \"#4682B4\",  # medium blue\n",
    "        \"#003366\",  # dark blue\n",
    "        \"#FFB6C1\",  # light red\n",
    "        \"#FF6347\",  # medium red\n",
    "        \"#8B0000\",  # dark red\n",
    "        \"#90EE90\",  # light green\n",
    "        \"#32CD32\",  # medium green\n",
    "        \"#006400\",  # dark green\n",
    "    ]\n",
    "\n",
    "    greediness_results = []\n",
    "\n",
    "    # Group by model_info\n",
    "    for model_idx, (model, model_data) in enumerate(df.groupby('model_info')):\n",
    "        per_row_fractions = []\n",
    "        for row_id in range(len(model_data)):\n",
    "            # Get target and guess\n",
    "            # Fix: check if 'data' is a dict and contains 'env_game_scenario'\n",
    "            data_field = model_data.iloc[row_id]['data']\n",
    "            if isinstance(data_field, dict) and 'env_game_scenario' in data_field:\n",
    "                target = str(data_field['env_game_scenario'])\n",
    "            else:\n",
    "                # fallback: skip this row if not present\n",
    "                continue\n",
    "            guess_str = str(model_data.iloc[row_id]['guess'])\n",
    "            guess = guess_str.split(' ')\n",
    "            # Only compare up to the length of the shorter of guess/target\n",
    "            n_positions = min(len(target), len(guess))\n",
    "            if n_positions == 0:\n",
    "                continue\n",
    "            correct = 0\n",
    "            for idx in range(n_positions):\n",
    "                if str(guess[idx]) == str(target[idx]):\n",
    "                    correct += 1\n",
    "            per_row_fractions.append(correct / n_positions)\n",
    "        if len(per_row_fractions) == 0:\n",
    "            avg_greediness = 0.0\n",
    "            std_error = 0.0\n",
    "        else:\n",
    "            avg_greediness = np.mean(per_row_fractions)\n",
    "            std_error = np.std(per_row_fractions, ddof=1) / np.sqrt(len(per_row_fractions)) if len(per_row_fractions) > 1 else 0.0\n",
    "        greediness_results.append({\n",
    "            'model': model,\n",
    "            'greediness': avg_greediness,\n",
    "            'std_error': std_error,\n",
    "            'color': colors[model_idx % len(colors)]\n",
    "        })\n",
    "\n",
    "    # Optionally reorder for display\n",
    "    desired_order = [0, 2, 1, 3, 5, 4, 6, 8, 7]\n",
    "    if len(greediness_results) == len(desired_order):\n",
    "        greediness_results = [greediness_results[i] for i in desired_order]\n",
    "\n",
    "    # Create the bar chart\n",
    "    fig = go.Figure()\n",
    "\n",
    "    # Add bars\n",
    "    models = [result['model'] for result in greediness_results]\n",
    "    greediness_values = [result['greediness'] for result in greediness_results]\n",
    "    error_values = [result['std_error'] for result in greediness_results]\n",
    "    bar_colors = [result['color'] for result in greediness_results]\n",
    "\n",
    "    fig.add_trace(go.Bar(\n",
    "        x=models,\n",
    "        y=greediness_values,\n",
    "        error_y=dict(\n",
    "            type='data',\n",
    "            array=error_values,\n",
    "            visible=True,\n",
    "            color='black',\n",
    "            thickness=1.5,\n",
    "            width=3\n",
    "        ),\n",
    "        marker_color=bar_colors,\n",
    "        marker_line_color='black',\n",
    "        marker_line_width=1,\n",
    "        width=0.6\n",
    "    ))\n",
    "\n",
    "    # Update layout for professional appearance\n",
    "    fig.update_layout(\n",
    "        title={\n",
    "            'text': '',\n",
    "            'x': 0.5,\n",
    "            'font': {'family': 'Computer Modern, serif', 'size': 16}\n",
    "        },\n",
    "        xaxis={\n",
    "            'title': 'Model + Info (Wordle)',\n",
    "            'title_font': {'family': 'Computer Modern, serif', 'size': 14},\n",
    "            'tickfont': {'family': 'Computer Modern, serif', 'size': 14},\n",
    "            'showgrid': False,\n",
    "            'showline': True,\n",
    "            'linewidth': 1,\n",
    "            'linecolor': 'black',\n",
    "            'mirror': True\n",
    "        },\n",
    "        yaxis={\n",
    "            'title': 'Greediness (Correct)',\n",
    "            'title_font': {'family': 'Computer Modern, serif', 'size': 14},\n",
    "            'tickfont': {'family': 'Computer Modern, serif', 'size': 14},\n",
    "            'showgrid': False,\n",
    "            'showline': True,\n",
    "            'linewidth': 1,\n",
    "            'linecolor': 'black',\n",
    "            'mirror': True,\n",
    "            'range': [0, max([g + e for g, e in zip(greediness_values, error_values)]) * 1.1 if greediness_values else 100]\n",
    "        },\n",
    "        plot_bgcolor='white',\n",
    "        paper_bgcolor='white',\n",
    "        font={'family': 'Computer Modern, serif'},\n",
    "        width=800,\n",
    "        height=500,\n",
    "        margin=dict(l=80, r=50, t=80, b=80)\n",
    "    )\n",
    "\n",
    "    # Add grid lines manually for a cleaner look\n",
    "    fig.update_yaxes(showgrid=True, gridwidth=0.5, gridcolor='lightgray')\n",
    "\n",
    "    return fig"
   ]
  },
  {
   "cell_type": "code",
   "execution_count": 142,
   "id": "2b98a054",
   "metadata": {},
   "outputs": [],
   "source": [
    "models_list = [\n",
    "    'deepseek/deepseek-chat (belief)',\n",
    "    'deepseek/deepseek-chat (history)',\n",
    "    'deepseek/deepseek-chat (both)',\n",
    "    'deepseek/deepseek-r1 (belief)'\n",
    "    'deepseek/deepseek-r1 (history)',\n",
    "    'deepseek/deepseek-r1 (both)',\n",
    "    'google/gemini-2.5-pro (belief)',\n",
    "    'google/gemini-2.5-pro (history)',\n",
    "    'google/gemini-2.5-pro (both)',\n",
    "    ]"
   ]
  },
  {
   "cell_type": "code",
   "execution_count": 143,
   "id": "5c3907e9",
   "metadata": {},
   "outputs": [],
   "source": [
    "fig_ar_mm = plot_action_repetition(df_mastermind)\n",
    "fig_gr_mm = plot_greediness(df_mastermind)\n",
    "fig_ar_wd = plot_action_repetition(df_wordle)\n",
    "fig_gr_wd = plot_greediness(df_wordle)"
   ]
  },
  {
   "cell_type": "code",
   "execution_count": 146,
   "id": "1635dd9e",
   "metadata": {},
   "outputs": [
    {
     "data": {
      "application/vnd.plotly.v1+json": {
       "config": {
        "plotlyServerURL": "https://plot.ly"
       },
       "data": [
        {
         "error_y": {
          "array": [
           0.0098873179265809,
           0.005270597520609262,
           0.0009216589861751153,
           0.0011834319526627223,
           0.007431523640153751,
           0.006322547864147898,
           0,
           0,
           0
          ],
          "color": "black",
          "thickness": 1.5,
          "type": "data",
          "visible": true,
          "width": 3
         },
         "marker": {
          "color": [
           "#ADD8E6",
           "#003366",
           "#4682B4",
           "#FFB6C1",
           "#8B0000",
           "#FF6347",
           "#90EE90",
           "#006400",
           "#32CD32"
          ],
          "line": {
           "color": "black",
           "width": 1
          }
         },
         "type": "bar",
         "width": 0.6,
         "x": [
          "deepseek/deepseek-chat (belief)",
          "deepseek/deepseek-chat (history)",
          "deepseek/deepseek-chat (both)",
          "deepseek/deepseek-r1 (belief)",
          "deepseek/deepseek-r1 (history)",
          "deepseek/deepseek-r1 (both)",
          "google/gemini-2.5-pro (belief)",
          "google/gemini-2.5-pro (history)",
          "google/gemini-2.5-pro (both)"
         ],
         "y": [
          0.041201716738197426,
          0.006862745098039216,
          0.0009216589861751152,
          0.001183431952662722,
          0.01317365269461078,
          0.008235294117647058,
          0,
          0,
          0
         ]
        }
       ],
       "layout": {
        "font": {
         "family": "Computer Modern, serif"
        },
        "height": 500,
        "margin": {
         "b": 80,
         "l": 80,
         "r": 50,
         "t": 80
        },
        "paper_bgcolor": "white",
        "plot_bgcolor": "white",
        "template": {
         "data": {
          "bar": [
           {
            "error_x": {
             "color": "#2a3f5f"
            },
            "error_y": {
             "color": "#2a3f5f"
            },
            "marker": {
             "line": {
              "color": "#E5ECF6",
              "width": 0.5
             },
             "pattern": {
              "fillmode": "overlay",
              "size": 10,
              "solidity": 0.2
             }
            },
            "type": "bar"
           }
          ],
          "barpolar": [
           {
            "marker": {
             "line": {
              "color": "#E5ECF6",
              "width": 0.5
             },
             "pattern": {
              "fillmode": "overlay",
              "size": 10,
              "solidity": 0.2
             }
            },
            "type": "barpolar"
           }
          ],
          "carpet": [
           {
            "aaxis": {
             "endlinecolor": "#2a3f5f",
             "gridcolor": "white",
             "linecolor": "white",
             "minorgridcolor": "white",
             "startlinecolor": "#2a3f5f"
            },
            "baxis": {
             "endlinecolor": "#2a3f5f",
             "gridcolor": "white",
             "linecolor": "white",
             "minorgridcolor": "white",
             "startlinecolor": "#2a3f5f"
            },
            "type": "carpet"
           }
          ],
          "choropleth": [
           {
            "colorbar": {
             "outlinewidth": 0,
             "ticks": ""
            },
            "type": "choropleth"
           }
          ],
          "contour": [
           {
            "colorbar": {
             "outlinewidth": 0,
             "ticks": ""
            },
            "colorscale": [
             [
              0,
              "#0d0887"
             ],
             [
              0.1111111111111111,
              "#46039f"
             ],
             [
              0.2222222222222222,
              "#7201a8"
             ],
             [
              0.3333333333333333,
              "#9c179e"
             ],
             [
              0.4444444444444444,
              "#bd3786"
             ],
             [
              0.5555555555555556,
              "#d8576b"
             ],
             [
              0.6666666666666666,
              "#ed7953"
             ],
             [
              0.7777777777777778,
              "#fb9f3a"
             ],
             [
              0.8888888888888888,
              "#fdca26"
             ],
             [
              1,
              "#f0f921"
             ]
            ],
            "type": "contour"
           }
          ],
          "contourcarpet": [
           {
            "colorbar": {
             "outlinewidth": 0,
             "ticks": ""
            },
            "type": "contourcarpet"
           }
          ],
          "heatmap": [
           {
            "colorbar": {
             "outlinewidth": 0,
             "ticks": ""
            },
            "colorscale": [
             [
              0,
              "#0d0887"
             ],
             [
              0.1111111111111111,
              "#46039f"
             ],
             [
              0.2222222222222222,
              "#7201a8"
             ],
             [
              0.3333333333333333,
              "#9c179e"
             ],
             [
              0.4444444444444444,
              "#bd3786"
             ],
             [
              0.5555555555555556,
              "#d8576b"
             ],
             [
              0.6666666666666666,
              "#ed7953"
             ],
             [
              0.7777777777777778,
              "#fb9f3a"
             ],
             [
              0.8888888888888888,
              "#fdca26"
             ],
             [
              1,
              "#f0f921"
             ]
            ],
            "type": "heatmap"
           }
          ],
          "histogram": [
           {
            "marker": {
             "pattern": {
              "fillmode": "overlay",
              "size": 10,
              "solidity": 0.2
             }
            },
            "type": "histogram"
           }
          ],
          "histogram2d": [
           {
            "colorbar": {
             "outlinewidth": 0,
             "ticks": ""
            },
            "colorscale": [
             [
              0,
              "#0d0887"
             ],
             [
              0.1111111111111111,
              "#46039f"
             ],
             [
              0.2222222222222222,
              "#7201a8"
             ],
             [
              0.3333333333333333,
              "#9c179e"
             ],
             [
              0.4444444444444444,
              "#bd3786"
             ],
             [
              0.5555555555555556,
              "#d8576b"
             ],
             [
              0.6666666666666666,
              "#ed7953"
             ],
             [
              0.7777777777777778,
              "#fb9f3a"
             ],
             [
              0.8888888888888888,
              "#fdca26"
             ],
             [
              1,
              "#f0f921"
             ]
            ],
            "type": "histogram2d"
           }
          ],
          "histogram2dcontour": [
           {
            "colorbar": {
             "outlinewidth": 0,
             "ticks": ""
            },
            "colorscale": [
             [
              0,
              "#0d0887"
             ],
             [
              0.1111111111111111,
              "#46039f"
             ],
             [
              0.2222222222222222,
              "#7201a8"
             ],
             [
              0.3333333333333333,
              "#9c179e"
             ],
             [
              0.4444444444444444,
              "#bd3786"
             ],
             [
              0.5555555555555556,
              "#d8576b"
             ],
             [
              0.6666666666666666,
              "#ed7953"
             ],
             [
              0.7777777777777778,
              "#fb9f3a"
             ],
             [
              0.8888888888888888,
              "#fdca26"
             ],
             [
              1,
              "#f0f921"
             ]
            ],
            "type": "histogram2dcontour"
           }
          ],
          "mesh3d": [
           {
            "colorbar": {
             "outlinewidth": 0,
             "ticks": ""
            },
            "type": "mesh3d"
           }
          ],
          "parcoords": [
           {
            "line": {
             "colorbar": {
              "outlinewidth": 0,
              "ticks": ""
             }
            },
            "type": "parcoords"
           }
          ],
          "pie": [
           {
            "automargin": true,
            "type": "pie"
           }
          ],
          "scatter": [
           {
            "fillpattern": {
             "fillmode": "overlay",
             "size": 10,
             "solidity": 0.2
            },
            "type": "scatter"
           }
          ],
          "scatter3d": [
           {
            "line": {
             "colorbar": {
              "outlinewidth": 0,
              "ticks": ""
             }
            },
            "marker": {
             "colorbar": {
              "outlinewidth": 0,
              "ticks": ""
             }
            },
            "type": "scatter3d"
           }
          ],
          "scattercarpet": [
           {
            "marker": {
             "colorbar": {
              "outlinewidth": 0,
              "ticks": ""
             }
            },
            "type": "scattercarpet"
           }
          ],
          "scattergeo": [
           {
            "marker": {
             "colorbar": {
              "outlinewidth": 0,
              "ticks": ""
             }
            },
            "type": "scattergeo"
           }
          ],
          "scattergl": [
           {
            "marker": {
             "colorbar": {
              "outlinewidth": 0,
              "ticks": ""
             }
            },
            "type": "scattergl"
           }
          ],
          "scattermap": [
           {
            "marker": {
             "colorbar": {
              "outlinewidth": 0,
              "ticks": ""
             }
            },
            "type": "scattermap"
           }
          ],
          "scattermapbox": [
           {
            "marker": {
             "colorbar": {
              "outlinewidth": 0,
              "ticks": ""
             }
            },
            "type": "scattermapbox"
           }
          ],
          "scatterpolar": [
           {
            "marker": {
             "colorbar": {
              "outlinewidth": 0,
              "ticks": ""
             }
            },
            "type": "scatterpolar"
           }
          ],
          "scatterpolargl": [
           {
            "marker": {
             "colorbar": {
              "outlinewidth": 0,
              "ticks": ""
             }
            },
            "type": "scatterpolargl"
           }
          ],
          "scatterternary": [
           {
            "marker": {
             "colorbar": {
              "outlinewidth": 0,
              "ticks": ""
             }
            },
            "type": "scatterternary"
           }
          ],
          "surface": [
           {
            "colorbar": {
             "outlinewidth": 0,
             "ticks": ""
            },
            "colorscale": [
             [
              0,
              "#0d0887"
             ],
             [
              0.1111111111111111,
              "#46039f"
             ],
             [
              0.2222222222222222,
              "#7201a8"
             ],
             [
              0.3333333333333333,
              "#9c179e"
             ],
             [
              0.4444444444444444,
              "#bd3786"
             ],
             [
              0.5555555555555556,
              "#d8576b"
             ],
             [
              0.6666666666666666,
              "#ed7953"
             ],
             [
              0.7777777777777778,
              "#fb9f3a"
             ],
             [
              0.8888888888888888,
              "#fdca26"
             ],
             [
              1,
              "#f0f921"
             ]
            ],
            "type": "surface"
           }
          ],
          "table": [
           {
            "cells": {
             "fill": {
              "color": "#EBF0F8"
             },
             "line": {
              "color": "white"
             }
            },
            "header": {
             "fill": {
              "color": "#C8D4E3"
             },
             "line": {
              "color": "white"
             }
            },
            "type": "table"
           }
          ]
         },
         "layout": {
          "annotationdefaults": {
           "arrowcolor": "#2a3f5f",
           "arrowhead": 0,
           "arrowwidth": 1
          },
          "autotypenumbers": "strict",
          "coloraxis": {
           "colorbar": {
            "outlinewidth": 0,
            "ticks": ""
           }
          },
          "colorscale": {
           "diverging": [
            [
             0,
             "#8e0152"
            ],
            [
             0.1,
             "#c51b7d"
            ],
            [
             0.2,
             "#de77ae"
            ],
            [
             0.3,
             "#f1b6da"
            ],
            [
             0.4,
             "#fde0ef"
            ],
            [
             0.5,
             "#f7f7f7"
            ],
            [
             0.6,
             "#e6f5d0"
            ],
            [
             0.7,
             "#b8e186"
            ],
            [
             0.8,
             "#7fbc41"
            ],
            [
             0.9,
             "#4d9221"
            ],
            [
             1,
             "#276419"
            ]
           ],
           "sequential": [
            [
             0,
             "#0d0887"
            ],
            [
             0.1111111111111111,
             "#46039f"
            ],
            [
             0.2222222222222222,
             "#7201a8"
            ],
            [
             0.3333333333333333,
             "#9c179e"
            ],
            [
             0.4444444444444444,
             "#bd3786"
            ],
            [
             0.5555555555555556,
             "#d8576b"
            ],
            [
             0.6666666666666666,
             "#ed7953"
            ],
            [
             0.7777777777777778,
             "#fb9f3a"
            ],
            [
             0.8888888888888888,
             "#fdca26"
            ],
            [
             1,
             "#f0f921"
            ]
           ],
           "sequentialminus": [
            [
             0,
             "#0d0887"
            ],
            [
             0.1111111111111111,
             "#46039f"
            ],
            [
             0.2222222222222222,
             "#7201a8"
            ],
            [
             0.3333333333333333,
             "#9c179e"
            ],
            [
             0.4444444444444444,
             "#bd3786"
            ],
            [
             0.5555555555555556,
             "#d8576b"
            ],
            [
             0.6666666666666666,
             "#ed7953"
            ],
            [
             0.7777777777777778,
             "#fb9f3a"
            ],
            [
             0.8888888888888888,
             "#fdca26"
            ],
            [
             1,
             "#f0f921"
            ]
           ]
          },
          "colorway": [
           "#636efa",
           "#EF553B",
           "#00cc96",
           "#ab63fa",
           "#FFA15A",
           "#19d3f3",
           "#FF6692",
           "#B6E880",
           "#FF97FF",
           "#FECB52"
          ],
          "font": {
           "color": "#2a3f5f"
          },
          "geo": {
           "bgcolor": "white",
           "lakecolor": "white",
           "landcolor": "#E5ECF6",
           "showlakes": true,
           "showland": true,
           "subunitcolor": "white"
          },
          "hoverlabel": {
           "align": "left"
          },
          "hovermode": "closest",
          "mapbox": {
           "style": "light"
          },
          "paper_bgcolor": "white",
          "plot_bgcolor": "#E5ECF6",
          "polar": {
           "angularaxis": {
            "gridcolor": "white",
            "linecolor": "white",
            "ticks": ""
           },
           "bgcolor": "#E5ECF6",
           "radialaxis": {
            "gridcolor": "white",
            "linecolor": "white",
            "ticks": ""
           }
          },
          "scene": {
           "xaxis": {
            "backgroundcolor": "#E5ECF6",
            "gridcolor": "white",
            "gridwidth": 2,
            "linecolor": "white",
            "showbackground": true,
            "ticks": "",
            "zerolinecolor": "white"
           },
           "yaxis": {
            "backgroundcolor": "#E5ECF6",
            "gridcolor": "white",
            "gridwidth": 2,
            "linecolor": "white",
            "showbackground": true,
            "ticks": "",
            "zerolinecolor": "white"
           },
           "zaxis": {
            "backgroundcolor": "#E5ECF6",
            "gridcolor": "white",
            "gridwidth": 2,
            "linecolor": "white",
            "showbackground": true,
            "ticks": "",
            "zerolinecolor": "white"
           }
          },
          "shapedefaults": {
           "line": {
            "color": "#2a3f5f"
           }
          },
          "ternary": {
           "aaxis": {
            "gridcolor": "white",
            "linecolor": "white",
            "ticks": ""
           },
           "baxis": {
            "gridcolor": "white",
            "linecolor": "white",
            "ticks": ""
           },
           "bgcolor": "#E5ECF6",
           "caxis": {
            "gridcolor": "white",
            "linecolor": "white",
            "ticks": ""
           }
          },
          "title": {
           "x": 0.05
          },
          "xaxis": {
           "automargin": true,
           "gridcolor": "white",
           "linecolor": "white",
           "ticks": "",
           "title": {
            "standoff": 15
           },
           "zerolinecolor": "white",
           "zerolinewidth": 2
          },
          "yaxis": {
           "automargin": true,
           "gridcolor": "white",
           "linecolor": "white",
           "ticks": "",
           "title": {
            "standoff": 15
           },
           "zerolinecolor": "white",
           "zerolinewidth": 2
          }
         }
        },
        "title": {
         "font": {
          "family": "Computer Modern, serif",
          "size": 16
         },
         "text": "",
         "x": 0.5
        },
        "width": 800,
        "xaxis": {
         "linecolor": "black",
         "linewidth": 1,
         "mirror": true,
         "showgrid": false,
         "showline": true,
         "tickfont": {
          "family": "Computer Modern, serif",
          "size": 14
         },
         "title": {
          "font": {
           "family": "Computer Modern, serif",
           "size": 14
          },
          "text": "Model + Info (Wordle)"
         }
        },
        "yaxis": {
         "gridcolor": "lightgray",
         "gridwidth": 0.5,
         "linecolor": "black",
         "linewidth": 1,
         "mirror": true,
         "range": [
          0,
          0.05619793813125617
         ],
         "showgrid": true,
         "showline": true,
         "tickfont": {
          "family": "Computer Modern, serif",
          "size": 14
         },
         "title": {
          "font": {
           "family": "Computer Modern, serif",
           "size": 14
          },
          "text": "Greediness (Correct)"
         }
        }
       }
      }
     },
     "metadata": {},
     "output_type": "display_data"
    }
   ],
   "source": [
    "fig_gr_wd.show()"
   ]
  },
  {
   "cell_type": "code",
   "execution_count": 114,
   "id": "fb5f3138",
   "metadata": {},
   "outputs": [
    {
     "data": {
      "text/plain": [
       "['deepseek/deepseek-chat (history)',\n",
       " 'deepseek/deepseek-chat (both)',\n",
       " 'google/gemini-2.5-pro (history)',\n",
       " 'deepseek/deepseek-chat (belief)',\n",
       " 'deepseek/deepseek-r1 (history)',\n",
       " 'google/gemini-2.5-pro (belief)',\n",
       " 'google/gemini-2.5-pro (both)',\n",
       " 'deepseek/deepseek-r1 (both)',\n",
       " 'deepseek/deepseek-r1 (belief)']"
      ]
     },
     "execution_count": 114,
     "metadata": {},
     "output_type": "execute_result"
    }
   ],
   "source": [
    "list(df.model_info.unique())"
   ]
  },
  {
   "cell_type": "markdown",
   "id": "1547afe2",
   "metadata": {},
   "source": [
    "## 5. Sizes of Reasoning Traces"
   ]
  },
  {
   "cell_type": "code",
   "execution_count": 248,
   "id": "9402310a",
   "metadata": {},
   "outputs": [],
   "source": [
    "def plot_belief_length(df):\n",
    "    envs = list(df['env'].astype(str).unique())\n",
    "    from math import sqrt\n",
    "    import plotly\n",
    "    go = plotly.graph_objects\n",
    "    make_subplots = plotly.subplots.make_subplots\n",
    "\n",
    "    # Compute lengths for both reasoning fields\n",
    "    belief_reasoning_length = df['belief_reasoning'].astype(str).str.len()\n",
    "    action_reasoning_length = df['action_reasoning'].astype(str).str.len()\n",
    "\n",
    "    # Prepare dataframes for aggregation\n",
    "    df_belief = df.assign(_reasoning_len=belief_reasoning_length, _reasoning_type='Belief Reasoning')\n",
    "    df_action = df.assign(_reasoning_len=action_reasoning_length, _reasoning_type='Action Reasoning')\n",
    "    df2 = pd.concat([df_belief, df_action], ignore_index=True)\n",
    "\n",
    "    agg = (\n",
    "        df2.groupby(['env', 'model', 'attempt', '_reasoning_type'])\n",
    "        ._reasoning_len.agg(['mean', 'std', 'count'])\n",
    "        .reset_index()\n",
    "    )\n",
    "    agg['sem'] = agg['std'] / agg['count'].apply(lambda n: sqrt(n) if n > 0 else 1)\n",
    "\n",
    "    colors = [\n",
    "        \"#8B0000\",  # dark red\n",
    "        \"#FF6347\",  # medium red\n",
    "        \"#FFB6C1\",  # light red\n",
    "        \"#90EE90\",  # light green\n",
    "        \"#006400\",  # dark green\n",
    "        \"#32CD32\",  # medium green\n",
    "        \"#ADD8E6\",  # light blue\n",
    "        \"#4682B4\",  # medium blue\n",
    "        \"#003366\",  # dark blue\n",
    "    ]\n",
    "\n",
    "    # Two rows: 1 for belief_reasoning, 2 for action_reasoning, but reduce vertical space and share axes\n",
    "    fig = make_subplots(\n",
    "        rows=2,\n",
    "        cols=len(envs),\n",
    "        shared_yaxes=False,\n",
    "        shared_xaxes=False,\n",
    "        subplot_titles=[f\"{env}\" for env in envs],\n",
    "        row_titles=[\"\", \"\"],\n",
    "        vertical_spacing=0.1 \n",
    "    )\n",
    "\n",
    "    # model_color_map = {}\n",
    "\n",
    "    model_color_map = {\n",
    "        'Deepseek V3 (ABBEL)': '#4682B4',\n",
    "        'Deepseek R1 (ABBEL)': '#8B0000',\n",
    "        'Gemini 2.5 Pro (ABBEL)': '#006400',\n",
    "        'Deepseek V3': '#4682B4',\n",
    "        'Deepseek R1': '#FFB6C1',\n",
    "        'Gemini 2.5 Pro': '#90EE90',\n",
    "        'Deepseek V3 (belief prompting)': '#4682B4',\n",
    "        'Deepseek R1 (belief prompting)': '#FF6347',\n",
    "        'Gemini 2.5 Pro (belief prompting)': '#32CD32',\n",
    "    }\n",
    "\n",
    "    models_seen = set()\n",
    "    color_idx = 0\n",
    "\n",
    "    for col_idx, env in enumerate(envs, start=1):\n",
    "        for row_idx, reasoning_type in enumerate(['Belief Reasoning', 'Action Reasoning'], start=1):\n",
    "            sub = agg[(agg['env'] == env) & (agg['_reasoning_type'] == reasoning_type)]\n",
    "            for model in sub['model'].unique():\n",
    "                mdf = sub[sub['model'] == model].sort_values('attempt')\n",
    "                if model not in model_color_map:\n",
    "                    model_color_map[model] = colors[color_idx % len(colors)]\n",
    "                    color_idx += 1\n",
    "\n",
    "                # if ('V3' not in model) and not ('Belief' in reasoning_type and '(' not in model):\n",
    "                if not ('Belief' in reasoning_type and '(' not in model):\n",
    "                    show_legend = model not in models_seen\n",
    "                    models_seen.add(model)\n",
    "                    fig.add_trace(\n",
    "                        go.Scatter(\n",
    "                            x=mdf['attempt'],\n",
    "                            y=mdf['mean'],\n",
    "                            error_y=dict(\n",
    "                                type='data',\n",
    "                                array=mdf['sem'],\n",
    "                                visible=True,\n",
    "                                thickness=1.5,\n",
    "                                color='rgba(0,0,0,0.4)'\n",
    "                            ),\n",
    "                            mode='lines+markers',\n",
    "                            name=str(model),\n",
    "                            legendgroup=str(model),\n",
    "                            showlegend=show_legend,\n",
    "                            line=dict(color=model_color_map[model], width=2)\n",
    "                        ),\n",
    "                        row=row_idx, col=col_idx\n",
    "                    )\n",
    "\n",
    "            fig.update_xaxes(\n",
    "                title_text='Step' if row_idx == 2 else '',\n",
    "                color='black',\n",
    "                showline=True,\n",
    "                linecolor='black',\n",
    "                linewidth=1,\n",
    "                showgrid=False,\n",
    "                row=row_idx, col=col_idx\n",
    "            )\n",
    "\n",
    "            fig.update_yaxes(\n",
    "                title_text=f'{reasoning_type} Length' if col_idx == 1 else None,\n",
    "                showline=True,\n",
    "                linecolor='black',\n",
    "                linewidth=1,\n",
    "                tickfont=dict(color='black'),\n",
    "                showgrid=True,\n",
    "                gridcolor='lightgray',\n",
    "                row=row_idx, col=col_idx\n",
    "            )\n",
    "\n",
    "        # Layout with horizontal legend\n",
    "    fig.update_layout(\n",
    "        height=700,\n",
    "        # width=fig_width,\n",
    "        template='simple_white',\n",
    "        font=dict(family='Computer Modern, serif', size=16),\n",
    "        barmode='group',\n",
    "        showlegend=True,\n",
    "        legend=dict(\n",
    "            title={'text': ' Model<br> (info)'},\n",
    "            orientation='h',\n",
    "            yanchor='bottom',\n",
    "            y=1.18,\n",
    "            xanchor='center',\n",
    "            x=0.5,\n",
    "            bgcolor='rgba(255,255,255,0.9)',\n",
    "            bordercolor='black',\n",
    "            borderwidth=1\n",
    "        ),\n",
    "        margin=dict(t=100, b=50, l=80, r=80),\n",
    "        plot_bgcolor='white'\n",
    "    )\n",
    "\n",
    "    return fig\n"
   ]
  },
  {
   "cell_type": "code",
   "execution_count": 249,
   "id": "6d33171d",
   "metadata": {},
   "outputs": [],
   "source": [
    "# df_reasoning = df[(~df['model'].str.contains('deepseek/deepseek-chat')) & (df['info'] == 'belief')]\n",
    "# df_reasoning = df[\n",
    "#     (~df['model'].str.contains('deepseek/deepseek-chat')) &\n",
    "#     (df['info'].isin(['belief', 'history']))\n",
    "# ]\n",
    "df_reasoning = df[~df['model'].str.contains('V3')]"
   ]
  },
  {
   "cell_type": "code",
   "execution_count": 250,
   "id": "5b0f52ac",
   "metadata": {},
   "outputs": [
    {
     "data": {
      "text/plain": [
       "(16461, 25417)"
      ]
     },
     "execution_count": 250,
     "metadata": {},
     "output_type": "execute_result"
    }
   ],
   "source": [
    "len(df_reasoning), len(df)"
   ]
  },
  {
   "cell_type": "code",
   "execution_count": 251,
   "id": "2523b070",
   "metadata": {},
   "outputs": [],
   "source": [
    "fig = plot_belief_length(df_reasoning)"
   ]
  },
  {
   "cell_type": "code",
   "execution_count": 252,
   "id": "295ea216",
   "metadata": {},
   "outputs": [
    {
     "data": {
      "application/vnd.plotly.v1+json": {
       "config": {
        "plotlyServerURL": "https://plot.ly"
       },
       "data": [
        {
         "error_y": {
          "array": {
           "bdata": "zYZLlPZlTUB5O1coZOtPQJDcBIOruFdAP5NSHjMscEDV14ZqmnBtQE5hVxvh2VtAspbI0o3BZkBE080KB4l1QJxip6vbnW1AxU/kUTV1XEDYbOzZR8RSQHjoUqZNJGZAfAB0X22rU0CN5BwazINgQFGhVxdP3WNA+j9uzRKmWUDOcyp5oEJjQDWC6lz+bmBAfsxzVisNYEA1GjFXuEthQA==",
           "dtype": "f8"
          },
          "color": "rgba(0,0,0,0.4)",
          "thickness": 1.5,
          "type": "data",
          "visible": true
         },
         "legendgroup": "Deepseek R1 (ABBEL)",
         "line": {
          "color": "#8B0000",
          "width": 2
         },
         "mode": "lines+markers",
         "name": "Deepseek R1 (ABBEL)",
         "showlegend": true,
         "type": "scatter",
         "x": {
          "bdata": "AQIDBAUGBwgJCgsMDQ4PEBESExQ=",
          "dtype": "i1"
         },
         "xaxis": "x",
         "y": {
          "bdata": "AAAAAICMk0DNzMzMTCiUQKRBGqRB0pZA6wZT5LOumkAAAAAAgOaaQJqZmZmZrZZAzczMzMzomUC+hPYS2i+gQKG9hPYSyp5APQrXo3Dhl0BkIQtZyHqWQM3MzMzMVZlAAAAAAEDhlUB3d3d3d9OaQGZmZmZmEptAiYiIiIj4mEC8u7u7u6uZQCIiIiIikplAip3YiZ1slUCjiy666P6bQA==",
          "dtype": "f8"
         },
         "yaxis": "y"
        },
        {
         "error_y": {
          "array": {
           "bdata": "/2/s5+GcTEC6VYOzCnRsQMGOLw+EB3NACyaLtcrTWUBOQJN71CNmQLOGw3zfEnNAruBWW6kCW0DxS9jJH/aCQGZfuxkLfG9AmtyKeR+ZfEBqx1AwU25dQLGDTrc9G3NAIlJGFcwiZ0Cdm9E4+DJpQCwlCo7Y4XtANEGgScs+hEC2SgMrF1WFQPJd0Ym9f2pAnX3QRyl4ckDT0jT0fIlkQA==",
           "dtype": "f8"
          },
          "color": "rgba(0,0,0,0.4)",
          "thickness": 1.5,
          "type": "data",
          "visible": true
         },
         "legendgroup": "Deepseek R1 (belief prompting)",
         "line": {
          "color": "#FF6347",
          "width": 2
         },
         "mode": "lines+markers",
         "name": "Deepseek R1 (belief prompting)",
         "showlegend": true,
         "type": "scatter",
         "x": {
          "bdata": "AQIDBAUGBwgJCgsMDQ4PEBESExQ=",
          "dtype": "i1"
         },
         "xaxis": "x",
         "y": {
          "bdata": "ZmZmZubelEBmZmZmZl2ZQAAAAAAAdJ5AAAAAAADzmUA7qIM6qDudQNPS0tLSDKBASimllFIimUD3EtpLaPGjQFnIQhayrJ9AdNFFF11xoUB6nud5njOaQJTXUF5DeaBAh/IaymuQnkA5juM4jpOgQAAAAAAAiaRAeHh4eHhYpEAAAAAAYC6jQAAAAABAG55Aq6qqqqq2oEBmZmZmZvacQA==",
          "dtype": "f8"
         },
         "yaxis": "y"
        },
        {
         "error_y": {
          "array": {
           "bdata": "SFLffROFT0CiofbJvgtIQFhr6szvvkpACbxa1cWyR0BqgqbShwdEQFAdFcj+oE5ADWUwes82SEClyrhi8XhQQLDycexZFlNALvmoHr/SSkD5CFJJ6LRMQMwP2K2op1ZAXNyAAfQWUEBcyxX43fJXQNtv16d3kl1ARtbg8sR5U0ARhcIhpudcQJNlb67i+VhAlqshpErBYUCDcTadbe5jQA==",
           "dtype": "f8"
          },
          "color": "rgba(0,0,0,0.4)",
          "thickness": 1.5,
          "type": "data",
          "visible": true
         },
         "legendgroup": "Gemini 2.5 Pro (ABBEL)",
         "line": {
          "color": "#006400",
          "width": 2
         },
         "mode": "lines+markers",
         "name": "Gemini 2.5 Pro (ABBEL)",
         "showlegend": true,
         "type": "scatter",
         "x": {
          "bdata": "AQIDBAUGBwgJCgsMDQ4PEBESExQ=",
          "dtype": "i1"
         },
         "xaxis": "x",
         "y": {
          "bdata": "AAAAAACrlkCamZmZmRSVQEN5DeU1EJdAlNdQXkOjlkCLr/iKr1yXQE422WST8ZdAAAAAAEB/mEC3bdu2bZ+XQKuqqqqqm5hAhmEYhmHomECvobyG8kqYQBzHcRzHw5pAVVVVVVWFmUBVVVVVVXyXQAAAAAAAlJlAAAAAAAB8mkAAAAAAAIaZQDmO4ziO/5hAAAAAAACMmEAAAAAAAPqWQA==",
          "dtype": "f8"
         },
         "yaxis": "y"
        },
        {
         "error_y": {
          "array": {
           "bdata": "YiVIKZ/SSUBqy1I9qDtIQOZ9JANS80hAEbheo1A3TEAe1n66gSNNQN63ecR8Ak1AQgpYuO/FTkBy2A3HABBXQD2iUzaaIVdAl8cczslUW0CFIcnwqrNhQOSJuDFM3WVABfDtAOV6YkB1FH2KfI9cQPHOrgIijV5AOs1lYmSub0BqNlXY05VlQBaq65wO6XFA8xNZ1XV7ckD//////39ZQA==",
           "dtype": "f8"
          },
          "color": "rgba(0,0,0,0.4)",
          "thickness": 1.5,
          "type": "data",
          "visible": true
         },
         "legendgroup": "Gemini 2.5 Pro (belief prompting)",
         "line": {
          "color": "#32CD32",
          "width": 2
         },
         "mode": "lines+markers",
         "name": "Gemini 2.5 Pro (belief prompting)",
         "showlegend": true,
         "type": "scatter",
         "x": {
          "bdata": "AQIDBAUGBwgJCgsMDQ4PEBESExQ=",
          "dtype": "i1"
         },
         "xaxis": "x",
         "y": {
          "bdata": "mpmZmZn8lUDNzMzMTD6VQC7f8i3fqpZAvuIrvuJrlkBTSimllDKZQN7d3d3dNZdAmpmZmZmJl0BVVVVVVc2YQFVVVVVVuZlADw8PDw/PmUBEREREREiXQAAAAAAAzpdAAAAAAABcl0AAAAAAABubQKuqqqqqlphAVVVVVVUlm0CrqqqqqnaaQKuqqqqqrptAVVVVVVVlmkAAAAAAAKiXQA==",
          "dtype": "f8"
         },
         "yaxis": "y"
        },
        {
         "error_y": {
          "array": {
           "bdata": "u16JWKckaUCBVuFwq3FgQJpF86AlUltAOlYvAx1OXkBon6yxZX9kQKE2rQ69TXRAjOQV8QNad0B/sOGHDlN5QKfhNiMAFWNAyCb3esyfgEB15YAqQCB5QFMLILGRW3lAHQS7kCKtaUB8oUMGFFSBQDHGY7SLgnhAHO3KggQviUA5Xl5gWbuDQOidbEmBhHJAJWqxb8BwcUDz6ys0CBt4QA==",
           "dtype": "f8"
          },
          "color": "rgba(0,0,0,0.4)",
          "thickness": 1.5,
          "type": "data",
          "visible": true
         },
         "legendgroup": "Deepseek R1",
         "line": {
          "color": "#FFB6C1",
          "width": 2
         },
         "mode": "lines+markers",
         "name": "Deepseek R1",
         "showlegend": true,
         "type": "scatter",
         "x": {
          "bdata": "AQIDBAUGBwgJCgsMDQ4PEBESExQ=",
          "dtype": "i1"
         },
         "xaxis": "x7",
         "y": {
          "bdata": "MzMzM7M0mEDNzMzMTKeTQGZmZmbmZZRAyWfdYIoklEBJkiRJkjyZQJNNNtlkE6FA2WSTTTaZoEC8u7u7uzihQGqE5Z5GLJdAT+zETuyYpEAAAAAAQMqgQIYsZCELlaFARhdddNEvmUCGYRiGYZqjQJqZmZkZAKFAmpmZmRlMp0AAAAAAABSjQDMzMzMz/aFAZmZmZmY6nkBmZmZmZo6gQA==",
          "dtype": "f8"
         },
         "yaxis": "y7"
        },
        {
         "error_y": {
          "array": {
           "bdata": "0eeSe8tcckDe5CtCEDh0QF7lFtWsOntAUv/f1YljdkDbR9AiAltnQKdlbGdp5HRAVMUMuyAzeUDKwSwARVVwQCH8Trm2lX1Ak0NQFDGedED4MAJM6DVuQFmuVDYsrX1Aer6Oa3BHX0AWznv2Xgl2QBhn7j0mfmVACqg+X3fZc0AuyqTv3pVgQCehFRJ+CmJAKgDtcjmcbkAw8cvi7fx7QA==",
           "dtype": "f8"
          },
          "color": "rgba(0,0,0,0.4)",
          "thickness": 1.5,
          "type": "data",
          "visible": true
         },
         "legendgroup": "Deepseek R1 (ABBEL)",
         "line": {
          "color": "#8B0000",
          "width": 2
         },
         "mode": "lines+markers",
         "name": "Deepseek R1 (ABBEL)",
         "showlegend": false,
         "type": "scatter",
         "x": {
          "bdata": "AQIDBAUGBwgJCgsMDQ4PEBESExQ=",
          "dtype": "i1"
         },
         "xaxis": "x7",
         "y": {
          "bdata": "ZmZmZmYgmUAAAAAAgKSdQPMt3/ItfaVAKvJZN5gso0AAAAAAQLOdQO/u7u7uuJ9Ad3d3d3c4pEBCewntJVSdQBPaS2gvUZ9A9ihcj8IzoUBOb3rTm1qfQAAAAAAAcaJAAAAAAEDZlUCamZmZmS2fQBERERERLZdAvLu7u7ubnECrqqqqquqWQKuqqqqq6pZAntiJndilmECjiy666IKcQA==",
          "dtype": "f8"
         },
         "yaxis": "y7"
        },
        {
         "error_y": {
          "array": {
           "bdata": "OeL6Cw/ZZUCZ2GzWuwxrQE4563kYd2BAM5s+fY5LXUAK417/VbtwQEOiBidGnXRAmp8lN6yrbUBn2p7E9htYQH0759msaHJAov4/xqxUc0AsVl4vnxphQDtKM44IqWtAunym/127e0DnhfwI2t1wQKiMPIP9A4FAaeI6wr8fVUDdMQw7h6xYQIs6C9xmLVJAaIEwn4KVdkBtJEoMIHFfQA==",
           "dtype": "f8"
          },
          "color": "rgba(0,0,0,0.4)",
          "thickness": 1.5,
          "type": "data",
          "visible": true
         },
         "legendgroup": "Deepseek R1 (belief prompting)",
         "line": {
          "color": "#FF6347",
          "width": 2
         },
         "mode": "lines+markers",
         "name": "Deepseek R1 (belief prompting)",
         "showlegend": false,
         "type": "scatter",
         "x": {
          "bdata": "AQIDBAUGBwgJCgsMDQ4PEBESExQ=",
          "dtype": "i1"
         },
         "xaxis": "x7",
         "y": {
          "bdata": "MzMzM7MylUBmZmZmZkaVQNmJndiJIZNAHMdxHMehk0CEOqiDOpCcQAAAAAAAKJtAjDHGGGPYmkC0l9BeQhOUQIYsZCELTZxAo4suuuhMnkBJkiRJkqCXQAAAAAAAgJhADeU1lNeQmkAcx3Ecx2OcQBzHcRzH/6JAiIeHh4enlUAAAAAAQBOVQAAAAACATZRAVVVVVVXtmUCJiIiIiPiWQA==",
          "dtype": "f8"
         },
         "yaxis": "y7"
        },
        {
         "error_y": {
          "array": {
           "bdata": "YYpRu55aUkAlINmYGTJLQLxtImXWQU9Ajp5Lb20bU0AEu9YiBspiQMbH/WpyLVVAYF48b2OKVECXT83MqgteQC9BcPQLn1dAOURbVJY8UEDIDpi1oWRZQIZ9Irevg2NAwX0sg1l7bUDF8C1XLBxsQA/eVR/0nG5AI33OdKy8ZECOcQ3FJDNlQLH4IoohzXBAAAAAAACAMUAAAAAAALSLQA==",
           "dtype": "f8"
          },
          "color": "rgba(0,0,0,0.4)",
          "thickness": 1.5,
          "type": "data",
          "visible": true
         },
         "legendgroup": "Gemini 2.5 Pro",
         "line": {
          "color": "#90EE90",
          "width": 2
         },
         "mode": "lines+markers",
         "name": "Gemini 2.5 Pro",
         "showlegend": true,
         "type": "scatter",
         "x": {
          "bdata": "AQIDBAUGBwgJCgsMDQ4PEBESExQ=",
          "dtype": "i1"
         },
         "xaxis": "x7",
         "y": {
          "bdata": "ZmZmZuZamUBmZmZmZo+TQHIcx3Ec75RAS0tLS0stlUDv7u7u7rCXQLdt27ZtbpZAq6qqqio9lECnN73pTU+XQI7jOI7jfJFAbtu2bduulECrqqqqqrWTQAAAAAAAoJVAAAAAAABClUAAAAAAAMiXQFVVVVVVb5JAAAAAAAAQmUAAAAAAAKuSQAAAAAAAK5NAAAAAAADKkEAAAAAAAOqXQA==",
          "dtype": "f8"
         },
         "yaxis": "y7"
        },
        {
         "error_y": {
          "array": {
           "bdata": "vhwtPisGT0DK7PVmwu5NQKJbi+fSTFFAgsiLFp0WUUA3xRBlwY1QQGrjzYL8BlFAXST1grEpUEC4nTOYOHZQQIvp6g8Da1NALfwBiFzlVUBEF8erqp1cQF8k2SasZ2BAw6NdQH8iYUAKeRDgy2hkQGbz7QflUFxAGRgUjKQIZkBnmlIoHMNcQKSCT+l/HWhAMvwFg8uxYED3fIaNRORhQA==",
           "dtype": "f8"
          },
          "color": "rgba(0,0,0,0.4)",
          "thickness": 1.5,
          "type": "data",
          "visible": true
         },
         "legendgroup": "Gemini 2.5 Pro (ABBEL)",
         "line": {
          "color": "#006400",
          "width": 2
         },
         "mode": "lines+markers",
         "name": "Gemini 2.5 Pro (ABBEL)",
         "showlegend": false,
         "type": "scatter",
         "x": {
          "bdata": "AQIDBAUGBwgJCgsMDQ4PEBESExQ=",
          "dtype": "i1"
         },
         "xaxis": "x7",
         "y": {
          "bdata": "zczMzMx6lEAzMzMzMyiWQNhQXkN575ZAQ3kN5TVulkAAAAAAAMyWQAAAAAAAhJZAAAAAAKDLlUAlSZIkSSyWQFVVVVXVMZlAnud5nucFmEDlNZTXUIqaQAAAAAAAWJlAq6qqqqpqmkCrqqqqqu+aQF100UUXaZtAZmZmZma4mUAzMzMzMyGYQDmO4ziO75dAAAAAAICwlUCrqqqqqgCZQA==",
          "dtype": "f8"
         },
         "yaxis": "y7"
        },
        {
         "error_y": {
          "array": {
           "bdata": "uRL643TXS0DTuBV2Lo5EQA3W4+T8PUlAjFW7mp9UU0AY/ygUeZVPQOGTEL1NrVRAkygMr2ltWUBT7lRGO8haQE28Q5IGJV5A5eilritQYUASqSh+A89YQCDFqD5oLFxAwAMmtzhaa0CRSP4qR8hmQAyCj+CE3URA29qmMRjUWUDAZbENx0d/QFeZPjHTdXtAQAYxcjpAckD//////290QA==",
           "dtype": "f8"
          },
          "color": "rgba(0,0,0,0.4)",
          "thickness": 1.5,
          "type": "data",
          "visible": true
         },
         "legendgroup": "Gemini 2.5 Pro (belief prompting)",
         "line": {
          "color": "#32CD32",
          "width": 2
         },
         "mode": "lines+markers",
         "name": "Gemini 2.5 Pro (belief prompting)",
         "showlegend": false,
         "type": "scatter",
         "x": {
          "bdata": "AQIDBAUGBwgJCgsMDQ4PEBESExQ=",
          "dtype": "i1"
         },
         "xaxis": "x7",
         "y": {
          "bdata": "zczMzEwYlkDNzMzMTC6XQC7f8i3fQpRAB3VQB3XYlUAAAAAAALSUQM3MzMzMmJNA7FG4HoUTk0AAAAAAAEOTQAAAAAAAaJNAeHh4eHhYkkDe3d3d3W2QQM3MzMzMrJFAzczMzMxMlEAAAAAAAB+QQFVVVVVVvZFAq6qqqqrikkAAAAAAAGSZQFVVVVVVeZVAAAAAAAAoj0AAAAAAANiLQA==",
          "dtype": "f8"
         },
         "yaxis": "y7"
        },
        {
         "error_y": {
          "array": {
           "bdata": "pdJAhiEXfkAH9ZTvjmiQQGJCkkAC1JBAIzsZ70NGgkAUwdZLLwiRQLS515Wiqo1A",
           "dtype": "f8"
          },
          "color": "rgba(0,0,0,0.4)",
          "thickness": 1.5,
          "type": "data",
          "visible": true
         },
         "legendgroup": "Deepseek R1 (ABBEL)",
         "line": {
          "color": "#8B0000",
          "width": 2
         },
         "mode": "lines+markers",
         "name": "Deepseek R1 (ABBEL)",
         "showlegend": false,
         "type": "scatter",
         "x": {
          "bdata": "AQIDBAUG",
          "dtype": "i1"
         },
         "xaxis": "x2",
         "y": {
          "bdata": "ZmZmZibFq0AAAAAAQBW/QF5DeQ1l1LtASZIkSRIls0AAAAAAcJG2QAAAAAAAjKZA",
          "dtype": "f8"
         },
         "yaxis": "y2"
        },
        {
         "error_y": {
          "array": {
           "bdata": "fKs7eL+1d0A9YsPdNcWHQEV/P7oOfolA03mG5RtulEAN3inc/QuUQP2bPPV6XK9A",
           "dtype": "f8"
          },
          "color": "rgba(0,0,0,0.4)",
          "thickness": 1.5,
          "type": "data",
          "visible": true
         },
         "legendgroup": "Deepseek R1 (belief prompting)",
         "line": {
          "color": "#FF6347",
          "width": 2
         },
         "mode": "lines+markers",
         "name": "Deepseek R1 (belief prompting)",
         "showlegend": false,
         "type": "scatter",
         "x": {
          "bdata": "AQIDBAUG",
          "dtype": "i1"
         },
         "xaxis": "x2",
         "y": {
          "bdata": "zczMzIxypkDNzMzM7BG8QOU1lNfQ8L9ASZIkSZIavkAAAAAAwFC6QAAAAADAd8xA",
          "dtype": "f8"
         },
         "yaxis": "y2"
        },
        {
         "error_y": {
          "array": {
           "bdata": "FsDHviOEXkD7rRp0ZPpmQExI/0N1xGhAZHPEoH6kcUDAmo/onCJ6QDD9PivayG9A",
           "dtype": "f8"
          },
          "color": "rgba(0,0,0,0.4)",
          "thickness": 1.5,
          "type": "data",
          "visible": true
         },
         "legendgroup": "Gemini 2.5 Pro (ABBEL)",
         "line": {
          "color": "#006400",
          "width": 2
         },
         "mode": "lines+markers",
         "name": "Gemini 2.5 Pro (ABBEL)",
         "showlegend": false,
         "type": "scatter",
         "x": {
          "bdata": "AQIDBAUG",
          "dtype": "i1"
         },
         "xaxis": "x2",
         "y": {
          "bdata": "ZmZmZubbn0AAAAAAAAmdQNhQXkN5Q51AAAAAAGAnoEDoeZ7nebKgQAAAAAAANphA",
          "dtype": "f8"
         },
         "yaxis": "y2"
        },
        {
         "error_y": {
          "array": {
           "bdata": "1Z513W0pXUA3ZMxBtLdfQM3mL0+6l2NAGpBR7yDmYEBYkPYo3nlxQLt3CuaRZYlA",
           "dtype": "f8"
          },
          "color": "rgba(0,0,0,0.4)",
          "thickness": 1.5,
          "type": "data",
          "visible": true
         },
         "legendgroup": "Gemini 2.5 Pro (belief prompting)",
         "line": {
          "color": "#32CD32",
          "width": 2
         },
         "mode": "lines+markers",
         "name": "Gemini 2.5 Pro (belief prompting)",
         "showlegend": false,
         "type": "scatter",
         "x": {
          "bdata": "AQIDBAUG",
          "dtype": "i1"
         },
         "xaxis": "x2",
         "y": {
          "bdata": "ZmZmZmYgn0DNzMzMzJyZQGZmZmZmj59AkiRJkiTFlkDT0tLS0sKZQKuqqqqqzKFA",
          "dtype": "f8"
         },
         "yaxis": "y2"
        },
        {
         "error_y": {
          "array": {
           "bdata": "NpQA7ZiAfUAjQmDHJfWOQJ8J/G/+nIhAgn5ELWmZlkCY2GHciBqiQLCSssWaCLJA",
           "dtype": "f8"
          },
          "color": "rgba(0,0,0,0.4)",
          "thickness": 1.5,
          "type": "data",
          "visible": true
         },
         "legendgroup": "Deepseek R1",
         "line": {
          "color": "#FFB6C1",
          "width": 2
         },
         "mode": "lines+markers",
         "name": "Deepseek R1",
         "showlegend": false,
         "type": "scatter",
         "x": {
          "bdata": "AQIDBAUG",
          "dtype": "i1"
         },
         "xaxis": "x8",
         "y": {
          "bdata": "MzMzM5N1t0AAAAAAwJHCQCivobyGccxASimllNKDzkAAAAAAgOHGQM3MzMyMHNBA",
          "dtype": "f8"
         },
         "yaxis": "y8"
        },
        {
         "error_y": {
          "array": {
           "bdata": "N6Ps5PWxh0AaZc0V23CKQC5mo97UxIpAsnzSkkodj0CkViHD8GaPQP3u2H29J51A",
           "dtype": "f8"
          },
          "color": "rgba(0,0,0,0.4)",
          "thickness": 1.5,
          "type": "data",
          "visible": true
         },
         "legendgroup": "Deepseek R1 (ABBEL)",
         "line": {
          "color": "#8B0000",
          "width": 2
         },
         "mode": "lines+markers",
         "name": "Deepseek R1 (ABBEL)",
         "showlegend": false,
         "type": "scatter",
         "x": {
          "bdata": "AQIDBAUG",
          "dtype": "i1"
         },
         "xaxis": "x8",
         "y": {
          "bdata": "zczMzAy1tEDNzMzMfMHAQHkN5TVU2shASZIkSfIdxEAAAAAAIHDAQNu2bdu2RMJA",
          "dtype": "f8"
         },
         "yaxis": "y8"
        },
        {
         "error_y": {
          "array": {
           "bdata": "I5HbzYxEgEDHBZtttKOMQKVtKy4PUYxACrgO5dbslUDBJiBjEFqfQCQQRB74bKZA",
           "dtype": "f8"
          },
          "color": "rgba(0,0,0,0.4)",
          "thickness": 1.5,
          "type": "data",
          "visible": true
         },
         "legendgroup": "Deepseek R1 (belief prompting)",
         "line": {
          "color": "#FF6347",
          "width": 2
         },
         "mode": "lines+markers",
         "name": "Deepseek R1 (belief prompting)",
         "showlegend": false,
         "type": "scatter",
         "x": {
          "bdata": "AQIDBAUG",
          "dtype": "i1"
         },
         "xaxis": "x8",
         "y": {
          "bdata": "zczMzAwatEBmZmZmJgrCQPMaymvo7MtAbtu2bXtQzEAAAAAA4CHJQAAAAABIEtBA",
          "dtype": "f8"
         },
         "yaxis": "y8"
        },
        {
         "error_y": {
          "array": {
           "bdata": "lJtCE4YPWkDsglfsFCxjQG8KH1+ISm5AYFwYj1aKcEBGKpuB+wmAQClKb+zV9JBA",
           "dtype": "f8"
          },
          "color": "rgba(0,0,0,0.4)",
          "thickness": 1.5,
          "type": "data",
          "visible": true
         },
         "legendgroup": "Gemini 2.5 Pro",
         "line": {
          "color": "#90EE90",
          "width": 2
         },
         "mode": "lines+markers",
         "name": "Gemini 2.5 Pro",
         "showlegend": false,
         "type": "scatter",
         "x": {
          "bdata": "AQIDBAUG",
          "dtype": "i1"
         },
         "xaxis": "x8",
         "y": {
          "bdata": "ZmZmZmYNmUAzMzMzM8alQE/sxE7smqlAVVVVVVWzq0AAAAAAoOOtQKuqqqqqQKlA",
          "dtype": "f8"
         },
         "yaxis": "y8"
        },
        {
         "error_y": {
          "array": {
           "bdata": "lN1PcHR4REBgjLvThsxgQJ2bouR41mlA1rPo5FQ8eUAnvIjRCLl1QAN4AOOTLH5A",
           "dtype": "f8"
          },
          "color": "rgba(0,0,0,0.4)",
          "thickness": 1.5,
          "type": "data",
          "visible": true
         },
         "legendgroup": "Gemini 2.5 Pro (ABBEL)",
         "line": {
          "color": "#006400",
          "width": 2
         },
         "mode": "lines+markers",
         "name": "Gemini 2.5 Pro (ABBEL)",
         "showlegend": false,
         "type": "scatter",
         "x": {
          "bdata": "AQIDBAUG",
          "dtype": "i1"
         },
         "xaxis": "x8",
         "y": {
          "bdata": "MzMzMzNYjUDNzMzMjJygQK+hvIbyaqdAAAAAAGBDrUCe53me51eiQJqZmZmZmqlA",
          "dtype": "f8"
         },
         "yaxis": "y8"
        },
        {
         "error_y": {
          "array": {
           "bdata": "GkTrzN4eT0DlzSneVNFjQHv2VsVgBmFAlQiUgyg2ckAxSowdcj1yQCIxFH00EYZA",
           "dtype": "f8"
          },
          "color": "rgba(0,0,0,0.4)",
          "thickness": 1.5,
          "type": "data",
          "visible": true
         },
         "legendgroup": "Gemini 2.5 Pro (belief prompting)",
         "line": {
          "color": "#32CD32",
          "width": 2
         },
         "mode": "lines+markers",
         "name": "Gemini 2.5 Pro (belief prompting)",
         "showlegend": false,
         "type": "scatter",
         "x": {
          "bdata": "AQIDBAUG",
          "dtype": "i1"
         },
         "xaxis": "x8",
         "y": {
          "bdata": "AAAAAABHkEDNzMzMzMijQJqZmZmZDqhA+Yqv+IrXq0CmpaWlpTGkQKuqqqqqFqpA",
          "dtype": "f8"
         },
         "yaxis": "y8"
        },
        {
         "error_y": {
          "array": {
           "bdata": "AqNGHrcGWkC1R87sSMxsQEqLikNbqGdAMToDGcV6fkD2kGUtTepwQLlROxVrbHlAv+BQ03aaeUAwD6s8HCmEQPZNCVCtG4JAL0I5b+WbgkBozi1NY26OQGo5SAe3QoNAHVHKnzLZdkDUHCGMUPuQQNBtVA6uKJNA3c58MvfaiUBR4uGWT8qCQB+TPzNeiYRAORndJ9PtgkBOKADvF5WMQA==",
           "dtype": "f8"
          },
          "color": "rgba(0,0,0,0.4)",
          "thickness": 1.5,
          "type": "data",
          "visible": true
         },
         "legendgroup": "Deepseek R1 (ABBEL)",
         "line": {
          "color": "#8B0000",
          "width": 2
         },
         "mode": "lines+markers",
         "name": "Deepseek R1 (ABBEL)",
         "showlegend": false,
         "type": "scatter",
         "x": {
          "bdata": "AQIDBAUGBwgJCgsMDQ4PEBESExQ=",
          "dtype": "i1"
         },
         "xaxis": "x3",
         "y": {
          "bdata": "zczMzEy7mkDNzMzMjCShQGZmZmam76BAzczMzMwsqUBT5LNuMDOkQKuqqqoqwKdA7+7u7u43pEAAAAAAgDGqQM3MzMzM6axAAAAAAABIrkAor6G8hmqzQPMaymsoaalAbCivobxApkByHMdxHGWwQHIcx3GcGLdAHMdxHMepsUCO4ziO4xKuQOQ4juM4MqxAHMdxHMfPq0AAAAAAAGSuQA==",
          "dtype": "f8"
         },
         "yaxis": "y3"
        },
        {
         "error_y": {
          "array": {
           "bdata": "gqHTO0C3Z0DOwp7NxQFhQKeMGXHsOWpA6angD2qfcUDeFgVqjS5zQHvwwChbInlAzSKlt11ugUC1bISCskiFQERmFNT06INAYvqJPQlUiECAf5F8wmF/QJiw4YD4X3JA6i4mQXlchUAj8Gz8l8KBQAVbfznMyIVAXUX1nxiZeUCPRw7EOyp/QMfz1yyUdo1A/2FYQKokhUANemIXc5KEQA==",
           "dtype": "f8"
          },
          "color": "rgba(0,0,0,0.4)",
          "thickness": 1.5,
          "type": "data",
          "visible": true
         },
         "legendgroup": "Deepseek R1 (belief prompting)",
         "line": {
          "color": "#FF6347",
          "width": 2
         },
         "mode": "lines+markers",
         "name": "Deepseek R1 (belief prompting)",
         "showlegend": false,
         "type": "scatter",
         "x": {
          "bdata": "AQIDBAUGBwgJCgsMDQ4PEBESExQ=",
          "dtype": "i1"
         },
         "xaxis": "x3",
         "y": {
          "bdata": "zczMzEyzm0AAAAAAgIeeQM3MzMwMA6RAy7d8y7d8pECbbLLJJpOlQKgRlnsaT6pA27Zt27bZqECxEzuxkyGwQBQ7sRM7fbFAq6qqqurrsEAAAAAAQJGmQFVVVVUVp6FA6aKLLroWr0AAAAAAgMCrQGZmZmbmya9AeQ3lNZQXp0B5DeU1lIGoQEN5DeU1gLJA5TWU11DEq0CvobyG8q6rQA==",
          "dtype": "f8"
         },
         "yaxis": "y3"
        },
        {
         "error_y": {
          "array": {
           "bdata": "w4O0GZrDTED8HENp4/NKQOIO/dCdrk5AUj6Ga1B7UUBxIMCeYfJUQCsp1SCnPVhAfj1TlmYMYkBReHsIP6dYQCoiElRBrmBA41Nvf2SRYUAF53p+Gn1kQI0znvc9pmVA/o/2u87DckAPbJBtepxwQO64o62n2VxA650ulYF8d0BnZRmQphVqQMHC3h148XBAXGBNggZke0ApspONTBJ/QA==",
           "dtype": "f8"
          },
          "color": "rgba(0,0,0,0.4)",
          "thickness": 1.5,
          "type": "data",
          "visible": true
         },
         "legendgroup": "Gemini 2.5 Pro (ABBEL)",
         "line": {
          "color": "#006400",
          "width": 2
         },
         "mode": "lines+markers",
         "name": "Gemini 2.5 Pro (ABBEL)",
         "showlegend": false,
         "type": "scatter",
         "x": {
          "bdata": "AQIDBAUGBwgJCgsMDQ4PEBESExQ=",
          "dtype": "i1"
         },
         "xaxis": "x3",
         "y": {
          "bdata": "mpmZmZlnlkCamZmZGTaaQDMzMzOzAZ1Al2/5lm+tnUDKayivoRadQHVQB3VQL5xA27Zt27ZWn0ApXI/C9VCdQKOLLrroN6FAzczMzEw1okDHcRzHcemhQOQ4juM4RaNApqWlpaUro0AAAAAA4BylQEmSJEmSjp5Aip3YiZ0GpECrqqqqKgCgQFVVVVVVWaRAAAAAAICmqUAAAAAAgOijQA==",
          "dtype": "f8"
         },
         "yaxis": "y3"
        },
        {
         "error_y": {
          "array": {
           "bdata": "wHsfrvdXSEB8ISbAVGNHQEMtUb20Ok1AolfqVOe1UUCJ1s92swhQQCuKNJPpl1lA+GSVKAwAY0DkSOFROsZhQE0LfasqCGVADjeOYqb7bEDJE0v2OP1tQM0CfpPlXGpALluD7Wr7b0DLkqEYey1rQFS8/8aEiGZAtEpOT3eqbED6xptWY3hyQDLqyeoXUnhAzvtkU047c0CZZux/bI1kQA==",
           "dtype": "f8"
          },
          "color": "rgba(0,0,0,0.4)",
          "thickness": 1.5,
          "type": "data",
          "visible": true
         },
         "legendgroup": "Gemini 2.5 Pro (belief prompting)",
         "line": {
          "color": "#32CD32",
          "width": 2
         },
         "mode": "lines+markers",
         "name": "Gemini 2.5 Pro (belief prompting)",
         "showlegend": false,
         "type": "scatter",
         "x": {
          "bdata": "AQIDBAUGBwgJCgsMDQ4PEBESExQ=",
          "dtype": "i1"
         },
         "xaxis": "x3",
         "y": {
          "bdata": "MzMzM7NzlkDNzMzMzBqZQM3MzMxM2ppAG8prKK/nnEDkOI7jOBCaQAAAAACAIJxAL6G9hPZKoUCrqqqqasOgQM3MzMzMVaJAjuM4juMIo0C1tLS0tCKjQAAAAAAAqqNA7+7u7u58pUBmZmZmZmamQLdt27ZtMaNAip3YiZ0GpUAUO7ETO4mmQFVVVVXVralAAAAAAIBDpECrqqqqqrSdQA==",
          "dtype": "f8"
         },
         "yaxis": "y3"
        },
        {
         "error_y": {
          "array": {
           "bdata": "oy/4f4/yb0Boc6m6i6RxQOYAPX89EIBA5qjGyb1shEAEKuFifoR3QBH/VDR/ZH9AGDTyQI7ZkEB9i7rO6YKOQBIMKkE1G4NAOlvsEl35gkBzgbbAqXF+QNhORvlgx5BA9s+S9Tj2cUCGxAWQW5OLQMb4n2Z48YBAbQ6UMZJekkCv6ZfQ0S2LQMB2qElCeoVASzRYhJk1fkA24+U7vU+GQA==",
           "dtype": "f8"
          },
          "color": "rgba(0,0,0,0.4)",
          "thickness": 1.5,
          "type": "data",
          "visible": true
         },
         "legendgroup": "Deepseek R1",
         "line": {
          "color": "#FFB6C1",
          "width": 2
         },
         "mode": "lines+markers",
         "name": "Deepseek R1",
         "showlegend": false,
         "type": "scatter",
         "x": {
          "bdata": "AQIDBAUGBwgJCgsMDQ4PEBESExQ=",
          "dtype": "i1"
         },
         "xaxis": "x9",
         "y": {
          "bdata": "zczMzMwqmEAzMzMzM+mZQBvKayivkKhAB3VQB3UIq0De3d3d3TWkQKuqqqpq46pA9aY3vel/r0Cjiy666P2vQGZmZmbm3aJAchzHcRygqEAAAAAAYPylQAAAAAAAyq1AAAAAAABLo0C8u7u7u2uvQN7d3d3dEapAzczMzMwlsUCrqqqqqsuwQN7d3d3dW61AkiRJkiRUp0C3bdu2bd+xQA==",
          "dtype": "f8"
         },
         "yaxis": "y9"
        },
        {
         "error_y": {
          "array": {
           "bdata": "eb6HbNggYUBg/3dtwnJ2QKMoeH/ermxAahp9fIJQbkChVcIdbHJnQOQuQqmlMFlAIO/4Rb1Od0AGEvjsDRJiQGkl0hKpBYVA5DzIihAchEBvy9bX3dh6QKCczwvi7Y1ABHEHXG+xd0BDkJGVso94QB2w+05DHnNAAPzhR2MWd0BHdZNARkp3QJAYPCShHHdAHNhILFWeeUB+Upe2Pm6CQA==",
           "dtype": "f8"
          },
          "color": "rgba(0,0,0,0.4)",
          "thickness": 1.5,
          "type": "data",
          "visible": true
         },
         "legendgroup": "Deepseek R1 (ABBEL)",
         "line": {
          "color": "#8B0000",
          "width": 2
         },
         "mode": "lines+markers",
         "name": "Deepseek R1 (ABBEL)",
         "showlegend": false,
         "type": "scatter",
         "x": {
          "bdata": "AQIDBAUGBwgJCgsMDQ4PEBESExQ=",
          "dtype": "i1"
         },
         "xaxis": "x9",
         "y": {
          "bdata": "ZmZmZmZgkUAAAAAAAI6iQAAAAABAOaFAzczMzMzVnEBMkc+6wTSZQKuqqqqqxpVAq6qqqqrOn0BVVVVV1UGVQGZmZmbmP6NAr6G8hvI+oUC9hvIayguhQAAAAAAA3KNAvYbyGsojnUA5juM4jjGaQAAAAAAARJ5AAAAAAABsokAcx3EcxxOfQKuqqqqqfp9AVVVVVVWpn0ByHMdxHHmfQA==",
          "dtype": "f8"
         },
         "yaxis": "y9"
        },
        {
         "error_y": {
          "array": {
           "bdata": "24TfYDqlUkC52VkylwRjQL73VZKYImtA4n++N/D0cUCEoQc58xxtQKSpykiWS39AtRkjwDkQdkB1iF0dczt9QO3W4fgaio1AR4XxofVXkkBem+x+OY+UQFrybgLjSpZAGk3F9QuQi0DDxBNeXj2IQNA5x5pvSotA5KH9DZWFh0DirIPDaU2MQMVuS+qmpIZA9mlI9EOxj0CDf3nyoV6SQA==",
           "dtype": "f8"
          },
          "color": "rgba(0,0,0,0.4)",
          "thickness": 1.5,
          "type": "data",
          "visible": true
         },
         "legendgroup": "Deepseek R1 (belief prompting)",
         "line": {
          "color": "#FF6347",
          "width": 2
         },
         "mode": "lines+markers",
         "name": "Deepseek R1 (belief prompting)",
         "showlegend": false,
         "type": "scatter",
         "x": {
          "bdata": "AQIDBAUGBwgJCgsMDQ4PEBESExQ=",
          "dtype": "i1"
         },
         "xaxis": "x9",
         "y": {
          "bdata": "AAAAAAB0iUBmZmZm5niUQM3MzMxMDZtAJ3ZiJ3ainEDhgw8++NyYQAnLPY2wtqFAJUmSJEkwoEAndmIndr6eQGIndmInObFAVVVVVRVisEAAAAAAQBC2QKuqqqqqTrhARhdddNGGrUAAAAAAAE6rQM3MzMzM7LFADeU1lNeKsEC9hvIayhGvQOU1lNdQ0KpAoryG8hoKr0DzGsprKA+4QA==",
          "dtype": "f8"
         },
         "yaxis": "y9"
        },
        {
         "error_y": {
          "array": {
           "bdata": "YgCQAMo0UkBe+GWUknpGQMgANZi82klALZzo15mMVEDw5JQn+JFQQFJ4O7VQpllAHQCQWxqcUkCA1Mm54gpaQDiqYO9p1VhA8tK+9nEdXkCoki25eStoQOKjv4Y7IGFAgBQVAutBa0CkT/0mvKVqQMf8kxqAX3xAFh4ienI9dkC3ObvaagmEQPWnmEUqHINA4YXvEbu0gkASvYVMDop2QA==",
           "dtype": "f8"
          },
          "color": "rgba(0,0,0,0.4)",
          "thickness": 1.5,
          "type": "data",
          "visible": true
         },
         "legendgroup": "Gemini 2.5 Pro",
         "line": {
          "color": "#90EE90",
          "width": 2
         },
         "mode": "lines+markers",
         "name": "Gemini 2.5 Pro",
         "showlegend": false,
         "type": "scatter",
         "x": {
          "bdata": "AQIDBAUGBwgJCgsMDQ4PEBESExQ=",
          "dtype": "i1"
         },
         "xaxis": "x9",
         "y": {
          "bdata": "mpmZmRlknkCamZmZmSWXQGZmZmbm15lAMzMzM7N3mUAAAAAAgOqaQJ7YiZ3YLZxAPusGU+TPmkAppZRSSpWfQNu2bdu2pZ9ACtejcD0CoUCuR+F6FFqhQNFFF110TqBA8xrKayhzo0AAAAAAIOygQFVVVVVVaqNAXXTRRRfZpUByHMdxHGmlQMdxHMdxJqpA5DiO4zhgr0AAAAAAQGSpQA==",
          "dtype": "f8"
         },
         "yaxis": "y9"
        },
        {
         "error_y": {
          "array": {
           "bdata": "4tepHXKyUUAkXY1/QdpPQLHOvWCHZVFAxnMk0toFSkB5Yq1HhLRNQHPqZmlqHU9AjEpEpFrySEBUfvSGAS1XQL5Rjxa/JlNAPNMN+qHkWkDQfji8kG9jQM0mb5iuDFpA+pmI5iTNU0Aw8vARzPlrQFjaz4Kt/2VAQcvG0UhnXkBKI5jDB+5oQISHMLe5/nRAtMeNlDKTcUCvPtt3PtuBQA==",
           "dtype": "f8"
          },
          "color": "rgba(0,0,0,0.4)",
          "thickness": 1.5,
          "type": "data",
          "visible": true
         },
         "legendgroup": "Gemini 2.5 Pro (ABBEL)",
         "line": {
          "color": "#006400",
          "width": 2
         },
         "mode": "lines+markers",
         "name": "Gemini 2.5 Pro (ABBEL)",
         "showlegend": false,
         "type": "scatter",
         "x": {
          "bdata": "AQIDBAUGBwgJCgsMDQ4PEBESExQ=",
          "dtype": "i1"
         },
         "xaxis": "x9",
         "y": {
          "bdata": "AAAAAIAWmUDNzMzMTGCZQGZmZmbmFZhAl2/5lm8NlkA2lNdQXo2TQM3MzMzM4JRAkiRJkiQsk0AzMzMzM5eVQKOLLrro/JdAzczMzMzdl0Crqqqqqp6XQMdxHMdxtphAiIeHh4c7lUAAAAAAQGGZQCVJkiRJaJtAdmIndmKXlkBVVVVVVY+aQOQ4juM4Gp5AAAAAAEBvoEAAAAAAwCCgQA==",
          "dtype": "f8"
         },
         "yaxis": "y9"
        },
        {
         "error_y": {
          "array": {
           "bdata": "rJ7LY0i/S0CReuAwvIxOQAcu1kO3WlBAWyglKaqLSUAc+5iKnf1QQGff3ART1lFA6M7lnhm1VUCeE/HLICJZQF1P0Z+nQVVAerajHfbSVEDndvYn7QVZQF13vRulCF5APwgJGG2+XkAuol16bFZkQLCHfuuqFmVAzpofDwjqZkA899tIpWheQMnjEsNxWnRAjsQwLvsGckBjwoOgYGVyQA==",
           "dtype": "f8"
          },
          "color": "rgba(0,0,0,0.4)",
          "thickness": 1.5,
          "type": "data",
          "visible": true
         },
         "legendgroup": "Gemini 2.5 Pro (belief prompting)",
         "line": {
          "color": "#32CD32",
          "width": 2
         },
         "mode": "lines+markers",
         "name": "Gemini 2.5 Pro (belief prompting)",
         "showlegend": false,
         "type": "scatter",
         "x": {
          "bdata": "AQIDBAUGBwgJCgsMDQ4PEBESExQ=",
          "dtype": "i1"
         },
         "xaxis": "x9",
         "y": {
          "bdata": "MzMzM7MAmECamZmZGQCZQDMzMzOzmZhAUV5DeQ3Hl0ByHMdxHPSWQAAAAADgspdA0V5Cewm1mUCrqqqqKlKbQJqZmZmZzppAOY7jOI6FmkCIh4eHh5OYQHd3d3d3T5xA3t3d3d2tm0CamZmZmdmbQEmSJEmS7p5AAAAAAACmoEAUO7ETO1WcQAAAAACAEqFAVVVVVVVTm0CrqqqqKkGjQA==",
          "dtype": "f8"
         },
         "yaxis": "y9"
        },
        {
         "error_y": {
          "array": {
           "bdata": "vAWTd9a+V0DyP4hPUo1iQAZuvGY7Yl9A56oIhij5YUDGs+DlO5ZoQMp0BgXARGNAOFLH/J72cUBLY/DeL4hwQArNS6/E9X9Ai0BSDUlpeUCpQ7Uw5MprQIRVx6xPLnJAlmBTh6iTbEAPDTH3h699QE4WS/JgkXZAGDHZ7DSmgUB/J6DjE0V4QG3JcbG/EIFAZPuhI3s+jkD14UQJV8mJQA==",
           "dtype": "f8"
          },
          "color": "rgba(0,0,0,0.4)",
          "thickness": 1.5,
          "type": "data",
          "visible": true
         },
         "legendgroup": "Deepseek R1 (ABBEL)",
         "line": {
          "color": "#8B0000",
          "width": 2
         },
         "mode": "lines+markers",
         "name": "Deepseek R1 (ABBEL)",
         "showlegend": false,
         "type": "scatter",
         "x": {
          "bdata": "AQIDBAUGBwgJCgsMDQ4PEBESExQ=",
          "dtype": "i1"
         },
         "xaxis": "x4",
         "y": {
          "bdata": "zczMzMxHlkCamZmZGZ6YQM3MzMxMp51AzczMzExynkBmZmZmZpmhQJqZmZlZCaFAZmZmZuY8o0DNzMzMDMCiQOZbvuVb1KdAymsor6GLpUDkOI7juPejQB3UQR3U5aRAO6iDOqhBokAPDw8PD7GnQAgffPDBdaVA+N57770TqEBqhOWeRlCnQNu2bdu2nKdAewntJbScsUBmZmZmZluyQA==",
          "dtype": "f8"
         },
         "yaxis": "y4"
        },
        {
         "error_y": {
          "array": {
           "bdata": "Fsp5h56VWEAnViy40tZXQDRPQNXJpGFAHGJGI/KdYkA0Ev103ylsQCwcrlAnvXJA9K6+btnZdUDnP97VJ61yQB3CvynHJnJAXMcYiZUVfED8POBo1D2BQAn9/yzQFIBA8gJbTlH4ckAjHqZiYQmAQDjKe1tJhn1AE1OdrhgtfEDjrY57PSN3QA+JPgBRunJAXXQRSpRKgUBym71SkwN2QA==",
           "dtype": "f8"
          },
          "color": "rgba(0,0,0,0.4)",
          "thickness": 1.5,
          "type": "data",
          "visible": true
         },
         "legendgroup": "Deepseek R1 (belief prompting)",
         "line": {
          "color": "#FF6347",
          "width": 2
         },
         "mode": "lines+markers",
         "name": "Deepseek R1 (belief prompting)",
         "showlegend": false,
         "type": "scatter",
         "x": {
          "bdata": "AQIDBAUGBwgJCgsMDQ4PEBESExQ=",
          "dtype": "i1"
         },
         "xaxis": "x4",
         "y": {
          "bdata": "AAAAAAB4lkCamZmZGRqYQGZmZmZmtp5AzczMzEywn0BmZmZmJo6gQAAAAACAmaJAmpmZmZlCo0DNzMzMDFqkQBvKayivuaVArRtMkc94pkCYIp91g22uQJgin3WD7axAo4suuuhipkCrqqqqqhCuQAAAAABwUalAq6qqqqoiqUAlSZIkSX6mQCa0l9BeMqNAO7ETO7HIp0BddNFFF22oQA==",
          "dtype": "f8"
         },
         "yaxis": "y4"
        },
        {
         "error_y": {
          "array": {
           "bdata": "TcK8zoY0TEC2/l+2Y0lOQCn5AjwSjEdA3x1tUJ1xR0DcSqTTEdFQQLL/mQlbBUtA6rfDq2xPUkDvO7hdwctQQL9hcmL56VdAiXhOHWgVWUBRIgNHi7xZQLjIGG+/r1tAtPTdXZneYUCkUiMKkvlnQLucjUbLRmVA3Wtlg0MNY0BidcmJk2NqQK+ez0Gt/2RA9szFyaMQckAJ6O9GGqZgQA==",
           "dtype": "f8"
          },
          "color": "rgba(0,0,0,0.4)",
          "thickness": 1.5,
          "type": "data",
          "visible": true
         },
         "legendgroup": "Gemini 2.5 Pro (ABBEL)",
         "line": {
          "color": "#006400",
          "width": 2
         },
         "mode": "lines+markers",
         "name": "Gemini 2.5 Pro (ABBEL)",
         "showlegend": false,
         "type": "scatter",
         "x": {
          "bdata": "AQIDBAUGBwgJCgsMDQ4PEBESExQ=",
          "dtype": "i1"
         },
         "xaxis": "x4",
         "y": {
          "bdata": "AAAAAADjlECamZmZGbuUQGZmZmbmUJZADdIgDdJglkBw+ZZv+QqZQL2G8hrKq5hAjuM4juONmUA5juM4jpGaQDmO4ziOy5pAwgcffPA1nUC21lprrd2aQM4555xztp1AQnsJ7SUOoEDFTuzETq2gQKuqqqrqXqJAb3rTm97SoEBddNFFFyykQFVVVVVV/6FAAAAAAAAkpkBmZmZmZlGfQA==",
          "dtype": "f8"
         },
         "yaxis": "y4"
        },
        {
         "error_y": {
          "array": {
           "bdata": "t6Ju4HIBS0Ax88FxiE1QQD1S/VvCPUpAQ/kpEn4STEAEqM+OA/NKQAHTjRGC/klAEtYSBZFDSkBEqv5eukJSQI2gmoPqHmRAd20hK00fWUCsZ+Z0qaxYQDFQpEU1T2RAPTkZrv5dZEDVE9RvXRNaQAzj5XWfPGhAWDwQhqvobUAcXJIvzgJpQMlGerNhHGlAqHcO0wX/akA4PC9p02iBQA==",
           "dtype": "f8"
          },
          "color": "rgba(0,0,0,0.4)",
          "thickness": 1.5,
          "type": "data",
          "visible": true
         },
         "legendgroup": "Gemini 2.5 Pro (belief prompting)",
         "line": {
          "color": "#32CD32",
          "width": 2
         },
         "mode": "lines+markers",
         "name": "Gemini 2.5 Pro (belief prompting)",
         "showlegend": false,
         "type": "scatter",
         "x": {
          "bdata": "AQIDBAUGBwgJCgsMDQ4PEBESExQ=",
          "dtype": "i1"
         },
         "xaxis": "x4",
         "y": {
          "bdata": "mpmZmZnMlEAzMzMzM92TQGZmZmbm/5VAzczMzEzdlkCamZmZmdCVQN/yLd/yUZZA5lu+5Vvul0CkQRqkQcKYQPMaymsod51A09LS0tIem0DZZJNNNiGYQM3MzMzMeJpASOF6FK7jnUCamZmZmVybQEN5DeU1IqFA8fDw8PAqoUBJkiRJkpCeQJ7YiZ3YW6BAq6qqqqpgoECjiy666NilQA==",
          "dtype": "f8"
         },
         "yaxis": "y4"
        },
        {
         "error_y": {
          "array": {
           "bdata": "qypUmLpkYEC7GU0fK6ZoQMAVw1BSiWlAp4ykwrBWckDcTbieu3B7QM1JoSZ1+oFAtu+eYYjChECYwBDUOBh/QD8Dbx17woNAWpJFBSlyhkBkdJ/ez4+TQAVa3cq1rY9Abzpk86RshUAOdWZetzaQQHqKrY4MIZNArT6l93O0kEBnYnq5AqeSQITA/WLfDJFAWDvwWliYkkAcMzYxGQ2MQA==",
           "dtype": "f8"
          },
          "color": "rgba(0,0,0,0.4)",
          "thickness": 1.5,
          "type": "data",
          "visible": true
         },
         "legendgroup": "Deepseek R1",
         "line": {
          "color": "#FFB6C1",
          "width": 2
         },
         "mode": "lines+markers",
         "name": "Deepseek R1",
         "showlegend": false,
         "type": "scatter",
         "x": {
          "bdata": "AQIDBAUGBwgJCgsMDQ4PEBESExQ=",
          "dtype": "i1"
         },
         "xaxis": "x10",
         "y": {
          "bdata": "zczMzEx3lEDNzMzMzOSaQDMzMzMzLJ9AZmZmZiaSoUAAAAAAQFinQBQ7sRM7i6dAG8prKK8ysEA5juM4jmysQI7jOI6jm7JAAAAAABiLskAzMzMzs+O5QGIndmInE7ZAO7ETOzFPskBGF110Uai2QAzDMAzDXMBAMzMzMzNevEDHcRzH8Se8QC0tLS0tFLlAAAAAANipwEAAAAAAoOm5QA==",
          "dtype": "f8"
         },
         "yaxis": "y10"
        },
        {
         "error_y": {
          "array": {
           "bdata": "Udtya07SZUCymNPwLSpxQCmpO4RDamhAI8YFJwp3dEDfdykIA456QAwisGrhxG5AvMjMsyHLZkDWyI/ShRtxQIU/5Vo+WWxAicsnT9t6cECod3khC6h4QHIKS4jUKWpAJD3nB3KzakDF4TotGBpyQIxRtesxpXpABn8JEfLpfUAs+sF5raeBQNy6jtoJTnpAlM4sh+JAg0BG6XX7CWt4QA==",
           "dtype": "f8"
          },
          "color": "rgba(0,0,0,0.4)",
          "thickness": 1.5,
          "type": "data",
          "visible": true
         },
         "legendgroup": "Deepseek R1 (ABBEL)",
         "line": {
          "color": "#8B0000",
          "width": 2
         },
         "mode": "lines+markers",
         "name": "Deepseek R1 (ABBEL)",
         "showlegend": false,
         "type": "scatter",
         "x": {
          "bdata": "AQIDBAUGBwgJCgsMDQ4PEBESExQ=",
          "dtype": "i1"
         },
         "xaxis": "x10",
         "y": {
          "bdata": "AAAAAIDRl0BmZmZmJgmgQM3MzMxMPp1AZmZmZibfoEDNzMzMzDilQDMzMzMzKJ5AZmZmZuYIoEAAAAAAwJ2hQBQ7sRM78Z5AKK+hvIaQoUDkOI7jOHWgQFAHdVAHmZtALL7iK77mnEDi4eHh4WefQLrooosu4qFAEUIIIYTOpUCE5Z5GWISlQEmSJEmSFKVAOY7jOI4ho0B7FK5H4WyhQA==",
          "dtype": "f8"
         },
         "yaxis": "y10"
        },
        {
         "error_y": {
          "array": {
           "bdata": "goIDkB9rakB7d5edP7hvQPLQF8f6fHFAAkzbuX8zfEBkG9dKqRN1QPIOy2160nVACe90PcMvc0B50YYwGQ9iQM/Cwe2Cem1ARQiszMmveEDyGMQ9Y/+FQICMNvCKn4RApLP51AM/iUANUQNOjMuHQDmi+PG9CYpAkaNSAtLriEARJHe1zNaOQPymqbBixZFAyEwda0dejUCkF+2XmIiTQA==",
           "dtype": "f8"
          },
          "color": "rgba(0,0,0,0.4)",
          "thickness": 1.5,
          "type": "data",
          "visible": true
         },
         "legendgroup": "Deepseek R1 (belief prompting)",
         "line": {
          "color": "#FF6347",
          "width": 2
         },
         "mode": "lines+markers",
         "name": "Deepseek R1 (belief prompting)",
         "showlegend": false,
         "type": "scatter",
         "x": {
          "bdata": "AQIDBAUGBwgJCgsMDQ4PEBESExQ=",
          "dtype": "i1"
         },
         "xaxis": "x10",
         "y": {
          "bdata": "MzMzMzNJlUCamZmZmRmdQM3MzMxM955AzczMzAwvoEAzMzMzM9KbQGZmZmbmjaFAzczMzExbnkAzMzMzs9OYQFFeQ3kNL59AwhT5rBumokAAAAAAAOymQA6myGfdnK5APvjggw+2rUAQPvjgg4CwQAAAAACwX7JAVVVVVdXUs0AAAAAAAJevQAntJbSXlrdAAAAAAACUtkDpoosu+pPBQA==",
          "dtype": "f8"
         },
         "yaxis": "y10"
        },
        {
         "error_y": {
          "array": {
           "bdata": "mbq5FJviSUB/qt/G2CRPQNhqqaK3z05AR1MON5wRUUDW43MnvEtXQI3sRFI60ExAZwZgBdtFUkB8iu0fVElTQNHVGiIiR1RAkpo5HmyUW0D+yBnR7SFjQEmxuFYy82FAJoUDNcYZZkBvuPkT2y5lQDbLMQSYj3BAI5Pj0TSzdUA7la4lGfptQG9RZg45t3FArYc2NeGBcUBa530vxE94QA==",
           "dtype": "f8"
          },
          "color": "rgba(0,0,0,0.4)",
          "thickness": 1.5,
          "type": "data",
          "visible": true
         },
         "legendgroup": "Gemini 2.5 Pro",
         "line": {
          "color": "#90EE90",
          "width": 2
         },
         "mode": "lines+markers",
         "name": "Gemini 2.5 Pro",
         "showlegend": false,
         "type": "scatter",
         "x": {
          "bdata": "AQIDBAUGBwgJCgsMDQ4PEBESExQ=",
          "dtype": "i1"
         },
         "xaxis": "x10",
         "y": {
          "bdata": "ZmZmZmZDkUBmZmZm5s2TQM3MzMxMhJNAmpmZmRl2l0AzMzMzM26XQAAAAACAgZdAAAAAAABNmUDzGsprKF+ZQMprKK+hLptAr6G8hvJknUBDeQ3lNVCfQOQ4juM4VKFACCGEEELIn0AAAAAAACChQI/C9ShcvaNAXXTRRRdUqEBu27Zt22SkQJqZmZkZnqZAXkN5DeXVpUDlNZTXUKqqQA==",
          "dtype": "f8"
         },
         "yaxis": "y10"
        },
        {
         "error_y": {
          "array": {
           "bdata": "bCVY0U8ATEDFUeTe9fFNQF/sme/ZpE9AxvFU8G0jUUBvgIEhL9NNQO5bxmd1qVRAQcY+CP2YVkCzj9OSNmtOQEeYe2fWa0pANddIdJquTkBTUHiB3oxTQHfA2uRjyVZAVWTHucDKWUDIg8KKFc5hQCq1nwfGi19AokqNL11bWkCFH7aRWi9XQHw86vlYaVlA59UE7HyrY0C2jB7d7AxhQA==",
           "dtype": "f8"
          },
          "color": "rgba(0,0,0,0.4)",
          "thickness": 1.5,
          "type": "data",
          "visible": true
         },
         "legendgroup": "Gemini 2.5 Pro (ABBEL)",
         "line": {
          "color": "#006400",
          "width": 2
         },
         "mode": "lines+markers",
         "name": "Gemini 2.5 Pro (ABBEL)",
         "showlegend": false,
         "type": "scatter",
         "x": {
          "bdata": "AQIDBAUGBwgJCgsMDQ4PEBESExQ=",
          "dtype": "i1"
         },
         "xaxis": "x10",
         "y": {
          "bdata": "ZmZmZmZckkDNzMzMzJWUQGZmZmZm7ZRASIM0SIM0lEBcvuVbvn2SQGwor6G8hpVAq6qqqqoHl0DHcRzHcYSUQI7jOI7jxZNAwgcffPC5lUBba6211gaYQJVSSimlBJdAJrSX0F6qmUDFTuzETkyZQAAAAAAAc5lApze96U1vl0DRRRdddE+ZQFVVVVVVKZlAwzAMwzBomECamZmZmfCZQA==",
          "dtype": "f8"
         },
         "yaxis": "y10"
        },
        {
         "error_y": {
          "array": {
           "bdata": "hBO3FpTWRUAcyg/o6dZRQC6rqn70g09Am0p4Y3sGUkCYMltq+whGQAKYFxdmVU1Aj5H2VXnST0AzFszZ39JUQMXA298l9VRAOeC4QXXwUEBJABXtotdQQKXURnL+21NAbSRXfpfpXUDH1sQH2MVZQLv3rYEfuWRAFnXSa5JYY0AeDZ61oqNdQD25zEa0j2hAhToZSzN7cEAY5h43fg5xQA==",
           "dtype": "f8"
          },
          "color": "rgba(0,0,0,0.4)",
          "thickness": 1.5,
          "type": "data",
          "visible": true
         },
         "legendgroup": "Gemini 2.5 Pro (belief prompting)",
         "line": {
          "color": "#32CD32",
          "width": 2
         },
         "mode": "lines+markers",
         "name": "Gemini 2.5 Pro (belief prompting)",
         "showlegend": false,
         "type": "scatter",
         "x": {
          "bdata": "AQIDBAUGBwgJCgsMDQ4PEBESExQ=",
          "dtype": "i1"
         },
         "xaxis": "x10",
         "y": {
          "bdata": "ZmZmZma9j0AAAAAAAFKTQJqZmZkZrJNAMzMzM7PBlECamZmZGeOTQPmWb/mWQ5RALt/yLd+GlUBCGqRBGhSWQGwor6G8+pVApqWlpaXRlkC66KKLLtKWQFVVVVVVB5lAexSuR+HSl0DNzMzMzCGbQF5DeQ3lHZlAiIeHh4ffnEBu27Zt2zCcQE/sxE7sGJxAq6qqqqpWm0Cjiy666P6fQA==",
          "dtype": "f8"
         },
         "yaxis": "y10"
        },
        {
         "error_y": {
          "array": {
           "bdata": "noZ0b7G1k0AY/fOMlrCWQIlwrM19hplAmqM13bmPlUA22FCiQlicQJA8g6j9Wp1AKlQY/je2oEB5+0m85HugQBdqP18/c51A3L8VyuGZoUA50ABB6V2gQDDGXFCX/6FA",
           "dtype": "f8"
          },
          "color": "rgba(0,0,0,0.4)",
          "thickness": 1.5,
          "type": "data",
          "visible": true
         },
         "legendgroup": "Deepseek R1 (ABBEL)",
         "line": {
          "color": "#8B0000",
          "width": 2
         },
         "mode": "lines+markers",
         "name": "Deepseek R1 (ABBEL)",
         "showlegend": false,
         "type": "scatter",
         "x": {
          "bdata": "AQIDBAUGBwgJCgsM",
          "dtype": "i1"
         },
         "xaxis": "x5",
         "y": {
          "bdata": "zczMzMxlwUBmZmZmjmnSQGZmZmbeWdhAMzMzM4vN1UBP7MROrBnXQFy+5Vu+INJAHh4eHh4I1EBddNFFl4jUQG2yySZbJdBALPc0wvJ50UCSJEmS9PDRQOQ4juM43tJA",
          "dtype": "f8"
         },
         "yaxis": "y5"
        },
        {
         "error_y": {
          "array": {
           "bdata": "BOTFmlZzkkCfnbIrEYuTQCFRO402KZNA4yBO58agmEAVP5Z9r+mcQLHCjpmklaBAFsh9dNskoEAHBXU6Q9WgQDK53Uw19KJAz1AtoJLJpEAuCB86OD2iQIl96sJJ+aZA",
           "dtype": "f8"
          },
          "color": "rgba(0,0,0,0.4)",
          "thickness": 1.5,
          "type": "data",
          "visible": true
         },
         "legendgroup": "Deepseek R1 (belief prompting)",
         "line": {
          "color": "#FF6347",
          "width": 2
         },
         "mode": "lines+markers",
         "name": "Deepseek R1 (belief prompting)",
         "showlegend": false,
         "type": "scatter",
         "x": {
          "bdata": "AQIDBAUGBwgJCgsM",
          "dtype": "i1"
         },
         "xaxis": "x5",
         "y": {
          "bdata": "zczMzGxIxkAAAAAAmE7SQJqZmZl5StZAzczMzJTR1UAAAAAAoO3QQDmO4zg+m9FAAAAAABLX1kAAAAAAwGfTQIX2EtpL/dNAVVVVVTVF1UAYhmEYBk3WQM3MzMzc4NNA",
          "dtype": "f8"
         },
         "yaxis": "y5"
        },
        {
         "error_y": {
          "array": {
           "bdata": "xw1CmY7VYUAdjYqH1jVzQDOMRSEZe3BAlA8omJuWeUDIBrGWXux8QNXasoKolYBAmz/RCgfPgUAwEwpeDSOHQOA9xfxHgJxA5IMbWHzZnUAAAAAAADyBQP//////uaJA",
           "dtype": "f8"
          },
          "color": "rgba(0,0,0,0.4)",
          "thickness": 1.5,
          "type": "data",
          "visible": true
         },
         "legendgroup": "Gemini 2.5 Pro (ABBEL)",
         "line": {
          "color": "#006400",
          "width": 2
         },
         "mode": "lines+markers",
         "name": "Gemini 2.5 Pro (ABBEL)",
         "showlegend": false,
         "type": "scatter",
         "x": {
          "bdata": "AQIDBAUGBwgJCgsM",
          "dtype": "i1"
         },
         "xaxis": "x5",
         "y": {
          "bdata": "ZmZmZuYPnkCamZmZGeWjQJqZmZkZua1AMzMzM7MvsEDYUF5DeSWuQAAAAAAgD6pAAAAAAACQo0CrqqqqqoSjQGZmZmZmE7NAAAAAAADcr0AAAAAAAL2uQAAAAAAAZKpA",
          "dtype": "f8"
         },
         "yaxis": "y5"
        },
        {
         "error_y": {
          "array": {
           "bdata": "xZ+rwlqmckB3aytJaGhlQBg+1ey7S3RA2uuI3hved0A05C+n6Ud/QKln3ssVCIJAk4oowFbxgUAkUkrZhwGFQFFVugsz4pRAAAAAAAAA+H8AAAAAAAD4fwAAAAAAAPh/",
           "dtype": "f8"
          },
          "color": "rgba(0,0,0,0.4)",
          "thickness": 1.5,
          "type": "data",
          "visible": true
         },
         "legendgroup": "Gemini 2.5 Pro (belief prompting)",
         "line": {
          "color": "#32CD32",
          "width": 2
         },
         "mode": "lines+markers",
         "name": "Gemini 2.5 Pro (belief prompting)",
         "showlegend": false,
         "type": "scatter",
         "x": {
          "bdata": "AQIDBAUGBwgJCgsM",
          "dtype": "i1"
         },
         "xaxis": "x5",
         "y": {
          "bdata": "zczMzAxtoUAAAAAAAOmfQAAAAADAWa5AmpmZmdkCs0CQBmmQBgyxQBdddNFFo65AAAAAAADmokCxEzuxEwmkQAAAAAAAwKFAAAAAAIB3wEAAAAAAAKytQAAAAAAAybFA",
          "dtype": "f8"
         },
         "yaxis": "y5"
        },
        {
         "error_y": {
          "array": {
           "bdata": "9LVzCkGWkEAdGxBdNzKVQOSkYSk0ApZA1ppCmtStkkBZfQfKUYmTQNb15fgghpFAXM8jivm0lECUIG83RgeWQAzKarWK05NAFNqp2kPLmECtjINN/tSRQL4c10OpIo1A",
           "dtype": "f8"
          },
          "color": "rgba(0,0,0,0.4)",
          "thickness": 1.5,
          "type": "data",
          "visible": true
         },
         "legendgroup": "Deepseek R1",
         "line": {
          "color": "#FFB6C1",
          "width": 2
         },
         "mode": "lines+markers",
         "name": "Deepseek R1",
         "showlegend": false,
         "type": "scatter",
         "x": {
          "bdata": "AQIDBAUGBwgJCgsM",
          "dtype": "i1"
         },
         "xaxis": "x11",
         "y": {
          "bdata": "mpmZmdlHtUAzMzMzOzXVQJqZmZnx79pAAAAAAEDJ2kAAAAAAsK7XQCivobymJtpAAAAAADxd2EDbtm3bVtDaQNFFF13Uc9pAzczMzByM2EBVVVVVtbvXQFVVVVWVdddA",
          "dtype": "f8"
         },
         "yaxis": "y11"
        },
        {
         "error_y": {
          "array": {
           "bdata": "IkPqyXG9eECnW4nHcmGTQBBUV8oCUJhAdeuIp/zhlkAFiOiNWvuVQPB/2hP1v5xAaK0x0ODFnEBY6+7g3lSaQDyvb7hECZhARlqDSki8nUBXpzhF6TqdQBcyP7EDQppA",
           "dtype": "f8"
          },
          "color": "rgba(0,0,0,0.4)",
          "thickness": 1.5,
          "type": "data",
          "visible": true
         },
         "legendgroup": "Deepseek R1 (ABBEL)",
         "line": {
          "color": "#8B0000",
          "width": 2
         },
         "mode": "lines+markers",
         "name": "Deepseek R1 (ABBEL)",
         "showlegend": false,
         "type": "scatter",
         "x": {
          "bdata": "AQIDBAUGBwgJCgsM",
          "dtype": "i1"
         },
         "xaxis": "x11",
         "y": {
          "bdata": "zczMzEzipUDNzMzMDCzHQJqZmZnprNBAmpmZmXko0UCDNEiD9PHQQJAGaZCGAM1AtbS0tLQmzEBlk0022RnJQHzwwQef3MZAEpZ7GuH9xkDbtm3bFkHLQCa0l9BekMRA",
          "dtype": "f8"
         },
         "yaxis": "y11"
        },
        {
         "error_y": {
          "array": {
           "bdata": "IJUGteYOfECzHWBC0eGXQJGr+wUVLJVAimtYC56nl0AryV4NR0mVQJ3pbvIQbZpA2ccXJa/An0BB1wAbPKuXQBVPIglscZ1AulxRqKfIn0B4DM6gy6WYQLWvvHm0UZ9A",
           "dtype": "f8"
          },
          "color": "rgba(0,0,0,0.4)",
          "thickness": 1.5,
          "type": "data",
          "visible": true
         },
         "legendgroup": "Deepseek R1 (belief prompting)",
         "line": {
          "color": "#FF6347",
          "width": 2
         },
         "mode": "lines+markers",
         "name": "Deepseek R1 (belief prompting)",
         "showlegend": false,
         "type": "scatter",
         "x": {
          "bdata": "AQIDBAUGBwgJCgsM",
          "dtype": "i1"
         },
         "xaxis": "x11",
         "y": {
          "bdata": "ZmZmZuZJpEDNzMzMBCjRQJqZmZmRI9NAMzMzMxu70kDNzMzMBIzTQBzHcRwHBdRAAAAAAG6T00BEREREZEDTQIX2EtoL9tJAq6qqqmKb0ECrqqqqagHTQDMzMzMTD9FA",
          "dtype": "f8"
         },
         "yaxis": "y11"
        },
        {
         "error_y": {
          "array": {
           "bdata": "ZO9j9jnjZEAsj2Gwur1xQELGq1Kd5XpAGKFrPMvWdUAa/xnJ63l5QJD13JdN8n5A/2aMcnPBh0Bvz4y465mSQPqvqvKvc5NADoABPqMHiUD//////3uTQA==",
           "dtype": "f8"
          },
          "color": "rgba(0,0,0,0.4)",
          "thickness": 1.5,
          "type": "data",
          "visible": true
         },
         "legendgroup": "Gemini 2.5 Pro",
         "line": {
          "color": "#90EE90",
          "width": 2
         },
         "mode": "lines+markers",
         "name": "Gemini 2.5 Pro",
         "showlegend": false,
         "type": "scatter",
         "x": {
          "bdata": "AQIDBAUGBwgJCgs=",
          "dtype": "i1"
         },
         "xaxis": "x11",
         "y": {
          "bdata": "zczMzIyQo0AAAAAAgAiqQAAAAABAZrNAAAAAAMDQtUC1tLS0NBK5QFtrrbXWALpAwzAMw7ASwEDpoosuOrDCQAAAAADA+LZAq6qqqqo+rUAAAAAAAJK1QA==",
          "dtype": "f8"
         },
         "yaxis": "y11"
        },
        {
         "error_y": {
          "array": {
           "bdata": "14fRVtXXTkCHHpfsgllxQC1LCrJlHm9AShFeOeTQdUBHQ5vYVGh2QFudIOlZFHVAlWvgr2iIgUAfRTOioHl7QE++3eBNUYFAIAFjhTRklkD//////3d6QP//////13NA",
           "dtype": "f8"
          },
          "color": "rgba(0,0,0,0.4)",
          "thickness": 1.5,
          "type": "data",
          "visible": true
         },
         "legendgroup": "Gemini 2.5 Pro (ABBEL)",
         "line": {
          "color": "#006400",
          "width": 2
         },
         "mode": "lines+markers",
         "name": "Gemini 2.5 Pro (ABBEL)",
         "showlegend": false,
         "type": "scatter",
         "x": {
          "bdata": "AQIDBAUGBwgJCgsM",
          "dtype": "i1"
         },
         "xaxis": "x11",
         "y": {
          "bdata": "MzMzM7MMmECamZmZ2deiQM3MzMxM3qxAmpmZmRlsr0CH8hrKa16tQAAAAADg56VAyEIWspCnpEByHMdxHLGiQM3MzMzMcqdAAAAAAAAwr0AAAAAAgIi5QAAAAAAAPpJA",
          "dtype": "f8"
         },
         "yaxis": "y11"
        },
        {
         "error_y": {
          "array": {
           "bdata": "2gzaz6v4XkC5QFliV7RpQLVmJg9reXdADrP4BRi8cUCKa3oSpT12QE6umcbZzndA1yNuj4kxfUAiylzU3z6CQPRw804kpZRAAAAAAAAA+H8AAAAAAAD4fwAAAAAAAPh/",
           "dtype": "f8"
          },
          "color": "rgba(0,0,0,0.4)",
          "thickness": 1.5,
          "type": "data",
          "visible": true
         },
         "legendgroup": "Gemini 2.5 Pro (belief prompting)",
         "line": {
          "color": "#32CD32",
          "width": 2
         },
         "mode": "lines+markers",
         "name": "Gemini 2.5 Pro (belief prompting)",
         "showlegend": false,
         "type": "scatter",
         "x": {
          "bdata": "AQIDBAUGBwgJCgsM",
          "dtype": "i1"
         },
         "xaxis": "x11",
         "y": {
          "bdata": "AAAAAACdnEAzMzMz8/miQJqZmZmZ1a9AzczMzAwcskDLt3zLt9K1QNFFF110MrFAVVVVVfU6sEBiJ3ZiJ7atQJqZmZmZM7FAAAAAAAB+wEAAAAAAgCHGQAAAAAAAV8FA",
          "dtype": "f8"
         },
         "yaxis": "y11"
        },
        {
         "error_y": {
          "array": {
           "bdata": "xjQzo5JJXUCMl2ZxghFhQP5Q+mXwTVxAFo5XKbbRakCihh61mBtmQLibCNPdO19A8gzpSARFYkCQbF5PratnQEaaDs9zg2JAJ5HHOGiHZEDC0WjKkqVgQBglYqEfxG9AtTfcVkFiYUD5qzC7FfZaQBMDJHxPZGJAOsGOZZf7W0C2ikIylipcQKYbhsBdumJAsrSUSHsOYkCcH8OQM89hQA==",
           "dtype": "f8"
          },
          "color": "rgba(0,0,0,0.4)",
          "thickness": 1.5,
          "type": "data",
          "visible": true
         },
         "legendgroup": "Deepseek R1 (ABBEL)",
         "line": {
          "color": "#8B0000",
          "width": 2
         },
         "mode": "lines+markers",
         "name": "Deepseek R1 (ABBEL)",
         "showlegend": false,
         "type": "scatter",
         "x": {
          "bdata": "AQIDBAUGBwgJCgsMDQ4PEBESExQ=",
          "dtype": "i1"
         },
         "xaxis": "x6",
         "y": {
          "bdata": "MzMzM7Ogn0DNzMzMzPuiQJqZmZlZl6BAZmZmZqZDpUAAAAAAwCGjQAAAAAAAcKNAzczMzMzZokAAAAAAgPqlQM3MzMyMxKJAAAAAAMDsokCamZmZmaOhQJqZmZnZQqVAZmZmZqYfo0AAAAAAQIChQAAAAABAfKNALt/yLd+AoEBIgzRIg5ChQNIgDdIgXaJAh/IaymuXoUDkOI7juB2iQA==",
          "dtype": "f8"
         },
         "yaxis": "y6"
        },
        {
         "error_y": {
          "array": {
           "bdata": "fwdI6BaXaUCPLzlGfQlhQDMfhggLbmVAJ23PzFRnX0CWbEnbZVtlQE+3+3H7wWNADyb9z0mUYUC66d0gjKlvQFKBjoGCamRAUyq2JwR0ZUBatuL0mjNxQKDpGJ5dJWFA/WN6n0rjW0DHJ1CxaN9gQKizavSc9mZAQz7WLC4Pe0ASKmIBESFrQL+HISZhQ25A/FBdjEwDZkDTZh/9qIxbQA==",
           "dtype": "f8"
          },
          "color": "rgba(0,0,0,0.4)",
          "thickness": 1.5,
          "type": "data",
          "visible": true
         },
         "legendgroup": "Deepseek R1 (belief prompting)",
         "line": {
          "color": "#FF6347",
          "width": 2
         },
         "mode": "lines+markers",
         "name": "Deepseek R1 (belief prompting)",
         "showlegend": false,
         "type": "scatter",
         "x": {
          "bdata": "AQIDBAUGBwgJCgsMDQ4PEBESExQ=",
          "dtype": "i1"
         },
         "xaxis": "x6",
         "y": {
          "bdata": "zczMzAypoEAAAAAAACCiQAAAAAAAeKNAMzMzM/Peo0AAAAAAQBOkQGZmZmbmg6NAZmZmZqaaoUCamZmZ2aGkQDMzMzOzt6FAzczMzAyMokAAAAAAwEijQHZiJ3Ziu6FAn3WDKfIxoUCO4ziO49ahQBzHcRxHD6NAi6/4iq+2pEAvuuiii3ajQCmllFJKPaJAaoTlnkbeoECkcD0K12OdQA==",
          "dtype": "f8"
         },
         "yaxis": "y6"
        },
        {
         "error_y": {
          "array": {
           "bdata": "Y3xNBaOITUBx4X8TGYlJQNn2hFpLWEZAVvVfdHvNTUCWUy7MqsZQQMaDlML5j0lA+uAC29EIS0C/YbacxOxMQOPgGMSobk9A8ozUvyZMTUBm5mE3M5FUQEDSyK18xFZAQgF9AqjBVEDp8WZ+Vk5RQPUagLpkl1dA/wh0Lb/NWEAx+9CFRPlcQHDoU36jgGBAxRrjeYyTZUBBjt40otpVQA==",
           "dtype": "f8"
          },
          "color": "rgba(0,0,0,0.4)",
          "thickness": 1.5,
          "type": "data",
          "visible": true
         },
         "legendgroup": "Gemini 2.5 Pro (ABBEL)",
         "line": {
          "color": "#006400",
          "width": 2
         },
         "mode": "lines+markers",
         "name": "Gemini 2.5 Pro (ABBEL)",
         "showlegend": false,
         "type": "scatter",
         "x": {
          "bdata": "AQIDBAUGBwgJCgsMDQ4PEBESExQ=",
          "dtype": "i1"
         },
         "xaxis": "x6",
         "y": {
          "bdata": "MzMzMzO6mkAzMzMzs8CaQGZmZmbmnpxAMzMzM7NanUCamZmZmUedQAAAAAAAUJ5AzczMzMxankAAAAAAACCdQN/yLd/ymZ1A5TWU11DsnEDJZ91gikidQM4555xz6ppAZmZmZmammkCGYRiGYWyeQM/zPM/zFJtAtbS0tLSEm0CSJEmSJOefQAAAAAAAPJ9AVVVVVVXUlUAAAAAAAJaeQA==",
          "dtype": "f8"
         },
         "yaxis": "y6"
        },
        {
         "error_y": {
          "array": {
           "bdata": "jmrWI27pSEDsqV7rOkdIQPl4knRx1U1AI3vVxdryT0AQKqqKo6hJQIaAk211VFFAH6nK/kz2TkA+oRxo5JRQQEXD8YSZ10tAk/C0kuGgUUCnIjLaT4FRQHNqdj93MlFAvwVxG6plVEDSk2HLhiVaQDR7SN5Ob1ZAnEbrwzUnUkDI/qZE9+ZeQDzhe5hdyllA9gl/SPumZkDtYmBX8aBcQA==",
           "dtype": "f8"
          },
          "color": "rgba(0,0,0,0.4)",
          "thickness": 1.5,
          "type": "data",
          "visible": true
         },
         "legendgroup": "Gemini 2.5 Pro (belief prompting)",
         "line": {
          "color": "#32CD32",
          "width": 2
         },
         "mode": "lines+markers",
         "name": "Gemini 2.5 Pro (belief prompting)",
         "showlegend": false,
         "type": "scatter",
         "x": {
          "bdata": "AQIDBAUGBwgJCgsMDQ4PEBESExQ=",
          "dtype": "i1"
         },
         "xaxis": "x6",
         "y": {
          "bdata": "mpmZmZkhnEAAAAAAgNicQJqZmZmZRp5AmpmZmZmDnkAzMzMzM0eeQAAAAACAiZ5AkAZpkAYJnkCkQRqkQcacQIfyGsprNJ1AinzWDaZInkDNzMzMzAScQLLJJptsOpxAlnsaYbkznEB7FK5H4YacQAzDMAzDrJxAzczMzMx8mkAAAAAAAEmdQDuxEzux55tAmpmZmZk9nUDHcRzHcdSZQA==",
          "dtype": "f8"
         },
         "yaxis": "y6"
        },
        {
         "error_y": {
          "array": {
           "bdata": "jXh3dH/IckDLh5Ov9zxsQH6Dn5Dfj3FArXJyDo2CZ0DgngeQ6wF1QG8yc9foNHtAw/gwr5HvdUDkKilO06CBQKRWFvtK+3tAEyBg88ZEg0Des13O3bx7QFyA2Ow3zYNALrImLNsIg0B4KH+cr1N5QPE7hmpKjIVAxH8WtaWvkUAuACeQ7Q6SQLpdOzVrgIRAD51OVo5phEAyVyfUa6eFQA==",
           "dtype": "f8"
          },
          "color": "rgba(0,0,0,0.4)",
          "thickness": 1.5,
          "type": "data",
          "visible": true
         },
         "legendgroup": "Deepseek R1",
         "line": {
          "color": "#FFB6C1",
          "width": 2
         },
         "mode": "lines+markers",
         "name": "Deepseek R1",
         "showlegend": false,
         "type": "scatter",
         "x": {
          "bdata": "AQIDBAUGBwgJCgsMDQ4PEBESExQ=",
          "dtype": "i1"
         },
         "xaxis": "x12",
         "y": {
          "bdata": "AAAAAIBAqUAAAAAAQNWhQM3MzMzMT6VAmpmZmdk2okCamZmZWRapQJqZmZmZSa9AZmZmZqbYrEDYUF5DefWxQDmO4zjOOrBAiIeHh4eMs0DwwQcffP+wQAAAAAC4PLFAAAAAAABKskBu27Zt21+sQE5vetObE7FAKK+hvIaOs0DlNZTXUEi6QHIcx3EcvK5AVVVVVVVVrUAAAAAAgKymQA==",
          "dtype": "f8"
         },
         "yaxis": "y12"
        },
        {
         "error_y": {
          "array": {
           "bdata": "WME429I8Z0D8PjqsE8VvQLRK7TAQ23FAq4p3gexBcEBDZu7IT5l0QKS6yX56q3ZAI3Zce5S9akC8H2SBQgh1QFyc/1TQGmhAB2ntvBoucUBNBkvD0CRxQINMtFItq2hAeq7mXP4PaED7gZ9XqGp3QE5r+rtgfGxApNaqLglWc0BZwGe6/LhqQHqSbzKufGpA/gO5W6+tcUCBqCBB11l7QA==",
           "dtype": "f8"
          },
          "color": "rgba(0,0,0,0.4)",
          "thickness": 1.5,
          "type": "data",
          "visible": true
         },
         "legendgroup": "Deepseek R1 (ABBEL)",
         "line": {
          "color": "#8B0000",
          "width": 2
         },
         "mode": "lines+markers",
         "name": "Deepseek R1 (ABBEL)",
         "showlegend": false,
         "type": "scatter",
         "x": {
          "bdata": "AQIDBAUGBwgJCgsMDQ4PEBESExQ=",
          "dtype": "i1"
         },
         "xaxis": "x12",
         "y": {
          "bdata": "mpmZmZnsoEAAAAAAQJeoQJqZmZlZxKVAmpmZmVlGo0BmZmZm5hqkQAAAAAAAzKVAmpmZmVnqpEAzMzMz8zWiQDMzMzMzWqNAmpmZmdmzpUCamZmZmfCiQAAAAADAnKNAzczMzAyJoUDNzMzMDM2kQAAAAAAAFKVAgzRIgzSspUCDNEiDNLykQHD5lm/57qJAKK+hvIYIpECO4ziO46KnQA==",
          "dtype": "f8"
         },
         "yaxis": "y12"
        },
        {
         "error_y": {
          "array": {
           "bdata": "yLTSuzU6ZEBCahb/NDBsQM5oRN/Ji3ZAAx90nY/BakB2FyGHtO13QFBlMFiypnZA/5Ygw4LcZUAvNETcB/VrQEULZpKa+GJA6a38VA05c0ClZsFXqbJ3QPaHWMZyeWNAK/6KtiHYcEDvRcQq+1hmQNgyi5BAz4JA8l02Zz9zcEALFtBnBRVxQBYRoSCH2l9An3CxeNngbECFJ4AISYBfQA==",
           "dtype": "f8"
          },
          "color": "rgba(0,0,0,0.4)",
          "thickness": 1.5,
          "type": "data",
          "visible": true
         },
         "legendgroup": "Deepseek R1 (belief prompting)",
         "line": {
          "color": "#FF6347",
          "width": 2
         },
         "mode": "lines+markers",
         "name": "Deepseek R1 (belief prompting)",
         "showlegend": false,
         "type": "scatter",
         "x": {
          "bdata": "AQIDBAUGBwgJCgsMDQ4PEBESExQ=",
          "dtype": "i1"
         },
         "xaxis": "x12",
         "y": {
          "bdata": "MzMzMzPhn0CamZmZmdudQDMzMzPzaKRAMzMzMzPGnkDNzMzMjCClQAAAAADAt6BAMzMzMzMqnUBmZmZm5rCgQGZmZmZmRJ1AMzMzM3ODo0AzMzMz8xmjQC7f8i3f7pxAHEyRz7qRoEBVVVVVVZKcQFVVVVXVTaZAdVAHdVADoEB00UUXXU6gQFtrrbXWBplALPc0wnLjn0AzMzMzM0ObQA==",
          "dtype": "f8"
         },
         "yaxis": "y12"
        },
        {
         "error_y": {
          "array": {
           "bdata": "Ku2nWEkWSUAIexTETApPQFtTxhSCtk1A1bUFgDmwTEDx+qVhLY5KQNeBwMV/nUdAou9MgP4xS0A8V1s2+BdRQMIpXG0UGlBAWHL006cxT0CARkHoFhtSQOC1mKHTB1ZADPBL1HSVUECJBgVfWapXQN+XrlbpwVhAu9FVqsuyVUB5cme4FO9cQFTs+YuGE2dARbO71Mh7Y0AEKH52PVlhQA==",
           "dtype": "f8"
          },
          "color": "rgba(0,0,0,0.4)",
          "thickness": 1.5,
          "type": "data",
          "visible": true
         },
         "legendgroup": "Gemini 2.5 Pro",
         "line": {
          "color": "#90EE90",
          "width": 2
         },
         "mode": "lines+markers",
         "name": "Gemini 2.5 Pro",
         "showlegend": false,
         "type": "scatter",
         "x": {
          "bdata": "AQIDBAUGBwgJCgsMDQ4PEBESExQ=",
          "dtype": "i1"
         },
         "xaxis": "x12",
         "y": {
          "bdata": "ZmZmZua3mUDNzMzMTCuZQDMzMzMz2ZpAAAAAAACXmkDNzMzMzFaaQM3MzMxMBp1AMzMzM7M2nkBmZmZm5m2eQAAAAAAAOp5AT+zETuwYnUCivIbyGmKeQMdxHMdxvZtAAAAAAKD2m0BERERERN6aQAAAAAAAbJ5AntiJndivmUBmZmZmZjWbQAAAAADAGZ5AzczMzMxom0DHcRzHcXScQA==",
          "dtype": "f8"
         },
         "yaxis": "y12"
        },
        {
         "error_y": {
          "array": {
           "bdata": "eRwjk081TEDrCyBHab5KQDApH8NGv0xASSCtQOW4T0BXEhQ1PeBOQNHe1dxIUE5AKqirI8tKS0CUSrbzQjJJQDd+oIgIH0tAElSa4BLcSUCfWTSb1sJFQCg13v7IHVNAyVhFjT55UEDh5QxF4KdVQJiePEFlI1JAKJvXC9JxVEAaQyrV9YlaQHflic7VzVZAJbsI6ADUb0APHFt5KBdZQA==",
           "dtype": "f8"
          },
          "color": "rgba(0,0,0,0.4)",
          "thickness": 1.5,
          "type": "data",
          "visible": true
         },
         "legendgroup": "Gemini 2.5 Pro (ABBEL)",
         "line": {
          "color": "#006400",
          "width": 2
         },
         "mode": "lines+markers",
         "name": "Gemini 2.5 Pro (ABBEL)",
         "showlegend": false,
         "type": "scatter",
         "x": {
          "bdata": "AQIDBAUGBwgJCgsMDQ4PEBESExQ=",
          "dtype": "i1"
         },
         "xaxis": "x12",
         "y": {
          "bdata": "zczMzMwBmEAzMzMzMx2XQM3MzMzMxZdAzczMzMwkmUAAAAAAgDGZQJqZmZkZBplAmpmZmZl9l0AzMzMzs6KYQLh8y7d8r5dAAAAAAACelkBvMEU+69qWQDLGGGOM8ZZAKVyPwvX0lkDbtm3bthWWQJ7neZ7n2ZVA4uHh4eGdmEC3bdu2bTGaQDuxEzuxj5ZAAAAAAAD6nEAAAAAAAHyYQA==",
          "dtype": "f8"
         },
         "yaxis": "y12"
        },
        {
         "error_y": {
          "array": {
           "bdata": "OIwsTo7GREDOUsMiIJFJQBM/G9gnY0dAz+IQlDYwR0DNINcmtx5MQKaqVNGSR0xAW9xiEKS/S0C7/sF2fq5TQKuQpu9U/FFAvGcEwdg7UEBWb+iKKHJLQFzDuvX8xlBATbr1ppY3S0Dlrq2XOSVPQNu7DZ8QJFVAA8O1g+BiUUAz0vc3WnpWQJB52of4x1lAZ/n7w9hPUECLOhW7jqRfQA==",
           "dtype": "f8"
          },
          "color": "rgba(0,0,0,0.4)",
          "thickness": 1.5,
          "type": "data",
          "visible": true
         },
         "legendgroup": "Gemini 2.5 Pro (belief prompting)",
         "line": {
          "color": "#32CD32",
          "width": 2
         },
         "mode": "lines+markers",
         "name": "Gemini 2.5 Pro (belief prompting)",
         "showlegend": false,
         "type": "scatter",
         "x": {
          "bdata": "AQIDBAUGBwgJCgsMDQ4PEBESExQ=",
          "dtype": "i1"
         },
         "xaxis": "x12",
         "y": {
          "bdata": "MzMzM7NtmECamZmZmaSWQM3MzMzMEJlAAAAAAIBEmUAzMzMzM4OZQGZmZmZmBplAQhqkQRrsmUCDNEiDNFCaQGwor6G8BplAyWfdYIo4mUDjK77iK6aYQFVVVVVV2ZdAIyz3NMJilkDD9ShcjwqWQD3P8zzPn5VAMzMzMzMtlkAAAAAAgICTQBQ7sRM77ZRAAAAAAAA+k0ByHMdxHLuQQA==",
          "dtype": "f8"
         },
         "yaxis": "y12"
        }
       ],
       "layout": {
        "annotations": [
         {
          "font": {
           "size": 16
          },
          "showarrow": false,
          "text": "Customer Service",
          "x": 0.06777777777777778,
          "xanchor": "center",
          "xref": "paper",
          "y": 1,
          "yanchor": "bottom",
          "yref": "paper"
         },
         {
          "font": {
           "size": 16
          },
          "showarrow": false,
          "text": "Wordle",
          "x": 0.2366666666666667,
          "xanchor": "center",
          "xref": "paper",
          "y": 1,
          "yanchor": "bottom",
          "yref": "paper"
         },
         {
          "font": {
           "size": 16
          },
          "showarrow": false,
          "text": "Guess my City",
          "x": 0.40555555555555556,
          "xanchor": "center",
          "xref": "paper",
          "y": 1,
          "yanchor": "bottom",
          "yref": "paper"
         },
         {
          "font": {
           "size": 16
          },
          "showarrow": false,
          "text": "Twenty Questions",
          "x": 0.5744444444444445,
          "xanchor": "center",
          "xref": "paper",
          "y": 1,
          "yanchor": "bottom",
          "yref": "paper"
         },
         {
          "font": {
           "size": 16
          },
          "showarrow": false,
          "text": "Mastermind",
          "x": 0.7433333333333334,
          "xanchor": "center",
          "xref": "paper",
          "y": 1,
          "yanchor": "bottom",
          "yref": "paper"
         },
         {
          "font": {
           "size": 16
          },
          "showarrow": false,
          "text": "Murder Mystery",
          "x": 0.9122222222222223,
          "xanchor": "center",
          "xref": "paper",
          "y": 1,
          "yanchor": "bottom",
          "yref": "paper"
         }
        ],
        "barmode": "group",
        "font": {
         "family": "Computer Modern, serif",
         "size": 16
        },
        "height": 700,
        "legend": {
         "bgcolor": "rgba(255,255,255,0.9)",
         "bordercolor": "black",
         "borderwidth": 1,
         "orientation": "h",
         "title": {
          "text": " Model<br> (info)"
         },
         "x": 0.5,
         "xanchor": "center",
         "y": 1.18,
         "yanchor": "bottom"
        },
        "margin": {
         "b": 50,
         "l": 80,
         "r": 80,
         "t": 100
        },
        "plot_bgcolor": "white",
        "showlegend": true,
        "template": {
         "data": {
          "bar": [
           {
            "error_x": {
             "color": "rgb(36,36,36)"
            },
            "error_y": {
             "color": "rgb(36,36,36)"
            },
            "marker": {
             "line": {
              "color": "white",
              "width": 0.5
             },
             "pattern": {
              "fillmode": "overlay",
              "size": 10,
              "solidity": 0.2
             }
            },
            "type": "bar"
           }
          ],
          "barpolar": [
           {
            "marker": {
             "line": {
              "color": "white",
              "width": 0.5
             },
             "pattern": {
              "fillmode": "overlay",
              "size": 10,
              "solidity": 0.2
             }
            },
            "type": "barpolar"
           }
          ],
          "carpet": [
           {
            "aaxis": {
             "endlinecolor": "rgb(36,36,36)",
             "gridcolor": "white",
             "linecolor": "white",
             "minorgridcolor": "white",
             "startlinecolor": "rgb(36,36,36)"
            },
            "baxis": {
             "endlinecolor": "rgb(36,36,36)",
             "gridcolor": "white",
             "linecolor": "white",
             "minorgridcolor": "white",
             "startlinecolor": "rgb(36,36,36)"
            },
            "type": "carpet"
           }
          ],
          "choropleth": [
           {
            "colorbar": {
             "outlinewidth": 1,
             "tickcolor": "rgb(36,36,36)",
             "ticks": "outside"
            },
            "type": "choropleth"
           }
          ],
          "contour": [
           {
            "colorbar": {
             "outlinewidth": 1,
             "tickcolor": "rgb(36,36,36)",
             "ticks": "outside"
            },
            "colorscale": [
             [
              0,
              "#440154"
             ],
             [
              0.1111111111111111,
              "#482878"
             ],
             [
              0.2222222222222222,
              "#3e4989"
             ],
             [
              0.3333333333333333,
              "#31688e"
             ],
             [
              0.4444444444444444,
              "#26828e"
             ],
             [
              0.5555555555555556,
              "#1f9e89"
             ],
             [
              0.6666666666666666,
              "#35b779"
             ],
             [
              0.7777777777777778,
              "#6ece58"
             ],
             [
              0.8888888888888888,
              "#b5de2b"
             ],
             [
              1,
              "#fde725"
             ]
            ],
            "type": "contour"
           }
          ],
          "contourcarpet": [
           {
            "colorbar": {
             "outlinewidth": 1,
             "tickcolor": "rgb(36,36,36)",
             "ticks": "outside"
            },
            "type": "contourcarpet"
           }
          ],
          "heatmap": [
           {
            "colorbar": {
             "outlinewidth": 1,
             "tickcolor": "rgb(36,36,36)",
             "ticks": "outside"
            },
            "colorscale": [
             [
              0,
              "#440154"
             ],
             [
              0.1111111111111111,
              "#482878"
             ],
             [
              0.2222222222222222,
              "#3e4989"
             ],
             [
              0.3333333333333333,
              "#31688e"
             ],
             [
              0.4444444444444444,
              "#26828e"
             ],
             [
              0.5555555555555556,
              "#1f9e89"
             ],
             [
              0.6666666666666666,
              "#35b779"
             ],
             [
              0.7777777777777778,
              "#6ece58"
             ],
             [
              0.8888888888888888,
              "#b5de2b"
             ],
             [
              1,
              "#fde725"
             ]
            ],
            "type": "heatmap"
           }
          ],
          "histogram": [
           {
            "marker": {
             "line": {
              "color": "white",
              "width": 0.6
             }
            },
            "type": "histogram"
           }
          ],
          "histogram2d": [
           {
            "colorbar": {
             "outlinewidth": 1,
             "tickcolor": "rgb(36,36,36)",
             "ticks": "outside"
            },
            "colorscale": [
             [
              0,
              "#440154"
             ],
             [
              0.1111111111111111,
              "#482878"
             ],
             [
              0.2222222222222222,
              "#3e4989"
             ],
             [
              0.3333333333333333,
              "#31688e"
             ],
             [
              0.4444444444444444,
              "#26828e"
             ],
             [
              0.5555555555555556,
              "#1f9e89"
             ],
             [
              0.6666666666666666,
              "#35b779"
             ],
             [
              0.7777777777777778,
              "#6ece58"
             ],
             [
              0.8888888888888888,
              "#b5de2b"
             ],
             [
              1,
              "#fde725"
             ]
            ],
            "type": "histogram2d"
           }
          ],
          "histogram2dcontour": [
           {
            "colorbar": {
             "outlinewidth": 1,
             "tickcolor": "rgb(36,36,36)",
             "ticks": "outside"
            },
            "colorscale": [
             [
              0,
              "#440154"
             ],
             [
              0.1111111111111111,
              "#482878"
             ],
             [
              0.2222222222222222,
              "#3e4989"
             ],
             [
              0.3333333333333333,
              "#31688e"
             ],
             [
              0.4444444444444444,
              "#26828e"
             ],
             [
              0.5555555555555556,
              "#1f9e89"
             ],
             [
              0.6666666666666666,
              "#35b779"
             ],
             [
              0.7777777777777778,
              "#6ece58"
             ],
             [
              0.8888888888888888,
              "#b5de2b"
             ],
             [
              1,
              "#fde725"
             ]
            ],
            "type": "histogram2dcontour"
           }
          ],
          "mesh3d": [
           {
            "colorbar": {
             "outlinewidth": 1,
             "tickcolor": "rgb(36,36,36)",
             "ticks": "outside"
            },
            "type": "mesh3d"
           }
          ],
          "parcoords": [
           {
            "line": {
             "colorbar": {
              "outlinewidth": 1,
              "tickcolor": "rgb(36,36,36)",
              "ticks": "outside"
             }
            },
            "type": "parcoords"
           }
          ],
          "pie": [
           {
            "automargin": true,
            "type": "pie"
           }
          ],
          "scatter": [
           {
            "fillpattern": {
             "fillmode": "overlay",
             "size": 10,
             "solidity": 0.2
            },
            "type": "scatter"
           }
          ],
          "scatter3d": [
           {
            "line": {
             "colorbar": {
              "outlinewidth": 1,
              "tickcolor": "rgb(36,36,36)",
              "ticks": "outside"
             }
            },
            "marker": {
             "colorbar": {
              "outlinewidth": 1,
              "tickcolor": "rgb(36,36,36)",
              "ticks": "outside"
             }
            },
            "type": "scatter3d"
           }
          ],
          "scattercarpet": [
           {
            "marker": {
             "colorbar": {
              "outlinewidth": 1,
              "tickcolor": "rgb(36,36,36)",
              "ticks": "outside"
             }
            },
            "type": "scattercarpet"
           }
          ],
          "scattergeo": [
           {
            "marker": {
             "colorbar": {
              "outlinewidth": 1,
              "tickcolor": "rgb(36,36,36)",
              "ticks": "outside"
             }
            },
            "type": "scattergeo"
           }
          ],
          "scattergl": [
           {
            "marker": {
             "colorbar": {
              "outlinewidth": 1,
              "tickcolor": "rgb(36,36,36)",
              "ticks": "outside"
             }
            },
            "type": "scattergl"
           }
          ],
          "scattermap": [
           {
            "marker": {
             "colorbar": {
              "outlinewidth": 1,
              "tickcolor": "rgb(36,36,36)",
              "ticks": "outside"
             }
            },
            "type": "scattermap"
           }
          ],
          "scattermapbox": [
           {
            "marker": {
             "colorbar": {
              "outlinewidth": 1,
              "tickcolor": "rgb(36,36,36)",
              "ticks": "outside"
             }
            },
            "type": "scattermapbox"
           }
          ],
          "scatterpolar": [
           {
            "marker": {
             "colorbar": {
              "outlinewidth": 1,
              "tickcolor": "rgb(36,36,36)",
              "ticks": "outside"
             }
            },
            "type": "scatterpolar"
           }
          ],
          "scatterpolargl": [
           {
            "marker": {
             "colorbar": {
              "outlinewidth": 1,
              "tickcolor": "rgb(36,36,36)",
              "ticks": "outside"
             }
            },
            "type": "scatterpolargl"
           }
          ],
          "scatterternary": [
           {
            "marker": {
             "colorbar": {
              "outlinewidth": 1,
              "tickcolor": "rgb(36,36,36)",
              "ticks": "outside"
             }
            },
            "type": "scatterternary"
           }
          ],
          "surface": [
           {
            "colorbar": {
             "outlinewidth": 1,
             "tickcolor": "rgb(36,36,36)",
             "ticks": "outside"
            },
            "colorscale": [
             [
              0,
              "#440154"
             ],
             [
              0.1111111111111111,
              "#482878"
             ],
             [
              0.2222222222222222,
              "#3e4989"
             ],
             [
              0.3333333333333333,
              "#31688e"
             ],
             [
              0.4444444444444444,
              "#26828e"
             ],
             [
              0.5555555555555556,
              "#1f9e89"
             ],
             [
              0.6666666666666666,
              "#35b779"
             ],
             [
              0.7777777777777778,
              "#6ece58"
             ],
             [
              0.8888888888888888,
              "#b5de2b"
             ],
             [
              1,
              "#fde725"
             ]
            ],
            "type": "surface"
           }
          ],
          "table": [
           {
            "cells": {
             "fill": {
              "color": "rgb(237,237,237)"
             },
             "line": {
              "color": "white"
             }
            },
            "header": {
             "fill": {
              "color": "rgb(217,217,217)"
             },
             "line": {
              "color": "white"
             }
            },
            "type": "table"
           }
          ]
         },
         "layout": {
          "annotationdefaults": {
           "arrowhead": 0,
           "arrowwidth": 1
          },
          "autotypenumbers": "strict",
          "coloraxis": {
           "colorbar": {
            "outlinewidth": 1,
            "tickcolor": "rgb(36,36,36)",
            "ticks": "outside"
           }
          },
          "colorscale": {
           "diverging": [
            [
             0,
             "rgb(103,0,31)"
            ],
            [
             0.1,
             "rgb(178,24,43)"
            ],
            [
             0.2,
             "rgb(214,96,77)"
            ],
            [
             0.3,
             "rgb(244,165,130)"
            ],
            [
             0.4,
             "rgb(253,219,199)"
            ],
            [
             0.5,
             "rgb(247,247,247)"
            ],
            [
             0.6,
             "rgb(209,229,240)"
            ],
            [
             0.7,
             "rgb(146,197,222)"
            ],
            [
             0.8,
             "rgb(67,147,195)"
            ],
            [
             0.9,
             "rgb(33,102,172)"
            ],
            [
             1,
             "rgb(5,48,97)"
            ]
           ],
           "sequential": [
            [
             0,
             "#440154"
            ],
            [
             0.1111111111111111,
             "#482878"
            ],
            [
             0.2222222222222222,
             "#3e4989"
            ],
            [
             0.3333333333333333,
             "#31688e"
            ],
            [
             0.4444444444444444,
             "#26828e"
            ],
            [
             0.5555555555555556,
             "#1f9e89"
            ],
            [
             0.6666666666666666,
             "#35b779"
            ],
            [
             0.7777777777777778,
             "#6ece58"
            ],
            [
             0.8888888888888888,
             "#b5de2b"
            ],
            [
             1,
             "#fde725"
            ]
           ],
           "sequentialminus": [
            [
             0,
             "#440154"
            ],
            [
             0.1111111111111111,
             "#482878"
            ],
            [
             0.2222222222222222,
             "#3e4989"
            ],
            [
             0.3333333333333333,
             "#31688e"
            ],
            [
             0.4444444444444444,
             "#26828e"
            ],
            [
             0.5555555555555556,
             "#1f9e89"
            ],
            [
             0.6666666666666666,
             "#35b779"
            ],
            [
             0.7777777777777778,
             "#6ece58"
            ],
            [
             0.8888888888888888,
             "#b5de2b"
            ],
            [
             1,
             "#fde725"
            ]
           ]
          },
          "colorway": [
           "#1F77B4",
           "#FF7F0E",
           "#2CA02C",
           "#D62728",
           "#9467BD",
           "#8C564B",
           "#E377C2",
           "#7F7F7F",
           "#BCBD22",
           "#17BECF"
          ],
          "font": {
           "color": "rgb(36,36,36)"
          },
          "geo": {
           "bgcolor": "white",
           "lakecolor": "white",
           "landcolor": "white",
           "showlakes": true,
           "showland": true,
           "subunitcolor": "white"
          },
          "hoverlabel": {
           "align": "left"
          },
          "hovermode": "closest",
          "mapbox": {
           "style": "light"
          },
          "paper_bgcolor": "white",
          "plot_bgcolor": "white",
          "polar": {
           "angularaxis": {
            "gridcolor": "rgb(232,232,232)",
            "linecolor": "rgb(36,36,36)",
            "showgrid": false,
            "showline": true,
            "ticks": "outside"
           },
           "bgcolor": "white",
           "radialaxis": {
            "gridcolor": "rgb(232,232,232)",
            "linecolor": "rgb(36,36,36)",
            "showgrid": false,
            "showline": true,
            "ticks": "outside"
           }
          },
          "scene": {
           "xaxis": {
            "backgroundcolor": "white",
            "gridcolor": "rgb(232,232,232)",
            "gridwidth": 2,
            "linecolor": "rgb(36,36,36)",
            "showbackground": true,
            "showgrid": false,
            "showline": true,
            "ticks": "outside",
            "zeroline": false,
            "zerolinecolor": "rgb(36,36,36)"
           },
           "yaxis": {
            "backgroundcolor": "white",
            "gridcolor": "rgb(232,232,232)",
            "gridwidth": 2,
            "linecolor": "rgb(36,36,36)",
            "showbackground": true,
            "showgrid": false,
            "showline": true,
            "ticks": "outside",
            "zeroline": false,
            "zerolinecolor": "rgb(36,36,36)"
           },
           "zaxis": {
            "backgroundcolor": "white",
            "gridcolor": "rgb(232,232,232)",
            "gridwidth": 2,
            "linecolor": "rgb(36,36,36)",
            "showbackground": true,
            "showgrid": false,
            "showline": true,
            "ticks": "outside",
            "zeroline": false,
            "zerolinecolor": "rgb(36,36,36)"
           }
          },
          "shapedefaults": {
           "fillcolor": "black",
           "line": {
            "width": 0
           },
           "opacity": 0.3
          },
          "ternary": {
           "aaxis": {
            "gridcolor": "rgb(232,232,232)",
            "linecolor": "rgb(36,36,36)",
            "showgrid": false,
            "showline": true,
            "ticks": "outside"
           },
           "baxis": {
            "gridcolor": "rgb(232,232,232)",
            "linecolor": "rgb(36,36,36)",
            "showgrid": false,
            "showline": true,
            "ticks": "outside"
           },
           "bgcolor": "white",
           "caxis": {
            "gridcolor": "rgb(232,232,232)",
            "linecolor": "rgb(36,36,36)",
            "showgrid": false,
            "showline": true,
            "ticks": "outside"
           }
          },
          "title": {
           "x": 0.05
          },
          "xaxis": {
           "automargin": true,
           "gridcolor": "rgb(232,232,232)",
           "linecolor": "rgb(36,36,36)",
           "showgrid": false,
           "showline": true,
           "ticks": "outside",
           "title": {
            "standoff": 15
           },
           "zeroline": false,
           "zerolinecolor": "rgb(36,36,36)"
          },
          "yaxis": {
           "automargin": true,
           "gridcolor": "rgb(232,232,232)",
           "linecolor": "rgb(36,36,36)",
           "showgrid": false,
           "showline": true,
           "ticks": "outside",
           "title": {
            "standoff": 15
           },
           "zeroline": false,
           "zerolinecolor": "rgb(36,36,36)"
          }
         }
        },
        "xaxis": {
         "anchor": "y",
         "color": "black",
         "domain": [
          0,
          0.13555555555555557
         ],
         "linecolor": "black",
         "linewidth": 1,
         "showgrid": false,
         "showline": true,
         "title": {
          "text": ""
         }
        },
        "xaxis10": {
         "anchor": "y10",
         "color": "black",
         "domain": [
          0.5066666666666667,
          0.6422222222222222
         ],
         "linecolor": "black",
         "linewidth": 1,
         "showgrid": false,
         "showline": true,
         "title": {
          "text": "Step"
         }
        },
        "xaxis11": {
         "anchor": "y11",
         "color": "black",
         "domain": [
          0.6755555555555556,
          0.8111111111111111
         ],
         "linecolor": "black",
         "linewidth": 1,
         "showgrid": false,
         "showline": true,
         "title": {
          "text": "Step"
         }
        },
        "xaxis12": {
         "anchor": "y12",
         "color": "black",
         "domain": [
          0.8444444444444444,
          0.98
         ],
         "linecolor": "black",
         "linewidth": 1,
         "showgrid": false,
         "showline": true,
         "title": {
          "text": "Step"
         }
        },
        "xaxis2": {
         "anchor": "y2",
         "color": "black",
         "domain": [
          0.1688888888888889,
          0.30444444444444446
         ],
         "linecolor": "black",
         "linewidth": 1,
         "showgrid": false,
         "showline": true,
         "title": {
          "text": ""
         }
        },
        "xaxis3": {
         "anchor": "y3",
         "color": "black",
         "domain": [
          0.3377777777777778,
          0.4733333333333334
         ],
         "linecolor": "black",
         "linewidth": 1,
         "showgrid": false,
         "showline": true,
         "title": {
          "text": ""
         }
        },
        "xaxis4": {
         "anchor": "y4",
         "color": "black",
         "domain": [
          0.5066666666666667,
          0.6422222222222222
         ],
         "linecolor": "black",
         "linewidth": 1,
         "showgrid": false,
         "showline": true,
         "title": {
          "text": ""
         }
        },
        "xaxis5": {
         "anchor": "y5",
         "color": "black",
         "domain": [
          0.6755555555555556,
          0.8111111111111111
         ],
         "linecolor": "black",
         "linewidth": 1,
         "showgrid": false,
         "showline": true,
         "title": {
          "text": ""
         }
        },
        "xaxis6": {
         "anchor": "y6",
         "color": "black",
         "domain": [
          0.8444444444444444,
          0.98
         ],
         "linecolor": "black",
         "linewidth": 1,
         "showgrid": false,
         "showline": true,
         "title": {
          "text": ""
         }
        },
        "xaxis7": {
         "anchor": "y7",
         "color": "black",
         "domain": [
          0,
          0.13555555555555557
         ],
         "linecolor": "black",
         "linewidth": 1,
         "showgrid": false,
         "showline": true,
         "title": {
          "text": "Step"
         }
        },
        "xaxis8": {
         "anchor": "y8",
         "color": "black",
         "domain": [
          0.1688888888888889,
          0.30444444444444446
         ],
         "linecolor": "black",
         "linewidth": 1,
         "showgrid": false,
         "showline": true,
         "title": {
          "text": "Step"
         }
        },
        "xaxis9": {
         "anchor": "y9",
         "color": "black",
         "domain": [
          0.3377777777777778,
          0.4733333333333334
         ],
         "linecolor": "black",
         "linewidth": 1,
         "showgrid": false,
         "showline": true,
         "title": {
          "text": "Step"
         }
        },
        "yaxis": {
         "anchor": "x",
         "domain": [
          0.55,
          1
         ],
         "gridcolor": "lightgray",
         "linecolor": "black",
         "linewidth": 1,
         "showgrid": true,
         "showline": true,
         "tickfont": {
          "color": "black"
         },
         "title": {
          "text": "Belief Reasoning Length"
         }
        },
        "yaxis10": {
         "anchor": "x10",
         "domain": [
          0,
          0.45
         ],
         "gridcolor": "lightgray",
         "linecolor": "black",
         "linewidth": 1,
         "showgrid": true,
         "showline": true,
         "tickfont": {
          "color": "black"
         }
        },
        "yaxis11": {
         "anchor": "x11",
         "domain": [
          0,
          0.45
         ],
         "gridcolor": "lightgray",
         "linecolor": "black",
         "linewidth": 1,
         "showgrid": true,
         "showline": true,
         "tickfont": {
          "color": "black"
         }
        },
        "yaxis12": {
         "anchor": "x12",
         "domain": [
          0,
          0.45
         ],
         "gridcolor": "lightgray",
         "linecolor": "black",
         "linewidth": 1,
         "showgrid": true,
         "showline": true,
         "tickfont": {
          "color": "black"
         }
        },
        "yaxis2": {
         "anchor": "x2",
         "domain": [
          0.55,
          1
         ],
         "gridcolor": "lightgray",
         "linecolor": "black",
         "linewidth": 1,
         "showgrid": true,
         "showline": true,
         "tickfont": {
          "color": "black"
         }
        },
        "yaxis3": {
         "anchor": "x3",
         "domain": [
          0.55,
          1
         ],
         "gridcolor": "lightgray",
         "linecolor": "black",
         "linewidth": 1,
         "showgrid": true,
         "showline": true,
         "tickfont": {
          "color": "black"
         }
        },
        "yaxis4": {
         "anchor": "x4",
         "domain": [
          0.55,
          1
         ],
         "gridcolor": "lightgray",
         "linecolor": "black",
         "linewidth": 1,
         "showgrid": true,
         "showline": true,
         "tickfont": {
          "color": "black"
         }
        },
        "yaxis5": {
         "anchor": "x5",
         "domain": [
          0.55,
          1
         ],
         "gridcolor": "lightgray",
         "linecolor": "black",
         "linewidth": 1,
         "showgrid": true,
         "showline": true,
         "tickfont": {
          "color": "black"
         }
        },
        "yaxis6": {
         "anchor": "x6",
         "domain": [
          0.55,
          1
         ],
         "gridcolor": "lightgray",
         "linecolor": "black",
         "linewidth": 1,
         "showgrid": true,
         "showline": true,
         "tickfont": {
          "color": "black"
         }
        },
        "yaxis7": {
         "anchor": "x7",
         "domain": [
          0,
          0.45
         ],
         "gridcolor": "lightgray",
         "linecolor": "black",
         "linewidth": 1,
         "showgrid": true,
         "showline": true,
         "tickfont": {
          "color": "black"
         },
         "title": {
          "text": "Action Reasoning Length"
         }
        },
        "yaxis8": {
         "anchor": "x8",
         "domain": [
          0,
          0.45
         ],
         "gridcolor": "lightgray",
         "linecolor": "black",
         "linewidth": 1,
         "showgrid": true,
         "showline": true,
         "tickfont": {
          "color": "black"
         }
        },
        "yaxis9": {
         "anchor": "x9",
         "domain": [
          0,
          0.45
         ],
         "gridcolor": "lightgray",
         "linecolor": "black",
         "linewidth": 1,
         "showgrid": true,
         "showline": true,
         "tickfont": {
          "color": "black"
         }
        }
       }
      }
     },
     "metadata": {},
     "output_type": "display_data"
    }
   ],
   "source": [
    "fig.show()"
   ]
  },
  {
   "cell_type": "code",
   "execution_count": null,
   "id": "62b9244d",
   "metadata": {},
   "outputs": [],
   "source": [
    "fig.write_image('figures/frontier_reasoning_length.pdf', width=1200, height=550)"
   ]
  },
  {
   "cell_type": "code",
   "execution_count": null,
   "id": "e24095e4",
   "metadata": {},
   "outputs": [],
   "source": []
  }
 ],
 "metadata": {
  "kernelspec": {
   "display_name": "verl",
   "language": "python",
   "name": "python3"
  },
  "language_info": {
   "codemirror_mode": {
    "name": "ipython",
    "version": 3
   },
   "file_extension": ".py",
   "mimetype": "text/x-python",
   "name": "python",
   "nbconvert_exporter": "python",
   "pygments_lexer": "ipython3",
   "version": "3.10.18"
  }
 },
 "nbformat": 4,
 "nbformat_minor": 5
}
