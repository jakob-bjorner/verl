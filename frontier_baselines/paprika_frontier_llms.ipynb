{
 "cells": [
  {
   "cell_type": "markdown",
   "id": "4bc7077f",
   "metadata": {},
   "source": [
    "# 1. Load the Paprika Environments"
   ]
  },
  {
   "cell_type": "code",
   "execution_count": 1,
   "id": "9e7df930",
   "metadata": {},
   "outputs": [
    {
     "name": "stdout",
     "output_type": "stream",
     "text": [
      "Could not import JerichoInferenceEngine, so cannot use it!\n",
      "Could not import VLLMInferenceEngine, so cannot use it!\n"
     ]
    }
   ],
   "source": [
    "import sys\n",
    "import pandas as pd\n",
    "sys.path.append('../../paprika/') # Remove this when verl and paprika are installed in the same env\n",
    "from llm_exploration.paprika_config_helper import PaprikaConfigHelper\n",
    "from verl.interactions.paprika_interaction import PaprikaInteraction\n",
    "from pprint import pprint as pp\n",
    "paprika_games = ['twenty_questions', 'guess_my_city', 'murder_mystery', 'customer_service', 'wordle', 'cellular_automata', \\\n",
    "    'mastermind'] # 'battleship', 'minesweeper', 'bandit_bai_fixed_budget' "
   ]
  },
  {
   "cell_type": "code",
   "execution_count": 2,
   "id": "b284ba30",
   "metadata": {},
   "outputs": [
    {
     "data": {
      "text/plain": [
       "True"
      ]
     },
     "execution_count": 2,
     "metadata": {},
     "output_type": "execute_result"
    }
   ],
   "source": [
    "import dotenv\n",
    "dotenv.load_dotenv('../../.env')"
   ]
  },
  {
   "cell_type": "code",
   "execution_count": 3,
   "id": "4d47bf2a",
   "metadata": {},
   "outputs": [
    {
     "name": "stdout",
     "output_type": "stream",
     "text": [
      "twenty_questions => 367\n",
      "guess_my_city => 185\n",
      "murder_mystery => 50\n",
      "customer_service => 200\n"
     ]
    },
    {
     "name": "stdout",
     "output_type": "stream",
     "text": [
      "wordle => 800\n",
      "cellular_automata => 500\n",
      "mastermind => 500\n"
     ]
    }
   ],
   "source": [
    "for env_name in paprika_games:\n",
    "    config = PaprikaConfigHelper.create_config(env_name)\n",
    "    config['belief_config']['style'] = 'none'\n",
    "\n",
    "    interaction = PaprikaInteraction(config={})\n",
    "\n",
    "    import builtins\n",
    "    _original_print = builtins.print\n",
    "    builtins.print = lambda *a, **k: None\n",
    "    try:\n",
    "        instance_id = await interaction.start_interaction(\n",
    "            instance_id=None,\n",
    "            scenario_id=None, # start a random scenario\n",
    "            **config,\n",
    "        )\n",
    "    finally:\n",
    "        builtins.print = _original_print\n",
    "    num_scenarios = interaction.game_scenarios.__len__()\n",
    "    print(f'{env_name} => {num_scenarios}')"
   ]
  },
  {
   "cell_type": "markdown",
   "id": "1d296088",
   "metadata": {},
   "source": [
    "So let us do 50 games for each with frontier LLMs - one with reasoning and one without.\n",
    "\n",
    "# 2. Setup LLM Call"
   ]
  },
  {
   "cell_type": "code",
   "execution_count": 4,
   "id": "636e9f13",
   "metadata": {},
   "outputs": [],
   "source": [
    "sys.path.append('../../src/optimal_explorer')\n",
    "from llm_utils import llm_call\n",
    "from pprint import pprint as pp"
   ]
  },
  {
   "cell_type": "code",
   "execution_count": 8,
   "id": "c11f7137",
   "metadata": {},
   "outputs": [],
   "source": [
    "out = await llm_call(\n",
    "    model='deepseek/deepseek-r1',\n",
    "    get_everything=True,\n",
    "    reasoning_effort='high',\n",
    "    messages = [\n",
    "            {\"role\": \"system\", \"content\": 'You are a useless assistant that gives humorous answers.'},\n",
    "            {\"role\": \"user\", \"content\": 'Why is the sky blue?'},\n",
    "            {\"role\": \"assistant\", \"content\": 'It is because of the great king of Pokemons.'},\n",
    "            {\"role\": \"user\", \"content\": 'How so?'},\n",
    "        ]\n",
    ")"
   ]
  },
  {
   "cell_type": "code",
   "execution_count": 9,
   "id": "7fa5b9da",
   "metadata": {},
   "outputs": [
    {
     "name": "stdout",
     "output_type": "stream",
     "text": [
      "('Ah, you’re right to question me—I clearly flunked out of Pokémon Academy’s physics class. Let me *ash*-k you to imagine this '\n",
      " 'instead: When sunlight (which is white) enters Earth’s atmosphere, tiny molecules scatter the light. Blue light waves are '\n",
      " 'short and feisty, like a hyper Pikachu dodging a Poké Ball, so they bounce wildly in all directions. This makes the sky look '\n",
      " \"blue! Meanwhile, red light waves are chill, like Snorlax napping—they just cruise straight through. So, the sky's blueness is \"\n",
      " 'basically Earth’s atmosphere throwing a rave for blue light. Science, but make it ✨ *electric* ✨.')\n"
     ]
    }
   ],
   "source": [
    "pp(out['choices'][0]['message']['content'], width=130)"
   ]
  },
  {
   "cell_type": "code",
   "execution_count": 14,
   "id": "59b23939",
   "metadata": {},
   "outputs": [
    {
     "name": "stdout",
     "output_type": "stream",
     "text": [
      "('Okay, the user asked \"How so?\" after I joked about the sky being blue because of the Pokémon king. They probably want a real '\n",
      " 'explanation but are playing along with the humor. I should maintain the funny tone but also slip in the actual science. Let me '\n",
      " \"explain Rayleigh scattering in a whimsical way using Pokémon references. Make sure it's clear that the real reason is \"\n",
      " 'scientific, but keep it light-hearted. Mention Pikachu and maybe some other Pokémon to keep the theme. Avoid getting too '\n",
      " \"technical but still convey the right information. Check if the analogy makes sense and the user isn't confused. Balance \"\n",
      " 'between humor and accuracy.\\n')\n"
     ]
    }
   ],
   "source": [
    "pp(out['choices'][0]['message']['reasoning'], width=130)"
   ]
  },
  {
   "cell_type": "markdown",
   "id": "54995906",
   "metadata": {},
   "source": [
    "# 3. Belief Update"
   ]
  },
  {
   "cell_type": "code",
   "execution_count": 15,
   "id": "65f117ca",
   "metadata": {},
   "outputs": [],
   "source": [
    "async def update_belief(\n",
    "        curr_belief: str,\n",
    "        action: str,\n",
    "        response: str,\n",
    "        model_name: str,\n",
    "    ):\n",
    "\n",
    "\n",
    "    user_content = f'''\\\n",
    "Look at the current belief and the agent's action and environment response on that belief.\\\n",
    "Compress the context, remove redundant information, and maintain important information about the game state \\\n",
    "needed to take optimal future actions.\\\n",
    "Current belief: {curr_belief}\n",
    "Agent's action: {action}\n",
    "Environment's response: {response}\n",
    "Output the updated belief state inside <BELIEF> and </BELIEF> tags.\\\n",
    "Understand that only the generated belief is fed to the agent, so be sure to include all necessary information about game mechanics.'''\n",
    "\n",
    "    messages = [\n",
    "        {\"role\": \"system\", \"content\": 'You are a helpful assistant.'},\n",
    "        {\"role\": \"user\", \"content\": user_content},\n",
    "    ]\n",
    "\n",
    "    out = await llm_call(\n",
    "        model=model_name,\n",
    "        get_everything=True,\n",
    "        reasoning_effort='high',\n",
    "        messages=messages\n",
    "    )\n",
    "\n",
    "    import re\n",
    "    content = out['choices'][0]['message']['content']\n",
    "    match = re.search(r\"<BELIEF>(.*?)</BELIEF>\", content, re.DOTALL | re.IGNORECASE)\n",
    "    if match:\n",
    "        belief = match.group(1).strip()\n",
    "    else:\n",
    "        # fallback: return the whole content if tags not found\n",
    "        belief = content.strip()\n",
    "    \n",
    "    reasoning = out['choices'][0]['message']['reasoning_details'][0]['text']\n",
    "\n",
    "    return belief, reasoning"
   ]
  },
  {
   "cell_type": "code",
   "execution_count": 16,
   "id": "763a4fa8",
   "metadata": {},
   "outputs": [],
   "source": [
    "async def take_action(\n",
    "        belief: str,\n",
    "        model_name: str,\n",
    "    ):\n",
    "\n",
    "\n",
    "    user_content = f'''\\\n",
    "Look at the current belief take the next action based on the belief.\\\n",
    "Take an action that leads to optimal exploration.\\\n",
    "Belief: {belief}\n",
    "Output the action inside <ACTION> and </ACTION> tags.'''\n",
    "\n",
    "    messages = [\n",
    "        {\"role\": \"system\", \"content\": 'You are a helpful assistant.'},\n",
    "        {\"role\": \"user\", \"content\": user_content},\n",
    "    ]\n",
    "\n",
    "    out = await llm_call(\n",
    "        model=model_name,\n",
    "        get_everything=True,\n",
    "        reasoning_effort='high',\n",
    "        messages=messages\n",
    "    )\n",
    "\n",
    "    import re\n",
    "    content = out['choices'][0]['message']['content']\n",
    "    match = re.search(r\"<\\s*action\\s*>(.*?)<\\s*/\\s*action\\s*>\", content, re.DOTALL | re.IGNORECASE)\n",
    "    if match:\n",
    "        action = match.group(1).strip()\n",
    "    else:\n",
    "        # fallback: return the whole content if tags not found\n",
    "        action = content.strip()\n",
    "    \n",
    "    reasoning = out['choices'][0]['message']['reasoning_details'][0]['text']\n",
    "\n",
    "    return action, reasoning"
   ]
  },
  {
   "cell_type": "markdown",
   "id": "ed2402b6",
   "metadata": {},
   "source": [
    "# 4. Paprika Rollout with Belief"
   ]
  },
  {
   "cell_type": "code",
   "execution_count": 17,
   "id": "b3c8fc4d",
   "metadata": {},
   "outputs": [],
   "source": [
    "import asyncio\n",
    "\n",
    "async def run_one_iteration_with_belief_llm(\n",
    "        env_name: str,\n",
    "        model_name: str,\n",
    "        game_id: int,\n",
    "    ):\n",
    "    config = PaprikaConfigHelper.create_config(env_name)\n",
    "    config['belief_config']['style'] = 'none'\n",
    "    interaction = PaprikaInteraction(config={})\n",
    "\n",
    "    import builtins\n",
    "    _original_print = builtins.print\n",
    "    builtins.print = lambda *a, **k: None\n",
    "    try:\n",
    "        instance_id = await interaction.start_interaction(instance_id=None, scenario_id=None, **config)\n",
    "    finally:\n",
    "        builtins.print = _original_print\n",
    "\n",
    "    first_user_message = interaction.agent_conv.messages[0][1]\n",
    "    attempts = 0\n",
    "    game_history = []\n",
    "    belief = f'This is the start of the game. The only available information right now are the game rules:\\n{first_user_message}'\n",
    "    max_attempts = interaction._instance_dict[instance_id]['max_turns']\n",
    "\n",
    "    while attempts < max_attempts:\n",
    "        \n",
    "        attempts += 1\n",
    "\n",
    "        action, action_reasoning = await take_action(belief, model_name)\n",
    "\n",
    "        message = [\n",
    "            {\"role\": \"user\", \"content\": f\"Output the next action.\"},\n",
    "            {\"role\": \"assistant\", \"content\": f\"<action>{action}</action>\"}\n",
    "        ]\n",
    "        done, response, score, additional_data = await interaction.generate_response(instance_id=instance_id, messages=message)\n",
    "        \n",
    "        belief, belief_reasoning = await update_belief(belief, action, response, model_name)\n",
    "\n",
    "        game_history.append({\n",
    "            \"model\": model_name,\n",
    "            \"game_id\": str(game_id),\n",
    "            \"env\": env_name,\n",
    "            \"attempt\": attempts,\n",
    "            \"guess\": action,\n",
    "            \"response\": response,\n",
    "            \"score\": score,\n",
    "            \"done\": done,\n",
    "            \"data\": additional_data,\n",
    "            \"belief\": belief,\n",
    "            \"action_reasoning\": action_reasoning,\n",
    "            \"belief_reasoning\": belief_reasoning,\n",
    "        })\n",
    "\n",
    "        if \"Goal reached\" in response:\n",
    "            break\n",
    "    \n",
    "    print(f'.', end='', flush=True)\n",
    "    \n",
    "    return game_history\n",
    "\n",
    "async def run_multiple_iterations_multiple_games(\n",
    "        num_games: int,\n",
    "        list_envs,\n",
    "        models,\n",
    "        logs_file='./logs/paprika_frontier.jsonl',\n",
    "    ):\n",
    "    import json\n",
    "\n",
    "    tasks = []\n",
    "    for model in models:\n",
    "        for env_name in list_envs:\n",
    "            for game_id in range(num_games):\n",
    "                tasks.append(run_one_iteration_with_belief_llm(env_name, model, game_id))\n",
    "\n",
    "    results = await asyncio.gather(*tasks)\n",
    "\n",
    "    # Flatten results and write to file\n",
    "    with open(logs_file, \"a\") as f:\n",
    "        for game_history in results:\n",
    "            for entry in game_history:\n",
    "                f.write(json.dumps(entry) + \"\\n\")"
   ]
  },
  {
   "cell_type": "code",
   "execution_count": 26,
   "id": "58d48f23",
   "metadata": {},
   "outputs": [
    {
     "name": "stdout",
     "output_type": "stream",
     "text": [
      ".........."
     ]
    }
   ],
   "source": [
    "await run_multiple_iterations_multiple_games(\n",
    "    num_games=10,\n",
    "    list_envs=['mastermind'],\n",
    "    models=['openai/gpt-oss-120b'],\n",
    ")"
   ]
  },
  {
   "cell_type": "code",
   "execution_count": null,
   "id": "ff61928a",
   "metadata": {},
   "outputs": [],
   "source": []
  },
  {
   "cell_type": "code",
   "execution_count": null,
   "id": "15a86e30",
   "metadata": {},
   "outputs": [],
   "source": []
  },
  {
   "cell_type": "code",
   "execution_count": null,
   "id": "ee4c49ff",
   "metadata": {},
   "outputs": [],
   "source": []
  },
  {
   "cell_type": "code",
   "execution_count": null,
   "id": "7f7063c2",
   "metadata": {},
   "outputs": [],
   "source": []
  },
  {
   "cell_type": "code",
   "execution_count": null,
   "id": "9096e2aa",
   "metadata": {},
   "outputs": [],
   "source": []
  },
  {
   "cell_type": "markdown",
   "id": "8616ece5",
   "metadata": {},
   "source": [
    "# 5. Metrics"
   ]
  },
  {
   "cell_type": "code",
   "execution_count": 1,
   "id": "8df58134",
   "metadata": {},
   "outputs": [],
   "source": [
    "import pandas as pd\n",
    "from pprint import pprint as pp\n",
    "import json\n",
    "\n",
    "logs_file = './logs/paprika_frontier_v6.jsonl'\n",
    "with open(logs_file, 'r') as f:\n",
    "    data = [json.loads(line) for line in f]\n",
    "df = pd.DataFrame(data)"
   ]
  },
  {
   "cell_type": "code",
   "execution_count": 2,
   "id": "656ec809",
   "metadata": {},
   "outputs": [
    {
     "name": "stdout",
     "output_type": "stream",
     "text": [
      "Index(['model', 'game_id', 'env', 'attempt', 'info', 'raw_guess', 'guess',\n",
      "       'response', 'word_limit', 'score', 'done', 'data', 'belief',\n",
      "       'action_reasoning', 'belief_reasoning'],\n",
      "      dtype='object')\n"
     ]
    }
   ],
   "source": [
    "print(df.columns)"
   ]
  },
  {
   "cell_type": "code",
   "execution_count": 3,
   "id": "b226b1d1",
   "metadata": {},
   "outputs": [],
   "source": [
    "if not df.iloc[0]['word_limit']:\n",
    "    df['word_limit'] = 'None'"
   ]
  },
  {
   "cell_type": "code",
   "execution_count": 4,
   "id": "f23e7984",
   "metadata": {},
   "outputs": [
    {
     "data": {
      "text/plain": [
       "info\n",
       "belief     8764\n",
       "both       8491\n",
       "history    8162\n",
       "Name: count, dtype: int64"
      ]
     },
     "execution_count": 4,
     "metadata": {},
     "output_type": "execute_result"
    }
   ],
   "source": [
    "df['info'].value_counts()"
   ]
  },
  {
   "cell_type": "code",
   "execution_count": 5,
   "id": "d9c30712",
   "metadata": {},
   "outputs": [],
   "source": [
    "df['model_info'] = df['model'].astype(str) + ' (' + df['info'].astype(str) + ')'"
   ]
  },
  {
   "cell_type": "code",
   "execution_count": 6,
   "id": "73a9cf0b",
   "metadata": {},
   "outputs": [],
   "source": [
    "df['model'] = df['model_info']"
   ]
  },
  {
   "cell_type": "code",
   "execution_count": 7,
   "id": "282887ef",
   "metadata": {},
   "outputs": [
    {
     "data": {
      "text/html": [
       "<div>\n",
       "<style scoped>\n",
       "    .dataframe tbody tr th:only-of-type {\n",
       "        vertical-align: middle;\n",
       "    }\n",
       "\n",
       "    .dataframe tbody tr th {\n",
       "        vertical-align: top;\n",
       "    }\n",
       "\n",
       "    .dataframe thead th {\n",
       "        text-align: right;\n",
       "    }\n",
       "</style>\n",
       "<table border=\"1\" class=\"dataframe\">\n",
       "  <thead>\n",
       "    <tr style=\"text-align: right;\">\n",
       "      <th></th>\n",
       "      <th>model</th>\n",
       "      <th>game_id</th>\n",
       "      <th>env</th>\n",
       "      <th>attempt</th>\n",
       "      <th>info</th>\n",
       "      <th>raw_guess</th>\n",
       "      <th>guess</th>\n",
       "      <th>response</th>\n",
       "      <th>word_limit</th>\n",
       "      <th>score</th>\n",
       "      <th>done</th>\n",
       "      <th>data</th>\n",
       "      <th>belief</th>\n",
       "      <th>action_reasoning</th>\n",
       "      <th>belief_reasoning</th>\n",
       "      <th>model_info</th>\n",
       "    </tr>\n",
       "  </thead>\n",
       "  <tbody>\n",
       "    <tr>\n",
       "      <th>25367</th>\n",
       "      <td>deepseek/deepseek-r1 (both)</td>\n",
       "      <td>32</td>\n",
       "      <td>mastermind</td>\n",
       "      <td>11</td>\n",
       "      <td>both</td>\n",
       "      <td>&lt;Think&gt;Based on the feedback so far, the code ...</td>\n",
       "      <td>6 9 8 4</td>\n",
       "      <td>Your last guess has 1 exact matches with the s...</td>\n",
       "      <td>None</td>\n",
       "      <td>11.0</td>\n",
       "      <td>True</td>\n",
       "      <td>{'agent_game_scenario': 'secret code', 'env_ga...</td>\n",
       "      <td>Excluded digits: 0, 1, 2, 3, 7, 9  \\nPossible ...</td>\n",
       "      <td>Okay, let's try to figure this out step by ste...</td>\n",
       "      <td>Okay, let's try to figure out how to update th...</td>\n",
       "      <td>deepseek/deepseek-r1 (both)</td>\n",
       "    </tr>\n",
       "    <tr>\n",
       "      <th>2104</th>\n",
       "      <td>deepseek/deepseek-chat (belief)</td>\n",
       "      <td>4</td>\n",
       "      <td>mastermind</td>\n",
       "      <td>2</td>\n",
       "      <td>belief</td>\n",
       "      <td>&lt;Think&gt; \\nBased on the belief state:\\n1. The d...</td>\n",
       "      <td>0 4 5 6</td>\n",
       "      <td>Your last guess has 0 exact matches with the s...</td>\n",
       "      <td>None</td>\n",
       "      <td>2.0</td>\n",
       "      <td>True</td>\n",
       "      <td>{'agent_game_scenario': 'secret code', 'env_ga...</td>\n",
       "      <td>The digits 1, 2, and 3 are not in the secret c...</td>\n",
       "      <td>None</td>\n",
       "      <td>None</td>\n",
       "      <td>deepseek/deepseek-chat (belief)</td>\n",
       "    </tr>\n",
       "    <tr>\n",
       "      <th>24789</th>\n",
       "      <td>deepseek/deepseek-r1 (belief)</td>\n",
       "      <td>28</td>\n",
       "      <td>mastermind</td>\n",
       "      <td>7</td>\n",
       "      <td>belief</td>\n",
       "      <td>&lt;Think&gt;\\nBased on the current candidates (7 3 ...</td>\n",
       "      <td>7 3 8 0</td>\n",
       "      <td>Your last guess has 2 exact matches with the s...</td>\n",
       "      <td>None</td>\n",
       "      <td>7.0</td>\n",
       "      <td>True</td>\n",
       "      <td>{'agent_game_scenario': 'secret code', 'env_ga...</td>\n",
       "      <td>**Secret code composition:**  \\n- **Confirmed ...</td>\n",
       "      <td>Okay, so I need to figure out the next guess i...</td>\n",
       "      <td>Okay, let's try to process this. The previous ...</td>\n",
       "      <td>deepseek/deepseek-r1 (belief)</td>\n",
       "    </tr>\n",
       "    <tr>\n",
       "      <th>11987</th>\n",
       "      <td>google/gemini-2.5-pro (history)</td>\n",
       "      <td>20</td>\n",
       "      <td>twenty_questions</td>\n",
       "      <td>8</td>\n",
       "      <td>history</td>\n",
       "      <td>&lt;Think&gt;\\nThe user wants me to ask the next que...</td>\n",
       "      <td>Is it primarily made of metal?</td>\n",
       "      <td>No</td>\n",
       "      <td>None</td>\n",
       "      <td>8.0</td>\n",
       "      <td>True</td>\n",
       "      <td>{'agent_game_scenario': 'object', 'env_game_sc...</td>\n",
       "      <td></td>\n",
       "      <td>**Defining the Parameters**\\n\\nI've got a dece...</td>\n",
       "      <td></td>\n",
       "      <td>google/gemini-2.5-pro (history)</td>\n",
       "    </tr>\n",
       "    <tr>\n",
       "      <th>13986</th>\n",
       "      <td>google/gemini-2.5-pro (both)</td>\n",
       "      <td>23</td>\n",
       "      <td>customer_service</td>\n",
       "      <td>3</td>\n",
       "      <td>both</td>\n",
       "      <td>&lt;Think&gt;\\nThe customer has confirmed the filter...</td>\n",
       "      <td>Got it. Let's check the connection point. Does...</td>\n",
       "      <td>Yes, the drain hose connects to a garbage disp...</td>\n",
       "      <td>None</td>\n",
       "      <td>3.0</td>\n",
       "      <td>True</td>\n",
       "      <td>{'agent_game_scenario': 'The customer's dishwa...</td>\n",
       "      <td>The customer's dishwasher is leaving standing ...</td>\n",
       "      <td>**Analyzing the Issue**\\n\\nI'm currently focus...</td>\n",
       "      <td>**Processing Game Setup**\\n\\nI'm establishing ...</td>\n",
       "      <td>google/gemini-2.5-pro (both)</td>\n",
       "    </tr>\n",
       "    <tr>\n",
       "      <th>2574</th>\n",
       "      <td>google/gemini-2.5-pro (both)</td>\n",
       "      <td>5</td>\n",
       "      <td>customer_service</td>\n",
       "      <td>7</td>\n",
       "      <td>both</td>\n",
       "      <td>&lt;Think&gt;\\nThe customer is unable to perform any...</td>\n",
       "      <td>&lt;Think&gt;\\nThe customer is unable to perform any...</td>\n",
       "      <td>I usually have to hold the steering wheel slig...</td>\n",
       "      <td>None</td>\n",
       "      <td>7.0</td>\n",
       "      <td>True</td>\n",
       "      <td>{'agent_game_scenario': 'The farmer reports th...</td>\n",
       "      <td>The customer's tractor pulls to one side. I ha...</td>\n",
       "      <td>**Analyzing the Problem**\\n\\nI've just conside...</td>\n",
       "      <td>**Considering the Game State**\\n\\nI've narrowe...</td>\n",
       "      <td>google/gemini-2.5-pro (both)</td>\n",
       "    </tr>\n",
       "    <tr>\n",
       "      <th>14093</th>\n",
       "      <td>deepseek/deepseek-r1 (both)</td>\n",
       "      <td>19</td>\n",
       "      <td>murder_mystery</td>\n",
       "      <td>10</td>\n",
       "      <td>both</td>\n",
       "      <td>&lt;Think&gt; To solidify the dagger's provenance, t...</td>\n",
       "      <td>Interview resistance members who accessed the ...</td>\n",
       "      <td>You begin interviewing members who accessed th...</td>\n",
       "      <td>None</td>\n",
       "      <td>10.0</td>\n",
       "      <td>True</td>\n",
       "      <td>{'agent_game_scenario': 'You are a detective i...</td>\n",
       "      <td>**Victim and Crime Scene Analysis**:  \\n- **Ca...</td>\n",
       "      <td>Okay, let me try to figure out the next step h...</td>\n",
       "      <td>Okay, let me try to process this. The agent as...</td>\n",
       "      <td>deepseek/deepseek-r1 (both)</td>\n",
       "    </tr>\n",
       "  </tbody>\n",
       "</table>\n",
       "</div>"
      ],
      "text/plain": [
       "                                 model game_id               env  attempt  \\\n",
       "25367      deepseek/deepseek-r1 (both)      32        mastermind       11   \n",
       "2104   deepseek/deepseek-chat (belief)       4        mastermind        2   \n",
       "24789    deepseek/deepseek-r1 (belief)      28        mastermind        7   \n",
       "11987  google/gemini-2.5-pro (history)      20  twenty_questions        8   \n",
       "13986     google/gemini-2.5-pro (both)      23  customer_service        3   \n",
       "2574      google/gemini-2.5-pro (both)       5  customer_service        7   \n",
       "14093      deepseek/deepseek-r1 (both)      19    murder_mystery       10   \n",
       "\n",
       "          info                                          raw_guess  \\\n",
       "25367     both  <Think>Based on the feedback so far, the code ...   \n",
       "2104    belief  <Think> \\nBased on the belief state:\\n1. The d...   \n",
       "24789   belief  <Think>\\nBased on the current candidates (7 3 ...   \n",
       "11987  history  <Think>\\nThe user wants me to ask the next que...   \n",
       "13986     both  <Think>\\nThe customer has confirmed the filter...   \n",
       "2574      both  <Think>\\nThe customer is unable to perform any...   \n",
       "14093     both  <Think> To solidify the dagger's provenance, t...   \n",
       "\n",
       "                                                   guess  \\\n",
       "25367                                            6 9 8 4   \n",
       "2104                                             0 4 5 6   \n",
       "24789                                            7 3 8 0   \n",
       "11987                     Is it primarily made of metal?   \n",
       "13986  Got it. Let's check the connection point. Does...   \n",
       "2574   <Think>\\nThe customer is unable to perform any...   \n",
       "14093  Interview resistance members who accessed the ...   \n",
       "\n",
       "                                                response word_limit  score  \\\n",
       "25367  Your last guess has 1 exact matches with the s...       None   11.0   \n",
       "2104   Your last guess has 0 exact matches with the s...       None    2.0   \n",
       "24789  Your last guess has 2 exact matches with the s...       None    7.0   \n",
       "11987                                                 No       None    8.0   \n",
       "13986  Yes, the drain hose connects to a garbage disp...       None    3.0   \n",
       "2574   I usually have to hold the steering wheel slig...       None    7.0   \n",
       "14093  You begin interviewing members who accessed th...       None   10.0   \n",
       "\n",
       "       done                                               data  \\\n",
       "25367  True  {'agent_game_scenario': 'secret code', 'env_ga...   \n",
       "2104   True  {'agent_game_scenario': 'secret code', 'env_ga...   \n",
       "24789  True  {'agent_game_scenario': 'secret code', 'env_ga...   \n",
       "11987  True  {'agent_game_scenario': 'object', 'env_game_sc...   \n",
       "13986  True  {'agent_game_scenario': 'The customer's dishwa...   \n",
       "2574   True  {'agent_game_scenario': 'The farmer reports th...   \n",
       "14093  True  {'agent_game_scenario': 'You are a detective i...   \n",
       "\n",
       "                                                  belief  \\\n",
       "25367  Excluded digits: 0, 1, 2, 3, 7, 9  \\nPossible ...   \n",
       "2104   The digits 1, 2, and 3 are not in the secret c...   \n",
       "24789  **Secret code composition:**  \\n- **Confirmed ...   \n",
       "11987                                                      \n",
       "13986  The customer's dishwasher is leaving standing ...   \n",
       "2574   The customer's tractor pulls to one side. I ha...   \n",
       "14093  **Victim and Crime Scene Analysis**:  \\n- **Ca...   \n",
       "\n",
       "                                        action_reasoning  \\\n",
       "25367  Okay, let's try to figure this out step by ste...   \n",
       "2104                                                None   \n",
       "24789  Okay, so I need to figure out the next guess i...   \n",
       "11987  **Defining the Parameters**\\n\\nI've got a dece...   \n",
       "13986  **Analyzing the Issue**\\n\\nI'm currently focus...   \n",
       "2574   **Analyzing the Problem**\\n\\nI've just conside...   \n",
       "14093  Okay, let me try to figure out the next step h...   \n",
       "\n",
       "                                        belief_reasoning  \\\n",
       "25367  Okay, let's try to figure out how to update th...   \n",
       "2104                                                None   \n",
       "24789  Okay, let's try to process this. The previous ...   \n",
       "11987                                                      \n",
       "13986  **Processing Game Setup**\\n\\nI'm establishing ...   \n",
       "2574   **Considering the Game State**\\n\\nI've narrowe...   \n",
       "14093  Okay, let me try to process this. The agent as...   \n",
       "\n",
       "                            model_info  \n",
       "25367      deepseek/deepseek-r1 (both)  \n",
       "2104   deepseek/deepseek-chat (belief)  \n",
       "24789    deepseek/deepseek-r1 (belief)  \n",
       "11987  google/gemini-2.5-pro (history)  \n",
       "13986     google/gemini-2.5-pro (both)  \n",
       "2574      google/gemini-2.5-pro (both)  \n",
       "14093      deepseek/deepseek-r1 (both)  "
      ]
     },
     "execution_count": 7,
     "metadata": {},
     "output_type": "execute_result"
    }
   ],
   "source": [
    "df.sample(n=7)"
   ]
  },
  {
   "cell_type": "markdown",
   "id": "9e358667",
   "metadata": {},
   "source": [
    "## 1. Success Rates (belief v. history v. both)"
   ]
  },
  {
   "cell_type": "code",
   "execution_count": 8,
   "id": "abe8ac6b",
   "metadata": {},
   "outputs": [],
   "source": [
    "import pandas as pd\n",
    "import plotly.graph_objects as go\n",
    "import plotly.express as px\n",
    "from plotly.subplots import make_subplots\n",
    "import numpy as np\n",
    "\n",
    "def summarize_game_outcomes(df):\n",
    "    df['response'] = df['response'].str.lower()\n",
    "    grouped = df.groupby(['model', 'game_id', 'env', 'word_limit'])['response'].apply(\n",
    "        lambda responses: any('goal reached' in resp for resp in responses)\n",
    "    ).reset_index(name='won')\n",
    "    return grouped\n",
    "\n",
    "def plot_win_rates(summary_df):\n",
    "    # Compute mean and std of win rates for each group\n",
    "    stats = summary_df.groupby(['env', 'model', 'word_limit'])['won'].agg(['mean', 'std', 'count']).reset_index()\n",
    "    stats['success_rate'] = stats['mean'] * 100\n",
    "    # Standard error of the mean (SEM)\n",
    "    stats['sem'] = stats['std'] / np.sqrt(stats['count'])\n",
    "    stats['sem'] = stats['sem'].fillna(0)\n",
    "    stats['success_rate_sem'] = stats['sem'] * 100\n",
    "\n",
    "    envs = stats['env'].unique()\n",
    "    models = stats['model'].unique()[[0, 2, 1, 3, 5, 4, 6, 8, 7]]\n",
    "    word_limits = sorted(stats['word_limit'].unique())\n",
    "\n",
    "    colors = [\n",
    "        \"#ADD8E6\",  # light blue\n",
    "        \"#4682B4\",  # medium blue\n",
    "        \"#003366\",  # dark blue\n",
    "        \"#FFB6C1\",  # light red\n",
    "        \"#FF6347\",  # medium red\n",
    "        \"#8B0000\",  # dark red\n",
    "        \"#90EE90\",  # light green\n",
    "        \"#32CD32\",  # medium green\n",
    "        \"#006400\",  # dark green\n",
    "    ]\n",
    "    color_map = {model: colors[i % len(colors)] for i, model in enumerate(models)}\n",
    "\n",
    "    # Create subplots: rows = word_limit values, cols = envs\n",
    "    fig = make_subplots(\n",
    "        rows=len(word_limits), cols=len(envs),\n",
    "        subplot_titles=[f\"{env}\" for env in envs],\n",
    "        shared_yaxes=True,\n",
    "        vertical_spacing=0.2 / len(word_limits),\n",
    "        horizontal_spacing=0.03\n",
    "    )\n",
    "\n",
    "    for r, wl in enumerate(word_limits, start=1):\n",
    "        for c, env in enumerate(envs, start=1):\n",
    "            for model in models:\n",
    "                subset = stats[\n",
    "                    (stats['env'] == env) &\n",
    "                    (stats['model'] == model) &\n",
    "                    (stats['word_limit'] == wl)\n",
    "                ]\n",
    "                if not subset.empty:\n",
    "                    # Plot bar with error bar (standard error of mean)\n",
    "                    fig.add_trace(\n",
    "                        go.Bar(\n",
    "                            x=[model],\n",
    "                            y=subset['success_rate'],\n",
    "                            name=model,\n",
    "                            marker_color=color_map[model],\n",
    "                            width=0.8,\n",
    "                            showlegend=(r == 1 and c == 1),\n",
    "                            error_y=dict(\n",
    "                                type='data',\n",
    "                                array=subset['success_rate_sem'],\n",
    "                                visible=True,\n",
    "                                color='black',\n",
    "                                thickness=1,\n",
    "                                width=4,\n",
    "                            ),\n",
    "                            hovertemplate=(\n",
    "                                f\"Env: {env}<br>\"\n",
    "                                f\"Word Limit: {wl}<br>\"\n",
    "                                f\"Model: {model}<br>\"\n",
    "                                f\"Success Rate: {{y:.2f}}%<br>\"\n",
    "                                f\"SEM: {subset['success_rate_sem'].values[0]:.2f}%<br>\"\n",
    "                                f\"N: {subset['count'].values[0]}\"\n",
    "                            ),\n",
    "                        ),\n",
    "                        row=r, col=c\n",
    "                    )\n",
    "            # # Add row label for word_limit\n",
    "            # if c == 1:\n",
    "            #     fig.add_annotation(\n",
    "            #         text=f\"Word Limit: {wl}\",\n",
    "            #         xref=\"paper\",\n",
    "            #         yref=\"paper\",\n",
    "            #         x=0.1,\n",
    "            #         y=0.95 - ((r - 1) / len(word_limits)),\n",
    "            #         showarrow=False,\n",
    "            #         font=dict(size=14)\n",
    "            #     )\n",
    "\n",
    "    # Update y-axis\n",
    "    for r in range(1, len(word_limits) + 1):\n",
    "        for c in range(1, len(envs) + 1):\n",
    "            fig.update_yaxes(\n",
    "                range=[0, 100],\n",
    "                showgrid=True,\n",
    "                gridcolor='lightgray',\n",
    "                row=r, col=c\n",
    "            )\n",
    "\n",
    "    # Update x-axis to remove tick labels\n",
    "    for r in range(1, len(word_limits) + 1):\n",
    "        for c in range(1, len(envs) + 1):\n",
    "            fig.update_xaxes(\n",
    "                showticklabels=False,\n",
    "                row=r, col=c\n",
    "            )\n",
    "\n",
    "    # Fixed subplot size\n",
    "    fig_width = 180 * len(envs)\n",
    "    fig_height = 200 * len(word_limits)\n",
    "\n",
    "    # Layout with horizontal legend\n",
    "    fig.update_layout(\n",
    "        height=fig_height + 150,\n",
    "        width=fig_width,\n",
    "        template='simple_white',\n",
    "        font=dict(family='Computer Modern, serif', size=16),\n",
    "        barmode='group',\n",
    "        showlegend=True,\n",
    "        legend=dict(\n",
    "            title='Models',\n",
    "            orientation='h',\n",
    "            yanchor='bottom',\n",
    "            y=1.18,\n",
    "            xanchor='center',\n",
    "            x=0.5,\n",
    "            bgcolor='rgba(255,255,255,0.9)',\n",
    "            bordercolor='black',\n",
    "            borderwidth=1\n",
    "        ),\n",
    "        margin=dict(t=100, b=50, l=80, r=20),\n",
    "        plot_bgcolor='white'\n",
    "    )\n",
    "\n",
    "    fig.update_yaxes(title_text=\"Avg. Success Rate\", row=1, col=1)\n",
    "\n",
    "    return fig"
   ]
  },
  {
   "cell_type": "code",
   "execution_count": 9,
   "id": "94973117",
   "metadata": {},
   "outputs": [],
   "source": [
    "df_belief = df.loc[df['info'] == 'belief'].copy()\n",
    "df_history = df.loc[df['info'] == 'history'].copy()\n",
    "summary_df = summarize_game_outcomes(df)\n",
    "summary_df_belief = summarize_game_outcomes(df_belief)\n",
    "summary_df_history = summarize_game_outcomes(df_history)"
   ]
  },
  {
   "cell_type": "code",
   "execution_count": 10,
   "id": "06d25838",
   "metadata": {},
   "outputs": [
    {
     "data": {
      "application/vnd.plotly.v1+json": {
       "config": {
        "plotlyServerURL": "https://plot.ly"
       },
       "data": [
        {
         "error_y": {
          "array": {
           "bdata": "Oq5djk78H0A=",
           "dtype": "f8"
          },
          "color": "black",
          "thickness": 1,
          "type": "data",
          "visible": true,
          "width": 4
         },
         "hovertemplate": "Env: customer_service<br>Word Limit: None<br>Model: deepseek/deepseek-chat (belief)<br>Success Rate: {y:.2f}%<br>SEM: 8.00%<br>N: 40",
         "marker": {
          "color": "#ADD8E6"
         },
         "name": "deepseek/deepseek-chat (belief)",
         "showlegend": true,
         "type": "bar",
         "width": 0.8,
         "x": [
          "deepseek/deepseek-chat (belief)"
         ],
         "xaxis": "x",
         "y": {
          "bdata": "AAAAAADAR0A=",
          "dtype": "f8"
         },
         "yaxis": "y"
        },
        {
         "error_y": {
          "array": {
           "bdata": "SrExFSa/GkA=",
           "dtype": "f8"
          },
          "color": "black",
          "thickness": 1,
          "type": "data",
          "visible": true,
          "width": 4
         },
         "hovertemplate": "Env: customer_service<br>Word Limit: None<br>Model: deepseek/deepseek-chat (history)<br>Success Rate: {y:.2f}%<br>SEM: 6.69%<br>N: 40",
         "marker": {
          "color": "#4682B4"
         },
         "name": "deepseek/deepseek-chat (history)",
         "showlegend": true,
         "type": "bar",
         "width": 0.8,
         "x": [
          "deepseek/deepseek-chat (history)"
         ],
         "xaxis": "x",
         "y": {
          "bdata": "AAAAAABgU0A=",
          "dtype": "f8"
         },
         "yaxis": "y"
        },
        {
         "error_y": {
          "array": {
           "bdata": "aCzJDxtaHUA=",
           "dtype": "f8"
          },
          "color": "black",
          "thickness": 1,
          "type": "data",
          "visible": true,
          "width": 4
         },
         "hovertemplate": "Env: customer_service<br>Word Limit: None<br>Model: deepseek/deepseek-chat (both)<br>Success Rate: {y:.2f}%<br>SEM: 7.34%<br>N: 40",
         "marker": {
          "color": "#003366"
         },
         "name": "deepseek/deepseek-chat (both)",
         "showlegend": true,
         "type": "bar",
         "width": 0.8,
         "x": [
          "deepseek/deepseek-chat (both)"
         ],
         "xaxis": "x",
         "y": {
          "bdata": "AAAAAACAUUA=",
          "dtype": "f8"
         },
         "yaxis": "y"
        },
        {
         "error_y": {
          "array": {
           "bdata": "Ahd5rIyZHEA=",
           "dtype": "f8"
          },
          "color": "black",
          "thickness": 1,
          "type": "data",
          "visible": true,
          "width": 4
         },
         "hovertemplate": "Env: customer_service<br>Word Limit: None<br>Model: deepseek/deepseek-r1 (belief)<br>Success Rate: {y:.2f}%<br>SEM: 7.15%<br>N: 40",
         "marker": {
          "color": "#FFB6C1"
         },
         "name": "deepseek/deepseek-r1 (belief)",
         "showlegend": true,
         "type": "bar",
         "width": 0.8,
         "x": [
          "deepseek/deepseek-r1 (belief)"
         ],
         "xaxis": "x",
         "y": {
          "bdata": "AAAAAAAgUkA=",
          "dtype": "f8"
         },
         "yaxis": "y"
        },
        {
         "error_y": {
          "array": {
           "bdata": "tSto3kcDIEA=",
           "dtype": "f8"
          },
          "color": "black",
          "thickness": 1,
          "type": "data",
          "visible": true,
          "width": 4
         },
         "hovertemplate": "Env: customer_service<br>Word Limit: None<br>Model: deepseek/deepseek-r1 (history)<br>Success Rate: {y:.2f}%<br>SEM: 8.01%<br>N: 40",
         "marker": {
          "color": "#FF6347"
         },
         "name": "deepseek/deepseek-r1 (history)",
         "showlegend": true,
         "type": "bar",
         "width": 0.8,
         "x": [
          "deepseek/deepseek-r1 (history)"
         ],
         "xaxis": "x",
         "y": {
          "bdata": "AAAAAAAASUA=",
          "dtype": "f8"
         },
         "yaxis": "y"
        },
        {
         "error_y": {
          "array": {
           "bdata": "3jIj3+2MHkA=",
           "dtype": "f8"
          },
          "color": "black",
          "thickness": 1,
          "type": "data",
          "visible": true,
          "width": 4
         },
         "hovertemplate": "Env: customer_service<br>Word Limit: None<br>Model: deepseek/deepseek-r1 (both)<br>Success Rate: {y:.2f}%<br>SEM: 7.64%<br>N: 40",
         "marker": {
          "color": "#8B0000"
         },
         "name": "deepseek/deepseek-r1 (both)",
         "showlegend": true,
         "type": "bar",
         "width": 0.8,
         "x": [
          "deepseek/deepseek-r1 (both)"
         ],
         "xaxis": "x",
         "y": {
          "bdata": "AAAAAABAUEA=",
          "dtype": "f8"
         },
         "yaxis": "y"
        },
        {
         "error_y": {
          "array": {
           "bdata": "pmfjCiM3E0A=",
           "dtype": "f8"
          },
          "color": "black",
          "thickness": 1,
          "type": "data",
          "visible": true,
          "width": 4
         },
         "hovertemplate": "Env: customer_service<br>Word Limit: None<br>Model: google/gemini-2.5-pro (belief)<br>Success Rate: {y:.2f}%<br>SEM: 4.80%<br>N: 40",
         "marker": {
          "color": "#90EE90"
         },
         "name": "google/gemini-2.5-pro (belief)",
         "showlegend": true,
         "type": "bar",
         "width": 0.8,
         "x": [
          "google/gemini-2.5-pro (belief)"
         ],
         "xaxis": "x",
         "y": {
          "bdata": "AAAAAACAVkA=",
          "dtype": "f8"
         },
         "yaxis": "y"
        },
        {
         "error_y": {
          "array": {
           "bdata": "AAAAAAAAAAA=",
           "dtype": "f8"
          },
          "color": "black",
          "thickness": 1,
          "type": "data",
          "visible": true,
          "width": 4
         },
         "hovertemplate": "Env: customer_service<br>Word Limit: None<br>Model: google/gemini-2.5-pro (history)<br>Success Rate: {y:.2f}%<br>SEM: 0.00%<br>N: 40",
         "marker": {
          "color": "#32CD32"
         },
         "name": "google/gemini-2.5-pro (history)",
         "showlegend": true,
         "type": "bar",
         "width": 0.8,
         "x": [
          "google/gemini-2.5-pro (history)"
         ],
         "xaxis": "x",
         "y": {
          "bdata": "AAAAAAAAWUA=",
          "dtype": "f8"
         },
         "yaxis": "y"
        },
        {
         "error_y": {
          "array": {
           "bdata": "sfa0FlfrC0A=",
           "dtype": "f8"
          },
          "color": "black",
          "thickness": 1,
          "type": "data",
          "visible": true,
          "width": 4
         },
         "hovertemplate": "Env: customer_service<br>Word Limit: None<br>Model: google/gemini-2.5-pro (both)<br>Success Rate: {y:.2f}%<br>SEM: 3.49%<br>N: 40",
         "marker": {
          "color": "#006400"
         },
         "name": "google/gemini-2.5-pro (both)",
         "showlegend": true,
         "type": "bar",
         "width": 0.8,
         "x": [
          "google/gemini-2.5-pro (both)"
         ],
         "xaxis": "x",
         "y": {
          "bdata": "AAAAAADAV0A=",
          "dtype": "f8"
         },
         "yaxis": "y"
        },
        {
         "error_y": {
          "array": {
           "bdata": "Z5tdmim8G0A=",
           "dtype": "f8"
          },
          "color": "black",
          "thickness": 1,
          "type": "data",
          "visible": true,
          "width": 4
         },
         "hovertemplate": "Env: guess_my_city<br>Word Limit: None<br>Model: deepseek/deepseek-chat (belief)<br>Success Rate: {y:.2f}%<br>SEM: 6.93%<br>N: 40",
         "marker": {
          "color": "#ADD8E6"
         },
         "name": "deepseek/deepseek-chat (belief)",
         "showlegend": false,
         "type": "bar",
         "width": 0.8,
         "x": [
          "deepseek/deepseek-chat (belief)"
         ],
         "xaxis": "x2",
         "y": {
          "bdata": "AAAAAADAUkA=",
          "dtype": "f8"
         },
         "yaxis": "y2"
        },
        {
         "error_y": {
          "array": {
           "bdata": "TLIiNnfdH0A=",
           "dtype": "f8"
          },
          "color": "black",
          "thickness": 1,
          "type": "data",
          "visible": true,
          "width": 4
         },
         "hovertemplate": "Env: guess_my_city<br>Word Limit: None<br>Model: deepseek/deepseek-chat (history)<br>Success Rate: {y:.2f}%<br>SEM: 7.97%<br>N: 40",
         "marker": {
          "color": "#4682B4"
         },
         "name": "deepseek/deepseek-chat (history)",
         "showlegend": false,
         "type": "bar",
         "width": 0.8,
         "x": [
          "deepseek/deepseek-chat (history)"
         ],
         "xaxis": "x2",
         "y": {
          "bdata": "AQAAAACAS0A=",
          "dtype": "f8"
         },
         "yaxis": "y2"
        },
        {
         "error_y": {
          "array": {
           "bdata": "o9OluepgH0A=",
           "dtype": "f8"
          },
          "color": "black",
          "thickness": 1,
          "type": "data",
          "visible": true,
          "width": 4
         },
         "hovertemplate": "Env: guess_my_city<br>Word Limit: None<br>Model: deepseek/deepseek-chat (both)<br>Success Rate: {y:.2f}%<br>SEM: 7.84%<br>N: 40",
         "marker": {
          "color": "#003366"
         },
         "name": "deepseek/deepseek-chat (both)",
         "showlegend": false,
         "type": "bar",
         "width": 0.8,
         "x": [
          "deepseek/deepseek-chat (both)"
         ],
         "xaxis": "x2",
         "y": {
          "bdata": "AAAAAAAATkA=",
          "dtype": "f8"
         },
         "yaxis": "y2"
        },
        {
         "error_y": {
          "array": {
           "bdata": "TLIiNnfdH0A=",
           "dtype": "f8"
          },
          "color": "black",
          "thickness": 1,
          "type": "data",
          "visible": true,
          "width": 4
         },
         "hovertemplate": "Env: guess_my_city<br>Word Limit: None<br>Model: deepseek/deepseek-r1 (belief)<br>Success Rate: {y:.2f}%<br>SEM: 7.97%<br>N: 40",
         "marker": {
          "color": "#FFB6C1"
         },
         "name": "deepseek/deepseek-r1 (belief)",
         "showlegend": false,
         "type": "bar",
         "width": 0.8,
         "x": [
          "deepseek/deepseek-r1 (belief)"
         ],
         "xaxis": "x2",
         "y": {
          "bdata": "AQAAAACAS0A=",
          "dtype": "f8"
         },
         "yaxis": "y2"
        },
        {
         "error_y": {
          "array": {
           "bdata": "3DIj3+2MHkA=",
           "dtype": "f8"
          },
          "color": "black",
          "thickness": 1,
          "type": "data",
          "visible": true,
          "width": 4
         },
         "hovertemplate": "Env: guess_my_city<br>Word Limit: None<br>Model: deepseek/deepseek-r1 (history)<br>Success Rate: {y:.2f}%<br>SEM: 7.64%<br>N: 40",
         "marker": {
          "color": "#FF6347"
         },
         "name": "deepseek/deepseek-r1 (history)",
         "showlegend": false,
         "type": "bar",
         "width": 0.8,
         "x": [
          "deepseek/deepseek-r1 (history)"
         ],
         "xaxis": "x2",
         "y": {
          "bdata": "AAAAAABAUEA=",
          "dtype": "f8"
         },
         "yaxis": "y2"
        },
        {
         "error_y": {
          "array": {
           "bdata": "N65djk78H0A=",
           "dtype": "f8"
          },
          "color": "black",
          "thickness": 1,
          "type": "data",
          "visible": true,
          "width": 4
         },
         "hovertemplate": "Env: guess_my_city<br>Word Limit: None<br>Model: deepseek/deepseek-r1 (both)<br>Success Rate: {y:.2f}%<br>SEM: 8.00%<br>N: 40",
         "marker": {
          "color": "#8B0000"
         },
         "name": "deepseek/deepseek-r1 (both)",
         "showlegend": false,
         "type": "bar",
         "width": 0.8,
         "x": [
          "deepseek/deepseek-r1 (both)"
         ],
         "xaxis": "x2",
         "y": {
          "bdata": "AAAAAABASkA=",
          "dtype": "f8"
         },
         "yaxis": "y2"
        },
        {
         "error_y": {
          "array": {
           "bdata": "h9/ZY9meGUA=",
           "dtype": "f8"
          },
          "color": "black",
          "thickness": 1,
          "type": "data",
          "visible": true,
          "width": 4
         },
         "hovertemplate": "Env: guess_my_city<br>Word Limit: None<br>Model: google/gemini-2.5-pro (belief)<br>Success Rate: {y:.2f}%<br>SEM: 6.41%<br>N: 40",
         "marker": {
          "color": "#90EE90"
         },
         "name": "google/gemini-2.5-pro (belief)",
         "showlegend": false,
         "type": "bar",
         "width": 0.8,
         "x": [
          "google/gemini-2.5-pro (belief)"
         ],
         "xaxis": "x2",
         "y": {
          "bdata": "AAAAAAAAVEA=",
          "dtype": "f8"
         },
         "yaxis": "y2"
        },
        {
         "error_y": {
          "array": {
           "bdata": "BlaVCF5WGEA=",
           "dtype": "f8"
          },
          "color": "black",
          "thickness": 1,
          "type": "data",
          "visible": true,
          "width": 4
         },
         "hovertemplate": "Env: guess_my_city<br>Word Limit: None<br>Model: google/gemini-2.5-pro (history)<br>Success Rate: {y:.2f}%<br>SEM: 6.08%<br>N: 40",
         "marker": {
          "color": "#32CD32"
         },
         "name": "google/gemini-2.5-pro (history)",
         "showlegend": false,
         "type": "bar",
         "width": 0.8,
         "x": [
          "google/gemini-2.5-pro (history)"
         ],
         "xaxis": "x2",
         "y": {
          "bdata": "AAAAAACgVEA=",
          "dtype": "f8"
         },
         "yaxis": "y2"
        },
        {
         "error_y": {
          "array": {
           "bdata": "Bhd5rIyZHEA=",
           "dtype": "f8"
          },
          "color": "black",
          "thickness": 1,
          "type": "data",
          "visible": true,
          "width": 4
         },
         "hovertemplate": "Env: guess_my_city<br>Word Limit: None<br>Model: google/gemini-2.5-pro (both)<br>Success Rate: {y:.2f}%<br>SEM: 7.15%<br>N: 40",
         "marker": {
          "color": "#006400"
         },
         "name": "google/gemini-2.5-pro (both)",
         "showlegend": false,
         "type": "bar",
         "width": 0.8,
         "x": [
          "google/gemini-2.5-pro (both)"
         ],
         "xaxis": "x2",
         "y": {
          "bdata": "AAAAAAAgUkA=",
          "dtype": "f8"
         },
         "yaxis": "y2"
        },
        {
         "error_y": {
          "array": {
           "bdata": "s/a0FlfrC0A=",
           "dtype": "f8"
          },
          "color": "black",
          "thickness": 1,
          "type": "data",
          "visible": true,
          "width": 4
         },
         "hovertemplate": "Env: mastermind<br>Word Limit: None<br>Model: deepseek/deepseek-chat (belief)<br>Success Rate: {y:.2f}%<br>SEM: 3.49%<br>N: 40",
         "marker": {
          "color": "#ADD8E6"
         },
         "name": "deepseek/deepseek-chat (belief)",
         "showlegend": false,
         "type": "bar",
         "width": 0.8,
         "x": [
          "deepseek/deepseek-chat (belief)"
         ],
         "xaxis": "x3",
         "y": {
          "bdata": "AAAAAAAAFEA=",
          "dtype": "f8"
         },
         "yaxis": "y3"
        },
        {
         "error_y": {
          "array": {
           "bdata": "s/a0FlfrC0A=",
           "dtype": "f8"
          },
          "color": "black",
          "thickness": 1,
          "type": "data",
          "visible": true,
          "width": 4
         },
         "hovertemplate": "Env: mastermind<br>Word Limit: None<br>Model: deepseek/deepseek-chat (history)<br>Success Rate: {y:.2f}%<br>SEM: 3.49%<br>N: 40",
         "marker": {
          "color": "#4682B4"
         },
         "name": "deepseek/deepseek-chat (history)",
         "showlegend": false,
         "type": "bar",
         "width": 0.8,
         "x": [
          "deepseek/deepseek-chat (history)"
         ],
         "xaxis": "x3",
         "y": {
          "bdata": "AAAAAAAAFEA=",
          "dtype": "f8"
         },
         "yaxis": "y3"
        },
        {
         "error_y": {
          "array": {
           "bdata": "s/a0FlfrC0A=",
           "dtype": "f8"
          },
          "color": "black",
          "thickness": 1,
          "type": "data",
          "visible": true,
          "width": 4
         },
         "hovertemplate": "Env: mastermind<br>Word Limit: None<br>Model: deepseek/deepseek-chat (both)<br>Success Rate: {y:.2f}%<br>SEM: 3.49%<br>N: 40",
         "marker": {
          "color": "#003366"
         },
         "name": "deepseek/deepseek-chat (both)",
         "showlegend": false,
         "type": "bar",
         "width": 0.8,
         "x": [
          "deepseek/deepseek-chat (both)"
         ],
         "xaxis": "x3",
         "y": {
          "bdata": "AAAAAAAAFEA=",
          "dtype": "f8"
         },
         "yaxis": "y3"
        },
        {
         "error_y": {
          "array": {
           "bdata": "3zIj3+2MHkA=",
           "dtype": "f8"
          },
          "color": "black",
          "thickness": 1,
          "type": "data",
          "visible": true,
          "width": 4
         },
         "hovertemplate": "Env: mastermind<br>Word Limit: None<br>Model: deepseek/deepseek-r1 (belief)<br>Success Rate: {y:.2f}%<br>SEM: 7.64%<br>N: 40",
         "marker": {
          "color": "#FFB6C1"
         },
         "name": "deepseek/deepseek-r1 (belief)",
         "showlegend": false,
         "type": "bar",
         "width": 0.8,
         "x": [
          "deepseek/deepseek-r1 (belief)"
         ],
         "xaxis": "x3",
         "y": {
          "bdata": "AAAAAACAQUA=",
          "dtype": "f8"
         },
         "yaxis": "y3"
        },
        {
         "error_y": {
          "array": {
           "bdata": "aCzJDxtaHUA=",
           "dtype": "f8"
          },
          "color": "black",
          "thickness": 1,
          "type": "data",
          "visible": true,
          "width": 4
         },
         "hovertemplate": "Env: mastermind<br>Word Limit: None<br>Model: deepseek/deepseek-r1 (history)<br>Success Rate: {y:.2f}%<br>SEM: 7.34%<br>N: 40",
         "marker": {
          "color": "#FF6347"
         },
         "name": "deepseek/deepseek-r1 (history)",
         "showlegend": false,
         "type": "bar",
         "width": 0.8,
         "x": [
          "deepseek/deepseek-r1 (history)"
         ],
         "xaxis": "x3",
         "y": {
          "bdata": "AAAAAACAUUA=",
          "dtype": "f8"
         },
         "yaxis": "y3"
        },
        {
         "error_y": {
          "array": {
           "bdata": "N65djk78H0A=",
           "dtype": "f8"
          },
          "color": "black",
          "thickness": 1,
          "type": "data",
          "visible": true,
          "width": 4
         },
         "hovertemplate": "Env: mastermind<br>Word Limit: None<br>Model: deepseek/deepseek-r1 (both)<br>Success Rate: {y:.2f}%<br>SEM: 8.00%<br>N: 40",
         "marker": {
          "color": "#8B0000"
         },
         "name": "deepseek/deepseek-r1 (both)",
         "showlegend": false,
         "type": "bar",
         "width": 0.8,
         "x": [
          "deepseek/deepseek-r1 (both)"
         ],
         "xaxis": "x3",
         "y": {
          "bdata": "AAAAAABASkA=",
          "dtype": "f8"
         },
         "yaxis": "y3"
        },
        {
         "error_y": {
          "array": {
           "bdata": "AAAAAAAABEA=",
           "dtype": "f8"
          },
          "color": "black",
          "thickness": 1,
          "type": "data",
          "visible": true,
          "width": 4
         },
         "hovertemplate": "Env: mastermind<br>Word Limit: None<br>Model: google/gemini-2.5-pro (belief)<br>Success Rate: {y:.2f}%<br>SEM: 2.50%<br>N: 40",
         "marker": {
          "color": "#90EE90"
         },
         "name": "google/gemini-2.5-pro (belief)",
         "showlegend": false,
         "type": "bar",
         "width": 0.8,
         "x": [
          "google/gemini-2.5-pro (belief)"
         ],
         "xaxis": "x3",
         "y": {
          "bdata": "AAAAAABgWEA=",
          "dtype": "f8"
         },
         "yaxis": "y3"
        },
        {
         "error_y": {
          "array": {
           "bdata": "AAAAAAAAAAA=",
           "dtype": "f8"
          },
          "color": "black",
          "thickness": 1,
          "type": "data",
          "visible": true,
          "width": 4
         },
         "hovertemplate": "Env: mastermind<br>Word Limit: None<br>Model: google/gemini-2.5-pro (history)<br>Success Rate: {y:.2f}%<br>SEM: 0.00%<br>N: 40",
         "marker": {
          "color": "#32CD32"
         },
         "name": "google/gemini-2.5-pro (history)",
         "showlegend": false,
         "type": "bar",
         "width": 0.8,
         "x": [
          "google/gemini-2.5-pro (history)"
         ],
         "xaxis": "x3",
         "y": {
          "bdata": "AAAAAAAAWUA=",
          "dtype": "f8"
         },
         "yaxis": "y3"
        },
        {
         "error_y": {
          "array": {
           "bdata": "AAAAAAAABEA=",
           "dtype": "f8"
          },
          "color": "black",
          "thickness": 1,
          "type": "data",
          "visible": true,
          "width": 4
         },
         "hovertemplate": "Env: mastermind<br>Word Limit: None<br>Model: google/gemini-2.5-pro (both)<br>Success Rate: {y:.2f}%<br>SEM: 2.50%<br>N: 40",
         "marker": {
          "color": "#006400"
         },
         "name": "google/gemini-2.5-pro (both)",
         "showlegend": false,
         "type": "bar",
         "width": 0.8,
         "x": [
          "google/gemini-2.5-pro (both)"
         ],
         "xaxis": "x3",
         "y": {
          "bdata": "AAAAAABgWEA=",
          "dtype": "f8"
         },
         "yaxis": "y3"
        },
        {
         "error_y": {
          "array": {
           "bdata": "2zIj3+2MHkA=",
           "dtype": "f8"
          },
          "color": "black",
          "thickness": 1,
          "type": "data",
          "visible": true,
          "width": 4
         },
         "hovertemplate": "Env: murder_mystery<br>Word Limit: None<br>Model: deepseek/deepseek-chat (belief)<br>Success Rate: {y:.2f}%<br>SEM: 7.64%<br>N: 40",
         "marker": {
          "color": "#ADD8E6"
         },
         "name": "deepseek/deepseek-chat (belief)",
         "showlegend": false,
         "type": "bar",
         "width": 0.8,
         "x": [
          "deepseek/deepseek-chat (belief)"
         ],
         "xaxis": "x4",
         "y": {
          "bdata": "AAAAAACAQUA=",
          "dtype": "f8"
         },
         "yaxis": "y4"
        },
        {
         "error_y": {
          "array": {
           "bdata": "SrExFSa/GkA=",
           "dtype": "f8"
          },
          "color": "black",
          "thickness": 1,
          "type": "data",
          "visible": true,
          "width": 4
         },
         "hovertemplate": "Env: murder_mystery<br>Word Limit: None<br>Model: deepseek/deepseek-chat (history)<br>Success Rate: {y:.2f}%<br>SEM: 6.69%<br>N: 40",
         "marker": {
          "color": "#4682B4"
         },
         "name": "deepseek/deepseek-chat (history)",
         "showlegend": false,
         "type": "bar",
         "width": 0.8,
         "x": [
          "deepseek/deepseek-chat (history)"
         ],
         "xaxis": "x4",
         "y": {
          "bdata": "AAAAAABgU0A=",
          "dtype": "f8"
         },
         "yaxis": "y4"
        },
        {
         "error_y": {
          "array": {
           "bdata": "BBd5rIyZHEA=",
           "dtype": "f8"
          },
          "color": "black",
          "thickness": 1,
          "type": "data",
          "visible": true,
          "width": 4
         },
         "hovertemplate": "Env: murder_mystery<br>Word Limit: None<br>Model: deepseek/deepseek-chat (both)<br>Success Rate: {y:.2f}%<br>SEM: 7.15%<br>N: 40",
         "marker": {
          "color": "#003366"
         },
         "name": "deepseek/deepseek-chat (both)",
         "showlegend": false,
         "type": "bar",
         "width": 0.8,
         "x": [
          "deepseek/deepseek-chat (both)"
         ],
         "xaxis": "x4",
         "y": {
          "bdata": "AAAAAAAgUkA=",
          "dtype": "f8"
         },
         "yaxis": "y4"
        },
        {
         "error_y": {
          "array": {
           "bdata": "dMuQtNYuFUA=",
           "dtype": "f8"
          },
          "color": "black",
          "thickness": 1,
          "type": "data",
          "visible": true,
          "width": 4
         },
         "hovertemplate": "Env: murder_mystery<br>Word Limit: None<br>Model: deepseek/deepseek-r1 (belief)<br>Success Rate: {y:.2f}%<br>SEM: 5.30%<br>N: 40",
         "marker": {
          "color": "#FFB6C1"
         },
         "name": "deepseek/deepseek-r1 (belief)",
         "showlegend": false,
         "type": "bar",
         "width": 0.8,
         "x": [
          "deepseek/deepseek-r1 (belief)"
         ],
         "xaxis": "x4",
         "y": {
          "bdata": "AAAAAAAAKUA=",
          "dtype": "f8"
         },
         "yaxis": "y4"
        },
        {
         "error_y": {
          "array": {
           "bdata": "pmfjCiM3E0A=",
           "dtype": "f8"
          },
          "color": "black",
          "thickness": 1,
          "type": "data",
          "visible": true,
          "width": 4
         },
         "hovertemplate": "Env: murder_mystery<br>Word Limit: None<br>Model: deepseek/deepseek-r1 (history)<br>Success Rate: {y:.2f}%<br>SEM: 4.80%<br>N: 40",
         "marker": {
          "color": "#FF6347"
         },
         "name": "deepseek/deepseek-r1 (history)",
         "showlegend": false,
         "type": "bar",
         "width": 0.8,
         "x": [
          "deepseek/deepseek-r1 (history)"
         ],
         "xaxis": "x4",
         "y": {
          "bdata": "AAAAAACAVkA=",
          "dtype": "f8"
         },
         "yaxis": "y4"
        },
        {
         "error_y": {
          "array": {
           "bdata": "kbJbjM2pH0A=",
           "dtype": "f8"
          },
          "color": "black",
          "thickness": 1,
          "type": "data",
          "visible": true,
          "width": 4
         },
         "hovertemplate": "Env: murder_mystery<br>Word Limit: None<br>Model: deepseek/deepseek-r1 (both)<br>Success Rate: {y:.2f}%<br>SEM: 7.92%<br>N: 40",
         "marker": {
          "color": "#8B0000"
         },
         "name": "deepseek/deepseek-r1 (both)",
         "showlegend": false,
         "type": "bar",
         "width": 0.8,
         "x": [
          "deepseek/deepseek-r1 (both)"
         ],
         "xaxis": "x4",
         "y": {
          "bdata": "AAAAAABARUA=",
          "dtype": "f8"
         },
         "yaxis": "y4"
        },
        {
         "error_y": {
          "array": {
           "bdata": "pmfjCiM3E0A=",
           "dtype": "f8"
          },
          "color": "black",
          "thickness": 1,
          "type": "data",
          "visible": true,
          "width": 4
         },
         "hovertemplate": "Env: murder_mystery<br>Word Limit: None<br>Model: google/gemini-2.5-pro (belief)<br>Success Rate: {y:.2f}%<br>SEM: 4.80%<br>N: 40",
         "marker": {
          "color": "#90EE90"
         },
         "name": "google/gemini-2.5-pro (belief)",
         "showlegend": false,
         "type": "bar",
         "width": 0.8,
         "x": [
          "google/gemini-2.5-pro (belief)"
         ],
         "xaxis": "x4",
         "y": {
          "bdata": "AAAAAACAVkA=",
          "dtype": "f8"
         },
         "yaxis": "y4"
        },
        {
         "error_y": {
          "array": {
           "bdata": "h9/ZY9meGUA=",
           "dtype": "f8"
          },
          "color": "black",
          "thickness": 1,
          "type": "data",
          "visible": true,
          "width": 4
         },
         "hovertemplate": "Env: murder_mystery<br>Word Limit: None<br>Model: google/gemini-2.5-pro (history)<br>Success Rate: {y:.2f}%<br>SEM: 6.41%<br>N: 40",
         "marker": {
          "color": "#32CD32"
         },
         "name": "google/gemini-2.5-pro (history)",
         "showlegend": false,
         "type": "bar",
         "width": 0.8,
         "x": [
          "google/gemini-2.5-pro (history)"
         ],
         "xaxis": "x4",
         "y": {
          "bdata": "AAAAAAAAVEA=",
          "dtype": "f8"
         },
         "yaxis": "y4"
        },
        {
         "error_y": {
          "array": {
           "bdata": "hN/ZY9meGUA=",
           "dtype": "f8"
          },
          "color": "black",
          "thickness": 1,
          "type": "data",
          "visible": true,
          "width": 4
         },
         "hovertemplate": "Env: murder_mystery<br>Word Limit: None<br>Model: google/gemini-2.5-pro (both)<br>Success Rate: {y:.2f}%<br>SEM: 6.41%<br>N: 40",
         "marker": {
          "color": "#006400"
         },
         "name": "google/gemini-2.5-pro (both)",
         "showlegend": false,
         "type": "bar",
         "width": 0.8,
         "x": [
          "google/gemini-2.5-pro (both)"
         ],
         "xaxis": "x4",
         "y": {
          "bdata": "AAAAAAAAVEA=",
          "dtype": "f8"
         },
         "yaxis": "y4"
        },
        {
         "error_y": {
          "array": {
           "bdata": "3jIj3+2MHkA=",
           "dtype": "f8"
          },
          "color": "black",
          "thickness": 1,
          "type": "data",
          "visible": true,
          "width": 4
         },
         "hovertemplate": "Env: twenty_questions<br>Word Limit: None<br>Model: deepseek/deepseek-chat (belief)<br>Success Rate: {y:.2f}%<br>SEM: 7.64%<br>N: 40",
         "marker": {
          "color": "#ADD8E6"
         },
         "name": "deepseek/deepseek-chat (belief)",
         "showlegend": false,
         "type": "bar",
         "width": 0.8,
         "x": [
          "deepseek/deepseek-chat (belief)"
         ],
         "xaxis": "x5",
         "y": {
          "bdata": "AAAAAACAQUA=",
          "dtype": "f8"
         },
         "yaxis": "y5"
        },
        {
         "error_y": {
          "array": {
           "bdata": "Oq5djk78H0A=",
           "dtype": "f8"
          },
          "color": "black",
          "thickness": 1,
          "type": "data",
          "visible": true,
          "width": 4
         },
         "hovertemplate": "Env: twenty_questions<br>Word Limit: None<br>Model: deepseek/deepseek-chat (history)<br>Success Rate: {y:.2f}%<br>SEM: 8.00%<br>N: 40",
         "marker": {
          "color": "#4682B4"
         },
         "name": "deepseek/deepseek-chat (history)",
         "showlegend": false,
         "type": "bar",
         "width": 0.8,
         "x": [
          "deepseek/deepseek-chat (history)"
         ],
         "xaxis": "x5",
         "y": {
          "bdata": "AAAAAADAR0A=",
          "dtype": "f8"
         },
         "yaxis": "y5"
        },
        {
         "error_y": {
          "array": {
           "bdata": "N65djk78H0A=",
           "dtype": "f8"
          },
          "color": "black",
          "thickness": 1,
          "type": "data",
          "visible": true,
          "width": 4
         },
         "hovertemplate": "Env: twenty_questions<br>Word Limit: None<br>Model: deepseek/deepseek-chat (both)<br>Success Rate: {y:.2f}%<br>SEM: 8.00%<br>N: 40",
         "marker": {
          "color": "#003366"
         },
         "name": "deepseek/deepseek-chat (both)",
         "showlegend": false,
         "type": "bar",
         "width": 0.8,
         "x": [
          "deepseek/deepseek-chat (both)"
         ],
         "xaxis": "x5",
         "y": {
          "bdata": "AAAAAADAR0A=",
          "dtype": "f8"
         },
         "yaxis": "y5"
        },
        {
         "error_y": {
          "array": {
           "bdata": "o9OluepgH0A=",
           "dtype": "f8"
          },
          "color": "black",
          "thickness": 1,
          "type": "data",
          "visible": true,
          "width": 4
         },
         "hovertemplate": "Env: twenty_questions<br>Word Limit: None<br>Model: deepseek/deepseek-r1 (belief)<br>Success Rate: {y:.2f}%<br>SEM: 7.84%<br>N: 40",
         "marker": {
          "color": "#FFB6C1"
         },
         "name": "deepseek/deepseek-r1 (belief)",
         "showlegend": false,
         "type": "bar",
         "width": 0.8,
         "x": [
          "deepseek/deepseek-r1 (belief)"
         ],
         "xaxis": "x5",
         "y": {
          "bdata": "AAAAAAAAREA=",
          "dtype": "f8"
         },
         "yaxis": "y5"
        },
        {
         "error_y": {
          "array": {
           "bdata": "odOluepgH0A=",
           "dtype": "f8"
          },
          "color": "black",
          "thickness": 1,
          "type": "data",
          "visible": true,
          "width": 4
         },
         "hovertemplate": "Env: twenty_questions<br>Word Limit: None<br>Model: deepseek/deepseek-r1 (history)<br>Success Rate: {y:.2f}%<br>SEM: 7.84%<br>N: 40",
         "marker": {
          "color": "#FF6347"
         },
         "name": "deepseek/deepseek-r1 (history)",
         "showlegend": false,
         "type": "bar",
         "width": 0.8,
         "x": [
          "deepseek/deepseek-r1 (history)"
         ],
         "xaxis": "x5",
         "y": {
          "bdata": "AAAAAAAATkA=",
          "dtype": "f8"
         },
         "yaxis": "y5"
        },
        {
         "error_y": {
          "array": {
           "bdata": "TLIiNnfdH0A=",
           "dtype": "f8"
          },
          "color": "black",
          "thickness": 1,
          "type": "data",
          "visible": true,
          "width": 4
         },
         "hovertemplate": "Env: twenty_questions<br>Word Limit: None<br>Model: deepseek/deepseek-r1 (both)<br>Success Rate: {y:.2f}%<br>SEM: 7.97%<br>N: 40",
         "marker": {
          "color": "#8B0000"
         },
         "name": "deepseek/deepseek-r1 (both)",
         "showlegend": false,
         "type": "bar",
         "width": 0.8,
         "x": [
          "deepseek/deepseek-r1 (both)"
         ],
         "xaxis": "x5",
         "y": {
          "bdata": "AAAAAACARkA=",
          "dtype": "f8"
         },
         "yaxis": "y5"
        },
        {
         "error_y": {
          "array": {
           "bdata": "Oq5djk78H0A=",
           "dtype": "f8"
          },
          "color": "black",
          "thickness": 1,
          "type": "data",
          "visible": true,
          "width": 4
         },
         "hovertemplate": "Env: twenty_questions<br>Word Limit: None<br>Model: google/gemini-2.5-pro (belief)<br>Success Rate: {y:.2f}%<br>SEM: 8.00%<br>N: 40",
         "marker": {
          "color": "#90EE90"
         },
         "name": "google/gemini-2.5-pro (belief)",
         "showlegend": false,
         "type": "bar",
         "width": 0.8,
         "x": [
          "google/gemini-2.5-pro (belief)"
         ],
         "xaxis": "x5",
         "y": {
          "bdata": "AAAAAABASkA=",
          "dtype": "f8"
         },
         "yaxis": "y5"
        },
        {
         "error_y": {
          "array": {
           "bdata": "LixtFzkCH0A=",
           "dtype": "f8"
          },
          "color": "black",
          "thickness": 1,
          "type": "data",
          "visible": true,
          "width": 4
         },
         "hovertemplate": "Env: twenty_questions<br>Word Limit: None<br>Model: google/gemini-2.5-pro (history)<br>Success Rate: {y:.2f}%<br>SEM: 7.75%<br>N: 40",
         "marker": {
          "color": "#32CD32"
         },
         "name": "google/gemini-2.5-pro (history)",
         "showlegend": false,
         "type": "bar",
         "width": 0.8,
         "x": [
          "google/gemini-2.5-pro (history)"
         ],
         "xaxis": "x5",
         "y": {
          "bdata": "AAAAAABAT0A=",
          "dtype": "f8"
         },
         "yaxis": "y5"
        },
        {
         "error_y": {
          "array": {
           "bdata": "aZtdmim8G0A=",
           "dtype": "f8"
          },
          "color": "black",
          "thickness": 1,
          "type": "data",
          "visible": true,
          "width": 4
         },
         "hovertemplate": "Env: twenty_questions<br>Word Limit: None<br>Model: google/gemini-2.5-pro (both)<br>Success Rate: {y:.2f}%<br>SEM: 6.93%<br>N: 40",
         "marker": {
          "color": "#006400"
         },
         "name": "google/gemini-2.5-pro (both)",
         "showlegend": false,
         "type": "bar",
         "width": 0.8,
         "x": [
          "google/gemini-2.5-pro (both)"
         ],
         "xaxis": "x5",
         "y": {
          "bdata": "AAAAAADAUkA=",
          "dtype": "f8"
         },
         "yaxis": "y5"
        },
        {
         "error_y": {
          "array": {
           "bdata": "AAAAAAAAHkA=",
           "dtype": "f8"
          },
          "color": "black",
          "thickness": 1,
          "type": "data",
          "visible": true,
          "width": 4
         },
         "hovertemplate": "Env: wordle<br>Word Limit: None<br>Model: deepseek/deepseek-chat (belief)<br>Success Rate: {y:.2f}%<br>SEM: 7.50%<br>N: 40",
         "marker": {
          "color": "#ADD8E6"
         },
         "name": "deepseek/deepseek-chat (belief)",
         "showlegend": false,
         "type": "bar",
         "width": 0.8,
         "x": [
          "deepseek/deepseek-chat (belief)"
         ],
         "xaxis": "x6",
         "y": {
          "bdata": "AAAAAABAQEA=",
          "dtype": "f8"
         },
         "yaxis": "y6"
        },
        {
         "error_y": {
          "array": {
           "bdata": "N65djk78H0A=",
           "dtype": "f8"
          },
          "color": "black",
          "thickness": 1,
          "type": "data",
          "visible": true,
          "width": 4
         },
         "hovertemplate": "Env: wordle<br>Word Limit: None<br>Model: deepseek/deepseek-chat (history)<br>Success Rate: {y:.2f}%<br>SEM: 8.00%<br>N: 40",
         "marker": {
          "color": "#4682B4"
         },
         "name": "deepseek/deepseek-chat (history)",
         "showlegend": false,
         "type": "bar",
         "width": 0.8,
         "x": [
          "deepseek/deepseek-chat (history)"
         ],
         "xaxis": "x6",
         "y": {
          "bdata": "AAAAAABASkA=",
          "dtype": "f8"
         },
         "yaxis": "y6"
        },
        {
         "error_y": {
          "array": {
           "bdata": "kbJbjM2pH0A=",
           "dtype": "f8"
          },
          "color": "black",
          "thickness": 1,
          "type": "data",
          "visible": true,
          "width": 4
         },
         "hovertemplate": "Env: wordle<br>Word Limit: None<br>Model: deepseek/deepseek-chat (both)<br>Success Rate: {y:.2f}%<br>SEM: 7.92%<br>N: 40",
         "marker": {
          "color": "#003366"
         },
         "name": "deepseek/deepseek-chat (both)",
         "showlegend": false,
         "type": "bar",
         "width": 0.8,
         "x": [
          "deepseek/deepseek-chat (both)"
         ],
         "xaxis": "x6",
         "y": {
          "bdata": "AAAAAABARUA=",
          "dtype": "f8"
         },
         "yaxis": "y6"
        },
        {
         "error_y": {
          "array": {
           "bdata": "hi/qqfHeFkA=",
           "dtype": "f8"
          },
          "color": "black",
          "thickness": 1,
          "type": "data",
          "visible": true,
          "width": 4
         },
         "hovertemplate": "Env: wordle<br>Word Limit: None<br>Model: deepseek/deepseek-r1 (belief)<br>Success Rate: {y:.2f}%<br>SEM: 5.72%<br>N: 40",
         "marker": {
          "color": "#FFB6C1"
         },
         "name": "deepseek/deepseek-r1 (belief)",
         "showlegend": false,
         "type": "bar",
         "width": 0.8,
         "x": [
          "deepseek/deepseek-r1 (belief)"
         ],
         "xaxis": "x6",
         "y": {
          "bdata": "AAAAAABAVUA=",
          "dtype": "f8"
         },
         "yaxis": "y6"
        },
        {
         "error_y": {
          "array": {
           "bdata": "pmfjCiM3E0A=",
           "dtype": "f8"
          },
          "color": "black",
          "thickness": 1,
          "type": "data",
          "visible": true,
          "width": 4
         },
         "hovertemplate": "Env: wordle<br>Word Limit: None<br>Model: deepseek/deepseek-r1 (history)<br>Success Rate: {y:.2f}%<br>SEM: 4.80%<br>N: 40",
         "marker": {
          "color": "#FF6347"
         },
         "name": "deepseek/deepseek-r1 (history)",
         "showlegend": false,
         "type": "bar",
         "width": 0.8,
         "x": [
          "deepseek/deepseek-r1 (history)"
         ],
         "xaxis": "x6",
         "y": {
          "bdata": "AAAAAACAVkA=",
          "dtype": "f8"
         },
         "yaxis": "y6"
        },
        {
         "error_y": {
          "array": {
           "bdata": "B1aVCF5WGEA=",
           "dtype": "f8"
          },
          "color": "black",
          "thickness": 1,
          "type": "data",
          "visible": true,
          "width": 4
         },
         "hovertemplate": "Env: wordle<br>Word Limit: None<br>Model: deepseek/deepseek-r1 (both)<br>Success Rate: {y:.2f}%<br>SEM: 6.08%<br>N: 40",
         "marker": {
          "color": "#8B0000"
         },
         "name": "deepseek/deepseek-r1 (both)",
         "showlegend": false,
         "type": "bar",
         "width": 0.8,
         "x": [
          "deepseek/deepseek-r1 (both)"
         ],
         "xaxis": "x6",
         "y": {
          "bdata": "AAAAAACgVEA=",
          "dtype": "f8"
         },
         "yaxis": "y6"
        },
        {
         "error_y": {
          "array": {
           "bdata": "h9/ZY9meGUA=",
           "dtype": "f8"
          },
          "color": "black",
          "thickness": 1,
          "type": "data",
          "visible": true,
          "width": 4
         },
         "hovertemplate": "Env: wordle<br>Word Limit: None<br>Model: google/gemini-2.5-pro (belief)<br>Success Rate: {y:.2f}%<br>SEM: 6.41%<br>N: 40",
         "marker": {
          "color": "#90EE90"
         },
         "name": "google/gemini-2.5-pro (belief)",
         "showlegend": false,
         "type": "bar",
         "width": 0.8,
         "x": [
          "google/gemini-2.5-pro (belief)"
         ],
         "xaxis": "x6",
         "y": {
          "bdata": "AAAAAAAAVEA=",
          "dtype": "f8"
         },
         "yaxis": "y6"
        },
        {
         "error_y": {
          "array": {
           "bdata": "AAAAAAAABEA=",
           "dtype": "f8"
          },
          "color": "black",
          "thickness": 1,
          "type": "data",
          "visible": true,
          "width": 4
         },
         "hovertemplate": "Env: wordle<br>Word Limit: None<br>Model: google/gemini-2.5-pro (history)<br>Success Rate: {y:.2f}%<br>SEM: 2.50%<br>N: 40",
         "marker": {
          "color": "#32CD32"
         },
         "name": "google/gemini-2.5-pro (history)",
         "showlegend": false,
         "type": "bar",
         "width": 0.8,
         "x": [
          "google/gemini-2.5-pro (history)"
         ],
         "xaxis": "x6",
         "y": {
          "bdata": "AAAAAABgWEA=",
          "dtype": "f8"
         },
         "yaxis": "y6"
        },
        {
         "error_y": {
          "array": {
           "bdata": "s/a0FlfrC0A=",
           "dtype": "f8"
          },
          "color": "black",
          "thickness": 1,
          "type": "data",
          "visible": true,
          "width": 4
         },
         "hovertemplate": "Env: wordle<br>Word Limit: None<br>Model: google/gemini-2.5-pro (both)<br>Success Rate: {y:.2f}%<br>SEM: 3.49%<br>N: 40",
         "marker": {
          "color": "#006400"
         },
         "name": "google/gemini-2.5-pro (both)",
         "showlegend": false,
         "type": "bar",
         "width": 0.8,
         "x": [
          "google/gemini-2.5-pro (both)"
         ],
         "xaxis": "x6",
         "y": {
          "bdata": "AAAAAADAV0A=",
          "dtype": "f8"
         },
         "yaxis": "y6"
        }
       ],
       "layout": {
        "annotations": [
         {
          "font": {
           "size": 16
          },
          "showarrow": false,
          "text": "customer_service",
          "x": 0.07083333333333333,
          "xanchor": "center",
          "xref": "paper",
          "y": 1,
          "yanchor": "bottom",
          "yref": "paper"
         },
         {
          "font": {
           "size": 16
          },
          "showarrow": false,
          "text": "guess_my_city",
          "x": 0.2425,
          "xanchor": "center",
          "xref": "paper",
          "y": 1,
          "yanchor": "bottom",
          "yref": "paper"
         },
         {
          "font": {
           "size": 16
          },
          "showarrow": false,
          "text": "mastermind",
          "x": 0.4141666666666667,
          "xanchor": "center",
          "xref": "paper",
          "y": 1,
          "yanchor": "bottom",
          "yref": "paper"
         },
         {
          "font": {
           "size": 16
          },
          "showarrow": false,
          "text": "murder_mystery",
          "x": 0.5858333333333334,
          "xanchor": "center",
          "xref": "paper",
          "y": 1,
          "yanchor": "bottom",
          "yref": "paper"
         },
         {
          "font": {
           "size": 16
          },
          "showarrow": false,
          "text": "twenty_questions",
          "x": 0.7575000000000001,
          "xanchor": "center",
          "xref": "paper",
          "y": 1,
          "yanchor": "bottom",
          "yref": "paper"
         },
         {
          "font": {
           "size": 16
          },
          "showarrow": false,
          "text": "wordle",
          "x": 0.9291666666666667,
          "xanchor": "center",
          "xref": "paper",
          "y": 1,
          "yanchor": "bottom",
          "yref": "paper"
         }
        ],
        "barmode": "group",
        "font": {
         "family": "Computer Modern, serif",
         "size": 16
        },
        "height": 350,
        "legend": {
         "bgcolor": "rgba(255,255,255,0.9)",
         "bordercolor": "black",
         "borderwidth": 1,
         "orientation": "h",
         "title": {
          "text": "Models"
         },
         "x": 0.5,
         "xanchor": "center",
         "y": 1.18,
         "yanchor": "bottom"
        },
        "margin": {
         "b": 50,
         "l": 80,
         "r": 20,
         "t": 100
        },
        "plot_bgcolor": "white",
        "showlegend": true,
        "template": {
         "data": {
          "bar": [
           {
            "error_x": {
             "color": "rgb(36,36,36)"
            },
            "error_y": {
             "color": "rgb(36,36,36)"
            },
            "marker": {
             "line": {
              "color": "white",
              "width": 0.5
             },
             "pattern": {
              "fillmode": "overlay",
              "size": 10,
              "solidity": 0.2
             }
            },
            "type": "bar"
           }
          ],
          "barpolar": [
           {
            "marker": {
             "line": {
              "color": "white",
              "width": 0.5
             },
             "pattern": {
              "fillmode": "overlay",
              "size": 10,
              "solidity": 0.2
             }
            },
            "type": "barpolar"
           }
          ],
          "carpet": [
           {
            "aaxis": {
             "endlinecolor": "rgb(36,36,36)",
             "gridcolor": "white",
             "linecolor": "white",
             "minorgridcolor": "white",
             "startlinecolor": "rgb(36,36,36)"
            },
            "baxis": {
             "endlinecolor": "rgb(36,36,36)",
             "gridcolor": "white",
             "linecolor": "white",
             "minorgridcolor": "white",
             "startlinecolor": "rgb(36,36,36)"
            },
            "type": "carpet"
           }
          ],
          "choropleth": [
           {
            "colorbar": {
             "outlinewidth": 1,
             "tickcolor": "rgb(36,36,36)",
             "ticks": "outside"
            },
            "type": "choropleth"
           }
          ],
          "contour": [
           {
            "colorbar": {
             "outlinewidth": 1,
             "tickcolor": "rgb(36,36,36)",
             "ticks": "outside"
            },
            "colorscale": [
             [
              0,
              "#440154"
             ],
             [
              0.1111111111111111,
              "#482878"
             ],
             [
              0.2222222222222222,
              "#3e4989"
             ],
             [
              0.3333333333333333,
              "#31688e"
             ],
             [
              0.4444444444444444,
              "#26828e"
             ],
             [
              0.5555555555555556,
              "#1f9e89"
             ],
             [
              0.6666666666666666,
              "#35b779"
             ],
             [
              0.7777777777777778,
              "#6ece58"
             ],
             [
              0.8888888888888888,
              "#b5de2b"
             ],
             [
              1,
              "#fde725"
             ]
            ],
            "type": "contour"
           }
          ],
          "contourcarpet": [
           {
            "colorbar": {
             "outlinewidth": 1,
             "tickcolor": "rgb(36,36,36)",
             "ticks": "outside"
            },
            "type": "contourcarpet"
           }
          ],
          "heatmap": [
           {
            "colorbar": {
             "outlinewidth": 1,
             "tickcolor": "rgb(36,36,36)",
             "ticks": "outside"
            },
            "colorscale": [
             [
              0,
              "#440154"
             ],
             [
              0.1111111111111111,
              "#482878"
             ],
             [
              0.2222222222222222,
              "#3e4989"
             ],
             [
              0.3333333333333333,
              "#31688e"
             ],
             [
              0.4444444444444444,
              "#26828e"
             ],
             [
              0.5555555555555556,
              "#1f9e89"
             ],
             [
              0.6666666666666666,
              "#35b779"
             ],
             [
              0.7777777777777778,
              "#6ece58"
             ],
             [
              0.8888888888888888,
              "#b5de2b"
             ],
             [
              1,
              "#fde725"
             ]
            ],
            "type": "heatmap"
           }
          ],
          "histogram": [
           {
            "marker": {
             "line": {
              "color": "white",
              "width": 0.6
             }
            },
            "type": "histogram"
           }
          ],
          "histogram2d": [
           {
            "colorbar": {
             "outlinewidth": 1,
             "tickcolor": "rgb(36,36,36)",
             "ticks": "outside"
            },
            "colorscale": [
             [
              0,
              "#440154"
             ],
             [
              0.1111111111111111,
              "#482878"
             ],
             [
              0.2222222222222222,
              "#3e4989"
             ],
             [
              0.3333333333333333,
              "#31688e"
             ],
             [
              0.4444444444444444,
              "#26828e"
             ],
             [
              0.5555555555555556,
              "#1f9e89"
             ],
             [
              0.6666666666666666,
              "#35b779"
             ],
             [
              0.7777777777777778,
              "#6ece58"
             ],
             [
              0.8888888888888888,
              "#b5de2b"
             ],
             [
              1,
              "#fde725"
             ]
            ],
            "type": "histogram2d"
           }
          ],
          "histogram2dcontour": [
           {
            "colorbar": {
             "outlinewidth": 1,
             "tickcolor": "rgb(36,36,36)",
             "ticks": "outside"
            },
            "colorscale": [
             [
              0,
              "#440154"
             ],
             [
              0.1111111111111111,
              "#482878"
             ],
             [
              0.2222222222222222,
              "#3e4989"
             ],
             [
              0.3333333333333333,
              "#31688e"
             ],
             [
              0.4444444444444444,
              "#26828e"
             ],
             [
              0.5555555555555556,
              "#1f9e89"
             ],
             [
              0.6666666666666666,
              "#35b779"
             ],
             [
              0.7777777777777778,
              "#6ece58"
             ],
             [
              0.8888888888888888,
              "#b5de2b"
             ],
             [
              1,
              "#fde725"
             ]
            ],
            "type": "histogram2dcontour"
           }
          ],
          "mesh3d": [
           {
            "colorbar": {
             "outlinewidth": 1,
             "tickcolor": "rgb(36,36,36)",
             "ticks": "outside"
            },
            "type": "mesh3d"
           }
          ],
          "parcoords": [
           {
            "line": {
             "colorbar": {
              "outlinewidth": 1,
              "tickcolor": "rgb(36,36,36)",
              "ticks": "outside"
             }
            },
            "type": "parcoords"
           }
          ],
          "pie": [
           {
            "automargin": true,
            "type": "pie"
           }
          ],
          "scatter": [
           {
            "fillpattern": {
             "fillmode": "overlay",
             "size": 10,
             "solidity": 0.2
            },
            "type": "scatter"
           }
          ],
          "scatter3d": [
           {
            "line": {
             "colorbar": {
              "outlinewidth": 1,
              "tickcolor": "rgb(36,36,36)",
              "ticks": "outside"
             }
            },
            "marker": {
             "colorbar": {
              "outlinewidth": 1,
              "tickcolor": "rgb(36,36,36)",
              "ticks": "outside"
             }
            },
            "type": "scatter3d"
           }
          ],
          "scattercarpet": [
           {
            "marker": {
             "colorbar": {
              "outlinewidth": 1,
              "tickcolor": "rgb(36,36,36)",
              "ticks": "outside"
             }
            },
            "type": "scattercarpet"
           }
          ],
          "scattergeo": [
           {
            "marker": {
             "colorbar": {
              "outlinewidth": 1,
              "tickcolor": "rgb(36,36,36)",
              "ticks": "outside"
             }
            },
            "type": "scattergeo"
           }
          ],
          "scattergl": [
           {
            "marker": {
             "colorbar": {
              "outlinewidth": 1,
              "tickcolor": "rgb(36,36,36)",
              "ticks": "outside"
             }
            },
            "type": "scattergl"
           }
          ],
          "scattermap": [
           {
            "marker": {
             "colorbar": {
              "outlinewidth": 1,
              "tickcolor": "rgb(36,36,36)",
              "ticks": "outside"
             }
            },
            "type": "scattermap"
           }
          ],
          "scattermapbox": [
           {
            "marker": {
             "colorbar": {
              "outlinewidth": 1,
              "tickcolor": "rgb(36,36,36)",
              "ticks": "outside"
             }
            },
            "type": "scattermapbox"
           }
          ],
          "scatterpolar": [
           {
            "marker": {
             "colorbar": {
              "outlinewidth": 1,
              "tickcolor": "rgb(36,36,36)",
              "ticks": "outside"
             }
            },
            "type": "scatterpolar"
           }
          ],
          "scatterpolargl": [
           {
            "marker": {
             "colorbar": {
              "outlinewidth": 1,
              "tickcolor": "rgb(36,36,36)",
              "ticks": "outside"
             }
            },
            "type": "scatterpolargl"
           }
          ],
          "scatterternary": [
           {
            "marker": {
             "colorbar": {
              "outlinewidth": 1,
              "tickcolor": "rgb(36,36,36)",
              "ticks": "outside"
             }
            },
            "type": "scatterternary"
           }
          ],
          "surface": [
           {
            "colorbar": {
             "outlinewidth": 1,
             "tickcolor": "rgb(36,36,36)",
             "ticks": "outside"
            },
            "colorscale": [
             [
              0,
              "#440154"
             ],
             [
              0.1111111111111111,
              "#482878"
             ],
             [
              0.2222222222222222,
              "#3e4989"
             ],
             [
              0.3333333333333333,
              "#31688e"
             ],
             [
              0.4444444444444444,
              "#26828e"
             ],
             [
              0.5555555555555556,
              "#1f9e89"
             ],
             [
              0.6666666666666666,
              "#35b779"
             ],
             [
              0.7777777777777778,
              "#6ece58"
             ],
             [
              0.8888888888888888,
              "#b5de2b"
             ],
             [
              1,
              "#fde725"
             ]
            ],
            "type": "surface"
           }
          ],
          "table": [
           {
            "cells": {
             "fill": {
              "color": "rgb(237,237,237)"
             },
             "line": {
              "color": "white"
             }
            },
            "header": {
             "fill": {
              "color": "rgb(217,217,217)"
             },
             "line": {
              "color": "white"
             }
            },
            "type": "table"
           }
          ]
         },
         "layout": {
          "annotationdefaults": {
           "arrowhead": 0,
           "arrowwidth": 1
          },
          "autotypenumbers": "strict",
          "coloraxis": {
           "colorbar": {
            "outlinewidth": 1,
            "tickcolor": "rgb(36,36,36)",
            "ticks": "outside"
           }
          },
          "colorscale": {
           "diverging": [
            [
             0,
             "rgb(103,0,31)"
            ],
            [
             0.1,
             "rgb(178,24,43)"
            ],
            [
             0.2,
             "rgb(214,96,77)"
            ],
            [
             0.3,
             "rgb(244,165,130)"
            ],
            [
             0.4,
             "rgb(253,219,199)"
            ],
            [
             0.5,
             "rgb(247,247,247)"
            ],
            [
             0.6,
             "rgb(209,229,240)"
            ],
            [
             0.7,
             "rgb(146,197,222)"
            ],
            [
             0.8,
             "rgb(67,147,195)"
            ],
            [
             0.9,
             "rgb(33,102,172)"
            ],
            [
             1,
             "rgb(5,48,97)"
            ]
           ],
           "sequential": [
            [
             0,
             "#440154"
            ],
            [
             0.1111111111111111,
             "#482878"
            ],
            [
             0.2222222222222222,
             "#3e4989"
            ],
            [
             0.3333333333333333,
             "#31688e"
            ],
            [
             0.4444444444444444,
             "#26828e"
            ],
            [
             0.5555555555555556,
             "#1f9e89"
            ],
            [
             0.6666666666666666,
             "#35b779"
            ],
            [
             0.7777777777777778,
             "#6ece58"
            ],
            [
             0.8888888888888888,
             "#b5de2b"
            ],
            [
             1,
             "#fde725"
            ]
           ],
           "sequentialminus": [
            [
             0,
             "#440154"
            ],
            [
             0.1111111111111111,
             "#482878"
            ],
            [
             0.2222222222222222,
             "#3e4989"
            ],
            [
             0.3333333333333333,
             "#31688e"
            ],
            [
             0.4444444444444444,
             "#26828e"
            ],
            [
             0.5555555555555556,
             "#1f9e89"
            ],
            [
             0.6666666666666666,
             "#35b779"
            ],
            [
             0.7777777777777778,
             "#6ece58"
            ],
            [
             0.8888888888888888,
             "#b5de2b"
            ],
            [
             1,
             "#fde725"
            ]
           ]
          },
          "colorway": [
           "#1F77B4",
           "#FF7F0E",
           "#2CA02C",
           "#D62728",
           "#9467BD",
           "#8C564B",
           "#E377C2",
           "#7F7F7F",
           "#BCBD22",
           "#17BECF"
          ],
          "font": {
           "color": "rgb(36,36,36)"
          },
          "geo": {
           "bgcolor": "white",
           "lakecolor": "white",
           "landcolor": "white",
           "showlakes": true,
           "showland": true,
           "subunitcolor": "white"
          },
          "hoverlabel": {
           "align": "left"
          },
          "hovermode": "closest",
          "mapbox": {
           "style": "light"
          },
          "paper_bgcolor": "white",
          "plot_bgcolor": "white",
          "polar": {
           "angularaxis": {
            "gridcolor": "rgb(232,232,232)",
            "linecolor": "rgb(36,36,36)",
            "showgrid": false,
            "showline": true,
            "ticks": "outside"
           },
           "bgcolor": "white",
           "radialaxis": {
            "gridcolor": "rgb(232,232,232)",
            "linecolor": "rgb(36,36,36)",
            "showgrid": false,
            "showline": true,
            "ticks": "outside"
           }
          },
          "scene": {
           "xaxis": {
            "backgroundcolor": "white",
            "gridcolor": "rgb(232,232,232)",
            "gridwidth": 2,
            "linecolor": "rgb(36,36,36)",
            "showbackground": true,
            "showgrid": false,
            "showline": true,
            "ticks": "outside",
            "zeroline": false,
            "zerolinecolor": "rgb(36,36,36)"
           },
           "yaxis": {
            "backgroundcolor": "white",
            "gridcolor": "rgb(232,232,232)",
            "gridwidth": 2,
            "linecolor": "rgb(36,36,36)",
            "showbackground": true,
            "showgrid": false,
            "showline": true,
            "ticks": "outside",
            "zeroline": false,
            "zerolinecolor": "rgb(36,36,36)"
           },
           "zaxis": {
            "backgroundcolor": "white",
            "gridcolor": "rgb(232,232,232)",
            "gridwidth": 2,
            "linecolor": "rgb(36,36,36)",
            "showbackground": true,
            "showgrid": false,
            "showline": true,
            "ticks": "outside",
            "zeroline": false,
            "zerolinecolor": "rgb(36,36,36)"
           }
          },
          "shapedefaults": {
           "fillcolor": "black",
           "line": {
            "width": 0
           },
           "opacity": 0.3
          },
          "ternary": {
           "aaxis": {
            "gridcolor": "rgb(232,232,232)",
            "linecolor": "rgb(36,36,36)",
            "showgrid": false,
            "showline": true,
            "ticks": "outside"
           },
           "baxis": {
            "gridcolor": "rgb(232,232,232)",
            "linecolor": "rgb(36,36,36)",
            "showgrid": false,
            "showline": true,
            "ticks": "outside"
           },
           "bgcolor": "white",
           "caxis": {
            "gridcolor": "rgb(232,232,232)",
            "linecolor": "rgb(36,36,36)",
            "showgrid": false,
            "showline": true,
            "ticks": "outside"
           }
          },
          "title": {
           "x": 0.05
          },
          "xaxis": {
           "automargin": true,
           "gridcolor": "rgb(232,232,232)",
           "linecolor": "rgb(36,36,36)",
           "showgrid": false,
           "showline": true,
           "ticks": "outside",
           "title": {
            "standoff": 15
           },
           "zeroline": false,
           "zerolinecolor": "rgb(36,36,36)"
          },
          "yaxis": {
           "automargin": true,
           "gridcolor": "rgb(232,232,232)",
           "linecolor": "rgb(36,36,36)",
           "showgrid": false,
           "showline": true,
           "ticks": "outside",
           "title": {
            "standoff": 15
           },
           "zeroline": false,
           "zerolinecolor": "rgb(36,36,36)"
          }
         }
        },
        "width": 1080,
        "xaxis": {
         "anchor": "y",
         "domain": [
          0,
          0.14166666666666666
         ],
         "showticklabels": false
        },
        "xaxis2": {
         "anchor": "y2",
         "domain": [
          0.17166666666666666,
          0.31333333333333335
         ],
         "showticklabels": false
        },
        "xaxis3": {
         "anchor": "y3",
         "domain": [
          0.3433333333333333,
          0.485
         ],
         "showticklabels": false
        },
        "xaxis4": {
         "anchor": "y4",
         "domain": [
          0.515,
          0.6566666666666667
         ],
         "showticklabels": false
        },
        "xaxis5": {
         "anchor": "y5",
         "domain": [
          0.6866666666666666,
          0.8283333333333334
         ],
         "showticklabels": false
        },
        "xaxis6": {
         "anchor": "y6",
         "domain": [
          0.8583333333333333,
          1
         ],
         "showticklabels": false
        },
        "yaxis": {
         "anchor": "x",
         "domain": [
          0,
          1
         ],
         "gridcolor": "lightgray",
         "range": [
          0,
          100
         ],
         "showgrid": true,
         "title": {
          "text": "Avg. Success Rate"
         }
        },
        "yaxis2": {
         "anchor": "x2",
         "domain": [
          0,
          1
         ],
         "gridcolor": "lightgray",
         "matches": "y",
         "range": [
          0,
          100
         ],
         "showgrid": true,
         "showticklabels": false
        },
        "yaxis3": {
         "anchor": "x3",
         "domain": [
          0,
          1
         ],
         "gridcolor": "lightgray",
         "matches": "y",
         "range": [
          0,
          100
         ],
         "showgrid": true,
         "showticklabels": false
        },
        "yaxis4": {
         "anchor": "x4",
         "domain": [
          0,
          1
         ],
         "gridcolor": "lightgray",
         "matches": "y",
         "range": [
          0,
          100
         ],
         "showgrid": true,
         "showticklabels": false
        },
        "yaxis5": {
         "anchor": "x5",
         "domain": [
          0,
          1
         ],
         "gridcolor": "lightgray",
         "matches": "y",
         "range": [
          0,
          100
         ],
         "showgrid": true,
         "showticklabels": false
        },
        "yaxis6": {
         "anchor": "x6",
         "domain": [
          0,
          1
         ],
         "gridcolor": "lightgray",
         "matches": "y",
         "range": [
          0,
          100
         ],
         "showgrid": true,
         "showticklabels": false
        }
       }
      }
     },
     "metadata": {},
     "output_type": "display_data"
    }
   ],
   "source": [
    "fig = plot_win_rates(summary_df)\n",
    "fig.show()"
   ]
  },
  {
   "cell_type": "markdown",
   "id": "1c34baf1",
   "metadata": {},
   "source": [
    "## 2. Qualitative Look at Samples"
   ]
  },
  {
   "cell_type": "code",
   "execution_count": 11,
   "id": "9e251b80",
   "metadata": {},
   "outputs": [
    {
     "data": {
      "text/plain": [
       "Index(['model', 'game_id', 'env', 'attempt', 'info', 'raw_guess', 'guess',\n",
       "       'response', 'word_limit', 'score', 'done', 'data', 'belief',\n",
       "       'action_reasoning', 'belief_reasoning', 'model_info'],\n",
       "      dtype='object')"
      ]
     },
     "execution_count": 11,
     "metadata": {},
     "output_type": "execute_result"
    }
   ],
   "source": [
    "df.columns"
   ]
  },
  {
   "cell_type": "code",
   "execution_count": 12,
   "id": "faa2c74a",
   "metadata": {},
   "outputs": [
    {
     "name": "stdout",
     "output_type": "stream",
     "text": [
      "20\n"
     ]
    }
   ],
   "source": [
    "wordle_sample = df[\n",
    "    (df['model'] == 'deepseek/deepseek-r1 (belief)') & \\\n",
    "        (df['env'] == 'murder_mystery') & \\\n",
    "            (df['game_id'] == str(0)) & \\\n",
    "            (df['info'] == 'belief')\n",
    "            ]\n",
    "print(len(wordle_sample))"
   ]
  },
  {
   "cell_type": "code",
   "execution_count": 13,
   "id": "f9676af4",
   "metadata": {},
   "outputs": [
    {
     "data": {
      "text/html": [
       "<div>\n",
       "<style scoped>\n",
       "    .dataframe tbody tr th:only-of-type {\n",
       "        vertical-align: middle;\n",
       "    }\n",
       "\n",
       "    .dataframe tbody tr th {\n",
       "        vertical-align: top;\n",
       "    }\n",
       "\n",
       "    .dataframe thead th {\n",
       "        text-align: right;\n",
       "    }\n",
       "</style>\n",
       "<table border=\"1\" class=\"dataframe\">\n",
       "  <thead>\n",
       "    <tr style=\"text-align: right;\">\n",
       "      <th></th>\n",
       "      <th>model</th>\n",
       "      <th>game_id</th>\n",
       "      <th>env</th>\n",
       "      <th>attempt</th>\n",
       "      <th>info</th>\n",
       "      <th>raw_guess</th>\n",
       "      <th>guess</th>\n",
       "      <th>response</th>\n",
       "      <th>word_limit</th>\n",
       "      <th>score</th>\n",
       "      <th>done</th>\n",
       "      <th>data</th>\n",
       "      <th>belief</th>\n",
       "      <th>action_reasoning</th>\n",
       "      <th>belief_reasoning</th>\n",
       "      <th>model_info</th>\n",
       "    </tr>\n",
       "  </thead>\n",
       "  <tbody>\n",
       "    <tr>\n",
       "      <th>3499</th>\n",
       "      <td>deepseek/deepseek-r1 (belief)</td>\n",
       "      <td>0</td>\n",
       "      <td>murder_mystery</td>\n",
       "      <td>1</td>\n",
       "      <td>belief</td>\n",
       "      <td>&lt;Think&gt; Start by determining the time of death...</td>\n",
       "      <td>Question the station medic: What was the estim...</td>\n",
       "      <td>the station medic looks grave as they respond,...</td>\n",
       "      <td>None</td>\n",
       "      <td>1.0</td>\n",
       "      <td>True</td>\n",
       "      <td>{'agent_game_scenario': 'You are a detective i...</td>\n",
       "      <td>**Key Facts**:  \\n- Dr. Lila Moore died at ~2 ...</td>\n",
       "      <td>Okay, so I'm starting this murder mystery game...</td>\n",
       "      <td>Okay, let's start by understanding the scenari...</td>\n",
       "      <td>deepseek/deepseek-r1 (belief)</td>\n",
       "    </tr>\n",
       "    <tr>\n",
       "      <th>3500</th>\n",
       "      <td>deepseek/deepseek-r1 (belief)</td>\n",
       "      <td>0</td>\n",
       "      <td>murder_mystery</td>\n",
       "      <td>2</td>\n",
       "      <td>belief</td>\n",
       "      <td>&lt;Think&gt; Verifying alibis for the 2 PM timefram...</td>\n",
       "      <td>Ask: What were the alibis of Captain Drake, Je...</td>\n",
       "      <td>the medic replies, \"i only have partial knowle...</td>\n",
       "      <td>None</td>\n",
       "      <td>2.0</td>\n",
       "      <td>True</td>\n",
       "      <td>{'agent_game_scenario': 'You are a detective i...</td>\n",
       "      <td>**Key Facts**:  \\n- Dr. Lila Moore died at ~2 ...</td>\n",
       "      <td>Okay, let's see where to start. The key facts ...</td>\n",
       "      <td>Okay, so the agent asked about the alibis of t...</td>\n",
       "      <td>deepseek/deepseek-r1 (belief)</td>\n",
       "    </tr>\n",
       "    <tr>\n",
       "      <th>3501</th>\n",
       "      <td>deepseek/deepseek-r1 (belief)</td>\n",
       "      <td>0</td>\n",
       "      <td>murder_mystery</td>\n",
       "      <td>3</td>\n",
       "      <td>belief</td>\n",
       "      <td>&lt;Think&gt;Verifying alibis via system logs direct...</td>\n",
       "      <td>**Action**: Examine system logs (control room,...</td>\n",
       "      <td>you access the system logs. \\n\\n- **control ro...</td>\n",
       "      <td>None</td>\n",
       "      <td>3.0</td>\n",
       "      <td>True</td>\n",
       "      <td>{'agent_game_scenario': 'You are a detective i...</td>\n",
       "      <td>**Key Facts**:  \\n- Dr. Lila Moore died at ~2 ...</td>\n",
       "      <td>Okay, so I need to figure out the next best st...</td>\n",
       "      <td>Okay, let me update the belief based on the ag...</td>\n",
       "      <td>deepseek/deepseek-r1 (belief)</td>\n",
       "    </tr>\n",
       "    <tr>\n",
       "      <th>3502</th>\n",
       "      <td>deepseek/deepseek-r1 (belief)</td>\n",
       "      <td>0</td>\n",
       "      <td>murder_mystery</td>\n",
       "      <td>4</td>\n",
       "      <td>belief</td>\n",
       "      <td>&lt;Think&gt;  \\nTo optimize information gathering, ...</td>\n",
       "      <td>**Action:** Interview the engineer witness to ...</td>\n",
       "      <td>the engineer looks a bit nervous as you questi...</td>\n",
       "      <td>None</td>\n",
       "      <td>4.0</td>\n",
       "      <td>True</td>\n",
       "      <td>{'agent_game_scenario': 'You are a detective i...</td>\n",
       "      <td>**Key Facts**:  \\n- Dr. Lila Moore died at ~2 ...</td>\n",
       "      <td>Okay, let's try to figure out the next best st...</td>\n",
       "      <td>Okay, so the agent decided to interview the en...</td>\n",
       "      <td>deepseek/deepseek-r1 (belief)</td>\n",
       "    </tr>\n",
       "    <tr>\n",
       "      <th>3503</th>\n",
       "      <td>deepseek/deepseek-r1 (belief)</td>\n",
       "      <td>0</td>\n",
       "      <td>murder_mystery</td>\n",
       "      <td>5</td>\n",
       "      <td>belief</td>\n",
       "      <td>&lt;Answer&gt;  \\n**Action**: Interview the station ...</td>\n",
       "      <td>&lt;Answer&gt;  \\n**Action**: Interview the station ...</td>\n",
       "      <td>the engineer nods seriously, taking a moment t...</td>\n",
       "      <td>None</td>\n",
       "      <td>5.0</td>\n",
       "      <td>True</td>\n",
       "      <td>{'agent_game_scenario': 'You are a detective i...</td>\n",
       "      <td>**Key Facts**:  \\n- Dr. Lila Moore died at ~2 ...</td>\n",
       "      <td>Okay, let's review the information again. Dr. ...</td>\n",
       "      <td>Okay, let me process the engineer's response t...</td>\n",
       "      <td>deepseek/deepseek-r1 (belief)</td>\n",
       "    </tr>\n",
       "    <tr>\n",
       "      <th>3504</th>\n",
       "      <td>deepseek/deepseek-r1 (belief)</td>\n",
       "      <td>0</td>\n",
       "      <td>murder_mystery</td>\n",
       "      <td>6</td>\n",
       "      <td>belief</td>\n",
       "      <td>&lt;Think&gt;\\nThe critical unknown is the exact tim...</td>\n",
       "      <td>**Action**: Review decompression chamber’s sys...</td>\n",
       "      <td>you access the decompression chamber’s system ...</td>\n",
       "      <td>None</td>\n",
       "      <td>6.0</td>\n",
       "      <td>True</td>\n",
       "      <td>{'agent_game_scenario': 'You are a detective i...</td>\n",
       "      <td>**Key Facts**:  \\n- Dr. Lila Moore died at ~2 ...</td>\n",
       "      <td>Okay, let me look at the current information. ...</td>\n",
       "      <td>Okay, let's see. The agent just checked the de...</td>\n",
       "      <td>deepseek/deepseek-r1 (belief)</td>\n",
       "    </tr>\n",
       "    <tr>\n",
       "      <th>3505</th>\n",
       "      <td>deepseek/deepseek-r1 (belief)</td>\n",
       "      <td>0</td>\n",
       "      <td>murder_mystery</td>\n",
       "      <td>7</td>\n",
       "      <td>belief</td>\n",
       "      <td>&lt;Think&gt; The sabotage occurred at 1:58 PM, and ...</td>\n",
       "      <td>**Action**: Cross-check control room logs for ...</td>\n",
       "      <td>you delve into the control room logs and find ...</td>\n",
       "      <td>None</td>\n",
       "      <td>7.0</td>\n",
       "      <td>True</td>\n",
       "      <td>{'agent_game_scenario': 'You are a detective i...</td>\n",
       "      <td>**Key Facts**:  \\n- Dr. Lila Moore died at ~2 ...</td>\n",
       "      <td>Okay, let me think through this step by step. ...</td>\n",
       "      <td>Okay, let me process this step by step. The ag...</td>\n",
       "      <td>deepseek/deepseek-r1 (belief)</td>\n",
       "    </tr>\n",
       "    <tr>\n",
       "      <th>3506</th>\n",
       "      <td>deepseek/deepseek-r1 (belief)</td>\n",
       "      <td>0</td>\n",
       "      <td>murder_mystery</td>\n",
       "      <td>8</td>\n",
       "      <td>belief</td>\n",
       "      <td>&lt;Think&gt;Captain Drake's confirmed actions at th...</td>\n",
       "      <td>Interrogate Captain Drake: Justify his 1:58 PM...</td>\n",
       "      <td>captain drake appears defensive as you questio...</td>\n",
       "      <td>None</td>\n",
       "      <td>8.0</td>\n",
       "      <td>True</td>\n",
       "      <td>{'agent_game_scenario': 'You are a detective i...</td>\n",
       "      <td>**Key Facts**:  \\n- Dr. Lila Moore died at ~2 ...</td>\n",
       "      <td>Okay, let me try to figure out the best next s...</td>\n",
       "      <td>Okay, let's process the new information. The a...</td>\n",
       "      <td>deepseek/deepseek-r1 (belief)</td>\n",
       "    </tr>\n",
       "    <tr>\n",
       "      <th>3507</th>\n",
       "      <td>deepseek/deepseek-r1 (belief)</td>\n",
       "      <td>0</td>\n",
       "      <td>murder_mystery</td>\n",
       "      <td>9</td>\n",
       "      <td>belief</td>\n",
       "      <td>&lt;Think&gt;  \\nThe most critical unknowns are whet...</td>\n",
       "      <td>**Action**: Audit maintenance schedules to ver...</td>\n",
       "      <td>you review the maintenance schedules and find ...</td>\n",
       "      <td>None</td>\n",
       "      <td>9.0</td>\n",
       "      <td>True</td>\n",
       "      <td>{'agent_game_scenario': 'You are a detective i...</td>\n",
       "      <td>**Key Facts**:  \\n- Dr. Lila Moore died at ~2 ...</td>\n",
       "      <td>Okay, let's see. The current belief state poin...</td>\n",
       "      <td>Okay, let's start by updating the belief based...</td>\n",
       "      <td>deepseek/deepseek-r1 (belief)</td>\n",
       "    </tr>\n",
       "    <tr>\n",
       "      <th>3508</th>\n",
       "      <td>deepseek/deepseek-r1 (belief)</td>\n",
       "      <td>0</td>\n",
       "      <td>murder_mystery</td>\n",
       "      <td>10</td>\n",
       "      <td>belief</td>\n",
       "      <td>&lt;Think&gt;  \\nThe most critical unknown is whethe...</td>\n",
       "      <td>**Review System Telemetry**: Check historical ...</td>\n",
       "      <td>you analyze the historical telemetry data for ...</td>\n",
       "      <td>None</td>\n",
       "      <td>10.0</td>\n",
       "      <td>True</td>\n",
       "      <td>{'agent_game_scenario': 'You are a detective i...</td>\n",
       "      <td>**Key Facts**:  \\n- Dr. Lila Moore died at ~2 ...</td>\n",
       "      <td>Okay, let me try to figure out the best next s...</td>\n",
       "      <td>Okay, let me go through this step by step. The...</td>\n",
       "      <td>deepseek/deepseek-r1 (belief)</td>\n",
       "    </tr>\n",
       "    <tr>\n",
       "      <th>3509</th>\n",
       "      <td>deepseek/deepseek-r1 (belief)</td>\n",
       "      <td>0</td>\n",
       "      <td>murder_mystery</td>\n",
       "      <td>11</td>\n",
       "      <td>belief</td>\n",
       "      <td>&lt;Think&gt;  \\nThe critical unknowns center around...</td>\n",
       "      <td>**Action**: Question the engineer to clarify: ...</td>\n",
       "      <td>the engineer ponders your questions carefully....</td>\n",
       "      <td>None</td>\n",
       "      <td>11.0</td>\n",
       "      <td>True</td>\n",
       "      <td>{'agent_game_scenario': 'You are a detective i...</td>\n",
       "      <td>**Key Facts**:  \\n- Dr. Lila Moore died at ~2 ...</td>\n",
       "      <td>Okay, let's see. The key facts point to Captai...</td>\n",
       "      <td>Okay, let me go through this step by step. The...</td>\n",
       "      <td>deepseek/deepseek-r1 (belief)</td>\n",
       "    </tr>\n",
       "    <tr>\n",
       "      <th>3510</th>\n",
       "      <td>deepseek/deepseek-r1 (belief)</td>\n",
       "      <td>0</td>\n",
       "      <td>murder_mystery</td>\n",
       "      <td>12</td>\n",
       "      <td>belief</td>\n",
       "      <td>&lt;Think&gt; The logs showing Drake as the sole use...</td>\n",
       "      <td>**Action**: Audit control room log security to...</td>\n",
       "      <td>you audit the control room log security and fi...</td>\n",
       "      <td>None</td>\n",
       "      <td>12.0</td>\n",
       "      <td>True</td>\n",
       "      <td>{'agent_game_scenario': 'You are a detective i...</td>\n",
       "      <td>**Key Facts**:  \\n- Dr. Lila Moore died at ~2 ...</td>\n",
       "      <td>Okay, let's analyze the current belief state. ...</td>\n",
       "      <td>Okay, let me try to update the belief based on...</td>\n",
       "      <td>deepseek/deepseek-r1 (belief)</td>\n",
       "    </tr>\n",
       "    <tr>\n",
       "      <th>3511</th>\n",
       "      <td>deepseek/deepseek-r1 (belief)</td>\n",
       "      <td>0</td>\n",
       "      <td>murder_mystery</td>\n",
       "      <td>13</td>\n",
       "      <td>belief</td>\n",
       "      <td>&lt;Think&gt; \\nThe critical unknown is whether Drak...</td>\n",
       "      <td>**Action**: Request security footage of the co...</td>\n",
       "      <td>you request the security footage from the cont...</td>\n",
       "      <td>None</td>\n",
       "      <td>13.0</td>\n",
       "      <td>True</td>\n",
       "      <td>{'agent_game_scenario': 'You are a detective i...</td>\n",
       "      <td>**Key Facts**:  \\n- Dr. Lila Moore died at ~2 ...</td>\n",
       "      <td>Okay, let's see. So, the main points here are ...</td>\n",
       "      <td>Alright, let me process this new information. ...</td>\n",
       "      <td>deepseek/deepseek-r1 (belief)</td>\n",
       "    </tr>\n",
       "    <tr>\n",
       "      <th>3512</th>\n",
       "      <td>deepseek/deepseek-r1 (belief)</td>\n",
       "      <td>0</td>\n",
       "      <td>murder_mystery</td>\n",
       "      <td>14</td>\n",
       "      <td>belief</td>\n",
       "      <td>&lt;Think&gt;  \\nCaptain Drake's direct involvement ...</td>\n",
       "      <td>**Action**: Audit the habitat module log metad...</td>\n",
       "      <td>you audit the habitat module log metadata and ...</td>\n",
       "      <td>None</td>\n",
       "      <td>14.0</td>\n",
       "      <td>True</td>\n",
       "      <td>{'agent_game_scenario': 'You are a detective i...</td>\n",
       "      <td>**Key Facts**:  \\n- Dr. Lila Moore died at ~2 ...</td>\n",
       "      <td>Okay, let's see. The belief state shows Captai...</td>\n",
       "      <td>Okay, let's process this new information. The ...</td>\n",
       "      <td>deepseek/deepseek-r1 (belief)</td>\n",
       "    </tr>\n",
       "    <tr>\n",
       "      <th>3513</th>\n",
       "      <td>deepseek/deepseek-r1 (belief)</td>\n",
       "      <td>0</td>\n",
       "      <td>murder_mystery</td>\n",
       "      <td>15</td>\n",
       "      <td>belief</td>\n",
       "      <td>&lt;Think&gt;Captain Drake is the prime suspect with...</td>\n",
       "      <td>**Confront Captain Drake** about the unschedul...</td>\n",
       "      <td>captain drake meets your confrontation with a ...</td>\n",
       "      <td>None</td>\n",
       "      <td>15.0</td>\n",
       "      <td>True</td>\n",
       "      <td>{'agent_game_scenario': 'You are a detective i...</td>\n",
       "      <td>**Key Facts**:  \\n- Dr. Lila Moore died at ~2 ...</td>\n",
       "      <td>Okay, let's see. The belief state shows that C...</td>\n",
       "      <td>Okay, let's break down how to update the belie...</td>\n",
       "      <td>deepseek/deepseek-r1 (belief)</td>\n",
       "    </tr>\n",
       "    <tr>\n",
       "      <th>3514</th>\n",
       "      <td>deepseek/deepseek-r1 (belief)</td>\n",
       "      <td>0</td>\n",
       "      <td>murder_mystery</td>\n",
       "      <td>16</td>\n",
       "      <td>belief</td>\n",
       "      <td>&lt;Think&gt; The strongest evidence points to Drake...</td>\n",
       "      <td>**Pressure Medic**: Demand autopsy details to ...</td>\n",
       "      <td>the medic shifts uncomfortably at your demand ...</td>\n",
       "      <td>None</td>\n",
       "      <td>16.0</td>\n",
       "      <td>True</td>\n",
       "      <td>{'agent_game_scenario': 'You are a detective i...</td>\n",
       "      <td>**Key Facts**:  \\n- Dr. Lila Moore died at ~2 ...</td>\n",
       "      <td>Okay, let's see. The current belief state poin...</td>\n",
       "      <td>Alright, so the agent decided to pressure the ...</td>\n",
       "      <td>deepseek/deepseek-r1 (belief)</td>\n",
       "    </tr>\n",
       "    <tr>\n",
       "      <th>3515</th>\n",
       "      <td>deepseek/deepseek-r1 (belief)</td>\n",
       "      <td>0</td>\n",
       "      <td>murder_mystery</td>\n",
       "      <td>17</td>\n",
       "      <td>belief</td>\n",
       "      <td>&lt;Think&gt; While Drake is the prime suspect, the ...</td>\n",
       "      <td>**Action**: Expedite the toxicology report by ...</td>\n",
       "      <td>the medic's face tightens at your confrontatio...</td>\n",
       "      <td>None</td>\n",
       "      <td>17.0</td>\n",
       "      <td>True</td>\n",
       "      <td>{'agent_game_scenario': 'You are a detective i...</td>\n",
       "      <td>**Key Facts**:  \\n- Dr. Lila Moore died at ~2 ...</td>\n",
       "      <td>Okay, let's see. The current belief state has ...</td>\n",
       "      <td>Okay, let me update the belief state based on ...</td>\n",
       "      <td>deepseek/deepseek-r1 (belief)</td>\n",
       "    </tr>\n",
       "    <tr>\n",
       "      <th>3516</th>\n",
       "      <td>deepseek/deepseek-r1 (belief)</td>\n",
       "      <td>0</td>\n",
       "      <td>murder_mystery</td>\n",
       "      <td>18</td>\n",
       "      <td>belief</td>\n",
       "      <td>&lt;Think&gt; \\nDrake is the prime suspect due to di...</td>\n",
       "      <td>Investigate Captain Drake’s potential motives ...</td>\n",
       "      <td>you delve into captain drake's recent communic...</td>\n",
       "      <td>None</td>\n",
       "      <td>18.0</td>\n",
       "      <td>True</td>\n",
       "      <td>{'agent_game_scenario': 'You are a detective i...</td>\n",
       "      <td>**Key Facts**:  \\n- Dr. Lila Moore died at ~2 ...</td>\n",
       "      <td>Okay, let's look at the current belief state. ...</td>\n",
       "      <td>Alright, let's update the belief state based o...</td>\n",
       "      <td>deepseek/deepseek-r1 (belief)</td>\n",
       "    </tr>\n",
       "    <tr>\n",
       "      <th>3517</th>\n",
       "      <td>deepseek/deepseek-r1 (belief)</td>\n",
       "      <td>0</td>\n",
       "      <td>murder_mystery</td>\n",
       "      <td>19</td>\n",
       "      <td>belief</td>\n",
       "      <td>&lt;Think&gt;Re-interviewing the engineer to confirm...</td>\n",
       "      <td>**Re-interview Engineer**: Confirm telemetry s...</td>\n",
       "      <td>you confront the engineer about the telemetry ...</td>\n",
       "      <td>None</td>\n",
       "      <td>19.0</td>\n",
       "      <td>True</td>\n",
       "      <td>{'agent_game_scenario': 'You are a detective i...</td>\n",
       "      <td>**Key Facts**:  \\n- Dr. Lila Moore died at ~2 ...</td>\n",
       "      <td>Okay, let's see. The current belief state show...</td>\n",
       "      <td>Okay, let me go through this step by step. The...</td>\n",
       "      <td>deepseek/deepseek-r1 (belief)</td>\n",
       "    </tr>\n",
       "    <tr>\n",
       "      <th>3518</th>\n",
       "      <td>deepseek/deepseek-r1 (belief)</td>\n",
       "      <td>0</td>\n",
       "      <td>murder_mystery</td>\n",
       "      <td>20</td>\n",
       "      <td>belief</td>\n",
       "      <td>&lt;Think&gt;  \\nCaptain Drake is the prime suspect ...</td>\n",
       "      <td>**Confront Captain Drake** with evidence: his ...</td>\n",
       "      <td>you confront captain drake with the gathered e...</td>\n",
       "      <td>None</td>\n",
       "      <td>20.0</td>\n",
       "      <td>True</td>\n",
       "      <td>{'agent_game_scenario': 'You are a detective i...</td>\n",
       "      <td>**Key Facts**:  \\n- Dr. Lila Moore died at ~2 ...</td>\n",
       "      <td>Okay, let me go through this step by step. So,...</td>\n",
       "      <td>Okay, let me process this step by step. The ag...</td>\n",
       "      <td>deepseek/deepseek-r1 (belief)</td>\n",
       "    </tr>\n",
       "  </tbody>\n",
       "</table>\n",
       "</div>"
      ],
      "text/plain": [
       "                              model game_id             env  attempt    info  \\\n",
       "3499  deepseek/deepseek-r1 (belief)       0  murder_mystery        1  belief   \n",
       "3500  deepseek/deepseek-r1 (belief)       0  murder_mystery        2  belief   \n",
       "3501  deepseek/deepseek-r1 (belief)       0  murder_mystery        3  belief   \n",
       "3502  deepseek/deepseek-r1 (belief)       0  murder_mystery        4  belief   \n",
       "3503  deepseek/deepseek-r1 (belief)       0  murder_mystery        5  belief   \n",
       "3504  deepseek/deepseek-r1 (belief)       0  murder_mystery        6  belief   \n",
       "3505  deepseek/deepseek-r1 (belief)       0  murder_mystery        7  belief   \n",
       "3506  deepseek/deepseek-r1 (belief)       0  murder_mystery        8  belief   \n",
       "3507  deepseek/deepseek-r1 (belief)       0  murder_mystery        9  belief   \n",
       "3508  deepseek/deepseek-r1 (belief)       0  murder_mystery       10  belief   \n",
       "3509  deepseek/deepseek-r1 (belief)       0  murder_mystery       11  belief   \n",
       "3510  deepseek/deepseek-r1 (belief)       0  murder_mystery       12  belief   \n",
       "3511  deepseek/deepseek-r1 (belief)       0  murder_mystery       13  belief   \n",
       "3512  deepseek/deepseek-r1 (belief)       0  murder_mystery       14  belief   \n",
       "3513  deepseek/deepseek-r1 (belief)       0  murder_mystery       15  belief   \n",
       "3514  deepseek/deepseek-r1 (belief)       0  murder_mystery       16  belief   \n",
       "3515  deepseek/deepseek-r1 (belief)       0  murder_mystery       17  belief   \n",
       "3516  deepseek/deepseek-r1 (belief)       0  murder_mystery       18  belief   \n",
       "3517  deepseek/deepseek-r1 (belief)       0  murder_mystery       19  belief   \n",
       "3518  deepseek/deepseek-r1 (belief)       0  murder_mystery       20  belief   \n",
       "\n",
       "                                              raw_guess  \\\n",
       "3499  <Think> Start by determining the time of death...   \n",
       "3500  <Think> Verifying alibis for the 2 PM timefram...   \n",
       "3501  <Think>Verifying alibis via system logs direct...   \n",
       "3502  <Think>  \\nTo optimize information gathering, ...   \n",
       "3503  <Answer>  \\n**Action**: Interview the station ...   \n",
       "3504  <Think>\\nThe critical unknown is the exact tim...   \n",
       "3505  <Think> The sabotage occurred at 1:58 PM, and ...   \n",
       "3506  <Think>Captain Drake's confirmed actions at th...   \n",
       "3507  <Think>  \\nThe most critical unknowns are whet...   \n",
       "3508  <Think>  \\nThe most critical unknown is whethe...   \n",
       "3509  <Think>  \\nThe critical unknowns center around...   \n",
       "3510  <Think> The logs showing Drake as the sole use...   \n",
       "3511  <Think> \\nThe critical unknown is whether Drak...   \n",
       "3512  <Think>  \\nCaptain Drake's direct involvement ...   \n",
       "3513  <Think>Captain Drake is the prime suspect with...   \n",
       "3514  <Think> The strongest evidence points to Drake...   \n",
       "3515  <Think> While Drake is the prime suspect, the ...   \n",
       "3516  <Think> \\nDrake is the prime suspect due to di...   \n",
       "3517  <Think>Re-interviewing the engineer to confirm...   \n",
       "3518  <Think>  \\nCaptain Drake is the prime suspect ...   \n",
       "\n",
       "                                                  guess  \\\n",
       "3499  Question the station medic: What was the estim...   \n",
       "3500  Ask: What were the alibis of Captain Drake, Je...   \n",
       "3501  **Action**: Examine system logs (control room,...   \n",
       "3502  **Action:** Interview the engineer witness to ...   \n",
       "3503  <Answer>  \\n**Action**: Interview the station ...   \n",
       "3504  **Action**: Review decompression chamber’s sys...   \n",
       "3505  **Action**: Cross-check control room logs for ...   \n",
       "3506  Interrogate Captain Drake: Justify his 1:58 PM...   \n",
       "3507  **Action**: Audit maintenance schedules to ver...   \n",
       "3508  **Review System Telemetry**: Check historical ...   \n",
       "3509  **Action**: Question the engineer to clarify: ...   \n",
       "3510  **Action**: Audit control room log security to...   \n",
       "3511  **Action**: Request security footage of the co...   \n",
       "3512  **Action**: Audit the habitat module log metad...   \n",
       "3513  **Confront Captain Drake** about the unschedul...   \n",
       "3514  **Pressure Medic**: Demand autopsy details to ...   \n",
       "3515  **Action**: Expedite the toxicology report by ...   \n",
       "3516  Investigate Captain Drake’s potential motives ...   \n",
       "3517  **Re-interview Engineer**: Confirm telemetry s...   \n",
       "3518  **Confront Captain Drake** with evidence: his ...   \n",
       "\n",
       "                                               response word_limit  score  \\\n",
       "3499  the station medic looks grave as they respond,...       None    1.0   \n",
       "3500  the medic replies, \"i only have partial knowle...       None    2.0   \n",
       "3501  you access the system logs. \\n\\n- **control ro...       None    3.0   \n",
       "3502  the engineer looks a bit nervous as you questi...       None    4.0   \n",
       "3503  the engineer nods seriously, taking a moment t...       None    5.0   \n",
       "3504  you access the decompression chamber’s system ...       None    6.0   \n",
       "3505  you delve into the control room logs and find ...       None    7.0   \n",
       "3506  captain drake appears defensive as you questio...       None    8.0   \n",
       "3507  you review the maintenance schedules and find ...       None    9.0   \n",
       "3508  you analyze the historical telemetry data for ...       None   10.0   \n",
       "3509  the engineer ponders your questions carefully....       None   11.0   \n",
       "3510  you audit the control room log security and fi...       None   12.0   \n",
       "3511  you request the security footage from the cont...       None   13.0   \n",
       "3512  you audit the habitat module log metadata and ...       None   14.0   \n",
       "3513  captain drake meets your confrontation with a ...       None   15.0   \n",
       "3514  the medic shifts uncomfortably at your demand ...       None   16.0   \n",
       "3515  the medic's face tightens at your confrontatio...       None   17.0   \n",
       "3516  you delve into captain drake's recent communic...       None   18.0   \n",
       "3517  you confront the engineer about the telemetry ...       None   19.0   \n",
       "3518  you confront captain drake with the gathered e...       None   20.0   \n",
       "\n",
       "      done                                               data  \\\n",
       "3499  True  {'agent_game_scenario': 'You are a detective i...   \n",
       "3500  True  {'agent_game_scenario': 'You are a detective i...   \n",
       "3501  True  {'agent_game_scenario': 'You are a detective i...   \n",
       "3502  True  {'agent_game_scenario': 'You are a detective i...   \n",
       "3503  True  {'agent_game_scenario': 'You are a detective i...   \n",
       "3504  True  {'agent_game_scenario': 'You are a detective i...   \n",
       "3505  True  {'agent_game_scenario': 'You are a detective i...   \n",
       "3506  True  {'agent_game_scenario': 'You are a detective i...   \n",
       "3507  True  {'agent_game_scenario': 'You are a detective i...   \n",
       "3508  True  {'agent_game_scenario': 'You are a detective i...   \n",
       "3509  True  {'agent_game_scenario': 'You are a detective i...   \n",
       "3510  True  {'agent_game_scenario': 'You are a detective i...   \n",
       "3511  True  {'agent_game_scenario': 'You are a detective i...   \n",
       "3512  True  {'agent_game_scenario': 'You are a detective i...   \n",
       "3513  True  {'agent_game_scenario': 'You are a detective i...   \n",
       "3514  True  {'agent_game_scenario': 'You are a detective i...   \n",
       "3515  True  {'agent_game_scenario': 'You are a detective i...   \n",
       "3516  True  {'agent_game_scenario': 'You are a detective i...   \n",
       "3517  True  {'agent_game_scenario': 'You are a detective i...   \n",
       "3518  True  {'agent_game_scenario': 'You are a detective i...   \n",
       "\n",
       "                                                 belief  \\\n",
       "3499  **Key Facts**:  \\n- Dr. Lila Moore died at ~2 ...   \n",
       "3500  **Key Facts**:  \\n- Dr. Lila Moore died at ~2 ...   \n",
       "3501  **Key Facts**:  \\n- Dr. Lila Moore died at ~2 ...   \n",
       "3502  **Key Facts**:  \\n- Dr. Lila Moore died at ~2 ...   \n",
       "3503  **Key Facts**:  \\n- Dr. Lila Moore died at ~2 ...   \n",
       "3504  **Key Facts**:  \\n- Dr. Lila Moore died at ~2 ...   \n",
       "3505  **Key Facts**:  \\n- Dr. Lila Moore died at ~2 ...   \n",
       "3506  **Key Facts**:  \\n- Dr. Lila Moore died at ~2 ...   \n",
       "3507  **Key Facts**:  \\n- Dr. Lila Moore died at ~2 ...   \n",
       "3508  **Key Facts**:  \\n- Dr. Lila Moore died at ~2 ...   \n",
       "3509  **Key Facts**:  \\n- Dr. Lila Moore died at ~2 ...   \n",
       "3510  **Key Facts**:  \\n- Dr. Lila Moore died at ~2 ...   \n",
       "3511  **Key Facts**:  \\n- Dr. Lila Moore died at ~2 ...   \n",
       "3512  **Key Facts**:  \\n- Dr. Lila Moore died at ~2 ...   \n",
       "3513  **Key Facts**:  \\n- Dr. Lila Moore died at ~2 ...   \n",
       "3514  **Key Facts**:  \\n- Dr. Lila Moore died at ~2 ...   \n",
       "3515  **Key Facts**:  \\n- Dr. Lila Moore died at ~2 ...   \n",
       "3516  **Key Facts**:  \\n- Dr. Lila Moore died at ~2 ...   \n",
       "3517  **Key Facts**:  \\n- Dr. Lila Moore died at ~2 ...   \n",
       "3518  **Key Facts**:  \\n- Dr. Lila Moore died at ~2 ...   \n",
       "\n",
       "                                       action_reasoning  \\\n",
       "3499  Okay, so I'm starting this murder mystery game...   \n",
       "3500  Okay, let's see where to start. The key facts ...   \n",
       "3501  Okay, so I need to figure out the next best st...   \n",
       "3502  Okay, let's try to figure out the next best st...   \n",
       "3503  Okay, let's review the information again. Dr. ...   \n",
       "3504  Okay, let me look at the current information. ...   \n",
       "3505  Okay, let me think through this step by step. ...   \n",
       "3506  Okay, let me try to figure out the best next s...   \n",
       "3507  Okay, let's see. The current belief state poin...   \n",
       "3508  Okay, let me try to figure out the best next s...   \n",
       "3509  Okay, let's see. The key facts point to Captai...   \n",
       "3510  Okay, let's analyze the current belief state. ...   \n",
       "3511  Okay, let's see. So, the main points here are ...   \n",
       "3512  Okay, let's see. The belief state shows Captai...   \n",
       "3513  Okay, let's see. The belief state shows that C...   \n",
       "3514  Okay, let's see. The current belief state poin...   \n",
       "3515  Okay, let's see. The current belief state has ...   \n",
       "3516  Okay, let's look at the current belief state. ...   \n",
       "3517  Okay, let's see. The current belief state show...   \n",
       "3518  Okay, let me go through this step by step. So,...   \n",
       "\n",
       "                                       belief_reasoning  \\\n",
       "3499  Okay, let's start by understanding the scenari...   \n",
       "3500  Okay, so the agent asked about the alibis of t...   \n",
       "3501  Okay, let me update the belief based on the ag...   \n",
       "3502  Okay, so the agent decided to interview the en...   \n",
       "3503  Okay, let me process the engineer's response t...   \n",
       "3504  Okay, let's see. The agent just checked the de...   \n",
       "3505  Okay, let me process this step by step. The ag...   \n",
       "3506  Okay, let's process the new information. The a...   \n",
       "3507  Okay, let's start by updating the belief based...   \n",
       "3508  Okay, let me go through this step by step. The...   \n",
       "3509  Okay, let me go through this step by step. The...   \n",
       "3510  Okay, let me try to update the belief based on...   \n",
       "3511  Alright, let me process this new information. ...   \n",
       "3512  Okay, let's process this new information. The ...   \n",
       "3513  Okay, let's break down how to update the belie...   \n",
       "3514  Alright, so the agent decided to pressure the ...   \n",
       "3515  Okay, let me update the belief state based on ...   \n",
       "3516  Alright, let's update the belief state based o...   \n",
       "3517  Okay, let me go through this step by step. The...   \n",
       "3518  Okay, let me process this step by step. The ag...   \n",
       "\n",
       "                         model_info  \n",
       "3499  deepseek/deepseek-r1 (belief)  \n",
       "3500  deepseek/deepseek-r1 (belief)  \n",
       "3501  deepseek/deepseek-r1 (belief)  \n",
       "3502  deepseek/deepseek-r1 (belief)  \n",
       "3503  deepseek/deepseek-r1 (belief)  \n",
       "3504  deepseek/deepseek-r1 (belief)  \n",
       "3505  deepseek/deepseek-r1 (belief)  \n",
       "3506  deepseek/deepseek-r1 (belief)  \n",
       "3507  deepseek/deepseek-r1 (belief)  \n",
       "3508  deepseek/deepseek-r1 (belief)  \n",
       "3509  deepseek/deepseek-r1 (belief)  \n",
       "3510  deepseek/deepseek-r1 (belief)  \n",
       "3511  deepseek/deepseek-r1 (belief)  \n",
       "3512  deepseek/deepseek-r1 (belief)  \n",
       "3513  deepseek/deepseek-r1 (belief)  \n",
       "3514  deepseek/deepseek-r1 (belief)  \n",
       "3515  deepseek/deepseek-r1 (belief)  \n",
       "3516  deepseek/deepseek-r1 (belief)  \n",
       "3517  deepseek/deepseek-r1 (belief)  \n",
       "3518  deepseek/deepseek-r1 (belief)  "
      ]
     },
     "execution_count": 13,
     "metadata": {},
     "output_type": "execute_result"
    }
   ],
   "source": [
    "wordle_sample"
   ]
  },
  {
   "cell_type": "code",
   "execution_count": 14,
   "id": "2af8aebe",
   "metadata": {},
   "outputs": [
    {
     "name": "stdout",
     "output_type": "stream",
     "text": [
      "('**Key Facts**:  \\n'\n",
      " '- Dr. Lila Moore died at ~2 PM via asphyxiation due to decompression chamber '\n",
      " 'sabotage.  \\n'\n",
      " '- **Sabotage Timing Confirmed**: System logs show pressure controls were '\n",
      " 'modified at **1:58 PM** (pre-2 PM), causing immediate malfunction. '\n",
      " 'Delayed-trigger hypothesis ruled out.  \\n'\n",
      " '- **Sabotage Method**: Direct manipulation at 1:58 PM (engineer’s \"delicate '\n",
      " 'system\" remark aligns with rapid failure).  \\n'\n",
      " '\\n'\n",
      " '**Alibi Reassessment**:  \\n'\n",
      " '- **Captain Drake**: Control room access **1:50–2:10 PM**. **Critical '\n",
      " 'overlap** with sabotage time (1:58 PM). If control room logs confirm he '\n",
      " 'operated pressure systems during this window, direct guilt likely.  \\n'\n",
      " '- **Jenna Parks**: Habitat module log ends at 2:05 PM. Since sabotage '\n",
      " 'occurred at 1:58 PM, her alibi **does not exclude her**—she could have '\n",
      " 'tampered with systems before 2:05 PM. **Log integrity** (e.g., falsified '\n",
      " 'timestamps) now pivotal.  \\n'\n",
      " '- **Victor Kane**: Lab login starts at 2:00 PM. Sabotage at 1:58 PM '\n",
      " '**precedes his alibi**, but engineer’s note about lab security bypass raises '\n",
      " 'possibility he accessed systems remotely or earlier.  \\n'\n",
      " '\\n'\n",
      " '**Discrepancies/Unresolved**:  \\n'\n",
      " '- **Control Room Logs**: Need verification of Drake’s specific actions at '\n",
      " '1:58 PM.  \\n'\n",
      " '- **Habitat Module Logs**: Confirm if Jenna’s 2:05 PM log is authentic or '\n",
      " 'manipulated.  \\n'\n",
      " '- **Victor’s Pre-2:00 PM Activity**: Where was he before lab login? Could he '\n",
      " 'bypass lab security pre-2 PM?  \\n'\n",
      " '- **Engineer’s Technical Knowledge**: Could sabotage require expertise only '\n",
      " 'they possess?  \\n'\n",
      " '\\n'\n",
      " '**Next Steps**:  \\n'\n",
      " '1. **Cross-check control room logs** for Drake’s actions at 1:58 PM '\n",
      " '(specific command history).  \\n'\n",
      " '2. **Audit habitat module logs** (metadata, backups) to confirm Jenna’s '\n",
      " 'presence until 2:05 PM.  \\n'\n",
      " '3. **Interrogate Victor** about his location/activity pre-2:00 PM and '\n",
      " 'feasibility of lab security bypass.  \\n'\n",
      " '4. **Re-engage engineer**: Clarify if remote system access (e.g., from labs) '\n",
      " 'was possible and if Victor/Jenna had such privileges.  \\n'\n",
      " '5. **Revisit medic**: Press for autopsy refusal rationale—potential hidden '\n",
      " 'evidence (e.g., sedatives in Lila’s system pre-sabotage).  \\n'\n",
      " '\\n'\n",
      " '**Suspicion Hierarchy**:  \\n'\n",
      " '- **Drake**: High—direct alibi overlap with sabotage time.  \\n'\n",
      " '- **Jenna**: Moderate—alibi unverified; log tampering possible.  \\n'\n",
      " '- **Victor**: Moderate—pre-alibi window unresolved; technical bypass '\n",
      " 'potential.  \\n'\n",
      " '- **Engineer**: Low but rising—expertise could enable sabotage; motives '\n",
      " 'unclear.  \\n'\n",
      " '\\n'\n",
      " '**Additional Notes**:  \\n'\n",
      " '- Immediate sabotage at 1:58 PM narrows viable suspects to those with '\n",
      " 'access/opportunity in the 10-minute window preceding 2 PM.  \\n'\n",
      " '- Log authenticity (control room, habitat, lab) is now the primary '\n",
      " 'investigative focus.')\n"
     ]
    }
   ],
   "source": [
    "pp(wordle_sample.iloc[5]['belief'])"
   ]
  },
  {
   "cell_type": "code",
   "execution_count": 15,
   "id": "b4ce1cdb",
   "metadata": {},
   "outputs": [],
   "source": [
    "# can't do with belief but can do with history -> look at the full trajectory with reasoning and try to see why it can't do it with belief"
   ]
  },
  {
   "cell_type": "markdown",
   "id": "21e41562",
   "metadata": {},
   "source": [
    "## 3. Sizes of Belief States"
   ]
  },
  {
   "cell_type": "code",
   "execution_count": 16,
   "id": "bb344f62",
   "metadata": {},
   "outputs": [],
   "source": [
    "df_belief = df[df['info'] == 'belief']"
   ]
  },
  {
   "cell_type": "code",
   "execution_count": 17,
   "id": "8799a5ab",
   "metadata": {},
   "outputs": [
    {
     "name": "stdout",
     "output_type": "stream",
     "text": [
      "                              model game_id            env  attempt    info  \\\n",
      "18  deepseek/deepseek-chat (belief)       0  guess_my_city        1  belief   \n",
      "19  deepseek/deepseek-chat (belief)       0  guess_my_city        2  belief   \n",
      "\n",
      "                                            raw_guess  \\\n",
      "18  <Think> Since this is the start of the game, t...   \n",
      "19  <Think> Since the city is in South America, it...   \n",
      "\n",
      "                                                guess  \\\n",
      "18               Is your home city located in Europe?   \n",
      "19  Is your home city located near the coastline o...   \n",
      "\n",
      "                                             response word_limit  score  done  \\\n",
      "18  no, my home city is not located in europe. it'...       None    1.0  True   \n",
      "19  my city is located inland and not near the coa...       None    2.0  True   \n",
      "\n",
      "                                                 data  \\\n",
      "18  {'agent_game_scenario': 'city', 'env_game_scen...   \n",
      "19  {'agent_game_scenario': 'city', 'env_game_scen...   \n",
      "\n",
      "                                               belief action_reasoning  \\\n",
      "18  The home city is located in South America, not...             None   \n",
      "19  The home city is located inland in South Ameri...             None   \n",
      "\n",
      "   belief_reasoning                       model_info  \n",
      "18             None  deepseek/deepseek-chat (belief)  \n",
      "19             None  deepseek/deepseek-chat (belief)  \n"
     ]
    }
   ],
   "source": [
    "print(df_belief.head(2))"
   ]
  },
  {
   "cell_type": "code",
   "execution_count": 18,
   "id": "495517be",
   "metadata": {},
   "outputs": [],
   "source": [
    "def plot_belief_length(df):\n",
    "    envs = list(df['env'].astype(str).unique())\n",
    "    from math import sqrt\n",
    "    import plotly\n",
    "    go = plotly.graph_objects\n",
    "    make_subplots = plotly.subplots.make_subplots\n",
    "\n",
    "    length = df['belief'].astype(str).str.len()\n",
    "    df2 = df.assign(_belief_len=length)\n",
    "    agg = df2.groupby(['env','model','attempt'])._belief_len.agg(['mean','std','count']).reset_index()\n",
    "    agg['sem'] = agg['std'] / agg['count'].apply(lambda n: sqrt(n) if n > 0 else 1)\n",
    "\n",
    "    colors = getattr(plotly.colors.qualitative, 'Dark24', None) or \\\n",
    "             getattr(plotly.colors.qualitative, 'Plotly', None) or \\\n",
    "             list(plotly.colors.qualitative.__dict__.values())[0]\n",
    "\n",
    "    fig = make_subplots(rows=1, cols=len(envs), shared_yaxes=False, subplot_titles=envs)\n",
    "\n",
    "    model_color_map = {}\n",
    "    models_seen = set()\n",
    "    color_idx = 0\n",
    "\n",
    "    for col_idx, env in enumerate(envs, start=1):\n",
    "        sub = agg[agg['env'] == env]\n",
    "        for model in sub['model'].unique():\n",
    "            mdf = sub[sub['model'] == model].sort_values('attempt')\n",
    "            if model not in model_color_map:\n",
    "                model_color_map[model] = colors[color_idx % len(colors)]\n",
    "                color_idx += 1\n",
    "            show_legend = model not in models_seen\n",
    "            models_seen.add(model)\n",
    "\n",
    "            fig.add_trace(\n",
    "                go.Scatter(\n",
    "                    x=mdf['attempt'],\n",
    "                    y=mdf['mean'],\n",
    "                    error_y=dict(\n",
    "                        type='data',\n",
    "                        array=mdf['sem'],\n",
    "                        visible=True,\n",
    "                        thickness=1.5,   # softer line\n",
    "                        color='rgba(0,0,0,0.4)'  # semi-transparent black\n",
    "                    ),\n",
    "                    mode='lines+markers',\n",
    "                    name=str(model.split('(')[0]),\n",
    "                    legendgroup=str(model),\n",
    "                    showlegend=show_legend,\n",
    "                    line=dict(color=model_color_map[model], width=2)\n",
    "                ),\n",
    "                row=1, col=col_idx\n",
    "            )\n",
    "\n",
    "        fig.update_xaxes(\n",
    "            title_text='Step',\n",
    "            color='black',  # black axis\n",
    "            showline=True,\n",
    "            linecolor='black',\n",
    "            linewidth=1,\n",
    "            showgrid=False,\n",
    "            row=1, col=col_idx\n",
    "        )\n",
    "\n",
    "        fig.update_yaxes(\n",
    "            title_text='Avg. belief length (chars)' if col_idx == 1 else None,\n",
    "            showline=True,\n",
    "            linecolor='black',\n",
    "            linewidth=1,\n",
    "            tickfont=dict(color='black'),\n",
    "            showgrid=True,\n",
    "            gridcolor='lightgray',\n",
    "            row=1, col=col_idx\n",
    "        )\n",
    "\n",
    "    fig.update_layout(\n",
    "        width=1200,\n",
    "        height=400,\n",
    "        paper_bgcolor='white',\n",
    "        plot_bgcolor='white',\n",
    "        font=dict(family='Times New Roman, serif', size=14),\n",
    "        legend=dict(\n",
    "            orientation='h',   # horizontal\n",
    "            yanchor='bottom',\n",
    "            y=1.1,\n",
    "            xanchor='center',\n",
    "            x=0.5,\n",
    "            bordercolor='black',\n",
    "            borderwidth=1,\n",
    "            bgcolor='rgba(255,255,255,0.9)'\n",
    "        )\n",
    "    )\n",
    "\n",
    "    return fig\n"
   ]
  },
  {
   "cell_type": "code",
   "execution_count": 19,
   "id": "4c57f8f7",
   "metadata": {},
   "outputs": [],
   "source": [
    "fig = plot_belief_length(df_belief)"
   ]
  },
  {
   "cell_type": "code",
   "execution_count": 20,
   "id": "3df4c224",
   "metadata": {},
   "outputs": [
    {
     "data": {
      "application/vnd.plotly.v1+json": {
       "config": {
        "plotlyServerURL": "https://plot.ly"
       },
       "data": [
        {
         "error_y": {
          "array": {
           "bdata": "E4J4+a7pLkDHkfGcgtI2QAzs3E43CztA481Jyh7NPUAf010bprdDQAF4vD4G1ERAM0FZo5+sRkCl1lb1/S9MQB2wjTVEWlBAkOv2/WCTVkAkd5oteWZXQO0VI8OMY1hAEuYoeTwbXEACqV1bW6BbQOL2GtNLlltARS7M5Zg9XkAPHevBw6RfQGCsHNXnLGBAKBazvFe/XED55g2jYFNhQA==",
           "dtype": "f8"
          },
          "color": "rgba(0,0,0,0.4)",
          "thickness": 1.5,
          "type": "data",
          "visible": true
         },
         "legendgroup": "deepseek/deepseek-chat (belief)",
         "line": {
          "color": "#2E91E5",
          "width": 2
         },
         "mode": "lines+markers",
         "name": "deepseek/deepseek-chat ",
         "showlegend": true,
         "type": "scatter",
         "x": {
          "bdata": "AQIDBAUGBwgJCgsMDQ4PEBESExQ=",
          "dtype": "i1"
         },
         "xaxis": "x",
         "y": {
          "bdata": "MzMzMzNLb0DNzMzMzFB5QJqZmZmZDIJA8xrKayhzhEBddNFFFz2HQImIiIiITIpASZIkSZLmi0AUrkfhegyNQMdxHMdxQJFAAAAAAAA4kEBiJ3ZiJ7KTQBQ7sRM7bZNAYid2YifWk0BVVVVVVcuVQFVVVVVVypVAq6qqqqrDlkAAAAAAAGiWQAAAAAAA3ZZAXXTRRRf1mEC66KKLLtKXQA==",
          "dtype": "f8"
         },
         "yaxis": "y"
        },
        {
         "error_y": {
          "array": {
           "bdata": "jRCldXn2MkCcRSUwrvQwQNVFzJG/pzdAFAJTjPT6QECEweiMCD9BQHyDM7etCkdAkk+bnRBAUECfQBDTCclPQN8Dz7rRxlFAVfktO4+oT0BZthG4KKBTQMy7415h11FAnPluArp0VUBDqqINO/pUQGymIn2J41BACJKpnqFhT0A2d02IxdRLQFCe6FpPY1FA074OGZVwUUDjQWhCNCpQQA==",
           "dtype": "f8"
          },
          "color": "rgba(0,0,0,0.4)",
          "thickness": 1.5,
          "type": "data",
          "visible": true
         },
         "legendgroup": "deepseek/deepseek-r1 (belief)",
         "line": {
          "color": "#E15F99",
          "width": 2
         },
         "mode": "lines+markers",
         "name": "deepseek/deepseek-r1 ",
         "showlegend": true,
         "type": "scatter",
         "x": {
          "bdata": "AQIDBAUGBwgJCgsMDQ4PEBESExQ=",
          "dtype": "i1"
         },
         "xaxis": "x",
         "y": {
          "bdata": "zczMzMy0ekBmZmZmZhOHQJqZmZmZrItAzczMzMxEjUDrBlPkszaPQMdxHMdxFJBAmpmZmZm/kEBVVVVV1bqRQJqZmZmZ95NAQ3kN5TVclEBDeQ3lNQiWQL2G8hrKE5ZAvYbyGspjlUA5juM4jhWVQKuqqqqqnJVAchzHcRzNlUCrqqqqqmiWQI7jOI7jzJVAjuM4juO+lUBVVVVVVTGWQA==",
          "dtype": "f8"
         },
         "yaxis": "y"
        },
        {
         "error_y": {
          "array": {
           "bdata": "SSEYMOMyQED9mDGuCJZIQH4VWGLlDE1ArLVRmliRUUBs1YSALVxUQGvoMSHpsVdA8KtxnPHiX0ByugM1+1VgQKaTTxh3/GFAgVgtuYnfYUBxWrxeh2RgQJSXE8da8FpA1yjfTibkYEBGtxzFsMNoQFND8JgqC2dA/hMQ+2XLbUC0PCBBuhV0QIMspLQVnXNAl3FLogcgc0CE4TxQVER5QA==",
           "dtype": "f8"
          },
          "color": "rgba(0,0,0,0.4)",
          "thickness": 1.5,
          "type": "data",
          "visible": true
         },
         "legendgroup": "google/gemini-2.5-pro (belief)",
         "line": {
          "color": "#1CA71C",
          "width": 2
         },
         "mode": "lines+markers",
         "name": "google/gemini-2.5-pro ",
         "showlegend": true,
         "type": "scatter",
         "x": {
          "bdata": "AQIDBAUGBwgJCgsMDQ4PEBESExQ=",
          "dtype": "i1"
         },
         "xaxis": "x",
         "y": {
          "bdata": "ZmZmZmZthUCamZmZGeyQQJqZmZmZaZVAxU7sxE6omECvobyG8k6aQLD4iq/4ZppAJUmSJEmYnkBcj8L1KG6gQAAAAAAADqJAmpmZmRlGokCO4ziO4+yjQAAAAAAAP6RAAAAAAADipEAAAAAAAKWlQJIkSZIkX6dAO7ETO7FvqECrqqqqKs6nQFVVVVVVb6pAAAAAAEDPq0AAAAAAgF2oQA==",
          "dtype": "f8"
         },
         "yaxis": "y"
        },
        {
         "error_y": {
          "array": {
           "bdata": "DY4ap+7RI0CJ+cfXBYUpQCTZj8PEiydANIEnE2LRKUCUHDL0PQIyQHVd7rh1AktA",
           "dtype": "f8"
          },
          "color": "rgba(0,0,0,0.4)",
          "thickness": 1.5,
          "type": "data",
          "visible": true
         },
         "legendgroup": "deepseek/deepseek-chat (belief)",
         "line": {
          "color": "#2E91E5",
          "width": 2
         },
         "mode": "lines+markers",
         "name": "deepseek/deepseek-chat ",
         "showlegend": false,
         "type": "scatter",
         "x": {
          "bdata": "AQIDBAUG",
          "dtype": "i1"
         },
         "xaxis": "x2",
         "y": {
          "bdata": "AAAAAADsaEAzMzMzMzdwQJqZmZmZo3FAAAAAAADAckDzGsprKAd1QNu2bdu2XXhA",
          "dtype": "f8"
         },
         "yaxis": "y2"
        },
        {
         "error_y": {
          "array": {
           "bdata": "waqFT4gLMkARHr7/NMNrQNVRfepx3DRAhYsZntmhOEBicwBZCH85QBIQgKfSVENA",
           "dtype": "f8"
          },
          "color": "rgba(0,0,0,0.4)",
          "thickness": 1.5,
          "type": "data",
          "visible": true
         },
         "legendgroup": "deepseek/deepseek-r1 (belief)",
         "line": {
          "color": "#E15F99",
          "width": 2
         },
         "mode": "lines+markers",
         "name": "deepseek/deepseek-r1 ",
         "showlegend": false,
         "type": "scatter",
         "x": {
          "bdata": "AQIDBAUG",
          "dtype": "i1"
         },
         "xaxis": "x2",
         "y": {
          "bdata": "MzMzMzObb0BmZmZmZmGBQOU1lNdQvnRAJUmSJEkqdEAAAAAAAKJ0QJIkSZIkOXZA",
          "dtype": "f8"
         },
         "yaxis": "y2"
        },
        {
         "error_y": {
          "array": {
           "bdata": "uA5bLmDuKkCe/DY+LvMwQPF0QJUUqjVArHlEyXBZQEBNygymEM9GQL8bxs6WIFFA",
           "dtype": "f8"
          },
          "color": "rgba(0,0,0,0.4)",
          "thickness": 1.5,
          "type": "data",
          "visible": true
         },
         "legendgroup": "google/gemini-2.5-pro (belief)",
         "line": {
          "color": "#1CA71C",
          "width": 2
         },
         "mode": "lines+markers",
         "name": "google/gemini-2.5-pro ",
         "showlegend": false,
         "type": "scatter",
         "x": {
          "bdata": "AQIDBAUG",
          "dtype": "i1"
         },
         "xaxis": "x2",
         "y": {
          "bdata": "mpmZmZk7cEDNzMzMzMhyQL2G8hrKa3NAAAAAAABLdECSJEmSJDlzQAAAAAAAkHpA",
          "dtype": "f8"
         },
         "yaxis": "y2"
        },
        {
         "error_y": {
          "array": {
           "bdata": "UdFqHoUwMUAWelYcWdoyQAX89yiawzhA6NShn+uROkDTfngnI04/QB4W1Q416EBAgc8nBWXPQ0A3zTzCp0NFQMDVZdLKEklAAU62EYoSTUDbdmN0lZlQQI/oa+K13FRAmqq5mUNmVUBigoi7wqFaQNBdIHdZA1xA5JlhooDFXEAxhDyQK1BfQJZ4n9TPwWBAYzMf/8OjY0ArVcPPFGhkQA==",
           "dtype": "f8"
          },
          "color": "rgba(0,0,0,0.4)",
          "thickness": 1.5,
          "type": "data",
          "visible": true
         },
         "legendgroup": "deepseek/deepseek-chat (belief)",
         "line": {
          "color": "#2E91E5",
          "width": 2
         },
         "mode": "lines+markers",
         "name": "deepseek/deepseek-chat ",
         "showlegend": false,
         "type": "scatter",
         "x": {
          "bdata": "AQIDBAUGBwgJCgsMDQ4PEBESExQ=",
          "dtype": "i1"
         },
         "xaxis": "x3",
         "y": {
          "bdata": "ZmZmZmaKa0CamZmZmT91QAAAAAAAAnxAAAAAAADNgUDQusEU+SyFQAAAAAAAOYhAJUmSJEmIi0CY0F5Ce0mOQGIndmInoJBAntiJndi9kUC4HoXrUUCTQOF6FK5HIZRAAAAAAAAwlkCRhSxkId+WQFnIQhayOJhA3/SmN725mUDf9KY3vR2bQAtZyEIWapxA9aY3vemdnEDRRRdddAmfQA==",
          "dtype": "f8"
         },
         "yaxis": "y3"
        },
        {
         "error_y": {
          "array": {
           "bdata": "omkwhOf7L0CTN9P9uys0QBSD/msQtjVADPW6wPz3P0DtE0iA1bhDQEQFzo25pkRAaahibTjgRUDSko7szohJQBJ6G4cdfkpAoNJbf0gLUkDuUYetVzZSQISD16naWVVAgMD0fwtLVEA6ziS/v9lSQCzdnEeHUVVAzmm5NqMXVkCYLIxXblVYQBWJWN26FFdAWHhff6HxW0AzGoJse8xZQA==",
           "dtype": "f8"
          },
          "color": "rgba(0,0,0,0.4)",
          "thickness": 1.5,
          "type": "data",
          "visible": true
         },
         "legendgroup": "deepseek/deepseek-r1 (belief)",
         "line": {
          "color": "#E15F99",
          "width": 2
         },
         "mode": "lines+markers",
         "name": "deepseek/deepseek-r1 ",
         "showlegend": false,
         "type": "scatter",
         "x": {
          "bdata": "AQIDBAUGBwgJCgsMDQ4PEBESExQ=",
          "dtype": "i1"
         },
         "xaxis": "x3",
         "y": {
          "bdata": "MzMzMzNheEBmZmZmZruBQIqd2ImdwIRAN5gin3XzhkAAAAAAwKSJQFVVVVVVVYtA7+7u7u4mikBCewntJRyNQExoL6G9BI1ASOF6FK5fjUAWspCFLMSMQM3MzMzM1o5AAAAAAECAkECrqqqqqlaRQFVVVVVVLZJAq6qqqqoykUAiIiIiIpaRQHd3d3d3A5JAsRM7sRPHkUDpoosuuhCTQA==",
          "dtype": "f8"
         },
         "yaxis": "y3"
        },
        {
         "error_y": {
          "array": {
           "bdata": "YCJ3M3rVJEA/bxd/xtUqQO4hCCGHHjBAo76fGvD6NUAyc0xVTNQ2QPAf02B5czpAdsPes2sSQECTN/X9uqBCQJyQeQO5ykJAdnN4PgwXQkBYCjVOyCJCQOYEMU9XdExAYjZbvBxPSEBGzy5R3yVIQOTNIDXy6VFAoSbDjkRiWUAucTqmdrZaQBSmoV66elxAaI28vDJNVkCNRozvR05bQA==",
           "dtype": "f8"
          },
          "color": "rgba(0,0,0,0.4)",
          "thickness": 1.5,
          "type": "data",
          "visible": true
         },
         "legendgroup": "google/gemini-2.5-pro (belief)",
         "line": {
          "color": "#1CA71C",
          "width": 2
         },
         "mode": "lines+markers",
         "name": "google/gemini-2.5-pro ",
         "showlegend": false,
         "type": "scatter",
         "x": {
          "bdata": "AQIDBAUGBwgJCgsMDQ4PEBESExQ=",
          "dtype": "i1"
         },
         "xaxis": "x3",
         "y": {
          "bdata": "mpmZmZmLdkCamZmZmdN9QMprKK+hTIJAymsor6Gkg0AAAAAAAMiEQJNNNtlk44VAAAAAAMCyh0Bu27Zt22SIQAAAAAAA3IhAVVVVVVV1iUCU11BeQ1mKQOQ4juM4jopAmpmZmZkpikCrqqqqqsSKQHTRRRddrItAAAAAAADgjECamZmZmR2NQMdxHMdxZItAAAAAAAC4iECrqqqqqnaIQA==",
          "dtype": "f8"
         },
         "yaxis": "y3"
        },
        {
         "error_y": {
          "array": {
           "bdata": "qEc+OefpKkC1/dVcHD0wQLIVhi+OhTFAozLk5ijJL0AFrD4KRUY0QKXVv1txfjVAd/xwHb/jOEDps1kWwj85QJ0xYqCmAT9ASud4mSN3QEBNpOyC/6ZAQLb4Wk/1t0BAYW+3qmd7Q0B787sIjJxFQJcdN8TRjkZAWGSXAo6kRkA1zlSjpk1KQKtPzwmJlkpAlmYi5cqETUB/DK9FbNlPQA==",
           "dtype": "f8"
          },
          "color": "rgba(0,0,0,0.4)",
          "thickness": 1.5,
          "type": "data",
          "visible": true
         },
         "legendgroup": "deepseek/deepseek-chat (belief)",
         "line": {
          "color": "#2E91E5",
          "width": 2
         },
         "mode": "lines+markers",
         "name": "deepseek/deepseek-chat ",
         "showlegend": false,
         "type": "scatter",
         "x": {
          "bdata": "AQIDBAUGBwgJCgsMDQ4PEBESExQ=",
          "dtype": "i1"
         },
         "xaxis": "x4",
         "y": {
          "bdata": "mpmZmZmJX0AAAAAAAOhlQDMzMzMz42tAzczMzMwgb0AzMzMzM6lyQMVO7MRODHZAAAAAAAAweUDFTuzETpx6QFFeQ3kNZX1AX/EVX/EtgEDT0tLS0kqBQA8PDw8PM4JApZRSSimVhEB0zjnnnNuFQO/u7u7u6oZAwnJPIyxHiEAJyz2NsHSIQLSX0F5CO4tAtJfQXkK7jECO4ziO4xiOQA==",
          "dtype": "f8"
         },
         "yaxis": "y4"
        },
        {
         "error_y": {
          "array": {
           "bdata": "0cu5bHGdLEDSdz1Erys3QEgR+w7O+DpAcDYwNmNVPkCjl/pg1GVAQKava8OoskBAE1fkUpv6QECHlL6DlUNCQAytVZp/uUFAVb4TnjrTQ0DbwTK7+tJAQAmU9lcvyEBAKscBC9h7QkD4V5JypiRDQGjS/D08w0RA+Tcb5EbjREBiUDeWKfxDQKLZuSeOA0lAMBI+XlMaUECCCCA3fBtJQA==",
           "dtype": "f8"
          },
          "color": "rgba(0,0,0,0.4)",
          "thickness": 1.5,
          "type": "data",
          "visible": true
         },
         "legendgroup": "deepseek/deepseek-r1 (belief)",
         "line": {
          "color": "#E15F99",
          "width": 2
         },
         "mode": "lines+markers",
         "name": "deepseek/deepseek-r1 ",
         "showlegend": false,
         "type": "scatter",
         "x": {
          "bdata": "AQIDBAUGBwgJCgsMDQ4PEBESExQ=",
          "dtype": "i1"
         },
         "xaxis": "x4",
         "y": {
          "bdata": "AAAAAAA6cEDNzMzMzEp7QM3MzMzMHIJAAAAAAAC7hkBmZmZmZtqIQAAAAAAAPYpAMzMzMzNVi0BmZmZmZlSMQGmQBmmQBo1AQ3kN5TV8jUDkOI7jOEaNQF/xFV/x9Y1AAAAAAAAIjUB4eHh4eICOQMIHH3zwEY5AU0oppZRijkCfRljuaQSPQJIkSZIkbY9AAAAAAABskECPwvUoXJORQA==",
          "dtype": "f8"
         },
         "yaxis": "y4"
        },
        {
         "error_y": {
          "array": {
           "bdata": "j+euH4KAOUBzQcfq8ftAQMmH5swGAERA70X6vxN1R0CMSpDgj4ZJQCjknq0V805AuZNE3yLHT0DB7GpGjXtRQHnQ12HXblZAWqnIQkBuV0CCoDYohb5XQNMTW4lf11pAIvo6EZu1XUBueQc0cupbQLWXRIzn4lxA1e5Yjv5xYUCeDoEDN+VgQGjLyZo1a2FAOZuwk1EkXkA3znF3ko1gQA==",
           "dtype": "f8"
          },
          "color": "rgba(0,0,0,0.4)",
          "thickness": 1.5,
          "type": "data",
          "visible": true
         },
         "legendgroup": "google/gemini-2.5-pro (belief)",
         "line": {
          "color": "#1CA71C",
          "width": 2
         },
         "mode": "lines+markers",
         "name": "google/gemini-2.5-pro ",
         "showlegend": false,
         "type": "scatter",
         "x": {
          "bdata": "AQIDBAUGBwgJCgsMDQ4PEBESExQ=",
          "dtype": "i1"
         },
         "xaxis": "x4",
         "y": {
          "bdata": "zczMzMwrgEAzMzMzM9aGQJqZmZmZa4xAvuVbvuVjkEDmW77lW/KRQCivobyGipNAx3Ecx3GBlUDkOI7jOAyXQMdxHMdxpphATjbZZJMxmkB0zjnnnM+aQM4555xzrppAE9pLaC/BnkBP7MRO7PCeQKuqqqrqEqBAC1nIQhZ8oEAXXXTRRQSiQMMwDMMwbKJAkiRJkiSdo0AAAAAAANugQA==",
          "dtype": "f8"
         },
         "yaxis": "y4"
        },
        {
         "error_y": {
          "array": {
           "bdata": "8bfH2pDPLUCzadOJjFhAQOyGUhbMPVBA8U+cJ3iuUUBkLf6LH7ZPQPG94V2jnjZAvVfF3yI6PUDDpnoKLLU0QIMNVx6gHVlAdhZKLlVsQEDg+MlfNEU5QEcphvyFtz1A",
           "dtype": "f8"
          },
          "color": "rgba(0,0,0,0.4)",
          "thickness": 1.5,
          "type": "data",
          "visible": true
         },
         "legendgroup": "deepseek/deepseek-chat (belief)",
         "line": {
          "color": "#2E91E5",
          "width": 2
         },
         "mode": "lines+markers",
         "name": "deepseek/deepseek-chat ",
         "showlegend": false,
         "type": "scatter",
         "x": {
          "bdata": "AQIDBAUGBwgJCgsM",
          "dtype": "i1"
         },
         "xaxis": "x5",
         "y": {
          "bdata": "MzMzMzNRdEAzMzMzM1F/QGZmZmZm44JAzczMzMwmhECamZmZmfeBQM3MzMzMoHxAmpmZmZl7e0AAAAAAAOB6QJqZmZmZwYBAmpmZmZm/e0DNzMzMzCJ8QDMzMzMzbXxA",
          "dtype": "f8"
         },
         "yaxis": "y5"
        },
        {
         "error_y": {
          "array": {
           "bdata": "Ig+KxHZfOUA6H7LMvvpFQP85CokMyEZAPDV0Sw2SS0C40Gixut5LQAhZW5yOPktAqBmLvmHNS0ABbi5RodpIQL+ydb/pZktA8J51IxzgRkC+bQHnWGFEQKUvI3LUxE1A",
           "dtype": "f8"
          },
          "color": "rgba(0,0,0,0.4)",
          "thickness": 1.5,
          "type": "data",
          "visible": true
         },
         "legendgroup": "deepseek/deepseek-r1 (belief)",
         "line": {
          "color": "#E15F99",
          "width": 2
         },
         "mode": "lines+markers",
         "name": "deepseek/deepseek-r1 ",
         "showlegend": false,
         "type": "scatter",
         "x": {
          "bdata": "AQIDBAUGBwgJCgsM",
          "dtype": "i1"
         },
         "xaxis": "x5",
         "y": {
          "bdata": "mpmZmZkJd0DNzMzMzLeDQDMzMzMzvoVAZmZmZmaQhUAndmIndjKGQMVO7MRO3IVApqWlpaUViEDwwQcffPCIQHTRRRddHIRAIyz3NMKKhEC3bdu2bR+DQMdxHMdxzIVA",
          "dtype": "f8"
         },
         "yaxis": "y5"
        },
        {
         "error_y": {
          "array": {
           "bdata": "kvI+jXsnUEBbxX6yyAZVQOyI+ZVX/1lA0Da85F7AWkBgXQo2UTZhQPo2jr/96GJAFcIAvgWVZEBhUuAmFIlzQEEsRr4x8nhAf4x+f4MFgUAAAAAAAMCBQAAAAAAAuIlA",
           "dtype": "f8"
          },
          "color": "rgba(0,0,0,0.4)",
          "thickness": 1.5,
          "type": "data",
          "visible": true
         },
         "legendgroup": "google/gemini-2.5-pro (belief)",
         "line": {
          "color": "#1CA71C",
          "width": 2
         },
         "mode": "lines+markers",
         "name": "google/gemini-2.5-pro ",
         "showlegend": false,
         "type": "scatter",
         "x": {
          "bdata": "AQIDBAUGBwgJCgsM",
          "dtype": "i1"
         },
         "xaxis": "x5",
         "y": {
          "bdata": "AAAAAAD2i0AzMzMzMwKYQJqZmZlZZaBAMzMzMzOkokA2lNdQXm+hQAAAAAAg4p5ATm9605tml0DkOI7jOHabQDMzMzMzNaNAAAAAAAA8pUAAAAAAALKkQAAAAAAAIJxA",
          "dtype": "f8"
         },
         "yaxis": "y5"
        },
        {
         "error_y": {
          "array": {
           "bdata": "jOsRaTmXRECoolGQqXxHQAux9apuB1FA4MbvK57CVUBuZ3VuCMxYQKYJ+FpColtAGNTZ36d7YEAYxDFwtkFjQAzRSCOsuWhAO++7Zi4Va0DMFFq29c5sQPxSCspZtG9AS5bQ7dhwb0BTVhUkWedwQB6kukBQq3FAGkVCGJTQc0CGbSPrWsJ1QCdlz53Q+3ZAbWWKbWJYdkD267IesKl3QA==",
           "dtype": "f8"
          },
          "color": "rgba(0,0,0,0.4)",
          "thickness": 1.5,
          "type": "data",
          "visible": true
         },
         "legendgroup": "deepseek/deepseek-chat (belief)",
         "line": {
          "color": "#2E91E5",
          "width": 2
         },
         "mode": "lines+markers",
         "name": "deepseek/deepseek-chat ",
         "showlegend": false,
         "type": "scatter",
         "x": {
          "bdata": "AQIDBAUGBwgJCgsMDQ4PEBESExQ=",
          "dtype": "i1"
         },
         "xaxis": "x6",
         "y": {
          "bdata": "MzMzMzNph0AAAAAAgEqSQJqZmZmZ8JdAmpmZmZnjnEDNzMzMTG6gQDMzMzPzxqJAAAAAAMDFpECamZmZGeGmQIM0SIM0JKhAU+SzbjDNp0AAAAAAAM+nQA8PDw8PRqlAxMPDw8N0qEAAAAAAAHCrQImIiIiIzalAJUmSJMmNq0CSJEmSJMCtQEmSJEkS/q5AewntJbShr0A7sRM7MWiwQA==",
          "dtype": "f8"
         },
         "yaxis": "y6"
        },
        {
         "error_y": {
          "array": {
           "bdata": "/vqB+bl8R0A07Oly7CJIQKxqatRrxUVAhqK2g0c7TUCFo3aXf/BMQBmHjgU1mlBAMAxeouNHU0BcnkR2hVJUQD5Wo2cPklRAOnZxFVNyVEA5H0lM9GpTQC4Bg+eizlRAU13t80ccVED9fx6aRHxRQM8QeuwsT1RA1V1d6U2eU0BfSA/SYYlUQGFHZGmvIFZA3UhOEumbWkCsQakJQixYQA==",
           "dtype": "f8"
          },
          "color": "rgba(0,0,0,0.4)",
          "thickness": 1.5,
          "type": "data",
          "visible": true
         },
         "legendgroup": "deepseek/deepseek-r1 (belief)",
         "line": {
          "color": "#E15F99",
          "width": 2
         },
         "mode": "lines+markers",
         "name": "deepseek/deepseek-r1 ",
         "showlegend": false,
         "type": "scatter",
         "x": {
          "bdata": "AQIDBAUGBwgJCgsMDQ4PEBESExQ=",
          "dtype": "i1"
         },
         "xaxis": "x6",
         "y": {
          "bdata": "zczMzEzYkEDNzMzMTOWYQGZmZmbmjJ1AzczMzEz0n0AAAAAAgLqgQM3MzMyMfaFAmpmZmVnmoUCamZmZ2WuiQJqZmZlZuqJAMzMzMzP5okAAAAAAwGejQJqZmZkZTqNAZmZmZiZAo0BmZmZmJsuiQJqZmZkZkqJAJ3ZiJ3YOo0Au3/It38yiQDuxEzuxq6JADeU1lNfLokByHMdxnK2iQA==",
          "dtype": "f8"
         },
         "yaxis": "y6"
        },
        {
         "error_y": {
          "array": {
           "bdata": "IzPdasW3QkAK6xrJOKhKQMtG0GJUDkxAxGKp6dTEUEB2x1DH9Z9RQLBySvTpzlJAAgOJEchYV0Cpgif0UchXQB2HM+KV8VtAmPWgKdJwXUB80TKT0VBkQMljzHoQZWdAhmhLN6egZkAGAeJN8aBhQLW1ok8kIWZAQR1ix/z6akBfqKcWw1FpQBKainpdFmxAPTmB94UUdEBDLZpSm1V4QA==",
           "dtype": "f8"
          },
          "color": "rgba(0,0,0,0.4)",
          "thickness": 1.5,
          "type": "data",
          "visible": true
         },
         "legendgroup": "google/gemini-2.5-pro (belief)",
         "line": {
          "color": "#1CA71C",
          "width": 2
         },
         "mode": "lines+markers",
         "name": "google/gemini-2.5-pro ",
         "showlegend": false,
         "type": "scatter",
         "x": {
          "bdata": "AQIDBAUGBwgJCgsMDQ4PEBESExQ=",
          "dtype": "i1"
         },
         "xaxis": "x6",
         "y": {
          "bdata": "MzMzM7NzlkCamZmZmR+fQAAAAACAUaNAmpmZmZnGpkBmZmZmpjSpQDMzMzMz2qpAzczMzExUq0DNzMzMDCasQDuxEzuxyaxAXkN5DeU2rUC0bjBFPuWrQHzvvffeG6xA4XoUrkd/rUCSJEmSJDmvQOh5nud5WKxApqWlpaVjrUBJkiRJkjSvQMVO7MRO9K5AAAAAAIAwqEAAAAAAgIexQA==",
          "dtype": "f8"
         },
         "yaxis": "y6"
        }
       ],
       "layout": {
        "annotations": [
         {
          "font": {
           "size": 16
          },
          "showarrow": false,
          "text": "guess_my_city",
          "x": 0.06944444444444445,
          "xanchor": "center",
          "xref": "paper",
          "y": 1,
          "yanchor": "bottom",
          "yref": "paper"
         },
         {
          "font": {
           "size": 16
          },
          "showarrow": false,
          "text": "wordle",
          "x": 0.24166666666666667,
          "xanchor": "center",
          "xref": "paper",
          "y": 1,
          "yanchor": "bottom",
          "yref": "paper"
         },
         {
          "font": {
           "size": 16
          },
          "showarrow": false,
          "text": "customer_service",
          "x": 0.41388888888888886,
          "xanchor": "center",
          "xref": "paper",
          "y": 1,
          "yanchor": "bottom",
          "yref": "paper"
         },
         {
          "font": {
           "size": 16
          },
          "showarrow": false,
          "text": "twenty_questions",
          "x": 0.5861111111111112,
          "xanchor": "center",
          "xref": "paper",
          "y": 1,
          "yanchor": "bottom",
          "yref": "paper"
         },
         {
          "font": {
           "size": 16
          },
          "showarrow": false,
          "text": "mastermind",
          "x": 0.7583333333333333,
          "xanchor": "center",
          "xref": "paper",
          "y": 1,
          "yanchor": "bottom",
          "yref": "paper"
         },
         {
          "font": {
           "size": 16
          },
          "showarrow": false,
          "text": "murder_mystery",
          "x": 0.9305555555555556,
          "xanchor": "center",
          "xref": "paper",
          "y": 1,
          "yanchor": "bottom",
          "yref": "paper"
         }
        ],
        "font": {
         "family": "Times New Roman, serif",
         "size": 14
        },
        "height": 400,
        "legend": {
         "bgcolor": "rgba(255,255,255,0.9)",
         "bordercolor": "black",
         "borderwidth": 1,
         "orientation": "h",
         "x": 0.5,
         "xanchor": "center",
         "y": 1.1,
         "yanchor": "bottom"
        },
        "paper_bgcolor": "white",
        "plot_bgcolor": "white",
        "template": {
         "data": {
          "bar": [
           {
            "error_x": {
             "color": "#2a3f5f"
            },
            "error_y": {
             "color": "#2a3f5f"
            },
            "marker": {
             "line": {
              "color": "#E5ECF6",
              "width": 0.5
             },
             "pattern": {
              "fillmode": "overlay",
              "size": 10,
              "solidity": 0.2
             }
            },
            "type": "bar"
           }
          ],
          "barpolar": [
           {
            "marker": {
             "line": {
              "color": "#E5ECF6",
              "width": 0.5
             },
             "pattern": {
              "fillmode": "overlay",
              "size": 10,
              "solidity": 0.2
             }
            },
            "type": "barpolar"
           }
          ],
          "carpet": [
           {
            "aaxis": {
             "endlinecolor": "#2a3f5f",
             "gridcolor": "white",
             "linecolor": "white",
             "minorgridcolor": "white",
             "startlinecolor": "#2a3f5f"
            },
            "baxis": {
             "endlinecolor": "#2a3f5f",
             "gridcolor": "white",
             "linecolor": "white",
             "minorgridcolor": "white",
             "startlinecolor": "#2a3f5f"
            },
            "type": "carpet"
           }
          ],
          "choropleth": [
           {
            "colorbar": {
             "outlinewidth": 0,
             "ticks": ""
            },
            "type": "choropleth"
           }
          ],
          "contour": [
           {
            "colorbar": {
             "outlinewidth": 0,
             "ticks": ""
            },
            "colorscale": [
             [
              0,
              "#0d0887"
             ],
             [
              0.1111111111111111,
              "#46039f"
             ],
             [
              0.2222222222222222,
              "#7201a8"
             ],
             [
              0.3333333333333333,
              "#9c179e"
             ],
             [
              0.4444444444444444,
              "#bd3786"
             ],
             [
              0.5555555555555556,
              "#d8576b"
             ],
             [
              0.6666666666666666,
              "#ed7953"
             ],
             [
              0.7777777777777778,
              "#fb9f3a"
             ],
             [
              0.8888888888888888,
              "#fdca26"
             ],
             [
              1,
              "#f0f921"
             ]
            ],
            "type": "contour"
           }
          ],
          "contourcarpet": [
           {
            "colorbar": {
             "outlinewidth": 0,
             "ticks": ""
            },
            "type": "contourcarpet"
           }
          ],
          "heatmap": [
           {
            "colorbar": {
             "outlinewidth": 0,
             "ticks": ""
            },
            "colorscale": [
             [
              0,
              "#0d0887"
             ],
             [
              0.1111111111111111,
              "#46039f"
             ],
             [
              0.2222222222222222,
              "#7201a8"
             ],
             [
              0.3333333333333333,
              "#9c179e"
             ],
             [
              0.4444444444444444,
              "#bd3786"
             ],
             [
              0.5555555555555556,
              "#d8576b"
             ],
             [
              0.6666666666666666,
              "#ed7953"
             ],
             [
              0.7777777777777778,
              "#fb9f3a"
             ],
             [
              0.8888888888888888,
              "#fdca26"
             ],
             [
              1,
              "#f0f921"
             ]
            ],
            "type": "heatmap"
           }
          ],
          "histogram": [
           {
            "marker": {
             "pattern": {
              "fillmode": "overlay",
              "size": 10,
              "solidity": 0.2
             }
            },
            "type": "histogram"
           }
          ],
          "histogram2d": [
           {
            "colorbar": {
             "outlinewidth": 0,
             "ticks": ""
            },
            "colorscale": [
             [
              0,
              "#0d0887"
             ],
             [
              0.1111111111111111,
              "#46039f"
             ],
             [
              0.2222222222222222,
              "#7201a8"
             ],
             [
              0.3333333333333333,
              "#9c179e"
             ],
             [
              0.4444444444444444,
              "#bd3786"
             ],
             [
              0.5555555555555556,
              "#d8576b"
             ],
             [
              0.6666666666666666,
              "#ed7953"
             ],
             [
              0.7777777777777778,
              "#fb9f3a"
             ],
             [
              0.8888888888888888,
              "#fdca26"
             ],
             [
              1,
              "#f0f921"
             ]
            ],
            "type": "histogram2d"
           }
          ],
          "histogram2dcontour": [
           {
            "colorbar": {
             "outlinewidth": 0,
             "ticks": ""
            },
            "colorscale": [
             [
              0,
              "#0d0887"
             ],
             [
              0.1111111111111111,
              "#46039f"
             ],
             [
              0.2222222222222222,
              "#7201a8"
             ],
             [
              0.3333333333333333,
              "#9c179e"
             ],
             [
              0.4444444444444444,
              "#bd3786"
             ],
             [
              0.5555555555555556,
              "#d8576b"
             ],
             [
              0.6666666666666666,
              "#ed7953"
             ],
             [
              0.7777777777777778,
              "#fb9f3a"
             ],
             [
              0.8888888888888888,
              "#fdca26"
             ],
             [
              1,
              "#f0f921"
             ]
            ],
            "type": "histogram2dcontour"
           }
          ],
          "mesh3d": [
           {
            "colorbar": {
             "outlinewidth": 0,
             "ticks": ""
            },
            "type": "mesh3d"
           }
          ],
          "parcoords": [
           {
            "line": {
             "colorbar": {
              "outlinewidth": 0,
              "ticks": ""
             }
            },
            "type": "parcoords"
           }
          ],
          "pie": [
           {
            "automargin": true,
            "type": "pie"
           }
          ],
          "scatter": [
           {
            "fillpattern": {
             "fillmode": "overlay",
             "size": 10,
             "solidity": 0.2
            },
            "type": "scatter"
           }
          ],
          "scatter3d": [
           {
            "line": {
             "colorbar": {
              "outlinewidth": 0,
              "ticks": ""
             }
            },
            "marker": {
             "colorbar": {
              "outlinewidth": 0,
              "ticks": ""
             }
            },
            "type": "scatter3d"
           }
          ],
          "scattercarpet": [
           {
            "marker": {
             "colorbar": {
              "outlinewidth": 0,
              "ticks": ""
             }
            },
            "type": "scattercarpet"
           }
          ],
          "scattergeo": [
           {
            "marker": {
             "colorbar": {
              "outlinewidth": 0,
              "ticks": ""
             }
            },
            "type": "scattergeo"
           }
          ],
          "scattergl": [
           {
            "marker": {
             "colorbar": {
              "outlinewidth": 0,
              "ticks": ""
             }
            },
            "type": "scattergl"
           }
          ],
          "scattermap": [
           {
            "marker": {
             "colorbar": {
              "outlinewidth": 0,
              "ticks": ""
             }
            },
            "type": "scattermap"
           }
          ],
          "scattermapbox": [
           {
            "marker": {
             "colorbar": {
              "outlinewidth": 0,
              "ticks": ""
             }
            },
            "type": "scattermapbox"
           }
          ],
          "scatterpolar": [
           {
            "marker": {
             "colorbar": {
              "outlinewidth": 0,
              "ticks": ""
             }
            },
            "type": "scatterpolar"
           }
          ],
          "scatterpolargl": [
           {
            "marker": {
             "colorbar": {
              "outlinewidth": 0,
              "ticks": ""
             }
            },
            "type": "scatterpolargl"
           }
          ],
          "scatterternary": [
           {
            "marker": {
             "colorbar": {
              "outlinewidth": 0,
              "ticks": ""
             }
            },
            "type": "scatterternary"
           }
          ],
          "surface": [
           {
            "colorbar": {
             "outlinewidth": 0,
             "ticks": ""
            },
            "colorscale": [
             [
              0,
              "#0d0887"
             ],
             [
              0.1111111111111111,
              "#46039f"
             ],
             [
              0.2222222222222222,
              "#7201a8"
             ],
             [
              0.3333333333333333,
              "#9c179e"
             ],
             [
              0.4444444444444444,
              "#bd3786"
             ],
             [
              0.5555555555555556,
              "#d8576b"
             ],
             [
              0.6666666666666666,
              "#ed7953"
             ],
             [
              0.7777777777777778,
              "#fb9f3a"
             ],
             [
              0.8888888888888888,
              "#fdca26"
             ],
             [
              1,
              "#f0f921"
             ]
            ],
            "type": "surface"
           }
          ],
          "table": [
           {
            "cells": {
             "fill": {
              "color": "#EBF0F8"
             },
             "line": {
              "color": "white"
             }
            },
            "header": {
             "fill": {
              "color": "#C8D4E3"
             },
             "line": {
              "color": "white"
             }
            },
            "type": "table"
           }
          ]
         },
         "layout": {
          "annotationdefaults": {
           "arrowcolor": "#2a3f5f",
           "arrowhead": 0,
           "arrowwidth": 1
          },
          "autotypenumbers": "strict",
          "coloraxis": {
           "colorbar": {
            "outlinewidth": 0,
            "ticks": ""
           }
          },
          "colorscale": {
           "diverging": [
            [
             0,
             "#8e0152"
            ],
            [
             0.1,
             "#c51b7d"
            ],
            [
             0.2,
             "#de77ae"
            ],
            [
             0.3,
             "#f1b6da"
            ],
            [
             0.4,
             "#fde0ef"
            ],
            [
             0.5,
             "#f7f7f7"
            ],
            [
             0.6,
             "#e6f5d0"
            ],
            [
             0.7,
             "#b8e186"
            ],
            [
             0.8,
             "#7fbc41"
            ],
            [
             0.9,
             "#4d9221"
            ],
            [
             1,
             "#276419"
            ]
           ],
           "sequential": [
            [
             0,
             "#0d0887"
            ],
            [
             0.1111111111111111,
             "#46039f"
            ],
            [
             0.2222222222222222,
             "#7201a8"
            ],
            [
             0.3333333333333333,
             "#9c179e"
            ],
            [
             0.4444444444444444,
             "#bd3786"
            ],
            [
             0.5555555555555556,
             "#d8576b"
            ],
            [
             0.6666666666666666,
             "#ed7953"
            ],
            [
             0.7777777777777778,
             "#fb9f3a"
            ],
            [
             0.8888888888888888,
             "#fdca26"
            ],
            [
             1,
             "#f0f921"
            ]
           ],
           "sequentialminus": [
            [
             0,
             "#0d0887"
            ],
            [
             0.1111111111111111,
             "#46039f"
            ],
            [
             0.2222222222222222,
             "#7201a8"
            ],
            [
             0.3333333333333333,
             "#9c179e"
            ],
            [
             0.4444444444444444,
             "#bd3786"
            ],
            [
             0.5555555555555556,
             "#d8576b"
            ],
            [
             0.6666666666666666,
             "#ed7953"
            ],
            [
             0.7777777777777778,
             "#fb9f3a"
            ],
            [
             0.8888888888888888,
             "#fdca26"
            ],
            [
             1,
             "#f0f921"
            ]
           ]
          },
          "colorway": [
           "#636efa",
           "#EF553B",
           "#00cc96",
           "#ab63fa",
           "#FFA15A",
           "#19d3f3",
           "#FF6692",
           "#B6E880",
           "#FF97FF",
           "#FECB52"
          ],
          "font": {
           "color": "#2a3f5f"
          },
          "geo": {
           "bgcolor": "white",
           "lakecolor": "white",
           "landcolor": "#E5ECF6",
           "showlakes": true,
           "showland": true,
           "subunitcolor": "white"
          },
          "hoverlabel": {
           "align": "left"
          },
          "hovermode": "closest",
          "mapbox": {
           "style": "light"
          },
          "paper_bgcolor": "white",
          "plot_bgcolor": "#E5ECF6",
          "polar": {
           "angularaxis": {
            "gridcolor": "white",
            "linecolor": "white",
            "ticks": ""
           },
           "bgcolor": "#E5ECF6",
           "radialaxis": {
            "gridcolor": "white",
            "linecolor": "white",
            "ticks": ""
           }
          },
          "scene": {
           "xaxis": {
            "backgroundcolor": "#E5ECF6",
            "gridcolor": "white",
            "gridwidth": 2,
            "linecolor": "white",
            "showbackground": true,
            "ticks": "",
            "zerolinecolor": "white"
           },
           "yaxis": {
            "backgroundcolor": "#E5ECF6",
            "gridcolor": "white",
            "gridwidth": 2,
            "linecolor": "white",
            "showbackground": true,
            "ticks": "",
            "zerolinecolor": "white"
           },
           "zaxis": {
            "backgroundcolor": "#E5ECF6",
            "gridcolor": "white",
            "gridwidth": 2,
            "linecolor": "white",
            "showbackground": true,
            "ticks": "",
            "zerolinecolor": "white"
           }
          },
          "shapedefaults": {
           "line": {
            "color": "#2a3f5f"
           }
          },
          "ternary": {
           "aaxis": {
            "gridcolor": "white",
            "linecolor": "white",
            "ticks": ""
           },
           "baxis": {
            "gridcolor": "white",
            "linecolor": "white",
            "ticks": ""
           },
           "bgcolor": "#E5ECF6",
           "caxis": {
            "gridcolor": "white",
            "linecolor": "white",
            "ticks": ""
           }
          },
          "title": {
           "x": 0.05
          },
          "xaxis": {
           "automargin": true,
           "gridcolor": "white",
           "linecolor": "white",
           "ticks": "",
           "title": {
            "standoff": 15
           },
           "zerolinecolor": "white",
           "zerolinewidth": 2
          },
          "yaxis": {
           "automargin": true,
           "gridcolor": "white",
           "linecolor": "white",
           "ticks": "",
           "title": {
            "standoff": 15
           },
           "zerolinecolor": "white",
           "zerolinewidth": 2
          }
         }
        },
        "width": 1200,
        "xaxis": {
         "anchor": "y",
         "color": "black",
         "domain": [
          0,
          0.1388888888888889
         ],
         "linecolor": "black",
         "linewidth": 1,
         "showgrid": false,
         "showline": true,
         "title": {
          "text": "Step"
         }
        },
        "xaxis2": {
         "anchor": "y2",
         "color": "black",
         "domain": [
          0.17222222222222222,
          0.3111111111111111
         ],
         "linecolor": "black",
         "linewidth": 1,
         "showgrid": false,
         "showline": true,
         "title": {
          "text": "Step"
         }
        },
        "xaxis3": {
         "anchor": "y3",
         "color": "black",
         "domain": [
          0.34444444444444444,
          0.48333333333333334
         ],
         "linecolor": "black",
         "linewidth": 1,
         "showgrid": false,
         "showline": true,
         "title": {
          "text": "Step"
         }
        },
        "xaxis4": {
         "anchor": "y4",
         "color": "black",
         "domain": [
          0.5166666666666667,
          0.6555555555555557
         ],
         "linecolor": "black",
         "linewidth": 1,
         "showgrid": false,
         "showline": true,
         "title": {
          "text": "Step"
         }
        },
        "xaxis5": {
         "anchor": "y5",
         "color": "black",
         "domain": [
          0.6888888888888889,
          0.8277777777777777
         ],
         "linecolor": "black",
         "linewidth": 1,
         "showgrid": false,
         "showline": true,
         "title": {
          "text": "Step"
         }
        },
        "xaxis6": {
         "anchor": "y6",
         "color": "black",
         "domain": [
          0.861111111111111,
          1
         ],
         "linecolor": "black",
         "linewidth": 1,
         "showgrid": false,
         "showline": true,
         "title": {
          "text": "Step"
         }
        },
        "yaxis": {
         "anchor": "x",
         "domain": [
          0,
          1
         ],
         "gridcolor": "lightgray",
         "linecolor": "black",
         "linewidth": 1,
         "showgrid": true,
         "showline": true,
         "tickfont": {
          "color": "black"
         },
         "title": {
          "text": "Avg. belief length (chars)"
         }
        },
        "yaxis2": {
         "anchor": "x2",
         "domain": [
          0,
          1
         ],
         "gridcolor": "lightgray",
         "linecolor": "black",
         "linewidth": 1,
         "showgrid": true,
         "showline": true,
         "tickfont": {
          "color": "black"
         }
        },
        "yaxis3": {
         "anchor": "x3",
         "domain": [
          0,
          1
         ],
         "gridcolor": "lightgray",
         "linecolor": "black",
         "linewidth": 1,
         "showgrid": true,
         "showline": true,
         "tickfont": {
          "color": "black"
         }
        },
        "yaxis4": {
         "anchor": "x4",
         "domain": [
          0,
          1
         ],
         "gridcolor": "lightgray",
         "linecolor": "black",
         "linewidth": 1,
         "showgrid": true,
         "showline": true,
         "tickfont": {
          "color": "black"
         }
        },
        "yaxis5": {
         "anchor": "x5",
         "domain": [
          0,
          1
         ],
         "gridcolor": "lightgray",
         "linecolor": "black",
         "linewidth": 1,
         "showgrid": true,
         "showline": true,
         "tickfont": {
          "color": "black"
         }
        },
        "yaxis6": {
         "anchor": "x6",
         "domain": [
          0,
          1
         ],
         "gridcolor": "lightgray",
         "linecolor": "black",
         "linewidth": 1,
         "showgrid": true,
         "showline": true,
         "tickfont": {
          "color": "black"
         }
        }
       }
      }
     },
     "metadata": {},
     "output_type": "display_data"
    }
   ],
   "source": [
    "fig.show()"
   ]
  },
  {
   "cell_type": "markdown",
   "id": "d3d7b5bb",
   "metadata": {},
   "source": [
    "## 4. Greediness Metrics"
   ]
  },
  {
   "cell_type": "code",
   "execution_count": 21,
   "id": "90539d27",
   "metadata": {},
   "outputs": [],
   "source": [
    "df_mastermind = df[df['env'] == 'mastermind']"
   ]
  },
  {
   "cell_type": "code",
   "execution_count": 22,
   "id": "529d847a",
   "metadata": {},
   "outputs": [
    {
     "name": "stdout",
     "output_type": "stream",
     "text": [
      "    game_id  attempt                        model_info    guess\n",
      "102       0        1  deepseek/deepseek-chat (history)  1 2 3 4\n",
      "103       0        2  deepseek/deepseek-chat (history)  5 6 7 8\n"
     ]
    }
   ],
   "source": [
    "print(df_mastermind[['game_id', 'attempt', 'model_info', 'guess']].head(2))"
   ]
  },
  {
   "cell_type": "code",
   "execution_count": 23,
   "id": "3e3856f0",
   "metadata": {},
   "outputs": [],
   "source": [
    "import plotly.graph_objects as go\n",
    "import pandas as pd\n",
    "import numpy as np\n",
    "\n",
    "def plot_greediness(df):\n",
    "    \"\"\"\n",
    "    Create a bar chart showing greediness for each model.\n",
    "    \n",
    "    Greediness is defined as the fraction of times a model repeats\n",
    "    a particular guess at a particular position across games.\n",
    "    \n",
    "    Parameters:\n",
    "    df (pd.DataFrame): DataFrame with columns 'game_id', 'attempt', 'model_info', 'guess'\n",
    "    \n",
    "    Returns:\n",
    "    plotly.graph_objects.Figure: Bar chart figure\n",
    "    \"\"\"\n",
    "    \n",
    "    # Fixed colors for different models\n",
    "    colors = [\n",
    "        \"#ADD8E6\",  # light blue\n",
    "        \"#4682B4\",  # medium blue\n",
    "        \"#003366\",  # dark blue\n",
    "        \"#FFB6C1\",  # light red\n",
    "        \"#FF6347\",  # medium red\n",
    "        \"#8B0000\",  # dark red\n",
    "        \"#90EE90\",  # light green\n",
    "        \"#32CD32\",  # medium green\n",
    "        \"#006400\",  # dark green\n",
    "    ]\n",
    "    \n",
    "    greediness_results = []\n",
    "    \n",
    "    # Group by model_info\n",
    "    for model_idx, (model, model_data) in enumerate(df.groupby('model_info')):\n",
    "        # Group by game_id to get sequences of guesses\n",
    "        game_sequences = []\n",
    "        for game_id, game_data in model_data.groupby('game_id'):\n",
    "            # Sort by attempt to get the correct sequence\n",
    "            sequence = game_data.sort_values('attempt')['guess'].tolist()\n",
    "            game_sequences.append(sequence)\n",
    "        \n",
    "        # Calculate greediness for each game separately to get variance\n",
    "        game_greediness_values = []\n",
    "        \n",
    "        # For each game, calculate its greediness\n",
    "        for seq in game_sequences:\n",
    "            game_total_greediness = 0\n",
    "            game_total_positions = 0\n",
    "            \n",
    "            # For each position in this game's sequence\n",
    "            for pos in range(len(seq)):\n",
    "                # Get all guesses at this position across ALL games for comparison\n",
    "                guesses_at_position = []\n",
    "                for other_seq in game_sequences:\n",
    "                    if pos < len(other_seq):\n",
    "                        guesses_at_position.append(other_seq[pos])\n",
    "                \n",
    "                if len(guesses_at_position) > 1:\n",
    "                    # Count repeats\n",
    "                    unique_guesses = len(set(guesses_at_position))\n",
    "                    total_guesses = len(guesses_at_position)\n",
    "                    \n",
    "                    # Greediness = 1 - (unique_guesses / total_guesses)\n",
    "                    position_greediness = 1 - (unique_guesses / total_guesses)\n",
    "                    \n",
    "                    game_total_greediness += position_greediness\n",
    "                    game_total_positions += 1\n",
    "            \n",
    "            # Average greediness for this game\n",
    "            if game_total_positions > 0:\n",
    "                game_avg_greediness = (game_total_greediness / game_total_positions * 100)\n",
    "                game_greediness_values.append(game_avg_greediness)\n",
    "        \n",
    "        # Calculate mean and standard error\n",
    "        if game_greediness_values:\n",
    "            avg_greediness = np.mean(game_greediness_values)\n",
    "            std_error = np.std(game_greediness_values, ddof=1) / np.sqrt(len(game_greediness_values)) if len(game_greediness_values) > 1 else 0\n",
    "        else:\n",
    "            avg_greediness = 0\n",
    "            std_error = 0\n",
    "        \n",
    "        greediness_results.append({\n",
    "            'model': model,\n",
    "            'greediness': avg_greediness,\n",
    "            'std_error': std_error,\n",
    "            'color': colors[model_idx % len(colors)]\n",
    "        })\n",
    "\n",
    "    desired_order = [0, 2, 1, 3, 5, 4, 6, 8, 7]\n",
    "    greediness_results = [greediness_results[i] for i in desired_order]\n",
    "    \n",
    "    # Create the bar chart\n",
    "    fig = go.Figure()\n",
    "    \n",
    "    # Add bars\n",
    "    models = [result['model'] for result in greediness_results]\n",
    "    greediness_values = [result['greediness'] for result in greediness_results]\n",
    "    error_values = [result['std_error'] for result in greediness_results]\n",
    "    bar_colors = [result['color'] for result in greediness_results]\n",
    "    \n",
    "    fig.add_trace(go.Bar(\n",
    "        x=models,\n",
    "        y=greediness_values,\n",
    "        error_y=dict(\n",
    "            type='data',\n",
    "            array=error_values,\n",
    "            visible=True,\n",
    "            color='black',\n",
    "            thickness=1.5,\n",
    "            width=3\n",
    "        ),\n",
    "        marker_color=bar_colors,\n",
    "        marker_line_color='black',\n",
    "        marker_line_width=1,\n",
    "        width=0.6\n",
    "    ))\n",
    "    \n",
    "    # Update layout for professional appearance\n",
    "    fig.update_layout(\n",
    "        title={\n",
    "            'text': '',\n",
    "            'x': 0.5,\n",
    "            'font': {'family': 'Computer Modern, serif', 'size': 16}\n",
    "        },\n",
    "        xaxis={\n",
    "            'title': 'Model + Info (Mastermind)',\n",
    "            'title_font': {'family': 'Computer Modern, serif', 'size': 14},\n",
    "            'tickfont': {'family': 'Computer Modern, serif', 'size': 14},\n",
    "            'showgrid': False,\n",
    "            'showline': True,\n",
    "            'linewidth': 1,\n",
    "            'linecolor': 'black',\n",
    "            'mirror': True\n",
    "        },\n",
    "        yaxis={\n",
    "            'title': 'Greediness (% of repeats)',\n",
    "            'title_font': {'family': 'Computer Modern, serif', 'size': 14},\n",
    "            'tickfont': {'family': 'Computer Modern, serif', 'size': 14},\n",
    "            'showgrid': False,\n",
    "            'showline': True,\n",
    "            'linewidth': 1,\n",
    "            'linecolor': 'black',\n",
    "            'mirror': True,\n",
    "            'range': [0, max([g + e for g, e in zip(greediness_values, error_values)]) * 1.1 if greediness_values else 100]\n",
    "        },\n",
    "        plot_bgcolor='white',\n",
    "        paper_bgcolor='white',\n",
    "        font={'family': 'Computer Modern, serif'},\n",
    "        width=800,\n",
    "        height=500,\n",
    "        margin=dict(l=80, r=50, t=80, b=80)\n",
    "    )\n",
    "    \n",
    "    # Add grid lines manually for a cleaner look\n",
    "    fig.update_yaxes(showgrid=True, gridwidth=0.5, gridcolor='lightgray')\n",
    "    \n",
    "    return fig"
   ]
  },
  {
   "cell_type": "code",
   "execution_count": 24,
   "id": "2b98a054",
   "metadata": {},
   "outputs": [],
   "source": [
    "models_list = [\n",
    "    'deepseek/deepseek-chat (belief)',\n",
    "    'deepseek/deepseek-chat (history)',\n",
    "    'deepseek/deepseek-chat (both)',\n",
    "    'deepseek/deepseek-r1 (belief)'\n",
    "    'deepseek/deepseek-r1 (history)',\n",
    "    'deepseek/deepseek-r1 (both)',\n",
    "    'google/gemini-2.5-pro (belief)',\n",
    "    'google/gemini-2.5-pro (history)',\n",
    "    'google/gemini-2.5-pro (both)',\n",
    "    ]\n",
    "\n",
    "fig = plot_greediness(df_mastermind)"
   ]
  },
  {
   "cell_type": "code",
   "execution_count": 25,
   "id": "1635dd9e",
   "metadata": {},
   "outputs": [
    {
     "data": {
      "application/vnd.plotly.v1+json": {
       "config": {
        "plotlyServerURL": "https://plot.ly"
       },
       "data": [
        {
         "error_y": {
          "array": [
           0,
           0.10190278046322825,
           0.17927137831898227,
           0.726319068537145,
           0.5408118931841324,
           0.7127611056597102,
           1.105560111771279,
           1.1108371075328574,
           0.9932638026341263
          ],
          "color": "black",
          "thickness": 1.5,
          "type": "data",
          "visible": true,
          "width": 3
         },
         "marker": {
          "color": [
           "#ADD8E6",
           "#003366",
           "#4682B4",
           "#FFB6C1",
           "#8B0000",
           "#FF6347",
           "#90EE90",
           "#006400",
           "#32CD32"
          ],
          "line": {
           "color": "black",
           "width": 1
          }
         },
         "type": "bar",
         "width": 0.6,
         "x": [
          "deepseek/deepseek-chat (belief)",
          "deepseek/deepseek-chat (history)",
          "deepseek/deepseek-chat (both)",
          "deepseek/deepseek-r1 (belief)",
          "deepseek/deepseek-r1 (history)",
          "deepseek/deepseek-r1 (both)",
          "google/gemini-2.5-pro (belief)",
          "google/gemini-2.5-pro (history)",
          "google/gemini-2.5-pro (both)"
         ],
         "y": [
          11.874999999999998,
          12.000946969696969,
          14.4109375,
          13.07123758594347,
          11.614917027417027,
          12.707690746753247,
          29.010416666666664,
          24.02854437229437,
          29.625297619047622
         ]
        }
       ],
       "layout": {
        "font": {
         "family": "Computer Modern, serif"
        },
        "height": 500,
        "margin": {
         "b": 80,
         "l": 80,
         "r": 50,
         "t": 80
        },
        "paper_bgcolor": "white",
        "plot_bgcolor": "white",
        "template": {
         "data": {
          "bar": [
           {
            "error_x": {
             "color": "#2a3f5f"
            },
            "error_y": {
             "color": "#2a3f5f"
            },
            "marker": {
             "line": {
              "color": "#E5ECF6",
              "width": 0.5
             },
             "pattern": {
              "fillmode": "overlay",
              "size": 10,
              "solidity": 0.2
             }
            },
            "type": "bar"
           }
          ],
          "barpolar": [
           {
            "marker": {
             "line": {
              "color": "#E5ECF6",
              "width": 0.5
             },
             "pattern": {
              "fillmode": "overlay",
              "size": 10,
              "solidity": 0.2
             }
            },
            "type": "barpolar"
           }
          ],
          "carpet": [
           {
            "aaxis": {
             "endlinecolor": "#2a3f5f",
             "gridcolor": "white",
             "linecolor": "white",
             "minorgridcolor": "white",
             "startlinecolor": "#2a3f5f"
            },
            "baxis": {
             "endlinecolor": "#2a3f5f",
             "gridcolor": "white",
             "linecolor": "white",
             "minorgridcolor": "white",
             "startlinecolor": "#2a3f5f"
            },
            "type": "carpet"
           }
          ],
          "choropleth": [
           {
            "colorbar": {
             "outlinewidth": 0,
             "ticks": ""
            },
            "type": "choropleth"
           }
          ],
          "contour": [
           {
            "colorbar": {
             "outlinewidth": 0,
             "ticks": ""
            },
            "colorscale": [
             [
              0,
              "#0d0887"
             ],
             [
              0.1111111111111111,
              "#46039f"
             ],
             [
              0.2222222222222222,
              "#7201a8"
             ],
             [
              0.3333333333333333,
              "#9c179e"
             ],
             [
              0.4444444444444444,
              "#bd3786"
             ],
             [
              0.5555555555555556,
              "#d8576b"
             ],
             [
              0.6666666666666666,
              "#ed7953"
             ],
             [
              0.7777777777777778,
              "#fb9f3a"
             ],
             [
              0.8888888888888888,
              "#fdca26"
             ],
             [
              1,
              "#f0f921"
             ]
            ],
            "type": "contour"
           }
          ],
          "contourcarpet": [
           {
            "colorbar": {
             "outlinewidth": 0,
             "ticks": ""
            },
            "type": "contourcarpet"
           }
          ],
          "heatmap": [
           {
            "colorbar": {
             "outlinewidth": 0,
             "ticks": ""
            },
            "colorscale": [
             [
              0,
              "#0d0887"
             ],
             [
              0.1111111111111111,
              "#46039f"
             ],
             [
              0.2222222222222222,
              "#7201a8"
             ],
             [
              0.3333333333333333,
              "#9c179e"
             ],
             [
              0.4444444444444444,
              "#bd3786"
             ],
             [
              0.5555555555555556,
              "#d8576b"
             ],
             [
              0.6666666666666666,
              "#ed7953"
             ],
             [
              0.7777777777777778,
              "#fb9f3a"
             ],
             [
              0.8888888888888888,
              "#fdca26"
             ],
             [
              1,
              "#f0f921"
             ]
            ],
            "type": "heatmap"
           }
          ],
          "histogram": [
           {
            "marker": {
             "pattern": {
              "fillmode": "overlay",
              "size": 10,
              "solidity": 0.2
             }
            },
            "type": "histogram"
           }
          ],
          "histogram2d": [
           {
            "colorbar": {
             "outlinewidth": 0,
             "ticks": ""
            },
            "colorscale": [
             [
              0,
              "#0d0887"
             ],
             [
              0.1111111111111111,
              "#46039f"
             ],
             [
              0.2222222222222222,
              "#7201a8"
             ],
             [
              0.3333333333333333,
              "#9c179e"
             ],
             [
              0.4444444444444444,
              "#bd3786"
             ],
             [
              0.5555555555555556,
              "#d8576b"
             ],
             [
              0.6666666666666666,
              "#ed7953"
             ],
             [
              0.7777777777777778,
              "#fb9f3a"
             ],
             [
              0.8888888888888888,
              "#fdca26"
             ],
             [
              1,
              "#f0f921"
             ]
            ],
            "type": "histogram2d"
           }
          ],
          "histogram2dcontour": [
           {
            "colorbar": {
             "outlinewidth": 0,
             "ticks": ""
            },
            "colorscale": [
             [
              0,
              "#0d0887"
             ],
             [
              0.1111111111111111,
              "#46039f"
             ],
             [
              0.2222222222222222,
              "#7201a8"
             ],
             [
              0.3333333333333333,
              "#9c179e"
             ],
             [
              0.4444444444444444,
              "#bd3786"
             ],
             [
              0.5555555555555556,
              "#d8576b"
             ],
             [
              0.6666666666666666,
              "#ed7953"
             ],
             [
              0.7777777777777778,
              "#fb9f3a"
             ],
             [
              0.8888888888888888,
              "#fdca26"
             ],
             [
              1,
              "#f0f921"
             ]
            ],
            "type": "histogram2dcontour"
           }
          ],
          "mesh3d": [
           {
            "colorbar": {
             "outlinewidth": 0,
             "ticks": ""
            },
            "type": "mesh3d"
           }
          ],
          "parcoords": [
           {
            "line": {
             "colorbar": {
              "outlinewidth": 0,
              "ticks": ""
             }
            },
            "type": "parcoords"
           }
          ],
          "pie": [
           {
            "automargin": true,
            "type": "pie"
           }
          ],
          "scatter": [
           {
            "fillpattern": {
             "fillmode": "overlay",
             "size": 10,
             "solidity": 0.2
            },
            "type": "scatter"
           }
          ],
          "scatter3d": [
           {
            "line": {
             "colorbar": {
              "outlinewidth": 0,
              "ticks": ""
             }
            },
            "marker": {
             "colorbar": {
              "outlinewidth": 0,
              "ticks": ""
             }
            },
            "type": "scatter3d"
           }
          ],
          "scattercarpet": [
           {
            "marker": {
             "colorbar": {
              "outlinewidth": 0,
              "ticks": ""
             }
            },
            "type": "scattercarpet"
           }
          ],
          "scattergeo": [
           {
            "marker": {
             "colorbar": {
              "outlinewidth": 0,
              "ticks": ""
             }
            },
            "type": "scattergeo"
           }
          ],
          "scattergl": [
           {
            "marker": {
             "colorbar": {
              "outlinewidth": 0,
              "ticks": ""
             }
            },
            "type": "scattergl"
           }
          ],
          "scattermap": [
           {
            "marker": {
             "colorbar": {
              "outlinewidth": 0,
              "ticks": ""
             }
            },
            "type": "scattermap"
           }
          ],
          "scattermapbox": [
           {
            "marker": {
             "colorbar": {
              "outlinewidth": 0,
              "ticks": ""
             }
            },
            "type": "scattermapbox"
           }
          ],
          "scatterpolar": [
           {
            "marker": {
             "colorbar": {
              "outlinewidth": 0,
              "ticks": ""
             }
            },
            "type": "scatterpolar"
           }
          ],
          "scatterpolargl": [
           {
            "marker": {
             "colorbar": {
              "outlinewidth": 0,
              "ticks": ""
             }
            },
            "type": "scatterpolargl"
           }
          ],
          "scatterternary": [
           {
            "marker": {
             "colorbar": {
              "outlinewidth": 0,
              "ticks": ""
             }
            },
            "type": "scatterternary"
           }
          ],
          "surface": [
           {
            "colorbar": {
             "outlinewidth": 0,
             "ticks": ""
            },
            "colorscale": [
             [
              0,
              "#0d0887"
             ],
             [
              0.1111111111111111,
              "#46039f"
             ],
             [
              0.2222222222222222,
              "#7201a8"
             ],
             [
              0.3333333333333333,
              "#9c179e"
             ],
             [
              0.4444444444444444,
              "#bd3786"
             ],
             [
              0.5555555555555556,
              "#d8576b"
             ],
             [
              0.6666666666666666,
              "#ed7953"
             ],
             [
              0.7777777777777778,
              "#fb9f3a"
             ],
             [
              0.8888888888888888,
              "#fdca26"
             ],
             [
              1,
              "#f0f921"
             ]
            ],
            "type": "surface"
           }
          ],
          "table": [
           {
            "cells": {
             "fill": {
              "color": "#EBF0F8"
             },
             "line": {
              "color": "white"
             }
            },
            "header": {
             "fill": {
              "color": "#C8D4E3"
             },
             "line": {
              "color": "white"
             }
            },
            "type": "table"
           }
          ]
         },
         "layout": {
          "annotationdefaults": {
           "arrowcolor": "#2a3f5f",
           "arrowhead": 0,
           "arrowwidth": 1
          },
          "autotypenumbers": "strict",
          "coloraxis": {
           "colorbar": {
            "outlinewidth": 0,
            "ticks": ""
           }
          },
          "colorscale": {
           "diverging": [
            [
             0,
             "#8e0152"
            ],
            [
             0.1,
             "#c51b7d"
            ],
            [
             0.2,
             "#de77ae"
            ],
            [
             0.3,
             "#f1b6da"
            ],
            [
             0.4,
             "#fde0ef"
            ],
            [
             0.5,
             "#f7f7f7"
            ],
            [
             0.6,
             "#e6f5d0"
            ],
            [
             0.7,
             "#b8e186"
            ],
            [
             0.8,
             "#7fbc41"
            ],
            [
             0.9,
             "#4d9221"
            ],
            [
             1,
             "#276419"
            ]
           ],
           "sequential": [
            [
             0,
             "#0d0887"
            ],
            [
             0.1111111111111111,
             "#46039f"
            ],
            [
             0.2222222222222222,
             "#7201a8"
            ],
            [
             0.3333333333333333,
             "#9c179e"
            ],
            [
             0.4444444444444444,
             "#bd3786"
            ],
            [
             0.5555555555555556,
             "#d8576b"
            ],
            [
             0.6666666666666666,
             "#ed7953"
            ],
            [
             0.7777777777777778,
             "#fb9f3a"
            ],
            [
             0.8888888888888888,
             "#fdca26"
            ],
            [
             1,
             "#f0f921"
            ]
           ],
           "sequentialminus": [
            [
             0,
             "#0d0887"
            ],
            [
             0.1111111111111111,
             "#46039f"
            ],
            [
             0.2222222222222222,
             "#7201a8"
            ],
            [
             0.3333333333333333,
             "#9c179e"
            ],
            [
             0.4444444444444444,
             "#bd3786"
            ],
            [
             0.5555555555555556,
             "#d8576b"
            ],
            [
             0.6666666666666666,
             "#ed7953"
            ],
            [
             0.7777777777777778,
             "#fb9f3a"
            ],
            [
             0.8888888888888888,
             "#fdca26"
            ],
            [
             1,
             "#f0f921"
            ]
           ]
          },
          "colorway": [
           "#636efa",
           "#EF553B",
           "#00cc96",
           "#ab63fa",
           "#FFA15A",
           "#19d3f3",
           "#FF6692",
           "#B6E880",
           "#FF97FF",
           "#FECB52"
          ],
          "font": {
           "color": "#2a3f5f"
          },
          "geo": {
           "bgcolor": "white",
           "lakecolor": "white",
           "landcolor": "#E5ECF6",
           "showlakes": true,
           "showland": true,
           "subunitcolor": "white"
          },
          "hoverlabel": {
           "align": "left"
          },
          "hovermode": "closest",
          "mapbox": {
           "style": "light"
          },
          "paper_bgcolor": "white",
          "plot_bgcolor": "#E5ECF6",
          "polar": {
           "angularaxis": {
            "gridcolor": "white",
            "linecolor": "white",
            "ticks": ""
           },
           "bgcolor": "#E5ECF6",
           "radialaxis": {
            "gridcolor": "white",
            "linecolor": "white",
            "ticks": ""
           }
          },
          "scene": {
           "xaxis": {
            "backgroundcolor": "#E5ECF6",
            "gridcolor": "white",
            "gridwidth": 2,
            "linecolor": "white",
            "showbackground": true,
            "ticks": "",
            "zerolinecolor": "white"
           },
           "yaxis": {
            "backgroundcolor": "#E5ECF6",
            "gridcolor": "white",
            "gridwidth": 2,
            "linecolor": "white",
            "showbackground": true,
            "ticks": "",
            "zerolinecolor": "white"
           },
           "zaxis": {
            "backgroundcolor": "#E5ECF6",
            "gridcolor": "white",
            "gridwidth": 2,
            "linecolor": "white",
            "showbackground": true,
            "ticks": "",
            "zerolinecolor": "white"
           }
          },
          "shapedefaults": {
           "line": {
            "color": "#2a3f5f"
           }
          },
          "ternary": {
           "aaxis": {
            "gridcolor": "white",
            "linecolor": "white",
            "ticks": ""
           },
           "baxis": {
            "gridcolor": "white",
            "linecolor": "white",
            "ticks": ""
           },
           "bgcolor": "#E5ECF6",
           "caxis": {
            "gridcolor": "white",
            "linecolor": "white",
            "ticks": ""
           }
          },
          "title": {
           "x": 0.05
          },
          "xaxis": {
           "automargin": true,
           "gridcolor": "white",
           "linecolor": "white",
           "ticks": "",
           "title": {
            "standoff": 15
           },
           "zerolinecolor": "white",
           "zerolinewidth": 2
          },
          "yaxis": {
           "automargin": true,
           "gridcolor": "white",
           "linecolor": "white",
           "ticks": "",
           "title": {
            "standoff": 15
           },
           "zerolinecolor": "white",
           "zerolinewidth": 2
          }
         }
        },
        "title": {
         "font": {
          "family": "Computer Modern, serif",
          "size": 16
         },
         "text": "",
         "x": 0.5
        },
        "width": 800,
        "xaxis": {
         "linecolor": "black",
         "linewidth": 1,
         "mirror": true,
         "showgrid": false,
         "showline": true,
         "tickfont": {
          "family": "Computer Modern, serif",
          "size": 14
         },
         "title": {
          "font": {
           "family": "Computer Modern, serif",
           "size": 14
          },
          "text": "Model + Info (Mastermind)"
         }
        },
        "yaxis": {
         "gridcolor": "lightgray",
         "gridwidth": 0.5,
         "linecolor": "black",
         "linewidth": 1,
         "mirror": true,
         "range": [
          0,
          33.68041756384992
         ],
         "showgrid": true,
         "showline": true,
         "tickfont": {
          "family": "Computer Modern, serif",
          "size": 14
         },
         "title": {
          "font": {
           "family": "Computer Modern, serif",
           "size": 14
          },
          "text": "Greediness (% of repeats)"
         }
        }
       }
      }
     },
     "metadata": {},
     "output_type": "display_data"
    }
   ],
   "source": [
    "fig.show()"
   ]
  },
  {
   "cell_type": "code",
   "execution_count": 26,
   "id": "fb5f3138",
   "metadata": {},
   "outputs": [
    {
     "data": {
      "text/plain": [
       "['deepseek/deepseek-chat (history)',\n",
       " 'deepseek/deepseek-chat (both)',\n",
       " 'google/gemini-2.5-pro (history)',\n",
       " 'deepseek/deepseek-chat (belief)',\n",
       " 'deepseek/deepseek-r1 (history)',\n",
       " 'google/gemini-2.5-pro (belief)',\n",
       " 'google/gemini-2.5-pro (both)',\n",
       " 'deepseek/deepseek-r1 (both)',\n",
       " 'deepseek/deepseek-r1 (belief)']"
      ]
     },
     "execution_count": 26,
     "metadata": {},
     "output_type": "execute_result"
    }
   ],
   "source": [
    "list(df.model_info.unique())"
   ]
  },
  {
   "cell_type": "markdown",
   "id": "1547afe2",
   "metadata": {},
   "source": [
    "## 5. Sizes of Reasoning Traces"
   ]
  },
  {
   "cell_type": "code",
   "execution_count": 51,
   "id": "6d33171d",
   "metadata": {},
   "outputs": [],
   "source": [
    "# df_reasoning = df[(~df['model'].str.contains('deepseek/deepseek-chat')) & (df['info'] == 'belief')]\n",
    "df_reasoning = df[\n",
    "    (~df['model'].str.contains('deepseek/deepseek-chat')) &\n",
    "    (df['info'].isin(['belief', 'history']))\n",
    "]"
   ]
  },
  {
   "cell_type": "code",
   "execution_count": 52,
   "id": "5b0f52ac",
   "metadata": {},
   "outputs": [
    {
     "data": {
      "text/plain": [
       "(10981, 25417)"
      ]
     },
     "execution_count": 52,
     "metadata": {},
     "output_type": "execute_result"
    }
   ],
   "source": [
    "len(df_reasoning), len(df)"
   ]
  },
  {
   "cell_type": "code",
   "execution_count": 53,
   "id": "97d2bfcd",
   "metadata": {},
   "outputs": [],
   "source": [
    "def plot_belief_length(df):\n",
    "    envs = list(df['env'].astype(str).unique())\n",
    "    from math import sqrt\n",
    "    import plotly\n",
    "    go = plotly.graph_objects\n",
    "    make_subplots = plotly.subplots.make_subplots\n",
    "\n",
    "    # Compute lengths for both reasoning fields\n",
    "    belief_reasoning_length = df['belief_reasoning'].astype(str).str.len()\n",
    "    action_reasoning_length = df['action_reasoning'].astype(str).str.len()\n",
    "\n",
    "    # Prepare dataframes for aggregation\n",
    "    df_belief = df.assign(_reasoning_len=belief_reasoning_length, _reasoning_type='Belief Reasoning')\n",
    "    df_action = df.assign(_reasoning_len=action_reasoning_length, _reasoning_type='Action Reasoning')\n",
    "    df2 = pd.concat([df_belief, df_action], ignore_index=True)\n",
    "\n",
    "    agg = (\n",
    "        df2.groupby(['env', 'model', 'attempt', '_reasoning_type'])\n",
    "        ._reasoning_len.agg(['mean', 'std', 'count'])\n",
    "        .reset_index()\n",
    "    )\n",
    "    agg['sem'] = agg['std'] / agg['count'].apply(lambda n: sqrt(n) if n > 0 else 1)\n",
    "\n",
    "    colors = getattr(plotly.colors.qualitative, 'Dark24', None) or \\\n",
    "             getattr(plotly.colors.qualitative, 'Plotly', None) or \\\n",
    "             list(plotly.colors.qualitative.__dict__.values())[0]\n",
    "\n",
    "    # Two rows: 1 for belief_reasoning, 2 for action_reasoning\n",
    "    fig = make_subplots(\n",
    "        rows=2,\n",
    "        cols=len(envs),\n",
    "        shared_yaxes=False,\n",
    "        subplot_titles=[\n",
    "            f\"{env}\" for env in envs\n",
    "        ],\n",
    "        row_titles=[\"Belief Reasoning\", \"Action Reasoning\"]\n",
    "    )\n",
    "\n",
    "    model_color_map = {}\n",
    "    models_seen = set()\n",
    "    color_idx = 0\n",
    "\n",
    "    for col_idx, env in enumerate(envs, start=1):\n",
    "        for row_idx, reasoning_type in enumerate(['Belief Reasoning', 'Action Reasoning'], start=1):\n",
    "            sub = agg[(agg['env'] == env) & (agg['_reasoning_type'] == reasoning_type)]\n",
    "            for model in sub['model'].unique():\n",
    "                mdf = sub[sub['model'] == model].sort_values('attempt')\n",
    "                if model not in model_color_map:\n",
    "                    model_color_map[model] = colors[color_idx % len(colors)]\n",
    "                    color_idx += 1\n",
    "                show_legend = model not in models_seen\n",
    "                models_seen.add(model)\n",
    "\n",
    "                fig.add_trace(\n",
    "                    go.Scatter(\n",
    "                        x=mdf['attempt'],\n",
    "                        y=mdf['mean'],\n",
    "                        error_y=dict(\n",
    "                            type='data',\n",
    "                            array=mdf['sem'],\n",
    "                            visible=True,\n",
    "                            thickness=1.5,\n",
    "                            color='rgba(0,0,0,0.4)'\n",
    "                        ),\n",
    "                        mode='lines+markers',\n",
    "                        name=str(model),\n",
    "                        legendgroup=str(model),\n",
    "                        showlegend=show_legend,\n",
    "                        line=dict(color=model_color_map[model], width=2)\n",
    "                    ),\n",
    "                    row=row_idx, col=col_idx\n",
    "                )\n",
    "\n",
    "            fig.update_xaxes(\n",
    "                title_text='Step',\n",
    "                color='black',\n",
    "                showline=True,\n",
    "                linecolor='black',\n",
    "                linewidth=1,\n",
    "                showgrid=False,\n",
    "                row=row_idx, col=col_idx\n",
    "            )\n",
    "\n",
    "            fig.update_yaxes(\n",
    "                title_text=f'{reasoning_type} Length' if col_idx == 1 else None,\n",
    "                showline=True,\n",
    "                linecolor='black',\n",
    "                linewidth=1,\n",
    "                tickfont=dict(color='black'),\n",
    "                showgrid=True,\n",
    "                gridcolor='lightgray',\n",
    "                row=row_idx, col=col_idx\n",
    "            )\n",
    "\n",
    "    fig.update_layout(\n",
    "        width=1200,\n",
    "        height=700,\n",
    "        paper_bgcolor='white',\n",
    "        plot_bgcolor='white',\n",
    "        font=dict(family='Times New Roman, serif', size=14),\n",
    "        legend=dict(\n",
    "            orientation='h',\n",
    "            yanchor='bottom',\n",
    "            y=1.1,\n",
    "            xanchor='center',\n",
    "            x=0.5,\n",
    "            bordercolor='black',\n",
    "            borderwidth=1,\n",
    "            bgcolor='rgba(255,255,255,0.9)'\n",
    "        )\n",
    "    )\n",
    "\n",
    "    return fig\n"
   ]
  },
  {
   "cell_type": "code",
   "execution_count": 54,
   "id": "2523b070",
   "metadata": {},
   "outputs": [],
   "source": [
    "fig = plot_belief_length(df_reasoning)"
   ]
  },
  {
   "cell_type": "code",
   "execution_count": 55,
   "id": "295ea216",
   "metadata": {},
   "outputs": [
    {
     "data": {
      "application/vnd.plotly.v1+json": {
       "config": {
        "plotlyServerURL": "https://plot.ly"
       },
       "data": [
        {
         "error_y": {
          "array": {
           "bdata": "zYZLlPZlTUB5O1coZOtPQJDcBIOruFdAP5NSHjMscEDV14ZqmnBtQE5hVxvh2VtAspbI0o3BZkBE080KB4l1QJxip6vbnW1AxU/kUTV1XEDYbOzZR8RSQHjoUqZNJGZAfAB0X22rU0CN5BwazINgQFGhVxdP3WNA+j9uzRKmWUDOcyp5oEJjQDWC6lz+bmBAfsxzVisNYEA1GjFXuEthQA==",
           "dtype": "f8"
          },
          "color": "rgba(0,0,0,0.4)",
          "thickness": 1.5,
          "type": "data",
          "visible": true
         },
         "legendgroup": "deepseek/deepseek-r1 (belief)",
         "line": {
          "color": "#2E91E5",
          "width": 2
         },
         "mode": "lines+markers",
         "name": "deepseek/deepseek-r1 (belief)",
         "showlegend": true,
         "type": "scatter",
         "x": {
          "bdata": "AQIDBAUGBwgJCgsMDQ4PEBESExQ=",
          "dtype": "i1"
         },
         "xaxis": "x",
         "y": {
          "bdata": "AAAAAICMk0DNzMzMTCiUQKRBGqRB0pZA6wZT5LOumkAAAAAAgOaaQJqZmZmZrZZAzczMzMzomUC+hPYS2i+gQKG9hPYSyp5APQrXo3Dhl0BkIQtZyHqWQM3MzMzMVZlAAAAAAEDhlUB3d3d3d9OaQGZmZmZmEptAiYiIiIj4mEC8u7u7u6uZQCIiIiIikplAip3YiZ1slUCjiy666P6bQA==",
          "dtype": "f8"
         },
         "yaxis": "y"
        },
        {
         "error_y": {
          "array": {
           "bdata": "AAAAAAAAAAAAAAAAAAAAAAAAAAAAAAAAAAAAAAAAAAAAAAAAAAAAAAAAAAAAAAAAAAAAAAAAAAAAAAAAAAAAAAAAAAAAAAAAAAAAAAAAAAAAAAAAAAAAAAAAAAAAAAAAAAAAAAAAAAAAAAAAAAAAAAAAAAAAAAAAAAAAAAAAAAAAAAAAAAAAAAAAAAAAAAAAAAAAAAAAAAAAAAAAAAAAAA==",
           "dtype": "f8"
          },
          "color": "rgba(0,0,0,0.4)",
          "thickness": 1.5,
          "type": "data",
          "visible": true
         },
         "legendgroup": "deepseek/deepseek-r1 (history)",
         "line": {
          "color": "#E15F99",
          "width": 2
         },
         "mode": "lines+markers",
         "name": "deepseek/deepseek-r1 (history)",
         "showlegend": true,
         "type": "scatter",
         "x": {
          "bdata": "AQIDBAUGBwgJCgsMDQ4PEBESExQ=",
          "dtype": "i1"
         },
         "xaxis": "x",
         "y": {
          "bdata": "AAAAAAAAAAAAAAAAAAAAAAAAAAAAAAAAAAAAAAAAAAAAAAAAAAAAAAAAAAAAAAAAAAAAAAAAAAAAAAAAAAAAAAAAAAAAAAAAAAAAAAAAAAAAAAAAAAAAAAAAAAAAAAAAAAAAAAAAAAAAAAAAAAAAAAAAAAAAAAAAAAAAAAAAAAAAAAAAAAAAAAAAAAAAAAAAAAAAAAAAAAAAAAAAAAAAAA==",
          "dtype": "f8"
         },
         "yaxis": "y"
        },
        {
         "error_y": {
          "array": {
           "bdata": "SFLffROFT0CiofbJvgtIQFhr6szvvkpACbxa1cWyR0BqgqbShwdEQFAdFcj+oE5ADWUwes82SEClyrhi8XhQQLDycexZFlNALvmoHr/SSkD5CFJJ6LRMQMwP2K2op1ZAXNyAAfQWUEBcyxX43fJXQNtv16d3kl1ARtbg8sR5U0ARhcIhpudcQJNlb67i+VhAlqshpErBYUCDcTadbe5jQA==",
           "dtype": "f8"
          },
          "color": "rgba(0,0,0,0.4)",
          "thickness": 1.5,
          "type": "data",
          "visible": true
         },
         "legendgroup": "google/gemini-2.5-pro (belief)",
         "line": {
          "color": "#1CA71C",
          "width": 2
         },
         "mode": "lines+markers",
         "name": "google/gemini-2.5-pro (belief)",
         "showlegend": true,
         "type": "scatter",
         "x": {
          "bdata": "AQIDBAUGBwgJCgsMDQ4PEBESExQ=",
          "dtype": "i1"
         },
         "xaxis": "x",
         "y": {
          "bdata": "AAAAAACrlkCamZmZmRSVQEN5DeU1EJdAlNdQXkOjlkCLr/iKr1yXQE422WST8ZdAAAAAAEB/mEC3bdu2bZ+XQKuqqqqqm5hAhmEYhmHomECvobyG8kqYQBzHcRzHw5pAVVVVVVWFmUBVVVVVVXyXQAAAAAAAlJlAAAAAAAB8mkAAAAAAAIaZQDmO4ziO/5hAAAAAAACMmEAAAAAAAPqWQA==",
          "dtype": "f8"
         },
         "yaxis": "y"
        },
        {
         "error_y": {
          "array": {
           "bdata": "AAAAAAAAAAAAAAAAAAAAAAAAAAAAAAAAAAAAAAAAAAAAAAAAAAAAAAAAAAAAAAAAAAAAAAAAAAAAAAAAAAAAAAAAAAAAAAAAAAAAAAAAAAAAAAAAAAAAAAAAAAAAAAAAAAAAAAAAAAAAAAAAAAAAAAAAAAAAAAAAAAAAAAAAAAAAAAAAAAAAAAAAAAAAAAAAAAAAAAAAAAAAAAAAAAAAAA==",
           "dtype": "f8"
          },
          "color": "rgba(0,0,0,0.4)",
          "thickness": 1.5,
          "type": "data",
          "visible": true
         },
         "legendgroup": "google/gemini-2.5-pro (history)",
         "line": {
          "color": "#FB0D0D",
          "width": 2
         },
         "mode": "lines+markers",
         "name": "google/gemini-2.5-pro (history)",
         "showlegend": true,
         "type": "scatter",
         "x": {
          "bdata": "AQIDBAUGBwgJCgsMDQ4PEBESExQ=",
          "dtype": "i1"
         },
         "xaxis": "x",
         "y": {
          "bdata": "AAAAAAAAAAAAAAAAAAAAAAAAAAAAAAAAAAAAAAAAAAAAAAAAAAAAAAAAAAAAAAAAAAAAAAAAAAAAAAAAAAAAAAAAAAAAAAAAAAAAAAAAAAAAAAAAAAAAAAAAAAAAAAAAAAAAAAAAAAAAAAAAAAAAAAAAAAAAAAAAAAAAAAAAAAAAAAAAAAAAAAAAAAAAAAAAAAAAAAAAAAAAAAAAAAAAAA==",
          "dtype": "f8"
         },
         "yaxis": "y"
        },
        {
         "error_y": {
          "array": {
           "bdata": "0eeSe8tcckDe5CtCEDh0QF7lFtWsOntAUv/f1YljdkDbR9AiAltnQKdlbGdp5HRAVMUMuyAzeUDKwSwARVVwQCH8Trm2lX1Ak0NQFDGedED4MAJM6DVuQFmuVDYsrX1Aer6Oa3BHX0AWznv2Xgl2QBhn7j0mfmVACqg+X3fZc0AuyqTv3pVgQCehFRJ+CmJAKgDtcjmcbkAw8cvi7fx7QA==",
           "dtype": "f8"
          },
          "color": "rgba(0,0,0,0.4)",
          "thickness": 1.5,
          "type": "data",
          "visible": true
         },
         "legendgroup": "deepseek/deepseek-r1 (belief)",
         "line": {
          "color": "#2E91E5",
          "width": 2
         },
         "mode": "lines+markers",
         "name": "deepseek/deepseek-r1 (belief)",
         "showlegend": false,
         "type": "scatter",
         "x": {
          "bdata": "AQIDBAUGBwgJCgsMDQ4PEBESExQ=",
          "dtype": "i1"
         },
         "xaxis": "x7",
         "y": {
          "bdata": "ZmZmZmYgmUAAAAAAgKSdQPMt3/ItfaVAKvJZN5gso0AAAAAAQLOdQO/u7u7uuJ9Ad3d3d3c4pEBCewntJVSdQBPaS2gvUZ9A9ihcj8IzoUBOb3rTm1qfQAAAAAAAcaJAAAAAAEDZlUCamZmZmS2fQBERERERLZdAvLu7u7ubnECrqqqqquqWQKuqqqqq6pZAntiJndilmECjiy666IKcQA==",
          "dtype": "f8"
         },
         "yaxis": "y7"
        },
        {
         "error_y": {
          "array": {
           "bdata": "u16JWKckaUCBVuFwq3FgQJpF86AlUltAOlYvAx1OXkBon6yxZX9kQKE2rQ69TXRAjOQV8QNad0B/sOGHDlN5QKfhNiMAFWNAyCb3esyfgEB15YAqQCB5QFMLILGRW3lAHQS7kCKtaUB8oUMGFFSBQDHGY7SLgnhAHO3KggQviUA5Xl5gWbuDQOidbEmBhHJAJWqxb8BwcUDz6ys0CBt4QA==",
           "dtype": "f8"
          },
          "color": "rgba(0,0,0,0.4)",
          "thickness": 1.5,
          "type": "data",
          "visible": true
         },
         "legendgroup": "deepseek/deepseek-r1 (history)",
         "line": {
          "color": "#E15F99",
          "width": 2
         },
         "mode": "lines+markers",
         "name": "deepseek/deepseek-r1 (history)",
         "showlegend": false,
         "type": "scatter",
         "x": {
          "bdata": "AQIDBAUGBwgJCgsMDQ4PEBESExQ=",
          "dtype": "i1"
         },
         "xaxis": "x7",
         "y": {
          "bdata": "MzMzM7M0mEDNzMzMTKeTQGZmZmbmZZRAyWfdYIoklEBJkiRJkjyZQJNNNtlkE6FA2WSTTTaZoEC8u7u7uzihQGqE5Z5GLJdAT+zETuyYpEAAAAAAQMqgQIYsZCELlaFARhdddNEvmUCGYRiGYZqjQJqZmZkZAKFAmpmZmRlMp0AAAAAAABSjQDMzMzMz/aFAZmZmZmY6nkBmZmZmZo6gQA==",
          "dtype": "f8"
         },
         "yaxis": "y7"
        },
        {
         "error_y": {
          "array": {
           "bdata": "vhwtPisGT0DK7PVmwu5NQKJbi+fSTFFAgsiLFp0WUUA3xRBlwY1QQGrjzYL8BlFAXST1grEpUEC4nTOYOHZQQIvp6g8Da1NALfwBiFzlVUBEF8erqp1cQF8k2SasZ2BAw6NdQH8iYUAKeRDgy2hkQGbz7QflUFxAGRgUjKQIZkBnmlIoHMNcQKSCT+l/HWhAMvwFg8uxYED3fIaNRORhQA==",
           "dtype": "f8"
          },
          "color": "rgba(0,0,0,0.4)",
          "thickness": 1.5,
          "type": "data",
          "visible": true
         },
         "legendgroup": "google/gemini-2.5-pro (belief)",
         "line": {
          "color": "#1CA71C",
          "width": 2
         },
         "mode": "lines+markers",
         "name": "google/gemini-2.5-pro (belief)",
         "showlegend": false,
         "type": "scatter",
         "x": {
          "bdata": "AQIDBAUGBwgJCgsMDQ4PEBESExQ=",
          "dtype": "i1"
         },
         "xaxis": "x7",
         "y": {
          "bdata": "zczMzMx6lEAzMzMzMyiWQNhQXkN575ZAQ3kN5TVulkAAAAAAAMyWQAAAAAAAhJZAAAAAAKDLlUAlSZIkSSyWQFVVVVXVMZlAnud5nucFmEDlNZTXUIqaQAAAAAAAWJlAq6qqqqpqmkCrqqqqqu+aQF100UUXaZtAZmZmZma4mUAzMzMzMyGYQDmO4ziO75dAAAAAAICwlUCrqqqqqgCZQA==",
          "dtype": "f8"
         },
         "yaxis": "y7"
        },
        {
         "error_y": {
          "array": {
           "bdata": "YYpRu55aUkAlINmYGTJLQLxtImXWQU9Ajp5Lb20bU0AEu9YiBspiQMbH/WpyLVVAYF48b2OKVECXT83MqgteQC9BcPQLn1dAOURbVJY8UEDIDpi1oWRZQIZ9Irevg2NAwX0sg1l7bUDF8C1XLBxsQA/eVR/0nG5AI33OdKy8ZECOcQ3FJDNlQLH4IoohzXBAAAAAAACAMUAAAAAAALSLQA==",
           "dtype": "f8"
          },
          "color": "rgba(0,0,0,0.4)",
          "thickness": 1.5,
          "type": "data",
          "visible": true
         },
         "legendgroup": "google/gemini-2.5-pro (history)",
         "line": {
          "color": "#FB0D0D",
          "width": 2
         },
         "mode": "lines+markers",
         "name": "google/gemini-2.5-pro (history)",
         "showlegend": false,
         "type": "scatter",
         "x": {
          "bdata": "AQIDBAUGBwgJCgsMDQ4PEBESExQ=",
          "dtype": "i1"
         },
         "xaxis": "x7",
         "y": {
          "bdata": "ZmZmZuZamUBmZmZmZo+TQHIcx3Ec75RAS0tLS0stlUDv7u7u7rCXQLdt27ZtbpZAq6qqqio9lECnN73pTU+XQI7jOI7jfJFAbtu2bduulECrqqqqqrWTQAAAAAAAoJVAAAAAAABClUAAAAAAAMiXQFVVVVVVb5JAAAAAAAAQmUAAAAAAAKuSQAAAAAAAK5NAAAAAAADKkEAAAAAAAOqXQA==",
          "dtype": "f8"
         },
         "yaxis": "y7"
        },
        {
         "error_y": {
          "array": {
           "bdata": "pdJAhiEXfkAH9ZTvjmiQQGJCkkAC1JBAIzsZ70NGgkAUwdZLLwiRQLS515Wiqo1A",
           "dtype": "f8"
          },
          "color": "rgba(0,0,0,0.4)",
          "thickness": 1.5,
          "type": "data",
          "visible": true
         },
         "legendgroup": "deepseek/deepseek-r1 (belief)",
         "line": {
          "color": "#2E91E5",
          "width": 2
         },
         "mode": "lines+markers",
         "name": "deepseek/deepseek-r1 (belief)",
         "showlegend": false,
         "type": "scatter",
         "x": {
          "bdata": "AQIDBAUG",
          "dtype": "i1"
         },
         "xaxis": "x2",
         "y": {
          "bdata": "ZmZmZibFq0AAAAAAQBW/QF5DeQ1l1LtASZIkSRIls0AAAAAAcJG2QAAAAAAAjKZA",
          "dtype": "f8"
         },
         "yaxis": "y2"
        },
        {
         "error_y": {
          "array": {
           "bdata": "AAAAAAAAAAAAAAAAAAAAAAAAAAAAAAAAAAAAAAAAAAAAAAAAAAAAAAAAAAAAAAAA",
           "dtype": "f8"
          },
          "color": "rgba(0,0,0,0.4)",
          "thickness": 1.5,
          "type": "data",
          "visible": true
         },
         "legendgroup": "deepseek/deepseek-r1 (history)",
         "line": {
          "color": "#E15F99",
          "width": 2
         },
         "mode": "lines+markers",
         "name": "deepseek/deepseek-r1 (history)",
         "showlegend": false,
         "type": "scatter",
         "x": {
          "bdata": "AQIDBAUG",
          "dtype": "i1"
         },
         "xaxis": "x2",
         "y": {
          "bdata": "AAAAAAAAAAAAAAAAAAAAAAAAAAAAAAAAAAAAAAAAAAAAAAAAAAAAAAAAAAAAAAAA",
          "dtype": "f8"
         },
         "yaxis": "y2"
        },
        {
         "error_y": {
          "array": {
           "bdata": "FsDHviOEXkD7rRp0ZPpmQExI/0N1xGhAZHPEoH6kcUDAmo/onCJ6QDD9PivayG9A",
           "dtype": "f8"
          },
          "color": "rgba(0,0,0,0.4)",
          "thickness": 1.5,
          "type": "data",
          "visible": true
         },
         "legendgroup": "google/gemini-2.5-pro (belief)",
         "line": {
          "color": "#1CA71C",
          "width": 2
         },
         "mode": "lines+markers",
         "name": "google/gemini-2.5-pro (belief)",
         "showlegend": false,
         "type": "scatter",
         "x": {
          "bdata": "AQIDBAUG",
          "dtype": "i1"
         },
         "xaxis": "x2",
         "y": {
          "bdata": "ZmZmZubbn0AAAAAAAAmdQNhQXkN5Q51AAAAAAGAnoEDoeZ7nebKgQAAAAAAANphA",
          "dtype": "f8"
         },
         "yaxis": "y2"
        },
        {
         "error_y": {
          "array": {
           "bdata": "AAAAAAAAAAAAAAAAAAAAAAAAAAAAAAAAAAAAAAAAAAAAAAAAAAAAAAAAAAAAAAAA",
           "dtype": "f8"
          },
          "color": "rgba(0,0,0,0.4)",
          "thickness": 1.5,
          "type": "data",
          "visible": true
         },
         "legendgroup": "google/gemini-2.5-pro (history)",
         "line": {
          "color": "#FB0D0D",
          "width": 2
         },
         "mode": "lines+markers",
         "name": "google/gemini-2.5-pro (history)",
         "showlegend": false,
         "type": "scatter",
         "x": {
          "bdata": "AQIDBAUG",
          "dtype": "i1"
         },
         "xaxis": "x2",
         "y": {
          "bdata": "AAAAAAAAAAAAAAAAAAAAAAAAAAAAAAAAAAAAAAAAAAAAAAAAAAAAAAAAAAAAAAAA",
          "dtype": "f8"
         },
         "yaxis": "y2"
        },
        {
         "error_y": {
          "array": {
           "bdata": "N6Ps5PWxh0AaZc0V23CKQC5mo97UxIpAsnzSkkodj0CkViHD8GaPQP3u2H29J51A",
           "dtype": "f8"
          },
          "color": "rgba(0,0,0,0.4)",
          "thickness": 1.5,
          "type": "data",
          "visible": true
         },
         "legendgroup": "deepseek/deepseek-r1 (belief)",
         "line": {
          "color": "#2E91E5",
          "width": 2
         },
         "mode": "lines+markers",
         "name": "deepseek/deepseek-r1 (belief)",
         "showlegend": false,
         "type": "scatter",
         "x": {
          "bdata": "AQIDBAUG",
          "dtype": "i1"
         },
         "xaxis": "x8",
         "y": {
          "bdata": "zczMzAy1tEDNzMzMfMHAQHkN5TVU2shASZIkSfIdxEAAAAAAIHDAQNu2bdu2RMJA",
          "dtype": "f8"
         },
         "yaxis": "y8"
        },
        {
         "error_y": {
          "array": {
           "bdata": "NpQA7ZiAfUAjQmDHJfWOQJ8J/G/+nIhAgn5ELWmZlkCY2GHciBqiQLCSssWaCLJA",
           "dtype": "f8"
          },
          "color": "rgba(0,0,0,0.4)",
          "thickness": 1.5,
          "type": "data",
          "visible": true
         },
         "legendgroup": "deepseek/deepseek-r1 (history)",
         "line": {
          "color": "#E15F99",
          "width": 2
         },
         "mode": "lines+markers",
         "name": "deepseek/deepseek-r1 (history)",
         "showlegend": false,
         "type": "scatter",
         "x": {
          "bdata": "AQIDBAUG",
          "dtype": "i1"
         },
         "xaxis": "x8",
         "y": {
          "bdata": "MzMzM5N1t0AAAAAAwJHCQCivobyGccxASimllNKDzkAAAAAAgOHGQM3MzMyMHNBA",
          "dtype": "f8"
         },
         "yaxis": "y8"
        },
        {
         "error_y": {
          "array": {
           "bdata": "lN1PcHR4REBgjLvThsxgQJ2bouR41mlA1rPo5FQ8eUAnvIjRCLl1QAN4AOOTLH5A",
           "dtype": "f8"
          },
          "color": "rgba(0,0,0,0.4)",
          "thickness": 1.5,
          "type": "data",
          "visible": true
         },
         "legendgroup": "google/gemini-2.5-pro (belief)",
         "line": {
          "color": "#1CA71C",
          "width": 2
         },
         "mode": "lines+markers",
         "name": "google/gemini-2.5-pro (belief)",
         "showlegend": false,
         "type": "scatter",
         "x": {
          "bdata": "AQIDBAUG",
          "dtype": "i1"
         },
         "xaxis": "x8",
         "y": {
          "bdata": "MzMzMzNYjUDNzMzMjJygQK+hvIbyaqdAAAAAAGBDrUCe53me51eiQJqZmZmZmqlA",
          "dtype": "f8"
         },
         "yaxis": "y8"
        },
        {
         "error_y": {
          "array": {
           "bdata": "lJtCE4YPWkDsglfsFCxjQG8KH1+ISm5AYFwYj1aKcEBGKpuB+wmAQClKb+zV9JBA",
           "dtype": "f8"
          },
          "color": "rgba(0,0,0,0.4)",
          "thickness": 1.5,
          "type": "data",
          "visible": true
         },
         "legendgroup": "google/gemini-2.5-pro (history)",
         "line": {
          "color": "#FB0D0D",
          "width": 2
         },
         "mode": "lines+markers",
         "name": "google/gemini-2.5-pro (history)",
         "showlegend": false,
         "type": "scatter",
         "x": {
          "bdata": "AQIDBAUG",
          "dtype": "i1"
         },
         "xaxis": "x8",
         "y": {
          "bdata": "ZmZmZmYNmUAzMzMzM8alQE/sxE7smqlAVVVVVVWzq0AAAAAAoOOtQKuqqqqqQKlA",
          "dtype": "f8"
         },
         "yaxis": "y8"
        },
        {
         "error_y": {
          "array": {
           "bdata": "AqNGHrcGWkC1R87sSMxsQEqLikNbqGdAMToDGcV6fkD2kGUtTepwQLlROxVrbHlAv+BQ03aaeUAwD6s8HCmEQPZNCVCtG4JAL0I5b+WbgkBozi1NY26OQGo5SAe3QoNAHVHKnzLZdkDUHCGMUPuQQNBtVA6uKJNA3c58MvfaiUBR4uGWT8qCQB+TPzNeiYRAORndJ9PtgkBOKADvF5WMQA==",
           "dtype": "f8"
          },
          "color": "rgba(0,0,0,0.4)",
          "thickness": 1.5,
          "type": "data",
          "visible": true
         },
         "legendgroup": "deepseek/deepseek-r1 (belief)",
         "line": {
          "color": "#2E91E5",
          "width": 2
         },
         "mode": "lines+markers",
         "name": "deepseek/deepseek-r1 (belief)",
         "showlegend": false,
         "type": "scatter",
         "x": {
          "bdata": "AQIDBAUGBwgJCgsMDQ4PEBESExQ=",
          "dtype": "i1"
         },
         "xaxis": "x3",
         "y": {
          "bdata": "zczMzEy7mkDNzMzMjCShQGZmZmam76BAzczMzMwsqUBT5LNuMDOkQKuqqqoqwKdA7+7u7u43pEAAAAAAgDGqQM3MzMzM6axAAAAAAABIrkAor6G8hmqzQPMaymsoaalAbCivobxApkByHMdxHGWwQHIcx3GcGLdAHMdxHMepsUCO4ziO4xKuQOQ4juM4MqxAHMdxHMfPq0AAAAAAAGSuQA==",
          "dtype": "f8"
         },
         "yaxis": "y3"
        },
        {
         "error_y": {
          "array": {
           "bdata": "AAAAAAAAAAAAAAAAAAAAAAAAAAAAAAAAAAAAAAAAAAAAAAAAAAAAAAAAAAAAAAAAAAAAAAAAAAAAAAAAAAAAAAAAAAAAAAAAAAAAAAAAAAAAAAAAAAAAAAAAAAAAAAAAAAAAAAAAAAAAAAAAAAAAAAAAAAAAAAAAAAAAAAAAAAAAAAAAAAAAAAAAAAAAAAAAAAAAAAAAAAAAAAAAAAAAAA==",
           "dtype": "f8"
          },
          "color": "rgba(0,0,0,0.4)",
          "thickness": 1.5,
          "type": "data",
          "visible": true
         },
         "legendgroup": "deepseek/deepseek-r1 (history)",
         "line": {
          "color": "#E15F99",
          "width": 2
         },
         "mode": "lines+markers",
         "name": "deepseek/deepseek-r1 (history)",
         "showlegend": false,
         "type": "scatter",
         "x": {
          "bdata": "AQIDBAUGBwgJCgsMDQ4PEBESExQ=",
          "dtype": "i1"
         },
         "xaxis": "x3",
         "y": {
          "bdata": "AAAAAAAAAAAAAAAAAAAAAAAAAAAAAAAAAAAAAAAAAAAAAAAAAAAAAAAAAAAAAAAAAAAAAAAAAAAAAAAAAAAAAAAAAAAAAAAAAAAAAAAAAAAAAAAAAAAAAAAAAAAAAAAAAAAAAAAAAAAAAAAAAAAAAAAAAAAAAAAAAAAAAAAAAAAAAAAAAAAAAAAAAAAAAAAAAAAAAAAAAAAAAAAAAAAAAA==",
          "dtype": "f8"
         },
         "yaxis": "y3"
        },
        {
         "error_y": {
          "array": {
           "bdata": "w4O0GZrDTED8HENp4/NKQOIO/dCdrk5AUj6Ga1B7UUBxIMCeYfJUQCsp1SCnPVhAfj1TlmYMYkBReHsIP6dYQCoiElRBrmBA41Nvf2SRYUAF53p+Gn1kQI0znvc9pmVA/o/2u87DckAPbJBtepxwQO64o62n2VxA650ulYF8d0BnZRmQphVqQMHC3h148XBAXGBNggZke0ApspONTBJ/QA==",
           "dtype": "f8"
          },
          "color": "rgba(0,0,0,0.4)",
          "thickness": 1.5,
          "type": "data",
          "visible": true
         },
         "legendgroup": "google/gemini-2.5-pro (belief)",
         "line": {
          "color": "#1CA71C",
          "width": 2
         },
         "mode": "lines+markers",
         "name": "google/gemini-2.5-pro (belief)",
         "showlegend": false,
         "type": "scatter",
         "x": {
          "bdata": "AQIDBAUGBwgJCgsMDQ4PEBESExQ=",
          "dtype": "i1"
         },
         "xaxis": "x3",
         "y": {
          "bdata": "mpmZmZlnlkCamZmZGTaaQDMzMzOzAZ1Al2/5lm+tnUDKayivoRadQHVQB3VQL5xA27Zt27ZWn0ApXI/C9VCdQKOLLrroN6FAzczMzEw1okDHcRzHcemhQOQ4juM4RaNApqWlpaUro0AAAAAA4BylQEmSJEmSjp5Aip3YiZ0GpECrqqqqKgCgQFVVVVVVWaRAAAAAAICmqUAAAAAAgOijQA==",
          "dtype": "f8"
         },
         "yaxis": "y3"
        },
        {
         "error_y": {
          "array": {
           "bdata": "AAAAAAAAAAAAAAAAAAAAAAAAAAAAAAAAAAAAAAAAAAAAAAAAAAAAAAAAAAAAAAAAAAAAAAAAAAAAAAAAAAAAAAAAAAAAAAAAAAAAAAAAAAAAAAAAAAAAAAAAAAAAAAAAAAAAAAAAAAAAAAAAAAAAAAAAAAAAAAAAAAAAAAAAAAAAAAAAAAAAAAAAAAAAAAAAAAAAAAAAAAAAAAAAAAAAAA==",
           "dtype": "f8"
          },
          "color": "rgba(0,0,0,0.4)",
          "thickness": 1.5,
          "type": "data",
          "visible": true
         },
         "legendgroup": "google/gemini-2.5-pro (history)",
         "line": {
          "color": "#FB0D0D",
          "width": 2
         },
         "mode": "lines+markers",
         "name": "google/gemini-2.5-pro (history)",
         "showlegend": false,
         "type": "scatter",
         "x": {
          "bdata": "AQIDBAUGBwgJCgsMDQ4PEBESExQ=",
          "dtype": "i1"
         },
         "xaxis": "x3",
         "y": {
          "bdata": "AAAAAAAAAAAAAAAAAAAAAAAAAAAAAAAAAAAAAAAAAAAAAAAAAAAAAAAAAAAAAAAAAAAAAAAAAAAAAAAAAAAAAAAAAAAAAAAAAAAAAAAAAAAAAAAAAAAAAAAAAAAAAAAAAAAAAAAAAAAAAAAAAAAAAAAAAAAAAAAAAAAAAAAAAAAAAAAAAAAAAAAAAAAAAAAAAAAAAAAAAAAAAAAAAAAAAA==",
          "dtype": "f8"
         },
         "yaxis": "y3"
        },
        {
         "error_y": {
          "array": {
           "bdata": "eb6HbNggYUBg/3dtwnJ2QKMoeH/ermxAahp9fIJQbkChVcIdbHJnQOQuQqmlMFlAIO/4Rb1Od0AGEvjsDRJiQGkl0hKpBYVA5DzIihAchEBvy9bX3dh6QKCczwvi7Y1ABHEHXG+xd0BDkJGVso94QB2w+05DHnNAAPzhR2MWd0BHdZNARkp3QJAYPCShHHdAHNhILFWeeUB+Upe2Pm6CQA==",
           "dtype": "f8"
          },
          "color": "rgba(0,0,0,0.4)",
          "thickness": 1.5,
          "type": "data",
          "visible": true
         },
         "legendgroup": "deepseek/deepseek-r1 (belief)",
         "line": {
          "color": "#2E91E5",
          "width": 2
         },
         "mode": "lines+markers",
         "name": "deepseek/deepseek-r1 (belief)",
         "showlegend": false,
         "type": "scatter",
         "x": {
          "bdata": "AQIDBAUGBwgJCgsMDQ4PEBESExQ=",
          "dtype": "i1"
         },
         "xaxis": "x9",
         "y": {
          "bdata": "ZmZmZmZgkUAAAAAAAI6iQAAAAABAOaFAzczMzMzVnEBMkc+6wTSZQKuqqqqqxpVAq6qqqqrOn0BVVVVV1UGVQGZmZmbmP6NAr6G8hvI+oUC9hvIayguhQAAAAAAA3KNAvYbyGsojnUA5juM4jjGaQAAAAAAARJ5AAAAAAABsokAcx3EcxxOfQKuqqqqqfp9AVVVVVVWpn0ByHMdxHHmfQA==",
          "dtype": "f8"
         },
         "yaxis": "y9"
        },
        {
         "error_y": {
          "array": {
           "bdata": "oy/4f4/yb0Boc6m6i6RxQOYAPX89EIBA5qjGyb1shEAEKuFifoR3QBH/VDR/ZH9AGDTyQI7ZkEB9i7rO6YKOQBIMKkE1G4NAOlvsEl35gkBzgbbAqXF+QNhORvlgx5BA9s+S9Tj2cUCGxAWQW5OLQMb4n2Z48YBAbQ6UMZJekkCv6ZfQ0S2LQMB2qElCeoVASzRYhJk1fkA24+U7vU+GQA==",
           "dtype": "f8"
          },
          "color": "rgba(0,0,0,0.4)",
          "thickness": 1.5,
          "type": "data",
          "visible": true
         },
         "legendgroup": "deepseek/deepseek-r1 (history)",
         "line": {
          "color": "#E15F99",
          "width": 2
         },
         "mode": "lines+markers",
         "name": "deepseek/deepseek-r1 (history)",
         "showlegend": false,
         "type": "scatter",
         "x": {
          "bdata": "AQIDBAUGBwgJCgsMDQ4PEBESExQ=",
          "dtype": "i1"
         },
         "xaxis": "x9",
         "y": {
          "bdata": "zczMzMwqmEAzMzMzM+mZQBvKayivkKhAB3VQB3UIq0De3d3d3TWkQKuqqqpq46pA9aY3vel/r0Cjiy666P2vQGZmZmbm3aJAchzHcRygqEAAAAAAYPylQAAAAAAAyq1AAAAAAABLo0C8u7u7u2uvQN7d3d3dEapAzczMzMwlsUCrqqqqqsuwQN7d3d3dW61AkiRJkiRUp0C3bdu2bd+xQA==",
          "dtype": "f8"
         },
         "yaxis": "y9"
        },
        {
         "error_y": {
          "array": {
           "bdata": "4tepHXKyUUAkXY1/QdpPQLHOvWCHZVFAxnMk0toFSkB5Yq1HhLRNQHPqZmlqHU9AjEpEpFrySEBUfvSGAS1XQL5Rjxa/JlNAPNMN+qHkWkDQfji8kG9jQM0mb5iuDFpA+pmI5iTNU0Aw8vARzPlrQFjaz4Kt/2VAQcvG0UhnXkBKI5jDB+5oQISHMLe5/nRAtMeNlDKTcUCvPtt3PtuBQA==",
           "dtype": "f8"
          },
          "color": "rgba(0,0,0,0.4)",
          "thickness": 1.5,
          "type": "data",
          "visible": true
         },
         "legendgroup": "google/gemini-2.5-pro (belief)",
         "line": {
          "color": "#1CA71C",
          "width": 2
         },
         "mode": "lines+markers",
         "name": "google/gemini-2.5-pro (belief)",
         "showlegend": false,
         "type": "scatter",
         "x": {
          "bdata": "AQIDBAUGBwgJCgsMDQ4PEBESExQ=",
          "dtype": "i1"
         },
         "xaxis": "x9",
         "y": {
          "bdata": "AAAAAIAWmUDNzMzMTGCZQGZmZmbmFZhAl2/5lm8NlkA2lNdQXo2TQM3MzMzM4JRAkiRJkiQsk0AzMzMzM5eVQKOLLrro/JdAzczMzMzdl0Crqqqqqp6XQMdxHMdxtphAiIeHh4c7lUAAAAAAQGGZQCVJkiRJaJtAdmIndmKXlkBVVVVVVY+aQOQ4juM4Gp5AAAAAAEBvoEAAAAAAwCCgQA==",
          "dtype": "f8"
         },
         "yaxis": "y9"
        },
        {
         "error_y": {
          "array": {
           "bdata": "YgCQAMo0UkBe+GWUknpGQMgANZi82klALZzo15mMVEDw5JQn+JFQQFJ4O7VQpllAHQCQWxqcUkCA1Mm54gpaQDiqYO9p1VhA8tK+9nEdXkCoki25eStoQOKjv4Y7IGFAgBQVAutBa0CkT/0mvKVqQMf8kxqAX3xAFh4ienI9dkC3ObvaagmEQPWnmEUqHINA4YXvEbu0gkASvYVMDop2QA==",
           "dtype": "f8"
          },
          "color": "rgba(0,0,0,0.4)",
          "thickness": 1.5,
          "type": "data",
          "visible": true
         },
         "legendgroup": "google/gemini-2.5-pro (history)",
         "line": {
          "color": "#FB0D0D",
          "width": 2
         },
         "mode": "lines+markers",
         "name": "google/gemini-2.5-pro (history)",
         "showlegend": false,
         "type": "scatter",
         "x": {
          "bdata": "AQIDBAUGBwgJCgsMDQ4PEBESExQ=",
          "dtype": "i1"
         },
         "xaxis": "x9",
         "y": {
          "bdata": "mpmZmRlknkCamZmZmSWXQGZmZmbm15lAMzMzM7N3mUAAAAAAgOqaQJ7YiZ3YLZxAPusGU+TPmkAppZRSSpWfQNu2bdu2pZ9ACtejcD0CoUCuR+F6FFqhQNFFF110TqBA8xrKayhzo0AAAAAAIOygQFVVVVVVaqNAXXTRRRfZpUByHMdxHGmlQMdxHMdxJqpA5DiO4zhgr0AAAAAAQGSpQA==",
          "dtype": "f8"
         },
         "yaxis": "y9"
        },
        {
         "error_y": {
          "array": {
           "bdata": "vAWTd9a+V0DyP4hPUo1iQAZuvGY7Yl9A56oIhij5YUDGs+DlO5ZoQMp0BgXARGNAOFLH/J72cUBLY/DeL4hwQArNS6/E9X9Ai0BSDUlpeUCpQ7Uw5MprQIRVx6xPLnJAlmBTh6iTbEAPDTH3h699QE4WS/JgkXZAGDHZ7DSmgUB/J6DjE0V4QG3JcbG/EIFAZPuhI3s+jkD14UQJV8mJQA==",
           "dtype": "f8"
          },
          "color": "rgba(0,0,0,0.4)",
          "thickness": 1.5,
          "type": "data",
          "visible": true
         },
         "legendgroup": "deepseek/deepseek-r1 (belief)",
         "line": {
          "color": "#2E91E5",
          "width": 2
         },
         "mode": "lines+markers",
         "name": "deepseek/deepseek-r1 (belief)",
         "showlegend": false,
         "type": "scatter",
         "x": {
          "bdata": "AQIDBAUGBwgJCgsMDQ4PEBESExQ=",
          "dtype": "i1"
         },
         "xaxis": "x4",
         "y": {
          "bdata": "zczMzMxHlkCamZmZGZ6YQM3MzMxMp51AzczMzExynkBmZmZmZpmhQJqZmZlZCaFAZmZmZuY8o0DNzMzMDMCiQOZbvuVb1KdAymsor6GLpUDkOI7juPejQB3UQR3U5aRAO6iDOqhBokAPDw8PD7GnQAgffPDBdaVA+N57770TqEBqhOWeRlCnQNu2bdu2nKdAewntJbScsUBmZmZmZluyQA==",
          "dtype": "f8"
         },
         "yaxis": "y4"
        },
        {
         "error_y": {
          "array": {
           "bdata": "AAAAAAAAAAAAAAAAAAAAAAAAAAAAAAAAAAAAAAAAAAAAAAAAAAAAAAAAAAAAAAAAAAAAAAAAAAAAAAAAAAAAAAAAAAAAAAAAAAAAAAAAAAAAAAAAAAAAAAAAAAAAAAAAAAAAAAAAAAAAAAAAAAAAAAAAAAAAAAAAAAAAAAAAAAAAAAAAAAAAAAAAAAAAAAAAAAAAAAAAAAAAAAAAAAAAAA==",
           "dtype": "f8"
          },
          "color": "rgba(0,0,0,0.4)",
          "thickness": 1.5,
          "type": "data",
          "visible": true
         },
         "legendgroup": "deepseek/deepseek-r1 (history)",
         "line": {
          "color": "#E15F99",
          "width": 2
         },
         "mode": "lines+markers",
         "name": "deepseek/deepseek-r1 (history)",
         "showlegend": false,
         "type": "scatter",
         "x": {
          "bdata": "AQIDBAUGBwgJCgsMDQ4PEBESExQ=",
          "dtype": "i1"
         },
         "xaxis": "x4",
         "y": {
          "bdata": "AAAAAAAAAAAAAAAAAAAAAAAAAAAAAAAAAAAAAAAAAAAAAAAAAAAAAAAAAAAAAAAAAAAAAAAAAAAAAAAAAAAAAAAAAAAAAAAAAAAAAAAAAAAAAAAAAAAAAAAAAAAAAAAAAAAAAAAAAAAAAAAAAAAAAAAAAAAAAAAAAAAAAAAAAAAAAAAAAAAAAAAAAAAAAAAAAAAAAAAAAAAAAAAAAAAAAA==",
          "dtype": "f8"
         },
         "yaxis": "y4"
        },
        {
         "error_y": {
          "array": {
           "bdata": "TcK8zoY0TEC2/l+2Y0lOQCn5AjwSjEdA3x1tUJ1xR0DcSqTTEdFQQLL/mQlbBUtA6rfDq2xPUkDvO7hdwctQQL9hcmL56VdAiXhOHWgVWUBRIgNHi7xZQLjIGG+/r1tAtPTdXZneYUCkUiMKkvlnQLucjUbLRmVA3Wtlg0MNY0BidcmJk2NqQK+ez0Gt/2RA9szFyaMQckAJ6O9GGqZgQA==",
           "dtype": "f8"
          },
          "color": "rgba(0,0,0,0.4)",
          "thickness": 1.5,
          "type": "data",
          "visible": true
         },
         "legendgroup": "google/gemini-2.5-pro (belief)",
         "line": {
          "color": "#1CA71C",
          "width": 2
         },
         "mode": "lines+markers",
         "name": "google/gemini-2.5-pro (belief)",
         "showlegend": false,
         "type": "scatter",
         "x": {
          "bdata": "AQIDBAUGBwgJCgsMDQ4PEBESExQ=",
          "dtype": "i1"
         },
         "xaxis": "x4",
         "y": {
          "bdata": "AAAAAADjlECamZmZGbuUQGZmZmbmUJZADdIgDdJglkBw+ZZv+QqZQL2G8hrKq5hAjuM4juONmUA5juM4jpGaQDmO4ziOy5pAwgcffPA1nUC21lprrd2aQM4555xztp1AQnsJ7SUOoEDFTuzETq2gQKuqqqrqXqJAb3rTm97SoEBddNFFFyykQFVVVVVV/6FAAAAAAAAkpkBmZmZmZlGfQA==",
          "dtype": "f8"
         },
         "yaxis": "y4"
        },
        {
         "error_y": {
          "array": {
           "bdata": "AAAAAAAAAAAAAAAAAAAAAAAAAAAAAAAAAAAAAAAAAAAAAAAAAAAAAAAAAAAAAAAAAAAAAAAAAAAAAAAAAAAAAAAAAAAAAAAAAAAAAAAAAAAAAAAAAAAAAAAAAAAAAAAAAAAAAAAAAAAAAAAAAAAAAAAAAAAAAAAAAAAAAAAAAAAAAAAAAAAAAAAAAAAAAAAAAAAAAAAAAAAAAAAAAAAAAA==",
           "dtype": "f8"
          },
          "color": "rgba(0,0,0,0.4)",
          "thickness": 1.5,
          "type": "data",
          "visible": true
         },
         "legendgroup": "google/gemini-2.5-pro (history)",
         "line": {
          "color": "#FB0D0D",
          "width": 2
         },
         "mode": "lines+markers",
         "name": "google/gemini-2.5-pro (history)",
         "showlegend": false,
         "type": "scatter",
         "x": {
          "bdata": "AQIDBAUGBwgJCgsMDQ4PEBESExQ=",
          "dtype": "i1"
         },
         "xaxis": "x4",
         "y": {
          "bdata": "AAAAAAAAAAAAAAAAAAAAAAAAAAAAAAAAAAAAAAAAAAAAAAAAAAAAAAAAAAAAAAAAAAAAAAAAAAAAAAAAAAAAAAAAAAAAAAAAAAAAAAAAAAAAAAAAAAAAAAAAAAAAAAAAAAAAAAAAAAAAAAAAAAAAAAAAAAAAAAAAAAAAAAAAAAAAAAAAAAAAAAAAAAAAAAAAAAAAAAAAAAAAAAAAAAAAAA==",
          "dtype": "f8"
         },
         "yaxis": "y4"
        },
        {
         "error_y": {
          "array": {
           "bdata": "Udtya07SZUCymNPwLSpxQCmpO4RDamhAI8YFJwp3dEDfdykIA456QAwisGrhxG5AvMjMsyHLZkDWyI/ShRtxQIU/5Vo+WWxAicsnT9t6cECod3khC6h4QHIKS4jUKWpAJD3nB3KzakDF4TotGBpyQIxRtesxpXpABn8JEfLpfUAs+sF5raeBQNy6jtoJTnpAlM4sh+JAg0BG6XX7CWt4QA==",
           "dtype": "f8"
          },
          "color": "rgba(0,0,0,0.4)",
          "thickness": 1.5,
          "type": "data",
          "visible": true
         },
         "legendgroup": "deepseek/deepseek-r1 (belief)",
         "line": {
          "color": "#2E91E5",
          "width": 2
         },
         "mode": "lines+markers",
         "name": "deepseek/deepseek-r1 (belief)",
         "showlegend": false,
         "type": "scatter",
         "x": {
          "bdata": "AQIDBAUGBwgJCgsMDQ4PEBESExQ=",
          "dtype": "i1"
         },
         "xaxis": "x10",
         "y": {
          "bdata": "AAAAAIDRl0BmZmZmJgmgQM3MzMxMPp1AZmZmZibfoEDNzMzMzDilQDMzMzMzKJ5AZmZmZuYIoEAAAAAAwJ2hQBQ7sRM78Z5AKK+hvIaQoUDkOI7jOHWgQFAHdVAHmZtALL7iK77mnEDi4eHh4WefQLrooosu4qFAEUIIIYTOpUCE5Z5GWISlQEmSJEmSFKVAOY7jOI4ho0B7FK5H4WyhQA==",
          "dtype": "f8"
         },
         "yaxis": "y10"
        },
        {
         "error_y": {
          "array": {
           "bdata": "qypUmLpkYEC7GU0fK6ZoQMAVw1BSiWlAp4ykwrBWckDcTbieu3B7QM1JoSZ1+oFAtu+eYYjChECYwBDUOBh/QD8Dbx17woNAWpJFBSlyhkBkdJ/ez4+TQAVa3cq1rY9Abzpk86RshUAOdWZetzaQQHqKrY4MIZNArT6l93O0kEBnYnq5AqeSQITA/WLfDJFAWDvwWliYkkAcMzYxGQ2MQA==",
           "dtype": "f8"
          },
          "color": "rgba(0,0,0,0.4)",
          "thickness": 1.5,
          "type": "data",
          "visible": true
         },
         "legendgroup": "deepseek/deepseek-r1 (history)",
         "line": {
          "color": "#E15F99",
          "width": 2
         },
         "mode": "lines+markers",
         "name": "deepseek/deepseek-r1 (history)",
         "showlegend": false,
         "type": "scatter",
         "x": {
          "bdata": "AQIDBAUGBwgJCgsMDQ4PEBESExQ=",
          "dtype": "i1"
         },
         "xaxis": "x10",
         "y": {
          "bdata": "zczMzEx3lEDNzMzMzOSaQDMzMzMzLJ9AZmZmZiaSoUAAAAAAQFinQBQ7sRM7i6dAG8prKK8ysEA5juM4jmysQI7jOI6jm7JAAAAAABiLskAzMzMzs+O5QGIndmInE7ZAO7ETOzFPskBGF110Uai2QAzDMAzDXMBAMzMzMzNevEDHcRzH8Se8QC0tLS0tFLlAAAAAANipwEAAAAAAoOm5QA==",
          "dtype": "f8"
         },
         "yaxis": "y10"
        },
        {
         "error_y": {
          "array": {
           "bdata": "bCVY0U8ATEDFUeTe9fFNQF/sme/ZpE9AxvFU8G0jUUBvgIEhL9NNQO5bxmd1qVRAQcY+CP2YVkCzj9OSNmtOQEeYe2fWa0pANddIdJquTkBTUHiB3oxTQHfA2uRjyVZAVWTHucDKWUDIg8KKFc5hQCq1nwfGi19AokqNL11bWkCFH7aRWi9XQHw86vlYaVlA59UE7HyrY0C2jB7d7AxhQA==",
           "dtype": "f8"
          },
          "color": "rgba(0,0,0,0.4)",
          "thickness": 1.5,
          "type": "data",
          "visible": true
         },
         "legendgroup": "google/gemini-2.5-pro (belief)",
         "line": {
          "color": "#1CA71C",
          "width": 2
         },
         "mode": "lines+markers",
         "name": "google/gemini-2.5-pro (belief)",
         "showlegend": false,
         "type": "scatter",
         "x": {
          "bdata": "AQIDBAUGBwgJCgsMDQ4PEBESExQ=",
          "dtype": "i1"
         },
         "xaxis": "x10",
         "y": {
          "bdata": "ZmZmZmZckkDNzMzMzJWUQGZmZmZm7ZRASIM0SIM0lEBcvuVbvn2SQGwor6G8hpVAq6qqqqoHl0DHcRzHcYSUQI7jOI7jxZNAwgcffPC5lUBba6211gaYQJVSSimlBJdAJrSX0F6qmUDFTuzETkyZQAAAAAAAc5lApze96U1vl0DRRRdddE+ZQFVVVVVVKZlAwzAMwzBomECamZmZmfCZQA==",
          "dtype": "f8"
         },
         "yaxis": "y10"
        },
        {
         "error_y": {
          "array": {
           "bdata": "mbq5FJviSUB/qt/G2CRPQNhqqaK3z05AR1MON5wRUUDW43MnvEtXQI3sRFI60ExAZwZgBdtFUkB8iu0fVElTQNHVGiIiR1RAkpo5HmyUW0D+yBnR7SFjQEmxuFYy82FAJoUDNcYZZkBvuPkT2y5lQDbLMQSYj3BAI5Pj0TSzdUA7la4lGfptQG9RZg45t3FArYc2NeGBcUBa530vxE94QA==",
           "dtype": "f8"
          },
          "color": "rgba(0,0,0,0.4)",
          "thickness": 1.5,
          "type": "data",
          "visible": true
         },
         "legendgroup": "google/gemini-2.5-pro (history)",
         "line": {
          "color": "#FB0D0D",
          "width": 2
         },
         "mode": "lines+markers",
         "name": "google/gemini-2.5-pro (history)",
         "showlegend": false,
         "type": "scatter",
         "x": {
          "bdata": "AQIDBAUGBwgJCgsMDQ4PEBESExQ=",
          "dtype": "i1"
         },
         "xaxis": "x10",
         "y": {
          "bdata": "ZmZmZmZDkUBmZmZm5s2TQM3MzMxMhJNAmpmZmRl2l0AzMzMzM26XQAAAAACAgZdAAAAAAABNmUDzGsprKF+ZQMprKK+hLptAr6G8hvJknUBDeQ3lNVCfQOQ4juM4VKFACCGEEELIn0AAAAAAACChQI/C9ShcvaNAXXTRRRdUqEBu27Zt22SkQJqZmZkZnqZAXkN5DeXVpUDlNZTXUKqqQA==",
          "dtype": "f8"
         },
         "yaxis": "y10"
        },
        {
         "error_y": {
          "array": {
           "bdata": "noZ0b7G1k0AY/fOMlrCWQIlwrM19hplAmqM13bmPlUA22FCiQlicQJA8g6j9Wp1AKlQY/je2oEB5+0m85HugQBdqP18/c51A3L8VyuGZoUA50ABB6V2gQDDGXFCX/6FA",
           "dtype": "f8"
          },
          "color": "rgba(0,0,0,0.4)",
          "thickness": 1.5,
          "type": "data",
          "visible": true
         },
         "legendgroup": "deepseek/deepseek-r1 (belief)",
         "line": {
          "color": "#2E91E5",
          "width": 2
         },
         "mode": "lines+markers",
         "name": "deepseek/deepseek-r1 (belief)",
         "showlegend": false,
         "type": "scatter",
         "x": {
          "bdata": "AQIDBAUGBwgJCgsM",
          "dtype": "i1"
         },
         "xaxis": "x5",
         "y": {
          "bdata": "zczMzMxlwUBmZmZmjmnSQGZmZmbeWdhAMzMzM4vN1UBP7MROrBnXQFy+5Vu+INJAHh4eHh4I1EBddNFFl4jUQG2yySZbJdBALPc0wvJ50UCSJEmS9PDRQOQ4juM43tJA",
          "dtype": "f8"
         },
         "yaxis": "y5"
        },
        {
         "error_y": {
          "array": {
           "bdata": "AAAAAAAAAAAAAAAAAAAAAAAAAAAAAAAAAAAAAAAAAAAAAAAAAAAAAAAAAAAAAAAAAAAAAAAAAAAAAAAAAAAAAAAAAAAAAAAAAAAAAAAAAAAAAAAAAAAAAAAAAAAAAAAA",
           "dtype": "f8"
          },
          "color": "rgba(0,0,0,0.4)",
          "thickness": 1.5,
          "type": "data",
          "visible": true
         },
         "legendgroup": "deepseek/deepseek-r1 (history)",
         "line": {
          "color": "#E15F99",
          "width": 2
         },
         "mode": "lines+markers",
         "name": "deepseek/deepseek-r1 (history)",
         "showlegend": false,
         "type": "scatter",
         "x": {
          "bdata": "AQIDBAUGBwgJCgsM",
          "dtype": "i1"
         },
         "xaxis": "x5",
         "y": {
          "bdata": "AAAAAAAAAAAAAAAAAAAAAAAAAAAAAAAAAAAAAAAAAAAAAAAAAAAAAAAAAAAAAAAAAAAAAAAAAAAAAAAAAAAAAAAAAAAAAAAAAAAAAAAAAAAAAAAAAAAAAAAAAAAAAAAA",
          "dtype": "f8"
         },
         "yaxis": "y5"
        },
        {
         "error_y": {
          "array": {
           "bdata": "xw1CmY7VYUAdjYqH1jVzQDOMRSEZe3BAlA8omJuWeUDIBrGWXux8QNXasoKolYBAmz/RCgfPgUAwEwpeDSOHQOA9xfxHgJxA5IMbWHzZnUAAAAAAADyBQP//////uaJA",
           "dtype": "f8"
          },
          "color": "rgba(0,0,0,0.4)",
          "thickness": 1.5,
          "type": "data",
          "visible": true
         },
         "legendgroup": "google/gemini-2.5-pro (belief)",
         "line": {
          "color": "#1CA71C",
          "width": 2
         },
         "mode": "lines+markers",
         "name": "google/gemini-2.5-pro (belief)",
         "showlegend": false,
         "type": "scatter",
         "x": {
          "bdata": "AQIDBAUGBwgJCgsM",
          "dtype": "i1"
         },
         "xaxis": "x5",
         "y": {
          "bdata": "ZmZmZuYPnkCamZmZGeWjQJqZmZkZua1AMzMzM7MvsEDYUF5DeSWuQAAAAAAgD6pAAAAAAACQo0CrqqqqqoSjQGZmZmZmE7NAAAAAAADcr0AAAAAAAL2uQAAAAAAAZKpA",
          "dtype": "f8"
         },
         "yaxis": "y5"
        },
        {
         "error_y": {
          "array": {
           "bdata": "AAAAAAAAAAAAAAAAAAAAAAAAAAAAAAAAAAAAAAAAAAAAAAAAAAAAAAAAAAAAAAAAAAAAAAAAAAAAAAAAAAAAAAAAAAAAAAAAAAAAAAAAAAAAAAAAAAAAAA==",
           "dtype": "f8"
          },
          "color": "rgba(0,0,0,0.4)",
          "thickness": 1.5,
          "type": "data",
          "visible": true
         },
         "legendgroup": "google/gemini-2.5-pro (history)",
         "line": {
          "color": "#FB0D0D",
          "width": 2
         },
         "mode": "lines+markers",
         "name": "google/gemini-2.5-pro (history)",
         "showlegend": false,
         "type": "scatter",
         "x": {
          "bdata": "AQIDBAUGBwgJCgs=",
          "dtype": "i1"
         },
         "xaxis": "x5",
         "y": {
          "bdata": "AAAAAAAAAAAAAAAAAAAAAAAAAAAAAAAAAAAAAAAAAAAAAAAAAAAAAAAAAAAAAAAAAAAAAAAAAAAAAAAAAAAAAAAAAAAAAAAAAAAAAAAAAAAAAAAAAAAAAA==",
          "dtype": "f8"
         },
         "yaxis": "y5"
        },
        {
         "error_y": {
          "array": {
           "bdata": "IkPqyXG9eECnW4nHcmGTQBBUV8oCUJhAdeuIp/zhlkAFiOiNWvuVQPB/2hP1v5xAaK0x0ODFnEBY6+7g3lSaQDyvb7hECZhARlqDSki8nUBXpzhF6TqdQBcyP7EDQppA",
           "dtype": "f8"
          },
          "color": "rgba(0,0,0,0.4)",
          "thickness": 1.5,
          "type": "data",
          "visible": true
         },
         "legendgroup": "deepseek/deepseek-r1 (belief)",
         "line": {
          "color": "#2E91E5",
          "width": 2
         },
         "mode": "lines+markers",
         "name": "deepseek/deepseek-r1 (belief)",
         "showlegend": false,
         "type": "scatter",
         "x": {
          "bdata": "AQIDBAUGBwgJCgsM",
          "dtype": "i1"
         },
         "xaxis": "x11",
         "y": {
          "bdata": "zczMzEzipUDNzMzMDCzHQJqZmZnprNBAmpmZmXko0UCDNEiD9PHQQJAGaZCGAM1AtbS0tLQmzEBlk0022RnJQHzwwQef3MZAEpZ7GuH9xkDbtm3bFkHLQCa0l9BekMRA",
          "dtype": "f8"
         },
         "yaxis": "y11"
        },
        {
         "error_y": {
          "array": {
           "bdata": "9LVzCkGWkEAdGxBdNzKVQOSkYSk0ApZA1ppCmtStkkBZfQfKUYmTQNb15fgghpFAXM8jivm0lECUIG83RgeWQAzKarWK05NAFNqp2kPLmECtjINN/tSRQL4c10OpIo1A",
           "dtype": "f8"
          },
          "color": "rgba(0,0,0,0.4)",
          "thickness": 1.5,
          "type": "data",
          "visible": true
         },
         "legendgroup": "deepseek/deepseek-r1 (history)",
         "line": {
          "color": "#E15F99",
          "width": 2
         },
         "mode": "lines+markers",
         "name": "deepseek/deepseek-r1 (history)",
         "showlegend": false,
         "type": "scatter",
         "x": {
          "bdata": "AQIDBAUGBwgJCgsM",
          "dtype": "i1"
         },
         "xaxis": "x11",
         "y": {
          "bdata": "mpmZmdlHtUAzMzMzOzXVQJqZmZnx79pAAAAAAEDJ2kAAAAAAsK7XQCivobymJtpAAAAAADxd2EDbtm3bVtDaQNFFF13Uc9pAzczMzByM2EBVVVVVtbvXQFVVVVWVdddA",
          "dtype": "f8"
         },
         "yaxis": "y11"
        },
        {
         "error_y": {
          "array": {
           "bdata": "14fRVtXXTkCHHpfsgllxQC1LCrJlHm9AShFeOeTQdUBHQ5vYVGh2QFudIOlZFHVAlWvgr2iIgUAfRTOioHl7QE++3eBNUYFAIAFjhTRklkD//////3d6QP//////13NA",
           "dtype": "f8"
          },
          "color": "rgba(0,0,0,0.4)",
          "thickness": 1.5,
          "type": "data",
          "visible": true
         },
         "legendgroup": "google/gemini-2.5-pro (belief)",
         "line": {
          "color": "#1CA71C",
          "width": 2
         },
         "mode": "lines+markers",
         "name": "google/gemini-2.5-pro (belief)",
         "showlegend": false,
         "type": "scatter",
         "x": {
          "bdata": "AQIDBAUGBwgJCgsM",
          "dtype": "i1"
         },
         "xaxis": "x11",
         "y": {
          "bdata": "MzMzM7MMmECamZmZ2deiQM3MzMxM3qxAmpmZmRlsr0CH8hrKa16tQAAAAADg56VAyEIWspCnpEByHMdxHLGiQM3MzMzMcqdAAAAAAAAwr0AAAAAAgIi5QAAAAAAAPpJA",
          "dtype": "f8"
         },
         "yaxis": "y11"
        },
        {
         "error_y": {
          "array": {
           "bdata": "ZO9j9jnjZEAsj2Gwur1xQELGq1Kd5XpAGKFrPMvWdUAa/xnJ63l5QJD13JdN8n5A/2aMcnPBh0Bvz4y465mSQPqvqvKvc5NADoABPqMHiUD//////3uTQA==",
           "dtype": "f8"
          },
          "color": "rgba(0,0,0,0.4)",
          "thickness": 1.5,
          "type": "data",
          "visible": true
         },
         "legendgroup": "google/gemini-2.5-pro (history)",
         "line": {
          "color": "#FB0D0D",
          "width": 2
         },
         "mode": "lines+markers",
         "name": "google/gemini-2.5-pro (history)",
         "showlegend": false,
         "type": "scatter",
         "x": {
          "bdata": "AQIDBAUGBwgJCgs=",
          "dtype": "i1"
         },
         "xaxis": "x11",
         "y": {
          "bdata": "zczMzIyQo0AAAAAAgAiqQAAAAABAZrNAAAAAAMDQtUC1tLS0NBK5QFtrrbXWALpAwzAMw7ASwEDpoosuOrDCQAAAAADA+LZAq6qqqqo+rUAAAAAAAJK1QA==",
          "dtype": "f8"
         },
         "yaxis": "y11"
        },
        {
         "error_y": {
          "array": {
           "bdata": "xjQzo5JJXUCMl2ZxghFhQP5Q+mXwTVxAFo5XKbbRakCihh61mBtmQLibCNPdO19A8gzpSARFYkCQbF5PratnQEaaDs9zg2JAJ5HHOGiHZEDC0WjKkqVgQBglYqEfxG9AtTfcVkFiYUD5qzC7FfZaQBMDJHxPZGJAOsGOZZf7W0C2ikIylipcQKYbhsBdumJAsrSUSHsOYkCcH8OQM89hQA==",
           "dtype": "f8"
          },
          "color": "rgba(0,0,0,0.4)",
          "thickness": 1.5,
          "type": "data",
          "visible": true
         },
         "legendgroup": "deepseek/deepseek-r1 (belief)",
         "line": {
          "color": "#2E91E5",
          "width": 2
         },
         "mode": "lines+markers",
         "name": "deepseek/deepseek-r1 (belief)",
         "showlegend": false,
         "type": "scatter",
         "x": {
          "bdata": "AQIDBAUGBwgJCgsMDQ4PEBESExQ=",
          "dtype": "i1"
         },
         "xaxis": "x6",
         "y": {
          "bdata": "MzMzM7Ogn0DNzMzMzPuiQJqZmZlZl6BAZmZmZqZDpUAAAAAAwCGjQAAAAAAAcKNAzczMzMzZokAAAAAAgPqlQM3MzMyMxKJAAAAAAMDsokCamZmZmaOhQJqZmZnZQqVAZmZmZqYfo0AAAAAAQIChQAAAAABAfKNALt/yLd+AoEBIgzRIg5ChQNIgDdIgXaJAh/IaymuXoUDkOI7juB2iQA==",
          "dtype": "f8"
         },
         "yaxis": "y6"
        },
        {
         "error_y": {
          "array": {
           "bdata": "AAAAAAAAAAAAAAAAAAAAAAAAAAAAAAAAAAAAAAAAAAAAAAAAAAAAAAAAAAAAAAAAAAAAAAAAAAAAAAAAAAAAAAAAAAAAAAAAAAAAAAAAAAAAAAAAAAAAAAAAAAAAAAAAAAAAAAAAAAAAAAAAAAAAAAAAAAAAAAAAAAAAAAAAAAAAAAAAAAAAAAAAAAAAAAAAAAAAAAAAAAAAAAAAAAAAAA==",
           "dtype": "f8"
          },
          "color": "rgba(0,0,0,0.4)",
          "thickness": 1.5,
          "type": "data",
          "visible": true
         },
         "legendgroup": "deepseek/deepseek-r1 (history)",
         "line": {
          "color": "#E15F99",
          "width": 2
         },
         "mode": "lines+markers",
         "name": "deepseek/deepseek-r1 (history)",
         "showlegend": false,
         "type": "scatter",
         "x": {
          "bdata": "AQIDBAUGBwgJCgsMDQ4PEBESExQ=",
          "dtype": "i1"
         },
         "xaxis": "x6",
         "y": {
          "bdata": "AAAAAAAAAAAAAAAAAAAAAAAAAAAAAAAAAAAAAAAAAAAAAAAAAAAAAAAAAAAAAAAAAAAAAAAAAAAAAAAAAAAAAAAAAAAAAAAAAAAAAAAAAAAAAAAAAAAAAAAAAAAAAAAAAAAAAAAAAAAAAAAAAAAAAAAAAAAAAAAAAAAAAAAAAAAAAAAAAAAAAAAAAAAAAAAAAAAAAAAAAAAAAAAAAAAAAA==",
          "dtype": "f8"
         },
         "yaxis": "y6"
        },
        {
         "error_y": {
          "array": {
           "bdata": "Y3xNBaOITUBx4X8TGYlJQNn2hFpLWEZAVvVfdHvNTUCWUy7MqsZQQMaDlML5j0lA+uAC29EIS0C/YbacxOxMQOPgGMSobk9A8ozUvyZMTUBm5mE3M5FUQEDSyK18xFZAQgF9AqjBVEDp8WZ+Vk5RQPUagLpkl1dA/wh0Lb/NWEAx+9CFRPlcQHDoU36jgGBAxRrjeYyTZUBBjt40otpVQA==",
           "dtype": "f8"
          },
          "color": "rgba(0,0,0,0.4)",
          "thickness": 1.5,
          "type": "data",
          "visible": true
         },
         "legendgroup": "google/gemini-2.5-pro (belief)",
         "line": {
          "color": "#1CA71C",
          "width": 2
         },
         "mode": "lines+markers",
         "name": "google/gemini-2.5-pro (belief)",
         "showlegend": false,
         "type": "scatter",
         "x": {
          "bdata": "AQIDBAUGBwgJCgsMDQ4PEBESExQ=",
          "dtype": "i1"
         },
         "xaxis": "x6",
         "y": {
          "bdata": "MzMzMzO6mkAzMzMzs8CaQGZmZmbmnpxAMzMzM7NanUCamZmZmUedQAAAAAAAUJ5AzczMzMxankAAAAAAACCdQN/yLd/ymZ1A5TWU11DsnEDJZ91gikidQM4555xz6ppAZmZmZmammkCGYRiGYWyeQM/zPM/zFJtAtbS0tLSEm0CSJEmSJOefQAAAAAAAPJ9AVVVVVVXUlUAAAAAAAJaeQA==",
          "dtype": "f8"
         },
         "yaxis": "y6"
        },
        {
         "error_y": {
          "array": {
           "bdata": "AAAAAAAAAAAAAAAAAAAAAAAAAAAAAAAAAAAAAAAAAAAAAAAAAAAAAAAAAAAAAAAAAAAAAAAAAAAAAAAAAAAAAAAAAAAAAAAAAAAAAAAAAAAAAAAAAAAAAAAAAAAAAAAAAAAAAAAAAAAAAAAAAAAAAAAAAAAAAAAAAAAAAAAAAAAAAAAAAAAAAAAAAAAAAAAAAAAAAAAAAAAAAAAAAAAAAA==",
           "dtype": "f8"
          },
          "color": "rgba(0,0,0,0.4)",
          "thickness": 1.5,
          "type": "data",
          "visible": true
         },
         "legendgroup": "google/gemini-2.5-pro (history)",
         "line": {
          "color": "#FB0D0D",
          "width": 2
         },
         "mode": "lines+markers",
         "name": "google/gemini-2.5-pro (history)",
         "showlegend": false,
         "type": "scatter",
         "x": {
          "bdata": "AQIDBAUGBwgJCgsMDQ4PEBESExQ=",
          "dtype": "i1"
         },
         "xaxis": "x6",
         "y": {
          "bdata": "AAAAAAAAAAAAAAAAAAAAAAAAAAAAAAAAAAAAAAAAAAAAAAAAAAAAAAAAAAAAAAAAAAAAAAAAAAAAAAAAAAAAAAAAAAAAAAAAAAAAAAAAAAAAAAAAAAAAAAAAAAAAAAAAAAAAAAAAAAAAAAAAAAAAAAAAAAAAAAAAAAAAAAAAAAAAAAAAAAAAAAAAAAAAAAAAAAAAAAAAAAAAAAAAAAAAAA==",
          "dtype": "f8"
         },
         "yaxis": "y6"
        },
        {
         "error_y": {
          "array": {
           "bdata": "WME429I8Z0D8PjqsE8VvQLRK7TAQ23FAq4p3gexBcEBDZu7IT5l0QKS6yX56q3ZAI3Zce5S9akC8H2SBQgh1QFyc/1TQGmhAB2ntvBoucUBNBkvD0CRxQINMtFItq2hAeq7mXP4PaED7gZ9XqGp3QE5r+rtgfGxApNaqLglWc0BZwGe6/LhqQHqSbzKufGpA/gO5W6+tcUCBqCBB11l7QA==",
           "dtype": "f8"
          },
          "color": "rgba(0,0,0,0.4)",
          "thickness": 1.5,
          "type": "data",
          "visible": true
         },
         "legendgroup": "deepseek/deepseek-r1 (belief)",
         "line": {
          "color": "#2E91E5",
          "width": 2
         },
         "mode": "lines+markers",
         "name": "deepseek/deepseek-r1 (belief)",
         "showlegend": false,
         "type": "scatter",
         "x": {
          "bdata": "AQIDBAUGBwgJCgsMDQ4PEBESExQ=",
          "dtype": "i1"
         },
         "xaxis": "x12",
         "y": {
          "bdata": "mpmZmZnsoEAAAAAAQJeoQJqZmZlZxKVAmpmZmVlGo0BmZmZm5hqkQAAAAAAAzKVAmpmZmVnqpEAzMzMz8zWiQDMzMzMzWqNAmpmZmdmzpUCamZmZmfCiQAAAAADAnKNAzczMzAyJoUDNzMzMDM2kQAAAAAAAFKVAgzRIgzSspUCDNEiDNLykQHD5lm/57qJAKK+hvIYIpECO4ziO46KnQA==",
          "dtype": "f8"
         },
         "yaxis": "y12"
        },
        {
         "error_y": {
          "array": {
           "bdata": "jXh3dH/IckDLh5Ov9zxsQH6Dn5Dfj3FArXJyDo2CZ0DgngeQ6wF1QG8yc9foNHtAw/gwr5HvdUDkKilO06CBQKRWFvtK+3tAEyBg88ZEg0Des13O3bx7QFyA2Ow3zYNALrImLNsIg0B4KH+cr1N5QPE7hmpKjIVAxH8WtaWvkUAuACeQ7Q6SQLpdOzVrgIRAD51OVo5phEAyVyfUa6eFQA==",
           "dtype": "f8"
          },
          "color": "rgba(0,0,0,0.4)",
          "thickness": 1.5,
          "type": "data",
          "visible": true
         },
         "legendgroup": "deepseek/deepseek-r1 (history)",
         "line": {
          "color": "#E15F99",
          "width": 2
         },
         "mode": "lines+markers",
         "name": "deepseek/deepseek-r1 (history)",
         "showlegend": false,
         "type": "scatter",
         "x": {
          "bdata": "AQIDBAUGBwgJCgsMDQ4PEBESExQ=",
          "dtype": "i1"
         },
         "xaxis": "x12",
         "y": {
          "bdata": "AAAAAIBAqUAAAAAAQNWhQM3MzMzMT6VAmpmZmdk2okCamZmZWRapQJqZmZmZSa9AZmZmZqbYrEDYUF5DefWxQDmO4zjOOrBAiIeHh4eMs0DwwQcffP+wQAAAAAC4PLFAAAAAAABKskBu27Zt21+sQE5vetObE7FAKK+hvIaOs0DlNZTXUEi6QHIcx3EcvK5AVVVVVVVVrUAAAAAAgKymQA==",
          "dtype": "f8"
         },
         "yaxis": "y12"
        },
        {
         "error_y": {
          "array": {
           "bdata": "eRwjk081TEDrCyBHab5KQDApH8NGv0xASSCtQOW4T0BXEhQ1PeBOQNHe1dxIUE5AKqirI8tKS0CUSrbzQjJJQDd+oIgIH0tAElSa4BLcSUCfWTSb1sJFQCg13v7IHVNAyVhFjT55UEDh5QxF4KdVQJiePEFlI1JAKJvXC9JxVEAaQyrV9YlaQHflic7VzVZAJbsI6ADUb0APHFt5KBdZQA==",
           "dtype": "f8"
          },
          "color": "rgba(0,0,0,0.4)",
          "thickness": 1.5,
          "type": "data",
          "visible": true
         },
         "legendgroup": "google/gemini-2.5-pro (belief)",
         "line": {
          "color": "#1CA71C",
          "width": 2
         },
         "mode": "lines+markers",
         "name": "google/gemini-2.5-pro (belief)",
         "showlegend": false,
         "type": "scatter",
         "x": {
          "bdata": "AQIDBAUGBwgJCgsMDQ4PEBESExQ=",
          "dtype": "i1"
         },
         "xaxis": "x12",
         "y": {
          "bdata": "zczMzMwBmEAzMzMzMx2XQM3MzMzMxZdAzczMzMwkmUAAAAAAgDGZQJqZmZkZBplAmpmZmZl9l0AzMzMzs6KYQLh8y7d8r5dAAAAAAACelkBvMEU+69qWQDLGGGOM8ZZAKVyPwvX0lkDbtm3bthWWQJ7neZ7n2ZVA4uHh4eGdmEC3bdu2bTGaQDuxEzuxj5ZAAAAAAAD6nEAAAAAAAHyYQA==",
          "dtype": "f8"
         },
         "yaxis": "y12"
        },
        {
         "error_y": {
          "array": {
           "bdata": "Ku2nWEkWSUAIexTETApPQFtTxhSCtk1A1bUFgDmwTEDx+qVhLY5KQNeBwMV/nUdAou9MgP4xS0A8V1s2+BdRQMIpXG0UGlBAWHL006cxT0CARkHoFhtSQOC1mKHTB1ZADPBL1HSVUECJBgVfWapXQN+XrlbpwVhAu9FVqsuyVUB5cme4FO9cQFTs+YuGE2dARbO71Mh7Y0AEKH52PVlhQA==",
           "dtype": "f8"
          },
          "color": "rgba(0,0,0,0.4)",
          "thickness": 1.5,
          "type": "data",
          "visible": true
         },
         "legendgroup": "google/gemini-2.5-pro (history)",
         "line": {
          "color": "#FB0D0D",
          "width": 2
         },
         "mode": "lines+markers",
         "name": "google/gemini-2.5-pro (history)",
         "showlegend": false,
         "type": "scatter",
         "x": {
          "bdata": "AQIDBAUGBwgJCgsMDQ4PEBESExQ=",
          "dtype": "i1"
         },
         "xaxis": "x12",
         "y": {
          "bdata": "ZmZmZua3mUDNzMzMTCuZQDMzMzMz2ZpAAAAAAACXmkDNzMzMzFaaQM3MzMxMBp1AMzMzM7M2nkBmZmZm5m2eQAAAAAAAOp5AT+zETuwYnUCivIbyGmKeQMdxHMdxvZtAAAAAAKD2m0BERERERN6aQAAAAAAAbJ5AntiJndivmUBmZmZmZjWbQAAAAADAGZ5AzczMzMxom0DHcRzHcXScQA==",
          "dtype": "f8"
         },
         "yaxis": "y12"
        }
       ],
       "layout": {
        "annotations": [
         {
          "font": {
           "size": 16
          },
          "showarrow": false,
          "text": "customer_service",
          "x": 0.06777777777777778,
          "xanchor": "center",
          "xref": "paper",
          "y": 1,
          "yanchor": "bottom",
          "yref": "paper"
         },
         {
          "font": {
           "size": 16
          },
          "showarrow": false,
          "text": "wordle",
          "x": 0.2366666666666667,
          "xanchor": "center",
          "xref": "paper",
          "y": 1,
          "yanchor": "bottom",
          "yref": "paper"
         },
         {
          "font": {
           "size": 16
          },
          "showarrow": false,
          "text": "guess_my_city",
          "x": 0.40555555555555556,
          "xanchor": "center",
          "xref": "paper",
          "y": 1,
          "yanchor": "bottom",
          "yref": "paper"
         },
         {
          "font": {
           "size": 16
          },
          "showarrow": false,
          "text": "twenty_questions",
          "x": 0.5744444444444445,
          "xanchor": "center",
          "xref": "paper",
          "y": 1,
          "yanchor": "bottom",
          "yref": "paper"
         },
         {
          "font": {
           "size": 16
          },
          "showarrow": false,
          "text": "mastermind",
          "x": 0.7433333333333334,
          "xanchor": "center",
          "xref": "paper",
          "y": 1,
          "yanchor": "bottom",
          "yref": "paper"
         },
         {
          "font": {
           "size": 16
          },
          "showarrow": false,
          "text": "murder_mystery",
          "x": 0.9122222222222223,
          "xanchor": "center",
          "xref": "paper",
          "y": 1,
          "yanchor": "bottom",
          "yref": "paper"
         },
         {
          "font": {
           "size": 16
          },
          "showarrow": false,
          "text": "Belief Reasoning",
          "textangle": 90,
          "x": 0.98,
          "xanchor": "left",
          "xref": "paper",
          "y": 0.8125,
          "yanchor": "middle",
          "yref": "paper"
         },
         {
          "font": {
           "size": 16
          },
          "showarrow": false,
          "text": "Action Reasoning",
          "textangle": 90,
          "x": 0.98,
          "xanchor": "left",
          "xref": "paper",
          "y": 0.1875,
          "yanchor": "middle",
          "yref": "paper"
         }
        ],
        "font": {
         "family": "Times New Roman, serif",
         "size": 14
        },
        "height": 700,
        "legend": {
         "bgcolor": "rgba(255,255,255,0.9)",
         "bordercolor": "black",
         "borderwidth": 1,
         "orientation": "h",
         "x": 0.5,
         "xanchor": "center",
         "y": 1.1,
         "yanchor": "bottom"
        },
        "paper_bgcolor": "white",
        "plot_bgcolor": "white",
        "template": {
         "data": {
          "bar": [
           {
            "error_x": {
             "color": "#2a3f5f"
            },
            "error_y": {
             "color": "#2a3f5f"
            },
            "marker": {
             "line": {
              "color": "#E5ECF6",
              "width": 0.5
             },
             "pattern": {
              "fillmode": "overlay",
              "size": 10,
              "solidity": 0.2
             }
            },
            "type": "bar"
           }
          ],
          "barpolar": [
           {
            "marker": {
             "line": {
              "color": "#E5ECF6",
              "width": 0.5
             },
             "pattern": {
              "fillmode": "overlay",
              "size": 10,
              "solidity": 0.2
             }
            },
            "type": "barpolar"
           }
          ],
          "carpet": [
           {
            "aaxis": {
             "endlinecolor": "#2a3f5f",
             "gridcolor": "white",
             "linecolor": "white",
             "minorgridcolor": "white",
             "startlinecolor": "#2a3f5f"
            },
            "baxis": {
             "endlinecolor": "#2a3f5f",
             "gridcolor": "white",
             "linecolor": "white",
             "minorgridcolor": "white",
             "startlinecolor": "#2a3f5f"
            },
            "type": "carpet"
           }
          ],
          "choropleth": [
           {
            "colorbar": {
             "outlinewidth": 0,
             "ticks": ""
            },
            "type": "choropleth"
           }
          ],
          "contour": [
           {
            "colorbar": {
             "outlinewidth": 0,
             "ticks": ""
            },
            "colorscale": [
             [
              0,
              "#0d0887"
             ],
             [
              0.1111111111111111,
              "#46039f"
             ],
             [
              0.2222222222222222,
              "#7201a8"
             ],
             [
              0.3333333333333333,
              "#9c179e"
             ],
             [
              0.4444444444444444,
              "#bd3786"
             ],
             [
              0.5555555555555556,
              "#d8576b"
             ],
             [
              0.6666666666666666,
              "#ed7953"
             ],
             [
              0.7777777777777778,
              "#fb9f3a"
             ],
             [
              0.8888888888888888,
              "#fdca26"
             ],
             [
              1,
              "#f0f921"
             ]
            ],
            "type": "contour"
           }
          ],
          "contourcarpet": [
           {
            "colorbar": {
             "outlinewidth": 0,
             "ticks": ""
            },
            "type": "contourcarpet"
           }
          ],
          "heatmap": [
           {
            "colorbar": {
             "outlinewidth": 0,
             "ticks": ""
            },
            "colorscale": [
             [
              0,
              "#0d0887"
             ],
             [
              0.1111111111111111,
              "#46039f"
             ],
             [
              0.2222222222222222,
              "#7201a8"
             ],
             [
              0.3333333333333333,
              "#9c179e"
             ],
             [
              0.4444444444444444,
              "#bd3786"
             ],
             [
              0.5555555555555556,
              "#d8576b"
             ],
             [
              0.6666666666666666,
              "#ed7953"
             ],
             [
              0.7777777777777778,
              "#fb9f3a"
             ],
             [
              0.8888888888888888,
              "#fdca26"
             ],
             [
              1,
              "#f0f921"
             ]
            ],
            "type": "heatmap"
           }
          ],
          "histogram": [
           {
            "marker": {
             "pattern": {
              "fillmode": "overlay",
              "size": 10,
              "solidity": 0.2
             }
            },
            "type": "histogram"
           }
          ],
          "histogram2d": [
           {
            "colorbar": {
             "outlinewidth": 0,
             "ticks": ""
            },
            "colorscale": [
             [
              0,
              "#0d0887"
             ],
             [
              0.1111111111111111,
              "#46039f"
             ],
             [
              0.2222222222222222,
              "#7201a8"
             ],
             [
              0.3333333333333333,
              "#9c179e"
             ],
             [
              0.4444444444444444,
              "#bd3786"
             ],
             [
              0.5555555555555556,
              "#d8576b"
             ],
             [
              0.6666666666666666,
              "#ed7953"
             ],
             [
              0.7777777777777778,
              "#fb9f3a"
             ],
             [
              0.8888888888888888,
              "#fdca26"
             ],
             [
              1,
              "#f0f921"
             ]
            ],
            "type": "histogram2d"
           }
          ],
          "histogram2dcontour": [
           {
            "colorbar": {
             "outlinewidth": 0,
             "ticks": ""
            },
            "colorscale": [
             [
              0,
              "#0d0887"
             ],
             [
              0.1111111111111111,
              "#46039f"
             ],
             [
              0.2222222222222222,
              "#7201a8"
             ],
             [
              0.3333333333333333,
              "#9c179e"
             ],
             [
              0.4444444444444444,
              "#bd3786"
             ],
             [
              0.5555555555555556,
              "#d8576b"
             ],
             [
              0.6666666666666666,
              "#ed7953"
             ],
             [
              0.7777777777777778,
              "#fb9f3a"
             ],
             [
              0.8888888888888888,
              "#fdca26"
             ],
             [
              1,
              "#f0f921"
             ]
            ],
            "type": "histogram2dcontour"
           }
          ],
          "mesh3d": [
           {
            "colorbar": {
             "outlinewidth": 0,
             "ticks": ""
            },
            "type": "mesh3d"
           }
          ],
          "parcoords": [
           {
            "line": {
             "colorbar": {
              "outlinewidth": 0,
              "ticks": ""
             }
            },
            "type": "parcoords"
           }
          ],
          "pie": [
           {
            "automargin": true,
            "type": "pie"
           }
          ],
          "scatter": [
           {
            "fillpattern": {
             "fillmode": "overlay",
             "size": 10,
             "solidity": 0.2
            },
            "type": "scatter"
           }
          ],
          "scatter3d": [
           {
            "line": {
             "colorbar": {
              "outlinewidth": 0,
              "ticks": ""
             }
            },
            "marker": {
             "colorbar": {
              "outlinewidth": 0,
              "ticks": ""
             }
            },
            "type": "scatter3d"
           }
          ],
          "scattercarpet": [
           {
            "marker": {
             "colorbar": {
              "outlinewidth": 0,
              "ticks": ""
             }
            },
            "type": "scattercarpet"
           }
          ],
          "scattergeo": [
           {
            "marker": {
             "colorbar": {
              "outlinewidth": 0,
              "ticks": ""
             }
            },
            "type": "scattergeo"
           }
          ],
          "scattergl": [
           {
            "marker": {
             "colorbar": {
              "outlinewidth": 0,
              "ticks": ""
             }
            },
            "type": "scattergl"
           }
          ],
          "scattermap": [
           {
            "marker": {
             "colorbar": {
              "outlinewidth": 0,
              "ticks": ""
             }
            },
            "type": "scattermap"
           }
          ],
          "scattermapbox": [
           {
            "marker": {
             "colorbar": {
              "outlinewidth": 0,
              "ticks": ""
             }
            },
            "type": "scattermapbox"
           }
          ],
          "scatterpolar": [
           {
            "marker": {
             "colorbar": {
              "outlinewidth": 0,
              "ticks": ""
             }
            },
            "type": "scatterpolar"
           }
          ],
          "scatterpolargl": [
           {
            "marker": {
             "colorbar": {
              "outlinewidth": 0,
              "ticks": ""
             }
            },
            "type": "scatterpolargl"
           }
          ],
          "scatterternary": [
           {
            "marker": {
             "colorbar": {
              "outlinewidth": 0,
              "ticks": ""
             }
            },
            "type": "scatterternary"
           }
          ],
          "surface": [
           {
            "colorbar": {
             "outlinewidth": 0,
             "ticks": ""
            },
            "colorscale": [
             [
              0,
              "#0d0887"
             ],
             [
              0.1111111111111111,
              "#46039f"
             ],
             [
              0.2222222222222222,
              "#7201a8"
             ],
             [
              0.3333333333333333,
              "#9c179e"
             ],
             [
              0.4444444444444444,
              "#bd3786"
             ],
             [
              0.5555555555555556,
              "#d8576b"
             ],
             [
              0.6666666666666666,
              "#ed7953"
             ],
             [
              0.7777777777777778,
              "#fb9f3a"
             ],
             [
              0.8888888888888888,
              "#fdca26"
             ],
             [
              1,
              "#f0f921"
             ]
            ],
            "type": "surface"
           }
          ],
          "table": [
           {
            "cells": {
             "fill": {
              "color": "#EBF0F8"
             },
             "line": {
              "color": "white"
             }
            },
            "header": {
             "fill": {
              "color": "#C8D4E3"
             },
             "line": {
              "color": "white"
             }
            },
            "type": "table"
           }
          ]
         },
         "layout": {
          "annotationdefaults": {
           "arrowcolor": "#2a3f5f",
           "arrowhead": 0,
           "arrowwidth": 1
          },
          "autotypenumbers": "strict",
          "coloraxis": {
           "colorbar": {
            "outlinewidth": 0,
            "ticks": ""
           }
          },
          "colorscale": {
           "diverging": [
            [
             0,
             "#8e0152"
            ],
            [
             0.1,
             "#c51b7d"
            ],
            [
             0.2,
             "#de77ae"
            ],
            [
             0.3,
             "#f1b6da"
            ],
            [
             0.4,
             "#fde0ef"
            ],
            [
             0.5,
             "#f7f7f7"
            ],
            [
             0.6,
             "#e6f5d0"
            ],
            [
             0.7,
             "#b8e186"
            ],
            [
             0.8,
             "#7fbc41"
            ],
            [
             0.9,
             "#4d9221"
            ],
            [
             1,
             "#276419"
            ]
           ],
           "sequential": [
            [
             0,
             "#0d0887"
            ],
            [
             0.1111111111111111,
             "#46039f"
            ],
            [
             0.2222222222222222,
             "#7201a8"
            ],
            [
             0.3333333333333333,
             "#9c179e"
            ],
            [
             0.4444444444444444,
             "#bd3786"
            ],
            [
             0.5555555555555556,
             "#d8576b"
            ],
            [
             0.6666666666666666,
             "#ed7953"
            ],
            [
             0.7777777777777778,
             "#fb9f3a"
            ],
            [
             0.8888888888888888,
             "#fdca26"
            ],
            [
             1,
             "#f0f921"
            ]
           ],
           "sequentialminus": [
            [
             0,
             "#0d0887"
            ],
            [
             0.1111111111111111,
             "#46039f"
            ],
            [
             0.2222222222222222,
             "#7201a8"
            ],
            [
             0.3333333333333333,
             "#9c179e"
            ],
            [
             0.4444444444444444,
             "#bd3786"
            ],
            [
             0.5555555555555556,
             "#d8576b"
            ],
            [
             0.6666666666666666,
             "#ed7953"
            ],
            [
             0.7777777777777778,
             "#fb9f3a"
            ],
            [
             0.8888888888888888,
             "#fdca26"
            ],
            [
             1,
             "#f0f921"
            ]
           ]
          },
          "colorway": [
           "#636efa",
           "#EF553B",
           "#00cc96",
           "#ab63fa",
           "#FFA15A",
           "#19d3f3",
           "#FF6692",
           "#B6E880",
           "#FF97FF",
           "#FECB52"
          ],
          "font": {
           "color": "#2a3f5f"
          },
          "geo": {
           "bgcolor": "white",
           "lakecolor": "white",
           "landcolor": "#E5ECF6",
           "showlakes": true,
           "showland": true,
           "subunitcolor": "white"
          },
          "hoverlabel": {
           "align": "left"
          },
          "hovermode": "closest",
          "mapbox": {
           "style": "light"
          },
          "paper_bgcolor": "white",
          "plot_bgcolor": "#E5ECF6",
          "polar": {
           "angularaxis": {
            "gridcolor": "white",
            "linecolor": "white",
            "ticks": ""
           },
           "bgcolor": "#E5ECF6",
           "radialaxis": {
            "gridcolor": "white",
            "linecolor": "white",
            "ticks": ""
           }
          },
          "scene": {
           "xaxis": {
            "backgroundcolor": "#E5ECF6",
            "gridcolor": "white",
            "gridwidth": 2,
            "linecolor": "white",
            "showbackground": true,
            "ticks": "",
            "zerolinecolor": "white"
           },
           "yaxis": {
            "backgroundcolor": "#E5ECF6",
            "gridcolor": "white",
            "gridwidth": 2,
            "linecolor": "white",
            "showbackground": true,
            "ticks": "",
            "zerolinecolor": "white"
           },
           "zaxis": {
            "backgroundcolor": "#E5ECF6",
            "gridcolor": "white",
            "gridwidth": 2,
            "linecolor": "white",
            "showbackground": true,
            "ticks": "",
            "zerolinecolor": "white"
           }
          },
          "shapedefaults": {
           "line": {
            "color": "#2a3f5f"
           }
          },
          "ternary": {
           "aaxis": {
            "gridcolor": "white",
            "linecolor": "white",
            "ticks": ""
           },
           "baxis": {
            "gridcolor": "white",
            "linecolor": "white",
            "ticks": ""
           },
           "bgcolor": "#E5ECF6",
           "caxis": {
            "gridcolor": "white",
            "linecolor": "white",
            "ticks": ""
           }
          },
          "title": {
           "x": 0.05
          },
          "xaxis": {
           "automargin": true,
           "gridcolor": "white",
           "linecolor": "white",
           "ticks": "",
           "title": {
            "standoff": 15
           },
           "zerolinecolor": "white",
           "zerolinewidth": 2
          },
          "yaxis": {
           "automargin": true,
           "gridcolor": "white",
           "linecolor": "white",
           "ticks": "",
           "title": {
            "standoff": 15
           },
           "zerolinecolor": "white",
           "zerolinewidth": 2
          }
         }
        },
        "width": 1200,
        "xaxis": {
         "anchor": "y",
         "color": "black",
         "domain": [
          0,
          0.13555555555555557
         ],
         "linecolor": "black",
         "linewidth": 1,
         "showgrid": false,
         "showline": true,
         "title": {
          "text": "Step"
         }
        },
        "xaxis10": {
         "anchor": "y10",
         "color": "black",
         "domain": [
          0.5066666666666667,
          0.6422222222222222
         ],
         "linecolor": "black",
         "linewidth": 1,
         "showgrid": false,
         "showline": true,
         "title": {
          "text": "Step"
         }
        },
        "xaxis11": {
         "anchor": "y11",
         "color": "black",
         "domain": [
          0.6755555555555556,
          0.8111111111111111
         ],
         "linecolor": "black",
         "linewidth": 1,
         "showgrid": false,
         "showline": true,
         "title": {
          "text": "Step"
         }
        },
        "xaxis12": {
         "anchor": "y12",
         "color": "black",
         "domain": [
          0.8444444444444444,
          0.98
         ],
         "linecolor": "black",
         "linewidth": 1,
         "showgrid": false,
         "showline": true,
         "title": {
          "text": "Step"
         }
        },
        "xaxis2": {
         "anchor": "y2",
         "color": "black",
         "domain": [
          0.1688888888888889,
          0.30444444444444446
         ],
         "linecolor": "black",
         "linewidth": 1,
         "showgrid": false,
         "showline": true,
         "title": {
          "text": "Step"
         }
        },
        "xaxis3": {
         "anchor": "y3",
         "color": "black",
         "domain": [
          0.3377777777777778,
          0.4733333333333334
         ],
         "linecolor": "black",
         "linewidth": 1,
         "showgrid": false,
         "showline": true,
         "title": {
          "text": "Step"
         }
        },
        "xaxis4": {
         "anchor": "y4",
         "color": "black",
         "domain": [
          0.5066666666666667,
          0.6422222222222222
         ],
         "linecolor": "black",
         "linewidth": 1,
         "showgrid": false,
         "showline": true,
         "title": {
          "text": "Step"
         }
        },
        "xaxis5": {
         "anchor": "y5",
         "color": "black",
         "domain": [
          0.6755555555555556,
          0.8111111111111111
         ],
         "linecolor": "black",
         "linewidth": 1,
         "showgrid": false,
         "showline": true,
         "title": {
          "text": "Step"
         }
        },
        "xaxis6": {
         "anchor": "y6",
         "color": "black",
         "domain": [
          0.8444444444444444,
          0.98
         ],
         "linecolor": "black",
         "linewidth": 1,
         "showgrid": false,
         "showline": true,
         "title": {
          "text": "Step"
         }
        },
        "xaxis7": {
         "anchor": "y7",
         "color": "black",
         "domain": [
          0,
          0.13555555555555557
         ],
         "linecolor": "black",
         "linewidth": 1,
         "showgrid": false,
         "showline": true,
         "title": {
          "text": "Step"
         }
        },
        "xaxis8": {
         "anchor": "y8",
         "color": "black",
         "domain": [
          0.1688888888888889,
          0.30444444444444446
         ],
         "linecolor": "black",
         "linewidth": 1,
         "showgrid": false,
         "showline": true,
         "title": {
          "text": "Step"
         }
        },
        "xaxis9": {
         "anchor": "y9",
         "color": "black",
         "domain": [
          0.3377777777777778,
          0.4733333333333334
         ],
         "linecolor": "black",
         "linewidth": 1,
         "showgrid": false,
         "showline": true,
         "title": {
          "text": "Step"
         }
        },
        "yaxis": {
         "anchor": "x",
         "domain": [
          0.625,
          1
         ],
         "gridcolor": "lightgray",
         "linecolor": "black",
         "linewidth": 1,
         "showgrid": true,
         "showline": true,
         "tickfont": {
          "color": "black"
         },
         "title": {
          "text": "Belief Reasoning Length"
         }
        },
        "yaxis10": {
         "anchor": "x10",
         "domain": [
          0,
          0.375
         ],
         "gridcolor": "lightgray",
         "linecolor": "black",
         "linewidth": 1,
         "showgrid": true,
         "showline": true,
         "tickfont": {
          "color": "black"
         }
        },
        "yaxis11": {
         "anchor": "x11",
         "domain": [
          0,
          0.375
         ],
         "gridcolor": "lightgray",
         "linecolor": "black",
         "linewidth": 1,
         "showgrid": true,
         "showline": true,
         "tickfont": {
          "color": "black"
         }
        },
        "yaxis12": {
         "anchor": "x12",
         "domain": [
          0,
          0.375
         ],
         "gridcolor": "lightgray",
         "linecolor": "black",
         "linewidth": 1,
         "showgrid": true,
         "showline": true,
         "tickfont": {
          "color": "black"
         }
        },
        "yaxis2": {
         "anchor": "x2",
         "domain": [
          0.625,
          1
         ],
         "gridcolor": "lightgray",
         "linecolor": "black",
         "linewidth": 1,
         "showgrid": true,
         "showline": true,
         "tickfont": {
          "color": "black"
         }
        },
        "yaxis3": {
         "anchor": "x3",
         "domain": [
          0.625,
          1
         ],
         "gridcolor": "lightgray",
         "linecolor": "black",
         "linewidth": 1,
         "showgrid": true,
         "showline": true,
         "tickfont": {
          "color": "black"
         }
        },
        "yaxis4": {
         "anchor": "x4",
         "domain": [
          0.625,
          1
         ],
         "gridcolor": "lightgray",
         "linecolor": "black",
         "linewidth": 1,
         "showgrid": true,
         "showline": true,
         "tickfont": {
          "color": "black"
         }
        },
        "yaxis5": {
         "anchor": "x5",
         "domain": [
          0.625,
          1
         ],
         "gridcolor": "lightgray",
         "linecolor": "black",
         "linewidth": 1,
         "showgrid": true,
         "showline": true,
         "tickfont": {
          "color": "black"
         }
        },
        "yaxis6": {
         "anchor": "x6",
         "domain": [
          0.625,
          1
         ],
         "gridcolor": "lightgray",
         "linecolor": "black",
         "linewidth": 1,
         "showgrid": true,
         "showline": true,
         "tickfont": {
          "color": "black"
         }
        },
        "yaxis7": {
         "anchor": "x7",
         "domain": [
          0,
          0.375
         ],
         "gridcolor": "lightgray",
         "linecolor": "black",
         "linewidth": 1,
         "showgrid": true,
         "showline": true,
         "tickfont": {
          "color": "black"
         },
         "title": {
          "text": "Action Reasoning Length"
         }
        },
        "yaxis8": {
         "anchor": "x8",
         "domain": [
          0,
          0.375
         ],
         "gridcolor": "lightgray",
         "linecolor": "black",
         "linewidth": 1,
         "showgrid": true,
         "showline": true,
         "tickfont": {
          "color": "black"
         }
        },
        "yaxis9": {
         "anchor": "x9",
         "domain": [
          0,
          0.375
         ],
         "gridcolor": "lightgray",
         "linecolor": "black",
         "linewidth": 1,
         "showgrid": true,
         "showline": true,
         "tickfont": {
          "color": "black"
         }
        }
       }
      }
     },
     "metadata": {},
     "output_type": "display_data"
    }
   ],
   "source": [
    "fig.show()"
   ]
  },
  {
   "cell_type": "code",
   "execution_count": null,
   "id": "62b9244d",
   "metadata": {},
   "outputs": [],
   "source": []
  }
 ],
 "metadata": {
  "kernelspec": {
   "display_name": "verl",
   "language": "python",
   "name": "python3"
  },
  "language_info": {
   "codemirror_mode": {
    "name": "ipython",
    "version": 3
   },
   "file_extension": ".py",
   "mimetype": "text/x-python",
   "name": "python",
   "nbconvert_exporter": "python",
   "pygments_lexer": "ipython3",
   "version": "3.10.18"
  }
 },
 "nbformat": 4,
 "nbformat_minor": 5
}
