{
 "cells": [
  {
   "cell_type": "markdown",
   "id": "4bc7077f",
   "metadata": {},
   "source": [
    "# 1. Load the Paprika Environments"
   ]
  },
  {
   "cell_type": "code",
   "execution_count": 153,
   "id": "9e7df930",
   "metadata": {},
   "outputs": [
    {
     "name": "stdout",
     "output_type": "stream",
     "text": [
      "Could not import JerichoInferenceEngine, so cannot use it!\n",
      "Could not import VLLMInferenceEngine, so cannot use it!\n"
     ]
    }
   ],
   "source": [
    "import sys\n",
    "import pandas as pd\n",
    "sys.path.append('../../paprika/') # Remove this when verl and paprika are installed in the same env\n",
    "from llm_exploration.paprika_config_helper import PaprikaConfigHelper\n",
    "from verl.interactions.paprika_interaction import PaprikaInteraction\n",
    "from pprint import pprint as pp\n",
    "paprika_games = ['twenty_questions', 'guess_my_city', 'murder_mystery', 'customer_service', 'wordle', 'cellular_automata', \\\n",
    "    'mastermind'] # 'battleship', 'minesweeper', 'bandit_bai_fixed_budget' "
   ]
  },
  {
   "cell_type": "code",
   "execution_count": 154,
   "id": "b284ba30",
   "metadata": {},
   "outputs": [
    {
     "data": {
      "text/plain": [
       "True"
      ]
     },
     "execution_count": 154,
     "metadata": {},
     "output_type": "execute_result"
    }
   ],
   "source": [
    "import dotenv\n",
    "dotenv.load_dotenv('../../.env')"
   ]
  },
  {
   "cell_type": "code",
   "execution_count": 3,
   "id": "4d47bf2a",
   "metadata": {},
   "outputs": [
    {
     "name": "stdout",
     "output_type": "stream",
     "text": [
      "twenty_questions => 367\n",
      "guess_my_city => 185\n",
      "murder_mystery => 50\n",
      "customer_service => 200\n"
     ]
    },
    {
     "name": "stdout",
     "output_type": "stream",
     "text": [
      "wordle => 800\n",
      "cellular_automata => 500\n",
      "mastermind => 500\n"
     ]
    }
   ],
   "source": [
    "for env_name in paprika_games:\n",
    "    config = PaprikaConfigHelper.create_config(env_name)\n",
    "    config['belief_config']['style'] = 'none'\n",
    "\n",
    "    interaction = PaprikaInteraction(config={})\n",
    "\n",
    "    import builtins\n",
    "    _original_print = builtins.print\n",
    "    builtins.print = lambda *a, **k: None\n",
    "    try:\n",
    "        instance_id = await interaction.start_interaction(\n",
    "            instance_id=None,\n",
    "            scenario_id=None, # start a random scenario\n",
    "            **config,\n",
    "        )\n",
    "    finally:\n",
    "        builtins.print = _original_print\n",
    "    num_scenarios = interaction.game_scenarios.__len__()\n",
    "    print(f'{env_name} => {num_scenarios}')"
   ]
  },
  {
   "cell_type": "markdown",
   "id": "1d296088",
   "metadata": {},
   "source": [
    "So let us do 50 games for each with frontier LLMs - one with reasoning and one without.\n",
    "\n",
    "# 2. Setup LLM Call"
   ]
  },
  {
   "cell_type": "code",
   "execution_count": 152,
   "id": "636e9f13",
   "metadata": {},
   "outputs": [
    {
     "ename": "NameError",
     "evalue": "name 'sys' is not defined",
     "output_type": "error",
     "traceback": [
      "\u001b[0;31m---------------------------------------------------------------------------\u001b[0m",
      "\u001b[0;31mNameError\u001b[0m                                 Traceback (most recent call last)",
      "Cell \u001b[0;32mIn[152], line 1\u001b[0m\n\u001b[0;32m----> 1\u001b[0m \u001b[43msys\u001b[49m\u001b[38;5;241m.\u001b[39mpath\u001b[38;5;241m.\u001b[39mappend(\u001b[38;5;124m'\u001b[39m\u001b[38;5;124m../../src/optimal_explorer\u001b[39m\u001b[38;5;124m'\u001b[39m)\n\u001b[1;32m      2\u001b[0m \u001b[38;5;28;01mfrom\u001b[39;00m\u001b[38;5;250m \u001b[39m\u001b[38;5;21;01mllm_utils\u001b[39;00m\u001b[38;5;250m \u001b[39m\u001b[38;5;28;01mimport\u001b[39;00m llm_call\n\u001b[1;32m      3\u001b[0m \u001b[38;5;28;01mfrom\u001b[39;00m\u001b[38;5;250m \u001b[39m\u001b[38;5;21;01mpprint\u001b[39;00m\u001b[38;5;250m \u001b[39m\u001b[38;5;28;01mimport\u001b[39;00m pprint \u001b[38;5;28;01mas\u001b[39;00m pp\n",
      "\u001b[0;31mNameError\u001b[0m: name 'sys' is not defined"
     ]
    }
   ],
   "source": [
    "sys.path.append('../../src/optimal_explorer')\n",
    "from llm_utils import llm_call\n",
    "from pprint import pprint as pp"
   ]
  },
  {
   "cell_type": "code",
   "execution_count": 8,
   "id": "c11f7137",
   "metadata": {},
   "outputs": [],
   "source": [
    "out = await llm_call(\n",
    "    model='deepseek/deepseek-r1',\n",
    "    get_everything=True,\n",
    "    reasoning_effort='high',\n",
    "    messages = [\n",
    "            {\"role\": \"system\", \"content\": 'You are a useless assistant that gives humorous answers.'},\n",
    "            {\"role\": \"user\", \"content\": 'Why is the sky blue?'},\n",
    "            {\"role\": \"assistant\", \"content\": 'It is because of the great king of Pokemons.'},\n",
    "            {\"role\": \"user\", \"content\": 'How so?'},\n",
    "        ]\n",
    ")"
   ]
  },
  {
   "cell_type": "code",
   "execution_count": 9,
   "id": "7fa5b9da",
   "metadata": {},
   "outputs": [
    {
     "name": "stdout",
     "output_type": "stream",
     "text": [
      "('Ah, you’re right to question me—I clearly flunked out of Pokémon Academy’s physics class. Let me *ash*-k you to imagine this '\n",
      " 'instead: When sunlight (which is white) enters Earth’s atmosphere, tiny molecules scatter the light. Blue light waves are '\n",
      " 'short and feisty, like a hyper Pikachu dodging a Poké Ball, so they bounce wildly in all directions. This makes the sky look '\n",
      " \"blue! Meanwhile, red light waves are chill, like Snorlax napping—they just cruise straight through. So, the sky's blueness is \"\n",
      " 'basically Earth’s atmosphere throwing a rave for blue light. Science, but make it ✨ *electric* ✨.')\n"
     ]
    }
   ],
   "source": [
    "pp(out['choices'][0]['message']['content'], width=130)"
   ]
  },
  {
   "cell_type": "code",
   "execution_count": 14,
   "id": "59b23939",
   "metadata": {},
   "outputs": [
    {
     "name": "stdout",
     "output_type": "stream",
     "text": [
      "('Okay, the user asked \"How so?\" after I joked about the sky being blue because of the Pokémon king. They probably want a real '\n",
      " 'explanation but are playing along with the humor. I should maintain the funny tone but also slip in the actual science. Let me '\n",
      " \"explain Rayleigh scattering in a whimsical way using Pokémon references. Make sure it's clear that the real reason is \"\n",
      " 'scientific, but keep it light-hearted. Mention Pikachu and maybe some other Pokémon to keep the theme. Avoid getting too '\n",
      " \"technical but still convey the right information. Check if the analogy makes sense and the user isn't confused. Balance \"\n",
      " 'between humor and accuracy.\\n')\n"
     ]
    }
   ],
   "source": [
    "pp(out['choices'][0]['message']['reasoning'], width=130)"
   ]
  },
  {
   "cell_type": "markdown",
   "id": "54995906",
   "metadata": {},
   "source": [
    "# 3. Belief Update"
   ]
  },
  {
   "cell_type": "code",
   "execution_count": 15,
   "id": "65f117ca",
   "metadata": {},
   "outputs": [],
   "source": [
    "async def update_belief(\n",
    "        curr_belief: str,\n",
    "        action: str,\n",
    "        response: str,\n",
    "        model_name: str,\n",
    "    ):\n",
    "\n",
    "\n",
    "    user_content = f'''\\\n",
    "Look at the current belief and the agent's action and environment response on that belief.\\\n",
    "Compress the context, remove redundant information, and maintain important information about the game state \\\n",
    "needed to take optimal future actions.\\\n",
    "Current belief: {curr_belief}\n",
    "Agent's action: {action}\n",
    "Environment's response: {response}\n",
    "Output the updated belief state inside <BELIEF> and </BELIEF> tags.\\\n",
    "Understand that only the generated belief is fed to the agent, so be sure to include all necessary information about game mechanics.'''\n",
    "\n",
    "    messages = [\n",
    "        {\"role\": \"system\", \"content\": 'You are a helpful assistant.'},\n",
    "        {\"role\": \"user\", \"content\": user_content},\n",
    "    ]\n",
    "\n",
    "    out = await llm_call(\n",
    "        model=model_name,\n",
    "        get_everything=True,\n",
    "        reasoning_effort='high',\n",
    "        messages=messages\n",
    "    )\n",
    "\n",
    "    import re\n",
    "    content = out['choices'][0]['message']['content']\n",
    "    match = re.search(r\"<BELIEF>(.*?)</BELIEF>\", content, re.DOTALL | re.IGNORECASE)\n",
    "    if match:\n",
    "        belief = match.group(1).strip()\n",
    "    else:\n",
    "        # fallback: return the whole content if tags not found\n",
    "        belief = content.strip()\n",
    "    \n",
    "    reasoning = out['choices'][0]['message']['reasoning_details'][0]['text']\n",
    "\n",
    "    return belief, reasoning"
   ]
  },
  {
   "cell_type": "code",
   "execution_count": 16,
   "id": "763a4fa8",
   "metadata": {},
   "outputs": [],
   "source": [
    "async def take_action(\n",
    "        belief: str,\n",
    "        model_name: str,\n",
    "    ):\n",
    "\n",
    "\n",
    "    user_content = f'''\\\n",
    "Look at the current belief take the next action based on the belief.\\\n",
    "Take an action that leads to optimal exploration.\\\n",
    "Belief: {belief}\n",
    "Output the action inside <ACTION> and </ACTION> tags.'''\n",
    "\n",
    "    messages = [\n",
    "        {\"role\": \"system\", \"content\": 'You are a helpful assistant.'},\n",
    "        {\"role\": \"user\", \"content\": user_content},\n",
    "    ]\n",
    "\n",
    "    out = await llm_call(\n",
    "        model=model_name,\n",
    "        get_everything=True,\n",
    "        reasoning_effort='high',\n",
    "        messages=messages\n",
    "    )\n",
    "\n",
    "    import re\n",
    "    content = out['choices'][0]['message']['content']\n",
    "    match = re.search(r\"<\\s*action\\s*>(.*?)<\\s*/\\s*action\\s*>\", content, re.DOTALL | re.IGNORECASE)\n",
    "    if match:\n",
    "        action = match.group(1).strip()\n",
    "    else:\n",
    "        # fallback: return the whole content if tags not found\n",
    "        action = content.strip()\n",
    "    \n",
    "    reasoning = out['choices'][0]['message']['reasoning_details'][0]['text']\n",
    "\n",
    "    return action, reasoning"
   ]
  },
  {
   "cell_type": "markdown",
   "id": "ed2402b6",
   "metadata": {},
   "source": [
    "# 4. Paprika Rollout with Belief"
   ]
  },
  {
   "cell_type": "code",
   "execution_count": 17,
   "id": "b3c8fc4d",
   "metadata": {},
   "outputs": [],
   "source": [
    "import asyncio\n",
    "\n",
    "async def run_one_iteration_with_belief_llm(\n",
    "        env_name: str,\n",
    "        model_name: str,\n",
    "        game_id: int,\n",
    "    ):\n",
    "    config = PaprikaConfigHelper.create_config(env_name)\n",
    "    config['belief_config']['style'] = 'none'\n",
    "    interaction = PaprikaInteraction(config={})\n",
    "\n",
    "    import builtins\n",
    "    _original_print = builtins.print\n",
    "    builtins.print = lambda *a, **k: None\n",
    "    try:\n",
    "        instance_id = await interaction.start_interaction(instance_id=None, scenario_id=None, **config)\n",
    "    finally:\n",
    "        builtins.print = _original_print\n",
    "\n",
    "    first_user_message = interaction.agent_conv.messages[0][1]\n",
    "    attempts = 0\n",
    "    game_history = []\n",
    "    belief = f'This is the start of the game. The only available information right now are the game rules:\\n{first_user_message}'\n",
    "    max_attempts = interaction._instance_dict[instance_id]['max_turns']\n",
    "\n",
    "    while attempts < max_attempts:\n",
    "        \n",
    "        attempts += 1\n",
    "\n",
    "        action, action_reasoning = await take_action(belief, model_name)\n",
    "\n",
    "        message = [\n",
    "            {\"role\": \"user\", \"content\": f\"Output the next action.\"},\n",
    "            {\"role\": \"assistant\", \"content\": f\"<action>{action}</action>\"}\n",
    "        ]\n",
    "        done, response, score, additional_data = await interaction.generate_response(instance_id=instance_id, messages=message)\n",
    "        \n",
    "        belief, belief_reasoning = await update_belief(belief, action, response, model_name)\n",
    "\n",
    "        game_history.append({\n",
    "            \"model\": model_name,\n",
    "            \"game_id\": str(game_id),\n",
    "            \"env\": env_name,\n",
    "            \"attempt\": attempts,\n",
    "            \"guess\": action,\n",
    "            \"response\": response,\n",
    "            \"score\": score,\n",
    "            \"done\": done,\n",
    "            \"data\": additional_data,\n",
    "            \"belief\": belief,\n",
    "            \"action_reasoning\": action_reasoning,\n",
    "            \"belief_reasoning\": belief_reasoning,\n",
    "        })\n",
    "\n",
    "        if \"Goal reached\" in response:\n",
    "            break\n",
    "    \n",
    "    print(f'.', end='', flush=True)\n",
    "    \n",
    "    return game_history\n",
    "\n",
    "async def run_multiple_iterations_multiple_games(\n",
    "        num_games: int,\n",
    "        list_envs,\n",
    "        models,\n",
    "        logs_file='./logs/paprika_frontier.jsonl',\n",
    "    ):\n",
    "    import json\n",
    "\n",
    "    tasks = []\n",
    "    for model in models:\n",
    "        for env_name in list_envs:\n",
    "            for game_id in range(num_games):\n",
    "                tasks.append(run_one_iteration_with_belief_llm(env_name, model, game_id))\n",
    "\n",
    "    results = await asyncio.gather(*tasks)\n",
    "\n",
    "    # Flatten results and write to file\n",
    "    with open(logs_file, \"a\") as f:\n",
    "        for game_history in results:\n",
    "            for entry in game_history:\n",
    "                f.write(json.dumps(entry) + \"\\n\")"
   ]
  },
  {
   "cell_type": "code",
   "execution_count": 26,
   "id": "58d48f23",
   "metadata": {},
   "outputs": [
    {
     "name": "stdout",
     "output_type": "stream",
     "text": [
      ".........."
     ]
    }
   ],
   "source": [
    "await run_multiple_iterations_multiple_games(\n",
    "    num_games=10,\n",
    "    list_envs=['mastermind'],\n",
    "    models=['openai/gpt-oss-120b'],\n",
    ")"
   ]
  },
  {
   "cell_type": "code",
   "execution_count": null,
   "id": "ff61928a",
   "metadata": {},
   "outputs": [],
   "source": []
  },
  {
   "cell_type": "code",
   "execution_count": null,
   "id": "15a86e30",
   "metadata": {},
   "outputs": [],
   "source": []
  },
  {
   "cell_type": "code",
   "execution_count": null,
   "id": "ee4c49ff",
   "metadata": {},
   "outputs": [],
   "source": []
  },
  {
   "cell_type": "code",
   "execution_count": null,
   "id": "7f7063c2",
   "metadata": {},
   "outputs": [],
   "source": []
  },
  {
   "cell_type": "code",
   "execution_count": null,
   "id": "9096e2aa",
   "metadata": {},
   "outputs": [],
   "source": []
  },
  {
   "cell_type": "markdown",
   "id": "8616ece5",
   "metadata": {},
   "source": [
    "# 5. Metrics"
   ]
  },
  {
   "cell_type": "code",
   "execution_count": 1,
   "id": "8df58134",
   "metadata": {},
   "outputs": [],
   "source": [
    "import pandas as pd\n",
    "from pprint import pprint as pp\n",
    "import json\n",
    "from math import sqrt\n",
    "import plotly\n",
    "from plotly import subplots\n",
    "\n",
    "logs_file = './logs/paprika_frontier_v6_corrected.jsonl'\n",
    "with open(logs_file, 'r') as f:\n",
    "    data = [json.loads(line) for line in f]\n",
    "df = pd.DataFrame(data)\n",
    "\n"
   ]
  },
  {
   "cell_type": "code",
   "execution_count": 2,
   "id": "656ec809",
   "metadata": {},
   "outputs": [
    {
     "name": "stdout",
     "output_type": "stream",
     "text": [
      "Index(['model', 'game_id', 'env', 'attempt', 'info', 'raw_guess', 'guess',\n",
      "       'response', 'word_limit', 'score', 'done', 'data', 'belief',\n",
      "       'action_reasoning', 'belief_reasoning'],\n",
      "      dtype='object')\n"
     ]
    }
   ],
   "source": [
    "print(df.columns)"
   ]
  },
  {
   "cell_type": "code",
   "execution_count": 3,
   "id": "b226b1d1",
   "metadata": {},
   "outputs": [],
   "source": [
    "if not df.iloc[0]['word_limit']:\n",
    "    df['word_limit'] = 'None'"
   ]
  },
  {
   "cell_type": "code",
   "execution_count": 4,
   "id": "f23e7984",
   "metadata": {},
   "outputs": [
    {
     "data": {
      "text/plain": [
       "info\n",
       "belief     9604\n",
       "both       8795\n",
       "history    8707\n",
       "Name: count, dtype: int64"
      ]
     },
     "execution_count": 4,
     "metadata": {},
     "output_type": "execute_result"
    }
   ],
   "source": [
    "df['info'].value_counts()"
   ]
  },
  {
   "cell_type": "code",
   "execution_count": 7,
   "id": "d9c30712",
   "metadata": {},
   "outputs": [],
   "source": [
    "rename = {\n",
    "    'deepseek/deepseek-chat': 'Deepseek V3',\n",
    "    'deepseek/deepseek-r1': 'Deepseek R1',\n",
    "    'google/gemini-2.5-pro': 'Gemini 2.5 Pro',\n",
    "    'history': '',\n",
    "    'belief': ' (ABBEL)',\n",
    "    'both': ' (belief prompting)',\n",
    "}\n",
    "\n",
    "env_rename = {\n",
    "    'wordle': 'Wordle',\n",
    "    'mastermind': 'Mastermind',\n",
    "    'customer_service': 'Customer Service',\n",
    "    'twenty_questions': 'Twenty Questions',\n",
    "    'murder_mystery': 'Murder Mystery',\n",
    "    'guess_my_city': 'Guess my City',\n",
    "}\n",
    "\n",
    "def update_model_info_inplace(df):\n",
    "    for idx, row in df.iterrows():\n",
    "        # Temporarily rename for model_info only\n",
    "        model_disp = rename.get(row['model'], row['model'])\n",
    "        info_disp = rename.get(row['info'], row['info'])\n",
    "        df.at[idx, 'model_info'] = f\"{model_disp}{info_disp}\"\n",
    "        # Also rename env if mapping exists\n",
    "        if row['env'] in env_rename:\n",
    "            df.at[idx, 'env'] = env_rename[row['env']]\n",
    "\n",
    "update_model_info_inplace(df)\n",
    "\n",
    "envs_ordered = ['Murder Mystery','Customer Service','Twenty Questions', 'Guess my City','Wordle','Mastermind',]"
   ]
  },
  {
   "cell_type": "code",
   "execution_count": 9,
   "id": "73a9cf0b",
   "metadata": {},
   "outputs": [],
   "source": [
    "df['model'] = df['model_info']"
   ]
  },
  {
   "cell_type": "code",
   "execution_count": 8,
   "id": "282887ef",
   "metadata": {},
   "outputs": [
    {
     "data": {
      "text/html": [
       "<div>\n",
       "<style scoped>\n",
       "    .dataframe tbody tr th:only-of-type {\n",
       "        vertical-align: middle;\n",
       "    }\n",
       "\n",
       "    .dataframe tbody tr th {\n",
       "        vertical-align: top;\n",
       "    }\n",
       "\n",
       "    .dataframe thead th {\n",
       "        text-align: right;\n",
       "    }\n",
       "</style>\n",
       "<table border=\"1\" class=\"dataframe\">\n",
       "  <thead>\n",
       "    <tr style=\"text-align: right;\">\n",
       "      <th></th>\n",
       "      <th>model</th>\n",
       "      <th>game_id</th>\n",
       "      <th>env</th>\n",
       "      <th>attempt</th>\n",
       "      <th>info</th>\n",
       "      <th>raw_guess</th>\n",
       "      <th>guess</th>\n",
       "      <th>response</th>\n",
       "      <th>word_limit</th>\n",
       "      <th>score</th>\n",
       "      <th>done</th>\n",
       "      <th>data</th>\n",
       "      <th>belief</th>\n",
       "      <th>action_reasoning</th>\n",
       "      <th>belief_reasoning</th>\n",
       "      <th>model_info</th>\n",
       "    </tr>\n",
       "  </thead>\n",
       "  <tbody>\n",
       "    <tr>\n",
       "      <th>17279</th>\n",
       "      <td>google/gemini-2.5-pro</td>\n",
       "      <td>26</td>\n",
       "      <td>Murder Mystery</td>\n",
       "      <td>16</td>\n",
       "      <td>history</td>\n",
       "      <td>Answer:Re-interrogate Massimo, presenting him ...</td>\n",
       "      <td>Answer:Re-interrogate Massimo, presenting him ...</td>\n",
       "      <td>Massimo's composure shatters as you present th...</td>\n",
       "      <td>None</td>\n",
       "      <td>17.0</td>\n",
       "      <td>True</td>\n",
       "      <td>{'agent_game_scenario': 'You are a detective i...</td>\n",
       "      <td></td>\n",
       "      <td>**Defining Next Steps**\\n\\nI'm focused on the ...</td>\n",
       "      <td></td>\n",
       "      <td>Gemini 2.5 Pro</td>\n",
       "    </tr>\n",
       "    <tr>\n",
       "      <th>23661</th>\n",
       "      <td>deepseek/deepseek-r1</td>\n",
       "      <td>35</td>\n",
       "      <td>Customer Service</td>\n",
       "      <td>2</td>\n",
       "      <td>history</td>\n",
       "      <td>&lt;Answer&gt;  \\n10. Can you check the vibration se...</td>\n",
       "      <td>10. Can you check the vibration sensor’s calib...</td>\n",
       "      <td>10. I cannot check the calibration logs or run...</td>\n",
       "      <td>None</td>\n",
       "      <td>3.0</td>\n",
       "      <td>True</td>\n",
       "      <td>{'agent_game_scenario': 'The operator reports ...</td>\n",
       "      <td></td>\n",
       "      <td>Okay, let's see. The customer is dealing with ...</td>\n",
       "      <td></td>\n",
       "      <td>Deepseek R1</td>\n",
       "    </tr>\n",
       "    <tr>\n",
       "      <th>4855</th>\n",
       "      <td>deepseek/deepseek-r1</td>\n",
       "      <td>6</td>\n",
       "      <td>Murder Mystery</td>\n",
       "      <td>7</td>\n",
       "      <td>history</td>\n",
       "      <td>&lt;Answer&gt;Examine the bloodied wrench found unde...</td>\n",
       "      <td>Examine the bloodied wrench found under the bo...</td>\n",
       "      <td>As you examine the bloodied wrench closely, yo...</td>\n",
       "      <td>None</td>\n",
       "      <td>8.0</td>\n",
       "      <td>True</td>\n",
       "      <td>{'agent_game_scenario': 'You are a detective c...</td>\n",
       "      <td></td>\n",
       "      <td>Okay, let's see. I need to figure out the next...</td>\n",
       "      <td></td>\n",
       "      <td>Deepseek R1</td>\n",
       "    </tr>\n",
       "    <tr>\n",
       "      <th>9256</th>\n",
       "      <td>deepseek/deepseek-chat</td>\n",
       "      <td>15</td>\n",
       "      <td>Murder Mystery</td>\n",
       "      <td>3</td>\n",
       "      <td>history</td>\n",
       "      <td>&lt;Answer&gt;Interview nurse Ingrid to gather infor...</td>\n",
       "      <td>Interview nurse Ingrid to gather information a...</td>\n",
       "      <td>Nurse Ingrid appears somewhat reluctant at fir...</td>\n",
       "      <td>None</td>\n",
       "      <td>4.0</td>\n",
       "      <td>True</td>\n",
       "      <td>{'agent_game_scenario': 'You are a detective i...</td>\n",
       "      <td></td>\n",
       "      <td>None</td>\n",
       "      <td></td>\n",
       "      <td>Deepseek V3</td>\n",
       "    </tr>\n",
       "    <tr>\n",
       "      <th>628</th>\n",
       "      <td>google/gemini-2.5-pro</td>\n",
       "      <td>0</td>\n",
       "      <td>Customer Service</td>\n",
       "      <td>8</td>\n",
       "      <td>belief</td>\n",
       "      <td>&lt;Answer&gt; I see. Thank you for trying that for ...</td>\n",
       "      <td>I see. Thank you for trying that for me. Since...</td>\n",
       "      <td>I found the serial number, and it's 123456789.</td>\n",
       "      <td>None</td>\n",
       "      <td>9.0</td>\n",
       "      <td>True</td>\n",
       "      <td>{'agent_game_scenario': 'The customer's electr...</td>\n",
       "      <td>The customer's electronic door lock is complet...</td>\n",
       "      <td>**Initiating Customer Interaction**\\n\\nI'm sta...</td>\n",
       "      <td>**Defining the Scenario**\\n\\nI'm zeroing in on...</td>\n",
       "      <td>Gemini 2.5 Pro (ABBEL)</td>\n",
       "    </tr>\n",
       "  </tbody>\n",
       "</table>\n",
       "</div>"
      ],
      "text/plain": [
       "                        model game_id               env  attempt     info  \\\n",
       "17279   google/gemini-2.5-pro      26    Murder Mystery       16  history   \n",
       "23661    deepseek/deepseek-r1      35  Customer Service        2  history   \n",
       "4855     deepseek/deepseek-r1       6    Murder Mystery        7  history   \n",
       "9256   deepseek/deepseek-chat      15    Murder Mystery        3  history   \n",
       "628     google/gemini-2.5-pro       0  Customer Service        8   belief   \n",
       "\n",
       "                                               raw_guess  \\\n",
       "17279  Answer:Re-interrogate Massimo, presenting him ...   \n",
       "23661  <Answer>  \\n10. Can you check the vibration se...   \n",
       "4855   <Answer>Examine the bloodied wrench found unde...   \n",
       "9256   <Answer>Interview nurse Ingrid to gather infor...   \n",
       "628    <Answer> I see. Thank you for trying that for ...   \n",
       "\n",
       "                                                   guess  \\\n",
       "17279  Answer:Re-interrogate Massimo, presenting him ...   \n",
       "23661  10. Can you check the vibration sensor’s calib...   \n",
       "4855   Examine the bloodied wrench found under the bo...   \n",
       "9256   Interview nurse Ingrid to gather information a...   \n",
       "628    I see. Thank you for trying that for me. Since...   \n",
       "\n",
       "                                                response word_limit  score  \\\n",
       "17279  Massimo's composure shatters as you present th...       None   17.0   \n",
       "23661  10. I cannot check the calibration logs or run...       None    3.0   \n",
       "4855   As you examine the bloodied wrench closely, yo...       None    8.0   \n",
       "9256   Nurse Ingrid appears somewhat reluctant at fir...       None    4.0   \n",
       "628       I found the serial number, and it's 123456789.       None    9.0   \n",
       "\n",
       "       done                                               data  \\\n",
       "17279  True  {'agent_game_scenario': 'You are a detective i...   \n",
       "23661  True  {'agent_game_scenario': 'The operator reports ...   \n",
       "4855   True  {'agent_game_scenario': 'You are a detective c...   \n",
       "9256   True  {'agent_game_scenario': 'You are a detective i...   \n",
       "628    True  {'agent_game_scenario': 'The customer's electr...   \n",
       "\n",
       "                                                  belief  \\\n",
       "17279                                                      \n",
       "23661                                                      \n",
       "4855                                                       \n",
       "9256                                                       \n",
       "628    The customer's electronic door lock is complet...   \n",
       "\n",
       "                                        action_reasoning  \\\n",
       "17279  **Defining Next Steps**\\n\\nI'm focused on the ...   \n",
       "23661  Okay, let's see. The customer is dealing with ...   \n",
       "4855   Okay, let's see. I need to figure out the next...   \n",
       "9256                                                None   \n",
       "628    **Initiating Customer Interaction**\\n\\nI'm sta...   \n",
       "\n",
       "                                        belief_reasoning  \\\n",
       "17279                                                      \n",
       "23661                                                      \n",
       "4855                                                       \n",
       "9256                                                       \n",
       "628    **Defining the Scenario**\\n\\nI'm zeroing in on...   \n",
       "\n",
       "                   model_info  \n",
       "17279          Gemini 2.5 Pro  \n",
       "23661             Deepseek R1  \n",
       "4855              Deepseek R1  \n",
       "9256              Deepseek V3  \n",
       "628    Gemini 2.5 Pro (ABBEL)  "
      ]
     },
     "execution_count": 8,
     "metadata": {},
     "output_type": "execute_result"
    }
   ],
   "source": [
    "df.sample(n=5)"
   ]
  },
  {
   "cell_type": "markdown",
   "id": "9e358667",
   "metadata": {},
   "source": [
    "## 1. Success Rates (belief v. history v. both)"
   ]
  },
  {
   "cell_type": "code",
   "execution_count": 14,
   "id": "abe8ac6b",
   "metadata": {},
   "outputs": [],
   "source": [
    "import pandas as pd\n",
    "import plotly.graph_objects as go\n",
    "import plotly.express as px\n",
    "from plotly.subplots import make_subplots\n",
    "import numpy as np\n",
    "\n",
    "def summarize_game_outcomes(df):\n",
    "    df['response'] = df['response'].str.lower()\n",
    "    grouped = df.groupby(['model', 'game_id', 'env', 'word_limit'])['response'].apply(\n",
    "        lambda responses: any('goal reached' in resp for resp in responses)\n",
    "    ).reset_index(name='won')\n",
    "    return grouped\n",
    "\n",
    "def plot_win_rates(summary_df):\n",
    "    # Compute mean and std of win rates for each group\n",
    "    stats = summary_df.groupby(['env', 'model', 'word_limit'])['won'].agg(['mean', 'std', 'count']).reset_index()\n",
    "    stats['success_rate'] = stats['mean'] * 100\n",
    "    # Standard error of the mean (SEM)\n",
    "    stats['sem'] = stats['std'] / np.sqrt(stats['count'])\n",
    "    stats['sem'] = stats['sem'].fillna(0)\n",
    "    stats['success_rate_sem'] = stats['sem'] * 100\n",
    "\n",
    "    # envs = stats['env'].unique()[[0, 5, 1, 4, 2, 3]]\n",
    "    envs = envs_ordered\n",
    "    models = stats['model'].unique()[[\n",
    "            3, 5, 4, \n",
    "            0, 2, 1,\n",
    "            6, 8, 7\n",
    "        ]]\n",
    "    word_limits = sorted(stats['word_limit'].unique())\n",
    "\n",
    "    colors = [\n",
    "        \"#ADD8E6\",  # light blue\n",
    "        \"#4682B4\",  # medium blue\n",
    "        \"#003366\",  # dark blue\n",
    "        \"#FFB6C1\",  # light red\n",
    "        \"#FF6347\",  # medium red\n",
    "        \"#8B0000\",  # dark red\n",
    "        \"#90EE90\",  # light green\n",
    "        \"#32CD32\",  # medium green\n",
    "        \"#006400\",  # dark green\n",
    "    ]\n",
    "    color_map = {model: colors[i % len(colors)] for i, model in enumerate(models)}\n",
    "\n",
    "    # Create subplots: rows = word_limit values, cols = envs\n",
    "    fig = make_subplots(\n",
    "        rows=len(word_limits), cols=len(envs),\n",
    "        subplot_titles=[f\"{env}\" for env in envs],\n",
    "        shared_yaxes=True,\n",
    "        vertical_spacing=0.2 / len(word_limits),\n",
    "        horizontal_spacing=0.03\n",
    "    )\n",
    "\n",
    "    for r, wl in enumerate(word_limits, start=1):\n",
    "        for c, env in enumerate(envs, start=1):\n",
    "            for model in models:\n",
    "                subset = stats[\n",
    "                    (stats['env'] == env) &\n",
    "                    (stats['model'] == model) &\n",
    "                    (stats['word_limit'] == wl)\n",
    "                ]\n",
    "                if not subset.empty:\n",
    "                    # Plot bar with error bar (standard error of mean)\n",
    "                    fig.add_trace(\n",
    "                        go.Bar(\n",
    "                            x=[model],\n",
    "                            y=subset['success_rate'],\n",
    "                            name=model,\n",
    "                            marker_color=color_map[model],\n",
    "                            width=0.8,\n",
    "                            showlegend=(r == 1 and c == 1),\n",
    "                            error_y=dict(\n",
    "                                type='data',\n",
    "                                array=subset['success_rate_sem'],\n",
    "                                visible=True,\n",
    "                                color='black',\n",
    "                                thickness=1,\n",
    "                                width=4,\n",
    "                            ),\n",
    "                            hovertemplate=(\n",
    "                                f\"Env: {env}<br>\"\n",
    "                                f\"Word Limit: {wl}<br>\"\n",
    "                                f\"Model: {model}<br>\"\n",
    "                                f\"Success Rate: {{y:.2f}}%<br>\"\n",
    "                                f\"SEM: {subset['success_rate_sem'].values[0]:.2f}%<br>\"\n",
    "                                f\"N: {subset['count'].values[0]}\"\n",
    "                            ),\n",
    "                        ),\n",
    "                        row=r, col=c\n",
    "                    )\n",
    "            # # Add row label for word_limit\n",
    "            # if c == 1:\n",
    "            #     fig.add_annotation(\n",
    "            #         text=f\"Word Limit: {wl}\",\n",
    "            #         xref=\"paper\",\n",
    "            #         yref=\"paper\",\n",
    "            #         x=0.1,\n",
    "            #         y=0.95 - ((r - 1) / len(word_limits)),\n",
    "            #         showarrow=False,\n",
    "            #         font=dict(size=14)\n",
    "            #     )\n",
    "\n",
    "    # Update y-axis\n",
    "    for r in range(1, len(word_limits) + 1):\n",
    "        for c in range(1, len(envs) + 1):\n",
    "            fig.update_yaxes(\n",
    "                range=[0, 100],\n",
    "                showgrid=True,\n",
    "                gridcolor='lightgray',\n",
    "                row=r, col=c\n",
    "            )\n",
    "\n",
    "    # Update x-axis to remove tick labels\n",
    "    for r in range(1, len(word_limits) + 1):\n",
    "        for c in range(1, len(envs) + 1):\n",
    "            fig.update_xaxes(\n",
    "                showticklabels=False,\n",
    "                row=r, col=c\n",
    "            )\n",
    "\n",
    "    # Fixed subplot size\n",
    "    fig_width = 180 * len(envs)\n",
    "    fig_height = 200 * len(word_limits)\n",
    "\n",
    "    # Layout with legend on the right\n",
    "    fig.update_layout(\n",
    "        height=fig_height + 150,\n",
    "        width=fig_width,\n",
    "        template='simple_white',\n",
    "        font=dict(family='Computer Modern, serif', size=16),\n",
    "        barmode='group',\n",
    "        showlegend=True,\n",
    "        legend=dict(\n",
    "            # title={'text': ' Model (info)'},\n",
    "            orientation='v',\n",
    "            yanchor='middle',\n",
    "            y=0.5,\n",
    "            xanchor='left',\n",
    "            x=1.02,\n",
    "            bgcolor='rgba(255,255,255,0.9)',\n",
    "            bordercolor='black',\n",
    "            borderwidth=1\n",
    "        ),\n",
    "        margin=dict(t=100, b=50, l=80, r=80),\n",
    "        plot_bgcolor='white'\n",
    "    )\n",
    "\n",
    "    fig.update_yaxes(title_text=\"Avg. Success Rate\", row=1, col=1)\n",
    "\n",
    "    return fig"
   ]
  },
  {
   "cell_type": "code",
   "execution_count": 15,
   "id": "94973117",
   "metadata": {},
   "outputs": [],
   "source": [
    "df_belief = df.loc[df['info'] == 'belief'].copy()\n",
    "df_history = df.loc[df['info'] == 'history'].copy()\n",
    "summary_df = summarize_game_outcomes(df)\n",
    "summary_df_belief = summarize_game_outcomes(df_belief)\n",
    "summary_df_history = summarize_game_outcomes(df_history)"
   ]
  },
  {
   "cell_type": "code",
   "execution_count": 16,
   "id": "06d25838",
   "metadata": {},
   "outputs": [
    {
     "data": {
      "application/vnd.plotly.v1+json": {
       "config": {
        "plotlyServerURL": "https://plot.ly"
       },
       "data": [
        {
         "error_y": {
          "array": {
           "bdata": "SrExFSa/GkA=",
           "dtype": "f8"
          },
          "color": "black",
          "thickness": 1,
          "type": "data",
          "visible": true,
          "width": 4
         },
         "hovertemplate": "Env: Murder Mystery<br>Word Limit: None<br>Model: Deepseek V3<br>Success Rate: {y:.2f}%<br>SEM: 6.69%<br>N: 40",
         "marker": {
          "color": "#ADD8E6"
         },
         "name": "Deepseek V3",
         "showlegend": true,
         "type": "bar",
         "width": 0.8,
         "x": [
          "Deepseek V3"
         ],
         "xaxis": "x",
         "y": {
          "bdata": "AAAAAABgU0A=",
          "dtype": "f8"
         },
         "yaxis": "y"
        },
        {
         "error_y": {
          "array": {
           "bdata": "BBd5rIyZHEA=",
           "dtype": "f8"
          },
          "color": "black",
          "thickness": 1,
          "type": "data",
          "visible": true,
          "width": 4
         },
         "hovertemplate": "Env: Murder Mystery<br>Word Limit: None<br>Model: Deepseek V3 (belief prompting)<br>Success Rate: {y:.2f}%<br>SEM: 7.15%<br>N: 40",
         "marker": {
          "color": "#4682B4"
         },
         "name": "Deepseek V3 (belief prompting)",
         "showlegend": true,
         "type": "bar",
         "width": 0.8,
         "x": [
          "Deepseek V3 (belief prompting)"
         ],
         "xaxis": "x",
         "y": {
          "bdata": "AAAAAAAgUkA=",
          "dtype": "f8"
         },
         "yaxis": "y"
        },
        {
         "error_y": {
          "array": {
           "bdata": "2zIj3+2MHkA=",
           "dtype": "f8"
          },
          "color": "black",
          "thickness": 1,
          "type": "data",
          "visible": true,
          "width": 4
         },
         "hovertemplate": "Env: Murder Mystery<br>Word Limit: None<br>Model: Deepseek V3 (ABBEL)<br>Success Rate: {y:.2f}%<br>SEM: 7.64%<br>N: 40",
         "marker": {
          "color": "#003366"
         },
         "name": "Deepseek V3 (ABBEL)",
         "showlegend": true,
         "type": "bar",
         "width": 0.8,
         "x": [
          "Deepseek V3 (ABBEL)"
         ],
         "xaxis": "x",
         "y": {
          "bdata": "AAAAAACAQUA=",
          "dtype": "f8"
         },
         "yaxis": "y"
        },
        {
         "error_y": {
          "array": {
           "bdata": "pmfjCiM3E0A=",
           "dtype": "f8"
          },
          "color": "black",
          "thickness": 1,
          "type": "data",
          "visible": true,
          "width": 4
         },
         "hovertemplate": "Env: Murder Mystery<br>Word Limit: None<br>Model: Deepseek R1<br>Success Rate: {y:.2f}%<br>SEM: 4.80%<br>N: 40",
         "marker": {
          "color": "#FFB6C1"
         },
         "name": "Deepseek R1",
         "showlegend": true,
         "type": "bar",
         "width": 0.8,
         "x": [
          "Deepseek R1"
         ],
         "xaxis": "x",
         "y": {
          "bdata": "AAAAAACAVkA=",
          "dtype": "f8"
         },
         "yaxis": "y"
        },
        {
         "error_y": {
          "array": {
           "bdata": "kbJbjM2pH0A=",
           "dtype": "f8"
          },
          "color": "black",
          "thickness": 1,
          "type": "data",
          "visible": true,
          "width": 4
         },
         "hovertemplate": "Env: Murder Mystery<br>Word Limit: None<br>Model: Deepseek R1 (belief prompting)<br>Success Rate: {y:.2f}%<br>SEM: 7.92%<br>N: 40",
         "marker": {
          "color": "#FF6347"
         },
         "name": "Deepseek R1 (belief prompting)",
         "showlegend": true,
         "type": "bar",
         "width": 0.8,
         "x": [
          "Deepseek R1 (belief prompting)"
         ],
         "xaxis": "x",
         "y": {
          "bdata": "AAAAAABARUA=",
          "dtype": "f8"
         },
         "yaxis": "y"
        },
        {
         "error_y": {
          "array": {
           "bdata": "dMuQtNYuFUA=",
           "dtype": "f8"
          },
          "color": "black",
          "thickness": 1,
          "type": "data",
          "visible": true,
          "width": 4
         },
         "hovertemplate": "Env: Murder Mystery<br>Word Limit: None<br>Model: Deepseek R1 (ABBEL)<br>Success Rate: {y:.2f}%<br>SEM: 5.30%<br>N: 40",
         "marker": {
          "color": "#8B0000"
         },
         "name": "Deepseek R1 (ABBEL)",
         "showlegend": true,
         "type": "bar",
         "width": 0.8,
         "x": [
          "Deepseek R1 (ABBEL)"
         ],
         "xaxis": "x",
         "y": {
          "bdata": "AAAAAAAAKUA=",
          "dtype": "f8"
         },
         "yaxis": "y"
        },
        {
         "error_y": {
          "array": {
           "bdata": "h9/ZY9meGUA=",
           "dtype": "f8"
          },
          "color": "black",
          "thickness": 1,
          "type": "data",
          "visible": true,
          "width": 4
         },
         "hovertemplate": "Env: Murder Mystery<br>Word Limit: None<br>Model: Gemini 2.5 Pro<br>Success Rate: {y:.2f}%<br>SEM: 6.41%<br>N: 40",
         "marker": {
          "color": "#90EE90"
         },
         "name": "Gemini 2.5 Pro",
         "showlegend": true,
         "type": "bar",
         "width": 0.8,
         "x": [
          "Gemini 2.5 Pro"
         ],
         "xaxis": "x",
         "y": {
          "bdata": "AAAAAAAAVEA=",
          "dtype": "f8"
         },
         "yaxis": "y"
        },
        {
         "error_y": {
          "array": {
           "bdata": "hN/ZY9meGUA=",
           "dtype": "f8"
          },
          "color": "black",
          "thickness": 1,
          "type": "data",
          "visible": true,
          "width": 4
         },
         "hovertemplate": "Env: Murder Mystery<br>Word Limit: None<br>Model: Gemini 2.5 Pro (belief prompting)<br>Success Rate: {y:.2f}%<br>SEM: 6.41%<br>N: 40",
         "marker": {
          "color": "#32CD32"
         },
         "name": "Gemini 2.5 Pro (belief prompting)",
         "showlegend": true,
         "type": "bar",
         "width": 0.8,
         "x": [
          "Gemini 2.5 Pro (belief prompting)"
         ],
         "xaxis": "x",
         "y": {
          "bdata": "AAAAAAAAVEA=",
          "dtype": "f8"
         },
         "yaxis": "y"
        },
        {
         "error_y": {
          "array": {
           "bdata": "pmfjCiM3E0A=",
           "dtype": "f8"
          },
          "color": "black",
          "thickness": 1,
          "type": "data",
          "visible": true,
          "width": 4
         },
         "hovertemplate": "Env: Murder Mystery<br>Word Limit: None<br>Model: Gemini 2.5 Pro (ABBEL)<br>Success Rate: {y:.2f}%<br>SEM: 4.80%<br>N: 40",
         "marker": {
          "color": "#006400"
         },
         "name": "Gemini 2.5 Pro (ABBEL)",
         "showlegend": true,
         "type": "bar",
         "width": 0.8,
         "x": [
          "Gemini 2.5 Pro (ABBEL)"
         ],
         "xaxis": "x",
         "y": {
          "bdata": "AAAAAACAVkA=",
          "dtype": "f8"
         },
         "yaxis": "y"
        },
        {
         "error_y": {
          "array": {
           "bdata": "SrExFSa/GkA=",
           "dtype": "f8"
          },
          "color": "black",
          "thickness": 1,
          "type": "data",
          "visible": true,
          "width": 4
         },
         "hovertemplate": "Env: Customer Service<br>Word Limit: None<br>Model: Deepseek V3<br>Success Rate: {y:.2f}%<br>SEM: 6.69%<br>N: 40",
         "marker": {
          "color": "#ADD8E6"
         },
         "name": "Deepseek V3",
         "showlegend": false,
         "type": "bar",
         "width": 0.8,
         "x": [
          "Deepseek V3"
         ],
         "xaxis": "x2",
         "y": {
          "bdata": "AAAAAABgU0A=",
          "dtype": "f8"
         },
         "yaxis": "y2"
        },
        {
         "error_y": {
          "array": {
           "bdata": "aCzJDxtaHUA=",
           "dtype": "f8"
          },
          "color": "black",
          "thickness": 1,
          "type": "data",
          "visible": true,
          "width": 4
         },
         "hovertemplate": "Env: Customer Service<br>Word Limit: None<br>Model: Deepseek V3 (belief prompting)<br>Success Rate: {y:.2f}%<br>SEM: 7.34%<br>N: 40",
         "marker": {
          "color": "#4682B4"
         },
         "name": "Deepseek V3 (belief prompting)",
         "showlegend": false,
         "type": "bar",
         "width": 0.8,
         "x": [
          "Deepseek V3 (belief prompting)"
         ],
         "xaxis": "x2",
         "y": {
          "bdata": "AAAAAACAUUA=",
          "dtype": "f8"
         },
         "yaxis": "y2"
        },
        {
         "error_y": {
          "array": {
           "bdata": "Oq5djk78H0A=",
           "dtype": "f8"
          },
          "color": "black",
          "thickness": 1,
          "type": "data",
          "visible": true,
          "width": 4
         },
         "hovertemplate": "Env: Customer Service<br>Word Limit: None<br>Model: Deepseek V3 (ABBEL)<br>Success Rate: {y:.2f}%<br>SEM: 8.00%<br>N: 40",
         "marker": {
          "color": "#003366"
         },
         "name": "Deepseek V3 (ABBEL)",
         "showlegend": false,
         "type": "bar",
         "width": 0.8,
         "x": [
          "Deepseek V3 (ABBEL)"
         ],
         "xaxis": "x2",
         "y": {
          "bdata": "AAAAAADAR0A=",
          "dtype": "f8"
         },
         "yaxis": "y2"
        },
        {
         "error_y": {
          "array": {
           "bdata": "tSto3kcDIEA=",
           "dtype": "f8"
          },
          "color": "black",
          "thickness": 1,
          "type": "data",
          "visible": true,
          "width": 4
         },
         "hovertemplate": "Env: Customer Service<br>Word Limit: None<br>Model: Deepseek R1<br>Success Rate: {y:.2f}%<br>SEM: 8.01%<br>N: 40",
         "marker": {
          "color": "#FFB6C1"
         },
         "name": "Deepseek R1",
         "showlegend": false,
         "type": "bar",
         "width": 0.8,
         "x": [
          "Deepseek R1"
         ],
         "xaxis": "x2",
         "y": {
          "bdata": "AAAAAAAASUA=",
          "dtype": "f8"
         },
         "yaxis": "y2"
        },
        {
         "error_y": {
          "array": {
           "bdata": "3jIj3+2MHkA=",
           "dtype": "f8"
          },
          "color": "black",
          "thickness": 1,
          "type": "data",
          "visible": true,
          "width": 4
         },
         "hovertemplate": "Env: Customer Service<br>Word Limit: None<br>Model: Deepseek R1 (belief prompting)<br>Success Rate: {y:.2f}%<br>SEM: 7.64%<br>N: 40",
         "marker": {
          "color": "#FF6347"
         },
         "name": "Deepseek R1 (belief prompting)",
         "showlegend": false,
         "type": "bar",
         "width": 0.8,
         "x": [
          "Deepseek R1 (belief prompting)"
         ],
         "xaxis": "x2",
         "y": {
          "bdata": "AAAAAABAUEA=",
          "dtype": "f8"
         },
         "yaxis": "y2"
        },
        {
         "error_y": {
          "array": {
           "bdata": "Ahd5rIyZHEA=",
           "dtype": "f8"
          },
          "color": "black",
          "thickness": 1,
          "type": "data",
          "visible": true,
          "width": 4
         },
         "hovertemplate": "Env: Customer Service<br>Word Limit: None<br>Model: Deepseek R1 (ABBEL)<br>Success Rate: {y:.2f}%<br>SEM: 7.15%<br>N: 40",
         "marker": {
          "color": "#8B0000"
         },
         "name": "Deepseek R1 (ABBEL)",
         "showlegend": false,
         "type": "bar",
         "width": 0.8,
         "x": [
          "Deepseek R1 (ABBEL)"
         ],
         "xaxis": "x2",
         "y": {
          "bdata": "AAAAAAAgUkA=",
          "dtype": "f8"
         },
         "yaxis": "y2"
        },
        {
         "error_y": {
          "array": {
           "bdata": "AAAAAAAAAAA=",
           "dtype": "f8"
          },
          "color": "black",
          "thickness": 1,
          "type": "data",
          "visible": true,
          "width": 4
         },
         "hovertemplate": "Env: Customer Service<br>Word Limit: None<br>Model: Gemini 2.5 Pro<br>Success Rate: {y:.2f}%<br>SEM: 0.00%<br>N: 40",
         "marker": {
          "color": "#90EE90"
         },
         "name": "Gemini 2.5 Pro",
         "showlegend": false,
         "type": "bar",
         "width": 0.8,
         "x": [
          "Gemini 2.5 Pro"
         ],
         "xaxis": "x2",
         "y": {
          "bdata": "AAAAAAAAWUA=",
          "dtype": "f8"
         },
         "yaxis": "y2"
        },
        {
         "error_y": {
          "array": {
           "bdata": "sfa0FlfrC0A=",
           "dtype": "f8"
          },
          "color": "black",
          "thickness": 1,
          "type": "data",
          "visible": true,
          "width": 4
         },
         "hovertemplate": "Env: Customer Service<br>Word Limit: None<br>Model: Gemini 2.5 Pro (belief prompting)<br>Success Rate: {y:.2f}%<br>SEM: 3.49%<br>N: 40",
         "marker": {
          "color": "#32CD32"
         },
         "name": "Gemini 2.5 Pro (belief prompting)",
         "showlegend": false,
         "type": "bar",
         "width": 0.8,
         "x": [
          "Gemini 2.5 Pro (belief prompting)"
         ],
         "xaxis": "x2",
         "y": {
          "bdata": "AAAAAADAV0A=",
          "dtype": "f8"
         },
         "yaxis": "y2"
        },
        {
         "error_y": {
          "array": {
           "bdata": "pmfjCiM3E0A=",
           "dtype": "f8"
          },
          "color": "black",
          "thickness": 1,
          "type": "data",
          "visible": true,
          "width": 4
         },
         "hovertemplate": "Env: Customer Service<br>Word Limit: None<br>Model: Gemini 2.5 Pro (ABBEL)<br>Success Rate: {y:.2f}%<br>SEM: 4.80%<br>N: 40",
         "marker": {
          "color": "#006400"
         },
         "name": "Gemini 2.5 Pro (ABBEL)",
         "showlegend": false,
         "type": "bar",
         "width": 0.8,
         "x": [
          "Gemini 2.5 Pro (ABBEL)"
         ],
         "xaxis": "x2",
         "y": {
          "bdata": "AAAAAACAVkA=",
          "dtype": "f8"
         },
         "yaxis": "y2"
        },
        {
         "error_y": {
          "array": {
           "bdata": "Oq5djk78H0A=",
           "dtype": "f8"
          },
          "color": "black",
          "thickness": 1,
          "type": "data",
          "visible": true,
          "width": 4
         },
         "hovertemplate": "Env: Twenty Questions<br>Word Limit: None<br>Model: Deepseek V3<br>Success Rate: {y:.2f}%<br>SEM: 8.00%<br>N: 40",
         "marker": {
          "color": "#ADD8E6"
         },
         "name": "Deepseek V3",
         "showlegend": false,
         "type": "bar",
         "width": 0.8,
         "x": [
          "Deepseek V3"
         ],
         "xaxis": "x3",
         "y": {
          "bdata": "AAAAAADAR0A=",
          "dtype": "f8"
         },
         "yaxis": "y3"
        },
        {
         "error_y": {
          "array": {
           "bdata": "N65djk78H0A=",
           "dtype": "f8"
          },
          "color": "black",
          "thickness": 1,
          "type": "data",
          "visible": true,
          "width": 4
         },
         "hovertemplate": "Env: Twenty Questions<br>Word Limit: None<br>Model: Deepseek V3 (belief prompting)<br>Success Rate: {y:.2f}%<br>SEM: 8.00%<br>N: 40",
         "marker": {
          "color": "#4682B4"
         },
         "name": "Deepseek V3 (belief prompting)",
         "showlegend": false,
         "type": "bar",
         "width": 0.8,
         "x": [
          "Deepseek V3 (belief prompting)"
         ],
         "xaxis": "x3",
         "y": {
          "bdata": "AAAAAADAR0A=",
          "dtype": "f8"
         },
         "yaxis": "y3"
        },
        {
         "error_y": {
          "array": {
           "bdata": "3jIj3+2MHkA=",
           "dtype": "f8"
          },
          "color": "black",
          "thickness": 1,
          "type": "data",
          "visible": true,
          "width": 4
         },
         "hovertemplate": "Env: Twenty Questions<br>Word Limit: None<br>Model: Deepseek V3 (ABBEL)<br>Success Rate: {y:.2f}%<br>SEM: 7.64%<br>N: 40",
         "marker": {
          "color": "#003366"
         },
         "name": "Deepseek V3 (ABBEL)",
         "showlegend": false,
         "type": "bar",
         "width": 0.8,
         "x": [
          "Deepseek V3 (ABBEL)"
         ],
         "xaxis": "x3",
         "y": {
          "bdata": "AAAAAACAQUA=",
          "dtype": "f8"
         },
         "yaxis": "y3"
        },
        {
         "error_y": {
          "array": {
           "bdata": "odOluepgH0A=",
           "dtype": "f8"
          },
          "color": "black",
          "thickness": 1,
          "type": "data",
          "visible": true,
          "width": 4
         },
         "hovertemplate": "Env: Twenty Questions<br>Word Limit: None<br>Model: Deepseek R1<br>Success Rate: {y:.2f}%<br>SEM: 7.84%<br>N: 40",
         "marker": {
          "color": "#FFB6C1"
         },
         "name": "Deepseek R1",
         "showlegend": false,
         "type": "bar",
         "width": 0.8,
         "x": [
          "Deepseek R1"
         ],
         "xaxis": "x3",
         "y": {
          "bdata": "AAAAAAAATkA=",
          "dtype": "f8"
         },
         "yaxis": "y3"
        },
        {
         "error_y": {
          "array": {
           "bdata": "TLIiNnfdH0A=",
           "dtype": "f8"
          },
          "color": "black",
          "thickness": 1,
          "type": "data",
          "visible": true,
          "width": 4
         },
         "hovertemplate": "Env: Twenty Questions<br>Word Limit: None<br>Model: Deepseek R1 (belief prompting)<br>Success Rate: {y:.2f}%<br>SEM: 7.97%<br>N: 40",
         "marker": {
          "color": "#FF6347"
         },
         "name": "Deepseek R1 (belief prompting)",
         "showlegend": false,
         "type": "bar",
         "width": 0.8,
         "x": [
          "Deepseek R1 (belief prompting)"
         ],
         "xaxis": "x3",
         "y": {
          "bdata": "AAAAAACARkA=",
          "dtype": "f8"
         },
         "yaxis": "y3"
        },
        {
         "error_y": {
          "array": {
           "bdata": "o9OluepgH0A=",
           "dtype": "f8"
          },
          "color": "black",
          "thickness": 1,
          "type": "data",
          "visible": true,
          "width": 4
         },
         "hovertemplate": "Env: Twenty Questions<br>Word Limit: None<br>Model: Deepseek R1 (ABBEL)<br>Success Rate: {y:.2f}%<br>SEM: 7.84%<br>N: 40",
         "marker": {
          "color": "#8B0000"
         },
         "name": "Deepseek R1 (ABBEL)",
         "showlegend": false,
         "type": "bar",
         "width": 0.8,
         "x": [
          "Deepseek R1 (ABBEL)"
         ],
         "xaxis": "x3",
         "y": {
          "bdata": "AAAAAAAAREA=",
          "dtype": "f8"
         },
         "yaxis": "y3"
        },
        {
         "error_y": {
          "array": {
           "bdata": "LixtFzkCH0A=",
           "dtype": "f8"
          },
          "color": "black",
          "thickness": 1,
          "type": "data",
          "visible": true,
          "width": 4
         },
         "hovertemplate": "Env: Twenty Questions<br>Word Limit: None<br>Model: Gemini 2.5 Pro<br>Success Rate: {y:.2f}%<br>SEM: 7.75%<br>N: 40",
         "marker": {
          "color": "#90EE90"
         },
         "name": "Gemini 2.5 Pro",
         "showlegend": false,
         "type": "bar",
         "width": 0.8,
         "x": [
          "Gemini 2.5 Pro"
         ],
         "xaxis": "x3",
         "y": {
          "bdata": "AAAAAABAT0A=",
          "dtype": "f8"
         },
         "yaxis": "y3"
        },
        {
         "error_y": {
          "array": {
           "bdata": "aZtdmim8G0A=",
           "dtype": "f8"
          },
          "color": "black",
          "thickness": 1,
          "type": "data",
          "visible": true,
          "width": 4
         },
         "hovertemplate": "Env: Twenty Questions<br>Word Limit: None<br>Model: Gemini 2.5 Pro (belief prompting)<br>Success Rate: {y:.2f}%<br>SEM: 6.93%<br>N: 40",
         "marker": {
          "color": "#32CD32"
         },
         "name": "Gemini 2.5 Pro (belief prompting)",
         "showlegend": false,
         "type": "bar",
         "width": 0.8,
         "x": [
          "Gemini 2.5 Pro (belief prompting)"
         ],
         "xaxis": "x3",
         "y": {
          "bdata": "AAAAAADAUkA=",
          "dtype": "f8"
         },
         "yaxis": "y3"
        },
        {
         "error_y": {
          "array": {
           "bdata": "Oq5djk78H0A=",
           "dtype": "f8"
          },
          "color": "black",
          "thickness": 1,
          "type": "data",
          "visible": true,
          "width": 4
         },
         "hovertemplate": "Env: Twenty Questions<br>Word Limit: None<br>Model: Gemini 2.5 Pro (ABBEL)<br>Success Rate: {y:.2f}%<br>SEM: 8.00%<br>N: 40",
         "marker": {
          "color": "#006400"
         },
         "name": "Gemini 2.5 Pro (ABBEL)",
         "showlegend": false,
         "type": "bar",
         "width": 0.8,
         "x": [
          "Gemini 2.5 Pro (ABBEL)"
         ],
         "xaxis": "x3",
         "y": {
          "bdata": "AAAAAABASkA=",
          "dtype": "f8"
         },
         "yaxis": "y3"
        },
        {
         "error_y": {
          "array": {
           "bdata": "TLIiNnfdH0A=",
           "dtype": "f8"
          },
          "color": "black",
          "thickness": 1,
          "type": "data",
          "visible": true,
          "width": 4
         },
         "hovertemplate": "Env: Guess my City<br>Word Limit: None<br>Model: Deepseek V3<br>Success Rate: {y:.2f}%<br>SEM: 7.97%<br>N: 40",
         "marker": {
          "color": "#ADD8E6"
         },
         "name": "Deepseek V3",
         "showlegend": false,
         "type": "bar",
         "width": 0.8,
         "x": [
          "Deepseek V3"
         ],
         "xaxis": "x4",
         "y": {
          "bdata": "AQAAAACAS0A=",
          "dtype": "f8"
         },
         "yaxis": "y4"
        },
        {
         "error_y": {
          "array": {
           "bdata": "o9OluepgH0A=",
           "dtype": "f8"
          },
          "color": "black",
          "thickness": 1,
          "type": "data",
          "visible": true,
          "width": 4
         },
         "hovertemplate": "Env: Guess my City<br>Word Limit: None<br>Model: Deepseek V3 (belief prompting)<br>Success Rate: {y:.2f}%<br>SEM: 7.84%<br>N: 40",
         "marker": {
          "color": "#4682B4"
         },
         "name": "Deepseek V3 (belief prompting)",
         "showlegend": false,
         "type": "bar",
         "width": 0.8,
         "x": [
          "Deepseek V3 (belief prompting)"
         ],
         "xaxis": "x4",
         "y": {
          "bdata": "AAAAAAAATkA=",
          "dtype": "f8"
         },
         "yaxis": "y4"
        },
        {
         "error_y": {
          "array": {
           "bdata": "Z5tdmim8G0A=",
           "dtype": "f8"
          },
          "color": "black",
          "thickness": 1,
          "type": "data",
          "visible": true,
          "width": 4
         },
         "hovertemplate": "Env: Guess my City<br>Word Limit: None<br>Model: Deepseek V3 (ABBEL)<br>Success Rate: {y:.2f}%<br>SEM: 6.93%<br>N: 40",
         "marker": {
          "color": "#003366"
         },
         "name": "Deepseek V3 (ABBEL)",
         "showlegend": false,
         "type": "bar",
         "width": 0.8,
         "x": [
          "Deepseek V3 (ABBEL)"
         ],
         "xaxis": "x4",
         "y": {
          "bdata": "AAAAAADAUkA=",
          "dtype": "f8"
         },
         "yaxis": "y4"
        },
        {
         "error_y": {
          "array": {
           "bdata": "3DIj3+2MHkA=",
           "dtype": "f8"
          },
          "color": "black",
          "thickness": 1,
          "type": "data",
          "visible": true,
          "width": 4
         },
         "hovertemplate": "Env: Guess my City<br>Word Limit: None<br>Model: Deepseek R1<br>Success Rate: {y:.2f}%<br>SEM: 7.64%<br>N: 40",
         "marker": {
          "color": "#FFB6C1"
         },
         "name": "Deepseek R1",
         "showlegend": false,
         "type": "bar",
         "width": 0.8,
         "x": [
          "Deepseek R1"
         ],
         "xaxis": "x4",
         "y": {
          "bdata": "AAAAAABAUEA=",
          "dtype": "f8"
         },
         "yaxis": "y4"
        },
        {
         "error_y": {
          "array": {
           "bdata": "N65djk78H0A=",
           "dtype": "f8"
          },
          "color": "black",
          "thickness": 1,
          "type": "data",
          "visible": true,
          "width": 4
         },
         "hovertemplate": "Env: Guess my City<br>Word Limit: None<br>Model: Deepseek R1 (belief prompting)<br>Success Rate: {y:.2f}%<br>SEM: 8.00%<br>N: 40",
         "marker": {
          "color": "#FF6347"
         },
         "name": "Deepseek R1 (belief prompting)",
         "showlegend": false,
         "type": "bar",
         "width": 0.8,
         "x": [
          "Deepseek R1 (belief prompting)"
         ],
         "xaxis": "x4",
         "y": {
          "bdata": "AAAAAABASkA=",
          "dtype": "f8"
         },
         "yaxis": "y4"
        },
        {
         "error_y": {
          "array": {
           "bdata": "TLIiNnfdH0A=",
           "dtype": "f8"
          },
          "color": "black",
          "thickness": 1,
          "type": "data",
          "visible": true,
          "width": 4
         },
         "hovertemplate": "Env: Guess my City<br>Word Limit: None<br>Model: Deepseek R1 (ABBEL)<br>Success Rate: {y:.2f}%<br>SEM: 7.97%<br>N: 40",
         "marker": {
          "color": "#8B0000"
         },
         "name": "Deepseek R1 (ABBEL)",
         "showlegend": false,
         "type": "bar",
         "width": 0.8,
         "x": [
          "Deepseek R1 (ABBEL)"
         ],
         "xaxis": "x4",
         "y": {
          "bdata": "AQAAAACAS0A=",
          "dtype": "f8"
         },
         "yaxis": "y4"
        },
        {
         "error_y": {
          "array": {
           "bdata": "BlaVCF5WGEA=",
           "dtype": "f8"
          },
          "color": "black",
          "thickness": 1,
          "type": "data",
          "visible": true,
          "width": 4
         },
         "hovertemplate": "Env: Guess my City<br>Word Limit: None<br>Model: Gemini 2.5 Pro<br>Success Rate: {y:.2f}%<br>SEM: 6.08%<br>N: 40",
         "marker": {
          "color": "#90EE90"
         },
         "name": "Gemini 2.5 Pro",
         "showlegend": false,
         "type": "bar",
         "width": 0.8,
         "x": [
          "Gemini 2.5 Pro"
         ],
         "xaxis": "x4",
         "y": {
          "bdata": "AAAAAACgVEA=",
          "dtype": "f8"
         },
         "yaxis": "y4"
        },
        {
         "error_y": {
          "array": {
           "bdata": "Bhd5rIyZHEA=",
           "dtype": "f8"
          },
          "color": "black",
          "thickness": 1,
          "type": "data",
          "visible": true,
          "width": 4
         },
         "hovertemplate": "Env: Guess my City<br>Word Limit: None<br>Model: Gemini 2.5 Pro (belief prompting)<br>Success Rate: {y:.2f}%<br>SEM: 7.15%<br>N: 40",
         "marker": {
          "color": "#32CD32"
         },
         "name": "Gemini 2.5 Pro (belief prompting)",
         "showlegend": false,
         "type": "bar",
         "width": 0.8,
         "x": [
          "Gemini 2.5 Pro (belief prompting)"
         ],
         "xaxis": "x4",
         "y": {
          "bdata": "AAAAAAAgUkA=",
          "dtype": "f8"
         },
         "yaxis": "y4"
        },
        {
         "error_y": {
          "array": {
           "bdata": "h9/ZY9meGUA=",
           "dtype": "f8"
          },
          "color": "black",
          "thickness": 1,
          "type": "data",
          "visible": true,
          "width": 4
         },
         "hovertemplate": "Env: Guess my City<br>Word Limit: None<br>Model: Gemini 2.5 Pro (ABBEL)<br>Success Rate: {y:.2f}%<br>SEM: 6.41%<br>N: 40",
         "marker": {
          "color": "#006400"
         },
         "name": "Gemini 2.5 Pro (ABBEL)",
         "showlegend": false,
         "type": "bar",
         "width": 0.8,
         "x": [
          "Gemini 2.5 Pro (ABBEL)"
         ],
         "xaxis": "x4",
         "y": {
          "bdata": "AAAAAAAAVEA=",
          "dtype": "f8"
         },
         "yaxis": "y4"
        },
        {
         "error_y": {
          "array": {
           "bdata": "N65djk78H0A=",
           "dtype": "f8"
          },
          "color": "black",
          "thickness": 1,
          "type": "data",
          "visible": true,
          "width": 4
         },
         "hovertemplate": "Env: Wordle<br>Word Limit: None<br>Model: Deepseek V3<br>Success Rate: {y:.2f}%<br>SEM: 8.00%<br>N: 40",
         "marker": {
          "color": "#ADD8E6"
         },
         "name": "Deepseek V3",
         "showlegend": false,
         "type": "bar",
         "width": 0.8,
         "x": [
          "Deepseek V3"
         ],
         "xaxis": "x5",
         "y": {
          "bdata": "AAAAAABASkA=",
          "dtype": "f8"
         },
         "yaxis": "y5"
        },
        {
         "error_y": {
          "array": {
           "bdata": "kbJbjM2pH0A=",
           "dtype": "f8"
          },
          "color": "black",
          "thickness": 1,
          "type": "data",
          "visible": true,
          "width": 4
         },
         "hovertemplate": "Env: Wordle<br>Word Limit: None<br>Model: Deepseek V3 (belief prompting)<br>Success Rate: {y:.2f}%<br>SEM: 7.92%<br>N: 40",
         "marker": {
          "color": "#4682B4"
         },
         "name": "Deepseek V3 (belief prompting)",
         "showlegend": false,
         "type": "bar",
         "width": 0.8,
         "x": [
          "Deepseek V3 (belief prompting)"
         ],
         "xaxis": "x5",
         "y": {
          "bdata": "AAAAAABARUA=",
          "dtype": "f8"
         },
         "yaxis": "y5"
        },
        {
         "error_y": {
          "array": {
           "bdata": "AAAAAAAAHkA=",
           "dtype": "f8"
          },
          "color": "black",
          "thickness": 1,
          "type": "data",
          "visible": true,
          "width": 4
         },
         "hovertemplate": "Env: Wordle<br>Word Limit: None<br>Model: Deepseek V3 (ABBEL)<br>Success Rate: {y:.2f}%<br>SEM: 7.50%<br>N: 40",
         "marker": {
          "color": "#003366"
         },
         "name": "Deepseek V3 (ABBEL)",
         "showlegend": false,
         "type": "bar",
         "width": 0.8,
         "x": [
          "Deepseek V3 (ABBEL)"
         ],
         "xaxis": "x5",
         "y": {
          "bdata": "AAAAAABAQEA=",
          "dtype": "f8"
         },
         "yaxis": "y5"
        },
        {
         "error_y": {
          "array": {
           "bdata": "pmfjCiM3E0A=",
           "dtype": "f8"
          },
          "color": "black",
          "thickness": 1,
          "type": "data",
          "visible": true,
          "width": 4
         },
         "hovertemplate": "Env: Wordle<br>Word Limit: None<br>Model: Deepseek R1<br>Success Rate: {y:.2f}%<br>SEM: 4.80%<br>N: 40",
         "marker": {
          "color": "#FFB6C1"
         },
         "name": "Deepseek R1",
         "showlegend": false,
         "type": "bar",
         "width": 0.8,
         "x": [
          "Deepseek R1"
         ],
         "xaxis": "x5",
         "y": {
          "bdata": "AAAAAACAVkA=",
          "dtype": "f8"
         },
         "yaxis": "y5"
        },
        {
         "error_y": {
          "array": {
           "bdata": "B1aVCF5WGEA=",
           "dtype": "f8"
          },
          "color": "black",
          "thickness": 1,
          "type": "data",
          "visible": true,
          "width": 4
         },
         "hovertemplate": "Env: Wordle<br>Word Limit: None<br>Model: Deepseek R1 (belief prompting)<br>Success Rate: {y:.2f}%<br>SEM: 6.08%<br>N: 40",
         "marker": {
          "color": "#FF6347"
         },
         "name": "Deepseek R1 (belief prompting)",
         "showlegend": false,
         "type": "bar",
         "width": 0.8,
         "x": [
          "Deepseek R1 (belief prompting)"
         ],
         "xaxis": "x5",
         "y": {
          "bdata": "AAAAAACgVEA=",
          "dtype": "f8"
         },
         "yaxis": "y5"
        },
        {
         "error_y": {
          "array": {
           "bdata": "hi/qqfHeFkA=",
           "dtype": "f8"
          },
          "color": "black",
          "thickness": 1,
          "type": "data",
          "visible": true,
          "width": 4
         },
         "hovertemplate": "Env: Wordle<br>Word Limit: None<br>Model: Deepseek R1 (ABBEL)<br>Success Rate: {y:.2f}%<br>SEM: 5.72%<br>N: 40",
         "marker": {
          "color": "#8B0000"
         },
         "name": "Deepseek R1 (ABBEL)",
         "showlegend": false,
         "type": "bar",
         "width": 0.8,
         "x": [
          "Deepseek R1 (ABBEL)"
         ],
         "xaxis": "x5",
         "y": {
          "bdata": "AAAAAABAVUA=",
          "dtype": "f8"
         },
         "yaxis": "y5"
        },
        {
         "error_y": {
          "array": {
           "bdata": "AAAAAAAABEA=",
           "dtype": "f8"
          },
          "color": "black",
          "thickness": 1,
          "type": "data",
          "visible": true,
          "width": 4
         },
         "hovertemplate": "Env: Wordle<br>Word Limit: None<br>Model: Gemini 2.5 Pro<br>Success Rate: {y:.2f}%<br>SEM: 2.50%<br>N: 40",
         "marker": {
          "color": "#90EE90"
         },
         "name": "Gemini 2.5 Pro",
         "showlegend": false,
         "type": "bar",
         "width": 0.8,
         "x": [
          "Gemini 2.5 Pro"
         ],
         "xaxis": "x5",
         "y": {
          "bdata": "AAAAAABgWEA=",
          "dtype": "f8"
         },
         "yaxis": "y5"
        },
        {
         "error_y": {
          "array": {
           "bdata": "s/a0FlfrC0A=",
           "dtype": "f8"
          },
          "color": "black",
          "thickness": 1,
          "type": "data",
          "visible": true,
          "width": 4
         },
         "hovertemplate": "Env: Wordle<br>Word Limit: None<br>Model: Gemini 2.5 Pro (belief prompting)<br>Success Rate: {y:.2f}%<br>SEM: 3.49%<br>N: 40",
         "marker": {
          "color": "#32CD32"
         },
         "name": "Gemini 2.5 Pro (belief prompting)",
         "showlegend": false,
         "type": "bar",
         "width": 0.8,
         "x": [
          "Gemini 2.5 Pro (belief prompting)"
         ],
         "xaxis": "x5",
         "y": {
          "bdata": "AAAAAADAV0A=",
          "dtype": "f8"
         },
         "yaxis": "y5"
        },
        {
         "error_y": {
          "array": {
           "bdata": "h9/ZY9meGUA=",
           "dtype": "f8"
          },
          "color": "black",
          "thickness": 1,
          "type": "data",
          "visible": true,
          "width": 4
         },
         "hovertemplate": "Env: Wordle<br>Word Limit: None<br>Model: Gemini 2.5 Pro (ABBEL)<br>Success Rate: {y:.2f}%<br>SEM: 6.41%<br>N: 40",
         "marker": {
          "color": "#006400"
         },
         "name": "Gemini 2.5 Pro (ABBEL)",
         "showlegend": false,
         "type": "bar",
         "width": 0.8,
         "x": [
          "Gemini 2.5 Pro (ABBEL)"
         ],
         "xaxis": "x5",
         "y": {
          "bdata": "AAAAAAAAVEA=",
          "dtype": "f8"
         },
         "yaxis": "y5"
        },
        {
         "error_y": {
          "array": {
           "bdata": "s/a0FlfrC0A=",
           "dtype": "f8"
          },
          "color": "black",
          "thickness": 1,
          "type": "data",
          "visible": true,
          "width": 4
         },
         "hovertemplate": "Env: Mastermind<br>Word Limit: None<br>Model: Deepseek V3<br>Success Rate: {y:.2f}%<br>SEM: 3.49%<br>N: 40",
         "marker": {
          "color": "#ADD8E6"
         },
         "name": "Deepseek V3",
         "showlegend": false,
         "type": "bar",
         "width": 0.8,
         "x": [
          "Deepseek V3"
         ],
         "xaxis": "x6",
         "y": {
          "bdata": "AAAAAAAAFEA=",
          "dtype": "f8"
         },
         "yaxis": "y6"
        },
        {
         "error_y": {
          "array": {
           "bdata": "s/a0FlfrC0A=",
           "dtype": "f8"
          },
          "color": "black",
          "thickness": 1,
          "type": "data",
          "visible": true,
          "width": 4
         },
         "hovertemplate": "Env: Mastermind<br>Word Limit: None<br>Model: Deepseek V3 (belief prompting)<br>Success Rate: {y:.2f}%<br>SEM: 3.49%<br>N: 40",
         "marker": {
          "color": "#4682B4"
         },
         "name": "Deepseek V3 (belief prompting)",
         "showlegend": false,
         "type": "bar",
         "width": 0.8,
         "x": [
          "Deepseek V3 (belief prompting)"
         ],
         "xaxis": "x6",
         "y": {
          "bdata": "AAAAAAAAFEA=",
          "dtype": "f8"
         },
         "yaxis": "y6"
        },
        {
         "error_y": {
          "array": {
           "bdata": "s/a0FlfrC0A=",
           "dtype": "f8"
          },
          "color": "black",
          "thickness": 1,
          "type": "data",
          "visible": true,
          "width": 4
         },
         "hovertemplate": "Env: Mastermind<br>Word Limit: None<br>Model: Deepseek V3 (ABBEL)<br>Success Rate: {y:.2f}%<br>SEM: 3.49%<br>N: 40",
         "marker": {
          "color": "#003366"
         },
         "name": "Deepseek V3 (ABBEL)",
         "showlegend": false,
         "type": "bar",
         "width": 0.8,
         "x": [
          "Deepseek V3 (ABBEL)"
         ],
         "xaxis": "x6",
         "y": {
          "bdata": "AAAAAAAAFEA=",
          "dtype": "f8"
         },
         "yaxis": "y6"
        },
        {
         "error_y": {
          "array": {
           "bdata": "aCzJDxtaHUA=",
           "dtype": "f8"
          },
          "color": "black",
          "thickness": 1,
          "type": "data",
          "visible": true,
          "width": 4
         },
         "hovertemplate": "Env: Mastermind<br>Word Limit: None<br>Model: Deepseek R1<br>Success Rate: {y:.2f}%<br>SEM: 7.34%<br>N: 40",
         "marker": {
          "color": "#FFB6C1"
         },
         "name": "Deepseek R1",
         "showlegend": false,
         "type": "bar",
         "width": 0.8,
         "x": [
          "Deepseek R1"
         ],
         "xaxis": "x6",
         "y": {
          "bdata": "AAAAAACAUUA=",
          "dtype": "f8"
         },
         "yaxis": "y6"
        },
        {
         "error_y": {
          "array": {
           "bdata": "N65djk78H0A=",
           "dtype": "f8"
          },
          "color": "black",
          "thickness": 1,
          "type": "data",
          "visible": true,
          "width": 4
         },
         "hovertemplate": "Env: Mastermind<br>Word Limit: None<br>Model: Deepseek R1 (belief prompting)<br>Success Rate: {y:.2f}%<br>SEM: 8.00%<br>N: 40",
         "marker": {
          "color": "#FF6347"
         },
         "name": "Deepseek R1 (belief prompting)",
         "showlegend": false,
         "type": "bar",
         "width": 0.8,
         "x": [
          "Deepseek R1 (belief prompting)"
         ],
         "xaxis": "x6",
         "y": {
          "bdata": "AAAAAABASkA=",
          "dtype": "f8"
         },
         "yaxis": "y6"
        },
        {
         "error_y": {
          "array": {
           "bdata": "3zIj3+2MHkA=",
           "dtype": "f8"
          },
          "color": "black",
          "thickness": 1,
          "type": "data",
          "visible": true,
          "width": 4
         },
         "hovertemplate": "Env: Mastermind<br>Word Limit: None<br>Model: Deepseek R1 (ABBEL)<br>Success Rate: {y:.2f}%<br>SEM: 7.64%<br>N: 40",
         "marker": {
          "color": "#8B0000"
         },
         "name": "Deepseek R1 (ABBEL)",
         "showlegend": false,
         "type": "bar",
         "width": 0.8,
         "x": [
          "Deepseek R1 (ABBEL)"
         ],
         "xaxis": "x6",
         "y": {
          "bdata": "AAAAAACAQUA=",
          "dtype": "f8"
         },
         "yaxis": "y6"
        },
        {
         "error_y": {
          "array": {
           "bdata": "AAAAAAAAAAA=",
           "dtype": "f8"
          },
          "color": "black",
          "thickness": 1,
          "type": "data",
          "visible": true,
          "width": 4
         },
         "hovertemplate": "Env: Mastermind<br>Word Limit: None<br>Model: Gemini 2.5 Pro<br>Success Rate: {y:.2f}%<br>SEM: 0.00%<br>N: 40",
         "marker": {
          "color": "#90EE90"
         },
         "name": "Gemini 2.5 Pro",
         "showlegend": false,
         "type": "bar",
         "width": 0.8,
         "x": [
          "Gemini 2.5 Pro"
         ],
         "xaxis": "x6",
         "y": {
          "bdata": "AAAAAAAAWUA=",
          "dtype": "f8"
         },
         "yaxis": "y6"
        },
        {
         "error_y": {
          "array": {
           "bdata": "AAAAAAAABEA=",
           "dtype": "f8"
          },
          "color": "black",
          "thickness": 1,
          "type": "data",
          "visible": true,
          "width": 4
         },
         "hovertemplate": "Env: Mastermind<br>Word Limit: None<br>Model: Gemini 2.5 Pro (belief prompting)<br>Success Rate: {y:.2f}%<br>SEM: 2.50%<br>N: 40",
         "marker": {
          "color": "#32CD32"
         },
         "name": "Gemini 2.5 Pro (belief prompting)",
         "showlegend": false,
         "type": "bar",
         "width": 0.8,
         "x": [
          "Gemini 2.5 Pro (belief prompting)"
         ],
         "xaxis": "x6",
         "y": {
          "bdata": "AAAAAABgWEA=",
          "dtype": "f8"
         },
         "yaxis": "y6"
        },
        {
         "error_y": {
          "array": {
           "bdata": "AAAAAAAABEA=",
           "dtype": "f8"
          },
          "color": "black",
          "thickness": 1,
          "type": "data",
          "visible": true,
          "width": 4
         },
         "hovertemplate": "Env: Mastermind<br>Word Limit: None<br>Model: Gemini 2.5 Pro (ABBEL)<br>Success Rate: {y:.2f}%<br>SEM: 2.50%<br>N: 40",
         "marker": {
          "color": "#006400"
         },
         "name": "Gemini 2.5 Pro (ABBEL)",
         "showlegend": false,
         "type": "bar",
         "width": 0.8,
         "x": [
          "Gemini 2.5 Pro (ABBEL)"
         ],
         "xaxis": "x6",
         "y": {
          "bdata": "AAAAAABgWEA=",
          "dtype": "f8"
         },
         "yaxis": "y6"
        }
       ],
       "layout": {
        "annotations": [
         {
          "font": {
           "size": 16
          },
          "showarrow": false,
          "text": "Murder Mystery",
          "x": 0.07083333333333333,
          "xanchor": "center",
          "xref": "paper",
          "y": 1,
          "yanchor": "bottom",
          "yref": "paper"
         },
         {
          "font": {
           "size": 16
          },
          "showarrow": false,
          "text": "Customer Service",
          "x": 0.2425,
          "xanchor": "center",
          "xref": "paper",
          "y": 1,
          "yanchor": "bottom",
          "yref": "paper"
         },
         {
          "font": {
           "size": 16
          },
          "showarrow": false,
          "text": "Twenty Questions",
          "x": 0.4141666666666667,
          "xanchor": "center",
          "xref": "paper",
          "y": 1,
          "yanchor": "bottom",
          "yref": "paper"
         },
         {
          "font": {
           "size": 16
          },
          "showarrow": false,
          "text": "Guess my City",
          "x": 0.5858333333333334,
          "xanchor": "center",
          "xref": "paper",
          "y": 1,
          "yanchor": "bottom",
          "yref": "paper"
         },
         {
          "font": {
           "size": 16
          },
          "showarrow": false,
          "text": "Wordle",
          "x": 0.7575000000000001,
          "xanchor": "center",
          "xref": "paper",
          "y": 1,
          "yanchor": "bottom",
          "yref": "paper"
         },
         {
          "font": {
           "size": 16
          },
          "showarrow": false,
          "text": "Mastermind",
          "x": 0.9291666666666667,
          "xanchor": "center",
          "xref": "paper",
          "y": 1,
          "yanchor": "bottom",
          "yref": "paper"
         }
        ],
        "barmode": "group",
        "font": {
         "family": "Computer Modern, serif",
         "size": 16
        },
        "height": 350,
        "legend": {
         "bgcolor": "rgba(255,255,255,0.9)",
         "bordercolor": "black",
         "borderwidth": 1,
         "orientation": "v",
         "x": 1.02,
         "xanchor": "left",
         "y": 0.5,
         "yanchor": "middle"
        },
        "margin": {
         "b": 50,
         "l": 80,
         "r": 80,
         "t": 100
        },
        "plot_bgcolor": "white",
        "showlegend": true,
        "template": {
         "data": {
          "bar": [
           {
            "error_x": {
             "color": "rgb(36,36,36)"
            },
            "error_y": {
             "color": "rgb(36,36,36)"
            },
            "marker": {
             "line": {
              "color": "white",
              "width": 0.5
             },
             "pattern": {
              "fillmode": "overlay",
              "size": 10,
              "solidity": 0.2
             }
            },
            "type": "bar"
           }
          ],
          "barpolar": [
           {
            "marker": {
             "line": {
              "color": "white",
              "width": 0.5
             },
             "pattern": {
              "fillmode": "overlay",
              "size": 10,
              "solidity": 0.2
             }
            },
            "type": "barpolar"
           }
          ],
          "carpet": [
           {
            "aaxis": {
             "endlinecolor": "rgb(36,36,36)",
             "gridcolor": "white",
             "linecolor": "white",
             "minorgridcolor": "white",
             "startlinecolor": "rgb(36,36,36)"
            },
            "baxis": {
             "endlinecolor": "rgb(36,36,36)",
             "gridcolor": "white",
             "linecolor": "white",
             "minorgridcolor": "white",
             "startlinecolor": "rgb(36,36,36)"
            },
            "type": "carpet"
           }
          ],
          "choropleth": [
           {
            "colorbar": {
             "outlinewidth": 1,
             "tickcolor": "rgb(36,36,36)",
             "ticks": "outside"
            },
            "type": "choropleth"
           }
          ],
          "contour": [
           {
            "colorbar": {
             "outlinewidth": 1,
             "tickcolor": "rgb(36,36,36)",
             "ticks": "outside"
            },
            "colorscale": [
             [
              0,
              "#440154"
             ],
             [
              0.1111111111111111,
              "#482878"
             ],
             [
              0.2222222222222222,
              "#3e4989"
             ],
             [
              0.3333333333333333,
              "#31688e"
             ],
             [
              0.4444444444444444,
              "#26828e"
             ],
             [
              0.5555555555555556,
              "#1f9e89"
             ],
             [
              0.6666666666666666,
              "#35b779"
             ],
             [
              0.7777777777777778,
              "#6ece58"
             ],
             [
              0.8888888888888888,
              "#b5de2b"
             ],
             [
              1,
              "#fde725"
             ]
            ],
            "type": "contour"
           }
          ],
          "contourcarpet": [
           {
            "colorbar": {
             "outlinewidth": 1,
             "tickcolor": "rgb(36,36,36)",
             "ticks": "outside"
            },
            "type": "contourcarpet"
           }
          ],
          "heatmap": [
           {
            "colorbar": {
             "outlinewidth": 1,
             "tickcolor": "rgb(36,36,36)",
             "ticks": "outside"
            },
            "colorscale": [
             [
              0,
              "#440154"
             ],
             [
              0.1111111111111111,
              "#482878"
             ],
             [
              0.2222222222222222,
              "#3e4989"
             ],
             [
              0.3333333333333333,
              "#31688e"
             ],
             [
              0.4444444444444444,
              "#26828e"
             ],
             [
              0.5555555555555556,
              "#1f9e89"
             ],
             [
              0.6666666666666666,
              "#35b779"
             ],
             [
              0.7777777777777778,
              "#6ece58"
             ],
             [
              0.8888888888888888,
              "#b5de2b"
             ],
             [
              1,
              "#fde725"
             ]
            ],
            "type": "heatmap"
           }
          ],
          "histogram": [
           {
            "marker": {
             "line": {
              "color": "white",
              "width": 0.6
             }
            },
            "type": "histogram"
           }
          ],
          "histogram2d": [
           {
            "colorbar": {
             "outlinewidth": 1,
             "tickcolor": "rgb(36,36,36)",
             "ticks": "outside"
            },
            "colorscale": [
             [
              0,
              "#440154"
             ],
             [
              0.1111111111111111,
              "#482878"
             ],
             [
              0.2222222222222222,
              "#3e4989"
             ],
             [
              0.3333333333333333,
              "#31688e"
             ],
             [
              0.4444444444444444,
              "#26828e"
             ],
             [
              0.5555555555555556,
              "#1f9e89"
             ],
             [
              0.6666666666666666,
              "#35b779"
             ],
             [
              0.7777777777777778,
              "#6ece58"
             ],
             [
              0.8888888888888888,
              "#b5de2b"
             ],
             [
              1,
              "#fde725"
             ]
            ],
            "type": "histogram2d"
           }
          ],
          "histogram2dcontour": [
           {
            "colorbar": {
             "outlinewidth": 1,
             "tickcolor": "rgb(36,36,36)",
             "ticks": "outside"
            },
            "colorscale": [
             [
              0,
              "#440154"
             ],
             [
              0.1111111111111111,
              "#482878"
             ],
             [
              0.2222222222222222,
              "#3e4989"
             ],
             [
              0.3333333333333333,
              "#31688e"
             ],
             [
              0.4444444444444444,
              "#26828e"
             ],
             [
              0.5555555555555556,
              "#1f9e89"
             ],
             [
              0.6666666666666666,
              "#35b779"
             ],
             [
              0.7777777777777778,
              "#6ece58"
             ],
             [
              0.8888888888888888,
              "#b5de2b"
             ],
             [
              1,
              "#fde725"
             ]
            ],
            "type": "histogram2dcontour"
           }
          ],
          "mesh3d": [
           {
            "colorbar": {
             "outlinewidth": 1,
             "tickcolor": "rgb(36,36,36)",
             "ticks": "outside"
            },
            "type": "mesh3d"
           }
          ],
          "parcoords": [
           {
            "line": {
             "colorbar": {
              "outlinewidth": 1,
              "tickcolor": "rgb(36,36,36)",
              "ticks": "outside"
             }
            },
            "type": "parcoords"
           }
          ],
          "pie": [
           {
            "automargin": true,
            "type": "pie"
           }
          ],
          "scatter": [
           {
            "fillpattern": {
             "fillmode": "overlay",
             "size": 10,
             "solidity": 0.2
            },
            "type": "scatter"
           }
          ],
          "scatter3d": [
           {
            "line": {
             "colorbar": {
              "outlinewidth": 1,
              "tickcolor": "rgb(36,36,36)",
              "ticks": "outside"
             }
            },
            "marker": {
             "colorbar": {
              "outlinewidth": 1,
              "tickcolor": "rgb(36,36,36)",
              "ticks": "outside"
             }
            },
            "type": "scatter3d"
           }
          ],
          "scattercarpet": [
           {
            "marker": {
             "colorbar": {
              "outlinewidth": 1,
              "tickcolor": "rgb(36,36,36)",
              "ticks": "outside"
             }
            },
            "type": "scattercarpet"
           }
          ],
          "scattergeo": [
           {
            "marker": {
             "colorbar": {
              "outlinewidth": 1,
              "tickcolor": "rgb(36,36,36)",
              "ticks": "outside"
             }
            },
            "type": "scattergeo"
           }
          ],
          "scattergl": [
           {
            "marker": {
             "colorbar": {
              "outlinewidth": 1,
              "tickcolor": "rgb(36,36,36)",
              "ticks": "outside"
             }
            },
            "type": "scattergl"
           }
          ],
          "scattermap": [
           {
            "marker": {
             "colorbar": {
              "outlinewidth": 1,
              "tickcolor": "rgb(36,36,36)",
              "ticks": "outside"
             }
            },
            "type": "scattermap"
           }
          ],
          "scattermapbox": [
           {
            "marker": {
             "colorbar": {
              "outlinewidth": 1,
              "tickcolor": "rgb(36,36,36)",
              "ticks": "outside"
             }
            },
            "type": "scattermapbox"
           }
          ],
          "scatterpolar": [
           {
            "marker": {
             "colorbar": {
              "outlinewidth": 1,
              "tickcolor": "rgb(36,36,36)",
              "ticks": "outside"
             }
            },
            "type": "scatterpolar"
           }
          ],
          "scatterpolargl": [
           {
            "marker": {
             "colorbar": {
              "outlinewidth": 1,
              "tickcolor": "rgb(36,36,36)",
              "ticks": "outside"
             }
            },
            "type": "scatterpolargl"
           }
          ],
          "scatterternary": [
           {
            "marker": {
             "colorbar": {
              "outlinewidth": 1,
              "tickcolor": "rgb(36,36,36)",
              "ticks": "outside"
             }
            },
            "type": "scatterternary"
           }
          ],
          "surface": [
           {
            "colorbar": {
             "outlinewidth": 1,
             "tickcolor": "rgb(36,36,36)",
             "ticks": "outside"
            },
            "colorscale": [
             [
              0,
              "#440154"
             ],
             [
              0.1111111111111111,
              "#482878"
             ],
             [
              0.2222222222222222,
              "#3e4989"
             ],
             [
              0.3333333333333333,
              "#31688e"
             ],
             [
              0.4444444444444444,
              "#26828e"
             ],
             [
              0.5555555555555556,
              "#1f9e89"
             ],
             [
              0.6666666666666666,
              "#35b779"
             ],
             [
              0.7777777777777778,
              "#6ece58"
             ],
             [
              0.8888888888888888,
              "#b5de2b"
             ],
             [
              1,
              "#fde725"
             ]
            ],
            "type": "surface"
           }
          ],
          "table": [
           {
            "cells": {
             "fill": {
              "color": "rgb(237,237,237)"
             },
             "line": {
              "color": "white"
             }
            },
            "header": {
             "fill": {
              "color": "rgb(217,217,217)"
             },
             "line": {
              "color": "white"
             }
            },
            "type": "table"
           }
          ]
         },
         "layout": {
          "annotationdefaults": {
           "arrowhead": 0,
           "arrowwidth": 1
          },
          "autotypenumbers": "strict",
          "coloraxis": {
           "colorbar": {
            "outlinewidth": 1,
            "tickcolor": "rgb(36,36,36)",
            "ticks": "outside"
           }
          },
          "colorscale": {
           "diverging": [
            [
             0,
             "rgb(103,0,31)"
            ],
            [
             0.1,
             "rgb(178,24,43)"
            ],
            [
             0.2,
             "rgb(214,96,77)"
            ],
            [
             0.3,
             "rgb(244,165,130)"
            ],
            [
             0.4,
             "rgb(253,219,199)"
            ],
            [
             0.5,
             "rgb(247,247,247)"
            ],
            [
             0.6,
             "rgb(209,229,240)"
            ],
            [
             0.7,
             "rgb(146,197,222)"
            ],
            [
             0.8,
             "rgb(67,147,195)"
            ],
            [
             0.9,
             "rgb(33,102,172)"
            ],
            [
             1,
             "rgb(5,48,97)"
            ]
           ],
           "sequential": [
            [
             0,
             "#440154"
            ],
            [
             0.1111111111111111,
             "#482878"
            ],
            [
             0.2222222222222222,
             "#3e4989"
            ],
            [
             0.3333333333333333,
             "#31688e"
            ],
            [
             0.4444444444444444,
             "#26828e"
            ],
            [
             0.5555555555555556,
             "#1f9e89"
            ],
            [
             0.6666666666666666,
             "#35b779"
            ],
            [
             0.7777777777777778,
             "#6ece58"
            ],
            [
             0.8888888888888888,
             "#b5de2b"
            ],
            [
             1,
             "#fde725"
            ]
           ],
           "sequentialminus": [
            [
             0,
             "#440154"
            ],
            [
             0.1111111111111111,
             "#482878"
            ],
            [
             0.2222222222222222,
             "#3e4989"
            ],
            [
             0.3333333333333333,
             "#31688e"
            ],
            [
             0.4444444444444444,
             "#26828e"
            ],
            [
             0.5555555555555556,
             "#1f9e89"
            ],
            [
             0.6666666666666666,
             "#35b779"
            ],
            [
             0.7777777777777778,
             "#6ece58"
            ],
            [
             0.8888888888888888,
             "#b5de2b"
            ],
            [
             1,
             "#fde725"
            ]
           ]
          },
          "colorway": [
           "#1F77B4",
           "#FF7F0E",
           "#2CA02C",
           "#D62728",
           "#9467BD",
           "#8C564B",
           "#E377C2",
           "#7F7F7F",
           "#BCBD22",
           "#17BECF"
          ],
          "font": {
           "color": "rgb(36,36,36)"
          },
          "geo": {
           "bgcolor": "white",
           "lakecolor": "white",
           "landcolor": "white",
           "showlakes": true,
           "showland": true,
           "subunitcolor": "white"
          },
          "hoverlabel": {
           "align": "left"
          },
          "hovermode": "closest",
          "mapbox": {
           "style": "light"
          },
          "paper_bgcolor": "white",
          "plot_bgcolor": "white",
          "polar": {
           "angularaxis": {
            "gridcolor": "rgb(232,232,232)",
            "linecolor": "rgb(36,36,36)",
            "showgrid": false,
            "showline": true,
            "ticks": "outside"
           },
           "bgcolor": "white",
           "radialaxis": {
            "gridcolor": "rgb(232,232,232)",
            "linecolor": "rgb(36,36,36)",
            "showgrid": false,
            "showline": true,
            "ticks": "outside"
           }
          },
          "scene": {
           "xaxis": {
            "backgroundcolor": "white",
            "gridcolor": "rgb(232,232,232)",
            "gridwidth": 2,
            "linecolor": "rgb(36,36,36)",
            "showbackground": true,
            "showgrid": false,
            "showline": true,
            "ticks": "outside",
            "zeroline": false,
            "zerolinecolor": "rgb(36,36,36)"
           },
           "yaxis": {
            "backgroundcolor": "white",
            "gridcolor": "rgb(232,232,232)",
            "gridwidth": 2,
            "linecolor": "rgb(36,36,36)",
            "showbackground": true,
            "showgrid": false,
            "showline": true,
            "ticks": "outside",
            "zeroline": false,
            "zerolinecolor": "rgb(36,36,36)"
           },
           "zaxis": {
            "backgroundcolor": "white",
            "gridcolor": "rgb(232,232,232)",
            "gridwidth": 2,
            "linecolor": "rgb(36,36,36)",
            "showbackground": true,
            "showgrid": false,
            "showline": true,
            "ticks": "outside",
            "zeroline": false,
            "zerolinecolor": "rgb(36,36,36)"
           }
          },
          "shapedefaults": {
           "fillcolor": "black",
           "line": {
            "width": 0
           },
           "opacity": 0.3
          },
          "ternary": {
           "aaxis": {
            "gridcolor": "rgb(232,232,232)",
            "linecolor": "rgb(36,36,36)",
            "showgrid": false,
            "showline": true,
            "ticks": "outside"
           },
           "baxis": {
            "gridcolor": "rgb(232,232,232)",
            "linecolor": "rgb(36,36,36)",
            "showgrid": false,
            "showline": true,
            "ticks": "outside"
           },
           "bgcolor": "white",
           "caxis": {
            "gridcolor": "rgb(232,232,232)",
            "linecolor": "rgb(36,36,36)",
            "showgrid": false,
            "showline": true,
            "ticks": "outside"
           }
          },
          "title": {
           "x": 0.05
          },
          "xaxis": {
           "automargin": true,
           "gridcolor": "rgb(232,232,232)",
           "linecolor": "rgb(36,36,36)",
           "showgrid": false,
           "showline": true,
           "ticks": "outside",
           "title": {
            "standoff": 15
           },
           "zeroline": false,
           "zerolinecolor": "rgb(36,36,36)"
          },
          "yaxis": {
           "automargin": true,
           "gridcolor": "rgb(232,232,232)",
           "linecolor": "rgb(36,36,36)",
           "showgrid": false,
           "showline": true,
           "ticks": "outside",
           "title": {
            "standoff": 15
           },
           "zeroline": false,
           "zerolinecolor": "rgb(36,36,36)"
          }
         }
        },
        "width": 1080,
        "xaxis": {
         "anchor": "y",
         "domain": [
          0,
          0.14166666666666666
         ],
         "showticklabels": false
        },
        "xaxis2": {
         "anchor": "y2",
         "domain": [
          0.17166666666666666,
          0.31333333333333335
         ],
         "showticklabels": false
        },
        "xaxis3": {
         "anchor": "y3",
         "domain": [
          0.3433333333333333,
          0.485
         ],
         "showticklabels": false
        },
        "xaxis4": {
         "anchor": "y4",
         "domain": [
          0.515,
          0.6566666666666667
         ],
         "showticklabels": false
        },
        "xaxis5": {
         "anchor": "y5",
         "domain": [
          0.6866666666666666,
          0.8283333333333334
         ],
         "showticklabels": false
        },
        "xaxis6": {
         "anchor": "y6",
         "domain": [
          0.8583333333333333,
          1
         ],
         "showticklabels": false
        },
        "yaxis": {
         "anchor": "x",
         "domain": [
          0,
          1
         ],
         "gridcolor": "lightgray",
         "range": [
          0,
          100
         ],
         "showgrid": true,
         "title": {
          "text": "Avg. Success Rate"
         }
        },
        "yaxis2": {
         "anchor": "x2",
         "domain": [
          0,
          1
         ],
         "gridcolor": "lightgray",
         "matches": "y",
         "range": [
          0,
          100
         ],
         "showgrid": true,
         "showticklabels": false
        },
        "yaxis3": {
         "anchor": "x3",
         "domain": [
          0,
          1
         ],
         "gridcolor": "lightgray",
         "matches": "y",
         "range": [
          0,
          100
         ],
         "showgrid": true,
         "showticklabels": false
        },
        "yaxis4": {
         "anchor": "x4",
         "domain": [
          0,
          1
         ],
         "gridcolor": "lightgray",
         "matches": "y",
         "range": [
          0,
          100
         ],
         "showgrid": true,
         "showticklabels": false
        },
        "yaxis5": {
         "anchor": "x5",
         "domain": [
          0,
          1
         ],
         "gridcolor": "lightgray",
         "matches": "y",
         "range": [
          0,
          100
         ],
         "showgrid": true,
         "showticklabels": false
        },
        "yaxis6": {
         "anchor": "x6",
         "domain": [
          0,
          1
         ],
         "gridcolor": "lightgray",
         "matches": "y",
         "range": [
          0,
          100
         ],
         "showgrid": true,
         "showticklabels": false
        }
       }
      }
     },
     "metadata": {},
     "output_type": "display_data"
    }
   ],
   "source": [
    "fig = plot_win_rates(summary_df)\n",
    "fig.show()"
   ]
  },
  {
   "cell_type": "code",
   "execution_count": 22,
   "id": "7971e701",
   "metadata": {},
   "outputs": [],
   "source": [
    "fig.write_image(\"figures/frontier_success_rate_right_legend.pdf\", width=1200, height=370)"
   ]
  },
  {
   "cell_type": "markdown",
   "id": "1c34baf1",
   "metadata": {},
   "source": [
    "## 2. Qualitative Look at Samples"
   ]
  },
  {
   "cell_type": "code",
   "execution_count": 13,
   "id": "ca6af337",
   "metadata": {},
   "outputs": [
    {
     "data": {
      "text/html": [
       "<div>\n",
       "<style scoped>\n",
       "    .dataframe tbody tr th:only-of-type {\n",
       "        vertical-align: middle;\n",
       "    }\n",
       "\n",
       "    .dataframe tbody tr th {\n",
       "        vertical-align: top;\n",
       "    }\n",
       "\n",
       "    .dataframe thead th {\n",
       "        text-align: right;\n",
       "    }\n",
       "</style>\n",
       "<table border=\"1\" class=\"dataframe\">\n",
       "  <thead>\n",
       "    <tr style=\"text-align: right;\">\n",
       "      <th></th>\n",
       "      <th>model</th>\n",
       "      <th>game_id</th>\n",
       "      <th>env</th>\n",
       "      <th>attempt</th>\n",
       "      <th>info</th>\n",
       "      <th>raw_guess</th>\n",
       "      <th>guess</th>\n",
       "      <th>response</th>\n",
       "      <th>word_limit</th>\n",
       "      <th>score</th>\n",
       "      <th>done</th>\n",
       "      <th>data</th>\n",
       "      <th>belief</th>\n",
       "      <th>action_reasoning</th>\n",
       "      <th>belief_reasoning</th>\n",
       "      <th>model_info</th>\n",
       "    </tr>\n",
       "  </thead>\n",
       "  <tbody>\n",
       "    <tr>\n",
       "      <th>889</th>\n",
       "      <td>Deepseek R1 (ABBEL)</td>\n",
       "      <td>0</td>\n",
       "      <td>Wordle</td>\n",
       "      <td>1</td>\n",
       "      <td>belief</td>\n",
       "      <td>&lt;Think&gt; Choose a second guess that maximizes n...</td>\n",
       "      <td>CRONY</td>\n",
       "      <td>First letter, c, is not in the target word \\nS...</td>\n",
       "      <td>None</td>\n",
       "      <td>1.0</td>\n",
       "      <td>True</td>\n",
       "      <td>{'agent_game_scenario': 'word', 'env_game_scen...</td>\n",
       "      <td>Excluded letters: C, O, N, Y  \\nIncluded lette...</td>\n",
       "      <td>Okay, so I'm on my second attempt in Wordle. T...</td>\n",
       "      <td>Alright, let me try to figure out the next ste...</td>\n",
       "      <td>Deepseek R1 (ABBEL)</td>\n",
       "    </tr>\n",
       "    <tr>\n",
       "      <th>890</th>\n",
       "      <td>Deepseek R1 (ABBEL)</td>\n",
       "      <td>0</td>\n",
       "      <td>Wordle</td>\n",
       "      <td>2</td>\n",
       "      <td>belief</td>\n",
       "      <td>&lt;Think&gt;Goal: Confirm R's position and test com...</td>\n",
       "      <td>STARE</td>\n",
       "      <td>First letter, s, is not in the target word \\nS...</td>\n",
       "      <td>None</td>\n",
       "      <td>2.0</td>\n",
       "      <td>True</td>\n",
       "      <td>{'agent_game_scenario': 'word', 'env_game_scen...</td>\n",
       "      <td>Excluded letters: C, O, N, Y, S, T, E  \\nInclu...</td>\n",
       "      <td>Okay, so I'm on my third attempt in Wordle. Le...</td>\n",
       "      <td>Okay, so let me try to figure out the next ste...</td>\n",
       "      <td>Deepseek R1 (ABBEL)</td>\n",
       "    </tr>\n",
       "    <tr>\n",
       "      <th>891</th>\n",
       "      <td>Deepseek R1 (ABBEL)</td>\n",
       "      <td>0</td>\n",
       "      <td>Wordle</td>\n",
       "      <td>3</td>\n",
       "      <td>belief</td>\n",
       "      <td>&lt;Think&gt; The target word must have A in positio...</td>\n",
       "      <td>GUARD</td>\n",
       "      <td>Goal reached</td>\n",
       "      <td>None</td>\n",
       "      <td>3.0</td>\n",
       "      <td>True</td>\n",
       "      <td>{'agent_game_scenario': 'word', 'env_game_scen...</td>\n",
       "      <td>Excluded letters: C, O, N, Y, S, T, E  \\nInclu...</td>\n",
       "      <td>Okay, let's see. I need to figure out the next...</td>\n",
       "      <td>Okay, let me figure out how to update the beli...</td>\n",
       "      <td>Deepseek R1 (ABBEL)</td>\n",
       "    </tr>\n",
       "  </tbody>\n",
       "</table>\n",
       "</div>"
      ],
      "text/plain": [
       "                   model game_id     env  attempt    info  \\\n",
       "889  Deepseek R1 (ABBEL)       0  Wordle        1  belief   \n",
       "890  Deepseek R1 (ABBEL)       0  Wordle        2  belief   \n",
       "891  Deepseek R1 (ABBEL)       0  Wordle        3  belief   \n",
       "\n",
       "                                             raw_guess  guess  \\\n",
       "889  <Think> Choose a second guess that maximizes n...  CRONY   \n",
       "890  <Think>Goal: Confirm R's position and test com...  STARE   \n",
       "891  <Think> The target word must have A in positio...  GUARD   \n",
       "\n",
       "                                              response word_limit  score  \\\n",
       "889  First letter, c, is not in the target word \\nS...       None    1.0   \n",
       "890  First letter, s, is not in the target word \\nS...       None    2.0   \n",
       "891                                       Goal reached       None    3.0   \n",
       "\n",
       "     done                                               data  \\\n",
       "889  True  {'agent_game_scenario': 'word', 'env_game_scen...   \n",
       "890  True  {'agent_game_scenario': 'word', 'env_game_scen...   \n",
       "891  True  {'agent_game_scenario': 'word', 'env_game_scen...   \n",
       "\n",
       "                                                belief  \\\n",
       "889  Excluded letters: C, O, N, Y  \\nIncluded lette...   \n",
       "890  Excluded letters: C, O, N, Y, S, T, E  \\nInclu...   \n",
       "891  Excluded letters: C, O, N, Y, S, T, E  \\nInclu...   \n",
       "\n",
       "                                      action_reasoning  \\\n",
       "889  Okay, so I'm on my second attempt in Wordle. T...   \n",
       "890  Okay, so I'm on my third attempt in Wordle. Le...   \n",
       "891  Okay, let's see. I need to figure out the next...   \n",
       "\n",
       "                                      belief_reasoning           model_info  \n",
       "889  Alright, let me try to figure out the next ste...  Deepseek R1 (ABBEL)  \n",
       "890  Okay, so let me try to figure out the next ste...  Deepseek R1 (ABBEL)  \n",
       "891  Okay, let me figure out how to update the beli...  Deepseek R1 (ABBEL)  "
      ]
     },
     "execution_count": 13,
     "metadata": {},
     "output_type": "execute_result"
    }
   ],
   "source": [
    "wordle_sample = df[\n",
    "    (df['model'] == 'Deepseek R1 (ABBEL)') & \\\n",
    "        (df['env'] == 'Wordle') & \\\n",
    "            (df['game_id'] == str(0))\n",
    "            ]\n",
    "wordle_sample"
   ]
  },
  {
   "cell_type": "code",
   "execution_count": 17,
   "id": "ceed05c4",
   "metadata": {},
   "outputs": [
    {
     "data": {
      "text/plain": [
       "'guard'"
      ]
     },
     "execution_count": 17,
     "metadata": {},
     "output_type": "execute_result"
    }
   ],
   "source": [
    "wordle_sample.iloc[0]['data']['env_game_scenario']"
   ]
  },
  {
   "cell_type": "code",
   "execution_count": 14,
   "id": "7d43d841",
   "metadata": {},
   "outputs": [
    {
     "data": {
      "text/plain": [
       "'Excluded letters: C, O, N, Y  \\nIncluded letters: R (must be in position 1, 3, 4, or 5)  \\nTarget word contains R and excludes C, O, N, Y.'"
      ]
     },
     "execution_count": 14,
     "metadata": {},
     "output_type": "execute_result"
    }
   ],
   "source": [
    "wordle_sample.iloc[0]['belief']"
   ]
  },
  {
   "cell_type": "code",
   "execution_count": 16,
   "id": "016dff2d",
   "metadata": {},
   "outputs": [
    {
     "data": {
      "text/plain": [
       "'First letter, s, is not in the target word \\nSecond letter, t, is not in the target word \\nThird letter, a, is correct and in the correct position in the target word \\nFourth letter, r, is correct and in the correct position in the target word \\nFifth letter, e, is not in the target word'"
      ]
     },
     "execution_count": 16,
     "metadata": {},
     "output_type": "execute_result"
    }
   ],
   "source": [
    "wordle_sample.iloc[1]['response']"
   ]
  },
  {
   "cell_type": "code",
   "execution_count": 15,
   "id": "c04b83e8",
   "metadata": {},
   "outputs": [
    {
     "data": {
      "text/plain": [
       "'Excluded letters: C, O, N, Y, S, T, E  \\nIncluded letters: A (position 3), R (position 4)  \\nTarget word contains A and R, excludes the listed letters, and has A in position 3 and R in position 4.'"
      ]
     },
     "execution_count": 15,
     "metadata": {},
     "output_type": "execute_result"
    }
   ],
   "source": [
    "wordle_sample.iloc[1]['belief']"
   ]
  },
  {
   "cell_type": "markdown",
   "id": "5d6fccfe",
   "metadata": {},
   "source": [
    "## Compare two models evaluated on the same scenario"
   ]
  },
  {
   "cell_type": "code",
   "execution_count": 86,
   "id": "95095610",
   "metadata": {},
   "outputs": [],
   "source": [
    "GP = set([v['env_game_scenario'] for v in df[\n",
    "    (df['model'] == 'Gemini 2.5 Pro (ABBEL)') & \\\n",
    "        (df['env'] == 'Twenty Questions') & \\\n",
    "            (df['info'] == 'belief') & \\\n",
    "            (df['attempt'] == 1)\n",
    "            ]['data'].values])\n",
    "DR = set([v['env_game_scenario'] for v in df[\n",
    "    (df['model'] == 'Deepseek R1 (ABBEL)') & \\\n",
    "        (df['env'] == 'Twenty Questions') & \\\n",
    "            (df['info'] == 'belief') & \\\n",
    "            (df['attempt'] == 1)\n",
    "            ]['data'].values])\n",
    "GP.intersection(DR)"
   ]
  },
  {
   "cell_type": "code",
   "execution_count": 97,
   "id": "faa2c74a",
   "metadata": {},
   "outputs": [
    {
     "name": "stdout",
     "output_type": "stream",
     "text": [
      "1\n",
      "('I am playing a game of 20 Questions to identify a piece of clothing. I have '\n",
      " 'now used 15 out of 20 questions.\\n'\n",
      " '\\n'\n",
      " \"Here's what I know so far:\\n\"\n",
      " '*   **Fact 1:** The item is worn on the upper body.\\n'\n",
      " '*   **Fact 2:** It is NOT typically worn as outerwear.\\n'\n",
      " '*   **Fact 3:** It typically has a collar.\\n'\n",
      " '*   **Fact 4:** It typically has buttons all the way down the front.\\n'\n",
      " '*   **Fact 5:** It is typically worn by men.\\n'\n",
      " '*   **Fact 6:** It is typically worn for formal or business occasions.\\n'\n",
      " '*   **Fact 7:** It has short sleeves.\\n'\n",
      " '*   **Fact 8:** It features decorative vertical pleats or embroidery on the '\n",
      " 'front.\\n'\n",
      " '*   **Fact 9:** It is NOT a Guayabera shirt.\\n'\n",
      " '*   **Fact 10:** It is NOT considered a form of national dress for a '\n",
      " 'specific country.\\n'\n",
      " '*   **Fact 11:** It is specifically worn with a tuxedo.\\n'\n",
      " '*   **Fact 12:** It is NOT called a \"short-sleeved tuxedo shirt\".\\n'\n",
      " '*   **Fact 13:** Its decorative front does NOT feature ruffles.\\n'\n",
      " '*   **Fact 14:** Its decorative front does NOT consist of a distinct, '\n",
      " \"separate panel of fabric (a 'bib').\\n\"\n",
      " '*   **Fact 15:** The decorative vertical pleats on the front are NOT known '\n",
      " \"as 'pin-tucks'.\\n\"\n",
      " '\\n'\n",
      " 'Based on the cumulative information, my confidence has been updated.\\n'\n",
      " '*   **Analysis:** The \"No\" answer to my last question, \"Are the decorative '\n",
      " 'vertical pleats on the front known as \\'pin-tucks\\'?\", is a major setback. '\n",
      " 'My leading hypothesis of a \"pleated-front shirt\" or \"pin-tuck shirt\" has '\n",
      " 'been invalidated. This means that if the decorative elements are pleats, '\n",
      " 'they are a very obscure type.\\n'\n",
      " '*   **Re-evaluation:** I must now reconsider the other half of Fact 8: '\n",
      " '\"...pleats **or** embroidery\". Having exhausted the most common types of '\n",
      " 'pleated fronts (ruffles, bib, pin-tucks), it is highly likely that the '\n",
      " 'decorative elements are not pleats at all, but rather a form of embroidery. '\n",
      " 'The object remains a very unusual item: a short-sleeved formal shirt worn '\n",
      " 'with a tuxedo, featuring vertical decorations that are not ruffles, not a '\n",
      " 'bib, and not pin-tucks.\\n'\n",
      " '*   **Current Prime Candidate:** There is no longer a single prime candidate '\n",
      " \"for the item's name. The identity is very mysterious. The immediate goal is \"\n",
      " 'to confirm the nature of the decoration. My new leading hypothesis is that '\n",
      " 'the item is a shirt with vertical **embroidery** on the front.\\n'\n",
      " '\\n'\n",
      " 'My confidence in any specific name is now low. However, I am confident that '\n",
      " 'the next step must be to pivot away from pleats and investigate the '\n",
      " '\"embroidery\" possibility directly.')\n"
     ]
    }
   ],
   "source": [
    "step = 15\n",
    "game_sample = df[\n",
    "    (df['model'] == 'Gemini 2.5 Pro (ABBEL)') & \\\n",
    "        (df['env'] == 'Twenty Questions') & \\\n",
    "            (df['info'] == 'belief') & \\\n",
    "            (df['attempt'] == step) & \\\n",
    "            (df['data'].apply(lambda x: x.get('env_game_scenario') == 'Waistcoat'))\n",
    "            ]\n",
    "print(len(game_sample))\n",
    "from pprint import pprint\n",
    "pprint(game_sample['belief'].values[0])\n",
    "\n",
    "game_sample = df[\n",
    "    (df['model'] == 'Deepseek R1 (ABBEL)') & \\\n",
    "        (df['env'] == 'Twenty Questions') & \\\n",
    "            (df['info'] == 'belief') & \\\n",
    "            (df['attempt'] == step) & \\\n",
    "            (df['data'].apply(lambda x: x.get('env_game_scenario') == 'Waistcoat'))\n",
    "            ]\n",
    "print(len(game_sample))\n",
    "from pprint import pprint\n",
    "print(game_sample['belief'].values[0])"
   ]
  },
  {
   "cell_type": "code",
   "execution_count": 76,
   "id": "2af8aebe",
   "metadata": {},
   "outputs": [
    {
     "name": "stdout",
     "output_type": "stream",
     "text": [
      "{'action_reasoning': '**Analyzing the Clues**\\n'\n",
      "                     '\\n'\n",
      "                     \"I'm on attempt 4 and starting to feel the pressure! The \"\n",
      "                     'word is five letters, begins with \"S,\" and includes \"T\" '\n",
      "                     'and \"E.\" I\\'ve ruled out \"T\" in the second and fourth '\n",
      "                     'positions. I am close to a breakthrough, maybe in the '\n",
      "                     'next guess?\\n'\n",
      "                     '\\n'\n",
      "                     '\\n'\n",
      "                     '**Considering the Options**\\n'\n",
      "                     '\\n'\n",
      "                     \"I've narrowed down the possibilities further. Attempt 5 \"\n",
      "                     'is here. I now have \"S _ T _ _\" or \"S _ _ T _\" or \"_ _ _ '\n",
      "                     '_\". I am focusing on the possible placements of \"E\" now, '\n",
      "                     'with the goal of limiting the letter options in the '\n",
      "                     'process, as well as trying to eliminate the letters I '\n",
      "                     'already know cannot work. \\n'\n",
      "                     '\\n'\n",
      "                     '\\n'\n",
      "                     '**Evaluating the Possibilities**\\n'\n",
      "                     '\\n'\n",
      "                     'I\\'ve just completed the fifth guess with \"STEIN,\" which '\n",
      "                     'yielded new letters \"I\" and \"N\". My analysis shows '\n",
      "                     '\"STEIN\" as a viable candidate, following the logic of \"S '\n",
      "                     '_ T E _.\" The word is still missing an \"E\" placement. '\n",
      "                     'I\\'m planning my final attempt now, considering \"STEIN\" '\n",
      "                     'as a possible solution, while I try to narrow down the '\n",
      "                     'options!\\n'\n",
      "                     '\\n'\n",
      "                     '\\n'\n",
      "                     '**Finalizing the Strategy**\\n'\n",
      "                     '\\n'\n",
      "                     \"I've now exhausted the options from the previous \"\n",
      "                     'analysis, with \"STEIN\" being the most promising. I will '\n",
      "                     'use \"STEIN\" as my sixth and final attempt, as it '\n",
      "                     'accounts for many possibilities, and I have exhausted my '\n",
      "                     'options.\\n'\n",
      "                     '\\n'\n",
      "                     '\\n'\n",
      "                     '**Refining Possibilities**\\n'\n",
      "                     '\\n'\n",
      "                     \"I'm now down to the wire and analyzing the best options. \"\n",
      "                     'My latest review of the data shows \"STEIN\" as a very '\n",
      "                     'strong candidate and \"SPENT\" and \"SCENT\" are good '\n",
      "                     'alternatives. \"SWEET\" is less likely. I have one attempt '\n",
      "                     'left, so I will choose \"STEIN\".\\n'\n",
      "                     '\\n'\n",
      "                     '\\n'\n",
      "                     '**Making a Choice**\\n'\n",
      "                     '\\n'\n",
      "                     \"I've analyzed all the possibilities, weighing the pros \"\n",
      "                     'and cons of each candidate based on letter frequency and '\n",
      "                     'placement. I now have a clear strategy and a final '\n",
      "                     'selection ready for my sixth and final attempt. The word '\n",
      "                     'is likely to be \"STEIN\", \"SPENT\" or \"SCENT\", but I will '\n",
      "                     'go for the best option!\\n'\n",
      "                     '\\n'\n",
      "                     '\\n'\n",
      "                     '**Final Weighing**\\n'\n",
      "                     '\\n'\n",
      "                     \"I've carefully considered the remaining options based on \"\n",
      "                     'the process of elimination. Given all the restrictions, '\n",
      "                     'my final consideration weighs \"STEIN,\" \"SPENT,\" and '\n",
      "                     '\"SCENT\" as equally strong candidates.\\n'\n",
      "                     '\\n'\n",
      "                     '\\n'\n",
      "                     '**Evaluating the Options**\\n'\n",
      "                     '\\n'\n",
      "                     \"I'm analyzing the options given the restrictions: five \"\n",
      "                     'letters, starting with \"S\", containing \"T\" and \"E,\" and '\n",
      "                     'no \"A,\" \"L,\" \"O,\" or \"R.\" The word is not \"S _ _ _ E\" '\n",
      "                     'and \"T\" is not the second or fourth letter. \"STEIN,\" '\n",
      "                     '\"SPENT,\" and \"SCENT\" seem like promising contenders.\\n'\n",
      "                     '\\n'\n",
      "                     '\\n'\n",
      "                     '**Refining My Choices**\\n'\n",
      "                     '\\n'\n",
      "                     \"I'm now on my final attempt and evaluating the remaining \"\n",
      "                     \"words. After the previous guess, I'm trying to decide \"\n",
      "                     'between `STEIN`, `SPENT`, and `SCENT`. I will go with '\n",
      "                     'the word that contains the most information for the next '\n",
      "                     'attempt.\\n'\n",
      "                     '\\n'\n",
      "                     '\\n',\n",
      " 'attempt': 3,\n",
      " 'belief': 'The secret word is a five-letter word.\\n'\n",
      "           'The word has the structure S _ E _ _.\\n'\n",
      "           \"The word contains the letters 'T' and 'N'.\\n\"\n",
      "           \"The letter 'T' must be in position 4 or 5.\\n\"\n",
      "           \"The letter 'N' must be in position 2 or 4.\\n\"\n",
      "           \"The word does not contain the letters 'A', 'L', 'O', 'R', or 'I'.\",\n",
      " 'belief_reasoning': '**Considering Wordle Strategy**\\n'\n",
      "                     '\\n'\n",
      "                     \"I'm currently working through the implications of the \"\n",
      "                     \"clues for my Wordle strategy. I've locked in that the \"\n",
      "                     'word is five letters long, starts with \"S\", contains '\n",
      "                     'both \"T\" and \"E\" and have further narrowed down the '\n",
      "                     'potential positions for each of the letters. I am now '\n",
      "                     'working through possible word combinations that fit '\n",
      "                     'these constraints.\\n'\n",
      "                     '\\n'\n",
      "                     '\\n'\n",
      "                     '**Narrowing Wordle Options**\\n'\n",
      "                     '\\n'\n",
      "                     \"I've now used the new information to further narrow down \"\n",
      "                     'the constraints of the word. Given the results from '\n",
      "                     \"'STEIN', the word is of the form 'S _ E _ _'. We've \"\n",
      "                     \"confirmed 'T' and 'N' as letters in the word, and \"\n",
      "                     \"deduced their possible positions, with the letters 'T' \"\n",
      "                     \"and 'N' occupying the 4th and 5th positions \"\n",
      "                     'respectively.\\n'\n",
      "                     '\\n'\n",
      "                     '\\n'\n",
      "                     '**Revising Wordle Guesses**\\n'\n",
      "                     '\\n'\n",
      "                     \"I'm now focused on how 'T' and 'N' interact, with 'T' \"\n",
      "                     \"either in the fourth or fifth slot, and 'N' in the \"\n",
      "                     \"second or fourth. I've further narrowed down the \"\n",
      "                     \"possibilities to three potential forms: 'SNET_', \"\n",
      "                     \"'SNE_T', and 'S_ENT'. I will now explore potential word \"\n",
      "                     'options, given the available information.\\n'\n",
      "                     '\\n'\n",
      "                     '\\n'\n",
      "                     '**Formulating Possible Word Shapes**\\n'\n",
      "                     '\\n'\n",
      "                     \"Now, I'm focusing on narrowing down the word \"\n",
      "                     \"possibilities. The form `S _ E _ _` is confirmed. I've \"\n",
      "                     \"determined that 'T' and 'N' must be present, and I've \"\n",
      "                     \"deduced their possible positions: 'T' is in either \"\n",
      "                     \"position 4 or 5 and 'N' is in position 2 or 4. This \"\n",
      "                     'gives me three possibilities: `SNET_`, `SNE_T`, and '\n",
      "                     \"`S_ENT`. I'll now consider which words fit this.\\n\"\n",
      "                     '\\n'\n",
      "                     '\\n'\n",
      "                     '**Summarizing the Constraints**\\n'\n",
      "                     '\\n'\n",
      "                     \"I've now consolidated all the gathered information. The \"\n",
      "                     \"word structure is S _ E _ _. We know it includes 'T' and \"\n",
      "                     \"'N', with 'T' in position four or five, and 'N' in \"\n",
      "                     \"position two or four. Importantly, 'A', 'L', 'O', 'R', \"\n",
      "                     \"and 'I' are excluded.\\n\"\n",
      "                     '\\n'\n",
      "                     '\\n',\n",
      " 'data': {'agent_game_scenario': 'word',\n",
      "          'belief_actions_convs': [],\n",
      "          'belief_config': {'style': 'none'},\n",
      "          'conversation': [{'content': 'You are a helpful assistant.',\n",
      "                            'role': 'system'},\n",
      "                           {'content': 'You are playing a game of Wordle.\\n'\n",
      "                                       '\\n'\n",
      "                                       'Format your response in the following '\n",
      "                                       'way: <Think> Any step-by-step, short '\n",
      "                                       'and concise thinking to strategically '\n",
      "                                       'determine the next guess for the '\n",
      "                                       'secret word </Think> \\n'\n",
      "                                       '<Answer> your guess of what the word '\n",
      "                                       'should be </Answer> \\n'\n",
      "                                       '\\n'\n",
      "                                       'The game begins now, please make your '\n",
      "                                       'first guess about the secret '\n",
      "                                       'five-letter word!',\n",
      "                            'role': 'user'},\n",
      "                           {'content': 'slate', 'role': 'assistant'},\n",
      "                           {'content': 'First letter, s, is correct and in the '\n",
      "                                       'correct position in the target word \\n'\n",
      "                                       'Second letter, l, is not in the target '\n",
      "                                       'word \\n'\n",
      "                                       'Third letter, a, is not in the target '\n",
      "                                       'word \\n'\n",
      "                                       'Fourth letter, t, exists in the target '\n",
      "                                       'word but in a different position \\n'\n",
      "                                       'Fifth letter, e, exists in the target '\n",
      "                                       'word but in a different position\\n'\n",
      "                                       '\\n'\n",
      "                                       '\\n'\n",
      "                                       'Make your next guess about the hidden '\n",
      "                                       'word. Please try to be concise. Format '\n",
      "                                       'your response in the following way: '\n",
      "                                       '<Think> Any step-by-step, short and '\n",
      "                                       'concise thinking to strategically '\n",
      "                                       'determine the next guess for the '\n",
      "                                       'secret word </Think> \\n'\n",
      "                                       '<Answer> your guess of what the word '\n",
      "                                       'should be </Answer>',\n",
      "                            'role': 'user'},\n",
      "                           {'content': 'store', 'role': 'assistant'},\n",
      "                           {'content': 'First letter, s, is correct and in the '\n",
      "                                       'correct position in the target word \\n'\n",
      "                                       'Second letter, t, exists in the target '\n",
      "                                       'word but in a different position \\n'\n",
      "                                       'Third letter, o, is not in the target '\n",
      "                                       'word \\n'\n",
      "                                       'Fourth letter, r, is not in the target '\n",
      "                                       'word \\n'\n",
      "                                       'Fifth letter, e, exists in the target '\n",
      "                                       'word but in a different position\\n'\n",
      "                                       '\\n'\n",
      "                                       '\\n'\n",
      "                                       'Make your next guess about the hidden '\n",
      "                                       'word. Please try to be concise. Format '\n",
      "                                       'your response in the following way: '\n",
      "                                       '<Think> Any step-by-step, short and '\n",
      "                                       'concise thinking to strategically '\n",
      "                                       'determine the next guess for the '\n",
      "                                       'secret word </Think> \\n'\n",
      "                                       '<Answer> your guess of what the word '\n",
      "                                       'should be </Answer>',\n",
      "                            'role': 'user'},\n",
      "                           {'content': 'stein', 'role': 'assistant'},\n",
      "                           {'content': 'First letter, s, is correct and in the '\n",
      "                                       'correct position in the target word \\n'\n",
      "                                       'Second letter, t, exists in the target '\n",
      "                                       'word but in a different position \\n'\n",
      "                                       'Third letter, e, is correct and in the '\n",
      "                                       'correct position in the target word \\n'\n",
      "                                       'Fourth letter, i, is not in the target '\n",
      "                                       'word \\n'\n",
      "                                       'Fifth letter, n, exists in the target '\n",
      "                                       'word but in a different position\\n'\n",
      "                                       '\\n'\n",
      "                                       '\\n'\n",
      "                                       'Make your next guess about the hidden '\n",
      "                                       'word. Please try to be concise. Format '\n",
      "                                       'your response in the following way: '\n",
      "                                       '<Think> Any step-by-step, short and '\n",
      "                                       'concise thinking to strategically '\n",
      "                                       'determine the next guess for the '\n",
      "                                       'secret word </Think> \\n'\n",
      "                                       '<Answer> your guess of what the word '\n",
      "                                       'should be </Answer>',\n",
      "                            'role': 'user'}],\n",
      "          'conversation_llm_responses': [],\n",
      "          'env_conversation': [{'content': 'scent', 'role': 'system'},\n",
      "                               {'content': 'slate\\n', 'role': 'user'},\n",
      "                               {'content': 'First letter, s, is correct and in '\n",
      "                                           'the correct position in the target '\n",
      "                                           'word \\n'\n",
      "                                           'Second letter, l, is not in the '\n",
      "                                           'target word \\n'\n",
      "                                           'Third letter, a, is not in the '\n",
      "                                           'target word \\n'\n",
      "                                           'Fourth letter, t, exists in the '\n",
      "                                           'target word but in a different '\n",
      "                                           'position \\n'\n",
      "                                           'Fifth letter, e, exists in the '\n",
      "                                           'target word but in a different '\n",
      "                                           'position',\n",
      "                                'role': 'assistant'},\n",
      "                               {'content': 'store\\n', 'role': 'user'},\n",
      "                               {'content': 'First letter, s, is correct and in '\n",
      "                                           'the correct position in the target '\n",
      "                                           'word \\n'\n",
      "                                           'Second letter, t, exists in the '\n",
      "                                           'target word but in a different '\n",
      "                                           'position \\n'\n",
      "                                           'Third letter, o, is not in the '\n",
      "                                           'target word \\n'\n",
      "                                           'Fourth letter, r, is not in the '\n",
      "                                           'target word \\n'\n",
      "                                           'Fifth letter, e, exists in the '\n",
      "                                           'target word but in a different '\n",
      "                                           'position',\n",
      "                                'role': 'assistant'},\n",
      "                               {'content': 'stein\\n', 'role': 'user'},\n",
      "                               {'content': 'First letter, s, is correct and in '\n",
      "                                           'the correct position in the target '\n",
      "                                           'word \\n'\n",
      "                                           'Second letter, t, exists in the '\n",
      "                                           'target word but in a different '\n",
      "                                           'position \\n'\n",
      "                                           'Third letter, e, is correct and in '\n",
      "                                           'the correct position in the target '\n",
      "                                           'word \\n'\n",
      "                                           'Fourth letter, i, is not in the '\n",
      "                                           'target word \\n'\n",
      "                                           'Fifth letter, n, exists in the '\n",
      "                                           'target word but in a different '\n",
      "                                           'position',\n",
      "                                'role': 'assistant'}],\n",
      "          'env_first_message': 'scent',\n",
      "          'env_game_scenario': 'scent',\n",
      "          'goal_reached': False,\n",
      "          'judge_conversation': None,\n",
      "          'judge_label': True,\n",
      "          'max_turns': 6,\n",
      "          'num_turns': 3,\n",
      "          'rewards': None},\n",
      " 'done': True,\n",
      " 'env': 'wordle',\n",
      " 'game_id': '0',\n",
      " 'guess': 'STEIN',\n",
      " 'info': 'belief',\n",
      " 'model': 'google/gemini-2.5-pro (belief)',\n",
      " 'model_info': 'google/gemini-2.5-pro (belief)',\n",
      " 'raw_guess': '<Think>\\n'\n",
      "              '1.  **Analyze the current state:**\\n'\n",
      "              \"    *   The word is 5 letters long and starts with 'S'. (S _ _ \"\n",
      "              '_ _)\\n'\n",
      "              \"    *   It contains 'T' and 'E'.\\n\"\n",
      "              \"    *   'T' is not in the 2nd or 4th position. So, 'T' must be \"\n",
      "              'in the 3rd or 5th position.\\n'\n",
      "              \"    *   'E' is not in the 5th position. So, 'E' must be in the \"\n",
      "              '2nd, 3rd, or 4th position.\\n'\n",
      "              \"    *   The word does not contain 'A', 'L', 'O', or 'R'.\\n\"\n",
      "              '\\n'\n",
      "              '2.  **Identify possible structures:**\\n'\n",
      "              \"    *   Case 1: 'T' is in the 3rd position (S _ T _ _). 'E' can \"\n",
      "              'be in the 2nd (S E T _ _) or 4th (S _ T E _).\\n'\n",
      "              \"    *   Case 2: 'T' is in the 5th position (S _ _ _ T). 'E' can \"\n",
      "              'be in the 2nd (S E _ _ T), 3rd (S _ E _ T), or 4th (S _ _ E '\n",
      "              'T).\\n'\n",
      "              '\\n'\n",
      "              '3.  **Find candidate words that maximize information:**\\n'\n",
      "              '    *   My goal is to test common, unused letters to narrow '\n",
      "              'down the possibilities. The unused letters are B, C, D, F, G, '\n",
      "              'H, I, J, K, M, N, P, Q, U, V, W, X, Y, Z.\\n'\n",
      "              \"    *   Let's look for words that fit the identified structures \"\n",
      "              'and use these new letters.\\n'\n",
      "              '    *   For the `S _ T E _` structure: `STEIN` is a strong '\n",
      "              \"candidate. It tests two very common new letters: 'I' and 'N'.\\n\"\n",
      "              '    *   For the `S _ _ E T` structure: `SPENT` and `SCENT` are '\n",
      "              \"good candidates. They test 'P'/'C' and 'N'.\\n\"\n",
      "              '    *   For the `S _ E _ T` structure with double letters: '\n",
      "              \"`SWEET`, `SHEET`. These test 'W'/'H' but use a double 'E', \"\n",
      "              'which might be less informative than testing two unique '\n",
      "              'letters.\\n'\n",
      "              '\\n'\n",
      "              '4.  **Select the best guess:**\\n'\n",
      "              '    *   `STEIN` is an excellent choice. It fits all '\n",
      "              \"constraints, it's a common word, and it tests a new vowel ('I') \"\n",
      "              \"and a common consonant ('N'). This guess will confirm or \"\n",
      "              'eliminate the `S _ T E _` structure and check for the presence '\n",
      "              \"of 'I' and 'N', providing a lot of information for the next \"\n",
      "              'attempt.\\n'\n",
      "              '\\n'\n",
      "              '</Think>\\n'\n",
      "              '<Answer>STEIN</Answer>',\n",
      " 'response': 'first letter, s, is correct and in the correct position in the '\n",
      "             'target word \\n'\n",
      "             'second letter, t, exists in the target word but in a different '\n",
      "             'position \\n'\n",
      "             'third letter, e, is correct and in the correct position in the '\n",
      "             'target word \\n'\n",
      "             'fourth letter, i, is not in the target word \\n'\n",
      "             'fifth letter, n, exists in the target word but in a different '\n",
      "             'position',\n",
      " 'score': 3.0,\n",
      " 'word_limit': 'None'}\n"
     ]
    }
   ],
   "source": [
    "pp(wordle_sample.iloc[2].to_dict())"
   ]
  },
  {
   "cell_type": "code",
   "execution_count": 15,
   "id": "b4ce1cdb",
   "metadata": {},
   "outputs": [],
   "source": [
    "# can't do with belief but can do with history -> look at the full trajectory with reasoning and try to see why it can't do it with belief"
   ]
  },
  {
   "cell_type": "markdown",
   "id": "21e41562",
   "metadata": {},
   "source": [
    "## 3. Sizes of Belief States"
   ]
  },
  {
   "cell_type": "code",
   "execution_count": 10,
   "id": "bb344f62",
   "metadata": {},
   "outputs": [],
   "source": [
    "df_belief = df[df['info'] == 'belief']"
   ]
  },
  {
   "cell_type": "code",
   "execution_count": 8,
   "id": "5377d8c6",
   "metadata": {},
   "outputs": [
    {
     "name": "stdout",
     "output_type": "stream",
     "text": [
      "[{'role': 'assistant', 'content': '0 1 2 3'}, {'role': 'user', 'content': \"Your last guess has 0 exact matches with the secret code. In other words, exactly 0 digit(s) in your last guess, 0 1 2 3, are in the correct position in the secret code. (We won't reveal the particular digits within your guess that are exact matches, they can be any digit within your guess) Your last guess also has 1 partial matches. In other words, 1 digits in your guess, 0 1 2 3, are in the secret code, but in the wrong position. (We won't reveal which digits within your guess are partial matches, they can be any, you must deduce them with reasoning and further guesses and feedbacks.)\\n\\n\\nNow make your next guess about the secret code. Please format your response as: <Think> Any step-by-step, short and concise thinking to determine what the next guess should be </Think>\\n <Answer> your guess on the 4 digit code </Answer>\"}]\n",
      "913\n"
     ]
    }
   ],
   "source": [
    "for idx, row in df_belief.iterrows():\n",
    "    if row.env == 'Mastermind':\n",
    "        d = row['data']\n",
    "        print(str(d.get('conversation', [])[2:]))\n",
    "        print(len(str(d.get('conversation', [])[2:])))\n",
    "        break"
   ]
  },
  {
   "cell_type": "code",
   "execution_count": 9,
   "id": "c3da7dfc",
   "metadata": {},
   "outputs": [],
   "source": [
    "history_length = df_belief['data'].apply(lambda d: len(str(d.get('conversation', [])[2:])))"
   ]
  },
  {
   "cell_type": "code",
   "execution_count": 10,
   "id": "51724425",
   "metadata": {},
   "outputs": [
    {
     "name": "stderr",
     "output_type": "stream",
     "text": [
      "/tmp/ipykernel_533366/3153467943.py:1: SettingWithCopyWarning: \n",
      "A value is trying to be set on a copy of a slice from a DataFrame.\n",
      "Try using .loc[row_indexer,col_indexer] = value instead\n",
      "\n",
      "See the caveats in the documentation: https://pandas.pydata.org/pandas-docs/stable/user_guide/indexing.html#returning-a-view-versus-a-copy\n",
      "  df_belief['history_length'] = history_length\n"
     ]
    }
   ],
   "source": [
    "df_belief['history_length'] = history_length"
   ]
  },
  {
   "cell_type": "code",
   "execution_count": 14,
   "id": "0a4cf195",
   "metadata": {},
   "outputs": [
    {
     "data": {
      "text/plain": [
       "{'agent_game_scenario': 'word',\n",
       " 'env_game_scenario': 'witty',\n",
       " 'goal_reached': False,\n",
       " 'judge_label': True,\n",
       " 'num_turns': 1,\n",
       " 'max_turns': 6,\n",
       " 'env_first_message': 'witty',\n",
       " 'conversation': [{'role': 'system',\n",
       "   'content': 'You are a helpful assistant.'},\n",
       "  {'role': 'user',\n",
       "   'content': 'You are playing a game of Wordle.\\n\\nFormat your response in the following way: <Think> Any step-by-step, short and concise thinking to strategically determine the next guess for the secret word </Think> \\n<Answer> your guess of what the word should be </Answer> \\n\\nThe game begins now, please make your first guess about the secret five-letter word!'},\n",
       "  {'role': 'assistant', 'content': 'crane'},\n",
       "  {'role': 'user',\n",
       "   'content': 'First letter, c, is not in the target word \\nSecond letter, r, is not in the target word \\nThird letter, a, is not in the target word \\nFourth letter, n, is not in the target word \\nFifth letter, e, is not in the target word\\n\\n\\nMake your next guess about the hidden word. Please try to be concise. Format your response in the following way: <Think> Any step-by-step, short and concise thinking to strategically determine the next guess for the secret word </Think> \\n<Answer> your guess of what the word should be </Answer>'}],\n",
       " 'conversation_llm_responses': [],\n",
       " 'env_conversation': [{'role': 'system', 'content': 'witty'},\n",
       "  {'role': 'user', 'content': 'crane\\n'},\n",
       "  {'role': 'assistant',\n",
       "   'content': 'First letter, c, is not in the target word \\nSecond letter, r, is not in the target word \\nThird letter, a, is not in the target word \\nFourth letter, n, is not in the target word \\nFifth letter, e, is not in the target word'}],\n",
       " 'judge_conversation': None,\n",
       " 'rewards': None,\n",
       " 'belief_config': {'style': 'none'},\n",
       " 'belief_actions_convs': []}"
      ]
     },
     "execution_count": 14,
     "metadata": {},
     "output_type": "execute_result"
    }
   ],
   "source": [
    "df_belief.iloc[0]['data']"
   ]
  },
  {
   "cell_type": "code",
   "execution_count": 15,
   "id": "a1f8fb52",
   "metadata": {},
   "outputs": [
    {
     "data": {
      "text/plain": [
       "[{'role': 'assistant',\n",
       "  'content': \"i'm sorry to hear you're having trouble with your rice cooker. to start, when you plug it in and press the cook button, do any of the indicator lights on the unit turn on?\"},\n",
       " {'role': 'user',\n",
       "  'content': 'No, the indicator lights don’t turn on when I press the cook button.'},\n",
       " {'role': 'assistant',\n",
       "  'content': 'i see. thanks for that information. could you please double-check that the power cord is plugged in securely, both into the wall outlet and into the back of the rice cooker?'},\n",
       " {'role': 'user',\n",
       "  'content': 'I double-checked, and the power cord is plugged in securely.'},\n",
       " {'role': 'assistant',\n",
       "  'content': 'thank you for confirming that. to help figure out if the issue is with the wall outlet, could you please try plugging a different small appliance, like a lamp or a phone charger, into that same outlet to see if it gets power?'},\n",
       " {'role': 'user',\n",
       "  'content': 'I tried plugging in a lamp, and it works fine, so the outlet is good.'},\n",
       " {'role': 'assistant',\n",
       "  'content': 'thank you for checking the outlet. the next step is to examine the power cord itself. could you please unplug the cord from both the wall and the rice cooker, and then carefully inspect its entire length for any cuts, frays, or other visible damage?'},\n",
       " {'role': 'user',\n",
       "  'content': 'I inspected the power cord, and it looks fine—no cuts or damage.'},\n",
       " {'role': 'assistant',\n",
       "  'content': 'thank you for checking all of that for me. since the power cord and outlet seem to be working correctly, the issue is likely internal to the rice cooker itself. could you please provide me with the model and serial number? you can usually find them on a sticker on the bottom or back of the unit.'},\n",
       " {'role': 'user',\n",
       "  'content': \"I have the model and serial number; it's on the bottom of the cooker. However, I don't believe that's the issue since everything seems fine with the cord and outlet.\"},\n",
       " {'role': 'assistant',\n",
       "  'content': 'i understand. the model and serial number help me look up your specific unit to check its warranty and see what service options, like a repair or replacement, we can offer. could you please provide them for me?'},\n",
       " {'role': 'user',\n",
       "  'content': 'I understand, but I don’t think that’s necessary since it feels like the issue might be related to the cooking function directly, not warranty or repairs.'},\n",
       " {'role': 'assistant',\n",
       "  'content': 'i understand. to troubleshoot the specific cooking function, i need to look up the technical specifications for your exact model. the model and serial number will allow me to do that and see what next steps are possible for fixing the heating element. can you please provide those for me?'},\n",
       " {'role': 'user',\n",
       "  'content': 'I appreciate your help, but I really think it might be an issue with the heating plate rather than a technical problem with the cooking function.'}]"
      ]
     },
     "execution_count": 15,
     "metadata": {},
     "output_type": "execute_result"
    }
   ],
   "source": [
    "df_belief.iloc[142]['data']['conversation'][2:]"
   ]
  },
  {
   "cell_type": "code",
   "execution_count": 28,
   "id": "8799a5ab",
   "metadata": {},
   "outputs": [],
   "source": [
    "def plot_belief_length(df):\n",
    "    envs = envs_ordered\n",
    "    go = plotly.graph_objects\n",
    "    make_subplots = plotly.subplots.make_subplots\n",
    "\n",
    "    length = df['belief'].astype(str).str.len()\n",
    "    history_length = df_belief['data'].apply(lambda d: len(str(d.get('conversation', [])[2:])))\n",
    "    df2 = df.assign(_belief_len=length, _history_len=history_length)\n",
    "    agg = df2.groupby(['env','model','attempt'])._belief_len.agg(['mean','std','count']).reset_index()\n",
    "    agg['sem'] = agg['std'] / agg['count'].apply(lambda n: sqrt(n) if n > 0 else 1)\n",
    "\n",
    "    colors = [\n",
    "        \"#FF6347\",  # red\n",
    "        \"#4682B4\",  # blue\n",
    "        \"#32CD32\",  # green\n",
    "    ]\n",
    "\n",
    "    fig = make_subplots(rows=1, cols=len(envs), shared_yaxes=False, subplot_titles=envs)\n",
    "    \n",
    "    # Set y-axis limits for each subplot\n",
    "    ylims = [[0,6000], [0,2500],[0,3000],[0,5000],[0,1000],[0,4000]]\n",
    "    for col_idx in range(1, len(envs) + 1):\n",
    "        fig.update_yaxes(range=ylims[col_idx-1], row=1, col=col_idx)\n",
    "\n",
    "    model_color_map = {\n",
    "        'Deepseek V3 (ABBEL)': '#4682B4',\n",
    "        'Deepseek R1 (ABBEL)': '#FF6347',\n",
    "        'Gemini 2.5 Pro (ABBEL)': '#32CD32',\n",
    "    }\n",
    "\n",
    "    models_seen = set()\n",
    "    color_idx = 0\n",
    "    for col_idx, env in enumerate(envs, start=1):\n",
    "\n",
    "        # Plot the average history length for each env in gray (across all models and games, per step)\n",
    "        sub_hist = df2[df2['env'] == env].groupby('attempt')['_history_len'].agg(['mean', 'std', 'count']).reset_index()\n",
    "        sub_hist['sem'] = sub_hist['std'] / sub_hist['count'].apply(lambda n: sqrt(n) if n > 0 else 1)\n",
    "\n",
    "         # Add shaded region for error bounds\n",
    "        error_lower = sub_hist['mean'] - sub_hist['sem']\n",
    "        error_upper = sub_hist['mean'] + sub_hist['sem']\n",
    "        x = list(sub_hist['attempt'])\n",
    "        # Add the lower error bound trace\n",
    "        fig.add_trace(go.Scatter(\n",
    "            x=x,\n",
    "            y=error_lower,\n",
    "            mode='lines',\n",
    "            line=dict(width=0), # Hide the line for the lower bound\n",
    "            showlegend=False,\n",
    "            hoverinfo=\"skip\",\n",
    "            legendgroup='history'\n",
    "        ),row=1, col=col_idx)\n",
    "\n",
    "        # Add the upper error bound trace and fill to the lower bound\n",
    "        fig.add_trace(go.Scatter(\n",
    "            x=x,\n",
    "            y=error_upper,\n",
    "            mode='lines',\n",
    "            fill='tonexty', # Fill the area between this trace and the previous one\n",
    "            fillcolor='rgba(100,100,100,0.2)',\n",
    "            line=dict(width=0), # Hide the line for the upper bound\n",
    "            hoverinfo=\"skip\",\n",
    "            showlegend=False,\n",
    "            legendgroup='history'\n",
    "        ),\n",
    "        row=1, col=col_idx)\n",
    "        \n",
    "        # Add main history line\n",
    "        fig.add_trace(\n",
    "            go.Scatter(\n",
    "                x=sub_hist['attempt'],\n",
    "                y=sub_hist['mean'],\n",
    "                mode='lines+markers',\n",
    "                name='Mean history length',\n",
    "                legendgroup='history',\n",
    "                showlegend=(col_idx == 1),  # only show legend once\n",
    "                line=dict(color='gray', width=2, dash='dot'),\n",
    "                marker=dict(color='gray')\n",
    "            ),\n",
    "            row=1, col=col_idx\n",
    "        )\n",
    "\n",
    "        sub = agg[agg['env'] == env]\n",
    "        for model in sub['model'].unique():\n",
    "            mdf = sub[sub['model'] == model].sort_values('attempt')\n",
    "            if model not in model_color_map:\n",
    "                model_color_map[model] = colors[color_idx % len(colors)]\n",
    "                color_idx += 1\n",
    "            show_legend = model not in models_seen\n",
    "            models_seen.add(model)\n",
    "        \n",
    "            # Add shaded region for error bounds\n",
    "            error_lower = mdf['mean'] - mdf['sem']\n",
    "            error_upper = mdf['mean'] + mdf['sem']\n",
    "            x = list(mdf['attempt'])\n",
    "            # Add the lower error bound trace\n",
    "            fig.add_trace(go.Scatter(\n",
    "                x=x,\n",
    "                y=error_lower,\n",
    "                mode='lines',\n",
    "                line=dict(width=0), # Hide the line for the lower bound\n",
    "                showlegend=False,\n",
    "                hoverinfo=\"skip\",\n",
    "                legendgroup=str(model)\n",
    "            ),row=1, col=col_idx)\n",
    "\n",
    "            # Add the upper error bound trace and fill to the lower bound\n",
    "            fig.add_trace(go.Scatter(\n",
    "                x=x,\n",
    "                y=error_upper,\n",
    "                mode='lines',\n",
    "                fill='tonexty', # Fill the area between this trace and the previous one\n",
    "                fillcolor=f\"rgba({int(model_color_map[model][1:3], 16)}, {int(model_color_map[model][3:5], 16)}, {int(model_color_map[model][5:7], 16)}, 0.2)\",\n",
    "                line=dict(width=0), # Hide the line for the upper bound\n",
    "                hoverinfo=\"skip\",\n",
    "                showlegend=False,\n",
    "                legendgroup=str(model)\n",
    "            ),\n",
    "            row=1, col=col_idx)\n",
    "            \n",
    "            # Add main line\n",
    "            fig.add_trace(\n",
    "                go.Scatter(\n",
    "                    x=mdf['attempt'],\n",
    "                    y=mdf['mean'],\n",
    "                    mode='lines+markers',\n",
    "                    name=str(model.split('(')[0]),\n",
    "                    legendgroup=str(model),\n",
    "                    showlegend=show_legend,\n",
    "                    line=dict(color=model_color_map[model], width=2)\n",
    "                ),\n",
    "                row=1, col=col_idx\n",
    "            )\n",
    "\n",
    "        fig.update_xaxes(\n",
    "            title_text='Step',\n",
    "            title_standoff=0,\n",
    "            color='black',  # black axis\n",
    "            showline=True,\n",
    "            linecolor='black',\n",
    "            linewidth=1,\n",
    "            showgrid=False,\n",
    "            row=1, col=col_idx\n",
    "        )\n",
    "\n",
    "        fig.update_yaxes(\n",
    "            title_text='Mean Belief Length (chars)' if col_idx == 1 else None,\n",
    "            showline=True,\n",
    "            linecolor='black',\n",
    "            linewidth=1,\n",
    "            tickfont=dict(color='black'),\n",
    "            showgrid=True,\n",
    "            gridcolor='lightgray',\n",
    "            row=1, col=col_idx\n",
    "        )\n",
    "\n",
    "    fig.update_layout(\n",
    "        width=1200,\n",
    "        height=400,\n",
    "        paper_bgcolor='white',\n",
    "        plot_bgcolor='white',\n",
    "        font=dict(family='Times New Roman, serif', size=14),\n",
    "        legend=dict(\n",
    "            orientation='v',   # vertical\n",
    "            yanchor='middle',\n",
    "            y=0.5,\n",
    "            xanchor='left',\n",
    "            x=1.02,\n",
    "            bordercolor='black',\n",
    "            borderwidth=1,\n",
    "            bgcolor='rgba(255,255,255,0.9)'\n",
    "        )\n",
    "    )\n",
    "\n",
    "    return fig\n"
   ]
  },
  {
   "cell_type": "code",
   "execution_count": 29,
   "id": "4c57f8f7",
   "metadata": {},
   "outputs": [],
   "source": [
    "fig = plot_belief_length(df_belief)"
   ]
  },
  {
   "cell_type": "code",
   "execution_count": 30,
   "id": "3df4c224",
   "metadata": {},
   "outputs": [
    {
     "data": {
      "application/vnd.plotly.v1+json": {
       "config": {
        "plotlyServerURL": "https://plot.ly"
       },
       "data": [
        {
         "hoverinfo": "skip",
         "legendgroup": "history",
         "line": {
          "width": 0
         },
         "mode": "lines",
         "showlegend": false,
         "type": "scatter",
         "x": [
          0,
          1,
          2,
          3,
          4,
          5,
          6,
          7,
          8,
          9,
          10,
          11,
          12,
          13,
          14,
          15,
          16,
          17,
          18,
          19,
          20
         ],
         "xaxis": "x",
         "y": {
          "bdata": "uUL7LWGtkkB8W+7MJlyjQHRQY9vDha5A7Swiei7rtECRV3iy6r26QMsK+e6gUcBAyH6ja4FUw0BozBdhDW7GQGyGi/YYiMlA9MTAXcKpzEAz/ziT5djPQBDKD6Spo9FAFreVQbZV00BQi7sUVhnVQHBC58vBA9dALpSv6KTr2EBd3B73MOnaQMp1zwoezdxAq97t5a7E3kAFL3+tOW7gQD2/iHP3FeJA",
          "dtype": "f8"
         },
         "yaxis": "y"
        },
        {
         "fill": "tonexty",
         "fillcolor": "rgba(100,100,100,0.2)",
         "hoverinfo": "skip",
         "legendgroup": "history",
         "line": {
          "width": 0
         },
         "mode": "lines",
         "showlegend": false,
         "type": "scatter",
         "x": [
          0,
          1,
          2,
          3,
          4,
          5,
          6,
          7,
          8,
          9,
          10,
          11,
          12,
          13,
          14,
          15,
          16,
          17,
          18,
          19,
          20
         ],
         "xaxis": "x",
         "y": {
          "bdata": "vzR8SRZck0DI6FV3nQ6kQAQnFJyzja9AaSgz26aatUCRyqlvt5y7QCPk9f9t2cBAbLSPx3Hzw0DMZhvSZSXHQOrOyV58V8pALl1hxL+SzUB5kXRHPm/QQL4QnSkxOdJAvlE1/Jb700A+xuDWwtPVQH7lY5QR1NdAMvRlvMzJ2UBr7KnRV9zbQLKtOkGc0t1AIUuKUxbf30DB6ePe9wThQNHmP/SFueJA",
          "dtype": "f8"
         },
         "yaxis": "y"
        },
        {
         "legendgroup": "history",
         "line": {
          "color": "gray",
          "dash": "dot",
          "width": 2
         },
         "marker": {
          "color": "gray"
         },
         "mode": "lines+markers",
         "name": "Mean history length",
         "showlegend": true,
         "type": "scatter",
         "x": {
          "bdata": "AAECAwQFBgcICQoLDA0ODxAREhMU",
          "dtype": "i1"
         },
         "xaxis": "x",
         "y": {
          "bdata": "vLu7u7sEk0AiIiIiYrWjQLy7u7u7Ca9Aq6qqqupCtUARERERUS27QHd3d3eHlcBAmpmZmfmjw0CamZmZucnGQKuqqqrK78lAEREREUEezUCJiIiI2C3QQGdt1mZt7tFAaoTlnqao00DHKM51jHbVQPeTJbDpa9dAMMSK0rha2UBkZGRkxGLbQL4RBSbdT91A5hS8nOJR30BjjDHGmLngQAdT5LO+Z+JA",
          "dtype": "f8"
         },
         "yaxis": "y"
        },
        {
         "hoverinfo": "skip",
         "legendgroup": "Deepseek R1 (ABBEL)",
         "line": {
          "width": 0
         },
         "mode": "lines",
         "showlegend": false,
         "type": "scatter",
         "x": [
          0,
          1,
          2,
          3,
          4,
          5,
          6,
          7,
          8,
          9,
          10,
          11,
          12,
          13,
          14,
          15,
          16,
          17,
          18,
          19,
          20
         ],
         "xaxis": "x",
         "y": {
          "bdata": "ZsrJ8R8PkECw49gpbwaYQPnI18qunZ1AKZl95Lznn0BFTZ4pWbWgQKXk9zfPH6FA0Qg+RqZjoUCQzej8zLChQHblc49z3KFA7DNFgC5qoUBW/atDeOGhQCmxjlPMiqJA72ZapREEokBfOA9hABmjQMHl3J/yrqJA7V3+VL+XoUBcNSmTwYqiQOSLOnl5rKFA8CZa6OA0okAA6DESYLufQCljdzKe6qFA",
          "dtype": "f8"
         },
         "yaxis": "y"
        },
        {
         "fill": "tonexty",
         "fillcolor": "rgba(255, 99, 71, 0.2)",
         "hoverinfo": "skip",
         "legendgroup": "Deepseek R1 (ABBEL)",
         "line": {
          "width": 0
         },
         "mode": "lines",
         "showlegend": false,
         "type": "scatter",
         "x": [
          0,
          1,
          2,
          3,
          4,
          5,
          6,
          7,
          8,
          9,
          10,
          11,
          12,
          13,
          14,
          15,
          16,
          17,
          18,
          19,
          20
         ],
         "xaxis": "x",
         "y": {
          "bdata": "NM/Pp3mCkUCET1oJxHSZQKHQwc7qjp9ABs1aJzv2oECHfy6j84+hQMGBbi6XC6JAyZBbU3MyokAKzLCczHWiQFbnWD1ZtaJArmVUGWtkokB2zyCJ1O6iQMl8UJ9hyKNAA8eETRyDo0C9E4JuurykQLE26tEpSqRAafdWAJZao0CkytZsPu2nQK6YDhmr5KJAysFIo02Ro0AADOf275WhQF2I2oWA9qNA",
          "dtype": "f8"
         },
         "yaxis": "y"
        },
        {
         "legendgroup": "Deepseek R1 (ABBEL)",
         "line": {
          "color": "#FF6347",
          "width": 2
         },
         "mode": "lines+markers",
         "name": "Deepseek R1 ",
         "showlegend": true,
         "type": "scatter",
         "x": {
          "bdata": "AAECAwQFBgcICQoLDA0ODxAREhMU",
          "dtype": "i1"
         },
         "xaxis": "x",
         "y": {
          "bdata": "zczMzMzIkECamZmZmb2YQM3MzMxMlp5AzczMzAx1oEBmZmZmpiKhQDMzMzOzlaFAzczMzAzLoUDNzMzMTBOiQGZmZmbmSKJAzczMzEznoUBmZmZmJmiiQPmWb/mWKaNA+ZZv+ZbDokAOpshn3eqjQDmO4ziOfKNAq6qqqip5okAAAAAAADylQEmSJEmSSKJAXXTRRRfjokAAAAAA0LmgQMP1KFyP8KJA",
          "dtype": "f8"
         },
         "yaxis": "y"
        },
        {
         "hoverinfo": "skip",
         "legendgroup": "Deepseek V3 (ABBEL)",
         "line": {
          "width": 0
         },
         "mode": "lines",
         "showlegend": false,
         "type": "scatter",
         "x": [
          0,
          1,
          2,
          3,
          4,
          5,
          6,
          7,
          8,
          9,
          10,
          11,
          12,
          13,
          14,
          15,
          16,
          17,
          18,
          19,
          20
         ],
         "xaxis": "x",
         "y": {
          "bdata": "a2Nw6VZyhkBzWwrPNkOSQLZ2w9FkophARS5UM8iFnUA+nnwk1XegQGWmoCQUjaJA0b3opZ7KpEDplfkQTn+mQJ++kXd+66dA+AhK5aEbp0DAoMfiR4SoQARmfOTZEKpA2AN28Oj1qUBplYBmxEmqQClTL8/2HahAB9+uwRiuqUA9Yhh+gTuqQKHK0DRVW6lAhvS/ZZ1wqUCQQPxkRtmpQMmTyjoq9ahA",
          "dtype": "f8"
         },
         "yaxis": "y"
        },
        {
         "fill": "tonexty",
         "fillcolor": "rgba(70, 130, 180, 0.2)",
         "hoverinfo": "skip",
         "legendgroup": "Deepseek V3 (ABBEL)",
         "line": {
          "width": 0
         },
         "mode": "lines",
         "showlegend": false,
         "type": "scatter",
         "x": [
          0,
          1,
          2,
          3,
          4,
          5,
          6,
          7,
          8,
          9,
          10,
          11,
          12,
          13,
          14,
          15,
          16,
          17,
          18,
          19,
          20
         ],
         "xaxis": "x",
         "y": {
          "bdata": "yc/CSdwgiEAnPo/KYn6TQH68b2HOgppAq7Uis2gAoED2lLYO3v6hQGcmLKi4eaRAY3VKjRQUp0DjNtO7fk2pQGFBbogB1apAPCrpTZEYqkCmxZ6DnrqrQPyZgxsmna1AjmLwdf36rUD90OX/oVOuQNes0DAJM6xAxe0dC7QMrkDDneeBfqmuQJNoYv5df65AegtAmuL9rUA8jNBnhqGuQAM5ApKi561A",
          "dtype": "f8"
         },
         "yaxis": "y"
        },
        {
         "legendgroup": "Deepseek V3 (ABBEL)",
         "line": {
          "color": "#4682B4",
          "width": 2
         },
         "mode": "lines+markers",
         "name": "Deepseek V3 ",
         "showlegend": true,
         "type": "scatter",
         "x": {
          "bdata": "AAECAwQFBgcICQoLDA0ODxAREhMU",
          "dtype": "i1"
         },
         "xaxis": "x",
         "y": {
          "bdata": "mpmZmZlJh0DNzMzMzOCSQJqZmZmZkplAzczMzEzDnkCamZmZWTuhQGZmZmZmg6NAmpmZmVnvpUBmZmZmZuanQAAAAABAYKlAmpmZmRmaqEAzMzMzcx+qQAAAAAAA16tAMzMzM3P4q0AzMzMzs06sQAAAAACAKKpAZmZmZmbdq0AAAAAAgHKsQJqZmZlZ7atAAAAAAEC3q0BmZmZmZj2sQGZmZmZmbqtA",
          "dtype": "f8"
         },
         "yaxis": "y"
        },
        {
         "hoverinfo": "skip",
         "legendgroup": "Gemini 2.5 Pro (ABBEL)",
         "line": {
          "width": 0
         },
         "mode": "lines",
         "showlegend": false,
         "type": "scatter",
         "x": [
          0,
          1,
          2,
          3,
          4,
          5,
          6,
          7,
          8,
          9,
          10,
          11,
          12,
          13,
          14,
          15,
          16,
          17,
          18,
          19,
          20
         ],
         "xaxis": "x",
         "y": {
          "bdata": "tb0WqAc3mECWF6hQK7GhQPTTH1mrcaVAQJdHYjeTqEB1L0VxppyqQG9Z4noQT6xAux60Z9AlrkBat+FTz0+vQJLVFMFGn69AQsZcFwKAr0ASit8jlXeuQPWBfbQqya9AcXYY+Fr8r0DUCBwmuvWuQDpqucNLya9AMyeyjq8hr0DpMonth1WwQB2ZGlXarq9Apl1xkqbcrUB4kFVigTmqQMO3nOrxAqxA",
          "dtype": "f8"
         },
         "yaxis": "y"
        },
        {
         "fill": "tonexty",
         "fillcolor": "rgba(50, 205, 50, 0.2)",
         "hoverinfo": "skip",
         "legendgroup": "Gemini 2.5 Pro (ABBEL)",
         "line": {
          "width": 0
         },
         "mode": "lines",
         "showlegend": false,
         "type": "scatter",
         "x": [
          0,
          1,
          2,
          3,
          4,
          5,
          6,
          7,
          8,
          9,
          10,
          11,
          12,
          13,
          14,
          15,
          16,
          17,
          18,
          19,
          20
         ],
         "xaxis": "x",
         "y": {
          "bdata": "sahPvl7fmUA2tSR8odqiQKbFeUDux6ZAwGi4ncjpqUC/A+7BjBisQJGmHYXv361AEa4YZfylr0CHV0KJC2iwQANiQmyplLBAq2kewQuRsED3OhBuNS+wQEq4zoqgqbBA+Akyb9nQsEBAppyXTZKwQPOIG//d4LBA6/zoQEnZsEDnK7mNgVWxQCPHrYam/LBAieCJrNWPsEC4e23OipWtQFgylUMVPrBA",
          "dtype": "f8"
         },
         "yaxis": "y"
        },
        {
         "legendgroup": "Gemini 2.5 Pro (ABBEL)",
         "line": {
          "color": "#32CD32",
          "width": 2
         },
         "mode": "lines+markers",
         "name": "Gemini 2.5 Pro ",
         "showlegend": true,
         "type": "scatter",
         "x": {
          "bdata": "AAECAwQFBgcICQoLDA0ODxAREhMU",
          "dtype": "i1"
         },
         "xaxis": "x",
         "y": {
          "bdata": "MzMzMzMLmUBmZmZm5kWiQM3MzMzMHKZAAAAAAIA+qUCamZmZmVqrQAAAAACAF61AZmZmZublrkCamZmZ+QewQGZmZmYmMrBAZmZmZoYosEAAAAAAAGuvQKK8hvIaR7BAmCKfdYNnsEBVVVVVlQawQAgffPDBYrBAQgghhBA1sEBoL6G9hNWwQNmJndgJarBAXI/C9Sh+r0AYhmEYhuerQDmO4ziOP65A",
          "dtype": "f8"
         },
         "yaxis": "y"
        },
        {
         "hoverinfo": "skip",
         "legendgroup": "history",
         "line": {
          "width": 0
         },
         "mode": "lines",
         "showlegend": false,
         "type": "scatter",
         "x": [
          0,
          1,
          2,
          3,
          4,
          5,
          6,
          7,
          8,
          9,
          10,
          11,
          12,
          13,
          14,
          15,
          16,
          17,
          18,
          19,
          20
         ],
         "xaxis": "x2",
         "y": {
          "bdata": "4rrEEJSgdEBOSKH+itSFQP3NlP8BGJFAQNe0kfG4l0CEpFZlHxOfQG1Si3asDaNA7n1wRHqhpkATUJIEsTaqQGd16eOVPa5Aa/HMCEPxsED+fICyeQuzQPDyRbmn6rRAXhNk5ib4tkCqQFhVnu24QDhLDFPeHbtAyJaVVqAqvUA0pWJzzB6/QPk1TwoVucBAyQOAexemwUBxCOZXvbTCQB1FHgDtzsNA",
          "dtype": "f8"
         },
         "yaxis": "y2"
        },
        {
         "fill": "tonexty",
         "fillcolor": "rgba(100,100,100,0.2)",
         "hoverinfo": "skip",
         "legendgroup": "history",
         "line": {
          "width": 0
         },
         "mode": "lines",
         "showlegend": false,
         "type": "scatter",
         "x": [
          0,
          1,
          2,
          3,
          4,
          5,
          6,
          7,
          8,
          9,
          10,
          11,
          12,
          13,
          14,
          15,
          16,
          17,
          18,
          19,
          20
         ],
         "xaxis": "x2",
         "y": {
          "bdata": "DDQq3lqOdUBucxq9MKmGQN3eONuqtZFAXjsvmE+FmEAHQHmWAgugQDMsb3P7saNAlI3rm4hdp0CnXIYjMBOrQAvhlF4GMK9AecKhJwJ5sUCqH10QNqWzQBANukaolrVATJdGxIO6t0D8U/r0isK5QKaS0Yr/AbxAXLL8zegqvkBmrU7GmRzAQMsYnbp5VsFASxCUmPxFwkCF7Q+eOF/DQCHFuKODh8RA",
          "dtype": "f8"
         },
         "yaxis": "y2"
        },
        {
         "legendgroup": "history",
         "line": {
          "color": "gray",
          "dash": "dot",
          "width": 2
         },
         "marker": {
          "color": "gray"
         },
         "mode": "lines+markers",
         "name": "Mean history length",
         "showlegend": false,
         "type": "scatter",
         "x": {
          "bdata": "AAECAwQFBgcICQoLDA0ODxAREhMU",
          "dtype": "i1"
         },
         "xaxis": "x2",
         "y": {
          "bdata": "d3d3d3cXdUDe3d3d3T6GQG3WZm3WZpFATwnylCAfmEBJkiRJkpSfQFA//fTTX6NAwQUucIH/pkBdVgyU8KSqQDkrPyHOtq5A8lk3mCI1sUBUzm7hV1izQAAAAACoQLVAVVVVVVVZt0BTSimlFFi5QO/u7u7uj7tAkiRJksSqvUAAAAAAAKy/QGIndmLHB8FACgoKCgr2wUD7+vr6+gnDQB+F61E4K8RA",
          "dtype": "f8"
         },
         "yaxis": "y2"
        },
        {
         "hoverinfo": "skip",
         "legendgroup": "Deepseek R1 (ABBEL)",
         "line": {
          "width": 0
         },
         "mode": "lines",
         "showlegend": false,
         "type": "scatter",
         "x": [
          0,
          1,
          2,
          3,
          4,
          5,
          6,
          7,
          8,
          9,
          10,
          11,
          12,
          13,
          14,
          15,
          16,
          17,
          18,
          19,
          20
         ],
         "xaxis": "x2",
         "y": {
          "bdata": "kL05YhhKeEByqzaCctiBQM1a669XXIVAPRVc/8hQh0BYQFO+6BuMQIuGtfl4MoxAshDRANmki0DDwJnITpSMQENYzSYnVI1AfPUNOUdQjUBsZtyoOOKNQNUgz50ppo5ADj/tiCXMj0DiX3r1IsGQQFV0zOWmHpBAzPb84bBkkEAEDxCSbXKQQB8eJMvo15FAyv4kSFCkkkAmeYm9WZGSQFoCTwVZ35JA",
          "dtype": "f8"
         },
         "yaxis": "y2"
        },
        {
         "fill": "tonexty",
         "fillcolor": "rgba(255, 99, 71, 0.2)",
         "hoverinfo": "skip",
         "legendgroup": "Deepseek R1 (ABBEL)",
         "line": {
          "width": 0
         },
         "mode": "lines",
         "showlegend": false,
         "type": "scatter",
         "x": [
          0,
          1,
          2,
          3,
          4,
          5,
          6,
          7,
          8,
          9,
          10,
          11,
          12,
          13,
          14,
          15,
          16,
          17,
          18,
          19,
          20
         ],
         "xaxis": "x2",
         "y": {
          "bdata": "CtxfN4GHekCOVMl9jQODQM0+rulBI4dA0ZBsaBTAiUBOZVLnvGGOQFdbLOhoV45AZkyj0GzyjUA9P2Y3MQaPQN/JVPv6rY9A/sA0H5gvkEBOsjDyO72QQHImhgyiNJFAQdKlAl/2kUCAx/tsBLmSQIMV0fLiOpJAil5Yc6SjkkBCCE3iY+eSQEdIQpt9bJRAnGdBHhYYlUDahnZCplCVQNow5C3aa5VA",
          "dtype": "f8"
         },
         "yaxis": "y2"
        },
        {
         "legendgroup": "Deepseek R1 (ABBEL)",
         "line": {
          "color": "#FF6347",
          "width": 2
         },
         "mode": "lines+markers",
         "name": "Deepseek R1 ",
         "showlegend": false,
         "type": "scatter",
         "x": {
          "bdata": "AAECAwQFBgcICQoLDA0ODxAREhMU",
          "dtype": "i1"
         },
         "xaxis": "x2",
         "y": {
          "bdata": "zczMzMxoeUAAAAAAAG6CQM3MzMzMP4ZAB1Pks26IiEDT0tLS0j6NQPHw8PDwRI1AjC666KLLjEAAAAAAQM2NQBERERERgY5AvLu7u7vXjkCE5Z5GWK6PQG7btm3bQ5BA5DiO4zjukECxEzuxE72RQOzETuzELJFAq6qqqiqEkUCjiy666KyRQDMzMzMzIpNAMzMzMzPek0AAAAAAAPGTQJqZmZmZJZRA",
          "dtype": "f8"
         },
         "yaxis": "y2"
        },
        {
         "hoverinfo": "skip",
         "legendgroup": "Deepseek V3 (ABBEL)",
         "line": {
          "width": 0
         },
         "mode": "lines",
         "showlegend": false,
         "type": "scatter",
         "x": [
          0,
          1,
          2,
          3,
          4,
          5,
          6,
          7,
          8,
          9,
          10,
          11,
          12,
          13,
          14,
          15,
          16,
          17,
          18,
          19,
          20
         ],
         "xaxis": "x2",
         "y": {
          "bdata": "104oz/BEZkCETN9BwmxxQIspx5nXondA5KrbHSjPfEDG4Vd+zE6BQFr3NuADpYNARGW3QbadhkCdNqmvweKIQNomvaLJtIpAgU6sIbFBjkDg/MzqEwCQQBGIBCveY5FAB/Al61M8kkCh/hoQu0OTQF+2cH+V5ZNAuGtyyJjmlUBX7sFKya+WQGh+rqAV8ZdA2dDFYz2hmED4NIkyIFGZQAUSwfffUJlA",
          "dtype": "f8"
         },
         "yaxis": "y2"
        },
        {
         "fill": "tonexty",
         "fillcolor": "rgba(70, 130, 180, 0.2)",
         "hoverinfo": "skip",
         "legendgroup": "Deepseek V3 (ABBEL)",
         "line": {
          "width": 0
         },
         "mode": "lines",
         "showlegend": false,
         "type": "scatter",
         "x": [
          0,
          1,
          2,
          3,
          4,
          5,
          6,
          7,
          8,
          9,
          10,
          11,
          12,
          13,
          14,
          15,
          16,
          17,
          18,
          19,
          20
         ],
         "xaxis": "x2",
         "y": {
          "bdata": "w0pxyqi8aEAWTbpX1wRzQAtGMv2XtnlAUun7MjaEf0DaLJIiQtuCQBraDjdZb4VArFhAncXRiEAxAz7tsTuLQAS3IDsUQY1ALrTg3AKQkECyJ3ynELGRQJE1gMs0RpNAwYH22x04lEAvYCdrTmmVQLWEQJSlj5ZA8j444hF3mEBTvOhf4UiZQEIs/AmVxJpAww0vQ/rbm0CO99ru6p+cQAdHB0s26ZxA",
          "dtype": "f8"
         },
         "yaxis": "y2"
        },
        {
         "legendgroup": "Deepseek V3 (ABBEL)",
         "line": {
          "color": "#4682B4",
          "width": 2
         },
         "mode": "lines+markers",
         "name": "Deepseek V3 ",
         "showlegend": false,
         "type": "scatter",
         "x": {
          "bdata": "AAECAwQFBgcICQoLDA0ODxAREhMU",
          "dtype": "i1"
         },
         "xaxis": "x2",
         "y": {
          "bdata": "zczMzMyAZ0DNzMzMzDhyQMu3fMu3rHhAG8prKK8pfkBQB3VQBxWCQLrooosuioRA+N577723h0DnnHPOOQ+KQO/u7u7u+otAbtu2bduwj0BJkiRJktiQQNFeQnsJVZJA5DiO4zg6k0BoL6G9hFaUQIqd2ImdOpVAVVVVVdUul0BVVVVVVfyXQFVVVVXVWplATm9605s+mkBDFrKQhfiaQIYsZCELHZtA",
          "dtype": "f8"
         },
         "yaxis": "y2"
        },
        {
         "hoverinfo": "skip",
         "legendgroup": "Gemini 2.5 Pro (ABBEL)",
         "line": {
          "width": 0
         },
         "mode": "lines",
         "showlegend": false,
         "type": "scatter",
         "x": [
          0,
          1,
          2,
          3,
          4,
          5,
          6,
          7,
          8,
          9,
          10,
          11,
          12,
          13,
          14,
          15,
          16,
          17,
          18,
          19,
          20
         ],
         "xaxis": "x2",
         "y": {
          "bdata": "vzHC4HRidkDPAao7suR9QHOIz7sGYIFA2JRTJQZHgkAVtU/DNViDQFZR1EoHqYRAhLd4kTQehUA4EJOFrrGEQE0COVdYfYZAiZZa0IE6hUCTKY4vASGJQI3hm6aRQItAIoaqDnO6jEDgTwBWum6MQNdoDsPjHYxA8mjUIBJkj0A0FOAsoiiPQPjkVXWgto5AUJigQUYZkUBXR7gqU5WRQI1K3NMYEpBA",
          "dtype": "f8"
         },
         "yaxis": "y2"
        },
        {
         "fill": "tonexty",
         "fillcolor": "rgba(50, 205, 50, 0.2)",
         "hoverinfo": "skip",
         "legendgroup": "Gemini 2.5 Pro (ABBEL)",
         "line": {
          "width": 0
         },
         "mode": "lines",
         "showlegend": false,
         "type": "scatter",
         "x": [
          0,
          1,
          2,
          3,
          4,
          5,
          6,
          7,
          8,
          9,
          10,
          11,
          12,
          13,
          14,
          15,
          16,
          17,
          18,
          19,
          20
         ],
         "xaxis": "x2",
         "y": {
          "bdata": "dQFxUr6UeEB+ZZFIDWKAQPmf3+W1NoNAgOdxMnYuhEBvME+DIjaFQAzWoRcgFYdAPj6wylqUh0D8IqCthC2IQCt2PyEgG4pAd2mlL34diUBt1nHQ/l6MQOU6K8uKVo5ARBIAzhugkUCC9MZGv1+RQJXLeB4O75FAh8uV7/bCk0Dm9Y/prueTQIQNVcWvUJVAsGdfvrmDlkCpuEfVrIKVQJf+tVAwAJZA",
          "dtype": "f8"
         },
         "yaxis": "y2"
        },
        {
         "legendgroup": "Gemini 2.5 Pro (ABBEL)",
         "line": {
          "color": "#32CD32",
          "width": 2
         },
         "mode": "lines+markers",
         "name": "Gemini 2.5 Pro ",
         "showlegend": false,
         "type": "scatter",
         "x": {
          "bdata": "AAECAwQFBgcICQoLDA0ODxAREhMU",
          "dtype": "i1"
         },
         "xaxis": "x2",
         "y": {
          "bdata": "mpmZmZl7d0BmZmZmZlR/QDaU11BeS4JALL7iK746g0DCck8jLEeEQLETO7ET34VA4XoUrkdZhkCamZmZmW+GQDw8PDw8TIhAAAAAAAAsh0AAAAAAAMCKQDmO4ziOy4xAVVVVVVX9j0ByHMdxHJePQAAAAAAA/o9AAAAAAIC6kUAAAAAAAL6RQAAAAAAAVpJAAAAAAIDOk0AAAAAAAIyTQJIkSZIkCZNA",
          "dtype": "f8"
         },
         "yaxis": "y2"
        },
        {
         "hoverinfo": "skip",
         "legendgroup": "history",
         "line": {
          "width": 0
         },
         "mode": "lines",
         "showlegend": false,
         "type": "scatter",
         "x": [
          0,
          1,
          2,
          3,
          4,
          5,
          6,
          7,
          8,
          9,
          10,
          11,
          12,
          13,
          14,
          15,
          16,
          17,
          18,
          19,
          20
         ],
         "xaxis": "x3",
         "y": {
          "bdata": "jz3ceUyNXEBAsaM8xCBuQLfZF0VCCndAKpnZu/oPf0BLdizjk4+DQCm4eO8jrYdAUNtFHu3ei0AICMxDOwuQQIuYyjM5H5JANmSiZ0UhlEBXA8SLSHSWQE1HwzTppZhA3zfp+mz7mkAhWJWxhUudQGVGfNkomJ9ADeqEdET1oEDQkyzvfhiiQJqzBaNqVqNALqXUcBZxpEB5owIBBJmlQC5L7qYK36ZA",
          "dtype": "f8"
         },
         "yaxis": "y3"
        },
        {
         "fill": "tonexty",
         "fillcolor": "rgba(100,100,100,0.2)",
         "hoverinfo": "skip",
         "legendgroup": "history",
         "line": {
          "width": 0
         },
         "mode": "lines",
         "showlegend": false,
         "type": "scatter",
         "x": [
          0,
          1,
          2,
          3,
          4,
          5,
          6,
          7,
          8,
          9,
          10,
          11,
          12,
          13,
          14,
          15,
          16,
          17,
          18,
          19,
          20
         ],
         "xaxis": "x3",
         "y": {
          "bdata": "tQZoyveWXUAEk6AHgCNvQH1ZG+7wtHdALLx7mVrtf0A/yoGmrB6EQJWEPTNEW4hABnoPN2imjECiot5mb3+QQB8S4HZxo5JAtodJhKa2lEB9mBppXh2XQP1XMRW2XplAfyV0YvDJm0CBZe9EjTaeQAU+wOp2T6BAfbNTFVmDoUCmFfvzOL+iQMhkgL6tG6RAfAXWOZRLpUCZ8ngZXYSmQCLYPVAq16dA",
          "dtype": "f8"
         },
         "yaxis": "y3"
        },
        {
         "legendgroup": "history",
         "line": {
          "color": "gray",
          "dash": "dot",
          "width": 2
         },
         "marker": {
          "color": "gray"
         },
         "mode": "lines+markers",
         "name": "Mean history length",
         "showlegend": false,
         "type": "scatter",
         "x": {
          "bdata": "AAECAwQFBgcICQoLDA0ODxAREhMU",
          "dtype": "i1"
         },
         "xaxis": "x3",
         "y": {
          "bdata": "IiIiIiISXUAiIiIiIqJuQJqZmZmZX3dAq6qqqqp+f0BFINdEINeDQF8eWxE0BIhAq6qqqqpCjEBVVVVVVUWQQFVVVVVVYZJA9vX19fVrlEDqTW9608iWQKVP+qRPAplAr66urq5im0DRXkJ7CcGdQJwwv6vFDaBAxU7sxE48oUC71JPx22uiQDEMwzAMuaNAVVVVVVXepEAJyz2NsA6mQKgRlnsaW6dA",
          "dtype": "f8"
         },
         "yaxis": "y3"
        },
        {
         "hoverinfo": "skip",
         "legendgroup": "Deepseek R1 (ABBEL)",
         "line": {
          "width": 0
         },
         "mode": "lines",
         "showlegend": false,
         "type": "scatter",
         "x": [
          0,
          1,
          2,
          3,
          4,
          5,
          6,
          7,
          8,
          9,
          10,
          11,
          12,
          13,
          14,
          15,
          16,
          17,
          18,
          19,
          20
         ],
         "xaxis": "x3",
         "y": {
          "bdata": "58+oFs+xcEBqPaJU2th7QN7n5GVHs4JAMsHUI1LThEBacTXiYT+IQMXGDqS7ZohAONQMCkhiiECHEFghGICJQIOjlYcbw4lA0OvTNq74ikDsV9j/sqKMQCRXdBQw+4tAbxocK+lnjUD81wP+9RKPQNkGUGzZ849AXyzbTDZKkEBi8m44AOaRQE0x2Rp1p5JAuV122qu/kkD0nN/foNaTQPhAq4kM/5JA",
          "dtype": "f8"
         },
         "yaxis": "y3"
        },
        {
         "fill": "tonexty",
         "fillcolor": "rgba(255, 99, 71, 0.2)",
         "hoverinfo": "skip",
         "legendgroup": "Deepseek R1 (ABBEL)",
         "line": {
          "width": 0
         },
         "mode": "lines",
         "showlegend": false,
         "type": "scatter",
         "x": [
          0,
          1,
          2,
          3,
          4,
          5,
          6,
          7,
          8,
          9,
          10,
          11,
          12,
          13,
          14,
          15,
          16,
          17,
          18,
          19,
          20
         ],
         "xaxis": "x3",
         "y": {
          "bdata": "GTBX6TBackDK9ZDeWIZ+QLyxtDNSMoRANKWRQhQ3hkBAKGS3N0qKQKGfV8Kqv4pAYsWMj1HfikC1oLsZmdOLQKULDDVrL4xAaKIPAuAOjkAUqCcATV2PQKbPJliCvo5AyPJxaotKkEBYaVNW2luRQJP810kT3pFAodMks8lrkkAu0IbwW1GUQCegbPzneJVAtX1Aky9PlkBIMhRdLi2XQBSChYK2mZZA",
          "dtype": "f8"
         },
         "yaxis": "y3"
        },
        {
         "legendgroup": "Deepseek R1 (ABBEL)",
         "line": {
          "color": "#FF6347",
          "width": 2
         },
         "mode": "lines+markers",
         "name": "Deepseek R1 ",
         "showlegend": false,
         "type": "scatter",
         "x": {
          "bdata": "AAECAwQFBgcICQoLDA0ODxAREhMU",
          "dtype": "i1"
         },
         "xaxis": "x3",
         "y": {
          "bdata": "AAAAAACGcUCamZmZmS99QM3MzMzMcoNAMzMzMzOFhUDNzMzMzESJQDMzMzMzk4lAzczMzMygiUCe2Imd2KmKQJTXUF5D+YpAHMdxHMeDjEAAAAAAAACOQGWTTTbZXI1AAAAAAID+jkCrqqqqqnKQQAAAAAAA7JBAAAAAAABbkUBI4XoUrhuTQLrooosuEJRAt23btm2HlECe53me54GVQIZhGIZhzJRA",
          "dtype": "f8"
         },
         "yaxis": "y3"
        },
        {
         "hoverinfo": "skip",
         "legendgroup": "Deepseek V3 (ABBEL)",
         "line": {
          "width": 0
         },
         "mode": "lines",
         "showlegend": false,
         "type": "scatter",
         "x": [
          0,
          1,
          2,
          3,
          4,
          5,
          6,
          7,
          8,
          9,
          10,
          11,
          12,
          13,
          14,
          15,
          16,
          17,
          18,
          19,
          20
         ],
         "xaxis": "x3",
         "y": {
          "bdata": "SGgepeqZXUCoyz2PmuNmQHqqhBsHS29Afq3AXg2mckD6Rp83eap0QNh2SufKOXdAfWCjQa4VekCh2DXtbr58QAyrPHOXf35A9MAMG94ygEBhAuagNs6BQBsXPa8854JAL6cDdsujg0DF9PwVj/SFQAU+dOB6S4dASaTwTSUuiEB+PhtxyXiKQLseyQK8xY1A6dK+lgRKkEBlmdsvOYSRQC0FBNYyKpJA",
          "dtype": "f8"
         },
         "yaxis": "y3"
        },
        {
         "fill": "tonexty",
         "fillcolor": "rgba(70, 130, 180, 0.2)",
         "hoverinfo": "skip",
         "legendgroup": "Deepseek V3 (ABBEL)",
         "line": {
          "width": 0
         },
         "mode": "lines",
         "showlegend": false,
         "type": "scatter",
         "x": [
          0,
          1,
          2,
          3,
          4,
          5,
          6,
          7,
          8,
          9,
          10,
          11,
          12,
          13,
          14,
          15,
          16,
          17,
          18,
          19,
          20
         ],
         "xaxis": "x3",
         "y": {
          "bdata": "dmUKR6QEY0BYNMJwZaxrQPfdcKWvQXJAtoVy1CV1dUCQVjlSJE53QKKWmk7J7XlAJVzjsGwEfUBfJ8oSkfl/QHqqYUY0MIFA/C/k1RJmgkCf/RlfyR+EQOXowlBDn4VAXYrCopfIhkCT+WxuVjqJQAONyaw18YpAec5e1QZZjEBGENFThUuPQDL2x2JDmJFA/6bfUHU8k0ABzYo2LbqUQG2UlcNmiZVA",
          "dtype": "f8"
         },
         "yaxis": "y3"
        },
        {
         "legendgroup": "Deepseek V3 (ABBEL)",
         "line": {
          "color": "#4682B4",
          "width": 2
         },
         "mode": "lines+markers",
         "name": "Deepseek V3 ",
         "showlegend": false,
         "type": "scatter",
         "x": {
          "bdata": "AAECAwQFBgcICQoLDA0ODxAREhMU",
          "dtype": "i1"
         },
         "xaxis": "x3",
         "y": {
          "bdata": "zczMzMzoYEAAAAAAAEhpQJqZmZmZ83BAmpmZmZkNdEDFTuzETvx1QL2G8hrKk3hAUV5DeQ2Ne0AAAAAAAFx+QAAAAAAAOIBAeHh4eHhMgUAAAAAAAPeCQAAAAABAQ4RAxhhjjDE2hUAs9zTCcpeHQITlnkZYHolAYbmnEZZDikBiJ3ZiJ+KMQMhCFrKQPZBA9DzP8zzDkUAzMzMzMx+TQM3MzMzM2ZNA",
          "dtype": "f8"
         },
         "yaxis": "y3"
        },
        {
         "hoverinfo": "skip",
         "legendgroup": "Gemini 2.5 Pro (ABBEL)",
         "line": {
          "width": 0
         },
         "mode": "lines",
         "showlegend": false,
         "type": "scatter",
         "x": [
          0,
          1,
          2,
          3,
          4,
          5,
          6,
          7,
          8,
          9,
          10,
          11,
          12,
          13,
          14,
          15,
          16,
          17,
          18,
          19,
          20
         ],
         "xaxis": "x3",
         "y": {
          "bdata": "rlVsaatXgECshSGSq5CGQG1ryYl4GotAOJzECoMUj0DTe58ZNhmRQN34EXzqH5JAjCqp3WrWkkB3cgmOTsGVQIe6ui1WcZVAI0GHfkN0lUBhbCA0VkGZQEJ/vh1Q8JlAs3YVZB0InkBecp1NE6+dQLRIOoLZ8Z9ANuoIE4hwnkBrrSry8hWgQIPpOwUdGaJA2CaPneANoUArysoMyaSeQPn85iIyCppA",
          "dtype": "f8"
         },
         "yaxis": "y3"
        },
        {
         "fill": "tonexty",
         "fillcolor": "rgba(50, 205, 50, 0.2)",
         "hoverinfo": "skip",
         "legendgroup": "Gemini 2.5 Pro (ABBEL)",
         "line": {
          "width": 0
         },
         "mode": "lines",
         "showlegend": false,
         "type": "scatter",
         "x": [
          0,
          1,
          2,
          3,
          4,
          5,
          6,
          7,
          8,
          9,
          10,
          11,
          12,
          13,
          14,
          15,
          16,
          17,
          18,
          19,
          20
         ],
         "xaxis": "x3",
         "y": {
          "bdata": "ht3GyYftgkCIrRGhh2qJQJOUNnaHF45AShgE4SQLkUDHHfp/Y9GSQFc6IbdIupNAQI3T7UzulEDf4kvHBvyXQI+kNugI6JdA3b54gXyXmEApMbhVR9OcQAZivPZd751AStAjCNr6oEC66byHMNmgQNbnpW8f4qFAd6/EiOCQoUDJhQhBQHOiQCfBbqWNRaRAKNlwYh/ko0C8bW1MboShQAcDGd3NpZ5A",
          "dtype": "f8"
         },
         "yaxis": "y3"
        },
        {
         "legendgroup": "Gemini 2.5 Pro (ABBEL)",
         "line": {
          "color": "#32CD32",
          "width": 2
         },
         "mode": "lines+markers",
         "name": "Gemini 2.5 Pro ",
         "showlegend": false,
         "type": "scatter",
         "x": {
          "bdata": "AAECAwQFBgcICQoLDA0ODxAREhMU",
          "dtype": "i1"
         },
         "xaxis": "x3",
         "y": {
          "bdata": "mpmZmZmigUCamZmZmf2HQAAAAAAAmYxAMzMzM7NKkEDNzMzMTPWRQJqZmZkZ7ZJA5lu+5Vvik0Crqqqqqt6WQIuv+IqvrJZAAAAAAOAFl0DFTuzETgqbQKRwPQrX75tAo4suuuj+n0DpoosuurCfQBiGYRiG7aBASZIkSZJkoECamZmZmUShQFVVVVVVL6NAAAAAAAB5okBpaWlpaWugQAAAAAAAWJxA",
          "dtype": "f8"
         },
         "yaxis": "y3"
        },
        {
         "hoverinfo": "skip",
         "legendgroup": "history",
         "line": {
          "width": 0
         },
         "mode": "lines",
         "showlegend": false,
         "type": "scatter",
         "x": [
          0,
          1,
          2,
          3,
          4,
          5,
          6,
          7,
          8,
          9,
          10,
          11,
          12,
          13,
          14,
          15,
          16,
          17,
          18,
          19,
          20
         ],
         "xaxis": "x4",
         "y": {
          "bdata": "oWSg9Jela0AikCgj5jZ+QK35RDkemYdAzNCjSw8OkEA6HFq0ZWKUQMwly1k/kphAvC+tKLyonECMI4vnjnygQD9Sw9iSaaJAtj0xa/dOpEBHi1c0nEymQKdgfSoiUKhAT8/G0DhHqkB5A8pNDRmsQOqn0vxd5q1ACrM/mKX8r0CoNA6t+fqwQAMzzVRG+bFAwRoa1ZO/skAxZsQDOF2zQPlARUCmM7RA",
          "dtype": "f8"
         },
         "yaxis": "y4"
        },
        {
         "fill": "tonexty",
         "fillcolor": "rgba(100,100,100,0.2)",
         "hoverinfo": "skip",
         "legendgroup": "history",
         "line": {
          "width": 0
         },
         "mode": "lines",
         "showlegend": false,
         "type": "scatter",
         "x": [
          0,
          1,
          2,
          3,
          4,
          5,
          6,
          7,
          8,
          9,
          10,
          11,
          12,
          13,
          14,
          15,
          16,
          17,
          18,
          19,
          20
         ],
         "xaxis": "x4",
         "y": {
          "bdata": "K2gs2DRnbUBE1j1DgKN/QO2fVGB7dohAOKGpuGKPkEA0v1y5dfmUQN5Fbl6aTZlAFPKHmLyCnUAOdg6yCvygQP3IMcX6+KJAkNkrCdrvpEApbj87XQSnQPmv6boFFKlAy/qkV3Yfq0C1V+wezAWtQKI3XPgG5q5ANbj77D6PsEC8VyMZH5exQIVVuzNCpbJAqWnLybJ4s0CFBxeztQa0QLtWix6c9LRA",
          "dtype": "f8"
         },
         "yaxis": "y4"
        },
        {
         "legendgroup": "history",
         "line": {
          "color": "gray",
          "dash": "dot",
          "width": 2
         },
         "marker": {
          "color": "gray"
         },
         "mode": "lines+markers",
         "name": "Mean history length",
         "showlegend": false,
         "type": "scatter",
         "x": {
          "bdata": "AAECAwQFBgcICQoLDA0ODxAREhMU",
          "dtype": "i1"
         },
         "xaxis": "x4",
         "y": {
          "bdata": "ZmZmZmaGbEAzMzMzM+1+QM3MzMzMB4hAArkmArlOkEC3bdu27a2UQNW1HNzs75hA6JCaYLwVnUDNzMzMTLygQJ6N+s5GsaJAo4suumifpEC4fMu3fKimQFCIs/ITsqhADeU1lFezqkCXLVu2bI+sQMZvl3oyZq5A3ciN3MhGsEAyxhhjDEmxQERERERET7JANcJyTyMcs0Dbtm3b9rGzQNpLaC8hlLRA",
          "dtype": "f8"
         },
         "yaxis": "y4"
        },
        {
         "hoverinfo": "skip",
         "legendgroup": "Deepseek R1 (ABBEL)",
         "line": {
          "width": 0
         },
         "mode": "lines",
         "showlegend": false,
         "type": "scatter",
         "x": [
          0,
          1,
          2,
          3,
          4,
          5,
          6,
          7,
          8,
          9,
          10,
          11,
          12,
          13,
          14,
          15,
          16,
          17,
          18,
          19,
          20
         ],
         "xaxis": "x4",
         "y": {
          "bdata": "7NxRTeaPeEBJXV9YYLiFQAJorQfjuYxAksh9HzgIj0Bm6FWLIVmPQNJ3kmAMaZFAtvpKsC9ZkUB1C498LkuSQAgqCsUKBJFA9cbkpRVvkUAzr4g2K3+TQBbYNh4UsJNArOR8brMElUDarhYlBqWUQFUinX1O2JNADbGfodoLlUBeW2kw9jyWQHskz5gXvZZAE0XfyBaVlkC834fFVZeXQInKJ5ZSl5hA",
          "dtype": "f8"
         },
         "yaxis": "y4"
        },
        {
         "fill": "tonexty",
         "fillcolor": "rgba(255, 99, 71, 0.2)",
         "hoverinfo": "skip",
         "legendgroup": "Deepseek R1 (ABBEL)",
         "line": {
          "width": 0
         },
         "mode": "lines",
         "showlegend": false,
         "type": "scatter",
         "x": [
          0,
          1,
          2,
          3,
          4,
          5,
          6,
          7,
          8,
          9,
          10,
          11,
          12,
          13,
          14,
          15,
          16,
          17,
          18,
          19,
          20
         ],
         "xaxis": "x4",
         "y": {
          "bdata": "rrxHTLN9ekAdCQcOBu6GQGT+uF6DZo5Ag+gNvbCikEARhWIfpdOQQKCkNBEQGJNAvCF8wezNkkAdGboV9vWTQKyKqu+pvJJAE1qfaizRk0BrKQFnrW6VQJw7BJP/kpVASkTfIA+JlkBE1tQssuGWQKvdYoKxVpZAf30aR8grl0BEMMWJ8sWYQFchSMRcXJlAj0ZP8dEVmUBEIHg6qpSaQCHgghRYY5tA",
          "dtype": "f8"
         },
         "yaxis": "y4"
        },
        {
         "legendgroup": "Deepseek R1 (ABBEL)",
         "line": {
          "color": "#FF6347",
          "width": 2
         },
         "mode": "lines+markers",
         "name": "Deepseek R1 ",
         "showlegend": false,
         "type": "scatter",
         "x": {
          "bdata": "AAECAwQFBgcICQoLDA0ODxAREhMU",
          "dtype": "i1"
         },
         "xaxis": "x4",
         "y": {
          "bdata": "zczMzMyGeUAzMzMzM1OGQDMzMzMzkI1AZmZmZmYTkECivIbyGkCQQDmO4ziOQJJAOY7jOI4TkkBJkiRJkiCTQFpaWlpa4JFAhBBCCCGgkkBP7MRO7HaUQNmJndiJoZRAexSuR+HGlUCPwvUoXMOVQAAAAACAF5VARhdddNEblkDRRRdddIGXQOmiiy66DJhA0UUXXXTVl0AAAAAAABaZQFVVVVVV/ZlA",
          "dtype": "f8"
         },
         "yaxis": "y4"
        },
        {
         "hoverinfo": "skip",
         "legendgroup": "Deepseek V3 (ABBEL)",
         "line": {
          "width": 0
         },
         "mode": "lines",
         "showlegend": false,
         "type": "scatter",
         "x": [
          0,
          1,
          2,
          3,
          4,
          5,
          6,
          7,
          8,
          9,
          10,
          11,
          12,
          13,
          14,
          15,
          16,
          17,
          18,
          19,
          20
         ],
         "xaxis": "x4",
         "y": {
          "bdata": "Lzw+VrT/YUD5mL1VCeJuQJ8k7EhLf3dAjvsIuY1if0A3pS8W6rKCQA5nzJ/ckIVALafiFKiTiEAiJ73FOwmLQMJ1fzjcOIxAMwU1whxujUBqUCoPB0uQQLY1yjgOKpFAiUtEp02rkUAIvtQQP02SQKVGn/2WCpNAaf8EO2P8kkAw4fhd8D2TQDeDiNPRs5NAtDot5aTmk0BqUghU+a6UQDahBIsy7ZRA",
          "dtype": "f8"
         },
         "yaxis": "y4"
        },
        {
         "fill": "tonexty",
         "fillcolor": "rgba(70, 130, 180, 0.2)",
         "hoverinfo": "skip",
         "legendgroup": "Deepseek V3 (ABBEL)",
         "line": {
          "width": 0
         },
         "mode": "lines",
         "showlegend": false,
         "type": "scatter",
         "x": [
          0,
          1,
          2,
          3,
          4,
          5,
          6,
          7,
          8,
          9,
          10,
          11,
          12,
          13,
          14,
          15,
          16,
          17,
          18,
          19,
          20
         ],
         "xaxis": "x4",
         "y": {
          "bdata": "a11bQ+UZZ0BQAO4hyMdyQC2o4IOBBXtAbbWuVux9gUDJWtDpFc+EQBKmBYEwsYdAze+M5O4Li0CSR3N/AlKNQCLDDqtcPY5AtoRa7/gFkECGoMbh6ZmRQDq7JrjiZpJASYeOK4X3kkD4QSvvgKuTQFu5YAJpiJRAlwD7xJyWlEDqf8BJIQCVQPkdNbEkp5VAiHbmVQzplUBYoyAIlsOWQG7POH+kJpdA",
          "dtype": "f8"
         },
         "yaxis": "y4"
        },
        {
         "legendgroup": "Deepseek V3 (ABBEL)",
         "line": {
          "color": "#4682B4",
          "width": 2
         },
         "mode": "lines+markers",
         "name": "Deepseek V3 ",
         "showlegend": false,
         "type": "scatter",
         "x": {
          "bdata": "AAECAwQFBgcICQoLDA0ODxAREhMU",
          "dtype": "i1"
         },
         "xaxis": "x4",
         "y": {
          "bdata": "zczMzMyMZEBmZmZmZhxxQGZmZmZmQnlAmpmZmZmXgEAAAAAAAMGDQJAGaZAGoYZAfcu3fMvPiUBaN5giny2MQHIcx3EcO41AUAd1UAe9jkB4eHh4ePKQQHh4eHh4yJFAaWlpaWlRkkAAAAAAYPySQAAAAACAyZNAAAAAAIDJk0CNsNzTCB+UQJjQXkJ7rZRAntiJndjnlEDhehSuR7mVQFK4HoXrCZZA",
          "dtype": "f8"
         },
         "yaxis": "y4"
        },
        {
         "hoverinfo": "skip",
         "legendgroup": "Gemini 2.5 Pro (ABBEL)",
         "line": {
          "width": 0
         },
         "mode": "lines",
         "showlegend": false,
         "type": "scatter",
         "x": [
          0,
          1,
          2,
          3,
          4,
          5,
          6,
          7,
          8,
          9,
          10,
          11,
          12,
          13,
          14,
          15,
          16,
          17,
          18,
          19,
          20
         ],
         "xaxis": "x4",
         "y": {
          "bdata": "1xB5dzQYhECegkqns4GQQBRjNbf80ZNAQ7zthVOplkAAkyQNcyOaQGgsg7PQpZxAaY864fNhnUCHrGy95EqfQHLklPg2K6BAmQPGrWKeoEB3o5k0sbyjQBwXYKLEcqRAPszltBkppUDitQUAbhSkQJZWCDHspaJAtTKyJueBpkBNLWFYxAWpQALqFBWobKhATlWz+xyBp0B4IgITPZKkQJR3Kbd8/qRA",
          "dtype": "f8"
         },
         "yaxis": "y4"
        },
        {
         "fill": "tonexty",
         "fillcolor": "rgba(50, 205, 50, 0.2)",
         "hoverinfo": "skip",
         "legendgroup": "Gemini 2.5 Pro (ABBEL)",
         "line": {
          "width": 0
         },
         "mode": "lines",
         "showlegend": false,
         "type": "scatter",
         "x": [
          0,
          1,
          2,
          3,
          4,
          5,
          6,
          7,
          8,
          9,
          10,
          11,
          12,
          13,
          14,
          15,
          16,
          17,
          18,
          19,
          20
         ],
         "xaxis": "x4",
         "y": {
          "bdata": "w4ggImW9hkDI4xu/sjaSQLhplxXQ/JVAnTZAWZ9kmUAQfOoBnGOdQMxpPqaXOaBAfn57cpKYoEC8qUmhjaahQDjGFbLzgKJAOUJRrxF5o0CJXGbLTrumQLa7cjAO0KdAwjMaS+b2pkAeSvr/kQWnQMD+TCRpz6ZAv56T8HWeqUAnpOS+mFasQKChGaVAkq1AGBGzaklFrEAyiKiXbSirQGyI1kiDOatA",
          "dtype": "f8"
         },
         "yaxis": "y4"
        },
        {
         "legendgroup": "Gemini 2.5 Pro (ABBEL)",
         "line": {
          "color": "#32CD32",
          "width": 2
         },
         "mode": "lines+markers",
         "name": "Gemini 2.5 Pro ",
         "showlegend": false,
         "type": "scatter",
         "x": {
          "bdata": "AAECAwQFBgcICQoLDA0ODxAREhMU",
          "dtype": "i1"
         },
         "xaxis": "x4",
         "y": {
          "bdata": "zczMzMxqhUAzMzMzM1yRQGZmZmZm55RAcPmWb/kGmECIh4eHh8ObQAAAAACAjJ5AMsYYY4xJn0AAAAAAAKagQFVVVVUVVqFA6aKLLroLokAAAAAAADylQGlpaWlpIaZAAAAAAAAQpkAAAAAAAI2lQKuqqqqquqRAuuiiiy4QqEC66KKLLq6qQNFFF110/6pAMzMzMzPjqUBVVVVVVd2nQAAAAAAAHKhA",
          "dtype": "f8"
         },
         "yaxis": "y4"
        },
        {
         "hoverinfo": "skip",
         "legendgroup": "history",
         "line": {
          "width": 0
         },
         "mode": "lines",
         "showlegend": false,
         "type": "scatter",
         "x": [
          0,
          1,
          2,
          3,
          4,
          5,
          6
         ],
         "xaxis": "x5",
         "y": {
          "bdata": "iAXsfjRUhECugWQDzJ2UQNH+bUKKep5A9T80UyiZpEA5Kfppf8+pQKHV1beXc69Aa8NAclmWskA=",
          "dtype": "f8"
         },
         "yaxis": "y5"
        },
        {
         "fill": "tonexty",
         "fillcolor": "rgba(100,100,100,0.2)",
         "hoverinfo": "skip",
         "legendgroup": "history",
         "line": {
          "width": 0
         },
         "mode": "lines",
         "showlegend": false,
         "type": "scatter",
         "x": [
          0,
          1,
          2,
          3,
          4,
          5,
          6
         ],
         "xaxis": "x5",
         "y": {
          "bdata": "EpStGmV9hEAeS2jJAMmUQIH4d2+L1p5Ad5RD48HSpEAvtGYg/RqqQBPf3vwcxa9A4c2OSGjOskA=",
          "dtype": "f8"
         },
         "yaxis": "y5"
        },
        {
         "legendgroup": "history",
         "line": {
          "color": "gray",
          "dash": "dot",
          "width": 2
         },
         "marker": {
          "color": "gray"
         },
         "mode": "lines+markers",
         "name": "Mean history length",
         "showlegend": false,
         "type": "scatter",
         "x": {
          "bdata": "AAECAwQFBg==",
          "dtype": "i1"
         },
         "xaxis": "x5",
         "y": {
          "bdata": "zczMzMxohEBmZmZmZrOUQKn78tiKqJ5ANuo7G/W1pEC0bjBFPvWpQFpaWlpanK9Apshn3WCyskA=",
          "dtype": "f8"
         },
         "yaxis": "y5"
        },
        {
         "hoverinfo": "skip",
         "legendgroup": "Deepseek R1 (ABBEL)",
         "line": {
          "width": 0
         },
         "mode": "lines",
         "showlegend": false,
         "type": "scatter",
         "x": [
          0,
          1,
          2,
          3,
          4,
          5,
          6
         ],
         "xaxis": "x5",
         "y": {
          "bdata": "GHBHL0vLckCHi2HSrjp3QDZPvdsiQHRAThe2kvc6dkDfqBc6O8V1QAX92kM2unZAeFPEu9e0eEA=",
          "dtype": "f8"
         },
         "yaxis": "y5"
        },
        {
         "fill": "tonexty",
         "fillcolor": "rgba(255, 99, 71, 0.2)",
         "hoverinfo": "skip",
         "legendgroup": "Deepseek R1 (ABBEL)",
         "line": {
          "width": 0
         },
         "mode": "lines",
         "showlegend": false,
         "type": "scatter",
         "x": [
          0,
          1,
          2,
          3,
          4,
          5,
          6
         ],
         "xaxis": "x5",
         "y": {
          "bdata": "TvYeNxtfdECtp9FghLR7QPImpUtTIndAlGNeG1AmekCvOiFUqLN5QNe5kpeAk3tAIkbV3cEkfkA=",
          "dtype": "f8"
         },
         "yaxis": "y5"
        },
        {
         "legendgroup": "Deepseek R1 (ABBEL)",
         "line": {
          "color": "#FF6347",
          "width": 2
         },
         "mode": "lines+markers",
         "name": "Deepseek R1 ",
         "showlegend": false,
         "type": "scatter",
         "x": {
          "bdata": "AAECAwQFBg==",
          "dtype": "i1"
         },
         "xaxis": "x5",
         "y": {
          "bdata": "MzMzMzOVc0CamZmZmXd5QBQ7sRM7sXVAcT0K16MweEDHcRzHcbx3QG7btm3bJnlAzczMzMxse0A=",
          "dtype": "f8"
         },
         "yaxis": "y5"
        },
        {
         "hoverinfo": "skip",
         "legendgroup": "Deepseek V3 (ABBEL)",
         "line": {
          "width": 0
         },
         "mode": "lines",
         "showlegend": false,
         "type": "scatter",
         "x": [
          0,
          1,
          2,
          3,
          4,
          5,
          6
         ],
         "xaxis": "x5",
         "y": {
          "bdata": "5twuIjeRakCCQz4LvipzQFa1PNZPQ3hAM7pU0jz5e0AbD803CGSAQG/Ewxhfv4BAh3PdmSvVgUA=",
          "dtype": "f8"
         },
         "yaxis": "y5"
        },
        {
         "fill": "tonexty",
         "fillcolor": "rgba(70, 130, 180, 0.2)",
         "hoverinfo": "skip",
         "legendgroup": "Deepseek V3 (ABBEL)",
         "line": {
          "width": 0
         },
         "mode": "lines",
         "showlegend": false,
         "type": "scatter",
         "x": [
          0,
          1,
          2,
          3,
          4,
          5,
          6
         ],
         "xaxis": "x5",
         "y": {
          "bdata": "tLxqd2LYbUAYVluO2w51QBpEWpmpM3tAO3bwa64Nf0AfmbYCoD+EQJE7POeg0INAeYwiZtRyhEA=",
          "dtype": "f8"
         },
         "yaxis": "y5"
        },
        {
         "legendgroup": "Deepseek V3 (ABBEL)",
         "line": {
          "color": "#4682B4",
          "width": 2
         },
         "mode": "lines+markers",
         "name": "Deepseek V3 ",
         "showlegend": false,
         "type": "scatter",
         "x": {
          "bdata": "AAECAwQFBg==",
          "dtype": "i1"
         },
         "xaxis": "x5",
         "y": {
          "bdata": "zczMzMw0bEDNzMzMzBx0QLh8y7d8u3lAN5gin3WDfUAd1EEd1FGCQAAAAAAASIJAAAAAAAAkg0A=",
          "dtype": "f8"
         },
         "yaxis": "y5"
        },
        {
         "hoverinfo": "skip",
         "legendgroup": "Gemini 2.5 Pro (ABBEL)",
         "line": {
          "width": 0
         },
         "mode": "lines",
         "showlegend": false,
         "type": "scatter",
         "x": [
          0,
          1,
          2,
          3,
          4,
          5,
          6
         ],
         "xaxis": "x5",
         "y": {
          "bdata": "LW0eUtl1fUAC7/DLvwOCQDrn2XMNHIFAahaYHL8YgUCuJD1zKJh/QDqPZE7Q9XRAAAAAAAAA+H8=",
          "dtype": "f8"
         },
         "yaxis": "y5"
        },
        {
         "fill": "tonexty",
         "fillcolor": "rgba(50, 205, 50, 0.2)",
         "hoverinfo": "skip",
         "legendgroup": "Gemini 2.5 Pro (ABBEL)",
         "line": {
          "width": 0
         },
         "mode": "lines",
         "showlegend": false,
         "type": "scatter",
         "x": [
          0,
          1,
          2,
          3,
          4,
          5,
          6
         ],
         "xaxis": "x5",
         "y": {
          "bdata": "nfwjikYogEBkd3WapjqEQMYYJozytYNAluln48DMg0BTGAxxlh6DQDCFmqXkAYBAAAAAAAAA+H8=",
          "dtype": "f8"
         },
         "yaxis": "y5"
        },
        {
         "legendgroup": "Gemini 2.5 Pro (ABBEL)",
         "line": {
          "color": "#32CD32",
          "width": 2
         },
         "mode": "lines+markers",
         "name": "Gemini 2.5 Pro ",
         "showlegend": false,
         "type": "scatter",
         "x": {
          "bdata": "AAECAwQFBg==",
          "dtype": "i1"
         },
         "xaxis": "x5",
         "y": {
          "bdata": "MzMzMzPjfkAzMzMzMx+DQAAAAAAAaYJAAAAAAMBygkBVVVVVVXWBQM3MzMzMfHpAAAAAAACAWUA=",
          "dtype": "f8"
         },
         "yaxis": "y5"
        },
        {
         "hoverinfo": "skip",
         "legendgroup": "history",
         "line": {
          "width": 0
         },
         "mode": "lines",
         "showlegend": false,
         "type": "scatter",
         "x": [
          0,
          1,
          2,
          3,
          4,
          5,
          6,
          7,
          8,
          9,
          10,
          11,
          12
         ],
         "xaxis": "x6",
         "y": {
          "bdata": "AAAAAACIjEAAAAAAAIicQAAAAAAAZqVAAAAAAACIrEAHM8OL/ZaxQEz7QuktF7VAmqvDC5F/uEBNOOTJmD+8QBvwy8Xa0r9AUrZlQLa9wUCjjZ9YV4bDQK+ea9jAWcVAoNVFo0Ycx0A=",
          "dtype": "f8"
         },
         "yaxis": "y6"
        },
        {
         "fill": "tonexty",
         "fillcolor": "rgba(100,100,100,0.2)",
         "hoverinfo": "skip",
         "legendgroup": "history",
         "line": {
          "width": 0
         },
         "mode": "lines",
         "showlegend": false,
         "type": "scatter",
         "x": [
          0,
          1,
          2,
          3,
          4,
          5,
          6,
          7,
          8,
          9,
          10,
          11,
          12
         ],
         "xaxis": "x6",
         "y": {
          "bdata": "AAAAAACIjEAAAAAAAIicQAAAAAAAZqVAAAAAAACIrEDnuytj8bOxQLjm/+MbObVAFJwdbwOruEAho9KjQmS8QF1cQSZD+L9AhmbicwzNwUBNY1GYmZXDQL0TXk7aY8VAlgMf8IYpx0A=",
          "dtype": "f8"
         },
         "yaxis": "y6"
        },
        {
         "legendgroup": "history",
         "line": {
          "color": "gray",
          "dash": "dot",
          "width": 2
         },
         "marker": {
          "color": "gray"
         },
         "mode": "lines+markers",
         "name": "Mean history length",
         "showlegend": false,
         "type": "scatter",
         "x": {
          "bdata": "AAECAwQFBgcICQoLDA==",
          "dtype": "i1"
         },
         "xaxis": "x6",
         "y": {
          "bdata": "AAAAAACIjEAAAAAAAIicQAAAAAAAZqVAAAAAAACIrEB3d3d3d6WxQAJxoeYkKLVA16NwPUqVuEC3bdu27VG8QDymBvaO5b9AbA4kWmHFwUB4eHh4+I3DQDbZZJPNXsVAm2yyyeYix0A=",
          "dtype": "f8"
         },
         "yaxis": "y6"
        },
        {
         "hoverinfo": "skip",
         "legendgroup": "Deepseek R1 (ABBEL)",
         "line": {
          "width": 0
         },
         "mode": "lines",
         "showlegend": false,
         "type": "scatter",
         "x": [
          0,
          1,
          2,
          3,
          4,
          5,
          6,
          7,
          8,
          9,
          10,
          11,
          12
         ],
         "xaxis": "x6",
         "y": {
          "bdata": "aE3W9YKHe0ALU0wCCy6DQL9MLFEk9IVAZyPliWnqhkAtlyTNGpGHQHKWWz4mZ4hAjbXXyNZSiEAdWdFfzGWIQFtlXqHoYYhA1ITbFb9IiEChugd13CqKQP/+AXvbPotAYCpISIEUjEA=",
          "dtype": "f8"
         },
         "yaxis": "y6"
        },
        {
         "fill": "tonexty",
         "fillcolor": "rgba(255, 99, 71, 0.2)",
         "hoverinfo": "skip",
         "legendgroup": "Deepseek R1 (ABBEL)",
         "line": {
          "width": 0
         },
         "mode": "lines",
         "showlegend": false,
         "type": "scatter",
         "x": [
          0,
          1,
          2,
          3,
          4,
          5,
          6,
          7,
          8,
          9,
          10,
          11,
          12
         ],
         "xaxis": "x6",
         "y": {
          "bdata": "ZH/21kl9fkD1rLP99H2FQKcZOhVC6ohA/0KB3PzhiUA5z0GZS+2KQAh3ifdtoItAAS5hxQyyi0CTn7lPLKWLQOe3daA0coxALHsk6kAVjUAZ7Qkhn3+PQDGiuwkb1I5A4lDBpKT/j0A=",
          "dtype": "f8"
         },
         "yaxis": "y6"
        },
        {
         "legendgroup": "Deepseek R1 (ABBEL)",
         "line": {
          "color": "#FF6347",
          "width": 2
         },
         "mode": "lines+markers",
         "name": "Deepseek R1 ",
         "showlegend": false,
         "type": "scatter",
         "x": {
          "bdata": "AAECAwQFBgcICQoLDA==",
          "dtype": "i1"
         },
         "xaxis": "x6",
         "y": {
          "bdata": "ZmZmZmYCfUAAAAAAAFaEQDMzMzMzb4dAMzMzMzNmiEAzMzMzMz+JQL2G8hrKA4pAx3Ecx3ECikBYfMVXfAWKQKEO6qAOaopAAAAAAACvikDd0wjLPdWMQJjQXkJ7CY1Aob2E9hIKjkA=",
          "dtype": "f8"
         },
         "yaxis": "y6"
        },
        {
         "hoverinfo": "skip",
         "legendgroup": "Deepseek V3 (ABBEL)",
         "line": {
          "width": 0
         },
         "mode": "lines",
         "showlegend": false,
         "type": "scatter",
         "x": [
          0,
          1,
          2,
          3,
          4,
          5,
          6,
          7,
          8,
          9,
          10,
          11,
          12
         ],
         "xaxis": "x6",
         "y": {
          "bdata": "x23VPZq9eEDrtN+KarGEQIznGR6UHY9AUzodhV/WkkANS+pLlC6UQHYjy6pTcJVAI/B2Lb0VlUB0ZxFmqdSWQLwtF1Ie1pdAcC322PAGmEBtl7cciiqaQPhXEV2qcptAXhtGehsymUA=",
          "dtype": "f8"
         },
         "yaxis": "y6"
        },
        {
         "fill": "tonexty",
         "fillcolor": "rgba(70, 130, 180, 0.2)",
         "hoverinfo": "skip",
         "legendgroup": "Deepseek V3 (ABBEL)",
         "line": {
          "width": 0
         },
         "mode": "lines",
         "showlegend": false,
         "type": "scatter",
         "x": [
          0,
          1,
          2,
          3,
          4,
          5,
          6,
          7,
          8,
          9,
          10,
          11,
          12
         ],
         "xaxis": "x6",
         "y": {
          "bdata": "bcVd9Zjpe0BJflOoyMuHQDoM8/A1cJFAeZKvR23mlEC/geKAOAaXQCR2zu5FEphAqdxVnw98mEAiCOgwxtyaQOaOb6D8F5xAQHTGrQGcnED/kPeEMgifQARUd9GqgqBAUoZ2DNc4nkA=",
          "dtype": "f8"
         },
         "yaxis": "y6"
        },
        {
         "legendgroup": "Deepseek V3 (ABBEL)",
         "line": {
          "color": "#4682B4",
          "width": 2
         },
         "mode": "lines+markers",
         "name": "Deepseek V3 ",
         "showlegend": false,
         "type": "scatter",
         "x": {
          "bdata": "AAECAwQFBgcICQoLDA==",
          "dtype": "i1"
         },
         "xaxis": "x6",
         "y": {
          "bdata": "mpmZmZlTekCamZmZmT6GQAAAAACAf5BAZmZmZmbek0BmZmZmZpqVQM3MzMxMwZZAZmZmZubIlkDLt3zLt9iYQFFeQ3kN95lA2FBeQ3lRmkA2lNdQXpmcQAAAAAAAPJ5A2FBeQ3m1m0A=",
          "dtype": "f8"
         },
         "yaxis": "y6"
        },
        {
         "hoverinfo": "skip",
         "legendgroup": "Gemini 2.5 Pro (ABBEL)",
         "line": {
          "width": 0
         },
         "mode": "lines",
         "showlegend": false,
         "type": "scatter",
         "x": [
          0,
          1,
          2,
          3,
          4,
          5,
          6,
          7,
          8,
          9,
          10,
          11,
          12
         ],
         "xaxis": "x6",
         "y": {
          "bdata": "LzUHA6J4lECYyw0TEUehQD/1YolxWaVAegFcAWOnpkCeT62vbUujQJtHyKRWWKJAFkyHWhXfmkDNUu9Gc3qYQAiwUYmm35tAAAAAAAAA+H8AAAAAAAD4fwAAAAAAAPh/AAAAAAAA+H8=",
          "dtype": "f8"
         },
         "yaxis": "y6"
        },
        {
         "fill": "tonexty",
         "fillcolor": "rgba(50, 205, 50, 0.2)",
         "hoverinfo": "skip",
         "legendgroup": "Gemini 2.5 Pro (ABBEL)",
         "line": {
          "width": 0
         },
         "mode": "lines",
         "showlegend": false,
         "type": "scatter",
         "x": [
          0,
          1,
          2,
          3,
          4,
          5,
          6,
          7,
          8,
          9,
          10,
          11,
          12
         ],
         "xaxis": "x6",
         "y": {
          "bdata": "0cr4/F3ulkA0Ab+5O+iiQCdxA910TKdAhv6j/hzop0CW44WDxZmlQItTpA1zyqVA9Vm8UnUtoUDNibuP+cegQPwnV7ssG6VAAAAAAAAA+H8AAAAAAAD4fwAAAAAAAPh/AAAAAAAA+H8=",
          "dtype": "f8"
         },
         "yaxis": "y6"
        },
        {
         "legendgroup": "Gemini 2.5 Pro (ABBEL)",
         "line": {
          "color": "#32CD32",
          "width": 2
         },
         "mode": "lines+markers",
         "name": "Gemini 2.5 Pro ",
         "showlegend": false,
         "type": "scatter",
         "x": {
          "bdata": "AAECAwQFBgcICQoLDA==",
          "dtype": "i1"
         },
         "xaxis": "x6",
         "y": {
          "bdata": "AAAAAICzlUBmZmZmpheiQDMzMzPzUqZAAAAAAMBHp0CamZmZmXKkQJNNNtlkEaRAAAAAAACdnkAzMzMzMwWdQAAAAACAhaFAAAAAAACAq0AAAAAAALKsQAAAAAAAmqlAAAAAAAD0o0A=",
          "dtype": "f8"
         },
         "yaxis": "y6"
        }
       ],
       "layout": {
        "annotations": [
         {
          "font": {
           "size": 16
          },
          "showarrow": false,
          "text": "Murder Mystery",
          "x": 0.06944444444444445,
          "xanchor": "center",
          "xref": "paper",
          "y": 1,
          "yanchor": "bottom",
          "yref": "paper"
         },
         {
          "font": {
           "size": 16
          },
          "showarrow": false,
          "text": "Customer Service",
          "x": 0.24166666666666667,
          "xanchor": "center",
          "xref": "paper",
          "y": 1,
          "yanchor": "bottom",
          "yref": "paper"
         },
         {
          "font": {
           "size": 16
          },
          "showarrow": false,
          "text": "Twenty Questions",
          "x": 0.41388888888888886,
          "xanchor": "center",
          "xref": "paper",
          "y": 1,
          "yanchor": "bottom",
          "yref": "paper"
         },
         {
          "font": {
           "size": 16
          },
          "showarrow": false,
          "text": "Guess my City",
          "x": 0.5861111111111112,
          "xanchor": "center",
          "xref": "paper",
          "y": 1,
          "yanchor": "bottom",
          "yref": "paper"
         },
         {
          "font": {
           "size": 16
          },
          "showarrow": false,
          "text": "Wordle",
          "x": 0.7583333333333333,
          "xanchor": "center",
          "xref": "paper",
          "y": 1,
          "yanchor": "bottom",
          "yref": "paper"
         },
         {
          "font": {
           "size": 16
          },
          "showarrow": false,
          "text": "Mastermind",
          "x": 0.9305555555555556,
          "xanchor": "center",
          "xref": "paper",
          "y": 1,
          "yanchor": "bottom",
          "yref": "paper"
         }
        ],
        "font": {
         "family": "Times New Roman, serif",
         "size": 14
        },
        "height": 400,
        "legend": {
         "bgcolor": "rgba(255,255,255,0.9)",
         "bordercolor": "black",
         "borderwidth": 1,
         "orientation": "v",
         "x": 1.02,
         "xanchor": "left",
         "y": 0.5,
         "yanchor": "middle"
        },
        "paper_bgcolor": "white",
        "plot_bgcolor": "white",
        "template": {
         "data": {
          "bar": [
           {
            "error_x": {
             "color": "#2a3f5f"
            },
            "error_y": {
             "color": "#2a3f5f"
            },
            "marker": {
             "line": {
              "color": "#E5ECF6",
              "width": 0.5
             },
             "pattern": {
              "fillmode": "overlay",
              "size": 10,
              "solidity": 0.2
             }
            },
            "type": "bar"
           }
          ],
          "barpolar": [
           {
            "marker": {
             "line": {
              "color": "#E5ECF6",
              "width": 0.5
             },
             "pattern": {
              "fillmode": "overlay",
              "size": 10,
              "solidity": 0.2
             }
            },
            "type": "barpolar"
           }
          ],
          "carpet": [
           {
            "aaxis": {
             "endlinecolor": "#2a3f5f",
             "gridcolor": "white",
             "linecolor": "white",
             "minorgridcolor": "white",
             "startlinecolor": "#2a3f5f"
            },
            "baxis": {
             "endlinecolor": "#2a3f5f",
             "gridcolor": "white",
             "linecolor": "white",
             "minorgridcolor": "white",
             "startlinecolor": "#2a3f5f"
            },
            "type": "carpet"
           }
          ],
          "choropleth": [
           {
            "colorbar": {
             "outlinewidth": 0,
             "ticks": ""
            },
            "type": "choropleth"
           }
          ],
          "contour": [
           {
            "colorbar": {
             "outlinewidth": 0,
             "ticks": ""
            },
            "colorscale": [
             [
              0,
              "#0d0887"
             ],
             [
              0.1111111111111111,
              "#46039f"
             ],
             [
              0.2222222222222222,
              "#7201a8"
             ],
             [
              0.3333333333333333,
              "#9c179e"
             ],
             [
              0.4444444444444444,
              "#bd3786"
             ],
             [
              0.5555555555555556,
              "#d8576b"
             ],
             [
              0.6666666666666666,
              "#ed7953"
             ],
             [
              0.7777777777777778,
              "#fb9f3a"
             ],
             [
              0.8888888888888888,
              "#fdca26"
             ],
             [
              1,
              "#f0f921"
             ]
            ],
            "type": "contour"
           }
          ],
          "contourcarpet": [
           {
            "colorbar": {
             "outlinewidth": 0,
             "ticks": ""
            },
            "type": "contourcarpet"
           }
          ],
          "heatmap": [
           {
            "colorbar": {
             "outlinewidth": 0,
             "ticks": ""
            },
            "colorscale": [
             [
              0,
              "#0d0887"
             ],
             [
              0.1111111111111111,
              "#46039f"
             ],
             [
              0.2222222222222222,
              "#7201a8"
             ],
             [
              0.3333333333333333,
              "#9c179e"
             ],
             [
              0.4444444444444444,
              "#bd3786"
             ],
             [
              0.5555555555555556,
              "#d8576b"
             ],
             [
              0.6666666666666666,
              "#ed7953"
             ],
             [
              0.7777777777777778,
              "#fb9f3a"
             ],
             [
              0.8888888888888888,
              "#fdca26"
             ],
             [
              1,
              "#f0f921"
             ]
            ],
            "type": "heatmap"
           }
          ],
          "histogram": [
           {
            "marker": {
             "pattern": {
              "fillmode": "overlay",
              "size": 10,
              "solidity": 0.2
             }
            },
            "type": "histogram"
           }
          ],
          "histogram2d": [
           {
            "colorbar": {
             "outlinewidth": 0,
             "ticks": ""
            },
            "colorscale": [
             [
              0,
              "#0d0887"
             ],
             [
              0.1111111111111111,
              "#46039f"
             ],
             [
              0.2222222222222222,
              "#7201a8"
             ],
             [
              0.3333333333333333,
              "#9c179e"
             ],
             [
              0.4444444444444444,
              "#bd3786"
             ],
             [
              0.5555555555555556,
              "#d8576b"
             ],
             [
              0.6666666666666666,
              "#ed7953"
             ],
             [
              0.7777777777777778,
              "#fb9f3a"
             ],
             [
              0.8888888888888888,
              "#fdca26"
             ],
             [
              1,
              "#f0f921"
             ]
            ],
            "type": "histogram2d"
           }
          ],
          "histogram2dcontour": [
           {
            "colorbar": {
             "outlinewidth": 0,
             "ticks": ""
            },
            "colorscale": [
             [
              0,
              "#0d0887"
             ],
             [
              0.1111111111111111,
              "#46039f"
             ],
             [
              0.2222222222222222,
              "#7201a8"
             ],
             [
              0.3333333333333333,
              "#9c179e"
             ],
             [
              0.4444444444444444,
              "#bd3786"
             ],
             [
              0.5555555555555556,
              "#d8576b"
             ],
             [
              0.6666666666666666,
              "#ed7953"
             ],
             [
              0.7777777777777778,
              "#fb9f3a"
             ],
             [
              0.8888888888888888,
              "#fdca26"
             ],
             [
              1,
              "#f0f921"
             ]
            ],
            "type": "histogram2dcontour"
           }
          ],
          "mesh3d": [
           {
            "colorbar": {
             "outlinewidth": 0,
             "ticks": ""
            },
            "type": "mesh3d"
           }
          ],
          "parcoords": [
           {
            "line": {
             "colorbar": {
              "outlinewidth": 0,
              "ticks": ""
             }
            },
            "type": "parcoords"
           }
          ],
          "pie": [
           {
            "automargin": true,
            "type": "pie"
           }
          ],
          "scatter": [
           {
            "fillpattern": {
             "fillmode": "overlay",
             "size": 10,
             "solidity": 0.2
            },
            "type": "scatter"
           }
          ],
          "scatter3d": [
           {
            "line": {
             "colorbar": {
              "outlinewidth": 0,
              "ticks": ""
             }
            },
            "marker": {
             "colorbar": {
              "outlinewidth": 0,
              "ticks": ""
             }
            },
            "type": "scatter3d"
           }
          ],
          "scattercarpet": [
           {
            "marker": {
             "colorbar": {
              "outlinewidth": 0,
              "ticks": ""
             }
            },
            "type": "scattercarpet"
           }
          ],
          "scattergeo": [
           {
            "marker": {
             "colorbar": {
              "outlinewidth": 0,
              "ticks": ""
             }
            },
            "type": "scattergeo"
           }
          ],
          "scattergl": [
           {
            "marker": {
             "colorbar": {
              "outlinewidth": 0,
              "ticks": ""
             }
            },
            "type": "scattergl"
           }
          ],
          "scattermap": [
           {
            "marker": {
             "colorbar": {
              "outlinewidth": 0,
              "ticks": ""
             }
            },
            "type": "scattermap"
           }
          ],
          "scattermapbox": [
           {
            "marker": {
             "colorbar": {
              "outlinewidth": 0,
              "ticks": ""
             }
            },
            "type": "scattermapbox"
           }
          ],
          "scatterpolar": [
           {
            "marker": {
             "colorbar": {
              "outlinewidth": 0,
              "ticks": ""
             }
            },
            "type": "scatterpolar"
           }
          ],
          "scatterpolargl": [
           {
            "marker": {
             "colorbar": {
              "outlinewidth": 0,
              "ticks": ""
             }
            },
            "type": "scatterpolargl"
           }
          ],
          "scatterternary": [
           {
            "marker": {
             "colorbar": {
              "outlinewidth": 0,
              "ticks": ""
             }
            },
            "type": "scatterternary"
           }
          ],
          "surface": [
           {
            "colorbar": {
             "outlinewidth": 0,
             "ticks": ""
            },
            "colorscale": [
             [
              0,
              "#0d0887"
             ],
             [
              0.1111111111111111,
              "#46039f"
             ],
             [
              0.2222222222222222,
              "#7201a8"
             ],
             [
              0.3333333333333333,
              "#9c179e"
             ],
             [
              0.4444444444444444,
              "#bd3786"
             ],
             [
              0.5555555555555556,
              "#d8576b"
             ],
             [
              0.6666666666666666,
              "#ed7953"
             ],
             [
              0.7777777777777778,
              "#fb9f3a"
             ],
             [
              0.8888888888888888,
              "#fdca26"
             ],
             [
              1,
              "#f0f921"
             ]
            ],
            "type": "surface"
           }
          ],
          "table": [
           {
            "cells": {
             "fill": {
              "color": "#EBF0F8"
             },
             "line": {
              "color": "white"
             }
            },
            "header": {
             "fill": {
              "color": "#C8D4E3"
             },
             "line": {
              "color": "white"
             }
            },
            "type": "table"
           }
          ]
         },
         "layout": {
          "annotationdefaults": {
           "arrowcolor": "#2a3f5f",
           "arrowhead": 0,
           "arrowwidth": 1
          },
          "autotypenumbers": "strict",
          "coloraxis": {
           "colorbar": {
            "outlinewidth": 0,
            "ticks": ""
           }
          },
          "colorscale": {
           "diverging": [
            [
             0,
             "#8e0152"
            ],
            [
             0.1,
             "#c51b7d"
            ],
            [
             0.2,
             "#de77ae"
            ],
            [
             0.3,
             "#f1b6da"
            ],
            [
             0.4,
             "#fde0ef"
            ],
            [
             0.5,
             "#f7f7f7"
            ],
            [
             0.6,
             "#e6f5d0"
            ],
            [
             0.7,
             "#b8e186"
            ],
            [
             0.8,
             "#7fbc41"
            ],
            [
             0.9,
             "#4d9221"
            ],
            [
             1,
             "#276419"
            ]
           ],
           "sequential": [
            [
             0,
             "#0d0887"
            ],
            [
             0.1111111111111111,
             "#46039f"
            ],
            [
             0.2222222222222222,
             "#7201a8"
            ],
            [
             0.3333333333333333,
             "#9c179e"
            ],
            [
             0.4444444444444444,
             "#bd3786"
            ],
            [
             0.5555555555555556,
             "#d8576b"
            ],
            [
             0.6666666666666666,
             "#ed7953"
            ],
            [
             0.7777777777777778,
             "#fb9f3a"
            ],
            [
             0.8888888888888888,
             "#fdca26"
            ],
            [
             1,
             "#f0f921"
            ]
           ],
           "sequentialminus": [
            [
             0,
             "#0d0887"
            ],
            [
             0.1111111111111111,
             "#46039f"
            ],
            [
             0.2222222222222222,
             "#7201a8"
            ],
            [
             0.3333333333333333,
             "#9c179e"
            ],
            [
             0.4444444444444444,
             "#bd3786"
            ],
            [
             0.5555555555555556,
             "#d8576b"
            ],
            [
             0.6666666666666666,
             "#ed7953"
            ],
            [
             0.7777777777777778,
             "#fb9f3a"
            ],
            [
             0.8888888888888888,
             "#fdca26"
            ],
            [
             1,
             "#f0f921"
            ]
           ]
          },
          "colorway": [
           "#636efa",
           "#EF553B",
           "#00cc96",
           "#ab63fa",
           "#FFA15A",
           "#19d3f3",
           "#FF6692",
           "#B6E880",
           "#FF97FF",
           "#FECB52"
          ],
          "font": {
           "color": "#2a3f5f"
          },
          "geo": {
           "bgcolor": "white",
           "lakecolor": "white",
           "landcolor": "#E5ECF6",
           "showlakes": true,
           "showland": true,
           "subunitcolor": "white"
          },
          "hoverlabel": {
           "align": "left"
          },
          "hovermode": "closest",
          "mapbox": {
           "style": "light"
          },
          "paper_bgcolor": "white",
          "plot_bgcolor": "#E5ECF6",
          "polar": {
           "angularaxis": {
            "gridcolor": "white",
            "linecolor": "white",
            "ticks": ""
           },
           "bgcolor": "#E5ECF6",
           "radialaxis": {
            "gridcolor": "white",
            "linecolor": "white",
            "ticks": ""
           }
          },
          "scene": {
           "xaxis": {
            "backgroundcolor": "#E5ECF6",
            "gridcolor": "white",
            "gridwidth": 2,
            "linecolor": "white",
            "showbackground": true,
            "ticks": "",
            "zerolinecolor": "white"
           },
           "yaxis": {
            "backgroundcolor": "#E5ECF6",
            "gridcolor": "white",
            "gridwidth": 2,
            "linecolor": "white",
            "showbackground": true,
            "ticks": "",
            "zerolinecolor": "white"
           },
           "zaxis": {
            "backgroundcolor": "#E5ECF6",
            "gridcolor": "white",
            "gridwidth": 2,
            "linecolor": "white",
            "showbackground": true,
            "ticks": "",
            "zerolinecolor": "white"
           }
          },
          "shapedefaults": {
           "line": {
            "color": "#2a3f5f"
           }
          },
          "ternary": {
           "aaxis": {
            "gridcolor": "white",
            "linecolor": "white",
            "ticks": ""
           },
           "baxis": {
            "gridcolor": "white",
            "linecolor": "white",
            "ticks": ""
           },
           "bgcolor": "#E5ECF6",
           "caxis": {
            "gridcolor": "white",
            "linecolor": "white",
            "ticks": ""
           }
          },
          "title": {
           "x": 0.05
          },
          "xaxis": {
           "automargin": true,
           "gridcolor": "white",
           "linecolor": "white",
           "ticks": "",
           "title": {
            "standoff": 15
           },
           "zerolinecolor": "white",
           "zerolinewidth": 2
          },
          "yaxis": {
           "automargin": true,
           "gridcolor": "white",
           "linecolor": "white",
           "ticks": "",
           "title": {
            "standoff": 15
           },
           "zerolinecolor": "white",
           "zerolinewidth": 2
          }
         }
        },
        "width": 1200,
        "xaxis": {
         "anchor": "y",
         "color": "black",
         "domain": [
          0,
          0.1388888888888889
         ],
         "linecolor": "black",
         "linewidth": 1,
         "showgrid": false,
         "showline": true,
         "title": {
          "standoff": 0,
          "text": "Step"
         }
        },
        "xaxis2": {
         "anchor": "y2",
         "color": "black",
         "domain": [
          0.17222222222222222,
          0.3111111111111111
         ],
         "linecolor": "black",
         "linewidth": 1,
         "showgrid": false,
         "showline": true,
         "title": {
          "standoff": 0,
          "text": "Step"
         }
        },
        "xaxis3": {
         "anchor": "y3",
         "color": "black",
         "domain": [
          0.34444444444444444,
          0.48333333333333334
         ],
         "linecolor": "black",
         "linewidth": 1,
         "showgrid": false,
         "showline": true,
         "title": {
          "standoff": 0,
          "text": "Step"
         }
        },
        "xaxis4": {
         "anchor": "y4",
         "color": "black",
         "domain": [
          0.5166666666666667,
          0.6555555555555557
         ],
         "linecolor": "black",
         "linewidth": 1,
         "showgrid": false,
         "showline": true,
         "title": {
          "standoff": 0,
          "text": "Step"
         }
        },
        "xaxis5": {
         "anchor": "y5",
         "color": "black",
         "domain": [
          0.6888888888888889,
          0.8277777777777777
         ],
         "linecolor": "black",
         "linewidth": 1,
         "showgrid": false,
         "showline": true,
         "title": {
          "standoff": 0,
          "text": "Step"
         }
        },
        "xaxis6": {
         "anchor": "y6",
         "color": "black",
         "domain": [
          0.861111111111111,
          1
         ],
         "linecolor": "black",
         "linewidth": 1,
         "showgrid": false,
         "showline": true,
         "title": {
          "standoff": 0,
          "text": "Step"
         }
        },
        "yaxis": {
         "anchor": "x",
         "domain": [
          0,
          1
         ],
         "gridcolor": "lightgray",
         "linecolor": "black",
         "linewidth": 1,
         "range": [
          0,
          6000
         ],
         "showgrid": true,
         "showline": true,
         "tickfont": {
          "color": "black"
         },
         "title": {
          "text": "Mean Belief Length (chars)"
         }
        },
        "yaxis2": {
         "anchor": "x2",
         "domain": [
          0,
          1
         ],
         "gridcolor": "lightgray",
         "linecolor": "black",
         "linewidth": 1,
         "range": [
          0,
          2500
         ],
         "showgrid": true,
         "showline": true,
         "tickfont": {
          "color": "black"
         }
        },
        "yaxis3": {
         "anchor": "x3",
         "domain": [
          0,
          1
         ],
         "gridcolor": "lightgray",
         "linecolor": "black",
         "linewidth": 1,
         "range": [
          0,
          3000
         ],
         "showgrid": true,
         "showline": true,
         "tickfont": {
          "color": "black"
         }
        },
        "yaxis4": {
         "anchor": "x4",
         "domain": [
          0,
          1
         ],
         "gridcolor": "lightgray",
         "linecolor": "black",
         "linewidth": 1,
         "range": [
          0,
          5000
         ],
         "showgrid": true,
         "showline": true,
         "tickfont": {
          "color": "black"
         }
        },
        "yaxis5": {
         "anchor": "x5",
         "domain": [
          0,
          1
         ],
         "gridcolor": "lightgray",
         "linecolor": "black",
         "linewidth": 1,
         "range": [
          0,
          1000
         ],
         "showgrid": true,
         "showline": true,
         "tickfont": {
          "color": "black"
         }
        },
        "yaxis6": {
         "anchor": "x6",
         "domain": [
          0,
          1
         ],
         "gridcolor": "lightgray",
         "linecolor": "black",
         "linewidth": 1,
         "range": [
          0,
          4000
         ],
         "showgrid": true,
         "showline": true,
         "tickfont": {
          "color": "black"
         }
        }
       }
      }
     },
     "metadata": {},
     "output_type": "display_data"
    }
   ],
   "source": [
    "fig.show()"
   ]
  },
  {
   "cell_type": "code",
   "execution_count": 32,
   "id": "f1389dee",
   "metadata": {},
   "outputs": [],
   "source": [
    "fig.write_image('figures/frontier_belief_length_v2.pdf', width=1200, height=350)"
   ]
  },
  {
   "cell_type": "markdown",
   "id": "d3d7b5bb",
   "metadata": {},
   "source": [
    "## 4. Greediness Metrics"
   ]
  },
  {
   "cell_type": "code",
   "execution_count": 147,
   "id": "90539d27",
   "metadata": {},
   "outputs": [],
   "source": [
    "df_mastermind = df[df['env'] == 'mastermind']\n",
    "df_wordle = df[df['env'] == 'wordle']"
   ]
  },
  {
   "cell_type": "code",
   "execution_count": 148,
   "id": "ad0484bc",
   "metadata": {},
   "outputs": [],
   "source": [
    "df_wordle.loc[:, 'guess'] = df_wordle['guess'].apply(lambda x: ' '.join(list(str(x))))"
   ]
  },
  {
   "cell_type": "code",
   "execution_count": null,
   "id": "c6689c62",
   "metadata": {},
   "outputs": [
    {
     "data": {
      "text/html": [
       "<div>\n",
       "<style scoped>\n",
       "    .dataframe tbody tr th:only-of-type {\n",
       "        vertical-align: middle;\n",
       "    }\n",
       "\n",
       "    .dataframe tbody tr th {\n",
       "        vertical-align: top;\n",
       "    }\n",
       "\n",
       "    .dataframe thead th {\n",
       "        text-align: right;\n",
       "    }\n",
       "</style>\n",
       "<table border=\"1\" class=\"dataframe\">\n",
       "  <thead>\n",
       "    <tr style=\"text-align: right;\">\n",
       "      <th></th>\n",
       "      <th>model</th>\n",
       "      <th>game_id</th>\n",
       "      <th>env</th>\n",
       "      <th>attempt</th>\n",
       "      <th>info</th>\n",
       "      <th>raw_guess</th>\n",
       "      <th>guess</th>\n",
       "      <th>response</th>\n",
       "      <th>word_limit</th>\n",
       "      <th>score</th>\n",
       "      <th>done</th>\n",
       "      <th>data</th>\n",
       "      <th>belief</th>\n",
       "      <th>action_reasoning</th>\n",
       "      <th>belief_reasoning</th>\n",
       "      <th>model_info</th>\n",
       "    </tr>\n",
       "  </thead>\n",
       "  <tbody>\n",
       "    <tr>\n",
       "      <th>2</th>\n",
       "      <td>deepseek/deepseek-chat (both)</td>\n",
       "      <td>1</td>\n",
       "      <td>wordle</td>\n",
       "      <td>1</td>\n",
       "      <td>both</td>\n",
       "      <td>&lt;Think&gt; Since this is the first guess, the goa...</td>\n",
       "      <td>C R A N E</td>\n",
       "      <td>First letter, c, is not in the target word \\nS...</td>\n",
       "      <td>None</td>\n",
       "      <td>1.0</td>\n",
       "      <td>True</td>\n",
       "      <td>{'agent_game_scenario': 'word', 'env_game_scen...</td>\n",
       "      <td>The target word does not contain the letters C...</td>\n",
       "      <td>None</td>\n",
       "      <td>None</td>\n",
       "      <td>deepseek/deepseek-chat (both)</td>\n",
       "    </tr>\n",
       "    <tr>\n",
       "      <th>3</th>\n",
       "      <td>deepseek/deepseek-chat (both)</td>\n",
       "      <td>1</td>\n",
       "      <td>wordle</td>\n",
       "      <td>2</td>\n",
       "      <td>both</td>\n",
       "      <td>&lt;Think&gt; Since C, R, A, and N are not in the wo...</td>\n",
       "      <td>S L O P E</td>\n",
       "      <td>First letter, s, is correct and in the correct...</td>\n",
       "      <td>None</td>\n",
       "      <td>2.0</td>\n",
       "      <td>True</td>\n",
       "      <td>{'agent_game_scenario': 'word', 'env_game_scen...</td>\n",
       "      <td>The target word starts with 'S'. It contains t...</td>\n",
       "      <td>None</td>\n",
       "      <td>None</td>\n",
       "      <td>deepseek/deepseek-chat (both)</td>\n",
       "    </tr>\n",
       "    <tr>\n",
       "      <th>4</th>\n",
       "      <td>deepseek/deepseek-chat (both)</td>\n",
       "      <td>1</td>\n",
       "      <td>wordle</td>\n",
       "      <td>3</td>\n",
       "      <td>both</td>\n",
       "      <td>&lt;Think&gt; Based on the history and belief state:...</td>\n",
       "      <td>S P I E D</td>\n",
       "      <td>Goal reached</td>\n",
       "      <td>None</td>\n",
       "      <td>3.0</td>\n",
       "      <td>True</td>\n",
       "      <td>{'agent_game_scenario': 'word', 'env_game_scen...</td>\n",
       "      <td>The target word is \"SPIED\".</td>\n",
       "      <td>None</td>\n",
       "      <td>None</td>\n",
       "      <td>deepseek/deepseek-chat (both)</td>\n",
       "    </tr>\n",
       "    <tr>\n",
       "      <th>5</th>\n",
       "      <td>deepseek/deepseek-chat (history)</td>\n",
       "      <td>0</td>\n",
       "      <td>wordle</td>\n",
       "      <td>1</td>\n",
       "      <td>history</td>\n",
       "      <td>&lt;Think&gt; Since this is the first guess, I need ...</td>\n",
       "      <td>C R A N E</td>\n",
       "      <td>First letter, c, exists in the target word but...</td>\n",
       "      <td>None</td>\n",
       "      <td>1.0</td>\n",
       "      <td>True</td>\n",
       "      <td>{'agent_game_scenario': 'word', 'env_game_scen...</td>\n",
       "      <td></td>\n",
       "      <td>None</td>\n",
       "      <td></td>\n",
       "      <td>deepseek/deepseek-chat (history)</td>\n",
       "    </tr>\n",
       "    <tr>\n",
       "      <th>6</th>\n",
       "      <td>deepseek/deepseek-chat (history)</td>\n",
       "      <td>0</td>\n",
       "      <td>wordle</td>\n",
       "      <td>2</td>\n",
       "      <td>history</td>\n",
       "      <td>&lt;Think&gt;  \\nFrom the first guess \"CRANE\":\\n- Th...</td>\n",
       "      <td>C L O S E</td>\n",
       "      <td>First letter, c, exists in the target word but...</td>\n",
       "      <td>None</td>\n",
       "      <td>2.0</td>\n",
       "      <td>True</td>\n",
       "      <td>{'agent_game_scenario': 'word', 'env_game_scen...</td>\n",
       "      <td></td>\n",
       "      <td>None</td>\n",
       "      <td></td>\n",
       "      <td>deepseek/deepseek-chat (history)</td>\n",
       "    </tr>\n",
       "    <tr>\n",
       "      <th>...</th>\n",
       "      <td>...</td>\n",
       "      <td>...</td>\n",
       "      <td>...</td>\n",
       "      <td>...</td>\n",
       "      <td>...</td>\n",
       "      <td>...</td>\n",
       "      <td>...</td>\n",
       "      <td>...</td>\n",
       "      <td>...</td>\n",
       "      <td>...</td>\n",
       "      <td>...</td>\n",
       "      <td>...</td>\n",
       "      <td>...</td>\n",
       "      <td>...</td>\n",
       "      <td>...</td>\n",
       "      <td>...</td>\n",
       "    </tr>\n",
       "    <tr>\n",
       "      <th>24910</th>\n",
       "      <td>deepseek/deepseek-r1 (belief)</td>\n",
       "      <td>39</td>\n",
       "      <td>wordle</td>\n",
       "      <td>2</td>\n",
       "      <td>belief</td>\n",
       "      <td>&lt;Think&gt; The excluded letters are S, P, L, I, T...</td>\n",
       "      <td>C R A N E</td>\n",
       "      <td>First letter, c, is not in the target word \\nS...</td>\n",
       "      <td>None</td>\n",
       "      <td>2.0</td>\n",
       "      <td>True</td>\n",
       "      <td>{'agent_game_scenario': 'word', 'env_game_scen...</td>\n",
       "      <td>Excluded letters: S, P, L, I, T, C, N, E. \\nCo...</td>\n",
       "      <td>Okay, so I'm on my third attempt in Wordle, an...</td>\n",
       "      <td>Okay, let's see. The current belief says that ...</td>\n",
       "      <td>deepseek/deepseek-r1 (belief)</td>\n",
       "    </tr>\n",
       "    <tr>\n",
       "      <th>24911</th>\n",
       "      <td>deepseek/deepseek-r1 (belief)</td>\n",
       "      <td>39</td>\n",
       "      <td>wordle</td>\n",
       "      <td>3</td>\n",
       "      <td>belief</td>\n",
       "      <td>&lt;Think&gt; The secret word contains R and A, not ...</td>\n",
       "      <td>R U M B A</td>\n",
       "      <td>First letter, r, exists in the target word but...</td>\n",
       "      <td>None</td>\n",
       "      <td>3.0</td>\n",
       "      <td>True</td>\n",
       "      <td>{'agent_game_scenario': 'word', 'env_game_scen...</td>\n",
       "      <td>Excluded letters: S, P, L, I, T, C, N, E, U, B...</td>\n",
       "      <td>Okay, let's see. So it's attempt 4 out of 6, a...</td>\n",
       "      <td>Okay, let's update the belief based on the lat...</td>\n",
       "      <td>deepseek/deepseek-r1 (belief)</td>\n",
       "    </tr>\n",
       "    <tr>\n",
       "      <th>24912</th>\n",
       "      <td>deepseek/deepseek-r1 (belief)</td>\n",
       "      <td>39</td>\n",
       "      <td>wordle</td>\n",
       "      <td>4</td>\n",
       "      <td>belief</td>\n",
       "      <td>&lt;Think&gt;\\nThe secret word must contain R, A, M,...</td>\n",
       "      <td>M A J O R</td>\n",
       "      <td>First letter, m, is correct and in the correct...</td>\n",
       "      <td>None</td>\n",
       "      <td>4.0</td>\n",
       "      <td>True</td>\n",
       "      <td>{'agent_game_scenario': 'word', 'env_game_scen...</td>\n",
       "      <td>Excluded letters: S, P, L, I, T, C, N, E, U, B...</td>\n",
       "      <td>Okay, let's see. I need to figure out the next...</td>\n",
       "      <td>Okay, let's break down the problem. The user i...</td>\n",
       "      <td>deepseek/deepseek-r1 (belief)</td>\n",
       "    </tr>\n",
       "    <tr>\n",
       "      <th>24913</th>\n",
       "      <td>deepseek/deepseek-r1 (belief)</td>\n",
       "      <td>39</td>\n",
       "      <td>wordle</td>\n",
       "      <td>5</td>\n",
       "      <td>belief</td>\n",
       "      <td>&lt;Think&gt; Since this is the final attempt, prior...</td>\n",
       "      <td>M A R V Y</td>\n",
       "      <td>First letter, m, is correct and in the correct...</td>\n",
       "      <td>None</td>\n",
       "      <td>5.0</td>\n",
       "      <td>True</td>\n",
       "      <td>{'agent_game_scenario': 'word', 'env_game_scen...</td>\n",
       "      <td>Excluded letters: S, P, L, I, T, C, N, E, U, B...</td>\n",
       "      <td>Okay, let's try to figure out the best guess h...</td>\n",
       "      <td>Okay, let me try to update the belief based on...</td>\n",
       "      <td>deepseek/deepseek-r1 (belief)</td>\n",
       "    </tr>\n",
       "    <tr>\n",
       "      <th>24914</th>\n",
       "      <td>deepseek/deepseek-r1 (belief)</td>\n",
       "      <td>39</td>\n",
       "      <td>wordle</td>\n",
       "      <td>6</td>\n",
       "      <td>belief</td>\n",
       "      <td>&lt;Think&gt; The secret word structure is M A R _ Y...</td>\n",
       "      <td>M A R D Y</td>\n",
       "      <td>First letter, m, is correct and in the correct...</td>\n",
       "      <td>None</td>\n",
       "      <td>6.0</td>\n",
       "      <td>True</td>\n",
       "      <td>{'agent_game_scenario': 'word', 'env_game_scen...</td>\n",
       "      <td>&lt;BELIEF&gt;\\nExcluded letters: S, P, L, I, T, C, ...</td>\n",
       "      <td>Okay, let's see. The structure is M_A_R_ _Y. T...</td>\n",
       "      <td>Okay, let me break this down. The current beli...</td>\n",
       "      <td>deepseek/deepseek-r1 (belief)</td>\n",
       "    </tr>\n",
       "  </tbody>\n",
       "</table>\n",
       "<p>1690 rows × 16 columns</p>\n",
       "</div>"
      ],
      "text/plain": [
       "                                  model game_id     env  attempt     info  \\\n",
       "2         deepseek/deepseek-chat (both)       1  wordle        1     both   \n",
       "3         deepseek/deepseek-chat (both)       1  wordle        2     both   \n",
       "4         deepseek/deepseek-chat (both)       1  wordle        3     both   \n",
       "5      deepseek/deepseek-chat (history)       0  wordle        1  history   \n",
       "6      deepseek/deepseek-chat (history)       0  wordle        2  history   \n",
       "...                                 ...     ...     ...      ...      ...   \n",
       "24910     deepseek/deepseek-r1 (belief)      39  wordle        2   belief   \n",
       "24911     deepseek/deepseek-r1 (belief)      39  wordle        3   belief   \n",
       "24912     deepseek/deepseek-r1 (belief)      39  wordle        4   belief   \n",
       "24913     deepseek/deepseek-r1 (belief)      39  wordle        5   belief   \n",
       "24914     deepseek/deepseek-r1 (belief)      39  wordle        6   belief   \n",
       "\n",
       "                                               raw_guess      guess  \\\n",
       "2      <Think> Since this is the first guess, the goa...  C R A N E   \n",
       "3      <Think> Since C, R, A, and N are not in the wo...  S L O P E   \n",
       "4      <Think> Based on the history and belief state:...  S P I E D   \n",
       "5      <Think> Since this is the first guess, I need ...  C R A N E   \n",
       "6      <Think>  \\nFrom the first guess \"CRANE\":\\n- Th...  C L O S E   \n",
       "...                                                  ...        ...   \n",
       "24910  <Think> The excluded letters are S, P, L, I, T...  C R A N E   \n",
       "24911  <Think> The secret word contains R and A, not ...  R U M B A   \n",
       "24912  <Think>\\nThe secret word must contain R, A, M,...  M A J O R   \n",
       "24913  <Think> Since this is the final attempt, prior...  M A R V Y   \n",
       "24914  <Think> The secret word structure is M A R _ Y...  M A R D Y   \n",
       "\n",
       "                                                response word_limit  score  \\\n",
       "2      First letter, c, is not in the target word \\nS...       None    1.0   \n",
       "3      First letter, s, is correct and in the correct...       None    2.0   \n",
       "4                                           Goal reached       None    3.0   \n",
       "5      First letter, c, exists in the target word but...       None    1.0   \n",
       "6      First letter, c, exists in the target word but...       None    2.0   \n",
       "...                                                  ...        ...    ...   \n",
       "24910  First letter, c, is not in the target word \\nS...       None    2.0   \n",
       "24911  First letter, r, exists in the target word but...       None    3.0   \n",
       "24912  First letter, m, is correct and in the correct...       None    4.0   \n",
       "24913  First letter, m, is correct and in the correct...       None    5.0   \n",
       "24914  First letter, m, is correct and in the correct...       None    6.0   \n",
       "\n",
       "       done                                               data  \\\n",
       "2      True  {'agent_game_scenario': 'word', 'env_game_scen...   \n",
       "3      True  {'agent_game_scenario': 'word', 'env_game_scen...   \n",
       "4      True  {'agent_game_scenario': 'word', 'env_game_scen...   \n",
       "5      True  {'agent_game_scenario': 'word', 'env_game_scen...   \n",
       "6      True  {'agent_game_scenario': 'word', 'env_game_scen...   \n",
       "...     ...                                                ...   \n",
       "24910  True  {'agent_game_scenario': 'word', 'env_game_scen...   \n",
       "24911  True  {'agent_game_scenario': 'word', 'env_game_scen...   \n",
       "24912  True  {'agent_game_scenario': 'word', 'env_game_scen...   \n",
       "24913  True  {'agent_game_scenario': 'word', 'env_game_scen...   \n",
       "24914  True  {'agent_game_scenario': 'word', 'env_game_scen...   \n",
       "\n",
       "                                                  belief  \\\n",
       "2      The target word does not contain the letters C...   \n",
       "3      The target word starts with 'S'. It contains t...   \n",
       "4                            The target word is \"SPIED\".   \n",
       "5                                                          \n",
       "6                                                          \n",
       "...                                                  ...   \n",
       "24910  Excluded letters: S, P, L, I, T, C, N, E. \\nCo...   \n",
       "24911  Excluded letters: S, P, L, I, T, C, N, E, U, B...   \n",
       "24912  Excluded letters: S, P, L, I, T, C, N, E, U, B...   \n",
       "24913  Excluded letters: S, P, L, I, T, C, N, E, U, B...   \n",
       "24914  <BELIEF>\\nExcluded letters: S, P, L, I, T, C, ...   \n",
       "\n",
       "                                        action_reasoning  \\\n",
       "2                                                   None   \n",
       "3                                                   None   \n",
       "4                                                   None   \n",
       "5                                                   None   \n",
       "6                                                   None   \n",
       "...                                                  ...   \n",
       "24910  Okay, so I'm on my third attempt in Wordle, an...   \n",
       "24911  Okay, let's see. So it's attempt 4 out of 6, a...   \n",
       "24912  Okay, let's see. I need to figure out the next...   \n",
       "24913  Okay, let's try to figure out the best guess h...   \n",
       "24914  Okay, let's see. The structure is M_A_R_ _Y. T...   \n",
       "\n",
       "                                        belief_reasoning  \\\n",
       "2                                                   None   \n",
       "3                                                   None   \n",
       "4                                                   None   \n",
       "5                                                          \n",
       "6                                                          \n",
       "...                                                  ...   \n",
       "24910  Okay, let's see. The current belief says that ...   \n",
       "24911  Okay, let's update the belief based on the lat...   \n",
       "24912  Okay, let's break down the problem. The user i...   \n",
       "24913  Okay, let me try to update the belief based on...   \n",
       "24914  Okay, let me break this down. The current beli...   \n",
       "\n",
       "                             model_info  \n",
       "2         deepseek/deepseek-chat (both)  \n",
       "3         deepseek/deepseek-chat (both)  \n",
       "4         deepseek/deepseek-chat (both)  \n",
       "5      deepseek/deepseek-chat (history)  \n",
       "6      deepseek/deepseek-chat (history)  \n",
       "...                                 ...  \n",
       "24910     deepseek/deepseek-r1 (belief)  \n",
       "24911     deepseek/deepseek-r1 (belief)  \n",
       "24912     deepseek/deepseek-r1 (belief)  \n",
       "24913     deepseek/deepseek-r1 (belief)  \n",
       "24914     deepseek/deepseek-r1 (belief)  \n",
       "\n",
       "[1690 rows x 16 columns]"
      ]
     },
     "execution_count": 151,
     "metadata": {},
     "output_type": "execute_result"
    }
   ],
   "source": [
    "df_wordle"
   ]
  },
  {
   "cell_type": "code",
   "execution_count": null,
   "id": "3e3856f0",
   "metadata": {},
   "outputs": [],
   "source": [
    "import plotly.graph_objects as go\n",
    "import pandas as pd\n",
    "import numpy as np\n",
    "\n",
    "def plot_action_repetition(df):\n",
    "    \"\"\"\n",
    "    Create a bar chart showing greediness for each model.\n",
    "    \n",
    "    Greediness is defined as the fraction of times a model repeats\n",
    "    a particular guess at a particular position across games.\n",
    "    \n",
    "    Parameters:\n",
    "    df (pd.DataFrame): DataFrame with columns 'game_id', 'attempt', 'model_info', 'guess'\n",
    "    \n",
    "    Returns:\n",
    "    plotly.graph_objects.Figure: Bar chart figure\n",
    "    \"\"\"\n",
    "    \n",
    "    # Fixed colors for different models\n",
    "    colors = [\n",
    "        \"#ADD8E6\",  # light blue\n",
    "        \"#4682B4\",  # medium blue\n",
    "        \"#003366\",  # dark blue\n",
    "        \"#FFB6C1\",  # light red\n",
    "        \"#FF6347\",  # medium red\n",
    "        \"#8B0000\",  # dark red\n",
    "        \"#90EE90\",  # light green\n",
    "        \"#32CD32\",  # medium green\n",
    "        \"#006400\",  # dark green\n",
    "    ]\n",
    "    \n",
    "    greediness_results = []\n",
    "    \n",
    "    # Group by model_info\n",
    "    for model_idx, (model, model_data) in enumerate(df.groupby('model_info')):\n",
    "        # Group by game_id to get sequences of guesses\n",
    "        game_sequences = []\n",
    "        for game_id, game_data in model_data.groupby('game_id'):\n",
    "            # Sort by attempt to get the correct sequence\n",
    "            sequence = game_data.sort_values('attempt')['guess'].tolist()\n",
    "            game_sequences.append(sequence)\n",
    "        \n",
    "        # Calculate greediness for each game separately to get variance\n",
    "        game_greediness_values = []\n",
    "        \n",
    "        # For each game, calculate its greediness\n",
    "        for seq in game_sequences:\n",
    "            game_total_greediness = 0\n",
    "            game_total_positions = 0\n",
    "            \n",
    "            # For each position in this game's sequence\n",
    "            for pos in range(len(seq)):\n",
    "                # Get all guesses at this position across ALL games for comparison\n",
    "                guesses_at_position = []\n",
    "                for other_seq in game_sequences:\n",
    "                    if pos < len(other_seq):\n",
    "                        guesses_at_position.append(other_seq[pos])\n",
    "                \n",
    "                if len(guesses_at_position) > 1:\n",
    "                    # Count repeats\n",
    "                    unique_guesses = len(set(guesses_at_position))\n",
    "                    total_guesses = len(guesses_at_position)\n",
    "                    \n",
    "                    # Greediness = 1 - (unique_guesses / total_guesses)\n",
    "                    position_greediness = 1 - (unique_guesses / total_guesses)\n",
    "                    \n",
    "                    game_total_greediness += position_greediness\n",
    "                    game_total_positions += 1\n",
    "            \n",
    "            # Average greediness for this game\n",
    "            if game_total_positions > 0:\n",
    "                game_avg_greediness = (game_total_greediness / game_total_positions * 100)\n",
    "                game_greediness_values.append(game_avg_greediness)\n",
    "        \n",
    "        # Calculate mean and standard error\n",
    "        if game_greediness_values:\n",
    "            avg_greediness = np.mean(game_greediness_values)\n",
    "            std_error = np.std(game_greediness_values, ddof=1) / np.sqrt(len(game_greediness_values)) if len(game_greediness_values) > 1 else 0\n",
    "        else:\n",
    "            avg_greediness = 0\n",
    "            std_error = 0\n",
    "        \n",
    "        greediness_results.append({\n",
    "            'model': model,\n",
    "            'greediness': avg_greediness,\n",
    "            'std_error': std_error,\n",
    "            'color': colors[model_idx % len(colors)]\n",
    "        })\n",
    "\n",
    "    desired_order = [0, 2, 1, 3, 5, 4, 6, 8, 7]\n",
    "    greediness_results = [greediness_results[i] for i in desired_order]\n",
    "    \n",
    "    # Create the bar chart\n",
    "    fig = go.Figure()\n",
    "    \n",
    "    # Add bars\n",
    "    models = [result['model'] for result in greediness_results]\n",
    "    greediness_values = [result['greediness'] for result in greediness_results]\n",
    "    error_values = [result['std_error'] for result in greediness_results]\n",
    "    bar_colors = [result['color'] for result in greediness_results]\n",
    "    \n",
    "    fig.add_trace(go.Bar(\n",
    "        x=models,\n",
    "        y=greediness_values,\n",
    "        error_y=dict(\n",
    "            type='data',\n",
    "            array=error_values,\n",
    "            visible=True,\n",
    "            color='black',\n",
    "            thickness=1.5,\n",
    "            width=3\n",
    "        ),\n",
    "        marker_color=bar_colors,\n",
    "        marker_line_color='black',\n",
    "        marker_line_width=1,\n",
    "        width=0.6\n",
    "    ))\n",
    "    \n",
    "    # Update layout for professional appearance\n",
    "    fig.update_layout(\n",
    "        title={\n",
    "            'text': '',\n",
    "            'x': 0.5,\n",
    "            'font': {'family': 'Computer Modern, serif', 'size': 16}\n",
    "        },\n",
    "        xaxis={\n",
    "            'title': 'Model + Info (Wordle)',\n",
    "            'title_font': {'family': 'Computer Modern, serif', 'size': 14},\n",
    "            'tickfont': {'family': 'Computer Modern, serif', 'size': 14},\n",
    "            'showgrid': False,\n",
    "            'showline': True,\n",
    "            'linewidth': 1,\n",
    "            'linecolor': 'black',\n",
    "            'mirror': True\n",
    "        },\n",
    "        yaxis={\n",
    "            'title': 'Action Repetition',\n",
    "            'title_font': {'family': 'Computer Modern, serif', 'size': 14},\n",
    "            'tickfont': {'family': 'Computer Modern, serif', 'size': 14},\n",
    "            'showgrid': False,\n",
    "            'showline': True,\n",
    "            'linewidth': 1,\n",
    "            'linecolor': 'black',\n",
    "            'mirror': True,\n",
    "            'range': [0, max([g + e for g, e in zip(greediness_values, error_values)]) * 1.1 if greediness_values else 100]\n",
    "        },\n",
    "        plot_bgcolor='white',\n",
    "        paper_bgcolor='white',\n",
    "        font={'family': 'Computer Modern, serif'},\n",
    "        width=800,\n",
    "        height=500,\n",
    "        margin=dict(l=80, r=50, t=80, b=80)\n",
    "    )\n",
    "    \n",
    "    # Add grid lines manually for a cleaner look\n",
    "    fig.update_yaxes(showgrid=True, gridwidth=0.5, gridcolor='lightgray')\n",
    "    \n",
    "    return fig"
   ]
  },
  {
   "cell_type": "code",
   "execution_count": null,
   "id": "231dfe60",
   "metadata": {},
   "outputs": [],
   "source": [
    "import plotly.graph_objects as go\n",
    "import pandas as pd\n",
    "import numpy as np\n",
    "\n",
    "def plot_greediness(df):\n",
    "    \"\"\"\n",
    "    Create a bar chart showing greediness for each model.\n",
    "\n",
    "    Greediness is defined as the fraction of times the correct guess is made\n",
    "    for any position (average across rows and positions).\n",
    "\n",
    "    Parameters:\n",
    "    df (pd.DataFrame): DataFrame with columns 'game_id', 'attempt', 'model_info', 'guess'\n",
    "\n",
    "    Returns:\n",
    "    plotly.graph_objects.Figure: Bar chart figure\n",
    "    \"\"\"\n",
    "\n",
    "    # Fixed colors for different models\n",
    "    colors = [\n",
    "        \"#ADD8E6\",  # light blue\n",
    "        \"#4682B4\",  # medium blue\n",
    "        \"#003366\",  # dark blue\n",
    "        \"#FFB6C1\",  # light red\n",
    "        \"#FF6347\",  # medium red\n",
    "        \"#8B0000\",  # dark red\n",
    "        \"#90EE90\",  # light green\n",
    "        \"#32CD32\",  # medium green\n",
    "        \"#006400\",  # dark green\n",
    "    ]\n",
    "\n",
    "    greediness_results = []\n",
    "\n",
    "    # Group by model_info\n",
    "    for model_idx, (model, model_data) in enumerate(df.groupby('model_info')):\n",
    "        per_row_fractions = []\n",
    "        for row_id in range(len(model_data)):\n",
    "            # Get target and guess\n",
    "            # Fix: check if 'data' is a dict and contains 'env_game_scenario'\n",
    "            data_field = model_data.iloc[row_id]['data']\n",
    "            if isinstance(data_field, dict) and 'env_game_scenario' in data_field:\n",
    "                target = str(data_field['env_game_scenario'])\n",
    "            else:\n",
    "                # fallback: skip this row if not present\n",
    "                continue\n",
    "            guess_str = str(model_data.iloc[row_id]['guess'])\n",
    "            guess = guess_str.split(' ')\n",
    "            # Only compare up to the length of the shorter of guess/target\n",
    "            n_positions = min(len(target), len(guess))\n",
    "            if n_positions == 0:\n",
    "                continue\n",
    "            correct = 0\n",
    "            for idx in range(n_positions):\n",
    "                if str(guess[idx]) == str(target[idx]):\n",
    "                    correct += 1\n",
    "            per_row_fractions.append(correct / n_positions)\n",
    "        if len(per_row_fractions) == 0:\n",
    "            avg_greediness = 0.0\n",
    "            std_error = 0.0\n",
    "        else:\n",
    "            avg_greediness = np.mean(per_row_fractions)\n",
    "            std_error = np.std(per_row_fractions, ddof=1) / np.sqrt(len(per_row_fractions)) if len(per_row_fractions) > 1 else 0.0\n",
    "        greediness_results.append({\n",
    "            'model': model,\n",
    "            'greediness': avg_greediness,\n",
    "            'std_error': std_error,\n",
    "            'color': colors[model_idx % len(colors)]\n",
    "        })\n",
    "\n",
    "    # Optionally reorder for display\n",
    "    desired_order = [0, 2, 1, 3, 5, 4, 6, 8, 7]\n",
    "    if len(greediness_results) == len(desired_order):\n",
    "        greediness_results = [greediness_results[i] for i in desired_order]\n",
    "\n",
    "    # Create the bar chart\n",
    "    fig = go.Figure()\n",
    "\n",
    "    # Add bars\n",
    "    models = [result['model'] for result in greediness_results]\n",
    "    greediness_values = [result['greediness'] for result in greediness_results]\n",
    "    error_values = [result['std_error'] for result in greediness_results]\n",
    "    bar_colors = [result['color'] for result in greediness_results]\n",
    "\n",
    "    fig.add_trace(go.Bar(\n",
    "        x=models,\n",
    "        y=greediness_values,\n",
    "        error_y=dict(\n",
    "            type='data',\n",
    "            array=error_values,\n",
    "            visible=True,\n",
    "            color='black',\n",
    "            thickness=1.5,\n",
    "            width=3\n",
    "        ),\n",
    "        marker_color=bar_colors,\n",
    "        marker_line_color='black',\n",
    "        marker_line_width=1,\n",
    "        width=0.6\n",
    "    ))\n",
    "\n",
    "    # Update layout for professional appearance\n",
    "    fig.update_layout(\n",
    "        title={\n",
    "            'text': '',\n",
    "            'x': 0.5,\n",
    "            'font': {'family': 'Computer Modern, serif', 'size': 16}\n",
    "        },\n",
    "        xaxis={\n",
    "            'title': 'Model + Info (Wordle)',\n",
    "            'title_font': {'family': 'Computer Modern, serif', 'size': 14},\n",
    "            'tickfont': {'family': 'Computer Modern, serif', 'size': 14},\n",
    "            'showgrid': False,\n",
    "            'showline': True,\n",
    "            'linewidth': 1,\n",
    "            'linecolor': 'black',\n",
    "            'mirror': True\n",
    "        },\n",
    "        yaxis={\n",
    "            'title': 'Greediness (Correct)',\n",
    "            'title_font': {'family': 'Computer Modern, serif', 'size': 14},\n",
    "            'tickfont': {'family': 'Computer Modern, serif', 'size': 14},\n",
    "            'showgrid': False,\n",
    "            'showline': True,\n",
    "            'linewidth': 1,\n",
    "            'linecolor': 'black',\n",
    "            'mirror': True,\n",
    "            'range': [0, max([g + e for g, e in zip(greediness_values, error_values)]) * 1.1 if greediness_values else 100]\n",
    "        },\n",
    "        plot_bgcolor='white',\n",
    "        paper_bgcolor='white',\n",
    "        font={'family': 'Computer Modern, serif'},\n",
    "        width=800,\n",
    "        height=500,\n",
    "        margin=dict(l=80, r=50, t=80, b=80)\n",
    "    )\n",
    "\n",
    "    # Add grid lines manually for a cleaner look\n",
    "    fig.update_yaxes(showgrid=True, gridwidth=0.5, gridcolor='lightgray')\n",
    "\n",
    "    return fig"
   ]
  },
  {
   "cell_type": "code",
   "execution_count": 142,
   "id": "2b98a054",
   "metadata": {},
   "outputs": [],
   "source": [
    "models_list = [\n",
    "    'deepseek/deepseek-chat (belief)',\n",
    "    'deepseek/deepseek-chat (history)',\n",
    "    'deepseek/deepseek-chat (both)',\n",
    "    'deepseek/deepseek-r1 (belief)'\n",
    "    'deepseek/deepseek-r1 (history)',\n",
    "    'deepseek/deepseek-r1 (both)',\n",
    "    'google/gemini-2.5-pro (belief)',\n",
    "    'google/gemini-2.5-pro (history)',\n",
    "    'google/gemini-2.5-pro (both)',\n",
    "    ]"
   ]
  },
  {
   "cell_type": "code",
   "execution_count": 143,
   "id": "5c3907e9",
   "metadata": {},
   "outputs": [],
   "source": [
    "fig_ar_mm = plot_action_repetition(df_mastermind)\n",
    "fig_gr_mm = plot_greediness(df_mastermind)\n",
    "fig_ar_wd = plot_action_repetition(df_wordle)\n",
    "fig_gr_wd = plot_greediness(df_wordle)"
   ]
  },
  {
   "cell_type": "code",
   "execution_count": 146,
   "id": "1635dd9e",
   "metadata": {},
   "outputs": [
    {
     "data": {
      "application/vnd.plotly.v1+json": {
       "config": {
        "plotlyServerURL": "https://plot.ly"
       },
       "data": [
        {
         "error_y": {
          "array": [
           0.0098873179265809,
           0.005270597520609262,
           0.0009216589861751153,
           0.0011834319526627223,
           0.007431523640153751,
           0.006322547864147898,
           0,
           0,
           0
          ],
          "color": "black",
          "thickness": 1.5,
          "type": "data",
          "visible": true,
          "width": 3
         },
         "marker": {
          "color": [
           "#ADD8E6",
           "#003366",
           "#4682B4",
           "#FFB6C1",
           "#8B0000",
           "#FF6347",
           "#90EE90",
           "#006400",
           "#32CD32"
          ],
          "line": {
           "color": "black",
           "width": 1
          }
         },
         "type": "bar",
         "width": 0.6,
         "x": [
          "deepseek/deepseek-chat (belief)",
          "deepseek/deepseek-chat (history)",
          "deepseek/deepseek-chat (both)",
          "deepseek/deepseek-r1 (belief)",
          "deepseek/deepseek-r1 (history)",
          "deepseek/deepseek-r1 (both)",
          "google/gemini-2.5-pro (belief)",
          "google/gemini-2.5-pro (history)",
          "google/gemini-2.5-pro (both)"
         ],
         "y": [
          0.041201716738197426,
          0.006862745098039216,
          0.0009216589861751152,
          0.001183431952662722,
          0.01317365269461078,
          0.008235294117647058,
          0,
          0,
          0
         ]
        }
       ],
       "layout": {
        "font": {
         "family": "Computer Modern, serif"
        },
        "height": 500,
        "margin": {
         "b": 80,
         "l": 80,
         "r": 50,
         "t": 80
        },
        "paper_bgcolor": "white",
        "plot_bgcolor": "white",
        "template": {
         "data": {
          "bar": [
           {
            "error_x": {
             "color": "#2a3f5f"
            },
            "error_y": {
             "color": "#2a3f5f"
            },
            "marker": {
             "line": {
              "color": "#E5ECF6",
              "width": 0.5
             },
             "pattern": {
              "fillmode": "overlay",
              "size": 10,
              "solidity": 0.2
             }
            },
            "type": "bar"
           }
          ],
          "barpolar": [
           {
            "marker": {
             "line": {
              "color": "#E5ECF6",
              "width": 0.5
             },
             "pattern": {
              "fillmode": "overlay",
              "size": 10,
              "solidity": 0.2
             }
            },
            "type": "barpolar"
           }
          ],
          "carpet": [
           {
            "aaxis": {
             "endlinecolor": "#2a3f5f",
             "gridcolor": "white",
             "linecolor": "white",
             "minorgridcolor": "white",
             "startlinecolor": "#2a3f5f"
            },
            "baxis": {
             "endlinecolor": "#2a3f5f",
             "gridcolor": "white",
             "linecolor": "white",
             "minorgridcolor": "white",
             "startlinecolor": "#2a3f5f"
            },
            "type": "carpet"
           }
          ],
          "choropleth": [
           {
            "colorbar": {
             "outlinewidth": 0,
             "ticks": ""
            },
            "type": "choropleth"
           }
          ],
          "contour": [
           {
            "colorbar": {
             "outlinewidth": 0,
             "ticks": ""
            },
            "colorscale": [
             [
              0,
              "#0d0887"
             ],
             [
              0.1111111111111111,
              "#46039f"
             ],
             [
              0.2222222222222222,
              "#7201a8"
             ],
             [
              0.3333333333333333,
              "#9c179e"
             ],
             [
              0.4444444444444444,
              "#bd3786"
             ],
             [
              0.5555555555555556,
              "#d8576b"
             ],
             [
              0.6666666666666666,
              "#ed7953"
             ],
             [
              0.7777777777777778,
              "#fb9f3a"
             ],
             [
              0.8888888888888888,
              "#fdca26"
             ],
             [
              1,
              "#f0f921"
             ]
            ],
            "type": "contour"
           }
          ],
          "contourcarpet": [
           {
            "colorbar": {
             "outlinewidth": 0,
             "ticks": ""
            },
            "type": "contourcarpet"
           }
          ],
          "heatmap": [
           {
            "colorbar": {
             "outlinewidth": 0,
             "ticks": ""
            },
            "colorscale": [
             [
              0,
              "#0d0887"
             ],
             [
              0.1111111111111111,
              "#46039f"
             ],
             [
              0.2222222222222222,
              "#7201a8"
             ],
             [
              0.3333333333333333,
              "#9c179e"
             ],
             [
              0.4444444444444444,
              "#bd3786"
             ],
             [
              0.5555555555555556,
              "#d8576b"
             ],
             [
              0.6666666666666666,
              "#ed7953"
             ],
             [
              0.7777777777777778,
              "#fb9f3a"
             ],
             [
              0.8888888888888888,
              "#fdca26"
             ],
             [
              1,
              "#f0f921"
             ]
            ],
            "type": "heatmap"
           }
          ],
          "histogram": [
           {
            "marker": {
             "pattern": {
              "fillmode": "overlay",
              "size": 10,
              "solidity": 0.2
             }
            },
            "type": "histogram"
           }
          ],
          "histogram2d": [
           {
            "colorbar": {
             "outlinewidth": 0,
             "ticks": ""
            },
            "colorscale": [
             [
              0,
              "#0d0887"
             ],
             [
              0.1111111111111111,
              "#46039f"
             ],
             [
              0.2222222222222222,
              "#7201a8"
             ],
             [
              0.3333333333333333,
              "#9c179e"
             ],
             [
              0.4444444444444444,
              "#bd3786"
             ],
             [
              0.5555555555555556,
              "#d8576b"
             ],
             [
              0.6666666666666666,
              "#ed7953"
             ],
             [
              0.7777777777777778,
              "#fb9f3a"
             ],
             [
              0.8888888888888888,
              "#fdca26"
             ],
             [
              1,
              "#f0f921"
             ]
            ],
            "type": "histogram2d"
           }
          ],
          "histogram2dcontour": [
           {
            "colorbar": {
             "outlinewidth": 0,
             "ticks": ""
            },
            "colorscale": [
             [
              0,
              "#0d0887"
             ],
             [
              0.1111111111111111,
              "#46039f"
             ],
             [
              0.2222222222222222,
              "#7201a8"
             ],
             [
              0.3333333333333333,
              "#9c179e"
             ],
             [
              0.4444444444444444,
              "#bd3786"
             ],
             [
              0.5555555555555556,
              "#d8576b"
             ],
             [
              0.6666666666666666,
              "#ed7953"
             ],
             [
              0.7777777777777778,
              "#fb9f3a"
             ],
             [
              0.8888888888888888,
              "#fdca26"
             ],
             [
              1,
              "#f0f921"
             ]
            ],
            "type": "histogram2dcontour"
           }
          ],
          "mesh3d": [
           {
            "colorbar": {
             "outlinewidth": 0,
             "ticks": ""
            },
            "type": "mesh3d"
           }
          ],
          "parcoords": [
           {
            "line": {
             "colorbar": {
              "outlinewidth": 0,
              "ticks": ""
             }
            },
            "type": "parcoords"
           }
          ],
          "pie": [
           {
            "automargin": true,
            "type": "pie"
           }
          ],
          "scatter": [
           {
            "fillpattern": {
             "fillmode": "overlay",
             "size": 10,
             "solidity": 0.2
            },
            "type": "scatter"
           }
          ],
          "scatter3d": [
           {
            "line": {
             "colorbar": {
              "outlinewidth": 0,
              "ticks": ""
             }
            },
            "marker": {
             "colorbar": {
              "outlinewidth": 0,
              "ticks": ""
             }
            },
            "type": "scatter3d"
           }
          ],
          "scattercarpet": [
           {
            "marker": {
             "colorbar": {
              "outlinewidth": 0,
              "ticks": ""
             }
            },
            "type": "scattercarpet"
           }
          ],
          "scattergeo": [
           {
            "marker": {
             "colorbar": {
              "outlinewidth": 0,
              "ticks": ""
             }
            },
            "type": "scattergeo"
           }
          ],
          "scattergl": [
           {
            "marker": {
             "colorbar": {
              "outlinewidth": 0,
              "ticks": ""
             }
            },
            "type": "scattergl"
           }
          ],
          "scattermap": [
           {
            "marker": {
             "colorbar": {
              "outlinewidth": 0,
              "ticks": ""
             }
            },
            "type": "scattermap"
           }
          ],
          "scattermapbox": [
           {
            "marker": {
             "colorbar": {
              "outlinewidth": 0,
              "ticks": ""
             }
            },
            "type": "scattermapbox"
           }
          ],
          "scatterpolar": [
           {
            "marker": {
             "colorbar": {
              "outlinewidth": 0,
              "ticks": ""
             }
            },
            "type": "scatterpolar"
           }
          ],
          "scatterpolargl": [
           {
            "marker": {
             "colorbar": {
              "outlinewidth": 0,
              "ticks": ""
             }
            },
            "type": "scatterpolargl"
           }
          ],
          "scatterternary": [
           {
            "marker": {
             "colorbar": {
              "outlinewidth": 0,
              "ticks": ""
             }
            },
            "type": "scatterternary"
           }
          ],
          "surface": [
           {
            "colorbar": {
             "outlinewidth": 0,
             "ticks": ""
            },
            "colorscale": [
             [
              0,
              "#0d0887"
             ],
             [
              0.1111111111111111,
              "#46039f"
             ],
             [
              0.2222222222222222,
              "#7201a8"
             ],
             [
              0.3333333333333333,
              "#9c179e"
             ],
             [
              0.4444444444444444,
              "#bd3786"
             ],
             [
              0.5555555555555556,
              "#d8576b"
             ],
             [
              0.6666666666666666,
              "#ed7953"
             ],
             [
              0.7777777777777778,
              "#fb9f3a"
             ],
             [
              0.8888888888888888,
              "#fdca26"
             ],
             [
              1,
              "#f0f921"
             ]
            ],
            "type": "surface"
           }
          ],
          "table": [
           {
            "cells": {
             "fill": {
              "color": "#EBF0F8"
             },
             "line": {
              "color": "white"
             }
            },
            "header": {
             "fill": {
              "color": "#C8D4E3"
             },
             "line": {
              "color": "white"
             }
            },
            "type": "table"
           }
          ]
         },
         "layout": {
          "annotationdefaults": {
           "arrowcolor": "#2a3f5f",
           "arrowhead": 0,
           "arrowwidth": 1
          },
          "autotypenumbers": "strict",
          "coloraxis": {
           "colorbar": {
            "outlinewidth": 0,
            "ticks": ""
           }
          },
          "colorscale": {
           "diverging": [
            [
             0,
             "#8e0152"
            ],
            [
             0.1,
             "#c51b7d"
            ],
            [
             0.2,
             "#de77ae"
            ],
            [
             0.3,
             "#f1b6da"
            ],
            [
             0.4,
             "#fde0ef"
            ],
            [
             0.5,
             "#f7f7f7"
            ],
            [
             0.6,
             "#e6f5d0"
            ],
            [
             0.7,
             "#b8e186"
            ],
            [
             0.8,
             "#7fbc41"
            ],
            [
             0.9,
             "#4d9221"
            ],
            [
             1,
             "#276419"
            ]
           ],
           "sequential": [
            [
             0,
             "#0d0887"
            ],
            [
             0.1111111111111111,
             "#46039f"
            ],
            [
             0.2222222222222222,
             "#7201a8"
            ],
            [
             0.3333333333333333,
             "#9c179e"
            ],
            [
             0.4444444444444444,
             "#bd3786"
            ],
            [
             0.5555555555555556,
             "#d8576b"
            ],
            [
             0.6666666666666666,
             "#ed7953"
            ],
            [
             0.7777777777777778,
             "#fb9f3a"
            ],
            [
             0.8888888888888888,
             "#fdca26"
            ],
            [
             1,
             "#f0f921"
            ]
           ],
           "sequentialminus": [
            [
             0,
             "#0d0887"
            ],
            [
             0.1111111111111111,
             "#46039f"
            ],
            [
             0.2222222222222222,
             "#7201a8"
            ],
            [
             0.3333333333333333,
             "#9c179e"
            ],
            [
             0.4444444444444444,
             "#bd3786"
            ],
            [
             0.5555555555555556,
             "#d8576b"
            ],
            [
             0.6666666666666666,
             "#ed7953"
            ],
            [
             0.7777777777777778,
             "#fb9f3a"
            ],
            [
             0.8888888888888888,
             "#fdca26"
            ],
            [
             1,
             "#f0f921"
            ]
           ]
          },
          "colorway": [
           "#636efa",
           "#EF553B",
           "#00cc96",
           "#ab63fa",
           "#FFA15A",
           "#19d3f3",
           "#FF6692",
           "#B6E880",
           "#FF97FF",
           "#FECB52"
          ],
          "font": {
           "color": "#2a3f5f"
          },
          "geo": {
           "bgcolor": "white",
           "lakecolor": "white",
           "landcolor": "#E5ECF6",
           "showlakes": true,
           "showland": true,
           "subunitcolor": "white"
          },
          "hoverlabel": {
           "align": "left"
          },
          "hovermode": "closest",
          "mapbox": {
           "style": "light"
          },
          "paper_bgcolor": "white",
          "plot_bgcolor": "#E5ECF6",
          "polar": {
           "angularaxis": {
            "gridcolor": "white",
            "linecolor": "white",
            "ticks": ""
           },
           "bgcolor": "#E5ECF6",
           "radialaxis": {
            "gridcolor": "white",
            "linecolor": "white",
            "ticks": ""
           }
          },
          "scene": {
           "xaxis": {
            "backgroundcolor": "#E5ECF6",
            "gridcolor": "white",
            "gridwidth": 2,
            "linecolor": "white",
            "showbackground": true,
            "ticks": "",
            "zerolinecolor": "white"
           },
           "yaxis": {
            "backgroundcolor": "#E5ECF6",
            "gridcolor": "white",
            "gridwidth": 2,
            "linecolor": "white",
            "showbackground": true,
            "ticks": "",
            "zerolinecolor": "white"
           },
           "zaxis": {
            "backgroundcolor": "#E5ECF6",
            "gridcolor": "white",
            "gridwidth": 2,
            "linecolor": "white",
            "showbackground": true,
            "ticks": "",
            "zerolinecolor": "white"
           }
          },
          "shapedefaults": {
           "line": {
            "color": "#2a3f5f"
           }
          },
          "ternary": {
           "aaxis": {
            "gridcolor": "white",
            "linecolor": "white",
            "ticks": ""
           },
           "baxis": {
            "gridcolor": "white",
            "linecolor": "white",
            "ticks": ""
           },
           "bgcolor": "#E5ECF6",
           "caxis": {
            "gridcolor": "white",
            "linecolor": "white",
            "ticks": ""
           }
          },
          "title": {
           "x": 0.05
          },
          "xaxis": {
           "automargin": true,
           "gridcolor": "white",
           "linecolor": "white",
           "ticks": "",
           "title": {
            "standoff": 15
           },
           "zerolinecolor": "white",
           "zerolinewidth": 2
          },
          "yaxis": {
           "automargin": true,
           "gridcolor": "white",
           "linecolor": "white",
           "ticks": "",
           "title": {
            "standoff": 15
           },
           "zerolinecolor": "white",
           "zerolinewidth": 2
          }
         }
        },
        "title": {
         "font": {
          "family": "Computer Modern, serif",
          "size": 16
         },
         "text": "",
         "x": 0.5
        },
        "width": 800,
        "xaxis": {
         "linecolor": "black",
         "linewidth": 1,
         "mirror": true,
         "showgrid": false,
         "showline": true,
         "tickfont": {
          "family": "Computer Modern, serif",
          "size": 14
         },
         "title": {
          "font": {
           "family": "Computer Modern, serif",
           "size": 14
          },
          "text": "Model + Info (Wordle)"
         }
        },
        "yaxis": {
         "gridcolor": "lightgray",
         "gridwidth": 0.5,
         "linecolor": "black",
         "linewidth": 1,
         "mirror": true,
         "range": [
          0,
          0.05619793813125617
         ],
         "showgrid": true,
         "showline": true,
         "tickfont": {
          "family": "Computer Modern, serif",
          "size": 14
         },
         "title": {
          "font": {
           "family": "Computer Modern, serif",
           "size": 14
          },
          "text": "Greediness (Correct)"
         }
        }
       }
      }
     },
     "metadata": {},
     "output_type": "display_data"
    }
   ],
   "source": [
    "fig_gr_wd.show()"
   ]
  },
  {
   "cell_type": "code",
   "execution_count": 114,
   "id": "fb5f3138",
   "metadata": {},
   "outputs": [
    {
     "data": {
      "text/plain": [
       "['deepseek/deepseek-chat (history)',\n",
       " 'deepseek/deepseek-chat (both)',\n",
       " 'google/gemini-2.5-pro (history)',\n",
       " 'deepseek/deepseek-chat (belief)',\n",
       " 'deepseek/deepseek-r1 (history)',\n",
       " 'google/gemini-2.5-pro (belief)',\n",
       " 'google/gemini-2.5-pro (both)',\n",
       " 'deepseek/deepseek-r1 (both)',\n",
       " 'deepseek/deepseek-r1 (belief)']"
      ]
     },
     "execution_count": 114,
     "metadata": {},
     "output_type": "execute_result"
    }
   ],
   "source": [
    "list(df.model_info.unique())"
   ]
  },
  {
   "cell_type": "markdown",
   "id": "1547afe2",
   "metadata": {},
   "source": [
    "## 5. Sizes of Reasoning Traces"
   ]
  },
  {
   "cell_type": "code",
   "execution_count": 35,
   "id": "6d33171d",
   "metadata": {},
   "outputs": [
    {
     "data": {
      "text/plain": [
       "(17283, 27106)"
      ]
     },
     "execution_count": 35,
     "metadata": {},
     "output_type": "execute_result"
    }
   ],
   "source": [
    "# df_reasoning = df[(~df['model'].str.contains('deepseek/deepseek-chat')) & (df['info'] == 'belief')]\n",
    "# df_reasoning = df[\n",
    "#     (~df['model'].str.contains('deepseek/deepseek-chat')) &\n",
    "#     (df['info'].isin(['belief', 'history']))\n",
    "# ]\n",
    "df_reasoning = df[~df['model'].str.contains('V3')]\n",
    "len(df_reasoning), len(df)"
   ]
  },
  {
   "cell_type": "code",
   "execution_count": 36,
   "id": "9402310a",
   "metadata": {},
   "outputs": [],
   "source": [
    "def plot_belief_length(df, reasoning_types = ['Belief Reasoning', 'Action Reasoning']):\n",
    "    envs = envs_ordered\n",
    "    go = plotly.graph_objects\n",
    "    make_subplots = plotly.subplots.make_subplots\n",
    "\n",
    "    # Compute lengths for both reasoning fields\n",
    "    belief_reasoning_length = df['belief_reasoning'].astype(str).str.len()\n",
    "    action_reasoning_length = df['action_reasoning'].astype(str).str.len()\n",
    "\n",
    "    # Prepare dataframes for aggregation\n",
    "    df_belief = df.assign(_reasoning_len=belief_reasoning_length, _reasoning_type='Belief Reasoning')\n",
    "    df_action = df.assign(_reasoning_len=action_reasoning_length, _reasoning_type='Action Reasoning')\n",
    "    df_total = df.assign(_reasoning_len=belief_reasoning_length + action_reasoning_length, _reasoning_type='Total Reasoning')\n",
    "    df2 = pd.concat([df_belief, df_action, df_total], ignore_index=True)\n",
    "\n",
    "    agg = (\n",
    "        df2.groupby(['env', 'model', 'attempt', '_reasoning_type'])\n",
    "        ._reasoning_len.agg(['mean', 'std', 'count'])\n",
    "        .reset_index()\n",
    "    )\n",
    "    agg['sem'] = agg['std'] / agg['count'].apply(lambda n: sqrt(n) if n > 0 else 1)\n",
    "\n",
    "    colors = [\n",
    "        \"#8B0000\",  # dark red\n",
    "        \"#FF6347\",  # medium red\n",
    "        \"#FFB6C1\",  # light red\n",
    "        \"#90EE90\",  # light green\n",
    "        \"#006400\",  # dark green\n",
    "        \"#32CD32\",  # medium green\n",
    "        \"#ADD8E6\",  # light blue\n",
    "        \"#4682B4\",  # medium blue\n",
    "        \"#003366\",  # dark blue\n",
    "    ]\n",
    "\n",
    "    # Two rows: 1 for belief_reasoning, 2 for action_reasoning, but reduce vertical space and share axes\n",
    "    fig = make_subplots(\n",
    "        rows=2,\n",
    "        cols=len(envs),\n",
    "        shared_yaxes=False,\n",
    "        shared_xaxes=False,\n",
    "        subplot_titles=[f\"{env}\" for env in envs],\n",
    "        row_titles=[\"\", \"\"],\n",
    "        vertical_spacing=0.1 \n",
    "    )\n",
    "\n",
    "    # model_color_map = {}\n",
    "\n",
    "    model_color_map = {\n",
    "        'Deepseek V3 (ABBEL)': '#4682B4',\n",
    "        'Deepseek R1 (ABBEL)': '#8B0000',\n",
    "        'Gemini 2.5 Pro (ABBEL)': '#006400',\n",
    "        'Deepseek V3': '#4682B4',\n",
    "        'Deepseek R1': '#FFB6C1',\n",
    "        'Gemini 2.5 Pro': '#90EE90',\n",
    "        'Deepseek V3 (belief prompting)': '#4682B4',\n",
    "        'Deepseek R1 (belief prompting)': '#FF6347',\n",
    "        'Gemini 2.5 Pro (belief prompting)': '#32CD32',\n",
    "    }\n",
    "\n",
    "    models_seen = set()\n",
    "    color_idx = 0\n",
    "\n",
    "    for col_idx, env in enumerate(envs, start=1):\n",
    "        for row_idx, reasoning_type in enumerate(reasoning_types, start=1):\n",
    "            sub = agg[(agg['env'] == env) & (agg['_reasoning_type'] == reasoning_type)]\n",
    "            for model in sub['model'].unique():\n",
    "                mdf = sub[sub['model'] == model].sort_values('attempt')\n",
    "                if model not in model_color_map:\n",
    "                    model_color_map[model] = colors[color_idx % len(colors)]\n",
    "                    color_idx += 1\n",
    "\n",
    "                # if ('V3' not in model) and not ('Belief' in reasoning_type and '(' not in model):\n",
    "                if not ('Belief' in reasoning_type and '(' not in model):\n",
    "                    show_legend = model not in models_seen\n",
    "                    models_seen.add(model)\n",
    "\n",
    "                    # Add shaded region for error bounds\n",
    "                    error_lower = mdf['mean'] - mdf['sem']\n",
    "                    error_upper = mdf['mean'] + mdf['sem']\n",
    "                    x = list(mdf['attempt'])\n",
    "                    # Add the lower error bound trace\n",
    "                    fig.add_trace(go.Scatter(\n",
    "                        x=x,\n",
    "                        y=error_lower,\n",
    "                        mode='lines',\n",
    "                        line=dict(width=0), # Hide the line for the lower bound\n",
    "                        showlegend=False,\n",
    "                        hoverinfo=\"skip\",\n",
    "                        legendgroup=str(model)\n",
    "                    ),row=row_idx, col=col_idx)\n",
    "\n",
    "                    # Add the upper error bound trace and fill to the lower bound\n",
    "                    fig.add_trace(go.Scatter(\n",
    "                        x=x,\n",
    "                        y=error_upper,\n",
    "                        mode='lines',\n",
    "                        fill='tonexty', # Fill the area between this trace and the previous one\n",
    "                        fillcolor=f\"rgba{tuple(list(plotly.colors.hex_to_rgb(model_color_map[model])) + [0.2])}\",\n",
    "                        line=dict(width=0), # Hide the line for the upper bound\n",
    "                        hoverinfo=\"skip\",\n",
    "                        showlegend=False,\n",
    "                        legendgroup=str(model)\n",
    "                    ),\n",
    "                    row=row_idx, col=col_idx)\n",
    "                    \n",
    "                    # Add main line\n",
    "                    fig.add_trace(\n",
    "                        go.Scatter(\n",
    "                            x=mdf['attempt'],\n",
    "                            y=mdf['mean'],\n",
    "                            mode='lines+markers',\n",
    "                            name=str(model),\n",
    "                            legendgroup=str(model),\n",
    "                            showlegend=show_legend,\n",
    "                            line=dict(color=model_color_map[model], width=2)\n",
    "                        ),\n",
    "                        row=row_idx, col=col_idx\n",
    "                    )\n",
    "\n",
    "            fig.update_xaxes(\n",
    "                title_text='Step' if row_idx == 2 else '',\n",
    "                color='black',\n",
    "                showline=True,\n",
    "                linecolor='black',\n",
    "                linewidth=1,\n",
    "                showgrid=False,\n",
    "                row=row_idx, col=col_idx\n",
    "            )\n",
    "\n",
    "            fig.update_yaxes(\n",
    "                title_text=f'{reasoning_type} (chars)' if col_idx == 1 else None,\n",
    "                showline=True,\n",
    "                linecolor='black',\n",
    "                linewidth=1,\n",
    "                tickfont=dict(color='black'),\n",
    "                showgrid=True,\n",
    "                gridcolor='lightgray',\n",
    "                row=row_idx, col=col_idx\n",
    "            )\n",
    "\n",
    "        # Layout with horizontal legend\n",
    "    fig.update_layout(\n",
    "        height=700,\n",
    "        # width=fig_width,\n",
    "        template='simple_white',\n",
    "        font=dict(family='Computer Modern, serif', size=16),\n",
    "        barmode='group',\n",
    "        showlegend=True,\n",
    "        legend=dict(\n",
    "            # title={'text': ' Model (info)'},\n",
    "            orientation='v',\n",
    "            yanchor='middle',\n",
    "            y=0.5,\n",
    "            xanchor='left',\n",
    "            x=1.02,\n",
    "            bgcolor='rgba(255,255,255,0.9)',\n",
    "            bordercolor='black',\n",
    "            borderwidth=1\n",
    "        ),\n",
    "        margin=dict(t=100, b=50, l=80, r=80),\n",
    "        plot_bgcolor='white'\n",
    "    )\n",
    "\n",
    "    return fig\n"
   ]
  },
  {
   "cell_type": "code",
   "execution_count": 39,
   "id": "2523b070",
   "metadata": {},
   "outputs": [],
   "source": [
    "fig = plot_belief_length(df_reasoning, reasoning_types = ['Belief Reasoning', 'Total Reasoning'])"
   ]
  },
  {
   "cell_type": "code",
   "execution_count": 40,
   "id": "295ea216",
   "metadata": {},
   "outputs": [
    {
     "data": {
      "application/vnd.plotly.v1+json": {
       "config": {
        "plotlyServerURL": "https://plot.ly"
       },
       "data": [
        {
         "hoverinfo": "skip",
         "legendgroup": "Deepseek R1 (ABBEL)",
         "line": {
          "width": 0
         },
         "mode": "lines",
         "showlegend": false,
         "type": "scatter",
         "x": [
          0,
          1,
          2,
          3,
          4,
          5,
          6,
          7,
          8,
          9,
          10,
          11,
          12,
          13,
          14,
          15,
          16,
          17,
          18,
          19,
          20
         ],
         "xaxis": "x",
         "y": {
          "bdata": "R7mrVFFMoUCUa7Vo0k+gQA1CfdJF16NAwVUKIz3un0Bm9G2N8E+jQL6aQBsMiKRAFuvLoStgoUAVNEgCrleiQFACQf6V1KBA90r++rzSn0CjF9IqneqgQJg51xjfyJ5AKB+tJgDBoEBVLSNtmuuiQAEhQ28lS6BAimglKqXDoEBLkfo2rjmgQCAIL7bBq55AcmryMhsloEB0iGGJA0igQIXH5UI5J6NA",
          "dtype": "f8"
         },
         "yaxis": "y"
        },
        {
         "fill": "tonexty",
         "fillcolor": "rgba(139, 0, 0, 0.2)",
         "hoverinfo": "skip",
         "legendgroup": "Deepseek R1 (ABBEL)",
         "line": {
          "width": 0
         },
         "mode": "lines",
         "showlegend": false,
         "type": "scatter",
         "x": [
          0,
          1,
          2,
          3,
          4,
          5,
          6,
          7,
          8,
          9,
          10,
          11,
          12,
          13,
          14,
          15,
          16,
          17,
          18,
          19,
          20
         ],
         "xaxis": "x",
         "y": {
          "bdata": "H626ERW0pUAGLuQwxwKjQL+KT/oGrKZAH9V6buGpoUA0pSsMKcumQNz+WH6NsKhAhK7N922Do0C3mITKHpWlQEqXWJuDdqNAuA20tVRNokBd6C3VYnKjQE4H1o00AaFAGvv2GhofpEBD9XsI6cmlQI3C9R6+e6JAPgn3nMx5o0BPCJ9i6yekQGxBQKHkZaFAjpUNzeQiokCMd552fCKmQI/mYZ5BbadA",
          "dtype": "f8"
         },
         "yaxis": "y"
        },
        {
         "legendgroup": "Deepseek R1 (ABBEL)",
         "line": {
          "color": "#8B0000",
          "width": 2
         },
         "mode": "lines+markers",
         "name": "Deepseek R1 (ABBEL)",
         "showlegend": true,
         "type": "scatter",
         "x": {
          "bdata": "AAECAwQFBgcICQoLDA0ODxAREhMU",
          "dtype": "i1"
         },
         "xaxis": "x",
         "y": {
          "bdata": "MzMzMzOAo0DNzMzMTKmhQGZmZmamQaVAAAAAAIDQoEDNzMzMjA2lQM3MzMxMnKZAzczMzMxxokBmZmZmZvajQM3MzMyMJaJAmpmZmVkboUAAAAAAgC6iQA3SIA3SMqBAIQ3SIA1wokBMkc+6wVqkQMdxHMdxY6FA5DiO47geokDNzMzMzDCiQL7iK77iXaBAAAAAAAAkoUAAAAAAQDWjQArXo3A9SqVA",
          "dtype": "f8"
         },
         "yaxis": "y"
        },
        {
         "hoverinfo": "skip",
         "legendgroup": "Deepseek R1 (belief prompting)",
         "line": {
          "width": 0
         },
         "mode": "lines",
         "showlegend": false,
         "type": "scatter",
         "x": [
          0,
          1,
          2,
          3,
          4,
          5,
          6,
          7,
          8,
          9,
          10,
          11,
          12,
          13,
          14,
          15,
          16,
          17,
          18,
          19,
          20
         ],
         "xaxis": "x",
         "y": {
          "bdata": "L4FpTGRyoECVviHv3UGjQI4JWZdFZaFAqyGIeqdnokDPs33Z/DSjQHLdo91RBZ5Ak/U39VEOpEDjMcLIZ+qgQAgauWmBrqBA1FRUMBfuoEDUSD4MQySgQBSVCTR0NqFAIMnUjsgJoUCRQGDQTQ2gQI05Pqw2HKBAwa7c03UWn0BKFVozuzigQLMb3kq7qaJA3FwrmaNonkDHhMGaWh2cQLEU+1TVDZ5A",
          "dtype": "f8"
         },
         "yaxis": "y"
        },
        {
         "fill": "tonexty",
         "fillcolor": "rgba(255, 99, 71, 0.2)",
         "hoverinfo": "skip",
         "legendgroup": "Deepseek R1 (belief prompting)",
         "line": {
          "width": 0
         },
         "mode": "lines",
         "showlegend": false,
         "type": "scatter",
         "x": [
          0,
          1,
          2,
          3,
          4,
          5,
          6,
          7,
          8,
          9,
          10,
          11,
          12,
          13,
          14,
          15,
          16,
          17,
          18,
          19,
          20
         ],
         "xaxis": "x",
         "y": {
          "bdata": "N+X8GYKhokA3DqvdbsmlQNhcDc+gHKRAIatEUiXFpEBlf7VZtlWmQBTe+t2jvqBAB6RhpMdZqEC3Z9fQMR2jQG5IbgzhlKJA1lVWepMco0DoPbQOh1OiQN6FwDe0pKNAJLA4Vm1Yo0C7UG/qcxuiQPcAatcDMKJAkGoZNUHJokB4XfXvcOqiQH2F3zk7zaVA0FtB1x4RoUBnNScIMfmfQJdmc0YGLqNA",
          "dtype": "f8"
         },
         "yaxis": "y"
        },
        {
         "legendgroup": "Deepseek R1 (belief prompting)",
         "line": {
          "color": "#FF6347",
          "width": 2
         },
         "mode": "lines+markers",
         "name": "Deepseek R1 (belief prompting)",
         "showlegend": true,
         "type": "scatter",
         "x": {
          "bdata": "AAECAwQFBgcICQoLDA0ODxAREhMU",
          "dtype": "i1"
         },
         "xaxis": "x",
         "y": {
          "bdata": "MzMzM/OJoUBmZmZmpoWkQDMzMzPzwKJAZmZmZmaWo0CamZmZWcWkQM3MzMxMwZ9AzczMzAw0pkDNzMzMzAOiQDuxEzuxoaFAVVVVVVUFokBeQ3kN5TuhQHkN5TWUbaJAoryG8hoxokCmyGfdYBShQEId1EEdJqFA+OCDDz4qoUBhuacRlpGhQJjQXkJ7O6RAH4XrUbgioEAXXXTRRQueQHh4eHh4GqFA",
          "dtype": "f8"
         },
         "yaxis": "y"
        },
        {
         "hoverinfo": "skip",
         "legendgroup": "Gemini 2.5 Pro (ABBEL)",
         "line": {
          "width": 0
         },
         "mode": "lines",
         "showlegend": false,
         "type": "scatter",
         "x": [
          0,
          1,
          2,
          3,
          4,
          5,
          6,
          7,
          8,
          9,
          10,
          11,
          12,
          13,
          14,
          15,
          16,
          17,
          18,
          19,
          20
         ],
         "xaxis": "x",
         "y": {
          "bdata": "W/wLih/EmUB1Jrn7SaScQPhVvHQuFZ5AYBS5F6N6nUCTgpN8ohyeQFvJbZVDIZ9AU8xCEC/enUBqXrAY0QGfQF7HKIBWvp5A+wompVo9n0DBIFK3fxSfQOgYL8dRdZ9Au8QO8e8tn0BfvAGf0+WdQFH1RMfvsJ1ADDFjukS3nUC4ZCY73g+eQDcHQ+JH8Z5AzV0io/I8m0DcvvoTajmYQOQxOz9pGJhA",
          "dtype": "f8"
         },
         "yaxis": "y"
        },
        {
         "fill": "tonexty",
         "fillcolor": "rgba(0, 100, 0, 0.2)",
         "hoverinfo": "skip",
         "legendgroup": "Gemini 2.5 Pro (ABBEL)",
         "line": {
          "width": 0
         },
         "mode": "lines",
         "showlegend": false,
         "type": "scatter",
         "x": [
          0,
          1,
          2,
          3,
          4,
          5,
          6,
          7,
          8,
          9,
          10,
          11,
          12,
          13,
          14,
          15,
          16,
          17,
          18,
          19,
          20
         ],
         "xaxis": "x",
         "y": {
          "bdata": "pQP0deCLm0BXphPRgjieQG4QqvE3rJ9AbLgTtSnLnkBtfWyDXfWfQCDoFQIraqBAcTN4EQIOoECYnXRAZDygQFGc679Uh6BA6GDTE7mPoECf71YkQJGgQH6OMoh/8qBAvukJ18KaoEC0Wg0UT2agQBFuAKi2LaBAMD4pDgs+oEB1LK9dGlmgQGR83g5c1aBAzTt39qbMnkBgEPkoZQKcQLkRDQt2IqBA",
          "dtype": "f8"
         },
         "yaxis": "y"
        },
        {
         "legendgroup": "Gemini 2.5 Pro (ABBEL)",
         "line": {
          "color": "#006400",
          "width": 2
         },
         "mode": "lines+markers",
         "name": "Gemini 2.5 Pro (ABBEL)",
         "showlegend": true,
         "type": "scatter",
         "x": {
          "bdata": "AAECAwQFBgcICQoLDA0ODxAREhMU",
          "dtype": "i1"
         },
         "xaxis": "x",
         "y": {
          "bdata": "AAAAAAComkBmZmZmZm6dQDMzMzOz4J5AZmZmZuYinkAAAAAAAAmfQM3MzMzM+p9AmpmZmRn9nkDNzMzMTL2fQAAAAACA5p9AMzMzMzMXoEAAAAAAwA2gQHkN5TWUVqBADqbIZ90YoEDkOI7jOFmfQLrooosuBp9AttZaa60Zn0DRXkJ7CWGfQAAAAAAAJ6BAzczMzMwEnUCe53me5x2aQKuqqqqqLpxA",
          "dtype": "f8"
         },
         "yaxis": "y"
        },
        {
         "hoverinfo": "skip",
         "legendgroup": "Gemini 2.5 Pro (belief prompting)",
         "line": {
          "width": 0
         },
         "mode": "lines",
         "showlegend": false,
         "type": "scatter",
         "x": [
          0,
          1,
          2,
          3,
          4,
          5,
          6,
          7,
          8,
          9,
          10,
          11,
          12,
          13,
          14,
          15,
          16,
          17,
          18,
          19,
          20
         ],
         "xaxis": "x",
         "y": {
          "bdata": "mPTrmTLJmUBVydDPsOqcQGrqtSO20JxAksjpJvyHnEDiMg/5lDaeQNLQifSdo55A8zqRbcq2nUDQ78s+2JidQDMQHkvPaJ5AjKhhEZ+Wn0DIOtHw1aqdQOsN+lj4D55ARNpJu+/znUBe/AyPquedQMr9fzWhF55AYaYLWjWYnED3S99DrO+eQCHe0tY0eJ1Asz8rfEjTnkCuTaGsNWmXQEydeEnhN51A",
          "dtype": "f8"
         },
         "yaxis": "y"
        },
        {
         "fill": "tonexty",
         "fillcolor": "rgba(50, 205, 50, 0.2)",
         "hoverinfo": "skip",
         "legendgroup": "Gemini 2.5 Pro (belief prompting)",
         "line": {
          "width": 0
         },
         "mode": "lines",
         "showlegend": false,
         "type": "scatter",
         "x": [
          0,
          1,
          2,
          3,
          4,
          5,
          6,
          7,
          8,
          9,
          10,
          11,
          12,
          13,
          14,
          15,
          16,
          17,
          18,
          19,
          20
         ],
         "xaxis": "x",
         "y": {
          "bdata": "NNjgMpqAm0DfaWJjgjieQJYVStxJnJ5ACNGvcp1HnkC4ZoqgBPifQDGxVJ/KMqBAQfihxWhEn0AwEDTBJzKfQBorpI3LlaBA6ApCpY+roECUgxRr6IKfQMWTwi36jp9A8rmNlW7zn0CIOYdIpuqfQAYIk0njPqBAVcfPXDgLn0D0Fwi9pVegQHm7xsJk5Z9ATKl85qRxoEAuacwugXqaQC5wbOyyz59A",
          "dtype": "f8"
         },
         "yaxis": "y"
        },
        {
         "legendgroup": "Gemini 2.5 Pro (belief prompting)",
         "line": {
          "color": "#32CD32",
          "width": 2
         },
         "mode": "lines+markers",
         "name": "Gemini 2.5 Pro (belief prompting)",
         "showlegend": true,
         "type": "scatter",
         "x": {
          "bdata": "AAECAwQFBgcICQoLDA0ODxAREhMU",
          "dtype": "i1"
         },
         "xaxis": "x",
         "y": {
          "bdata": "ZmZmZuakmkCamZmZmZGdQAAAAACAtp1AzczMzMxnnUDNzMzMTBefQJqZmZmZhJ9AmpmZmZl9nkAAAAAAgGWeQDMzMzMzyp9Al2/5lm87oEAu3/It35aeQNhQXkN5z55AG8prKK/znkDzGsprKOmeQOsGU+SzSp9A27Zt27bRnUDvvffee8+fQM3MzMzMrp5AJUmSJEnbn0Bu27Zt2/GYQL2G8hrKg55A",
          "dtype": "f8"
         },
         "yaxis": "y"
        },
        {
         "hoverinfo": "skip",
         "legendgroup": "Deepseek R1",
         "line": {
          "width": 0
         },
         "mode": "lines",
         "showlegend": false,
         "type": "scatter",
         "x": [
          0,
          1,
          2,
          3,
          4,
          5,
          6,
          7,
          8,
          9,
          10,
          11,
          12,
          13,
          14,
          15,
          16,
          17,
          18,
          19,
          20
         ],
         "xaxis": "x7",
         "y": {
          "bdata": "myHc8B92pEBASNNFsAOvQPUTQmZSwLNArmiL9vBVtEB83Jh+euG0QPEU4Z/wRLNA4ve47GaztEAjmiCJJZ60QJRrgXxeFLNAVpWGfPMCtEDDegOF1ayxQD10KHWtxbFA0UHM4XJ7sUC6y3SGL9mwQDhBmBlXF7VAegXV6hQmq0DTTIrFHPCpQJh4f5rmjaZAUgqwEmKLpUCI1bx5MwqfQAAAAAAAAPh/",
          "dtype": "f8"
         },
         "yaxis": "y7"
        },
        {
         "fill": "tonexty",
         "fillcolor": "rgba(255, 182, 193, 0.2)",
         "hoverinfo": "skip",
         "legendgroup": "Deepseek R1",
         "line": {
          "width": 0
         },
         "mode": "lines",
         "showlegend": false,
         "type": "scatter",
         "x": [
          0,
          1,
          2,
          3,
          4,
          5,
          6,
          7,
          8,
          9,
          10,
          11,
          12,
          13,
          14,
          15,
          16,
          17,
          18,
          19,
          20
         ],
         "xaxis": "x7",
         "y": {
          "bdata": "y0SKdcbEp0CsKOOptAyzQAvsvZltxLdA7DAOoyjct0CEI2eBRcu5QHVRhcY18rZAUjt6RkySuUBnA7gAeOy6QKIoVtT/IbdAjqMHZ0XkuUAbAew4IjK1QOe3zr8UgbZAF2G/TEfet0ACu32UmvC3QNz5GPrjIb9A7SdANaCjtUBeS1dkY8yzQLIZpa6rrq9A1/qn9k58tEA8lSFD5riqQAAAAAAAAPh/",
          "dtype": "f8"
         },
         "yaxis": "y7"
        },
        {
         "legendgroup": "Deepseek R1",
         "line": {
          "color": "#FFB6C1",
          "width": 2
         },
         "mode": "lines+markers",
         "name": "Deepseek R1",
         "showlegend": true,
         "type": "scatter",
         "x": {
          "bdata": "AAECAwQFBgcICQoLDA0ODxAREhMU",
          "dtype": "i1"
         },
         "xaxis": "x7",
         "y": {
          "bdata": "MzMzM3MdpkBmZmZmRkexQAAAAABgwrVAzczMzAwZtkAAAAAAYFa3QDMzMzOTG7VAmpmZmdkit0DFTuzETsW3QBvKaygvG7VAchzHcZzztkDvvffee2+zQBKWexphI7RAdNFFF92stEBeQ3kN5WS0QIqd2ImdHLpAVVVVVVWbsUDkOI7jOGKwQCVJkiRJHqtAAAAAAABCr0AAAAAAAB+lQAAAAAAATKdA",
          "dtype": "f8"
         },
         "yaxis": "y7"
        },
        {
         "hoverinfo": "skip",
         "legendgroup": "Deepseek R1 (ABBEL)",
         "line": {
          "width": 0
         },
         "mode": "lines",
         "showlegend": false,
         "type": "scatter",
         "x": [
          0,
          1,
          2,
          3,
          4,
          5,
          6,
          7,
          8,
          9,
          10,
          11,
          12,
          13,
          14,
          15,
          16,
          17,
          18,
          19,
          20
         ],
         "xaxis": "x7",
         "y": {
          "bdata": "ADMNJxhbs0DE1VH/HZO1QBCk1etQ2LVArP1ubUd/tEAeJW1Ypv22QLjxLEqkk7dA2T1WN3hMtkACxJOxaGW1QOuTv7M7o7RADSJZksDCtECGythOMMm1QCIpVsWpqbVA1J6zDeoytEBxkZ6NzRK1QJYCf42tD7ZAdpkgTETJs0DZkcjCPKm1QBFcyBNocbNAMR9zSxJptED0QHV+tiC1QMYE/UMZO7RA",
          "dtype": "f8"
         },
         "yaxis": "y7"
        },
        {
         "fill": "tonexty",
         "fillcolor": "rgba(139, 0, 0, 0.2)",
         "hoverinfo": "skip",
         "legendgroup": "Deepseek R1 (ABBEL)",
         "line": {
          "width": 0
         },
         "mode": "lines",
         "showlegend": false,
         "type": "scatter",
         "x": [
          0,
          1,
          2,
          3,
          4,
          5,
          6,
          7,
          8,
          9,
          10,
          11,
          12,
          13,
          14,
          15,
          16,
          17,
          18,
          19,
          20
         ],
         "xaxis": "x7",
         "y": {
          "bdata": "AM3y2CdctkAI93rNLli4QFbCkHrVWLhA7psqLJIyt0AWDsbajEy6QHxBBumOKbtA8452lRTKuUD+O2xOV7i4QK8F2uUdR7dAv6pzOsx/uEAUz8BKaYi4QE7QQKpPmbhARgWODLpot0BzItCid3m3QKKLZKtgK7pA/IKmJdj2tUC5koDP59+4QO+jN+yXbLZAFfjpKL+Wt0AMv4qBCSq5QAbIz4izZbhA",
          "dtype": "f8"
         },
         "yaxis": "y7"
        },
        {
         "legendgroup": "Deepseek R1 (ABBEL)",
         "line": {
          "color": "#8B0000",
          "width": 2
         },
         "mode": "lines+markers",
         "name": "Deepseek R1 (ABBEL)",
         "showlegend": false,
         "type": "scatter",
         "x": {
          "bdata": "AAECAwQFBgcICQoLDA0ODxAREhMU",
          "dtype": "i1"
         },
         "xaxis": "x7",
         "y": {
          "bdata": "AAAAAKDbtEBmZmZmpvW2QDMzMzOTGLdAzczMzOzYtUCamZmZGaW4QJqZmZmZXrlAZmZmZkYLuEAAAAAA4A63QM3MzMws9bVAZmZmZkahtkDNzMzMzCi3QLh8y7d8IbdADdIgDdLNtUDyWTeYIka2QBzHcRyHHbhAOY7jOA7gtEBJkiRJkkS3QAAAAAAA77RAo4suuuj/tUAAAAAAYCW3QGZmZmZmULZA",
          "dtype": "f8"
         },
         "yaxis": "y7"
        },
        {
         "hoverinfo": "skip",
         "legendgroup": "Deepseek R1 (belief prompting)",
         "line": {
          "width": 0
         },
         "mode": "lines",
         "showlegend": false,
         "type": "scatter",
         "x": [
          0,
          1,
          2,
          3,
          4,
          5,
          6,
          7,
          8,
          9,
          10,
          11,
          12,
          13,
          14,
          15,
          16,
          17,
          18,
          19,
          20
         ],
         "xaxis": "x7",
         "y": {
          "bdata": "5Tb2aLeysUC87hLL3QS2QMH1qWHwS7VAlq0L1Qq7tUAoQm+9zgC2QJzakZI2obRAikRfreXvtkCdZhtjogCzQCjoH9sxGrRAAM5VyT6ds0AknQQGev+yQBWxwHvRY7NATwC0XqQctEAV7VauOnqyQEtde8W2XLNADOL5yQOHsUAlipxkFAyxQKqzRWDnzbVAQHS+SpOXsUBsBnmatBOvQFAqw00JCrBA",
          "dtype": "f8"
         },
         "yaxis": "y7"
        },
        {
         "fill": "tonexty",
         "fillcolor": "rgba(255, 99, 71, 0.2)",
         "hoverinfo": "skip",
         "legendgroup": "Deepseek R1 (belief prompting)",
         "line": {
          "width": 0
         },
         "mode": "lines",
         "showlegend": false,
         "type": "scatter",
         "x": [
          0,
          1,
          2,
          3,
          4,
          5,
          6,
          7,
          8,
          9,
          10,
          11,
          12,
          13,
          14,
          15,
          16,
          17,
          18,
          19,
          20
         ],
         "xaxis": "x7",
         "y": {
          "bdata": "G8kJl0gWs0DeqobO+we6QHM9idGCbbhABOyNxI7uuEDYvZBCceG4QMqL1NMv47dAqu7Thc3pukCXzBfQEC61QJxmzOkcZLdAdpTRrCPOtUC0s1k9/2+1QI0LxnZJtbZAlzXgeKx2tkC7zWpmvqq1QP80qYPbP7dADHt6B0KmtECLUjektie0QIbtdyQP47lAtrSdRC+UtkDi2TeEa5CxQLDVPLL2ObNA",
          "dtype": "f8"
         },
         "yaxis": "y7"
        },
        {
         "legendgroup": "Deepseek R1 (belief prompting)",
         "line": {
          "color": "#FF6347",
          "width": 2
         },
         "mode": "lines+markers",
         "name": "Deepseek R1 (belief prompting)",
         "showlegend": false,
         "type": "scatter",
         "x": {
          "bdata": "AAECAwQFBgcICQoLDA0ODxAREhMU",
          "dtype": "i1"
         },
         "xaxis": "x7",
         "y": {
          "bdata": "AAAAAIBkskDNzMzMbAa4QJqZmZm53LZAzczMzMxUt0AAAAAAIHG3QDMzMzMzQrZAmpmZmdnsuECamZmZWRe0QGIndmInv7VAO7ETO7G1tEBsKK+hvDe0QFFeQ3mNDLVA8xrKa6hJtUBo3WCKfBK0QCVJkiRJTrVAjC666KIWs0BY7mmE5ZmyQJjQXkJ72LdAexSuR+EVtECMLrroIo2wQAAAAAAAorFA",
          "dtype": "f8"
         },
         "yaxis": "y7"
        },
        {
         "hoverinfo": "skip",
         "legendgroup": "Gemini 2.5 Pro",
         "line": {
          "width": 0
         },
         "mode": "lines",
         "showlegend": false,
         "type": "scatter",
         "x": [
          0,
          1,
          2,
          3,
          4,
          5,
          6,
          7,
          8,
          9,
          10,
          11,
          12,
          13,
          14,
          15,
          16,
          17,
          18,
          19,
          20
         ],
         "xaxis": "x7",
         "y": {
          "bdata": "EmAXpMmMnUCPZ/P/M7CcQAQ53iYmZZ5A+i+khKEwn0BWf8fpByigQD29tWOamaBAQuWXH9FEokCLC6PJyMaiQK1Lg3nxLaNAJkh3YIvjo0D9D14uc2WjQIzzmAuUBKNAmkXWGe2mo0C0ihCqkiOkQKzstjvMa6RA1jDv7C2+pECfZywkPSykQNbXdPX9MKZAqK1GzfqPpUDjqYpHJ2qnQBKCWrHFMaVA",
          "dtype": "f8"
         },
         "yaxis": "y7"
        },
        {
         "fill": "tonexty",
         "fillcolor": "rgba(144, 238, 144, 0.2)",
         "hoverinfo": "skip",
         "legendgroup": "Gemini 2.5 Pro",
         "line": {
          "width": 0
         },
         "mode": "lines",
         "showlegend": false,
         "type": "scatter",
         "x": [
          0,
          1,
          2,
          3,
          4,
          5,
          6,
          7,
          8,
          9,
          10,
          11,
          12,
          13,
          14,
          15,
          16,
          17,
          18,
          19,
          20
         ],
         "xaxis": "x7",
         "y": {
          "bdata": "7p/oWzbrn0DX/nJmMs6eQEuwXbm5caBANxvhcGKNoEB2TQXjRDOhQMNCSpxlhKFAvhpo4C6Eo0CpJ5BpahCkQLka4+x0wqRApoRVbEF8pUA3I9UEwKKkQA6mAI4FlKRAtKbuNP8ZpUB6VOKDTG+lQEZBKLdh36VAzIuXBe3dpUBhmNPbwrmlQAJ56U175KdAkOrb0XoTp0CZLINeobGpQO59pU46GqdA",
          "dtype": "f8"
         },
         "yaxis": "y7"
        },
        {
         "legendgroup": "Gemini 2.5 Pro",
         "line": {
          "color": "#90EE90",
          "width": 2
         },
         "mode": "lines+markers",
         "name": "Gemini 2.5 Pro",
         "showlegend": true,
         "type": "scatter",
         "x": {
          "bdata": "AAECAwQFBgcICQoLDA0ODxAREhMU",
          "dtype": "i1"
         },
         "xaxis": "x7",
         "y": {
          "bdata": "AAAAAAC8nkAzMzMzM7+dQM3MzMxMpJ9AmpmZmdkSoEBmZmZmpq2gQAAAAAAAD6FAAAAAAIDkokCamZmZmWujQDMzMzMz+KNAZmZmZuavpECamZmZGQSkQM3MzMxMzKNAJ3ZiJ3ZgpECXb/mWb8mkQPmWb/mWJaVAUV5DeQ1OpUAAAAAAAPOkQGwor6G8CqdAHEyRz7pRpkA+6wZT5I2oQAAAAAAAJqZA",
          "dtype": "f8"
         },
         "yaxis": "y7"
        },
        {
         "hoverinfo": "skip",
         "legendgroup": "Gemini 2.5 Pro (ABBEL)",
         "line": {
          "width": 0
         },
         "mode": "lines",
         "showlegend": false,
         "type": "scatter",
         "x": [
          0,
          1,
          2,
          3,
          4,
          5,
          6,
          7,
          8,
          9,
          10,
          11,
          12,
          13,
          14,
          15,
          16,
          17,
          18,
          19,
          20
         ],
         "xaxis": "x7",
         "y": {
          "bdata": "K6oKMosyq0DgjddROTyrQCpe3oMP8q1AMR2DFNLUrUCV9XefmzqtQIwi6Lw/Cq1AuwIHw2xyrUABrjVCgPatQIrx/aNZi61ApFRyi4/BrUB5V8odkCmtQK/IUzOZPK1AxgA3qXEMrUBejJ8GynesQCSxZIPTDqxA+6fwV4VLrEBpkwQFDnysQL28RnqlHaxAXhTwhV46q0Cmtee2tvKqQOPNMu8GTq9A",
          "dtype": "f8"
         },
         "yaxis": "y7"
        },
        {
         "fill": "tonexty",
         "fillcolor": "rgba(0, 100, 0, 0.2)",
         "hoverinfo": "skip",
         "legendgroup": "Gemini 2.5 Pro (ABBEL)",
         "line": {
          "width": 0
         },
         "mode": "lines",
         "showlegend": false,
         "type": "scatter",
         "x": [
          0,
          1,
          2,
          3,
          4,
          5,
          6,
          7,
          8,
          9,
          10,
          11,
          12,
          13,
          14,
          15,
          16,
          17,
          18,
          19,
          20
         ],
         "xaxis": "x7",
         "y": {
          "bdata": "oSLCmsGTrEC6C8JHYM+sQNahIXxwXq9AaXwWhcdNr0CfPbuTF7euQKgQS3ZzIq5A35aS1qzqrkAzhf3wsoOvQHYOAlymXK9A9kQnDgoDr0AhQs97CaWuQDdtQKS3+65AOv/IVo4vrkCic2D5NTWuQH7ayTYVtK1A49P+ZXJbrkDZ5wToF2yuQGu5G63QFK5AmBRsCWQLrkDU6P/C52iuQGTuu91RsLJA",
          "dtype": "f8"
         },
         "yaxis": "y7"
        },
        {
         "legendgroup": "Gemini 2.5 Pro (ABBEL)",
         "line": {
          "color": "#006400",
          "width": 2
         },
         "mode": "lines+markers",
         "name": "Gemini 2.5 Pro (ABBEL)",
         "showlegend": false,
         "type": "scatter",
         "x": {
          "bdata": "AAECAwQFBgcICQoLDA0ODxAREhMU",
          "dtype": "i1"
         },
         "xaxis": "x7",
         "y": {
          "bdata": "ZmZmZibjq0DNzMzMzAWsQAAAAABAqK5AzczMzEyRrkCamZmZ2fitQJqZmZlZlq1AzczMzIwurkCamZmZGb2uQAAAAAAAdK5AzczMzExirkDNzMzMTOetQPMaymsoHK5AAAAAAACerUAAAAAAgFatQNFFF1104axA77333ntTrUChvYT2EnStQBQ7sRM7Ga1AexSuR+GirEA9z/M8z62sQKuqqqqqK7FA",
          "dtype": "f8"
         },
         "yaxis": "y7"
        },
        {
         "hoverinfo": "skip",
         "legendgroup": "Gemini 2.5 Pro (belief prompting)",
         "line": {
          "width": 0
         },
         "mode": "lines",
         "showlegend": false,
         "type": "scatter",
         "x": [
          0,
          1,
          2,
          3,
          4,
          5,
          6,
          7,
          8,
          9,
          10,
          11,
          12,
          13,
          14,
          15,
          16,
          17,
          18,
          19,
          20
         ],
         "xaxis": "x7",
         "y": {
          "bdata": "y2f9PvzrqkCRSL6xZLisQFxix4r2oK1Ad35IKghyrEDYNoVcJNutQE704JuhWK1Awnczo2bzrUAm2aSX8M+tQCBy/5UVp65A7opOjHoGr0DRkVLkLnGtQGLprGB7Z61At99eYFvLrUDN9sXqxVWuQOqW3Rc2E65A1V07yr/prEBHAndMWoytQNkxbbJncK1Ai5Pj3yCtrUCge1fjjyOrQG3cihVFt6xA",
          "dtype": "f8"
         },
         "yaxis": "y7"
        },
        {
         "fill": "tonexty",
         "fillcolor": "rgba(50, 205, 50, 0.2)",
         "hoverinfo": "skip",
         "legendgroup": "Gemini 2.5 Pro (belief prompting)",
         "line": {
          "width": 0
         },
         "mode": "lines",
         "showlegend": false,
         "type": "scatter",
         "x": [
          0,
          1,
          2,
          3,
          4,
          5,
          6,
          7,
          8,
          9,
          10,
          11,
          12,
          13,
          14,
          15,
          16,
          17,
          18,
          19,
          20
         ],
         "xaxis": "x7",
         "y": {
          "bdata": "acs19DZNrEA7hA4baFeuQHBqBUJWzK5AvbTqCKunrUAoyXqjW0GvQBhyhcrEmq5ApO4yw/8zr0B0wPQBqWGvQCN6M2joTrBAR6A0eKhMsECl0NSRM6KuQO50lhiSn65AjZmuhNpwr0AZP87sityvQJqSFEIBoa9AOYxlRCqHrkBv1OMeU+2uQBW9gTyHLq9Av/5AaXFIr0DyqPGulHStQMm3TDsZMK9A",
          "dtype": "f8"
         },
         "yaxis": "y7"
        },
        {
         "legendgroup": "Gemini 2.5 Pro (belief prompting)",
         "line": {
          "color": "#32CD32",
          "width": 2
         },
         "mode": "lines+markers",
         "name": "Gemini 2.5 Pro (belief prompting)",
         "showlegend": false,
         "type": "scatter",
         "x": {
          "bdata": "AAECAwQFBgcICQoLDA0ODxAREhMU",
          "dtype": "i1"
         },
         "xaxis": "x7",
         "y": {
          "bdata": "mpmZmZmcq0BmZmZm5oetQGZmZmamNq5AmpmZmdkMrUAAAAAAQI6uQDMzMzOz+a1AMzMzM7OTrkDNzMzMzJiuQDMzMzNzoq9AvuVbvuXPr0A7sRM7sQmuQCivobyGA65AoryG8hqerkDzGsprKBmvQMIU+awb2q5AB3VQB3W4rUBba6211jyuQHd3d3d3T65AJUmSJMl6rkBJkiRJEkysQBvKayiv861A",
          "dtype": "f8"
         },
         "yaxis": "y7"
        },
        {
         "hoverinfo": "skip",
         "legendgroup": "Deepseek R1 (ABBEL)",
         "line": {
          "width": 0
         },
         "mode": "lines",
         "showlegend": false,
         "type": "scatter",
         "x": [
          0,
          1,
          2,
          3,
          4,
          5,
          6,
          7,
          8,
          9,
          10,
          11,
          12,
          13,
          14,
          15,
          16,
          17,
          18,
          19,
          20
         ],
         "xaxis": "x2",
         "y": {
          "bdata": "6ru7UCYMkkDHmAwsbOGTQPfbuFahX5VAfD/fJTDblUDut7k4Pe+ZQBZT+2gIBJdAGQIfELoDmkBBBB+Lq/KWQIaCVJIOOZpAvxZP9Fq7lkDigl+1ldGZQNz4P6KDm5lA6LchvqxfmkDU5E3HDV6YQH/BVks7UJhA56k7QUbBl0BMPtOdouyWQOytPNAaHJtAeH+QXrGrnkCQJXOaBLOZQBQWu8Q+o55A",
          "dtype": "f8"
         },
         "yaxis": "y2"
        },
        {
         "fill": "tonexty",
         "fillcolor": "rgba(139, 0, 0, 0.2)",
         "hoverinfo": "skip",
         "legendgroup": "Deepseek R1 (ABBEL)",
         "line": {
          "width": 0
         },
         "mode": "lines",
         "showlegend": false,
         "type": "scatter",
         "x": [
          0,
          1,
          2,
          3,
          4,
          5,
          6,
          7,
          8,
          9,
          10,
          11,
          12,
          13,
          14,
          15,
          16,
          17,
          18,
          19,
          20
         ],
         "xaxis": "x2",
         "y": {
          "bdata": "sN3dSHMxlECfzVk6+qSWQD1XetyRRptAJDakA8L2l0BAdXP076meQDb4T+JCt5tAwWJ0PXwFn0C/++B0lBqaQHp9q23x2p9AyXE5lC1FmkAwExxlywefQAC+LTkzbJ1A8Fx9hGJyoEDK8zvWyhecQJV5Wsj/WJxAGVbEvrlenED62InWLkWbQEiF9mIYHZ9AePPqg1rSpUDWQPPLYY2dQJAOPDf6SKJA",
          "dtype": "f8"
         },
         "yaxis": "y2"
        },
        {
         "legendgroup": "Deepseek R1 (ABBEL)",
         "line": {
          "color": "#8B0000",
          "width": 2
         },
         "mode": "lines+markers",
         "name": "Deepseek R1 (ABBEL)",
         "showlegend": false,
         "type": "scatter",
         "x": {
          "bdata": "AAECAwQFBgcICQoLDA0ODxAREhMU",
          "dtype": "i1"
         },
         "xaxis": "x2",
         "y": {
          "bdata": "zczMzMwek0AzMzMzM0OVQJqZmZkZU5hA0LrBFPnolkCXlpaWlkycQKalpaWlXZlAbbLJJpuEnEAAAAAAoIaYQAAAAAAACp1ARERERESAmEAJyz2NsGycQG7btm3bg5tA5DiO4ziinUBP7MRO7DqaQIqd2ImdVJpAAAAAAAAQmkCjiy666BiZQJqZmZmZHJ1AmpmZmRmUokAzMzMzM6CbQM3MzMxMzaBA",
          "dtype": "f8"
         },
         "yaxis": "y2"
        },
        {
         "hoverinfo": "skip",
         "legendgroup": "Deepseek R1 (belief prompting)",
         "line": {
          "width": 0
         },
         "mode": "lines",
         "showlegend": false,
         "type": "scatter",
         "x": [
          0,
          1,
          2,
          3,
          4,
          5,
          6,
          7,
          8,
          9,
          10,
          11,
          12,
          13,
          14,
          15,
          16,
          17,
          18,
          19,
          20
         ],
         "xaxis": "x2",
         "y": {
          "bdata": "uLIv32C2kkCmu+pMzeuWQM70vMDmhpZAlnu41cKvlkCVNz5hNdqUQJxmwLB16ZxAuqt0CrzAl0DFn+x7HjaYQIaiVOR0dplAgUn6m10SlkDVW5nY506WQFhgZItSX5ZAKD4mHU7xm0B46fr920OZQGJZMpar5plAjRoVeGX7mUA4mqTlX8aWQKsm0HUETJlAQgQMyJu9mUCGr2TUrGOVQHCLydSAvZhA",
          "dtype": "f8"
         },
         "yaxis": "y2"
        },
        {
         "fill": "tonexty",
         "fillcolor": "rgba(255, 99, 71, 0.2)",
         "hoverinfo": "skip",
         "legendgroup": "Deepseek R1 (belief prompting)",
         "line": {
          "width": 0
         },
         "mode": "lines",
         "showlegend": false,
         "type": "scatter",
         "x": [
          0,
          1,
          2,
          3,
          4,
          5,
          6,
          7,
          8,
          9,
          10,
          11,
          12,
          13,
          14,
          15,
          16,
          17,
          18,
          19,
          20
         ],
         "xaxis": "x2",
         "y": {
          "bdata": "4uZpujhGl0DAqnsZmU+bQCQ5IjJHmJlAyMfANyI2mUAVc2xJdSyYQLLMnycFZKJA9jBf/g4Vm0CZoo6NzkebQHpdqxuLi59AOZ+o79CjmUATR/JV0jWbQMRmDZF0nptA7OBs8ZgxoECIFgUCpLWbQNLZAJ2H/J1Aly59rOMWnUBSAzSkPQKcQGkU4Z02jZ9A3/35GzIGoEAk+0XW/WiZQHttzshyHqFA",
          "dtype": "f8"
         },
         "yaxis": "y2"
        },
        {
         "legendgroup": "Deepseek R1 (belief prompting)",
         "line": {
          "color": "#FF6347",
          "width": 2
         },
         "mode": "lines+markers",
         "name": "Deepseek R1 (belief prompting)",
         "showlegend": false,
         "type": "scatter",
         "x": {
          "bdata": "AAECAwQFBgcICQoLDA0ODxAREhMU",
          "dtype": "i1"
         },
         "xaxis": "x2",
         "y": {
          "bdata": "zczMzEz+lEAzMzMzsx2ZQPmWb/mWD5hAr6G8hvLyl0BVVVVVVYOWQAAAAABgbKBAWO5phOVqmUAvob2E9r6ZQAAAAAAAgZxAXXTRRRfbl0B00UUXXcKYQI7jOI7j/phAAAAAAEAqnkAAAAAAwHyaQJqZmZmZ8ZtAkiRJkiSJm0DFTuzETmSZQIqd2ImdbJxAAAAAAADlnEBVVVVVVWaXQDMzMzMzfZ1A",
          "dtype": "f8"
         },
         "yaxis": "y2"
        },
        {
         "hoverinfo": "skip",
         "legendgroup": "Gemini 2.5 Pro (ABBEL)",
         "line": {
          "width": 0
         },
         "mode": "lines",
         "showlegend": false,
         "type": "scatter",
         "x": [
          0,
          1,
          2,
          3,
          4,
          5,
          6,
          7,
          8,
          9,
          10,
          11,
          12,
          13,
          14,
          15,
          16,
          17,
          18,
          19,
          20
         ],
         "xaxis": "x2",
         "y": {
          "bdata": "UNFQsFj0lEB+aw1avdKTQDSpQ9ZMV5VAujecnKmjl0BuSR+7Oj+XQIBRiaSPG5hAnIiouvcBmEAfDQSU+teWQOFJSUk4KJhAGaDUH7hJl0BlYZkW8caaQATKx9lnEJhAmDmnA27umkBwAC2EKDqZQOhPpB2OoppAIy+ehw9KmkCq07xdDZqaQFRJe8+AjZlAa+jWfqsfoEB0EFQl976bQMz9CM0ECpxA",
          "dtype": "f8"
         },
         "yaxis": "y2"
        },
        {
         "fill": "tonexty",
         "fillcolor": "rgba(0, 100, 0, 0.2)",
         "hoverinfo": "skip",
         "legendgroup": "Gemini 2.5 Pro (ABBEL)",
         "line": {
          "width": 0
         },
         "mode": "lines",
         "showlegend": false,
         "type": "scatter",
         "x": [
          0,
          1,
          2,
          3,
          4,
          5,
          6,
          7,
          8,
          9,
          10,
          11,
          12,
          13,
          14,
          15,
          16,
          17,
          18,
          19,
          20
         ],
         "xaxis": "x2",
         "y": {
          "bdata": "5GHigtpglkAcLow/3G6VQIjdrkR9RJdAXCdVebWFmUBUKTBo8ZeZQGxzxUc1Z5pAmKqKeDvxmUBHWWLSayyZQHkQEREiEppA518r4EfRmUBnazO221mdQFKLjXvtPJtA9qmRinVan0B0OGFfEHSbQBiwW+Jx9JxA3dBhePAYnkBWLEOi8n2eQKy2hDB/eZ1AlRcpgVSOokDG91VtBOigQGMToOKPc6FA",
          "dtype": "f8"
         },
         "yaxis": "y2"
        },
        {
         "legendgroup": "Gemini 2.5 Pro (ABBEL)",
         "line": {
          "color": "#006400",
          "width": 2
         },
         "mode": "lines+markers",
         "name": "Gemini 2.5 Pro (ABBEL)",
         "showlegend": false,
         "type": "scatter",
         "x": {
          "bdata": "AAECAwQFBgcICQoLDA0ODxAREhMU",
          "dtype": "i1"
         },
         "xaxis": "x2",
         "y": {
          "bdata": "mpmZmZmqlUDNzMzMzKCUQF5DeQ3lTZZAi6/4iq+UmEBhuacRlmuYQHZiJ3ZiQZlAmpmZmZn5mEAzMzMzMwKYQC0tLS0tHZlAAAAAAICNmEBmZmZmZhCcQKuqqqqqpplAx3Ecx3EknUByHMdxHFeaQAAAAACAy5tAAAAAAIAxnEAAAAAAAIycQAAAAACAg5tAAAAAAABXoUAAAAAAgMeeQEmSJEmSeJ9A",
          "dtype": "f8"
         },
         "yaxis": "y2"
        },
        {
         "hoverinfo": "skip",
         "legendgroup": "Gemini 2.5 Pro (belief prompting)",
         "line": {
          "width": 0
         },
         "mode": "lines",
         "showlegend": false,
         "type": "scatter",
         "x": [
          0,
          1,
          2,
          3,
          4,
          5,
          6,
          7,
          8,
          9,
          10,
          11,
          12,
          13,
          14,
          15,
          16,
          17,
          18,
          19,
          20
         ],
         "xaxis": "x2",
         "y": {
          "bdata": "KCbx6RLclUBuFYC5vDuUQIQPnmUFcpVAcM9l8hM4lUDU7zNwkw6XQA86j83GQJhAba5L1NJMl0DrvfjFiTaYQD7yE3BOpJdA3RYRwhRsmkDXhuLMkbGYQP1rNZl+2JpAj95SAjHam0B89Lop6OOaQJk5ySCfPJlA1ZoCL8VKmUDzF2VgbqCYQIwFFhBcoplAFpXXOU6TmUASBZdE3RaZQBUqanIjZ5pA",
          "dtype": "f8"
         },
         "yaxis": "y2"
        },
        {
         "fill": "tonexty",
         "fillcolor": "rgba(50, 205, 50, 0.2)",
         "hoverinfo": "skip",
         "legendgroup": "Gemini 2.5 Pro (belief prompting)",
         "line": {
          "width": 0
         },
         "mode": "lines",
         "showlegend": false,
         "type": "scatter",
         "x": [
          0,
          1,
          2,
          3,
          4,
          5,
          6,
          7,
          8,
          9,
          10,
          11,
          12,
          13,
          14,
          15,
          16,
          17,
          18,
          19,
          20
         ],
         "xaxis": "x2",
         "y": {
          "bdata": "pKbb4rkpl0AshBng3L+VQCAyfD48GJdACKkShmT4lkAa/7p+W9CYQDceX5y9zJlAu61D7iKUmUA3TWACuc+aQMIN7I+xNZpAXyUreicAnUApeR0zbn6bQHFvgdRcfp5Au7PRRmEOn0Bw0JPC3MqcQHsB6PKbnJxAK2X90DoHnEAN6JqfkcOaQDxsBrcVyp1AstxEjSMZnUDu+mi7IsWeQKFDcURKRJ9A",
          "dtype": "f8"
         },
         "yaxis": "y2"
        },
        {
         "legendgroup": "Gemini 2.5 Pro (belief prompting)",
         "line": {
          "color": "#32CD32",
          "width": 2
         },
         "mode": "lines+markers",
         "name": "Gemini 2.5 Pro (belief prompting)",
         "showlegend": false,
         "type": "scatter",
         "x": {
          "bdata": "AAECAwQFBgcICQoLDA0ODxAREhMU",
          "dtype": "i1"
         },
         "xaxis": "x2",
         "y": {
          "bdata": "ZmZmZuaClkDNzMzMzP2UQNIgDdIgRZZAPDw8PDwYlkB3d3d3d++XQCMs9zTCBplAFK5H4XpwmECRhSxkIYOZQAAAAAAA7ZhAHh4eHh62m0AAAAAAABiaQLdt27Ztq5xAJUmSJEl0nUB2Yid2YtebQIqd2Imd7JpAAAAAAACpmkAAAAAAALKZQOQ4juM4tptA5DiO4zhWm0AAAAAAAO6bQNu2bdu21ZxA",
          "dtype": "f8"
         },
         "yaxis": "y2"
        },
        {
         "hoverinfo": "skip",
         "legendgroup": "Deepseek R1",
         "line": {
          "width": 0
         },
         "mode": "lines",
         "showlegend": false,
         "type": "scatter",
         "x": [
          0,
          1,
          2,
          3,
          4,
          5,
          6,
          7,
          8,
          9,
          10,
          11,
          12,
          13,
          14,
          15,
          16,
          17,
          18,
          19,
          20
         ],
         "xaxis": "x8",
         "y": {
          "bdata": "NINNZYEFmkA5XJUZcCmbQByRFF3SwptAAqMJsQ2UnkBiKF2k6yKnQBkbYjI/66RAXqwn5k/4okAYeZPzP2aiQKGe24IxA6FAO7FTT8F3pUBDnXhzUDemQPynJuGxZ6VAGVmLD/1+oUBPpuFwS0mpQIh6D6JT1qpAupPQDEZ5p0DjrksBPYegQLpJi8UYD6BAwa/C2Yban0Aq3Sai5T+gQNgcMJJraJhA",
          "dtype": "f8"
         },
         "yaxis": "y8"
        },
        {
         "fill": "tonexty",
         "fillcolor": "rgba(255, 182, 193, 0.2)",
         "hoverinfo": "skip",
         "legendgroup": "Deepseek R1",
         "line": {
          "width": 0
         },
         "mode": "lines",
         "showlegend": false,
         "type": "scatter",
         "x": [
          0,
          1,
          2,
          3,
          4,
          5,
          6,
          7,
          8,
          9,
          10,
          11,
          12,
          13,
          14,
          15,
          16,
          17,
          18,
          19,
          20
         ],
         "xaxis": "x8",
         "y": {
          "bdata": "zKS/syUmoEBKuJtZrhGhQGTlVMTEVaNAO7VtQsN9pECW3e30eyWwQMdorQu5Ia5AolPYGZClp0A60ZWxVGyoQBXP/zM8EadAu3cIQAGKrEDC0k4fIOewQBy1TfCTr69AgUAOipzfqEC8ZR0rkzyzQJ4k2hC4MrNAI7aX+VwFtEAdUbT+gtSpQEa2dDqnRKVAH6gek3zspUA8iT/EgDqnQEtfw+03AaJA",
          "dtype": "f8"
         },
         "yaxis": "y8"
        },
        {
         "legendgroup": "Deepseek R1",
         "line": {
          "color": "#FFB6C1",
          "width": 2
         },
         "mode": "lines+markers",
         "name": "Deepseek R1",
         "showlegend": false,
         "type": "scatter",
         "x": {
          "bdata": "AAECAwQFBgcICQoLDA0ODxAREhMU",
          "dtype": "i1"
         },
         "xaxis": "x8",
         "y": {
          "bdata": "ZmZmZuYonUBmZmZmZqaeQPmWb/mWm6BAXkN5DeXjoUDHcRzH8barQPDBBx98hqlAAAAAAPBOpUAppZRSSmmlQNu2bds2CqRAexSuR+EAqUBkIQtZyAKsQIwuuuiii6pAzczMzEwvpUDkOI7jOOGvQPHw8PDwTrBAAAAAAADCr0AAAAAA4C2lQAAAAADgqaJAAAAAAODsokAzMzMzM72jQLdt27ZtNZ5A",
          "dtype": "f8"
         },
         "yaxis": "y8"
        },
        {
         "hoverinfo": "skip",
         "legendgroup": "Deepseek R1 (ABBEL)",
         "line": {
          "width": 0
         },
         "mode": "lines",
         "showlegend": false,
         "type": "scatter",
         "x": [
          0,
          1,
          2,
          3,
          4,
          5,
          6,
          7,
          8,
          9,
          10,
          11,
          12,
          13,
          14,
          15,
          16,
          17,
          18,
          19,
          20
         ],
         "xaxis": "x8",
         "y": {
          "bdata": "eJTdhtiipUC4vNaR9sOoQEntFQJyLrBATid9vYMKsUDlkETnrkmzQHCPQfYz7q9AlGNtFH+sr0B6l24escGvQBOGGBl337JAJfVBRUbdqkCzaVnF3eaxQPRunIGkoq9AWR8YkdkPs0BWp7RJ2TCtQNbOK1UTFq9A0JO72tkeqkBr6hLm9tuwQFsOhQAzBLBAepdN2nTxsEDkCGxoYpmxQJguMzvrTLJA",
          "dtype": "f8"
         },
         "yaxis": "y8"
        },
        {
         "fill": "tonexty",
         "fillcolor": "rgba(139, 0, 0, 0.2)",
         "hoverinfo": "skip",
         "legendgroup": "Deepseek R1 (ABBEL)",
         "line": {
          "width": 0
         },
         "mode": "lines",
         "showlegend": false,
         "type": "scatter",
         "x": [
          0,
          1,
          2,
          3,
          4,
          5,
          6,
          7,
          8,
          9,
          10,
          11,
          12,
          13,
          14,
          15,
          16,
          17,
          18,
          19,
          20
         ],
         "xaxis": "x8",
         "y": {
          "bdata": "IgW8EsEwqUCuqY/Ub9usQOtFHTGBQLNA6nCl4fFitEALYKwJQq62QDgp0PXWMbNAXOk1KIoAskBDtMhwpyOzQIcTgYAiJbdAdaRXVFN8r0A7ACsgwS23QNBaVgjAq7JAp+DnbiZCuEDzhK/4a6qyQOMEL6TiTLNAhsGZevsurkB9uHhIw5m1QNkkrjIAm7NAIAJMv6TitEBQKsfK0LK2QGjRzMQUKrZA",
          "dtype": "f8"
         },
         "yaxis": "y8"
        },
        {
         "legendgroup": "Deepseek R1 (ABBEL)",
         "line": {
          "color": "#8B0000",
          "width": 2
         },
         "mode": "lines+markers",
         "name": "Deepseek R1 (ABBEL)",
         "showlegend": false,
         "type": "scatter",
         "x": {
          "bdata": "AAECAwQFBgcICQoLDA0ODxAREhMU",
          "dtype": "i1"
         },
         "xaxis": "x8",
         "y": {
          "bdata": "zczMzMxpp0AzMzMzs8+qQJqZmZl5t7FAHEyRz7q2skB4eHh4+Pu0QHh4eHh4lLFAk0022WTrsEAAAAAAQIKxQM3MzMxMArVAzczMzMwsrUD3NMJyT4q0QCVJkiSJPrFAAAAAAACptUBP7MRObKGwQCd2Yif2a7FAq6qqquomrEB00UUX3TqzQJqZmZmZz7FAzczMzAzqskCamZmZGSa0QAAAAACAO7RA",
          "dtype": "f8"
         },
         "yaxis": "y8"
        },
        {
         "hoverinfo": "skip",
         "legendgroup": "Deepseek R1 (belief prompting)",
         "line": {
          "width": 0
         },
         "mode": "lines",
         "showlegend": false,
         "type": "scatter",
         "x": [
          0,
          1,
          2,
          3,
          4,
          5,
          6,
          7,
          8,
          9,
          10,
          11,
          12,
          13,
          14,
          15,
          16,
          17,
          18,
          19,
          20
         ],
         "xaxis": "x8",
         "y": {
          "bdata": "ZAgLpLgNpkBqFfaLFR+tQF9ffJt+LapAOQjFbfgLqkCl5VyZ8YyoQDISvHErwqtAFs/P/M6SqkAon1mRCwCoQBg+XDlNUqpALArM6ppPqECKCm9l5sWlQJC9WvsxT6hA0EChFfVur0AxDnS7s3OrQATtCol1rapAKJCmD+ShqkA5aHZnPxWrQAlvJHnwl6hAZxaX0T6+rEDVEBryc+KnQF0wyIrodaxA",
          "dtype": "f8"
         },
         "yaxis": "y8"
        },
        {
         "fill": "tonexty",
         "fillcolor": "rgba(255, 99, 71, 0.2)",
         "hoverinfo": "skip",
         "legendgroup": "Deepseek R1 (belief prompting)",
         "line": {
          "width": 0
         },
         "mode": "lines",
         "showlegend": false,
         "type": "scatter",
         "x": [
          0,
          1,
          2,
          3,
          4,
          5,
          6,
          7,
          8,
          9,
          10,
          11,
          12,
          13,
          14,
          15,
          16,
          17,
          18,
          19,
          20
         ],
         "xaxis": "x8",
         "y": {
          "bdata": "nPf0W8cVqkCxW2ug2/6xQHkqIT0LiK5Ag34trdGDr0CTqIafnNisQOf2IUcKgrBAj3lRKaq8sEBAkEcseeaqQEk2p7gu8bFAvJi/Qx+zr0Aw3jMmSGaoQMaEi5BKCbBAmF8vdWUms0Do+EUiRjOxQKCrnF1nlbJAx26a08RIsUD3BvZfm9ixQJVpZSToFa1AzHQ0l+AgsUAr7+UNjGitQAYbz+0+RrRA",
          "dtype": "f8"
         },
         "yaxis": "y8"
        },
        {
         "legendgroup": "Deepseek R1 (belief prompting)",
         "line": {
          "color": "#FF6347",
          "width": 2
         },
         "mode": "lines+markers",
         "name": "Deepseek R1 (belief prompting)",
         "showlegend": false,
         "type": "scatter",
         "x": {
          "bdata": "AAECAwQFBgcICQoLDA0ODxAREhMU",
          "dtype": "i1"
         },
         "xaxis": "x8",
         "y": {
          "bdata": "AAAAAMARqEAzMzMzM0ewQOzETuzEWqxAXkN5DeXHrEAcx3Ecx7KqQAAAAAAgY65AGmG5pxEGrkC0l9BeQnOpQFVVVVVVGq9AdNFFF10BrEBddNFFFxanQI7jOI7jMKxAAAAAAPBusUAAAAAAIO2uQCIiIiIi7K9A27Zt27aZrkAUO7ETO2OvQE/sxE7s1qpAAAAAAACAr0AAAAAAgKWqQJqZmZmZQLFA",
          "dtype": "f8"
         },
         "yaxis": "y8"
        },
        {
         "hoverinfo": "skip",
         "legendgroup": "Gemini 2.5 Pro",
         "line": {
          "width": 0
         },
         "mode": "lines",
         "showlegend": false,
         "type": "scatter",
         "x": [
          0,
          1,
          2,
          3,
          4,
          5,
          6,
          7,
          8,
          9,
          10,
          11,
          12,
          13,
          14,
          15,
          16,
          17,
          18,
          19,
          20
         ],
         "xaxis": "x8",
         "y": {
          "bdata": "hm4UI7jimUDYRz5TJ36cQGXxkqLq8JtAy7u3yKBWnEBkZtXMP9idQDfMP8pp259A9gLqGVflnUBMg2yGRICfQO6C5MlaRqBAgMhDFWgcoECAzN/i4EmhQKuV9CwC9Z5APscSKrf4oEB3WyrimSegQKr9U2ZTlqFAt9wE2HRKpEDVBtlWjzikQErSKA6MCp5AUY7H51yAlEBw+RVdFvuiQCzbeB4uaqFA",
          "dtype": "f8"
         },
         "yaxis": "y8"
        },
        {
         "fill": "tonexty",
         "fillcolor": "rgba(144, 238, 144, 0.2)",
         "hoverinfo": "skip",
         "legendgroup": "Gemini 2.5 Pro",
         "line": {
          "width": 0
         },
         "mode": "lines",
         "showlegend": false,
         "type": "scatter",
         "x": [
          0,
          1,
          2,
          3,
          4,
          5,
          6,
          7,
          8,
          9,
          10,
          11,
          12,
          13,
          14,
          15,
          16,
          17,
          18,
          19,
          20
         ],
         "xaxis": "x8",
         "y": {
          "bdata": "epHr3EdpnECOHigTPyqeQPv/grwGLZ5AyZF+EMQsn0Cchny2U4KgQA2QQkLBWKFAzd+FhwIloECwEx8SM2KhQMxlvsHTlaJAgDe86peuoUBwJBEOEAekQCq1hem+ZqFAwjjt1Uhoo0CJpNUdZuaiQFYCrJmsF6VASSP7J4ttpUAr+SapcKupQNuW6/i5UqRA2DgcjNEUoUDzrR98Hwm0QH7PMYx8nKNA",
          "dtype": "f8"
         },
         "yaxis": "y8"
        },
        {
         "legendgroup": "Gemini 2.5 Pro",
         "line": {
          "color": "#90EE90",
          "width": 2
         },
         "mode": "lines+markers",
         "name": "Gemini 2.5 Pro",
         "showlegend": false,
         "type": "scatter",
         "x": {
          "bdata": "AAECAwQFBgcICQoLDA0ODxAREhMU",
          "dtype": "i1"
         },
         "xaxis": "x8",
         "y": {
          "bdata": "AAAAAAAmm0AzMzMzM1SdQLD4iq/4Dp1AyiabbLLBnUDOOeecc26fQBQ7sRM7o6BASOF6FK4Xn0CrqqqqKpGgQF100UUXbqFAAAAAAIDloEB4eHh4eKiiQAAAAACgcKBAAAAAAIAwokAAAAAAAIehQAAAAAAAV6NAAAAAAADcpEAAAAAAAPKmQAAAAAAArKFAAAAAAABVm0CrqqqqqoatQFVVVVVVg6JA",
          "dtype": "f8"
         },
         "yaxis": "y8"
        },
        {
         "hoverinfo": "skip",
         "legendgroup": "Gemini 2.5 Pro (ABBEL)",
         "line": {
          "width": 0
         },
         "mode": "lines",
         "showlegend": false,
         "type": "scatter",
         "x": [
          0,
          1,
          2,
          3,
          4,
          5,
          6,
          7,
          8,
          9,
          10,
          11,
          12,
          13,
          14,
          15,
          16,
          17,
          18,
          19,
          20
         ],
         "xaxis": "x8",
         "y": {
          "bdata": "tqjXQ8PGp0CWQ3KKWbWnQNUcggN9dqdATQMasNlDqEDiipFZIt+pQDfi9iJpJqpAzSjbR1e1qUBF9I8XY1WpQG+BoSeqaKlANBv0IpLIqEA1a1qrTUOsQAgtJy93HapAL01lg1Ceq0BAhCgvu6CqQBT1bwJLdKpAvffBzS5+q0CmzW0mFaasQEvaU4rA1axA/iFVTE0LrkCSuAhOdratQC8592L8P61A",
          "dtype": "f8"
         },
         "yaxis": "y8"
        },
        {
         "fill": "tonexty",
         "fillcolor": "rgba(0, 100, 0, 0.2)",
         "hoverinfo": "skip",
         "legendgroup": "Gemini 2.5 Pro (ABBEL)",
         "line": {
          "width": 0
         },
         "mode": "lines",
         "showlegend": false,
         "type": "scatter",
         "x": [
          0,
          1,
          2,
          3,
          4,
          5,
          6,
          7,
          8,
          9,
          10,
          11,
          12,
          13,
          14,
          15,
          16,
          17,
          18,
          19,
          20
         ],
         "xaxis": "x8",
         "y": {
          "bdata": "sL2OIiMaqUA2iVpCc1+pQOdpcBdNJ6lAq4eVSLHrqUAwC+rAPrKrQD+AMFP5uKxAFVI5ZvCXq0BVpQmCNlKrQKGNbedk6qpAzOQL3e3/qkDLlKVUsoKvQGrvn0KlOa1A7XkMmXafrkDcQkntC2muQOwKkP20BK5AQwg+MlHVrUAtGclsNZCwQLUlrHU/4K1AAW/VWdnZsUC3o/vYBJ6wQI6sFvNKrrBA",
          "dtype": "f8"
         },
         "yaxis": "y8"
        },
        {
         "legendgroup": "Gemini 2.5 Pro (ABBEL)",
         "line": {
          "color": "#006400",
          "width": 2
         },
         "mode": "lines+markers",
         "name": "Gemini 2.5 Pro (ABBEL)",
         "showlegend": false,
         "type": "scatter",
         "x": {
          "bdata": "AAECAwQFBgcICQoLDA0ODxAREhMU",
          "dtype": "i1"
         },
         "xaxis": "x8",
         "y": {
          "bdata": "MzMzM3NwqEBmZmZmZoqoQF5DeQ3lTqhAfMVXfMUXqUAJyz2NsMiqQDuxEzuxb6tAcT0K16OmqkDNzMzMzFOqQIiHh4eHKapAAAAAAEDkqUAAAAAAAOOtQDmO4ziOq6tAjuM4juMerUCO4ziO44SsQAAAAACAPKxAAAAAAMCprEAAAAAAQOOuQAAAAAAAW61AAAAAAMBvsEAAAAAAQHmvQCVJkiRJTq9A",
          "dtype": "f8"
         },
         "yaxis": "y8"
        },
        {
         "hoverinfo": "skip",
         "legendgroup": "Gemini 2.5 Pro (belief prompting)",
         "line": {
          "width": 0
         },
         "mode": "lines",
         "showlegend": false,
         "type": "scatter",
         "x": [
          0,
          1,
          2,
          3,
          4,
          5,
          6,
          7,
          8,
          9,
          10,
          11,
          12,
          13,
          14,
          15,
          16,
          17,
          18,
          19,
          20
         ],
         "xaxis": "x8",
         "y": {
          "bdata": "j/rGiv30p0Ag0jxEWm6nQDV2m092JqhADxC3ULeJqEAc819RDk2pQB5WDbbtoqpA+2YQcb4krEBnYeweJ6usQHX+cP3scKxAhFFd7LAKrUAO6M+b8GasQCK/Z4YFyq5AcGMBX0nnsEDDzrTzLsKsQHTdiIMq+K1A0o9VXf2urkBK1A4YmMCsQIXoA7YOtq1A1o/zs4OhrkD+Gte3V/+tQJ/njk/IILBA",
          "dtype": "f8"
         },
         "yaxis": "y8"
        },
        {
         "fill": "tonexty",
         "fillcolor": "rgba(50, 205, 50, 0.2)",
         "hoverinfo": "skip",
         "legendgroup": "Gemini 2.5 Pro (belief prompting)",
         "line": {
          "width": 0
         },
         "mode": "lines",
         "showlegend": false,
         "type": "scatter",
         "x": [
          0,
          1,
          2,
          3,
          4,
          5,
          6,
          7,
          8,
          9,
          10,
          11,
          12,
          13,
          14,
          15,
          16,
          17,
          18,
          19,
          20
         ],
         "xaxis": "x8",
         "y": {
          "bdata": "pThsqDUKqUCs+o+I8n+oQMuJZLCJgalAAf9XvlcZqkDkDKCu8diqQLayvYefJaxALfV+UTc0rkATcq+/zYuuQIsBjwITxa5AIlRIufRyr0DyFzBkDw2vQG8gzDz96LBARgraVyS/skAU+0z8Sj6wQLzzYjRNZ7BAbI2qptZksEBB/F5aGgexQPaZ4d2G9LBAv+Kw0OgRs0CBchQkFJayQM/zJx4TfLJA",
          "dtype": "f8"
         },
         "yaxis": "y8"
        },
        {
         "legendgroup": "Gemini 2.5 Pro (belief prompting)",
         "line": {
          "color": "#32CD32",
          "width": 2
         },
         "mode": "lines+markers",
         "name": "Gemini 2.5 Pro (belief prompting)",
         "showlegend": false,
         "type": "scatter",
         "x": {
          "bdata": "AAECAwQFBgcICQoLDA0ODxAREhMU",
          "dtype": "i1"
         },
         "xaxis": "x8",
         "y": {
          "bdata": "mpmZmZl/qEBmZmZmJvenQAAAAAAA1KhAiIeHh4dRqUAAAAAAABOqQGqE5Z5GZKtAFK5H4XosrUC96U1veputQAAAAAAAm61A09LS0tI+rkAAAAAAALqtQAAAAAAAJ7BA27Zt2zbTsUB2Yid2Yp+uQHZiJ3ZiY69AVVVVVVW8r0BmZmZmZmevQDmO4ziOz69AVVVVVVUxsUAAAAAA4MqwQLdt27ZtTrFA",
          "dtype": "f8"
         },
         "yaxis": "y8"
        },
        {
         "hoverinfo": "skip",
         "legendgroup": "Deepseek R1 (ABBEL)",
         "line": {
          "width": 0
         },
         "mode": "lines",
         "showlegend": false,
         "type": "scatter",
         "x": [
          0,
          1,
          2,
          3,
          4,
          5,
          6,
          7,
          8,
          9,
          10,
          11,
          12,
          13,
          14,
          15,
          16,
          17,
          18,
          19,
          20
         ],
         "xaxis": "x3",
         "y": {
          "bdata": "LhoFyjEKlUBu9VpECSiWQKsVJMU3uZpA02k9Wau8nEC4odOR8rqhQHawoH0TFaFAHTzZ5q8DpUDxj19t4kCiQIo3hVt+xaJA/fLZLgZJqUAxaWGEbq+jQGoJ4GA+caZAaf5o4c14pUBT1gfwuNaoQHjCto4rRKRA6QaYs6bOp0B/TXsOTP+lQODedJceOKVAuLiosF1dpECxWT32zfCmQJ9mx/oUAqNA",
          "dtype": "f8"
         },
         "yaxis": "y3"
        },
        {
         "fill": "tonexty",
         "fillcolor": "rgba(139, 0, 0, 0.2)",
         "hoverinfo": "skip",
         "legendgroup": "Deepseek R1 (ABBEL)",
         "line": {
          "width": 0
         },
         "mode": "lines",
         "showlegend": false,
         "type": "scatter",
         "x": [
          0,
          1,
          2,
          3,
          4,
          5,
          6,
          7,
          8,
          9,
          10,
          11,
          12,
          13,
          14,
          15,
          16,
          17,
          18,
          19,
          20
         ],
         "xaxis": "x3",
         "y": {
          "bdata": "OExhnDSKl0AspD5VkHuYQCG3qAeVL55AfLHHuZA4oEAUK/k62uCkQIpPX4LstahAfV3AsulYrUB5AKf7rXWmQGjjRBCqD6pAupR2IQs3sUCxeIBdc+ynQIa4J749469AlwGXHlK9q0DXFPyHowqwQHanzVZzPq5A1I5Y7z5Cs0CmvyhfwBywQE7bcwttNK9A/rQyBhC+rUA3IGHxq3mvQGGZOAXrSalA",
          "dtype": "f8"
         },
         "yaxis": "y3"
        },
        {
         "legendgroup": "Deepseek R1 (ABBEL)",
         "line": {
          "color": "#8B0000",
          "width": 2
         },
         "mode": "lines+markers",
         "name": "Deepseek R1 (ABBEL)",
         "showlegend": false,
         "type": "scatter",
         "x": {
          "bdata": "AAECAwQFBgcICQoLDA0ODxAREhMU",
          "dtype": "i1"
         },
         "xaxis": "x3",
         "y": {
          "bdata": "MzMzMzNKlkDNzMzMzFGXQGZmZmZmdJxAZmZmZuaWnkBmZmZm5k2jQAAAAACA5aRAzczMzEwuqUA1SIM0SFukQHkN5TWUaqZAOY7jOI7brUDx8PDw8M2lQPjggw8+KqtAAAAAABCbqEAAAAAAAHasQPc0wnJPQalASZIkSZIpr0BmZmZmZhyrQBdddNFFNqpA27Zt27YNqUD0PM/zPDWrQAAAAAAAJqZA",
          "dtype": "f8"
         },
         "yaxis": "y3"
        },
        {
         "hoverinfo": "skip",
         "legendgroup": "Deepseek R1 (belief prompting)",
         "line": {
          "width": 0
         },
         "mode": "lines",
         "showlegend": false,
         "type": "scatter",
         "x": [
          0,
          1,
          2,
          3,
          4,
          5,
          6,
          7,
          8,
          9,
          10,
          11,
          12,
          13,
          14,
          15,
          16,
          17,
          18,
          19,
          20
         ],
         "xaxis": "x3",
         "y": {
          "bdata": "HppIRYiMlEDOCfdITJCYQGiyN/16apxA2e2wVJ8bn0CPA+5ET9mdQGL81WtVw6JAKYCzzwOEoUANI/IoOLGhQBwftVR4qKJALZ88xl/VoUCzxL5IkxqgQJdzySp+WKlAnZPOqmBYpEDAdtZ6OXahQKInc+tvGalAtvEktU1KqEAcP4g8mkenQCobKWpA/aRApuBuYB41pUBEb8pGlBelQEYfg0L036ZA",
          "dtype": "f8"
         },
         "yaxis": "y3"
        },
        {
         "fill": "tonexty",
         "fillcolor": "rgba(255, 99, 71, 0.2)",
         "hoverinfo": "skip",
         "legendgroup": "Deepseek R1 (belief prompting)",
         "line": {
          "width": 0
         },
         "mode": "lines",
         "showlegend": false,
         "type": "scatter",
         "x": [
          0,
          1,
          2,
          3,
          4,
          5,
          6,
          7,
          8,
          9,
          10,
          11,
          12,
          13,
          14,
          15,
          16,
          17,
          18,
          19,
          20
         ],
         "xaxis": "x3",
         "y": {
          "bdata": "SMwdId4ql0CYXG8dGoOeQGbA/RrcX6BAee8NvBYBo0CfZO/DPiyhQJ4DKpSqEaZAC7N/Yy/npkCRtZd0oFCnQFb9ER2ki6ZAe+T94SPxpUBdSlDGe4CmQEWIowtFqLBA/9//joZ0qUAOwxAiOlilQB5bNfk2n7FAetzCei6XsEC2JAAmd2mwQMTTxYSun6xASIkVhYBZrUBAh0iTt4CvQLAJ2UzOOa9A",
          "dtype": "f8"
         },
         "yaxis": "y3"
        },
        {
         "legendgroup": "Deepseek R1 (belief prompting)",
         "line": {
          "color": "#FF6347",
          "width": 2
         },
         "mode": "lines+markers",
         "name": "Deepseek R1 (belief prompting)",
         "showlegend": false,
         "type": "scatter",
         "x": {
          "bdata": "AAECAwQFBgcICQoLDA0ODxAREhMU",
          "dtype": "i1"
         },
         "xaxis": "x3",
         "y": {
          "bdata": "MzMzM7PblUAzMzMzs4mbQJqZmZkZlZ5AMzMzM3NHoUAzMzMzcwygQAAAAACAaqRAmpmZmZk1pEBP7MRO7ICkQDmO4zgOmqRA1EEd1EHjo0CIh4eHh02jQBFCCCGEVK1AzjnnnHPmpkDnnHPOOWejQO/u7u7uK65AVVVVVVW8rEBERERERA2sQHd3d3d3zqhA9zTCck9HqUBCewntJUyqQHsUrkfhDKtA",
          "dtype": "f8"
         },
         "yaxis": "y3"
        },
        {
         "hoverinfo": "skip",
         "legendgroup": "Gemini 2.5 Pro (ABBEL)",
         "line": {
          "width": 0
         },
         "mode": "lines",
         "showlegend": false,
         "type": "scatter",
         "x": [
          0,
          1,
          2,
          3,
          4,
          5,
          6,
          7,
          8,
          9,
          10,
          11,
          12,
          13,
          14,
          15,
          16,
          17,
          18,
          19,
          20
         ],
         "xaxis": "x3",
         "y": {
          "bdata": "AthfjKshlUAvrRm4LSSUQPoPF6xxCpVAqlDxS8jrlEA+oHkdMniXQKKjX2qbW5dAq6msxCbAlkDGt6LIYkuZQPd3PuU4fZdA+ZOKHaEwmEDVD750QSybQPmseoDct5xACrV8ek5HnUAt/De9ueiaQIjY/rQWl51AdZr1v2Wzm0CBqGQrHmydQFo5sMDocaFAA5OTBuNqoEAFNCu8exKcQNc4R114b5lA",
          "dtype": "f8"
         },
         "yaxis": "y3"
        },
        {
         "fill": "tonexty",
         "fillcolor": "rgba(0, 100, 0, 0.2)",
         "hoverinfo": "skip",
         "legendgroup": "Gemini 2.5 Pro (ABBEL)",
         "line": {
          "width": 0
         },
         "mode": "lines",
         "showlegend": false,
         "type": "scatter",
         "x": [
          0,
          1,
          2,
          3,
          4,
          5,
          6,
          7,
          8,
          9,
          10,
          11,
          12,
          13,
          14,
          15,
          16,
          17,
          18,
          19,
          20
         ],
         "xaxis": "x3",
         "y": {
          "bdata": "mME5De5fl0Br7H/ha6eVQDojHIfBw5ZAInzbgAR6lkBc+R98Z0iZQF5coJVk5JhAQRuiJ56umEDIK5bFgLOcQI3CaZ4Ba5pAB2x14t5Mm0DJyMsol6meQJhXCqGMKKFAB9R7q/thoEB1j/b8LgaeQEL1mCvWMKJA3rhmONMXoECMeBq3veahQMKNwVveu6NAi1ClhwBapUArkxdP7/+gQEfl1sCl9p1A",
          "dtype": "f8"
         },
         "yaxis": "y3"
        },
        {
         "legendgroup": "Gemini 2.5 Pro (ABBEL)",
         "line": {
          "color": "#006400",
          "width": 2
         },
         "mode": "lines+markers",
         "name": "Gemini 2.5 Pro (ABBEL)",
         "showlegend": false,
         "type": "scatter",
         "x": {
          "bdata": "AAECAwQFBgcICQoLDA0ODxAREhMU",
          "dtype": "i1"
         },
         "xaxis": "x3",
         "y": {
          "bdata": "zczMzMxAlkDNzMzMzOWUQJqZmZkZ55VAZmZmZuaylUDNzMzMTGCYQAAAAAAAIJhAdmIndmK3l0DHcRzHcf+aQEId1EEd9JhAAAAAAMC+mUBP7MRO7OqcQBSuR+F6hJ9AjC666KIFn0DRRRdddHecQMMwDMMwfqBAGIZhGIbxnUBmZmZmZk6gQI7jOI7jlqJAx3Ecx3HiokAtLS0tLQmfQA8PDw8Ps5tA",
          "dtype": "f8"
         },
         "yaxis": "y3"
        },
        {
         "hoverinfo": "skip",
         "legendgroup": "Gemini 2.5 Pro (belief prompting)",
         "line": {
          "width": 0
         },
         "mode": "lines",
         "showlegend": false,
         "type": "scatter",
         "x": [
          0,
          1,
          2,
          3,
          4,
          5,
          6,
          7,
          8,
          9,
          10,
          11,
          12,
          13,
          14,
          15,
          16,
          17,
          18,
          19,
          20
         ],
         "xaxis": "x3",
         "y": {
          "bdata": "gd9FEWuekkDjSGFBIZ+UQLjHWWDhf5RAYvn82H5alkDqWzWBFH+WQMvch18WFJhAR8C0jW4smEA5YdrFBMqYQF08y1f1zplAwqCXKN5bmUA3acLOkBefQHkTnipuQpxAECxdttDSm0CnEwNX7SGeQMZolTpSDp9A6Clt3CfXnkBLp8v7dCOeQGQl3Y5a5KJAclVnkEquoUBciPTBgiahQJyOa+QB5pxA",
          "dtype": "f8"
         },
         "yaxis": "y3"
        },
        {
         "fill": "tonexty",
         "fillcolor": "rgba(50, 205, 50, 0.2)",
         "hoverinfo": "skip",
         "legendgroup": "Gemini 2.5 Pro (belief prompting)",
         "line": {
          "width": 0
         },
         "mode": "lines",
         "showlegend": false,
         "type": "scatter",
         "x": [
          0,
          1,
          2,
          3,
          4,
          5,
          6,
          7,
          8,
          9,
          10,
          11,
          12,
          13,
          14,
          15,
          16,
          17,
          18,
          19,
          20
         ],
         "xaxis": "x3",
         "y": {
          "bdata": "fyC67pRalECDHQUlRTSWQEg4pp8eHpZA7PLHdW0KmEDoxNdQDD6YQBt/NoZFoplAzXr8hcwsmkAbg9moK/uaQKPDNKgKCZ1APl9o16FynEAzBYY1qxKiQP9j2UwJ1Z9Agvjr21Nsn0D81MDPEuihQKc425ZuCaJAvn4Ew38fokDsUGMUalOiQEx83/eXIqdA0iOmVOuNpUDo8BgjsyWlQF3jdLipGaBA",
          "dtype": "f8"
         },
         "yaxis": "y3"
        },
        {
         "legendgroup": "Gemini 2.5 Pro (belief prompting)",
         "line": {
          "color": "#32CD32",
          "width": 2
         },
         "mode": "lines+markers",
         "name": "Gemini 2.5 Pro (belief prompting)",
         "showlegend": false,
         "type": "scatter",
         "x": {
          "bdata": "AAECAwQFBgcICQoLDA0ODxAREhMU",
          "dtype": "i1"
         },
         "xaxis": "x3",
         "y": {
          "bdata": "AAAAAIB8k0AzMzMzs2mVQAAAAAAAT5VAJ3ZiJ3Yyl0BpkAZpkF6XQPMt3/It25hAip3YiZ0smUAq8lk3mOKZQAAAAAAAbJtAAAAAAEDnmkDnnHPOOc+gQLy7u7u7C55ASZIkSZKfnUBoL6G9hHygQIX2EtpLyKBA2Ymd2InFoEBJkiRJkrKgQNhQXkN5A6VAoryG8hqeo0CivIbyGiajQKuqqqqqjJ5A",
          "dtype": "f8"
         },
         "yaxis": "y3"
        },
        {
         "hoverinfo": "skip",
         "legendgroup": "Deepseek R1",
         "line": {
          "width": 0
         },
         "mode": "lines",
         "showlegend": false,
         "type": "scatter",
         "x": [
          0,
          1,
          2,
          3,
          4,
          5,
          6,
          7,
          8,
          9,
          10,
          11,
          12,
          13,
          14,
          15,
          16,
          17,
          18,
          19,
          20
         ],
         "xaxis": "x9",
         "y": {
          "bdata": "B3lynwt1m0BWZPkdv2SoQKzqCMaovqdALC3xaxUGr0D+9no4DIiyQBwiDd0XfrFAcLmCPatqtUDytxXtPaa2QJodWUr3obtANf8uKvbXwkBE2MGNf5/BQEQW8MqY5cJAnE+k3iVUwUCR4C3KCNbEQCPaB7XnMsZAYnMNidZpyUCRqDsorc3KQF9e3HY4KMRAUm0hfUbCxEAdrlIJvPa/QOHCOyXu8sJA",
          "dtype": "f8"
         },
         "yaxis": "y9"
        },
        {
         "fill": "tonexty",
         "fillcolor": "rgba(255, 182, 193, 0.2)",
         "hoverinfo": "skip",
         "legendgroup": "Deepseek R1",
         "line": {
          "width": 0
         },
         "mode": "lines",
         "showlegend": false,
         "type": "scatter",
         "x": [
          0,
          1,
          2,
          3,
          4,
          5,
          6,
          7,
          8,
          9,
          10,
          11,
          12,
          13,
          14,
          15,
          16,
          17,
          18,
          19,
          20
         ],
         "xaxis": "x9",
         "y": {
          "bdata": "F13gyRPgoUCqmwbiQNGtQIhIKm0K4axAamkHSvWgskA2PLj6ZjG3QIgfDccparZAXBNKjyFMukAOSOoSwqK/QFwWaK1O68FA5WGKfRtKx0CY3qtNNxXHQJigfRBeYsdA/IC6Y1VMxkBTWGAZMPfJQDN7TaDtuctAwJdLP2z+z0D+Qj/gOorQQP8V9c7e5MlAlgx9ajNKykAm3IkuVQPFQHWSGTBnE8pA",
          "dtype": "f8"
         },
         "yaxis": "y9"
        },
        {
         "legendgroup": "Deepseek R1",
         "line": {
          "color": "#FFB6C1",
          "width": 2
         },
         "mode": "lines+markers",
         "name": "Deepseek R1",
         "showlegend": false,
         "type": "scatter",
         "x": {
          "bdata": "AAECAwQFBgcICQoLDA0ODxAREhMU",
          "dtype": "i1"
         },
         "xaxis": "x9",
         "y": {
          "bdata": "mpmZmZman0AAAAAAABurQJqZmZnZT6pAAAAAAAASsUCamZmZudy0QNIgDdIg9LNAZmZmZmbbt0AAAAAAgCS7QCmllFJKvL9AjbDc0wgRxUBu27ZtW1rEQG7btm37I8VATGgvoT3Qw0ByHMdxnGbHQKuqqqpq9shAkYUsZCG0zEBGF110EfHNQC+66KKLBsdA9DzP8zyGx0CamZmZWX/CQKuqqqoqg8ZA",
          "dtype": "f8"
         },
         "yaxis": "y9"
        },
        {
         "hoverinfo": "skip",
         "legendgroup": "Deepseek R1 (ABBEL)",
         "line": {
          "width": 0
         },
         "mode": "lines",
         "showlegend": false,
         "type": "scatter",
         "x": [
          0,
          1,
          2,
          3,
          4,
          5,
          6,
          7,
          8,
          9,
          10,
          11,
          12,
          13,
          14,
          15,
          16,
          17,
          18,
          19,
          20
         ],
         "xaxis": "x9",
         "y": {
          "bdata": "Jdr2xr8UqkD/EuFW4COxQHHwVgzFyrdALxEVztjWtEB181EqB5W1QIdBMAt3FbRAVx+jR72ztkAhDnPnFHO4QM/IXimSTrVAWuHiuL53t0ByRnKVxE61QCe5QLP+QrRAXEPqpQKPukD8RmLvdpm3QHI8lVn7sbZABFeJtTqxtkCkqqU6Soa3QEIrqXvLIblAtiV4SYvctkARBZ2oBMO0QIVmZxv7qbFA",
          "dtype": "f8"
         },
         "yaxis": "y9"
        },
        {
         "fill": "tonexty",
         "fillcolor": "rgba(139, 0, 0, 0.2)",
         "hoverinfo": "skip",
         "legendgroup": "Deepseek R1 (ABBEL)",
         "line": {
          "width": 0
         },
         "mode": "lines",
         "showlegend": false,
         "type": "scatter",
         "x": [
          0,
          1,
          2,
          3,
          4,
          5,
          6,
          7,
          8,
          9,
          10,
          11,
          12,
          13,
          14,
          15,
          16,
          17,
          18,
          19,
          20
         ],
         "xaxis": "x9",
         "y": {
          "bdata": "db+i0lmerUDNuet1rDe1QI8PqfO6Yb1AN1VRmI0iuEC/P+EIbLO4QBNYaY6iVrlAD0fDHmn5u0Dtw60lvcO9QI96GuRSqLlA/HNynBZGvUCOuY1qOyK5QJMvYtgvF7lAUt4KrbY8wUAEuZ0QiaO8QBKpCe1cjLxAIPIIbw4yv0BxINY+ahLAQEoDEW3Xy79AeuZK54Cqv0CN4tz14rK5QDEHdJtyrblA",
          "dtype": "f8"
         },
         "yaxis": "y9"
        },
        {
         "legendgroup": "Deepseek R1 (ABBEL)",
         "line": {
          "color": "#8B0000",
          "width": 2
         },
         "mode": "lines+markers",
         "name": "Deepseek R1 (ABBEL)",
         "showlegend": false,
         "type": "scatter",
         "x": {
          "bdata": "AAECAwQFBgcICQoLDA0ODxAREhMU",
          "dtype": "i1"
         },
         "xaxis": "x9",
         "y": {
          "bdata": "zczMzIzZq0BmZmZmxi2zQAAAAABAlrpAMzMzM7N8tkCamZmZOSS3QM3MzMwMtrZAMzMzM5NWuUAHaZAGaRu7QK+hvIZye7dAq6qqqupeukAAAAAAgDi3QF100UUXrbZAAAAAADiEvkAAAAAAgB66QMJyTyMsn7lAkiRJkqTxukDD9Shcj9W7QEYXXXTRdrxAGIZhGIZDu0DP8zzP8zq3QNu2bdu2q7VA",
          "dtype": "f8"
         },
         "yaxis": "y9"
        },
        {
         "hoverinfo": "skip",
         "legendgroup": "Deepseek R1 (belief prompting)",
         "line": {
          "width": 0
         },
         "mode": "lines",
         "showlegend": false,
         "type": "scatter",
         "x": [
          0,
          1,
          2,
          3,
          4,
          5,
          6,
          7,
          8,
          9,
          10,
          11,
          12,
          13,
          14,
          15,
          16,
          17,
          18,
          19,
          20
         ],
         "xaxis": "x9",
         "y": {
          "bdata": "DGqG/aj0qEAD4glLpQyyQO0U/vv1SrNAg25syvzjs0Dqs30lnbGyQMJCLpIcALRAWFTlyZS2s0AZH1DvVqu0QMOwxgvF5LdA1dcz4VJSuECGndm8HEu0QGeguzrO4LtAYtR3K3gWvUAygPq3HU26QEUm6cu6/rtAnXgQ0C/RwkDVZzC1XKe8QCvORASq7cBA6oE46OvWwEClLpK4t6jAQJfoMemZkL5A",
          "dtype": "f8"
         },
         "yaxis": "y9"
        },
        {
         "fill": "tonexty",
         "fillcolor": "rgba(255, 99, 71, 0.2)",
         "hoverinfo": "skip",
         "legendgroup": "Deepseek R1 (belief prompting)",
         "line": {
          "width": 0
         },
         "mode": "lines",
         "showlegend": false,
         "type": "scatter",
         "x": [
          0,
          1,
          2,
          3,
          4,
          5,
          6,
          7,
          8,
          9,
          10,
          11,
          12,
          13,
          14,
          15,
          16,
          17,
          18,
          19,
          20
         ],
         "xaxis": "x9",
         "y": {
          "bdata": "9JV5Ale/rUD9Hfa0mj21QBPrAQRKqbZAfZGTNUM7t0BKf7UN1jO3QD690W2j6rdAdHjnAnhGt0D1stAdez27QD1POfS6Ur1ASfwNPIE5vkB6YiZD4/G6QN5xqgMdKcFAnU8rhzeOwkB8Ek1NFnLBQCGxT95mzsFAH0Or6wuox0AVzGelUdnDQJHtdrcRSMVAFn7HFxRAxkCxJsOcnWLFQCRJceJWxsRA",
          "dtype": "f8"
         },
         "yaxis": "y9"
        },
        {
         "legendgroup": "Deepseek R1 (belief prompting)",
         "line": {
          "color": "#FF6347",
          "width": 2
         },
         "mode": "lines+markers",
         "name": "Deepseek R1 (belief prompting)",
         "showlegend": false,
         "type": "scatter",
         "x": {
          "bdata": "AAECAwQFBgcICQoLDA0ODxAREhMU",
          "dtype": "i1"
         },
         "xaxis": "x9",
         "y": {
          "bdata": "AAAAAABaq0AAAAAAIKWzQAAAAAAg+rRAAAAAAKCPtUCamZmZufK0QAAAAABg9bVAZmZmZoZ+tUAHaZAGafS3QAAAAADAm7pAD+qgDupFu0AAAAAAgJ63QBFCCCGEGb9A55xzzrmMwECVUkoppZi+QERERETEzb9A3t3d3Z08xUAAAAAAgBbBQN7d3d3dGsNAAAAAAICLw0CrqqqqqgXDQLgehetRB8JA",
          "dtype": "f8"
         },
         "yaxis": "y9"
        },
        {
         "hoverinfo": "skip",
         "legendgroup": "Gemini 2.5 Pro",
         "line": {
          "width": 0
         },
         "mode": "lines",
         "showlegend": false,
         "type": "scatter",
         "x": [
          0,
          1,
          2,
          3,
          4,
          5,
          6,
          7,
          8,
          9,
          10,
          11,
          12,
          13,
          14,
          15,
          16,
          17,
          18,
          19,
          20
         ],
         "xaxis": "x9",
         "y": {
          "bdata": "9URT6gpDkECUyMfR8OuWQMVvQjbxLpdAtmyS190mmEBceKAO9cSYQG/YCmr36ZtAJ7Bpz4bgm0AtJ+Dkcd6fQGkPF1kM16FAw7RQZN7UoUCrJPhh0bygQMktpSOyGqBAyIrseLMloUCmfArVv4KiQCyNkBHzZKNAUWDFEyiNpUB+24+RfrupQI9AEi3/VahA1UZbjPxfrkBKf9WW2DSpQFSmZzTvtLRA",
          "dtype": "f8"
         },
         "yaxis": "y9"
        },
        {
         "fill": "tonexty",
         "fillcolor": "rgba(144, 238, 144, 0.2)",
         "hoverinfo": "skip",
         "legendgroup": "Gemini 2.5 Pro",
         "line": {
          "width": 0
         },
         "mode": "lines",
         "showlegend": false,
         "type": "scatter",
         "x": [
          0,
          1,
          2,
          3,
          4,
          5,
          6,
          7,
          8,
          9,
          10,
          11,
          12,
          13,
          14,
          15,
          16,
          17,
          18,
          19,
          20
         ],
         "xaxis": "x9",
         "y": {
          "bdata": "P+7fSCgvkkAG0dHHqFqZQNUpV2OoUplAFmA69e5jmkBwVCy+10ObQMVaKMk7MJ9AbSfnjrxYnkBNoP49DI+hQJGdBPOEaKVA87iKUo8qpEChJlPpeciiQIUINEHhYqJAclyw+hqgo0A2OmMG93alQCYrjnP4xKdAI3GAAzUtqkAszxoZLGGvQNsoVzxqJ69Ag0vBqPC6skDBpvsa+nGwQPJw9T/ilr1A",
          "dtype": "f8"
         },
         "yaxis": "y9"
        },
        {
         "legendgroup": "Gemini 2.5 Pro",
         "line": {
          "color": "#90EE90",
          "width": 2
         },
         "mode": "lines+markers",
         "name": "Gemini 2.5 Pro",
         "showlegend": false,
         "type": "scatter",
         "x": {
          "bdata": "AAECAwQFBgcICQoLDA0ODxAREhMU",
          "dtype": "i1"
         },
         "xaxis": "x9",
         "y": {
          "bdata": "mpmZmRk5kUDNzMzMTCOYQM3MzMzMQJhAZmZmZmZFmUBmZmZmZgSaQJqZmZkZjZ1Aymsor6EcnUDyWTeYIr+gQH3WDabIn6NA27Zt27b/okCmpaWlpcKhQCebbLLJPqFAnXPOOediokBu27Zt2/yjQClcj8L1lKVAuuiiiy7dp0BVVVVVVY6sQLW0tLS0vqtAd3d3d3f1sEBmZmZmZgytQKOLLrroJblA",
          "dtype": "f8"
         },
         "yaxis": "y9"
        },
        {
         "hoverinfo": "skip",
         "legendgroup": "Gemini 2.5 Pro (ABBEL)",
         "line": {
          "width": 0
         },
         "mode": "lines",
         "showlegend": false,
         "type": "scatter",
         "x": [
          0,
          1,
          2,
          3,
          4,
          5,
          6,
          7,
          8,
          9,
          10,
          11,
          12,
          13,
          14,
          15,
          16,
          17,
          18,
          19,
          20
         ],
         "xaxis": "x9",
         "y": {
          "bdata": "lQ8VffkwpEATVlGz2QunQPWj/8hpnqZASRSV8WU4pkBsiDeFnQGnQJkgNKz6VKhAdAGSmk60pkDEcbmb+RqqQAyLqm+BxqdA3QDpqJckqECm5bF6YbirQDr3+lS19qpACRwux69ZrEB45uX1saepQA5YHvF/7KtAri/uQbQUrUC7TNpQiiWtQCyEGuQeXa9AGKry9w3wrkDUGmuc5jesQCia5z7/C6tA",
          "dtype": "f8"
         },
         "yaxis": "y9"
        },
        {
         "fill": "tonexty",
         "fillcolor": "rgba(0, 100, 0, 0.2)",
         "hoverinfo": "skip",
         "legendgroup": "Gemini 2.5 Pro (ABBEL)",
         "line": {
          "width": 0
         },
         "mode": "lines",
         "showlegend": false,
         "type": "scatter",
         "x": [
          0,
          1,
          2,
          3,
          4,
          5,
          6,
          7,
          8,
          9,
          10,
          11,
          12,
          13,
          14,
          15,
          16,
          17,
          18,
          19,
          20
         ],
         "xaxis": "x9",
         "y": {
          "bdata": "a/Dqgob0pUCHQ0jmP8yoQKX1mdAvFahAt+tqDprKp0D63S7hyHeoQDOsmCBSCKpAjP5tZbEnqECuqg3WIlWsQOaKtIGUZKpAI/8WV8h/qkAypOtdKP2tQJLV0XcXiq5Aa7UXUK24rkBwvKU4CDusQH81iY0hZrBAx8+CfY1rsECi2ZLXOk2wQEATSOPFcbFAvBwjy2rasUD+t2c27OqvQPaDNt8eLq9A",
          "dtype": "f8"
         },
         "yaxis": "y9"
        },
        {
         "legendgroup": "Gemini 2.5 Pro (ABBEL)",
         "line": {
          "color": "#006400",
          "width": 2
         },
         "mode": "lines+markers",
         "name": "Gemini 2.5 Pro (ABBEL)",
         "showlegend": false,
         "type": "scatter",
         "x": {
          "bdata": "AAECAwQFBgcICQoLDA0ODxAREhMU",
          "dtype": "i1"
         },
         "xaxis": "x9",
         "y": {
          "bdata": "AAAAAMASpUDNzMzMDOynQM3MzMzMWadAAAAAAIABp0AzMzMzs7ynQGZmZmamLqlAAAAAAABup0A5juM4DjirQPmKr/iKFalAAAAAADBSqUDsxE7sxNqsQGZmZmZmwKxAuuiiiy6JrUB00UUXXfGqQIZhGIZhXK5Anud5nuf1rkAAAAAAAOCuQKuqqqoqkLBA5DiO4zipsEBpaWlpaRGuQA8PDw8PHa1A",
          "dtype": "f8"
         },
         "yaxis": "y9"
        },
        {
         "hoverinfo": "skip",
         "legendgroup": "Gemini 2.5 Pro (belief prompting)",
         "line": {
          "width": 0
         },
         "mode": "lines",
         "showlegend": false,
         "type": "scatter",
         "x": [
          0,
          1,
          2,
          3,
          4,
          5,
          6,
          7,
          8,
          9,
          10,
          11,
          12,
          13,
          14,
          15,
          16,
          17,
          18,
          19,
          20
         ],
         "xaxis": "x9",
         "y": {
          "bdata": "ITtmqtwOo0A3pN1/nMClQDweMwXs8KVA7mTSWQYpqEDjChYkYOunQHpn3NQFDKlAAY1KCTRoqEAC6xSlxnmpQBJsQ48x56lAaSN5rnSRqkCS7uJhDvCtQEhND98tIKxAr2wAaXPerUB2mt6CvN6uQIf92ApqkK5AYkNrDQB6rkDl8gFEnFqvQON/75F4y7JA8v6Cyx7qsUBGrdiFcBWyQPWT5M2vWLVA",
          "dtype": "f8"
         },
         "yaxis": "y9"
        },
        {
         "fill": "tonexty",
         "fillcolor": "rgba(50, 205, 50, 0.2)",
         "hoverinfo": "skip",
         "legendgroup": "Gemini 2.5 Pro (belief prompting)",
         "line": {
          "width": 0
         },
         "mode": "lines",
         "showlegend": false,
         "type": "scatter",
         "x": [
          0,
          1,
          2,
          3,
          4,
          5,
          6,
          7,
          8,
          9,
          10,
          11,
          12,
          13,
          14,
          15,
          16,
          17,
          18,
          19,
          20
         ],
         "xaxis": "x9",
         "y": {
          "bdata": "RSsAvIl1pEAvwojmSRynQF57ZpStXadAgpTEFfNxqkCzZONyDxqqQHJdche/8qpAo7TPmg3+qUAgtGDeYmSrQJRcJE4vF6xAl9yGUWvarEB9oXFbKpiwQIR/ve2eBK9AXzdbArQ2sEAt4jF8JiuxQGwiUX/BDLFAnUoPSOw7sUB2gJ3FKzuyQNkGA4lRNLVARJVUhT9HtEBOKnjY0nG1QLUWxtz6j7hA",
          "dtype": "f8"
         },
         "yaxis": "y9"
        },
        {
         "legendgroup": "Gemini 2.5 Pro (belief prompting)",
         "line": {
          "color": "#32CD32",
          "width": 2
         },
         "mode": "lines+markers",
         "name": "Gemini 2.5 Pro (belief prompting)",
         "showlegend": false,
         "type": "scatter",
         "x": {
          "bdata": "AAECAwQFBgcICQoLDA0ODxAREhMU",
          "dtype": "i1"
         },
         "xaxis": "x9",
         "y": {
          "bdata": "MzMzMzPCo0AzMzMzc26mQM3MzMxMp6ZAuHzLt3xNqUDLt3zLtwKpQHZiJ3Zi/6lA0iAN0iAzqUCRz7rBFG+qQFPks24w/6pAAAAAAPC1q0DGGGOMMZCvQGZmZmZmkq1At23btu0lr0C0l9BeQk2wQJjQXkJ7KrBAJ3ZiJ3Y8sED0PM/zPPSwQF5DeQ3l/7NAG8prKK8Ys0DKayivocOzQFVVVVVV9LZA",
          "dtype": "f8"
         },
         "yaxis": "y9"
        },
        {
         "hoverinfo": "skip",
         "legendgroup": "Deepseek R1 (ABBEL)",
         "line": {
          "width": 0
         },
         "mode": "lines",
         "showlegend": false,
         "type": "scatter",
         "x": [
          0,
          1,
          2,
          3,
          4,
          5,
          6,
          7,
          8,
          9,
          10,
          11,
          12,
          13,
          14,
          15,
          16,
          17,
          18,
          19,
          20
         ],
         "xaxis": "x4",
         "y": {
          "bdata": "6IDJVGvlmEBI4jMx84yhQEXhQMpOP6NAGTeJPbFepkDWI43oGp+kQFR1yZSrXKxAPS66dxrPo0CMNmOc7tCmQJPBB4n60Z1A0EY0ZnBuqEBc8NE1xFWoQKCF5xxzEq1A5iu3m/qMrEC4oOVgG6KnQNRFBNpvV6FAe/HPwD7bqUB2tRwjwy6vQJjO9HTTaqtAwbrmUuOGskBY+GNM4ZqrQN6/y3wIpKxA",
          "dtype": "f8"
         },
         "yaxis": "y4"
        },
        {
         "fill": "tonexty",
         "fillcolor": "rgba(139, 0, 0, 0.2)",
         "hoverinfo": "skip",
         "legendgroup": "Deepseek R1 (ABBEL)",
         "line": {
          "width": 0
         },
         "mode": "lines",
         "showlegend": false,
         "type": "scatter",
         "x": [
          0,
          1,
          2,
          3,
          4,
          5,
          6,
          7,
          8,
          9,
          10,
          11,
          12,
          13,
          14,
          15,
          16,
          17,
          18,
          19,
          20
         ],
         "xaxis": "x4",
         "y": {
          "bdata": "TLJp3scbnUC4HczODAakQFW4WM/Kq6dA58h2ws44rEBuVYD8GmuqQFZFmzWqCLNAGSeb3Tp/qUDXOBDPXC2wQOvTMHC3I6NAh5rdq0OWsEAaclVAntuvQFiz7pg8c7NApwO+SxyJtEAAv09FGwWwQNZkptA6XKhAoHtp5XfEsUAtSP2cWCe1QChqy1zzIrNAJ+ik29YfuUACvrb8GjWyQAVdabU4x7NA",
          "dtype": "f8"
         },
         "yaxis": "y4"
        },
        {
         "legendgroup": "Deepseek R1 (ABBEL)",
         "line": {
          "color": "#8B0000",
          "width": 2
         },
         "mode": "lines+markers",
         "name": "Deepseek R1 (ABBEL)",
         "showlegend": false,
         "type": "scatter",
         "x": {
          "bdata": "AAECAwQFBgcICQoLDA0ODxAREhMU",
          "dtype": "i1"
         },
         "xaxis": "x4",
         "y": {
          "bdata": "mpmZmZkAm0AAAAAAgMmiQM3MzMyMdaVAAAAAAMBLqUCivIbyGoWnQAAAAACAm7BAq6qqqiqnpkAd1EEd1JWrQFpaWlpaBqFA77333nvNrEA7sRM7sRisQBQ7sRM7/rBAzczMzMxnsUBcj8L1KNarQFVVVVXV2aRAXXTRRReyrkB00UUXXV+yQLrooosubLBAdNFFF13TtUAXXXTRRQGwQHqe53meDLFA",
          "dtype": "f8"
         },
         "yaxis": "y4"
        },
        {
         "hoverinfo": "skip",
         "legendgroup": "Deepseek R1 (belief prompting)",
         "line": {
          "width": 0
         },
         "mode": "lines",
         "showlegend": false,
         "type": "scatter",
         "x": [
          0,
          1,
          2,
          3,
          4,
          5,
          6,
          7,
          8,
          9,
          10,
          11,
          12,
          13,
          14,
          15,
          16,
          17,
          18,
          19,
          20
         ],
         "xaxis": "x4",
         "y": {
          "bdata": "f2Z1NwVRmEC7JgwCPGOgQMbhpWDx+aBAAjBSyC0KokDWbXWiDYShQFFfyj0mh6JA6GmSioMOokBwrIqQn9KnQLws7qAKyKVAZ6E0rSFAq0Am4tup7raqQAYnXFhzwadAjOAR+7QFpkDW7TSDTe6wQPi94Qa6zK5AT+jNl8FDp0DgHCj35hGnQFOGkOtwWadAOFJ4+MARokDY68WgyPahQAm0yLwzK6FA",
          "dtype": "f8"
         },
         "yaxis": "y4"
        },
        {
         "fill": "tonexty",
         "fillcolor": "rgba(255, 99, 71, 0.2)",
         "hoverinfo": "skip",
         "legendgroup": "Deepseek R1 (belief prompting)",
         "line": {
          "width": 0
         },
         "mode": "lines",
         "showlegend": false,
         "type": "scatter",
         "x": [
          0,
          1,
          2,
          3,
          4,
          5,
          6,
          7,
          8,
          9,
          10,
          11,
          12,
          13,
          14,
          15,
          16,
          17,
          18,
          19,
          20
         ],
         "xaxis": "x4",
         "y": {
          "bdata": "gZmKyPpMnEARpsDKEPmiQAbrJmzb9aNAeN2SbWaZpUCiCgPWaninQK+gNcI5FqpAVEeBsC1dqEB6OkBkFPywQKJH46QMs65AlkGKcoEMtEC529531fizQNsvS2Er3bBAWlWC3JtEr0AcLZXo2hi5QKbdFe+9lbVAZu9RwgK2sUBFpiA5wcuxQOXLRplWFLJABOrDQ3saqUAoFDpfd7ipQPdLN0MMfKpA",
          "dtype": "f8"
         },
         "yaxis": "y4"
        },
        {
         "legendgroup": "Deepseek R1 (belief prompting)",
         "line": {
          "color": "#FF6347",
          "width": 2
         },
         "mode": "lines+markers",
         "name": "Deepseek R1 (belief prompting)",
         "showlegend": false,
         "type": "scatter",
         "x": {
          "bdata": "AAECAwQFBgcICQoLDA0ODxAREhMU",
          "dtype": "i1"
         },
         "xaxis": "x4",
         "y": {
          "bdata": "AAAAAABPmkBmZmZmJq6hQGZmZmbmd6JAvYbyGsrRo0A8PDw8PH6kQAAAAACwTqZAntiJndg1pUCykIUsZOWsQC+66KKLPapAJUmSJEnWsEBmZmZmJqqwQF5DeQ3lvaxA8xrKayilqkB5DeU1lAO1QFFeQ3kNfrJAjuM4juNXrUC1tLS0tFStQA8PDw8Pwa1AHh4eHh6WpUAAAAAAoNelQAAAAACg06VA",
          "dtype": "f8"
         },
         "yaxis": "y4"
        },
        {
         "hoverinfo": "skip",
         "legendgroup": "Gemini 2.5 Pro (ABBEL)",
         "line": {
          "width": 0
         },
         "mode": "lines",
         "showlegend": false,
         "type": "scatter",
         "x": [
          0,
          1,
          2,
          3,
          4,
          5,
          6,
          7,
          8,
          9,
          10,
          11,
          12,
          13,
          14,
          15,
          16,
          17,
          18,
          19,
          20
         ],
         "xaxis": "x4",
         "y": {
          "bdata": "cHa+glMElUCSx5Da84WYQFzvIVHpj5lA2Jyuy9jImkDgaacLBc+bQOQ5zemuppxAmvuJTH9lnEBigwJBHeObQPERRxqjX55APPvxQswinkBhz+KN+ZWjQDz9T7b08qBA7pVs3n9mo0CqyFErDCOgQEH48nZEIaBAKI38Re0+oUDDH1Y/F/+mQKdt9dr8z6VA28WvCnREpEBMPDCIBpyeQC8f1mH54pxA",
          "dtype": "f8"
         },
         "yaxis": "y4"
        },
        {
         "fill": "tonexty",
         "fillcolor": "rgba(0, 100, 0, 0.2)",
         "hoverinfo": "skip",
         "legendgroup": "Gemini 2.5 Pro (ABBEL)",
         "line": {
          "width": 0
         },
         "mode": "lines",
         "showlegend": false,
         "type": "scatter",
         "x": [
          0,
          1,
          2,
          3,
          4,
          5,
          6,
          7,
          8,
          9,
          10,
          11,
          12,
          13,
          14,
          15,
          16,
          17,
          18,
          19,
          20
         ],
         "xaxis": "x4",
         "y": {
          "bdata": "kIlBfay8lkDUntWLcjKaQHDdqnvjN5tAzKRr2GiRnUDUSg2pr4WeQBzGMhYRAZ9AdkZ+1ATjn0B6M2uamcqfQLIhhx3ZSKFAYgKH3pmYoUARTeTjIp+nQNQRv1gaBKRATqbPXbwZp0BWN67UM52jQANMUc3/cqNATERJ0W95pECxse/XRSGqQBN7rbAx/qpAi6C2W/LZqUD2qFnYw9eiQGjwFE8D7aBA",
          "dtype": "f8"
         },
         "yaxis": "y4"
        },
        {
         "legendgroup": "Gemini 2.5 Pro (ABBEL)",
         "line": {
          "color": "#006400",
          "width": 2
         },
         "mode": "lines+markers",
         "name": "Gemini 2.5 Pro (ABBEL)",
         "showlegend": false,
         "type": "scatter",
         "x": {
          "bdata": "AAECAwQFBgcICQoLDA0ODxAREhMU",
          "dtype": "i1"
         },
         "xaxis": "x4",
         "y": {
          "bdata": "AAAAAIDglUAzMzMzM1yZQGZmZmbmY5pA0iAN0iAtnEBaWlpaWiqdQAAAAADg051ACCGEEEIknkBu27Zt29adQFVVVVVVPKBAAAAAAABVoEA5juM4jpqlQIiHh4eHe6JAHh4eHh5ApUAAAAAAIOChQCIiIiIiyqFAuuiiiy7cokC66KKLLpCoQF100UUXZ6hAMzMzMzMPp0CO4ziO4xKhQAAAAACAXp9A",
          "dtype": "f8"
         },
         "yaxis": "y4"
        },
        {
         "hoverinfo": "skip",
         "legendgroup": "Gemini 2.5 Pro (belief prompting)",
         "line": {
          "width": 0
         },
         "mode": "lines",
         "showlegend": false,
         "type": "scatter",
         "x": [
          0,
          1,
          2,
          3,
          4,
          5,
          6,
          7,
          8,
          9,
          10,
          11,
          12,
          13,
          14,
          15,
          16,
          17,
          18,
          19,
          20
         ],
         "xaxis": "x4",
         "y": {
          "bdata": "eb+5VbEDlUA4jTbHv9CXQASAWHhuPZlA5yjJMJ/pmECeMHGh7eGZQBzrsOpjHplANqVGofc2mkC5ZPfX4DucQJrH5TGRsKBAVlawS886nEDJl5CQn56fQMMD3Ud6QKBA7Vrup9fQokDex5ryS7mdQOExHE5Mg6BAO/ihZe2toEDLKksuhwejQHJV3S2VAqBARYnNk7nhp0AjFqxAtzKfQJbVmP8n3qBA",
          "dtype": "f8"
         },
         "yaxis": "y4"
        },
        {
         "fill": "tonexty",
         "fillcolor": "rgba(50, 205, 50, 0.2)",
         "hoverinfo": "skip",
         "legendgroup": "Gemini 2.5 Pro (belief prompting)",
         "line": {
          "width": 0
         },
         "mode": "lines",
         "showlegend": false,
         "type": "scatter",
         "x": [
          0,
          1,
          2,
          3,
          4,
          5,
          6,
          7,
          8,
          9,
          10,
          11,
          12,
          13,
          14,
          15,
          16,
          17,
          18,
          19,
          20
         ],
         "xaxis": "x4",
         "y": {
          "bdata": "h0BGqk62lkD8pfxrc9iZQMhMdFRek5tAs3DQaPrxmkDwssfs9e6cQEKJIFuzfptAYNbTv8E4nUBHmwgoH+GfQOBF/wMD/6NAY7hg6HvHoEA+1tlZ0gqjQNvUrFVebaNAvU+8AtMupkC7Rl2xBFaiQOuasH6AraRAG12z72c3pkD9RtGY6qSnQI6qItJq06NAu3YybEa+rEDv9KlfJIKhQGoqZwDYX6JA",
          "dtype": "f8"
         },
         "yaxis": "y4"
        },
        {
         "legendgroup": "Gemini 2.5 Pro (belief prompting)",
         "line": {
          "color": "#32CD32",
          "width": 2
         },
         "mode": "lines+markers",
         "name": "Gemini 2.5 Pro (belief prompting)",
         "showlegend": false,
         "type": "scatter",
         "x": {
          "bdata": "AAECAwQFBgcICQoLDA0ODxAREhMU",
          "dtype": "i1"
         },
         "xaxis": "x4",
         "y": {
          "bdata": "AAAAAADdlUCamZmZmdSYQGZmZmZmaJpAzczMzMztmUDHcRzHcWibQC+66KKLTppAyz2NsNy3m0AAAAAAgA6eQL2G8hrKV6JAjuM4juPknkAREREREW2hQE/sxE7s1qFAVVVVVdV/pEBVVVVVVZmgQGZmZmZmmKJAq6qqqqpyo0DkOI7jOFalQAAAAAAA66FAAAAAAABQqkAAAAAAwI2gQAAAAAAAn6FA",
          "dtype": "f8"
         },
         "yaxis": "y4"
        },
        {
         "hoverinfo": "skip",
         "legendgroup": "Deepseek R1",
         "line": {
          "width": 0
         },
         "mode": "lines",
         "showlegend": false,
         "type": "scatter",
         "x": [
          0,
          1,
          2,
          3,
          4,
          5,
          6,
          7,
          8,
          9,
          10,
          11,
          12,
          13,
          14,
          15,
          16,
          17,
          18,
          19,
          20
         ],
         "xaxis": "x10",
         "y": {
          "bdata": "4f2UEgQAlUAC2Hc0cpGkQIe6QKfS2bBAbXaD9lA1s0AymTCvBVizQFfqFdu9vLtAKCmsMfQktUAJst9OkVK2QPho12NBJrdA0H3v54r1vUDITuy7wn65QOe9cb7bx79AqdsiZlazv0Akbg4PW6/AQJvc95r2mcJAJ2B3uaKav0DtBMMCCVvFQOZWAIKrisFAkxAPfri/w0DhDzcYur7DQKBXSG//qMNA",
          "dtype": "f8"
         },
         "yaxis": "y10"
        },
        {
         "fill": "tonexty",
         "fillcolor": "rgba(255, 182, 193, 0.2)",
         "hoverinfo": "skip",
         "legendgroup": "Deepseek R1",
         "line": {
          "width": 0
         },
         "mode": "lines",
         "showlegend": false,
         "type": "scatter",
         "x": [
          0,
          1,
          2,
          3,
          4,
          5,
          6,
          7,
          8,
          9,
          10,
          11,
          12,
          13,
          14,
          15,
          16,
          17,
          18,
          19,
          20
         ],
         "xaxis": "x10",
         "y": {
          "bdata": "uZsEh5UynEDK9FSYWlirQK148oug7bNA520weN8LuEA0zTW3YC64QDiXpti5+8BAKPp/xUDtvECvbKWcwBu+QPPF5+m9GsFAcglLouxgw0AoB8SKQffBQK/dTRMtvcVAitVn2jlcx0DqdieFfO/HQA/Osg+0LMlAR6qe/QgKxkCbgsSEftHMQBqp/33UMMlAbe/wgdd/y0Af8MjnFWfKQGCot5DAj8tA",
          "dtype": "f8"
         },
         "yaxis": "y10"
        },
        {
         "legendgroup": "Deepseek R1",
         "line": {
          "color": "#FFB6C1",
          "width": 2
         },
         "mode": "lines+markers",
         "name": "Deepseek R1",
         "showlegend": false,
         "type": "scatter",
         "x": {
          "bdata": "AAECAwQFBgcICQoLDA0ODxAREhMU",
          "dtype": "i1"
         },
         "xaxis": "x10",
         "y": {
          "bdata": "zczMzEyZmEBmZmZm5vSnQJqZmZm5Y7JAKvJZN5igtUAzMzMzM8O1QGOMMcYY2r5AqBGWexoJuUBcj8L1KDe6QG9605verbxALWQhC9ktwUCMLrroora+QFFeQ3mN0MJAr6G8hvKaw0CH8hrKa0/EQFVVVVVV48VALS0tLa3rwkDEw8PDQxbJQAAAAADAXcVAAAAAAMifx0AAAAAA6BLHQAAAAABgnMdA",
          "dtype": "f8"
         },
         "yaxis": "y10"
        },
        {
         "hoverinfo": "skip",
         "legendgroup": "Deepseek R1 (ABBEL)",
         "line": {
          "width": 0
         },
         "mode": "lines",
         "showlegend": false,
         "type": "scatter",
         "x": [
          0,
          1,
          2,
          3,
          4,
          5,
          6,
          7,
          8,
          9,
          10,
          11,
          12,
          13,
          14,
          15,
          16,
          17,
          18,
          19,
          20
         ],
         "xaxis": "x10",
         "y": {
          "bdata": "OSxjqxnWp0AgYTPluEu7QKJJg4/ZWblAEnVCQhY4t0DSlJTxcSK2QHiSGDBez7hA8ppslLVUs0CoO82IAxy2QDhsVF5Sb7FAtzfLt9/js0CVXJmiYdi1QG9ulgxvg7dACyCWNrVtuEBjZvWZ0ja0QKygo+VikbJAOeR3+B5jtUD0fK0e+x25QHFgQLvJc7dAnNWYhEa+vEC4anf3xHW2QMKgxQMdbbdA",
          "dtype": "f8"
         },
         "yaxis": "y10"
        },
        {
         "fill": "tonexty",
         "fillcolor": "rgba(139, 0, 0, 0.2)",
         "hoverinfo": "skip",
         "legendgroup": "Deepseek R1 (ABBEL)",
         "line": {
          "width": 0
         },
         "mode": "lines",
         "showlegend": false,
         "type": "scatter",
         "x": [
          0,
          1,
          2,
          3,
          4,
          5,
          6,
          7,
          8,
          9,
          10,
          11,
          12,
          13,
          14,
          15,
          16,
          17,
          18,
          19,
          20
         ],
         "xaxis": "x10",
         "y": {
          "bdata": "YW027v9yrEB6OGa0IFu/QF62fHCmH71AVPEjJJB+vECakxqwSum6QFDfA5eTkL5ARvN2pFjctkAIvb0m9by7QBTf9uz46bRAzdh2UEE2uUBXaLVJY7+5QN99LkJ9fbxAmVCn0yHMvkB/FB8UdZy4QKq0sW8yv7ZAmWGfZFVIu0DGa/VsM+i+QANxBVyTor5AvsNtpv+EwkAwOBQ39ba6QNCDg44HMr1A",
          "dtype": "f8"
         },
         "yaxis": "y10"
        },
        {
         "legendgroup": "Deepseek R1 (ABBEL)",
         "line": {
          "color": "#8B0000",
          "width": 2
         },
         "mode": "lines+markers",
         "name": "Deepseek R1 (ABBEL)",
         "showlegend": false,
         "type": "scatter",
         "x": {
          "bdata": "AAECAwQFBgcICQoLDA0ODxAREhMU",
          "dtype": "i1"
         },
         "xaxis": "x10",
         "y": {
          "bdata": "zczMzIwkqkDNzMzMbFO9QAAAAADAPLtAMzMzM1PbuUA2lNdQ3oW4QOQ4juP4r7tAHMdxHIcYtUBYfMVXfOy4QKalpaWlLLNAQgghhBCNtkB2Yid24su3QCd2Yid2ALpAUrgeheucu0BxPQrXo2m2QKuqqqpKqLRA6aKLLrpVuEBddNFFFwO8QLrooosuC7tARhdddBFywEB00UUXXZa4QEmSJEmST7pA",
          "dtype": "f8"
         },
         "yaxis": "y10"
        },
        {
         "hoverinfo": "skip",
         "legendgroup": "Deepseek R1 (belief prompting)",
         "line": {
          "width": 0
         },
         "mode": "lines",
         "showlegend": false,
         "type": "scatter",
         "x": [
          0,
          1,
          2,
          3,
          4,
          5,
          6,
          7,
          8,
          9,
          10,
          11,
          12,
          13,
          14,
          15,
          16,
          17,
          18,
          19,
          20
         ],
         "xaxis": "x10",
         "y": {
          "bdata": "atsn3GOZpkBkhEVpWq+yQFMZAChYCLRA6Xzqm6wis0BOg/XHOBWyQMUcKtEAPrRAxuSzar2stkB5nMEFctS1QJEzcNX/CLhA7KePkjnwuUCK5MqRZ+6/QExaUY8Por5AXnsCme7BtUDJ33ZL1aPAQL48Py7SdMVAqpQ5t10Ku0DPr5+xGUPAQAxA3mC2m8JAuPhb+SoHwkAAiU4qSiXCQO5GBv8ITsRA",
          "dtype": "f8"
         },
         "yaxis": "y10"
        },
        {
         "fill": "tonexty",
         "fillcolor": "rgba(255, 99, 71, 0.2)",
         "hoverinfo": "skip",
         "legendgroup": "Deepseek R1 (belief prompting)",
         "line": {
          "width": 0
         },
         "mode": "lines",
         "showlegend": false,
         "type": "scatter",
         "x": [
          0,
          1,
          2,
          3,
          4,
          5,
          6,
          7,
          8,
          9,
          10,
          11,
          12,
          13,
          14,
          15,
          16,
          17,
          18,
          19,
          20
         ],
         "xaxis": "x10",
         "y": {
          "bdata": "YvGk8OhUqkDQru3JmDm1QEeAmXFBJLhAZ+FY3WAxt0CibfsouP+2QDvj1S7vibtA/mk4WpGSvkC/IChI/aG9QM1AYXAX4r5AnFAByQeBwUAh9ICdck3HQGBFcgJkEcZAbPAlFrPovkAdVh2Me6vGQHhXmCKMDcxAORmcsrRLw0C51+fVbcnFQJplx0TvF8lAwH8cf02ByEAAd7HVRXXJQBK5+QD3YsxA",
          "dtype": "f8"
         },
         "yaxis": "y10"
        },
        {
         "legendgroup": "Deepseek R1 (belief prompting)",
         "line": {
          "color": "#FF6347",
          "width": 2
         },
         "mode": "lines+markers",
         "name": "Deepseek R1 (belief prompting)",
         "showlegend": false,
         "type": "scatter",
         "x": {
          "bdata": "AAECAwQFBgcICQoLDA0ODxAREhMU",
          "dtype": "i1"
         },
         "xaxis": "x10",
         "y": {
          "bdata": "ZmZmZiZ3qECamZmZefSzQM3MzMxMFrZAKK+hvAYqtUB4eHh4eIq0QAAAAAD447dAYid2YqefukCc3vSmN7u5QC+66KKLdbtAkiRJkiR5vkAzMzMzU6LDQEN5DeU1scJA5TWU11BVukDzGsprqKfDQBvKaygvwchAx3Ecx3FowEDEw8PDQwbDQNPS0tLS2cVAPDw8PDxExUAAAAAASM3FQAAAAACAWMhA",
          "dtype": "f8"
         },
         "yaxis": "y10"
        },
        {
         "hoverinfo": "skip",
         "legendgroup": "Gemini 2.5 Pro",
         "line": {
          "width": 0
         },
         "mode": "lines",
         "showlegend": false,
         "type": "scatter",
         "x": [
          0,
          1,
          2,
          3,
          4,
          5,
          6,
          7,
          8,
          9,
          10,
          11,
          12,
          13,
          14,
          15,
          16,
          17,
          18,
          19,
          20
         ],
         "xaxis": "x10",
         "y": {
          "bdata": "gpUgP47NlUDkob+885+cQAbSR3jbQJxACMJJdsKLnkAcfF/0lgGgQM/+j5hYm6FA6x2IbTTXoEA4AUqTHlWhQHlJf4lrSKJAPG5Q4xFzo0AqzPI1TI6kQFAYC7m2/KFA0Y2lHZXTpUBT+QU+TWilQJ6OjNYBXq9ArepD6qLUrEC5YihMM2atQDuk7cXZnK1AqT2wJVcgrEDYUOPaX7yxQCjDpf9e17NA",
          "dtype": "f8"
         },
         "yaxis": "y10"
        },
        {
         "fill": "tonexty",
         "fillcolor": "rgba(144, 238, 144, 0.2)",
         "hoverinfo": "skip",
         "legendgroup": "Gemini 2.5 Pro",
         "line": {
          "width": 0
         },
         "mode": "lines",
         "showlegend": false,
         "type": "scatter",
         "x": [
          0,
          1,
          2,
          3,
          4,
          5,
          6,
          7,
          8,
          9,
          10,
          11,
          12,
          13,
          14,
          15,
          16,
          17,
          18,
          19,
          20
         ],
         "xaxis": "x10",
         "y": {
          "bdata": "sp0S9KRQl0CCxKapcqSeQGCUHu6KnJ5AL1IO+FGVoEDkg6ALaVmhQP3NPDR0W6NAuSOSNg3rokCqKnRPDQGjQK1R7She6qNAmJp6Wnu9pUA4W4Ms23OnQGrQl9J3BaVASznM/jH4qECtBvrBcgWpQGPM9MUSbLNA5bvxxV93sUAv/aVCiSSxQEiUb4P5GrJA+a30OaGqsEAorxwloIO2QBDLPTkvHLlA",
          "dtype": "f8"
         },
         "yaxis": "y10"
        },
        {
         "legendgroup": "Gemini 2.5 Pro",
         "line": {
          "color": "#90EE90",
          "width": 2
         },
         "mode": "lines+markers",
         "name": "Gemini 2.5 Pro",
         "showlegend": false,
         "type": "scatter",
         "x": {
          "bdata": "AAECAwQFBgcICQoLDA0ODxAREhMU",
          "dtype": "i1"
         },
         "xaxis": "x10",
         "y": {
          "bdata": "mpmZmRmPlkAzMzMzM6KdQDMzMzOzbp1AMzMzMzPbn0AAAAAAgK2gQGZmZmZme6JA0iAN0iDhoUDxFV/xFSuiQJNNNtlkGaNAaoTlnkaYpECxEzuxEwGmQF100UUXgaNAjuM4juNlp0AAAAAA4DanQNmJndiJjbFAO7ETO7Hhr0CMLrrootevQDMzMzOzdLBAzczMzMy6rkAAAAAAACC0QBzHcRzHebZA",
          "dtype": "f8"
         },
         "yaxis": "y10"
        },
        {
         "hoverinfo": "skip",
         "legendgroup": "Gemini 2.5 Pro (ABBEL)",
         "line": {
          "width": 0
         },
         "mode": "lines",
         "showlegend": false,
         "type": "scatter",
         "x": [
          0,
          1,
          2,
          3,
          4,
          5,
          6,
          7,
          8,
          9,
          10,
          11,
          12,
          13,
          14,
          15,
          16,
          17,
          18,
          19,
          20
         ],
         "xaxis": "x10",
         "y": {
          "bdata": "PHwNKS1LpUDYF2iSjyyoQCqrgY4KzKdAO8ZudAJhqEBTyFuEefyoQBvtATIkNKpAl2Rz1zSrqUByRBv9/HepQCQQWjC2S6tAdH0CDDbBq0BjXdyezE+wQLJqR+U3Wq9ABKO/mET/sEAOPs7MVcGvQAdt49/OIq1A3M3otAF6rkD5rJ3k3e2yQKuWiWw5BbNA840mCUlws0CpXTwITHKuQJnjQVdjGrJA",
          "dtype": "f8"
         },
         "yaxis": "y10"
        },
        {
         "fill": "tonexty",
         "fillcolor": "rgba(0, 100, 0, 0.2)",
         "hoverinfo": "skip",
         "legendgroup": "Gemini 2.5 Pro (ABBEL)",
         "line": {
          "width": 0
         },
         "mode": "lines",
         "showlegend": false,
         "type": "scatter",
         "x": [
          0,
          1,
          2,
          3,
          4,
          5,
          6,
          7,
          8,
          9,
          10,
          11,
          12,
          13,
          14,
          15,
          16,
          17,
          18,
          19,
          20
         ],
         "xaxis": "x10",
         "y": {
          "bdata": "Xh2McGyepkD0tGQ6PWepQNZUfnF1D6lAncMuZIdQqkA1vysDDqGqQOUS/s0bCqxAq6OtrNuuq0COu+QCAw+sQNzvpc9JxK1AXsgUUT66rkCB27FEbF6yQHkdL+C2H7JAVreawRUXs0D54JgZ1eyxQAXSlhghUbFAQFN0yIpTsUAHU2IbIqy1QOGXMHxpqLZApwtzkFD7t0Ce7aht9iGxQGccvqjctrVA",
          "dtype": "f8"
         },
         "yaxis": "y10"
        },
        {
         "legendgroup": "Gemini 2.5 Pro (ABBEL)",
         "line": {
          "color": "#006400",
          "width": 2
         },
         "mode": "lines+markers",
         "name": "Gemini 2.5 Pro (ABBEL)",
         "showlegend": false,
         "type": "scatter",
         "x": {
          "bdata": "AAECAwQFBgcICQoLDA0ODxAREhMU",
          "dtype": "i1"
         },
         "xaxis": "x10",
         "y": {
          "bdata": "zczMzMz0pUBmZmZm5smoQAAAAADAbahA7MRO7MRYqUDEw8PDw86pQAAAAAAgH6tAIYQQQgitqkAAAAAAgMOqQAAAAAAAiKxA6aKLLro9rUByHMdxHFexQGlpaWlp5rBALS0tLS0LskAAAAAAwOawQImIiIiI4q9AF1100UVIsEAAAAAAAE20QEYXXXTR1rRAzczMzMy1tUA5juM4ji2wQAAAAACg6LNA",
          "dtype": "f8"
         },
         "yaxis": "y10"
        },
        {
         "hoverinfo": "skip",
         "legendgroup": "Gemini 2.5 Pro (belief prompting)",
         "line": {
          "width": 0
         },
         "mode": "lines",
         "showlegend": false,
         "type": "scatter",
         "x": [
          0,
          1,
          2,
          3,
          4,
          5,
          6,
          7,
          8,
          9,
          10,
          11,
          12,
          13,
          14,
          15,
          16,
          17,
          18,
          19,
          20
         ],
         "xaxis": "x10",
         "y": {
          "bdata": "UlDByxFZp0A+7XetdRSpQIvq+fbpRqpAXRqi6AHOqkA0LcTb1gGqQDAINTNMIKpAjgdN3VdPq0B7ndwCw4GrQH5anzh8X7BA4P8X3aBeq0AU6rqsNy2wQBvSR9NR1K5AOHs5+EN5sEBALV5/FymvQHGU43V7BLFAq1MdwCHnsEC3Hc76ni+yQIv1xpzj+bJA/m78BCQWtUCV0ApZ55SuQBiD07V8SLFA",
          "dtype": "f8"
         },
         "yaxis": "y10"
        },
        {
         "fill": "tonexty",
         "fillcolor": "rgba(50, 205, 50, 0.2)",
         "hoverinfo": "skip",
         "legendgroup": "Gemini 2.5 Pro (belief prompting)",
         "line": {
          "width": 0
         },
         "mode": "lines",
         "showlegend": false,
         "type": "scatter",
         "x": [
          0,
          1,
          2,
          3,
          4,
          5,
          6,
          7,
          8,
          9,
          10,
          11,
          12,
          13,
          14,
          15,
          16,
          17,
          18,
          19,
          20
         ],
         "xaxis": "x10",
         "y": {
          "bdata": "SEnYzQexqECO31QfV9+qQEHi0tXi7atAb7Iq5MpNrEAEYR9dt9arQFQHCcWUL6xAcviyIqikrUDbt3hSEpCuQNIDpECRfbJABDl2BpjhrkD+JlZk2QOyQAZSDSoSY7FAci9xsuatskAKlPvqno2xQI9rHIqE97RAOeVwIxdfs0BlqaMhKM61QHUKOWMcf7VAApED+9u8uEC1l3pTDEuxQOh8LEpDSbNA",
          "dtype": "f8"
         },
         "yaxis": "y10"
        },
        {
         "legendgroup": "Gemini 2.5 Pro (belief prompting)",
         "line": {
          "color": "#32CD32",
          "width": 2
         },
         "mode": "lines+markers",
         "name": "Gemini 2.5 Pro (belief prompting)",
         "showlegend": false,
         "type": "scatter",
         "x": {
          "bdata": "AAECAwQFBgcICQoLDA0ODxAREhMU",
          "dtype": "i1"
         },
         "xaxis": "x10",
         "y": {
          "bdata": "zczMzAwFqEBmZmZm5vmpQGZmZmZmGqtAZmZmZuaNq0Acx3EcR+yqQMIHH3zwJ6tAAAAAAAB6rECrqqqq6gitQCivobyGbrFAchzHcRwgrUCJiIiIiBixQIqd2ImdZrBAVVVVVZWTsUBVVVVVFZGwQAAAAAAA/rJAchzHcRwjskCO4ziO4/6zQAAAAACAPLRAAAAAAIDptkAAAAAAwEqwQAAAAADgSLJA",
          "dtype": "f8"
         },
         "yaxis": "y10"
        },
        {
         "hoverinfo": "skip",
         "legendgroup": "Deepseek R1 (ABBEL)",
         "line": {
          "width": 0
         },
         "mode": "lines",
         "showlegend": false,
         "type": "scatter",
         "x": [
          0,
          1,
          2,
          3,
          4,
          5,
          6
         ],
         "xaxis": "x5",
         "y": {
          "bdata": "ufnWCv2MsECZC+/DlKK4QHczM7LGnL1AEcop5obCu0CsC2m6lwewQH55s47KybZA1l2LKFI3r0A=",
          "dtype": "f8"
         },
         "yaxis": "y5"
        },
        {
         "fill": "tonexty",
         "fillcolor": "rgba(139, 0, 0, 0.2)",
         "hoverinfo": "skip",
         "legendgroup": "Deepseek R1 (ABBEL)",
         "line": {
          "width": 0
         },
         "mode": "lines",
         "showlegend": false,
         "type": "scatter",
         "x": [
          0,
          1,
          2,
          3,
          4,
          5,
          6
         ],
         "xaxis": "x5",
         "y": {
          "bdata": "RwYp9cL2s0ABjqrVREa+QOI+cER1OcJA7kNHHH8Jw0BwuwhiL8u5QGaMON3j2cJAr+pThfDivUA=",
          "dtype": "f8"
         },
         "yaxis": "y5"
        },
        {
         "legendgroup": "Deepseek R1 (ABBEL)",
         "line": {
          "color": "#8B0000",
          "width": 2
         },
         "mode": "lines+markers",
         "name": "Deepseek R1 (ABBEL)",
         "showlegend": false,
         "type": "scatter",
         "x": {
          "bdata": "AAECAwQFBg==",
          "dtype": "i1"
         },
         "xaxis": "x5",
         "y": {
          "bdata": "AAAAAOBBskDNzMzMbHS7QE/sxE7sg8BAexSuR2F1wECO4ziOY+m0QCVJkiTJPr5AzczMzEy/tkA=",
          "dtype": "f8"
         },
         "yaxis": "y5"
        },
        {
         "hoverinfo": "skip",
         "legendgroup": "Deepseek R1 (belief prompting)",
         "line": {
          "width": 0
         },
         "mode": "lines",
         "showlegend": false,
         "type": "scatter",
         "x": [
          0,
          1,
          2,
          3,
          4,
          5,
          6
         ],
         "xaxis": "x5",
         "y": {
          "bdata": "IQjsupEep0CfJjmtx7e7QNYpdj/V6sBAmPLUzM02ukAOtCYw7Ee3QMz/HePGIa1Aabxrot0+n0A=",
          "dtype": "f8"
         },
         "yaxis": "y5"
        },
        {
         "fill": "tonexty",
         "fillcolor": "rgba(255, 99, 71, 0.2)",
         "hoverinfo": "skip",
         "legendgroup": "Deepseek R1 (belief prompting)",
         "line": {
          "width": 0
         },
         "mode": "lines",
         "showlegend": false,
         "type": "scatter",
         "x": [
          0,
          1,
          2,
          3,
          4,
          5,
          6
         ],
         "xaxis": "x5",
         "y": {
          "bdata": "RV56q9R5rUAW08mPYgPBQPaiVo2378RAw5WkKCi+wEDd3nrLwl/EQIBm1/SC+bhA5hBll8g2tUA=",
          "dtype": "f8"
         },
         "yaxis": "y5"
        },
        {
         "legendgroup": "Deepseek R1 (belief prompting)",
         "line": {
          "color": "#FF6347",
          "width": 2
         },
         "mode": "lines+markers",
         "name": "Deepseek R1 (belief prompting)",
         "showlegend": false,
         "type": "scatter",
         "x": {
          "bdata": "AAECAwQFBg==",
          "dtype": "i1"
         },
         "xaxis": "x5",
         "y": {
          "bdata": "MzMzMzNMqkBmZmZmRt++QGZmZmZG7cJADw8PD4/ZvUByHMdx3AHAQDMzMzMzxbNAAAAAAIAGrUA=",
          "dtype": "f8"
         },
         "yaxis": "y5"
        },
        {
         "hoverinfo": "skip",
         "legendgroup": "Gemini 2.5 Pro (ABBEL)",
         "line": {
          "width": 0
         },
         "mode": "lines",
         "showlegend": false,
         "type": "scatter",
         "x": [
          0,
          1,
          2,
          3,
          4,
          5,
          6
         ],
         "xaxis": "x5",
         "y": {
          "bdata": "IdNOQR+lmkBOZM3ZPaiZQC++w48TQZlAvd364lwnlkBww/C0j/WUQK0ru36NZodAAAAAAAAA+H8=",
          "dtype": "f8"
         },
         "yaxis": "y5"
        },
        {
         "fill": "tonexty",
         "fillcolor": "rgba(0, 100, 0, 0.2)",
         "hoverinfo": "skip",
         "legendgroup": "Gemini 2.5 Pro (ABBEL)",
         "line": {
          "width": 0
         },
         "mode": "lines",
         "showlegend": false,
         "type": "scatter",
         "x": [
          0,
          1,
          2,
          3,
          4,
          5,
          6
         ],
         "xaxis": "x5",
         "y": {
          "bdata": "3yyxvuC0nkAYApmMKKmfQDeootZShp9AQyIFHWM/mkDASNJ7fD2cQIcHeLSlzI5AAAAAAAAA+H8=",
          "dtype": "f8"
         },
         "yaxis": "y5"
        },
        {
         "legendgroup": "Gemini 2.5 Pro (ABBEL)",
         "line": {
          "color": "#006400",
          "width": 2
         },
         "mode": "lines+markers",
         "name": "Gemini 2.5 Pro (ABBEL)",
         "showlegend": false,
         "type": "scatter",
         "x": {
          "bdata": "AAECAwQFBg==",
          "dtype": "i1"
         },
         "xaxis": "x5",
         "y": {
          "bdata": "AAAAAACtnEAzMzMzs6icQDMzMzOzY5xAAAAAAGAzmEAYhmEYhpmYQJqZmZmZGYtAAAAAAAAogEA=",
          "dtype": "f8"
         },
         "yaxis": "y5"
        },
        {
         "hoverinfo": "skip",
         "legendgroup": "Gemini 2.5 Pro (belief prompting)",
         "line": {
          "width": 0
         },
         "mode": "lines",
         "showlegend": false,
         "type": "scatter",
         "x": [
          0,
          1,
          2,
          3,
          4,
          5,
          6
         ],
         "xaxis": "x5",
         "y": {
          "bdata": "KWu3gVw4mUBmt6JA8NaXQNtt45BgYphA0FcJk5z+mECku/5PB7GZQKjIliAxFphAI+VYY5tzkkA=",
          "dtype": "f8"
         },
         "yaxis": "y5"
        },
        {
         "fill": "tonexty",
         "fillcolor": "rgba(50, 205, 50, 0.2)",
         "hoverinfo": "skip",
         "legendgroup": "Gemini 2.5 Pro (belief prompting)",
         "line": {
          "width": 0
         },
         "mode": "lines",
         "showlegend": false,
         "type": "scatter",
         "x": [
          0,
          1,
          2,
          3,
          4,
          5,
          6
         ],
         "xaxis": "x5",
         "y": {
          "bdata": "cS7iFz1Em0BmFSqM3FqbQCWSHG+f2pxA1A83cm20oEAuogBYfJGiQHQN0TZZradAbo1TTjK6oEA=",
          "dtype": "f8"
         },
         "yaxis": "y5"
        },
        {
         "legendgroup": "Gemini 2.5 Pro (belief prompting)",
         "line": {
          "color": "#32CD32",
          "width": 2
         },
         "mode": "lines+markers",
         "name": "Gemini 2.5 Pro (belief prompting)",
         "showlegend": false,
         "type": "scatter",
         "x": {
          "bdata": "AAECAwQFBg==",
          "dtype": "i1"
         },
         "xaxis": "x5",
         "y": {
          "bdata": "zczMzEw+mkBmZmZm5piZQAAAAACAnppAvLu7u7sznUAAAAAAAGqfQOQ4juM43KFAAAAAAAD0mUA=",
          "dtype": "f8"
         },
         "yaxis": "y5"
        },
        {
         "hoverinfo": "skip",
         "legendgroup": "Deepseek R1",
         "line": {
          "width": 0
         },
         "mode": "lines",
         "showlegend": false,
         "type": "scatter",
         "x": [
          0,
          1,
          2,
          3,
          4
         ],
         "xaxis": "x11",
         "y": {
          "bdata": "aNDMS4NrnkB4vp9mcwXLQNAVwmhVe89AbUOCL6JHzEBQAIyJSWjGQA==",
          "dtype": "f8"
         },
         "yaxis": "y11"
        },
        {
         "fill": "tonexty",
         "fillcolor": "rgba(255, 182, 193, 0.2)",
         "hoverinfo": "skip",
         "legendgroup": "Deepseek R1",
         "line": {
          "width": 0
         },
         "mode": "lines",
         "showlegend": false,
         "type": "scatter",
         "x": [
          0,
          1,
          2,
          3,
          4
         ],
         "xaxis": "x11",
         "y": {
          "bdata": "ZjGz89cuokC8dJPM/6DOQJ7nuRVBkdFAm5ZdbZpt0ECw/3N2ltnPQA==",
          "dtype": "f8"
         },
         "yaxis": "y11"
        },
        {
         "legendgroup": "Deepseek R1",
         "line": {
          "color": "#FFB6C1",
          "width": 2
         },
         "mode": "lines+markers",
         "name": "Deepseek R1",
         "showlegend": false,
         "type": "scatter",
         "x": {
          "bdata": "AAECAwQ=",
          "dtype": "i1"
         },
         "xaxis": "x11",
         "y": {
          "bdata": "zczMzEyyoECamZmZOdPMQEN5DeV1p9BAUrgehWuRzkAAAAAA8CDLQA==",
          "dtype": "f8"
         },
         "yaxis": "y11"
        },
        {
         "hoverinfo": "skip",
         "legendgroup": "Deepseek R1 (ABBEL)",
         "line": {
          "width": 0
         },
         "mode": "lines",
         "showlegend": false,
         "type": "scatter",
         "x": [
          0,
          1,
          2,
          3,
          4,
          5,
          6
         ],
         "xaxis": "x11",
         "y": {
          "bdata": "+w+Zj++guEDvwSjk78rTQATuV6YfrNVAMmLPqSgC00C9rdu2on3QQKwDeAYiqctAhHjKaylyzEA=",
          "dtype": "f8"
         },
         "yaxis": "y11"
        },
        {
         "fill": "tonexty",
         "fillcolor": "rgba(139, 0, 0, 0.2)",
         "hoverinfo": "skip",
         "legendgroup": "Deepseek R1 (ABBEL)",
         "line": {
          "width": 0
         },
         "mode": "lines",
         "showlegend": false,
         "type": "scatter",
         "x": [
          0,
          1,
          2,
          3,
          4,
          5,
          6
         ],
         "xaxis": "x11",
         "y": {
          "bdata": "a1bN1nbvvECr13C1CR3WQCSICoHWithANASXvL2H10ALxEAQT23TQCr+w/yu8NJAipDnFjif00A=",
          "dtype": "f8"
         },
         "yaxis": "y11"
        },
        {
         "legendgroup": "Deepseek R1 (ABBEL)",
         "line": {
          "color": "#8B0000",
          "width": 2
         },
         "mode": "lines+markers",
         "name": "Deepseek R1 (ABBEL)",
         "showlegend": false,
         "type": "scatter",
         "x": {
          "bdata": "AAECAwQFBg==",
          "dtype": "i1"
         },
         "xaxis": "x11",
         "y": {
          "bdata": "MzMzMzPIukDNzMzM/PPUQBQ7sRN7G9dAMzMzM/NE1UDkOI7jePXRQAAAAACgYtBAZmZmZibs0EA=",
          "dtype": "f8"
         },
         "yaxis": "y11"
        },
        {
         "hoverinfo": "skip",
         "legendgroup": "Deepseek R1 (belief prompting)",
         "line": {
          "width": 0
         },
         "mode": "lines",
         "showlegend": false,
         "type": "scatter",
         "x": [
          0,
          1,
          2,
          3,
          4,
          5,
          6
         ],
         "xaxis": "x11",
         "y": {
          "bdata": "SrrhsSQvsUBHH/PLlDbVQL3PWobZL9lAIHfxEzGG1kAGxe0xE8rSQMaNYBD3s8xAvexaMiZSzUA=",
          "dtype": "f8"
         },
         "yaxis": "y11"
        },
        {
         "fill": "tonexty",
         "fillcolor": "rgba(255, 99, 71, 0.2)",
         "hoverinfo": "skip",
         "legendgroup": "Deepseek R1 (belief prompting)",
         "line": {
          "width": 0
         },
         "mode": "lines",
         "showlegend": false,
         "type": "scatter",
         "x": [
          0,
          1,
          2,
          3,
          4,
          5,
          6
         ],
         "xaxis": "x11",
         "y": {
          "bdata": "ghLrGuiXtEDtE0BnvtjXQKmWC+BM6NtA/qYsCm0g2kCk5bx4F5HYQB25z3eEP9VAoonS5uwl20A=",
          "dtype": "f8"
         },
         "yaxis": "y11"
        },
        {
         "legendgroup": "Deepseek R1 (belief prompting)",
         "line": {
          "color": "#FF6347",
          "width": 2
         },
         "mode": "lines+markers",
         "name": "Deepseek R1 (belief prompting)",
         "showlegend": false,
         "type": "scatter",
         "x": {
          "bdata": "AAECAwQFBg==",
          "dtype": "i1"
         },
         "xaxis": "x11",
         "y": {
          "bdata": "ZmZmZobjskCamZmZqYfWQDMzMzMTjNpADw8PD09T2EBVVVVVla3VQAAAAADAzNFAAAAAAIDn1EA=",
          "dtype": "f8"
         },
         "yaxis": "y11"
        },
        {
         "hoverinfo": "skip",
         "legendgroup": "Gemini 2.5 Pro",
         "line": {
          "width": 0
         },
         "mode": "lines",
         "showlegend": false,
         "type": "scatter",
         "x": [
          0,
          1,
          2,
          3,
          4,
          5,
          6
         ],
         "xaxis": "x11",
         "y": {
          "bdata": "0C9zlTEaiUCgcTuFgzSlQDFpJAoZ/KdAvYQaJqaFqUDO1WlgRKumQAK0eZlh2J1AAAAAAADPtEA=",
          "dtype": "f8"
         },
         "yaxis": "y11"
        },
        {
         "fill": "tonexty",
         "fillcolor": "rgba(144, 238, 144, 0.2)",
         "hoverinfo": "skip",
         "legendgroup": "Gemini 2.5 Pro",
         "line": {
          "width": 0
         },
         "mode": "lines",
         "showlegend": false,
         "type": "scatter",
         "x": [
          0,
          1,
          2,
          3,
          4,
          5,
          6
         ],
         "xaxis": "x11",
         "y": {
          "bdata": "MNCMas6/i0DG9CrhYjapQJtjqMIzX6xAHzJTtRAir0C8oPmJRoexQMvyDwCc+K1AAAAAAAAxwUA=",
          "dtype": "f8"
         },
         "yaxis": "y11"
        },
        {
         "legendgroup": "Gemini 2.5 Pro",
         "line": {
          "color": "#90EE90",
          "width": 2
         },
         "mode": "lines+markers",
         "name": "Gemini 2.5 Pro",
         "showlegend": false,
         "type": "scatter",
         "x": {
          "bdata": "AAECAwQFBg==",
          "dtype": "i1"
         },
         "xaxis": "x11",
         "y": {
          "bdata": "AAAAAABtikAzMzMzczWnQGZmZmamLapAbtu2bdtTrECjiy666NysQGZmZmZmcqZAAAAAAICYu0A=",
          "dtype": "f8"
         },
         "yaxis": "y11"
        },
        {
         "hoverinfo": "skip",
         "legendgroup": "Gemini 2.5 Pro (ABBEL)",
         "line": {
          "width": 0
         },
         "mode": "lines",
         "showlegend": false,
         "type": "scatter",
         "x": [
          0,
          1,
          2,
          3,
          4,
          5,
          6
         ],
         "xaxis": "x11",
         "y": {
          "bdata": "+hjkvpAapECV2QThixizQCDAL9fQabRAAr/JbRhQs0DUpPPUnsCqQIKDhrKmYpdAAAAAAAAA+H8=",
          "dtype": "f8"
         },
         "yaxis": "y11"
        },
        {
         "fill": "tonexty",
         "fillcolor": "rgba(0, 100, 0, 0.2)",
         "hoverinfo": "skip",
         "legendgroup": "Gemini 2.5 Pro (ABBEL)",
         "line": {
          "width": 0
         },
         "mode": "lines",
         "showlegend": false,
         "type": "scatter",
         "x": [
          0,
          1,
          2,
          3,
          4,
          5,
          6
         ],
         "xaxis": "x11",
         "y": {
          "bdata": "bE2Cp1UjpkBrJvsedG21QHrZacIIILdA/kA2kve3tkAECT0DjACxQNlXVkBG/KFAAAAAAAAA+H8=",
          "dtype": "f8"
         },
         "yaxis": "y11"
        },
        {
         "legendgroup": "Gemini 2.5 Pro (ABBEL)",
         "line": {
          "color": "#006400",
          "width": 2
         },
         "mode": "lines+markers",
         "name": "Gemini 2.5 Pro (ABBEL)",
         "showlegend": false,
         "type": "scatter",
         "x": {
          "bdata": "AAECAwQFBg==",
          "dtype": "i1"
         },
         "xaxis": "x11",
         "y": {
          "bdata": "MzMzM/MepUAAAAAAAEO0QM3MzMzsxLVAAAAAAAgEtUBu27Zt22CuQJqZmZmZrZ1AAAAAAABosEA=",
          "dtype": "f8"
         },
         "yaxis": "y11"
        },
        {
         "hoverinfo": "skip",
         "legendgroup": "Gemini 2.5 Pro (belief prompting)",
         "line": {
          "width": 0
         },
         "mode": "lines",
         "showlegend": false,
         "type": "scatter",
         "x": [
          0,
          1,
          2,
          3,
          4,
          5,
          6
         ],
         "xaxis": "x11",
         "y": {
          "bdata": "YOPFU85wo0DH+mWwyOSzQOSwMsW3N7JAQ7FdjQ50tEALVp+JBV+zQIhMkAkY0qtANOQTKTtesEA=",
          "dtype": "f8"
         },
         "yaxis": "y11"
        },
        {
         "fill": "tonexty",
         "fillcolor": "rgba(50, 205, 50, 0.2)",
         "hoverinfo": "skip",
         "legendgroup": "Gemini 2.5 Pro (belief prompting)",
         "line": {
          "width": 0
         },
         "mode": "lines",
         "showlegend": false,
         "type": "scatter",
         "x": [
          0,
          1,
          2,
          3,
          4,
          5,
          6
         ],
         "xaxis": "x11",
         "y": {
          "bdata": "BoOgEhiLpECfawC23c+2QIK1M6HuqrRAV+g7DItJuECfVAshpbm3QBIvjVBJCrtA5g12a+IYwUA=",
          "dtype": "f8"
         },
         "yaxis": "y11"
        },
        {
         "legendgroup": "Gemini 2.5 Pro (belief prompting)",
         "line": {
          "color": "#32CD32",
          "width": 2
         },
         "mode": "lines+markers",
         "name": "Gemini 2.5 Pro (belief prompting)",
         "showlegend": false,
         "type": "scatter",
         "x": {
          "bdata": "AAECAwQFBg==",
          "dtype": "i1"
         },
         "xaxis": "x11",
         "y": {
          "bdata": "MzMzM/P9o0AzMzMzU1q1QDMzMzNTcbNAzczMzMxetkBVVVVVVYy1QKuqqqqqebRAAAAAAABIuUA=",
          "dtype": "f8"
         },
         "yaxis": "y11"
        },
        {
         "hoverinfo": "skip",
         "legendgroup": "Deepseek R1 (ABBEL)",
         "line": {
          "width": 0
         },
         "mode": "lines",
         "showlegend": false,
         "type": "scatter",
         "x": [
          0,
          1,
          2,
          3,
          4,
          5,
          6,
          7,
          8,
          9,
          10,
          11,
          12
         ],
         "xaxis": "x6",
         "y": {
          "bdata": "oajlqECoxED0WGdWYL/PQGEBuVIDxdZAc3YBlMXz10AJUNslVTjUQEERhUTVJddAjqCra7Uy00BwVLhgWUrVQDbyg8LEztFAaSpaBA+D0ECqNmMZTTzTQK3ir1lFi9VAW/UwzjzS0kA=",
          "dtype": "f8"
         },
         "yaxis": "y6"
        },
        {
         "fill": "tonexty",
         "fillcolor": "rgba(139, 0, 0, 0.2)",
         "hoverinfo": "skip",
         "legendgroup": "Deepseek R1 (ABBEL)",
         "line": {
          "width": 0
         },
         "mode": "lines",
         "showlegend": false,
         "type": "scatter",
         "x": [
          0,
          1,
          2,
          3,
          4,
          5,
          6,
          7,
          8,
          9,
          10,
          11,
          12
         ],
         "xaxis": "x6",
         "y": {
          "bdata": "KyTnI2wsyUAg7WVuuS7TQDmY4EZ2t9lAJyOYBTR/20DDfPGm90jYQA9NvjS4/dpAHAr/PlXp1kAi0JAxS6PZQIjwp/sdttVAl9Wl+1hx1EAynaWx8FrXQC1puNVbI9lA1auMtjnW10A=",
          "dtype": "f8"
         },
         "yaxis": "y6"
        },
        {
         "legendgroup": "Deepseek R1 (ABBEL)",
         "line": {
          "color": "#8B0000",
          "width": 2
         },
         "mode": "lines+markers",
         "name": "Deepseek R1 (ABBEL)",
         "showlegend": false,
         "type": "scatter",
         "x": {
          "bdata": "AAECAwQFBgcICQoLDA==",
          "dtype": "i1"
         },
         "xaxis": "x6",
         "y": {
          "bdata": "ZmZmZlbqxkDNzMzMNIfRQM3MzMw8PthAzczMzHy52UBmZmZmpkDWQCivobzGEdlAVVVVVQUO1UBJkiRJ0nbXQF/xFV9xwtNAAAAAADR60kDuaYTlnkvVQO0ltJdQV9dAmNBeQjtU1UA=",
          "dtype": "f8"
         },
         "yaxis": "y6"
        },
        {
         "hoverinfo": "skip",
         "legendgroup": "Deepseek R1 (belief prompting)",
         "line": {
          "width": 0
         },
         "mode": "lines",
         "showlegend": false,
         "type": "scatter",
         "x": [
          0,
          1,
          2,
          3,
          4,
          5,
          6,
          7,
          8,
          9,
          10,
          11,
          12
         ],
         "xaxis": "x6",
         "y": {
          "bdata": "RnTEr9oxyEDavMsL9NXRQK3jGymhwddAzUdHwm8g1kB23TT8DHPVQG7Bgjx6CNJA15KKxMRN00CzqIzZdr/WQK4XY0z0N9RAch/CTjol0kAfjO/b9LDVQLajzXuSyNlABFwrcd1q1kA=",
          "dtype": "f8"
         },
         "yaxis": "y6"
        },
        {
         "fill": "tonexty",
         "fillcolor": "rgba(255, 99, 71, 0.2)",
         "hoverinfo": "skip",
         "legendgroup": "Deepseek R1 (belief prompting)",
         "line": {
          "width": 0
         },
         "mode": "lines",
         "showlegend": false,
         "type": "scatter",
         "x": [
          0,
          1,
          2,
          3,
          4,
          5,
          6,
          7,
          8,
          9,
          10,
          11,
          12
         ],
         "xaxis": "x6",
         "y": {
          "bdata": "uos7UGWSzECMqZpaIsbUQFMc5Na+zdtAJdOCqTh92UDkWWMmEh3ZQHQgX6Wnc9ZAd6NOoM6610BNV3Mm7a3aQPh87/20DNlA9g/fbkp21kCtQN3wV17bQKQkdZofEd9A2ph7xt9J20A=",
          "dtype": "f8"
         },
         "yaxis": "y6"
        },
        {
         "legendgroup": "Deepseek R1 (belief prompting)",
         "line": {
          "color": "#FF6347",
          "width": 2
         },
         "mode": "lines+markers",
         "name": "Deepseek R1 (belief prompting)",
         "showlegend": false,
         "type": "scatter",
         "x": {
          "bdata": "AAECAwQFBgcICQoLDA==",
          "dtype": "i1"
         },
         "xaxis": "x6",
         "y": {
          "bdata": "AAAAACBiykAzMzMzC07TQAAAAACwx9lAeQ3lNdTO10CtG0yRD0jXQPHw8PAQPtRAJ5tsskmE1UAAAAAAsrbYQFNKKaVUotZAtJfQXsJN1EBmZmZmpofYQC1kIQvZbNxAb3rTm17a2EA=",
          "dtype": "f8"
         },
         "yaxis": "y6"
        },
        {
         "hoverinfo": "skip",
         "legendgroup": "Gemini 2.5 Pro (ABBEL)",
         "line": {
          "width": 0
         },
         "mode": "lines",
         "showlegend": false,
         "type": "scatter",
         "x": [
          0,
          1,
          2,
          3,
          4,
          5,
          6,
          7,
          8,
          9,
          10,
          11,
          12
         ],
         "xaxis": "x6",
         "y": {
          "bdata": "hHUvhp0AokDZBiv4AMmlQP6hi3UIsq5AltvTnrkSskBcdmpA8H2tQOzuLQWDBa1A20B8WZSsoEDWTpujGeWYQOPUUGlom5JAAAAAAAAA+H8AAAAAAAD4fwAAAAAAAPh/AAAAAAAA+H8=",
          "dtype": "f8"
         },
         "yaxis": "y6"
        },
        {
         "fill": "tonexty",
         "fillcolor": "rgba(0, 100, 0, 0.2)",
         "hoverinfo": "skip",
         "legendgroup": "Gemini 2.5 Pro (ABBEL)",
         "line": {
          "width": 0
         },
         "mode": "lines",
         "showlegend": false,
         "type": "scatter",
         "x": [
          0,
          1,
          2,
          3,
          4,
          5,
          6,
          7,
          8,
          9,
          10,
          11,
          12
         ],
         "xaxis": "x6",
         "y": {
          "bdata": "fIrQeWKRpECNXztu5QupQM37BpLIZLFAaiQsYYaItUAG+P0Se7+yQMDhzRCMTbNAz2kuURZFqECVWDIucz2mQB0rr5aXzppAAAAAAAAA+H8AAAAAAAD4fwAAAAAAAPh/AAAAAAAA+H8=",
          "dtype": "f8"
         },
         "yaxis": "y6"
        },
        {
         "legendgroup": "Gemini 2.5 Pro (ABBEL)",
         "line": {
          "color": "#006400",
          "width": 2
         },
         "mode": "lines+markers",
         "name": "Gemini 2.5 Pro (ABBEL)",
         "showlegend": false,
         "type": "scatter",
         "x": {
          "bdata": "AAECAwQFBgcICQoLDA==",
          "dtype": "i1"
         },
         "xaxis": "x6",
         "y": {
          "bdata": "AAAAAABJo0AzMzMzc2qnQGZmZmbmXrBAAAAAAKDNs0CamZmZOb+wQJtssskm6LBAVVVVVdV4pEAAAAAAAFihQAAAAAAAtZZAAAAAAABImUAAAAAAAFqiQAAAAAAAYqVAAAAAAAC0s0A=",
          "dtype": "f8"
         },
         "yaxis": "y6"
        },
        {
         "hoverinfo": "skip",
         "legendgroup": "Gemini 2.5 Pro (belief prompting)",
         "line": {
          "width": 0
         },
         "mode": "lines",
         "showlegend": false,
         "type": "scatter",
         "x": [
          0,
          1,
          2,
          3,
          4,
          5,
          6,
          7,
          8
         ],
         "xaxis": "x6",
         "y": {
          "bdata": "zJFy6g8VokC95N5bsd2iQPjylJK8l7BAoz4HM051skCHZCMbjZmsQMGwW+FtRaZARLi9em+koUBQs2yPAImZQOSKmZKpC5NA",
          "dtype": "f8"
         },
         "yaxis": "y6"
        },
        {
         "fill": "tonexty",
         "fillcolor": "rgba(50, 205, 50, 0.2)",
         "hoverinfo": "skip",
         "legendgroup": "Gemini 2.5 Pro (belief prompting)",
         "line": {
          "width": 0
         },
         "mode": "lines",
         "showlegend": false,
         "type": "scatter",
         "x": [
          0,
          1,
          2,
          3,
          4,
          5,
          6,
          7,
          8
         ],
         "xaxis": "x6",
         "y": {
          "bdata": "ADta4rympEBDGyGkzq+lQAgNa22D67JAkfQrAOWVtUBiFtZPmomyQIFXxaKiVK1A4JDUqdmZqkBYpkm4f4umQHLKu8KrMZZA",
          "dtype": "f8"
         },
         "yaxis": "y6"
        },
        {
         "legendgroup": "Gemini 2.5 Pro (belief prompting)",
         "line": {
          "color": "#32CD32",
          "width": 2
         },
         "mode": "lines+markers",
         "name": "Gemini 2.5 Pro (belief prompting)",
         "showlegend": false,
         "type": "scatter",
         "x": {
          "bdata": "AAECAwQFBgcI",
          "dtype": "i1"
         },
         "xaxis": "x6",
         "y": {
          "bdata": "ZmZmZuZdo0AAAAAAwEakQAAAAACgwbFAmpmZmZkFtEBT5LNuMGuwQCGEEEIIzalAkiRJkiQfpkAAAAAAAKihQKuqqqqqnpRA",
          "dtype": "f8"
         },
         "yaxis": "y6"
        },
        {
         "hoverinfo": "skip",
         "legendgroup": "Deepseek R1",
         "line": {
          "width": 0
         },
         "mode": "lines",
         "showlegend": false,
         "type": "scatter",
         "x": [
          0,
          1,
          2,
          3,
          4,
          5,
          6,
          7,
          8,
          9,
          10,
          11,
          12
         ],
         "xaxis": "x12",
         "y": {
          "bdata": "ew5fyDJ1tUB4ZDgpHljRQDQZ5/T5DttAWnYkGu/y3UBt61AYhAXcQNpMtjJBy9pAem4eHJef2UByIRqcdGraQCktraadydlAUeZdVbHo2UAM6QB2YVTZQCvoRe0gL9lAallrE3ga1kA=",
          "dtype": "f8"
         },
         "yaxis": "y12"
        },
        {
         "fill": "tonexty",
         "fillcolor": "rgba(255, 182, 193, 0.2)",
         "hoverinfo": "skip",
         "legendgroup": "Deepseek R1",
         "line": {
          "width": 0
         },
         "mode": "lines",
         "showlegend": false,
         "type": "scatter",
         "x": [
          0,
          1,
          2,
          3,
          4,
          5,
          6,
          7,
          8,
          9,
          10,
          11,
          12
         ],
         "xaxis": "x12",
         "y": {
          "bdata": "Ub5tBFrEu0CIm8fWgWDUQJiz5ddyMd1AbV6HDHIU4EAXSfdqMK7eQCazSc2myt1AqtpzCBKL3ECkkHbptyHeQOfhYWhxZt5Arxmiqg4x3kDA48tW6+HcQNUXuhLfAN1ACMNbXiSM3EA=",
          "dtype": "f8"
         },
         "yaxis": "y12"
        },
        {
         "legendgroup": "Deepseek R1",
         "line": {
          "color": "#FFB6C1",
          "width": 2
         },
         "mode": "lines+markers",
         "name": "Deepseek R1",
         "showlegend": false,
         "type": "scatter",
         "x": {
          "bdata": "AAECAwQFBgcICQoLDA==",
          "dtype": "i1"
         },
         "xaxis": "x12",
         "y": {
          "bdata": "ZmZmZsacuEAAAAAAUNzSQGZmZmY2INxAmpmZmekN30BCGqRB2lndQAAAAAD0StxAkiRJklQV20ALWchCFkbcQIiHh4cHGNxAAAAAAOAM3EBmZmZmJhvbQAAAAAAAGNtAOY7jOE5T2UA=",
          "dtype": "f8"
         },
         "yaxis": "y12"
        },
        {
         "hoverinfo": "skip",
         "legendgroup": "Deepseek R1 (ABBEL)",
         "line": {
          "width": 0
         },
         "mode": "lines",
         "showlegend": false,
         "type": "scatter",
         "x": [
          0,
          1,
          2,
          3,
          4,
          5,
          6,
          7,
          8,
          9,
          10,
          11,
          12
         ],
         "xaxis": "x12",
         "y": {
          "bdata": "bsuBTC8JzUB9t8LbOobfQArhjZvneOVAUAwasV/O5kBWh71/K3/hQLjo0HsBkuNAZrnLQKO14EA2w5csLYbhQMEPWpjRnt5Az/8v2Nox20CMFtIpqn3gQH0tkVf7/eFA+q1XgnfD3kA=",
          "dtype": "f8"
         },
         "yaxis": "y12"
        },
        {
         "fill": "tonexty",
         "fillcolor": "rgba(139, 0, 0, 0.2)",
         "hoverinfo": "skip",
         "legendgroup": "Deepseek R1 (ABBEL)",
         "line": {
          "width": 0
         },
         "mode": "lines",
         "showlegend": false,
         "type": "scatter",
         "x": [
          0,
          1,
          2,
          3,
          4,
          5,
          6,
          7,
          8,
          9,
          10,
          11,
          12
         ],
         "xaxis": "x12",
         "y": {
          "bdata": "r4AlwJ4L0UCnCoX4MEviQJC4C/6JjedAfMCyG40M6UBEEtwZ3tvkQASeIZ8IgeZAmkY0v9yC40AiuS0rD8bkQOvEnwBke+JAGADok3hO4EDEDFrNSqHjQHnlSPRsyeRADRb68hsl40A=",
          "dtype": "f8"
         },
         "yaxis": "y12"
        },
        {
         "legendgroup": "Deepseek R1 (ABBEL)",
         "line": {
          "color": "#8B0000",
          "width": 2
         },
         "mode": "lines+markers",
         "name": "Deepseek R1 (ABBEL)",
         "showlegend": false,
         "type": "scatter",
         "x": {
          "bdata": "AAECAwQFBgcICQoLDA==",
          "dtype": "i1"
         },
         "xaxis": "x12",
         "y": {
          "bdata": "ZmZmZjaQz0AzMzMzJwfhQM3MzMw4g+ZAZmZmZnbt50DNzMzMhC3jQF5DeQ2FCeVAAAAAAEAc4kAsvuIrHibjQGZmZmZm5eBAAAAAAGbn3UCoEZZ7eg/iQHsJ7SW0Y+NAhfYS2mtD4UA=",
          "dtype": "f8"
         },
         "yaxis": "y12"
        },
        {
         "hoverinfo": "skip",
         "legendgroup": "Deepseek R1 (belief prompting)",
         "line": {
          "width": 0
         },
         "mode": "lines",
         "showlegend": false,
         "type": "scatter",
         "x": [
          0,
          1,
          2,
          3,
          4,
          5,
          6,
          7,
          8,
          9,
          10,
          11,
          12
         ],
         "xaxis": "x12",
         "y": {
          "bdata": "j73+X2mD0EAr4F9YeT7iQObH2+IyNudAvVmOBoD65UAnmS9/FtrlQJHO1CSuLeNA+eBX8pxd5ECs4DSi+OzlQIok900T5eRA904ukw7G40CrKPsdSwrlQMw9yM4lp+dA76qXftAB5UA=",
          "dtype": "f8"
         },
         "yaxis": "y12"
        },
        {
         "fill": "tonexty",
         "fillcolor": "rgba(255, 99, 71, 0.2)",
         "hoverinfo": "skip",
         "legendgroup": "Deepseek R1 (belief prompting)",
         "line": {
          "width": 0
         },
         "mode": "lines",
         "showlegend": false,
         "type": "scatter",
         "x": [
          0,
          1,
          2,
          3,
          4,
          5,
          6,
          7,
          8,
          9,
          10,
          11,
          12
         ],
         "xaxis": "x12",
         "y": {
          "bdata": "cUIBoGbK0kAJU9PaSYXkQOYE8emh8OlA5WL465pM6ECTKOV5lm/oQJ1eWAgfJeZAc9FxNL7G50BUH8td3VPpQEQV8E6gSOhA/8OruJm55kDP67IpFmToQBK33mhXzOpAX8TiVMu16EA=",
          "dtype": "f8"
         },
         "yaxis": "y12"
        },
        {
         "legendgroup": "Deepseek R1 (belief prompting)",
         "line": {
          "color": "#FF6347",
          "width": 2
         },
         "mode": "lines+markers",
         "name": "Deepseek R1 (belief prompting)",
         "showlegend": false,
         "type": "scatter",
         "x": {
          "bdata": "AAECAwQFBgcICQoLDA==",
          "dtype": "i1"
         },
         "xaxis": "x12",
         "y": {
          "bdata": "AAAAAOim0UCamZmZ4WHjQGZmZmZqk+hAUV5DeY0j50DdYIp81iTnQJeWlpZmqeRANtlkky0S5kAAAAAAa6DnQOecc87ZluZAewntJdQ/5UA9CtejMLfmQG9605u+OelApze96c3b5kA=",
          "dtype": "f8"
         },
         "yaxis": "y12"
        },
        {
         "hoverinfo": "skip",
         "legendgroup": "Gemini 2.5 Pro",
         "line": {
          "width": 0
         },
         "mode": "lines",
         "showlegend": false,
         "type": "scatter",
         "x": [
          0,
          1,
          2,
          3,
          4,
          5,
          6,
          7,
          8
         ],
         "xaxis": "x12",
         "y": {
          "bdata": "jCkOMJCIpkBmTsTJKtOlQEIcfiBHurJAivTW/e2nukDsPyu/uBe/QJRvbU8UkLpAdC5OkgBtuUAe+SnuLaW/QAAAAAAAAPh/",
          "dtype": "f8"
         },
         "yaxis": "y12"
        },
        {
         "fill": "tonexty",
         "fillcolor": "rgba(144, 238, 144, 0.2)",
         "hoverinfo": "skip",
         "legendgroup": "Gemini 2.5 Pro",
         "line": {
          "width": 0
         },
         "mode": "lines",
         "showlegend": false,
         "type": "scatter",
         "x": [
          0,
          1,
          2,
          3,
          4,
          5,
          6,
          7,
          8
         ],
         "xaxis": "x12",
         "y": {
          "bdata": "DnCLaYlbqkAAGKKcO9iqQFh9G3kSPrVAEKXCm2sVvUCgz2M3k+3AQLjb3fs2c71ApC4mP0UhvEBxA+sIaXrDQAAAAAAAAPh/",
          "dtype": "f8"
         },
         "yaxis": "y12"
        },
        {
         "legendgroup": "Gemini 2.5 Pro",
         "line": {
          "color": "#90EE90",
          "width": 2
         },
         "mode": "lines+markers",
         "name": "Gemini 2.5 Pro",
         "showlegend": false,
         "type": "scatter",
         "x": {
          "bdata": "AAECAwQFBgcI",
          "dtype": "i1"
         },
         "xaxis": "x12",
         "y": {
          "bdata": "zczMzAxyqEAzMzMzs1WoQM3MzMws/LNAzczMzKzeu0DLt3zLtzzAQKalpaWlAbxAjC666CLHukAAAAAAgKbBQAAAAAAA8MNA",
          "dtype": "f8"
         },
         "yaxis": "y12"
        },
        {
         "hoverinfo": "skip",
         "legendgroup": "Gemini 2.5 Pro (ABBEL)",
         "line": {
          "width": 0
         },
         "mode": "lines",
         "showlegend": false,
         "type": "scatter",
         "x": [
          0,
          1,
          2,
          3,
          4,
          5,
          6,
          7,
          8,
          9,
          10,
          11,
          12
         ],
         "xaxis": "x12",
         "y": {
          "bdata": "KufmaCzDsUBD79zXeLa0QArTJhZZEMFAOx1z9MrzwkD6btRP/qm/QPBlWjPqXL5Algh9kDWbtEBQyuEux2+uQDDjnZwXlqdAAAAAAAAA+H8AAAAAAAD4fwAAAAAAAPh/AAAAAAAA+H8=",
          "dtype": "f8"
         },
         "yaxis": "y12"
        },
        {
         "fill": "tonexty",
         "fillcolor": "rgba(0, 100, 0, 0.2)",
         "hoverinfo": "skip",
         "legendgroup": "Gemini 2.5 Pro (ABBEL)",
         "line": {
          "width": 0
         },
         "mode": "lines",
         "showlegend": false,
         "type": "scatter",
         "x": [
          0,
          1,
          2,
          3,
          4,
          5,
          6,
          7,
          8,
          9,
          10,
          11,
          12
         ],
         "xaxis": "x12",
         "y": {
          "bdata": "1hgZl5NIs0CJ3e/0E2a4QJDGcoOAL8NAxeKMC3UlxUC3+0gLFIDCQNLz7VI9PMJAwEzYxB/yukAMTsKbT9G4QGgOsTH0ZrNAAAAAAAAA+H8AAAAAAAD4fwAAAAAAAPh/AAAAAAAA+H8=",
          "dtype": "f8"
         },
         "yaxis": "y12"
        },
        {
         "legendgroup": "Gemini 2.5 Pro (ABBEL)",
         "line": {
          "color": "#006400",
          "width": 2
         },
         "mode": "lines+markers",
         "name": "Gemini 2.5 Pro (ABBEL)",
         "showlegend": false,
         "type": "scatter",
         "x": {
          "bdata": "AAECAwQFBgcICQoLDA==",
          "dtype": "i1"
         },
         "xaxis": "x12",
         "y": {
          "bdata": "AAAAAOCFskBmZmZmRo62QM3MzMzsH8JAAAAAAKAMxECamZmZiSrBQGWTTTZZtcBAq6qqqqrGt0CamZmZmQS0QAAAAAAAMq9AAAAAAAAIsEAAAAAAAFiwQAAAAAAAMK9AAAAAAAAuvEA=",
          "dtype": "f8"
         },
         "yaxis": "y12"
        },
        {
         "hoverinfo": "skip",
         "legendgroup": "Gemini 2.5 Pro (belief prompting)",
         "line": {
          "width": 0
         },
         "mode": "lines",
         "showlegend": false,
         "type": "scatter",
         "x": [
          0,
          1,
          2,
          3,
          4,
          5,
          6,
          7,
          8
         ],
         "xaxis": "x12",
         "y": {
          "bdata": "2/JF3BImskCe3hW5yGazQIBXwvUYEcBAHACOCcPgwUDLLakEJXfBQMOZwfaoqb1AVJ6T91b4uEBnTr5UJwu1QDSJJl3cY69A",
          "dtype": "f8"
         },
         "yaxis": "y12"
        },
        {
         "fill": "tonexty",
         "fillcolor": "rgba(50, 205, 50, 0.2)",
         "hoverinfo": "skip",
         "legendgroup": "Gemini 2.5 Pro (belief prompting)",
         "line": {
          "width": 0
         },
         "mode": "lines",
         "showlegend": false,
         "type": "scatter",
         "x": [
          0,
          1,
          2,
          3,
          4,
          5,
          6,
          7,
          8
         ],
         "xaxis": "x12",
         "y": {
          "bdata": "i3MgipP4s0CWVB16qp+2QOYOpHBNCsJASmbYXIMvxEAL4PzDQmXEQOxshiGfeMFArGFsCKmnvUBlfg54pRC/QBBmF3y8xLhA",
          "dtype": "f8"
         },
         "yaxis": "y12"
        },
        {
         "legendgroup": "Gemini 2.5 Pro (belief prompting)",
         "line": {
          "color": "#32CD32",
          "width": 2
         },
         "mode": "lines+markers",
         "name": "Gemini 2.5 Pro (belief prompting)",
         "showlegend": false,
         "type": "scatter",
         "x": {
          "bdata": "AAECAwQFBgcI",
          "dtype": "i1"
         },
         "xaxis": "x12",
         "y": {
          "bdata": "MzMzM1MPs0CamZmZOQO1QDMzMzOzDcFAMzMzMyMIw0DrBlPkM+7CQOecc865JsBAAAAAAABQu0BmZmZm5g26QFVVVVVVO7RA",
          "dtype": "f8"
         },
         "yaxis": "y12"
        }
       ],
       "layout": {
        "annotations": [
         {
          "font": {
           "size": 16
          },
          "showarrow": false,
          "text": "Murder Mystery",
          "x": 0.06777777777777778,
          "xanchor": "center",
          "xref": "paper",
          "y": 1,
          "yanchor": "bottom",
          "yref": "paper"
         },
         {
          "font": {
           "size": 16
          },
          "showarrow": false,
          "text": "Customer Service",
          "x": 0.2366666666666667,
          "xanchor": "center",
          "xref": "paper",
          "y": 1,
          "yanchor": "bottom",
          "yref": "paper"
         },
         {
          "font": {
           "size": 16
          },
          "showarrow": false,
          "text": "Twenty Questions",
          "x": 0.40555555555555556,
          "xanchor": "center",
          "xref": "paper",
          "y": 1,
          "yanchor": "bottom",
          "yref": "paper"
         },
         {
          "font": {
           "size": 16
          },
          "showarrow": false,
          "text": "Guess my City",
          "x": 0.5744444444444445,
          "xanchor": "center",
          "xref": "paper",
          "y": 1,
          "yanchor": "bottom",
          "yref": "paper"
         },
         {
          "font": {
           "size": 16
          },
          "showarrow": false,
          "text": "Wordle",
          "x": 0.7433333333333334,
          "xanchor": "center",
          "xref": "paper",
          "y": 1,
          "yanchor": "bottom",
          "yref": "paper"
         },
         {
          "font": {
           "size": 16
          },
          "showarrow": false,
          "text": "Mastermind",
          "x": 0.9122222222222223,
          "xanchor": "center",
          "xref": "paper",
          "y": 1,
          "yanchor": "bottom",
          "yref": "paper"
         }
        ],
        "barmode": "group",
        "font": {
         "family": "Computer Modern, serif",
         "size": 16
        },
        "height": 700,
        "legend": {
         "bgcolor": "rgba(255,255,255,0.9)",
         "bordercolor": "black",
         "borderwidth": 1,
         "orientation": "v",
         "x": 1.02,
         "xanchor": "left",
         "y": 0.5,
         "yanchor": "middle"
        },
        "margin": {
         "b": 50,
         "l": 80,
         "r": 80,
         "t": 100
        },
        "plot_bgcolor": "white",
        "showlegend": true,
        "template": {
         "data": {
          "bar": [
           {
            "error_x": {
             "color": "rgb(36,36,36)"
            },
            "error_y": {
             "color": "rgb(36,36,36)"
            },
            "marker": {
             "line": {
              "color": "white",
              "width": 0.5
             },
             "pattern": {
              "fillmode": "overlay",
              "size": 10,
              "solidity": 0.2
             }
            },
            "type": "bar"
           }
          ],
          "barpolar": [
           {
            "marker": {
             "line": {
              "color": "white",
              "width": 0.5
             },
             "pattern": {
              "fillmode": "overlay",
              "size": 10,
              "solidity": 0.2
             }
            },
            "type": "barpolar"
           }
          ],
          "carpet": [
           {
            "aaxis": {
             "endlinecolor": "rgb(36,36,36)",
             "gridcolor": "white",
             "linecolor": "white",
             "minorgridcolor": "white",
             "startlinecolor": "rgb(36,36,36)"
            },
            "baxis": {
             "endlinecolor": "rgb(36,36,36)",
             "gridcolor": "white",
             "linecolor": "white",
             "minorgridcolor": "white",
             "startlinecolor": "rgb(36,36,36)"
            },
            "type": "carpet"
           }
          ],
          "choropleth": [
           {
            "colorbar": {
             "outlinewidth": 1,
             "tickcolor": "rgb(36,36,36)",
             "ticks": "outside"
            },
            "type": "choropleth"
           }
          ],
          "contour": [
           {
            "colorbar": {
             "outlinewidth": 1,
             "tickcolor": "rgb(36,36,36)",
             "ticks": "outside"
            },
            "colorscale": [
             [
              0,
              "#440154"
             ],
             [
              0.1111111111111111,
              "#482878"
             ],
             [
              0.2222222222222222,
              "#3e4989"
             ],
             [
              0.3333333333333333,
              "#31688e"
             ],
             [
              0.4444444444444444,
              "#26828e"
             ],
             [
              0.5555555555555556,
              "#1f9e89"
             ],
             [
              0.6666666666666666,
              "#35b779"
             ],
             [
              0.7777777777777778,
              "#6ece58"
             ],
             [
              0.8888888888888888,
              "#b5de2b"
             ],
             [
              1,
              "#fde725"
             ]
            ],
            "type": "contour"
           }
          ],
          "contourcarpet": [
           {
            "colorbar": {
             "outlinewidth": 1,
             "tickcolor": "rgb(36,36,36)",
             "ticks": "outside"
            },
            "type": "contourcarpet"
           }
          ],
          "heatmap": [
           {
            "colorbar": {
             "outlinewidth": 1,
             "tickcolor": "rgb(36,36,36)",
             "ticks": "outside"
            },
            "colorscale": [
             [
              0,
              "#440154"
             ],
             [
              0.1111111111111111,
              "#482878"
             ],
             [
              0.2222222222222222,
              "#3e4989"
             ],
             [
              0.3333333333333333,
              "#31688e"
             ],
             [
              0.4444444444444444,
              "#26828e"
             ],
             [
              0.5555555555555556,
              "#1f9e89"
             ],
             [
              0.6666666666666666,
              "#35b779"
             ],
             [
              0.7777777777777778,
              "#6ece58"
             ],
             [
              0.8888888888888888,
              "#b5de2b"
             ],
             [
              1,
              "#fde725"
             ]
            ],
            "type": "heatmap"
           }
          ],
          "histogram": [
           {
            "marker": {
             "line": {
              "color": "white",
              "width": 0.6
             }
            },
            "type": "histogram"
           }
          ],
          "histogram2d": [
           {
            "colorbar": {
             "outlinewidth": 1,
             "tickcolor": "rgb(36,36,36)",
             "ticks": "outside"
            },
            "colorscale": [
             [
              0,
              "#440154"
             ],
             [
              0.1111111111111111,
              "#482878"
             ],
             [
              0.2222222222222222,
              "#3e4989"
             ],
             [
              0.3333333333333333,
              "#31688e"
             ],
             [
              0.4444444444444444,
              "#26828e"
             ],
             [
              0.5555555555555556,
              "#1f9e89"
             ],
             [
              0.6666666666666666,
              "#35b779"
             ],
             [
              0.7777777777777778,
              "#6ece58"
             ],
             [
              0.8888888888888888,
              "#b5de2b"
             ],
             [
              1,
              "#fde725"
             ]
            ],
            "type": "histogram2d"
           }
          ],
          "histogram2dcontour": [
           {
            "colorbar": {
             "outlinewidth": 1,
             "tickcolor": "rgb(36,36,36)",
             "ticks": "outside"
            },
            "colorscale": [
             [
              0,
              "#440154"
             ],
             [
              0.1111111111111111,
              "#482878"
             ],
             [
              0.2222222222222222,
              "#3e4989"
             ],
             [
              0.3333333333333333,
              "#31688e"
             ],
             [
              0.4444444444444444,
              "#26828e"
             ],
             [
              0.5555555555555556,
              "#1f9e89"
             ],
             [
              0.6666666666666666,
              "#35b779"
             ],
             [
              0.7777777777777778,
              "#6ece58"
             ],
             [
              0.8888888888888888,
              "#b5de2b"
             ],
             [
              1,
              "#fde725"
             ]
            ],
            "type": "histogram2dcontour"
           }
          ],
          "mesh3d": [
           {
            "colorbar": {
             "outlinewidth": 1,
             "tickcolor": "rgb(36,36,36)",
             "ticks": "outside"
            },
            "type": "mesh3d"
           }
          ],
          "parcoords": [
           {
            "line": {
             "colorbar": {
              "outlinewidth": 1,
              "tickcolor": "rgb(36,36,36)",
              "ticks": "outside"
             }
            },
            "type": "parcoords"
           }
          ],
          "pie": [
           {
            "automargin": true,
            "type": "pie"
           }
          ],
          "scatter": [
           {
            "fillpattern": {
             "fillmode": "overlay",
             "size": 10,
             "solidity": 0.2
            },
            "type": "scatter"
           }
          ],
          "scatter3d": [
           {
            "line": {
             "colorbar": {
              "outlinewidth": 1,
              "tickcolor": "rgb(36,36,36)",
              "ticks": "outside"
             }
            },
            "marker": {
             "colorbar": {
              "outlinewidth": 1,
              "tickcolor": "rgb(36,36,36)",
              "ticks": "outside"
             }
            },
            "type": "scatter3d"
           }
          ],
          "scattercarpet": [
           {
            "marker": {
             "colorbar": {
              "outlinewidth": 1,
              "tickcolor": "rgb(36,36,36)",
              "ticks": "outside"
             }
            },
            "type": "scattercarpet"
           }
          ],
          "scattergeo": [
           {
            "marker": {
             "colorbar": {
              "outlinewidth": 1,
              "tickcolor": "rgb(36,36,36)",
              "ticks": "outside"
             }
            },
            "type": "scattergeo"
           }
          ],
          "scattergl": [
           {
            "marker": {
             "colorbar": {
              "outlinewidth": 1,
              "tickcolor": "rgb(36,36,36)",
              "ticks": "outside"
             }
            },
            "type": "scattergl"
           }
          ],
          "scattermap": [
           {
            "marker": {
             "colorbar": {
              "outlinewidth": 1,
              "tickcolor": "rgb(36,36,36)",
              "ticks": "outside"
             }
            },
            "type": "scattermap"
           }
          ],
          "scattermapbox": [
           {
            "marker": {
             "colorbar": {
              "outlinewidth": 1,
              "tickcolor": "rgb(36,36,36)",
              "ticks": "outside"
             }
            },
            "type": "scattermapbox"
           }
          ],
          "scatterpolar": [
           {
            "marker": {
             "colorbar": {
              "outlinewidth": 1,
              "tickcolor": "rgb(36,36,36)",
              "ticks": "outside"
             }
            },
            "type": "scatterpolar"
           }
          ],
          "scatterpolargl": [
           {
            "marker": {
             "colorbar": {
              "outlinewidth": 1,
              "tickcolor": "rgb(36,36,36)",
              "ticks": "outside"
             }
            },
            "type": "scatterpolargl"
           }
          ],
          "scatterternary": [
           {
            "marker": {
             "colorbar": {
              "outlinewidth": 1,
              "tickcolor": "rgb(36,36,36)",
              "ticks": "outside"
             }
            },
            "type": "scatterternary"
           }
          ],
          "surface": [
           {
            "colorbar": {
             "outlinewidth": 1,
             "tickcolor": "rgb(36,36,36)",
             "ticks": "outside"
            },
            "colorscale": [
             [
              0,
              "#440154"
             ],
             [
              0.1111111111111111,
              "#482878"
             ],
             [
              0.2222222222222222,
              "#3e4989"
             ],
             [
              0.3333333333333333,
              "#31688e"
             ],
             [
              0.4444444444444444,
              "#26828e"
             ],
             [
              0.5555555555555556,
              "#1f9e89"
             ],
             [
              0.6666666666666666,
              "#35b779"
             ],
             [
              0.7777777777777778,
              "#6ece58"
             ],
             [
              0.8888888888888888,
              "#b5de2b"
             ],
             [
              1,
              "#fde725"
             ]
            ],
            "type": "surface"
           }
          ],
          "table": [
           {
            "cells": {
             "fill": {
              "color": "rgb(237,237,237)"
             },
             "line": {
              "color": "white"
             }
            },
            "header": {
             "fill": {
              "color": "rgb(217,217,217)"
             },
             "line": {
              "color": "white"
             }
            },
            "type": "table"
           }
          ]
         },
         "layout": {
          "annotationdefaults": {
           "arrowhead": 0,
           "arrowwidth": 1
          },
          "autotypenumbers": "strict",
          "coloraxis": {
           "colorbar": {
            "outlinewidth": 1,
            "tickcolor": "rgb(36,36,36)",
            "ticks": "outside"
           }
          },
          "colorscale": {
           "diverging": [
            [
             0,
             "rgb(103,0,31)"
            ],
            [
             0.1,
             "rgb(178,24,43)"
            ],
            [
             0.2,
             "rgb(214,96,77)"
            ],
            [
             0.3,
             "rgb(244,165,130)"
            ],
            [
             0.4,
             "rgb(253,219,199)"
            ],
            [
             0.5,
             "rgb(247,247,247)"
            ],
            [
             0.6,
             "rgb(209,229,240)"
            ],
            [
             0.7,
             "rgb(146,197,222)"
            ],
            [
             0.8,
             "rgb(67,147,195)"
            ],
            [
             0.9,
             "rgb(33,102,172)"
            ],
            [
             1,
             "rgb(5,48,97)"
            ]
           ],
           "sequential": [
            [
             0,
             "#440154"
            ],
            [
             0.1111111111111111,
             "#482878"
            ],
            [
             0.2222222222222222,
             "#3e4989"
            ],
            [
             0.3333333333333333,
             "#31688e"
            ],
            [
             0.4444444444444444,
             "#26828e"
            ],
            [
             0.5555555555555556,
             "#1f9e89"
            ],
            [
             0.6666666666666666,
             "#35b779"
            ],
            [
             0.7777777777777778,
             "#6ece58"
            ],
            [
             0.8888888888888888,
             "#b5de2b"
            ],
            [
             1,
             "#fde725"
            ]
           ],
           "sequentialminus": [
            [
             0,
             "#440154"
            ],
            [
             0.1111111111111111,
             "#482878"
            ],
            [
             0.2222222222222222,
             "#3e4989"
            ],
            [
             0.3333333333333333,
             "#31688e"
            ],
            [
             0.4444444444444444,
             "#26828e"
            ],
            [
             0.5555555555555556,
             "#1f9e89"
            ],
            [
             0.6666666666666666,
             "#35b779"
            ],
            [
             0.7777777777777778,
             "#6ece58"
            ],
            [
             0.8888888888888888,
             "#b5de2b"
            ],
            [
             1,
             "#fde725"
            ]
           ]
          },
          "colorway": [
           "#1F77B4",
           "#FF7F0E",
           "#2CA02C",
           "#D62728",
           "#9467BD",
           "#8C564B",
           "#E377C2",
           "#7F7F7F",
           "#BCBD22",
           "#17BECF"
          ],
          "font": {
           "color": "rgb(36,36,36)"
          },
          "geo": {
           "bgcolor": "white",
           "lakecolor": "white",
           "landcolor": "white",
           "showlakes": true,
           "showland": true,
           "subunitcolor": "white"
          },
          "hoverlabel": {
           "align": "left"
          },
          "hovermode": "closest",
          "mapbox": {
           "style": "light"
          },
          "paper_bgcolor": "white",
          "plot_bgcolor": "white",
          "polar": {
           "angularaxis": {
            "gridcolor": "rgb(232,232,232)",
            "linecolor": "rgb(36,36,36)",
            "showgrid": false,
            "showline": true,
            "ticks": "outside"
           },
           "bgcolor": "white",
           "radialaxis": {
            "gridcolor": "rgb(232,232,232)",
            "linecolor": "rgb(36,36,36)",
            "showgrid": false,
            "showline": true,
            "ticks": "outside"
           }
          },
          "scene": {
           "xaxis": {
            "backgroundcolor": "white",
            "gridcolor": "rgb(232,232,232)",
            "gridwidth": 2,
            "linecolor": "rgb(36,36,36)",
            "showbackground": true,
            "showgrid": false,
            "showline": true,
            "ticks": "outside",
            "zeroline": false,
            "zerolinecolor": "rgb(36,36,36)"
           },
           "yaxis": {
            "backgroundcolor": "white",
            "gridcolor": "rgb(232,232,232)",
            "gridwidth": 2,
            "linecolor": "rgb(36,36,36)",
            "showbackground": true,
            "showgrid": false,
            "showline": true,
            "ticks": "outside",
            "zeroline": false,
            "zerolinecolor": "rgb(36,36,36)"
           },
           "zaxis": {
            "backgroundcolor": "white",
            "gridcolor": "rgb(232,232,232)",
            "gridwidth": 2,
            "linecolor": "rgb(36,36,36)",
            "showbackground": true,
            "showgrid": false,
            "showline": true,
            "ticks": "outside",
            "zeroline": false,
            "zerolinecolor": "rgb(36,36,36)"
           }
          },
          "shapedefaults": {
           "fillcolor": "black",
           "line": {
            "width": 0
           },
           "opacity": 0.3
          },
          "ternary": {
           "aaxis": {
            "gridcolor": "rgb(232,232,232)",
            "linecolor": "rgb(36,36,36)",
            "showgrid": false,
            "showline": true,
            "ticks": "outside"
           },
           "baxis": {
            "gridcolor": "rgb(232,232,232)",
            "linecolor": "rgb(36,36,36)",
            "showgrid": false,
            "showline": true,
            "ticks": "outside"
           },
           "bgcolor": "white",
           "caxis": {
            "gridcolor": "rgb(232,232,232)",
            "linecolor": "rgb(36,36,36)",
            "showgrid": false,
            "showline": true,
            "ticks": "outside"
           }
          },
          "title": {
           "x": 0.05
          },
          "xaxis": {
           "automargin": true,
           "gridcolor": "rgb(232,232,232)",
           "linecolor": "rgb(36,36,36)",
           "showgrid": false,
           "showline": true,
           "ticks": "outside",
           "title": {
            "standoff": 15
           },
           "zeroline": false,
           "zerolinecolor": "rgb(36,36,36)"
          },
          "yaxis": {
           "automargin": true,
           "gridcolor": "rgb(232,232,232)",
           "linecolor": "rgb(36,36,36)",
           "showgrid": false,
           "showline": true,
           "ticks": "outside",
           "title": {
            "standoff": 15
           },
           "zeroline": false,
           "zerolinecolor": "rgb(36,36,36)"
          }
         }
        },
        "xaxis": {
         "anchor": "y",
         "color": "black",
         "domain": [
          0,
          0.13555555555555557
         ],
         "linecolor": "black",
         "linewidth": 1,
         "showgrid": false,
         "showline": true,
         "title": {
          "text": ""
         }
        },
        "xaxis10": {
         "anchor": "y10",
         "color": "black",
         "domain": [
          0.5066666666666667,
          0.6422222222222222
         ],
         "linecolor": "black",
         "linewidth": 1,
         "showgrid": false,
         "showline": true,
         "title": {
          "text": "Step"
         }
        },
        "xaxis11": {
         "anchor": "y11",
         "color": "black",
         "domain": [
          0.6755555555555556,
          0.8111111111111111
         ],
         "linecolor": "black",
         "linewidth": 1,
         "showgrid": false,
         "showline": true,
         "title": {
          "text": "Step"
         }
        },
        "xaxis12": {
         "anchor": "y12",
         "color": "black",
         "domain": [
          0.8444444444444444,
          0.98
         ],
         "linecolor": "black",
         "linewidth": 1,
         "showgrid": false,
         "showline": true,
         "title": {
          "text": "Step"
         }
        },
        "xaxis2": {
         "anchor": "y2",
         "color": "black",
         "domain": [
          0.1688888888888889,
          0.30444444444444446
         ],
         "linecolor": "black",
         "linewidth": 1,
         "showgrid": false,
         "showline": true,
         "title": {
          "text": ""
         }
        },
        "xaxis3": {
         "anchor": "y3",
         "color": "black",
         "domain": [
          0.3377777777777778,
          0.4733333333333334
         ],
         "linecolor": "black",
         "linewidth": 1,
         "showgrid": false,
         "showline": true,
         "title": {
          "text": ""
         }
        },
        "xaxis4": {
         "anchor": "y4",
         "color": "black",
         "domain": [
          0.5066666666666667,
          0.6422222222222222
         ],
         "linecolor": "black",
         "linewidth": 1,
         "showgrid": false,
         "showline": true,
         "title": {
          "text": ""
         }
        },
        "xaxis5": {
         "anchor": "y5",
         "color": "black",
         "domain": [
          0.6755555555555556,
          0.8111111111111111
         ],
         "linecolor": "black",
         "linewidth": 1,
         "showgrid": false,
         "showline": true,
         "title": {
          "text": ""
         }
        },
        "xaxis6": {
         "anchor": "y6",
         "color": "black",
         "domain": [
          0.8444444444444444,
          0.98
         ],
         "linecolor": "black",
         "linewidth": 1,
         "showgrid": false,
         "showline": true,
         "title": {
          "text": ""
         }
        },
        "xaxis7": {
         "anchor": "y7",
         "color": "black",
         "domain": [
          0,
          0.13555555555555557
         ],
         "linecolor": "black",
         "linewidth": 1,
         "showgrid": false,
         "showline": true,
         "title": {
          "text": "Step"
         }
        },
        "xaxis8": {
         "anchor": "y8",
         "color": "black",
         "domain": [
          0.1688888888888889,
          0.30444444444444446
         ],
         "linecolor": "black",
         "linewidth": 1,
         "showgrid": false,
         "showline": true,
         "title": {
          "text": "Step"
         }
        },
        "xaxis9": {
         "anchor": "y9",
         "color": "black",
         "domain": [
          0.3377777777777778,
          0.4733333333333334
         ],
         "linecolor": "black",
         "linewidth": 1,
         "showgrid": false,
         "showline": true,
         "title": {
          "text": "Step"
         }
        },
        "yaxis": {
         "anchor": "x",
         "domain": [
          0.55,
          1
         ],
         "gridcolor": "lightgray",
         "linecolor": "black",
         "linewidth": 1,
         "showgrid": true,
         "showline": true,
         "tickfont": {
          "color": "black"
         },
         "title": {
          "text": "Belief Reasoning (chars)"
         }
        },
        "yaxis10": {
         "anchor": "x10",
         "domain": [
          0,
          0.45
         ],
         "gridcolor": "lightgray",
         "linecolor": "black",
         "linewidth": 1,
         "showgrid": true,
         "showline": true,
         "tickfont": {
          "color": "black"
         }
        },
        "yaxis11": {
         "anchor": "x11",
         "domain": [
          0,
          0.45
         ],
         "gridcolor": "lightgray",
         "linecolor": "black",
         "linewidth": 1,
         "showgrid": true,
         "showline": true,
         "tickfont": {
          "color": "black"
         }
        },
        "yaxis12": {
         "anchor": "x12",
         "domain": [
          0,
          0.45
         ],
         "gridcolor": "lightgray",
         "linecolor": "black",
         "linewidth": 1,
         "showgrid": true,
         "showline": true,
         "tickfont": {
          "color": "black"
         }
        },
        "yaxis2": {
         "anchor": "x2",
         "domain": [
          0.55,
          1
         ],
         "gridcolor": "lightgray",
         "linecolor": "black",
         "linewidth": 1,
         "showgrid": true,
         "showline": true,
         "tickfont": {
          "color": "black"
         }
        },
        "yaxis3": {
         "anchor": "x3",
         "domain": [
          0.55,
          1
         ],
         "gridcolor": "lightgray",
         "linecolor": "black",
         "linewidth": 1,
         "showgrid": true,
         "showline": true,
         "tickfont": {
          "color": "black"
         }
        },
        "yaxis4": {
         "anchor": "x4",
         "domain": [
          0.55,
          1
         ],
         "gridcolor": "lightgray",
         "linecolor": "black",
         "linewidth": 1,
         "showgrid": true,
         "showline": true,
         "tickfont": {
          "color": "black"
         }
        },
        "yaxis5": {
         "anchor": "x5",
         "domain": [
          0.55,
          1
         ],
         "gridcolor": "lightgray",
         "linecolor": "black",
         "linewidth": 1,
         "showgrid": true,
         "showline": true,
         "tickfont": {
          "color": "black"
         }
        },
        "yaxis6": {
         "anchor": "x6",
         "domain": [
          0.55,
          1
         ],
         "gridcolor": "lightgray",
         "linecolor": "black",
         "linewidth": 1,
         "showgrid": true,
         "showline": true,
         "tickfont": {
          "color": "black"
         }
        },
        "yaxis7": {
         "anchor": "x7",
         "domain": [
          0,
          0.45
         ],
         "gridcolor": "lightgray",
         "linecolor": "black",
         "linewidth": 1,
         "showgrid": true,
         "showline": true,
         "tickfont": {
          "color": "black"
         },
         "title": {
          "text": "Total Reasoning (chars)"
         }
        },
        "yaxis8": {
         "anchor": "x8",
         "domain": [
          0,
          0.45
         ],
         "gridcolor": "lightgray",
         "linecolor": "black",
         "linewidth": 1,
         "showgrid": true,
         "showline": true,
         "tickfont": {
          "color": "black"
         }
        },
        "yaxis9": {
         "anchor": "x9",
         "domain": [
          0,
          0.45
         ],
         "gridcolor": "lightgray",
         "linecolor": "black",
         "linewidth": 1,
         "showgrid": true,
         "showline": true,
         "tickfont": {
          "color": "black"
         }
        }
       }
      }
     },
     "metadata": {},
     "output_type": "display_data"
    }
   ],
   "source": [
    "fig.show()"
   ]
  },
  {
   "cell_type": "code",
   "execution_count": 41,
   "id": "84c410c1",
   "metadata": {},
   "outputs": [],
   "source": [
    "fig.write_image('figures/frontier_belief_total_reasoning_length_v2.pdf', width=1500, height=600)"
   ]
  },
  {
   "cell_type": "code",
   "execution_count": 55,
   "id": "66f709a9",
   "metadata": {},
   "outputs": [],
   "source": [
    "def plot_belief_length_separate_figs(df):\n",
    "    envs = envs_ordered\n",
    "    go = plotly.graph_objects\n",
    "    make_subplots = plotly.subplots.make_subplots\n",
    "\n",
    "    # Compute lengths for both reasoning fields\n",
    "    belief_reasoning_length = df['belief_reasoning'].astype(str).str.len()\n",
    "    action_reasoning_length = df['action_reasoning'].astype(str).str.len()\n",
    "\n",
    "    # Prepare dataframes for aggregation\n",
    "    df_belief = df.assign(_reasoning_len=belief_reasoning_length, _reasoning_type='Belief Reasoning')\n",
    "    df_action = df.assign(_reasoning_len=action_reasoning_length, _reasoning_type='Action Reasoning')\n",
    "    df2 = pd.concat([df_belief, df_action], ignore_index=True)\n",
    "\n",
    "    agg = (\n",
    "        df2.groupby(['env', 'model', 'attempt', '_reasoning_type'])\n",
    "        ._reasoning_len.agg(['mean', 'std', 'count'])\n",
    "        .reset_index()\n",
    "    )\n",
    "    agg['sem'] = agg['std'] / agg['count'].apply(lambda n: sqrt(n) if n > 0 else 1)\n",
    "\n",
    "    colors = [\n",
    "        \"#8B0000\",  # dark red\n",
    "        \"#FF6347\",  # medium red\n",
    "        \"#FFB6C1\",  # light red\n",
    "        \"#90EE90\",  # light green\n",
    "        \"#006400\",  # dark green\n",
    "        \"#32CD32\",  # medium green\n",
    "        \"#ADD8E6\",  # light blue\n",
    "        \"#4682B4\",  # medium blue\n",
    "        \"#003366\",  # dark blue\n",
    "    ]\n",
    "\n",
    "    model_color_map = {\n",
    "        'Deepseek V3 (ABBEL)': '#4682B4',\n",
    "        'Deepseek R1 (ABBEL)': '#8B0000',\n",
    "        'Gemini 2.5 Pro (ABBEL)': '#006400',\n",
    "        'Deepseek V3': '#4682B4',\n",
    "        'Deepseek R1': '#FFB6C1',\n",
    "        'Gemini 2.5 Pro': '#90EE90',\n",
    "        'Deepseek V3 (belief prompting)': '#4682B4',\n",
    "        'Deepseek R1 (belief prompting)': '#FF6347',\n",
    "        'Gemini 2.5 Pro (belief prompting)': '#32CD32',\n",
    "    }\n",
    "\n",
    "    figures = {}\n",
    "    \n",
    "    # Create separate figure for Belief Reasoning\n",
    "    fig_belief = make_subplots(\n",
    "        rows=1,\n",
    "        cols=len(envs),\n",
    "        shared_yaxes=False,\n",
    "        shared_xaxes=False,\n",
    "        subplot_titles=[f\"{env}\" for env in envs],\n",
    "        horizontal_spacing=0.03\n",
    "    )\n",
    "\n",
    "    models_seen_belief = set()\n",
    "    color_idx = 0\n",
    "\n",
    "    for col_idx, env in enumerate(envs, start=1):\n",
    "        sub = agg[(agg['env'] == env) & (agg['_reasoning_type'] == 'Belief Reasoning')]\n",
    "        for model in sub['model'].unique():\n",
    "            mdf = sub[sub['model'] == model].sort_values('attempt')\n",
    "            if model not in model_color_map:\n",
    "                model_color_map[model] = colors[color_idx % len(colors)]\n",
    "                color_idx += 1\n",
    "\n",
    "            if '(' in model:\n",
    "                show_legend = model not in models_seen_belief\n",
    "                models_seen_belief.add(model)\n",
    "                # Add shaded region for error bounds\n",
    "                error_lower = mdf['mean'] - mdf['sem']\n",
    "                error_upper = mdf['mean'] + mdf['sem']\n",
    "                x = list(mdf['attempt'])\n",
    "                # Add the lower error bound trace\n",
    "                fig_belief.add_trace(go.Scatter(\n",
    "                    x=x,\n",
    "                    y=error_lower,\n",
    "                    mode='lines',\n",
    "                    line=dict(width=0), # Hide the line for the lower bound\n",
    "                    showlegend=False,\n",
    "                    hoverinfo=\"skip\",\n",
    "                    legendgroup=str(model)\n",
    "                ),row=1, col=col_idx)\n",
    "\n",
    "                # Add the upper error bound trace and fill to the lower bound\n",
    "                fig_belief.add_trace(go.Scatter(\n",
    "                    x=x,\n",
    "                    y=error_upper,\n",
    "                    mode='lines',\n",
    "                    fill='tonexty', # Fill the area between this trace and the previous one\n",
    "                    fillcolor=f\"rgba{tuple(list(plotly.colors.hex_to_rgb(model_color_map[model])) + [0.2])}\",\n",
    "                    line=dict(width=0), # Hide the line for the upper bound\n",
    "                    hoverinfo=\"skip\",\n",
    "                    showlegend=False,\n",
    "                    legendgroup=str(model)\n",
    "                ),\n",
    "                row=1, col=col_idx)\n",
    "                \n",
    "                \n",
    "                # Add main line\n",
    "                fig_belief.add_trace(\n",
    "                    go.Scatter(\n",
    "                        x=mdf['attempt'],\n",
    "                        y=mdf['mean'],\n",
    "                        mode='lines+markers',\n",
    "                        name=str(model),\n",
    "                        legendgroup=str(model),\n",
    "                        showlegend=show_legend,\n",
    "                        line=dict(color=model_color_map[model], width=2)\n",
    "                    ),\n",
    "                    row=1, col=col_idx\n",
    "                )\n",
    "\n",
    "        fig_belief.update_xaxes(\n",
    "            title_text='Step',\n",
    "            title_standoff=0,\n",
    "            color='black',\n",
    "            showline=True,\n",
    "            linecolor='black',\n",
    "            linewidth=1,\n",
    "            showgrid=False,\n",
    "            row=1, col=col_idx\n",
    "        )\n",
    "\n",
    "        fig_belief.update_yaxes(\n",
    "            title_text='Belief Reasoning Length' if col_idx == 1 else None,\n",
    "            showline=True,\n",
    "            linecolor='black',\n",
    "            linewidth=1,\n",
    "            tickfont=dict(color='black'),\n",
    "            showgrid=True,\n",
    "            gridcolor='lightgray',\n",
    "            row=1, col=col_idx\n",
    "        )\n",
    "\n",
    "    fig_belief.update_layout(\n",
    "        height=350,\n",
    "        template='simple_white',\n",
    "        font=dict(family='Computer Modern, serif', size=16),\n",
    "        barmode='group',\n",
    "        showlegend=True,\n",
    "        legend=dict(\n",
    "            orientation='v',\n",
    "            yanchor='middle',\n",
    "            y=0.5,\n",
    "            xanchor='left',\n",
    "            x=1.02,\n",
    "            bgcolor='rgba(255,255,255,0.9)',\n",
    "            bordercolor='black',\n",
    "            borderwidth=1\n",
    "        ),\n",
    "        margin=dict(t=100, b=50, l=80, r=80),\n",
    "        plot_bgcolor='white'\n",
    "    )\n",
    "\n",
    "    # Create separate figure for Action Reasoning\n",
    "    fig_action = make_subplots(\n",
    "        rows=1,\n",
    "        cols=len(envs),\n",
    "        shared_yaxes=False,\n",
    "        shared_xaxes=False,\n",
    "        subplot_titles=[f\"{env}\" for env in envs],\n",
    "        horizontal_spacing=0.03\n",
    "    )\n",
    "\n",
    "    models_seen_action = set()\n",
    "\n",
    "    for col_idx, env in enumerate(envs, start=1):\n",
    "        sub = agg[(agg['env'] == env) & (agg['_reasoning_type'] == 'Action Reasoning')]\n",
    "        for model in sub['model'].unique():\n",
    "            mdf = sub[sub['model'] == model].sort_values('attempt')\n",
    "            if model not in model_color_map:\n",
    "                model_color_map[model] = colors[color_idx % len(colors)]\n",
    "                color_idx += 1\n",
    "\n",
    "            show_legend = model not in models_seen_action\n",
    "            models_seen_action.add(model)\n",
    "            # Add shaded region for error bounds\n",
    "            # fig_action.add_trace(\n",
    "            #     go.Scatter(\n",
    "            #         x=list(mdf['attempt']) + list(mdf['attempt'][::-1]),\n",
    "            #         y=list(mdf['mean'] + mdf['sem']) + list((mdf['mean'] - mdf['sem'])[::-1]),\n",
    "            #         fill='toself',\n",
    "            #         fillcolor=f\"rgba{tuple(list(plotly.colors.hex_to_rgb(model_color_map[model])) + [0.2])}\",\n",
    "            #         line=dict(color='rgba(255,255,255,0)'),\n",
    "            #         showlegend=False,\n",
    "            #         hoverinfo='skip',\n",
    "            #         legendgroup=str(model)\n",
    "            #     ),\n",
    "            #     row=1, col=col_idx\n",
    "            # )\n",
    "\n",
    "            error_lower = mdf['mean'] - mdf['sem']\n",
    "            error_upper = mdf['mean'] + mdf['sem']\n",
    "            x = list(mdf['attempt'])\n",
    "            #import pdb; pdb.set_trace()\n",
    "            # Add the lower error bound trace\n",
    "            fig_action.add_trace(go.Scatter(\n",
    "                x=x,\n",
    "                y=error_lower,\n",
    "                mode='lines',\n",
    "                line=dict(width=0), # Hide the line for the lower bound\n",
    "                showlegend=False,\n",
    "                hoverinfo=\"skip\",\n",
    "                legendgroup=str(model)\n",
    "            ),row=1, col=col_idx)\n",
    "\n",
    "            # Add the upper error bound trace and fill to the lower bound\n",
    "            fig_action.add_trace(go.Scatter(\n",
    "                x=x,\n",
    "                y=error_upper,\n",
    "                mode='lines',\n",
    "                fill='tonexty', # Fill the area between this trace and the previous one\n",
    "                fillcolor=f\"rgba{tuple(list(plotly.colors.hex_to_rgb(model_color_map[model])) + [0.2])}\",\n",
    "                line=dict(width=0), # Hide the line for the upper bound\n",
    "                hoverinfo=\"skip\",\n",
    "                showlegend=False,\n",
    "                legendgroup=str(model)\n",
    "            ),\n",
    "            row=1, col=col_idx)\n",
    "            \n",
    "            # Add main line\n",
    "            fig_action.add_trace(\n",
    "                go.Scatter(\n",
    "                    x=mdf['attempt'],\n",
    "                    y=mdf['mean'],\n",
    "                    mode='lines+markers',\n",
    "                    name=str(model),\n",
    "                    legendgroup=str(model),\n",
    "                    showlegend=show_legend,\n",
    "                    line=dict(color=model_color_map[model], width=2)\n",
    "                ),\n",
    "                row=1, col=col_idx\n",
    "            )\n",
    "\n",
    "        fig_action.update_xaxes(\n",
    "            title_text='Step',\n",
    "            title_standoff=0,\n",
    "            color='black',\n",
    "            showline=True,\n",
    "            linecolor='black',\n",
    "            linewidth=1,\n",
    "            showgrid=False,\n",
    "            row=1, col=col_idx\n",
    "        )\n",
    "\n",
    "        fig_action.update_yaxes(\n",
    "            title_text='Action Reasoning Length' if col_idx == 1 else None,\n",
    "            showline=True,\n",
    "            linecolor='black',\n",
    "            linewidth=1,\n",
    "            tickfont=dict(color='black'),\n",
    "            showgrid=True,\n",
    "            gridcolor='lightgray',\n",
    "            row=1, col=col_idx\n",
    "        )\n",
    "\n",
    "    fig_action.update_layout(\n",
    "        height=350,\n",
    "        template='simple_white',\n",
    "        font=dict(family='Computer Modern, serif', size=16),\n",
    "        barmode='group',\n",
    "        showlegend=True,\n",
    "        legend=dict(\n",
    "            orientation='v',\n",
    "            yanchor='middle',\n",
    "            y=0.5,\n",
    "            xanchor='left',\n",
    "            x=1.02,\n",
    "            bgcolor='rgba(255,255,255,0.9)',\n",
    "            bordercolor='black',\n",
    "            borderwidth=1\n",
    "        ),\n",
    "        #margin=dict(t=100, b=50, l=80, r=80),\n",
    "        plot_bgcolor='white'\n",
    "    )\n",
    "\n",
    "    figures['belief'] = fig_belief\n",
    "    figures['action'] = fig_action\n",
    "    \n",
    "    return figures\n"
   ]
  },
  {
   "cell_type": "code",
   "execution_count": 57,
   "id": "0c6470a7",
   "metadata": {},
   "outputs": [
    {
     "data": {
      "application/vnd.plotly.v1+json": {
       "config": {
        "plotlyServerURL": "https://plot.ly"
       },
       "data": [
        {
         "hoverinfo": "skip",
         "legendgroup": "Deepseek R1",
         "line": {
          "width": 0
         },
         "mode": "lines",
         "showlegend": false,
         "type": "scatter",
         "x": [
          0,
          1,
          2,
          3,
          4,
          5,
          6,
          7,
          8,
          9,
          10,
          11,
          12,
          13,
          14,
          15,
          16,
          17,
          18,
          19,
          20
         ],
         "xaxis": "x",
         "y": {
          "bdata": "myHc8B92pEBASNNFsAOvQPUTQmZSwLNArmiL9vBVtEB83Jh+euG0QPEU4Z/wRLNA4ve47GaztEAjmiCJJZ60QJRrgXxeFLNAVpWGfPMCtEDDegOF1ayxQD10KHWtxbFA0UHM4XJ7sUC6y3SGL9mwQDhBmBlXF7VAegXV6hQmq0DTTIrFHPCpQJh4f5rmjaZAUgqwEmKLpUCI1bx5MwqfQAAAAAAAAPh/",
          "dtype": "f8"
         },
         "yaxis": "y"
        },
        {
         "fill": "tonexty",
         "fillcolor": "rgba(255, 182, 193, 0.2)",
         "hoverinfo": "skip",
         "legendgroup": "Deepseek R1",
         "line": {
          "width": 0
         },
         "mode": "lines",
         "showlegend": false,
         "type": "scatter",
         "x": [
          0,
          1,
          2,
          3,
          4,
          5,
          6,
          7,
          8,
          9,
          10,
          11,
          12,
          13,
          14,
          15,
          16,
          17,
          18,
          19,
          20
         ],
         "xaxis": "x",
         "y": {
          "bdata": "y0SKdcbEp0CsKOOptAyzQAvsvZltxLdA7DAOoyjct0CEI2eBRcu5QHVRhcY18rZAUjt6RkySuUBnA7gAeOy6QKIoVtT/IbdAjqMHZ0XkuUAbAew4IjK1QOe3zr8UgbZAF2G/TEfet0ACu32UmvC3QNz5GPrjIb9A7SdANaCjtUBeS1dkY8yzQLIZpa6rrq9A1/qn9k58tEA8lSFD5riqQAAAAAAAAPh/",
          "dtype": "f8"
         },
         "yaxis": "y"
        },
        {
         "legendgroup": "Deepseek R1",
         "line": {
          "color": "#FFB6C1",
          "width": 2
         },
         "mode": "lines+markers",
         "name": "Deepseek R1",
         "showlegend": true,
         "type": "scatter",
         "x": {
          "bdata": "AAECAwQFBgcICQoLDA0ODxAREhMU",
          "dtype": "i1"
         },
         "xaxis": "x",
         "y": {
          "bdata": "MzMzM3MdpkBmZmZmRkexQAAAAABgwrVAzczMzAwZtkAAAAAAYFa3QDMzMzOTG7VAmpmZmdkit0DFTuzETsW3QBvKaygvG7VAchzHcZzztkDvvffee2+zQBKWexphI7RAdNFFF92stEBeQ3kN5WS0QIqd2ImdHLpAVVVVVVWbsUDkOI7jOGKwQCVJkiRJHqtAAAAAAABCr0AAAAAAAB+lQAAAAAAATKdA",
          "dtype": "f8"
         },
         "yaxis": "y"
        },
        {
         "hoverinfo": "skip",
         "legendgroup": "Deepseek R1 (ABBEL)",
         "line": {
          "width": 0
         },
         "mode": "lines",
         "showlegend": false,
         "type": "scatter",
         "x": [
          0,
          1,
          2,
          3,
          4,
          5,
          6,
          7,
          8,
          9,
          10,
          11,
          12,
          13,
          14,
          15,
          16,
          17,
          18,
          19,
          20
         ],
         "xaxis": "x",
         "y": {
          "bdata": "N3zVIUBRpEBxrtNVP5+pQFEgsm4i2aZAKWsqWDJkqEB600bwuompQEVNxVxtj6lAdBBoaUBpqkB8FeBjF2mnQJRk6xeB8qdAXP4YcSgPqUCdDC/QJGCpQKYL8vQRc6tAOMOlGo3UpkBUNyItL1imQINwUwZBy6pAtiMeOIb9pUBrgAH1Zr2pQC8X5Wt4CKdAzFhZfHL5p0DrxmwWNEenQNrC68w3MqRA",
          "dtype": "f8"
         },
         "yaxis": "y"
        },
        {
         "fill": "tonexty",
         "fillcolor": "rgba(139, 0, 0, 0.2)",
         "hoverinfo": "skip",
         "legendgroup": "Deepseek R1 (ABBEL)",
         "line": {
          "width": 0
         },
         "mode": "lines",
         "showlegend": false,
         "type": "scatter",
         "x": [
          0,
          1,
          2,
          3,
          4,
          5,
          6,
          7,
          8,
          9,
          10,
          11,
          12,
          13,
          14,
          15,
          16,
          17,
          18,
          19,
          20
         ],
         "xaxis": "x",
         "y": {
          "bdata": "Yx3Ed9kcqECPUSyqwOSuQK/fTZHdBatAC8gI24BerUBS+YXcke+uQId/B3Bfsq5AxvdLyx9wsEC4HVPPm+WsQAY1roEYl6tACmhN9T0/r0CXJgRjDuauQI8h/WeeVrBAumo52KCCq0DcDRy+1wqqQDBkne77cbFAZqNT5EBFqUAfL/eVSPOuQFUjwxfC96tAwNVgbDC+rUAVOZPpy+OuQKwoZuvmeqpA",
          "dtype": "f8"
         },
         "yaxis": "y"
        },
        {
         "legendgroup": "Deepseek R1 (ABBEL)",
         "line": {
          "color": "#8B0000",
          "width": 2
         },
         "mode": "lines+markers",
         "name": "Deepseek R1 (ABBEL)",
         "showlegend": true,
         "type": "scatter",
         "x": {
          "bdata": "AAECAwQFBgcICQoLDA0ODxAREhMU",
          "dtype": "i1"
         },
         "xaxis": "x",
         "y": {
          "bdata": "zczMzAw3pkAAAAAAAEKsQAAAAACA76hAmpmZmVnhqkBmZmZmpjysQGZmZmbmIKxAAAAAAMCkrUCamZmZWSeqQM3MzMzMxKlAMzMzMzMnrECamZmZGSOsQGIndmInEK5A+ZZv+ZYrqUCYIp91gzGoQHIcx3Gc165AjuM4jmOhp0DFV3zFV1isQEId1EEdgKlARhdddNHbqkAAAAAAgBWrQMP1KFyPVqdA",
          "dtype": "f8"
         },
         "yaxis": "y"
        },
        {
         "hoverinfo": "skip",
         "legendgroup": "Deepseek R1 (belief prompting)",
         "line": {
          "width": 0
         },
         "mode": "lines",
         "showlegend": false,
         "type": "scatter",
         "x": [
          0,
          1,
          2,
          3,
          4,
          5,
          6,
          7,
          8,
          9,
          10,
          11,
          12,
          13,
          14,
          15,
          16,
          17,
          18,
          19,
          20
         ],
         "xaxis": "x",
         "y": {
          "bdata": "Ve4Om1PxoUALhBmZ1senQD6bO02T/KdA5AAycdMqqEBGxrLZ75mnQNIdOle1d6lAjOP0y1UvqEB+ds3JEnikQAzDEjBXx6ZADhLfN0ZupUC8QJTnVSWlQDzcsuAk2KRATT8o//Y6pkDaQZSt8DmkQJve8XCCrKVAroX8mOVeokAgypvffuKgQPoODsV0c6dA3SLxG2QBo0CCabbmKSKgQESaoX9Xxp5A",
          "dtype": "f8"
         },
         "yaxis": "y"
        },
        {
         "fill": "tonexty",
         "fillcolor": "rgba(255, 99, 71, 0.2)",
         "hoverinfo": "skip",
         "legendgroup": "Deepseek R1 (belief prompting)",
         "line": {
          "width": 0
         },
         "mode": "lines",
         "showlegend": false,
         "type": "scatter",
         "x": [
          0,
          1,
          2,
          3,
          4,
          5,
          6,
          7,
          8,
          9,
          10,
          11,
          12,
          13,
          14,
          15,
          16,
          17,
          18,
          19,
          20
         ],
         "xaxis": "x",
         "y": {
          "bdata": "RauK/sWMpEBb4kzNj0avQMJkxLJs9K1AgmU09ZL7rUCGBhrz3J+sQC7ixajKz69AQOnXAPcbr0BOVv8Cut2nQAh4nuPj8axANAjFCdRdqUA22jWE0kGpQBSCkJjofqpAObPyynSJqkB6oh/BP+epQHMLr51nQK1AkHLk6imnp0B+fLwO62GmQDaSr7+Bd69A0STwXrAQrUCW873qGwekQO5BPk/j76RA",
          "dtype": "f8"
         },
         "yaxis": "y"
        },
        {
         "legendgroup": "Deepseek R1 (belief prompting)",
         "line": {
          "color": "#FF6347",
          "width": 2
         },
         "mode": "lines+markers",
         "name": "Deepseek R1 (belief prompting)",
         "showlegend": true,
         "type": "scatter",
         "x": {
          "bdata": "AAECAwQFBgcICQoLDA0ODxAREhMU",
          "dtype": "i1"
         },
         "xaxis": "x",
         "y": {
          "bdata": "zczMzAw/o0AzMzMzM4erQAAAAACA+KpAMzMzMzMTq0BmZmZm5hyqQAAAAADAo6xAZmZmZqalq0BmZmZm5iqmQIqd2Imd3KlAIQ3SIA1mp0B5DeU1lDOnQCivobyGq6dAQ3kN5TViqEAq8lk3mBCnQAd1UAd1dqlAH3zwwQcDpUBPIyz3NKKjQJjQXkJ7datA16NwPQoJqECMLrroohSiQIiHh4eHKaJA",
          "dtype": "f8"
         },
         "yaxis": "y"
        },
        {
         "hoverinfo": "skip",
         "legendgroup": "Gemini 2.5 Pro",
         "line": {
          "width": 0
         },
         "mode": "lines",
         "showlegend": false,
         "type": "scatter",
         "x": [
          0,
          1,
          2,
          3,
          4,
          5,
          6,
          7,
          8,
          9,
          10,
          11,
          12,
          13,
          14,
          15,
          16,
          17,
          18,
          19,
          20
         ],
         "xaxis": "x",
         "y": {
          "bdata": "EmAXpMmMnUCPZ/P/M7CcQAQ53iYmZZ5A+i+khKEwn0BWf8fpByigQD29tWOamaBAQuWXH9FEokCLC6PJyMaiQK1Lg3nxLaNAJkh3YIvjo0D9D14uc2WjQIzzmAuUBKNAmkXWGe2mo0C0ihCqkiOkQKzstjvMa6RA1jDv7C2+pECfZywkPSykQNbXdPX9MKZAqK1GzfqPpUDjqYpHJ2qnQBKCWrHFMaVA",
          "dtype": "f8"
         },
         "yaxis": "y"
        },
        {
         "fill": "tonexty",
         "fillcolor": "rgba(144, 238, 144, 0.2)",
         "hoverinfo": "skip",
         "legendgroup": "Gemini 2.5 Pro",
         "line": {
          "width": 0
         },
         "mode": "lines",
         "showlegend": false,
         "type": "scatter",
         "x": [
          0,
          1,
          2,
          3,
          4,
          5,
          6,
          7,
          8,
          9,
          10,
          11,
          12,
          13,
          14,
          15,
          16,
          17,
          18,
          19,
          20
         ],
         "xaxis": "x",
         "y": {
          "bdata": "7p/oWzbrn0DX/nJmMs6eQEuwXbm5caBANxvhcGKNoEB2TQXjRDOhQMNCSpxlhKFAvhpo4C6Eo0CpJ5BpahCkQLka4+x0wqRApoRVbEF8pUA3I9UEwKKkQA6mAI4FlKRAtKbuNP8ZpUB6VOKDTG+lQEZBKLdh36VAzIuXBe3dpUBhmNPbwrmlQAJ56U175KdAkOrb0XoTp0CZLINeobGpQO59pU46GqdA",
          "dtype": "f8"
         },
         "yaxis": "y"
        },
        {
         "legendgroup": "Gemini 2.5 Pro",
         "line": {
          "color": "#90EE90",
          "width": 2
         },
         "mode": "lines+markers",
         "name": "Gemini 2.5 Pro",
         "showlegend": true,
         "type": "scatter",
         "x": {
          "bdata": "AAECAwQFBgcICQoLDA0ODxAREhMU",
          "dtype": "i1"
         },
         "xaxis": "x",
         "y": {
          "bdata": "AAAAAAC8nkAzMzMzM7+dQM3MzMxMpJ9AmpmZmdkSoEBmZmZmpq2gQAAAAAAAD6FAAAAAAIDkokCamZmZmWujQDMzMzMz+KNAZmZmZuavpECamZmZGQSkQM3MzMxMzKNAJ3ZiJ3ZgpECXb/mWb8mkQPmWb/mWJaVAUV5DeQ1OpUAAAAAAAPOkQGwor6G8CqdAHEyRz7pRpkA+6wZT5I2oQAAAAAAAJqZA",
          "dtype": "f8"
         },
         "yaxis": "y"
        },
        {
         "hoverinfo": "skip",
         "legendgroup": "Gemini 2.5 Pro (ABBEL)",
         "line": {
          "width": 0
         },
         "mode": "lines",
         "showlegend": false,
         "type": "scatter",
         "x": [
          0,
          1,
          2,
          3,
          4,
          5,
          6,
          7,
          8,
          9,
          10,
          11,
          12,
          13,
          14,
          15,
          16,
          17,
          18,
          19,
          20
         ],
         "xaxis": "x",
         "y": {
          "bdata": "LJrxRWwbnEAVFXBD7ZGZQHmMgUFNOp1AAEEzVjKYnUB1jshLD9ubQJrnWd+gbppAKwzfhnlrnEAEXWEsq5ScQL3MR9cBzJtAJMJ355K9m0AF/IijFZWaQI1kn1afkJpAr2kWUowzmkD7Wdngcl6aQKk6+kif2ZlA3Jy7vLc8mkD+vnrlQnuaQFJG3SbGkphAOkPkjNjjmkAOjVLhz/ucQIWlV6SUC6JA",
          "dtype": "f8"
         },
         "yaxis": "y"
        },
        {
         "fill": "tonexty",
         "fillcolor": "rgba(0, 100, 0, 0.2)",
         "hoverinfo": "skip",
         "legendgroup": "Gemini 2.5 Pro (ABBEL)",
         "line": {
          "width": 0
         },
         "mode": "lines",
         "showlegend": false,
         "type": "scatter",
         "x": [
          0,
          1,
          2,
          3,
          4,
          5,
          6,
          7,
          8,
          9,
          10,
          11,
          12,
          13,
          14,
          15,
          16,
          17,
          18,
          19,
          20
         ],
         "xaxis": "x",
         "y": {
          "bdata": "bv+nUy0hnkBRUfYieaibQCENGFhMpZ9As5IZCJozoEDx150aV/adQDLlcu0r9ZtA1fMgeYZUnkDIb2ugIeWeQEMzuCj+Np5AQqTuftNunUAvN6qPHdGcQFnR9ICxhZxAGf7GDv7gm0A9NApYG0mcQCkLHRTVn5tAdq1t6NzdnEDmeRP+9ZKcQPyl5ycmNptAGHU6+BKenUBUcMTqzr+gQHtaqFtrdKZA",
          "dtype": "f8"
         },
         "yaxis": "y"
        },
        {
         "legendgroup": "Gemini 2.5 Pro (ABBEL)",
         "line": {
          "color": "#006400",
          "width": 2
         },
         "mode": "lines+markers",
         "name": "Gemini 2.5 Pro (ABBEL)",
         "showlegend": true,
         "type": "scatter",
         "x": {
          "bdata": "AAECAwQFBgcICQoLDA0ODxAREhMU",
          "dtype": "i1"
         },
         "xaxis": "x",
         "y": {
          "bdata": "zczMzEwenUAzMzMzM52aQM3MzMzMb55AMzMzM7P/nkAzMzMzs+icQGZmZmbmMZtAAAAAAABgnUBmZmZm5rydQAAAAACAAZ1AMzMzMzOWnECamZmZGbObQPMaymsoi5tA5LNuMEUKm0Acx3Ecx1ObQOmiiy66vJpAKaWUUkqNm0ByHMdxHIebQCd2Yid25JlAKVyPwvVAnEDbtm3btj2fQAAAAAAAQKRA",
          "dtype": "f8"
         },
         "yaxis": "y"
        },
        {
         "hoverinfo": "skip",
         "legendgroup": "Gemini 2.5 Pro (belief prompting)",
         "line": {
          "width": 0
         },
         "mode": "lines",
         "showlegend": false,
         "type": "scatter",
         "x": [
          0,
          1,
          2,
          3,
          4,
          5,
          6,
          7,
          8,
          9,
          10,
          11,
          12,
          13,
          14,
          15,
          16,
          17,
          18,
          19,
          20
         ],
         "xaxis": "x",
         "y": {
          "bdata": "OLb3cIewm0B2Z9KVdxCcQAuib7y7t51AQNlFXqTam0BMnKvrcBedQKRKTUaVjZtA3RZDIP6nnUDz/BBwJoGdQGI5hVwkNZ5AxsL85SkBnkDUe/9QdKacQHvGmxwSVZxAlKvumAsxnUDYRQrDZTyeQOubCiFrfp1ARLzaXEionEAdo0lmQ6WbQLQYCJ6plpxAwVvtF5/zm0CFdh3xyhKeQPOX6t6huZtA",
          "dtype": "f8"
         },
         "yaxis": "y"
        },
        {
         "fill": "tonexty",
         "fillcolor": "rgba(50, 205, 50, 0.2)",
         "hoverinfo": "skip",
         "legendgroup": "Gemini 2.5 Pro (belief prompting)",
         "line": {
          "width": 0
         },
         "mode": "lines",
         "showlegend": false,
         "type": "scatter",
         "x": [
          0,
          1,
          2,
          3,
          4,
          5,
          6,
          7,
          8,
          9,
          10,
          11,
          12,
          13,
          14,
          15,
          16,
          17,
          18,
          19,
          20
         ],
         "xaxis": "x",
         "y": {
          "bdata": "YuOhKBJ4nUDw/pPQ7uueQI/3Kd3dtZ9AjPOGbiiJnUAayrp69fKeQPZOTFMEUJ1AvYJWeZurn0AgG5FhhgugQIKW8AQhYKBA7IrGW1cooEC8imk/klKeQHdULk8WGp5AvLJU4AFgn0AH+ESK9SqgQEWpM8qbVJ9AIqqLCR6WnkBvjnyyH6+dQJArPKaaSZ9AiTY3MfNAnkDjjQOs45ygQP+C34yGDZ9A",
          "dtype": "f8"
         },
         "yaxis": "y"
        },
        {
         "legendgroup": "Gemini 2.5 Pro (belief prompting)",
         "line": {
          "color": "#32CD32",
          "width": 2
         },
         "mode": "lines+markers",
         "name": "Gemini 2.5 Pro (belief prompting)",
         "showlegend": true,
         "type": "scatter",
         "x": {
          "bdata": "AAECAwQFBgcICQoLDA0ODxAREhMU",
          "dtype": "i1"
         },
         "xaxis": "x",
         "y": {
          "bdata": "zczMzEyUnEAzMzMzM36dQM3MzMzMtp5AZmZmZuaxnEAzMzMzMwWeQM3MzMzMbpxAzczMzMypnkCamZmZGcyeQDMzMzOzep9AT+zETuwon0BIgzRIg3ydQHkN5TWUN51AKK+hvIZInkDzGsprKEmfQJgin3WDaZ5AMzMzMzOfnUDGGGOMMaqcQCIiIiIi8J1AJUmSJEkanUAlSZIkSaafQHkN5TWUY51A",
          "dtype": "f8"
         },
         "yaxis": "y"
        },
        {
         "hoverinfo": "skip",
         "legendgroup": "Deepseek R1",
         "line": {
          "width": 0
         },
         "mode": "lines",
         "showlegend": false,
         "type": "scatter",
         "x": [
          0,
          1,
          2,
          3,
          4,
          5,
          6,
          7,
          8,
          9,
          10,
          11,
          12,
          13,
          14,
          15,
          16,
          17,
          18,
          19,
          20
         ],
         "xaxis": "x2",
         "y": {
          "bdata": "NINNZYEFmkA5XJUZcCmbQByRFF3SwptAAqMJsQ2UnkBiKF2k6yKnQBkbYjI/66RAXqwn5k/4okAYeZPzP2aiQKGe24IxA6FAO7FTT8F3pUBDnXhzUDemQPynJuGxZ6VAGVmLD/1+oUBPpuFwS0mpQIh6D6JT1qpAupPQDEZ5p0DjrksBPYegQLpJi8UYD6BAwa/C2Yban0Aq3Sai5T+gQNgcMJJraJhA",
          "dtype": "f8"
         },
         "yaxis": "y2"
        },
        {
         "fill": "tonexty",
         "fillcolor": "rgba(255, 182, 193, 0.2)",
         "hoverinfo": "skip",
         "legendgroup": "Deepseek R1",
         "line": {
          "width": 0
         },
         "mode": "lines",
         "showlegend": false,
         "type": "scatter",
         "x": [
          0,
          1,
          2,
          3,
          4,
          5,
          6,
          7,
          8,
          9,
          10,
          11,
          12,
          13,
          14,
          15,
          16,
          17,
          18,
          19,
          20
         ],
         "xaxis": "x2",
         "y": {
          "bdata": "zKS/syUmoEBKuJtZrhGhQGTlVMTEVaNAO7VtQsN9pECW3e30eyWwQMdorQu5Ia5AolPYGZClp0A60ZWxVGyoQBXP/zM8EadAu3cIQAGKrEDC0k4fIOewQBy1TfCTr69AgUAOipzfqEC8ZR0rkzyzQJ4k2hC4MrNAI7aX+VwFtEAdUbT+gtSpQEa2dDqnRKVAH6gek3zspUA8iT/EgDqnQEtfw+03AaJA",
          "dtype": "f8"
         },
         "yaxis": "y2"
        },
        {
         "legendgroup": "Deepseek R1",
         "line": {
          "color": "#FFB6C1",
          "width": 2
         },
         "mode": "lines+markers",
         "name": "Deepseek R1",
         "showlegend": false,
         "type": "scatter",
         "x": {
          "bdata": "AAECAwQFBgcICQoLDA0ODxAREhMU",
          "dtype": "i1"
         },
         "xaxis": "x2",
         "y": {
          "bdata": "ZmZmZuYonUBmZmZmZqaeQPmWb/mWm6BAXkN5DeXjoUDHcRzH8barQPDBBx98hqlAAAAAAPBOpUAppZRSSmmlQNu2bds2CqRAexSuR+EAqUBkIQtZyAKsQIwuuuiii6pAzczMzEwvpUDkOI7jOOGvQPHw8PDwTrBAAAAAAADCr0AAAAAA4C2lQAAAAADgqaJAAAAAAODsokAzMzMzM72jQLdt27ZtNZ5A",
          "dtype": "f8"
         },
         "yaxis": "y2"
        },
        {
         "hoverinfo": "skip",
         "legendgroup": "Deepseek R1 (ABBEL)",
         "line": {
          "width": 0
         },
         "mode": "lines",
         "showlegend": false,
         "type": "scatter",
         "x": [
          0,
          1,
          2,
          3,
          4,
          5,
          6,
          7,
          8,
          9,
          10,
          11,
          12,
          13,
          14,
          15,
          16,
          17,
          18,
          19,
          20
         ],
         "xaxis": "x2",
         "y": {
          "bdata": "n0uj+JBemEDDH/gcbmScQL3n197sVKRA/VbZUkCzpkDyfEVnuWqoQN8iPd0/xKNAor3tIUaFoUBB2Jjx3mejQEbo2RiIsqdAgs87A4EKnkDwBxIa0tSlQEzLJvmoC6JAo3S2X/p+p0DUHjeIBxGgQNIJ6sn5LqJAWsvN6/uFm0C6idNyf2elQJxydkHDEaJAH/vgWauwoEBkGi5XC7alQHzaUx14IKRA",
          "dtype": "f8"
         },
         "yaxis": "y2"
        },
        {
         "fill": "tonexty",
         "fillcolor": "rgba(139, 0, 0, 0.2)",
         "hoverinfo": "skip",
         "legendgroup": "Deepseek R1 (ABBEL)",
         "line": {
          "width": 0
         },
         "mode": "lines",
         "showlegend": false,
         "type": "scatter",
         "x": [
          0,
          1,
          2,
          3,
          4,
          5,
          6,
          7,
          8,
          9,
          10,
          11,
          12,
          13,
          14,
          15,
          16,
          17,
          18,
          19,
          20
         ],
         "xaxis": "x2",
         "y": {
          "bdata": "+032oAgLn0BTI7ck/CmiQA/l9O3fNapAox6q1rE+rUBazgXkkTivQF0Z/178L6lAPsYhHLKjpUC/J2cOgRqqQO5KWRqrTK9AlW230xTUokDkALkju+evQNh9ayugaqdAPKldXmbBsEAYphdkvTmoQEIxx0lBLKlAqG9uX9d6oEB0MBUwDGuuQDBaVosJEKhA4QQfplTPpUDQGAXcJ0KvQOqLEknuMqtA",
          "dtype": "f8"
         },
         "yaxis": "y2"
        },
        {
         "legendgroup": "Deepseek R1 (ABBEL)",
         "line": {
          "color": "#8B0000",
          "width": 2
         },
         "mode": "lines+markers",
         "name": "Deepseek R1 (ABBEL)",
         "showlegend": false,
         "type": "scatter",
         "x": {
          "bdata": "AAECAwQFBgcICQoLDA0ODxAREhMU",
          "dtype": "i1"
         },
         "xaxis": "x2",
         "y": {
          "bdata": "zczMzMy0m0CamZmZGS6gQGZmZmZmRadA0LrBFPn4qUCmpaWlpdGrQB4eHh4eeqZA8MEHH3yUo0AAAAAAMMGmQJqZmZmZf6tAq6qqqqrsoEBqhOWeRt6qQJIkSZIku6RAjuM4juOArEB2Yid2YiWkQIqd2ImdraVAVVVVVdU9nkAXXXTRRempQGZmZmbmEKVAAAAAAABAo0CamZmZGXyqQDMzMzOzqadA",
          "dtype": "f8"
         },
         "yaxis": "y2"
        },
        {
         "hoverinfo": "skip",
         "legendgroup": "Deepseek R1 (belief prompting)",
         "line": {
          "width": 0
         },
         "mode": "lines",
         "showlegend": false,
         "type": "scatter",
         "x": [
          0,
          1,
          2,
          3,
          4,
          5,
          6,
          7,
          8,
          9,
          10,
          11,
          12,
          13,
          14,
          15,
          16,
          17,
          18,
          19,
          20
         ],
         "xaxis": "x2",
         "y": {
          "bdata": "eTX5NorUl0CCRY9EM7ugQGjHon93sZxAPRgMR6eTnEBG5dpHf6GaQHgNgL7i/phACcfG7My3m0D5gmvCk3CXQIVpkFo9o5pA5roGu8QRmUBbN/dEJQuUQBLcTcfw2ZlAJ53KP+QvoEA8SDZneCqcQDKsMmN1g5lA5+u7S3gbmkDs3rTNBp6cQPuJkhWj4ZZAX+KAFQZRnUDqoOjHty2YQIK/vFcZwptA",
          "dtype": "f8"
         },
         "yaxis": "y2"
        },
        {
         "fill": "tonexty",
         "fillcolor": "rgba(255, 99, 71, 0.2)",
         "hoverinfo": "skip",
         "legendgroup": "Deepseek R1 (belief prompting)",
         "line": {
          "width": 0
         },
         "mode": "lines",
         "showlegend": false,
         "type": "scatter",
         "x": [
          0,
          1,
          2,
          3,
          4,
          5,
          6,
          7,
          8,
          9,
          10,
          11,
          12,
          13,
          14,
          15,
          16,
          17,
          18,
          19,
          20
         ],
         "xaxis": "x2",
         "y": {
          "bdata": "7TBtL9x1nkAYVApV5kOnQCyPXB83TaJA79iv8ANTo0BBxqA/eZGhQIjyf0Ed3J5AWHClVFfFpEB5mVuviN6aQOh1Yv0LYqRAGdE2i8Ceo0Ax98KjfciWQIX1kSrrdaJA2WI1wJthp0Di22TMQ0ilQJFUEfnvJKdAMFO0/oycpEDst5v7IxOnQC3szxHToJtA0I4/9Xxyo0A2WrbGzs2hQHPTVIcmpKlA",
          "dtype": "f8"
         },
         "yaxis": "y2"
        },
        {
         "legendgroup": "Deepseek R1 (belief prompting)",
         "line": {
          "color": "#FF6347",
          "width": 2
         },
         "mode": "lines+markers",
         "name": "Deepseek R1 (belief prompting)",
         "showlegend": false,
         "type": "scatter",
         "x": {
          "bdata": "AAECAwQFBgcICQoLDA0ODxAREhMU",
          "dtype": "i1"
         },
         "xaxis": "x2",
         "y": {
          "bdata": "MzMzMzMlm0DNzMzMjP+jQHD5lm/5UqBAh/IaymvOoEDkOI7jOOKeQAAAAACA7ZtA7mmE5Z5QoUA5juM4jieZQFVVVVXV2aBARhdddNEToEBGF1100WmVQI7jOI7jYp9AAAAAAMDIo0AAAAAAwK6hQFVVVVVV86FAkiRJkiTVoECxEzuxE7GiQBQ7sRM7QZlAAAAAAIANoUCrqqqqquSdQJqZmZmZwqNA",
          "dtype": "f8"
         },
         "yaxis": "y2"
        },
        {
         "hoverinfo": "skip",
         "legendgroup": "Gemini 2.5 Pro",
         "line": {
          "width": 0
         },
         "mode": "lines",
         "showlegend": false,
         "type": "scatter",
         "x": [
          0,
          1,
          2,
          3,
          4,
          5,
          6,
          7,
          8,
          9,
          10,
          11,
          12,
          13,
          14,
          15,
          16,
          17,
          18,
          19,
          20
         ],
         "xaxis": "x2",
         "y": {
          "bdata": "hm4UI7jimUDYRz5TJ36cQGXxkqLq8JtAy7u3yKBWnEBkZtXMP9idQDfMP8pp259A9gLqGVflnUBMg2yGRICfQO6C5MlaRqBAgMhDFWgcoECAzN/i4EmhQKuV9CwC9Z5APscSKrf4oEB3WyrimSegQKr9U2ZTlqFAt9wE2HRKpEDVBtlWjzikQErSKA6MCp5AUY7H51yAlEBw+RVdFvuiQCzbeB4uaqFA",
          "dtype": "f8"
         },
         "yaxis": "y2"
        },
        {
         "fill": "tonexty",
         "fillcolor": "rgba(144, 238, 144, 0.2)",
         "hoverinfo": "skip",
         "legendgroup": "Gemini 2.5 Pro",
         "line": {
          "width": 0
         },
         "mode": "lines",
         "showlegend": false,
         "type": "scatter",
         "x": [
          0,
          1,
          2,
          3,
          4,
          5,
          6,
          7,
          8,
          9,
          10,
          11,
          12,
          13,
          14,
          15,
          16,
          17,
          18,
          19,
          20
         ],
         "xaxis": "x2",
         "y": {
          "bdata": "epHr3EdpnECOHigTPyqeQPv/grwGLZ5AyZF+EMQsn0Cchny2U4KgQA2QQkLBWKFAzd+FhwIloECwEx8SM2KhQMxlvsHTlaJAgDe86peuoUBwJBEOEAekQCq1hem+ZqFAwjjt1Uhoo0CJpNUdZuaiQFYCrJmsF6VASSP7J4ttpUAr+SapcKupQNuW6/i5UqRA2DgcjNEUoUDzrR98Hwm0QH7PMYx8nKNA",
          "dtype": "f8"
         },
         "yaxis": "y2"
        },
        {
         "legendgroup": "Gemini 2.5 Pro",
         "line": {
          "color": "#90EE90",
          "width": 2
         },
         "mode": "lines+markers",
         "name": "Gemini 2.5 Pro",
         "showlegend": false,
         "type": "scatter",
         "x": {
          "bdata": "AAECAwQFBgcICQoLDA0ODxAREhMU",
          "dtype": "i1"
         },
         "xaxis": "x2",
         "y": {
          "bdata": "AAAAAAAmm0AzMzMzM1SdQLD4iq/4Dp1AyiabbLLBnUDOOeecc26fQBQ7sRM7o6BASOF6FK4Xn0CrqqqqKpGgQF100UUXbqFAAAAAAIDloEB4eHh4eKiiQAAAAACgcKBAAAAAAIAwokAAAAAAAIehQAAAAAAAV6NAAAAAAADcpEAAAAAAAPKmQAAAAAAArKFAAAAAAABVm0CrqqqqqoatQFVVVVVVg6JA",
          "dtype": "f8"
         },
         "yaxis": "y2"
        },
        {
         "hoverinfo": "skip",
         "legendgroup": "Gemini 2.5 Pro (ABBEL)",
         "line": {
          "width": 0
         },
         "mode": "lines",
         "showlegend": false,
         "type": "scatter",
         "x": [
          0,
          1,
          2,
          3,
          4,
          5,
          6,
          7,
          8,
          9,
          10,
          11,
          12,
          13,
          14,
          15,
          16,
          17,
          18,
          19,
          20
         ],
         "xaxis": "x2",
         "y": {
          "bdata": "RPhcQ4EpmkCjA0auCkGbQAzYO/HpB5lAlqTaCElVmEAcTE9z8NybQFjzU9uCvZtAgajwkDvxmkCfd/abA0KbQIn+gKrwsZlA3gJ8IBjmmUBbFbqqI9ScQBjv/V0Pk5tARucwllrumkArUW2zL0abQK0jTM1R3plAihPzDu1km0Cs9jZ1FMKdQMe/A3rGlZ1AeN8z6OFhm0DApisAXXKdQKHijwlxKJtA",
          "dtype": "f8"
         },
         "yaxis": "y2"
        },
        {
         "fill": "tonexty",
         "fillcolor": "rgba(0, 100, 0, 0.2)",
         "hoverinfo": "skip",
         "legendgroup": "Gemini 2.5 Pro (ABBEL)",
         "line": {
          "width": 0
         },
         "mode": "lines",
         "showlegend": false,
         "type": "scatter",
         "x": [
          0,
          1,
          2,
          3,
          4,
          5,
          6,
          7,
          8,
          9,
          10,
          11,
          12,
          13,
          14,
          15,
          16,
          17,
          18,
          19,
          20
         ],
         "xaxis": "x2",
         "y": {
          "bdata": "VqE8VhhDnEBd/LlR9aadQLCutingl5tARhKT0m3gmkBGbViepW6eQKgMrCR9fp9ADxoFmCC2nUAtVdYwyQieQDvFQhnTuZxAIv2D3+ePnEDsjjzEh0uhQHb0OjDUzZ9AZMN5FFBEn0AWAvTQkg+hQFPcszKufJ9AduwM8RLfnkCqhGTFdVmiQB0g/sKcZ6BARBDmCw9goUCgLOp/0XGhQK8OOHvHj6FA",
          "dtype": "f8"
         },
         "yaxis": "y2"
        },
        {
         "legendgroup": "Gemini 2.5 Pro (ABBEL)",
         "line": {
          "color": "#006400",
          "width": 2
         },
         "mode": "lines+markers",
         "name": "Gemini 2.5 Pro (ABBEL)",
         "showlegend": false,
         "type": "scatter",
         "x": {
          "bdata": "AAECAwQFBgcICQoLDA0ODxAREhMU",
          "dtype": "i1"
         },
         "xaxis": "x2",
         "y": {
          "bdata": "zczMzEw2m0AAAAAAAHScQF5DeQ3lT5pAbtu2bduamUCx3NMIyyWdQAAAAAAAnp1ASOF6FK5TnEBmZmZmZqWcQOLh4eHhNZtAAAAAAAA7m0CamZmZmbWfQMdxHMdxsJ1AVVVVVVUZnUCrqqqqqrKeQAAAAACArZxAAAAAAAAinUAAAAAAQJ2gQAAAAACAMp9AAAAAAAARn0AAAAAAgBWgQAAAAAAAJJ9A",
          "dtype": "f8"
         },
         "yaxis": "y2"
        },
        {
         "hoverinfo": "skip",
         "legendgroup": "Gemini 2.5 Pro (belief prompting)",
         "line": {
          "width": 0
         },
         "mode": "lines",
         "showlegend": false,
         "type": "scatter",
         "x": [
          0,
          1,
          2,
          3,
          4,
          5,
          6,
          7,
          8,
          9,
          10,
          11,
          12,
          13,
          14,
          15,
          16,
          17,
          18,
          19,
          20
         ],
         "xaxis": "x2",
         "y": {
          "bdata": "L4zcFjOpmUBVc+vz/CKaQG1j0evAbppAfeRXtzVdm0A9kTTbxRWbQMukBXj3cJxAe/CcwOg1oED/mZwY+BCgQPKtQyCWZKBAXf+Vu2XhnkCffu/HvDmfQEDrRZHF56BA0D7WNMiFo0ByNwk1GzSeQPspDKt8uaBA8Ieq7G+noUBkegir0lWgQN7GAanvjKBAjZpuiaG5oUCYBFTmHbugQDUnhrcIsKJA",
          "dtype": "f8"
         },
         "yaxis": "y2"
        },
        {
         "fill": "tonexty",
         "fillcolor": "rgba(50, 205, 50, 0.2)",
         "hoverinfo": "skip",
         "legendgroup": "Gemini 2.5 Pro (belief prompting)",
         "line": {
          "width": 0
         },
         "mode": "lines",
         "showlegend": false,
         "type": "scatter",
         "x": [
          0,
          1,
          2,
          3,
          4,
          5,
          6,
          7,
          8,
          9,
          10,
          11,
          12,
          13,
          14,
          15,
          16,
          17,
          18,
          19,
          20
         ],
         "xaxis": "x2",
         "y": {
          "bdata": "aw29gmZPm0CrjBQMA76bQO9aFHD9VpxAKcFN7m+4nUDVf9w1S1edQJcUopmeEp9Amb2qIJKyoUDrs9Jh26KhQA5SvN9p5KFA2Ye8qdRWoUCwQAicIb+hQAqn3rfMCKNAelNOFMpSpkC9xqLbVE2iQGf9abeqIKNAuiIAvjooo0BoUsQh+sakQLAcN+XzW6NA5YFY6Hq1p0Bo+6sZYoKmQMvYeUj3s6VA",
          "dtype": "f8"
         },
         "yaxis": "y2"
        },
        {
         "legendgroup": "Gemini 2.5 Pro (belief prompting)",
         "line": {
          "color": "#32CD32",
          "width": 2
         },
         "mode": "lines+markers",
         "name": "Gemini 2.5 Pro (belief prompting)",
         "showlegend": false,
         "type": "scatter",
         "x": {
          "bdata": "AAECAwQFBgcICQoLDA0ODxAREhMU",
          "dtype": "i1"
         },
         "xaxis": "x2",
         "y": {
          "bdata": "zczMzEx8mkAAAAAAgPCaQC7f8i3fYptA09LS0tKKnECJiIiIiDacQLHc0wjLwZ1ACtejcD30oED1pje96dmgQAAAAACAJKFAxMPDw8NjoEAAAAAAAK6gQCVJkiRJ+KFAJUmSJEnspEA7sRM7sbOgQLETO7ET7aFAVVVVVdVnokBmZmZmZo6iQMdxHMdx9KFAOY7jOI63pEAAAAAAwJ6jQAAAAAAAMqRA",
          "dtype": "f8"
         },
         "yaxis": "y2"
        },
        {
         "hoverinfo": "skip",
         "legendgroup": "Deepseek R1",
         "line": {
          "width": 0
         },
         "mode": "lines",
         "showlegend": false,
         "type": "scatter",
         "x": [
          0,
          1,
          2,
          3,
          4,
          5,
          6,
          7,
          8,
          9,
          10,
          11,
          12,
          13,
          14,
          15,
          16,
          17,
          18,
          19,
          20
         ],
         "xaxis": "x3",
         "y": {
          "bdata": "B3lynwt1m0BWZPkdv2SoQKzqCMaovqdALC3xaxUGr0D+9no4DIiyQBwiDd0XfrFAcLmCPatqtUDytxXtPaa2QJodWUr3obtANf8uKvbXwkBE2MGNf5/BQEQW8MqY5cJAnE+k3iVUwUCR4C3KCNbEQCPaB7XnMsZAYnMNidZpyUCRqDsorc3KQF9e3HY4KMRAUm0hfUbCxEAdrlIJvPa/QOHCOyXu8sJA",
          "dtype": "f8"
         },
         "yaxis": "y3"
        },
        {
         "fill": "tonexty",
         "fillcolor": "rgba(255, 182, 193, 0.2)",
         "hoverinfo": "skip",
         "legendgroup": "Deepseek R1",
         "line": {
          "width": 0
         },
         "mode": "lines",
         "showlegend": false,
         "type": "scatter",
         "x": [
          0,
          1,
          2,
          3,
          4,
          5,
          6,
          7,
          8,
          9,
          10,
          11,
          12,
          13,
          14,
          15,
          16,
          17,
          18,
          19,
          20
         ],
         "xaxis": "x3",
         "y": {
          "bdata": "F13gyRPgoUCqmwbiQNGtQIhIKm0K4axAamkHSvWgskA2PLj6ZjG3QIgfDccparZAXBNKjyFMukAOSOoSwqK/QFwWaK1O68FA5WGKfRtKx0CY3qtNNxXHQJigfRBeYsdA/IC6Y1VMxkBTWGAZMPfJQDN7TaDtuctAwJdLP2z+z0D+Qj/gOorQQP8V9c7e5MlAlgx9ajNKykAm3IkuVQPFQHWSGTBnE8pA",
          "dtype": "f8"
         },
         "yaxis": "y3"
        },
        {
         "legendgroup": "Deepseek R1",
         "line": {
          "color": "#FFB6C1",
          "width": 2
         },
         "mode": "lines+markers",
         "name": "Deepseek R1",
         "showlegend": false,
         "type": "scatter",
         "x": {
          "bdata": "AAECAwQFBgcICQoLDA0ODxAREhMU",
          "dtype": "i1"
         },
         "xaxis": "x3",
         "y": {
          "bdata": "mpmZmZman0AAAAAAABurQJqZmZnZT6pAAAAAAAASsUCamZmZudy0QNIgDdIg9LNAZmZmZmbbt0AAAAAAgCS7QCmllFJKvL9AjbDc0wgRxUBu27ZtW1rEQG7btm37I8VATGgvoT3Qw0ByHMdxnGbHQKuqqqpq9shAkYUsZCG0zEBGF110EfHNQC+66KKLBsdA9DzP8zyGx0CamZmZWX/CQKuqqqoqg8ZA",
          "dtype": "f8"
         },
         "yaxis": "y3"
        },
        {
         "hoverinfo": "skip",
         "legendgroup": "Deepseek R1 (ABBEL)",
         "line": {
          "width": 0
         },
         "mode": "lines",
         "showlegend": false,
         "type": "scatter",
         "x": [
          0,
          1,
          2,
          3,
          4,
          5,
          6,
          7,
          8,
          9,
          10,
          11,
          12,
          13,
          14,
          15,
          16,
          17,
          18,
          19,
          20
         ],
         "xaxis": "x3",
         "y": {
          "bdata": "it7miFz+nUBWoPU6FtWmQH1WM0qzvrBAqNzfFwCBqkBsACuJeCaoQFXLtX0fUKVAemUjmLq5pUA4ivtbAh+tQFpPYW8VCqZA6d6S+5SOo0BKf6NX1YKlQCofY+HkbqBANFJBy8IhrUB1vwJ6ZfijQDSoyaasrqZATBHgDsoPo0CqG7RSm9SmQJolAZ0k36lAeBRSO59fp0DIoJVPjsyfQH6cBo4r/p5A",
          "dtype": "f8"
         },
         "yaxis": "y3"
        },
        {
         "fill": "tonexty",
         "fillcolor": "rgba(139, 0, 0, 0.2)",
         "hoverinfo": "skip",
         "legendgroup": "Deepseek R1 (ABBEL)",
         "line": {
          "width": 0
         },
         "mode": "lines",
         "showlegend": false,
         "type": "scatter",
         "x": [
          0,
          1,
          2,
          3,
          4,
          5,
          6,
          7,
          8,
          9,
          10,
          11,
          12,
          13,
          14,
          15,
          16,
          17,
          18,
          19,
          20
         ],
         "xaxis": "x3",
         "y": {
          "bdata": "IffyIbhpokB2LNeRNpCuQE92mYKZM7ZA30RDJ3NtsEAumW4Qoc6tQN9nfbUTvatAus0Pm/hDrUC8xJ+qCEyzQHAcxz+MDqtAT69QPfk1qkDUnnrGSMOrQFrw2hb88KNA5lZfmn7ctUCLQP2FmpWrQOa47wBlS61Aalz7p6NjqkBKd5GoaiSxQKc+xcjKx7FAGUust4XJsUDyhIotDpumQC+Ns6bF46pA",
          "dtype": "f8"
         },
         "yaxis": "y3"
        },
        {
         "legendgroup": "Deepseek R1 (ABBEL)",
         "line": {
          "color": "#8B0000",
          "width": 2
         },
         "mode": "lines+markers",
         "name": "Deepseek R1 (ABBEL)",
         "showlegend": false,
         "type": "scatter",
         "x": {
          "bdata": "AAECAwQFBgcICQoLDA0ODxAREhMU",
          "dtype": "i1"
         },
         "xaxis": "x3",
         "y": {
          "bdata": "MzMzM3O0oEBmZmZmprKqQGZmZmYmebNAMzMzM/OtrUDNzMzMjPqqQJqZmZmZhqhAmpmZmdl+qUDsxE7sxO2wQOU1lNdQjKhAHMdxHEfipkAPDw8PD6OoQMIHH3zwL6JAAAAAALA2skAAAAAAAMenQI2w3NMI/alA27Zt27a5pkAfhetRuI6sQHTRRRddt65AVVVVVVV5rUCrqqqqqkCjQLdt27ZtMaVA",
          "dtype": "f8"
         },
         "yaxis": "y3"
        },
        {
         "hoverinfo": "skip",
         "legendgroup": "Deepseek R1 (belief prompting)",
         "line": {
          "width": 0
         },
         "mode": "lines",
         "showlegend": false,
         "type": "scatter",
         "x": [
          0,
          1,
          2,
          3,
          4,
          5,
          6,
          7,
          8,
          9,
          10,
          11,
          12,
          13,
          14,
          15,
          16,
          17,
          18,
          19,
          20
         ],
         "xaxis": "x3",
         "y": {
          "bdata": "4MMKrMYjnEDrEEDq+JimQAXTDhA7e6dAnj3EVAnspkB2t5HpGXmlQGGWQnVaWaRAo8OsfSDEo0BMOzZl1qKmQFbNCyT256tADmFibRZOrUCo2HpWbtOmQJvFESk3DKxABtkwHVsIskC7fsrGn6iwQN5bD6lTxqtAKoplz/hFuEByfccqEASwQFXGeUJFyrVA3JaQX5fMtUAOKuvTele0QJiKoHAusLFA",
          "dtype": "f8"
         },
         "yaxis": "y3"
        },
        {
         "fill": "tonexty",
         "fillcolor": "rgba(255, 99, 71, 0.2)",
         "hoverinfo": "skip",
         "legendgroup": "Deepseek R1 (belief prompting)",
         "line": {
          "width": 0
         },
         "mode": "lines",
         "showlegend": false,
         "type": "scatter",
         "x": [
          0,
          1,
          2,
          3,
          4,
          5,
          6,
          7,
          8,
          9,
          10,
          11,
          12,
          13,
          14,
          15,
          16,
          17,
          18,
          19,
          20
         ],
         "xaxis": "x3",
         "y": {
          "bdata": "3GrHdmnGokDhu4zi03GsQGGTV1Yr2K1A/FvVRJDDrECKSG4W5jiuQJ9pvYolp6pAw6K56MXKqUAYyMCLehawQB2LFrV2qbJAw2FzEocBtEAkDDtNwYWwQEJff4xo2LJAyGC2fxhEuUCHiVa9cCG5QKvrEcVvjLNA+Je8Uinwv0BKPvSQq0i4QKs5hr260r1ALDStLRkav0BaBbbpCXO9QM7bxfU3YLtA",
          "dtype": "f8"
         },
         "yaxis": "y3"
        },
        {
         "legendgroup": "Deepseek R1 (belief prompting)",
         "line": {
          "color": "#FF6347",
          "width": 2
         },
         "mode": "lines+markers",
         "name": "Deepseek R1 (belief prompting)",
         "showlegend": false,
         "type": "scatter",
         "x": {
          "bdata": "AAECAwQFBgcICQoLDA0ODxAREhMU",
          "dtype": "i1"
         },
         "xaxis": "x3",
         "y": {
          "bdata": "ZmZmZiZsoEBmZmZmZoWpQDMzMzOzqapAzczMzMzXqUAAAAAAANmpQAAAAABAgKdAMzMzM3PHpkC+5Vu+5WerQOQ4juO4TrBAJUmSJElUsUB4eHh4eO+rQAghhBBCb7BA55xzzjmmtUAhhBBCCOW0QM3MzMzMt7BAEREREREbvEDe3d3dXSa0QAAAAACAzrlAhOWeRlhzukC0l9BeQuW4QDMzMzMziLZA",
          "dtype": "f8"
         },
         "yaxis": "y3"
        },
        {
         "hoverinfo": "skip",
         "legendgroup": "Gemini 2.5 Pro",
         "line": {
          "width": 0
         },
         "mode": "lines",
         "showlegend": false,
         "type": "scatter",
         "x": [
          0,
          1,
          2,
          3,
          4,
          5,
          6,
          7,
          8,
          9,
          10,
          11,
          12,
          13,
          14,
          15,
          16,
          17,
          18,
          19,
          20
         ],
         "xaxis": "x3",
         "y": {
          "bdata": "9URT6gpDkECUyMfR8OuWQMVvQjbxLpdAtmyS190mmEBceKAO9cSYQG/YCmr36ZtAJ7Bpz4bgm0AtJ+Dkcd6fQGkPF1kM16FAw7RQZN7UoUCrJPhh0bygQMktpSOyGqBAyIrseLMloUCmfArVv4KiQCyNkBHzZKNAUWDFEyiNpUB+24+RfrupQI9AEi3/VahA1UZbjPxfrkBKf9WW2DSpQFSmZzTvtLRA",
          "dtype": "f8"
         },
         "yaxis": "y3"
        },
        {
         "fill": "tonexty",
         "fillcolor": "rgba(144, 238, 144, 0.2)",
         "hoverinfo": "skip",
         "legendgroup": "Gemini 2.5 Pro",
         "line": {
          "width": 0
         },
         "mode": "lines",
         "showlegend": false,
         "type": "scatter",
         "x": [
          0,
          1,
          2,
          3,
          4,
          5,
          6,
          7,
          8,
          9,
          10,
          11,
          12,
          13,
          14,
          15,
          16,
          17,
          18,
          19,
          20
         ],
         "xaxis": "x3",
         "y": {
          "bdata": "P+7fSCgvkkAG0dHHqFqZQNUpV2OoUplAFmA69e5jmkBwVCy+10ObQMVaKMk7MJ9AbSfnjrxYnkBNoP49DI+hQJGdBPOEaKVA87iKUo8qpEChJlPpeciiQIUINEHhYqJAclyw+hqgo0A2OmMG93alQCYrjnP4xKdAI3GAAzUtqkAszxoZLGGvQNsoVzxqJ69Ag0vBqPC6skDBpvsa+nGwQPJw9T/ilr1A",
          "dtype": "f8"
         },
         "yaxis": "y3"
        },
        {
         "legendgroup": "Gemini 2.5 Pro",
         "line": {
          "color": "#90EE90",
          "width": 2
         },
         "mode": "lines+markers",
         "name": "Gemini 2.5 Pro",
         "showlegend": false,
         "type": "scatter",
         "x": {
          "bdata": "AAECAwQFBgcICQoLDA0ODxAREhMU",
          "dtype": "i1"
         },
         "xaxis": "x3",
         "y": {
          "bdata": "mpmZmRk5kUDNzMzMTCOYQM3MzMzMQJhAZmZmZmZFmUBmZmZmZgSaQJqZmZkZjZ1Aymsor6EcnUDyWTeYIr+gQH3WDabIn6NA27Zt27b/okCmpaWlpcKhQCebbLLJPqFAnXPOOediokBu27Zt2/yjQClcj8L1lKVAuuiiiy7dp0BVVVVVVY6sQLW0tLS0vqtAd3d3d3f1sEBmZmZmZgytQKOLLrroJblA",
          "dtype": "f8"
         },
         "yaxis": "y3"
        },
        {
         "hoverinfo": "skip",
         "legendgroup": "Gemini 2.5 Pro (ABBEL)",
         "line": {
          "width": 0
         },
         "mode": "lines",
         "showlegend": false,
         "type": "scatter",
         "x": [
          0,
          1,
          2,
          3,
          4,
          5,
          6,
          7,
          8,
          9,
          10,
          11,
          12,
          13,
          14,
          15,
          16,
          17,
          18,
          19,
          20
         ],
         "xaxis": "x3",
         "y": {
          "bdata": "hMuR/wblkkDoLdkzlnKZQJZvWzmQpJdAnvTgAkH/lkDIkQ+mcBiWQAQn3GAqw5hAnA9q+lwVlkAp9IUxjVqaQAS3vBAlgpdAZezB5KiFl0CgqKRZvmGbQAHlf7WKw5hAaN5t53BkmkCwoAiOF8KXQNh5ZC7br5lAdJ5OhJdRnUCT2xyEs0GbQLlbSQFGYZpA1ITS+lqfmkC0HKlMbz+bQGNsebid15pA",
          "dtype": "f8"
         },
         "yaxis": "y3"
        },
        {
         "fill": "tonexty",
         "fillcolor": "rgba(0, 100, 0, 0.2)",
         "hoverinfo": "skip",
         "legendgroup": "Gemini 2.5 Pro (ABBEL)",
         "line": {
          "width": 0
         },
         "mode": "lines",
         "showlegend": false,
         "type": "scatter",
         "x": [
          0,
          1,
          2,
          3,
          4,
          5,
          6,
          7,
          8,
          9,
          10,
          11,
          12,
          13,
          14,
          15,
          16,
          17,
          18,
          19,
          20
         ],
         "xaxis": "x3",
         "y": {
          "bdata": "4prUZl/klECya8BlA3KcQGqQpMZv9JlAlj5SMPKgmUBsoSONwhmYQJZyvThvt5tAeCtHGd4zmEAtYc8jyIacQFw6WU7M65pAmxM+G5dFmkB0kgy6fDOeQG9YiiEZNZtAamepdQO1nUB+GeAUdBSbQDRJzN3nyJ1A6/lqYn1RoUDTiknisgSfQGNrKBuBxJ9ALHstBaUgn0CYLqL+2/OeQN5Y0jJAG6FA",
          "dtype": "f8"
         },
         "yaxis": "y3"
        },
        {
         "legendgroup": "Gemini 2.5 Pro (ABBEL)",
         "line": {
          "color": "#006400",
          "width": 2
         },
         "mode": "lines+markers",
         "name": "Gemini 2.5 Pro (ABBEL)",
         "showlegend": false,
         "type": "scatter",
         "x": {
          "bdata": "AAECAwQFBgcICQoLDA0ODxAREhMU",
          "dtype": "i1"
         },
         "xaxis": "x3",
         "y": {
          "bdata": "MzMzM7Pkk0DNzMzMTPKaQAAAAACAzJhAmpmZmRlQmECamZmZGRmXQM3MzMxMPZpAip3YiZ0kl0CrqqqqqnCbQLD4iq/4NplAAAAAAKDlmECKndiJncqcQLgehetR/JlA6aKLLroMnEAXXXTRRWuZQIZhGIZhvJtAJUmSJEn6n0AzMzMzMyOdQI7jOI7jEp1AAAAAAADgnECmpaWlpRmdQA8PDw8Ph55A",
          "dtype": "f8"
         },
         "yaxis": "y3"
        },
        {
         "hoverinfo": "skip",
         "legendgroup": "Gemini 2.5 Pro (belief prompting)",
         "line": {
          "width": 0
         },
         "mode": "lines",
         "showlegend": false,
         "type": "scatter",
         "x": [
          0,
          1,
          2,
          3,
          4,
          5,
          6,
          7,
          8,
          9,
          10,
          11,
          12,
          13,
          14,
          15,
          16,
          17,
          18,
          19,
          20
         ],
         "xaxis": "x3",
         "y": {
          "bdata": "jmYFLeYXk0AOMadV85CWQGnGuS3xs5ZAqKrcgCCcmUCROuMRyMyYQNMxbsIMm5lAVha4Adrol0DSNv+swcaZQJWvkvmBYplAbnWzhck3m0ALDFVNlvybQM1NYooQdZtAd6uxyZbPnkCrUIBbX1ueQCl4nmgCNZ1AvE96YC75nEDdZpbC8e6fQFY06WhPuaFA/hx+UDRNoUCROKrVb6ehQFZooCGNUqtA",
          "dtype": "f8"
         },
         "yaxis": "y3"
        },
        {
         "fill": "tonexty",
         "fillcolor": "rgba(50, 205, 50, 0.2)",
         "hoverinfo": "skip",
         "legendgroup": "Gemini 2.5 Pro (belief prompting)",
         "line": {
          "width": 0
         },
         "mode": "lines",
         "showlegend": false,
         "type": "scatter",
         "x": [
          0,
          1,
          2,
          3,
          4,
          5,
          6,
          7,
          8,
          9,
          10,
          11,
          12,
          13,
          14,
          15,
          16,
          17,
          18,
          19,
          20
         ],
         "xaxis": "x3",
         "y": {
          "bdata": "PmbHn+b3lEBYNb8Qc1WYQMtseQVCS5lA6FuMD+Y0nUDLgwJK9oCcQB/8cDAhrJxA3jHLMm6KmkAgIzjrYDCcQLfhPME/wptAkopMenbRnUBx42iqSAefQFXUv5cRvZ5AaXO5v31EoUCr1z9SUA6hQEAZBiHUfqBADp0RvC3qoEDOm6hbVnSiQHQ3P0ZSP6RAKpIjbFLZo0BV/ekB4RqnQCohhcQO+bBA",
          "dtype": "f8"
         },
         "yaxis": "y3"
        },
        {
         "legendgroup": "Gemini 2.5 Pro (belief prompting)",
         "line": {
          "color": "#32CD32",
          "width": 2
         },
         "mode": "lines+markers",
         "name": "Gemini 2.5 Pro (belief prompting)",
         "showlegend": false,
         "type": "scatter",
         "x": {
          "bdata": "AAECAwQFBgcICQoLDA0ODxAREhMU",
          "dtype": "i1"
         },
         "xaxis": "x3",
         "y": {
          "bdata": "ZmZmZuYHlEAzMzMzM3OXQJqZmZmZ/5dASIM0SINom0Au3/It36aaQPmWb/mWI5tAGqRBGqQ5mUD5rBtMkfuaQKbIZ91gkppAAAAAAKCEnEC+995774GdQBERERERGZ1AkiRJkiRWoEAAAAAAAB6gQFVVVVVVGZ9A7MRO7MRmn0Ce53me5zWhQOU1lNdQ/KJAlNdQXkOTokDzGsprKGGkQFVVVVVVoq5A",
          "dtype": "f8"
         },
         "yaxis": "y3"
        },
        {
         "hoverinfo": "skip",
         "legendgroup": "Deepseek R1",
         "line": {
          "width": 0
         },
         "mode": "lines",
         "showlegend": false,
         "type": "scatter",
         "x": [
          0,
          1,
          2,
          3,
          4,
          5,
          6,
          7,
          8,
          9,
          10,
          11,
          12,
          13,
          14,
          15,
          16,
          17,
          18,
          19,
          20
         ],
         "xaxis": "x4",
         "y": {
          "bdata": "4f2UEgQAlUAC2Hc0cpGkQIe6QKfS2bBAbXaD9lA1s0AymTCvBVizQFfqFdu9vLtAKCmsMfQktUAJst9OkVK2QPho12NBJrdA0H3v54r1vUDITuy7wn65QOe9cb7bx79AqdsiZlazv0Akbg4PW6/AQJvc95r2mcJAJ2B3uaKav0DtBMMCCVvFQOZWAIKrisFAkxAPfri/w0DhDzcYur7DQKBXSG//qMNA",
          "dtype": "f8"
         },
         "yaxis": "y4"
        },
        {
         "fill": "tonexty",
         "fillcolor": "rgba(255, 182, 193, 0.2)",
         "hoverinfo": "skip",
         "legendgroup": "Deepseek R1",
         "line": {
          "width": 0
         },
         "mode": "lines",
         "showlegend": false,
         "type": "scatter",
         "x": [
          0,
          1,
          2,
          3,
          4,
          5,
          6,
          7,
          8,
          9,
          10,
          11,
          12,
          13,
          14,
          15,
          16,
          17,
          18,
          19,
          20
         ],
         "xaxis": "x4",
         "y": {
          "bdata": "uZsEh5UynEDK9FSYWlirQK148oug7bNA520weN8LuEA0zTW3YC64QDiXpti5+8BAKPp/xUDtvECvbKWcwBu+QPPF5+m9GsFAcglLouxgw0AoB8SKQffBQK/dTRMtvcVAitVn2jlcx0DqdieFfO/HQA/Osg+0LMlAR6qe/QgKxkCbgsSEftHMQBqp/33UMMlAbe/wgdd/y0Af8MjnFWfKQGCot5DAj8tA",
          "dtype": "f8"
         },
         "yaxis": "y4"
        },
        {
         "legendgroup": "Deepseek R1",
         "line": {
          "color": "#FFB6C1",
          "width": 2
         },
         "mode": "lines+markers",
         "name": "Deepseek R1",
         "showlegend": false,
         "type": "scatter",
         "x": {
          "bdata": "AAECAwQFBgcICQoLDA0ODxAREhMU",
          "dtype": "i1"
         },
         "xaxis": "x4",
         "y": {
          "bdata": "zczMzEyZmEBmZmZm5vSnQJqZmZm5Y7JAKvJZN5igtUAzMzMzM8O1QGOMMcYY2r5AqBGWexoJuUBcj8L1KDe6QG9605verbxALWQhC9ktwUCMLrroora+QFFeQ3mN0MJAr6G8hvKaw0CH8hrKa0/EQFVVVVVV48VALS0tLa3rwkDEw8PDQxbJQAAAAADAXcVAAAAAAMifx0AAAAAA6BLHQAAAAABgnMdA",
          "dtype": "f8"
         },
         "yaxis": "y4"
        },
        {
         "hoverinfo": "skip",
         "legendgroup": "Deepseek R1 (ABBEL)",
         "line": {
          "width": 0
         },
         "mode": "lines",
         "showlegend": false,
         "type": "scatter",
         "x": [
          0,
          1,
          2,
          3,
          4,
          5,
          6,
          7,
          8,
          9,
          10,
          11,
          12,
          13,
          14,
          15,
          16,
          17,
          18,
          19,
          20
         ],
         "xaxis": "x4",
         "y": {
          "bdata": "nF+cDyH5lEDJoRoFQOyxQAOFNS+K3q1ALUbKrC0Fp0D1CU8wY7GlQGL0m7paOqNA2xo1h1dLoUDCU/WrgDyjQBK+D6LlX6JAa6/U0PsYm0Bm5PstJ+qgQNeTxFHhbaBAl69uuQccoUB6Fr/3l1ScQDtUfWM4JaFAVAQjwUr7nkByOloPAj+fQCe3tPKQeKBAGFi585zJoUBoJk7yQk2eQOR5EPE0ZJ9A",
          "dtype": "f8"
         },
         "yaxis": "y4"
        },
        {
         "fill": "tonexty",
         "fillcolor": "rgba(139, 0, 0, 0.2)",
         "hoverinfo": "skip",
         "legendgroup": "Deepseek R1 (ABBEL)",
         "line": {
          "width": 0
         },
         "mode": "lines",
         "showlegend": false,
         "type": "scatter",
         "x": [
          0,
          1,
          2,
          3,
          4,
          5,
          6,
          7,
          8,
          9,
          10,
          11,
          12,
          13,
          14,
          15,
          16,
          17,
          18,
          19,
          20
         ],
         "xaxis": "x4",
         "y": {
          "bdata": "ZKBj8N6XnUDR936UGfG1QLJwmBuuFLJAn4YCIJ/QrUCfzQEu4FutQCzvnNOIF6lAQaw8lW/IpUBi9Zx4yEmpQNAj0j/8RahAdE0qaswMo0D8Qno0ABSmQHdYAP0Km6NAff7YJ3O4p0DNS8R08c+jQMWrgpxHyKdAviD6zRR1pEBpboGyZ++mQNlISw1vA6pARhwYUnp5qkBAvh6euy2jQEqSa8S0WaVA",
          "dtype": "f8"
         },
         "yaxis": "y4"
        },
        {
         "legendgroup": "Deepseek R1 (ABBEL)",
         "line": {
          "color": "#8B0000",
          "width": 2
         },
         "mode": "lines+markers",
         "name": "Deepseek R1 (ABBEL)",
         "showlegend": false,
         "type": "scatter",
         "x": {
          "bdata": "AAECAwQFBgcICQoLDA0ODxAREhMU",
          "dtype": "i1"
         },
         "xaxis": "x4",
         "y": {
          "bdata": "AAAAAIBImUDNzMzMrO6zQJqZmZn5gbBAZmZmZuZqqkDKayivoYapQMdxHMfxKKZAjuM4juOJo0CSJEmSJEOmQPHw8PDwUqVAlVJKKaVMoECxEzuxE3+jQCd2Yid2BKJACtejcD1qpECF61G4Hv2gQAAAAADAdqRAdNFFF135oUDRRRdddEejQAAAAAAAPqVAL7roooshpkC66KKLLiqhQJ7neZ7nhaJA",
          "dtype": "f8"
         },
         "yaxis": "y4"
        },
        {
         "hoverinfo": "skip",
         "legendgroup": "Deepseek R1 (belief prompting)",
         "line": {
          "width": 0
         },
         "mode": "lines",
         "showlegend": false,
         "type": "scatter",
         "x": [
          0,
          1,
          2,
          3,
          4,
          5,
          6,
          7,
          8,
          9,
          10,
          11,
          12,
          13,
          14,
          15,
          16,
          17,
          18,
          19,
          20
         ],
         "xaxis": "x4",
         "y": {
          "bdata": "NEj+2kh3k0DJ0hYf7AOkQHYmQsiPWaZAPmn6DEZqo0AUFAIw4b2gQB4xmIWg3qJAObOk6GCSqUDKNNktAjqhQD6nVcK2UKZAN0+A8rXfpED4te93xcKwQFMC2YZeVrFApBpgr+Jxo0B0Lxat+DStQDWH1AVM17hAbCJR0PVwq0D63uOa7l+yQLrNK8XRKLdA4Eev6PKIuUDByxYU3wO6QDiyVVMFXr5A",
          "dtype": "f8"
         },
         "yaxis": "y4"
        },
        {
         "fill": "tonexty",
         "fillcolor": "rgba(255, 99, 71, 0.2)",
         "hoverinfo": "skip",
         "legendgroup": "Deepseek R1 (belief prompting)",
         "line": {
          "width": 0
         },
         "mode": "lines",
         "showlegend": false,
         "type": "scatter",
         "x": [
          0,
          1,
          2,
          3,
          4,
          5,
          6,
          7,
          8,
          9,
          10,
          11,
          12,
          13,
          14,
          15,
          16,
          17,
          18,
          19,
          20
         ],
         "xaxis": "x4",
         "y": {
          "bdata": "ZlGbvlDHmUDRxoJ6rXGoQPA/JJ7WD61A6kWnr0CaqUBWVWc5iG+oQHHnM73vCbBAixwQs0VAs0BCJO8UFOirQJDmvUEwhbFAQI8t4tvVsEAIShCIOnK8QF2f4/+TsLxAhkOu64dMsEAeOdPs/Py1QEryqdSqmMJAWFIQpmiRtkBge3a/a2S8QEE3iDu1PsFAecUR9e/4wkAgmvR10KzDQOQmVVYtmMZA",
          "dtype": "f8"
         },
         "yaxis": "y4"
        },
        {
         "legendgroup": "Deepseek R1 (belief prompting)",
         "line": {
          "color": "#FF6347",
          "width": 2
         },
         "mode": "lines+markers",
         "name": "Deepseek R1 (belief prompting)",
         "showlegend": false,
         "type": "scatter",
         "x": {
          "bdata": "AAECAwQFBgcICQoLDA0ODxAREhMU",
          "dtype": "i1"
         },
         "xaxis": "x4",
         "y": {
          "bdata": "zczMzEyflkDNzMzMzDqmQDMzMzOztKlAlNdQXkOCpkC1tLS0tJakQAAAAABAealAFDuxE7sEsECGLGQhC5GmQC+66KKLraxA27Zt27ZFq0AAAAAAgJq2QNhQXkN5A7dA2FBeQ3kFqkBsKK+hvEuyQOU1lNdQBL9Ax3Ecx/EkskAtLS0tLWK3QB4eHh4e07xAaWlpaWm9v0AAAAAAYFfAQAAAAACY48JA",
          "dtype": "f8"
         },
         "yaxis": "y4"
        },
        {
         "hoverinfo": "skip",
         "legendgroup": "Gemini 2.5 Pro",
         "line": {
          "width": 0
         },
         "mode": "lines",
         "showlegend": false,
         "type": "scatter",
         "x": [
          0,
          1,
          2,
          3,
          4,
          5,
          6,
          7,
          8,
          9,
          10,
          11,
          12,
          13,
          14,
          15,
          16,
          17,
          18,
          19,
          20
         ],
         "xaxis": "x4",
         "y": {
          "bdata": "gpUgP47NlUDkob+885+cQAbSR3jbQJxACMJJdsKLnkAcfF/0lgGgQM/+j5hYm6FA6x2IbTTXoEA4AUqTHlWhQHlJf4lrSKJAPG5Q4xFzo0AqzPI1TI6kQFAYC7m2/KFA0Y2lHZXTpUBT+QU+TWilQJ6OjNYBXq9ArepD6qLUrEC5YihMM2atQDuk7cXZnK1AqT2wJVcgrEDYUOPaX7yxQCjDpf9e17NA",
          "dtype": "f8"
         },
         "yaxis": "y4"
        },
        {
         "fill": "tonexty",
         "fillcolor": "rgba(144, 238, 144, 0.2)",
         "hoverinfo": "skip",
         "legendgroup": "Gemini 2.5 Pro",
         "line": {
          "width": 0
         },
         "mode": "lines",
         "showlegend": false,
         "type": "scatter",
         "x": [
          0,
          1,
          2,
          3,
          4,
          5,
          6,
          7,
          8,
          9,
          10,
          11,
          12,
          13,
          14,
          15,
          16,
          17,
          18,
          19,
          20
         ],
         "xaxis": "x4",
         "y": {
          "bdata": "sp0S9KRQl0CCxKapcqSeQGCUHu6KnJ5AL1IO+FGVoEDkg6ALaVmhQP3NPDR0W6NAuSOSNg3rokCqKnRPDQGjQK1R7She6qNAmJp6Wnu9pUA4W4Ms23OnQGrQl9J3BaVASznM/jH4qECtBvrBcgWpQGPM9MUSbLNA5bvxxV93sUAv/aVCiSSxQEiUb4P5GrJA+a30OaGqsEAorxwloIO2QBDLPTkvHLlA",
          "dtype": "f8"
         },
         "yaxis": "y4"
        },
        {
         "legendgroup": "Gemini 2.5 Pro",
         "line": {
          "color": "#90EE90",
          "width": 2
         },
         "mode": "lines+markers",
         "name": "Gemini 2.5 Pro",
         "showlegend": false,
         "type": "scatter",
         "x": {
          "bdata": "AAECAwQFBgcICQoLDA0ODxAREhMU",
          "dtype": "i1"
         },
         "xaxis": "x4",
         "y": {
          "bdata": "mpmZmRmPlkAzMzMzM6KdQDMzMzOzbp1AMzMzMzPbn0AAAAAAgK2gQGZmZmZme6JA0iAN0iDhoUDxFV/xFSuiQJNNNtlkGaNAaoTlnkaYpECxEzuxEwGmQF100UUXgaNAjuM4juNlp0AAAAAA4DanQNmJndiJjbFAO7ETO7Hhr0CMLrrootevQDMzMzOzdLBAzczMzMy6rkAAAAAAACC0QBzHcRzHebZA",
          "dtype": "f8"
         },
         "yaxis": "y4"
        },
        {
         "hoverinfo": "skip",
         "legendgroup": "Gemini 2.5 Pro (ABBEL)",
         "line": {
          "width": 0
         },
         "mode": "lines",
         "showlegend": false,
         "type": "scatter",
         "x": [
          0,
          1,
          2,
          3,
          4,
          5,
          6,
          7,
          8,
          9,
          10,
          11,
          12,
          13,
          14,
          15,
          16,
          17,
          18,
          19,
          20
         ],
         "xaxis": "x4",
         "y": {
          "bdata": "L4ancXY1lUBrHyVJqi2XQAKC+QLcb5VAIXsS/NlflUAyo3UKSGOVQLMI6qocIpdAlPxkuLoOlkAYHfOpJWOWQP1Yes4QvpZAl/X2LqtNmECDyNEX2Y6XQAHrtWgcrJtA9bm86pO3mkD1c+q6tE2dQHUztMBxt5hA35dFxE+AmEDY6y0r58ObQCfonEFrlZxADOOOefUiokAWQ/x/ugyaQEy+ITmHBaRA",
          "dtype": "f8"
         },
         "yaxis": "y4"
        },
        {
         "fill": "tonexty",
         "fillcolor": "rgba(0, 100, 0, 0.2)",
         "hoverinfo": "skip",
         "legendgroup": "Gemini 2.5 Pro (ABBEL)",
         "line": {
          "width": 0
         },
         "mode": "lines",
         "showlegend": false,
         "type": "scatter",
         "x": [
          0,
          1,
          2,
          3,
          4,
          5,
          6,
          7,
          8,
          9,
          10,
          11,
          12,
          13,
          14,
          15,
          16,
          17,
          18,
          19,
          20
         ],
         "xaxis": "x4",
         "y": {
          "bdata": "Ba2LwbzclkDJEw7qiEGZQDKxOTBXf5dA7VYOEfiol0Aot+RPEoOXQE33FVWjsplA4NHULuJcmEAMLJ96I/2YQK1RMNyZcJpAC5Y3iz1Vm0An4tiS0b+cQBahO2KIzKBAfhsag65QoEAGxoqi5TOhQCVm5dgnqp9A863RmCRRnkCgOCNTrzGiQEoAA6VhQqRAwOk9U9eVpkA8UB6HFIqhQLRB3sZ4PqxA",
          "dtype": "f8"
         },
         "yaxis": "y4"
        },
        {
         "legendgroup": "Gemini 2.5 Pro (ABBEL)",
         "line": {
          "color": "#006400",
          "width": 2
         },
         "mode": "lines+markers",
         "name": "Gemini 2.5 Pro (ABBEL)",
         "showlegend": false,
         "type": "scatter",
         "x": {
          "bdata": "AAECAwQFBgcICQoLDA0ODxAREhMU",
          "dtype": "i1"
         },
         "xaxis": "x4",
         "y": {
          "bdata": "mpmZmRkJlkCamZmZmTeYQJqZmZmZd5ZAB2mQBmmElkAtLS0tLXOWQAAAAABgaphAOuecc841l0CSJEmSJLCXQFVVVVVVl5hA0UUXXXTRmUBVVVVVVSeaQJeWlpaWop5AeHh4eHisnUAAAAAAwNqfQM3MzMzMMJxA6aKLLrpom0BGF1100QmgQC+66KKLRqFAZmZmZmZcpEDHcRzHcZCeQAAAAAAAIqhA",
          "dtype": "f8"
         },
         "yaxis": "y4"
        },
        {
         "hoverinfo": "skip",
         "legendgroup": "Gemini 2.5 Pro (belief prompting)",
         "line": {
          "width": 0
         },
         "mode": "lines",
         "showlegend": false,
         "type": "scatter",
         "x": [
          0,
          1,
          2,
          3,
          4,
          5,
          6,
          7,
          8,
          9,
          10,
          11,
          12,
          13,
          14,
          15,
          16,
          17,
          18,
          19,
          20
         ],
         "xaxis": "x4",
         "y": {
          "bdata": "+hKuLEogmUBpq+GJMOuZQPGHYjbarJpAG2Q7SFsinED/HLWEnFiZQKHyf80juZpAcdEp4bnOm0AaW/XhzFCaQN65h4EmL55A/FRAJcR/mUAomiI9AqqeQEs2CzCx+ptAmbjFG99bmkAA6r/JLMueQHMI/xHfnJ9AgWPy83TWnkCh87e7D+ydQHbs/Fap56NAaSRRgl/RoEBRBo47tyWcQDDhALz/y6BA",
          "dtype": "f8"
         },
         "yaxis": "y4"
        },
        {
         "fill": "tonexty",
         "fillcolor": "rgba(50, 205, 50, 0.2)",
         "hoverinfo": "skip",
         "legendgroup": "Gemini 2.5 Pro (belief prompting)",
         "line": {
          "width": 0
         },
         "mode": "lines",
         "showlegend": false,
         "type": "scatter",
         "x": [
          0,
          1,
          2,
          3,
          4,
          5,
          6,
          7,
          8,
          9,
          10,
          11,
          12,
          13,
          14,
          15,
          16,
          17,
          18,
          19,
          20
         ],
         "xaxis": "x4",
         "y": {
          "bdata": "OiCFBuk5m0D9uoTcNVOcQNtEapby65xA5ZvEt6Q5nkDlG9lenIebQAm4Kt2GSZ1A+bK7vYypnkCQT7XI3bWdQDnS3Xvz8qFArlVqheY2nUDssm7h/jKiQMkEpuOJ3p9AX87HHLsgoECqtcpFFKyhQPuuM6rD+KZAserN9+E7okCiIuuTFFmmQIoTA6lWNKlAl9uufaA0pkDX/DhipPyhQNAe/0OAGaVA",
          "dtype": "f8"
         },
         "yaxis": "y4"
        },
        {
         "legendgroup": "Gemini 2.5 Pro (belief prompting)",
         "line": {
          "color": "#32CD32",
          "width": 2
         },
         "mode": "lines+markers",
         "name": "Gemini 2.5 Pro (belief prompting)",
         "showlegend": false,
         "type": "scatter",
         "x": {
          "bdata": "AAECAwQFBgcICQoLDA0ODxAREhMU",
          "dtype": "i1"
         },
         "xaxis": "x4",
         "y": {
          "bdata": "mpmZmRktmkAzMzMzMx+bQGZmZmZmzJtAAAAAAAAunUByHMdxHHCaQFVVVVVVAZxANcJyTyM8nUBVVVVVVQOcQJTXUF5DhaBAVVVVVVVbm0AAAAAAAMSgQIqd2Imd7J1Aq6qqqqpOnUBVVVVV1YigQJqZmZmZY6NAOY7jOI7ToEA5juM4jqeiQAAAAAAAjqZAAAAAAACDo0AAAAAAwAegQAAAAADA8qJA",
          "dtype": "f8"
         },
         "yaxis": "y4"
        },
        {
         "hoverinfo": "skip",
         "legendgroup": "Deepseek R1",
         "line": {
          "width": 0
         },
         "mode": "lines",
         "showlegend": false,
         "type": "scatter",
         "x": [
          0,
          1,
          2,
          3,
          4
         ],
         "xaxis": "x5",
         "y": {
          "bdata": "aNDMS4NrnkB4vp9mcwXLQNAVwmhVe89AbUOCL6JHzEBQAIyJSWjGQA==",
          "dtype": "f8"
         },
         "yaxis": "y5"
        },
        {
         "fill": "tonexty",
         "fillcolor": "rgba(255, 182, 193, 0.2)",
         "hoverinfo": "skip",
         "legendgroup": "Deepseek R1",
         "line": {
          "width": 0
         },
         "mode": "lines",
         "showlegend": false,
         "type": "scatter",
         "x": [
          0,
          1,
          2,
          3,
          4
         ],
         "xaxis": "x5",
         "y": {
          "bdata": "ZjGz89cuokC8dJPM/6DOQJ7nuRVBkdFAm5ZdbZpt0ECw/3N2ltnPQA==",
          "dtype": "f8"
         },
         "yaxis": "y5"
        },
        {
         "legendgroup": "Deepseek R1",
         "line": {
          "color": "#FFB6C1",
          "width": 2
         },
         "mode": "lines+markers",
         "name": "Deepseek R1",
         "showlegend": false,
         "type": "scatter",
         "x": {
          "bdata": "AAECAwQ=",
          "dtype": "i1"
         },
         "xaxis": "x5",
         "y": {
          "bdata": "zczMzEyyoECamZmZOdPMQEN5DeV1p9BAUrgehWuRzkAAAAAA8CDLQA==",
          "dtype": "f8"
         },
         "yaxis": "y5"
        },
        {
         "hoverinfo": "skip",
         "legendgroup": "Deepseek R1 (ABBEL)",
         "line": {
          "width": 0
         },
         "mode": "lines",
         "showlegend": false,
         "type": "scatter",
         "x": [
          0,
          1,
          2,
          3,
          4,
          5,
          6
         ],
         "xaxis": "x5",
         "y": {
          "bdata": "gXuV/wUEnkCMH09M+WvKQCZjGsde+MtAnU+siKdAx0AKX0/3+0jHQALT+GeSKb1AdJ0hmHQpxEA=",
          "dtype": "f8"
         },
         "yaxis": "y5"
        },
        {
         "fill": "tonexty",
         "fillcolor": "rgba(139, 0, 0, 0.2)",
         "hoverinfo": "skip",
         "legendgroup": "Deepseek R1 (ABBEL)",
         "line": {
          "width": 0
         },
         "mode": "lines",
         "showlegend": false,
         "type": "scatter",
         "x": [
          0,
          1,
          2,
          3,
          4,
          5,
          6
         ],
         "xaxis": "x5",
         "y": {
          "bdata": "DA8CzUkXo0DaRhcaje/NQIywIOq0bc9AO1TEtGLozED2oLAIhKPLQFtNcafttsRAWC+rNNjHyEA=",
          "dtype": "f8"
         },
         "yaxis": "y5"
        },
        {
         "legendgroup": "Deepseek R1 (ABBEL)",
         "line": {
          "color": "#8B0000",
          "width": 2
         },
         "mode": "lines+markers",
         "name": "Deepseek R1 (ABBEL)",
         "showlegend": false,
         "type": "scatter",
         "x": {
          "bdata": "AAECAwQFBg==",
          "dtype": "i1"
         },
         "xaxis": "x5",
         "y": {
          "bdata": "ZmZmZqYMoUAzMzMzwy3MQNmJndgJs81A7FG4HoUUykAAAAAAQHbJQG7btm3bpcFAZmZmZqZ4xkA=",
          "dtype": "f8"
         },
         "yaxis": "y5"
        },
        {
         "hoverinfo": "skip",
         "legendgroup": "Deepseek R1 (belief prompting)",
         "line": {
          "width": 0
         },
         "mode": "lines",
         "showlegend": false,
         "type": "scatter",
         "x": [
          0,
          1,
          2,
          3,
          4,
          5,
          6
         ],
         "xaxis": "x5",
         "y": {
          "bdata": "dohPPz49lUCOhylzI/HLQMq1BypzOtBAa10ofmENz0DNamoa3CvIQEGszBY7xsRAIsz/JN4gyEA=",
          "dtype": "f8"
         },
         "yaxis": "y5"
        },
        {
         "fill": "tonexty",
         "fillcolor": "rgba(255, 99, 71, 0.2)",
         "hoverinfo": "skip",
         "legendgroup": "Deepseek R1 (belief prompting)",
         "line": {
          "width": 0
         },
         "mode": "lines",
         "showlegend": false,
         "type": "scatter",
         "x": [
          0,
          1,
          2,
          3,
          4,
          5,
          6
         ],
         "xaxis": "x5",
         "y": {
          "bdata": "8N0WJyiumEByeNaMPE7PQDZK+NVs8NFA4WeC1yUz0kClsVxXwIbOQIsgALaRp85A7xmA7fB81kA=",
          "dtype": "f8"
         },
         "yaxis": "y5"
        },
        {
         "legendgroup": "Deepseek R1 (belief prompting)",
         "line": {
          "color": "#FF6347",
          "width": 2
         },
         "mode": "lines+markers",
         "name": "Deepseek R1 (belief prompting)",
         "showlegend": false,
         "type": "scatter",
         "x": {
          "bdata": "AAECAwQFBg==",
          "dtype": "i1"
         },
         "xaxis": "x5",
         "y": {
          "bdata": "MzMzM7P1lkAAAAAAsJ/NQAAAAABwFdFAS0tLS+vc0EA5juM4TlnLQGZmZmbmtslAAAAAALBG0UA=",
          "dtype": "f8"
         },
         "yaxis": "y5"
        },
        {
         "hoverinfo": "skip",
         "legendgroup": "Gemini 2.5 Pro",
         "line": {
          "width": 0
         },
         "mode": "lines",
         "showlegend": false,
         "type": "scatter",
         "x": [
          0,
          1,
          2,
          3,
          4,
          5,
          6
         ],
         "xaxis": "x5",
         "y": {
          "bdata": "0C9zlTEaiUCgcTuFgzSlQDFpJAoZ/KdAvYQaJqaFqUDO1WlgRKumQAK0eZlh2J1AAAAAAADPtEA=",
          "dtype": "f8"
         },
         "yaxis": "y5"
        },
        {
         "fill": "tonexty",
         "fillcolor": "rgba(144, 238, 144, 0.2)",
         "hoverinfo": "skip",
         "legendgroup": "Gemini 2.5 Pro",
         "line": {
          "width": 0
         },
         "mode": "lines",
         "showlegend": false,
         "type": "scatter",
         "x": [
          0,
          1,
          2,
          3,
          4,
          5,
          6
         ],
         "xaxis": "x5",
         "y": {
          "bdata": "MNCMas6/i0DG9CrhYjapQJtjqMIzX6xAHzJTtRAir0C8oPmJRoexQMvyDwCc+K1AAAAAAAAxwUA=",
          "dtype": "f8"
         },
         "yaxis": "y5"
        },
        {
         "legendgroup": "Gemini 2.5 Pro",
         "line": {
          "color": "#90EE90",
          "width": 2
         },
         "mode": "lines+markers",
         "name": "Gemini 2.5 Pro",
         "showlegend": false,
         "type": "scatter",
         "x": {
          "bdata": "AAECAwQFBg==",
          "dtype": "i1"
         },
         "xaxis": "x5",
         "y": {
          "bdata": "AAAAAABtikAzMzMzczWnQGZmZmamLapAbtu2bdtTrECjiy666NysQGZmZmZmcqZAAAAAAICYu0A=",
          "dtype": "f8"
         },
         "yaxis": "y5"
        },
        {
         "hoverinfo": "skip",
         "legendgroup": "Gemini 2.5 Pro (ABBEL)",
         "line": {
          "width": 0
         },
         "mode": "lines",
         "showlegend": false,
         "type": "scatter",
         "x": [
          0,
          1,
          2,
          3,
          4,
          5,
          6
         ],
         "xaxis": "x5",
         "y": {
          "bdata": "HlPmQyQsikBCigRY7ryoQGoQw80Yb6tAlbJrjcvcqkB6DB+2NBieQDLFI9JLK4RAAAAAAAAA+H8=",
          "dtype": "f8"
         },
         "yaxis": "y5"
        },
        {
         "fill": "tonexty",
         "fillcolor": "rgba(0, 100, 0, 0.2)",
         "hoverinfo": "skip",
         "legendgroup": "Gemini 2.5 Pro (ABBEL)",
         "line": {
          "width": 0
         },
         "mode": "lines",
         "showlegend": false,
         "type": "scatter",
         "x": [
          0,
          1,
          2,
          3,
          4,
          5,
          6
         ],
         "xaxis": "x5",
         "y": {
          "bdata": "fEazVXUXjECKQsh0XqarQJbvPDLnQK9AtSZKOfp/sECHqvxnFhylQAG3h7DzK5ZAAAAAAAAA+H8=",
          "dtype": "f8"
         },
         "yaxis": "y5"
        },
        {
         "legendgroup": "Gemini 2.5 Pro (ABBEL)",
         "line": {
          "color": "#006400",
          "width": 2
         },
         "mode": "lines+markers",
         "name": "Gemini 2.5 Pro (ABBEL)",
         "showlegend": false,
         "type": "scatter",
         "x": {
          "bdata": "AAECAwQFBg==",
          "dtype": "i1"
         },
         "xaxis": "x5",
         "y": {
          "bdata": "zczMzMwhi0BmZmZmpjGqQAAAAAAAWK1AAAAAAGDurUBiGIZhGBSiQM3MzMzMIJBAAAAAAADGrEA=",
          "dtype": "f8"
         },
         "yaxis": "y5"
        },
        {
         "hoverinfo": "skip",
         "legendgroup": "Gemini 2.5 Pro (belief prompting)",
         "line": {
          "width": 0
         },
         "mode": "lines",
         "showlegend": false,
         "type": "scatter",
         "x": [
          0,
          1,
          2,
          3,
          4,
          5,
          6
         ],
         "xaxis": "x5",
         "y": {
          "bdata": "b6zaYF+KikDL4DIWBF6rQAtu5m1kgadApmzyILsmq0BQ0zDZ40eoQMbuMBKtXJ9AErvdIZWCp0A=",
          "dtype": "f8"
         },
         "yaxis": "y5"
        },
        {
         "fill": "tonexty",
         "fillcolor": "rgba(50, 205, 50, 0.2)",
         "hoverinfo": "skip",
         "legendgroup": "Gemini 2.5 Pro (belief prompting)",
         "line": {
          "width": 0
         },
         "mode": "lines",
         "showlegend": false,
         "type": "scatter",
         "x": [
          0,
          1,
          2,
          3,
          4,
          5,
          6
         ],
         "xaxis": "x5",
         "y": {
          "bdata": "97mLBQdsjEDOwhkoMTmwQMFe5l5opatAaYVCK16QsEAGgiR8cX+uQIHBdVrif65AdyIRb7XUuUA=",
          "dtype": "f8"
         },
         "yaxis": "y5"
        },
        {
         "legendgroup": "Gemini 2.5 Pro (belief prompting)",
         "line": {
          "color": "#32CD32",
          "width": 2
         },
         "mode": "lines+markers",
         "name": "Gemini 2.5 Pro (belief prompting)",
         "showlegend": false,
         "type": "scatter",
         "x": {
          "bdata": "AAECAwQFBg==",
          "dtype": "i1"
         },
         "xaxis": "x5",
         "y": {
          "bdata": "MzMzMzN7i0AzMzMzM+itQGZmZmZmk6lAvLu7u7sjrkCrqqqqqmOrQHIcx3EcF6dAAAAAAADLskA=",
          "dtype": "f8"
         },
         "yaxis": "y5"
        },
        {
         "hoverinfo": "skip",
         "legendgroup": "Deepseek R1",
         "line": {
          "width": 0
         },
         "mode": "lines",
         "showlegend": false,
         "type": "scatter",
         "x": [
          0,
          1,
          2,
          3,
          4,
          5,
          6,
          7,
          8,
          9,
          10,
          11,
          12
         ],
         "xaxis": "x6",
         "y": {
          "bdata": "ew5fyDJ1tUB4ZDgpHljRQDQZ5/T5DttAWnYkGu/y3UBt61AYhAXcQNpMtjJBy9pAem4eHJef2UByIRqcdGraQCktraadydlAUeZdVbHo2UAM6QB2YVTZQCvoRe0gL9lAallrE3ga1kA=",
          "dtype": "f8"
         },
         "yaxis": "y6"
        },
        {
         "fill": "tonexty",
         "fillcolor": "rgba(255, 182, 193, 0.2)",
         "hoverinfo": "skip",
         "legendgroup": "Deepseek R1",
         "line": {
          "width": 0
         },
         "mode": "lines",
         "showlegend": false,
         "type": "scatter",
         "x": [
          0,
          1,
          2,
          3,
          4,
          5,
          6,
          7,
          8,
          9,
          10,
          11,
          12
         ],
         "xaxis": "x6",
         "y": {
          "bdata": "Ub5tBFrEu0CIm8fWgWDUQJiz5ddyMd1AbV6HDHIU4EAXSfdqMK7eQCazSc2myt1AqtpzCBKL3ECkkHbptyHeQOfhYWhxZt5Arxmiqg4x3kDA48tW6+HcQNUXuhLfAN1ACMNbXiSM3EA=",
          "dtype": "f8"
         },
         "yaxis": "y6"
        },
        {
         "legendgroup": "Deepseek R1",
         "line": {
          "color": "#FFB6C1",
          "width": 2
         },
         "mode": "lines+markers",
         "name": "Deepseek R1",
         "showlegend": false,
         "type": "scatter",
         "x": {
          "bdata": "AAECAwQFBgcICQoLDA==",
          "dtype": "i1"
         },
         "xaxis": "x6",
         "y": {
          "bdata": "ZmZmZsacuEAAAAAAUNzSQGZmZmY2INxAmpmZmekN30BCGqRB2lndQAAAAAD0StxAkiRJklQV20ALWchCFkbcQIiHh4cHGNxAAAAAAOAM3EBmZmZmJhvbQAAAAAAAGNtAOY7jOE5T2UA=",
          "dtype": "f8"
         },
         "yaxis": "y6"
        },
        {
         "hoverinfo": "skip",
         "legendgroup": "Deepseek R1 (ABBEL)",
         "line": {
          "width": 0
         },
         "mode": "lines",
         "showlegend": false,
         "type": "scatter",
         "x": [
          0,
          1,
          2,
          3,
          4,
          5,
          6,
          7,
          8,
          9,
          10,
          11,
          12
         ],
         "xaxis": "x6",
         "y": {
          "bdata": "yHgZdYPFrkBXMRhB2VTOQDEW5HbJaNNAhtiqqi7V1ED3su3CR9bMQE9cv6aius5AaEHk4DRmy0DaMOeHKkrKQG2sl13EjchAYBiw+CyVw0Ae886QBgbKQI3En/f7G8tAsWItu0+XxkA=",
          "dtype": "f8"
         },
         "yaxis": "y6"
        },
        {
         "fill": "tonexty",
         "fillcolor": "rgba(139, 0, 0, 0.2)",
         "hoverinfo": "skip",
         "legendgroup": "Deepseek R1 (ABBEL)",
         "line": {
          "width": 0
         },
         "mode": "lines",
         "showlegend": false,
         "type": "scatter",
         "x": [
          0,
          1,
          2,
          3,
          4,
          5,
          6,
          7,
          8,
          9,
          10,
          11,
          12
         ],
         "xaxis": "x6",
         "y": {
          "bdata": "nENzRb40s0CIGqeSxuPRQGmDtSKgJ9ZAeidVVbFt10DrjO+EosnRQAEBQmk1pdJAoTTj5Nqh0ECwO07ZvoXQQEnBQ1mpk89AoOdPB5sfykAz+efaqKPQQMz3e2wxUtFAFw/vCyIzzkA=",
          "dtype": "f8"
         },
         "yaxis": "y6"
        },
        {
         "legendgroup": "Deepseek R1 (ABBEL)",
         "line": {
          "color": "#8B0000",
          "width": 2
         },
         "mode": "lines+markers",
         "name": "Deepseek R1 (ABBEL)",
         "showlegend": false,
         "type": "scatter",
         "x": {
          "bdata": "AAECAwQFBgcICQoLDA==",
          "dtype": "i1"
         },
         "xaxis": "x6",
         "y": {
          "bdata": "AAAAAMBLsUCamZmZGYfQQM3MzMw0yNRAAAAAAHAh1kAzMzMzYxrQQJTXUF5DAdFAVVVVVfVUzkAd1EEd1KrNQNu2bdu2EMxAAAAAAGTaxkDCck8jrKbNQBPaS2gv4M5A5DiO4zhlykA=",
          "dtype": "f8"
         },
         "yaxis": "y6"
        },
        {
         "hoverinfo": "skip",
         "legendgroup": "Deepseek R1 (belief prompting)",
         "line": {
          "width": 0
         },
         "mode": "lines",
         "showlegend": false,
         "type": "scatter",
         "x": [
          0,
          1,
          2,
          3,
          4,
          5,
          6,
          7,
          8,
          9,
          10,
          11,
          12
         ],
         "xaxis": "x6",
         "y": {
          "bdata": "OTYwqTdUr0CcSBi7jPrRQIdVauAR8tVAMA8Inbno1EDvZWTic4HVQHuEVxtLotNAR0EzocDk1ECBqR5HbpbUQCuz9d9IEtVA4R+PzrVT1EDp5nsHpj3TQHaT40XlttRAPpOkxiQ800A=",
          "dtype": "f8"
         },
         "yaxis": "y6"
        },
        {
         "fill": "tonexty",
         "fillcolor": "rgba(255, 99, 71, 0.2)",
         "hoverinfo": "skip",
         "legendgroup": "Deepseek R1 (belief prompting)",
         "line": {
          "width": 0
         },
         "mode": "lines",
         "showlegend": false,
         "type": "scatter",
         "x": [
          0,
          1,
          2,
          3,
          4,
          5,
          6,
          7,
          8,
          9,
          10,
          11,
          12
         ],
         "xaxis": "x6",
         "y": {
          "bdata": "4+RnK6QEtEBkt+dE4/DUQBNEL7k3zNhAIE873NMH2EAt5iztxoHYQP3zIF0th9ZARe2GR2Jb2EB/VuG42X3YQM0rhg91BNhAo9aDCxYQ2EA/dRO7z4/WQO6NJxNjVtdAgFapqFV+1kA=",
          "dtype": "f8"
         },
         "yaxis": "y6"
        },
        {
         "legendgroup": "Deepseek R1 (belief prompting)",
         "line": {
          "color": "#FF6347",
          "width": 2
         },
         "mode": "lines+markers",
         "name": "Deepseek R1 (belief prompting)",
         "showlegend": false,
         "type": "scatter",
         "x": {
          "bdata": "AAECAwQFBgcICQoLDA==",
          "dtype": "i1"
         },
         "xaxis": "x6",
         "y": {
          "bdata": "AAAAAGDXsUAAAAAAuHXTQM3MzMwkX9dAKK+hvEZ41kAOpshnnQHXQDw8PDy8FNVARhdddBGg1kAAAAAAJIrWQHzvvfdei9ZAQnsJ7eUx1kAUrkfhuubUQLKQhSykBtZA3/SmNz3d1EA=",
          "dtype": "f8"
         },
         "yaxis": "y6"
        },
        {
         "hoverinfo": "skip",
         "legendgroup": "Gemini 2.5 Pro",
         "line": {
          "width": 0
         },
         "mode": "lines",
         "showlegend": false,
         "type": "scatter",
         "x": [
          0,
          1,
          2,
          3,
          4,
          5,
          6,
          7,
          8
         ],
         "xaxis": "x6",
         "y": {
          "bdata": "jCkOMJCIpkBmTsTJKtOlQEIcfiBHurJAivTW/e2nukDsPyu/uBe/QJRvbU8UkLpAdC5OkgBtuUAe+SnuLaW/QAAAAAAAAPh/",
          "dtype": "f8"
         },
         "yaxis": "y6"
        },
        {
         "fill": "tonexty",
         "fillcolor": "rgba(144, 238, 144, 0.2)",
         "hoverinfo": "skip",
         "legendgroup": "Gemini 2.5 Pro",
         "line": {
          "width": 0
         },
         "mode": "lines",
         "showlegend": false,
         "type": "scatter",
         "x": [
          0,
          1,
          2,
          3,
          4,
          5,
          6,
          7,
          8
         ],
         "xaxis": "x6",
         "y": {
          "bdata": "DnCLaYlbqkAAGKKcO9iqQFh9G3kSPrVAEKXCm2sVvUCgz2M3k+3AQLjb3fs2c71ApC4mP0UhvEBxA+sIaXrDQAAAAAAAAPh/",
          "dtype": "f8"
         },
         "yaxis": "y6"
        },
        {
         "legendgroup": "Gemini 2.5 Pro",
         "line": {
          "color": "#90EE90",
          "width": 2
         },
         "mode": "lines+markers",
         "name": "Gemini 2.5 Pro",
         "showlegend": false,
         "type": "scatter",
         "x": {
          "bdata": "AAECAwQFBgcI",
          "dtype": "i1"
         },
         "xaxis": "x6",
         "y": {
          "bdata": "zczMzAxyqEAzMzMzs1WoQM3MzMws/LNAzczMzKzeu0DLt3zLtzzAQKalpaWlAbxAjC666CLHukAAAAAAgKbBQAAAAAAA8MNA",
          "dtype": "f8"
         },
         "yaxis": "y6"
        },
        {
         "hoverinfo": "skip",
         "legendgroup": "Gemini 2.5 Pro (ABBEL)",
         "line": {
          "width": 0
         },
         "mode": "lines",
         "showlegend": false,
         "type": "scatter",
         "x": [
          0,
          1,
          2,
          3,
          4,
          5,
          6,
          7,
          8,
          9,
          10,
          11,
          12
         ],
         "xaxis": "x6",
         "y": {
          "bdata": "9e5dn6LWoED5j9l6TMOiQNjkLWkTWrJAIvRxE+8fs0BBmSjbTTawQOum8VAxEq5AJAY7NFeZp0DWowjTU9CfQLurMqZmY5pAAAAAAAAA+H8AAAAAAAD4fwAAAAAAAPh/AAAAAAAA+H8=",
          "dtype": "f8"
         },
         "yaxis": "y6"
        },
        {
         "fill": "tonexty",
         "fillcolor": "rgba(0, 100, 0, 0.2)",
         "hoverinfo": "skip",
         "legendgroup": "Gemini 2.5 Pro (ABBEL)",
         "line": {
          "width": 0
         },
         "mode": "lines",
         "showlegend": false,
         "type": "scatter",
         "x": [
          0,
          1,
          2,
          3,
          4,
          5,
          6,
          7,
          8,
          9,
          10,
          11,
          12
         ],
         "xaxis": "x6",
         "y": {
          "bdata": "CxGiYN2uokA7o1m45qCoQI6BOP3SZ7VA3guO7FB3tUDzmQpYZfWyQOmgWJ3++7FA3PnEy6iPrkB7FOJ8PHqtQCKq5qxMfapAAAAAAAAA+H8AAAAAAAD4fwAAAAAAAPh/AAAAAAAA+H8=",
          "dtype": "f8"
         },
         "yaxis": "y6"
        },
        {
         "legendgroup": "Gemini 2.5 Pro (ABBEL)",
         "line": {
          "color": "#006400",
          "width": 2
         },
         "mode": "lines+markers",
         "name": "Gemini 2.5 Pro (ABBEL)",
         "showlegend": false,
         "type": "scatter",
         "x": {
          "bdata": "AAECAwQFBgcICQoLDA==",
          "dtype": "i1"
         },
         "xaxis": "x6",
         "y": {
          "bdata": "AAAAAMDCoUCamZmZGbKlQDMzMzPz4LNAAAAAAKBLtECamZmZ2ZWxQC+66KKLgrBAAAAAAIAUq0AzMzMzM7GmQAAAAACA16NAAAAAAABso0AAAAAAAKycQAAAAAAAnJNAAAAAAAD0oEA=",
          "dtype": "f8"
         },
         "yaxis": "y6"
        },
        {
         "hoverinfo": "skip",
         "legendgroup": "Gemini 2.5 Pro (belief prompting)",
         "line": {
          "width": 0
         },
         "mode": "lines",
         "showlegend": false,
         "type": "scatter",
         "x": [
          0,
          1,
          2,
          3,
          4,
          5,
          6,
          7,
          8
         ],
         "xaxis": "x6",
         "y": {
          "bdata": "A/b2E2yFoUDA5CWp8FajQFriitzLEa5ADj61iUDfsEAuB4GhYNSzQJIKQZQBw7FA0jUbyVJSrUB5X0SjUymsQF4DJErfbKVA",
          "dtype": "f8"
         },
         "yaxis": "y6"
        },
        {
         "fill": "tonexty",
         "fillcolor": "rgba(50, 205, 50, 0.2)",
         "hoverinfo": "skip",
         "legendgroup": "Gemini 2.5 Pro (belief prompting)",
         "line": {
          "width": 0
         },
         "mode": "lines",
         "showlegend": false,
         "type": "scatter",
         "x": [
          0,
          1,
          2,
          3,
          4,
          5,
          6,
          7,
          8
         ],
         "xaxis": "x6",
         "y": {
          "bdata": "/QkJ7BP8o0CmgUC9dSioQJ9bh96mqrFAjFvkDxk2s0DYS2MSDg63QOrkfGPdCrVAhUApCbLXsUAQnSr7Il+0QKZTQ7DlcLNA",
          "dtype": "f8"
         },
         "yaxis": "y6"
        },
        {
         "legendgroup": "Gemini 2.5 Pro (belief prompting)",
         "line": {
          "color": "#32CD32",
          "width": 2
         },
         "mode": "lines+markers",
         "name": "Gemini 2.5 Pro (belief prompting)",
         "showlegend": false,
         "type": "scatter",
         "x": {
          "bdata": "AAECAwQFBgcI",
          "dtype": "i1"
         },
         "xaxis": "x6",
         "y": {
          "bdata": "AAAAAMDAokAzMzMzs7+lQGZmZmbGWbBAzczMzKwKskCDKfJZN3G1QL733nvvZrNAt23btm1AsEBmZmZm5jmxQFVVVVVVJ65A",
          "dtype": "f8"
         },
         "yaxis": "y6"
        }
       ],
       "layout": {
        "annotations": [
         {
          "font": {
           "size": 16
          },
          "showarrow": false,
          "text": "Murder Mystery",
          "x": 0.07083333333333333,
          "xanchor": "center",
          "xref": "paper",
          "y": 1,
          "yanchor": "bottom",
          "yref": "paper"
         },
         {
          "font": {
           "size": 16
          },
          "showarrow": false,
          "text": "Customer Service",
          "x": 0.2425,
          "xanchor": "center",
          "xref": "paper",
          "y": 1,
          "yanchor": "bottom",
          "yref": "paper"
         },
         {
          "font": {
           "size": 16
          },
          "showarrow": false,
          "text": "Twenty Questions",
          "x": 0.4141666666666667,
          "xanchor": "center",
          "xref": "paper",
          "y": 1,
          "yanchor": "bottom",
          "yref": "paper"
         },
         {
          "font": {
           "size": 16
          },
          "showarrow": false,
          "text": "Guess my City",
          "x": 0.5858333333333334,
          "xanchor": "center",
          "xref": "paper",
          "y": 1,
          "yanchor": "bottom",
          "yref": "paper"
         },
         {
          "font": {
           "size": 16
          },
          "showarrow": false,
          "text": "Wordle",
          "x": 0.7575000000000001,
          "xanchor": "center",
          "xref": "paper",
          "y": 1,
          "yanchor": "bottom",
          "yref": "paper"
         },
         {
          "font": {
           "size": 16
          },
          "showarrow": false,
          "text": "Mastermind",
          "x": 0.9291666666666667,
          "xanchor": "center",
          "xref": "paper",
          "y": 1,
          "yanchor": "bottom",
          "yref": "paper"
         }
        ],
        "barmode": "group",
        "font": {
         "family": "Computer Modern, serif",
         "size": 16
        },
        "height": 350,
        "legend": {
         "bgcolor": "rgba(255,255,255,0.9)",
         "bordercolor": "black",
         "borderwidth": 1,
         "orientation": "v",
         "x": 1.02,
         "xanchor": "left",
         "y": 0.5,
         "yanchor": "middle"
        },
        "plot_bgcolor": "white",
        "showlegend": true,
        "template": {
         "data": {
          "bar": [
           {
            "error_x": {
             "color": "rgb(36,36,36)"
            },
            "error_y": {
             "color": "rgb(36,36,36)"
            },
            "marker": {
             "line": {
              "color": "white",
              "width": 0.5
             },
             "pattern": {
              "fillmode": "overlay",
              "size": 10,
              "solidity": 0.2
             }
            },
            "type": "bar"
           }
          ],
          "barpolar": [
           {
            "marker": {
             "line": {
              "color": "white",
              "width": 0.5
             },
             "pattern": {
              "fillmode": "overlay",
              "size": 10,
              "solidity": 0.2
             }
            },
            "type": "barpolar"
           }
          ],
          "carpet": [
           {
            "aaxis": {
             "endlinecolor": "rgb(36,36,36)",
             "gridcolor": "white",
             "linecolor": "white",
             "minorgridcolor": "white",
             "startlinecolor": "rgb(36,36,36)"
            },
            "baxis": {
             "endlinecolor": "rgb(36,36,36)",
             "gridcolor": "white",
             "linecolor": "white",
             "minorgridcolor": "white",
             "startlinecolor": "rgb(36,36,36)"
            },
            "type": "carpet"
           }
          ],
          "choropleth": [
           {
            "colorbar": {
             "outlinewidth": 1,
             "tickcolor": "rgb(36,36,36)",
             "ticks": "outside"
            },
            "type": "choropleth"
           }
          ],
          "contour": [
           {
            "colorbar": {
             "outlinewidth": 1,
             "tickcolor": "rgb(36,36,36)",
             "ticks": "outside"
            },
            "colorscale": [
             [
              0,
              "#440154"
             ],
             [
              0.1111111111111111,
              "#482878"
             ],
             [
              0.2222222222222222,
              "#3e4989"
             ],
             [
              0.3333333333333333,
              "#31688e"
             ],
             [
              0.4444444444444444,
              "#26828e"
             ],
             [
              0.5555555555555556,
              "#1f9e89"
             ],
             [
              0.6666666666666666,
              "#35b779"
             ],
             [
              0.7777777777777778,
              "#6ece58"
             ],
             [
              0.8888888888888888,
              "#b5de2b"
             ],
             [
              1,
              "#fde725"
             ]
            ],
            "type": "contour"
           }
          ],
          "contourcarpet": [
           {
            "colorbar": {
             "outlinewidth": 1,
             "tickcolor": "rgb(36,36,36)",
             "ticks": "outside"
            },
            "type": "contourcarpet"
           }
          ],
          "heatmap": [
           {
            "colorbar": {
             "outlinewidth": 1,
             "tickcolor": "rgb(36,36,36)",
             "ticks": "outside"
            },
            "colorscale": [
             [
              0,
              "#440154"
             ],
             [
              0.1111111111111111,
              "#482878"
             ],
             [
              0.2222222222222222,
              "#3e4989"
             ],
             [
              0.3333333333333333,
              "#31688e"
             ],
             [
              0.4444444444444444,
              "#26828e"
             ],
             [
              0.5555555555555556,
              "#1f9e89"
             ],
             [
              0.6666666666666666,
              "#35b779"
             ],
             [
              0.7777777777777778,
              "#6ece58"
             ],
             [
              0.8888888888888888,
              "#b5de2b"
             ],
             [
              1,
              "#fde725"
             ]
            ],
            "type": "heatmap"
           }
          ],
          "histogram": [
           {
            "marker": {
             "line": {
              "color": "white",
              "width": 0.6
             }
            },
            "type": "histogram"
           }
          ],
          "histogram2d": [
           {
            "colorbar": {
             "outlinewidth": 1,
             "tickcolor": "rgb(36,36,36)",
             "ticks": "outside"
            },
            "colorscale": [
             [
              0,
              "#440154"
             ],
             [
              0.1111111111111111,
              "#482878"
             ],
             [
              0.2222222222222222,
              "#3e4989"
             ],
             [
              0.3333333333333333,
              "#31688e"
             ],
             [
              0.4444444444444444,
              "#26828e"
             ],
             [
              0.5555555555555556,
              "#1f9e89"
             ],
             [
              0.6666666666666666,
              "#35b779"
             ],
             [
              0.7777777777777778,
              "#6ece58"
             ],
             [
              0.8888888888888888,
              "#b5de2b"
             ],
             [
              1,
              "#fde725"
             ]
            ],
            "type": "histogram2d"
           }
          ],
          "histogram2dcontour": [
           {
            "colorbar": {
             "outlinewidth": 1,
             "tickcolor": "rgb(36,36,36)",
             "ticks": "outside"
            },
            "colorscale": [
             [
              0,
              "#440154"
             ],
             [
              0.1111111111111111,
              "#482878"
             ],
             [
              0.2222222222222222,
              "#3e4989"
             ],
             [
              0.3333333333333333,
              "#31688e"
             ],
             [
              0.4444444444444444,
              "#26828e"
             ],
             [
              0.5555555555555556,
              "#1f9e89"
             ],
             [
              0.6666666666666666,
              "#35b779"
             ],
             [
              0.7777777777777778,
              "#6ece58"
             ],
             [
              0.8888888888888888,
              "#b5de2b"
             ],
             [
              1,
              "#fde725"
             ]
            ],
            "type": "histogram2dcontour"
           }
          ],
          "mesh3d": [
           {
            "colorbar": {
             "outlinewidth": 1,
             "tickcolor": "rgb(36,36,36)",
             "ticks": "outside"
            },
            "type": "mesh3d"
           }
          ],
          "parcoords": [
           {
            "line": {
             "colorbar": {
              "outlinewidth": 1,
              "tickcolor": "rgb(36,36,36)",
              "ticks": "outside"
             }
            },
            "type": "parcoords"
           }
          ],
          "pie": [
           {
            "automargin": true,
            "type": "pie"
           }
          ],
          "scatter": [
           {
            "fillpattern": {
             "fillmode": "overlay",
             "size": 10,
             "solidity": 0.2
            },
            "type": "scatter"
           }
          ],
          "scatter3d": [
           {
            "line": {
             "colorbar": {
              "outlinewidth": 1,
              "tickcolor": "rgb(36,36,36)",
              "ticks": "outside"
             }
            },
            "marker": {
             "colorbar": {
              "outlinewidth": 1,
              "tickcolor": "rgb(36,36,36)",
              "ticks": "outside"
             }
            },
            "type": "scatter3d"
           }
          ],
          "scattercarpet": [
           {
            "marker": {
             "colorbar": {
              "outlinewidth": 1,
              "tickcolor": "rgb(36,36,36)",
              "ticks": "outside"
             }
            },
            "type": "scattercarpet"
           }
          ],
          "scattergeo": [
           {
            "marker": {
             "colorbar": {
              "outlinewidth": 1,
              "tickcolor": "rgb(36,36,36)",
              "ticks": "outside"
             }
            },
            "type": "scattergeo"
           }
          ],
          "scattergl": [
           {
            "marker": {
             "colorbar": {
              "outlinewidth": 1,
              "tickcolor": "rgb(36,36,36)",
              "ticks": "outside"
             }
            },
            "type": "scattergl"
           }
          ],
          "scattermap": [
           {
            "marker": {
             "colorbar": {
              "outlinewidth": 1,
              "tickcolor": "rgb(36,36,36)",
              "ticks": "outside"
             }
            },
            "type": "scattermap"
           }
          ],
          "scattermapbox": [
           {
            "marker": {
             "colorbar": {
              "outlinewidth": 1,
              "tickcolor": "rgb(36,36,36)",
              "ticks": "outside"
             }
            },
            "type": "scattermapbox"
           }
          ],
          "scatterpolar": [
           {
            "marker": {
             "colorbar": {
              "outlinewidth": 1,
              "tickcolor": "rgb(36,36,36)",
              "ticks": "outside"
             }
            },
            "type": "scatterpolar"
           }
          ],
          "scatterpolargl": [
           {
            "marker": {
             "colorbar": {
              "outlinewidth": 1,
              "tickcolor": "rgb(36,36,36)",
              "ticks": "outside"
             }
            },
            "type": "scatterpolargl"
           }
          ],
          "scatterternary": [
           {
            "marker": {
             "colorbar": {
              "outlinewidth": 1,
              "tickcolor": "rgb(36,36,36)",
              "ticks": "outside"
             }
            },
            "type": "scatterternary"
           }
          ],
          "surface": [
           {
            "colorbar": {
             "outlinewidth": 1,
             "tickcolor": "rgb(36,36,36)",
             "ticks": "outside"
            },
            "colorscale": [
             [
              0,
              "#440154"
             ],
             [
              0.1111111111111111,
              "#482878"
             ],
             [
              0.2222222222222222,
              "#3e4989"
             ],
             [
              0.3333333333333333,
              "#31688e"
             ],
             [
              0.4444444444444444,
              "#26828e"
             ],
             [
              0.5555555555555556,
              "#1f9e89"
             ],
             [
              0.6666666666666666,
              "#35b779"
             ],
             [
              0.7777777777777778,
              "#6ece58"
             ],
             [
              0.8888888888888888,
              "#b5de2b"
             ],
             [
              1,
              "#fde725"
             ]
            ],
            "type": "surface"
           }
          ],
          "table": [
           {
            "cells": {
             "fill": {
              "color": "rgb(237,237,237)"
             },
             "line": {
              "color": "white"
             }
            },
            "header": {
             "fill": {
              "color": "rgb(217,217,217)"
             },
             "line": {
              "color": "white"
             }
            },
            "type": "table"
           }
          ]
         },
         "layout": {
          "annotationdefaults": {
           "arrowhead": 0,
           "arrowwidth": 1
          },
          "autotypenumbers": "strict",
          "coloraxis": {
           "colorbar": {
            "outlinewidth": 1,
            "tickcolor": "rgb(36,36,36)",
            "ticks": "outside"
           }
          },
          "colorscale": {
           "diverging": [
            [
             0,
             "rgb(103,0,31)"
            ],
            [
             0.1,
             "rgb(178,24,43)"
            ],
            [
             0.2,
             "rgb(214,96,77)"
            ],
            [
             0.3,
             "rgb(244,165,130)"
            ],
            [
             0.4,
             "rgb(253,219,199)"
            ],
            [
             0.5,
             "rgb(247,247,247)"
            ],
            [
             0.6,
             "rgb(209,229,240)"
            ],
            [
             0.7,
             "rgb(146,197,222)"
            ],
            [
             0.8,
             "rgb(67,147,195)"
            ],
            [
             0.9,
             "rgb(33,102,172)"
            ],
            [
             1,
             "rgb(5,48,97)"
            ]
           ],
           "sequential": [
            [
             0,
             "#440154"
            ],
            [
             0.1111111111111111,
             "#482878"
            ],
            [
             0.2222222222222222,
             "#3e4989"
            ],
            [
             0.3333333333333333,
             "#31688e"
            ],
            [
             0.4444444444444444,
             "#26828e"
            ],
            [
             0.5555555555555556,
             "#1f9e89"
            ],
            [
             0.6666666666666666,
             "#35b779"
            ],
            [
             0.7777777777777778,
             "#6ece58"
            ],
            [
             0.8888888888888888,
             "#b5de2b"
            ],
            [
             1,
             "#fde725"
            ]
           ],
           "sequentialminus": [
            [
             0,
             "#440154"
            ],
            [
             0.1111111111111111,
             "#482878"
            ],
            [
             0.2222222222222222,
             "#3e4989"
            ],
            [
             0.3333333333333333,
             "#31688e"
            ],
            [
             0.4444444444444444,
             "#26828e"
            ],
            [
             0.5555555555555556,
             "#1f9e89"
            ],
            [
             0.6666666666666666,
             "#35b779"
            ],
            [
             0.7777777777777778,
             "#6ece58"
            ],
            [
             0.8888888888888888,
             "#b5de2b"
            ],
            [
             1,
             "#fde725"
            ]
           ]
          },
          "colorway": [
           "#1F77B4",
           "#FF7F0E",
           "#2CA02C",
           "#D62728",
           "#9467BD",
           "#8C564B",
           "#E377C2",
           "#7F7F7F",
           "#BCBD22",
           "#17BECF"
          ],
          "font": {
           "color": "rgb(36,36,36)"
          },
          "geo": {
           "bgcolor": "white",
           "lakecolor": "white",
           "landcolor": "white",
           "showlakes": true,
           "showland": true,
           "subunitcolor": "white"
          },
          "hoverlabel": {
           "align": "left"
          },
          "hovermode": "closest",
          "mapbox": {
           "style": "light"
          },
          "paper_bgcolor": "white",
          "plot_bgcolor": "white",
          "polar": {
           "angularaxis": {
            "gridcolor": "rgb(232,232,232)",
            "linecolor": "rgb(36,36,36)",
            "showgrid": false,
            "showline": true,
            "ticks": "outside"
           },
           "bgcolor": "white",
           "radialaxis": {
            "gridcolor": "rgb(232,232,232)",
            "linecolor": "rgb(36,36,36)",
            "showgrid": false,
            "showline": true,
            "ticks": "outside"
           }
          },
          "scene": {
           "xaxis": {
            "backgroundcolor": "white",
            "gridcolor": "rgb(232,232,232)",
            "gridwidth": 2,
            "linecolor": "rgb(36,36,36)",
            "showbackground": true,
            "showgrid": false,
            "showline": true,
            "ticks": "outside",
            "zeroline": false,
            "zerolinecolor": "rgb(36,36,36)"
           },
           "yaxis": {
            "backgroundcolor": "white",
            "gridcolor": "rgb(232,232,232)",
            "gridwidth": 2,
            "linecolor": "rgb(36,36,36)",
            "showbackground": true,
            "showgrid": false,
            "showline": true,
            "ticks": "outside",
            "zeroline": false,
            "zerolinecolor": "rgb(36,36,36)"
           },
           "zaxis": {
            "backgroundcolor": "white",
            "gridcolor": "rgb(232,232,232)",
            "gridwidth": 2,
            "linecolor": "rgb(36,36,36)",
            "showbackground": true,
            "showgrid": false,
            "showline": true,
            "ticks": "outside",
            "zeroline": false,
            "zerolinecolor": "rgb(36,36,36)"
           }
          },
          "shapedefaults": {
           "fillcolor": "black",
           "line": {
            "width": 0
           },
           "opacity": 0.3
          },
          "ternary": {
           "aaxis": {
            "gridcolor": "rgb(232,232,232)",
            "linecolor": "rgb(36,36,36)",
            "showgrid": false,
            "showline": true,
            "ticks": "outside"
           },
           "baxis": {
            "gridcolor": "rgb(232,232,232)",
            "linecolor": "rgb(36,36,36)",
            "showgrid": false,
            "showline": true,
            "ticks": "outside"
           },
           "bgcolor": "white",
           "caxis": {
            "gridcolor": "rgb(232,232,232)",
            "linecolor": "rgb(36,36,36)",
            "showgrid": false,
            "showline": true,
            "ticks": "outside"
           }
          },
          "title": {
           "x": 0.05
          },
          "xaxis": {
           "automargin": true,
           "gridcolor": "rgb(232,232,232)",
           "linecolor": "rgb(36,36,36)",
           "showgrid": false,
           "showline": true,
           "ticks": "outside",
           "title": {
            "standoff": 15
           },
           "zeroline": false,
           "zerolinecolor": "rgb(36,36,36)"
          },
          "yaxis": {
           "automargin": true,
           "gridcolor": "rgb(232,232,232)",
           "linecolor": "rgb(36,36,36)",
           "showgrid": false,
           "showline": true,
           "ticks": "outside",
           "title": {
            "standoff": 15
           },
           "zeroline": false,
           "zerolinecolor": "rgb(36,36,36)"
          }
         }
        },
        "xaxis": {
         "anchor": "y",
         "color": "black",
         "domain": [
          0,
          0.14166666666666666
         ],
         "linecolor": "black",
         "linewidth": 1,
         "showgrid": false,
         "showline": true,
         "title": {
          "standoff": 0,
          "text": "Step"
         }
        },
        "xaxis2": {
         "anchor": "y2",
         "color": "black",
         "domain": [
          0.17166666666666666,
          0.31333333333333335
         ],
         "linecolor": "black",
         "linewidth": 1,
         "showgrid": false,
         "showline": true,
         "title": {
          "standoff": 0,
          "text": "Step"
         }
        },
        "xaxis3": {
         "anchor": "y3",
         "color": "black",
         "domain": [
          0.3433333333333333,
          0.485
         ],
         "linecolor": "black",
         "linewidth": 1,
         "showgrid": false,
         "showline": true,
         "title": {
          "standoff": 0,
          "text": "Step"
         }
        },
        "xaxis4": {
         "anchor": "y4",
         "color": "black",
         "domain": [
          0.515,
          0.6566666666666667
         ],
         "linecolor": "black",
         "linewidth": 1,
         "showgrid": false,
         "showline": true,
         "title": {
          "standoff": 0,
          "text": "Step"
         }
        },
        "xaxis5": {
         "anchor": "y5",
         "color": "black",
         "domain": [
          0.6866666666666666,
          0.8283333333333334
         ],
         "linecolor": "black",
         "linewidth": 1,
         "showgrid": false,
         "showline": true,
         "title": {
          "standoff": 0,
          "text": "Step"
         }
        },
        "xaxis6": {
         "anchor": "y6",
         "color": "black",
         "domain": [
          0.8583333333333333,
          1
         ],
         "linecolor": "black",
         "linewidth": 1,
         "showgrid": false,
         "showline": true,
         "title": {
          "standoff": 0,
          "text": "Step"
         }
        },
        "yaxis": {
         "anchor": "x",
         "domain": [
          0,
          1
         ],
         "gridcolor": "lightgray",
         "linecolor": "black",
         "linewidth": 1,
         "showgrid": true,
         "showline": true,
         "tickfont": {
          "color": "black"
         },
         "title": {
          "text": "Action Reasoning Length"
         }
        },
        "yaxis2": {
         "anchor": "x2",
         "domain": [
          0,
          1
         ],
         "gridcolor": "lightgray",
         "linecolor": "black",
         "linewidth": 1,
         "showgrid": true,
         "showline": true,
         "tickfont": {
          "color": "black"
         }
        },
        "yaxis3": {
         "anchor": "x3",
         "domain": [
          0,
          1
         ],
         "gridcolor": "lightgray",
         "linecolor": "black",
         "linewidth": 1,
         "showgrid": true,
         "showline": true,
         "tickfont": {
          "color": "black"
         }
        },
        "yaxis4": {
         "anchor": "x4",
         "domain": [
          0,
          1
         ],
         "gridcolor": "lightgray",
         "linecolor": "black",
         "linewidth": 1,
         "showgrid": true,
         "showline": true,
         "tickfont": {
          "color": "black"
         }
        },
        "yaxis5": {
         "anchor": "x5",
         "domain": [
          0,
          1
         ],
         "gridcolor": "lightgray",
         "linecolor": "black",
         "linewidth": 1,
         "showgrid": true,
         "showline": true,
         "tickfont": {
          "color": "black"
         }
        },
        "yaxis6": {
         "anchor": "x6",
         "domain": [
          0,
          1
         ],
         "gridcolor": "lightgray",
         "linecolor": "black",
         "linewidth": 1,
         "showgrid": true,
         "showline": true,
         "tickfont": {
          "color": "black"
         }
        }
       }
      }
     },
     "metadata": {},
     "output_type": "display_data"
    }
   ],
   "source": [
    "figures = plot_belief_length_separate_figs(df_reasoning)\n",
    "figures['action'].show()"
   ]
  },
  {
   "cell_type": "code",
   "execution_count": 59,
   "id": "62b9244d",
   "metadata": {},
   "outputs": [],
   "source": [
    "figures['action'].write_image('figures/frontier_action_reasoning_length_v2.pdf', width=1500, height=390)"
   ]
  },
  {
   "cell_type": "code",
   "execution_count": 133,
   "id": "0e90c297",
   "metadata": {},
   "outputs": [],
   "source": [
    "figures['belief'].write_image('figures/frontier_belief_reasoning_length.pdf', width=1400, height=370)"
   ]
  }
 ],
 "metadata": {
  "kernelspec": {
   "display_name": "verl",
   "language": "python",
   "name": "python3"
  },
  "language_info": {
   "codemirror_mode": {
    "name": "ipython",
    "version": 3
   },
   "file_extension": ".py",
   "mimetype": "text/x-python",
   "name": "python",
   "nbconvert_exporter": "python",
   "pygments_lexer": "ipython3",
   "version": "3.10.18"
  }
 },
 "nbformat": 4,
 "nbformat_minor": 5
}
