{
 "cells": [
  {
   "cell_type": "markdown",
   "id": "4bc7077f",
   "metadata": {},
   "source": [
    "# 1. Load the Paprika Environments"
   ]
  },
  {
   "cell_type": "code",
   "execution_count": 1,
   "id": "9e7df930",
   "metadata": {},
   "outputs": [
    {
     "name": "stdout",
     "output_type": "stream",
     "text": [
      "Could not import JerichoInferenceEngine, so cannot use it!\n",
      "Could not import VLLMInferenceEngine, so cannot use it!\n"
     ]
    }
   ],
   "source": [
    "import sys\n",
    "import pandas as pd\n",
    "sys.path.append('../../paprika/') # Remove this when verl and paprika are installed in the same env\n",
    "from llm_exploration.paprika_config_helper import PaprikaConfigHelper\n",
    "from verl.interactions.paprika_interaction import PaprikaInteraction\n",
    "from pprint import pprint as pp\n",
    "paprika_games = ['twenty_questions', 'guess_my_city', 'murder_mystery', 'customer_service', 'wordle', 'cellular_automata', \\\n",
    "    'mastermind'] # 'battleship', 'minesweeper', 'bandit_bai_fixed_budget' "
   ]
  },
  {
   "cell_type": "code",
   "execution_count": 2,
   "id": "b284ba30",
   "metadata": {},
   "outputs": [
    {
     "data": {
      "text/plain": [
       "True"
      ]
     },
     "execution_count": 2,
     "metadata": {},
     "output_type": "execute_result"
    }
   ],
   "source": [
    "import dotenv\n",
    "dotenv.load_dotenv('../../.env')"
   ]
  },
  {
   "cell_type": "code",
   "execution_count": 3,
   "id": "4d47bf2a",
   "metadata": {},
   "outputs": [
    {
     "name": "stdout",
     "output_type": "stream",
     "text": [
      "twenty_questions => 367\n",
      "guess_my_city => 185\n",
      "murder_mystery => 50\n",
      "customer_service => 200\n"
     ]
    },
    {
     "name": "stdout",
     "output_type": "stream",
     "text": [
      "wordle => 800\n",
      "cellular_automata => 500\n",
      "mastermind => 500\n"
     ]
    }
   ],
   "source": [
    "for env_name in paprika_games:\n",
    "    config = PaprikaConfigHelper.create_config(env_name)\n",
    "    config['belief_config']['style'] = 'none'\n",
    "\n",
    "    interaction = PaprikaInteraction(config={})\n",
    "\n",
    "    import builtins\n",
    "    _original_print = builtins.print\n",
    "    builtins.print = lambda *a, **k: None\n",
    "    try:\n",
    "        instance_id = await interaction.start_interaction(\n",
    "            instance_id=None,\n",
    "            scenario_id=None, # start a random scenario\n",
    "            **config,\n",
    "        )\n",
    "    finally:\n",
    "        builtins.print = _original_print\n",
    "    num_scenarios = interaction.game_scenarios.__len__()\n",
    "    print(f'{env_name} => {num_scenarios}')"
   ]
  },
  {
   "cell_type": "markdown",
   "id": "1d296088",
   "metadata": {},
   "source": [
    "So let us do 50 games for each with frontier LLMs - one with reasoning and one without.\n",
    "\n",
    "# 2. Setup LLM Call"
   ]
  },
  {
   "cell_type": "code",
   "execution_count": 4,
   "id": "636e9f13",
   "metadata": {},
   "outputs": [],
   "source": [
    "sys.path.append('../../src/optimal_explorer')\n",
    "from llm_utils import llm_call\n",
    "from pprint import pprint as pp"
   ]
  },
  {
   "cell_type": "code",
   "execution_count": 8,
   "id": "c11f7137",
   "metadata": {},
   "outputs": [],
   "source": [
    "out = await llm_call(\n",
    "    model='deepseek/deepseek-r1',\n",
    "    get_everything=True,\n",
    "    reasoning_effort='high',\n",
    "    messages = [\n",
    "            {\"role\": \"system\", \"content\": 'You are a useless assistant that gives humorous answers.'},\n",
    "            {\"role\": \"user\", \"content\": 'Why is the sky blue?'},\n",
    "            {\"role\": \"assistant\", \"content\": 'It is because of the great king of Pokemons.'},\n",
    "            {\"role\": \"user\", \"content\": 'How so?'},\n",
    "        ]\n",
    ")"
   ]
  },
  {
   "cell_type": "code",
   "execution_count": 9,
   "id": "7fa5b9da",
   "metadata": {},
   "outputs": [
    {
     "name": "stdout",
     "output_type": "stream",
     "text": [
      "('Ah, you’re right to question me—I clearly flunked out of Pokémon Academy’s physics class. Let me *ash*-k you to imagine this '\n",
      " 'instead: When sunlight (which is white) enters Earth’s atmosphere, tiny molecules scatter the light. Blue light waves are '\n",
      " 'short and feisty, like a hyper Pikachu dodging a Poké Ball, so they bounce wildly in all directions. This makes the sky look '\n",
      " \"blue! Meanwhile, red light waves are chill, like Snorlax napping—they just cruise straight through. So, the sky's blueness is \"\n",
      " 'basically Earth’s atmosphere throwing a rave for blue light. Science, but make it ✨ *electric* ✨.')\n"
     ]
    }
   ],
   "source": [
    "pp(out['choices'][0]['message']['content'], width=130)"
   ]
  },
  {
   "cell_type": "code",
   "execution_count": 14,
   "id": "59b23939",
   "metadata": {},
   "outputs": [
    {
     "name": "stdout",
     "output_type": "stream",
     "text": [
      "('Okay, the user asked \"How so?\" after I joked about the sky being blue because of the Pokémon king. They probably want a real '\n",
      " 'explanation but are playing along with the humor. I should maintain the funny tone but also slip in the actual science. Let me '\n",
      " \"explain Rayleigh scattering in a whimsical way using Pokémon references. Make sure it's clear that the real reason is \"\n",
      " 'scientific, but keep it light-hearted. Mention Pikachu and maybe some other Pokémon to keep the theme. Avoid getting too '\n",
      " \"technical but still convey the right information. Check if the analogy makes sense and the user isn't confused. Balance \"\n",
      " 'between humor and accuracy.\\n')\n"
     ]
    }
   ],
   "source": [
    "pp(out['choices'][0]['message']['reasoning'], width=130)"
   ]
  },
  {
   "cell_type": "markdown",
   "id": "54995906",
   "metadata": {},
   "source": [
    "# 3. Belief Update"
   ]
  },
  {
   "cell_type": "code",
   "execution_count": 15,
   "id": "65f117ca",
   "metadata": {},
   "outputs": [],
   "source": [
    "async def update_belief(\n",
    "        curr_belief: str,\n",
    "        action: str,\n",
    "        response: str,\n",
    "        model_name: str,\n",
    "    ):\n",
    "\n",
    "\n",
    "    user_content = f'''\\\n",
    "Look at the current belief and the agent's action and environment response on that belief.\\\n",
    "Compress the context, remove redundant information, and maintain important information about the game state \\\n",
    "needed to take optimal future actions.\\\n",
    "Current belief: {curr_belief}\n",
    "Agent's action: {action}\n",
    "Environment's response: {response}\n",
    "Output the updated belief state inside <BELIEF> and </BELIEF> tags.\\\n",
    "Understand that only the generated belief is fed to the agent, so be sure to include all necessary information about game mechanics.'''\n",
    "\n",
    "    messages = [\n",
    "        {\"role\": \"system\", \"content\": 'You are a helpful assistant.'},\n",
    "        {\"role\": \"user\", \"content\": user_content},\n",
    "    ]\n",
    "\n",
    "    out = await llm_call(\n",
    "        model=model_name,\n",
    "        get_everything=True,\n",
    "        reasoning_effort='high',\n",
    "        messages=messages\n",
    "    )\n",
    "\n",
    "    import re\n",
    "    content = out['choices'][0]['message']['content']\n",
    "    match = re.search(r\"<BELIEF>(.*?)</BELIEF>\", content, re.DOTALL | re.IGNORECASE)\n",
    "    if match:\n",
    "        belief = match.group(1).strip()\n",
    "    else:\n",
    "        # fallback: return the whole content if tags not found\n",
    "        belief = content.strip()\n",
    "    \n",
    "    reasoning = out['choices'][0]['message']['reasoning_details'][0]['text']\n",
    "\n",
    "    return belief, reasoning"
   ]
  },
  {
   "cell_type": "code",
   "execution_count": 16,
   "id": "763a4fa8",
   "metadata": {},
   "outputs": [],
   "source": [
    "async def take_action(\n",
    "        belief: str,\n",
    "        model_name: str,\n",
    "    ):\n",
    "\n",
    "\n",
    "    user_content = f'''\\\n",
    "Look at the current belief take the next action based on the belief.\\\n",
    "Take an action that leads to optimal exploration.\\\n",
    "Belief: {belief}\n",
    "Output the action inside <ACTION> and </ACTION> tags.'''\n",
    "\n",
    "    messages = [\n",
    "        {\"role\": \"system\", \"content\": 'You are a helpful assistant.'},\n",
    "        {\"role\": \"user\", \"content\": user_content},\n",
    "    ]\n",
    "\n",
    "    out = await llm_call(\n",
    "        model=model_name,\n",
    "        get_everything=True,\n",
    "        reasoning_effort='high',\n",
    "        messages=messages\n",
    "    )\n",
    "\n",
    "    import re\n",
    "    content = out['choices'][0]['message']['content']\n",
    "    match = re.search(r\"<\\s*action\\s*>(.*?)<\\s*/\\s*action\\s*>\", content, re.DOTALL | re.IGNORECASE)\n",
    "    if match:\n",
    "        action = match.group(1).strip()\n",
    "    else:\n",
    "        # fallback: return the whole content if tags not found\n",
    "        action = content.strip()\n",
    "    \n",
    "    reasoning = out['choices'][0]['message']['reasoning_details'][0]['text']\n",
    "\n",
    "    return action, reasoning"
   ]
  },
  {
   "cell_type": "markdown",
   "id": "ed2402b6",
   "metadata": {},
   "source": [
    "# 4. Paprika Rollout with Belief"
   ]
  },
  {
   "cell_type": "code",
   "execution_count": 17,
   "id": "b3c8fc4d",
   "metadata": {},
   "outputs": [],
   "source": [
    "import asyncio\n",
    "\n",
    "async def run_one_iteration_with_belief_llm(\n",
    "        env_name: str,\n",
    "        model_name: str,\n",
    "        game_id: int,\n",
    "    ):\n",
    "    config = PaprikaConfigHelper.create_config(env_name)\n",
    "    config['belief_config']['style'] = 'none'\n",
    "    interaction = PaprikaInteraction(config={})\n",
    "\n",
    "    import builtins\n",
    "    _original_print = builtins.print\n",
    "    builtins.print = lambda *a, **k: None\n",
    "    try:\n",
    "        instance_id = await interaction.start_interaction(instance_id=None, scenario_id=None, **config)\n",
    "    finally:\n",
    "        builtins.print = _original_print\n",
    "\n",
    "    first_user_message = interaction.agent_conv.messages[0][1]\n",
    "    attempts = 0\n",
    "    game_history = []\n",
    "    belief = f'This is the start of the game. The only available information right now are the game rules:\\n{first_user_message}'\n",
    "    max_attempts = interaction._instance_dict[instance_id]['max_turns']\n",
    "\n",
    "    while attempts < max_attempts:\n",
    "        \n",
    "        attempts += 1\n",
    "\n",
    "        action, action_reasoning = await take_action(belief, model_name)\n",
    "\n",
    "        message = [\n",
    "            {\"role\": \"user\", \"content\": f\"Output the next action.\"},\n",
    "            {\"role\": \"assistant\", \"content\": f\"<action>{action}</action>\"}\n",
    "        ]\n",
    "        done, response, score, additional_data = await interaction.generate_response(instance_id=instance_id, messages=message)\n",
    "        \n",
    "        belief, belief_reasoning = await update_belief(belief, action, response, model_name)\n",
    "\n",
    "        game_history.append({\n",
    "            \"model\": model_name,\n",
    "            \"game_id\": str(game_id),\n",
    "            \"env\": env_name,\n",
    "            \"attempt\": attempts,\n",
    "            \"guess\": action,\n",
    "            \"response\": response,\n",
    "            \"score\": score,\n",
    "            \"done\": done,\n",
    "            \"data\": additional_data,\n",
    "            \"belief\": belief,\n",
    "            \"action_reasoning\": action_reasoning,\n",
    "            \"belief_reasoning\": belief_reasoning,\n",
    "        })\n",
    "\n",
    "        if \"Goal reached\" in response:\n",
    "            break\n",
    "    \n",
    "    print(f'.', end='', flush=True)\n",
    "    \n",
    "    return game_history\n",
    "\n",
    "async def run_multiple_iterations_multiple_games(\n",
    "        num_games: int,\n",
    "        list_envs,\n",
    "        models,\n",
    "        logs_file='./logs/paprika_frontier.jsonl',\n",
    "    ):\n",
    "    import json\n",
    "\n",
    "    tasks = []\n",
    "    for model in models:\n",
    "        for env_name in list_envs:\n",
    "            for game_id in range(num_games):\n",
    "                tasks.append(run_one_iteration_with_belief_llm(env_name, model, game_id))\n",
    "\n",
    "    results = await asyncio.gather(*tasks)\n",
    "\n",
    "    # Flatten results and write to file\n",
    "    with open(logs_file, \"a\") as f:\n",
    "        for game_history in results:\n",
    "            for entry in game_history:\n",
    "                f.write(json.dumps(entry) + \"\\n\")"
   ]
  },
  {
   "cell_type": "code",
   "execution_count": 26,
   "id": "58d48f23",
   "metadata": {},
   "outputs": [
    {
     "name": "stdout",
     "output_type": "stream",
     "text": [
      ".........."
     ]
    }
   ],
   "source": [
    "await run_multiple_iterations_multiple_games(\n",
    "    num_games=10,\n",
    "    list_envs=['mastermind'],\n",
    "    models=['openai/gpt-oss-120b'],\n",
    ")"
   ]
  },
  {
   "cell_type": "code",
   "execution_count": null,
   "id": "ff61928a",
   "metadata": {},
   "outputs": [],
   "source": []
  },
  {
   "cell_type": "code",
   "execution_count": null,
   "id": "15a86e30",
   "metadata": {},
   "outputs": [],
   "source": []
  },
  {
   "cell_type": "code",
   "execution_count": null,
   "id": "ee4c49ff",
   "metadata": {},
   "outputs": [],
   "source": []
  },
  {
   "cell_type": "code",
   "execution_count": null,
   "id": "7f7063c2",
   "metadata": {},
   "outputs": [],
   "source": []
  },
  {
   "cell_type": "code",
   "execution_count": null,
   "id": "9096e2aa",
   "metadata": {},
   "outputs": [],
   "source": []
  },
  {
   "cell_type": "markdown",
   "id": "8616ece5",
   "metadata": {},
   "source": [
    "# 4. Metrics"
   ]
  },
  {
   "cell_type": "code",
   "execution_count": 1,
   "id": "8df58134",
   "metadata": {},
   "outputs": [],
   "source": [
    "import pandas as pd\n",
    "from pprint import pprint as pp\n",
    "import json\n",
    "\n",
    "logs_file = './logs/paprika_frontier_v6.jsonl'\n",
    "with open(logs_file, 'r') as f:\n",
    "    data = [json.loads(line) for line in f]\n",
    "df = pd.DataFrame(data)"
   ]
  },
  {
   "cell_type": "code",
   "execution_count": 2,
   "id": "656ec809",
   "metadata": {},
   "outputs": [
    {
     "name": "stdout",
     "output_type": "stream",
     "text": [
      "Index(['model', 'game_id', 'env', 'attempt', 'info', 'raw_guess', 'guess',\n",
      "       'response', 'word_limit', 'score', 'done', 'data', 'belief',\n",
      "       'action_reasoning', 'belief_reasoning'],\n",
      "      dtype='object')\n"
     ]
    }
   ],
   "source": [
    "print(df.columns)"
   ]
  },
  {
   "cell_type": "code",
   "execution_count": 3,
   "id": "b226b1d1",
   "metadata": {},
   "outputs": [],
   "source": [
    "if not df.iloc[0]['word_limit']:\n",
    "    df['word_limit'] = 'None'"
   ]
  },
  {
   "cell_type": "code",
   "execution_count": 4,
   "id": "f23e7984",
   "metadata": {},
   "outputs": [
    {
     "data": {
      "text/plain": [
       "info\n",
       "belief     8764\n",
       "both       8491\n",
       "history    8162\n",
       "Name: count, dtype: int64"
      ]
     },
     "execution_count": 4,
     "metadata": {},
     "output_type": "execute_result"
    }
   ],
   "source": [
    "df['info'].value_counts()"
   ]
  },
  {
   "cell_type": "code",
   "execution_count": 5,
   "id": "d9c30712",
   "metadata": {},
   "outputs": [],
   "source": [
    "df['model_info'] = df['model'].astype(str) + ' (' + df['info'].astype(str) + ')'"
   ]
  },
  {
   "cell_type": "code",
   "execution_count": 6,
   "id": "73a9cf0b",
   "metadata": {},
   "outputs": [],
   "source": [
    "df['model'] = df['model_info']"
   ]
  },
  {
   "cell_type": "code",
   "execution_count": 7,
   "id": "282887ef",
   "metadata": {},
   "outputs": [
    {
     "data": {
      "text/html": [
       "<div>\n",
       "<style scoped>\n",
       "    .dataframe tbody tr th:only-of-type {\n",
       "        vertical-align: middle;\n",
       "    }\n",
       "\n",
       "    .dataframe tbody tr th {\n",
       "        vertical-align: top;\n",
       "    }\n",
       "\n",
       "    .dataframe thead th {\n",
       "        text-align: right;\n",
       "    }\n",
       "</style>\n",
       "<table border=\"1\" class=\"dataframe\">\n",
       "  <thead>\n",
       "    <tr style=\"text-align: right;\">\n",
       "      <th></th>\n",
       "      <th>model</th>\n",
       "      <th>game_id</th>\n",
       "      <th>env</th>\n",
       "      <th>attempt</th>\n",
       "      <th>info</th>\n",
       "      <th>raw_guess</th>\n",
       "      <th>guess</th>\n",
       "      <th>response</th>\n",
       "      <th>word_limit</th>\n",
       "      <th>score</th>\n",
       "      <th>done</th>\n",
       "      <th>data</th>\n",
       "      <th>belief</th>\n",
       "      <th>action_reasoning</th>\n",
       "      <th>belief_reasoning</th>\n",
       "      <th>model_info</th>\n",
       "    </tr>\n",
       "  </thead>\n",
       "  <tbody>\n",
       "    <tr>\n",
       "      <th>0</th>\n",
       "      <td>deepseek/deepseek-chat (history)</td>\n",
       "      <td>0</td>\n",
       "      <td>customer_service</td>\n",
       "      <td>1</td>\n",
       "      <td>history</td>\n",
       "      <td>&lt;Think&gt; To diagnose the issue effectively, I n...</td>\n",
       "      <td>Can you please check if the refrigerator door ...</td>\n",
       "      <td>The door is not fully closed, and the temperat...</td>\n",
       "      <td>None</td>\n",
       "      <td>0.0</td>\n",
       "      <td>True</td>\n",
       "      <td>{'agent_game_scenario': 'The customer's refrig...</td>\n",
       "      <td></td>\n",
       "      <td>None</td>\n",
       "      <td></td>\n",
       "      <td>deepseek/deepseek-chat (history)</td>\n",
       "    </tr>\n",
       "    <tr>\n",
       "      <th>1</th>\n",
       "      <td>deepseek/deepseek-chat (history)</td>\n",
       "      <td>0</td>\n",
       "      <td>customer_service</td>\n",
       "      <td>2</td>\n",
       "      <td>history</td>\n",
       "      <td>&lt;Think&gt; Since the door is not fully closed, th...</td>\n",
       "      <td>Please make sure the refrigerator door is full...</td>\n",
       "      <td>Goal reached.</td>\n",
       "      <td>None</td>\n",
       "      <td>0.0</td>\n",
       "      <td>True</td>\n",
       "      <td>{'agent_game_scenario': 'The customer's refrig...</td>\n",
       "      <td></td>\n",
       "      <td>None</td>\n",
       "      <td></td>\n",
       "      <td>deepseek/deepseek-chat (history)</td>\n",
       "    </tr>\n",
       "    <tr>\n",
       "      <th>2</th>\n",
       "      <td>deepseek/deepseek-chat (both)</td>\n",
       "      <td>1</td>\n",
       "      <td>wordle</td>\n",
       "      <td>1</td>\n",
       "      <td>both</td>\n",
       "      <td>&lt;Think&gt; Since this is the first guess, the goa...</td>\n",
       "      <td>CRANE</td>\n",
       "      <td>First letter, c, is not in the target word \\nS...</td>\n",
       "      <td>None</td>\n",
       "      <td>1.0</td>\n",
       "      <td>True</td>\n",
       "      <td>{'agent_game_scenario': 'word', 'env_game_scen...</td>\n",
       "      <td>The target word does not contain the letters C...</td>\n",
       "      <td>None</td>\n",
       "      <td>None</td>\n",
       "      <td>deepseek/deepseek-chat (both)</td>\n",
       "    </tr>\n",
       "    <tr>\n",
       "      <th>3</th>\n",
       "      <td>deepseek/deepseek-chat (both)</td>\n",
       "      <td>1</td>\n",
       "      <td>wordle</td>\n",
       "      <td>2</td>\n",
       "      <td>both</td>\n",
       "      <td>&lt;Think&gt; Since C, R, A, and N are not in the wo...</td>\n",
       "      <td>SLOPE</td>\n",
       "      <td>First letter, s, is correct and in the correct...</td>\n",
       "      <td>None</td>\n",
       "      <td>2.0</td>\n",
       "      <td>True</td>\n",
       "      <td>{'agent_game_scenario': 'word', 'env_game_scen...</td>\n",
       "      <td>The target word starts with 'S'. It contains t...</td>\n",
       "      <td>None</td>\n",
       "      <td>None</td>\n",
       "      <td>deepseek/deepseek-chat (both)</td>\n",
       "    </tr>\n",
       "    <tr>\n",
       "      <th>4</th>\n",
       "      <td>deepseek/deepseek-chat (both)</td>\n",
       "      <td>1</td>\n",
       "      <td>wordle</td>\n",
       "      <td>3</td>\n",
       "      <td>both</td>\n",
       "      <td>&lt;Think&gt; Based on the history and belief state:...</td>\n",
       "      <td>SPIED</td>\n",
       "      <td>Goal reached</td>\n",
       "      <td>None</td>\n",
       "      <td>3.0</td>\n",
       "      <td>True</td>\n",
       "      <td>{'agent_game_scenario': 'word', 'env_game_scen...</td>\n",
       "      <td>The target word is \"SPIED\".</td>\n",
       "      <td>None</td>\n",
       "      <td>None</td>\n",
       "      <td>deepseek/deepseek-chat (both)</td>\n",
       "    </tr>\n",
       "    <tr>\n",
       "      <th>...</th>\n",
       "      <td>...</td>\n",
       "      <td>...</td>\n",
       "      <td>...</td>\n",
       "      <td>...</td>\n",
       "      <td>...</td>\n",
       "      <td>...</td>\n",
       "      <td>...</td>\n",
       "      <td>...</td>\n",
       "      <td>...</td>\n",
       "      <td>...</td>\n",
       "      <td>...</td>\n",
       "      <td>...</td>\n",
       "      <td>...</td>\n",
       "      <td>...</td>\n",
       "      <td>...</td>\n",
       "      <td>...</td>\n",
       "    </tr>\n",
       "    <tr>\n",
       "      <th>25412</th>\n",
       "      <td>deepseek/deepseek-r1 (both)</td>\n",
       "      <td>36</td>\n",
       "      <td>mastermind</td>\n",
       "      <td>8</td>\n",
       "      <td>both</td>\n",
       "      <td>&lt;Think&gt;\\nGiven the feedback history and curren...</td>\n",
       "      <td>4 5 3 6</td>\n",
       "      <td>Your last guess has 0 exact matches with the s...</td>\n",
       "      <td>None</td>\n",
       "      <td>8.0</td>\n",
       "      <td>True</td>\n",
       "      <td>{'agent_game_scenario': 'secret code', 'env_ga...</td>\n",
       "      <td>**Updated Belief**:\\n- **Excluded digits**: 7,...</td>\n",
       "      <td>Okay, let's see. So I'm on attempt 9 out of 12...</td>\n",
       "      <td>Okay, let's try to figure this out. The curren...</td>\n",
       "      <td>deepseek/deepseek-r1 (both)</td>\n",
       "    </tr>\n",
       "    <tr>\n",
       "      <th>25413</th>\n",
       "      <td>deepseek/deepseek-r1 (both)</td>\n",
       "      <td>36</td>\n",
       "      <td>mastermind</td>\n",
       "      <td>9</td>\n",
       "      <td>both</td>\n",
       "      <td>&lt;Think&gt; \\nGiven the belief that the code has o...</td>\n",
       "      <td>0 2 5 1</td>\n",
       "      <td>Your last guess has 1 exact matches with the s...</td>\n",
       "      <td>None</td>\n",
       "      <td>9.0</td>\n",
       "      <td>True</td>\n",
       "      <td>{'agent_game_scenario': 'secret code', 'env_ga...</td>\n",
       "      <td>**Updated Belief**:\\n- **Excluded digits**: 7,...</td>\n",
       "      <td>Okay, let's try to figure out what the next gu...</td>\n",
       "      <td>Okay, let's break this down. The current belie...</td>\n",
       "      <td>deepseek/deepseek-r1 (both)</td>\n",
       "    </tr>\n",
       "    <tr>\n",
       "      <th>25414</th>\n",
       "      <td>deepseek/deepseek-r1 (both)</td>\n",
       "      <td>36</td>\n",
       "      <td>mastermind</td>\n",
       "      <td>10</td>\n",
       "      <td>both</td>\n",
       "      <td>&lt;Think&gt;\\nGiven the feedback from previous gues...</td>\n",
       "      <td>1 0 2 5</td>\n",
       "      <td>Your last guess has 0 exact matches with the s...</td>\n",
       "      <td>None</td>\n",
       "      <td>10.0</td>\n",
       "      <td>True</td>\n",
       "      <td>{'agent_game_scenario': 'secret code', 'env_ga...</td>\n",
       "      <td>- **Excluded digits**: 7, 8, 9. Possible digit...</td>\n",
       "      <td>Okay, let's see. We're on attempt 11 out of 12...</td>\n",
       "      <td>Okay, let me try to process the new feedback. ...</td>\n",
       "      <td>deepseek/deepseek-r1 (both)</td>\n",
       "    </tr>\n",
       "    <tr>\n",
       "      <th>25415</th>\n",
       "      <td>deepseek/deepseek-r1 (both)</td>\n",
       "      <td>36</td>\n",
       "      <td>mastermind</td>\n",
       "      <td>11</td>\n",
       "      <td>both</td>\n",
       "      <td>&lt;Think&gt; \\nGiven the belief state, pos4 is conf...</td>\n",
       "      <td>2 4 0 1</td>\n",
       "      <td>Your last guess has 0 exact matches with the s...</td>\n",
       "      <td>None</td>\n",
       "      <td>11.0</td>\n",
       "      <td>True</td>\n",
       "      <td>{'agent_game_scenario': 'secret code', 'env_ga...</td>\n",
       "      <td>- **Excluded digits**: 7, 8, 9. Possible digit...</td>\n",
       "      <td>Okay, let's see. We're on the 12th attempt, an...</td>\n",
       "      <td>Okay, let's start by looking at the current be...</td>\n",
       "      <td>deepseek/deepseek-r1 (both)</td>\n",
       "    </tr>\n",
       "    <tr>\n",
       "      <th>25416</th>\n",
       "      <td>deepseek/deepseek-r1 (both)</td>\n",
       "      <td>36</td>\n",
       "      <td>mastermind</td>\n",
       "      <td>12</td>\n",
       "      <td>both</td>\n",
       "      <td>&lt;Think&gt;\\nBased on the current belief state and...</td>\n",
       "      <td>3 0 1 2</td>\n",
       "      <td>Your last guess has 0 exact matches with the s...</td>\n",
       "      <td>None</td>\n",
       "      <td>12.0</td>\n",
       "      <td>True</td>\n",
       "      <td>{'agent_game_scenario': 'secret code', 'env_ga...</td>\n",
       "      <td>- **Excluded digits**: 2, 5, 7, 8, 9  \\n- **Po...</td>\n",
       "      <td>Okay, let's try to figure out the next guess b...</td>\n",
       "      <td>Okay, let's process the new feedback from the ...</td>\n",
       "      <td>deepseek/deepseek-r1 (both)</td>\n",
       "    </tr>\n",
       "  </tbody>\n",
       "</table>\n",
       "<p>25417 rows × 16 columns</p>\n",
       "</div>"
      ],
      "text/plain": [
       "                                  model game_id               env  attempt  \\\n",
       "0      deepseek/deepseek-chat (history)       0  customer_service        1   \n",
       "1      deepseek/deepseek-chat (history)       0  customer_service        2   \n",
       "2         deepseek/deepseek-chat (both)       1            wordle        1   \n",
       "3         deepseek/deepseek-chat (both)       1            wordle        2   \n",
       "4         deepseek/deepseek-chat (both)       1            wordle        3   \n",
       "...                                 ...     ...               ...      ...   \n",
       "25412       deepseek/deepseek-r1 (both)      36        mastermind        8   \n",
       "25413       deepseek/deepseek-r1 (both)      36        mastermind        9   \n",
       "25414       deepseek/deepseek-r1 (both)      36        mastermind       10   \n",
       "25415       deepseek/deepseek-r1 (both)      36        mastermind       11   \n",
       "25416       deepseek/deepseek-r1 (both)      36        mastermind       12   \n",
       "\n",
       "          info                                          raw_guess  \\\n",
       "0      history  <Think> To diagnose the issue effectively, I n...   \n",
       "1      history  <Think> Since the door is not fully closed, th...   \n",
       "2         both  <Think> Since this is the first guess, the goa...   \n",
       "3         both  <Think> Since C, R, A, and N are not in the wo...   \n",
       "4         both  <Think> Based on the history and belief state:...   \n",
       "...        ...                                                ...   \n",
       "25412     both  <Think>\\nGiven the feedback history and curren...   \n",
       "25413     both  <Think> \\nGiven the belief that the code has o...   \n",
       "25414     both  <Think>\\nGiven the feedback from previous gues...   \n",
       "25415     both  <Think> \\nGiven the belief state, pos4 is conf...   \n",
       "25416     both  <Think>\\nBased on the current belief state and...   \n",
       "\n",
       "                                                   guess  \\\n",
       "0      Can you please check if the refrigerator door ...   \n",
       "1      Please make sure the refrigerator door is full...   \n",
       "2                                                  CRANE   \n",
       "3                                                  SLOPE   \n",
       "4                                                  SPIED   \n",
       "...                                                  ...   \n",
       "25412                                            4 5 3 6   \n",
       "25413                                            0 2 5 1   \n",
       "25414                                            1 0 2 5   \n",
       "25415                                            2 4 0 1   \n",
       "25416                                            3 0 1 2   \n",
       "\n",
       "                                                response word_limit  score  \\\n",
       "0      The door is not fully closed, and the temperat...       None    0.0   \n",
       "1                                          Goal reached.       None    0.0   \n",
       "2      First letter, c, is not in the target word \\nS...       None    1.0   \n",
       "3      First letter, s, is correct and in the correct...       None    2.0   \n",
       "4                                           Goal reached       None    3.0   \n",
       "...                                                  ...        ...    ...   \n",
       "25412  Your last guess has 0 exact matches with the s...       None    8.0   \n",
       "25413  Your last guess has 1 exact matches with the s...       None    9.0   \n",
       "25414  Your last guess has 0 exact matches with the s...       None   10.0   \n",
       "25415  Your last guess has 0 exact matches with the s...       None   11.0   \n",
       "25416  Your last guess has 0 exact matches with the s...       None   12.0   \n",
       "\n",
       "       done                                               data  \\\n",
       "0      True  {'agent_game_scenario': 'The customer's refrig...   \n",
       "1      True  {'agent_game_scenario': 'The customer's refrig...   \n",
       "2      True  {'agent_game_scenario': 'word', 'env_game_scen...   \n",
       "3      True  {'agent_game_scenario': 'word', 'env_game_scen...   \n",
       "4      True  {'agent_game_scenario': 'word', 'env_game_scen...   \n",
       "...     ...                                                ...   \n",
       "25412  True  {'agent_game_scenario': 'secret code', 'env_ga...   \n",
       "25413  True  {'agent_game_scenario': 'secret code', 'env_ga...   \n",
       "25414  True  {'agent_game_scenario': 'secret code', 'env_ga...   \n",
       "25415  True  {'agent_game_scenario': 'secret code', 'env_ga...   \n",
       "25416  True  {'agent_game_scenario': 'secret code', 'env_ga...   \n",
       "\n",
       "                                                  belief  \\\n",
       "0                                                          \n",
       "1                                                          \n",
       "2      The target word does not contain the letters C...   \n",
       "3      The target word starts with 'S'. It contains t...   \n",
       "4                            The target word is \"SPIED\".   \n",
       "...                                                  ...   \n",
       "25412  **Updated Belief**:\\n- **Excluded digits**: 7,...   \n",
       "25413  **Updated Belief**:\\n- **Excluded digits**: 7,...   \n",
       "25414  - **Excluded digits**: 7, 8, 9. Possible digit...   \n",
       "25415  - **Excluded digits**: 7, 8, 9. Possible digit...   \n",
       "25416  - **Excluded digits**: 2, 5, 7, 8, 9  \\n- **Po...   \n",
       "\n",
       "                                        action_reasoning  \\\n",
       "0                                                   None   \n",
       "1                                                   None   \n",
       "2                                                   None   \n",
       "3                                                   None   \n",
       "4                                                   None   \n",
       "...                                                  ...   \n",
       "25412  Okay, let's see. So I'm on attempt 9 out of 12...   \n",
       "25413  Okay, let's try to figure out what the next gu...   \n",
       "25414  Okay, let's see. We're on attempt 11 out of 12...   \n",
       "25415  Okay, let's see. We're on the 12th attempt, an...   \n",
       "25416  Okay, let's try to figure out the next guess b...   \n",
       "\n",
       "                                        belief_reasoning  \\\n",
       "0                                                          \n",
       "1                                                          \n",
       "2                                                   None   \n",
       "3                                                   None   \n",
       "4                                                   None   \n",
       "...                                                  ...   \n",
       "25412  Okay, let's try to figure this out. The curren...   \n",
       "25413  Okay, let's break this down. The current belie...   \n",
       "25414  Okay, let me try to process the new feedback. ...   \n",
       "25415  Okay, let's start by looking at the current be...   \n",
       "25416  Okay, let's process the new feedback from the ...   \n",
       "\n",
       "                             model_info  \n",
       "0      deepseek/deepseek-chat (history)  \n",
       "1      deepseek/deepseek-chat (history)  \n",
       "2         deepseek/deepseek-chat (both)  \n",
       "3         deepseek/deepseek-chat (both)  \n",
       "4         deepseek/deepseek-chat (both)  \n",
       "...                                 ...  \n",
       "25412       deepseek/deepseek-r1 (both)  \n",
       "25413       deepseek/deepseek-r1 (both)  \n",
       "25414       deepseek/deepseek-r1 (both)  \n",
       "25415       deepseek/deepseek-r1 (both)  \n",
       "25416       deepseek/deepseek-r1 (both)  \n",
       "\n",
       "[25417 rows x 16 columns]"
      ]
     },
     "execution_count": 7,
     "metadata": {},
     "output_type": "execute_result"
    }
   ],
   "source": [
    "df"
   ]
  },
  {
   "cell_type": "markdown",
   "id": "9e358667",
   "metadata": {},
   "source": [
    "## 1. Success Rates (belief v. history v. both)"
   ]
  },
  {
   "cell_type": "code",
   "execution_count": 22,
   "id": "abe8ac6b",
   "metadata": {},
   "outputs": [],
   "source": [
    "import pandas as pd\n",
    "import plotly.graph_objects as go\n",
    "import plotly.express as px\n",
    "from plotly.subplots import make_subplots\n",
    "import numpy as np\n",
    "\n",
    "def summarize_game_outcomes(df):\n",
    "    df['response'] = df['response'].str.lower()\n",
    "    grouped = df.groupby(['model', 'game_id', 'env', 'word_limit'])['response'].apply(\n",
    "        lambda responses: any('goal reached' in resp for resp in responses)\n",
    "    ).reset_index(name='won')\n",
    "    return grouped\n",
    "\n",
    "def plot_win_rates(summary_df):\n",
    "    # Compute mean and std of win rates for each group\n",
    "    stats = summary_df.groupby(['env', 'model', 'word_limit'])['won'].agg(['mean', 'std', 'count']).reset_index()\n",
    "    stats['success_rate'] = stats['mean'] * 100\n",
    "    # Standard error of the mean (SEM)\n",
    "    stats['sem'] = stats['std'] / np.sqrt(stats['count'])\n",
    "    stats['sem'] = stats['sem'].fillna(0)\n",
    "    stats['success_rate_sem'] = stats['sem'] * 100\n",
    "\n",
    "    envs = stats['env'].unique()\n",
    "    models = stats['model'].unique()[[0, 2, 1, 3, 5, 4, 6, 8, 7]]\n",
    "    word_limits = sorted(stats['word_limit'].unique())\n",
    "\n",
    "    colors = [\n",
    "        \"#ADD8E6\",  # light blue\n",
    "        \"#4682B4\",  # medium blue\n",
    "        \"#003366\",  # dark blue\n",
    "        \"#FFB6C1\",  # light red\n",
    "        \"#FF6347\",  # medium red\n",
    "        \"#8B0000\",  # dark red\n",
    "        \"#90EE90\",  # light green\n",
    "        \"#32CD32\",  # medium green\n",
    "        \"#006400\",  # dark green\n",
    "    ]\n",
    "    color_map = {model: colors[i % len(colors)] for i, model in enumerate(models)}\n",
    "\n",
    "    # Create subplots: rows = word_limit values, cols = envs\n",
    "    fig = make_subplots(\n",
    "        rows=len(word_limits), cols=len(envs),\n",
    "        subplot_titles=[f\"{env}\" for env in envs],\n",
    "        shared_yaxes=True,\n",
    "        vertical_spacing=0.2 / len(word_limits),\n",
    "        horizontal_spacing=0.03\n",
    "    )\n",
    "\n",
    "    for r, wl in enumerate(word_limits, start=1):\n",
    "        for c, env in enumerate(envs, start=1):\n",
    "            for model in models:\n",
    "                subset = stats[\n",
    "                    (stats['env'] == env) &\n",
    "                    (stats['model'] == model) &\n",
    "                    (stats['word_limit'] == wl)\n",
    "                ]\n",
    "                if not subset.empty:\n",
    "                    # Plot bar with error bar (standard error of mean)\n",
    "                    fig.add_trace(\n",
    "                        go.Bar(\n",
    "                            x=[model],\n",
    "                            y=subset['success_rate'],\n",
    "                            name=model,\n",
    "                            marker_color=color_map[model],\n",
    "                            width=0.8,\n",
    "                            showlegend=(r == 1 and c == 1),\n",
    "                            error_y=dict(\n",
    "                                type='data',\n",
    "                                array=subset['success_rate_sem'],\n",
    "                                visible=True,\n",
    "                                color='black',\n",
    "                                thickness=1,\n",
    "                                width=4,\n",
    "                            ),\n",
    "                            hovertemplate=(\n",
    "                                f\"Env: {env}<br>\"\n",
    "                                f\"Word Limit: {wl}<br>\"\n",
    "                                f\"Model: {model}<br>\"\n",
    "                                f\"Success Rate: {{y:.2f}}%<br>\"\n",
    "                                f\"SEM: {subset['success_rate_sem'].values[0]:.2f}%<br>\"\n",
    "                                f\"N: {subset['count'].values[0]}\"\n",
    "                            ),\n",
    "                        ),\n",
    "                        row=r, col=c\n",
    "                    )\n",
    "            # # Add row label for word_limit\n",
    "            # if c == 1:\n",
    "            #     fig.add_annotation(\n",
    "            #         text=f\"Word Limit: {wl}\",\n",
    "            #         xref=\"paper\",\n",
    "            #         yref=\"paper\",\n",
    "            #         x=0.1,\n",
    "            #         y=0.95 - ((r - 1) / len(word_limits)),\n",
    "            #         showarrow=False,\n",
    "            #         font=dict(size=14)\n",
    "            #     )\n",
    "\n",
    "    # Update y-axis\n",
    "    for r in range(1, len(word_limits) + 1):\n",
    "        for c in range(1, len(envs) + 1):\n",
    "            fig.update_yaxes(\n",
    "                range=[0, 100],\n",
    "                showgrid=True,\n",
    "                gridcolor='lightgray',\n",
    "                row=r, col=c\n",
    "            )\n",
    "\n",
    "    # Update x-axis to remove tick labels\n",
    "    for r in range(1, len(word_limits) + 1):\n",
    "        for c in range(1, len(envs) + 1):\n",
    "            fig.update_xaxes(\n",
    "                showticklabels=False,\n",
    "                row=r, col=c\n",
    "            )\n",
    "\n",
    "    # Fixed subplot size\n",
    "    fig_width = 180 * len(envs)\n",
    "    fig_height = 200 * len(word_limits)\n",
    "\n",
    "    # Layout with horizontal legend\n",
    "    fig.update_layout(\n",
    "        height=fig_height + 150,\n",
    "        width=fig_width,\n",
    "        template='simple_white',\n",
    "        font=dict(family='Computer Modern, serif', size=16),\n",
    "        barmode='group',\n",
    "        showlegend=True,\n",
    "        legend=dict(\n",
    "            title='Models',\n",
    "            orientation='h',\n",
    "            yanchor='bottom',\n",
    "            y=1.18,\n",
    "            xanchor='center',\n",
    "            x=0.5,\n",
    "            bgcolor='rgba(255,255,255,0.9)',\n",
    "            bordercolor='black',\n",
    "            borderwidth=1\n",
    "        ),\n",
    "        margin=dict(t=100, b=50, l=80, r=20),\n",
    "        plot_bgcolor='white'\n",
    "    )\n",
    "\n",
    "    fig.update_yaxes(title_text=\"Avg. Success Rate\", row=1, col=1)\n",
    "\n",
    "    return fig"
   ]
  },
  {
   "cell_type": "code",
   "execution_count": 23,
   "id": "94973117",
   "metadata": {},
   "outputs": [],
   "source": [
    "df_belief = df.loc[df['info'] == 'belief'].copy()\n",
    "df_history = df.loc[df['info'] == 'history'].copy()\n",
    "summary_df = summarize_game_outcomes(df)\n",
    "summary_df_belief = summarize_game_outcomes(df_belief)\n",
    "summary_df_history = summarize_game_outcomes(df_history)"
   ]
  },
  {
   "cell_type": "code",
   "execution_count": 24,
   "id": "06d25838",
   "metadata": {},
   "outputs": [
    {
     "data": {
      "application/vnd.plotly.v1+json": {
       "config": {
        "plotlyServerURL": "https://plot.ly"
       },
       "data": [
        {
         "error_y": {
          "array": {
           "bdata": "Oq5djk78H0A=",
           "dtype": "f8"
          },
          "color": "black",
          "thickness": 1,
          "type": "data",
          "visible": true,
          "width": 4
         },
         "hovertemplate": "Env: customer_service<br>Word Limit: None<br>Model: deepseek/deepseek-chat (belief)<br>Success Rate: {y:.2f}%<br>SEM: 8.00%<br>N: 40",
         "marker": {
          "color": "#ADD8E6"
         },
         "name": "deepseek/deepseek-chat (belief)",
         "showlegend": true,
         "type": "bar",
         "width": 0.8,
         "x": [
          "deepseek/deepseek-chat (belief)"
         ],
         "xaxis": "x",
         "y": {
          "bdata": "AAAAAADAR0A=",
          "dtype": "f8"
         },
         "yaxis": "y"
        },
        {
         "error_y": {
          "array": {
           "bdata": "SrExFSa/GkA=",
           "dtype": "f8"
          },
          "color": "black",
          "thickness": 1,
          "type": "data",
          "visible": true,
          "width": 4
         },
         "hovertemplate": "Env: customer_service<br>Word Limit: None<br>Model: deepseek/deepseek-chat (history)<br>Success Rate: {y:.2f}%<br>SEM: 6.69%<br>N: 40",
         "marker": {
          "color": "#4682B4"
         },
         "name": "deepseek/deepseek-chat (history)",
         "showlegend": true,
         "type": "bar",
         "width": 0.8,
         "x": [
          "deepseek/deepseek-chat (history)"
         ],
         "xaxis": "x",
         "y": {
          "bdata": "AAAAAABgU0A=",
          "dtype": "f8"
         },
         "yaxis": "y"
        },
        {
         "error_y": {
          "array": {
           "bdata": "aCzJDxtaHUA=",
           "dtype": "f8"
          },
          "color": "black",
          "thickness": 1,
          "type": "data",
          "visible": true,
          "width": 4
         },
         "hovertemplate": "Env: customer_service<br>Word Limit: None<br>Model: deepseek/deepseek-chat (both)<br>Success Rate: {y:.2f}%<br>SEM: 7.34%<br>N: 40",
         "marker": {
          "color": "#003366"
         },
         "name": "deepseek/deepseek-chat (both)",
         "showlegend": true,
         "type": "bar",
         "width": 0.8,
         "x": [
          "deepseek/deepseek-chat (both)"
         ],
         "xaxis": "x",
         "y": {
          "bdata": "AAAAAACAUUA=",
          "dtype": "f8"
         },
         "yaxis": "y"
        },
        {
         "error_y": {
          "array": {
           "bdata": "Ahd5rIyZHEA=",
           "dtype": "f8"
          },
          "color": "black",
          "thickness": 1,
          "type": "data",
          "visible": true,
          "width": 4
         },
         "hovertemplate": "Env: customer_service<br>Word Limit: None<br>Model: deepseek/deepseek-r1 (belief)<br>Success Rate: {y:.2f}%<br>SEM: 7.15%<br>N: 40",
         "marker": {
          "color": "#FFB6C1"
         },
         "name": "deepseek/deepseek-r1 (belief)",
         "showlegend": true,
         "type": "bar",
         "width": 0.8,
         "x": [
          "deepseek/deepseek-r1 (belief)"
         ],
         "xaxis": "x",
         "y": {
          "bdata": "AAAAAAAgUkA=",
          "dtype": "f8"
         },
         "yaxis": "y"
        },
        {
         "error_y": {
          "array": {
           "bdata": "tSto3kcDIEA=",
           "dtype": "f8"
          },
          "color": "black",
          "thickness": 1,
          "type": "data",
          "visible": true,
          "width": 4
         },
         "hovertemplate": "Env: customer_service<br>Word Limit: None<br>Model: deepseek/deepseek-r1 (history)<br>Success Rate: {y:.2f}%<br>SEM: 8.01%<br>N: 40",
         "marker": {
          "color": "#FF6347"
         },
         "name": "deepseek/deepseek-r1 (history)",
         "showlegend": true,
         "type": "bar",
         "width": 0.8,
         "x": [
          "deepseek/deepseek-r1 (history)"
         ],
         "xaxis": "x",
         "y": {
          "bdata": "AAAAAAAASUA=",
          "dtype": "f8"
         },
         "yaxis": "y"
        },
        {
         "error_y": {
          "array": {
           "bdata": "3jIj3+2MHkA=",
           "dtype": "f8"
          },
          "color": "black",
          "thickness": 1,
          "type": "data",
          "visible": true,
          "width": 4
         },
         "hovertemplate": "Env: customer_service<br>Word Limit: None<br>Model: deepseek/deepseek-r1 (both)<br>Success Rate: {y:.2f}%<br>SEM: 7.64%<br>N: 40",
         "marker": {
          "color": "#8B0000"
         },
         "name": "deepseek/deepseek-r1 (both)",
         "showlegend": true,
         "type": "bar",
         "width": 0.8,
         "x": [
          "deepseek/deepseek-r1 (both)"
         ],
         "xaxis": "x",
         "y": {
          "bdata": "AAAAAABAUEA=",
          "dtype": "f8"
         },
         "yaxis": "y"
        },
        {
         "error_y": {
          "array": {
           "bdata": "pmfjCiM3E0A=",
           "dtype": "f8"
          },
          "color": "black",
          "thickness": 1,
          "type": "data",
          "visible": true,
          "width": 4
         },
         "hovertemplate": "Env: customer_service<br>Word Limit: None<br>Model: google/gemini-2.5-pro (belief)<br>Success Rate: {y:.2f}%<br>SEM: 4.80%<br>N: 40",
         "marker": {
          "color": "#90EE90"
         },
         "name": "google/gemini-2.5-pro (belief)",
         "showlegend": true,
         "type": "bar",
         "width": 0.8,
         "x": [
          "google/gemini-2.5-pro (belief)"
         ],
         "xaxis": "x",
         "y": {
          "bdata": "AAAAAACAVkA=",
          "dtype": "f8"
         },
         "yaxis": "y"
        },
        {
         "error_y": {
          "array": {
           "bdata": "AAAAAAAAAAA=",
           "dtype": "f8"
          },
          "color": "black",
          "thickness": 1,
          "type": "data",
          "visible": true,
          "width": 4
         },
         "hovertemplate": "Env: customer_service<br>Word Limit: None<br>Model: google/gemini-2.5-pro (history)<br>Success Rate: {y:.2f}%<br>SEM: 0.00%<br>N: 40",
         "marker": {
          "color": "#32CD32"
         },
         "name": "google/gemini-2.5-pro (history)",
         "showlegend": true,
         "type": "bar",
         "width": 0.8,
         "x": [
          "google/gemini-2.5-pro (history)"
         ],
         "xaxis": "x",
         "y": {
          "bdata": "AAAAAAAAWUA=",
          "dtype": "f8"
         },
         "yaxis": "y"
        },
        {
         "error_y": {
          "array": {
           "bdata": "sfa0FlfrC0A=",
           "dtype": "f8"
          },
          "color": "black",
          "thickness": 1,
          "type": "data",
          "visible": true,
          "width": 4
         },
         "hovertemplate": "Env: customer_service<br>Word Limit: None<br>Model: google/gemini-2.5-pro (both)<br>Success Rate: {y:.2f}%<br>SEM: 3.49%<br>N: 40",
         "marker": {
          "color": "#006400"
         },
         "name": "google/gemini-2.5-pro (both)",
         "showlegend": true,
         "type": "bar",
         "width": 0.8,
         "x": [
          "google/gemini-2.5-pro (both)"
         ],
         "xaxis": "x",
         "y": {
          "bdata": "AAAAAADAV0A=",
          "dtype": "f8"
         },
         "yaxis": "y"
        },
        {
         "error_y": {
          "array": {
           "bdata": "Z5tdmim8G0A=",
           "dtype": "f8"
          },
          "color": "black",
          "thickness": 1,
          "type": "data",
          "visible": true,
          "width": 4
         },
         "hovertemplate": "Env: guess_my_city<br>Word Limit: None<br>Model: deepseek/deepseek-chat (belief)<br>Success Rate: {y:.2f}%<br>SEM: 6.93%<br>N: 40",
         "marker": {
          "color": "#ADD8E6"
         },
         "name": "deepseek/deepseek-chat (belief)",
         "showlegend": false,
         "type": "bar",
         "width": 0.8,
         "x": [
          "deepseek/deepseek-chat (belief)"
         ],
         "xaxis": "x2",
         "y": {
          "bdata": "AAAAAADAUkA=",
          "dtype": "f8"
         },
         "yaxis": "y2"
        },
        {
         "error_y": {
          "array": {
           "bdata": "TLIiNnfdH0A=",
           "dtype": "f8"
          },
          "color": "black",
          "thickness": 1,
          "type": "data",
          "visible": true,
          "width": 4
         },
         "hovertemplate": "Env: guess_my_city<br>Word Limit: None<br>Model: deepseek/deepseek-chat (history)<br>Success Rate: {y:.2f}%<br>SEM: 7.97%<br>N: 40",
         "marker": {
          "color": "#4682B4"
         },
         "name": "deepseek/deepseek-chat (history)",
         "showlegend": false,
         "type": "bar",
         "width": 0.8,
         "x": [
          "deepseek/deepseek-chat (history)"
         ],
         "xaxis": "x2",
         "y": {
          "bdata": "AQAAAACAS0A=",
          "dtype": "f8"
         },
         "yaxis": "y2"
        },
        {
         "error_y": {
          "array": {
           "bdata": "o9OluepgH0A=",
           "dtype": "f8"
          },
          "color": "black",
          "thickness": 1,
          "type": "data",
          "visible": true,
          "width": 4
         },
         "hovertemplate": "Env: guess_my_city<br>Word Limit: None<br>Model: deepseek/deepseek-chat (both)<br>Success Rate: {y:.2f}%<br>SEM: 7.84%<br>N: 40",
         "marker": {
          "color": "#003366"
         },
         "name": "deepseek/deepseek-chat (both)",
         "showlegend": false,
         "type": "bar",
         "width": 0.8,
         "x": [
          "deepseek/deepseek-chat (both)"
         ],
         "xaxis": "x2",
         "y": {
          "bdata": "AAAAAAAATkA=",
          "dtype": "f8"
         },
         "yaxis": "y2"
        },
        {
         "error_y": {
          "array": {
           "bdata": "TLIiNnfdH0A=",
           "dtype": "f8"
          },
          "color": "black",
          "thickness": 1,
          "type": "data",
          "visible": true,
          "width": 4
         },
         "hovertemplate": "Env: guess_my_city<br>Word Limit: None<br>Model: deepseek/deepseek-r1 (belief)<br>Success Rate: {y:.2f}%<br>SEM: 7.97%<br>N: 40",
         "marker": {
          "color": "#FFB6C1"
         },
         "name": "deepseek/deepseek-r1 (belief)",
         "showlegend": false,
         "type": "bar",
         "width": 0.8,
         "x": [
          "deepseek/deepseek-r1 (belief)"
         ],
         "xaxis": "x2",
         "y": {
          "bdata": "AQAAAACAS0A=",
          "dtype": "f8"
         },
         "yaxis": "y2"
        },
        {
         "error_y": {
          "array": {
           "bdata": "3DIj3+2MHkA=",
           "dtype": "f8"
          },
          "color": "black",
          "thickness": 1,
          "type": "data",
          "visible": true,
          "width": 4
         },
         "hovertemplate": "Env: guess_my_city<br>Word Limit: None<br>Model: deepseek/deepseek-r1 (history)<br>Success Rate: {y:.2f}%<br>SEM: 7.64%<br>N: 40",
         "marker": {
          "color": "#FF6347"
         },
         "name": "deepseek/deepseek-r1 (history)",
         "showlegend": false,
         "type": "bar",
         "width": 0.8,
         "x": [
          "deepseek/deepseek-r1 (history)"
         ],
         "xaxis": "x2",
         "y": {
          "bdata": "AAAAAABAUEA=",
          "dtype": "f8"
         },
         "yaxis": "y2"
        },
        {
         "error_y": {
          "array": {
           "bdata": "N65djk78H0A=",
           "dtype": "f8"
          },
          "color": "black",
          "thickness": 1,
          "type": "data",
          "visible": true,
          "width": 4
         },
         "hovertemplate": "Env: guess_my_city<br>Word Limit: None<br>Model: deepseek/deepseek-r1 (both)<br>Success Rate: {y:.2f}%<br>SEM: 8.00%<br>N: 40",
         "marker": {
          "color": "#8B0000"
         },
         "name": "deepseek/deepseek-r1 (both)",
         "showlegend": false,
         "type": "bar",
         "width": 0.8,
         "x": [
          "deepseek/deepseek-r1 (both)"
         ],
         "xaxis": "x2",
         "y": {
          "bdata": "AAAAAABASkA=",
          "dtype": "f8"
         },
         "yaxis": "y2"
        },
        {
         "error_y": {
          "array": {
           "bdata": "h9/ZY9meGUA=",
           "dtype": "f8"
          },
          "color": "black",
          "thickness": 1,
          "type": "data",
          "visible": true,
          "width": 4
         },
         "hovertemplate": "Env: guess_my_city<br>Word Limit: None<br>Model: google/gemini-2.5-pro (belief)<br>Success Rate: {y:.2f}%<br>SEM: 6.41%<br>N: 40",
         "marker": {
          "color": "#90EE90"
         },
         "name": "google/gemini-2.5-pro (belief)",
         "showlegend": false,
         "type": "bar",
         "width": 0.8,
         "x": [
          "google/gemini-2.5-pro (belief)"
         ],
         "xaxis": "x2",
         "y": {
          "bdata": "AAAAAAAAVEA=",
          "dtype": "f8"
         },
         "yaxis": "y2"
        },
        {
         "error_y": {
          "array": {
           "bdata": "BlaVCF5WGEA=",
           "dtype": "f8"
          },
          "color": "black",
          "thickness": 1,
          "type": "data",
          "visible": true,
          "width": 4
         },
         "hovertemplate": "Env: guess_my_city<br>Word Limit: None<br>Model: google/gemini-2.5-pro (history)<br>Success Rate: {y:.2f}%<br>SEM: 6.08%<br>N: 40",
         "marker": {
          "color": "#32CD32"
         },
         "name": "google/gemini-2.5-pro (history)",
         "showlegend": false,
         "type": "bar",
         "width": 0.8,
         "x": [
          "google/gemini-2.5-pro (history)"
         ],
         "xaxis": "x2",
         "y": {
          "bdata": "AAAAAACgVEA=",
          "dtype": "f8"
         },
         "yaxis": "y2"
        },
        {
         "error_y": {
          "array": {
           "bdata": "Bhd5rIyZHEA=",
           "dtype": "f8"
          },
          "color": "black",
          "thickness": 1,
          "type": "data",
          "visible": true,
          "width": 4
         },
         "hovertemplate": "Env: guess_my_city<br>Word Limit: None<br>Model: google/gemini-2.5-pro (both)<br>Success Rate: {y:.2f}%<br>SEM: 7.15%<br>N: 40",
         "marker": {
          "color": "#006400"
         },
         "name": "google/gemini-2.5-pro (both)",
         "showlegend": false,
         "type": "bar",
         "width": 0.8,
         "x": [
          "google/gemini-2.5-pro (both)"
         ],
         "xaxis": "x2",
         "y": {
          "bdata": "AAAAAAAgUkA=",
          "dtype": "f8"
         },
         "yaxis": "y2"
        },
        {
         "error_y": {
          "array": {
           "bdata": "s/a0FlfrC0A=",
           "dtype": "f8"
          },
          "color": "black",
          "thickness": 1,
          "type": "data",
          "visible": true,
          "width": 4
         },
         "hovertemplate": "Env: mastermind<br>Word Limit: None<br>Model: deepseek/deepseek-chat (belief)<br>Success Rate: {y:.2f}%<br>SEM: 3.49%<br>N: 40",
         "marker": {
          "color": "#ADD8E6"
         },
         "name": "deepseek/deepseek-chat (belief)",
         "showlegend": false,
         "type": "bar",
         "width": 0.8,
         "x": [
          "deepseek/deepseek-chat (belief)"
         ],
         "xaxis": "x3",
         "y": {
          "bdata": "AAAAAAAAFEA=",
          "dtype": "f8"
         },
         "yaxis": "y3"
        },
        {
         "error_y": {
          "array": {
           "bdata": "s/a0FlfrC0A=",
           "dtype": "f8"
          },
          "color": "black",
          "thickness": 1,
          "type": "data",
          "visible": true,
          "width": 4
         },
         "hovertemplate": "Env: mastermind<br>Word Limit: None<br>Model: deepseek/deepseek-chat (history)<br>Success Rate: {y:.2f}%<br>SEM: 3.49%<br>N: 40",
         "marker": {
          "color": "#4682B4"
         },
         "name": "deepseek/deepseek-chat (history)",
         "showlegend": false,
         "type": "bar",
         "width": 0.8,
         "x": [
          "deepseek/deepseek-chat (history)"
         ],
         "xaxis": "x3",
         "y": {
          "bdata": "AAAAAAAAFEA=",
          "dtype": "f8"
         },
         "yaxis": "y3"
        },
        {
         "error_y": {
          "array": {
           "bdata": "s/a0FlfrC0A=",
           "dtype": "f8"
          },
          "color": "black",
          "thickness": 1,
          "type": "data",
          "visible": true,
          "width": 4
         },
         "hovertemplate": "Env: mastermind<br>Word Limit: None<br>Model: deepseek/deepseek-chat (both)<br>Success Rate: {y:.2f}%<br>SEM: 3.49%<br>N: 40",
         "marker": {
          "color": "#003366"
         },
         "name": "deepseek/deepseek-chat (both)",
         "showlegend": false,
         "type": "bar",
         "width": 0.8,
         "x": [
          "deepseek/deepseek-chat (both)"
         ],
         "xaxis": "x3",
         "y": {
          "bdata": "AAAAAAAAFEA=",
          "dtype": "f8"
         },
         "yaxis": "y3"
        },
        {
         "error_y": {
          "array": {
           "bdata": "3zIj3+2MHkA=",
           "dtype": "f8"
          },
          "color": "black",
          "thickness": 1,
          "type": "data",
          "visible": true,
          "width": 4
         },
         "hovertemplate": "Env: mastermind<br>Word Limit: None<br>Model: deepseek/deepseek-r1 (belief)<br>Success Rate: {y:.2f}%<br>SEM: 7.64%<br>N: 40",
         "marker": {
          "color": "#FFB6C1"
         },
         "name": "deepseek/deepseek-r1 (belief)",
         "showlegend": false,
         "type": "bar",
         "width": 0.8,
         "x": [
          "deepseek/deepseek-r1 (belief)"
         ],
         "xaxis": "x3",
         "y": {
          "bdata": "AAAAAACAQUA=",
          "dtype": "f8"
         },
         "yaxis": "y3"
        },
        {
         "error_y": {
          "array": {
           "bdata": "aCzJDxtaHUA=",
           "dtype": "f8"
          },
          "color": "black",
          "thickness": 1,
          "type": "data",
          "visible": true,
          "width": 4
         },
         "hovertemplate": "Env: mastermind<br>Word Limit: None<br>Model: deepseek/deepseek-r1 (history)<br>Success Rate: {y:.2f}%<br>SEM: 7.34%<br>N: 40",
         "marker": {
          "color": "#FF6347"
         },
         "name": "deepseek/deepseek-r1 (history)",
         "showlegend": false,
         "type": "bar",
         "width": 0.8,
         "x": [
          "deepseek/deepseek-r1 (history)"
         ],
         "xaxis": "x3",
         "y": {
          "bdata": "AAAAAACAUUA=",
          "dtype": "f8"
         },
         "yaxis": "y3"
        },
        {
         "error_y": {
          "array": {
           "bdata": "N65djk78H0A=",
           "dtype": "f8"
          },
          "color": "black",
          "thickness": 1,
          "type": "data",
          "visible": true,
          "width": 4
         },
         "hovertemplate": "Env: mastermind<br>Word Limit: None<br>Model: deepseek/deepseek-r1 (both)<br>Success Rate: {y:.2f}%<br>SEM: 8.00%<br>N: 40",
         "marker": {
          "color": "#8B0000"
         },
         "name": "deepseek/deepseek-r1 (both)",
         "showlegend": false,
         "type": "bar",
         "width": 0.8,
         "x": [
          "deepseek/deepseek-r1 (both)"
         ],
         "xaxis": "x3",
         "y": {
          "bdata": "AAAAAABASkA=",
          "dtype": "f8"
         },
         "yaxis": "y3"
        },
        {
         "error_y": {
          "array": {
           "bdata": "AAAAAAAABEA=",
           "dtype": "f8"
          },
          "color": "black",
          "thickness": 1,
          "type": "data",
          "visible": true,
          "width": 4
         },
         "hovertemplate": "Env: mastermind<br>Word Limit: None<br>Model: google/gemini-2.5-pro (belief)<br>Success Rate: {y:.2f}%<br>SEM: 2.50%<br>N: 40",
         "marker": {
          "color": "#90EE90"
         },
         "name": "google/gemini-2.5-pro (belief)",
         "showlegend": false,
         "type": "bar",
         "width": 0.8,
         "x": [
          "google/gemini-2.5-pro (belief)"
         ],
         "xaxis": "x3",
         "y": {
          "bdata": "AAAAAABgWEA=",
          "dtype": "f8"
         },
         "yaxis": "y3"
        },
        {
         "error_y": {
          "array": {
           "bdata": "AAAAAAAAAAA=",
           "dtype": "f8"
          },
          "color": "black",
          "thickness": 1,
          "type": "data",
          "visible": true,
          "width": 4
         },
         "hovertemplate": "Env: mastermind<br>Word Limit: None<br>Model: google/gemini-2.5-pro (history)<br>Success Rate: {y:.2f}%<br>SEM: 0.00%<br>N: 40",
         "marker": {
          "color": "#32CD32"
         },
         "name": "google/gemini-2.5-pro (history)",
         "showlegend": false,
         "type": "bar",
         "width": 0.8,
         "x": [
          "google/gemini-2.5-pro (history)"
         ],
         "xaxis": "x3",
         "y": {
          "bdata": "AAAAAAAAWUA=",
          "dtype": "f8"
         },
         "yaxis": "y3"
        },
        {
         "error_y": {
          "array": {
           "bdata": "AAAAAAAABEA=",
           "dtype": "f8"
          },
          "color": "black",
          "thickness": 1,
          "type": "data",
          "visible": true,
          "width": 4
         },
         "hovertemplate": "Env: mastermind<br>Word Limit: None<br>Model: google/gemini-2.5-pro (both)<br>Success Rate: {y:.2f}%<br>SEM: 2.50%<br>N: 40",
         "marker": {
          "color": "#006400"
         },
         "name": "google/gemini-2.5-pro (both)",
         "showlegend": false,
         "type": "bar",
         "width": 0.8,
         "x": [
          "google/gemini-2.5-pro (both)"
         ],
         "xaxis": "x3",
         "y": {
          "bdata": "AAAAAABgWEA=",
          "dtype": "f8"
         },
         "yaxis": "y3"
        },
        {
         "error_y": {
          "array": {
           "bdata": "2zIj3+2MHkA=",
           "dtype": "f8"
          },
          "color": "black",
          "thickness": 1,
          "type": "data",
          "visible": true,
          "width": 4
         },
         "hovertemplate": "Env: murder_mystery<br>Word Limit: None<br>Model: deepseek/deepseek-chat (belief)<br>Success Rate: {y:.2f}%<br>SEM: 7.64%<br>N: 40",
         "marker": {
          "color": "#ADD8E6"
         },
         "name": "deepseek/deepseek-chat (belief)",
         "showlegend": false,
         "type": "bar",
         "width": 0.8,
         "x": [
          "deepseek/deepseek-chat (belief)"
         ],
         "xaxis": "x4",
         "y": {
          "bdata": "AAAAAACAQUA=",
          "dtype": "f8"
         },
         "yaxis": "y4"
        },
        {
         "error_y": {
          "array": {
           "bdata": "SrExFSa/GkA=",
           "dtype": "f8"
          },
          "color": "black",
          "thickness": 1,
          "type": "data",
          "visible": true,
          "width": 4
         },
         "hovertemplate": "Env: murder_mystery<br>Word Limit: None<br>Model: deepseek/deepseek-chat (history)<br>Success Rate: {y:.2f}%<br>SEM: 6.69%<br>N: 40",
         "marker": {
          "color": "#4682B4"
         },
         "name": "deepseek/deepseek-chat (history)",
         "showlegend": false,
         "type": "bar",
         "width": 0.8,
         "x": [
          "deepseek/deepseek-chat (history)"
         ],
         "xaxis": "x4",
         "y": {
          "bdata": "AAAAAABgU0A=",
          "dtype": "f8"
         },
         "yaxis": "y4"
        },
        {
         "error_y": {
          "array": {
           "bdata": "BBd5rIyZHEA=",
           "dtype": "f8"
          },
          "color": "black",
          "thickness": 1,
          "type": "data",
          "visible": true,
          "width": 4
         },
         "hovertemplate": "Env: murder_mystery<br>Word Limit: None<br>Model: deepseek/deepseek-chat (both)<br>Success Rate: {y:.2f}%<br>SEM: 7.15%<br>N: 40",
         "marker": {
          "color": "#003366"
         },
         "name": "deepseek/deepseek-chat (both)",
         "showlegend": false,
         "type": "bar",
         "width": 0.8,
         "x": [
          "deepseek/deepseek-chat (both)"
         ],
         "xaxis": "x4",
         "y": {
          "bdata": "AAAAAAAgUkA=",
          "dtype": "f8"
         },
         "yaxis": "y4"
        },
        {
         "error_y": {
          "array": {
           "bdata": "dMuQtNYuFUA=",
           "dtype": "f8"
          },
          "color": "black",
          "thickness": 1,
          "type": "data",
          "visible": true,
          "width": 4
         },
         "hovertemplate": "Env: murder_mystery<br>Word Limit: None<br>Model: deepseek/deepseek-r1 (belief)<br>Success Rate: {y:.2f}%<br>SEM: 5.30%<br>N: 40",
         "marker": {
          "color": "#FFB6C1"
         },
         "name": "deepseek/deepseek-r1 (belief)",
         "showlegend": false,
         "type": "bar",
         "width": 0.8,
         "x": [
          "deepseek/deepseek-r1 (belief)"
         ],
         "xaxis": "x4",
         "y": {
          "bdata": "AAAAAAAAKUA=",
          "dtype": "f8"
         },
         "yaxis": "y4"
        },
        {
         "error_y": {
          "array": {
           "bdata": "pmfjCiM3E0A=",
           "dtype": "f8"
          },
          "color": "black",
          "thickness": 1,
          "type": "data",
          "visible": true,
          "width": 4
         },
         "hovertemplate": "Env: murder_mystery<br>Word Limit: None<br>Model: deepseek/deepseek-r1 (history)<br>Success Rate: {y:.2f}%<br>SEM: 4.80%<br>N: 40",
         "marker": {
          "color": "#FF6347"
         },
         "name": "deepseek/deepseek-r1 (history)",
         "showlegend": false,
         "type": "bar",
         "width": 0.8,
         "x": [
          "deepseek/deepseek-r1 (history)"
         ],
         "xaxis": "x4",
         "y": {
          "bdata": "AAAAAACAVkA=",
          "dtype": "f8"
         },
         "yaxis": "y4"
        },
        {
         "error_y": {
          "array": {
           "bdata": "kbJbjM2pH0A=",
           "dtype": "f8"
          },
          "color": "black",
          "thickness": 1,
          "type": "data",
          "visible": true,
          "width": 4
         },
         "hovertemplate": "Env: murder_mystery<br>Word Limit: None<br>Model: deepseek/deepseek-r1 (both)<br>Success Rate: {y:.2f}%<br>SEM: 7.92%<br>N: 40",
         "marker": {
          "color": "#8B0000"
         },
         "name": "deepseek/deepseek-r1 (both)",
         "showlegend": false,
         "type": "bar",
         "width": 0.8,
         "x": [
          "deepseek/deepseek-r1 (both)"
         ],
         "xaxis": "x4",
         "y": {
          "bdata": "AAAAAABARUA=",
          "dtype": "f8"
         },
         "yaxis": "y4"
        },
        {
         "error_y": {
          "array": {
           "bdata": "pmfjCiM3E0A=",
           "dtype": "f8"
          },
          "color": "black",
          "thickness": 1,
          "type": "data",
          "visible": true,
          "width": 4
         },
         "hovertemplate": "Env: murder_mystery<br>Word Limit: None<br>Model: google/gemini-2.5-pro (belief)<br>Success Rate: {y:.2f}%<br>SEM: 4.80%<br>N: 40",
         "marker": {
          "color": "#90EE90"
         },
         "name": "google/gemini-2.5-pro (belief)",
         "showlegend": false,
         "type": "bar",
         "width": 0.8,
         "x": [
          "google/gemini-2.5-pro (belief)"
         ],
         "xaxis": "x4",
         "y": {
          "bdata": "AAAAAACAVkA=",
          "dtype": "f8"
         },
         "yaxis": "y4"
        },
        {
         "error_y": {
          "array": {
           "bdata": "h9/ZY9meGUA=",
           "dtype": "f8"
          },
          "color": "black",
          "thickness": 1,
          "type": "data",
          "visible": true,
          "width": 4
         },
         "hovertemplate": "Env: murder_mystery<br>Word Limit: None<br>Model: google/gemini-2.5-pro (history)<br>Success Rate: {y:.2f}%<br>SEM: 6.41%<br>N: 40",
         "marker": {
          "color": "#32CD32"
         },
         "name": "google/gemini-2.5-pro (history)",
         "showlegend": false,
         "type": "bar",
         "width": 0.8,
         "x": [
          "google/gemini-2.5-pro (history)"
         ],
         "xaxis": "x4",
         "y": {
          "bdata": "AAAAAAAAVEA=",
          "dtype": "f8"
         },
         "yaxis": "y4"
        },
        {
         "error_y": {
          "array": {
           "bdata": "hN/ZY9meGUA=",
           "dtype": "f8"
          },
          "color": "black",
          "thickness": 1,
          "type": "data",
          "visible": true,
          "width": 4
         },
         "hovertemplate": "Env: murder_mystery<br>Word Limit: None<br>Model: google/gemini-2.5-pro (both)<br>Success Rate: {y:.2f}%<br>SEM: 6.41%<br>N: 40",
         "marker": {
          "color": "#006400"
         },
         "name": "google/gemini-2.5-pro (both)",
         "showlegend": false,
         "type": "bar",
         "width": 0.8,
         "x": [
          "google/gemini-2.5-pro (both)"
         ],
         "xaxis": "x4",
         "y": {
          "bdata": "AAAAAAAAVEA=",
          "dtype": "f8"
         },
         "yaxis": "y4"
        },
        {
         "error_y": {
          "array": {
           "bdata": "3jIj3+2MHkA=",
           "dtype": "f8"
          },
          "color": "black",
          "thickness": 1,
          "type": "data",
          "visible": true,
          "width": 4
         },
         "hovertemplate": "Env: twenty_questions<br>Word Limit: None<br>Model: deepseek/deepseek-chat (belief)<br>Success Rate: {y:.2f}%<br>SEM: 7.64%<br>N: 40",
         "marker": {
          "color": "#ADD8E6"
         },
         "name": "deepseek/deepseek-chat (belief)",
         "showlegend": false,
         "type": "bar",
         "width": 0.8,
         "x": [
          "deepseek/deepseek-chat (belief)"
         ],
         "xaxis": "x5",
         "y": {
          "bdata": "AAAAAACAQUA=",
          "dtype": "f8"
         },
         "yaxis": "y5"
        },
        {
         "error_y": {
          "array": {
           "bdata": "Oq5djk78H0A=",
           "dtype": "f8"
          },
          "color": "black",
          "thickness": 1,
          "type": "data",
          "visible": true,
          "width": 4
         },
         "hovertemplate": "Env: twenty_questions<br>Word Limit: None<br>Model: deepseek/deepseek-chat (history)<br>Success Rate: {y:.2f}%<br>SEM: 8.00%<br>N: 40",
         "marker": {
          "color": "#4682B4"
         },
         "name": "deepseek/deepseek-chat (history)",
         "showlegend": false,
         "type": "bar",
         "width": 0.8,
         "x": [
          "deepseek/deepseek-chat (history)"
         ],
         "xaxis": "x5",
         "y": {
          "bdata": "AAAAAADAR0A=",
          "dtype": "f8"
         },
         "yaxis": "y5"
        },
        {
         "error_y": {
          "array": {
           "bdata": "N65djk78H0A=",
           "dtype": "f8"
          },
          "color": "black",
          "thickness": 1,
          "type": "data",
          "visible": true,
          "width": 4
         },
         "hovertemplate": "Env: twenty_questions<br>Word Limit: None<br>Model: deepseek/deepseek-chat (both)<br>Success Rate: {y:.2f}%<br>SEM: 8.00%<br>N: 40",
         "marker": {
          "color": "#003366"
         },
         "name": "deepseek/deepseek-chat (both)",
         "showlegend": false,
         "type": "bar",
         "width": 0.8,
         "x": [
          "deepseek/deepseek-chat (both)"
         ],
         "xaxis": "x5",
         "y": {
          "bdata": "AAAAAADAR0A=",
          "dtype": "f8"
         },
         "yaxis": "y5"
        },
        {
         "error_y": {
          "array": {
           "bdata": "o9OluepgH0A=",
           "dtype": "f8"
          },
          "color": "black",
          "thickness": 1,
          "type": "data",
          "visible": true,
          "width": 4
         },
         "hovertemplate": "Env: twenty_questions<br>Word Limit: None<br>Model: deepseek/deepseek-r1 (belief)<br>Success Rate: {y:.2f}%<br>SEM: 7.84%<br>N: 40",
         "marker": {
          "color": "#FFB6C1"
         },
         "name": "deepseek/deepseek-r1 (belief)",
         "showlegend": false,
         "type": "bar",
         "width": 0.8,
         "x": [
          "deepseek/deepseek-r1 (belief)"
         ],
         "xaxis": "x5",
         "y": {
          "bdata": "AAAAAAAAREA=",
          "dtype": "f8"
         },
         "yaxis": "y5"
        },
        {
         "error_y": {
          "array": {
           "bdata": "odOluepgH0A=",
           "dtype": "f8"
          },
          "color": "black",
          "thickness": 1,
          "type": "data",
          "visible": true,
          "width": 4
         },
         "hovertemplate": "Env: twenty_questions<br>Word Limit: None<br>Model: deepseek/deepseek-r1 (history)<br>Success Rate: {y:.2f}%<br>SEM: 7.84%<br>N: 40",
         "marker": {
          "color": "#FF6347"
         },
         "name": "deepseek/deepseek-r1 (history)",
         "showlegend": false,
         "type": "bar",
         "width": 0.8,
         "x": [
          "deepseek/deepseek-r1 (history)"
         ],
         "xaxis": "x5",
         "y": {
          "bdata": "AAAAAAAATkA=",
          "dtype": "f8"
         },
         "yaxis": "y5"
        },
        {
         "error_y": {
          "array": {
           "bdata": "TLIiNnfdH0A=",
           "dtype": "f8"
          },
          "color": "black",
          "thickness": 1,
          "type": "data",
          "visible": true,
          "width": 4
         },
         "hovertemplate": "Env: twenty_questions<br>Word Limit: None<br>Model: deepseek/deepseek-r1 (both)<br>Success Rate: {y:.2f}%<br>SEM: 7.97%<br>N: 40",
         "marker": {
          "color": "#8B0000"
         },
         "name": "deepseek/deepseek-r1 (both)",
         "showlegend": false,
         "type": "bar",
         "width": 0.8,
         "x": [
          "deepseek/deepseek-r1 (both)"
         ],
         "xaxis": "x5",
         "y": {
          "bdata": "AAAAAACARkA=",
          "dtype": "f8"
         },
         "yaxis": "y5"
        },
        {
         "error_y": {
          "array": {
           "bdata": "Oq5djk78H0A=",
           "dtype": "f8"
          },
          "color": "black",
          "thickness": 1,
          "type": "data",
          "visible": true,
          "width": 4
         },
         "hovertemplate": "Env: twenty_questions<br>Word Limit: None<br>Model: google/gemini-2.5-pro (belief)<br>Success Rate: {y:.2f}%<br>SEM: 8.00%<br>N: 40",
         "marker": {
          "color": "#90EE90"
         },
         "name": "google/gemini-2.5-pro (belief)",
         "showlegend": false,
         "type": "bar",
         "width": 0.8,
         "x": [
          "google/gemini-2.5-pro (belief)"
         ],
         "xaxis": "x5",
         "y": {
          "bdata": "AAAAAABASkA=",
          "dtype": "f8"
         },
         "yaxis": "y5"
        },
        {
         "error_y": {
          "array": {
           "bdata": "LixtFzkCH0A=",
           "dtype": "f8"
          },
          "color": "black",
          "thickness": 1,
          "type": "data",
          "visible": true,
          "width": 4
         },
         "hovertemplate": "Env: twenty_questions<br>Word Limit: None<br>Model: google/gemini-2.5-pro (history)<br>Success Rate: {y:.2f}%<br>SEM: 7.75%<br>N: 40",
         "marker": {
          "color": "#32CD32"
         },
         "name": "google/gemini-2.5-pro (history)",
         "showlegend": false,
         "type": "bar",
         "width": 0.8,
         "x": [
          "google/gemini-2.5-pro (history)"
         ],
         "xaxis": "x5",
         "y": {
          "bdata": "AAAAAABAT0A=",
          "dtype": "f8"
         },
         "yaxis": "y5"
        },
        {
         "error_y": {
          "array": {
           "bdata": "aZtdmim8G0A=",
           "dtype": "f8"
          },
          "color": "black",
          "thickness": 1,
          "type": "data",
          "visible": true,
          "width": 4
         },
         "hovertemplate": "Env: twenty_questions<br>Word Limit: None<br>Model: google/gemini-2.5-pro (both)<br>Success Rate: {y:.2f}%<br>SEM: 6.93%<br>N: 40",
         "marker": {
          "color": "#006400"
         },
         "name": "google/gemini-2.5-pro (both)",
         "showlegend": false,
         "type": "bar",
         "width": 0.8,
         "x": [
          "google/gemini-2.5-pro (both)"
         ],
         "xaxis": "x5",
         "y": {
          "bdata": "AAAAAADAUkA=",
          "dtype": "f8"
         },
         "yaxis": "y5"
        },
        {
         "error_y": {
          "array": {
           "bdata": "AAAAAAAAHkA=",
           "dtype": "f8"
          },
          "color": "black",
          "thickness": 1,
          "type": "data",
          "visible": true,
          "width": 4
         },
         "hovertemplate": "Env: wordle<br>Word Limit: None<br>Model: deepseek/deepseek-chat (belief)<br>Success Rate: {y:.2f}%<br>SEM: 7.50%<br>N: 40",
         "marker": {
          "color": "#ADD8E6"
         },
         "name": "deepseek/deepseek-chat (belief)",
         "showlegend": false,
         "type": "bar",
         "width": 0.8,
         "x": [
          "deepseek/deepseek-chat (belief)"
         ],
         "xaxis": "x6",
         "y": {
          "bdata": "AAAAAABAQEA=",
          "dtype": "f8"
         },
         "yaxis": "y6"
        },
        {
         "error_y": {
          "array": {
           "bdata": "N65djk78H0A=",
           "dtype": "f8"
          },
          "color": "black",
          "thickness": 1,
          "type": "data",
          "visible": true,
          "width": 4
         },
         "hovertemplate": "Env: wordle<br>Word Limit: None<br>Model: deepseek/deepseek-chat (history)<br>Success Rate: {y:.2f}%<br>SEM: 8.00%<br>N: 40",
         "marker": {
          "color": "#4682B4"
         },
         "name": "deepseek/deepseek-chat (history)",
         "showlegend": false,
         "type": "bar",
         "width": 0.8,
         "x": [
          "deepseek/deepseek-chat (history)"
         ],
         "xaxis": "x6",
         "y": {
          "bdata": "AAAAAABASkA=",
          "dtype": "f8"
         },
         "yaxis": "y6"
        },
        {
         "error_y": {
          "array": {
           "bdata": "kbJbjM2pH0A=",
           "dtype": "f8"
          },
          "color": "black",
          "thickness": 1,
          "type": "data",
          "visible": true,
          "width": 4
         },
         "hovertemplate": "Env: wordle<br>Word Limit: None<br>Model: deepseek/deepseek-chat (both)<br>Success Rate: {y:.2f}%<br>SEM: 7.92%<br>N: 40",
         "marker": {
          "color": "#003366"
         },
         "name": "deepseek/deepseek-chat (both)",
         "showlegend": false,
         "type": "bar",
         "width": 0.8,
         "x": [
          "deepseek/deepseek-chat (both)"
         ],
         "xaxis": "x6",
         "y": {
          "bdata": "AAAAAABARUA=",
          "dtype": "f8"
         },
         "yaxis": "y6"
        },
        {
         "error_y": {
          "array": {
           "bdata": "hi/qqfHeFkA=",
           "dtype": "f8"
          },
          "color": "black",
          "thickness": 1,
          "type": "data",
          "visible": true,
          "width": 4
         },
         "hovertemplate": "Env: wordle<br>Word Limit: None<br>Model: deepseek/deepseek-r1 (belief)<br>Success Rate: {y:.2f}%<br>SEM: 5.72%<br>N: 40",
         "marker": {
          "color": "#FFB6C1"
         },
         "name": "deepseek/deepseek-r1 (belief)",
         "showlegend": false,
         "type": "bar",
         "width": 0.8,
         "x": [
          "deepseek/deepseek-r1 (belief)"
         ],
         "xaxis": "x6",
         "y": {
          "bdata": "AAAAAABAVUA=",
          "dtype": "f8"
         },
         "yaxis": "y6"
        },
        {
         "error_y": {
          "array": {
           "bdata": "pmfjCiM3E0A=",
           "dtype": "f8"
          },
          "color": "black",
          "thickness": 1,
          "type": "data",
          "visible": true,
          "width": 4
         },
         "hovertemplate": "Env: wordle<br>Word Limit: None<br>Model: deepseek/deepseek-r1 (history)<br>Success Rate: {y:.2f}%<br>SEM: 4.80%<br>N: 40",
         "marker": {
          "color": "#FF6347"
         },
         "name": "deepseek/deepseek-r1 (history)",
         "showlegend": false,
         "type": "bar",
         "width": 0.8,
         "x": [
          "deepseek/deepseek-r1 (history)"
         ],
         "xaxis": "x6",
         "y": {
          "bdata": "AAAAAACAVkA=",
          "dtype": "f8"
         },
         "yaxis": "y6"
        },
        {
         "error_y": {
          "array": {
           "bdata": "B1aVCF5WGEA=",
           "dtype": "f8"
          },
          "color": "black",
          "thickness": 1,
          "type": "data",
          "visible": true,
          "width": 4
         },
         "hovertemplate": "Env: wordle<br>Word Limit: None<br>Model: deepseek/deepseek-r1 (both)<br>Success Rate: {y:.2f}%<br>SEM: 6.08%<br>N: 40",
         "marker": {
          "color": "#8B0000"
         },
         "name": "deepseek/deepseek-r1 (both)",
         "showlegend": false,
         "type": "bar",
         "width": 0.8,
         "x": [
          "deepseek/deepseek-r1 (both)"
         ],
         "xaxis": "x6",
         "y": {
          "bdata": "AAAAAACgVEA=",
          "dtype": "f8"
         },
         "yaxis": "y6"
        },
        {
         "error_y": {
          "array": {
           "bdata": "h9/ZY9meGUA=",
           "dtype": "f8"
          },
          "color": "black",
          "thickness": 1,
          "type": "data",
          "visible": true,
          "width": 4
         },
         "hovertemplate": "Env: wordle<br>Word Limit: None<br>Model: google/gemini-2.5-pro (belief)<br>Success Rate: {y:.2f}%<br>SEM: 6.41%<br>N: 40",
         "marker": {
          "color": "#90EE90"
         },
         "name": "google/gemini-2.5-pro (belief)",
         "showlegend": false,
         "type": "bar",
         "width": 0.8,
         "x": [
          "google/gemini-2.5-pro (belief)"
         ],
         "xaxis": "x6",
         "y": {
          "bdata": "AAAAAAAAVEA=",
          "dtype": "f8"
         },
         "yaxis": "y6"
        },
        {
         "error_y": {
          "array": {
           "bdata": "AAAAAAAABEA=",
           "dtype": "f8"
          },
          "color": "black",
          "thickness": 1,
          "type": "data",
          "visible": true,
          "width": 4
         },
         "hovertemplate": "Env: wordle<br>Word Limit: None<br>Model: google/gemini-2.5-pro (history)<br>Success Rate: {y:.2f}%<br>SEM: 2.50%<br>N: 40",
         "marker": {
          "color": "#32CD32"
         },
         "name": "google/gemini-2.5-pro (history)",
         "showlegend": false,
         "type": "bar",
         "width": 0.8,
         "x": [
          "google/gemini-2.5-pro (history)"
         ],
         "xaxis": "x6",
         "y": {
          "bdata": "AAAAAABgWEA=",
          "dtype": "f8"
         },
         "yaxis": "y6"
        },
        {
         "error_y": {
          "array": {
           "bdata": "s/a0FlfrC0A=",
           "dtype": "f8"
          },
          "color": "black",
          "thickness": 1,
          "type": "data",
          "visible": true,
          "width": 4
         },
         "hovertemplate": "Env: wordle<br>Word Limit: None<br>Model: google/gemini-2.5-pro (both)<br>Success Rate: {y:.2f}%<br>SEM: 3.49%<br>N: 40",
         "marker": {
          "color": "#006400"
         },
         "name": "google/gemini-2.5-pro (both)",
         "showlegend": false,
         "type": "bar",
         "width": 0.8,
         "x": [
          "google/gemini-2.5-pro (both)"
         ],
         "xaxis": "x6",
         "y": {
          "bdata": "AAAAAADAV0A=",
          "dtype": "f8"
         },
         "yaxis": "y6"
        }
       ],
       "layout": {
        "annotations": [
         {
          "font": {
           "size": 16
          },
          "showarrow": false,
          "text": "customer_service",
          "x": 0.07083333333333333,
          "xanchor": "center",
          "xref": "paper",
          "y": 1,
          "yanchor": "bottom",
          "yref": "paper"
         },
         {
          "font": {
           "size": 16
          },
          "showarrow": false,
          "text": "guess_my_city",
          "x": 0.2425,
          "xanchor": "center",
          "xref": "paper",
          "y": 1,
          "yanchor": "bottom",
          "yref": "paper"
         },
         {
          "font": {
           "size": 16
          },
          "showarrow": false,
          "text": "mastermind",
          "x": 0.4141666666666667,
          "xanchor": "center",
          "xref": "paper",
          "y": 1,
          "yanchor": "bottom",
          "yref": "paper"
         },
         {
          "font": {
           "size": 16
          },
          "showarrow": false,
          "text": "murder_mystery",
          "x": 0.5858333333333334,
          "xanchor": "center",
          "xref": "paper",
          "y": 1,
          "yanchor": "bottom",
          "yref": "paper"
         },
         {
          "font": {
           "size": 16
          },
          "showarrow": false,
          "text": "twenty_questions",
          "x": 0.7575000000000001,
          "xanchor": "center",
          "xref": "paper",
          "y": 1,
          "yanchor": "bottom",
          "yref": "paper"
         },
         {
          "font": {
           "size": 16
          },
          "showarrow": false,
          "text": "wordle",
          "x": 0.9291666666666667,
          "xanchor": "center",
          "xref": "paper",
          "y": 1,
          "yanchor": "bottom",
          "yref": "paper"
         }
        ],
        "barmode": "group",
        "font": {
         "family": "Computer Modern, serif",
         "size": 16
        },
        "height": 350,
        "legend": {
         "bgcolor": "rgba(255,255,255,0.9)",
         "bordercolor": "black",
         "borderwidth": 1,
         "orientation": "h",
         "title": {
          "text": "Models"
         },
         "x": 0.5,
         "xanchor": "center",
         "y": 1.18,
         "yanchor": "bottom"
        },
        "margin": {
         "b": 50,
         "l": 80,
         "r": 20,
         "t": 100
        },
        "plot_bgcolor": "white",
        "showlegend": true,
        "template": {
         "data": {
          "bar": [
           {
            "error_x": {
             "color": "rgb(36,36,36)"
            },
            "error_y": {
             "color": "rgb(36,36,36)"
            },
            "marker": {
             "line": {
              "color": "white",
              "width": 0.5
             },
             "pattern": {
              "fillmode": "overlay",
              "size": 10,
              "solidity": 0.2
             }
            },
            "type": "bar"
           }
          ],
          "barpolar": [
           {
            "marker": {
             "line": {
              "color": "white",
              "width": 0.5
             },
             "pattern": {
              "fillmode": "overlay",
              "size": 10,
              "solidity": 0.2
             }
            },
            "type": "barpolar"
           }
          ],
          "carpet": [
           {
            "aaxis": {
             "endlinecolor": "rgb(36,36,36)",
             "gridcolor": "white",
             "linecolor": "white",
             "minorgridcolor": "white",
             "startlinecolor": "rgb(36,36,36)"
            },
            "baxis": {
             "endlinecolor": "rgb(36,36,36)",
             "gridcolor": "white",
             "linecolor": "white",
             "minorgridcolor": "white",
             "startlinecolor": "rgb(36,36,36)"
            },
            "type": "carpet"
           }
          ],
          "choropleth": [
           {
            "colorbar": {
             "outlinewidth": 1,
             "tickcolor": "rgb(36,36,36)",
             "ticks": "outside"
            },
            "type": "choropleth"
           }
          ],
          "contour": [
           {
            "colorbar": {
             "outlinewidth": 1,
             "tickcolor": "rgb(36,36,36)",
             "ticks": "outside"
            },
            "colorscale": [
             [
              0,
              "#440154"
             ],
             [
              0.1111111111111111,
              "#482878"
             ],
             [
              0.2222222222222222,
              "#3e4989"
             ],
             [
              0.3333333333333333,
              "#31688e"
             ],
             [
              0.4444444444444444,
              "#26828e"
             ],
             [
              0.5555555555555556,
              "#1f9e89"
             ],
             [
              0.6666666666666666,
              "#35b779"
             ],
             [
              0.7777777777777778,
              "#6ece58"
             ],
             [
              0.8888888888888888,
              "#b5de2b"
             ],
             [
              1,
              "#fde725"
             ]
            ],
            "type": "contour"
           }
          ],
          "contourcarpet": [
           {
            "colorbar": {
             "outlinewidth": 1,
             "tickcolor": "rgb(36,36,36)",
             "ticks": "outside"
            },
            "type": "contourcarpet"
           }
          ],
          "heatmap": [
           {
            "colorbar": {
             "outlinewidth": 1,
             "tickcolor": "rgb(36,36,36)",
             "ticks": "outside"
            },
            "colorscale": [
             [
              0,
              "#440154"
             ],
             [
              0.1111111111111111,
              "#482878"
             ],
             [
              0.2222222222222222,
              "#3e4989"
             ],
             [
              0.3333333333333333,
              "#31688e"
             ],
             [
              0.4444444444444444,
              "#26828e"
             ],
             [
              0.5555555555555556,
              "#1f9e89"
             ],
             [
              0.6666666666666666,
              "#35b779"
             ],
             [
              0.7777777777777778,
              "#6ece58"
             ],
             [
              0.8888888888888888,
              "#b5de2b"
             ],
             [
              1,
              "#fde725"
             ]
            ],
            "type": "heatmap"
           }
          ],
          "histogram": [
           {
            "marker": {
             "line": {
              "color": "white",
              "width": 0.6
             }
            },
            "type": "histogram"
           }
          ],
          "histogram2d": [
           {
            "colorbar": {
             "outlinewidth": 1,
             "tickcolor": "rgb(36,36,36)",
             "ticks": "outside"
            },
            "colorscale": [
             [
              0,
              "#440154"
             ],
             [
              0.1111111111111111,
              "#482878"
             ],
             [
              0.2222222222222222,
              "#3e4989"
             ],
             [
              0.3333333333333333,
              "#31688e"
             ],
             [
              0.4444444444444444,
              "#26828e"
             ],
             [
              0.5555555555555556,
              "#1f9e89"
             ],
             [
              0.6666666666666666,
              "#35b779"
             ],
             [
              0.7777777777777778,
              "#6ece58"
             ],
             [
              0.8888888888888888,
              "#b5de2b"
             ],
             [
              1,
              "#fde725"
             ]
            ],
            "type": "histogram2d"
           }
          ],
          "histogram2dcontour": [
           {
            "colorbar": {
             "outlinewidth": 1,
             "tickcolor": "rgb(36,36,36)",
             "ticks": "outside"
            },
            "colorscale": [
             [
              0,
              "#440154"
             ],
             [
              0.1111111111111111,
              "#482878"
             ],
             [
              0.2222222222222222,
              "#3e4989"
             ],
             [
              0.3333333333333333,
              "#31688e"
             ],
             [
              0.4444444444444444,
              "#26828e"
             ],
             [
              0.5555555555555556,
              "#1f9e89"
             ],
             [
              0.6666666666666666,
              "#35b779"
             ],
             [
              0.7777777777777778,
              "#6ece58"
             ],
             [
              0.8888888888888888,
              "#b5de2b"
             ],
             [
              1,
              "#fde725"
             ]
            ],
            "type": "histogram2dcontour"
           }
          ],
          "mesh3d": [
           {
            "colorbar": {
             "outlinewidth": 1,
             "tickcolor": "rgb(36,36,36)",
             "ticks": "outside"
            },
            "type": "mesh3d"
           }
          ],
          "parcoords": [
           {
            "line": {
             "colorbar": {
              "outlinewidth": 1,
              "tickcolor": "rgb(36,36,36)",
              "ticks": "outside"
             }
            },
            "type": "parcoords"
           }
          ],
          "pie": [
           {
            "automargin": true,
            "type": "pie"
           }
          ],
          "scatter": [
           {
            "fillpattern": {
             "fillmode": "overlay",
             "size": 10,
             "solidity": 0.2
            },
            "type": "scatter"
           }
          ],
          "scatter3d": [
           {
            "line": {
             "colorbar": {
              "outlinewidth": 1,
              "tickcolor": "rgb(36,36,36)",
              "ticks": "outside"
             }
            },
            "marker": {
             "colorbar": {
              "outlinewidth": 1,
              "tickcolor": "rgb(36,36,36)",
              "ticks": "outside"
             }
            },
            "type": "scatter3d"
           }
          ],
          "scattercarpet": [
           {
            "marker": {
             "colorbar": {
              "outlinewidth": 1,
              "tickcolor": "rgb(36,36,36)",
              "ticks": "outside"
             }
            },
            "type": "scattercarpet"
           }
          ],
          "scattergeo": [
           {
            "marker": {
             "colorbar": {
              "outlinewidth": 1,
              "tickcolor": "rgb(36,36,36)",
              "ticks": "outside"
             }
            },
            "type": "scattergeo"
           }
          ],
          "scattergl": [
           {
            "marker": {
             "colorbar": {
              "outlinewidth": 1,
              "tickcolor": "rgb(36,36,36)",
              "ticks": "outside"
             }
            },
            "type": "scattergl"
           }
          ],
          "scattermap": [
           {
            "marker": {
             "colorbar": {
              "outlinewidth": 1,
              "tickcolor": "rgb(36,36,36)",
              "ticks": "outside"
             }
            },
            "type": "scattermap"
           }
          ],
          "scattermapbox": [
           {
            "marker": {
             "colorbar": {
              "outlinewidth": 1,
              "tickcolor": "rgb(36,36,36)",
              "ticks": "outside"
             }
            },
            "type": "scattermapbox"
           }
          ],
          "scatterpolar": [
           {
            "marker": {
             "colorbar": {
              "outlinewidth": 1,
              "tickcolor": "rgb(36,36,36)",
              "ticks": "outside"
             }
            },
            "type": "scatterpolar"
           }
          ],
          "scatterpolargl": [
           {
            "marker": {
             "colorbar": {
              "outlinewidth": 1,
              "tickcolor": "rgb(36,36,36)",
              "ticks": "outside"
             }
            },
            "type": "scatterpolargl"
           }
          ],
          "scatterternary": [
           {
            "marker": {
             "colorbar": {
              "outlinewidth": 1,
              "tickcolor": "rgb(36,36,36)",
              "ticks": "outside"
             }
            },
            "type": "scatterternary"
           }
          ],
          "surface": [
           {
            "colorbar": {
             "outlinewidth": 1,
             "tickcolor": "rgb(36,36,36)",
             "ticks": "outside"
            },
            "colorscale": [
             [
              0,
              "#440154"
             ],
             [
              0.1111111111111111,
              "#482878"
             ],
             [
              0.2222222222222222,
              "#3e4989"
             ],
             [
              0.3333333333333333,
              "#31688e"
             ],
             [
              0.4444444444444444,
              "#26828e"
             ],
             [
              0.5555555555555556,
              "#1f9e89"
             ],
             [
              0.6666666666666666,
              "#35b779"
             ],
             [
              0.7777777777777778,
              "#6ece58"
             ],
             [
              0.8888888888888888,
              "#b5de2b"
             ],
             [
              1,
              "#fde725"
             ]
            ],
            "type": "surface"
           }
          ],
          "table": [
           {
            "cells": {
             "fill": {
              "color": "rgb(237,237,237)"
             },
             "line": {
              "color": "white"
             }
            },
            "header": {
             "fill": {
              "color": "rgb(217,217,217)"
             },
             "line": {
              "color": "white"
             }
            },
            "type": "table"
           }
          ]
         },
         "layout": {
          "annotationdefaults": {
           "arrowhead": 0,
           "arrowwidth": 1
          },
          "autotypenumbers": "strict",
          "coloraxis": {
           "colorbar": {
            "outlinewidth": 1,
            "tickcolor": "rgb(36,36,36)",
            "ticks": "outside"
           }
          },
          "colorscale": {
           "diverging": [
            [
             0,
             "rgb(103,0,31)"
            ],
            [
             0.1,
             "rgb(178,24,43)"
            ],
            [
             0.2,
             "rgb(214,96,77)"
            ],
            [
             0.3,
             "rgb(244,165,130)"
            ],
            [
             0.4,
             "rgb(253,219,199)"
            ],
            [
             0.5,
             "rgb(247,247,247)"
            ],
            [
             0.6,
             "rgb(209,229,240)"
            ],
            [
             0.7,
             "rgb(146,197,222)"
            ],
            [
             0.8,
             "rgb(67,147,195)"
            ],
            [
             0.9,
             "rgb(33,102,172)"
            ],
            [
             1,
             "rgb(5,48,97)"
            ]
           ],
           "sequential": [
            [
             0,
             "#440154"
            ],
            [
             0.1111111111111111,
             "#482878"
            ],
            [
             0.2222222222222222,
             "#3e4989"
            ],
            [
             0.3333333333333333,
             "#31688e"
            ],
            [
             0.4444444444444444,
             "#26828e"
            ],
            [
             0.5555555555555556,
             "#1f9e89"
            ],
            [
             0.6666666666666666,
             "#35b779"
            ],
            [
             0.7777777777777778,
             "#6ece58"
            ],
            [
             0.8888888888888888,
             "#b5de2b"
            ],
            [
             1,
             "#fde725"
            ]
           ],
           "sequentialminus": [
            [
             0,
             "#440154"
            ],
            [
             0.1111111111111111,
             "#482878"
            ],
            [
             0.2222222222222222,
             "#3e4989"
            ],
            [
             0.3333333333333333,
             "#31688e"
            ],
            [
             0.4444444444444444,
             "#26828e"
            ],
            [
             0.5555555555555556,
             "#1f9e89"
            ],
            [
             0.6666666666666666,
             "#35b779"
            ],
            [
             0.7777777777777778,
             "#6ece58"
            ],
            [
             0.8888888888888888,
             "#b5de2b"
            ],
            [
             1,
             "#fde725"
            ]
           ]
          },
          "colorway": [
           "#1F77B4",
           "#FF7F0E",
           "#2CA02C",
           "#D62728",
           "#9467BD",
           "#8C564B",
           "#E377C2",
           "#7F7F7F",
           "#BCBD22",
           "#17BECF"
          ],
          "font": {
           "color": "rgb(36,36,36)"
          },
          "geo": {
           "bgcolor": "white",
           "lakecolor": "white",
           "landcolor": "white",
           "showlakes": true,
           "showland": true,
           "subunitcolor": "white"
          },
          "hoverlabel": {
           "align": "left"
          },
          "hovermode": "closest",
          "mapbox": {
           "style": "light"
          },
          "paper_bgcolor": "white",
          "plot_bgcolor": "white",
          "polar": {
           "angularaxis": {
            "gridcolor": "rgb(232,232,232)",
            "linecolor": "rgb(36,36,36)",
            "showgrid": false,
            "showline": true,
            "ticks": "outside"
           },
           "bgcolor": "white",
           "radialaxis": {
            "gridcolor": "rgb(232,232,232)",
            "linecolor": "rgb(36,36,36)",
            "showgrid": false,
            "showline": true,
            "ticks": "outside"
           }
          },
          "scene": {
           "xaxis": {
            "backgroundcolor": "white",
            "gridcolor": "rgb(232,232,232)",
            "gridwidth": 2,
            "linecolor": "rgb(36,36,36)",
            "showbackground": true,
            "showgrid": false,
            "showline": true,
            "ticks": "outside",
            "zeroline": false,
            "zerolinecolor": "rgb(36,36,36)"
           },
           "yaxis": {
            "backgroundcolor": "white",
            "gridcolor": "rgb(232,232,232)",
            "gridwidth": 2,
            "linecolor": "rgb(36,36,36)",
            "showbackground": true,
            "showgrid": false,
            "showline": true,
            "ticks": "outside",
            "zeroline": false,
            "zerolinecolor": "rgb(36,36,36)"
           },
           "zaxis": {
            "backgroundcolor": "white",
            "gridcolor": "rgb(232,232,232)",
            "gridwidth": 2,
            "linecolor": "rgb(36,36,36)",
            "showbackground": true,
            "showgrid": false,
            "showline": true,
            "ticks": "outside",
            "zeroline": false,
            "zerolinecolor": "rgb(36,36,36)"
           }
          },
          "shapedefaults": {
           "fillcolor": "black",
           "line": {
            "width": 0
           },
           "opacity": 0.3
          },
          "ternary": {
           "aaxis": {
            "gridcolor": "rgb(232,232,232)",
            "linecolor": "rgb(36,36,36)",
            "showgrid": false,
            "showline": true,
            "ticks": "outside"
           },
           "baxis": {
            "gridcolor": "rgb(232,232,232)",
            "linecolor": "rgb(36,36,36)",
            "showgrid": false,
            "showline": true,
            "ticks": "outside"
           },
           "bgcolor": "white",
           "caxis": {
            "gridcolor": "rgb(232,232,232)",
            "linecolor": "rgb(36,36,36)",
            "showgrid": false,
            "showline": true,
            "ticks": "outside"
           }
          },
          "title": {
           "x": 0.05
          },
          "xaxis": {
           "automargin": true,
           "gridcolor": "rgb(232,232,232)",
           "linecolor": "rgb(36,36,36)",
           "showgrid": false,
           "showline": true,
           "ticks": "outside",
           "title": {
            "standoff": 15
           },
           "zeroline": false,
           "zerolinecolor": "rgb(36,36,36)"
          },
          "yaxis": {
           "automargin": true,
           "gridcolor": "rgb(232,232,232)",
           "linecolor": "rgb(36,36,36)",
           "showgrid": false,
           "showline": true,
           "ticks": "outside",
           "title": {
            "standoff": 15
           },
           "zeroline": false,
           "zerolinecolor": "rgb(36,36,36)"
          }
         }
        },
        "width": 1080,
        "xaxis": {
         "anchor": "y",
         "domain": [
          0,
          0.14166666666666666
         ],
         "showticklabels": false
        },
        "xaxis2": {
         "anchor": "y2",
         "domain": [
          0.17166666666666666,
          0.31333333333333335
         ],
         "showticklabels": false
        },
        "xaxis3": {
         "anchor": "y3",
         "domain": [
          0.3433333333333333,
          0.485
         ],
         "showticklabels": false
        },
        "xaxis4": {
         "anchor": "y4",
         "domain": [
          0.515,
          0.6566666666666667
         ],
         "showticklabels": false
        },
        "xaxis5": {
         "anchor": "y5",
         "domain": [
          0.6866666666666666,
          0.8283333333333334
         ],
         "showticklabels": false
        },
        "xaxis6": {
         "anchor": "y6",
         "domain": [
          0.8583333333333333,
          1
         ],
         "showticklabels": false
        },
        "yaxis": {
         "anchor": "x",
         "domain": [
          0,
          1
         ],
         "gridcolor": "lightgray",
         "range": [
          0,
          100
         ],
         "showgrid": true,
         "title": {
          "text": "Avg. Success Rate"
         }
        },
        "yaxis2": {
         "anchor": "x2",
         "domain": [
          0,
          1
         ],
         "gridcolor": "lightgray",
         "matches": "y",
         "range": [
          0,
          100
         ],
         "showgrid": true,
         "showticklabels": false
        },
        "yaxis3": {
         "anchor": "x3",
         "domain": [
          0,
          1
         ],
         "gridcolor": "lightgray",
         "matches": "y",
         "range": [
          0,
          100
         ],
         "showgrid": true,
         "showticklabels": false
        },
        "yaxis4": {
         "anchor": "x4",
         "domain": [
          0,
          1
         ],
         "gridcolor": "lightgray",
         "matches": "y",
         "range": [
          0,
          100
         ],
         "showgrid": true,
         "showticklabels": false
        },
        "yaxis5": {
         "anchor": "x5",
         "domain": [
          0,
          1
         ],
         "gridcolor": "lightgray",
         "matches": "y",
         "range": [
          0,
          100
         ],
         "showgrid": true,
         "showticklabels": false
        },
        "yaxis6": {
         "anchor": "x6",
         "domain": [
          0,
          1
         ],
         "gridcolor": "lightgray",
         "matches": "y",
         "range": [
          0,
          100
         ],
         "showgrid": true,
         "showticklabels": false
        }
       }
      }
     },
     "metadata": {},
     "output_type": "display_data"
    }
   ],
   "source": [
    "fig = plot_win_rates(summary_df)\n",
    "fig.show()"
   ]
  },
  {
   "cell_type": "markdown",
   "id": "1c34baf1",
   "metadata": {},
   "source": [
    "## 2. Qualitative Look at Samples"
   ]
  },
  {
   "cell_type": "code",
   "execution_count": null,
   "id": "9e251b80",
   "metadata": {},
   "outputs": [
    {
     "data": {
      "text/plain": [
       "Index(['model', 'game_id', 'env', 'attempt', 'raw_guess', 'guess', 'response',\n",
       "       'word_limit', 'score', 'done', 'data', 'belief', 'action_reasoning',\n",
       "       'belief_reasoning'],\n",
       "      dtype='object')"
      ]
     },
     "execution_count": 39,
     "metadata": {},
     "output_type": "execute_result"
    }
   ],
   "source": [
    "df.columns"
   ]
  },
  {
   "cell_type": "code",
   "execution_count": 13,
   "id": "faa2c74a",
   "metadata": {},
   "outputs": [
    {
     "name": "stdout",
     "output_type": "stream",
     "text": [
      "20\n"
     ]
    }
   ],
   "source": [
    "wordle_sample = df[\n",
    "    (df['model'] == 'deepseek/deepseek-r1 (belief)') & \\\n",
    "        (df['env'] == 'murder_mystery') & \\\n",
    "            (df['game_id'] == str(0)) & \\\n",
    "            (df['info'] == 'belief')\n",
    "            ]\n",
    "print(len(wordle_sample))"
   ]
  },
  {
   "cell_type": "code",
   "execution_count": 14,
   "id": "f9676af4",
   "metadata": {},
   "outputs": [
    {
     "data": {
      "text/html": [
       "<div>\n",
       "<style scoped>\n",
       "    .dataframe tbody tr th:only-of-type {\n",
       "        vertical-align: middle;\n",
       "    }\n",
       "\n",
       "    .dataframe tbody tr th {\n",
       "        vertical-align: top;\n",
       "    }\n",
       "\n",
       "    .dataframe thead th {\n",
       "        text-align: right;\n",
       "    }\n",
       "</style>\n",
       "<table border=\"1\" class=\"dataframe\">\n",
       "  <thead>\n",
       "    <tr style=\"text-align: right;\">\n",
       "      <th></th>\n",
       "      <th>model</th>\n",
       "      <th>game_id</th>\n",
       "      <th>env</th>\n",
       "      <th>attempt</th>\n",
       "      <th>info</th>\n",
       "      <th>raw_guess</th>\n",
       "      <th>guess</th>\n",
       "      <th>response</th>\n",
       "      <th>word_limit</th>\n",
       "      <th>score</th>\n",
       "      <th>done</th>\n",
       "      <th>data</th>\n",
       "      <th>belief</th>\n",
       "      <th>action_reasoning</th>\n",
       "      <th>belief_reasoning</th>\n",
       "      <th>model_info</th>\n",
       "    </tr>\n",
       "  </thead>\n",
       "  <tbody>\n",
       "    <tr>\n",
       "      <th>3499</th>\n",
       "      <td>deepseek/deepseek-r1 (belief)</td>\n",
       "      <td>0</td>\n",
       "      <td>murder_mystery</td>\n",
       "      <td>1</td>\n",
       "      <td>belief</td>\n",
       "      <td>&lt;Think&gt; Start by determining the time of death...</td>\n",
       "      <td>Question the station medic: What was the estim...</td>\n",
       "      <td>The station medic looks grave as they respond,...</td>\n",
       "      <td>None</td>\n",
       "      <td>1.0</td>\n",
       "      <td>True</td>\n",
       "      <td>{'agent_game_scenario': 'You are a detective i...</td>\n",
       "      <td>**Key Facts**:  \\n- Dr. Lila Moore died at ~2 ...</td>\n",
       "      <td>Okay, so I'm starting this murder mystery game...</td>\n",
       "      <td>Okay, let's start by understanding the scenari...</td>\n",
       "      <td>deepseek/deepseek-r1 (belief)</td>\n",
       "    </tr>\n",
       "    <tr>\n",
       "      <th>3500</th>\n",
       "      <td>deepseek/deepseek-r1 (belief)</td>\n",
       "      <td>0</td>\n",
       "      <td>murder_mystery</td>\n",
       "      <td>2</td>\n",
       "      <td>belief</td>\n",
       "      <td>&lt;Think&gt; Verifying alibis for the 2 PM timefram...</td>\n",
       "      <td>Ask: What were the alibis of Captain Drake, Je...</td>\n",
       "      <td>The medic replies, \"I only have partial knowle...</td>\n",
       "      <td>None</td>\n",
       "      <td>2.0</td>\n",
       "      <td>True</td>\n",
       "      <td>{'agent_game_scenario': 'You are a detective i...</td>\n",
       "      <td>**Key Facts**:  \\n- Dr. Lila Moore died at ~2 ...</td>\n",
       "      <td>Okay, let's see where to start. The key facts ...</td>\n",
       "      <td>Okay, so the agent asked about the alibis of t...</td>\n",
       "      <td>deepseek/deepseek-r1 (belief)</td>\n",
       "    </tr>\n",
       "    <tr>\n",
       "      <th>3501</th>\n",
       "      <td>deepseek/deepseek-r1 (belief)</td>\n",
       "      <td>0</td>\n",
       "      <td>murder_mystery</td>\n",
       "      <td>3</td>\n",
       "      <td>belief</td>\n",
       "      <td>&lt;Think&gt;Verifying alibis via system logs direct...</td>\n",
       "      <td>**Action**: Examine system logs (control room,...</td>\n",
       "      <td>You access the system logs. \\n\\n- **Control Ro...</td>\n",
       "      <td>None</td>\n",
       "      <td>3.0</td>\n",
       "      <td>True</td>\n",
       "      <td>{'agent_game_scenario': 'You are a detective i...</td>\n",
       "      <td>**Key Facts**:  \\n- Dr. Lila Moore died at ~2 ...</td>\n",
       "      <td>Okay, so I need to figure out the next best st...</td>\n",
       "      <td>Okay, let me update the belief based on the ag...</td>\n",
       "      <td>deepseek/deepseek-r1 (belief)</td>\n",
       "    </tr>\n",
       "    <tr>\n",
       "      <th>3502</th>\n",
       "      <td>deepseek/deepseek-r1 (belief)</td>\n",
       "      <td>0</td>\n",
       "      <td>murder_mystery</td>\n",
       "      <td>4</td>\n",
       "      <td>belief</td>\n",
       "      <td>&lt;Think&gt;  \\nTo optimize information gathering, ...</td>\n",
       "      <td>**Action:** Interview the engineer witness to ...</td>\n",
       "      <td>The engineer looks a bit nervous as you questi...</td>\n",
       "      <td>None</td>\n",
       "      <td>4.0</td>\n",
       "      <td>True</td>\n",
       "      <td>{'agent_game_scenario': 'You are a detective i...</td>\n",
       "      <td>**Key Facts**:  \\n- Dr. Lila Moore died at ~2 ...</td>\n",
       "      <td>Okay, let's try to figure out the next best st...</td>\n",
       "      <td>Okay, so the agent decided to interview the en...</td>\n",
       "      <td>deepseek/deepseek-r1 (belief)</td>\n",
       "    </tr>\n",
       "    <tr>\n",
       "      <th>3503</th>\n",
       "      <td>deepseek/deepseek-r1 (belief)</td>\n",
       "      <td>0</td>\n",
       "      <td>murder_mystery</td>\n",
       "      <td>5</td>\n",
       "      <td>belief</td>\n",
       "      <td>&lt;Answer&gt;  \\n**Action**: Interview the station ...</td>\n",
       "      <td>&lt;Answer&gt;  \\n**Action**: Interview the station ...</td>\n",
       "      <td>The engineer nods seriously, taking a moment t...</td>\n",
       "      <td>None</td>\n",
       "      <td>5.0</td>\n",
       "      <td>True</td>\n",
       "      <td>{'agent_game_scenario': 'You are a detective i...</td>\n",
       "      <td>**Key Facts**:  \\n- Dr. Lila Moore died at ~2 ...</td>\n",
       "      <td>Okay, let's review the information again. Dr. ...</td>\n",
       "      <td>Okay, let me process the engineer's response t...</td>\n",
       "      <td>deepseek/deepseek-r1 (belief)</td>\n",
       "    </tr>\n",
       "    <tr>\n",
       "      <th>3504</th>\n",
       "      <td>deepseek/deepseek-r1 (belief)</td>\n",
       "      <td>0</td>\n",
       "      <td>murder_mystery</td>\n",
       "      <td>6</td>\n",
       "      <td>belief</td>\n",
       "      <td>&lt;Think&gt;\\nThe critical unknown is the exact tim...</td>\n",
       "      <td>**Action**: Review decompression chamber’s sys...</td>\n",
       "      <td>You access the decompression chamber’s system ...</td>\n",
       "      <td>None</td>\n",
       "      <td>6.0</td>\n",
       "      <td>True</td>\n",
       "      <td>{'agent_game_scenario': 'You are a detective i...</td>\n",
       "      <td>**Key Facts**:  \\n- Dr. Lila Moore died at ~2 ...</td>\n",
       "      <td>Okay, let me look at the current information. ...</td>\n",
       "      <td>Okay, let's see. The agent just checked the de...</td>\n",
       "      <td>deepseek/deepseek-r1 (belief)</td>\n",
       "    </tr>\n",
       "    <tr>\n",
       "      <th>3505</th>\n",
       "      <td>deepseek/deepseek-r1 (belief)</td>\n",
       "      <td>0</td>\n",
       "      <td>murder_mystery</td>\n",
       "      <td>7</td>\n",
       "      <td>belief</td>\n",
       "      <td>&lt;Think&gt; The sabotage occurred at 1:58 PM, and ...</td>\n",
       "      <td>**Action**: Cross-check control room logs for ...</td>\n",
       "      <td>You delve into the control room logs and find ...</td>\n",
       "      <td>None</td>\n",
       "      <td>7.0</td>\n",
       "      <td>True</td>\n",
       "      <td>{'agent_game_scenario': 'You are a detective i...</td>\n",
       "      <td>**Key Facts**:  \\n- Dr. Lila Moore died at ~2 ...</td>\n",
       "      <td>Okay, let me think through this step by step. ...</td>\n",
       "      <td>Okay, let me process this step by step. The ag...</td>\n",
       "      <td>deepseek/deepseek-r1 (belief)</td>\n",
       "    </tr>\n",
       "    <tr>\n",
       "      <th>3506</th>\n",
       "      <td>deepseek/deepseek-r1 (belief)</td>\n",
       "      <td>0</td>\n",
       "      <td>murder_mystery</td>\n",
       "      <td>8</td>\n",
       "      <td>belief</td>\n",
       "      <td>&lt;Think&gt;Captain Drake's confirmed actions at th...</td>\n",
       "      <td>Interrogate Captain Drake: Justify his 1:58 PM...</td>\n",
       "      <td>Captain Drake appears defensive as you questio...</td>\n",
       "      <td>None</td>\n",
       "      <td>8.0</td>\n",
       "      <td>True</td>\n",
       "      <td>{'agent_game_scenario': 'You are a detective i...</td>\n",
       "      <td>**Key Facts**:  \\n- Dr. Lila Moore died at ~2 ...</td>\n",
       "      <td>Okay, let me try to figure out the best next s...</td>\n",
       "      <td>Okay, let's process the new information. The a...</td>\n",
       "      <td>deepseek/deepseek-r1 (belief)</td>\n",
       "    </tr>\n",
       "    <tr>\n",
       "      <th>3507</th>\n",
       "      <td>deepseek/deepseek-r1 (belief)</td>\n",
       "      <td>0</td>\n",
       "      <td>murder_mystery</td>\n",
       "      <td>9</td>\n",
       "      <td>belief</td>\n",
       "      <td>&lt;Think&gt;  \\nThe most critical unknowns are whet...</td>\n",
       "      <td>**Action**: Audit maintenance schedules to ver...</td>\n",
       "      <td>You review the maintenance schedules and find ...</td>\n",
       "      <td>None</td>\n",
       "      <td>9.0</td>\n",
       "      <td>True</td>\n",
       "      <td>{'agent_game_scenario': 'You are a detective i...</td>\n",
       "      <td>**Key Facts**:  \\n- Dr. Lila Moore died at ~2 ...</td>\n",
       "      <td>Okay, let's see. The current belief state poin...</td>\n",
       "      <td>Okay, let's start by updating the belief based...</td>\n",
       "      <td>deepseek/deepseek-r1 (belief)</td>\n",
       "    </tr>\n",
       "    <tr>\n",
       "      <th>3508</th>\n",
       "      <td>deepseek/deepseek-r1 (belief)</td>\n",
       "      <td>0</td>\n",
       "      <td>murder_mystery</td>\n",
       "      <td>10</td>\n",
       "      <td>belief</td>\n",
       "      <td>&lt;Think&gt;  \\nThe most critical unknown is whethe...</td>\n",
       "      <td>**Review System Telemetry**: Check historical ...</td>\n",
       "      <td>You analyze the historical telemetry data for ...</td>\n",
       "      <td>None</td>\n",
       "      <td>10.0</td>\n",
       "      <td>True</td>\n",
       "      <td>{'agent_game_scenario': 'You are a detective i...</td>\n",
       "      <td>**Key Facts**:  \\n- Dr. Lila Moore died at ~2 ...</td>\n",
       "      <td>Okay, let me try to figure out the best next s...</td>\n",
       "      <td>Okay, let me go through this step by step. The...</td>\n",
       "      <td>deepseek/deepseek-r1 (belief)</td>\n",
       "    </tr>\n",
       "    <tr>\n",
       "      <th>3509</th>\n",
       "      <td>deepseek/deepseek-r1 (belief)</td>\n",
       "      <td>0</td>\n",
       "      <td>murder_mystery</td>\n",
       "      <td>11</td>\n",
       "      <td>belief</td>\n",
       "      <td>&lt;Think&gt;  \\nThe critical unknowns center around...</td>\n",
       "      <td>**Action**: Question the engineer to clarify: ...</td>\n",
       "      <td>The engineer ponders your questions carefully....</td>\n",
       "      <td>None</td>\n",
       "      <td>11.0</td>\n",
       "      <td>True</td>\n",
       "      <td>{'agent_game_scenario': 'You are a detective i...</td>\n",
       "      <td>**Key Facts**:  \\n- Dr. Lila Moore died at ~2 ...</td>\n",
       "      <td>Okay, let's see. The key facts point to Captai...</td>\n",
       "      <td>Okay, let me go through this step by step. The...</td>\n",
       "      <td>deepseek/deepseek-r1 (belief)</td>\n",
       "    </tr>\n",
       "    <tr>\n",
       "      <th>3510</th>\n",
       "      <td>deepseek/deepseek-r1 (belief)</td>\n",
       "      <td>0</td>\n",
       "      <td>murder_mystery</td>\n",
       "      <td>12</td>\n",
       "      <td>belief</td>\n",
       "      <td>&lt;Think&gt; The logs showing Drake as the sole use...</td>\n",
       "      <td>**Action**: Audit control room log security to...</td>\n",
       "      <td>You audit the control room log security and fi...</td>\n",
       "      <td>None</td>\n",
       "      <td>12.0</td>\n",
       "      <td>True</td>\n",
       "      <td>{'agent_game_scenario': 'You are a detective i...</td>\n",
       "      <td>**Key Facts**:  \\n- Dr. Lila Moore died at ~2 ...</td>\n",
       "      <td>Okay, let's analyze the current belief state. ...</td>\n",
       "      <td>Okay, let me try to update the belief based on...</td>\n",
       "      <td>deepseek/deepseek-r1 (belief)</td>\n",
       "    </tr>\n",
       "    <tr>\n",
       "      <th>3511</th>\n",
       "      <td>deepseek/deepseek-r1 (belief)</td>\n",
       "      <td>0</td>\n",
       "      <td>murder_mystery</td>\n",
       "      <td>13</td>\n",
       "      <td>belief</td>\n",
       "      <td>&lt;Think&gt; \\nThe critical unknown is whether Drak...</td>\n",
       "      <td>**Action**: Request security footage of the co...</td>\n",
       "      <td>You request the security footage from the cont...</td>\n",
       "      <td>None</td>\n",
       "      <td>13.0</td>\n",
       "      <td>True</td>\n",
       "      <td>{'agent_game_scenario': 'You are a detective i...</td>\n",
       "      <td>**Key Facts**:  \\n- Dr. Lila Moore died at ~2 ...</td>\n",
       "      <td>Okay, let's see. So, the main points here are ...</td>\n",
       "      <td>Alright, let me process this new information. ...</td>\n",
       "      <td>deepseek/deepseek-r1 (belief)</td>\n",
       "    </tr>\n",
       "    <tr>\n",
       "      <th>3512</th>\n",
       "      <td>deepseek/deepseek-r1 (belief)</td>\n",
       "      <td>0</td>\n",
       "      <td>murder_mystery</td>\n",
       "      <td>14</td>\n",
       "      <td>belief</td>\n",
       "      <td>&lt;Think&gt;  \\nCaptain Drake's direct involvement ...</td>\n",
       "      <td>**Action**: Audit the habitat module log metad...</td>\n",
       "      <td>You audit the habitat module log metadata and ...</td>\n",
       "      <td>None</td>\n",
       "      <td>14.0</td>\n",
       "      <td>True</td>\n",
       "      <td>{'agent_game_scenario': 'You are a detective i...</td>\n",
       "      <td>**Key Facts**:  \\n- Dr. Lila Moore died at ~2 ...</td>\n",
       "      <td>Okay, let's see. The belief state shows Captai...</td>\n",
       "      <td>Okay, let's process this new information. The ...</td>\n",
       "      <td>deepseek/deepseek-r1 (belief)</td>\n",
       "    </tr>\n",
       "    <tr>\n",
       "      <th>3513</th>\n",
       "      <td>deepseek/deepseek-r1 (belief)</td>\n",
       "      <td>0</td>\n",
       "      <td>murder_mystery</td>\n",
       "      <td>15</td>\n",
       "      <td>belief</td>\n",
       "      <td>&lt;Think&gt;Captain Drake is the prime suspect with...</td>\n",
       "      <td>**Confront Captain Drake** about the unschedul...</td>\n",
       "      <td>Captain Drake meets your confrontation with a ...</td>\n",
       "      <td>None</td>\n",
       "      <td>15.0</td>\n",
       "      <td>True</td>\n",
       "      <td>{'agent_game_scenario': 'You are a detective i...</td>\n",
       "      <td>**Key Facts**:  \\n- Dr. Lila Moore died at ~2 ...</td>\n",
       "      <td>Okay, let's see. The belief state shows that C...</td>\n",
       "      <td>Okay, let's break down how to update the belie...</td>\n",
       "      <td>deepseek/deepseek-r1 (belief)</td>\n",
       "    </tr>\n",
       "    <tr>\n",
       "      <th>3514</th>\n",
       "      <td>deepseek/deepseek-r1 (belief)</td>\n",
       "      <td>0</td>\n",
       "      <td>murder_mystery</td>\n",
       "      <td>16</td>\n",
       "      <td>belief</td>\n",
       "      <td>&lt;Think&gt; The strongest evidence points to Drake...</td>\n",
       "      <td>**Pressure Medic**: Demand autopsy details to ...</td>\n",
       "      <td>The medic shifts uncomfortably at your demand ...</td>\n",
       "      <td>None</td>\n",
       "      <td>16.0</td>\n",
       "      <td>True</td>\n",
       "      <td>{'agent_game_scenario': 'You are a detective i...</td>\n",
       "      <td>**Key Facts**:  \\n- Dr. Lila Moore died at ~2 ...</td>\n",
       "      <td>Okay, let's see. The current belief state poin...</td>\n",
       "      <td>Alright, so the agent decided to pressure the ...</td>\n",
       "      <td>deepseek/deepseek-r1 (belief)</td>\n",
       "    </tr>\n",
       "    <tr>\n",
       "      <th>3515</th>\n",
       "      <td>deepseek/deepseek-r1 (belief)</td>\n",
       "      <td>0</td>\n",
       "      <td>murder_mystery</td>\n",
       "      <td>17</td>\n",
       "      <td>belief</td>\n",
       "      <td>&lt;Think&gt; While Drake is the prime suspect, the ...</td>\n",
       "      <td>**Action**: Expedite the toxicology report by ...</td>\n",
       "      <td>The medic's face tightens at your confrontatio...</td>\n",
       "      <td>None</td>\n",
       "      <td>17.0</td>\n",
       "      <td>True</td>\n",
       "      <td>{'agent_game_scenario': 'You are a detective i...</td>\n",
       "      <td>**Key Facts**:  \\n- Dr. Lila Moore died at ~2 ...</td>\n",
       "      <td>Okay, let's see. The current belief state has ...</td>\n",
       "      <td>Okay, let me update the belief state based on ...</td>\n",
       "      <td>deepseek/deepseek-r1 (belief)</td>\n",
       "    </tr>\n",
       "    <tr>\n",
       "      <th>3516</th>\n",
       "      <td>deepseek/deepseek-r1 (belief)</td>\n",
       "      <td>0</td>\n",
       "      <td>murder_mystery</td>\n",
       "      <td>18</td>\n",
       "      <td>belief</td>\n",
       "      <td>&lt;Think&gt; \\nDrake is the prime suspect due to di...</td>\n",
       "      <td>Investigate Captain Drake’s potential motives ...</td>\n",
       "      <td>You delve into Captain Drake's recent communic...</td>\n",
       "      <td>None</td>\n",
       "      <td>18.0</td>\n",
       "      <td>True</td>\n",
       "      <td>{'agent_game_scenario': 'You are a detective i...</td>\n",
       "      <td>**Key Facts**:  \\n- Dr. Lila Moore died at ~2 ...</td>\n",
       "      <td>Okay, let's look at the current belief state. ...</td>\n",
       "      <td>Alright, let's update the belief state based o...</td>\n",
       "      <td>deepseek/deepseek-r1 (belief)</td>\n",
       "    </tr>\n",
       "    <tr>\n",
       "      <th>3517</th>\n",
       "      <td>deepseek/deepseek-r1 (belief)</td>\n",
       "      <td>0</td>\n",
       "      <td>murder_mystery</td>\n",
       "      <td>19</td>\n",
       "      <td>belief</td>\n",
       "      <td>&lt;Think&gt;Re-interviewing the engineer to confirm...</td>\n",
       "      <td>**Re-interview Engineer**: Confirm telemetry s...</td>\n",
       "      <td>You confront the engineer about the telemetry ...</td>\n",
       "      <td>None</td>\n",
       "      <td>19.0</td>\n",
       "      <td>True</td>\n",
       "      <td>{'agent_game_scenario': 'You are a detective i...</td>\n",
       "      <td>**Key Facts**:  \\n- Dr. Lila Moore died at ~2 ...</td>\n",
       "      <td>Okay, let's see. The current belief state show...</td>\n",
       "      <td>Okay, let me go through this step by step. The...</td>\n",
       "      <td>deepseek/deepseek-r1 (belief)</td>\n",
       "    </tr>\n",
       "    <tr>\n",
       "      <th>3518</th>\n",
       "      <td>deepseek/deepseek-r1 (belief)</td>\n",
       "      <td>0</td>\n",
       "      <td>murder_mystery</td>\n",
       "      <td>20</td>\n",
       "      <td>belief</td>\n",
       "      <td>&lt;Think&gt;  \\nCaptain Drake is the prime suspect ...</td>\n",
       "      <td>**Confront Captain Drake** with evidence: his ...</td>\n",
       "      <td>You confront Captain Drake with the gathered e...</td>\n",
       "      <td>None</td>\n",
       "      <td>20.0</td>\n",
       "      <td>True</td>\n",
       "      <td>{'agent_game_scenario': 'You are a detective i...</td>\n",
       "      <td>**Key Facts**:  \\n- Dr. Lila Moore died at ~2 ...</td>\n",
       "      <td>Okay, let me go through this step by step. So,...</td>\n",
       "      <td>Okay, let me process this step by step. The ag...</td>\n",
       "      <td>deepseek/deepseek-r1 (belief)</td>\n",
       "    </tr>\n",
       "  </tbody>\n",
       "</table>\n",
       "</div>"
      ],
      "text/plain": [
       "                              model game_id             env  attempt    info  \\\n",
       "3499  deepseek/deepseek-r1 (belief)       0  murder_mystery        1  belief   \n",
       "3500  deepseek/deepseek-r1 (belief)       0  murder_mystery        2  belief   \n",
       "3501  deepseek/deepseek-r1 (belief)       0  murder_mystery        3  belief   \n",
       "3502  deepseek/deepseek-r1 (belief)       0  murder_mystery        4  belief   \n",
       "3503  deepseek/deepseek-r1 (belief)       0  murder_mystery        5  belief   \n",
       "3504  deepseek/deepseek-r1 (belief)       0  murder_mystery        6  belief   \n",
       "3505  deepseek/deepseek-r1 (belief)       0  murder_mystery        7  belief   \n",
       "3506  deepseek/deepseek-r1 (belief)       0  murder_mystery        8  belief   \n",
       "3507  deepseek/deepseek-r1 (belief)       0  murder_mystery        9  belief   \n",
       "3508  deepseek/deepseek-r1 (belief)       0  murder_mystery       10  belief   \n",
       "3509  deepseek/deepseek-r1 (belief)       0  murder_mystery       11  belief   \n",
       "3510  deepseek/deepseek-r1 (belief)       0  murder_mystery       12  belief   \n",
       "3511  deepseek/deepseek-r1 (belief)       0  murder_mystery       13  belief   \n",
       "3512  deepseek/deepseek-r1 (belief)       0  murder_mystery       14  belief   \n",
       "3513  deepseek/deepseek-r1 (belief)       0  murder_mystery       15  belief   \n",
       "3514  deepseek/deepseek-r1 (belief)       0  murder_mystery       16  belief   \n",
       "3515  deepseek/deepseek-r1 (belief)       0  murder_mystery       17  belief   \n",
       "3516  deepseek/deepseek-r1 (belief)       0  murder_mystery       18  belief   \n",
       "3517  deepseek/deepseek-r1 (belief)       0  murder_mystery       19  belief   \n",
       "3518  deepseek/deepseek-r1 (belief)       0  murder_mystery       20  belief   \n",
       "\n",
       "                                              raw_guess  \\\n",
       "3499  <Think> Start by determining the time of death...   \n",
       "3500  <Think> Verifying alibis for the 2 PM timefram...   \n",
       "3501  <Think>Verifying alibis via system logs direct...   \n",
       "3502  <Think>  \\nTo optimize information gathering, ...   \n",
       "3503  <Answer>  \\n**Action**: Interview the station ...   \n",
       "3504  <Think>\\nThe critical unknown is the exact tim...   \n",
       "3505  <Think> The sabotage occurred at 1:58 PM, and ...   \n",
       "3506  <Think>Captain Drake's confirmed actions at th...   \n",
       "3507  <Think>  \\nThe most critical unknowns are whet...   \n",
       "3508  <Think>  \\nThe most critical unknown is whethe...   \n",
       "3509  <Think>  \\nThe critical unknowns center around...   \n",
       "3510  <Think> The logs showing Drake as the sole use...   \n",
       "3511  <Think> \\nThe critical unknown is whether Drak...   \n",
       "3512  <Think>  \\nCaptain Drake's direct involvement ...   \n",
       "3513  <Think>Captain Drake is the prime suspect with...   \n",
       "3514  <Think> The strongest evidence points to Drake...   \n",
       "3515  <Think> While Drake is the prime suspect, the ...   \n",
       "3516  <Think> \\nDrake is the prime suspect due to di...   \n",
       "3517  <Think>Re-interviewing the engineer to confirm...   \n",
       "3518  <Think>  \\nCaptain Drake is the prime suspect ...   \n",
       "\n",
       "                                                  guess  \\\n",
       "3499  Question the station medic: What was the estim...   \n",
       "3500  Ask: What were the alibis of Captain Drake, Je...   \n",
       "3501  **Action**: Examine system logs (control room,...   \n",
       "3502  **Action:** Interview the engineer witness to ...   \n",
       "3503  <Answer>  \\n**Action**: Interview the station ...   \n",
       "3504  **Action**: Review decompression chamber’s sys...   \n",
       "3505  **Action**: Cross-check control room logs for ...   \n",
       "3506  Interrogate Captain Drake: Justify his 1:58 PM...   \n",
       "3507  **Action**: Audit maintenance schedules to ver...   \n",
       "3508  **Review System Telemetry**: Check historical ...   \n",
       "3509  **Action**: Question the engineer to clarify: ...   \n",
       "3510  **Action**: Audit control room log security to...   \n",
       "3511  **Action**: Request security footage of the co...   \n",
       "3512  **Action**: Audit the habitat module log metad...   \n",
       "3513  **Confront Captain Drake** about the unschedul...   \n",
       "3514  **Pressure Medic**: Demand autopsy details to ...   \n",
       "3515  **Action**: Expedite the toxicology report by ...   \n",
       "3516  Investigate Captain Drake’s potential motives ...   \n",
       "3517  **Re-interview Engineer**: Confirm telemetry s...   \n",
       "3518  **Confront Captain Drake** with evidence: his ...   \n",
       "\n",
       "                                               response word_limit  score  \\\n",
       "3499  The station medic looks grave as they respond,...       None    1.0   \n",
       "3500  The medic replies, \"I only have partial knowle...       None    2.0   \n",
       "3501  You access the system logs. \\n\\n- **Control Ro...       None    3.0   \n",
       "3502  The engineer looks a bit nervous as you questi...       None    4.0   \n",
       "3503  The engineer nods seriously, taking a moment t...       None    5.0   \n",
       "3504  You access the decompression chamber’s system ...       None    6.0   \n",
       "3505  You delve into the control room logs and find ...       None    7.0   \n",
       "3506  Captain Drake appears defensive as you questio...       None    8.0   \n",
       "3507  You review the maintenance schedules and find ...       None    9.0   \n",
       "3508  You analyze the historical telemetry data for ...       None   10.0   \n",
       "3509  The engineer ponders your questions carefully....       None   11.0   \n",
       "3510  You audit the control room log security and fi...       None   12.0   \n",
       "3511  You request the security footage from the cont...       None   13.0   \n",
       "3512  You audit the habitat module log metadata and ...       None   14.0   \n",
       "3513  Captain Drake meets your confrontation with a ...       None   15.0   \n",
       "3514  The medic shifts uncomfortably at your demand ...       None   16.0   \n",
       "3515  The medic's face tightens at your confrontatio...       None   17.0   \n",
       "3516  You delve into Captain Drake's recent communic...       None   18.0   \n",
       "3517  You confront the engineer about the telemetry ...       None   19.0   \n",
       "3518  You confront Captain Drake with the gathered e...       None   20.0   \n",
       "\n",
       "      done                                               data  \\\n",
       "3499  True  {'agent_game_scenario': 'You are a detective i...   \n",
       "3500  True  {'agent_game_scenario': 'You are a detective i...   \n",
       "3501  True  {'agent_game_scenario': 'You are a detective i...   \n",
       "3502  True  {'agent_game_scenario': 'You are a detective i...   \n",
       "3503  True  {'agent_game_scenario': 'You are a detective i...   \n",
       "3504  True  {'agent_game_scenario': 'You are a detective i...   \n",
       "3505  True  {'agent_game_scenario': 'You are a detective i...   \n",
       "3506  True  {'agent_game_scenario': 'You are a detective i...   \n",
       "3507  True  {'agent_game_scenario': 'You are a detective i...   \n",
       "3508  True  {'agent_game_scenario': 'You are a detective i...   \n",
       "3509  True  {'agent_game_scenario': 'You are a detective i...   \n",
       "3510  True  {'agent_game_scenario': 'You are a detective i...   \n",
       "3511  True  {'agent_game_scenario': 'You are a detective i...   \n",
       "3512  True  {'agent_game_scenario': 'You are a detective i...   \n",
       "3513  True  {'agent_game_scenario': 'You are a detective i...   \n",
       "3514  True  {'agent_game_scenario': 'You are a detective i...   \n",
       "3515  True  {'agent_game_scenario': 'You are a detective i...   \n",
       "3516  True  {'agent_game_scenario': 'You are a detective i...   \n",
       "3517  True  {'agent_game_scenario': 'You are a detective i...   \n",
       "3518  True  {'agent_game_scenario': 'You are a detective i...   \n",
       "\n",
       "                                                 belief  \\\n",
       "3499  **Key Facts**:  \\n- Dr. Lila Moore died at ~2 ...   \n",
       "3500  **Key Facts**:  \\n- Dr. Lila Moore died at ~2 ...   \n",
       "3501  **Key Facts**:  \\n- Dr. Lila Moore died at ~2 ...   \n",
       "3502  **Key Facts**:  \\n- Dr. Lila Moore died at ~2 ...   \n",
       "3503  **Key Facts**:  \\n- Dr. Lila Moore died at ~2 ...   \n",
       "3504  **Key Facts**:  \\n- Dr. Lila Moore died at ~2 ...   \n",
       "3505  **Key Facts**:  \\n- Dr. Lila Moore died at ~2 ...   \n",
       "3506  **Key Facts**:  \\n- Dr. Lila Moore died at ~2 ...   \n",
       "3507  **Key Facts**:  \\n- Dr. Lila Moore died at ~2 ...   \n",
       "3508  **Key Facts**:  \\n- Dr. Lila Moore died at ~2 ...   \n",
       "3509  **Key Facts**:  \\n- Dr. Lila Moore died at ~2 ...   \n",
       "3510  **Key Facts**:  \\n- Dr. Lila Moore died at ~2 ...   \n",
       "3511  **Key Facts**:  \\n- Dr. Lila Moore died at ~2 ...   \n",
       "3512  **Key Facts**:  \\n- Dr. Lila Moore died at ~2 ...   \n",
       "3513  **Key Facts**:  \\n- Dr. Lila Moore died at ~2 ...   \n",
       "3514  **Key Facts**:  \\n- Dr. Lila Moore died at ~2 ...   \n",
       "3515  **Key Facts**:  \\n- Dr. Lila Moore died at ~2 ...   \n",
       "3516  **Key Facts**:  \\n- Dr. Lila Moore died at ~2 ...   \n",
       "3517  **Key Facts**:  \\n- Dr. Lila Moore died at ~2 ...   \n",
       "3518  **Key Facts**:  \\n- Dr. Lila Moore died at ~2 ...   \n",
       "\n",
       "                                       action_reasoning  \\\n",
       "3499  Okay, so I'm starting this murder mystery game...   \n",
       "3500  Okay, let's see where to start. The key facts ...   \n",
       "3501  Okay, so I need to figure out the next best st...   \n",
       "3502  Okay, let's try to figure out the next best st...   \n",
       "3503  Okay, let's review the information again. Dr. ...   \n",
       "3504  Okay, let me look at the current information. ...   \n",
       "3505  Okay, let me think through this step by step. ...   \n",
       "3506  Okay, let me try to figure out the best next s...   \n",
       "3507  Okay, let's see. The current belief state poin...   \n",
       "3508  Okay, let me try to figure out the best next s...   \n",
       "3509  Okay, let's see. The key facts point to Captai...   \n",
       "3510  Okay, let's analyze the current belief state. ...   \n",
       "3511  Okay, let's see. So, the main points here are ...   \n",
       "3512  Okay, let's see. The belief state shows Captai...   \n",
       "3513  Okay, let's see. The belief state shows that C...   \n",
       "3514  Okay, let's see. The current belief state poin...   \n",
       "3515  Okay, let's see. The current belief state has ...   \n",
       "3516  Okay, let's look at the current belief state. ...   \n",
       "3517  Okay, let's see. The current belief state show...   \n",
       "3518  Okay, let me go through this step by step. So,...   \n",
       "\n",
       "                                       belief_reasoning  \\\n",
       "3499  Okay, let's start by understanding the scenari...   \n",
       "3500  Okay, so the agent asked about the alibis of t...   \n",
       "3501  Okay, let me update the belief based on the ag...   \n",
       "3502  Okay, so the agent decided to interview the en...   \n",
       "3503  Okay, let me process the engineer's response t...   \n",
       "3504  Okay, let's see. The agent just checked the de...   \n",
       "3505  Okay, let me process this step by step. The ag...   \n",
       "3506  Okay, let's process the new information. The a...   \n",
       "3507  Okay, let's start by updating the belief based...   \n",
       "3508  Okay, let me go through this step by step. The...   \n",
       "3509  Okay, let me go through this step by step. The...   \n",
       "3510  Okay, let me try to update the belief based on...   \n",
       "3511  Alright, let me process this new information. ...   \n",
       "3512  Okay, let's process this new information. The ...   \n",
       "3513  Okay, let's break down how to update the belie...   \n",
       "3514  Alright, so the agent decided to pressure the ...   \n",
       "3515  Okay, let me update the belief state based on ...   \n",
       "3516  Alright, let's update the belief state based o...   \n",
       "3517  Okay, let me go through this step by step. The...   \n",
       "3518  Okay, let me process this step by step. The ag...   \n",
       "\n",
       "                         model_info  \n",
       "3499  deepseek/deepseek-r1 (belief)  \n",
       "3500  deepseek/deepseek-r1 (belief)  \n",
       "3501  deepseek/deepseek-r1 (belief)  \n",
       "3502  deepseek/deepseek-r1 (belief)  \n",
       "3503  deepseek/deepseek-r1 (belief)  \n",
       "3504  deepseek/deepseek-r1 (belief)  \n",
       "3505  deepseek/deepseek-r1 (belief)  \n",
       "3506  deepseek/deepseek-r1 (belief)  \n",
       "3507  deepseek/deepseek-r1 (belief)  \n",
       "3508  deepseek/deepseek-r1 (belief)  \n",
       "3509  deepseek/deepseek-r1 (belief)  \n",
       "3510  deepseek/deepseek-r1 (belief)  \n",
       "3511  deepseek/deepseek-r1 (belief)  \n",
       "3512  deepseek/deepseek-r1 (belief)  \n",
       "3513  deepseek/deepseek-r1 (belief)  \n",
       "3514  deepseek/deepseek-r1 (belief)  \n",
       "3515  deepseek/deepseek-r1 (belief)  \n",
       "3516  deepseek/deepseek-r1 (belief)  \n",
       "3517  deepseek/deepseek-r1 (belief)  \n",
       "3518  deepseek/deepseek-r1 (belief)  "
      ]
     },
     "execution_count": 14,
     "metadata": {},
     "output_type": "execute_result"
    }
   ],
   "source": [
    "wordle_sample"
   ]
  },
  {
   "cell_type": "code",
   "execution_count": 15,
   "id": "2af8aebe",
   "metadata": {},
   "outputs": [
    {
     "name": "stdout",
     "output_type": "stream",
     "text": [
      "('**Key Facts**:  \\n'\n",
      " '- Dr. Lila Moore died at ~2 PM via asphyxiation due to decompression chamber '\n",
      " 'sabotage.  \\n'\n",
      " '- **Sabotage Timing Confirmed**: System logs show pressure controls were '\n",
      " 'modified at **1:58 PM** (pre-2 PM), causing immediate malfunction. '\n",
      " 'Delayed-trigger hypothesis ruled out.  \\n'\n",
      " '- **Sabotage Method**: Direct manipulation at 1:58 PM (engineer’s \"delicate '\n",
      " 'system\" remark aligns with rapid failure).  \\n'\n",
      " '\\n'\n",
      " '**Alibi Reassessment**:  \\n'\n",
      " '- **Captain Drake**: Control room access **1:50–2:10 PM**. **Critical '\n",
      " 'overlap** with sabotage time (1:58 PM). If control room logs confirm he '\n",
      " 'operated pressure systems during this window, direct guilt likely.  \\n'\n",
      " '- **Jenna Parks**: Habitat module log ends at 2:05 PM. Since sabotage '\n",
      " 'occurred at 1:58 PM, her alibi **does not exclude her**—she could have '\n",
      " 'tampered with systems before 2:05 PM. **Log integrity** (e.g., falsified '\n",
      " 'timestamps) now pivotal.  \\n'\n",
      " '- **Victor Kane**: Lab login starts at 2:00 PM. Sabotage at 1:58 PM '\n",
      " '**precedes his alibi**, but engineer’s note about lab security bypass raises '\n",
      " 'possibility he accessed systems remotely or earlier.  \\n'\n",
      " '\\n'\n",
      " '**Discrepancies/Unresolved**:  \\n'\n",
      " '- **Control Room Logs**: Need verification of Drake’s specific actions at '\n",
      " '1:58 PM.  \\n'\n",
      " '- **Habitat Module Logs**: Confirm if Jenna’s 2:05 PM log is authentic or '\n",
      " 'manipulated.  \\n'\n",
      " '- **Victor’s Pre-2:00 PM Activity**: Where was he before lab login? Could he '\n",
      " 'bypass lab security pre-2 PM?  \\n'\n",
      " '- **Engineer’s Technical Knowledge**: Could sabotage require expertise only '\n",
      " 'they possess?  \\n'\n",
      " '\\n'\n",
      " '**Next Steps**:  \\n'\n",
      " '1. **Cross-check control room logs** for Drake’s actions at 1:58 PM '\n",
      " '(specific command history).  \\n'\n",
      " '2. **Audit habitat module logs** (metadata, backups) to confirm Jenna’s '\n",
      " 'presence until 2:05 PM.  \\n'\n",
      " '3. **Interrogate Victor** about his location/activity pre-2:00 PM and '\n",
      " 'feasibility of lab security bypass.  \\n'\n",
      " '4. **Re-engage engineer**: Clarify if remote system access (e.g., from labs) '\n",
      " 'was possible and if Victor/Jenna had such privileges.  \\n'\n",
      " '5. **Revisit medic**: Press for autopsy refusal rationale—potential hidden '\n",
      " 'evidence (e.g., sedatives in Lila’s system pre-sabotage).  \\n'\n",
      " '\\n'\n",
      " '**Suspicion Hierarchy**:  \\n'\n",
      " '- **Drake**: High—direct alibi overlap with sabotage time.  \\n'\n",
      " '- **Jenna**: Moderate—alibi unverified; log tampering possible.  \\n'\n",
      " '- **Victor**: Moderate—pre-alibi window unresolved; technical bypass '\n",
      " 'potential.  \\n'\n",
      " '- **Engineer**: Low but rising—expertise could enable sabotage; motives '\n",
      " 'unclear.  \\n'\n",
      " '\\n'\n",
      " '**Additional Notes**:  \\n'\n",
      " '- Immediate sabotage at 1:58 PM narrows viable suspects to those with '\n",
      " 'access/opportunity in the 10-minute window preceding 2 PM.  \\n'\n",
      " '- Log authenticity (control room, habitat, lab) is now the primary '\n",
      " 'investigative focus.')\n"
     ]
    }
   ],
   "source": [
    "pp(wordle_sample.iloc[5]['belief'])"
   ]
  },
  {
   "cell_type": "code",
   "execution_count": null,
   "id": "b4ce1cdb",
   "metadata": {},
   "outputs": [],
   "source": [
    "# can't do with belief but can do with history -> look at the full trajectory with reasoning and try to see why it can't do it with belief"
   ]
  },
  {
   "cell_type": "markdown",
   "id": "21e41562",
   "metadata": {},
   "source": [
    "## 3. Sizes of Belief States"
   ]
  },
  {
   "cell_type": "code",
   "execution_count": 26,
   "id": "bb344f62",
   "metadata": {},
   "outputs": [],
   "source": [
    "df_belief = df[df['info'] == 'belief']"
   ]
  },
  {
   "cell_type": "code",
   "execution_count": 29,
   "id": "8799a5ab",
   "metadata": {},
   "outputs": [
    {
     "name": "stdout",
     "output_type": "stream",
     "text": [
      "                              model game_id            env  attempt    info  \\\n",
      "18  deepseek/deepseek-chat (belief)       0  guess_my_city        1  belief   \n",
      "19  deepseek/deepseek-chat (belief)       0  guess_my_city        2  belief   \n",
      "\n",
      "                                            raw_guess  \\\n",
      "18  <Think> Since this is the start of the game, t...   \n",
      "19  <Think> Since the city is in South America, it...   \n",
      "\n",
      "                                                guess  \\\n",
      "18               Is your home city located in Europe?   \n",
      "19  Is your home city located near the coastline o...   \n",
      "\n",
      "                                             response word_limit  score  done  \\\n",
      "18  no, my home city is not located in europe. it'...       None    1.0  True   \n",
      "19  my city is located inland and not near the coa...       None    2.0  True   \n",
      "\n",
      "                                                 data  \\\n",
      "18  {'agent_game_scenario': 'city', 'env_game_scen...   \n",
      "19  {'agent_game_scenario': 'city', 'env_game_scen...   \n",
      "\n",
      "                                               belief action_reasoning  \\\n",
      "18  The home city is located in South America, not...             None   \n",
      "19  The home city is located inland in South Ameri...             None   \n",
      "\n",
      "   belief_reasoning                       model_info  \n",
      "18             None  deepseek/deepseek-chat (belief)  \n",
      "19             None  deepseek/deepseek-chat (belief)  \n"
     ]
    }
   ],
   "source": [
    "print(df_belief.head(2))"
   ]
  },
  {
   "cell_type": "code",
   "execution_count": 46,
   "id": "495517be",
   "metadata": {},
   "outputs": [],
   "source": [
    "def plot_belief_length(df):\n",
    "    envs = list(df['env'].astype(str).unique())\n",
    "    from math import sqrt\n",
    "    import plotly\n",
    "    go = plotly.graph_objects\n",
    "    make_subplots = plotly.subplots.make_subplots\n",
    "\n",
    "    length = df['belief'].astype(str).str.len()\n",
    "    df2 = df.assign(_belief_len=length)\n",
    "    agg = df2.groupby(['env','model','attempt'])._belief_len.agg(['mean','std','count']).reset_index()\n",
    "    agg['sem'] = agg['std'] / agg['count'].apply(lambda n: sqrt(n) if n > 0 else 1)\n",
    "\n",
    "    colors = getattr(plotly.colors.qualitative, 'Dark24', None) or \\\n",
    "             getattr(plotly.colors.qualitative, 'Plotly', None) or \\\n",
    "             list(plotly.colors.qualitative.__dict__.values())[0]\n",
    "\n",
    "    fig = make_subplots(rows=1, cols=len(envs), shared_yaxes=False, subplot_titles=envs)\n",
    "\n",
    "    model_color_map = {}\n",
    "    models_seen = set()\n",
    "    color_idx = 0\n",
    "\n",
    "    for col_idx, env in enumerate(envs, start=1):\n",
    "        sub = agg[agg['env'] == env]\n",
    "        for model in sub['model'].unique():\n",
    "            mdf = sub[sub['model'] == model].sort_values('attempt')\n",
    "            if model not in model_color_map:\n",
    "                model_color_map[model] = colors[color_idx % len(colors)]\n",
    "                color_idx += 1\n",
    "            show_legend = model not in models_seen\n",
    "            models_seen.add(model)\n",
    "\n",
    "            fig.add_trace(\n",
    "                go.Scatter(\n",
    "                    x=mdf['attempt'],\n",
    "                    y=mdf['mean'],\n",
    "                    error_y=dict(\n",
    "                        type='data',\n",
    "                        array=mdf['sem'],\n",
    "                        visible=True,\n",
    "                        thickness=1.5,   # softer line\n",
    "                        color='rgba(0,0,0,0.4)'  # semi-transparent black\n",
    "                    ),\n",
    "                    mode='lines+markers',\n",
    "                    name=str(model.split('(')[0]),\n",
    "                    legendgroup=str(model),\n",
    "                    showlegend=show_legend,\n",
    "                    line=dict(color=model_color_map[model], width=2)\n",
    "                ),\n",
    "                row=1, col=col_idx\n",
    "            )\n",
    "\n",
    "        fig.update_xaxes(\n",
    "            title_text='Step',\n",
    "            color='black',  # black axis\n",
    "            showline=True,\n",
    "            linecolor='black',\n",
    "            linewidth=1,\n",
    "            showgrid=False,\n",
    "            row=1, col=col_idx\n",
    "        )\n",
    "\n",
    "        fig.update_yaxes(\n",
    "            title_text='Avg. belief length (chars)' if col_idx == 1 else None,\n",
    "            showline=True,\n",
    "            linecolor='black',\n",
    "            linewidth=1,\n",
    "            tickfont=dict(color='black'),\n",
    "            showgrid=True,\n",
    "            gridcolor='lightgray',\n",
    "            row=1, col=col_idx\n",
    "        )\n",
    "\n",
    "    fig.update_layout(\n",
    "        width=1200,\n",
    "        height=400,\n",
    "        paper_bgcolor='white',\n",
    "        plot_bgcolor='white',\n",
    "        font=dict(family='Times New Roman, serif', size=14),\n",
    "        legend=dict(\n",
    "            orientation='h',   # horizontal\n",
    "            yanchor='bottom',\n",
    "            y=1.1,\n",
    "            xanchor='center',\n",
    "            x=0.5,\n",
    "            bordercolor='black',\n",
    "            borderwidth=1,\n",
    "            bgcolor='rgba(255,255,255,0.9)'\n",
    "        )\n",
    "    )\n",
    "\n",
    "    return fig\n"
   ]
  },
  {
   "cell_type": "code",
   "execution_count": 47,
   "id": "4c57f8f7",
   "metadata": {},
   "outputs": [],
   "source": [
    "fig = plot_belief_length(df_belief)"
   ]
  },
  {
   "cell_type": "code",
   "execution_count": 48,
   "id": "3df4c224",
   "metadata": {},
   "outputs": [
    {
     "data": {
      "application/vnd.plotly.v1+json": {
       "config": {
        "plotlyServerURL": "https://plot.ly"
       },
       "data": [
        {
         "error_y": {
          "array": {
           "bdata": "E4J4+a7pLkDHkfGcgtI2QAzs3E43CztA481Jyh7NPUAf010bprdDQAF4vD4G1ERAM0FZo5+sRkCl1lb1/S9MQB2wjTVEWlBAkOv2/WCTVkAkd5oteWZXQO0VI8OMY1hAEuYoeTwbXEACqV1bW6BbQOL2GtNLlltARS7M5Zg9XkAPHevBw6RfQGCsHNXnLGBAKBazvFe/XED55g2jYFNhQA==",
           "dtype": "f8"
          },
          "color": "rgba(0,0,0,0.4)",
          "thickness": 1.5,
          "type": "data",
          "visible": true
         },
         "legendgroup": "deepseek/deepseek-chat (belief)",
         "line": {
          "color": "#2E91E5",
          "width": 2
         },
         "mode": "lines+markers",
         "name": "deepseek/deepseek-chat ",
         "showlegend": true,
         "type": "scatter",
         "x": {
          "bdata": "AQIDBAUGBwgJCgsMDQ4PEBESExQ=",
          "dtype": "i1"
         },
         "xaxis": "x",
         "y": {
          "bdata": "MzMzMzNLb0DNzMzMzFB5QJqZmZmZDIJA8xrKayhzhEBddNFFFz2HQImIiIiITIpASZIkSZLmi0AUrkfhegyNQMdxHMdxQJFAAAAAAAA4kEBiJ3ZiJ7KTQBQ7sRM7bZNAYid2YifWk0BVVVVVVcuVQFVVVVVVypVAq6qqqqrDlkAAAAAAAGiWQAAAAAAA3ZZAXXTRRRf1mEC66KKLLtKXQA==",
          "dtype": "f8"
         },
         "yaxis": "y"
        },
        {
         "error_y": {
          "array": {
           "bdata": "jRCldXn2MkCcRSUwrvQwQNVFzJG/pzdAFAJTjPT6QECEweiMCD9BQHyDM7etCkdAkk+bnRBAUECfQBDTCclPQN8Dz7rRxlFAVfktO4+oT0BZthG4KKBTQMy7415h11FAnPluArp0VUBDqqINO/pUQGymIn2J41BACJKpnqFhT0A2d02IxdRLQFCe6FpPY1FA074OGZVwUUDjQWhCNCpQQA==",
           "dtype": "f8"
          },
          "color": "rgba(0,0,0,0.4)",
          "thickness": 1.5,
          "type": "data",
          "visible": true
         },
         "legendgroup": "deepseek/deepseek-r1 (belief)",
         "line": {
          "color": "#E15F99",
          "width": 2
         },
         "mode": "lines+markers",
         "name": "deepseek/deepseek-r1 ",
         "showlegend": true,
         "type": "scatter",
         "x": {
          "bdata": "AQIDBAUGBwgJCgsMDQ4PEBESExQ=",
          "dtype": "i1"
         },
         "xaxis": "x",
         "y": {
          "bdata": "zczMzMy0ekBmZmZmZhOHQJqZmZmZrItAzczMzMxEjUDrBlPkszaPQMdxHMdxFJBAmpmZmZm/kEBVVVVV1bqRQJqZmZmZ95NAQ3kN5TVclEBDeQ3lNQiWQL2G8hrKE5ZAvYbyGspjlUA5juM4jhWVQKuqqqqqnJVAchzHcRzNlUCrqqqqqmiWQI7jOI7jzJVAjuM4juO+lUBVVVVVVTGWQA==",
          "dtype": "f8"
         },
         "yaxis": "y"
        },
        {
         "error_y": {
          "array": {
           "bdata": "SSEYMOMyQED9mDGuCJZIQH4VWGLlDE1ArLVRmliRUUBs1YSALVxUQGvoMSHpsVdA8KtxnPHiX0ByugM1+1VgQKaTTxh3/GFAgVgtuYnfYUBxWrxeh2RgQJSXE8da8FpA1yjfTibkYEBGtxzFsMNoQFND8JgqC2dA/hMQ+2XLbUC0PCBBuhV0QIMspLQVnXNAl3FLogcgc0CE4TxQVER5QA==",
           "dtype": "f8"
          },
          "color": "rgba(0,0,0,0.4)",
          "thickness": 1.5,
          "type": "data",
          "visible": true
         },
         "legendgroup": "google/gemini-2.5-pro (belief)",
         "line": {
          "color": "#1CA71C",
          "width": 2
         },
         "mode": "lines+markers",
         "name": "google/gemini-2.5-pro ",
         "showlegend": true,
         "type": "scatter",
         "x": {
          "bdata": "AQIDBAUGBwgJCgsMDQ4PEBESExQ=",
          "dtype": "i1"
         },
         "xaxis": "x",
         "y": {
          "bdata": "ZmZmZmZthUCamZmZGeyQQJqZmZmZaZVAxU7sxE6omECvobyG8k6aQLD4iq/4ZppAJUmSJEmYnkBcj8L1KG6gQAAAAAAADqJAmpmZmRlGokCO4ziO4+yjQAAAAAAAP6RAAAAAAADipEAAAAAAAKWlQJIkSZIkX6dAO7ETO7FvqECrqqqqKs6nQFVVVVVVb6pAAAAAAEDPq0AAAAAAgF2oQA==",
          "dtype": "f8"
         },
         "yaxis": "y"
        },
        {
         "error_y": {
          "array": {
           "bdata": "DY4ap+7RI0CJ+cfXBYUpQCTZj8PEiydANIEnE2LRKUCUHDL0PQIyQHVd7rh1AktA",
           "dtype": "f8"
          },
          "color": "rgba(0,0,0,0.4)",
          "thickness": 1.5,
          "type": "data",
          "visible": true
         },
         "legendgroup": "deepseek/deepseek-chat (belief)",
         "line": {
          "color": "#2E91E5",
          "width": 2
         },
         "mode": "lines+markers",
         "name": "deepseek/deepseek-chat ",
         "showlegend": false,
         "type": "scatter",
         "x": {
          "bdata": "AQIDBAUG",
          "dtype": "i1"
         },
         "xaxis": "x2",
         "y": {
          "bdata": "AAAAAADsaEAzMzMzMzdwQJqZmZmZo3FAAAAAAADAckDzGsprKAd1QNu2bdu2XXhA",
          "dtype": "f8"
         },
         "yaxis": "y2"
        },
        {
         "error_y": {
          "array": {
           "bdata": "waqFT4gLMkARHr7/NMNrQNVRfepx3DRAhYsZntmhOEBicwBZCH85QBIQgKfSVENA",
           "dtype": "f8"
          },
          "color": "rgba(0,0,0,0.4)",
          "thickness": 1.5,
          "type": "data",
          "visible": true
         },
         "legendgroup": "deepseek/deepseek-r1 (belief)",
         "line": {
          "color": "#E15F99",
          "width": 2
         },
         "mode": "lines+markers",
         "name": "deepseek/deepseek-r1 ",
         "showlegend": false,
         "type": "scatter",
         "x": {
          "bdata": "AQIDBAUG",
          "dtype": "i1"
         },
         "xaxis": "x2",
         "y": {
          "bdata": "MzMzMzObb0BmZmZmZmGBQOU1lNdQvnRAJUmSJEkqdEAAAAAAAKJ0QJIkSZIkOXZA",
          "dtype": "f8"
         },
         "yaxis": "y2"
        },
        {
         "error_y": {
          "array": {
           "bdata": "uA5bLmDuKkCe/DY+LvMwQPF0QJUUqjVArHlEyXBZQEBNygymEM9GQL8bxs6WIFFA",
           "dtype": "f8"
          },
          "color": "rgba(0,0,0,0.4)",
          "thickness": 1.5,
          "type": "data",
          "visible": true
         },
         "legendgroup": "google/gemini-2.5-pro (belief)",
         "line": {
          "color": "#1CA71C",
          "width": 2
         },
         "mode": "lines+markers",
         "name": "google/gemini-2.5-pro ",
         "showlegend": false,
         "type": "scatter",
         "x": {
          "bdata": "AQIDBAUG",
          "dtype": "i1"
         },
         "xaxis": "x2",
         "y": {
          "bdata": "mpmZmZk7cEDNzMzMzMhyQL2G8hrKa3NAAAAAAABLdECSJEmSJDlzQAAAAAAAkHpA",
          "dtype": "f8"
         },
         "yaxis": "y2"
        },
        {
         "error_y": {
          "array": {
           "bdata": "UdFqHoUwMUAWelYcWdoyQAX89yiawzhA6NShn+uROkDTfngnI04/QB4W1Q416EBAgc8nBWXPQ0A3zTzCp0NFQMDVZdLKEklAAU62EYoSTUDbdmN0lZlQQI/oa+K13FRAmqq5mUNmVUBigoi7wqFaQNBdIHdZA1xA5JlhooDFXEAxhDyQK1BfQJZ4n9TPwWBAYzMf/8OjY0ArVcPPFGhkQA==",
           "dtype": "f8"
          },
          "color": "rgba(0,0,0,0.4)",
          "thickness": 1.5,
          "type": "data",
          "visible": true
         },
         "legendgroup": "deepseek/deepseek-chat (belief)",
         "line": {
          "color": "#2E91E5",
          "width": 2
         },
         "mode": "lines+markers",
         "name": "deepseek/deepseek-chat ",
         "showlegend": false,
         "type": "scatter",
         "x": {
          "bdata": "AQIDBAUGBwgJCgsMDQ4PEBESExQ=",
          "dtype": "i1"
         },
         "xaxis": "x3",
         "y": {
          "bdata": "ZmZmZmaKa0CamZmZmT91QAAAAAAAAnxAAAAAAADNgUDQusEU+SyFQAAAAAAAOYhAJUmSJEmIi0CY0F5Ce0mOQGIndmInoJBAntiJndi9kUC4HoXrUUCTQOF6FK5HIZRAAAAAAAAwlkCRhSxkId+WQFnIQhayOJhA3/SmN725mUDf9KY3vR2bQAtZyEIWapxA9aY3vemdnEDRRRdddAmfQA==",
          "dtype": "f8"
         },
         "yaxis": "y3"
        },
        {
         "error_y": {
          "array": {
           "bdata": "omkwhOf7L0CTN9P9uys0QBSD/msQtjVADPW6wPz3P0DtE0iA1bhDQEQFzo25pkRAaahibTjgRUDSko7szohJQBJ6G4cdfkpAoNJbf0gLUkDuUYetVzZSQISD16naWVVAgMD0fwtLVEA6ziS/v9lSQCzdnEeHUVVAzmm5NqMXVkCYLIxXblVYQBWJWN26FFdAWHhff6HxW0AzGoJse8xZQA==",
           "dtype": "f8"
          },
          "color": "rgba(0,0,0,0.4)",
          "thickness": 1.5,
          "type": "data",
          "visible": true
         },
         "legendgroup": "deepseek/deepseek-r1 (belief)",
         "line": {
          "color": "#E15F99",
          "width": 2
         },
         "mode": "lines+markers",
         "name": "deepseek/deepseek-r1 ",
         "showlegend": false,
         "type": "scatter",
         "x": {
          "bdata": "AQIDBAUGBwgJCgsMDQ4PEBESExQ=",
          "dtype": "i1"
         },
         "xaxis": "x3",
         "y": {
          "bdata": "MzMzMzNheEBmZmZmZruBQIqd2ImdwIRAN5gin3XzhkAAAAAAwKSJQFVVVVVVVYtA7+7u7u4mikBCewntJRyNQExoL6G9BI1ASOF6FK5fjUAWspCFLMSMQM3MzMzM1o5AAAAAAECAkECrqqqqqlaRQFVVVVVVLZJAq6qqqqoykUAiIiIiIpaRQHd3d3d3A5JAsRM7sRPHkUDpoosuuhCTQA==",
          "dtype": "f8"
         },
         "yaxis": "y3"
        },
        {
         "error_y": {
          "array": {
           "bdata": "YCJ3M3rVJEA/bxd/xtUqQO4hCCGHHjBAo76fGvD6NUAyc0xVTNQ2QPAf02B5czpAdsPes2sSQECTN/X9uqBCQJyQeQO5ykJAdnN4PgwXQkBYCjVOyCJCQOYEMU9XdExAYjZbvBxPSEBGzy5R3yVIQOTNIDXy6VFAoSbDjkRiWUAucTqmdrZaQBSmoV66elxAaI28vDJNVkCNRozvR05bQA==",
           "dtype": "f8"
          },
          "color": "rgba(0,0,0,0.4)",
          "thickness": 1.5,
          "type": "data",
          "visible": true
         },
         "legendgroup": "google/gemini-2.5-pro (belief)",
         "line": {
          "color": "#1CA71C",
          "width": 2
         },
         "mode": "lines+markers",
         "name": "google/gemini-2.5-pro ",
         "showlegend": false,
         "type": "scatter",
         "x": {
          "bdata": "AQIDBAUGBwgJCgsMDQ4PEBESExQ=",
          "dtype": "i1"
         },
         "xaxis": "x3",
         "y": {
          "bdata": "mpmZmZmLdkCamZmZmdN9QMprKK+hTIJAymsor6Gkg0AAAAAAAMiEQJNNNtlk44VAAAAAAMCyh0Bu27Zt22SIQAAAAAAA3IhAVVVVVVV1iUCU11BeQ1mKQOQ4juM4jopAmpmZmZkpikCrqqqqqsSKQHTRRRddrItAAAAAAADgjECamZmZmR2NQMdxHMdxZItAAAAAAAC4iECrqqqqqnaIQA==",
          "dtype": "f8"
         },
         "yaxis": "y3"
        },
        {
         "error_y": {
          "array": {
           "bdata": "qEc+OefpKkC1/dVcHD0wQLIVhi+OhTFAozLk5ijJL0AFrD4KRUY0QKXVv1txfjVAd/xwHb/jOEDps1kWwj85QJ0xYqCmAT9ASud4mSN3QEBNpOyC/6ZAQLb4Wk/1t0BAYW+3qmd7Q0B787sIjJxFQJcdN8TRjkZAWGSXAo6kRkA1zlSjpk1KQKtPzwmJlkpAlmYi5cqETUB/DK9FbNlPQA==",
           "dtype": "f8"
          },
          "color": "rgba(0,0,0,0.4)",
          "thickness": 1.5,
          "type": "data",
          "visible": true
         },
         "legendgroup": "deepseek/deepseek-chat (belief)",
         "line": {
          "color": "#2E91E5",
          "width": 2
         },
         "mode": "lines+markers",
         "name": "deepseek/deepseek-chat ",
         "showlegend": false,
         "type": "scatter",
         "x": {
          "bdata": "AQIDBAUGBwgJCgsMDQ4PEBESExQ=",
          "dtype": "i1"
         },
         "xaxis": "x4",
         "y": {
          "bdata": "mpmZmZmJX0AAAAAAAOhlQDMzMzMz42tAzczMzMwgb0AzMzMzM6lyQMVO7MRODHZAAAAAAAAweUDFTuzETpx6QFFeQ3kNZX1AX/EVX/EtgEDT0tLS0kqBQA8PDw8PM4JApZRSSimVhEB0zjnnnNuFQO/u7u7u6oZAwnJPIyxHiEAJyz2NsHSIQLSX0F5CO4tAtJfQXkK7jECO4ziO4xiOQA==",
          "dtype": "f8"
         },
         "yaxis": "y4"
        },
        {
         "error_y": {
          "array": {
           "bdata": "0cu5bHGdLEDSdz1Erys3QEgR+w7O+DpAcDYwNmNVPkCjl/pg1GVAQKava8OoskBAE1fkUpv6QECHlL6DlUNCQAytVZp/uUFAVb4TnjrTQ0DbwTK7+tJAQAmU9lcvyEBAKscBC9h7QkD4V5JypiRDQGjS/D08w0RA+Tcb5EbjREBiUDeWKfxDQKLZuSeOA0lAMBI+XlMaUECCCCA3fBtJQA==",
           "dtype": "f8"
          },
          "color": "rgba(0,0,0,0.4)",
          "thickness": 1.5,
          "type": "data",
          "visible": true
         },
         "legendgroup": "deepseek/deepseek-r1 (belief)",
         "line": {
          "color": "#E15F99",
          "width": 2
         },
         "mode": "lines+markers",
         "name": "deepseek/deepseek-r1 ",
         "showlegend": false,
         "type": "scatter",
         "x": {
          "bdata": "AQIDBAUGBwgJCgsMDQ4PEBESExQ=",
          "dtype": "i1"
         },
         "xaxis": "x4",
         "y": {
          "bdata": "AAAAAAA6cEDNzMzMzEp7QM3MzMzMHIJAAAAAAAC7hkBmZmZmZtqIQAAAAAAAPYpAMzMzMzNVi0BmZmZmZlSMQGmQBmmQBo1AQ3kN5TV8jUDkOI7jOEaNQF/xFV/x9Y1AAAAAAAAIjUB4eHh4eICOQMIHH3zwEY5AU0oppZRijkCfRljuaQSPQJIkSZIkbY9AAAAAAABskECPwvUoXJORQA==",
          "dtype": "f8"
         },
         "yaxis": "y4"
        },
        {
         "error_y": {
          "array": {
           "bdata": "j+euH4KAOUBzQcfq8ftAQMmH5swGAERA70X6vxN1R0CMSpDgj4ZJQCjknq0V805AuZNE3yLHT0DB7GpGjXtRQHnQ12HXblZAWqnIQkBuV0CCoDYohb5XQNMTW4lf11pAIvo6EZu1XUBueQc0cupbQLWXRIzn4lxA1e5Yjv5xYUCeDoEDN+VgQGjLyZo1a2FAOZuwk1EkXkA3znF3ko1gQA==",
           "dtype": "f8"
          },
          "color": "rgba(0,0,0,0.4)",
          "thickness": 1.5,
          "type": "data",
          "visible": true
         },
         "legendgroup": "google/gemini-2.5-pro (belief)",
         "line": {
          "color": "#1CA71C",
          "width": 2
         },
         "mode": "lines+markers",
         "name": "google/gemini-2.5-pro ",
         "showlegend": false,
         "type": "scatter",
         "x": {
          "bdata": "AQIDBAUGBwgJCgsMDQ4PEBESExQ=",
          "dtype": "i1"
         },
         "xaxis": "x4",
         "y": {
          "bdata": "zczMzMwrgEAzMzMzM9aGQJqZmZmZa4xAvuVbvuVjkEDmW77lW/KRQCivobyGipNAx3Ecx3GBlUDkOI7jOAyXQMdxHMdxpphATjbZZJMxmkB0zjnnnM+aQM4555xzrppAE9pLaC/BnkBP7MRO7PCeQKuqqqrqEqBAC1nIQhZ8oEAXXXTRRQSiQMMwDMMwbKJAkiRJkiSdo0AAAAAAANugQA==",
          "dtype": "f8"
         },
         "yaxis": "y4"
        },
        {
         "error_y": {
          "array": {
           "bdata": "8bfH2pDPLUCzadOJjFhAQOyGUhbMPVBA8U+cJ3iuUUBkLf6LH7ZPQPG94V2jnjZAvVfF3yI6PUDDpnoKLLU0QIMNVx6gHVlAdhZKLlVsQEDg+MlfNEU5QEcphvyFtz1A",
           "dtype": "f8"
          },
          "color": "rgba(0,0,0,0.4)",
          "thickness": 1.5,
          "type": "data",
          "visible": true
         },
         "legendgroup": "deepseek/deepseek-chat (belief)",
         "line": {
          "color": "#2E91E5",
          "width": 2
         },
         "mode": "lines+markers",
         "name": "deepseek/deepseek-chat ",
         "showlegend": false,
         "type": "scatter",
         "x": {
          "bdata": "AQIDBAUGBwgJCgsM",
          "dtype": "i1"
         },
         "xaxis": "x5",
         "y": {
          "bdata": "MzMzMzNRdEAzMzMzM1F/QGZmZmZm44JAzczMzMwmhECamZmZmfeBQM3MzMzMoHxAmpmZmZl7e0AAAAAAAOB6QJqZmZmZwYBAmpmZmZm/e0DNzMzMzCJ8QDMzMzMzbXxA",
          "dtype": "f8"
         },
         "yaxis": "y5"
        },
        {
         "error_y": {
          "array": {
           "bdata": "Ig+KxHZfOUA6H7LMvvpFQP85CokMyEZAPDV0Sw2SS0C40Gixut5LQAhZW5yOPktAqBmLvmHNS0ABbi5RodpIQL+ydb/pZktA8J51IxzgRkC+bQHnWGFEQKUvI3LUxE1A",
           "dtype": "f8"
          },
          "color": "rgba(0,0,0,0.4)",
          "thickness": 1.5,
          "type": "data",
          "visible": true
         },
         "legendgroup": "deepseek/deepseek-r1 (belief)",
         "line": {
          "color": "#E15F99",
          "width": 2
         },
         "mode": "lines+markers",
         "name": "deepseek/deepseek-r1 ",
         "showlegend": false,
         "type": "scatter",
         "x": {
          "bdata": "AQIDBAUGBwgJCgsM",
          "dtype": "i1"
         },
         "xaxis": "x5",
         "y": {
          "bdata": "mpmZmZkJd0DNzMzMzLeDQDMzMzMzvoVAZmZmZmaQhUAndmIndjKGQMVO7MRO3IVApqWlpaUViEDwwQcffPCIQHTRRRddHIRAIyz3NMKKhEC3bdu2bR+DQMdxHMdxzIVA",
          "dtype": "f8"
         },
         "yaxis": "y5"
        },
        {
         "error_y": {
          "array": {
           "bdata": "kvI+jXsnUEBbxX6yyAZVQOyI+ZVX/1lA0Da85F7AWkBgXQo2UTZhQPo2jr/96GJAFcIAvgWVZEBhUuAmFIlzQEEsRr4x8nhAf4x+f4MFgUAAAAAAAMCBQAAAAAAAuIlA",
           "dtype": "f8"
          },
          "color": "rgba(0,0,0,0.4)",
          "thickness": 1.5,
          "type": "data",
          "visible": true
         },
         "legendgroup": "google/gemini-2.5-pro (belief)",
         "line": {
          "color": "#1CA71C",
          "width": 2
         },
         "mode": "lines+markers",
         "name": "google/gemini-2.5-pro ",
         "showlegend": false,
         "type": "scatter",
         "x": {
          "bdata": "AQIDBAUGBwgJCgsM",
          "dtype": "i1"
         },
         "xaxis": "x5",
         "y": {
          "bdata": "AAAAAAD2i0AzMzMzMwKYQJqZmZlZZaBAMzMzMzOkokA2lNdQXm+hQAAAAAAg4p5ATm9605tml0DkOI7jOHabQDMzMzMzNaNAAAAAAAA8pUAAAAAAALKkQAAAAAAAIJxA",
          "dtype": "f8"
         },
         "yaxis": "y5"
        },
        {
         "error_y": {
          "array": {
           "bdata": "jOsRaTmXRECoolGQqXxHQAux9apuB1FA4MbvK57CVUBuZ3VuCMxYQKYJ+FpColtAGNTZ36d7YEAYxDFwtkFjQAzRSCOsuWhAO++7Zi4Va0DMFFq29c5sQPxSCspZtG9AS5bQ7dhwb0BTVhUkWedwQB6kukBQq3FAGkVCGJTQc0CGbSPrWsJ1QCdlz53Q+3ZAbWWKbWJYdkD267IesKl3QA==",
           "dtype": "f8"
          },
          "color": "rgba(0,0,0,0.4)",
          "thickness": 1.5,
          "type": "data",
          "visible": true
         },
         "legendgroup": "deepseek/deepseek-chat (belief)",
         "line": {
          "color": "#2E91E5",
          "width": 2
         },
         "mode": "lines+markers",
         "name": "deepseek/deepseek-chat ",
         "showlegend": false,
         "type": "scatter",
         "x": {
          "bdata": "AQIDBAUGBwgJCgsMDQ4PEBESExQ=",
          "dtype": "i1"
         },
         "xaxis": "x6",
         "y": {
          "bdata": "MzMzMzNph0AAAAAAgEqSQJqZmZmZ8JdAmpmZmZnjnEDNzMzMTG6gQDMzMzPzxqJAAAAAAMDFpECamZmZGeGmQIM0SIM0JKhAU+SzbjDNp0AAAAAAAM+nQA8PDw8PRqlAxMPDw8N0qEAAAAAAAHCrQImIiIiIzalAJUmSJMmNq0CSJEmSJMCtQEmSJEkS/q5AewntJbShr0A7sRM7MWiwQA==",
          "dtype": "f8"
         },
         "yaxis": "y6"
        },
        {
         "error_y": {
          "array": {
           "bdata": "/vqB+bl8R0A07Oly7CJIQKxqatRrxUVAhqK2g0c7TUCFo3aXf/BMQBmHjgU1mlBAMAxeouNHU0BcnkR2hVJUQD5Wo2cPklRAOnZxFVNyVEA5H0lM9GpTQC4Bg+eizlRAU13t80ccVED9fx6aRHxRQM8QeuwsT1RA1V1d6U2eU0BfSA/SYYlUQGFHZGmvIFZA3UhOEumbWkCsQakJQixYQA==",
           "dtype": "f8"
          },
          "color": "rgba(0,0,0,0.4)",
          "thickness": 1.5,
          "type": "data",
          "visible": true
         },
         "legendgroup": "deepseek/deepseek-r1 (belief)",
         "line": {
          "color": "#E15F99",
          "width": 2
         },
         "mode": "lines+markers",
         "name": "deepseek/deepseek-r1 ",
         "showlegend": false,
         "type": "scatter",
         "x": {
          "bdata": "AQIDBAUGBwgJCgsMDQ4PEBESExQ=",
          "dtype": "i1"
         },
         "xaxis": "x6",
         "y": {
          "bdata": "zczMzEzYkEDNzMzMTOWYQGZmZmbmjJ1AzczMzEz0n0AAAAAAgLqgQM3MzMyMfaFAmpmZmVnmoUCamZmZ2WuiQJqZmZlZuqJAMzMzMzP5okAAAAAAwGejQJqZmZkZTqNAZmZmZiZAo0BmZmZmJsuiQJqZmZkZkqJAJ3ZiJ3YOo0Au3/It38yiQDuxEzuxq6JADeU1lNfLokByHMdxnK2iQA==",
          "dtype": "f8"
         },
         "yaxis": "y6"
        },
        {
         "error_y": {
          "array": {
           "bdata": "IzPdasW3QkAK6xrJOKhKQMtG0GJUDkxAxGKp6dTEUEB2x1DH9Z9RQLBySvTpzlJAAgOJEchYV0Cpgif0UchXQB2HM+KV8VtAmPWgKdJwXUB80TKT0VBkQMljzHoQZWdAhmhLN6egZkAGAeJN8aBhQLW1ok8kIWZAQR1ix/z6akBfqKcWw1FpQBKainpdFmxAPTmB94UUdEBDLZpSm1V4QA==",
           "dtype": "f8"
          },
          "color": "rgba(0,0,0,0.4)",
          "thickness": 1.5,
          "type": "data",
          "visible": true
         },
         "legendgroup": "google/gemini-2.5-pro (belief)",
         "line": {
          "color": "#1CA71C",
          "width": 2
         },
         "mode": "lines+markers",
         "name": "google/gemini-2.5-pro ",
         "showlegend": false,
         "type": "scatter",
         "x": {
          "bdata": "AQIDBAUGBwgJCgsMDQ4PEBESExQ=",
          "dtype": "i1"
         },
         "xaxis": "x6",
         "y": {
          "bdata": "MzMzM7NzlkCamZmZmR+fQAAAAACAUaNAmpmZmZnGpkBmZmZmpjSpQDMzMzMz2qpAzczMzExUq0DNzMzMDCasQDuxEzuxyaxAXkN5DeU2rUC0bjBFPuWrQHzvvffeG6xA4XoUrkd/rUCSJEmSJDmvQOh5nud5WKxApqWlpaVjrUBJkiRJkjSvQMVO7MRO9K5AAAAAAIAwqEAAAAAAgIexQA==",
          "dtype": "f8"
         },
         "yaxis": "y6"
        }
       ],
       "layout": {
        "annotations": [
         {
          "font": {
           "size": 16
          },
          "showarrow": false,
          "text": "guess_my_city",
          "x": 0.06944444444444445,
          "xanchor": "center",
          "xref": "paper",
          "y": 1,
          "yanchor": "bottom",
          "yref": "paper"
         },
         {
          "font": {
           "size": 16
          },
          "showarrow": false,
          "text": "wordle",
          "x": 0.24166666666666667,
          "xanchor": "center",
          "xref": "paper",
          "y": 1,
          "yanchor": "bottom",
          "yref": "paper"
         },
         {
          "font": {
           "size": 16
          },
          "showarrow": false,
          "text": "customer_service",
          "x": 0.41388888888888886,
          "xanchor": "center",
          "xref": "paper",
          "y": 1,
          "yanchor": "bottom",
          "yref": "paper"
         },
         {
          "font": {
           "size": 16
          },
          "showarrow": false,
          "text": "twenty_questions",
          "x": 0.5861111111111112,
          "xanchor": "center",
          "xref": "paper",
          "y": 1,
          "yanchor": "bottom",
          "yref": "paper"
         },
         {
          "font": {
           "size": 16
          },
          "showarrow": false,
          "text": "mastermind",
          "x": 0.7583333333333333,
          "xanchor": "center",
          "xref": "paper",
          "y": 1,
          "yanchor": "bottom",
          "yref": "paper"
         },
         {
          "font": {
           "size": 16
          },
          "showarrow": false,
          "text": "murder_mystery",
          "x": 0.9305555555555556,
          "xanchor": "center",
          "xref": "paper",
          "y": 1,
          "yanchor": "bottom",
          "yref": "paper"
         }
        ],
        "font": {
         "family": "Times New Roman, serif",
         "size": 14
        },
        "height": 400,
        "legend": {
         "bgcolor": "rgba(255,255,255,0.9)",
         "bordercolor": "black",
         "borderwidth": 1,
         "orientation": "h",
         "x": 0.5,
         "xanchor": "center",
         "y": 1.1,
         "yanchor": "bottom"
        },
        "paper_bgcolor": "white",
        "plot_bgcolor": "white",
        "template": {
         "data": {
          "bar": [
           {
            "error_x": {
             "color": "#2a3f5f"
            },
            "error_y": {
             "color": "#2a3f5f"
            },
            "marker": {
             "line": {
              "color": "#E5ECF6",
              "width": 0.5
             },
             "pattern": {
              "fillmode": "overlay",
              "size": 10,
              "solidity": 0.2
             }
            },
            "type": "bar"
           }
          ],
          "barpolar": [
           {
            "marker": {
             "line": {
              "color": "#E5ECF6",
              "width": 0.5
             },
             "pattern": {
              "fillmode": "overlay",
              "size": 10,
              "solidity": 0.2
             }
            },
            "type": "barpolar"
           }
          ],
          "carpet": [
           {
            "aaxis": {
             "endlinecolor": "#2a3f5f",
             "gridcolor": "white",
             "linecolor": "white",
             "minorgridcolor": "white",
             "startlinecolor": "#2a3f5f"
            },
            "baxis": {
             "endlinecolor": "#2a3f5f",
             "gridcolor": "white",
             "linecolor": "white",
             "minorgridcolor": "white",
             "startlinecolor": "#2a3f5f"
            },
            "type": "carpet"
           }
          ],
          "choropleth": [
           {
            "colorbar": {
             "outlinewidth": 0,
             "ticks": ""
            },
            "type": "choropleth"
           }
          ],
          "contour": [
           {
            "colorbar": {
             "outlinewidth": 0,
             "ticks": ""
            },
            "colorscale": [
             [
              0,
              "#0d0887"
             ],
             [
              0.1111111111111111,
              "#46039f"
             ],
             [
              0.2222222222222222,
              "#7201a8"
             ],
             [
              0.3333333333333333,
              "#9c179e"
             ],
             [
              0.4444444444444444,
              "#bd3786"
             ],
             [
              0.5555555555555556,
              "#d8576b"
             ],
             [
              0.6666666666666666,
              "#ed7953"
             ],
             [
              0.7777777777777778,
              "#fb9f3a"
             ],
             [
              0.8888888888888888,
              "#fdca26"
             ],
             [
              1,
              "#f0f921"
             ]
            ],
            "type": "contour"
           }
          ],
          "contourcarpet": [
           {
            "colorbar": {
             "outlinewidth": 0,
             "ticks": ""
            },
            "type": "contourcarpet"
           }
          ],
          "heatmap": [
           {
            "colorbar": {
             "outlinewidth": 0,
             "ticks": ""
            },
            "colorscale": [
             [
              0,
              "#0d0887"
             ],
             [
              0.1111111111111111,
              "#46039f"
             ],
             [
              0.2222222222222222,
              "#7201a8"
             ],
             [
              0.3333333333333333,
              "#9c179e"
             ],
             [
              0.4444444444444444,
              "#bd3786"
             ],
             [
              0.5555555555555556,
              "#d8576b"
             ],
             [
              0.6666666666666666,
              "#ed7953"
             ],
             [
              0.7777777777777778,
              "#fb9f3a"
             ],
             [
              0.8888888888888888,
              "#fdca26"
             ],
             [
              1,
              "#f0f921"
             ]
            ],
            "type": "heatmap"
           }
          ],
          "histogram": [
           {
            "marker": {
             "pattern": {
              "fillmode": "overlay",
              "size": 10,
              "solidity": 0.2
             }
            },
            "type": "histogram"
           }
          ],
          "histogram2d": [
           {
            "colorbar": {
             "outlinewidth": 0,
             "ticks": ""
            },
            "colorscale": [
             [
              0,
              "#0d0887"
             ],
             [
              0.1111111111111111,
              "#46039f"
             ],
             [
              0.2222222222222222,
              "#7201a8"
             ],
             [
              0.3333333333333333,
              "#9c179e"
             ],
             [
              0.4444444444444444,
              "#bd3786"
             ],
             [
              0.5555555555555556,
              "#d8576b"
             ],
             [
              0.6666666666666666,
              "#ed7953"
             ],
             [
              0.7777777777777778,
              "#fb9f3a"
             ],
             [
              0.8888888888888888,
              "#fdca26"
             ],
             [
              1,
              "#f0f921"
             ]
            ],
            "type": "histogram2d"
           }
          ],
          "histogram2dcontour": [
           {
            "colorbar": {
             "outlinewidth": 0,
             "ticks": ""
            },
            "colorscale": [
             [
              0,
              "#0d0887"
             ],
             [
              0.1111111111111111,
              "#46039f"
             ],
             [
              0.2222222222222222,
              "#7201a8"
             ],
             [
              0.3333333333333333,
              "#9c179e"
             ],
             [
              0.4444444444444444,
              "#bd3786"
             ],
             [
              0.5555555555555556,
              "#d8576b"
             ],
             [
              0.6666666666666666,
              "#ed7953"
             ],
             [
              0.7777777777777778,
              "#fb9f3a"
             ],
             [
              0.8888888888888888,
              "#fdca26"
             ],
             [
              1,
              "#f0f921"
             ]
            ],
            "type": "histogram2dcontour"
           }
          ],
          "mesh3d": [
           {
            "colorbar": {
             "outlinewidth": 0,
             "ticks": ""
            },
            "type": "mesh3d"
           }
          ],
          "parcoords": [
           {
            "line": {
             "colorbar": {
              "outlinewidth": 0,
              "ticks": ""
             }
            },
            "type": "parcoords"
           }
          ],
          "pie": [
           {
            "automargin": true,
            "type": "pie"
           }
          ],
          "scatter": [
           {
            "fillpattern": {
             "fillmode": "overlay",
             "size": 10,
             "solidity": 0.2
            },
            "type": "scatter"
           }
          ],
          "scatter3d": [
           {
            "line": {
             "colorbar": {
              "outlinewidth": 0,
              "ticks": ""
             }
            },
            "marker": {
             "colorbar": {
              "outlinewidth": 0,
              "ticks": ""
             }
            },
            "type": "scatter3d"
           }
          ],
          "scattercarpet": [
           {
            "marker": {
             "colorbar": {
              "outlinewidth": 0,
              "ticks": ""
             }
            },
            "type": "scattercarpet"
           }
          ],
          "scattergeo": [
           {
            "marker": {
             "colorbar": {
              "outlinewidth": 0,
              "ticks": ""
             }
            },
            "type": "scattergeo"
           }
          ],
          "scattergl": [
           {
            "marker": {
             "colorbar": {
              "outlinewidth": 0,
              "ticks": ""
             }
            },
            "type": "scattergl"
           }
          ],
          "scattermap": [
           {
            "marker": {
             "colorbar": {
              "outlinewidth": 0,
              "ticks": ""
             }
            },
            "type": "scattermap"
           }
          ],
          "scattermapbox": [
           {
            "marker": {
             "colorbar": {
              "outlinewidth": 0,
              "ticks": ""
             }
            },
            "type": "scattermapbox"
           }
          ],
          "scatterpolar": [
           {
            "marker": {
             "colorbar": {
              "outlinewidth": 0,
              "ticks": ""
             }
            },
            "type": "scatterpolar"
           }
          ],
          "scatterpolargl": [
           {
            "marker": {
             "colorbar": {
              "outlinewidth": 0,
              "ticks": ""
             }
            },
            "type": "scatterpolargl"
           }
          ],
          "scatterternary": [
           {
            "marker": {
             "colorbar": {
              "outlinewidth": 0,
              "ticks": ""
             }
            },
            "type": "scatterternary"
           }
          ],
          "surface": [
           {
            "colorbar": {
             "outlinewidth": 0,
             "ticks": ""
            },
            "colorscale": [
             [
              0,
              "#0d0887"
             ],
             [
              0.1111111111111111,
              "#46039f"
             ],
             [
              0.2222222222222222,
              "#7201a8"
             ],
             [
              0.3333333333333333,
              "#9c179e"
             ],
             [
              0.4444444444444444,
              "#bd3786"
             ],
             [
              0.5555555555555556,
              "#d8576b"
             ],
             [
              0.6666666666666666,
              "#ed7953"
             ],
             [
              0.7777777777777778,
              "#fb9f3a"
             ],
             [
              0.8888888888888888,
              "#fdca26"
             ],
             [
              1,
              "#f0f921"
             ]
            ],
            "type": "surface"
           }
          ],
          "table": [
           {
            "cells": {
             "fill": {
              "color": "#EBF0F8"
             },
             "line": {
              "color": "white"
             }
            },
            "header": {
             "fill": {
              "color": "#C8D4E3"
             },
             "line": {
              "color": "white"
             }
            },
            "type": "table"
           }
          ]
         },
         "layout": {
          "annotationdefaults": {
           "arrowcolor": "#2a3f5f",
           "arrowhead": 0,
           "arrowwidth": 1
          },
          "autotypenumbers": "strict",
          "coloraxis": {
           "colorbar": {
            "outlinewidth": 0,
            "ticks": ""
           }
          },
          "colorscale": {
           "diverging": [
            [
             0,
             "#8e0152"
            ],
            [
             0.1,
             "#c51b7d"
            ],
            [
             0.2,
             "#de77ae"
            ],
            [
             0.3,
             "#f1b6da"
            ],
            [
             0.4,
             "#fde0ef"
            ],
            [
             0.5,
             "#f7f7f7"
            ],
            [
             0.6,
             "#e6f5d0"
            ],
            [
             0.7,
             "#b8e186"
            ],
            [
             0.8,
             "#7fbc41"
            ],
            [
             0.9,
             "#4d9221"
            ],
            [
             1,
             "#276419"
            ]
           ],
           "sequential": [
            [
             0,
             "#0d0887"
            ],
            [
             0.1111111111111111,
             "#46039f"
            ],
            [
             0.2222222222222222,
             "#7201a8"
            ],
            [
             0.3333333333333333,
             "#9c179e"
            ],
            [
             0.4444444444444444,
             "#bd3786"
            ],
            [
             0.5555555555555556,
             "#d8576b"
            ],
            [
             0.6666666666666666,
             "#ed7953"
            ],
            [
             0.7777777777777778,
             "#fb9f3a"
            ],
            [
             0.8888888888888888,
             "#fdca26"
            ],
            [
             1,
             "#f0f921"
            ]
           ],
           "sequentialminus": [
            [
             0,
             "#0d0887"
            ],
            [
             0.1111111111111111,
             "#46039f"
            ],
            [
             0.2222222222222222,
             "#7201a8"
            ],
            [
             0.3333333333333333,
             "#9c179e"
            ],
            [
             0.4444444444444444,
             "#bd3786"
            ],
            [
             0.5555555555555556,
             "#d8576b"
            ],
            [
             0.6666666666666666,
             "#ed7953"
            ],
            [
             0.7777777777777778,
             "#fb9f3a"
            ],
            [
             0.8888888888888888,
             "#fdca26"
            ],
            [
             1,
             "#f0f921"
            ]
           ]
          },
          "colorway": [
           "#636efa",
           "#EF553B",
           "#00cc96",
           "#ab63fa",
           "#FFA15A",
           "#19d3f3",
           "#FF6692",
           "#B6E880",
           "#FF97FF",
           "#FECB52"
          ],
          "font": {
           "color": "#2a3f5f"
          },
          "geo": {
           "bgcolor": "white",
           "lakecolor": "white",
           "landcolor": "#E5ECF6",
           "showlakes": true,
           "showland": true,
           "subunitcolor": "white"
          },
          "hoverlabel": {
           "align": "left"
          },
          "hovermode": "closest",
          "mapbox": {
           "style": "light"
          },
          "paper_bgcolor": "white",
          "plot_bgcolor": "#E5ECF6",
          "polar": {
           "angularaxis": {
            "gridcolor": "white",
            "linecolor": "white",
            "ticks": ""
           },
           "bgcolor": "#E5ECF6",
           "radialaxis": {
            "gridcolor": "white",
            "linecolor": "white",
            "ticks": ""
           }
          },
          "scene": {
           "xaxis": {
            "backgroundcolor": "#E5ECF6",
            "gridcolor": "white",
            "gridwidth": 2,
            "linecolor": "white",
            "showbackground": true,
            "ticks": "",
            "zerolinecolor": "white"
           },
           "yaxis": {
            "backgroundcolor": "#E5ECF6",
            "gridcolor": "white",
            "gridwidth": 2,
            "linecolor": "white",
            "showbackground": true,
            "ticks": "",
            "zerolinecolor": "white"
           },
           "zaxis": {
            "backgroundcolor": "#E5ECF6",
            "gridcolor": "white",
            "gridwidth": 2,
            "linecolor": "white",
            "showbackground": true,
            "ticks": "",
            "zerolinecolor": "white"
           }
          },
          "shapedefaults": {
           "line": {
            "color": "#2a3f5f"
           }
          },
          "ternary": {
           "aaxis": {
            "gridcolor": "white",
            "linecolor": "white",
            "ticks": ""
           },
           "baxis": {
            "gridcolor": "white",
            "linecolor": "white",
            "ticks": ""
           },
           "bgcolor": "#E5ECF6",
           "caxis": {
            "gridcolor": "white",
            "linecolor": "white",
            "ticks": ""
           }
          },
          "title": {
           "x": 0.05
          },
          "xaxis": {
           "automargin": true,
           "gridcolor": "white",
           "linecolor": "white",
           "ticks": "",
           "title": {
            "standoff": 15
           },
           "zerolinecolor": "white",
           "zerolinewidth": 2
          },
          "yaxis": {
           "automargin": true,
           "gridcolor": "white",
           "linecolor": "white",
           "ticks": "",
           "title": {
            "standoff": 15
           },
           "zerolinecolor": "white",
           "zerolinewidth": 2
          }
         }
        },
        "width": 1200,
        "xaxis": {
         "anchor": "y",
         "color": "black",
         "domain": [
          0,
          0.1388888888888889
         ],
         "linecolor": "black",
         "linewidth": 1,
         "showgrid": false,
         "showline": true,
         "title": {
          "text": "Step"
         }
        },
        "xaxis2": {
         "anchor": "y2",
         "color": "black",
         "domain": [
          0.17222222222222222,
          0.3111111111111111
         ],
         "linecolor": "black",
         "linewidth": 1,
         "showgrid": false,
         "showline": true,
         "title": {
          "text": "Step"
         }
        },
        "xaxis3": {
         "anchor": "y3",
         "color": "black",
         "domain": [
          0.34444444444444444,
          0.48333333333333334
         ],
         "linecolor": "black",
         "linewidth": 1,
         "showgrid": false,
         "showline": true,
         "title": {
          "text": "Step"
         }
        },
        "xaxis4": {
         "anchor": "y4",
         "color": "black",
         "domain": [
          0.5166666666666667,
          0.6555555555555557
         ],
         "linecolor": "black",
         "linewidth": 1,
         "showgrid": false,
         "showline": true,
         "title": {
          "text": "Step"
         }
        },
        "xaxis5": {
         "anchor": "y5",
         "color": "black",
         "domain": [
          0.6888888888888889,
          0.8277777777777777
         ],
         "linecolor": "black",
         "linewidth": 1,
         "showgrid": false,
         "showline": true,
         "title": {
          "text": "Step"
         }
        },
        "xaxis6": {
         "anchor": "y6",
         "color": "black",
         "domain": [
          0.861111111111111,
          1
         ],
         "linecolor": "black",
         "linewidth": 1,
         "showgrid": false,
         "showline": true,
         "title": {
          "text": "Step"
         }
        },
        "yaxis": {
         "anchor": "x",
         "domain": [
          0,
          1
         ],
         "gridcolor": "lightgray",
         "linecolor": "black",
         "linewidth": 1,
         "showgrid": true,
         "showline": true,
         "tickfont": {
          "color": "black"
         },
         "title": {
          "text": "Avg. belief length (chars)"
         }
        },
        "yaxis2": {
         "anchor": "x2",
         "domain": [
          0,
          1
         ],
         "gridcolor": "lightgray",
         "linecolor": "black",
         "linewidth": 1,
         "showgrid": true,
         "showline": true,
         "tickfont": {
          "color": "black"
         }
        },
        "yaxis3": {
         "anchor": "x3",
         "domain": [
          0,
          1
         ],
         "gridcolor": "lightgray",
         "linecolor": "black",
         "linewidth": 1,
         "showgrid": true,
         "showline": true,
         "tickfont": {
          "color": "black"
         }
        },
        "yaxis4": {
         "anchor": "x4",
         "domain": [
          0,
          1
         ],
         "gridcolor": "lightgray",
         "linecolor": "black",
         "linewidth": 1,
         "showgrid": true,
         "showline": true,
         "tickfont": {
          "color": "black"
         }
        },
        "yaxis5": {
         "anchor": "x5",
         "domain": [
          0,
          1
         ],
         "gridcolor": "lightgray",
         "linecolor": "black",
         "linewidth": 1,
         "showgrid": true,
         "showline": true,
         "tickfont": {
          "color": "black"
         }
        },
        "yaxis6": {
         "anchor": "x6",
         "domain": [
          0,
          1
         ],
         "gridcolor": "lightgray",
         "linecolor": "black",
         "linewidth": 1,
         "showgrid": true,
         "showline": true,
         "tickfont": {
          "color": "black"
         }
        }
       }
      }
     },
     "metadata": {},
     "output_type": "display_data"
    }
   ],
   "source": [
    "fig.show()"
   ]
  },
  {
   "cell_type": "markdown",
   "id": "d3d7b5bb",
   "metadata": {},
   "source": [
    "## 4. Greediness Metrics"
   ]
  },
  {
   "cell_type": "code",
   "execution_count": 49,
   "id": "90539d27",
   "metadata": {},
   "outputs": [],
   "source": [
    "df_mastermind = df[df['env'] == 'mastermind']"
   ]
  },
  {
   "cell_type": "code",
   "execution_count": 56,
   "id": "529d847a",
   "metadata": {},
   "outputs": [
    {
     "name": "stdout",
     "output_type": "stream",
     "text": [
      "    game_id  attempt                        model_info    guess\n",
      "102       0        1  deepseek/deepseek-chat (history)  1 2 3 4\n",
      "103       0        2  deepseek/deepseek-chat (history)  5 6 7 8\n"
     ]
    }
   ],
   "source": [
    "print(df_mastermind[['game_id', 'attempt', 'model_info', 'guess']].head(2))"
   ]
  },
  {
   "cell_type": "code",
   "execution_count": 160,
   "id": "3e3856f0",
   "metadata": {},
   "outputs": [],
   "source": [
    "import plotly.graph_objects as go\n",
    "import pandas as pd\n",
    "import numpy as np\n",
    "\n",
    "def plot_greediness(df):\n",
    "    \"\"\"\n",
    "    Create a bar chart showing greediness for each model.\n",
    "    \n",
    "    Greediness is defined as the fraction of times a model repeats\n",
    "    a particular guess at a particular position across games.\n",
    "    \n",
    "    Parameters:\n",
    "    df (pd.DataFrame): DataFrame with columns 'game_id', 'attempt', 'model_info', 'guess'\n",
    "    \n",
    "    Returns:\n",
    "    plotly.graph_objects.Figure: Bar chart figure\n",
    "    \"\"\"\n",
    "    \n",
    "    # Fixed colors for different models\n",
    "    colors = [\n",
    "        \"#ADD8E6\",  # light blue\n",
    "        \"#4682B4\",  # medium blue\n",
    "        \"#003366\",  # dark blue\n",
    "        \"#FFB6C1\",  # light red\n",
    "        \"#FF6347\",  # medium red\n",
    "        \"#8B0000\",  # dark red\n",
    "        \"#90EE90\",  # light green\n",
    "        \"#32CD32\",  # medium green\n",
    "        \"#006400\",  # dark green\n",
    "    ]\n",
    "    \n",
    "    greediness_results = []\n",
    "    \n",
    "    # Group by model_info\n",
    "    for model_idx, (model, model_data) in enumerate(df.groupby('model_info')):\n",
    "        # Group by game_id to get sequences of guesses\n",
    "        game_sequences = []\n",
    "        for game_id, game_data in model_data.groupby('game_id'):\n",
    "            # Sort by attempt to get the correct sequence\n",
    "            sequence = game_data.sort_values('attempt')['guess'].tolist()\n",
    "            game_sequences.append(sequence)\n",
    "        \n",
    "        # Calculate greediness for each game separately to get variance\n",
    "        game_greediness_values = []\n",
    "        \n",
    "        # For each game, calculate its greediness\n",
    "        for seq in game_sequences:\n",
    "            game_total_greediness = 0\n",
    "            game_total_positions = 0\n",
    "            \n",
    "            # For each position in this game's sequence\n",
    "            for pos in range(len(seq)):\n",
    "                # Get all guesses at this position across ALL games for comparison\n",
    "                guesses_at_position = []\n",
    "                for other_seq in game_sequences:\n",
    "                    if pos < len(other_seq):\n",
    "                        guesses_at_position.append(other_seq[pos])\n",
    "                \n",
    "                if len(guesses_at_position) > 1:\n",
    "                    # Count repeats\n",
    "                    unique_guesses = len(set(guesses_at_position))\n",
    "                    total_guesses = len(guesses_at_position)\n",
    "                    \n",
    "                    # Greediness = 1 - (unique_guesses / total_guesses)\n",
    "                    position_greediness = 1 - (unique_guesses / total_guesses)\n",
    "                    \n",
    "                    game_total_greediness += position_greediness\n",
    "                    game_total_positions += 1\n",
    "            \n",
    "            # Average greediness for this game\n",
    "            if game_total_positions > 0:\n",
    "                game_avg_greediness = (game_total_greediness / game_total_positions * 100)\n",
    "                game_greediness_values.append(game_avg_greediness)\n",
    "        \n",
    "        # Calculate mean and standard error\n",
    "        if game_greediness_values:\n",
    "            avg_greediness = np.mean(game_greediness_values)\n",
    "            std_error = np.std(game_greediness_values, ddof=1) / np.sqrt(len(game_greediness_values)) if len(game_greediness_values) > 1 else 0\n",
    "        else:\n",
    "            avg_greediness = 0\n",
    "            std_error = 0\n",
    "        \n",
    "        greediness_results.append({\n",
    "            'model': model,\n",
    "            'greediness': avg_greediness,\n",
    "            'std_error': std_error,\n",
    "            'color': colors[model_idx % len(colors)]\n",
    "        })\n",
    "\n",
    "    desired_order = [0, 2, 1, 3, 5, 4, 6, 8, 7]\n",
    "    greediness_results = [greediness_results[i] for i in desired_order]\n",
    "    \n",
    "    # Create the bar chart\n",
    "    fig = go.Figure()\n",
    "    \n",
    "    # Add bars\n",
    "    models = [result['model'] for result in greediness_results]\n",
    "    greediness_values = [result['greediness'] for result in greediness_results]\n",
    "    error_values = [result['std_error'] for result in greediness_results]\n",
    "    bar_colors = [result['color'] for result in greediness_results]\n",
    "    \n",
    "    fig.add_trace(go.Bar(\n",
    "        x=models,\n",
    "        y=greediness_values,\n",
    "        error_y=dict(\n",
    "            type='data',\n",
    "            array=error_values,\n",
    "            visible=True,\n",
    "            color='black',\n",
    "            thickness=1.5,\n",
    "            width=3\n",
    "        ),\n",
    "        marker_color=bar_colors,\n",
    "        marker_line_color='black',\n",
    "        marker_line_width=1,\n",
    "        width=0.6\n",
    "    ))\n",
    "    \n",
    "    # Update layout for professional appearance\n",
    "    fig.update_layout(\n",
    "        title={\n",
    "            'text': '',\n",
    "            'x': 0.5,\n",
    "            'font': {'family': 'Computer Modern, serif', 'size': 16}\n",
    "        },\n",
    "        xaxis={\n",
    "            'title': 'Model + Info (Mastermind)',\n",
    "            'title_font': {'family': 'Computer Modern, serif', 'size': 14},\n",
    "            'tickfont': {'family': 'Computer Modern, serif', 'size': 14},\n",
    "            'showgrid': False,\n",
    "            'showline': True,\n",
    "            'linewidth': 1,\n",
    "            'linecolor': 'black',\n",
    "            'mirror': True\n",
    "        },\n",
    "        yaxis={\n",
    "            'title': 'Greediness (% of repeats)',\n",
    "            'title_font': {'family': 'Computer Modern, serif', 'size': 14},\n",
    "            'tickfont': {'family': 'Computer Modern, serif', 'size': 14},\n",
    "            'showgrid': False,\n",
    "            'showline': True,\n",
    "            'linewidth': 1,\n",
    "            'linecolor': 'black',\n",
    "            'mirror': True,\n",
    "            'range': [0, max([g + e for g, e in zip(greediness_values, error_values)]) * 1.1 if greediness_values else 100]\n",
    "        },\n",
    "        plot_bgcolor='white',\n",
    "        paper_bgcolor='white',\n",
    "        font={'family': 'Computer Modern, serif'},\n",
    "        width=800,\n",
    "        height=500,\n",
    "        margin=dict(l=80, r=50, t=80, b=80)\n",
    "    )\n",
    "    \n",
    "    # Add grid lines manually for a cleaner look\n",
    "    fig.update_yaxes(showgrid=True, gridwidth=0.5, gridcolor='lightgray')\n",
    "    \n",
    "    return fig"
   ]
  },
  {
   "cell_type": "code",
   "execution_count": 161,
   "id": "2b98a054",
   "metadata": {},
   "outputs": [],
   "source": [
    "models_list = [\n",
    "    'deepseek/deepseek-chat (belief)',\n",
    "    'deepseek/deepseek-chat (history)',\n",
    "    'deepseek/deepseek-chat (both)',\n",
    "    'deepseek/deepseek-r1 (belief)'\n",
    "    'deepseek/deepseek-r1 (history)',\n",
    "    'deepseek/deepseek-r1 (both)',\n",
    "    'google/gemini-2.5-pro (belief)',\n",
    "    'google/gemini-2.5-pro (history)',\n",
    "    'google/gemini-2.5-pro (both)',\n",
    "    ]\n",
    "\n",
    "fig = plot_greediness(df_mastermind)"
   ]
  },
  {
   "cell_type": "code",
   "execution_count": 162,
   "id": "1635dd9e",
   "metadata": {},
   "outputs": [
    {
     "data": {
      "application/vnd.plotly.v1+json": {
       "config": {
        "plotlyServerURL": "https://plot.ly"
       },
       "data": [
        {
         "error_y": {
          "array": [
           0,
           0.10190278046322825,
           0.17927137831898227,
           0.726319068537145,
           0.5408118931841324,
           0.7127611056597102,
           1.105560111771279,
           1.1108371075328574,
           0.9932638026341263
          ],
          "color": "black",
          "thickness": 1.5,
          "type": "data",
          "visible": true,
          "width": 3
         },
         "marker": {
          "color": [
           "#ADD8E6",
           "#003366",
           "#4682B4",
           "#FFB6C1",
           "#8B0000",
           "#FF6347",
           "#90EE90",
           "#006400",
           "#32CD32"
          ],
          "line": {
           "color": "black",
           "width": 1
          }
         },
         "type": "bar",
         "width": 0.6,
         "x": [
          "deepseek/deepseek-chat (belief)",
          "deepseek/deepseek-chat (history)",
          "deepseek/deepseek-chat (both)",
          "deepseek/deepseek-r1 (belief)",
          "deepseek/deepseek-r1 (history)",
          "deepseek/deepseek-r1 (both)",
          "google/gemini-2.5-pro (belief)",
          "google/gemini-2.5-pro (history)",
          "google/gemini-2.5-pro (both)"
         ],
         "y": [
          11.874999999999998,
          12.000946969696969,
          14.4109375,
          13.07123758594347,
          11.614917027417027,
          12.707690746753247,
          29.010416666666664,
          24.02854437229437,
          29.625297619047622
         ]
        }
       ],
       "layout": {
        "font": {
         "family": "Computer Modern, serif"
        },
        "height": 500,
        "margin": {
         "b": 80,
         "l": 80,
         "r": 50,
         "t": 80
        },
        "paper_bgcolor": "white",
        "plot_bgcolor": "white",
        "template": {
         "data": {
          "bar": [
           {
            "error_x": {
             "color": "#2a3f5f"
            },
            "error_y": {
             "color": "#2a3f5f"
            },
            "marker": {
             "line": {
              "color": "#E5ECF6",
              "width": 0.5
             },
             "pattern": {
              "fillmode": "overlay",
              "size": 10,
              "solidity": 0.2
             }
            },
            "type": "bar"
           }
          ],
          "barpolar": [
           {
            "marker": {
             "line": {
              "color": "#E5ECF6",
              "width": 0.5
             },
             "pattern": {
              "fillmode": "overlay",
              "size": 10,
              "solidity": 0.2
             }
            },
            "type": "barpolar"
           }
          ],
          "carpet": [
           {
            "aaxis": {
             "endlinecolor": "#2a3f5f",
             "gridcolor": "white",
             "linecolor": "white",
             "minorgridcolor": "white",
             "startlinecolor": "#2a3f5f"
            },
            "baxis": {
             "endlinecolor": "#2a3f5f",
             "gridcolor": "white",
             "linecolor": "white",
             "minorgridcolor": "white",
             "startlinecolor": "#2a3f5f"
            },
            "type": "carpet"
           }
          ],
          "choropleth": [
           {
            "colorbar": {
             "outlinewidth": 0,
             "ticks": ""
            },
            "type": "choropleth"
           }
          ],
          "contour": [
           {
            "colorbar": {
             "outlinewidth": 0,
             "ticks": ""
            },
            "colorscale": [
             [
              0,
              "#0d0887"
             ],
             [
              0.1111111111111111,
              "#46039f"
             ],
             [
              0.2222222222222222,
              "#7201a8"
             ],
             [
              0.3333333333333333,
              "#9c179e"
             ],
             [
              0.4444444444444444,
              "#bd3786"
             ],
             [
              0.5555555555555556,
              "#d8576b"
             ],
             [
              0.6666666666666666,
              "#ed7953"
             ],
             [
              0.7777777777777778,
              "#fb9f3a"
             ],
             [
              0.8888888888888888,
              "#fdca26"
             ],
             [
              1,
              "#f0f921"
             ]
            ],
            "type": "contour"
           }
          ],
          "contourcarpet": [
           {
            "colorbar": {
             "outlinewidth": 0,
             "ticks": ""
            },
            "type": "contourcarpet"
           }
          ],
          "heatmap": [
           {
            "colorbar": {
             "outlinewidth": 0,
             "ticks": ""
            },
            "colorscale": [
             [
              0,
              "#0d0887"
             ],
             [
              0.1111111111111111,
              "#46039f"
             ],
             [
              0.2222222222222222,
              "#7201a8"
             ],
             [
              0.3333333333333333,
              "#9c179e"
             ],
             [
              0.4444444444444444,
              "#bd3786"
             ],
             [
              0.5555555555555556,
              "#d8576b"
             ],
             [
              0.6666666666666666,
              "#ed7953"
             ],
             [
              0.7777777777777778,
              "#fb9f3a"
             ],
             [
              0.8888888888888888,
              "#fdca26"
             ],
             [
              1,
              "#f0f921"
             ]
            ],
            "type": "heatmap"
           }
          ],
          "histogram": [
           {
            "marker": {
             "pattern": {
              "fillmode": "overlay",
              "size": 10,
              "solidity": 0.2
             }
            },
            "type": "histogram"
           }
          ],
          "histogram2d": [
           {
            "colorbar": {
             "outlinewidth": 0,
             "ticks": ""
            },
            "colorscale": [
             [
              0,
              "#0d0887"
             ],
             [
              0.1111111111111111,
              "#46039f"
             ],
             [
              0.2222222222222222,
              "#7201a8"
             ],
             [
              0.3333333333333333,
              "#9c179e"
             ],
             [
              0.4444444444444444,
              "#bd3786"
             ],
             [
              0.5555555555555556,
              "#d8576b"
             ],
             [
              0.6666666666666666,
              "#ed7953"
             ],
             [
              0.7777777777777778,
              "#fb9f3a"
             ],
             [
              0.8888888888888888,
              "#fdca26"
             ],
             [
              1,
              "#f0f921"
             ]
            ],
            "type": "histogram2d"
           }
          ],
          "histogram2dcontour": [
           {
            "colorbar": {
             "outlinewidth": 0,
             "ticks": ""
            },
            "colorscale": [
             [
              0,
              "#0d0887"
             ],
             [
              0.1111111111111111,
              "#46039f"
             ],
             [
              0.2222222222222222,
              "#7201a8"
             ],
             [
              0.3333333333333333,
              "#9c179e"
             ],
             [
              0.4444444444444444,
              "#bd3786"
             ],
             [
              0.5555555555555556,
              "#d8576b"
             ],
             [
              0.6666666666666666,
              "#ed7953"
             ],
             [
              0.7777777777777778,
              "#fb9f3a"
             ],
             [
              0.8888888888888888,
              "#fdca26"
             ],
             [
              1,
              "#f0f921"
             ]
            ],
            "type": "histogram2dcontour"
           }
          ],
          "mesh3d": [
           {
            "colorbar": {
             "outlinewidth": 0,
             "ticks": ""
            },
            "type": "mesh3d"
           }
          ],
          "parcoords": [
           {
            "line": {
             "colorbar": {
              "outlinewidth": 0,
              "ticks": ""
             }
            },
            "type": "parcoords"
           }
          ],
          "pie": [
           {
            "automargin": true,
            "type": "pie"
           }
          ],
          "scatter": [
           {
            "fillpattern": {
             "fillmode": "overlay",
             "size": 10,
             "solidity": 0.2
            },
            "type": "scatter"
           }
          ],
          "scatter3d": [
           {
            "line": {
             "colorbar": {
              "outlinewidth": 0,
              "ticks": ""
             }
            },
            "marker": {
             "colorbar": {
              "outlinewidth": 0,
              "ticks": ""
             }
            },
            "type": "scatter3d"
           }
          ],
          "scattercarpet": [
           {
            "marker": {
             "colorbar": {
              "outlinewidth": 0,
              "ticks": ""
             }
            },
            "type": "scattercarpet"
           }
          ],
          "scattergeo": [
           {
            "marker": {
             "colorbar": {
              "outlinewidth": 0,
              "ticks": ""
             }
            },
            "type": "scattergeo"
           }
          ],
          "scattergl": [
           {
            "marker": {
             "colorbar": {
              "outlinewidth": 0,
              "ticks": ""
             }
            },
            "type": "scattergl"
           }
          ],
          "scattermap": [
           {
            "marker": {
             "colorbar": {
              "outlinewidth": 0,
              "ticks": ""
             }
            },
            "type": "scattermap"
           }
          ],
          "scattermapbox": [
           {
            "marker": {
             "colorbar": {
              "outlinewidth": 0,
              "ticks": ""
             }
            },
            "type": "scattermapbox"
           }
          ],
          "scatterpolar": [
           {
            "marker": {
             "colorbar": {
              "outlinewidth": 0,
              "ticks": ""
             }
            },
            "type": "scatterpolar"
           }
          ],
          "scatterpolargl": [
           {
            "marker": {
             "colorbar": {
              "outlinewidth": 0,
              "ticks": ""
             }
            },
            "type": "scatterpolargl"
           }
          ],
          "scatterternary": [
           {
            "marker": {
             "colorbar": {
              "outlinewidth": 0,
              "ticks": ""
             }
            },
            "type": "scatterternary"
           }
          ],
          "surface": [
           {
            "colorbar": {
             "outlinewidth": 0,
             "ticks": ""
            },
            "colorscale": [
             [
              0,
              "#0d0887"
             ],
             [
              0.1111111111111111,
              "#46039f"
             ],
             [
              0.2222222222222222,
              "#7201a8"
             ],
             [
              0.3333333333333333,
              "#9c179e"
             ],
             [
              0.4444444444444444,
              "#bd3786"
             ],
             [
              0.5555555555555556,
              "#d8576b"
             ],
             [
              0.6666666666666666,
              "#ed7953"
             ],
             [
              0.7777777777777778,
              "#fb9f3a"
             ],
             [
              0.8888888888888888,
              "#fdca26"
             ],
             [
              1,
              "#f0f921"
             ]
            ],
            "type": "surface"
           }
          ],
          "table": [
           {
            "cells": {
             "fill": {
              "color": "#EBF0F8"
             },
             "line": {
              "color": "white"
             }
            },
            "header": {
             "fill": {
              "color": "#C8D4E3"
             },
             "line": {
              "color": "white"
             }
            },
            "type": "table"
           }
          ]
         },
         "layout": {
          "annotationdefaults": {
           "arrowcolor": "#2a3f5f",
           "arrowhead": 0,
           "arrowwidth": 1
          },
          "autotypenumbers": "strict",
          "coloraxis": {
           "colorbar": {
            "outlinewidth": 0,
            "ticks": ""
           }
          },
          "colorscale": {
           "diverging": [
            [
             0,
             "#8e0152"
            ],
            [
             0.1,
             "#c51b7d"
            ],
            [
             0.2,
             "#de77ae"
            ],
            [
             0.3,
             "#f1b6da"
            ],
            [
             0.4,
             "#fde0ef"
            ],
            [
             0.5,
             "#f7f7f7"
            ],
            [
             0.6,
             "#e6f5d0"
            ],
            [
             0.7,
             "#b8e186"
            ],
            [
             0.8,
             "#7fbc41"
            ],
            [
             0.9,
             "#4d9221"
            ],
            [
             1,
             "#276419"
            ]
           ],
           "sequential": [
            [
             0,
             "#0d0887"
            ],
            [
             0.1111111111111111,
             "#46039f"
            ],
            [
             0.2222222222222222,
             "#7201a8"
            ],
            [
             0.3333333333333333,
             "#9c179e"
            ],
            [
             0.4444444444444444,
             "#bd3786"
            ],
            [
             0.5555555555555556,
             "#d8576b"
            ],
            [
             0.6666666666666666,
             "#ed7953"
            ],
            [
             0.7777777777777778,
             "#fb9f3a"
            ],
            [
             0.8888888888888888,
             "#fdca26"
            ],
            [
             1,
             "#f0f921"
            ]
           ],
           "sequentialminus": [
            [
             0,
             "#0d0887"
            ],
            [
             0.1111111111111111,
             "#46039f"
            ],
            [
             0.2222222222222222,
             "#7201a8"
            ],
            [
             0.3333333333333333,
             "#9c179e"
            ],
            [
             0.4444444444444444,
             "#bd3786"
            ],
            [
             0.5555555555555556,
             "#d8576b"
            ],
            [
             0.6666666666666666,
             "#ed7953"
            ],
            [
             0.7777777777777778,
             "#fb9f3a"
            ],
            [
             0.8888888888888888,
             "#fdca26"
            ],
            [
             1,
             "#f0f921"
            ]
           ]
          },
          "colorway": [
           "#636efa",
           "#EF553B",
           "#00cc96",
           "#ab63fa",
           "#FFA15A",
           "#19d3f3",
           "#FF6692",
           "#B6E880",
           "#FF97FF",
           "#FECB52"
          ],
          "font": {
           "color": "#2a3f5f"
          },
          "geo": {
           "bgcolor": "white",
           "lakecolor": "white",
           "landcolor": "#E5ECF6",
           "showlakes": true,
           "showland": true,
           "subunitcolor": "white"
          },
          "hoverlabel": {
           "align": "left"
          },
          "hovermode": "closest",
          "mapbox": {
           "style": "light"
          },
          "paper_bgcolor": "white",
          "plot_bgcolor": "#E5ECF6",
          "polar": {
           "angularaxis": {
            "gridcolor": "white",
            "linecolor": "white",
            "ticks": ""
           },
           "bgcolor": "#E5ECF6",
           "radialaxis": {
            "gridcolor": "white",
            "linecolor": "white",
            "ticks": ""
           }
          },
          "scene": {
           "xaxis": {
            "backgroundcolor": "#E5ECF6",
            "gridcolor": "white",
            "gridwidth": 2,
            "linecolor": "white",
            "showbackground": true,
            "ticks": "",
            "zerolinecolor": "white"
           },
           "yaxis": {
            "backgroundcolor": "#E5ECF6",
            "gridcolor": "white",
            "gridwidth": 2,
            "linecolor": "white",
            "showbackground": true,
            "ticks": "",
            "zerolinecolor": "white"
           },
           "zaxis": {
            "backgroundcolor": "#E5ECF6",
            "gridcolor": "white",
            "gridwidth": 2,
            "linecolor": "white",
            "showbackground": true,
            "ticks": "",
            "zerolinecolor": "white"
           }
          },
          "shapedefaults": {
           "line": {
            "color": "#2a3f5f"
           }
          },
          "ternary": {
           "aaxis": {
            "gridcolor": "white",
            "linecolor": "white",
            "ticks": ""
           },
           "baxis": {
            "gridcolor": "white",
            "linecolor": "white",
            "ticks": ""
           },
           "bgcolor": "#E5ECF6",
           "caxis": {
            "gridcolor": "white",
            "linecolor": "white",
            "ticks": ""
           }
          },
          "title": {
           "x": 0.05
          },
          "xaxis": {
           "automargin": true,
           "gridcolor": "white",
           "linecolor": "white",
           "ticks": "",
           "title": {
            "standoff": 15
           },
           "zerolinecolor": "white",
           "zerolinewidth": 2
          },
          "yaxis": {
           "automargin": true,
           "gridcolor": "white",
           "linecolor": "white",
           "ticks": "",
           "title": {
            "standoff": 15
           },
           "zerolinecolor": "white",
           "zerolinewidth": 2
          }
         }
        },
        "title": {
         "font": {
          "family": "Computer Modern, serif",
          "size": 16
         },
         "text": "",
         "x": 0.5
        },
        "width": 800,
        "xaxis": {
         "linecolor": "black",
         "linewidth": 1,
         "mirror": true,
         "showgrid": false,
         "showline": true,
         "tickfont": {
          "family": "Computer Modern, serif",
          "size": 14
         },
         "title": {
          "font": {
           "family": "Computer Modern, serif",
           "size": 14
          },
          "text": "Model + Info (Mastermind)"
         }
        },
        "yaxis": {
         "gridcolor": "lightgray",
         "gridwidth": 0.5,
         "linecolor": "black",
         "linewidth": 1,
         "mirror": true,
         "range": [
          0,
          33.68041756384992
         ],
         "showgrid": true,
         "showline": true,
         "tickfont": {
          "family": "Computer Modern, serif",
          "size": 14
         },
         "title": {
          "font": {
           "family": "Computer Modern, serif",
           "size": 14
          },
          "text": "Greediness (% of repeats)"
         }
        }
       }
      }
     },
     "metadata": {},
     "output_type": "display_data"
    }
   ],
   "source": [
    "fig.show()"
   ]
  },
  {
   "cell_type": "code",
   "execution_count": 116,
   "id": "fb5f3138",
   "metadata": {},
   "outputs": [
    {
     "data": {
      "text/plain": [
       "['deepseek/deepseek-chat (history)',\n",
       " 'deepseek/deepseek-chat (both)',\n",
       " 'google/gemini-2.5-pro (history)',\n",
       " 'deepseek/deepseek-chat (belief)',\n",
       " 'deepseek/deepseek-r1 (history)',\n",
       " 'google/gemini-2.5-pro (belief)',\n",
       " 'google/gemini-2.5-pro (both)',\n",
       " 'deepseek/deepseek-r1 (both)',\n",
       " 'deepseek/deepseek-r1 (belief)']"
      ]
     },
     "execution_count": 116,
     "metadata": {},
     "output_type": "execute_result"
    }
   ],
   "source": [
    "list(df.model_info.unique())"
   ]
  },
  {
   "cell_type": "code",
   "execution_count": null,
   "id": "6d33171d",
   "metadata": {},
   "outputs": [],
   "source": []
  },
  {
   "cell_type": "code",
   "execution_count": null,
   "id": "97d2bfcd",
   "metadata": {},
   "outputs": [],
   "source": []
  },
  {
   "cell_type": "code",
   "execution_count": null,
   "id": "2523b070",
   "metadata": {},
   "outputs": [],
   "source": []
  },
  {
   "cell_type": "code",
   "execution_count": null,
   "id": "295ea216",
   "metadata": {},
   "outputs": [],
   "source": []
  }
 ],
 "metadata": {
  "kernelspec": {
   "display_name": "verl",
   "language": "python",
   "name": "python3"
  },
  "language_info": {
   "codemirror_mode": {
    "name": "ipython",
    "version": 3
   },
   "file_extension": ".py",
   "mimetype": "text/x-python",
   "name": "python",
   "nbconvert_exporter": "python",
   "pygments_lexer": "ipython3",
   "version": "3.10.18"
  }
 },
 "nbformat": 4,
 "nbformat_minor": 5
}
