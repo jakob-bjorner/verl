{
 "cells": [
  {
   "cell_type": "markdown",
   "id": "4bc7077f",
   "metadata": {},
   "source": [
    "# 1. Load the Paprika Environments"
   ]
  },
  {
   "cell_type": "code",
   "execution_count": 1,
   "id": "9e7df930",
   "metadata": {},
   "outputs": [
    {
     "name": "stdout",
     "output_type": "stream",
     "text": [
      "Could not import JerichoInferenceEngine, so cannot use it!\n",
      "Could not import VLLMInferenceEngine, so cannot use it!\n"
     ]
    },
    {
     "data": {
      "text/plain": [
       "True"
      ]
     },
     "execution_count": 1,
     "metadata": {},
     "output_type": "execute_result"
    }
   ],
   "source": [
    "%load_ext autoreload\n",
    "%autoreload 2\n",
    "import sys\n",
    "import pandas as pd\n",
    "sys.path.append('../../paprika/') # Remove this when verl and paprika are installed in the same env\n",
    "from llm_exploration.paprika_config_helper import PaprikaConfigHelper\n",
    "from verl.interactions.paprika_interaction import PaprikaInteraction\n",
    "from pprint import pprint as pp\n",
    "paprika_games = ['twenty_questions', 'guess_my_city', 'murder_mystery', 'customer_service', 'wordle', 'cellular_automata', \\\n",
    "    'mastermind'] # 'battleship', 'minesweeper', 'bandit_bai_fixed_budget' \n",
    "import dotenv\n",
    "dotenv.load_dotenv('../../.env')"
   ]
  },
  {
   "cell_type": "code",
   "execution_count": 3,
   "id": "4d47bf2a",
   "metadata": {},
   "outputs": [
    {
     "name": "stdout",
     "output_type": "stream",
     "text": [
      "twenty_questions => 367\n",
      "guess_my_city => 185\n",
      "murder_mystery => 50\n",
      "customer_service => 200\n",
      "wordle => 800\n",
      "cellular_automata => 500\n",
      "mastermind => 500\n"
     ]
    }
   ],
   "source": [
    "for env_name in paprika_games:\n",
    "    config = PaprikaConfigHelper.create_config(env_name)\n",
    "    config['belief_config']['style'] = 'none'\n",
    "\n",
    "    interaction = PaprikaInteraction(config={})\n",
    "\n",
    "    import builtins\n",
    "    _original_print = builtins.print\n",
    "    builtins.print = lambda *a, **k: None\n",
    "    try:\n",
    "        instance_id = await interaction.start_interaction(\n",
    "            instance_id=None,\n",
    "            scenario_id=None, # start a random scenario\n",
    "            **config,\n",
    "        )\n",
    "    finally:\n",
    "        builtins.print = _original_print\n",
    "    num_scenarios = interaction.game_scenarios.__len__()\n",
    "    print(f'{env_name} => {num_scenarios}')"
   ]
  },
  {
   "cell_type": "markdown",
   "id": "1d296088",
   "metadata": {},
   "source": [
    "So let us do 50 games for each with frontier LLMs - one with reasoning and one without.\n",
    "\n",
    "# 2. Setup LLM Call"
   ]
  },
  {
   "cell_type": "code",
   "execution_count": 2,
   "id": "16882ec2",
   "metadata": {},
   "outputs": [
    {
     "name": "stdout",
     "output_type": "stream",
     "text": [
      "[2025-08-12 20:27:57] server_args=ServerArgs(model_path='Qwen/Qwen2.5-7B-instruct', tokenizer_path='Qwen/Qwen2.5-7B-instruct', tokenizer_mode='auto', skip_tokenizer_init=False, load_format='auto', trust_remote_code=False, dtype='auto', kv_cache_dtype='auto', quantization=None, quantization_param_path=None, context_length=None, device='cuda', served_model_name='Qwen/Qwen2.5-7B-instruct', chat_template=None, completion_template=None, is_embedding=False, enable_multimodal=None, revision=None, host='0.0.0.0', port=35252, mem_fraction_static=0.88, max_running_requests=None, max_total_tokens=None, chunked_prefill_size=8192, max_prefill_tokens=16384, schedule_policy='fcfs', schedule_conservativeness=1.0, cpu_offload_gb=0, page_size=1, tp_size=1, pp_size=1, max_micro_batch_size=None, stream_interval=1, stream_output=False, random_seed=1060122301, constrained_json_whitespace_pattern=None, watchdog_timeout=300, dist_timeout=None, download_dir=None, base_gpu_id=0, gpu_id_step=1, log_level='info', log_level_http=None, log_requests=False, log_requests_level=0, show_time_cost=False, enable_metrics=False, bucket_time_to_first_token=None, bucket_e2e_request_latency=None, bucket_inter_token_latency=None, collect_tokens_histogram=False, decode_log_interval=40, enable_request_time_stats_logging=False, kv_events_config=None, api_key=None, file_storage_path='sglang_storage', enable_cache_report=False, reasoning_parser=None, dp_size=1, load_balance_method='round_robin', ep_size=1, dist_init_addr=None, nnodes=1, node_rank=0, json_model_override_args='{}', preferred_sampling_params=None, lora_paths=None, max_loras_per_batch=8, lora_backend='triton', attention_backend=None, sampling_backend='flashinfer', grammar_backend='xgrammar', speculative_algorithm=None, speculative_draft_model_path=None, speculative_num_steps=None, speculative_eagle_topk=None, speculative_num_draft_tokens=None, speculative_accept_threshold_single=1.0, speculative_accept_threshold_acc=1.0, speculative_token_map=None, enable_double_sparsity=False, ds_channel_config_path=None, ds_heavy_channel_num=32, ds_heavy_token_num=256, ds_heavy_channel_type='qk', ds_sparse_decode_threshold=4096, disable_radix_cache=False, disable_cuda_graph=False, disable_cuda_graph_padding=False, enable_nccl_nvls=False, enable_tokenizer_batch_encode=False, disable_outlines_disk_cache=False, disable_custom_all_reduce=False, disable_overlap_schedule=False, enable_mixed_chunk=False, enable_dp_attention=False, enable_dp_lm_head=False, enable_ep_moe=False, enable_deepep_moe=False, deepep_mode='auto', ep_num_redundant_experts=0, ep_dispatch_algorithm=None, init_expert_location='trivial', enable_eplb=False, eplb_rebalance_num_iterations=1000, expert_distribution_recorder_mode=None, expert_distribution_recorder_buffer_size=None, enable_expert_distribution_metrics=False, deepep_config=None, enable_torch_compile=False, torch_compile_max_bs=32, cuda_graph_max_bs=None, cuda_graph_bs=None, torchao_config='', enable_nan_detection=False, enable_p2p_check=False, triton_attention_reduce_in_fp32=False, triton_attention_num_kv_splits=8, num_continuous_decode_steps=1, delete_ckpt_after_loading=False, enable_memory_saver=False, allow_auto_truncate=False, enable_custom_logit_processor=False, tool_call_parser=None, enable_hierarchical_cache=False, hicache_ratio=2.0, hicache_size=0, hicache_write_policy='write_through_selective', flashinfer_mla_disable_ragged=False, warmups=None, moe_dense_tp_size=None, n_share_experts_fusion=0, disable_chunked_prefix_cache=False, disable_fast_image_processor=False, mm_attention_backend=None, debug_tensor_dump_output_folder=None, debug_tensor_dump_input_file=None, debug_tensor_dump_inject=False, disaggregation_mode='null', disaggregation_bootstrap_port=8998, disaggregation_transfer_backend='mooncake', disaggregation_ib_device=None, pdlb_url=None)\n",
      "[2025-08-12 20:28:04] Attention backend not set. Use flashinfer backend by default.\n",
      "[2025-08-12 20:28:04] Init torch distributed begin.\n",
      "[2025-08-12 20:28:05] Init torch distributed ends. mem usage=0.00 GB\n",
      "[2025-08-12 20:28:05] init_expert_location from trivial\n",
      "[2025-08-12 20:28:06] Load weight begin. avail mem=46.97 GB\n",
      "[2025-08-12 20:28:06] Using model weights format ['*.safetensors']\n",
      "Loading safetensors checkpoint shards:   0% Completed | 0/4 [00:00<?, ?it/s]\n",
      "Loading safetensors checkpoint shards:  25% Completed | 1/4 [00:11<00:34, 11.44s/it]\n",
      "Loading safetensors checkpoint shards:  50% Completed | 2/4 [00:21<00:21, 10.77s/it]\n",
      "Loading safetensors checkpoint shards:  75% Completed | 3/4 [00:32<00:10, 10.70s/it]\n",
      "Loading safetensors checkpoint shards: 100% Completed | 4/4 [00:43<00:00, 10.84s/it]\n",
      "Loading safetensors checkpoint shards: 100% Completed | 4/4 [00:43<00:00, 10.85s/it]\n",
      "\n",
      "[2025-08-12 20:28:50] Load weight end. type=Qwen2ForCausalLM, dtype=torch.bfloat16, avail mem=32.67 GB, mem usage=14.30 GB.\n",
      "[2025-08-12 20:28:50] KV Cache is allocated. #tokens: 506134, K size: 13.52 GB, V size: 13.52 GB\n",
      "[2025-08-12 20:28:50] Memory pool end. avail mem=5.01 GB\n",
      "2025-08-12 20:28:50,948 - INFO - flashinfer.jit: Prebuilt kernels not found, using JIT backend\n",
      "[2025-08-12 20:28:50] Capture cuda graph begin. This can take up to several minutes. avail mem=4.39 GB\n",
      "[2025-08-12 20:28:51] Capture cuda graph bs [1, 2, 4, 8, 16, 24, 32, 40, 48, 56, 64, 72, 80, 88, 96, 104, 112, 120, 128, 136, 144, 152, 160]\n",
      "Capturing batches (avail_mem=4.37 GB):   0%|          | 0/23 [00:00<?, ?it/s]2025-08-12 20:28:51,542 - INFO - flashinfer.jit: Loading JIT ops: batch_prefill_with_kv_cache_dtype_q_bf16_dtype_kv_bf16_dtype_o_bf16_dtype_idx_i32_head_dim_qk_128_head_dim_vo_128_posenc_0_use_swa_False_use_logits_cap_False_f16qk_False\n",
      "2025-08-12 20:28:51,713 - INFO - flashinfer.jit: Finished loading JIT ops: batch_prefill_with_kv_cache_dtype_q_bf16_dtype_kv_bf16_dtype_o_bf16_dtype_idx_i32_head_dim_qk_128_head_dim_vo_128_posenc_0_use_swa_False_use_logits_cap_False_f16qk_False\n",
      "Capturing batches (avail_mem=2.53 GB): 100%|██████████| 23/23 [00:06<00:00,  3.37it/s]\n",
      "[2025-08-12 20:28:57] Capture cuda graph end. Time elapsed: 6.90 s. mem usage=1.88 GB. avail mem=2.50 GB.\n",
      "[2025-08-12 20:28:58] max_total_num_tokens=506134, chunked_prefill_size=8192, max_prefill_tokens=16384, max_running_requests=4097, context_len=32768\n",
      "[2025-08-12 20:28:58] INFO:     Started server process [3998433]\n",
      "[2025-08-12 20:28:58] INFO:     Waiting for application startup.\n",
      "[2025-08-12 20:28:58] INFO:     Application startup complete.\n",
      "[2025-08-12 20:28:58] INFO:     Uvicorn running on http://0.0.0.0:35252 (Press CTRL+C to quit)\n",
      "[2025-08-12 20:28:59] INFO:     127.0.0.1:34390 - \"GET /v1/models HTTP/1.1\" 200 OK\n",
      "[2025-08-12 20:28:59] INFO:     127.0.0.1:34400 - \"GET /get_model_info HTTP/1.1\" 200 OK\n",
      "[2025-08-12 20:28:59] Prefill batch. #new-seq: 1, #new-token: 6, #cached-token: 0, token usage: 0.00, #running-req: 0, #queue-req: 0\n",
      "[2025-08-12 20:29:03] INFO:     127.0.0.1:34410 - \"POST /generate HTTP/1.1\" 200 OK\n",
      "[2025-08-12 20:29:03] The server is fired up and ready to roll!\n",
      "\n",
      "\n",
      "                    NOTE: Typically, the server runs in a separate terminal.\n",
      "                    In this notebook, we run the server and notebook code together, so their outputs are combined.\n",
      "                    To improve clarity, the server logs are displayed in the original black color, while the notebook outputs are highlighted in blue.\n",
      "                    We are running those notebooks in a CI parallel environment, so the throughput is not representative of the actual performance.\n",
      "                    \n"
     ]
    }
   ],
   "source": [
    "import os\n",
    "os.environ[\"CUDA_VISIBLE_DEVICES\"] = \"2\"\n",
    "from sglang.test.test_utils import is_in_ci\n",
    "from sglang.utils import wait_for_server, print_highlight, terminate_process\n",
    "\n",
    "if is_in_ci():\n",
    "    from patch import launch_server_cmd\n",
    "else:\n",
    "    from sglang.utils import launch_server_cmd\n",
    "\n",
    "# This is equivalent to running the following command in your terminal\n",
    "\n",
    "# python3 -m sglang.launch_server --model-path qwen/qwen2.5-0.5b --host 0.0.0.0\n",
    "local_model_name = \"Qwen/Qwen2.5-7B-instruct\" # \"qwen/qwen3-4b\" # \"meta-llama/Llama-3.3-70B-Instruct\" # \"unsloth/Llama-3.3-70B-Instruct-bnb-4bit\"-- assert issue #  \"Qwen/Qwen2.5-3B-Instruct\" # \"Qwen/QwQ-32B\"\n",
    "#\n",
    "tp_size = (len(os.environ[\"CUDA_VISIBLE_DEVICES\"]) + 1) // 2\n",
    "server_process, port = launch_server_cmd(\n",
    "    f\"\"\"\n",
    "python3 -m sglang.launch_server --model-path {local_model_name} --host 0.0.0.0 --tp {tp_size}\n",
    "\"\"\"# --tp {tp_size} mem_fraction_static=0.4 \n",
    ")\n",
    "wait_for_server(f\"http://localhost:{port}\")"
   ]
  },
  {
   "cell_type": "code",
   "execution_count": 7,
   "id": "636e9f13",
   "metadata": {},
   "outputs": [],
   "source": [
    "sys.path.append('../../src/optimal_explorer')\n",
    "from llm_utils import llm_call\n",
    "from pprint import pprint as pp"
   ]
  },
  {
   "cell_type": "code",
   "execution_count": 3,
   "id": "c30cd6cb",
   "metadata": {},
   "outputs": [
    {
     "name": "stdout",
     "output_type": "stream",
     "text": [
      "35252\n"
     ]
    }
   ],
   "source": [
    "print(port)"
   ]
  },
  {
   "cell_type": "code",
   "execution_count": 27,
   "id": "c11f7137",
   "metadata": {},
   "outputs": [
    {
     "name": "stdout",
     "output_type": "stream",
     "text": [
      "[2025-08-12 18:18:56] Prefill batch. #new-seq: 1, #new-token: 53, #cached-token: 0, token usage: 0.00, #running-req: 0, #queue-req: 0\n",
      "[2025-08-12 18:18:56] Decode batch. #running-req: 1, #token: 86, token usage: 0.00, cuda graph: True, gen throughput (token/s): 5.60, #queue-req: 0\n",
      "[2025-08-12 18:18:57] Decode batch. #running-req: 1, #token: 126, token usage: 0.00, cuda graph: True, gen throughput (token/s): 44.52, #queue-req: 0\n",
      "[2025-08-12 18:18:58] INFO:     127.0.0.1:58998 - \"POST /v1/chat/completions HTTP/1.1\" 200 OK\n"
     ]
    }
   ],
   "source": [
    "out = await llm_call(\n",
    "    model=local_model_name,\n",
    "    temperature=1,\n",
    "    url = f\"http://localhost:{port}/v1/chat/completions\",\n",
    "    get_everything=True,\n",
    "    reasoning_effort='high',\n",
    "    messages = [\n",
    "            {\"role\": \"system\", \"content\": 'You are a useless assistant that gives humorous answers.'},\n",
    "            {\"role\": \"user\", \"content\": 'Why is the sky blue?'},\n",
    "            {\"role\": \"assistant\", \"content\": 'It is because of the great king of Pokemons.'},\n",
    "            {\"role\": \"user\", \"content\": 'How so?'},\n",
    "        ]\n",
    ")"
   ]
  },
  {
   "cell_type": "code",
   "execution_count": 52,
   "id": "d18267ee",
   "metadata": {},
   "outputs": [
    {
     "data": {
      "text/plain": [
       "38873"
      ]
     },
     "execution_count": 52,
     "metadata": {},
     "output_type": "execute_result"
    }
   ],
   "source": [
    "port"
   ]
  },
  {
   "cell_type": "code",
   "execution_count": null,
   "id": "d2df2223",
   "metadata": {},
   "outputs": [
    {
     "name": "stdout",
     "output_type": "stream",
     "text": [
      "[2025-08-12 18:18:14] Child process unexpectedly failed with an exit code 15. pid=1452046\n"
     ]
    }
   ],
   "source": [
    "terminate_process(server_process)"
   ]
  },
  {
   "cell_type": "code",
   "execution_count": 28,
   "id": "59b23939",
   "metadata": {},
   "outputs": [
    {
     "name": "stdout",
     "output_type": "stream",
     "text": [
      "('Well, you see, the great king of Pokémons, Pikachu, has a special power to zap the sky with his thunderbolts. When he does '\n",
      " 'this, the zaps bounce off the tiny little particles in the air, and because Pikachu is so blue (he charges up with blue '\n",
      " \"electricity), the sky turns blue too! Plus, it's his throne, and in any royal's domain, the color is chosen by them. That's \"\n",
      " 'why the sky is blue and not, say, purple like his Poké Ball.')\n"
     ]
    }
   ],
   "source": [
    "pp(out['choices'][0]['message']['content'], width=130)"
   ]
  },
  {
   "cell_type": "markdown",
   "id": "54995906",
   "metadata": {},
   "source": [
    "# 3. Belief Update"
   ]
  },
  {
   "cell_type": "code",
   "execution_count": 37,
   "id": "65f117ca",
   "metadata": {},
   "outputs": [],
   "source": [
    "async def update_belief(\n",
    "        curr_belief: str,\n",
    "        action: str,\n",
    "        response: str,\n",
    "        model_name: str,\n",
    "    ):\n",
    "\n",
    "\n",
    "    user_content = f'''\\\n",
    "Look at the current belief and the agent's action and environment response on that belief.\\\n",
    "Compress the context, remove redundant information, and maintain important information about the game state \\\n",
    "needed to take optimal future actions.\\\n",
    "Current belief: {curr_belief}\n",
    "Agent's action: {action}\n",
    "Environment's response: {response}\n",
    "Output the updated belief state inside <BELIEF> and </BELIEF> tags.\\\n",
    "Understand that only the generated belief is fed to the agent, so be sure to include all necessary information about game mechanics.'''\n",
    "\n",
    "    messages = [\n",
    "        {\"role\": \"system\", \"content\": 'You are a helpful assistant.'},\n",
    "        {\"role\": \"user\", \"content\": user_content},\n",
    "    ]\n",
    "\n",
    "    if 'qwen' in model_name.lower():\n",
    "        url = f\"http://localhost:{port}/v1/chat/completions\"\n",
    "    else:\n",
    "        url = None\n",
    "\n",
    "    out = await llm_call(\n",
    "        model=model_name,\n",
    "        get_everything=True,\n",
    "        reasoning_effort='high',\n",
    "        messages=messages,\n",
    "        url=url\n",
    "    )\n",
    "\n",
    "    import re\n",
    "    content = out['choices'][0]['message']['content']\n",
    "    match = re.search(r\"<BELIEF>(.*?)</BELIEF>\", content, re.DOTALL | re.IGNORECASE)\n",
    "    if match:\n",
    "        belief = match.group(1).strip()\n",
    "    else:\n",
    "        # fallback: return the whole content if tags not found\n",
    "        belief = content.strip()\n",
    "    \n",
    "    if 'reasoning_details' in out['choices'][0]['message']:\n",
    "        reasoning = out['choices'][0]['message']['reasoning_details'][0]['text']\n",
    "    else:\n",
    "        reasoning = None\n",
    "\n",
    "    return belief, reasoning"
   ]
  },
  {
   "cell_type": "code",
   "execution_count": 38,
   "id": "763a4fa8",
   "metadata": {},
   "outputs": [],
   "source": [
    "async def take_action(\n",
    "        belief: str,\n",
    "        model_name: str,\n",
    "    ):\n",
    "\n",
    "\n",
    "    user_content = f'''\\\n",
    "Look at the current belief take the next action based on the belief.\\\n",
    "Take an action that leads to optimal exploration.\\\n",
    "Belief: {belief}\n",
    "Output the action inside <ACTION> and </ACTION> tags.'''\n",
    "\n",
    "    messages = [\n",
    "        {\"role\": \"system\", \"content\": 'You are a helpful assistant.'},\n",
    "        {\"role\": \"user\", \"content\": user_content},\n",
    "    ]\n",
    "\n",
    "    if 'qwen' in model_name.lower():\n",
    "        url = f\"http://localhost:{port}/v1/chat/completions\"\n",
    "    else:\n",
    "        url = None\n",
    "\n",
    "    out = await llm_call(\n",
    "        model=model_name,\n",
    "        url=url,\n",
    "        get_everything=True,\n",
    "        reasoning_effort='high',\n",
    "        messages=messages\n",
    "    )\n",
    "\n",
    "    import re\n",
    "    content = out['choices'][0]['message']['content']\n",
    "    match = re.search(r\"<\\s*action\\s*>(.*?)<\\s*/\\s*action\\s*>\", content, re.DOTALL | re.IGNORECASE)\n",
    "    if match:\n",
    "        action = match.group(1).strip()\n",
    "    else:\n",
    "        # fallback: return the whole content if tags not found\n",
    "        action = content.strip()\n",
    "    \n",
    "    if 'reasoning_details' in out['choices'][0]['message']:\n",
    "        reasoning = out['choices'][0]['message']['reasoning_details'][0]['text']\n",
    "    else:\n",
    "        reasoning = None\n",
    "\n",
    "    return action, reasoning"
   ]
  },
  {
   "cell_type": "markdown",
   "id": "ed2402b6",
   "metadata": {},
   "source": [
    "# 4. Paprika Rollout with Belief"
   ]
  },
  {
   "cell_type": "code",
   "execution_count": 43,
   "id": "b3c8fc4d",
   "metadata": {},
   "outputs": [],
   "source": [
    "import asyncio\n",
    "\n",
    "async def run_one_iteration_with_belief_llm(\n",
    "        env_name: str,\n",
    "        model_name: str,\n",
    "        game_id: int,\n",
    "    ):\n",
    "    config = PaprikaConfigHelper.create_config(env_name)\n",
    "    config['belief_config']['style'] = 'none'\n",
    "    interaction = PaprikaInteraction(config={})\n",
    "\n",
    "    import builtins\n",
    "    _original_print = builtins.print\n",
    "    builtins.print = lambda *a, **k: None\n",
    "    try:\n",
    "        instance_id = await interaction.start_interaction(instance_id=None, scenario_id=None, **config)\n",
    "    finally:\n",
    "        builtins.print = _original_print\n",
    "\n",
    "    first_user_message = interaction.agent_conv.messages[0][1]\n",
    "    attempts = 0\n",
    "    game_history = []\n",
    "    belief = f'This is the start of the game. The only available information right now are the game rules:\\n{first_user_message}'\n",
    "    max_attempts = interaction._instance_dict[instance_id]['max_turns']\n",
    "\n",
    "    while attempts < max_attempts:\n",
    "        \n",
    "        attempts += 1\n",
    "\n",
    "        action, action_reasoning = await take_action(belief, model_name)\n",
    "\n",
    "        message = [\n",
    "            {\"role\": \"user\", \"content\": f\"Output the next action.\"},\n",
    "            {\"role\": \"assistant\", \"content\": f\"<action>{action}</action>\"}\n",
    "        ]\n",
    "        done, response, score, additional_data = await interaction.generate_response(instance_id=instance_id, messages=message)\n",
    "        \n",
    "        belief, belief_reasoning = await update_belief(belief, action, response, model_name)\n",
    "\n",
    "        game_history.append({\n",
    "            \"model\": model_name,\n",
    "            \"game_id\": str(game_id),\n",
    "            \"env\": env_name,\n",
    "            \"attempt\": attempts,\n",
    "            \"guess\": action,\n",
    "            \"response\": response,\n",
    "            \"score\": score,\n",
    "            \"done\": done,\n",
    "            \"data\": additional_data,\n",
    "            \"belief\": belief,\n",
    "            \"action_reasoning\": action_reasoning,\n",
    "            \"belief_reasoning\": belief_reasoning,\n",
    "        })\n",
    "\n",
    "        if \"Goal reached\" in response:\n",
    "            break\n",
    "    \n",
    "    print(f'.', end='', flush=True)\n",
    "    \n",
    "    return game_history\n",
    "\n",
    "async def run_multiple_iterations_multiple_games(\n",
    "        num_games: int,\n",
    "        list_envs,\n",
    "        models,\n",
    "        logs_file='./logs/paprika_local.jsonl',\n",
    "    ):\n",
    "    import json\n",
    "\n",
    "    tasks = []\n",
    "    for model in models:\n",
    "        for env_name in list_envs:\n",
    "            for game_id in range(num_games):\n",
    "                tasks.append(run_one_iteration_with_belief_llm(env_name, model, game_id))\n",
    "\n",
    "    results = await asyncio.gather(*tasks)\n",
    "\n",
    "    # Flatten results and write to file\n",
    "    with open(logs_file, \"a\") as f:\n",
    "        for game_history in results:\n",
    "            for entry in game_history:\n",
    "                f.write(json.dumps(entry) + \"\\n\")"
   ]
  },
  {
   "cell_type": "code",
   "execution_count": null,
   "id": "58d48f23",
   "metadata": {},
   "outputs": [
    {
     "name": "stdout",
     "output_type": "stream",
     "text": [
      "Start running.\n",
      "[2025-08-12 20:20:12] Prefill batch. #new-seq: 1, #new-token: 1, #cached-token: 215, token usage: 0.00, #running-req: 0, #queue-req: 0\n",
      "[2025-08-12 20:20:12] Prefill batch. #new-seq: 29, #new-token: 29, #cached-token: 6555, token usage: 0.00, #running-req: 1, #queue-req: 0\n",
      "[2025-08-12 20:20:12] Decode batch. #running-req: 30, #token: 1012, token usage: 0.00, cuda graph: True, gen throughput (token/s): 48.52, #queue-req: 0\n",
      "[2025-08-12 20:20:13] Decode batch. #running-req: 30, #token: 2212, token usage: 0.00, cuda graph: True, gen throughput (token/s): 1311.82, #queue-req: 0\n",
      "[2025-08-12 20:20:14] INFO:     127.0.0.1:45808 - \"POST /v1/chat/completions HTTP/1.1\" 200 OK\n",
      "[2025-08-12 20:20:14] Prefill batch. #new-seq: 1, #new-token: 95, #cached-token: 201, token usage: 0.01, #running-req: 29, #queue-req: 0\n",
      "[2025-08-12 20:20:14] INFO:     127.0.0.1:45760 - \"POST /v1/chat/completions HTTP/1.1\" 200 OK\n",
      "[2025-08-12 20:20:14] INFO:     127.0.0.1:45790 - \"POST /v1/chat/completions HTTP/1.1\" 200 OK\n",
      "[2025-08-12 20:20:14] INFO:     127.0.0.1:45742 - \"POST /v1/chat/completions HTTP/1.1\" 200 OK\n",
      "[2025-08-12 20:20:14] INFO:     127.0.0.1:45940 - \"POST /v1/chat/completions HTTP/1.1\" 200 OK\n",
      "[2025-08-12 20:20:14] INFO:     127.0.0.1:45830 - \"POST /v1/chat/completions HTTP/1.1\" 200 OK\n",
      "[2025-08-12 20:20:14] INFO:     127.0.0.1:45726 - \"POST /v1/chat/completions HTTP/1.1\" 200 OK\n",
      "[2025-08-12 20:20:14] INFO:     127.0.0.1:45878 - \"POST /v1/chat/completions HTTP/1.1\" 200 OK\n",
      "[2025-08-12 20:20:14] Decode batch. #running-req: 23, #token: 2747, token usage: 0.01, cuda graph: True, gen throughput (token/s): 1165.71, #queue-req: 0\n",
      "[2025-08-12 20:20:14] INFO:     127.0.0.1:45774 - \"POST /v1/chat/completions HTTP/1.1\" 200 OK\n",
      "[2025-08-12 20:20:14] Prefill batch. #new-seq: 1, #new-token: 1, #cached-token: 290, token usage: 0.01, #running-req: 22, #queue-req: 0\n",
      "[2025-08-12 20:20:15] INFO:     127.0.0.1:45758 - \"POST /v1/chat/completions HTTP/1.1\" 200 OK\n",
      "[2025-08-12 20:20:15] INFO:     127.0.0.1:45768 - \"POST /v1/chat/completions HTTP/1.1\" 200 OK\n",
      "[2025-08-12 20:20:15] INFO:     127.0.0.1:45692 - \"POST /v1/chat/completions HTTP/1.1\" 200 OK\n",
      "[2025-08-12 20:20:15] INFO:     127.0.0.1:45864 - \"POST /v1/chat/completions HTTP/1.1\" 200 OK\n",
      "[2025-08-12 20:20:15] INFO:     127.0.0.1:45922 - \"POST /v1/chat/completions HTTP/1.1\" 200 OK\n",
      "[2025-08-12 20:20:15] Prefill batch. #new-seq: 4, #new-token: 153, #cached-token: 1006, token usage: 0.01, #running-req: 19, #queue-req: 0\n",
      "[2025-08-12 20:20:15] INFO:     127.0.0.1:45716 - \"POST /v1/chat/completions HTTP/1.1\" 200 OK\n",
      "[2025-08-12 20:20:15] INFO:     127.0.0.1:45946 - \"POST /v1/chat/completions HTTP/1.1\" 200 OK\n",
      "[2025-08-12 20:20:15] INFO:     127.0.0.1:45936 - \"POST /v1/chat/completions HTTP/1.1\" 200 OK\n",
      "[2025-08-12 20:20:15] INFO:     127.0.0.1:45684 - \"POST /v1/chat/completions HTTP/1.1\" 200 OK\n",
      "[2025-08-12 20:20:15] INFO:     127.0.0.1:45702 - \"POST /v1/chat/completions HTTP/1.1\" 200 OK\n",
      "[2025-08-12 20:20:15] INFO:     127.0.0.1:45910 - \"POST /v1/chat/completions HTTP/1.1\" 200 OK\n",
      "[2025-08-12 20:20:15] INFO:     127.0.0.1:45812 - \"POST /v1/chat/completions HTTP/1.1\" 200 OK\n",
      "[2025-08-12 20:20:15] Prefill batch. #new-seq: 3, #new-token: 342, #cached-token: 546, token usage: 0.00, #running-req: 15, #queue-req: 0\n",
      "[2025-08-12 20:20:15] Decode batch. #running-req: 18, #token: 2963, token usage: 0.01, cuda graph: True, gen throughput (token/s): 754.73, #queue-req: 0\n",
      "[2025-08-12 20:20:15] INFO:     127.0.0.1:45908 - \"POST /v1/chat/completions HTTP/1.1\" 200 OK\n",
      "[2025-08-12 20:20:16] INFO:     127.0.0.1:45804 - \"POST /v1/chat/completions HTTP/1.1\" 200 OK\n",
      "[2025-08-12 20:20:16] INFO:     127.0.0.1:45854 - \"POST /v1/chat/completions HTTP/1.1\" 200 OK\n",
      "[2025-08-12 20:20:16] INFO:     127.0.0.1:45894 - \"POST /v1/chat/completions HTTP/1.1\" 200 OK\n",
      "[2025-08-12 20:20:16] INFO:     127.0.0.1:45802 - \"POST /v1/chat/completions HTTP/1.1\" 200 OK\n",
      "[2025-08-12 20:20:16] Prefill batch. #new-seq: 2, #new-token: 211, #cached-token: 349, token usage: 0.00, #running-req: 13, #queue-req: 0\n",
      "[2025-08-12 20:20:16] Prefill batch. #new-seq: 2, #new-token: 127, #cached-token: 456, token usage: 0.01, #running-req: 15, #queue-req: 0\n",
      "[2025-08-12 20:20:16] INFO:     127.0.0.1:45706 - \"POST /v1/chat/completions HTTP/1.1\" 200 OK\n",
      "[2025-08-12 20:20:16] Decode batch. #running-req: 16, #token: 2922, token usage: 0.01, cuda graph: True, gen throughput (token/s): 636.97, #queue-req: 0\n",
      "[2025-08-12 20:20:16] Prefill batch. #new-seq: 4, #new-token: 170, #cached-token: 980, token usage: 0.01, #running-req: 16, #queue-req: 0\n",
      "[2025-08-12 20:20:17] INFO:     127.0.0.1:45744 - \"POST /v1/chat/completions HTTP/1.1\" 200 OK\n",
      "[2025-08-12 20:20:17] Prefill batch. #new-seq: 9, #new-token: 839, #cached-token: 1749, token usage: 0.01, #running-req: 20, #queue-req: 0\n",
      "[2025-08-12 20:20:17] Prefill batch. #new-seq: 1, #new-token: 118, #cached-token: 171, token usage: 0.01, #running-req: 29, #queue-req: 0\n",
      "[2025-08-12 20:20:17] Prefill batch. #new-seq: 1, #new-token: 79, #cached-token: 209, token usage: 0.01, #running-req: 30, #queue-req: 0\n",
      "[2025-08-12 20:20:17] INFO:     127.0.0.1:45824 - \"POST /v1/chat/completions HTTP/1.1\" 200 OK\n",
      "[2025-08-12 20:20:17] Prefill batch. #new-seq: 1, #new-token: 86, #cached-token: 205, token usage: 0.01, #running-req: 29, #queue-req: 0\n",
      "[2025-08-12 20:20:17] INFO:     127.0.0.1:45842 - \"POST /v1/chat/completions HTTP/1.1\" 200 OK\n",
      "[2025-08-12 20:20:17] Prefill batch. #new-seq: 1, #new-token: 91, #cached-token: 193, token usage: 0.01, #running-req: 29, #queue-req: 0\n",
      "[2025-08-12 20:20:18] Decode batch. #running-req: 30, #token: 4922, token usage: 0.01, cuda graph: True, gen throughput (token/s): 966.91, #queue-req: 0\n",
      "[2025-08-12 20:20:18] Decode batch. #running-req: 30, #token: 6122, token usage: 0.01, cuda graph: True, gen throughput (token/s): 1303.38, #queue-req: 0\n",
      "[2025-08-12 20:20:19] INFO:     127.0.0.1:46002 - \"POST /v1/chat/completions HTTP/1.1\" 200 OK\n",
      "[2025-08-12 20:20:19] Prefill batch. #new-seq: 1, #new-token: 78, #cached-token: 169, token usage: 0.01, #running-req: 29, #queue-req: 0\n",
      "[2025-08-12 20:20:19] INFO:     127.0.0.1:45982 - \"POST /v1/chat/completions HTTP/1.1\" 200 OK\n",
      "[2025-08-12 20:20:19] Prefill batch. #new-seq: 1, #new-token: 85, #cached-token: 248, token usage: 0.01, #running-req: 30, #queue-req: 0\n",
      "[2025-08-12 20:20:19] INFO:     127.0.0.1:46000 - \"POST /v1/chat/completions HTTP/1.1\" 200 OK\n",
      "[2025-08-12 20:20:19] Prefill batch. #new-seq: 1, #new-token: 119, #cached-token: 172, token usage: 0.01, #running-req: 29, #queue-req: 0\n",
      "[2025-08-12 20:20:19] INFO:     127.0.0.1:46092 - \"POST /v1/chat/completions HTTP/1.1\" 200 OK\n",
      "[2025-08-12 20:20:19] Prefill batch. #new-seq: 1, #new-token: 153, #cached-token: 181, token usage: 0.01, #running-req: 29, #queue-req: 0\n",
      "[2025-08-12 20:20:19] INFO:     127.0.0.1:46200 - \"POST /v1/chat/completions HTTP/1.1\" 200 OK\n",
      "[2025-08-12 20:20:19] Prefill batch. #new-seq: 1, #new-token: 126, #cached-token: 209, token usage: 0.01, #running-req: 29, #queue-req: 0\n",
      "[2025-08-12 20:20:20] Decode batch. #running-req: 30, #token: 6900, token usage: 0.01, cuda graph: True, gen throughput (token/s): 1110.15, #queue-req: 0\n",
      "[2025-08-12 20:20:20] INFO:     127.0.0.1:60452 - \"POST /v1/chat/completions HTTP/1.1\" 200 OK\n",
      "[2025-08-12 20:20:20] Prefill batch. #new-seq: 1, #new-token: 159, #cached-token: 193, token usage: 0.01, #running-req: 29, #queue-req: 0\n",
      "[2025-08-12 20:20:20] INFO:     127.0.0.1:45974 - \"POST /v1/chat/completions HTTP/1.1\" 200 OK\n",
      "[2025-08-12 20:20:20] Prefill batch. #new-seq: 1, #new-token: 127, #cached-token: 172, token usage: 0.01, #running-req: 29, #queue-req: 0\n",
      "[2025-08-12 20:20:20] INFO:     127.0.0.1:46024 - \"POST /v1/chat/completions HTTP/1.1\" 200 OK\n",
      "[2025-08-12 20:20:20] INFO:     127.0.0.1:46068 - \"POST /v1/chat/completions HTTP/1.1\" 200 OK\n",
      "[2025-08-12 20:20:20] INFO:     127.0.0.1:46076 - \"POST /v1/chat/completions HTTP/1.1\" 200 OK\n",
      "[2025-08-12 20:20:20] INFO:     127.0.0.1:46178 - \"POST /v1/chat/completions HTTP/1.1\" 200 OK\n",
      "[2025-08-12 20:20:20] INFO:     127.0.0.1:45958 - \"POST /v1/chat/completions HTTP/1.1\" 200 OK\n",
      "[2025-08-12 20:20:20] INFO:     127.0.0.1:46082 - \"POST /v1/chat/completions HTTP/1.1\" 200 OK\n",
      "[2025-08-12 20:20:20] Prefill batch. #new-seq: 5, #new-token: 788, #cached-token: 976, token usage: 0.01, #running-req: 25, #queue-req: 0\n",
      "[2025-08-12 20:20:20] Prefill batch. #new-seq: 1, #new-token: 147, #cached-token: 184, token usage: 0.01, #running-req: 30, #queue-req: 0\n",
      "[2025-08-12 20:20:20] INFO:     127.0.0.1:46134 - \"POST /v1/chat/completions HTTP/1.1\" 200 OK\n",
      "[2025-08-12 20:20:20] INFO:     127.0.0.1:46190 - \"POST /v1/chat/completions HTTP/1.1\" 200 OK\n",
      "[2025-08-12 20:20:21] Prefill batch. #new-seq: 2, #new-token: 384, #cached-token: 342, token usage: 0.01, #running-req: 28, #queue-req: 0\n",
      "[2025-08-12 20:20:21] Decode batch. #running-req: 30, #token: 7392, token usage: 0.01, cuda graph: True, gen throughput (token/s): 942.89, #queue-req: 0\n",
      "[2025-08-12 20:20:21] INFO:     127.0.0.1:46122 - \"POST /v1/chat/completions HTTP/1.1\" 200 OK\n",
      "[2025-08-12 20:20:21] INFO:     127.0.0.1:46040 - \"POST /v1/chat/completions HTTP/1.1\" 200 OK\n",
      "[2025-08-12 20:20:21] INFO:     127.0.0.1:46066 - \"POST /v1/chat/completions HTTP/1.1\" 200 OK\n",
      "[2025-08-12 20:20:21] Prefill batch. #new-seq: 3, #new-token: 388, #cached-token: 591, token usage: 0.01, #running-req: 27, #queue-req: 0\n",
      "[2025-08-12 20:20:21] INFO:     127.0.0.1:46148 - \"POST /v1/chat/completions HTTP/1.1\" 200 OK\n",
      "[2025-08-12 20:20:21] Prefill batch. #new-seq: 1, #new-token: 84, #cached-token: 233, token usage: 0.01, #running-req: 29, #queue-req: 0\n",
      "[2025-08-12 20:20:21] INFO:     127.0.0.1:46164 - \"POST /v1/chat/completions HTTP/1.1\" 200 OK\n",
      "[2025-08-12 20:20:21] Prefill batch. #new-seq: 1, #new-token: 199, #cached-token: 174, token usage: 0.01, #running-req: 29, #queue-req: 0\n",
      "[2025-08-12 20:20:21] INFO:     127.0.0.1:46026 - \"POST /v1/chat/completions HTTP/1.1\" 200 OK\n",
      "[2025-08-12 20:20:21] Prefill batch. #new-seq: 1, #new-token: 140, #cached-token: 175, token usage: 0.01, #running-req: 29, #queue-req: 0\n",
      "[2025-08-12 20:20:21] INFO:     127.0.0.1:46030 - \"POST /v1/chat/completions HTTP/1.1\" 200 OK\n",
      "[2025-08-12 20:20:21] INFO:     127.0.0.1:46050 - \"POST /v1/chat/completions HTTP/1.1\" 200 OK\n",
      "[2025-08-12 20:20:21] Prefill batch. #new-seq: 2, #new-token: 347, #cached-token: 394, token usage: 0.01, #running-req: 28, #queue-req: 0\n",
      "[2025-08-12 20:20:21] INFO:     127.0.0.1:45986 - \"POST /v1/chat/completions HTTP/1.1\" 200 OK\n",
      "[2025-08-12 20:20:21] Prefill batch. #new-seq: 1, #new-token: 131, #cached-token: 171, token usage: 0.01, #running-req: 29, #queue-req: 0\n",
      "[2025-08-12 20:20:21] INFO:     127.0.0.1:46106 - \"POST /v1/chat/completions HTTP/1.1\" 200 OK\n",
      "[2025-08-12 20:20:21] Prefill batch. #new-seq: 1, #new-token: 224, #cached-token: 247, token usage: 0.01, #running-req: 29, #queue-req: 0\n",
      "[2025-08-12 20:20:22] INFO:     127.0.0.1:46166 - \"POST /v1/chat/completions HTTP/1.1\" 200 OK\n",
      "[2025-08-12 20:20:22] INFO:     127.0.0.1:60446 - \"POST /v1/chat/completions HTTP/1.1\" 200 OK\n",
      "[2025-08-12 20:20:22] INFO:     127.0.0.1:46008 - \"POST /v1/chat/completions HTTP/1.1\" 200 OK\n",
      "[2025-08-12 20:20:22] Prefill batch. #new-seq: 3, #new-token: 421, #cached-token: 509, token usage: 0.01, #running-req: 27, #queue-req: 0\n",
      "[2025-08-12 20:20:22] INFO:     127.0.0.1:60462 - \"POST /v1/chat/completions HTTP/1.1\" 200 OK\n",
      "[2025-08-12 20:20:22] Decode batch. #running-req: 29, #token: 6512, token usage: 0.01, cuda graph: True, gen throughput (token/s): 908.31, #queue-req: 0\n",
      "[2025-08-12 20:20:22] Prefill batch. #new-seq: 1, #new-token: 173, #cached-token: 144, token usage: 0.01, #running-req: 29, #queue-req: 0\n",
      "[2025-08-12 20:20:22] INFO:     127.0.0.1:46006 - \"POST /v1/chat/completions HTTP/1.1\" 200 OK\n",
      "[2025-08-12 20:20:22] Prefill batch. #new-seq: 1, #new-token: 105, #cached-token: 178, token usage: 0.01, #running-req: 29, #queue-req: 0\n",
      "[2025-08-12 20:20:22] INFO:     127.0.0.1:46088 - \"POST /v1/chat/completions HTTP/1.1\" 200 OK\n",
      "[2025-08-12 20:20:22] INFO:     127.0.0.1:60486 - \"POST /v1/chat/completions HTTP/1.1\" 200 OK\n",
      "[2025-08-12 20:20:22] Prefill batch. #new-seq: 2, #new-token: 333, #cached-token: 341, token usage: 0.01, #running-req: 28, #queue-req: 0\n",
      "[2025-08-12 20:20:23] INFO:     127.0.0.1:60478 - \"POST /v1/chat/completions HTTP/1.1\" 200 OK\n",
      "[2025-08-12 20:20:23] Prefill batch. #new-seq: 1, #new-token: 200, #cached-token: 181, token usage: 0.01, #running-req: 29, #queue-req: 0\n",
      "[2025-08-12 20:20:23] INFO:     127.0.0.1:60558 - \"POST /v1/chat/completions HTTP/1.1\" 200 OK\n",
      "[2025-08-12 20:20:23] Prefill batch. #new-seq: 1, #new-token: 183, #cached-token: 154, token usage: 0.01, #running-req: 29, #queue-req: 0\n",
      "[2025-08-12 20:20:23] INFO:     127.0.0.1:60574 - \"POST /v1/chat/completions HTTP/1.1\" 200 OK\n",
      "[2025-08-12 20:20:23] Decode batch. #running-req: 29, #token: 7123, token usage: 0.01, cuda graph: True, gen throughput (token/s): 1060.10, #queue-req: 0\n",
      "[2025-08-12 20:20:23] Prefill batch. #new-seq: 1, #new-token: 142, #cached-token: 146, token usage: 0.01, #running-req: 29, #queue-req: 0\n",
      "[2025-08-12 20:20:23] INFO:     127.0.0.1:60528 - \"POST /v1/chat/completions HTTP/1.1\" 200 OK\n",
      "[2025-08-12 20:20:23] INFO:     127.0.0.1:60502 - \"POST /v1/chat/completions HTTP/1.1\" 200 OK\n",
      "[2025-08-12 20:20:24] Prefill batch. #new-seq: 2, #new-token: 451, #cached-token: 375, token usage: 0.01, #running-req: 28, #queue-req: 0\n",
      "[2025-08-12 20:20:24] INFO:     127.0.0.1:60554 - \"POST /v1/chat/completions HTTP/1.1\" 200 OK\n",
      "[2025-08-12 20:20:24] INFO:     127.0.0.1:60648 - \"POST /v1/chat/completions HTTP/1.1\" 200 OK\n",
      "[2025-08-12 20:20:24] Prefill batch. #new-seq: 2, #new-token: 334, #cached-token: 296, token usage: 0.01, #running-req: 28, #queue-req: 0\n",
      "[2025-08-12 20:20:24] INFO:     127.0.0.1:60660 - \"POST /v1/chat/completions HTTP/1.1\" 200 OK\n",
      "[2025-08-12 20:20:24] Prefill batch. #new-seq: 1, #new-token: 160, #cached-token: 156, token usage: 0.02, #running-req: 29, #queue-req: 0\n",
      "[2025-08-12 20:20:24] Decode batch. #running-req: 29, #token: 8067, token usage: 0.02, cuda graph: True, gen throughput (token/s): 1027.42, #queue-req: 0\n",
      "[2025-08-12 20:20:24] INFO:     127.0.0.1:60630 - \"POST /v1/chat/completions HTTP/1.1\" 200 OK\n",
      "[2025-08-12 20:20:24] INFO:     127.0.0.1:60576 - \"POST /v1/chat/completions HTTP/1.1\" 200 OK\n",
      "[2025-08-12 20:20:25] Prefill batch. #new-seq: 1, #new-token: 144, #cached-token: 153, token usage: 0.02, #running-req: 28, #queue-req: 0\n",
      "[2025-08-12 20:20:25] Prefill batch. #new-seq: 1, #new-token: 265, #cached-token: 170, token usage: 0.02, #running-req: 29, #queue-req: 0\n",
      "[2025-08-12 20:20:25] INFO:     127.0.0.1:60590 - \"POST /v1/chat/completions HTTP/1.1\" 200 OK\n",
      "[2025-08-12 20:20:25] Prefill batch. #new-seq: 1, #new-token: 271, #cached-token: 171, token usage: 0.02, #running-req: 29, #queue-req: 0\n",
      "[2025-08-12 20:20:25] INFO:     127.0.0.1:60544 - \"POST /v1/chat/completions HTTP/1.1\" 200 OK\n",
      "[2025-08-12 20:20:25] INFO:     127.0.0.1:60668 - \"POST /v1/chat/completions HTTP/1.1\" 200 OK\n",
      "[2025-08-12 20:20:25] INFO:     127.0.0.1:60458 - \"POST /v1/chat/completions HTTP/1.1\" 200 OK\n",
      "[2025-08-12 20:20:25] INFO:     127.0.0.1:60674 - \"POST /v1/chat/completions HTTP/1.1\" 200 OK\n",
      "[2025-08-12 20:20:25] INFO:     127.0.0.1:60510 - \"POST /v1/chat/completions HTTP/1.1\" 200 OK\n",
      "[2025-08-12 20:20:25] INFO:     127.0.0.1:60748 - \"POST /v1/chat/completions HTTP/1.1\" 200 OK\n",
      "[2025-08-12 20:20:25] INFO:     127.0.0.1:60610 - \"POST /v1/chat/completions HTTP/1.1\" 200 OK\n",
      "[2025-08-12 20:20:25] INFO:     127.0.0.1:60708 - \"POST /v1/chat/completions HTTP/1.1\" 200 OK\n",
      "[2025-08-12 20:20:25] Decode batch. #running-req: 23, #token: 6675, token usage: 0.01, cuda graph: True, gen throughput (token/s): 1048.55, #queue-req: 0\n",
      "[2025-08-12 20:20:26] INFO:     127.0.0.1:60516 - \"POST /v1/chat/completions HTTP/1.1\" 200 OK\n",
      "[2025-08-12 20:20:26] Prefill batch. #new-seq: 3, #new-token: 748, #cached-token: 462, token usage: 0.01, #running-req: 21, #queue-req: 0\n",
      "[2025-08-12 20:20:26] INFO:     127.0.0.1:60634 - \"POST /v1/chat/completions HTTP/1.1\" 200 OK\n",
      "[2025-08-12 20:20:26] Prefill batch. #new-seq: 3, #new-token: 596, #cached-token: 435, token usage: 0.01, #running-req: 23, #queue-req: 0\n",
      "[2025-08-12 20:20:26] Prefill batch. #new-seq: 4, #new-token: 815, #cached-token: 620, token usage: 0.02, #running-req: 26, #queue-req: 0\n",
      "[2025-08-12 20:20:26] INFO:     127.0.0.1:60680 - \"POST /v1/chat/completions HTTP/1.1\" 200 OK\n",
      "[2025-08-12 20:20:26] INFO:     127.0.0.1:60706 - \"POST /v1/chat/completions HTTP/1.1\" 200 OK\n",
      "[2025-08-12 20:20:27] INFO:     127.0.0.1:60598 - \"POST /v1/chat/completions HTTP/1.1\" 200 OK\n",
      "[2025-08-12 20:20:27] Decode batch. #running-req: 27, #token: 7953, token usage: 0.02, cuda graph: True, gen throughput (token/s): 836.27, #queue-req: 0\n",
      "[2025-08-12 20:20:27] INFO:     127.0.0.1:60696 - \"POST /v1/chat/completions HTTP/1.1\" 200 OK\n",
      "[2025-08-12 20:20:27] Prefill batch. #new-seq: 1, #new-token: 303, #cached-token: 153, token usage: 0.02, #running-req: 26, #queue-req: 0\n",
      "[2025-08-12 20:20:27] INFO:     127.0.0.1:60736 - \"POST /v1/chat/completions HTTP/1.1\" 200 OK\n",
      "[2025-08-12 20:20:27] Prefill batch. #new-seq: 3, #new-token: 728, #cached-token: 490, token usage: 0.02, #running-req: 27, #queue-req: 0\n",
      "[2025-08-12 20:20:27] Prefill batch. #new-seq: 1, #new-token: 164, #cached-token: 154, token usage: 0.02, #running-req: 29, #queue-req: 0\n",
      "[2025-08-12 20:20:27] INFO:     127.0.0.1:60622 - \"POST /v1/chat/completions HTTP/1.1\" 200 OK\n",
      "[2025-08-12 20:20:27] Prefill batch. #new-seq: 1, #new-token: 183, #cached-token: 149, token usage: 0.02, #running-req: 29, #queue-req: 0\n",
      "[2025-08-12 20:20:27] INFO:     127.0.0.1:60740 - \"POST /v1/chat/completions HTTP/1.1\" 200 OK\n",
      "[2025-08-12 20:20:27] Prefill batch. #new-seq: 1, #new-token: 376, #cached-token: 102, token usage: 0.02, #running-req: 29, #queue-req: 0\n",
      "[2025-08-12 20:20:28] INFO:     127.0.0.1:60750 - \"POST /v1/chat/completions HTTP/1.1\" 200 OK\n",
      "[2025-08-12 20:20:28] Decode batch. #running-req: 30, #token: 9117, token usage: 0.02, cuda graph: True, gen throughput (token/s): 957.35, #queue-req: 0\n",
      "[2025-08-12 20:20:28] Prefill batch. #new-seq: 1, #new-token: 271, #cached-token: 181, token usage: 0.02, #running-req: 29, #queue-req: 0\n",
      "[2025-08-12 20:20:28] INFO:     127.0.0.1:60786 - \"POST /v1/chat/completions HTTP/1.1\" 200 OK\n",
      "[2025-08-12 20:20:28] Prefill batch. #new-seq: 1, #new-token: 272, #cached-token: 204, token usage: 0.02, #running-req: 29, #queue-req: 0\n",
      "[2025-08-12 20:20:28] INFO:     127.0.0.1:60770 - \"POST /v1/chat/completions HTTP/1.1\" 200 OK\n",
      "[2025-08-12 20:20:28] Prefill batch. #new-seq: 1, #new-token: 261, #cached-token: 118, token usage: 0.02, #running-req: 29, #queue-req: 0\n",
      "[2025-08-12 20:20:29] INFO:     127.0.0.1:60792 - \"POST /v1/chat/completions HTTP/1.1\" 200 OK\n",
      "[2025-08-12 20:20:29] Prefill batch. #new-seq: 1, #new-token: 324, #cached-token: 171, token usage: 0.02, #running-req: 29, #queue-req: 0\n",
      "[2025-08-12 20:20:29] INFO:     127.0.0.1:60476 - \"POST /v1/chat/completions HTTP/1.1\" 200 OK\n",
      "[2025-08-12 20:20:29] Decode batch. #running-req: 30, #token: 9807, token usage: 0.02, cuda graph: True, gen throughput (token/s): 1035.75, #queue-req: 0\n",
      "[2025-08-12 20:20:29] Prefill batch. #new-seq: 1, #new-token: 204, #cached-token: 145, token usage: 0.02, #running-req: 29, #queue-req: 0\n",
      "[2025-08-12 20:20:29] INFO:     127.0.0.1:60796 - \"POST /v1/chat/completions HTTP/1.1\" 200 OK\n",
      "[2025-08-12 20:20:29] Prefill batch. #new-seq: 1, #new-token: 342, #cached-token: 175, token usage: 0.02, #running-req: 29, #queue-req: 0\n",
      "[2025-08-12 20:20:29] INFO:     127.0.0.1:60842 - \"POST /v1/chat/completions HTTP/1.1\" 200 OK\n",
      "[2025-08-12 20:20:29] Prefill batch. #new-seq: 1, #new-token: 201, #cached-token: 121, token usage: 0.02, #running-req: 30, #queue-req: 0\n",
      "[2025-08-12 20:20:30] INFO:     127.0.0.1:60906 - \"POST /v1/chat/completions HTTP/1.1\" 200 OK\n",
      "[2025-08-12 20:20:30] Prefill batch. #new-seq: 1, #new-token: 97, #cached-token: 169, token usage: 0.02, #running-req: 29, #queue-req: 0\n",
      "[2025-08-12 20:20:30] INFO:     127.0.0.1:60814 - \"POST /v1/chat/completions HTTP/1.1\" 200 OK\n",
      "[2025-08-12 20:20:30] Prefill batch. #new-seq: 1, #new-token: 312, #cached-token: 170, token usage: 0.02, #running-req: 29, #queue-req: 0\n",
      "[2025-08-12 20:20:30] Decode batch. #running-req: 29, #token: 10593, token usage: 0.02, cuda graph: True, gen throughput (token/s): 1068.46, #queue-req: 0\n",
      "[2025-08-12 20:20:30] INFO:     127.0.0.1:60822 - \"POST /v1/chat/completions HTTP/1.1\" 200 OK\n",
      "[2025-08-12 20:20:30] Prefill batch. #new-seq: 1, #new-token: 344, #cached-token: 171, token usage: 0.02, #running-req: 29, #queue-req: 0\n",
      "[2025-08-12 20:20:30] INFO:     127.0.0.1:60830 - \"POST /v1/chat/completions HTTP/1.1\" 200 OK\n",
      "[2025-08-12 20:20:30] INFO:     127.0.0.1:60720 - \"POST /v1/chat/completions HTTP/1.1\" 200 OK\n",
      "[2025-08-12 20:20:30] INFO:     127.0.0.1:60868 - \"POST /v1/chat/completions HTTP/1.1\" 200 OK\n",
      "[2025-08-12 20:20:30] INFO:     127.0.0.1:60916 - \"POST /v1/chat/completions HTTP/1.1\" 200 OK\n",
      "[2025-08-12 20:20:30] Prefill batch. #new-seq: 3, #new-token: 824, #cached-token: 524, token usage: 0.02, #running-req: 27, #queue-req: 0\n",
      "[2025-08-12 20:20:31] INFO:     127.0.0.1:46888 - \"POST /v1/chat/completions HTTP/1.1\" 400 Bad Request\n",
      "> \u001b[0;32m/nas/ucb/dayan/optimal-explorer-dev/src/optimal_explorer/llm_utils.py\u001b[0m(85)\u001b[0;36mllm_call\u001b[0;34m()\u001b[0m\n",
      "\u001b[0;32m     84 \u001b[0;31m                        \u001b[0;32mimport\u001b[0m \u001b[0mipdb\u001b[0m\u001b[0;34m;\u001b[0m \u001b[0mipdb\u001b[0m\u001b[0;34m.\u001b[0m\u001b[0mset_trace\u001b[0m\u001b[0;34m(\u001b[0m\u001b[0;34m)\u001b[0m\u001b[0;34m\u001b[0m\u001b[0;34m\u001b[0m\u001b[0m\n",
      "\u001b[0m\u001b[0;32m---> 85 \u001b[0;31m                        \u001b[0mprint\u001b[0m\u001b[0;34m(\u001b[0m\u001b[0;34m\"API request failed: status \"\u001b[0m\u001b[0;34m+\u001b[0m \u001b[0mstr\u001b[0m\u001b[0;34m(\u001b[0m\u001b[0mresponse\u001b[0m\u001b[0;34m.\u001b[0m\u001b[0mstatus\u001b[0m\u001b[0;34m)\u001b[0m\u001b[0;34m)\u001b[0m\u001b[0;34m\u001b[0m\u001b[0;34m\u001b[0m\u001b[0m\n",
      "\u001b[0m\u001b[0;32m     86 \u001b[0;31m                        \u001b[0;32mcontinue\u001b[0m\u001b[0;34m\u001b[0m\u001b[0;34m\u001b[0m\u001b[0m\n",
      "\u001b[0m\n",
      "[2025-08-12 20:20:31] INFO:     127.0.0.1:60798 - \"POST /v1/chat/completions HTTP/1.1\" 200 OK\n",
      "[2025-08-12 20:20:31] INFO:     127.0.0.1:60952 - \"POST /v1/chat/completions HTTP/1.1\" 200 OK\n",
      "[2025-08-12 20:20:31] INFO:     127.0.0.1:60900 - \"POST /v1/chat/completions HTTP/1.1\" 200 OK\n",
      "[2025-08-12 20:20:31] Decode batch. #running-req: 27, #token: 9296, token usage: 0.02, cuda graph: True, gen throughput (token/s): 1014.05, #queue-req: 0\n",
      "[2025-08-12 20:20:31] INFO:     127.0.0.1:60812 - \"POST /v1/chat/completions HTTP/1.1\" 200 OK\n",
      "[2025-08-12 20:20:31] INFO:     127.0.0.1:46756 - \"POST /v1/chat/completions HTTP/1.1\" 200 OK\n",
      "[2025-08-12 20:20:31] INFO:     127.0.0.1:60956 - \"POST /v1/chat/completions HTTP/1.1\" 200 OK\n",
      "[2025-08-12 20:20:31] INFO:     127.0.0.1:46778 - \"POST /v1/chat/completions HTTP/1.1\" 200 OK\n",
      "[2025-08-12 20:20:32] INFO:     127.0.0.1:60852 - \"POST /v1/chat/completions HTTP/1.1\" 200 OK\n",
      "[2025-08-12 20:20:32] INFO:     127.0.0.1:46762 - \"POST /v1/chat/completions HTTP/1.1\" 200 OK\n",
      "[2025-08-12 20:20:32] INFO:     127.0.0.1:46812 - \"POST /v1/chat/completions HTTP/1.1\" 200 OK\n",
      "[2025-08-12 20:20:32] INFO:     127.0.0.1:60930 - \"POST /v1/chat/completions HTTP/1.1\" 200 OK\n",
      "[2025-08-12 20:20:32] INFO:     127.0.0.1:60802 - \"POST /v1/chat/completions HTTP/1.1\" 200 OK\n",
      "[2025-08-12 20:20:32] INFO:     127.0.0.1:46818 - \"POST /v1/chat/completions HTTP/1.1\" 200 OK\n",
      "[2025-08-12 20:20:32] INFO:     127.0.0.1:46768 - \"POST /v1/chat/completions HTTP/1.1\" 200 OK\n",
      "[2025-08-12 20:20:32] Decode batch. #running-req: 16, #token: 6025, token usage: 0.01, cuda graph: True, gen throughput (token/s): 904.68, #queue-req: 0\n",
      "[2025-08-12 20:20:32] INFO:     127.0.0.1:46792 - \"POST /v1/chat/completions HTTP/1.1\" 200 OK\n",
      "[2025-08-12 20:20:32] INFO:     127.0.0.1:46830 - \"POST /v1/chat/completions HTTP/1.1\" 200 OK\n",
      "[2025-08-12 20:20:33] INFO:     127.0.0.1:46878 - \"POST /v1/chat/completions HTTP/1.1\" 200 OK\n",
      "[2025-08-12 20:20:33] INFO:     127.0.0.1:60922 - \"POST /v1/chat/completions HTTP/1.1\" 200 OK\n",
      "[2025-08-12 20:20:33] INFO:     127.0.0.1:60764 - \"POST /v1/chat/completions HTTP/1.1\" 200 OK\n",
      "[2025-08-12 20:20:33] INFO:     127.0.0.1:46856 - \"POST /v1/chat/completions HTTP/1.1\" 200 OK\n",
      "[2025-08-12 20:20:33] Decode batch. #running-req: 10, #token: 3970, token usage: 0.01, cuda graph: True, gen throughput (token/s): 520.17, #queue-req: 0\n",
      "[2025-08-12 20:20:33] INFO:     127.0.0.1:60938 - \"POST /v1/chat/completions HTTP/1.1\" 200 OK\n",
      "[2025-08-12 20:20:33] INFO:     127.0.0.1:46732 - \"POST /v1/chat/completions HTTP/1.1\" 200 OK\n",
      "[2025-08-12 20:20:33] INFO:     127.0.0.1:46840 - \"POST /v1/chat/completions HTTP/1.1\" 200 OK\n",
      "[2025-08-12 20:20:33] INFO:     127.0.0.1:60884 - \"POST /v1/chat/completions HTTP/1.1\" 200 OK\n",
      "[2025-08-12 20:20:34] Decode batch. #running-req: 5, #token: 2440, token usage: 0.00, cuda graph: True, gen throughput (token/s): 244.79, #queue-req: 0\n",
      "[2025-08-12 20:20:34] INFO:     127.0.0.1:60902 - \"POST /v1/chat/completions HTTP/1.1\" 200 OK\n",
      "[2025-08-12 20:20:35] INFO:     127.0.0.1:46864 - \"POST /v1/chat/completions HTTP/1.1\" 200 OK\n",
      "[2025-08-12 20:20:35] INFO:     127.0.0.1:46882 - \"POST /v1/chat/completions HTTP/1.1\" 200 OK\n",
      "[2025-08-12 20:20:35] Decode batch. #running-req: 2, #token: 1079, token usage: 0.00, cuda graph: True, gen throughput (token/s): 177.08, #queue-req: 0\n",
      "[2025-08-12 20:20:35] INFO:     127.0.0.1:46802 - \"POST /v1/chat/completions HTTP/1.1\" 200 OK\n",
      "[2025-08-12 20:20:36] Decode batch. #running-req: 1, #token: 679, token usage: 0.00, cuda graph: True, gen throughput (token/s): 51.99, #queue-req: 0\n",
      "[2025-08-12 20:20:36] INFO:     127.0.0.1:46744 - \"POST /v1/chat/completions HTTP/1.1\" 200 OK\n",
      "{'method': 'POST', '_real_url': URL('http://localhost:38873/v1/chat/completions'), '_url': URL('http://localhost:38873/v1/chat/completions'), '_ClientResponse__writer': None, '_request_info': RequestInfo(url=URL('http://localhost:38873/v1/chat/completions'), method='POST', headers=<CIMultiDictProxy('Host': 'localhost:38873', 'Accept': '*/*', 'Accept-Encoding': 'gzip, deflate', 'User-Agent': 'Python/3.10 aiohttp/3.12.14', 'Content-Length': '3632', 'Content-Type': 'application/json')>, real_url=URL('http://localhost:38873/v1/chat/completions')), '_timer': <aiohttp.helpers.TimerContext object at 0x7fb7cc257d80>, '_cache': {'headers': <CIMultiDictProxy('Date': 'Wed, 13 Aug 2025 03:20:31 GMT', 'Server': 'uvicorn', 'Content-Length': '372', 'Content-Type': 'application/json')>}, '_traces': [], '_loop': <_UnixSelectorEventLoop running=True closed=False debug=False>, '_session': None, '_resolve_charset': <function ClientSession.<lambda> at 0x7fb93e794940>, '_closed': True, '_protocol': <aiohttp.client_proto.ResponseHandler object at 0x7fb7cc26fa60>, '_connection': None, 'version': HttpVersion(major=1, minor=1), 'status': 400, 'reason': 'Bad Request', '_headers': <CIMultiDictProxy('Date': 'Wed, 13 Aug 2025 03:20:31 GMT', 'Server': 'uvicorn', 'Content-Length': '372', 'Content-Type': 'application/json')>, '_raw_headers': ((b'date', b'Wed, 13 Aug 2025 03:20:31 GMT'), (b'server', b'uvicorn'), (b'content-length', b'372'), (b'content-type', b'application/json')), 'content': <StreamReader 372 bytes eof>, '_history': (), '_in_context': True}\n",
      "3632\n",
      "b'{\"model\": \"Qwen/Qwen2.5-7B-instruct\", \"temperature\": 0.7, \"top_p\": 1, \"frequency_penalty\": 0, \"presence_penalty\": 0, \"repetition_penalty\": 1, \"top_k\": -1, \"max_tokens\": 32000, \"messages\": [{\"role\": \"system\", \"content\": \"You are a helpful assistant.\"}, {\"role\": \"user\", \"content\": \"This is the game information:\\\\nYou are playing a game of Wordle.\\\\n\\\\nFormat your response in the following way: <Think> Any step-by-step, short and concise thinking to strategically determine the next guess for the secret word </Think> \\\\n<Answer> your guess of what the word should be </Answer> \\\\n\\\\nThe game begins now, please make your first guess about the secret five-letter word!\\\\nYou are currently taking your attempt 6, and you have a total of 6 attempts.\\\\nLook at the current history and give an answer based on it.Give an answer that leads to optimal exploration and do not be greedy unless it is the last attempt. Try to maximize the amount of information you have so that you can solve the task correctly.History so far:\\\\nAnswer:STRED\\\\nResponse:First letter, s, is correct and in the correct position in the target word \\\\nSecond letter, t, exists in the target word but in a different position \\\\nThird letter, r, is not in the target word \\\\nFourth letter, e, exists in the target word but in a different position \\\\nFifth letter, d, is not in the target word\\\\nAnswer:STAEL\\\\nResponse:First letter, s, is correct and in the correct position in the target word \\\\nSecond letter, t, exists in the target word but in a different position \\\\nThird letter, a, is not in the target word \\\\nFourth letter, e, exists in the target word but in a different position \\\\nFifth letter, l, exists in the target word but in a different position\\\\nAnswer:SITE\\\\nResponse:The word you guessed, site, does not have five letters, but has 4. It is thus not a correct guess and does not follow the rules of the game wordle. Please make another guess!\\\\nAnswer:<Think> Based on the previous guesses and responses, we know:\\\\n- The first letter (S) is correct and in the right position.\\\\n- The second letter (T) is in the word but not in this specific position.\\\\n- The third and fifth letters (A and D) are not in the word.\\\\n- The fourth letter (E) is in the word but not in this specific position.\\\\n- The word has 5 letters.\\\\n\\\\nWe can use this information to make an educated guess. We can avoid the letters A and D, and try to incorporate the known letters (S, T, E) in different positions. Let\\'s try the word \\\\\"STORE\\\\\" since it includes S and T and places E and R in plausible positions.\\\\n\\\\nAnswer: STORE\\\\nResponse:The word you guessed, <think> based on the previous guesses and responses, we know:\\\\n- the first letter (s) is correct and in the right position.\\\\n- the second letter (t) is in the word but not in this specific position.\\\\n- the third and fifth letters (a and d) are not in the word.\\\\n- the fourth letter (e) is in the word but not in this specific position.\\\\n- the word has 5 letters.\\\\n\\\\nwe can use this information to make an educated guess. we can avoid the letters a and d, and try to incorporate the known letters (s, t, e) in different positions. let\\'s try the word \\\\\"store\\\\\" since it includes s and t and places e and r in plausible positions.\\\\n\\\\nanswer: store, does not have five letters, but has 633. It is thus not a correct guess and does not follow the rules of the game wordle. Please make another guess!\\\\n\\\\nPlease format your response as: <Think> Any step-by-step, short and concise thinking to determine what the next guess should be </Think>\\\\n <Answer> your answer in the correct format mentioned </Answer>\"}], \"reasoning\": {\"effort\": \"high\"}}'\n",
      "'{\"model\": \"Qwen/Qwen2.5-7B-instruct\", \"temperature\": 0.7, \"top_p\": 1, \"frequency_penalty\": 0, \"presence_penalty\": 0, \"repetition_penalty\": 1, \"top_k\": -1, \"max_tokens\": 32000, \"messages\": [{\"role\": \"system\", \"content\": \"You are a helpful assistant.\"}, {\"role\": \"user\", \"content\": \"This is the game information:\\\\nYou are playing a game of Wordle.\\\\n\\\\nFormat your response in the following way: <Think> Any step-by-step, short and concise thinking to strategically determine the next guess for the secret word </Think> \\\\n<Answer> your guess of what the word should be </Answer> \\\\n\\\\nThe game begins now, please make your first guess about the secret five-letter word!\\\\nYou are currently taking your attempt 6, and you have a total of 6 attempts.\\\\nLook at the current history and give an answer based on it.Give an answer that leads to optimal exploration and do not be greedy unless it is the last attempt. Try to maximize the amount of information you have so that you can solve the task correctly.History so far:\\\\nAnswer:STRED\\\\nResponse:First letter, s, is correct and in the correct position in the target word \\\\nSecond letter, t, exists in the target word but in a different position \\\\nThird letter, r, is not in the target word \\\\nFourth letter, e, exists in the target word but in a different position \\\\nFifth letter, d, is not in the target word\\\\nAnswer:STAEL\\\\nResponse:First letter, s, is correct and in the correct position in the target word \\\\nSecond letter, t, exists in the target word but in a different position \\\\nThird letter, a, is not in the target word \\\\nFourth letter, e, exists in the target word but in a different position \\\\nFifth letter, l, exists in the target word but in a different position\\\\nAnswer:SITE\\\\nResponse:The word you guessed, site, does not have five letters, but has 4. It is thus not a correct guess and does not follow the rules of the game wordle. Please make another guess!\\\\nAnswer:<Think> Based on the previous guesses and responses, we know:\\\\n- The first letter (S) is correct and in the right position.\\\\n- The second letter (T) is in the word but not in this specific position.\\\\n- The third and fifth letters (A and D) are not in the word.\\\\n- The fourth letter (E) is in the word but not in this specific position.\\\\n- The word has 5 letters.\\\\n\\\\nWe can use this information to make an educated guess. We can avoid the letters A and D, and try to incorporate the known letters (S, T, E) in different positions. Let\\'s try the word \\\\\"STORE\\\\\" since it includes S and T and places E and R in plausible positions.\\\\n\\\\nAnswer: STORE\\\\nResponse:The word you guessed, <think> based on the previous guesses and responses, we know:\\\\n- the first letter (s) is correct and in the right position.\\\\n- the second letter (t) is in the word but not in this specific position.\\\\n- the third and fifth letters (a and d) are not in the word.\\\\n- the fourth letter (e) is in the word but not in this specific position.\\\\n- the word has 5 letters.\\\\n\\\\nwe can use this information to make an educated guess. we can avoid the letters a and d, and try to incorporate the known letters (s, t, e) in different positions. let\\'s try the word \\\\\"store\\\\\" since it includes s and t and places e and r in plausible positions.\\\\n\\\\nanswer: store, does not have five letters, but has 633. It is thus not a correct guess and does not follow the rules of the game wordle. Please make another guess!\\\\n\\\\nPlease format your response as: <Think> Any step-by-step, short and concise thinking to determine what the next guess should be </Think>\\\\n <Answer> your answer in the correct format mentioned </Answer>\"}], \"reasoning\": {\"effort\": \"high\"}}'\n",
      "*** KeyError: 'role'\n",
      "*** TypeError: string indices must be integers\n",
      "{'model': 'Qwen/Qwen2.5-7B-instruct', 'temperature': 0.7, 'top_p': 1, 'frequency_penalty': 0, 'presence_penalty': 0, 'repetition_penalty': 1, 'top_k': -1, 'max_tokens': 32000, 'messages': [{'role': 'system', 'content': 'You are a helpful assistant.'}, {'role': 'user', 'content': 'This is the game information:\\nYou are playing a game of Wordle.\\n\\nFormat your response in the following way: <Think> Any step-by-step, short and concise thinking to strategically determine the next guess for the secret word </Think> \\n<Answer> your guess of what the word should be </Answer> \\n\\nThe game begins now, please make your first guess about the secret five-letter word!\\nYou are currently taking your attempt 6, and you have a total of 6 attempts.\\nLook at the current history and give an answer based on it.Give an answer that leads to optimal exploration and do not be greedy unless it is the last attempt. Try to maximize the amount of information you have so that you can solve the task correctly.History so far:\\nAnswer:STRED\\nResponse:First letter, s, is correct and in the correct position in the target word \\nSecond letter, t, exists in the target word but in a different position \\nThird letter, r, is not in the target word \\nFourth letter, e, exists in the target word but in a different position \\nFifth letter, d, is not in the target word\\nAnswer:STAEL\\nResponse:First letter, s, is correct and in the correct position in the target word \\nSecond letter, t, exists in the target word but in a different position \\nThird letter, a, is not in the target word \\nFourth letter, e, exists in the target word but in a different position \\nFifth letter, l, exists in the target word but in a different position\\nAnswer:SITE\\nResponse:The word you guessed, site, does not have five letters, but has 4. It is thus not a correct guess and does not follow the rules of the game wordle. Please make another guess!\\nAnswer:<Think> Based on the previous guesses and responses, we know:\\n- The first letter (S) is correct and in the right position.\\n- The second letter (T) is in the word but not in this specific position.\\n- The third and fifth letters (A and D) are not in the word.\\n- The fourth letter (E) is in the word but not in this specific position.\\n- The word has 5 letters.\\n\\nWe can use this information to make an educated guess. We can avoid the letters A and D, and try to incorporate the known letters (S, T, E) in different positions. Let\\'s try the word \"STORE\" since it includes S and T and places E and R in plausible positions.\\n\\nAnswer: STORE\\nResponse:The word you guessed, <think> based on the previous guesses and responses, we know:\\n- the first letter (s) is correct and in the right position.\\n- the second letter (t) is in the word but not in this specific position.\\n- the third and fifth letters (a and d) are not in the word.\\n- the fourth letter (e) is in the word but not in this specific position.\\n- the word has 5 letters.\\n\\nwe can use this information to make an educated guess. we can avoid the letters a and d, and try to incorporate the known letters (s, t, e) in different positions. let\\'s try the word \"store\" since it includes s and t and places e and r in plausible positions.\\n\\nanswer: store, does not have five letters, but has 633. It is thus not a correct guess and does not follow the rules of the game wordle. Please make another guess!\\n\\nPlease format your response as: <Think> Any step-by-step, short and concise thinking to determine what the next guess should be </Think>\\n <Answer> your answer in the correct format mentioned </Answer>'}], 'reasoning': {'effort': 'high'}}\n",
      "{'model': 'Qwen/Qwen2.5-7B-instruct', 'temperature': 0.7, 'top_p': 1, 'frequency_penalty': 0, 'presence_penalty': 0, 'repetition_penalty': 1, 'top_k': -1, 'max_tokens': 32000, 'messages': [{'role': 'system', 'content': 'You are a helpful assistant.'}, {'role': 'user', 'content': 'This is the game information:\\nYou are playing a game of Wordle.\\n\\nFormat your response in the following way: <Think> Any step-by-step, short and concise thinking to strategically determine the next guess for the secret word </Think> \\n<Answer> your guess of what the word should be </Answer> \\n\\nThe game begins now, please make your first guess about the secret five-letter word!\\nYou are currently taking your attempt 6, and you have a total of 6 attempts.\\nLook at the current history and give an answer based on it.Give an answer that leads to optimal exploration and do not be greedy unless it is the last attempt. Try to maximize the amount of information you have so that you can solve the task correctly.History so far:\\nAnswer:STRED\\nResponse:First letter, s, is correct and in the correct position in the target word \\nSecond letter, t, exists in the target word but in a different position \\nThird letter, r, is not in the target word \\nFourth letter, e, exists in the target word but in a different position \\nFifth letter, d, is not in the target word\\nAnswer:STAEL\\nResponse:First letter, s, is correct and in the correct position in the target word \\nSecond letter, t, exists in the target word but in a different position \\nThird letter, a, is not in the target word \\nFourth letter, e, exists in the target word but in a different position \\nFifth letter, l, exists in the target word but in a different position\\nAnswer:SITE\\nResponse:The word you guessed, site, does not have five letters, but has 4. It is thus not a correct guess and does not follow the rules of the game wordle. Please make another guess!\\nAnswer:<Think> Based on the previous guesses and responses, we know:\\n- The first letter (S) is correct and in the right position.\\n- The second letter (T) is in the word but not in this specific position.\\n- The third and fifth letters (A and D) are not in the word.\\n- The fourth letter (E) is in the word but not in this specific position.\\n- The word has 5 letters.\\n\\nWe can use this information to make an educated guess. We can avoid the letters A and D, and try to incorporate the known letters (S, T, E) in different positions. Let\\'s try the word \"STORE\" since it includes S and T and places E and R in plausible positions.\\n\\nAnswer: STORE\\nResponse:The word you guessed, <think> based on the previous guesses and responses, we know:\\n- the first letter (s) is correct and in the right position.\\n- the second letter (t) is in the word but not in this specific position.\\n- the third and fifth letters (a and d) are not in the word.\\n- the fourth letter (e) is in the word but not in this specific position.\\n- the word has 5 letters.\\n\\nwe can use this information to make an educated guess. we can avoid the letters a and d, and try to incorporate the known letters (s, t, e) in different positions. let\\'s try the word \"store\" since it includes s and t and places e and r in plausible positions.\\n\\nanswer: store, does not have five letters, but has 633. It is thus not a correct guess and does not follow the rules of the game wordle. Please make another guess!\\n\\nPlease format your response as: <Think> Any step-by-step, short and concise thinking to determine what the next guess should be </Think>\\n <Answer> your answer in the correct format mentioned </Answer>'}], 'reasoning': {'effort': 'high'}}\n",
      "API request failed. Retrying... (1/5)\n",
      "API request failed. Retrying... (1/5)\n",
      "API request failed. Retrying... (1/5)\n",
      "API request failed. Retrying... (1/5)\n",
      "API request failed. Retrying... (1/5)\n",
      "API request failed. Retrying... (1/5)\n",
      "API request failed. Retrying... (1/5)\n",
      "API request failed. Retrying... (1/5)\n",
      "API request failed. Retrying... (1/5)\n",
      "API request failed. Retrying... (1/5)\n",
      "API request failed. Retrying... (1/5)\n",
      "API request failed. Retrying... (1/5)\n",
      "API request failed. Retrying... (1/5)\n",
      "API request failed. Retrying... (1/5)\n",
      "API request failed. Retrying... (1/5)\n",
      "API request failed. Retrying... (1/5)\n",
      "API request failed. Retrying... (1/5)\n",
      "API request failed. Retrying... (1/5)\n",
      "API request failed. Retrying... (1/5)\n",
      "API request failed. Retrying... (1/5)\n",
      "API request failed. Retrying... (1/5)\n",
      "API request failed. Retrying... (1/5)\n",
      "API request failed. Retrying... (1/5)\n",
      "API request failed. Retrying... (1/5)\n",
      "API request failed. Retrying... (1/5)\n",
      "API request failed. Retrying... (1/5)\n",
      "API request failed. Retrying... (1/5)\n",
      "API request failed. Retrying... (1/5)\n",
      "API request failed. Retrying... (1/5)\n",
      "API request failed. Retrying... (1/5)\n",
      "[2025-08-12 20:26:31] INFO:     127.0.0.1:41398 - \"POST /v1/chat/completions HTTP/1.1\" 400 Bad Request\n",
      "[2025-08-12 20:26:31] Prefill batch. #new-seq: 1, #new-token: 1, #cached-token: 313, token usage: 0.00, #running-req: 0, #queue-req: 0\n",
      "> \u001b[0;32m/nas/ucb/dayan/optimal-explorer-dev/src/optimal_explorer/llm_utils.py\u001b[0m(85)\u001b[0;36mllm_call\u001b[0;34m()\u001b[0m\n",
      "\u001b[0;32m     84 \u001b[0;31m                        \u001b[0;32mimport\u001b[0m \u001b[0mipdb\u001b[0m\u001b[0;34m;\u001b[0m \u001b[0mipdb\u001b[0m\u001b[0;34m.\u001b[0m\u001b[0mset_trace\u001b[0m\u001b[0;34m(\u001b[0m\u001b[0;34m)\u001b[0m\u001b[0;34m\u001b[0m\u001b[0;34m\u001b[0m\u001b[0m\n",
      "\u001b[0m\u001b[0;32m---> 85 \u001b[0;31m                        \u001b[0mprint\u001b[0m\u001b[0;34m(\u001b[0m\u001b[0;34m\"API request failed: status \"\u001b[0m\u001b[0;34m+\u001b[0m \u001b[0mstr\u001b[0m\u001b[0;34m(\u001b[0m\u001b[0mresponse\u001b[0m\u001b[0;34m.\u001b[0m\u001b[0mstatus\u001b[0m\u001b[0;34m)\u001b[0m\u001b[0;34m)\u001b[0m\u001b[0;34m\u001b[0m\u001b[0;34m\u001b[0m\u001b[0m\n",
      "\u001b[0m\u001b[0;32m     86 \u001b[0;31m                        \u001b[0;32mcontinue\u001b[0m\u001b[0;34m\u001b[0m\u001b[0;34m\u001b[0m\u001b[0m\n",
      "\u001b[0m\n",
      "[2025-08-12 20:26:31] Prefill batch. #new-seq: 7, #new-token: 7, #cached-token: 2678, token usage: 0.00, #running-req: 1, #queue-req: 0\n",
      "[2025-08-12 20:26:31] Prefill batch. #new-seq: 21, #new-token: 21, #cached-token: 8329, token usage: 0.01, #running-req: 8, #queue-req: 0\n",
      "[2025-08-12 20:26:31] Decode batch. #running-req: 29, #token: 7657, token usage: 0.02, cuda graph: True, gen throughput (token/s): 1.61, #queue-req: 0\n",
      "[2025-08-12 20:26:32] INFO:     127.0.0.1:41482 - \"POST /v1/chat/completions HTTP/1.1\" 200 OK\n",
      "[2025-08-12 20:26:32] Decode batch. #running-req: 28, #token: 8415, token usage: 0.02, cuda graph: True, gen throughput (token/s): 1239.13, #queue-req: 0\n",
      "[2025-08-12 20:26:32] INFO:     127.0.0.1:41516 - \"POST /v1/chat/completions HTTP/1.1\" 200 OK\n",
      "[2025-08-12 20:26:33] INFO:     127.0.0.1:41414 - \"POST /v1/chat/completions HTTP/1.1\" 200 OK\n",
      "[2025-08-12 20:26:33] INFO:     127.0.0.1:41446 - \"POST /v1/chat/completions HTTP/1.1\" 200 OK\n",
      "[2025-08-12 20:26:33] Decode batch. #running-req: 25, #token: 8498, token usage: 0.02, cuda graph: True, gen throughput (token/s): 1165.27, #queue-req: 0\n",
      "[2025-08-12 20:26:33] INFO:     127.0.0.1:41582 - \"POST /v1/chat/completions HTTP/1.1\" 200 OK\n",
      "[2025-08-12 20:26:33] INFO:     127.0.0.1:41544 - \"POST /v1/chat/completions HTTP/1.1\" 200 OK\n",
      "[2025-08-12 20:26:33] INFO:     127.0.0.1:41428 - \"POST /v1/chat/completions HTTP/1.1\" 200 OK\n",
      "[2025-08-12 20:26:34] INFO:     127.0.0.1:41602 - \"POST /v1/chat/completions HTTP/1.1\" 200 OK\n",
      "[2025-08-12 20:26:34] INFO:     127.0.0.1:41608 - \"POST /v1/chat/completions HTTP/1.1\" 200 OK\n",
      "[2025-08-12 20:26:34] INFO:     127.0.0.1:41476 - \"POST /v1/chat/completions HTTP/1.1\" 200 OK\n",
      "[2025-08-12 20:26:34] INFO:     127.0.0.1:41432 - \"POST /v1/chat/completions HTTP/1.1\" 200 OK\n",
      "[2025-08-12 20:26:34] Decode batch. #running-req: 19, #token: 6648, token usage: 0.01, cuda graph: True, gen throughput (token/s): 932.17, #queue-req: 0\n",
      "API request failed. Retrying... (2/5)\n",
      "[2025-08-12 20:26:34] INFO:     127.0.0.1:41398 - \"POST /v1/chat/completions HTTP/1.1\" 400 Bad Request\n",
      "[2025-08-12 20:26:34] INFO:     127.0.0.1:41562 - \"POST /v1/chat/completions HTTP/1.1\" 200 OK\n",
      "[2025-08-12 20:26:34] INFO:     127.0.0.1:41548 - \"POST /v1/chat/completions HTTP/1.1\" 200 OK\n",
      "[2025-08-12 20:26:34] INFO:     127.0.0.1:41508 - \"POST /v1/chat/completions HTTP/1.1\" 200 OK\n",
      "[2025-08-12 20:26:34] INFO:     127.0.0.1:41612 - \"POST /v1/chat/completions HTTP/1.1\" 200 OK\n",
      "[2025-08-12 20:26:35] INFO:     127.0.0.1:41568 - \"POST /v1/chat/completions HTTP/1.1\" 200 OK\n",
      "[2025-08-12 20:26:35] INFO:     127.0.0.1:41592 - \"POST /v1/chat/completions HTTP/1.1\" 200 OK\n",
      "[2025-08-12 20:26:35] INFO:     127.0.0.1:41532 - \"POST /v1/chat/completions HTTP/1.1\" 200 OK\n",
      "[2025-08-12 20:26:35] Decode batch. #running-req: 11, #token: 4233, token usage: 0.01, cuda graph: True, gen throughput (token/s): 629.66, #queue-req: 0\n",
      "> \u001b[0;32m/nas/ucb/dayan/optimal-explorer-dev/src/optimal_explorer/llm_utils.py\u001b[0m(85)\u001b[0;36mllm_call\u001b[0;34m()\u001b[0m\n",
      "\u001b[0;32m     84 \u001b[0;31m                        \u001b[0;32mimport\u001b[0m \u001b[0mipdb\u001b[0m\u001b[0;34m;\u001b[0m \u001b[0mipdb\u001b[0m\u001b[0;34m.\u001b[0m\u001b[0mset_trace\u001b[0m\u001b[0;34m(\u001b[0m\u001b[0;34m)\u001b[0m\u001b[0;34m\u001b[0m\u001b[0;34m\u001b[0m\u001b[0m\n",
      "\u001b[0m\u001b[0;32m---> 85 \u001b[0;31m                        \u001b[0mprint\u001b[0m\u001b[0;34m(\u001b[0m\u001b[0;34m\"API request failed: status \"\u001b[0m\u001b[0;34m+\u001b[0m \u001b[0mstr\u001b[0m\u001b[0;34m(\u001b[0m\u001b[0mresponse\u001b[0m\u001b[0;34m.\u001b[0m\u001b[0mstatus\u001b[0m\u001b[0;34m)\u001b[0m\u001b[0;34m)\u001b[0m\u001b[0;34m\u001b[0m\u001b[0;34m\u001b[0m\u001b[0m\n",
      "\u001b[0m\u001b[0;32m     86 \u001b[0;31m                        \u001b[0;32mcontinue\u001b[0m\u001b[0;34m\u001b[0m\u001b[0;34m\u001b[0m\u001b[0m\n",
      "\u001b[0m\n",
      "[2025-08-12 20:26:35] INFO:     127.0.0.1:41512 - \"POST /v1/chat/completions HTTP/1.1\" 200 OK\n",
      "[2025-08-12 20:26:36] INFO:     127.0.0.1:41564 - \"POST /v1/chat/completions HTTP/1.1\" 200 OK\n",
      "[2025-08-12 20:26:36] Decode batch. #running-req: 9, #token: 3908, token usage: 0.01, cuda graph: True, gen throughput (token/s): 426.11, #queue-req: 0\n",
      "[2025-08-12 20:26:36] INFO:     127.0.0.1:41560 - \"POST /v1/chat/completions HTTP/1.1\" 200 OK\n",
      "[2025-08-12 20:26:36] INFO:     127.0.0.1:41406 - \"POST /v1/chat/completions HTTP/1.1\" 200 OK\n",
      "[2025-08-12 20:26:36] INFO:     127.0.0.1:41554 - \"POST /v1/chat/completions HTTP/1.1\" 200 OK\n",
      "[2025-08-12 20:26:37] Decode batch. #running-req: 6, #token: 2481, token usage: 0.00, cuda graph: True, gen throughput (token/s): 332.79, #queue-req: 0\n",
      "[2025-08-12 20:26:37] INFO:     127.0.0.1:41402 - \"POST /v1/chat/completions HTTP/1.1\" 200 OK\n",
      "API request failed. Retrying... (3/5)\n",
      "[2025-08-12 20:26:37] INFO:     127.0.0.1:41398 - \"POST /v1/chat/completions HTTP/1.1\" 400 Bad Request\n",
      "> \u001b[0;32m/nas/ucb/dayan/optimal-explorer-dev/src/optimal_explorer/llm_utils.py\u001b[0m(85)\u001b[0;36mllm_call\u001b[0;34m()\u001b[0m\n",
      "\u001b[0;32m     84 \u001b[0;31m                        \u001b[0;32mimport\u001b[0m \u001b[0mipdb\u001b[0m\u001b[0;34m;\u001b[0m \u001b[0mipdb\u001b[0m\u001b[0;34m.\u001b[0m\u001b[0mset_trace\u001b[0m\u001b[0;34m(\u001b[0m\u001b[0;34m)\u001b[0m\u001b[0;34m\u001b[0m\u001b[0;34m\u001b[0m\u001b[0m\n",
      "\u001b[0m\u001b[0;32m---> 85 \u001b[0;31m                        \u001b[0mprint\u001b[0m\u001b[0;34m(\u001b[0m\u001b[0;34m\"API request failed: status \"\u001b[0m\u001b[0;34m+\u001b[0m \u001b[0mstr\u001b[0m\u001b[0;34m(\u001b[0m\u001b[0mresponse\u001b[0m\u001b[0;34m.\u001b[0m\u001b[0mstatus\u001b[0m\u001b[0;34m)\u001b[0m\u001b[0;34m)\u001b[0m\u001b[0;34m\u001b[0m\u001b[0;34m\u001b[0m\u001b[0m\n",
      "\u001b[0m\u001b[0;32m     86 \u001b[0;31m                        \u001b[0;32mcontinue\u001b[0m\u001b[0;34m\u001b[0m\u001b[0;34m\u001b[0m\u001b[0m\n",
      "\u001b[0m\n"
     ]
    }
   ],
   "source": [
    "from run_baselines_paprika_frontier import run_multiple_iterations_multiple_games\n",
    "\n",
    "await run_multiple_iterations_multiple_games(\n",
    "    num_games=10,\n",
    "    list_envs=['wordle'],\n",
    "    models=[local_model_name],\n",
    "    word_limits=[None],\n",
    "    logs_file='./logs/paprika_local.jsonl',\n",
    "    infos=['belief', 'history', 'both'],\n",
    ")"
   ]
  },
  {
   "cell_type": "code",
   "execution_count": null,
   "id": "ff61928a",
   "metadata": {},
   "outputs": [],
   "source": []
  },
  {
   "cell_type": "code",
   "execution_count": null,
   "id": "15a86e30",
   "metadata": {},
   "outputs": [],
   "source": []
  },
  {
   "cell_type": "code",
   "execution_count": null,
   "id": "ee4c49ff",
   "metadata": {},
   "outputs": [],
   "source": []
  },
  {
   "cell_type": "code",
   "execution_count": null,
   "id": "7f7063c2",
   "metadata": {},
   "outputs": [],
   "source": []
  },
  {
   "cell_type": "code",
   "execution_count": null,
   "id": "9096e2aa",
   "metadata": {},
   "outputs": [],
   "source": []
  },
  {
   "cell_type": "markdown",
   "id": "8616ece5",
   "metadata": {},
   "source": [
    "# 4. Metrics"
   ]
  },
  {
   "cell_type": "code",
   "execution_count": 47,
   "id": "8df58134",
   "metadata": {},
   "outputs": [],
   "source": [
    "import pandas as pd\n",
    "from pprint import pprint as pp\n",
    "import json\n",
    "\n",
    "logs_file = './logs/paprika_local.jsonl'\n",
    "with open(logs_file, 'r') as f:\n",
    "    data = [json.loads(line) for line in f]\n",
    "df = pd.DataFrame(data)"
   ]
  },
  {
   "cell_type": "code",
   "execution_count": 48,
   "id": "656ec809",
   "metadata": {},
   "outputs": [
    {
     "name": "stdout",
     "output_type": "stream",
     "text": [
      "Index(['model', 'game_id', 'env', 'attempt', 'guess', 'response', 'score',\n",
      "       'done', 'data', 'belief', 'action_reasoning', 'belief_reasoning'],\n",
      "      dtype='object')\n"
     ]
    }
   ],
   "source": [
    "print(df.columns)"
   ]
  },
  {
   "cell_type": "code",
   "execution_count": 50,
   "id": "b226b1d1",
   "metadata": {},
   "outputs": [],
   "source": [
    "if 'wordl_limit' not in df.iloc[0].keys():\n",
    "    df['word_limit'] = 'None'"
   ]
  },
  {
   "cell_type": "code",
   "execution_count": 51,
   "id": "f23e7984",
   "metadata": {},
   "outputs": [
    {
     "ename": "KeyError",
     "evalue": "'info'",
     "output_type": "error",
     "traceback": [
      "\u001b[0;31m---------------------------------------------------------------------------\u001b[0m",
      "\u001b[0;31mKeyError\u001b[0m                                  Traceback (most recent call last)",
      "File \u001b[0;32m/nas/ucb/dayan/miniconda3/envs/verl/lib/python3.10/site-packages/pandas/core/indexes/base.py:3812\u001b[0m, in \u001b[0;36mIndex.get_loc\u001b[0;34m(self, key)\u001b[0m\n\u001b[1;32m   3811\u001b[0m \u001b[38;5;28;01mtry\u001b[39;00m:\n\u001b[0;32m-> 3812\u001b[0m     \u001b[38;5;28;01mreturn\u001b[39;00m \u001b[38;5;28;43mself\u001b[39;49m\u001b[38;5;241;43m.\u001b[39;49m\u001b[43m_engine\u001b[49m\u001b[38;5;241;43m.\u001b[39;49m\u001b[43mget_loc\u001b[49m\u001b[43m(\u001b[49m\u001b[43mcasted_key\u001b[49m\u001b[43m)\u001b[49m\n\u001b[1;32m   3813\u001b[0m \u001b[38;5;28;01mexcept\u001b[39;00m \u001b[38;5;167;01mKeyError\u001b[39;00m \u001b[38;5;28;01mas\u001b[39;00m err:\n",
      "File \u001b[0;32mpandas/_libs/index.pyx:167\u001b[0m, in \u001b[0;36mpandas._libs.index.IndexEngine.get_loc\u001b[0;34m()\u001b[0m\n",
      "File \u001b[0;32mpandas/_libs/index.pyx:196\u001b[0m, in \u001b[0;36mpandas._libs.index.IndexEngine.get_loc\u001b[0;34m()\u001b[0m\n",
      "File \u001b[0;32mpandas/_libs/hashtable_class_helper.pxi:7088\u001b[0m, in \u001b[0;36mpandas._libs.hashtable.PyObjectHashTable.get_item\u001b[0;34m()\u001b[0m\n",
      "File \u001b[0;32mpandas/_libs/hashtable_class_helper.pxi:7096\u001b[0m, in \u001b[0;36mpandas._libs.hashtable.PyObjectHashTable.get_item\u001b[0;34m()\u001b[0m\n",
      "\u001b[0;31mKeyError\u001b[0m: 'info'",
      "\nThe above exception was the direct cause of the following exception:\n",
      "\u001b[0;31mKeyError\u001b[0m                                  Traceback (most recent call last)",
      "Cell \u001b[0;32mIn[51], line 1\u001b[0m\n\u001b[0;32m----> 1\u001b[0m \u001b[43mdf\u001b[49m\u001b[43m[\u001b[49m\u001b[38;5;124;43m'\u001b[39;49m\u001b[38;5;124;43minfo\u001b[39;49m\u001b[38;5;124;43m'\u001b[39;49m\u001b[43m]\u001b[49m\u001b[38;5;241m.\u001b[39mvalue_counts()\n",
      "File \u001b[0;32m/nas/ucb/dayan/miniconda3/envs/verl/lib/python3.10/site-packages/pandas/core/frame.py:4107\u001b[0m, in \u001b[0;36mDataFrame.__getitem__\u001b[0;34m(self, key)\u001b[0m\n\u001b[1;32m   4105\u001b[0m \u001b[38;5;28;01mif\u001b[39;00m \u001b[38;5;28mself\u001b[39m\u001b[38;5;241m.\u001b[39mcolumns\u001b[38;5;241m.\u001b[39mnlevels \u001b[38;5;241m>\u001b[39m \u001b[38;5;241m1\u001b[39m:\n\u001b[1;32m   4106\u001b[0m     \u001b[38;5;28;01mreturn\u001b[39;00m \u001b[38;5;28mself\u001b[39m\u001b[38;5;241m.\u001b[39m_getitem_multilevel(key)\n\u001b[0;32m-> 4107\u001b[0m indexer \u001b[38;5;241m=\u001b[39m \u001b[38;5;28;43mself\u001b[39;49m\u001b[38;5;241;43m.\u001b[39;49m\u001b[43mcolumns\u001b[49m\u001b[38;5;241;43m.\u001b[39;49m\u001b[43mget_loc\u001b[49m\u001b[43m(\u001b[49m\u001b[43mkey\u001b[49m\u001b[43m)\u001b[49m\n\u001b[1;32m   4108\u001b[0m \u001b[38;5;28;01mif\u001b[39;00m is_integer(indexer):\n\u001b[1;32m   4109\u001b[0m     indexer \u001b[38;5;241m=\u001b[39m [indexer]\n",
      "File \u001b[0;32m/nas/ucb/dayan/miniconda3/envs/verl/lib/python3.10/site-packages/pandas/core/indexes/base.py:3819\u001b[0m, in \u001b[0;36mIndex.get_loc\u001b[0;34m(self, key)\u001b[0m\n\u001b[1;32m   3814\u001b[0m     \u001b[38;5;28;01mif\u001b[39;00m \u001b[38;5;28misinstance\u001b[39m(casted_key, \u001b[38;5;28mslice\u001b[39m) \u001b[38;5;129;01mor\u001b[39;00m (\n\u001b[1;32m   3815\u001b[0m         \u001b[38;5;28misinstance\u001b[39m(casted_key, abc\u001b[38;5;241m.\u001b[39mIterable)\n\u001b[1;32m   3816\u001b[0m         \u001b[38;5;129;01mand\u001b[39;00m \u001b[38;5;28many\u001b[39m(\u001b[38;5;28misinstance\u001b[39m(x, \u001b[38;5;28mslice\u001b[39m) \u001b[38;5;28;01mfor\u001b[39;00m x \u001b[38;5;129;01min\u001b[39;00m casted_key)\n\u001b[1;32m   3817\u001b[0m     ):\n\u001b[1;32m   3818\u001b[0m         \u001b[38;5;28;01mraise\u001b[39;00m InvalidIndexError(key)\n\u001b[0;32m-> 3819\u001b[0m     \u001b[38;5;28;01mraise\u001b[39;00m \u001b[38;5;167;01mKeyError\u001b[39;00m(key) \u001b[38;5;28;01mfrom\u001b[39;00m\u001b[38;5;250m \u001b[39m\u001b[38;5;21;01merr\u001b[39;00m\n\u001b[1;32m   3820\u001b[0m \u001b[38;5;28;01mexcept\u001b[39;00m \u001b[38;5;167;01mTypeError\u001b[39;00m:\n\u001b[1;32m   3821\u001b[0m     \u001b[38;5;66;03m# If we have a listlike key, _check_indexing_error will raise\u001b[39;00m\n\u001b[1;32m   3822\u001b[0m     \u001b[38;5;66;03m#  InvalidIndexError. Otherwise we fall through and re-raise\u001b[39;00m\n\u001b[1;32m   3823\u001b[0m     \u001b[38;5;66;03m#  the TypeError.\u001b[39;00m\n\u001b[1;32m   3824\u001b[0m     \u001b[38;5;28mself\u001b[39m\u001b[38;5;241m.\u001b[39m_check_indexing_error(key)\n",
      "\u001b[0;31mKeyError\u001b[0m: 'info'"
     ]
    }
   ],
   "source": [
    "df['info'].value_counts()"
   ]
  },
  {
   "cell_type": "code",
   "execution_count": 5,
   "id": "d9c30712",
   "metadata": {},
   "outputs": [],
   "source": [
    "df['model_info'] = df['model'].astype(str) + ' (' + df['info'].astype(str) + ')'"
   ]
  },
  {
   "cell_type": "code",
   "execution_count": 6,
   "id": "73a9cf0b",
   "metadata": {},
   "outputs": [],
   "source": [
    "df['model'] = df['model_info']"
   ]
  },
  {
   "cell_type": "code",
   "execution_count": 44,
   "id": "abe8ac6b",
   "metadata": {},
   "outputs": [],
   "source": [
    "import pandas as pd\n",
    "import plotly.graph_objects as go\n",
    "import plotly.express as px\n",
    "from plotly.subplots import make_subplots\n",
    "\n",
    "def summarize_game_outcomes(df):\n",
    "    df['response'] = df['response'].str.lower()\n",
    "    grouped = df.groupby(['model', 'game_id', 'env', 'word_limit'])['response'].apply(\n",
    "        lambda responses: any('goal reached' in resp for resp in responses)\n",
    "    ).reset_index(name='won')\n",
    "    return grouped\n",
    "\n",
    "def plot_win_rates(summary_df):\n",
    "    # Include word_limit in grouping\n",
    "    win_rates = summary_df.groupby(['env', 'model', 'word_limit'])['won'].mean().reset_index()\n",
    "    win_rates['success_rate'] = win_rates['won'] * 100\n",
    "\n",
    "    envs = win_rates['env'].unique()\n",
    "    models = win_rates['model'].unique()\n",
    "    word_limits = sorted(win_rates['word_limit'].unique())\n",
    "\n",
    "    colors = [\n",
    "        \"#ADD8E6\",  # light blue\n",
    "        \"#4682B4\",  # medium blue\n",
    "        \"#003366\",  # dark blue\n",
    "        \"#FFB6C1\",  # light red\n",
    "        \"#FF6347\",  # medium red\n",
    "        \"#8B0000\",  # dark red\n",
    "        \"#90EE90\",  # light green\n",
    "        \"#32CD32\",  # medium green\n",
    "        \"#006400\",  # dark green\n",
    "    ]\n",
    "    color_map = {model: colors[i % len(colors)] for i, model in enumerate(models)}\n",
    "\n",
    "    # Create subplots: rows = word_limit values, cols = envs\n",
    "    fig = make_subplots(\n",
    "        rows=len(word_limits), cols=len(envs),\n",
    "        subplot_titles=[f\"{env}\" for env in envs],\n",
    "        shared_yaxes=True,\n",
    "        vertical_spacing=0.2 / len(word_limits),\n",
    "        horizontal_spacing=0.03\n",
    "    )\n",
    "\n",
    "    for r, wl in enumerate(word_limits, start=1):\n",
    "        for c, env in enumerate(envs, start=1):\n",
    "            for model in models:\n",
    "                subset = win_rates[\n",
    "                    (win_rates['env'] == env) &\n",
    "                    (win_rates['model'] == model) &\n",
    "                    (win_rates['word_limit'] == wl)\n",
    "                ]\n",
    "                if not subset.empty:\n",
    "                    fig.add_trace(\n",
    "                        go.Bar(\n",
    "                            x=[model],\n",
    "                            y=subset['success_rate'],\n",
    "                            name=model,\n",
    "                            marker_color=color_map[model],\n",
    "                            width=0.8,\n",
    "                            showlegend=(r == 1 and c == 1),\n",
    "                            hovertemplate=(\n",
    "                                f\"Env: {env}<br>\"\n",
    "                                f\"Word Limit: {wl}<br>\"\n",
    "                                f\"Model: {model}<br>\"\n",
    "                                f\"Success Rate: {{y:.2f}}%\"\n",
    "                            ),\n",
    "                        ),\n",
    "                        row=r, col=c\n",
    "                    )\n",
    "            # Add row label for word_limit\n",
    "            if c == 1:\n",
    "                fig.add_annotation(\n",
    "                    text=f\"Word Limit: {wl}\",\n",
    "                    xref=\"paper\",\n",
    "                    yref=\"paper\",\n",
    "                    x=0.1,\n",
    "                    y=0.95 - ((r - 1) / len(word_limits)),\n",
    "                    showarrow=False,\n",
    "                    font=dict(size=14)\n",
    "                )\n",
    "\n",
    "    # Update y-axis\n",
    "    for r in range(1, len(word_limits) + 1):\n",
    "        for c in range(1, len(envs) + 1):\n",
    "            fig.update_yaxes(\n",
    "                range=[0, 100],\n",
    "                showgrid=True,\n",
    "                gridcolor='lightgray',\n",
    "                row=r, col=c\n",
    "            )\n",
    "\n",
    "    # Update x-axis to remove tick labels\n",
    "    for r in range(1, len(word_limits) + 1):\n",
    "        for c in range(1, len(envs) + 1):\n",
    "            fig.update_xaxes(\n",
    "                showticklabels=False,\n",
    "                row=r, col=c\n",
    "            )\n",
    "\n",
    "    # Fixed subplot size\n",
    "    fig_width = 180 * len(envs)\n",
    "    fig_height = 200 * len(word_limits)\n",
    "\n",
    "    # Layout with horizontal legend\n",
    "    fig.update_layout(\n",
    "        height=fig_height + 150,\n",
    "        width=fig_width,\n",
    "        template='simple_white',\n",
    "        font=dict(family='Computer Modern, serif', size=16),\n",
    "        barmode='group',\n",
    "        showlegend=True,\n",
    "        legend=dict(\n",
    "            title='Models',\n",
    "            orientation='h',\n",
    "            yanchor='bottom',\n",
    "            y=1.18,\n",
    "            xanchor='center',\n",
    "            x=0.5,\n",
    "            bgcolor='rgba(255,255,255,0.9)',\n",
    "            bordercolor='black',\n",
    "            borderwidth=1\n",
    "        ),\n",
    "        margin=dict(t=100, b=50, l=80, r=20),\n",
    "        plot_bgcolor='white'\n",
    "    )\n",
    "\n",
    "    return fig"
   ]
  },
  {
   "cell_type": "code",
   "execution_count": 45,
   "id": "94973117",
   "metadata": {},
   "outputs": [],
   "source": [
    "df_belief = df.loc[df['info'] == 'belief'].copy()\n",
    "df_history = df.loc[df['info'] == 'history'].copy()\n",
    "summary_df = summarize_game_outcomes(df)\n",
    "summary_df_belief = summarize_game_outcomes(df_belief)\n",
    "summary_df_history = summarize_game_outcomes(df_history)"
   ]
  },
  {
   "cell_type": "code",
   "execution_count": 46,
   "id": "06d25838",
   "metadata": {},
   "outputs": [
    {
     "data": {
      "application/vnd.plotly.v1+json": {
       "config": {
        "plotlyServerURL": "https://plot.ly"
       },
       "data": [
        {
         "hovertemplate": "Env: customer_service<br>Word Limit: None<br>Model: deepseek/deepseek-chat (belief)<br>Success Rate: {y:.2f}%",
         "marker": {
          "color": "#ADD8E6"
         },
         "name": "deepseek/deepseek-chat (belief)",
         "showlegend": true,
         "type": "bar",
         "width": 0.8,
         "x": [
          "deepseek/deepseek-chat (belief)"
         ],
         "xaxis": "x",
         "y": {
          "bdata": "AAAAAADAR0A=",
          "dtype": "f8"
         },
         "yaxis": "y"
        },
        {
         "hovertemplate": "Env: customer_service<br>Word Limit: None<br>Model: deepseek/deepseek-chat (both)<br>Success Rate: {y:.2f}%",
         "marker": {
          "color": "#4682B4"
         },
         "name": "deepseek/deepseek-chat (both)",
         "showlegend": true,
         "type": "bar",
         "width": 0.8,
         "x": [
          "deepseek/deepseek-chat (both)"
         ],
         "xaxis": "x",
         "y": {
          "bdata": "AAAAAACAUUA=",
          "dtype": "f8"
         },
         "yaxis": "y"
        },
        {
         "hovertemplate": "Env: customer_service<br>Word Limit: None<br>Model: deepseek/deepseek-chat (history)<br>Success Rate: {y:.2f}%",
         "marker": {
          "color": "#003366"
         },
         "name": "deepseek/deepseek-chat (history)",
         "showlegend": true,
         "type": "bar",
         "width": 0.8,
         "x": [
          "deepseek/deepseek-chat (history)"
         ],
         "xaxis": "x",
         "y": {
          "bdata": "AAAAAABgU0A=",
          "dtype": "f8"
         },
         "yaxis": "y"
        },
        {
         "hovertemplate": "Env: customer_service<br>Word Limit: None<br>Model: deepseek/deepseek-r1 (belief)<br>Success Rate: {y:.2f}%",
         "marker": {
          "color": "#FFB6C1"
         },
         "name": "deepseek/deepseek-r1 (belief)",
         "showlegend": true,
         "type": "bar",
         "width": 0.8,
         "x": [
          "deepseek/deepseek-r1 (belief)"
         ],
         "xaxis": "x",
         "y": {
          "bdata": "AAAAAAAgUkA=",
          "dtype": "f8"
         },
         "yaxis": "y"
        },
        {
         "hovertemplate": "Env: customer_service<br>Word Limit: None<br>Model: deepseek/deepseek-r1 (both)<br>Success Rate: {y:.2f}%",
         "marker": {
          "color": "#FF6347"
         },
         "name": "deepseek/deepseek-r1 (both)",
         "showlegend": true,
         "type": "bar",
         "width": 0.8,
         "x": [
          "deepseek/deepseek-r1 (both)"
         ],
         "xaxis": "x",
         "y": {
          "bdata": "AAAAAABAUEA=",
          "dtype": "f8"
         },
         "yaxis": "y"
        },
        {
         "hovertemplate": "Env: customer_service<br>Word Limit: None<br>Model: deepseek/deepseek-r1 (history)<br>Success Rate: {y:.2f}%",
         "marker": {
          "color": "#8B0000"
         },
         "name": "deepseek/deepseek-r1 (history)",
         "showlegend": true,
         "type": "bar",
         "width": 0.8,
         "x": [
          "deepseek/deepseek-r1 (history)"
         ],
         "xaxis": "x",
         "y": {
          "bdata": "AAAAAAAASUA=",
          "dtype": "f8"
         },
         "yaxis": "y"
        },
        {
         "hovertemplate": "Env: customer_service<br>Word Limit: None<br>Model: google/gemini-2.5-pro (belief)<br>Success Rate: {y:.2f}%",
         "marker": {
          "color": "#90EE90"
         },
         "name": "google/gemini-2.5-pro (belief)",
         "showlegend": true,
         "type": "bar",
         "width": 0.8,
         "x": [
          "google/gemini-2.5-pro (belief)"
         ],
         "xaxis": "x",
         "y": {
          "bdata": "AAAAAACAVkA=",
          "dtype": "f8"
         },
         "yaxis": "y"
        },
        {
         "hovertemplate": "Env: customer_service<br>Word Limit: None<br>Model: google/gemini-2.5-pro (both)<br>Success Rate: {y:.2f}%",
         "marker": {
          "color": "#32CD32"
         },
         "name": "google/gemini-2.5-pro (both)",
         "showlegend": true,
         "type": "bar",
         "width": 0.8,
         "x": [
          "google/gemini-2.5-pro (both)"
         ],
         "xaxis": "x",
         "y": {
          "bdata": "AAAAAADAV0A=",
          "dtype": "f8"
         },
         "yaxis": "y"
        },
        {
         "hovertemplate": "Env: customer_service<br>Word Limit: None<br>Model: google/gemini-2.5-pro (history)<br>Success Rate: {y:.2f}%",
         "marker": {
          "color": "#006400"
         },
         "name": "google/gemini-2.5-pro (history)",
         "showlegend": true,
         "type": "bar",
         "width": 0.8,
         "x": [
          "google/gemini-2.5-pro (history)"
         ],
         "xaxis": "x",
         "y": {
          "bdata": "AAAAAAAAWUA=",
          "dtype": "f8"
         },
         "yaxis": "y"
        },
        {
         "hovertemplate": "Env: guess_my_city<br>Word Limit: None<br>Model: deepseek/deepseek-chat (belief)<br>Success Rate: {y:.2f}%",
         "marker": {
          "color": "#ADD8E6"
         },
         "name": "deepseek/deepseek-chat (belief)",
         "showlegend": false,
         "type": "bar",
         "width": 0.8,
         "x": [
          "deepseek/deepseek-chat (belief)"
         ],
         "xaxis": "x2",
         "y": {
          "bdata": "AAAAAADAUkA=",
          "dtype": "f8"
         },
         "yaxis": "y2"
        },
        {
         "hovertemplate": "Env: guess_my_city<br>Word Limit: None<br>Model: deepseek/deepseek-chat (both)<br>Success Rate: {y:.2f}%",
         "marker": {
          "color": "#4682B4"
         },
         "name": "deepseek/deepseek-chat (both)",
         "showlegend": false,
         "type": "bar",
         "width": 0.8,
         "x": [
          "deepseek/deepseek-chat (both)"
         ],
         "xaxis": "x2",
         "y": {
          "bdata": "AAAAAAAATkA=",
          "dtype": "f8"
         },
         "yaxis": "y2"
        },
        {
         "hovertemplate": "Env: guess_my_city<br>Word Limit: None<br>Model: deepseek/deepseek-chat (history)<br>Success Rate: {y:.2f}%",
         "marker": {
          "color": "#003366"
         },
         "name": "deepseek/deepseek-chat (history)",
         "showlegend": false,
         "type": "bar",
         "width": 0.8,
         "x": [
          "deepseek/deepseek-chat (history)"
         ],
         "xaxis": "x2",
         "y": {
          "bdata": "AQAAAACAS0A=",
          "dtype": "f8"
         },
         "yaxis": "y2"
        },
        {
         "hovertemplate": "Env: guess_my_city<br>Word Limit: None<br>Model: deepseek/deepseek-r1 (belief)<br>Success Rate: {y:.2f}%",
         "marker": {
          "color": "#FFB6C1"
         },
         "name": "deepseek/deepseek-r1 (belief)",
         "showlegend": false,
         "type": "bar",
         "width": 0.8,
         "x": [
          "deepseek/deepseek-r1 (belief)"
         ],
         "xaxis": "x2",
         "y": {
          "bdata": "AQAAAACAS0A=",
          "dtype": "f8"
         },
         "yaxis": "y2"
        },
        {
         "hovertemplate": "Env: guess_my_city<br>Word Limit: None<br>Model: deepseek/deepseek-r1 (both)<br>Success Rate: {y:.2f}%",
         "marker": {
          "color": "#FF6347"
         },
         "name": "deepseek/deepseek-r1 (both)",
         "showlegend": false,
         "type": "bar",
         "width": 0.8,
         "x": [
          "deepseek/deepseek-r1 (both)"
         ],
         "xaxis": "x2",
         "y": {
          "bdata": "AAAAAABASkA=",
          "dtype": "f8"
         },
         "yaxis": "y2"
        },
        {
         "hovertemplate": "Env: guess_my_city<br>Word Limit: None<br>Model: deepseek/deepseek-r1 (history)<br>Success Rate: {y:.2f}%",
         "marker": {
          "color": "#8B0000"
         },
         "name": "deepseek/deepseek-r1 (history)",
         "showlegend": false,
         "type": "bar",
         "width": 0.8,
         "x": [
          "deepseek/deepseek-r1 (history)"
         ],
         "xaxis": "x2",
         "y": {
          "bdata": "AAAAAABAUEA=",
          "dtype": "f8"
         },
         "yaxis": "y2"
        },
        {
         "hovertemplate": "Env: guess_my_city<br>Word Limit: None<br>Model: google/gemini-2.5-pro (belief)<br>Success Rate: {y:.2f}%",
         "marker": {
          "color": "#90EE90"
         },
         "name": "google/gemini-2.5-pro (belief)",
         "showlegend": false,
         "type": "bar",
         "width": 0.8,
         "x": [
          "google/gemini-2.5-pro (belief)"
         ],
         "xaxis": "x2",
         "y": {
          "bdata": "AAAAAAAAVEA=",
          "dtype": "f8"
         },
         "yaxis": "y2"
        },
        {
         "hovertemplate": "Env: guess_my_city<br>Word Limit: None<br>Model: google/gemini-2.5-pro (both)<br>Success Rate: {y:.2f}%",
         "marker": {
          "color": "#32CD32"
         },
         "name": "google/gemini-2.5-pro (both)",
         "showlegend": false,
         "type": "bar",
         "width": 0.8,
         "x": [
          "google/gemini-2.5-pro (both)"
         ],
         "xaxis": "x2",
         "y": {
          "bdata": "AAAAAAAgUkA=",
          "dtype": "f8"
         },
         "yaxis": "y2"
        },
        {
         "hovertemplate": "Env: guess_my_city<br>Word Limit: None<br>Model: google/gemini-2.5-pro (history)<br>Success Rate: {y:.2f}%",
         "marker": {
          "color": "#006400"
         },
         "name": "google/gemini-2.5-pro (history)",
         "showlegend": false,
         "type": "bar",
         "width": 0.8,
         "x": [
          "google/gemini-2.5-pro (history)"
         ],
         "xaxis": "x2",
         "y": {
          "bdata": "AAAAAACgVEA=",
          "dtype": "f8"
         },
         "yaxis": "y2"
        },
        {
         "hovertemplate": "Env: mastermind<br>Word Limit: None<br>Model: deepseek/deepseek-chat (belief)<br>Success Rate: {y:.2f}%",
         "marker": {
          "color": "#ADD8E6"
         },
         "name": "deepseek/deepseek-chat (belief)",
         "showlegend": false,
         "type": "bar",
         "width": 0.8,
         "x": [
          "deepseek/deepseek-chat (belief)"
         ],
         "xaxis": "x3",
         "y": {
          "bdata": "AAAAAAAAFEA=",
          "dtype": "f8"
         },
         "yaxis": "y3"
        },
        {
         "hovertemplate": "Env: mastermind<br>Word Limit: None<br>Model: deepseek/deepseek-chat (both)<br>Success Rate: {y:.2f}%",
         "marker": {
          "color": "#4682B4"
         },
         "name": "deepseek/deepseek-chat (both)",
         "showlegend": false,
         "type": "bar",
         "width": 0.8,
         "x": [
          "deepseek/deepseek-chat (both)"
         ],
         "xaxis": "x3",
         "y": {
          "bdata": "AAAAAAAAFEA=",
          "dtype": "f8"
         },
         "yaxis": "y3"
        },
        {
         "hovertemplate": "Env: mastermind<br>Word Limit: None<br>Model: deepseek/deepseek-chat (history)<br>Success Rate: {y:.2f}%",
         "marker": {
          "color": "#003366"
         },
         "name": "deepseek/deepseek-chat (history)",
         "showlegend": false,
         "type": "bar",
         "width": 0.8,
         "x": [
          "deepseek/deepseek-chat (history)"
         ],
         "xaxis": "x3",
         "y": {
          "bdata": "AAAAAAAAFEA=",
          "dtype": "f8"
         },
         "yaxis": "y3"
        },
        {
         "hovertemplate": "Env: mastermind<br>Word Limit: None<br>Model: deepseek/deepseek-r1 (belief)<br>Success Rate: {y:.2f}%",
         "marker": {
          "color": "#FFB6C1"
         },
         "name": "deepseek/deepseek-r1 (belief)",
         "showlegend": false,
         "type": "bar",
         "width": 0.8,
         "x": [
          "deepseek/deepseek-r1 (belief)"
         ],
         "xaxis": "x3",
         "y": {
          "bdata": "AAAAAACAQUA=",
          "dtype": "f8"
         },
         "yaxis": "y3"
        },
        {
         "hovertemplate": "Env: mastermind<br>Word Limit: None<br>Model: deepseek/deepseek-r1 (both)<br>Success Rate: {y:.2f}%",
         "marker": {
          "color": "#FF6347"
         },
         "name": "deepseek/deepseek-r1 (both)",
         "showlegend": false,
         "type": "bar",
         "width": 0.8,
         "x": [
          "deepseek/deepseek-r1 (both)"
         ],
         "xaxis": "x3",
         "y": {
          "bdata": "xU7sxE7sSkA=",
          "dtype": "f8"
         },
         "yaxis": "y3"
        },
        {
         "hovertemplate": "Env: mastermind<br>Word Limit: None<br>Model: deepseek/deepseek-r1 (history)<br>Success Rate: {y:.2f}%",
         "marker": {
          "color": "#8B0000"
         },
         "name": "deepseek/deepseek-r1 (history)",
         "showlegend": false,
         "type": "bar",
         "width": 0.8,
         "x": [
          "deepseek/deepseek-r1 (history)"
         ],
         "xaxis": "x3",
         "y": {
          "bdata": "AAAAAACAUUA=",
          "dtype": "f8"
         },
         "yaxis": "y3"
        },
        {
         "hovertemplate": "Env: mastermind<br>Word Limit: None<br>Model: google/gemini-2.5-pro (belief)<br>Success Rate: {y:.2f}%",
         "marker": {
          "color": "#90EE90"
         },
         "name": "google/gemini-2.5-pro (belief)",
         "showlegend": false,
         "type": "bar",
         "width": 0.8,
         "x": [
          "google/gemini-2.5-pro (belief)"
         ],
         "xaxis": "x3",
         "y": {
          "bdata": "AAAAAABgWEA=",
          "dtype": "f8"
         },
         "yaxis": "y3"
        },
        {
         "hovertemplate": "Env: mastermind<br>Word Limit: None<br>Model: google/gemini-2.5-pro (both)<br>Success Rate: {y:.2f}%",
         "marker": {
          "color": "#32CD32"
         },
         "name": "google/gemini-2.5-pro (both)",
         "showlegend": false,
         "type": "bar",
         "width": 0.8,
         "x": [
          "google/gemini-2.5-pro (both)"
         ],
         "xaxis": "x3",
         "y": {
          "bdata": "AAAAAABgWEA=",
          "dtype": "f8"
         },
         "yaxis": "y3"
        },
        {
         "hovertemplate": "Env: mastermind<br>Word Limit: None<br>Model: google/gemini-2.5-pro (history)<br>Success Rate: {y:.2f}%",
         "marker": {
          "color": "#006400"
         },
         "name": "google/gemini-2.5-pro (history)",
         "showlegend": false,
         "type": "bar",
         "width": 0.8,
         "x": [
          "google/gemini-2.5-pro (history)"
         ],
         "xaxis": "x3",
         "y": {
          "bdata": "AAAAAAAAWUA=",
          "dtype": "f8"
         },
         "yaxis": "y3"
        },
        {
         "hovertemplate": "Env: murder_mystery<br>Word Limit: None<br>Model: deepseek/deepseek-chat (belief)<br>Success Rate: {y:.2f}%",
         "marker": {
          "color": "#ADD8E6"
         },
         "name": "deepseek/deepseek-chat (belief)",
         "showlegend": false,
         "type": "bar",
         "width": 0.8,
         "x": [
          "deepseek/deepseek-chat (belief)"
         ],
         "xaxis": "x4",
         "y": {
          "bdata": "AAAAAACAQUA=",
          "dtype": "f8"
         },
         "yaxis": "y4"
        },
        {
         "hovertemplate": "Env: murder_mystery<br>Word Limit: None<br>Model: deepseek/deepseek-chat (both)<br>Success Rate: {y:.2f}%",
         "marker": {
          "color": "#4682B4"
         },
         "name": "deepseek/deepseek-chat (both)",
         "showlegend": false,
         "type": "bar",
         "width": 0.8,
         "x": [
          "deepseek/deepseek-chat (both)"
         ],
         "xaxis": "x4",
         "y": {
          "bdata": "AAAAAAAgUkA=",
          "dtype": "f8"
         },
         "yaxis": "y4"
        },
        {
         "hovertemplate": "Env: murder_mystery<br>Word Limit: None<br>Model: deepseek/deepseek-chat (history)<br>Success Rate: {y:.2f}%",
         "marker": {
          "color": "#003366"
         },
         "name": "deepseek/deepseek-chat (history)",
         "showlegend": false,
         "type": "bar",
         "width": 0.8,
         "x": [
          "deepseek/deepseek-chat (history)"
         ],
         "xaxis": "x4",
         "y": {
          "bdata": "AAAAAABgU0A=",
          "dtype": "f8"
         },
         "yaxis": "y4"
        },
        {
         "hovertemplate": "Env: murder_mystery<br>Word Limit: None<br>Model: deepseek/deepseek-r1 (belief)<br>Success Rate: {y:.2f}%",
         "marker": {
          "color": "#FFB6C1"
         },
         "name": "deepseek/deepseek-r1 (belief)",
         "showlegend": false,
         "type": "bar",
         "width": 0.8,
         "x": [
          "deepseek/deepseek-r1 (belief)"
         ],
         "xaxis": "x4",
         "y": {
          "bdata": "AAAAAAAAKUA=",
          "dtype": "f8"
         },
         "yaxis": "y4"
        },
        {
         "hovertemplate": "Env: murder_mystery<br>Word Limit: None<br>Model: deepseek/deepseek-r1 (both)<br>Success Rate: {y:.2f}%",
         "marker": {
          "color": "#FF6347"
         },
         "name": "deepseek/deepseek-r1 (both)",
         "showlegend": false,
         "type": "bar",
         "width": 0.8,
         "x": [
          "deepseek/deepseek-r1 (both)"
         ],
         "xaxis": "x4",
         "y": {
          "bdata": "AAAAAABARUA=",
          "dtype": "f8"
         },
         "yaxis": "y4"
        },
        {
         "hovertemplate": "Env: murder_mystery<br>Word Limit: None<br>Model: deepseek/deepseek-r1 (history)<br>Success Rate: {y:.2f}%",
         "marker": {
          "color": "#8B0000"
         },
         "name": "deepseek/deepseek-r1 (history)",
         "showlegend": false,
         "type": "bar",
         "width": 0.8,
         "x": [
          "deepseek/deepseek-r1 (history)"
         ],
         "xaxis": "x4",
         "y": {
          "bdata": "AAAAAACAVkA=",
          "dtype": "f8"
         },
         "yaxis": "y4"
        },
        {
         "hovertemplate": "Env: murder_mystery<br>Word Limit: None<br>Model: google/gemini-2.5-pro (belief)<br>Success Rate: {y:.2f}%",
         "marker": {
          "color": "#90EE90"
         },
         "name": "google/gemini-2.5-pro (belief)",
         "showlegend": false,
         "type": "bar",
         "width": 0.8,
         "x": [
          "google/gemini-2.5-pro (belief)"
         ],
         "xaxis": "x4",
         "y": {
          "bdata": "AAAAAACAVkA=",
          "dtype": "f8"
         },
         "yaxis": "y4"
        },
        {
         "hovertemplate": "Env: murder_mystery<br>Word Limit: None<br>Model: google/gemini-2.5-pro (both)<br>Success Rate: {y:.2f}%",
         "marker": {
          "color": "#32CD32"
         },
         "name": "google/gemini-2.5-pro (both)",
         "showlegend": false,
         "type": "bar",
         "width": 0.8,
         "x": [
          "google/gemini-2.5-pro (both)"
         ],
         "xaxis": "x4",
         "y": {
          "bdata": "AAAAAAAAVEA=",
          "dtype": "f8"
         },
         "yaxis": "y4"
        },
        {
         "hovertemplate": "Env: murder_mystery<br>Word Limit: None<br>Model: google/gemini-2.5-pro (history)<br>Success Rate: {y:.2f}%",
         "marker": {
          "color": "#006400"
         },
         "name": "google/gemini-2.5-pro (history)",
         "showlegend": false,
         "type": "bar",
         "width": 0.8,
         "x": [
          "google/gemini-2.5-pro (history)"
         ],
         "xaxis": "x4",
         "y": {
          "bdata": "AAAAAAAAVEA=",
          "dtype": "f8"
         },
         "yaxis": "y4"
        },
        {
         "hovertemplate": "Env: twenty_questions<br>Word Limit: None<br>Model: deepseek/deepseek-chat (belief)<br>Success Rate: {y:.2f}%",
         "marker": {
          "color": "#ADD8E6"
         },
         "name": "deepseek/deepseek-chat (belief)",
         "showlegend": false,
         "type": "bar",
         "width": 0.8,
         "x": [
          "deepseek/deepseek-chat (belief)"
         ],
         "xaxis": "x5",
         "y": {
          "bdata": "AAAAAACAQUA=",
          "dtype": "f8"
         },
         "yaxis": "y5"
        },
        {
         "hovertemplate": "Env: twenty_questions<br>Word Limit: None<br>Model: deepseek/deepseek-chat (both)<br>Success Rate: {y:.2f}%",
         "marker": {
          "color": "#4682B4"
         },
         "name": "deepseek/deepseek-chat (both)",
         "showlegend": false,
         "type": "bar",
         "width": 0.8,
         "x": [
          "deepseek/deepseek-chat (both)"
         ],
         "xaxis": "x5",
         "y": {
          "bdata": "AAAAAADAR0A=",
          "dtype": "f8"
         },
         "yaxis": "y5"
        },
        {
         "hovertemplate": "Env: twenty_questions<br>Word Limit: None<br>Model: deepseek/deepseek-chat (history)<br>Success Rate: {y:.2f}%",
         "marker": {
          "color": "#003366"
         },
         "name": "deepseek/deepseek-chat (history)",
         "showlegend": false,
         "type": "bar",
         "width": 0.8,
         "x": [
          "deepseek/deepseek-chat (history)"
         ],
         "xaxis": "x5",
         "y": {
          "bdata": "AAAAAADAR0A=",
          "dtype": "f8"
         },
         "yaxis": "y5"
        },
        {
         "hovertemplate": "Env: twenty_questions<br>Word Limit: None<br>Model: deepseek/deepseek-r1 (belief)<br>Success Rate: {y:.2f}%",
         "marker": {
          "color": "#FFB6C1"
         },
         "name": "deepseek/deepseek-r1 (belief)",
         "showlegend": false,
         "type": "bar",
         "width": 0.8,
         "x": [
          "deepseek/deepseek-r1 (belief)"
         ],
         "xaxis": "x5",
         "y": {
          "bdata": "AAAAAAAAREA=",
          "dtype": "f8"
         },
         "yaxis": "y5"
        },
        {
         "hovertemplate": "Env: twenty_questions<br>Word Limit: None<br>Model: deepseek/deepseek-r1 (both)<br>Success Rate: {y:.2f}%",
         "marker": {
          "color": "#FF6347"
         },
         "name": "deepseek/deepseek-r1 (both)",
         "showlegend": false,
         "type": "bar",
         "width": 0.8,
         "x": [
          "deepseek/deepseek-r1 (both)"
         ],
         "xaxis": "x5",
         "y": {
          "bdata": "AAAAAACARkA=",
          "dtype": "f8"
         },
         "yaxis": "y5"
        },
        {
         "hovertemplate": "Env: twenty_questions<br>Word Limit: None<br>Model: deepseek/deepseek-r1 (history)<br>Success Rate: {y:.2f}%",
         "marker": {
          "color": "#8B0000"
         },
         "name": "deepseek/deepseek-r1 (history)",
         "showlegend": false,
         "type": "bar",
         "width": 0.8,
         "x": [
          "deepseek/deepseek-r1 (history)"
         ],
         "xaxis": "x5",
         "y": {
          "bdata": "AAAAAAAATkA=",
          "dtype": "f8"
         },
         "yaxis": "y5"
        },
        {
         "hovertemplate": "Env: twenty_questions<br>Word Limit: None<br>Model: google/gemini-2.5-pro (belief)<br>Success Rate: {y:.2f}%",
         "marker": {
          "color": "#90EE90"
         },
         "name": "google/gemini-2.5-pro (belief)",
         "showlegend": false,
         "type": "bar",
         "width": 0.8,
         "x": [
          "google/gemini-2.5-pro (belief)"
         ],
         "xaxis": "x5",
         "y": {
          "bdata": "AAAAAABASkA=",
          "dtype": "f8"
         },
         "yaxis": "y5"
        },
        {
         "hovertemplate": "Env: twenty_questions<br>Word Limit: None<br>Model: google/gemini-2.5-pro (both)<br>Success Rate: {y:.2f}%",
         "marker": {
          "color": "#32CD32"
         },
         "name": "google/gemini-2.5-pro (both)",
         "showlegend": false,
         "type": "bar",
         "width": 0.8,
         "x": [
          "google/gemini-2.5-pro (both)"
         ],
         "xaxis": "x5",
         "y": {
          "bdata": "AAAAAADAUkA=",
          "dtype": "f8"
         },
         "yaxis": "y5"
        },
        {
         "hovertemplate": "Env: twenty_questions<br>Word Limit: None<br>Model: google/gemini-2.5-pro (history)<br>Success Rate: {y:.2f}%",
         "marker": {
          "color": "#006400"
         },
         "name": "google/gemini-2.5-pro (history)",
         "showlegend": false,
         "type": "bar",
         "width": 0.8,
         "x": [
          "google/gemini-2.5-pro (history)"
         ],
         "xaxis": "x5",
         "y": {
          "bdata": "AAAAAABAT0A=",
          "dtype": "f8"
         },
         "yaxis": "y5"
        },
        {
         "hovertemplate": "Env: wordle<br>Word Limit: None<br>Model: deepseek/deepseek-chat (belief)<br>Success Rate: {y:.2f}%",
         "marker": {
          "color": "#ADD8E6"
         },
         "name": "deepseek/deepseek-chat (belief)",
         "showlegend": false,
         "type": "bar",
         "width": 0.8,
         "x": [
          "deepseek/deepseek-chat (belief)"
         ],
         "xaxis": "x6",
         "y": {
          "bdata": "AAAAAABAQEA=",
          "dtype": "f8"
         },
         "yaxis": "y6"
        },
        {
         "hovertemplate": "Env: wordle<br>Word Limit: None<br>Model: deepseek/deepseek-chat (both)<br>Success Rate: {y:.2f}%",
         "marker": {
          "color": "#4682B4"
         },
         "name": "deepseek/deepseek-chat (both)",
         "showlegend": false,
         "type": "bar",
         "width": 0.8,
         "x": [
          "deepseek/deepseek-chat (both)"
         ],
         "xaxis": "x6",
         "y": {
          "bdata": "AAAAAABARUA=",
          "dtype": "f8"
         },
         "yaxis": "y6"
        },
        {
         "hovertemplate": "Env: wordle<br>Word Limit: None<br>Model: deepseek/deepseek-chat (history)<br>Success Rate: {y:.2f}%",
         "marker": {
          "color": "#003366"
         },
         "name": "deepseek/deepseek-chat (history)",
         "showlegend": false,
         "type": "bar",
         "width": 0.8,
         "x": [
          "deepseek/deepseek-chat (history)"
         ],
         "xaxis": "x6",
         "y": {
          "bdata": "AAAAAABASkA=",
          "dtype": "f8"
         },
         "yaxis": "y6"
        },
        {
         "hovertemplate": "Env: wordle<br>Word Limit: None<br>Model: deepseek/deepseek-r1 (belief)<br>Success Rate: {y:.2f}%",
         "marker": {
          "color": "#FFB6C1"
         },
         "name": "deepseek/deepseek-r1 (belief)",
         "showlegend": false,
         "type": "bar",
         "width": 0.8,
         "x": [
          "deepseek/deepseek-r1 (belief)"
         ],
         "xaxis": "x6",
         "y": {
          "bdata": "AAAAAABAVUA=",
          "dtype": "f8"
         },
         "yaxis": "y6"
        },
        {
         "hovertemplate": "Env: wordle<br>Word Limit: None<br>Model: deepseek/deepseek-r1 (both)<br>Success Rate: {y:.2f}%",
         "marker": {
          "color": "#FF6347"
         },
         "name": "deepseek/deepseek-r1 (both)",
         "showlegend": false,
         "type": "bar",
         "width": 0.8,
         "x": [
          "deepseek/deepseek-r1 (both)"
         ],
         "xaxis": "x6",
         "y": {
          "bdata": "AAAAAACgVEA=",
          "dtype": "f8"
         },
         "yaxis": "y6"
        },
        {
         "hovertemplate": "Env: wordle<br>Word Limit: None<br>Model: deepseek/deepseek-r1 (history)<br>Success Rate: {y:.2f}%",
         "marker": {
          "color": "#8B0000"
         },
         "name": "deepseek/deepseek-r1 (history)",
         "showlegend": false,
         "type": "bar",
         "width": 0.8,
         "x": [
          "deepseek/deepseek-r1 (history)"
         ],
         "xaxis": "x6",
         "y": {
          "bdata": "AAAAAACAVkA=",
          "dtype": "f8"
         },
         "yaxis": "y6"
        },
        {
         "hovertemplate": "Env: wordle<br>Word Limit: None<br>Model: google/gemini-2.5-pro (belief)<br>Success Rate: {y:.2f}%",
         "marker": {
          "color": "#90EE90"
         },
         "name": "google/gemini-2.5-pro (belief)",
         "showlegend": false,
         "type": "bar",
         "width": 0.8,
         "x": [
          "google/gemini-2.5-pro (belief)"
         ],
         "xaxis": "x6",
         "y": {
          "bdata": "AAAAAAAAVEA=",
          "dtype": "f8"
         },
         "yaxis": "y6"
        },
        {
         "hovertemplate": "Env: wordle<br>Word Limit: None<br>Model: google/gemini-2.5-pro (both)<br>Success Rate: {y:.2f}%",
         "marker": {
          "color": "#32CD32"
         },
         "name": "google/gemini-2.5-pro (both)",
         "showlegend": false,
         "type": "bar",
         "width": 0.8,
         "x": [
          "google/gemini-2.5-pro (both)"
         ],
         "xaxis": "x6",
         "y": {
          "bdata": "AAAAAADAV0A=",
          "dtype": "f8"
         },
         "yaxis": "y6"
        },
        {
         "hovertemplate": "Env: wordle<br>Word Limit: None<br>Model: google/gemini-2.5-pro (history)<br>Success Rate: {y:.2f}%",
         "marker": {
          "color": "#006400"
         },
         "name": "google/gemini-2.5-pro (history)",
         "showlegend": false,
         "type": "bar",
         "width": 0.8,
         "x": [
          "google/gemini-2.5-pro (history)"
         ],
         "xaxis": "x6",
         "y": {
          "bdata": "AAAAAABgWEA=",
          "dtype": "f8"
         },
         "yaxis": "y6"
        }
       ],
       "layout": {
        "annotations": [
         {
          "font": {
           "size": 16
          },
          "showarrow": false,
          "text": "customer_service",
          "x": 0.07083333333333333,
          "xanchor": "center",
          "xref": "paper",
          "y": 1,
          "yanchor": "bottom",
          "yref": "paper"
         },
         {
          "font": {
           "size": 16
          },
          "showarrow": false,
          "text": "guess_my_city",
          "x": 0.2425,
          "xanchor": "center",
          "xref": "paper",
          "y": 1,
          "yanchor": "bottom",
          "yref": "paper"
         },
         {
          "font": {
           "size": 16
          },
          "showarrow": false,
          "text": "mastermind",
          "x": 0.4141666666666667,
          "xanchor": "center",
          "xref": "paper",
          "y": 1,
          "yanchor": "bottom",
          "yref": "paper"
         },
         {
          "font": {
           "size": 16
          },
          "showarrow": false,
          "text": "murder_mystery",
          "x": 0.5858333333333334,
          "xanchor": "center",
          "xref": "paper",
          "y": 1,
          "yanchor": "bottom",
          "yref": "paper"
         },
         {
          "font": {
           "size": 16
          },
          "showarrow": false,
          "text": "twenty_questions",
          "x": 0.7575000000000001,
          "xanchor": "center",
          "xref": "paper",
          "y": 1,
          "yanchor": "bottom",
          "yref": "paper"
         },
         {
          "font": {
           "size": 16
          },
          "showarrow": false,
          "text": "wordle",
          "x": 0.9291666666666667,
          "xanchor": "center",
          "xref": "paper",
          "y": 1,
          "yanchor": "bottom",
          "yref": "paper"
         },
         {
          "font": {
           "size": 14
          },
          "showarrow": false,
          "text": "Word Limit: None",
          "x": 0.1,
          "xref": "paper",
          "y": 0.95,
          "yref": "paper"
         }
        ],
        "barmode": "group",
        "font": {
         "family": "Computer Modern, serif",
         "size": 16
        },
        "height": 350,
        "legend": {
         "bgcolor": "rgba(255,255,255,0.9)",
         "bordercolor": "black",
         "borderwidth": 1,
         "orientation": "h",
         "title": {
          "text": "Models"
         },
         "x": 0.5,
         "xanchor": "center",
         "y": 1.18,
         "yanchor": "bottom"
        },
        "margin": {
         "b": 50,
         "l": 80,
         "r": 20,
         "t": 100
        },
        "plot_bgcolor": "white",
        "showlegend": true,
        "template": {
         "data": {
          "bar": [
           {
            "error_x": {
             "color": "rgb(36,36,36)"
            },
            "error_y": {
             "color": "rgb(36,36,36)"
            },
            "marker": {
             "line": {
              "color": "white",
              "width": 0.5
             },
             "pattern": {
              "fillmode": "overlay",
              "size": 10,
              "solidity": 0.2
             }
            },
            "type": "bar"
           }
          ],
          "barpolar": [
           {
            "marker": {
             "line": {
              "color": "white",
              "width": 0.5
             },
             "pattern": {
              "fillmode": "overlay",
              "size": 10,
              "solidity": 0.2
             }
            },
            "type": "barpolar"
           }
          ],
          "carpet": [
           {
            "aaxis": {
             "endlinecolor": "rgb(36,36,36)",
             "gridcolor": "white",
             "linecolor": "white",
             "minorgridcolor": "white",
             "startlinecolor": "rgb(36,36,36)"
            },
            "baxis": {
             "endlinecolor": "rgb(36,36,36)",
             "gridcolor": "white",
             "linecolor": "white",
             "minorgridcolor": "white",
             "startlinecolor": "rgb(36,36,36)"
            },
            "type": "carpet"
           }
          ],
          "choropleth": [
           {
            "colorbar": {
             "outlinewidth": 1,
             "tickcolor": "rgb(36,36,36)",
             "ticks": "outside"
            },
            "type": "choropleth"
           }
          ],
          "contour": [
           {
            "colorbar": {
             "outlinewidth": 1,
             "tickcolor": "rgb(36,36,36)",
             "ticks": "outside"
            },
            "colorscale": [
             [
              0,
              "#440154"
             ],
             [
              0.1111111111111111,
              "#482878"
             ],
             [
              0.2222222222222222,
              "#3e4989"
             ],
             [
              0.3333333333333333,
              "#31688e"
             ],
             [
              0.4444444444444444,
              "#26828e"
             ],
             [
              0.5555555555555556,
              "#1f9e89"
             ],
             [
              0.6666666666666666,
              "#35b779"
             ],
             [
              0.7777777777777778,
              "#6ece58"
             ],
             [
              0.8888888888888888,
              "#b5de2b"
             ],
             [
              1,
              "#fde725"
             ]
            ],
            "type": "contour"
           }
          ],
          "contourcarpet": [
           {
            "colorbar": {
             "outlinewidth": 1,
             "tickcolor": "rgb(36,36,36)",
             "ticks": "outside"
            },
            "type": "contourcarpet"
           }
          ],
          "heatmap": [
           {
            "colorbar": {
             "outlinewidth": 1,
             "tickcolor": "rgb(36,36,36)",
             "ticks": "outside"
            },
            "colorscale": [
             [
              0,
              "#440154"
             ],
             [
              0.1111111111111111,
              "#482878"
             ],
             [
              0.2222222222222222,
              "#3e4989"
             ],
             [
              0.3333333333333333,
              "#31688e"
             ],
             [
              0.4444444444444444,
              "#26828e"
             ],
             [
              0.5555555555555556,
              "#1f9e89"
             ],
             [
              0.6666666666666666,
              "#35b779"
             ],
             [
              0.7777777777777778,
              "#6ece58"
             ],
             [
              0.8888888888888888,
              "#b5de2b"
             ],
             [
              1,
              "#fde725"
             ]
            ],
            "type": "heatmap"
           }
          ],
          "histogram": [
           {
            "marker": {
             "line": {
              "color": "white",
              "width": 0.6
             }
            },
            "type": "histogram"
           }
          ],
          "histogram2d": [
           {
            "colorbar": {
             "outlinewidth": 1,
             "tickcolor": "rgb(36,36,36)",
             "ticks": "outside"
            },
            "colorscale": [
             [
              0,
              "#440154"
             ],
             [
              0.1111111111111111,
              "#482878"
             ],
             [
              0.2222222222222222,
              "#3e4989"
             ],
             [
              0.3333333333333333,
              "#31688e"
             ],
             [
              0.4444444444444444,
              "#26828e"
             ],
             [
              0.5555555555555556,
              "#1f9e89"
             ],
             [
              0.6666666666666666,
              "#35b779"
             ],
             [
              0.7777777777777778,
              "#6ece58"
             ],
             [
              0.8888888888888888,
              "#b5de2b"
             ],
             [
              1,
              "#fde725"
             ]
            ],
            "type": "histogram2d"
           }
          ],
          "histogram2dcontour": [
           {
            "colorbar": {
             "outlinewidth": 1,
             "tickcolor": "rgb(36,36,36)",
             "ticks": "outside"
            },
            "colorscale": [
             [
              0,
              "#440154"
             ],
             [
              0.1111111111111111,
              "#482878"
             ],
             [
              0.2222222222222222,
              "#3e4989"
             ],
             [
              0.3333333333333333,
              "#31688e"
             ],
             [
              0.4444444444444444,
              "#26828e"
             ],
             [
              0.5555555555555556,
              "#1f9e89"
             ],
             [
              0.6666666666666666,
              "#35b779"
             ],
             [
              0.7777777777777778,
              "#6ece58"
             ],
             [
              0.8888888888888888,
              "#b5de2b"
             ],
             [
              1,
              "#fde725"
             ]
            ],
            "type": "histogram2dcontour"
           }
          ],
          "mesh3d": [
           {
            "colorbar": {
             "outlinewidth": 1,
             "tickcolor": "rgb(36,36,36)",
             "ticks": "outside"
            },
            "type": "mesh3d"
           }
          ],
          "parcoords": [
           {
            "line": {
             "colorbar": {
              "outlinewidth": 1,
              "tickcolor": "rgb(36,36,36)",
              "ticks": "outside"
             }
            },
            "type": "parcoords"
           }
          ],
          "pie": [
           {
            "automargin": true,
            "type": "pie"
           }
          ],
          "scatter": [
           {
            "fillpattern": {
             "fillmode": "overlay",
             "size": 10,
             "solidity": 0.2
            },
            "type": "scatter"
           }
          ],
          "scatter3d": [
           {
            "line": {
             "colorbar": {
              "outlinewidth": 1,
              "tickcolor": "rgb(36,36,36)",
              "ticks": "outside"
             }
            },
            "marker": {
             "colorbar": {
              "outlinewidth": 1,
              "tickcolor": "rgb(36,36,36)",
              "ticks": "outside"
             }
            },
            "type": "scatter3d"
           }
          ],
          "scattercarpet": [
           {
            "marker": {
             "colorbar": {
              "outlinewidth": 1,
              "tickcolor": "rgb(36,36,36)",
              "ticks": "outside"
             }
            },
            "type": "scattercarpet"
           }
          ],
          "scattergeo": [
           {
            "marker": {
             "colorbar": {
              "outlinewidth": 1,
              "tickcolor": "rgb(36,36,36)",
              "ticks": "outside"
             }
            },
            "type": "scattergeo"
           }
          ],
          "scattergl": [
           {
            "marker": {
             "colorbar": {
              "outlinewidth": 1,
              "tickcolor": "rgb(36,36,36)",
              "ticks": "outside"
             }
            },
            "type": "scattergl"
           }
          ],
          "scattermap": [
           {
            "marker": {
             "colorbar": {
              "outlinewidth": 1,
              "tickcolor": "rgb(36,36,36)",
              "ticks": "outside"
             }
            },
            "type": "scattermap"
           }
          ],
          "scattermapbox": [
           {
            "marker": {
             "colorbar": {
              "outlinewidth": 1,
              "tickcolor": "rgb(36,36,36)",
              "ticks": "outside"
             }
            },
            "type": "scattermapbox"
           }
          ],
          "scatterpolar": [
           {
            "marker": {
             "colorbar": {
              "outlinewidth": 1,
              "tickcolor": "rgb(36,36,36)",
              "ticks": "outside"
             }
            },
            "type": "scatterpolar"
           }
          ],
          "scatterpolargl": [
           {
            "marker": {
             "colorbar": {
              "outlinewidth": 1,
              "tickcolor": "rgb(36,36,36)",
              "ticks": "outside"
             }
            },
            "type": "scatterpolargl"
           }
          ],
          "scatterternary": [
           {
            "marker": {
             "colorbar": {
              "outlinewidth": 1,
              "tickcolor": "rgb(36,36,36)",
              "ticks": "outside"
             }
            },
            "type": "scatterternary"
           }
          ],
          "surface": [
           {
            "colorbar": {
             "outlinewidth": 1,
             "tickcolor": "rgb(36,36,36)",
             "ticks": "outside"
            },
            "colorscale": [
             [
              0,
              "#440154"
             ],
             [
              0.1111111111111111,
              "#482878"
             ],
             [
              0.2222222222222222,
              "#3e4989"
             ],
             [
              0.3333333333333333,
              "#31688e"
             ],
             [
              0.4444444444444444,
              "#26828e"
             ],
             [
              0.5555555555555556,
              "#1f9e89"
             ],
             [
              0.6666666666666666,
              "#35b779"
             ],
             [
              0.7777777777777778,
              "#6ece58"
             ],
             [
              0.8888888888888888,
              "#b5de2b"
             ],
             [
              1,
              "#fde725"
             ]
            ],
            "type": "surface"
           }
          ],
          "table": [
           {
            "cells": {
             "fill": {
              "color": "rgb(237,237,237)"
             },
             "line": {
              "color": "white"
             }
            },
            "header": {
             "fill": {
              "color": "rgb(217,217,217)"
             },
             "line": {
              "color": "white"
             }
            },
            "type": "table"
           }
          ]
         },
         "layout": {
          "annotationdefaults": {
           "arrowhead": 0,
           "arrowwidth": 1
          },
          "autotypenumbers": "strict",
          "coloraxis": {
           "colorbar": {
            "outlinewidth": 1,
            "tickcolor": "rgb(36,36,36)",
            "ticks": "outside"
           }
          },
          "colorscale": {
           "diverging": [
            [
             0,
             "rgb(103,0,31)"
            ],
            [
             0.1,
             "rgb(178,24,43)"
            ],
            [
             0.2,
             "rgb(214,96,77)"
            ],
            [
             0.3,
             "rgb(244,165,130)"
            ],
            [
             0.4,
             "rgb(253,219,199)"
            ],
            [
             0.5,
             "rgb(247,247,247)"
            ],
            [
             0.6,
             "rgb(209,229,240)"
            ],
            [
             0.7,
             "rgb(146,197,222)"
            ],
            [
             0.8,
             "rgb(67,147,195)"
            ],
            [
             0.9,
             "rgb(33,102,172)"
            ],
            [
             1,
             "rgb(5,48,97)"
            ]
           ],
           "sequential": [
            [
             0,
             "#440154"
            ],
            [
             0.1111111111111111,
             "#482878"
            ],
            [
             0.2222222222222222,
             "#3e4989"
            ],
            [
             0.3333333333333333,
             "#31688e"
            ],
            [
             0.4444444444444444,
             "#26828e"
            ],
            [
             0.5555555555555556,
             "#1f9e89"
            ],
            [
             0.6666666666666666,
             "#35b779"
            ],
            [
             0.7777777777777778,
             "#6ece58"
            ],
            [
             0.8888888888888888,
             "#b5de2b"
            ],
            [
             1,
             "#fde725"
            ]
           ],
           "sequentialminus": [
            [
             0,
             "#440154"
            ],
            [
             0.1111111111111111,
             "#482878"
            ],
            [
             0.2222222222222222,
             "#3e4989"
            ],
            [
             0.3333333333333333,
             "#31688e"
            ],
            [
             0.4444444444444444,
             "#26828e"
            ],
            [
             0.5555555555555556,
             "#1f9e89"
            ],
            [
             0.6666666666666666,
             "#35b779"
            ],
            [
             0.7777777777777778,
             "#6ece58"
            ],
            [
             0.8888888888888888,
             "#b5de2b"
            ],
            [
             1,
             "#fde725"
            ]
           ]
          },
          "colorway": [
           "#1F77B4",
           "#FF7F0E",
           "#2CA02C",
           "#D62728",
           "#9467BD",
           "#8C564B",
           "#E377C2",
           "#7F7F7F",
           "#BCBD22",
           "#17BECF"
          ],
          "font": {
           "color": "rgb(36,36,36)"
          },
          "geo": {
           "bgcolor": "white",
           "lakecolor": "white",
           "landcolor": "white",
           "showlakes": true,
           "showland": true,
           "subunitcolor": "white"
          },
          "hoverlabel": {
           "align": "left"
          },
          "hovermode": "closest",
          "mapbox": {
           "style": "light"
          },
          "paper_bgcolor": "white",
          "plot_bgcolor": "white",
          "polar": {
           "angularaxis": {
            "gridcolor": "rgb(232,232,232)",
            "linecolor": "rgb(36,36,36)",
            "showgrid": false,
            "showline": true,
            "ticks": "outside"
           },
           "bgcolor": "white",
           "radialaxis": {
            "gridcolor": "rgb(232,232,232)",
            "linecolor": "rgb(36,36,36)",
            "showgrid": false,
            "showline": true,
            "ticks": "outside"
           }
          },
          "scene": {
           "xaxis": {
            "backgroundcolor": "white",
            "gridcolor": "rgb(232,232,232)",
            "gridwidth": 2,
            "linecolor": "rgb(36,36,36)",
            "showbackground": true,
            "showgrid": false,
            "showline": true,
            "ticks": "outside",
            "zeroline": false,
            "zerolinecolor": "rgb(36,36,36)"
           },
           "yaxis": {
            "backgroundcolor": "white",
            "gridcolor": "rgb(232,232,232)",
            "gridwidth": 2,
            "linecolor": "rgb(36,36,36)",
            "showbackground": true,
            "showgrid": false,
            "showline": true,
            "ticks": "outside",
            "zeroline": false,
            "zerolinecolor": "rgb(36,36,36)"
           },
           "zaxis": {
            "backgroundcolor": "white",
            "gridcolor": "rgb(232,232,232)",
            "gridwidth": 2,
            "linecolor": "rgb(36,36,36)",
            "showbackground": true,
            "showgrid": false,
            "showline": true,
            "ticks": "outside",
            "zeroline": false,
            "zerolinecolor": "rgb(36,36,36)"
           }
          },
          "shapedefaults": {
           "fillcolor": "black",
           "line": {
            "width": 0
           },
           "opacity": 0.3
          },
          "ternary": {
           "aaxis": {
            "gridcolor": "rgb(232,232,232)",
            "linecolor": "rgb(36,36,36)",
            "showgrid": false,
            "showline": true,
            "ticks": "outside"
           },
           "baxis": {
            "gridcolor": "rgb(232,232,232)",
            "linecolor": "rgb(36,36,36)",
            "showgrid": false,
            "showline": true,
            "ticks": "outside"
           },
           "bgcolor": "white",
           "caxis": {
            "gridcolor": "rgb(232,232,232)",
            "linecolor": "rgb(36,36,36)",
            "showgrid": false,
            "showline": true,
            "ticks": "outside"
           }
          },
          "title": {
           "x": 0.05
          },
          "xaxis": {
           "automargin": true,
           "gridcolor": "rgb(232,232,232)",
           "linecolor": "rgb(36,36,36)",
           "showgrid": false,
           "showline": true,
           "ticks": "outside",
           "title": {
            "standoff": 15
           },
           "zeroline": false,
           "zerolinecolor": "rgb(36,36,36)"
          },
          "yaxis": {
           "automargin": true,
           "gridcolor": "rgb(232,232,232)",
           "linecolor": "rgb(36,36,36)",
           "showgrid": false,
           "showline": true,
           "ticks": "outside",
           "title": {
            "standoff": 15
           },
           "zeroline": false,
           "zerolinecolor": "rgb(36,36,36)"
          }
         }
        },
        "width": 1080,
        "xaxis": {
         "anchor": "y",
         "domain": [
          0,
          0.14166666666666666
         ],
         "showticklabels": false
        },
        "xaxis2": {
         "anchor": "y2",
         "domain": [
          0.17166666666666666,
          0.31333333333333335
         ],
         "showticklabels": false
        },
        "xaxis3": {
         "anchor": "y3",
         "domain": [
          0.3433333333333333,
          0.485
         ],
         "showticklabels": false
        },
        "xaxis4": {
         "anchor": "y4",
         "domain": [
          0.515,
          0.6566666666666667
         ],
         "showticklabels": false
        },
        "xaxis5": {
         "anchor": "y5",
         "domain": [
          0.6866666666666666,
          0.8283333333333334
         ],
         "showticklabels": false
        },
        "xaxis6": {
         "anchor": "y6",
         "domain": [
          0.8583333333333333,
          1
         ],
         "showticklabels": false
        },
        "yaxis": {
         "anchor": "x",
         "domain": [
          0,
          1
         ],
         "gridcolor": "lightgray",
         "range": [
          0,
          100
         ],
         "showgrid": true
        },
        "yaxis2": {
         "anchor": "x2",
         "domain": [
          0,
          1
         ],
         "gridcolor": "lightgray",
         "matches": "y",
         "range": [
          0,
          100
         ],
         "showgrid": true,
         "showticklabels": false
        },
        "yaxis3": {
         "anchor": "x3",
         "domain": [
          0,
          1
         ],
         "gridcolor": "lightgray",
         "matches": "y",
         "range": [
          0,
          100
         ],
         "showgrid": true,
         "showticklabels": false
        },
        "yaxis4": {
         "anchor": "x4",
         "domain": [
          0,
          1
         ],
         "gridcolor": "lightgray",
         "matches": "y",
         "range": [
          0,
          100
         ],
         "showgrid": true,
         "showticklabels": false
        },
        "yaxis5": {
         "anchor": "x5",
         "domain": [
          0,
          1
         ],
         "gridcolor": "lightgray",
         "matches": "y",
         "range": [
          0,
          100
         ],
         "showgrid": true,
         "showticklabels": false
        },
        "yaxis6": {
         "anchor": "x6",
         "domain": [
          0,
          1
         ],
         "gridcolor": "lightgray",
         "matches": "y",
         "range": [
          0,
          100
         ],
         "showgrid": true,
         "showticklabels": false
        }
       }
      }
     },
     "metadata": {},
     "output_type": "display_data"
    }
   ],
   "source": [
    "fig = plot_win_rates(summary_df)\n",
    "fig.show()"
   ]
  },
  {
   "cell_type": "code",
   "execution_count": 56,
   "id": "28fa974c",
   "metadata": {},
   "outputs": [
    {
     "data": {
      "application/vnd.plotly.v1+json": {
       "config": {
        "plotlyServerURL": "https://plot.ly"
       },
       "data": [
        {
         "hovertemplate": "Env: mastermind<br>Word Limit: None<br>Model: deepseek/deepseek-r1<br>Success Rate: {y:.2f}%",
         "marker": {
          "color": "#2E91E5"
         },
         "name": "deepseek/deepseek-r1",
         "showlegend": true,
         "type": "bar",
         "width": 0.8,
         "x": [
          "deepseek/deepseek-r1"
         ],
         "xaxis": "x",
         "y": {
          "bdata": "AAAAAAAAWUA=",
          "dtype": "f8"
         },
         "yaxis": "y"
        },
        {
         "hovertemplate": "Env: murder_mystery<br>Word Limit: None<br>Model: deepseek/deepseek-r1<br>Success Rate: {y:.2f}%",
         "marker": {
          "color": "#2E91E5"
         },
         "name": "deepseek/deepseek-r1",
         "showlegend": false,
         "type": "bar",
         "width": 0.8,
         "x": [
          "deepseek/deepseek-r1"
         ],
         "xaxis": "x2",
         "y": {
          "bdata": "AAAAAAAAWUA=",
          "dtype": "f8"
         },
         "yaxis": "y2"
        },
        {
         "hovertemplate": "Env: twenty_questions<br>Word Limit: None<br>Model: deepseek/deepseek-r1<br>Success Rate: {y:.2f}%",
         "marker": {
          "color": "#2E91E5"
         },
         "name": "deepseek/deepseek-r1",
         "showlegend": false,
         "type": "bar",
         "width": 0.8,
         "x": [
          "deepseek/deepseek-r1"
         ],
         "xaxis": "x3",
         "y": {
          "bdata": "AAAAAAAAAAA=",
          "dtype": "f8"
         },
         "yaxis": "y3"
        },
        {
         "hovertemplate": "Env: wordle<br>Word Limit: None<br>Model: deepseek/deepseek-r1<br>Success Rate: {y:.2f}%",
         "marker": {
          "color": "#2E91E5"
         },
         "name": "deepseek/deepseek-r1",
         "showlegend": false,
         "type": "bar",
         "width": 0.8,
         "x": [
          "deepseek/deepseek-r1"
         ],
         "xaxis": "x4",
         "y": {
          "bdata": "AAAAAAAAWUA=",
          "dtype": "f8"
         },
         "yaxis": "y4"
        }
       ],
       "layout": {
        "annotations": [
         {
          "font": {
           "size": 16
          },
          "showarrow": false,
          "text": "mastermind",
          "x": 0.0875,
          "xanchor": "center",
          "xref": "paper",
          "y": 1,
          "yanchor": "bottom",
          "yref": "paper"
         },
         {
          "font": {
           "size": 16
          },
          "showarrow": false,
          "text": "murder_mystery",
          "x": 0.36250000000000004,
          "xanchor": "center",
          "xref": "paper",
          "y": 1,
          "yanchor": "bottom",
          "yref": "paper"
         },
         {
          "font": {
           "size": 16
          },
          "showarrow": false,
          "text": "twenty_questions",
          "x": 0.6375000000000001,
          "xanchor": "center",
          "xref": "paper",
          "y": 1,
          "yanchor": "bottom",
          "yref": "paper"
         },
         {
          "font": {
           "size": 16
          },
          "showarrow": false,
          "text": "wordle",
          "x": 0.9125,
          "xanchor": "center",
          "xref": "paper",
          "y": 1,
          "yanchor": "bottom",
          "yref": "paper"
         },
         {
          "font": {
           "size": 14
          },
          "showarrow": false,
          "text": "Word Limit: None",
          "x": 0.1,
          "xref": "paper",
          "y": 0.95,
          "yref": "paper"
         }
        ],
        "barmode": "group",
        "font": {
         "family": "Computer Modern, serif",
         "size": 16
        },
        "height": 350,
        "legend": {
         "bgcolor": "rgba(255,255,255,0.9)",
         "bordercolor": "black",
         "borderwidth": 1,
         "orientation": "h",
         "title": {
          "text": "Models"
         },
         "x": 0.5,
         "xanchor": "center",
         "y": 1.18,
         "yanchor": "bottom"
        },
        "margin": {
         "b": 50,
         "l": 80,
         "r": 20,
         "t": 100
        },
        "plot_bgcolor": "white",
        "showlegend": true,
        "template": {
         "data": {
          "bar": [
           {
            "error_x": {
             "color": "rgb(36,36,36)"
            },
            "error_y": {
             "color": "rgb(36,36,36)"
            },
            "marker": {
             "line": {
              "color": "white",
              "width": 0.5
             },
             "pattern": {
              "fillmode": "overlay",
              "size": 10,
              "solidity": 0.2
             }
            },
            "type": "bar"
           }
          ],
          "barpolar": [
           {
            "marker": {
             "line": {
              "color": "white",
              "width": 0.5
             },
             "pattern": {
              "fillmode": "overlay",
              "size": 10,
              "solidity": 0.2
             }
            },
            "type": "barpolar"
           }
          ],
          "carpet": [
           {
            "aaxis": {
             "endlinecolor": "rgb(36,36,36)",
             "gridcolor": "white",
             "linecolor": "white",
             "minorgridcolor": "white",
             "startlinecolor": "rgb(36,36,36)"
            },
            "baxis": {
             "endlinecolor": "rgb(36,36,36)",
             "gridcolor": "white",
             "linecolor": "white",
             "minorgridcolor": "white",
             "startlinecolor": "rgb(36,36,36)"
            },
            "type": "carpet"
           }
          ],
          "choropleth": [
           {
            "colorbar": {
             "outlinewidth": 1,
             "tickcolor": "rgb(36,36,36)",
             "ticks": "outside"
            },
            "type": "choropleth"
           }
          ],
          "contour": [
           {
            "colorbar": {
             "outlinewidth": 1,
             "tickcolor": "rgb(36,36,36)",
             "ticks": "outside"
            },
            "colorscale": [
             [
              0,
              "#440154"
             ],
             [
              0.1111111111111111,
              "#482878"
             ],
             [
              0.2222222222222222,
              "#3e4989"
             ],
             [
              0.3333333333333333,
              "#31688e"
             ],
             [
              0.4444444444444444,
              "#26828e"
             ],
             [
              0.5555555555555556,
              "#1f9e89"
             ],
             [
              0.6666666666666666,
              "#35b779"
             ],
             [
              0.7777777777777778,
              "#6ece58"
             ],
             [
              0.8888888888888888,
              "#b5de2b"
             ],
             [
              1,
              "#fde725"
             ]
            ],
            "type": "contour"
           }
          ],
          "contourcarpet": [
           {
            "colorbar": {
             "outlinewidth": 1,
             "tickcolor": "rgb(36,36,36)",
             "ticks": "outside"
            },
            "type": "contourcarpet"
           }
          ],
          "heatmap": [
           {
            "colorbar": {
             "outlinewidth": 1,
             "tickcolor": "rgb(36,36,36)",
             "ticks": "outside"
            },
            "colorscale": [
             [
              0,
              "#440154"
             ],
             [
              0.1111111111111111,
              "#482878"
             ],
             [
              0.2222222222222222,
              "#3e4989"
             ],
             [
              0.3333333333333333,
              "#31688e"
             ],
             [
              0.4444444444444444,
              "#26828e"
             ],
             [
              0.5555555555555556,
              "#1f9e89"
             ],
             [
              0.6666666666666666,
              "#35b779"
             ],
             [
              0.7777777777777778,
              "#6ece58"
             ],
             [
              0.8888888888888888,
              "#b5de2b"
             ],
             [
              1,
              "#fde725"
             ]
            ],
            "type": "heatmap"
           }
          ],
          "histogram": [
           {
            "marker": {
             "line": {
              "color": "white",
              "width": 0.6
             }
            },
            "type": "histogram"
           }
          ],
          "histogram2d": [
           {
            "colorbar": {
             "outlinewidth": 1,
             "tickcolor": "rgb(36,36,36)",
             "ticks": "outside"
            },
            "colorscale": [
             [
              0,
              "#440154"
             ],
             [
              0.1111111111111111,
              "#482878"
             ],
             [
              0.2222222222222222,
              "#3e4989"
             ],
             [
              0.3333333333333333,
              "#31688e"
             ],
             [
              0.4444444444444444,
              "#26828e"
             ],
             [
              0.5555555555555556,
              "#1f9e89"
             ],
             [
              0.6666666666666666,
              "#35b779"
             ],
             [
              0.7777777777777778,
              "#6ece58"
             ],
             [
              0.8888888888888888,
              "#b5de2b"
             ],
             [
              1,
              "#fde725"
             ]
            ],
            "type": "histogram2d"
           }
          ],
          "histogram2dcontour": [
           {
            "colorbar": {
             "outlinewidth": 1,
             "tickcolor": "rgb(36,36,36)",
             "ticks": "outside"
            },
            "colorscale": [
             [
              0,
              "#440154"
             ],
             [
              0.1111111111111111,
              "#482878"
             ],
             [
              0.2222222222222222,
              "#3e4989"
             ],
             [
              0.3333333333333333,
              "#31688e"
             ],
             [
              0.4444444444444444,
              "#26828e"
             ],
             [
              0.5555555555555556,
              "#1f9e89"
             ],
             [
              0.6666666666666666,
              "#35b779"
             ],
             [
              0.7777777777777778,
              "#6ece58"
             ],
             [
              0.8888888888888888,
              "#b5de2b"
             ],
             [
              1,
              "#fde725"
             ]
            ],
            "type": "histogram2dcontour"
           }
          ],
          "mesh3d": [
           {
            "colorbar": {
             "outlinewidth": 1,
             "tickcolor": "rgb(36,36,36)",
             "ticks": "outside"
            },
            "type": "mesh3d"
           }
          ],
          "parcoords": [
           {
            "line": {
             "colorbar": {
              "outlinewidth": 1,
              "tickcolor": "rgb(36,36,36)",
              "ticks": "outside"
             }
            },
            "type": "parcoords"
           }
          ],
          "pie": [
           {
            "automargin": true,
            "type": "pie"
           }
          ],
          "scatter": [
           {
            "fillpattern": {
             "fillmode": "overlay",
             "size": 10,
             "solidity": 0.2
            },
            "type": "scatter"
           }
          ],
          "scatter3d": [
           {
            "line": {
             "colorbar": {
              "outlinewidth": 1,
              "tickcolor": "rgb(36,36,36)",
              "ticks": "outside"
             }
            },
            "marker": {
             "colorbar": {
              "outlinewidth": 1,
              "tickcolor": "rgb(36,36,36)",
              "ticks": "outside"
             }
            },
            "type": "scatter3d"
           }
          ],
          "scattercarpet": [
           {
            "marker": {
             "colorbar": {
              "outlinewidth": 1,
              "tickcolor": "rgb(36,36,36)",
              "ticks": "outside"
             }
            },
            "type": "scattercarpet"
           }
          ],
          "scattergeo": [
           {
            "marker": {
             "colorbar": {
              "outlinewidth": 1,
              "tickcolor": "rgb(36,36,36)",
              "ticks": "outside"
             }
            },
            "type": "scattergeo"
           }
          ],
          "scattergl": [
           {
            "marker": {
             "colorbar": {
              "outlinewidth": 1,
              "tickcolor": "rgb(36,36,36)",
              "ticks": "outside"
             }
            },
            "type": "scattergl"
           }
          ],
          "scattermap": [
           {
            "marker": {
             "colorbar": {
              "outlinewidth": 1,
              "tickcolor": "rgb(36,36,36)",
              "ticks": "outside"
             }
            },
            "type": "scattermap"
           }
          ],
          "scattermapbox": [
           {
            "marker": {
             "colorbar": {
              "outlinewidth": 1,
              "tickcolor": "rgb(36,36,36)",
              "ticks": "outside"
             }
            },
            "type": "scattermapbox"
           }
          ],
          "scatterpolar": [
           {
            "marker": {
             "colorbar": {
              "outlinewidth": 1,
              "tickcolor": "rgb(36,36,36)",
              "ticks": "outside"
             }
            },
            "type": "scatterpolar"
           }
          ],
          "scatterpolargl": [
           {
            "marker": {
             "colorbar": {
              "outlinewidth": 1,
              "tickcolor": "rgb(36,36,36)",
              "ticks": "outside"
             }
            },
            "type": "scatterpolargl"
           }
          ],
          "scatterternary": [
           {
            "marker": {
             "colorbar": {
              "outlinewidth": 1,
              "tickcolor": "rgb(36,36,36)",
              "ticks": "outside"
             }
            },
            "type": "scatterternary"
           }
          ],
          "surface": [
           {
            "colorbar": {
             "outlinewidth": 1,
             "tickcolor": "rgb(36,36,36)",
             "ticks": "outside"
            },
            "colorscale": [
             [
              0,
              "#440154"
             ],
             [
              0.1111111111111111,
              "#482878"
             ],
             [
              0.2222222222222222,
              "#3e4989"
             ],
             [
              0.3333333333333333,
              "#31688e"
             ],
             [
              0.4444444444444444,
              "#26828e"
             ],
             [
              0.5555555555555556,
              "#1f9e89"
             ],
             [
              0.6666666666666666,
              "#35b779"
             ],
             [
              0.7777777777777778,
              "#6ece58"
             ],
             [
              0.8888888888888888,
              "#b5de2b"
             ],
             [
              1,
              "#fde725"
             ]
            ],
            "type": "surface"
           }
          ],
          "table": [
           {
            "cells": {
             "fill": {
              "color": "rgb(237,237,237)"
             },
             "line": {
              "color": "white"
             }
            },
            "header": {
             "fill": {
              "color": "rgb(217,217,217)"
             },
             "line": {
              "color": "white"
             }
            },
            "type": "table"
           }
          ]
         },
         "layout": {
          "annotationdefaults": {
           "arrowhead": 0,
           "arrowwidth": 1
          },
          "autotypenumbers": "strict",
          "coloraxis": {
           "colorbar": {
            "outlinewidth": 1,
            "tickcolor": "rgb(36,36,36)",
            "ticks": "outside"
           }
          },
          "colorscale": {
           "diverging": [
            [
             0,
             "rgb(103,0,31)"
            ],
            [
             0.1,
             "rgb(178,24,43)"
            ],
            [
             0.2,
             "rgb(214,96,77)"
            ],
            [
             0.3,
             "rgb(244,165,130)"
            ],
            [
             0.4,
             "rgb(253,219,199)"
            ],
            [
             0.5,
             "rgb(247,247,247)"
            ],
            [
             0.6,
             "rgb(209,229,240)"
            ],
            [
             0.7,
             "rgb(146,197,222)"
            ],
            [
             0.8,
             "rgb(67,147,195)"
            ],
            [
             0.9,
             "rgb(33,102,172)"
            ],
            [
             1,
             "rgb(5,48,97)"
            ]
           ],
           "sequential": [
            [
             0,
             "#440154"
            ],
            [
             0.1111111111111111,
             "#482878"
            ],
            [
             0.2222222222222222,
             "#3e4989"
            ],
            [
             0.3333333333333333,
             "#31688e"
            ],
            [
             0.4444444444444444,
             "#26828e"
            ],
            [
             0.5555555555555556,
             "#1f9e89"
            ],
            [
             0.6666666666666666,
             "#35b779"
            ],
            [
             0.7777777777777778,
             "#6ece58"
            ],
            [
             0.8888888888888888,
             "#b5de2b"
            ],
            [
             1,
             "#fde725"
            ]
           ],
           "sequentialminus": [
            [
             0,
             "#440154"
            ],
            [
             0.1111111111111111,
             "#482878"
            ],
            [
             0.2222222222222222,
             "#3e4989"
            ],
            [
             0.3333333333333333,
             "#31688e"
            ],
            [
             0.4444444444444444,
             "#26828e"
            ],
            [
             0.5555555555555556,
             "#1f9e89"
            ],
            [
             0.6666666666666666,
             "#35b779"
            ],
            [
             0.7777777777777778,
             "#6ece58"
            ],
            [
             0.8888888888888888,
             "#b5de2b"
            ],
            [
             1,
             "#fde725"
            ]
           ]
          },
          "colorway": [
           "#1F77B4",
           "#FF7F0E",
           "#2CA02C",
           "#D62728",
           "#9467BD",
           "#8C564B",
           "#E377C2",
           "#7F7F7F",
           "#BCBD22",
           "#17BECF"
          ],
          "font": {
           "color": "rgb(36,36,36)"
          },
          "geo": {
           "bgcolor": "white",
           "lakecolor": "white",
           "landcolor": "white",
           "showlakes": true,
           "showland": true,
           "subunitcolor": "white"
          },
          "hoverlabel": {
           "align": "left"
          },
          "hovermode": "closest",
          "mapbox": {
           "style": "light"
          },
          "paper_bgcolor": "white",
          "plot_bgcolor": "white",
          "polar": {
           "angularaxis": {
            "gridcolor": "rgb(232,232,232)",
            "linecolor": "rgb(36,36,36)",
            "showgrid": false,
            "showline": true,
            "ticks": "outside"
           },
           "bgcolor": "white",
           "radialaxis": {
            "gridcolor": "rgb(232,232,232)",
            "linecolor": "rgb(36,36,36)",
            "showgrid": false,
            "showline": true,
            "ticks": "outside"
           }
          },
          "scene": {
           "xaxis": {
            "backgroundcolor": "white",
            "gridcolor": "rgb(232,232,232)",
            "gridwidth": 2,
            "linecolor": "rgb(36,36,36)",
            "showbackground": true,
            "showgrid": false,
            "showline": true,
            "ticks": "outside",
            "zeroline": false,
            "zerolinecolor": "rgb(36,36,36)"
           },
           "yaxis": {
            "backgroundcolor": "white",
            "gridcolor": "rgb(232,232,232)",
            "gridwidth": 2,
            "linecolor": "rgb(36,36,36)",
            "showbackground": true,
            "showgrid": false,
            "showline": true,
            "ticks": "outside",
            "zeroline": false,
            "zerolinecolor": "rgb(36,36,36)"
           },
           "zaxis": {
            "backgroundcolor": "white",
            "gridcolor": "rgb(232,232,232)",
            "gridwidth": 2,
            "linecolor": "rgb(36,36,36)",
            "showbackground": true,
            "showgrid": false,
            "showline": true,
            "ticks": "outside",
            "zeroline": false,
            "zerolinecolor": "rgb(36,36,36)"
           }
          },
          "shapedefaults": {
           "fillcolor": "black",
           "line": {
            "width": 0
           },
           "opacity": 0.3
          },
          "ternary": {
           "aaxis": {
            "gridcolor": "rgb(232,232,232)",
            "linecolor": "rgb(36,36,36)",
            "showgrid": false,
            "showline": true,
            "ticks": "outside"
           },
           "baxis": {
            "gridcolor": "rgb(232,232,232)",
            "linecolor": "rgb(36,36,36)",
            "showgrid": false,
            "showline": true,
            "ticks": "outside"
           },
           "bgcolor": "white",
           "caxis": {
            "gridcolor": "rgb(232,232,232)",
            "linecolor": "rgb(36,36,36)",
            "showgrid": false,
            "showline": true,
            "ticks": "outside"
           }
          },
          "title": {
           "x": 0.05
          },
          "xaxis": {
           "automargin": true,
           "gridcolor": "rgb(232,232,232)",
           "linecolor": "rgb(36,36,36)",
           "showgrid": false,
           "showline": true,
           "ticks": "outside",
           "title": {
            "standoff": 15
           },
           "zeroline": false,
           "zerolinecolor": "rgb(36,36,36)"
          },
          "yaxis": {
           "automargin": true,
           "gridcolor": "rgb(232,232,232)",
           "linecolor": "rgb(36,36,36)",
           "showgrid": false,
           "showline": true,
           "ticks": "outside",
           "title": {
            "standoff": 15
           },
           "zeroline": false,
           "zerolinecolor": "rgb(36,36,36)"
          }
         }
        },
        "width": 720,
        "xaxis": {
         "anchor": "y",
         "domain": [
          0,
          0.175
         ],
         "showticklabels": false
        },
        "xaxis2": {
         "anchor": "y2",
         "domain": [
          0.275,
          0.45
         ],
         "showticklabels": false
        },
        "xaxis3": {
         "anchor": "y3",
         "domain": [
          0.55,
          0.7250000000000001
         ],
         "showticklabels": false
        },
        "xaxis4": {
         "anchor": "y4",
         "domain": [
          0.825,
          1
         ],
         "showticklabels": false
        },
        "yaxis": {
         "anchor": "x",
         "domain": [
          0,
          1
         ],
         "gridcolor": "lightgray",
         "range": [
          0,
          100
         ],
         "showgrid": true
        },
        "yaxis2": {
         "anchor": "x2",
         "domain": [
          0,
          1
         ],
         "gridcolor": "lightgray",
         "matches": "y",
         "range": [
          0,
          100
         ],
         "showgrid": true,
         "showticklabels": false
        },
        "yaxis3": {
         "anchor": "x3",
         "domain": [
          0,
          1
         ],
         "gridcolor": "lightgray",
         "matches": "y",
         "range": [
          0,
          100
         ],
         "showgrid": true,
         "showticklabels": false
        },
        "yaxis4": {
         "anchor": "x4",
         "domain": [
          0,
          1
         ],
         "gridcolor": "lightgray",
         "matches": "y",
         "range": [
          0,
          100
         ],
         "showgrid": true,
         "showticklabels": false
        }
       }
      }
     },
     "metadata": {},
     "output_type": "display_data"
    }
   ],
   "source": [
    "fig = plot_win_rates(summary_df_history)\n",
    "fig.show()"
   ]
  },
  {
   "cell_type": "code",
   "execution_count": 39,
   "id": "9e251b80",
   "metadata": {},
   "outputs": [
    {
     "data": {
      "text/plain": [
       "Index(['model', 'game_id', 'env', 'attempt', 'raw_guess', 'guess', 'response',\n",
       "       'word_limit', 'score', 'done', 'data', 'belief', 'action_reasoning',\n",
       "       'belief_reasoning'],\n",
       "      dtype='object')"
      ]
     },
     "execution_count": 39,
     "metadata": {},
     "output_type": "execute_result"
    }
   ],
   "source": [
    "df.columns"
   ]
  },
  {
   "cell_type": "code",
   "execution_count": 78,
   "id": "faa2c74a",
   "metadata": {},
   "outputs": [
    {
     "name": "stdout",
     "output_type": "stream",
     "text": [
      "20\n"
     ]
    }
   ],
   "source": [
    "wordle_sample = df[\n",
    "    (df['model'] == 'deepseek/deepseek-r1 (belief)') & \\\n",
    "        (df['env'] == 'twenty_questions') & \\\n",
    "            (df['game_id'] == str(0)) & \\\n",
    "            (df['info'] == 'belief')\n",
    "            ]\n",
    "print(len(wordle_sample))"
   ]
  },
  {
   "cell_type": "code",
   "execution_count": 79,
   "id": "f9676af4",
   "metadata": {},
   "outputs": [
    {
     "data": {
      "text/html": [
       "<div>\n",
       "<style scoped>\n",
       "    .dataframe tbody tr th:only-of-type {\n",
       "        vertical-align: middle;\n",
       "    }\n",
       "\n",
       "    .dataframe tbody tr th {\n",
       "        vertical-align: top;\n",
       "    }\n",
       "\n",
       "    .dataframe thead th {\n",
       "        text-align: right;\n",
       "    }\n",
       "</style>\n",
       "<table border=\"1\" class=\"dataframe\">\n",
       "  <thead>\n",
       "    <tr style=\"text-align: right;\">\n",
       "      <th></th>\n",
       "      <th>model</th>\n",
       "      <th>game_id</th>\n",
       "      <th>env</th>\n",
       "      <th>attempt</th>\n",
       "      <th>info</th>\n",
       "      <th>raw_guess</th>\n",
       "      <th>guess</th>\n",
       "      <th>response</th>\n",
       "      <th>word_limit</th>\n",
       "      <th>score</th>\n",
       "      <th>done</th>\n",
       "      <th>data</th>\n",
       "      <th>belief</th>\n",
       "      <th>action_reasoning</th>\n",
       "      <th>belief_reasoning</th>\n",
       "      <th>model_info</th>\n",
       "    </tr>\n",
       "  </thead>\n",
       "  <tbody>\n",
       "    <tr>\n",
       "      <th>554</th>\n",
       "      <td>deepseek/deepseek-r1 (belief)</td>\n",
       "      <td>0</td>\n",
       "      <td>twenty_questions</td>\n",
       "      <td>1</td>\n",
       "      <td>belief</td>\n",
       "      <td>&lt;Think&gt; Start by distinguishing between common...</td>\n",
       "      <td>Is the vegetable typically grown underground?</td>\n",
       "      <td>yes.</td>\n",
       "      <td>None</td>\n",
       "      <td>1.0</td>\n",
       "      <td>True</td>\n",
       "      <td>{'agent_game_scenario': 'vegetable', 'env_game...</td>\n",
       "      <td>The vegetable is a root vegetable typically gr...</td>\n",
       "      <td>Okay, so I'm trying to guess a vegetable in 20...</td>\n",
       "      <td>Okay, so I need to update the belief state aft...</td>\n",
       "      <td>deepseek/deepseek-r1 (belief)</td>\n",
       "    </tr>\n",
       "    <tr>\n",
       "      <th>555</th>\n",
       "      <td>deepseek/deepseek-r1 (belief)</td>\n",
       "      <td>0</td>\n",
       "      <td>twenty_questions</td>\n",
       "      <td>2</td>\n",
       "      <td>belief</td>\n",
       "      <td>&lt;Think&gt; Asking whether the vegetable is a bulb...</td>\n",
       "      <td>Is the vegetable a bulb, such as onion or garlic?</td>\n",
       "      <td>no.</td>\n",
       "      <td>None</td>\n",
       "      <td>2.0</td>\n",
       "      <td>True</td>\n",
       "      <td>{'agent_game_scenario': 'vegetable', 'env_game...</td>\n",
       "      <td>The vegetable is a root vegetable typically gr...</td>\n",
       "      <td>Okay, so the user is playing 20 Questions and ...</td>\n",
       "      <td>Okay, let's see. The user is playing 20 Questi...</td>\n",
       "      <td>deepseek/deepseek-r1 (belief)</td>\n",
       "    </tr>\n",
       "    <tr>\n",
       "      <th>556</th>\n",
       "      <td>deepseek/deepseek-r1 (belief)</td>\n",
       "      <td>0</td>\n",
       "      <td>twenty_questions</td>\n",
       "      <td>3</td>\n",
       "      <td>belief</td>\n",
       "      <td>&lt;Think&gt; Asking whether the vegetable is a tube...</td>\n",
       "      <td>Is the vegetable classified as a tuber (e.g., ...</td>\n",
       "      <td>yes.</td>\n",
       "      <td>None</td>\n",
       "      <td>3.0</td>\n",
       "      <td>True</td>\n",
       "      <td>{'agent_game_scenario': 'vegetable', 'env_game...</td>\n",
       "      <td>The vegetable is confirmed to be a tuber (e.g....</td>\n",
       "      <td>Okay, let's see. The belief state says it's a ...</td>\n",
       "      <td>Okay, let's break this down. The user provided...</td>\n",
       "      <td>deepseek/deepseek-r1 (belief)</td>\n",
       "    </tr>\n",
       "    <tr>\n",
       "      <th>557</th>\n",
       "      <td>deepseek/deepseek-r1 (belief)</td>\n",
       "      <td>0</td>\n",
       "      <td>twenty_questions</td>\n",
       "      <td>4</td>\n",
       "      <td>belief</td>\n",
       "      <td>&lt;Think&gt;Since the belief state confirms the veg...</td>\n",
       "      <td>Is the vegetable a potato?</td>\n",
       "      <td>no.</td>\n",
       "      <td>None</td>\n",
       "      <td>4.0</td>\n",
       "      <td>True</td>\n",
       "      <td>{'agent_game_scenario': 'vegetable', 'env_game...</td>\n",
       "      <td>The vegetable is confirmed to be a tuber, but ...</td>\n",
       "      <td>Okay, so the belief state says the vegetable i...</td>\n",
       "      <td>Okay, let's break down how to update the belie...</td>\n",
       "      <td>deepseek/deepseek-r1 (belief)</td>\n",
       "    </tr>\n",
       "    <tr>\n",
       "      <th>558</th>\n",
       "      <td>deepseek/deepseek-r1 (belief)</td>\n",
       "      <td>0</td>\n",
       "      <td>twenty_questions</td>\n",
       "      <td>5</td>\n",
       "      <td>belief</td>\n",
       "      <td>&lt;Think&gt;\\nTo differentiate between the remainin...</td>\n",
       "      <td>Is the vegetable typically smaller than a pota...</td>\n",
       "      <td>yes.</td>\n",
       "      <td>None</td>\n",
       "      <td>5.0</td>\n",
       "      <td>True</td>\n",
       "      <td>{'agent_game_scenario': 'vegetable', 'env_game...</td>\n",
       "      <td>The vegetable is a tuber, confirmed not to be ...</td>\n",
       "      <td>Okay, let's see. The user is trying to figure ...</td>\n",
       "      <td>Okay, let me process this step by step. The cu...</td>\n",
       "      <td>deepseek/deepseek-r1 (belief)</td>\n",
       "    </tr>\n",
       "    <tr>\n",
       "      <th>559</th>\n",
       "      <td>deepseek/deepseek-r1 (belief)</td>\n",
       "      <td>0</td>\n",
       "      <td>twenty_questions</td>\n",
       "      <td>6</td>\n",
       "      <td>belief</td>\n",
       "      <td>&lt;Think&gt; The belief strongly points to Jerusale...</td>\n",
       "      <td>Does the vegetable have thin, pale brown skin?</td>\n",
       "      <td>yes.</td>\n",
       "      <td>None</td>\n",
       "      <td>6.0</td>\n",
       "      <td>True</td>\n",
       "      <td>{'agent_game_scenario': 'vegetable', 'env_game...</td>\n",
       "      <td>The vegetable is a tuber smaller than a potato...</td>\n",
       "      <td>Okay, let's see. The belief state says the veg...</td>\n",
       "      <td>Okay, let me see. The user is playing 20 Quest...</td>\n",
       "      <td>deepseek/deepseek-r1 (belief)</td>\n",
       "    </tr>\n",
       "    <tr>\n",
       "      <th>560</th>\n",
       "      <td>deepseek/deepseek-r1 (belief)</td>\n",
       "      <td>0</td>\n",
       "      <td>twenty_questions</td>\n",
       "      <td>7</td>\n",
       "      <td>belief</td>\n",
       "      <td>&lt;Think&gt; The vegetable is likely a sunchoke bas...</td>\n",
       "      <td>Is the vegetable known for having a slightly n...</td>\n",
       "      <td>yes.</td>\n",
       "      <td>None</td>\n",
       "      <td>7.0</td>\n",
       "      <td>True</td>\n",
       "      <td>{'agent_game_scenario': 'vegetable', 'env_game...</td>\n",
       "      <td>The vegetable is confirmed to have a slightly ...</td>\n",
       "      <td>Okay, so based on the belief state, the curren...</td>\n",
       "      <td>Okay, the user is playing 20 Questions trying ...</td>\n",
       "      <td>deepseek/deepseek-r1 (belief)</td>\n",
       "    </tr>\n",
       "    <tr>\n",
       "      <th>561</th>\n",
       "      <td>deepseek/deepseek-r1 (belief)</td>\n",
       "      <td>0</td>\n",
       "      <td>twenty_questions</td>\n",
       "      <td>8</td>\n",
       "      <td>belief</td>\n",
       "      <td>&lt;Think&gt;The belief state strongly indicates Jer...</td>\n",
       "      <td>Is the vegetable a Jerusalem artichoke (suncho...</td>\n",
       "      <td>no.</td>\n",
       "      <td>None</td>\n",
       "      <td>8.0</td>\n",
       "      <td>True</td>\n",
       "      <td>{'agent_game_scenario': 'vegetable', 'env_game...</td>\n",
       "      <td>The vegetable is a small, knobby tuber with th...</td>\n",
       "      <td>Okay, so based on the belief state, the assist...</td>\n",
       "      <td>Okay, so the user was pretty confident that th...</td>\n",
       "      <td>deepseek/deepseek-r1 (belief)</td>\n",
       "    </tr>\n",
       "    <tr>\n",
       "      <th>562</th>\n",
       "      <td>deepseek/deepseek-r1 (belief)</td>\n",
       "      <td>0</td>\n",
       "      <td>twenty_questions</td>\n",
       "      <td>9</td>\n",
       "      <td>belief</td>\n",
       "      <td>&lt;Think&gt;To distinguish between Yacon (eaten raw...</td>\n",
       "      <td>Is the vegetable commonly eaten raw?</td>\n",
       "      <td>no.</td>\n",
       "      <td>None</td>\n",
       "      <td>9.0</td>\n",
       "      <td>True</td>\n",
       "      <td>{'agent_game_scenario': 'vegetable', 'env_game...</td>\n",
       "      <td>The vegetable is a small, knobby tuber with th...</td>\n",
       "      <td>Okay, so I'm trying to figure out which vegeta...</td>\n",
       "      <td>Okay, let me try to update the belief state ba...</td>\n",
       "      <td>deepseek/deepseek-r1 (belief)</td>\n",
       "    </tr>\n",
       "    <tr>\n",
       "      <th>563</th>\n",
       "      <td>deepseek/deepseek-r1 (belief)</td>\n",
       "      <td>0</td>\n",
       "      <td>twenty_questions</td>\n",
       "      <td>10</td>\n",
       "      <td>belief</td>\n",
       "      <td>&lt;Think&gt; To distinguish between Crosne and Chin...</td>\n",
       "      <td>Is the vegetable typically known for having a ...</td>\n",
       "      <td>yes.</td>\n",
       "      <td>None</td>\n",
       "      <td>10.0</td>\n",
       "      <td>True</td>\n",
       "      <td>{'agent_game_scenario': 'vegetable', 'env_game...</td>\n",
       "      <td>The vegetable is identified as **Crosne (Chine...</td>\n",
       "      <td>Okay, let's see. The belief state says the veg...</td>\n",
       "      <td>Okay, let me process this. The user is playing...</td>\n",
       "      <td>deepseek/deepseek-r1 (belief)</td>\n",
       "    </tr>\n",
       "    <tr>\n",
       "      <th>564</th>\n",
       "      <td>deepseek/deepseek-r1 (belief)</td>\n",
       "      <td>0</td>\n",
       "      <td>twenty_questions</td>\n",
       "      <td>11</td>\n",
       "      <td>belief</td>\n",
       "      <td>&lt;Think&gt; Given the belief that the vegetable is...</td>\n",
       "      <td>Is the vegetable characterized by small, spira...</td>\n",
       "      <td>no.</td>\n",
       "      <td>None</td>\n",
       "      <td>11.0</td>\n",
       "      <td>True</td>\n",
       "      <td>{'agent_game_scenario': 'vegetable', 'env_game...</td>\n",
       "      <td>The vegetable is **not Crosne** (spiral-shaped...</td>\n",
       "      <td>Okay, let me try to figure out the next step h...</td>\n",
       "      <td>Okay, let's process this. The current belief w...</td>\n",
       "      <td>deepseek/deepseek-r1 (belief)</td>\n",
       "    </tr>\n",
       "    <tr>\n",
       "      <th>565</th>\n",
       "      <td>deepseek/deepseek-r1 (belief)</td>\n",
       "      <td>0</td>\n",
       "      <td>twenty_questions</td>\n",
       "      <td>12</td>\n",
       "      <td>belief</td>\n",
       "      <td>&lt;Think&gt; Since the key candidates (water chestn...</td>\n",
       "      <td>Is it round and smooth?</td>\n",
       "      <td>no.</td>\n",
       "      <td>None</td>\n",
       "      <td>12.0</td>\n",
       "      <td>True</td>\n",
       "      <td>{'agent_game_scenario': 'vegetable', 'env_game...</td>\n",
       "      <td>The vegetable is **not Crosne**, potato, carro...</td>\n",
       "      <td>Okay, let's see. The user is trying to guess a...</td>\n",
       "      <td>Okay, so the user is playing 20 Questions, try...</td>\n",
       "      <td>deepseek/deepseek-r1 (belief)</td>\n",
       "    </tr>\n",
       "    <tr>\n",
       "      <th>566</th>\n",
       "      <td>deepseek/deepseek-r1 (belief)</td>\n",
       "      <td>0</td>\n",
       "      <td>twenty_questions</td>\n",
       "      <td>13</td>\n",
       "      <td>belief</td>\n",
       "      <td>&lt;Think&gt; Both candidates are knobby, so confirm...</td>\n",
       "      <td>Is the vegetable commonly used in Asian cuisine?</td>\n",
       "      <td>yes.</td>\n",
       "      <td>None</td>\n",
       "      <td>13.0</td>\n",
       "      <td>True</td>\n",
       "      <td>{'agent_game_scenario': 'vegetable', 'env_game...</td>\n",
       "      <td>Current belief: The vegetable is **not** Crosn...</td>\n",
       "      <td>Okay, let's see. The user is trying to guess a...</td>\n",
       "      <td>Okay, let me go through this step by step. The...</td>\n",
       "      <td>deepseek/deepseek-r1 (belief)</td>\n",
       "    </tr>\n",
       "    <tr>\n",
       "      <th>567</th>\n",
       "      <td>deepseek/deepseek-r1 (belief)</td>\n",
       "      <td>0</td>\n",
       "      <td>twenty_questions</td>\n",
       "      <td>14</td>\n",
       "      <td>belief</td>\n",
       "      <td>&lt;Think&gt; The belief state indicates burdock roo...</td>\n",
       "      <td>Guess: Burdock root (gobo)</td>\n",
       "      <td>no.</td>\n",
       "      <td>None</td>\n",
       "      <td>14.0</td>\n",
       "      <td>True</td>\n",
       "      <td>{'agent_game_scenario': 'vegetable', 'env_game...</td>\n",
       "      <td>&lt;BELIEW&gt;\\nCurrent belief: The vegetable is **n...</td>\n",
       "      <td>Okay, let's break this down. The belief state ...</td>\n",
       "      <td>Okay, let's see. The user was trying to guess ...</td>\n",
       "      <td>deepseek/deepseek-r1 (belief)</td>\n",
       "    </tr>\n",
       "    <tr>\n",
       "      <th>568</th>\n",
       "      <td>deepseek/deepseek-r1 (belief)</td>\n",
       "      <td>0</td>\n",
       "      <td>twenty_questions</td>\n",
       "      <td>15</td>\n",
       "      <td>belief</td>\n",
       "      <td>&lt;Think&gt; The belief state strongly points to lo...</td>\n",
       "      <td>Is the vegetable lotus root?</td>\n",
       "      <td>no.</td>\n",
       "      <td>None</td>\n",
       "      <td>15.0</td>\n",
       "      <td>True</td>\n",
       "      <td>{'agent_game_scenario': 'vegetable', 'env_game...</td>\n",
       "      <td>The vegetable is **not** Burdock root (gobo), ...</td>\n",
       "      <td>Okay, so the belief state says they've narrowe...</td>\n",
       "      <td>Okay, so the user is playing 20 Questions tryi...</td>\n",
       "      <td>deepseek/deepseek-r1 (belief)</td>\n",
       "    </tr>\n",
       "    <tr>\n",
       "      <th>569</th>\n",
       "      <td>deepseek/deepseek-r1 (belief)</td>\n",
       "      <td>0</td>\n",
       "      <td>twenty_questions</td>\n",
       "      <td>16</td>\n",
       "      <td>belief</td>\n",
       "      <td>&lt;Think&gt; To differentiate between water caltrop...</td>\n",
       "      <td>Is the vegetable characterized by horn-shaped ...</td>\n",
       "      <td>no.</td>\n",
       "      <td>None</td>\n",
       "      <td>16.0</td>\n",
       "      <td>True</td>\n",
       "      <td>{'agent_game_scenario': 'vegetable', 'env_game...</td>\n",
       "      <td>The vegetable is **not** Burdock root, Crosne,...</td>\n",
       "      <td>Okay, let's see. The user is trying to guess a...</td>\n",
       "      <td>Okay, let's see. The current belief says the v...</td>\n",
       "      <td>deepseek/deepseek-r1 (belief)</td>\n",
       "    </tr>\n",
       "    <tr>\n",
       "      <th>570</th>\n",
       "      <td>deepseek/deepseek-r1 (belief)</td>\n",
       "      <td>0</td>\n",
       "      <td>twenty_questions</td>\n",
       "      <td>17</td>\n",
       "      <td>belief</td>\n",
       "      <td>&lt;Think&gt; The key distinction is whether the veg...</td>\n",
       "      <td>Is the vegetable primarily used as a spice or ...</td>\n",
       "      <td>no.</td>\n",
       "      <td>None</td>\n",
       "      <td>17.0</td>\n",
       "      <td>True</td>\n",
       "      <td>{'agent_game_scenario': 'vegetable', 'env_game...</td>\n",
       "      <td>The vegetable is **not** Burdock root, Crosne,...</td>\n",
       "      <td>Okay, let's see. The user has narrowed down th...</td>\n",
       "      <td>Okay, let me update the belief based on the la...</td>\n",
       "      <td>deepseek/deepseek-r1 (belief)</td>\n",
       "    </tr>\n",
       "    <tr>\n",
       "      <th>571</th>\n",
       "      <td>deepseek/deepseek-r1 (belief)</td>\n",
       "      <td>0</td>\n",
       "      <td>twenty_questions</td>\n",
       "      <td>18</td>\n",
       "      <td>belief</td>\n",
       "      <td>&lt;Think&gt;Since crunchiness when cooked is confir...</td>\n",
       "      <td>Is the vegetable commonly stir-fried in Asian ...</td>\n",
       "      <td>yes.</td>\n",
       "      <td>None</td>\n",
       "      <td>18.0</td>\n",
       "      <td>True</td>\n",
       "      <td>{'agent_game_scenario': 'vegetable', 'env_game...</td>\n",
       "      <td>The vegetable is **not** Burdock root, Crosne,...</td>\n",
       "      <td>Okay, let's break this down. The user is tryin...</td>\n",
       "      <td>Okay, let's see. The user is playing 20 Questi...</td>\n",
       "      <td>deepseek/deepseek-r1 (belief)</td>\n",
       "    </tr>\n",
       "    <tr>\n",
       "      <th>572</th>\n",
       "      <td>deepseek/deepseek-r1 (belief)</td>\n",
       "      <td>0</td>\n",
       "      <td>twenty_questions</td>\n",
       "      <td>19</td>\n",
       "      <td>belief</td>\n",
       "      <td>&lt;Think&gt; Considering the narrowed possibilities...</td>\n",
       "      <td>Is the vegetable a gourd (e.g., ivy gourd)?</td>\n",
       "      <td>no.</td>\n",
       "      <td>None</td>\n",
       "      <td>19.0</td>\n",
       "      <td>True</td>\n",
       "      <td>{'agent_game_scenario': 'vegetable', 'env_game...</td>\n",
       "      <td>The vegetable is **not** Burdock root, Crosne,...</td>\n",
       "      <td>Okay, let me process the information given. Th...</td>\n",
       "      <td>Okay, let's break this down. The user is playi...</td>\n",
       "      <td>deepseek/deepseek-r1 (belief)</td>\n",
       "    </tr>\n",
       "    <tr>\n",
       "      <th>573</th>\n",
       "      <td>deepseek/deepseek-r1 (belief)</td>\n",
       "      <td>0</td>\n",
       "      <td>twenty_questions</td>\n",
       "      <td>20</td>\n",
       "      <td>belief</td>\n",
       "      <td>&lt;Think&gt;  \\nTo narrow down between the remainin...</td>\n",
       "      <td>Is the vegetable commonly recognized by a wing...</td>\n",
       "      <td>no.</td>\n",
       "      <td>None</td>\n",
       "      <td>20.0</td>\n",
       "      <td>True</td>\n",
       "      <td>{'agent_game_scenario': 'vegetable', 'env_game...</td>\n",
       "      <td>The vegetable is **not** Burdock root, Crosne,...</td>\n",
       "      <td>Okay, let's break this down. The user is tryin...</td>\n",
       "      <td>Okay, so the user is playing 20 Questions tryi...</td>\n",
       "      <td>deepseek/deepseek-r1 (belief)</td>\n",
       "    </tr>\n",
       "  </tbody>\n",
       "</table>\n",
       "</div>"
      ],
      "text/plain": [
       "                             model game_id               env  attempt    info  \\\n",
       "554  deepseek/deepseek-r1 (belief)       0  twenty_questions        1  belief   \n",
       "555  deepseek/deepseek-r1 (belief)       0  twenty_questions        2  belief   \n",
       "556  deepseek/deepseek-r1 (belief)       0  twenty_questions        3  belief   \n",
       "557  deepseek/deepseek-r1 (belief)       0  twenty_questions        4  belief   \n",
       "558  deepseek/deepseek-r1 (belief)       0  twenty_questions        5  belief   \n",
       "559  deepseek/deepseek-r1 (belief)       0  twenty_questions        6  belief   \n",
       "560  deepseek/deepseek-r1 (belief)       0  twenty_questions        7  belief   \n",
       "561  deepseek/deepseek-r1 (belief)       0  twenty_questions        8  belief   \n",
       "562  deepseek/deepseek-r1 (belief)       0  twenty_questions        9  belief   \n",
       "563  deepseek/deepseek-r1 (belief)       0  twenty_questions       10  belief   \n",
       "564  deepseek/deepseek-r1 (belief)       0  twenty_questions       11  belief   \n",
       "565  deepseek/deepseek-r1 (belief)       0  twenty_questions       12  belief   \n",
       "566  deepseek/deepseek-r1 (belief)       0  twenty_questions       13  belief   \n",
       "567  deepseek/deepseek-r1 (belief)       0  twenty_questions       14  belief   \n",
       "568  deepseek/deepseek-r1 (belief)       0  twenty_questions       15  belief   \n",
       "569  deepseek/deepseek-r1 (belief)       0  twenty_questions       16  belief   \n",
       "570  deepseek/deepseek-r1 (belief)       0  twenty_questions       17  belief   \n",
       "571  deepseek/deepseek-r1 (belief)       0  twenty_questions       18  belief   \n",
       "572  deepseek/deepseek-r1 (belief)       0  twenty_questions       19  belief   \n",
       "573  deepseek/deepseek-r1 (belief)       0  twenty_questions       20  belief   \n",
       "\n",
       "                                             raw_guess  \\\n",
       "554  <Think> Start by distinguishing between common...   \n",
       "555  <Think> Asking whether the vegetable is a bulb...   \n",
       "556  <Think> Asking whether the vegetable is a tube...   \n",
       "557  <Think>Since the belief state confirms the veg...   \n",
       "558  <Think>\\nTo differentiate between the remainin...   \n",
       "559  <Think> The belief strongly points to Jerusale...   \n",
       "560  <Think> The vegetable is likely a sunchoke bas...   \n",
       "561  <Think>The belief state strongly indicates Jer...   \n",
       "562  <Think>To distinguish between Yacon (eaten raw...   \n",
       "563  <Think> To distinguish between Crosne and Chin...   \n",
       "564  <Think> Given the belief that the vegetable is...   \n",
       "565  <Think> Since the key candidates (water chestn...   \n",
       "566  <Think> Both candidates are knobby, so confirm...   \n",
       "567  <Think> The belief state indicates burdock roo...   \n",
       "568  <Think> The belief state strongly points to lo...   \n",
       "569  <Think> To differentiate between water caltrop...   \n",
       "570  <Think> The key distinction is whether the veg...   \n",
       "571  <Think>Since crunchiness when cooked is confir...   \n",
       "572  <Think> Considering the narrowed possibilities...   \n",
       "573  <Think>  \\nTo narrow down between the remainin...   \n",
       "\n",
       "                                                 guess response word_limit  \\\n",
       "554      Is the vegetable typically grown underground?     yes.       None   \n",
       "555  Is the vegetable a bulb, such as onion or garlic?      no.       None   \n",
       "556  Is the vegetable classified as a tuber (e.g., ...     yes.       None   \n",
       "557                         Is the vegetable a potato?      no.       None   \n",
       "558  Is the vegetable typically smaller than a pota...     yes.       None   \n",
       "559     Does the vegetable have thin, pale brown skin?     yes.       None   \n",
       "560  Is the vegetable known for having a slightly n...     yes.       None   \n",
       "561  Is the vegetable a Jerusalem artichoke (suncho...      no.       None   \n",
       "562               Is the vegetable commonly eaten raw?      no.       None   \n",
       "563  Is the vegetable typically known for having a ...     yes.       None   \n",
       "564  Is the vegetable characterized by small, spira...      no.       None   \n",
       "565                            Is it round and smooth?      no.       None   \n",
       "566   Is the vegetable commonly used in Asian cuisine?     yes.       None   \n",
       "567                         Guess: Burdock root (gobo)      no.       None   \n",
       "568                       Is the vegetable lotus root?      no.       None   \n",
       "569  Is the vegetable characterized by horn-shaped ...      no.       None   \n",
       "570  Is the vegetable primarily used as a spice or ...      no.       None   \n",
       "571  Is the vegetable commonly stir-fried in Asian ...     yes.       None   \n",
       "572        Is the vegetable a gourd (e.g., ivy gourd)?      no.       None   \n",
       "573  Is the vegetable commonly recognized by a wing...      no.       None   \n",
       "\n",
       "     score  done                                               data  \\\n",
       "554    1.0  True  {'agent_game_scenario': 'vegetable', 'env_game...   \n",
       "555    2.0  True  {'agent_game_scenario': 'vegetable', 'env_game...   \n",
       "556    3.0  True  {'agent_game_scenario': 'vegetable', 'env_game...   \n",
       "557    4.0  True  {'agent_game_scenario': 'vegetable', 'env_game...   \n",
       "558    5.0  True  {'agent_game_scenario': 'vegetable', 'env_game...   \n",
       "559    6.0  True  {'agent_game_scenario': 'vegetable', 'env_game...   \n",
       "560    7.0  True  {'agent_game_scenario': 'vegetable', 'env_game...   \n",
       "561    8.0  True  {'agent_game_scenario': 'vegetable', 'env_game...   \n",
       "562    9.0  True  {'agent_game_scenario': 'vegetable', 'env_game...   \n",
       "563   10.0  True  {'agent_game_scenario': 'vegetable', 'env_game...   \n",
       "564   11.0  True  {'agent_game_scenario': 'vegetable', 'env_game...   \n",
       "565   12.0  True  {'agent_game_scenario': 'vegetable', 'env_game...   \n",
       "566   13.0  True  {'agent_game_scenario': 'vegetable', 'env_game...   \n",
       "567   14.0  True  {'agent_game_scenario': 'vegetable', 'env_game...   \n",
       "568   15.0  True  {'agent_game_scenario': 'vegetable', 'env_game...   \n",
       "569   16.0  True  {'agent_game_scenario': 'vegetable', 'env_game...   \n",
       "570   17.0  True  {'agent_game_scenario': 'vegetable', 'env_game...   \n",
       "571   18.0  True  {'agent_game_scenario': 'vegetable', 'env_game...   \n",
       "572   19.0  True  {'agent_game_scenario': 'vegetable', 'env_game...   \n",
       "573   20.0  True  {'agent_game_scenario': 'vegetable', 'env_game...   \n",
       "\n",
       "                                                belief  \\\n",
       "554  The vegetable is a root vegetable typically gr...   \n",
       "555  The vegetable is a root vegetable typically gr...   \n",
       "556  The vegetable is confirmed to be a tuber (e.g....   \n",
       "557  The vegetable is confirmed to be a tuber, but ...   \n",
       "558  The vegetable is a tuber, confirmed not to be ...   \n",
       "559  The vegetable is a tuber smaller than a potato...   \n",
       "560  The vegetable is confirmed to have a slightly ...   \n",
       "561  The vegetable is a small, knobby tuber with th...   \n",
       "562  The vegetable is a small, knobby tuber with th...   \n",
       "563  The vegetable is identified as **Crosne (Chine...   \n",
       "564  The vegetable is **not Crosne** (spiral-shaped...   \n",
       "565  The vegetable is **not Crosne**, potato, carro...   \n",
       "566  Current belief: The vegetable is **not** Crosn...   \n",
       "567  <BELIEW>\\nCurrent belief: The vegetable is **n...   \n",
       "568  The vegetable is **not** Burdock root (gobo), ...   \n",
       "569  The vegetable is **not** Burdock root, Crosne,...   \n",
       "570  The vegetable is **not** Burdock root, Crosne,...   \n",
       "571  The vegetable is **not** Burdock root, Crosne,...   \n",
       "572  The vegetable is **not** Burdock root, Crosne,...   \n",
       "573  The vegetable is **not** Burdock root, Crosne,...   \n",
       "\n",
       "                                      action_reasoning  \\\n",
       "554  Okay, so I'm trying to guess a vegetable in 20...   \n",
       "555  Okay, so the user is playing 20 Questions and ...   \n",
       "556  Okay, let's see. The belief state says it's a ...   \n",
       "557  Okay, so the belief state says the vegetable i...   \n",
       "558  Okay, let's see. The user is trying to figure ...   \n",
       "559  Okay, let's see. The belief state says the veg...   \n",
       "560  Okay, so based on the belief state, the curren...   \n",
       "561  Okay, so based on the belief state, the assist...   \n",
       "562  Okay, so I'm trying to figure out which vegeta...   \n",
       "563  Okay, let's see. The belief state says the veg...   \n",
       "564  Okay, let me try to figure out the next step h...   \n",
       "565  Okay, let's see. The user is trying to guess a...   \n",
       "566  Okay, let's see. The user is trying to guess a...   \n",
       "567  Okay, let's break this down. The belief state ...   \n",
       "568  Okay, so the belief state says they've narrowe...   \n",
       "569  Okay, let's see. The user is trying to guess a...   \n",
       "570  Okay, let's see. The user has narrowed down th...   \n",
       "571  Okay, let's break this down. The user is tryin...   \n",
       "572  Okay, let me process the information given. Th...   \n",
       "573  Okay, let's break this down. The user is tryin...   \n",
       "\n",
       "                                      belief_reasoning  \\\n",
       "554  Okay, so I need to update the belief state aft...   \n",
       "555  Okay, let's see. The user is playing 20 Questi...   \n",
       "556  Okay, let's break this down. The user provided...   \n",
       "557  Okay, let's break down how to update the belie...   \n",
       "558  Okay, let me process this step by step. The cu...   \n",
       "559  Okay, let me see. The user is playing 20 Quest...   \n",
       "560  Okay, the user is playing 20 Questions trying ...   \n",
       "561  Okay, so the user was pretty confident that th...   \n",
       "562  Okay, let me try to update the belief state ba...   \n",
       "563  Okay, let me process this. The user is playing...   \n",
       "564  Okay, let's process this. The current belief w...   \n",
       "565  Okay, so the user is playing 20 Questions, try...   \n",
       "566  Okay, let me go through this step by step. The...   \n",
       "567  Okay, let's see. The user was trying to guess ...   \n",
       "568  Okay, so the user is playing 20 Questions tryi...   \n",
       "569  Okay, let's see. The current belief says the v...   \n",
       "570  Okay, let me update the belief based on the la...   \n",
       "571  Okay, let's see. The user is playing 20 Questi...   \n",
       "572  Okay, let's break this down. The user is playi...   \n",
       "573  Okay, so the user is playing 20 Questions tryi...   \n",
       "\n",
       "                        model_info  \n",
       "554  deepseek/deepseek-r1 (belief)  \n",
       "555  deepseek/deepseek-r1 (belief)  \n",
       "556  deepseek/deepseek-r1 (belief)  \n",
       "557  deepseek/deepseek-r1 (belief)  \n",
       "558  deepseek/deepseek-r1 (belief)  \n",
       "559  deepseek/deepseek-r1 (belief)  \n",
       "560  deepseek/deepseek-r1 (belief)  \n",
       "561  deepseek/deepseek-r1 (belief)  \n",
       "562  deepseek/deepseek-r1 (belief)  \n",
       "563  deepseek/deepseek-r1 (belief)  \n",
       "564  deepseek/deepseek-r1 (belief)  \n",
       "565  deepseek/deepseek-r1 (belief)  \n",
       "566  deepseek/deepseek-r1 (belief)  \n",
       "567  deepseek/deepseek-r1 (belief)  \n",
       "568  deepseek/deepseek-r1 (belief)  \n",
       "569  deepseek/deepseek-r1 (belief)  \n",
       "570  deepseek/deepseek-r1 (belief)  \n",
       "571  deepseek/deepseek-r1 (belief)  \n",
       "572  deepseek/deepseek-r1 (belief)  \n",
       "573  deepseek/deepseek-r1 (belief)  "
      ]
     },
     "execution_count": 79,
     "metadata": {},
     "output_type": "execute_result"
    }
   ],
   "source": [
    "wordle_sample"
   ]
  },
  {
   "cell_type": "code",
   "execution_count": 85,
   "id": "2af8aebe",
   "metadata": {},
   "outputs": [
    {
     "name": "stdout",
     "output_type": "stream",
     "text": [
      "('The vegetable is **not** Burdock root, Crosne, potato, carrot, beet, Chinese '\n",
      " 'yam, water chestnut, jicama, Jerusalem artichoke, lotus root, water caltrop, '\n",
      " 'galangal, **gourd (including ivy gourd)**, Hosui pear-shaped yam, **or '\n",
      " 'winged yam (Dioscorea alata)**.  \\n'\n",
      " '**Confirmed traits**:  \\n'\n",
      " '- Crunchy when cooked.  \\n'\n",
      " '- Small, knobby, non-round/non-smooth appearance.  \\n'\n",
      " '- Pale brown skin with nutty/sweet flavor.  \\n'\n",
      " '- Asian origin (common in Asian cuisine).  \\n'\n",
      " '- Primarily used as a culinary vegetable (**not** a spice/herb).  \\n'\n",
      " '- Commonly stir-fried in Asian dishes.  \\n'\n",
      " '**Narrowed possibilities**:  \\n'\n",
      " '- Excludes winged/lobed shapes. Focus on knobby, irregularly shaped '\n",
      " 'tubers/roots.  \\n'\n",
      " '- Candidates: Lesser-known Southeast Asian tubers (e.g., *greater yam '\n",
      " 'variants*, *Taro cultivars* with knobby texture) or fibrous-textured roots '\n",
      " 'used in Thai/Malay/Indonesian stir-fries.  \\n'\n",
      " '- Key questions remaining: Distinguish between starchy vs. fibrous texture, '\n",
      " 'regional specificity (e.g., Thai vs. Filipino cuisine), or cooking methods '\n",
      " 'beyond stir-fry (e.g., soups, pickling).')\n"
     ]
    }
   ],
   "source": [
    "pp(wordle_sample.iloc[19]['belief'])"
   ]
  },
  {
   "cell_type": "code",
   "execution_count": null,
   "id": "bb344f62",
   "metadata": {},
   "outputs": [],
   "source": []
  },
  {
   "cell_type": "code",
   "execution_count": null,
   "id": "8799a5ab",
   "metadata": {},
   "outputs": [],
   "source": []
  },
  {
   "cell_type": "code",
   "execution_count": null,
   "id": "495517be",
   "metadata": {},
   "outputs": [],
   "source": []
  },
  {
   "cell_type": "code",
   "execution_count": null,
   "id": "4c57f8f7",
   "metadata": {},
   "outputs": [],
   "source": []
  },
  {
   "cell_type": "code",
   "execution_count": null,
   "id": "3df4c224",
   "metadata": {},
   "outputs": [],
   "source": []
  },
  {
   "cell_type": "code",
   "execution_count": null,
   "id": "90539d27",
   "metadata": {},
   "outputs": [],
   "source": []
  }
 ],
 "metadata": {
  "kernelspec": {
   "display_name": "verl",
   "language": "python",
   "name": "python3"
  },
  "language_info": {
   "codemirror_mode": {
    "name": "ipython",
    "version": 3
   },
   "file_extension": ".py",
   "mimetype": "text/x-python",
   "name": "python",
   "nbconvert_exporter": "python",
   "pygments_lexer": "ipython3",
   "version": "3.10.18"
  }
 },
 "nbformat": 4,
 "nbformat_minor": 5
}
