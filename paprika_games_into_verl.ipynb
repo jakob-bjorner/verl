{
 "cells": [
  {
   "cell_type": "markdown",
   "id": "44d86c9f",
   "metadata": {},
   "source": [
    "## 1. Run Combo Lock Interaction (verl)"
   ]
  },
  {
   "cell_type": "code",
   "execution_count": 3,
   "id": "1c3b7368",
   "metadata": {},
   "outputs": [
    {
     "data": {
      "text/plain": [
       "True"
      ]
     },
     "execution_count": 3,
     "metadata": {},
     "output_type": "execute_result"
    }
   ],
   "source": [
    "import dotenv\n",
    "dotenv.load_dotenv('../.env')"
   ]
  },
  {
   "cell_type": "code",
   "execution_count": 1,
   "id": "ca77807e",
   "metadata": {},
   "outputs": [],
   "source": [
    "from verl.interactions.combolock_interaction import ComboLockInteraction\n",
    "\n",
    "interaction = ComboLockInteraction(config={})\n",
    "\n",
    "instance_id = await interaction.start_interaction(\n",
    "    instance_id=None,\n",
    "    combination_length=3,\n",
    "    max_attempts=8,\n",
    "    vocab='0123456789',\n",
    "    ground_truth='835',\n",
    "    format='interaction_think',\n",
    ")\n",
    "env = interaction._instance_dict[instance_id]['env']"
   ]
  },
  {
   "cell_type": "code",
   "execution_count": 2,
   "id": "9ec82c6a",
   "metadata": {},
   "outputs": [
    {
     "name": "stdout",
     "output_type": "stream",
     "text": [
      "\n",
      "Attempt 1/8:\n",
      "Response: 1 is not in the lock\n",
      "2 is not in the lock\n",
      "3 is not in Position 3, but is in the lock\n",
      "Score: 0.0\n",
      "\n",
      "Attempt 2/8:\n",
      "Response: 4 is not in the lock\n",
      "5 is not in Position 2, but is in the lock\n",
      "6 is not in the lock\n",
      "Score: 0.0\n",
      "\n",
      "Attempt 3/8:\n",
      "Response: 7 is not in the lock\n",
      "8 is not in Position 2, but is in the lock\n",
      "9 is not in the lock\n",
      "Score: 0.0\n",
      "\n",
      "Attempt 4/8:\n",
      "Response: 8 is in Position 1!\n",
      "3 is in Position 2!\n",
      "5 is in Position 3!\n",
      "Score: 0.625\n",
      "\n",
      "🎉 Game completed! Goal reached: True\n"
     ]
    }
   ],
   "source": [
    "guesses = ['123', '456', '789', '835']  # example guesses\n",
    "attempts = 0\n",
    "game_history = []\n",
    "\n",
    "while attempts < env.max_attempts:\n",
    "\n",
    "    print(f\"\\nAttempt {attempts + 1}/{env.max_attempts}:\")\n",
    "\n",
    "    attempts += 1\n",
    "    guess = guesses[attempts - 1]\n",
    "    messages = [\n",
    "        {\"role\": \"user\", \"content\": f\"Make guess for {env.combination_length}-digit \\combination\"},\n",
    "        {\"role\": \"assistant\", \"content\": f\"<action>{guess}</action>\"}\n",
    "    ]\n",
    "    \n",
    "    # Get response from the interaction\n",
    "    done, response, score, additional_data = await interaction.generate_response(\n",
    "        instance_id=instance_id,\n",
    "        messages=messages\n",
    "    )\n",
    "    \n",
    "    print(f\"Response: {response}\")\n",
    "    print(f\"Score: {score}\")\n",
    "    \n",
    "    # Record the attempt\n",
    "    game_history.append({\n",
    "        \"attempt\": attempts,\n",
    "        \"guess\": guess,\n",
    "        \"response\": response,\n",
    "        \"score\": score\n",
    "    })\n",
    "    \n",
    "    if done:\n",
    "        print(f\"\\n🎉 Game completed! Goal reached: {done}\")\n",
    "        break"
   ]
  },
  {
   "cell_type": "markdown",
   "id": "c098c04e",
   "metadata": {},
   "source": [
    "# 2. Run Paprika Interaction (verl) in the same way"
   ]
  },
  {
   "cell_type": "code",
   "execution_count": 1,
   "id": "117e69a9",
   "metadata": {},
   "outputs": [
    {
     "name": "stdout",
     "output_type": "stream",
     "text": [
      "Could not import JerichoInferenceEngine, so cannot use it!\n",
      "Could not import VLLMInferenceEngine, so cannot use it!\n"
     ]
    }
   ],
   "source": [
    "import sys\n",
    "sys.path.append('../paprika') # Remove this when verl and paprika are installed in the same env\n",
    "from llm_exploration.paprika_config_helper import PaprikaConfigHelper\n",
    "from verl.interactions.paprika_interaction import PaprikaInteraction\n",
    "import dotenv\n",
    "dotenv.load_dotenv('../.env')\n",
    "from pprint import pprint as pp\n",
    "\n",
    "GAME_NAME = \"twenty_questions\"  # change to e.g. \"twenty_questions\", \"mastermind\", etc.\n",
    "config = PaprikaConfigHelper.create_config(GAME_NAME)\n",
    "config['belief_config']['style'] = 'none'  # no belief right now"
   ]
  },
  {
   "cell_type": "code",
   "execution_count": 2,
   "id": "f6032e30",
   "metadata": {},
   "outputs": [],
   "source": [
    "# config"
   ]
  },
  {
   "cell_type": "code",
   "execution_count": 2,
   "id": "3c337ce7",
   "metadata": {},
   "outputs": [
    {
     "name": "stdout",
     "output_type": "stream",
     "text": [
      "The inference engine has been reset to the start state!\n",
      "The inference engine has been reset to the start state!\n",
      "The inference engine has been reset to the start state!\n"
     ]
    }
   ],
   "source": [
    "sample_actions = [\n",
    "    'Is it alive and judging you silently?',\n",
    "    'Could you eat it without alarming your neighbors?',\n",
    "    'Is it so big that it would crush a shoe in revenge?',\n",
    "    'Is it always blue, even on its days off?',\n",
    "    'Would it be suspicious to find it in your pocket?',\n",
    "    'Could it survive being yeeted off a skyscraper?',\n",
    "    'Would NASA high-five you if you found it in space?',\n",
    "    'Does it make noise when nobody’s listening?',\n",
    "    'Would it be comfy to sit on for exactly 7 hours?',\n",
    "    'Could it vanish just because you blinked too hard?'\n",
    "]\n",
    "\n",
    "interaction = PaprikaInteraction(config={})\n",
    "\n",
    "instance_id = await interaction.start_interaction(\n",
    "        instance_id=None,\n",
    "        **config\n",
    "    )"
   ]
  },
  {
   "cell_type": "code",
   "execution_count": 3,
   "id": "7b0f8973",
   "metadata": {},
   "outputs": [],
   "source": [
    "attempts = 0\n",
    "game_history = []\n",
    "# max_attempts = interaction._instance_dict[instance_id]['max_turns']\n",
    "max_attempts = 6"
   ]
  },
  {
   "cell_type": "code",
   "execution_count": 4,
   "id": "4996dfa4",
   "metadata": {},
   "outputs": [
    {
     "data": {
      "text/plain": [
       "{'env': 'The Space Shuttle Challenger Disaster', 'agent': 'historical event'}"
      ]
     },
     "execution_count": 4,
     "metadata": {},
     "output_type": "execute_result"
    }
   ],
   "source": [
    "interaction._instance_dict[instance_id]['scenario']"
   ]
  },
  {
   "cell_type": "code",
   "execution_count": 5,
   "id": "74438f57",
   "metadata": {},
   "outputs": [
    {
     "name": "stdout",
     "output_type": "stream",
     "text": [
      "\n",
      "Attempt 1/6:\n"
     ]
    },
    {
     "name": "stdout",
     "output_type": "stream",
     "text": [
      "Question: Is it alive and judging you silently?\n",
      "Response: No\n",
      "\n",
      "\n",
      "Attempt 2/6:\n",
      "Question: Could you eat it without alarming your neighbors?\n",
      "Response: No\n",
      "\n",
      "\n",
      "Attempt 3/6:\n",
      "Question: Is it so big that it would crush a shoe in revenge?\n",
      "Response: No\n",
      "\n",
      "\n",
      "Attempt 4/6:\n",
      "Question: Is it always blue, even on its days off?\n",
      "Response: No\n",
      "\n",
      "\n",
      "Attempt 5/6:\n",
      "Question: Would it be suspicious to find it in your pocket?\n",
      "Response: Yes\n",
      "\n",
      "\n",
      "Attempt 6/6:\n",
      "Question: Could it survive being yeeted off a skyscraper?\n",
      "Response: No\n",
      "\n"
     ]
    }
   ],
   "source": [
    "while attempts < max_attempts:\n",
    "        \n",
    "    print(f\"\\nAttempt {attempts + 1}/{max_attempts}:\")\n",
    "    attempts += 1\n",
    "    action = sample_actions[attempts - 1]\n",
    "    messages = [\n",
    "        {\"role\": \"user\", \"content\": f\"Output the next action.\"},\n",
    "        {\"role\": \"assistant\", \"content\": f\"<action>{action}</action>\"}\n",
    "    ]\n",
    "\n",
    "    done, response, score, additional_data = await interaction.generate_response(\n",
    "        instance_id=instance_id,\n",
    "        messages=messages\n",
    "    )\n",
    "    \n",
    "    print(f\"Question: {action}\")\n",
    "    print(f\"Response: {response}\\n\")\n",
    "    \n",
    "    game_history.append({\n",
    "        \"attempt\": attempts,\n",
    "        \"guess\": action,\n",
    "        \"response\": response,\n",
    "        \"score\": score\n",
    "    })"
   ]
  },
  {
   "cell_type": "code",
   "execution_count": 6,
   "id": "eebe6e73",
   "metadata": {},
   "outputs": [
    {
     "name": "stdout",
     "output_type": "stream",
     "text": [
      "[{'content': 'You are a helpful assistant.', 'role': 'system'},\n",
      " {'content': 'You are playing a game of 20 Questions. Your goal is to guess the name of a thing or person by asking up '\n",
      "             \"to 20 yes-or-no questions. After each question, you will receive an answer: 'Yes' or 'No.' Use the \"\n",
      "             'answers provided to refine your guesses.\\n'\n",
      "             '\\n'\n",
      "             'Here are your instructions:\\n'\n",
      "             '- You can ask only yes-or-no questions.\\n'\n",
      "             '- After receiving each answer, you should adapt your questions based on the new information.\\n'\n",
      "             '- Your goal is to guess the topic in as few questions as possible.\\n'\n",
      "             \"- If you're confident, you can make a guess before reaching 20 questions.\\n\"\n",
      "             '\\n'\n",
      "             'The game starts now. You are trying to guess a historical event. Ask your first question!',\n",
      "  'role': 'user'},\n",
      " {'content': 'is it alive and judging you silently?', 'role': 'assistant'},\n",
      " {'content': 'No', 'role': 'user'},\n",
      " {'content': 'could you eat it without alarming your neighbors?', 'role': 'assistant'},\n",
      " {'content': 'No', 'role': 'user'},\n",
      " {'content': 'is it so big that it would crush a shoe in revenge?', 'role': 'assistant'},\n",
      " {'content': 'No', 'role': 'user'},\n",
      " {'content': 'is it always blue, even on its days off?', 'role': 'assistant'},\n",
      " {'content': 'No', 'role': 'user'},\n",
      " {'content': 'would it be suspicious to find it in your pocket?', 'role': 'assistant'},\n",
      " {'content': 'Yes', 'role': 'user'},\n",
      " {'content': 'could it survive being yeeted off a skyscraper?', 'role': 'assistant'},\n",
      " {'content': 'No', 'role': 'user'}]\n"
     ]
    }
   ],
   "source": [
    "pp(additional_data['conversation'], width=120)"
   ]
  },
  {
   "cell_type": "code",
   "execution_count": null,
   "id": "809a1795",
   "metadata": {},
   "outputs": [],
   "source": []
  },
  {
   "cell_type": "code",
   "execution_count": null,
   "id": "657f5d60",
   "metadata": {},
   "outputs": [],
   "source": []
  },
  {
   "cell_type": "code",
   "execution_count": null,
   "id": "b0ea1c33",
   "metadata": {},
   "outputs": [],
   "source": []
  },
  {
   "cell_type": "code",
   "execution_count": null,
   "id": "4623827d",
   "metadata": {},
   "outputs": [],
   "source": []
  },
  {
   "cell_type": "code",
   "execution_count": null,
   "id": "29532b28",
   "metadata": {},
   "outputs": [],
   "source": []
  },
  {
   "cell_type": "code",
   "execution_count": null,
   "metadata": {},
   "outputs": [],
   "source": []
  },
  {
   "cell_type": "code",
   "execution_count": null,
   "id": "b8581f17",
   "metadata": {},
   "outputs": [],
   "source": []
  },
  {
   "cell_type": "code",
   "execution_count": null,
   "metadata": {},
   "outputs": [],
   "source": []
  },
  {
   "cell_type": "code",
   "execution_count": null,
   "id": "2a5245a4",
   "metadata": {},
   "outputs": [],
   "source": []
  },
  {
   "cell_type": "code",
   "execution_count": null,
   "id": "3a47ecff",
   "metadata": {},
   "outputs": [],
   "source": []
  },
  {
   "cell_type": "code",
   "execution_count": null,
   "id": "5c77636d",
   "metadata": {},
   "outputs": [],
   "source": []
  },
  {
   "cell_type": "code",
   "execution_count": null,
   "id": "29cc3424",
   "metadata": {},
   "outputs": [],
   "source": []
  },
  {
   "cell_type": "code",
   "execution_count": null,
   "id": "2a7bca66",
   "metadata": {},
   "outputs": [],
   "source": []
  },
  {
   "cell_type": "code",
   "execution_count": null,
   "id": "3ed2c31e",
   "metadata": {},
   "outputs": [],
   "source": []
  },
  {
   "cell_type": "code",
   "execution_count": null,
   "metadata": {},
   "outputs": [],
   "source": []
  },
  {
   "cell_type": "code",
   "execution_count": null,
   "metadata": {},
   "outputs": [],
   "source": []
  },
  {
   "cell_type": "code",
   "execution_count": null,
   "metadata": {},
   "outputs": [],
   "source": []
  },
  {
   "cell_type": "code",
   "execution_count": null,
   "id": "bdea5448",
   "metadata": {},
   "outputs": [],
   "source": []
  }
 ],
 "metadata": {
  "kernelspec": {
   "display_name": "verl",
   "language": "python",
   "name": "python3"
  },
  "language_info": {
   "codemirror_mode": {
    "name": "ipython",
    "version": 3
   },
   "file_extension": ".py",
   "mimetype": "text/x-python",
   "name": "python",
   "nbconvert_exporter": "python",
   "pygments_lexer": "ipython3",
   "version": "3.10.18"
  }
 },
 "nbformat": 4,
 "nbformat_minor": 5
}
