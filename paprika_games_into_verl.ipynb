{
 "cells": [
  {
   "cell_type": "markdown",
   "id": "44d86c9f",
   "metadata": {},
   "source": [
    "## 1. Run Combo Lock Interaction (verl)"
   ]
  },
  {
   "cell_type": "code",
   "execution_count": 3,
   "id": "1c3b7368",
   "metadata": {},
   "outputs": [
    {
     "data": {
      "text/plain": [
       "True"
      ]
     },
     "execution_count": 3,
     "metadata": {},
     "output_type": "execute_result"
    }
   ],
   "source": [
    "import dotenv\n",
    "dotenv.load_dotenv('../.env')"
   ]
  },
  {
   "cell_type": "code",
   "execution_count": 1,
   "id": "ca77807e",
   "metadata": {},
   "outputs": [],
   "source": [
    "from verl.interactions.combolock_interaction import ComboLockInteraction\n",
    "\n",
    "interaction = ComboLockInteraction(config={})\n",
    "\n",
    "instance_id = await interaction.start_interaction(\n",
    "    instance_id=None,\n",
    "    combination_length=3,\n",
    "    max_attempts=8,\n",
    "    vocab='0123456789',\n",
    "    ground_truth='835',\n",
    "    format='interaction_think',\n",
    ")\n",
    "env = interaction._instance_dict[instance_id]['env']"
   ]
  },
  {
   "cell_type": "code",
   "execution_count": 2,
   "id": "9ec82c6a",
   "metadata": {},
   "outputs": [
    {
     "name": "stdout",
     "output_type": "stream",
     "text": [
      "\n",
      "Attempt 1/8:\n",
      "Response: 1 is not in the lock\n",
      "2 is not in the lock\n",
      "3 is not in Position 3, but is in the lock\n",
      "Score: 0.0\n",
      "\n",
      "Attempt 2/8:\n",
      "Response: 4 is not in the lock\n",
      "5 is not in Position 2, but is in the lock\n",
      "6 is not in the lock\n",
      "Score: 0.0\n",
      "\n",
      "Attempt 3/8:\n",
      "Response: 7 is not in the lock\n",
      "8 is not in Position 2, but is in the lock\n",
      "9 is not in the lock\n",
      "Score: 0.0\n",
      "\n",
      "Attempt 4/8:\n",
      "Response: 8 is in Position 1!\n",
      "3 is in Position 2!\n",
      "5 is in Position 3!\n",
      "Score: 0.625\n",
      "\n",
      "🎉 Game completed! Goal reached: True\n"
     ]
    }
   ],
   "source": [
    "guesses = ['123', '456', '789', '835']  # example guesses\n",
    "attempts = 0\n",
    "game_history = []\n",
    "\n",
    "while attempts < env.max_attempts:\n",
    "\n",
    "    print(f\"\\nAttempt {attempts + 1}/{env.max_attempts}:\")\n",
    "\n",
    "    attempts += 1\n",
    "    guess = guesses[attempts - 1]\n",
    "    messages = [\n",
    "        {\"role\": \"user\", \"content\": f\"Make guess for {env.combination_length}-digit \\combination\"},\n",
    "        {\"role\": \"assistant\", \"content\": f\"<action>{guess}</action>\"}\n",
    "    ]\n",
    "    \n",
    "    # Get response from the interaction\n",
    "    done, response, score, additional_data = await interaction.generate_response(\n",
    "        instance_id=instance_id,\n",
    "        messages=messages\n",
    "    )\n",
    "    \n",
    "    print(f\"Response: {response}\")\n",
    "    print(f\"Score: {score}\")\n",
    "    \n",
    "    # Record the attempt\n",
    "    game_history.append({\n",
    "        \"attempt\": attempts,\n",
    "        \"guess\": guess,\n",
    "        \"response\": response,\n",
    "        \"score\": score\n",
    "    })\n",
    "    \n",
    "    if done:\n",
    "        print(f\"\\n🎉 Game completed! Goal reached: {done}\")\n",
    "        break"
   ]
  },
  {
   "cell_type": "markdown",
   "id": "c098c04e",
   "metadata": {},
   "source": [
    "# 2. Run Paprika Interaction (verl) in the same way"
   ]
  },
  {
   "cell_type": "code",
   "execution_count": null,
   "id": "117e69a9",
   "metadata": {},
   "outputs": [
    {
     "name": "stdout",
     "output_type": "stream",
     "text": [
      "Could not import JerichoInferenceEngine, so cannot use it!\n",
      "Could not import VLLMInferenceEngine, so cannot use it!\n"
     ]
    }
   ],
   "source": [
    "# Satvik: I've tested that the following envs work:\n",
    "# twenty_questions\n",
    "# guess_my_city\n",
    "# murder_mystery\n",
    "# customer_service\n",
    "# wordle\n",
    "# mastermind\n",
    "\n",
    "import sys\n",
    "sys.path.append('../paprika') # Remove this when verl and paprika are installed in the same env\n",
    "from llm_exploration.paprika_config_helper import PaprikaConfigHelper\n",
    "from verl.interactions.paprika_interaction import PaprikaInteraction\n",
    "import dotenv\n",
    "dotenv.load_dotenv('../.env')\n",
    "from pprint import pprint as pp\n",
    "paprika_games = ['twenty_questions', 'guess_my_city', 'murder_mystery', 'customer_service', 'wordle', 'cellular_automata', \\\n",
    "    'mastermind', 'battleship', 'minesweeper', 'bandit_bai_fixed_budget']"
   ]
  },
  {
   "cell_type": "code",
   "execution_count": 2,
   "id": "d35e1e0f",
   "metadata": {},
   "outputs": [],
   "source": [
    "GAME_NAME = paprika_games[6]\n",
    "config = PaprikaConfigHelper.create_config(GAME_NAME)\n",
    "config['belief_config']['style'] = 'none'  # no belief right now"
   ]
  },
  {
   "cell_type": "code",
   "execution_count": 3,
   "id": "f6032e30",
   "metadata": {},
   "outputs": [
    {
     "data": {
      "text/plain": [
       "{'game_env_name': 'mastermind',\n",
       " 'agent_config': {'model_type': 'gpt-4o-mini',\n",
       "  'model_name': 'gpt-4o-mini',\n",
       "  'model_max_length': 20000,\n",
       "  'mode': 'agent'},\n",
       " 'env_config': {'model_type': 'mastermind',\n",
       "  'model_name': 'mastermind',\n",
       "  'model_max_length': 20000,\n",
       "  'mode': 'env'},\n",
       " 'judge_config': {'model_type': 'mastermind',\n",
       "  'model_name': 'mastermind',\n",
       "  'model_max_length': 1000,\n",
       "  'mode': 'judge'},\n",
       " 'belief_config': {'style': 'none'}}"
      ]
     },
     "execution_count": 3,
     "metadata": {},
     "output_type": "execute_result"
    }
   ],
   "source": [
    "config"
   ]
  },
  {
   "cell_type": "code",
   "execution_count": 4,
   "id": "813f0765",
   "metadata": {},
   "outputs": [
    {
     "name": "stdout",
     "output_type": "stream",
     "text": [
      "The inference engine has been reset to the start state!\n",
      "The inference engine has been reset to the start state!\n",
      "The inference engine has been reset to the start state!\n"
     ]
    }
   ],
   "source": [
    "interaction = PaprikaInteraction(config={})\n",
    "\n",
    "instance_id = await interaction.start_interaction(\n",
    "        instance_id=None,\n",
    "        scenario_id=42,\n",
    "        **config,\n",
    "    )"
   ]
  },
  {
   "cell_type": "code",
   "execution_count": 5,
   "id": "8c719c45",
   "metadata": {},
   "outputs": [
    {
     "data": {
      "text/plain": [
       "{'c90ea6d3-29e7-45fa-b4e7-9e0db98d58b3': {'game_environment': <llm_exploration.game.game_environment.GameEnvironment at 0x7fd885beb0d0>,\n",
       "  'game_simulator': <llm_exploration.game.game.GameSimulator at 0x7fd6e2ccc850>,\n",
       "  'belief_config': {'style': 'none'},\n",
       "  'agent_config': {'model_type': 'gpt-4o-mini',\n",
       "   'model_name': 'gpt-4o-mini',\n",
       "   'model_max_length': 20000,\n",
       "   'mode': 'agent'},\n",
       "  'env_config': {'model_type': 'mastermind',\n",
       "   'model_name': 'mastermind',\n",
       "   'model_max_length': 20000,\n",
       "   'mode': 'env'},\n",
       "  'judge_config': {'model_type': 'mastermind',\n",
       "   'model_name': 'mastermind',\n",
       "   'model_max_length': 1000,\n",
       "   'mode': 'judge'},\n",
       "  'max_turns': 12,\n",
       "  'scenario': {'env': '8440', 'agent': 'secret code'}}}"
      ]
     },
     "execution_count": 5,
     "metadata": {},
     "output_type": "execute_result"
    }
   ],
   "source": [
    "interaction._instance_dict"
   ]
  },
  {
   "cell_type": "code",
   "execution_count": 6,
   "id": "7c698e00",
   "metadata": {},
   "outputs": [
    {
     "name": "stdout",
     "output_type": "stream",
     "text": [
      "{'agent': 'secret code', 'env': '8440'}\n"
     ]
    }
   ],
   "source": [
    "pp(interaction._instance_dict[instance_id]['scenario'])"
   ]
  },
  {
   "cell_type": "code",
   "execution_count": 7,
   "id": "cfc19eba",
   "metadata": {},
   "outputs": [
    {
     "data": {
      "text/plain": [
       "12"
      ]
     },
     "execution_count": 7,
     "metadata": {},
     "output_type": "execute_result"
    }
   ],
   "source": [
    "interaction._instance_dict[instance_id]['max_turns']"
   ]
  },
  {
   "cell_type": "code",
   "execution_count": 8,
   "id": "3c337ce7",
   "metadata": {},
   "outputs": [],
   "source": [
    "sample_actions = [\n",
    "    \"Is it a physical object?\",\n",
    "    \"truck\",\n",
    "    \"Is it a kite?\",\n",
    "    \"Is it typically found outdoors?\",\n",
    "    \"Is it Kingston in Jamaica?\",\n",
    "    \"It's Yvette right?\",\n",
    "    \"Maybe battries are dead, try replacing?\",\n",
    "    \"8440\",\n",
    "    \"Is it usually flown in open spaces like parks or beaches?\",\n",
    "    \"Is it an object that comes in many shapes and bright colors?\",\n",
    "]"
   ]
  },
  {
   "cell_type": "code",
   "execution_count": 9,
   "id": "7b0f8973",
   "metadata": {},
   "outputs": [],
   "source": [
    "attempts = 0\n",
    "game_history = []\n",
    "max_attempts = interaction._instance_dict[instance_id]['max_turns']\n",
    "# max_attempts = 6"
   ]
  },
  {
   "cell_type": "code",
   "execution_count": 10,
   "id": "74438f57",
   "metadata": {},
   "outputs": [
    {
     "name": "stdout",
     "output_type": "stream",
     "text": [
      "\n",
      "Attempt 1/12:\n",
      "Question: Is it a physical object?\n",
      "Response: The code you guessed does not have 4 digits, but has 20. According to the rule of the game, you must generate a 4 digit guess.\n",
      "\n",
      "\n",
      "Attempt 2/12:\n",
      "Question: truck\n",
      "Response: The code you guessed does not have 4 digits, but has 5. According to the rule of the game, you must generate a 4 digit guess.\n",
      "\n",
      "\n",
      "Attempt 3/12:\n"
     ]
    },
    {
     "name": "stdout",
     "output_type": "stream",
     "text": [
      "Question: Is it a kite?\n",
      "Response: The code you guessed does not have 4 digits, but has 10. According to the rule of the game, you must generate a 4 digit guess.\n",
      "\n",
      "\n",
      "Attempt 4/12:\n",
      "Question: Is it typically found outdoors?\n",
      "Response: The code you guessed does not have 4 digits, but has 27. According to the rule of the game, you must generate a 4 digit guess.\n",
      "\n",
      "\n",
      "Attempt 5/12:\n",
      "Question: Is it Kingston in Jamaica?\n",
      "Response: The code you guessed does not have 4 digits, but has 22. According to the rule of the game, you must generate a 4 digit guess.\n",
      "\n",
      "\n",
      "Attempt 6/12:\n",
      "Question: It's Yvette right?\n",
      "Response: The code you guessed does not have 4 digits, but has 16. According to the rule of the game, you must generate a 4 digit guess.\n",
      "\n",
      "\n",
      "Attempt 7/12:\n",
      "Question: Maybe battries are dead, try replacing?\n",
      "Response: The code you guessed does not have 4 digits, but has 34. According to the rule of the game, you must generate a 4 digit guess.\n",
      "\n",
      "\n",
      "Attempt 8/12:\n",
      "Question: 8440\n",
      "Response: Goal reached\n",
      "\n"
     ]
    }
   ],
   "source": [
    "while attempts < max_attempts:\n",
    "        \n",
    "    print(f\"\\nAttempt {attempts + 1}/{max_attempts}:\")\n",
    "    attempts += 1\n",
    "    action = sample_actions[attempts - 1]\n",
    "    messages = [\n",
    "        {\"role\": \"user\", \"content\": f\"Output the next action.\"},\n",
    "        {\"role\": \"assistant\", \"content\": f\"<action>{action}</action>\"}\n",
    "    ]\n",
    "\n",
    "    done, response, score, additional_data = await interaction.generate_response(\n",
    "        instance_id=instance_id,\n",
    "        messages=messages\n",
    "    )\n",
    "    \n",
    "    print(f\"Question: {action}\")\n",
    "    print(f\"Response: {response}\\n\")\n",
    "    \n",
    "    game_history.append({\n",
    "        \"attempt\": attempts,\n",
    "        \"guess\": action,\n",
    "        \"response\": response,\n",
    "        \"score\": score,\n",
    "        \"done\": done,\n",
    "        \"data\": additional_data,\n",
    "    })\n",
    "\n",
    "    if \"Goal reached\" in response:\n",
    "        break"
   ]
  },
  {
   "cell_type": "code",
   "execution_count": 11,
   "id": "eebe6e73",
   "metadata": {},
   "outputs": [
    {
     "name": "stdout",
     "output_type": "stream",
     "text": [
      "[{'content': 'is it a physical object?', 'role': 'assistant'},\n",
      " {'content': 'The code you guessed does not have 4 digits, but has 20. According to the rule of the game, you must '\n",
      "             'generate a 4 digit guess.\\n'\n",
      "             '\\n'\n",
      "             '\\n'\n",
      "             'Now make your next guess about the secret code. Please format your response as: <Think> Any '\n",
      "             'step-by-step, short and concise thinking to determine what the next guess should be </Think>\\n'\n",
      "             ' <Answer> your guess on the 4 digit code </Answer>',\n",
      "  'role': 'user'},\n",
      " {'content': 'truck', 'role': 'assistant'},\n",
      " {'content': 'The code you guessed does not have 4 digits, but has 5. According to the rule of the game, you must '\n",
      "             'generate a 4 digit guess.\\n'\n",
      "             '\\n'\n",
      "             '\\n'\n",
      "             'Now make your next guess about the secret code. Please format your response as: <Think> Any '\n",
      "             'step-by-step, short and concise thinking to determine what the next guess should be </Think>\\n'\n",
      "             ' <Answer> your guess on the 4 digit code </Answer>',\n",
      "  'role': 'user'},\n",
      " {'content': 'is it a kite?', 'role': 'assistant'},\n",
      " {'content': 'The code you guessed does not have 4 digits, but has 10. According to the rule of the game, you must '\n",
      "             'generate a 4 digit guess.\\n'\n",
      "             '\\n'\n",
      "             '\\n'\n",
      "             'Now make your next guess about the secret code. Please format your response as: <Think> Any '\n",
      "             'step-by-step, short and concise thinking to determine what the next guess should be </Think>\\n'\n",
      "             ' <Answer> your guess on the 4 digit code </Answer>',\n",
      "  'role': 'user'},\n",
      " {'content': 'is it typically found outdoors?', 'role': 'assistant'},\n",
      " {'content': 'The code you guessed does not have 4 digits, but has 27. According to the rule of the game, you must '\n",
      "             'generate a 4 digit guess.\\n'\n",
      "             '\\n'\n",
      "             '\\n'\n",
      "             'Now make your next guess about the secret code. Please format your response as: <Think> Any '\n",
      "             'step-by-step, short and concise thinking to determine what the next guess should be </Think>\\n'\n",
      "             ' <Answer> your guess on the 4 digit code </Answer>',\n",
      "  'role': 'user'},\n",
      " {'content': 'is it kingston in jamaica?', 'role': 'assistant'},\n",
      " {'content': 'The code you guessed does not have 4 digits, but has 22. According to the rule of the game, you must '\n",
      "             'generate a 4 digit guess.\\n'\n",
      "             '\\n'\n",
      "             '\\n'\n",
      "             'Now make your next guess about the secret code. Please format your response as: <Think> Any '\n",
      "             'step-by-step, short and concise thinking to determine what the next guess should be </Think>\\n'\n",
      "             ' <Answer> your guess on the 4 digit code </Answer>',\n",
      "  'role': 'user'},\n",
      " {'content': \"it's yvette right?\", 'role': 'assistant'},\n",
      " {'content': 'The code you guessed does not have 4 digits, but has 16. According to the rule of the game, you must '\n",
      "             'generate a 4 digit guess.\\n'\n",
      "             '\\n'\n",
      "             '\\n'\n",
      "             'Now make your next guess about the secret code. Please format your response as: <Think> Any '\n",
      "             'step-by-step, short and concise thinking to determine what the next guess should be </Think>\\n'\n",
      "             ' <Answer> your guess on the 4 digit code </Answer>',\n",
      "  'role': 'user'},\n",
      " {'content': 'maybe battries are dead, try replacing?', 'role': 'assistant'},\n",
      " {'content': 'The code you guessed does not have 4 digits, but has 34. According to the rule of the game, you must '\n",
      "             'generate a 4 digit guess.\\n'\n",
      "             '\\n'\n",
      "             '\\n'\n",
      "             'Now make your next guess about the secret code. Please format your response as: <Think> Any '\n",
      "             'step-by-step, short and concise thinking to determine what the next guess should be </Think>\\n'\n",
      "             ' <Answer> your guess on the 4 digit code </Answer>',\n",
      "  'role': 'user'},\n",
      " {'content': '8440', 'role': 'assistant'},\n",
      " {'content': 'Goal reached\\n'\n",
      "             '\\n'\n",
      "             '\\n'\n",
      "             'Now make your next guess about the secret code. Please format your response as: <Think> Any '\n",
      "             'step-by-step, short and concise thinking to determine what the next guess should be </Think>\\n'\n",
      "             ' <Answer> your guess on the 4 digit code </Answer>',\n",
      "  'role': 'user'}]\n"
     ]
    }
   ],
   "source": [
    "pp(game_history[-1]['data']['conversation'][2:], width=120)"
   ]
  },
  {
   "cell_type": "code",
   "execution_count": null,
   "id": "b0ea1c33",
   "metadata": {},
   "outputs": [],
   "source": []
  },
  {
   "cell_type": "code",
   "execution_count": null,
   "id": "4623827d",
   "metadata": {},
   "outputs": [],
   "source": []
  },
  {
   "cell_type": "code",
   "execution_count": null,
   "id": "29532b28",
   "metadata": {},
   "outputs": [],
   "source": []
  },
  {
   "cell_type": "code",
   "execution_count": null,
   "metadata": {},
   "outputs": [],
   "source": []
  },
  {
   "cell_type": "code",
   "execution_count": null,
   "id": "b8581f17",
   "metadata": {},
   "outputs": [],
   "source": []
  },
  {
   "cell_type": "code",
   "execution_count": null,
   "metadata": {},
   "outputs": [],
   "source": []
  },
  {
   "cell_type": "code",
   "execution_count": null,
   "id": "2a5245a4",
   "metadata": {},
   "outputs": [],
   "source": []
  },
  {
   "cell_type": "code",
   "execution_count": null,
   "id": "3a47ecff",
   "metadata": {},
   "outputs": [],
   "source": []
  },
  {
   "cell_type": "code",
   "execution_count": null,
   "id": "5c77636d",
   "metadata": {},
   "outputs": [],
   "source": []
  },
  {
   "cell_type": "code",
   "execution_count": null,
   "id": "29cc3424",
   "metadata": {},
   "outputs": [],
   "source": []
  },
  {
   "cell_type": "code",
   "execution_count": null,
   "id": "2a7bca66",
   "metadata": {},
   "outputs": [],
   "source": []
  },
  {
   "cell_type": "code",
   "execution_count": null,
   "id": "3ed2c31e",
   "metadata": {},
   "outputs": [],
   "source": []
  },
  {
   "cell_type": "code",
   "execution_count": null,
   "metadata": {},
   "outputs": [],
   "source": []
  },
  {
   "cell_type": "code",
   "execution_count": null,
   "metadata": {},
   "outputs": [],
   "source": []
  },
  {
   "cell_type": "code",
   "execution_count": null,
   "metadata": {},
   "outputs": [],
   "source": []
  },
  {
   "cell_type": "code",
   "execution_count": null,
   "id": "bdea5448",
   "metadata": {},
   "outputs": [],
   "source": []
  }
 ],
 "metadata": {
  "kernelspec": {
   "display_name": "verl",
   "language": "python",
   "name": "python3"
  },
  "language_info": {
   "codemirror_mode": {
    "name": "ipython",
    "version": 3
   },
   "file_extension": ".py",
   "mimetype": "text/x-python",
   "name": "python",
   "nbconvert_exporter": "python",
   "pygments_lexer": "ipython3",
   "version": "3.10.18"
  }
 },
 "nbformat": 4,
 "nbformat_minor": 5
}
